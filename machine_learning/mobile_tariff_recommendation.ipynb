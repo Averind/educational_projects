{
 "cells": [
  {
   "cell_type": "markdown",
   "metadata": {},
   "source": [
    "# Рекомендация тарифов оператора сотовой связи"
   ]
  },
  {
   "cell_type": "markdown",
   "metadata": {},
   "source": [
    "Нам доступны данные о поведении клиентов федерального оператора сотовой связи. Клиентам предлагают два тарифных плана: «Смарт» и «Ультра». Нужно построить модель для задачи классификации, которая выберет для клиента подходящий тариф.\n",
    "\n",
    "Необходимо построить модель с максимально большим значением *accuracy*. Доля правильных ответов должна быть не менее 0.75."
   ]
  },
  {
   "cell_type": "markdown",
   "metadata": {},
   "source": [
    "## Изучение данных"
   ]
  },
  {
   "cell_type": "code",
   "execution_count": 1,
   "metadata": {},
   "outputs": [],
   "source": [
    "# импортируем библиотеки\n",
    "\n",
    "import pandas as pd\n",
    "import matplotlib.pyplot as plt\n",
    "import warnings\n",
    "\n",
    "from matplotlib.pyplot import rcParams as rcp\n",
    "from sklearn.model_selection import train_test_split\n",
    "from sklearn.tree import DecisionTreeClassifier, plot_tree\n",
    "from sklearn.ensemble import RandomForestClassifier\n",
    "from sklearn.linear_model import LogisticRegression\n",
    "from sklearn.metrics import accuracy_score\n",
    "from sklearn.preprocessing import StandardScaler\n",
    "from sklearn.datasets import load_iris\n",
    "from tqdm import tqdm"
   ]
  },
  {
   "cell_type": "code",
   "execution_count": 2,
   "metadata": {},
   "outputs": [],
   "source": [
    "# настроим игнорирование предупреждений\n",
    "\n",
    "warnings.simplefilter('ignore')"
   ]
  },
  {
   "cell_type": "code",
   "execution_count": 3,
   "metadata": {},
   "outputs": [],
   "source": [
    "# сохраняем данные в датафрейм\n",
    "\n",
    "df = pd.read_csv('/datasets/users_behavior.csv')"
   ]
  },
  {
   "cell_type": "code",
   "execution_count": 4,
   "metadata": {},
   "outputs": [
    {
     "name": "stdout",
     "output_type": "stream",
     "text": [
      "<class 'pandas.core.frame.DataFrame'>\n",
      "RangeIndex: 3214 entries, 0 to 3213\n",
      "Data columns (total 5 columns):\n",
      " #   Column    Non-Null Count  Dtype  \n",
      "---  ------    --------------  -----  \n",
      " 0   calls     3214 non-null   float64\n",
      " 1   minutes   3214 non-null   float64\n",
      " 2   messages  3214 non-null   float64\n",
      " 3   mb_used   3214 non-null   float64\n",
      " 4   is_ultra  3214 non-null   int64  \n",
      "dtypes: float64(4), int64(1)\n",
      "memory usage: 125.7 KB\n"
     ]
    }
   ],
   "source": [
    "# выведем общую информацию о датафрейме\n",
    "\n",
    "df.info()"
   ]
  },
  {
   "cell_type": "code",
   "execution_count": 5,
   "metadata": {},
   "outputs": [
    {
     "data": {
      "text/html": [
       "<div>\n",
       "<style scoped>\n",
       "    .dataframe tbody tr th:only-of-type {\n",
       "        vertical-align: middle;\n",
       "    }\n",
       "\n",
       "    .dataframe tbody tr th {\n",
       "        vertical-align: top;\n",
       "    }\n",
       "\n",
       "    .dataframe thead th {\n",
       "        text-align: right;\n",
       "    }\n",
       "</style>\n",
       "<table border=\"1\" class=\"dataframe\">\n",
       "  <thead>\n",
       "    <tr style=\"text-align: right;\">\n",
       "      <th></th>\n",
       "      <th>calls</th>\n",
       "      <th>minutes</th>\n",
       "      <th>messages</th>\n",
       "      <th>mb_used</th>\n",
       "      <th>is_ultra</th>\n",
       "    </tr>\n",
       "  </thead>\n",
       "  <tbody>\n",
       "    <tr>\n",
       "      <th>0</th>\n",
       "      <td>40.0</td>\n",
       "      <td>311.90</td>\n",
       "      <td>83.0</td>\n",
       "      <td>19915.42</td>\n",
       "      <td>0</td>\n",
       "    </tr>\n",
       "    <tr>\n",
       "      <th>1</th>\n",
       "      <td>85.0</td>\n",
       "      <td>516.75</td>\n",
       "      <td>56.0</td>\n",
       "      <td>22696.96</td>\n",
       "      <td>0</td>\n",
       "    </tr>\n",
       "    <tr>\n",
       "      <th>2</th>\n",
       "      <td>77.0</td>\n",
       "      <td>467.66</td>\n",
       "      <td>86.0</td>\n",
       "      <td>21060.45</td>\n",
       "      <td>0</td>\n",
       "    </tr>\n",
       "    <tr>\n",
       "      <th>3</th>\n",
       "      <td>106.0</td>\n",
       "      <td>745.53</td>\n",
       "      <td>81.0</td>\n",
       "      <td>8437.39</td>\n",
       "      <td>1</td>\n",
       "    </tr>\n",
       "    <tr>\n",
       "      <th>4</th>\n",
       "      <td>66.0</td>\n",
       "      <td>418.74</td>\n",
       "      <td>1.0</td>\n",
       "      <td>14502.75</td>\n",
       "      <td>0</td>\n",
       "    </tr>\n",
       "    <tr>\n",
       "      <th>5</th>\n",
       "      <td>58.0</td>\n",
       "      <td>344.56</td>\n",
       "      <td>21.0</td>\n",
       "      <td>15823.37</td>\n",
       "      <td>0</td>\n",
       "    </tr>\n",
       "    <tr>\n",
       "      <th>6</th>\n",
       "      <td>57.0</td>\n",
       "      <td>431.64</td>\n",
       "      <td>20.0</td>\n",
       "      <td>3738.90</td>\n",
       "      <td>1</td>\n",
       "    </tr>\n",
       "    <tr>\n",
       "      <th>7</th>\n",
       "      <td>15.0</td>\n",
       "      <td>132.40</td>\n",
       "      <td>6.0</td>\n",
       "      <td>21911.60</td>\n",
       "      <td>0</td>\n",
       "    </tr>\n",
       "    <tr>\n",
       "      <th>8</th>\n",
       "      <td>7.0</td>\n",
       "      <td>43.39</td>\n",
       "      <td>3.0</td>\n",
       "      <td>2538.67</td>\n",
       "      <td>1</td>\n",
       "    </tr>\n",
       "    <tr>\n",
       "      <th>9</th>\n",
       "      <td>90.0</td>\n",
       "      <td>665.41</td>\n",
       "      <td>38.0</td>\n",
       "      <td>17358.61</td>\n",
       "      <td>0</td>\n",
       "    </tr>\n",
       "  </tbody>\n",
       "</table>\n",
       "</div>"
      ],
      "text/plain": [
       "   calls  minutes  messages   mb_used  is_ultra\n",
       "0   40.0   311.90      83.0  19915.42         0\n",
       "1   85.0   516.75      56.0  22696.96         0\n",
       "2   77.0   467.66      86.0  21060.45         0\n",
       "3  106.0   745.53      81.0   8437.39         1\n",
       "4   66.0   418.74       1.0  14502.75         0\n",
       "5   58.0   344.56      21.0  15823.37         0\n",
       "6   57.0   431.64      20.0   3738.90         1\n",
       "7   15.0   132.40       6.0  21911.60         0\n",
       "8    7.0    43.39       3.0   2538.67         1\n",
       "9   90.0   665.41      38.0  17358.61         0"
      ]
     },
     "execution_count": 5,
     "metadata": {},
     "output_type": "execute_result"
    }
   ],
   "source": [
    "# выведем первые 10 строк датафрейма\n",
    "\n",
    "df.head(10)"
   ]
  },
  {
   "cell_type": "code",
   "execution_count": 6,
   "metadata": {},
   "outputs": [
    {
     "data": {
      "image/png": "[encoded data removed]",
      "text/plain": [
       "<Figure size 720x720 with 6 Axes>"
      ]
     },
     "metadata": {
      "needs_background": "light"
     },
     "output_type": "display_data"
    }
   ],
   "source": [
    "# построим гистограммы по данным из каждого столбца датафрейма\n",
    "\n",
    "df.hist(bins=100, figsize=(10,10));"
   ]
  },
  {
   "cell_type": "markdown",
   "metadata": {},
   "source": [
    "## Разбивка данных на выборки"
   ]
  },
  {
   "cell_type": "code",
   "execution_count": 7,
   "metadata": {},
   "outputs": [],
   "source": [
    "features = df.drop(['is_ultra'], axis=1)"
   ]
  },
  {
   "cell_type": "code",
   "execution_count": 8,
   "metadata": {},
   "outputs": [],
   "source": [
    "target = df['is_ultra']"
   ]
  },
  {
   "cell_type": "markdown",
   "metadata": {},
   "source": [
    "Разобьем данные на обучающую, валидационную и тестовую выборки по схеме 3-1-1."
   ]
  },
  {
   "cell_type": "code",
   "execution_count": 9,
   "metadata": {},
   "outputs": [],
   "source": [
    "# выделим валидационную выборку из данных\n",
    "\n",
    "features_train_test, features_valid, target_train_test, target_valid = train_test_split(\n",
    "    features, target, test_size=0.2, stratify=target, random_state=12345)"
   ]
  },
  {
   "cell_type": "code",
   "execution_count": 10,
   "metadata": {},
   "outputs": [],
   "source": [
    "# разобьем данные на обучающую и тестовую выборки\n",
    "\n",
    "features_train, features_test, target_train, target_test = train_test_split(\n",
    "    features_train_test, target_train_test, test_size=0.25, stratify=target_train_test, random_state=12345)"
   ]
  },
  {
   "cell_type": "code",
   "execution_count": 11,
   "metadata": {},
   "outputs": [
    {
     "name": "stdout",
     "output_type": "stream",
     "text": [
      "<class 'pandas.core.frame.DataFrame'>\n",
      "Int64Index: 1928 entries, 1659 to 607\n",
      "Data columns (total 4 columns):\n",
      " #   Column    Non-Null Count  Dtype  \n",
      "---  ------    --------------  -----  \n",
      " 0   calls     1928 non-null   float64\n",
      " 1   minutes   1928 non-null   float64\n",
      " 2   messages  1928 non-null   float64\n",
      " 3   mb_used   1928 non-null   float64\n",
      "dtypes: float64(4)\n",
      "memory usage: 75.3 KB\n",
      "\n",
      "    \n",
      "    \n",
      "<class 'pandas.core.frame.DataFrame'>\n",
      "Int64Index: 643 entries, 2424 to 873\n",
      "Data columns (total 4 columns):\n",
      " #   Column    Non-Null Count  Dtype  \n",
      "---  ------    --------------  -----  \n",
      " 0   calls     643 non-null    float64\n",
      " 1   minutes   643 non-null    float64\n",
      " 2   messages  643 non-null    float64\n",
      " 3   mb_used   643 non-null    float64\n",
      "dtypes: float64(4)\n",
      "memory usage: 25.1 KB\n",
      "\n",
      "    \n",
      "    \n",
      "<class 'pandas.core.frame.DataFrame'>\n",
      "Int64Index: 643 entries, 580 to 2867\n",
      "Data columns (total 4 columns):\n",
      " #   Column    Non-Null Count  Dtype  \n",
      "---  ------    --------------  -----  \n",
      " 0   calls     643 non-null    float64\n",
      " 1   minutes   643 non-null    float64\n",
      " 2   messages  643 non-null    float64\n",
      " 3   mb_used   643 non-null    float64\n",
      "dtypes: float64(4)\n",
      "memory usage: 25.1 KB\n",
      "\n",
      "    \n",
      "    \n"
     ]
    }
   ],
   "source": [
    "# выведем общую информацию о каждом датафрейме - с обучающей, валидационной и тестовой выборками\n",
    "\n",
    "dataframes = [features_train, features_valid, features_test]\n",
    "\n",
    "for dataframe in dataframes:\n",
    "    dataframe.info()\n",
    "    print('''\n",
    "    \n",
    "    ''')"
   ]
  },
  {
   "cell_type": "code",
   "execution_count": 12,
   "metadata": {},
   "outputs": [
    {
     "data": {
      "text/html": [
       "<div>\n",
       "<style scoped>\n",
       "    .dataframe tbody tr th:only-of-type {\n",
       "        vertical-align: middle;\n",
       "    }\n",
       "\n",
       "    .dataframe tbody tr th {\n",
       "        vertical-align: top;\n",
       "    }\n",
       "\n",
       "    .dataframe thead th {\n",
       "        text-align: right;\n",
       "    }\n",
       "</style>\n",
       "<table border=\"1\" class=\"dataframe\">\n",
       "  <thead>\n",
       "    <tr style=\"text-align: right;\">\n",
       "      <th></th>\n",
       "      <th>calls</th>\n",
       "      <th>minutes</th>\n",
       "      <th>messages</th>\n",
       "      <th>mb_used</th>\n",
       "    </tr>\n",
       "  </thead>\n",
       "  <tbody>\n",
       "    <tr>\n",
       "      <th>1659</th>\n",
       "      <td>27.0</td>\n",
       "      <td>170.58</td>\n",
       "      <td>23.0</td>\n",
       "      <td>21798.61</td>\n",
       "    </tr>\n",
       "    <tr>\n",
       "      <th>2176</th>\n",
       "      <td>75.0</td>\n",
       "      <td>489.47</td>\n",
       "      <td>7.0</td>\n",
       "      <td>20478.94</td>\n",
       "    </tr>\n",
       "    <tr>\n",
       "      <th>108</th>\n",
       "      <td>47.0</td>\n",
       "      <td>300.12</td>\n",
       "      <td>123.0</td>\n",
       "      <td>31244.61</td>\n",
       "    </tr>\n",
       "    <tr>\n",
       "      <th>426</th>\n",
       "      <td>36.0</td>\n",
       "      <td>198.96</td>\n",
       "      <td>32.0</td>\n",
       "      <td>21596.86</td>\n",
       "    </tr>\n",
       "    <tr>\n",
       "      <th>1892</th>\n",
       "      <td>102.0</td>\n",
       "      <td>740.28</td>\n",
       "      <td>19.0</td>\n",
       "      <td>17864.12</td>\n",
       "    </tr>\n",
       "  </tbody>\n",
       "</table>\n",
       "</div>"
      ],
      "text/plain": [
       "      calls  minutes  messages   mb_used\n",
       "1659   27.0   170.58      23.0  21798.61\n",
       "2176   75.0   489.47       7.0  20478.94\n",
       "108    47.0   300.12     123.0  31244.61\n",
       "426    36.0   198.96      32.0  21596.86\n",
       "1892  102.0   740.28      19.0  17864.12"
      ]
     },
     "metadata": {},
     "output_type": "display_data"
    },
    {
     "data": {
      "text/html": [
       "<div>\n",
       "<style scoped>\n",
       "    .dataframe tbody tr th:only-of-type {\n",
       "        vertical-align: middle;\n",
       "    }\n",
       "\n",
       "    .dataframe tbody tr th {\n",
       "        vertical-align: top;\n",
       "    }\n",
       "\n",
       "    .dataframe thead th {\n",
       "        text-align: right;\n",
       "    }\n",
       "</style>\n",
       "<table border=\"1\" class=\"dataframe\">\n",
       "  <thead>\n",
       "    <tr style=\"text-align: right;\">\n",
       "      <th></th>\n",
       "      <th>calls</th>\n",
       "      <th>minutes</th>\n",
       "      <th>messages</th>\n",
       "      <th>mb_used</th>\n",
       "    </tr>\n",
       "  </thead>\n",
       "  <tbody>\n",
       "    <tr>\n",
       "      <th>2424</th>\n",
       "      <td>56.0</td>\n",
       "      <td>364.36</td>\n",
       "      <td>0.0</td>\n",
       "      <td>14129.94</td>\n",
       "    </tr>\n",
       "    <tr>\n",
       "      <th>2118</th>\n",
       "      <td>76.0</td>\n",
       "      <td>430.70</td>\n",
       "      <td>34.0</td>\n",
       "      <td>25138.49</td>\n",
       "    </tr>\n",
       "    <tr>\n",
       "      <th>2034</th>\n",
       "      <td>108.0</td>\n",
       "      <td>812.04</td>\n",
       "      <td>4.0</td>\n",
       "      <td>24490.28</td>\n",
       "    </tr>\n",
       "    <tr>\n",
       "      <th>2286</th>\n",
       "      <td>67.0</td>\n",
       "      <td>460.76</td>\n",
       "      <td>27.0</td>\n",
       "      <td>16626.26</td>\n",
       "    </tr>\n",
       "    <tr>\n",
       "      <th>1364</th>\n",
       "      <td>69.0</td>\n",
       "      <td>515.52</td>\n",
       "      <td>34.0</td>\n",
       "      <td>21231.90</td>\n",
       "    </tr>\n",
       "  </tbody>\n",
       "</table>\n",
       "</div>"
      ],
      "text/plain": [
       "      calls  minutes  messages   mb_used\n",
       "2424   56.0   364.36       0.0  14129.94\n",
       "2118   76.0   430.70      34.0  25138.49\n",
       "2034  108.0   812.04       4.0  24490.28\n",
       "2286   67.0   460.76      27.0  16626.26\n",
       "1364   69.0   515.52      34.0  21231.90"
      ]
     },
     "metadata": {},
     "output_type": "display_data"
    },
    {
     "data": {
      "text/html": [
       "<div>\n",
       "<style scoped>\n",
       "    .dataframe tbody tr th:only-of-type {\n",
       "        vertical-align: middle;\n",
       "    }\n",
       "\n",
       "    .dataframe tbody tr th {\n",
       "        vertical-align: top;\n",
       "    }\n",
       "\n",
       "    .dataframe thead th {\n",
       "        text-align: right;\n",
       "    }\n",
       "</style>\n",
       "<table border=\"1\" class=\"dataframe\">\n",
       "  <thead>\n",
       "    <tr style=\"text-align: right;\">\n",
       "      <th></th>\n",
       "      <th>calls</th>\n",
       "      <th>minutes</th>\n",
       "      <th>messages</th>\n",
       "      <th>mb_used</th>\n",
       "    </tr>\n",
       "  </thead>\n",
       "  <tbody>\n",
       "    <tr>\n",
       "      <th>580</th>\n",
       "      <td>43.0</td>\n",
       "      <td>321.63</td>\n",
       "      <td>42.0</td>\n",
       "      <td>25599.87</td>\n",
       "    </tr>\n",
       "    <tr>\n",
       "      <th>2272</th>\n",
       "      <td>93.0</td>\n",
       "      <td>658.89</td>\n",
       "      <td>38.0</td>\n",
       "      <td>17655.47</td>\n",
       "    </tr>\n",
       "    <tr>\n",
       "      <th>1415</th>\n",
       "      <td>82.0</td>\n",
       "      <td>507.89</td>\n",
       "      <td>88.0</td>\n",
       "      <td>17543.37</td>\n",
       "    </tr>\n",
       "    <tr>\n",
       "      <th>1356</th>\n",
       "      <td>43.0</td>\n",
       "      <td>256.90</td>\n",
       "      <td>1.0</td>\n",
       "      <td>10450.48</td>\n",
       "    </tr>\n",
       "    <tr>\n",
       "      <th>1910</th>\n",
       "      <td>111.0</td>\n",
       "      <td>728.20</td>\n",
       "      <td>37.0</td>\n",
       "      <td>14135.23</td>\n",
       "    </tr>\n",
       "  </tbody>\n",
       "</table>\n",
       "</div>"
      ],
      "text/plain": [
       "      calls  minutes  messages   mb_used\n",
       "580    43.0   321.63      42.0  25599.87\n",
       "2272   93.0   658.89      38.0  17655.47\n",
       "1415   82.0   507.89      88.0  17543.37\n",
       "1356   43.0   256.90       1.0  10450.48\n",
       "1910  111.0   728.20      37.0  14135.23"
      ]
     },
     "metadata": {},
     "output_type": "display_data"
    },
    {
     "data": {
      "text/plain": [
       "1659    0\n",
       "2176    1\n",
       "108     1\n",
       "426     0\n",
       "1892    0\n",
       "Name: is_ultra, dtype: int64"
      ]
     },
     "metadata": {},
     "output_type": "display_data"
    },
    {
     "data": {
      "text/plain": [
       "2424    0\n",
       "2118    0\n",
       "2034    1\n",
       "2286    0\n",
       "1364    0\n",
       "Name: is_ultra, dtype: int64"
      ]
     },
     "metadata": {},
     "output_type": "display_data"
    },
    {
     "data": {
      "text/plain": [
       "580     1\n",
       "2272    1\n",
       "1415    1\n",
       "1356    0\n",
       "1910    0\n",
       "Name: is_ultra, dtype: int64"
      ]
     },
     "metadata": {},
     "output_type": "display_data"
    }
   ],
   "source": [
    "# выведем первые 10 строк каждого датафрейма - с обучающей, валидационной и тестовой выборками\n",
    "\n",
    "dataframes = [features_train, features_valid, features_test, target_train, target_valid, target_test]\n",
    "\n",
    "for dataframe in dataframes:\n",
    "    display(dataframe.head())"
   ]
  },
  {
   "cell_type": "markdown",
   "metadata": {},
   "source": [
    "С выборками все в порядке."
   ]
  },
  {
   "cell_type": "markdown",
   "metadata": {},
   "source": [
    "## Исследование моделей"
   ]
  },
  {
   "cell_type": "markdown",
   "metadata": {},
   "source": [
    "### Дерево решений"
   ]
  },
  {
   "cell_type": "markdown",
   "metadata": {},
   "source": [
    "Зададим переменные, которым передадим параметры будущей модели."
   ]
  },
  {
   "cell_type": "code",
   "execution_count": 13,
   "metadata": {},
   "outputs": [],
   "source": [
    "best_model_tree = None\n",
    "best_result_tree = 0\n",
    "best_depth_tree = 0"
   ]
  },
  {
   "cell_type": "markdown",
   "metadata": {},
   "source": [
    "Создадим пустые списки, в которые сохраним значения accuracy_score для дерева каждой глубины для обучающей и валидационной выборки."
   ]
  },
  {
   "cell_type": "code",
   "execution_count": 14,
   "metadata": {},
   "outputs": [],
   "source": [
    "tree_metrics_train = []\n",
    "tree_metrics_valid = []"
   ]
  },
  {
   "cell_type": "markdown",
   "metadata": {},
   "source": [
    "Напишем цикл, который выберет лучшую модель (с наибольшей долей правильных ответов) в зависимости от глубины решающего дерева."
   ]
  },
  {
   "cell_type": "code",
   "execution_count": 15,
   "metadata": {},
   "outputs": [],
   "source": [
    "for depth in range(1, 31):\n",
    "    model = DecisionTreeClassifier(max_depth=depth, random_state=12345)\n",
    "    model.fit(features_train, target_train)\n",
    "    predictions_train = model.predict(features_train)\n",
    "    result_train = accuracy_score(target_train, predictions_train)\n",
    "    tree_metrics_train.append(result_train)\n",
    "    predictions_valid = model.predict(features_valid)\n",
    "    result_valid = accuracy_score(target_valid, predictions_valid)\n",
    "    tree_metrics_valid.append(result_valid)\n",
    "    if result_valid > best_result_tree:\n",
    "        best_model_tree = model\n",
    "        best_result_tree = result_valid\n",
    "        best_depth_tree = depth"
   ]
  },
  {
   "cell_type": "markdown",
   "metadata": {},
   "source": [
    "Построим линейный график зависимости правильности предсказаний модели от глубины дерева решений."
   ]
  },
  {
   "cell_type": "code",
   "execution_count": 16,
   "metadata": {},
   "outputs": [],
   "source": [
    "# преобразуем списки с accuracy в датафреймы \n",
    "\n",
    "tree_metrics_train = pd.DataFrame(tree_metrics_train)\n",
    "tree_metrics_valid = pd.DataFrame(tree_metrics_valid)\n",
    "\n",
    "# зададим для них новую индексацию - в соответствии с глубинами деревьев\n",
    "\n",
    "tree_metrics_train.index = list(range(1, 31))\n",
    "tree_metrics_valid.index = list(range(1, 31))"
   ]
  },
  {
   "cell_type": "code",
   "execution_count": 17,
   "metadata": {},
   "outputs": [
    {
     "data": {
      "image/png": "[encoded data removed]",
      "text/plain": [
       "<Figure size 432x288 with 1 Axes>"
      ]
     },
     "metadata": {
      "needs_background": "light"
     },
     "output_type": "display_data"
    }
   ],
   "source": [
    "plt.title('зависимость правильности предсказаний \\n модели от глубины дерева решений')\n",
    "\n",
    "plt.plot(tree_metrics_train);\n",
    "plt.plot(tree_metrics_valid);\n",
    "\n",
    "plt.xlim(1)\n",
    "\n",
    "plt.legend(['обучающая выборка', 'валидационная выборка'])\n",
    "\n",
    "plt.xlabel('глубина дерева', fontsize=10)\n",
    "plt.ylabel('accuracy score', fontsize=10)\n",
    "\n",
    "plt.grid()"
   ]
  },
  {
   "cell_type": "code",
   "execution_count": 18,
   "metadata": {},
   "outputs": [
    {
     "name": "stdout",
     "output_type": "stream",
     "text": [
      "Лучший показатель доли правильных ответов: 0.7993779160186625\n",
      "Соответствующая ему глубина дерева: 3\n"
     ]
    }
   ],
   "source": [
    "print('Лучший показатель доли правильных ответов:', best_result_tree)\n",
    "print('Соответствующая ему глубина дерева:', best_depth_tree)"
   ]
  },
  {
   "cell_type": "markdown",
   "metadata": {},
   "source": [
    "Изучим наиболее удачную модель дерева решений."
   ]
  },
  {
   "cell_type": "code",
   "execution_count": 20,
   "metadata": {},
   "outputs": [
    {
     "data": {
      "image/png": "[encoded data removed]",
      "text/plain": [
       "<Figure size 2520x1440 with 1 Axes>"
      ]
     },
     "metadata": {
      "needs_background": "light"
     },
     "output_type": "display_data"
    }
   ],
   "source": [
    "# зададим размер графика\n",
    "\n",
    "fig = plt.figure(figsize=(35,20))\n",
    "\n",
    "# построим график дерева решений\n",
    "\n",
    "_ = plot_tree(best_model_tree, \n",
    "               feature_names=features.columns, \n",
    "               class_names=['Smart','Ultra'],\n",
    "               filled=True,\n",
    "               fontsize=25)"
   ]
  },
  {
   "cell_type": "markdown",
   "metadata": {},
   "source": [
    "Мы проверили модели с глубиной дерева от 1 до 10. \n",
    " \n",
    "**Наилучшей моделью дерева решений по показателю доли правильных ответов оказалась оная с глубиной дерева, равной 3. Результат составляет 80 %**.\n",
    "\n",
    "Скорее всего, результаты для моделей с глубиной дерева меньшей 3 оказались ниже, т.к. имело место недообучение. В свою очередь более низкие результаты для моделей с глубиной дерева большей 3 связаны с переобучением."
   ]
  },
  {
   "cell_type": "markdown",
   "metadata": {},
   "source": [
    "### Случайный лес"
   ]
  },
  {
   "cell_type": "markdown",
   "metadata": {},
   "source": [
    "Зададим переменные, которым передадим параметры будущей модели."
   ]
  },
  {
   "cell_type": "code",
   "execution_count": 21,
   "metadata": {},
   "outputs": [],
   "source": [
    "best_model_forest = None\n",
    "best_result_forest = 0\n",
    "best_est_forest = 0\n",
    "best_depth_forest = 0"
   ]
  },
  {
   "cell_type": "markdown",
   "metadata": {},
   "source": [
    "Напишем циклы, которые выберут лучшую модель (с наибольшей долей правильных ответов) в зависимости от количества деревьев в лесу и их глубины."
   ]
  },
  {
   "cell_type": "code",
   "execution_count": 22,
   "metadata": {},
   "outputs": [
    {
     "name": "stderr",
     "output_type": "stream",
     "text": [
      "  0%|          | 0/4 [00:00<?, ?it/s]\n",
      "100%|██████████| 10/10 [00:00<00:00, 152.11it/s]\n",
      "\n",
      "100%|██████████| 10/10 [00:00<00:00, 101.87it/s]\n",
      " 50%|█████     | 2/4 [00:00<00:00, 11.77it/s]\n",
      "  0%|          | 0/10 [00:00<?, ?it/s]\u001b[A\n",
      "100%|██████████| 10/10 [00:00<00:00, 68.04it/s][A\n",
      "\n",
      "  0%|          | 0/10 [00:00<?, ?it/s]\u001b[A\n",
      "100%|██████████| 10/10 [00:00<00:00, 64.29it/s][A\n",
      "100%|██████████| 4/4 [00:00<00:00,  8.34it/s]"
     ]
    },
    {
     "name": "stdout",
     "output_type": "stream",
     "text": [
      "CPU times: user 450 ms, sys: 15.9 ms, total: 466 ms\n",
      "Wall time: 482 ms\n"
     ]
    },
    {
     "name": "stderr",
     "output_type": "stream",
     "text": [
      "\n"
     ]
    }
   ],
   "source": [
    "%%time\n",
    "\n",
    "for est in tqdm(range(1, 5)):\n",
    "    for depth in tqdm(range(1, 11)):\n",
    "        model = RandomForestClassifier(n_estimators=est, max_depth=depth, random_state=12345)\n",
    "        model.fit(features_train, target_train)\n",
    "        predictions = model.predict(features_valid)\n",
    "        result = accuracy_score(target_valid, predictions)\n",
    "        if result > best_result_forest:\n",
    "            best_model_forest = model\n",
    "            best_result_forest = result\n",
    "            best_est_forest = est\n",
    "            best_depth_forest = depth"
   ]
  },
  {
   "cell_type": "code",
   "execution_count": 23,
   "metadata": {},
   "outputs": [
    {
     "name": "stderr",
     "output_type": "stream",
     "text": [
      "  0%|          | 0/10 [00:00<?, ?it/s]\n",
      "  0%|          | 0/10 [00:00<?, ?it/s]\u001b[A\n",
      "100%|██████████| 10/10 [00:00<00:00, 43.67it/s][A\n",
      " 10%|█         | 1/10 [00:00<00:02,  4.31it/s]\n",
      "  0%|          | 0/10 [00:00<?, ?it/s]\u001b[A\n",
      " 40%|████      | 4/10 [00:00<00:00, 30.40it/s]\u001b[A\n",
      "100%|██████████| 10/10 [00:00<00:00, 27.30it/s][A\n",
      " 20%|██        | 2/10 [00:00<00:02,  3.19it/s]\n",
      "  0%|          | 0/10 [00:00<?, ?it/s]\u001b[A\n",
      " 30%|███       | 3/10 [00:00<00:00, 28.18it/s]\u001b[A\n",
      " 60%|██████    | 6/10 [00:00<00:00, 24.30it/s]\u001b[A\n",
      "100%|██████████| 10/10 [00:00<00:00, 22.02it/s][A\n",
      " 30%|███       | 3/10 [00:01<00:02,  2.64it/s]\n",
      "  0%|          | 0/10 [00:00<?, ?it/s]\u001b[A\n",
      " 30%|███       | 3/10 [00:00<00:00, 21.86it/s]\u001b[A\n",
      " 60%|██████    | 6/10 [00:00<00:00, 19.05it/s]\u001b[A\n",
      " 80%|████████  | 8/10 [00:00<00:00, 17.21it/s]\u001b[A\n",
      "100%|██████████| 10/10 [00:00<00:00, 16.71it/s]\u001b[A\n",
      " 40%|████      | 4/10 [00:01<00:02,  2.14it/s]\n",
      "  0%|          | 0/10 [00:00<?, ?it/s]\u001b[A\n",
      " 20%|██        | 2/10 [00:00<00:00, 16.91it/s]\u001b[A\n",
      " 40%|████      | 4/10 [00:00<00:00, 16.27it/s]\u001b[A\n",
      " 60%|██████    | 6/10 [00:00<00:00, 15.23it/s]\u001b[A\n",
      " 80%|████████  | 8/10 [00:00<00:00, 13.89it/s]\u001b[A\n",
      "100%|██████████| 10/10 [00:00<00:00, 13.67it/s]\u001b[A\n",
      " 50%|█████     | 5/10 [00:02<00:02,  1.77it/s]\n",
      "  0%|          | 0/10 [00:00<?, ?it/s]\u001b[A\n",
      " 20%|██        | 2/10 [00:00<00:00, 16.26it/s]\u001b[A\n",
      " 40%|████      | 4/10 [00:00<00:00, 14.48it/s]\u001b[A\n",
      " 60%|██████    | 6/10 [00:00<00:00, 13.02it/s]\u001b[A\n",
      " 80%|████████  | 8/10 [00:00<00:00, 11.92it/s]\u001b[A\n",
      "100%|██████████| 10/10 [00:00<00:00, 11.81it/s]\u001b[A\n",
      " 60%|██████    | 6/10 [00:03<00:02,  1.51it/s]\n",
      "  0%|          | 0/10 [00:00<?, ?it/s]\u001b[A\n",
      " 20%|██        | 2/10 [00:00<00:00, 13.17it/s]\u001b[A\n",
      " 40%|████      | 4/10 [00:00<00:00, 11.93it/s]\u001b[A\n",
      " 60%|██████    | 6/10 [00:00<00:00, 10.52it/s]\u001b[A\n",
      " 80%|████████  | 8/10 [00:00<00:00,  9.90it/s]\u001b[A\n",
      "100%|██████████| 10/10 [00:01<00:00,  9.83it/s]\u001b[A\n",
      " 70%|███████   | 7/10 [00:04<00:02,  1.28it/s]\n",
      "  0%|          | 0/10 [00:00<?, ?it/s]\u001b[A\n",
      " 20%|██        | 2/10 [00:00<00:00, 12.13it/s]\u001b[A\n",
      " 40%|████      | 4/10 [00:00<00:00, 11.32it/s]\u001b[A\n",
      " 60%|██████    | 6/10 [00:00<00:00, 10.28it/s]\u001b[A\n",
      " 80%|████████  | 8/10 [00:00<00:00,  9.41it/s]\u001b[A\n",
      " 90%|█████████ | 9/10 [00:00<00:00,  8.94it/s]\u001b[A\n",
      "100%|██████████| 10/10 [00:01<00:00,  9.22it/s]\u001b[A\n",
      " 80%|████████  | 8/10 [00:05<00:01,  1.14it/s]\n",
      "  0%|          | 0/10 [00:00<?, ?it/s]\u001b[A\n",
      " 20%|██        | 2/10 [00:00<00:00, 11.02it/s]\u001b[A\n",
      " 40%|████      | 4/10 [00:00<00:00, 10.03it/s]\u001b[A\n",
      " 60%|██████    | 6/10 [00:00<00:00,  9.18it/s]\u001b[A\n",
      " 70%|███████   | 7/10 [00:00<00:00,  8.59it/s]\u001b[A\n",
      " 80%|████████  | 8/10 [00:00<00:00,  8.08it/s]\u001b[A\n",
      " 90%|█████████ | 9/10 [00:01<00:00,  7.45it/s]\u001b[A\n",
      "100%|██████████| 10/10 [00:01<00:00,  7.97it/s]\u001b[A\n",
      " 90%|█████████ | 9/10 [00:06<00:00,  1.00it/s]\n",
      "  0%|          | 0/10 [00:00<?, ?it/s]\u001b[A\n",
      " 20%|██        | 2/10 [00:00<00:00, 10.43it/s]\u001b[A\n",
      " 40%|████      | 4/10 [00:00<00:00,  9.46it/s]\u001b[A\n",
      " 50%|█████     | 5/10 [00:00<00:00,  8.89it/s]\u001b[A\n",
      " 60%|██████    | 6/10 [00:00<00:00,  8.21it/s]\u001b[A\n",
      " 70%|███████   | 7/10 [00:00<00:00,  7.46it/s]\u001b[A\n",
      " 80%|████████  | 8/10 [00:01<00:00,  7.02it/s]\u001b[A\n",
      " 90%|█████████ | 9/10 [00:01<00:00,  6.49it/s]\u001b[A\n",
      "100%|██████████| 10/10 [00:01<00:00,  7.29it/s]\u001b[A\n",
      "100%|██████████| 10/10 [00:07<00:00,  1.25it/s]"
     ]
    },
    {
     "name": "stdout",
     "output_type": "stream",
     "text": [
      "CPU times: user 7.61 s, sys: 136 ms, total: 7.74 s\n",
      "Wall time: 8 s\n"
     ]
    },
    {
     "name": "stderr",
     "output_type": "stream",
     "text": [
      "\n"
     ]
    }
   ],
   "source": [
    "%%time\n",
    "\n",
    "for est in tqdm(range(5, 51, 5)):\n",
    "    for depth in tqdm(range(1, 11)):\n",
    "        model = RandomForestClassifier(n_estimators=est, max_depth=depth, random_state=12345)\n",
    "        model.fit(features_train, target_train)\n",
    "        predictions = model.predict(features_valid)\n",
    "        result = accuracy_score(target_valid, predictions)\n",
    "        if result > best_result_forest:\n",
    "            best_model_forest = model\n",
    "            best_result_forest = result\n",
    "            best_est_forest = est\n",
    "            best_depth_forest = depth"
   ]
  },
  {
   "cell_type": "code",
   "execution_count": 24,
   "metadata": {},
   "outputs": [
    {
     "name": "stdout",
     "output_type": "stream",
     "text": [
      "Лучший показатель доли правильных ответов: 0.8242612752721618\n",
      "Соответствующее ему количество деревьев: 25\n",
      "Соответствующая ему глубина дерева: 10\n"
     ]
    }
   ],
   "source": [
    "print('Лучший показатель доли правильных ответов:', best_result_forest)\n",
    "print('Соответствующее ему количество деревьев:', best_est_forest)\n",
    "print('Соответствующая ему глубина дерева:', best_depth_forest)"
   ]
  },
  {
   "cell_type": "markdown",
   "metadata": {},
   "source": [
    "Мы проверили модели с количеством деревьев от 1 до 5 и от 10 до 50 с шагом 5, а также с глубиной дерева от 1 до 10. \n",
    " \n",
    "**Наилучшей моделью случайного леса по показателю доли правильных ответов оказалась оная, состоящая из 25 деревьев с глубиной, равной 10. Результат составляет 82 %**.\n",
    "\n",
    "Такое количество деревьев в моделе с наилучшим показателем может быть связано с переобучением моделей с бОльшим количеством деревьев."
   ]
  },
  {
   "cell_type": "markdown",
   "metadata": {},
   "source": [
    "### Логистическая регрессия"
   ]
  },
  {
   "cell_type": "markdown",
   "metadata": {},
   "source": [
    "Зададим переменные, которым передадим параметры будущей модели."
   ]
  },
  {
   "cell_type": "code",
   "execution_count": 25,
   "metadata": {},
   "outputs": [],
   "source": [
    "best_model_regression = None\n",
    "best_result_regression = 0\n",
    "best_iter_regression = 0"
   ]
  },
  {
   "cell_type": "markdown",
   "metadata": {},
   "source": [
    "Напишем циклы, которые выберут лучшую модель (с наибольшей долей правильных ответов) в зависимости от количества итераций обучения."
   ]
  },
  {
   "cell_type": "code",
   "execution_count": 26,
   "metadata": {},
   "outputs": [],
   "source": [
    "for iteration in range(100, 1001, 100):\n",
    "    model = LogisticRegression(solver='lbfgs', max_iter=iteration, random_state=12345)\n",
    "    model.fit(features_train, target_train)\n",
    "    predictions = model.predict(features_valid)\n",
    "    result = accuracy_score(target_valid, predictions)\n",
    "    if result > best_result_regression:\n",
    "        best_model_regression = model\n",
    "        best_result_regression = result\n",
    "        best_iter_regression = iteration"
   ]
  },
  {
   "cell_type": "code",
   "execution_count": 27,
   "metadata": {},
   "outputs": [
    {
     "name": "stdout",
     "output_type": "stream",
     "text": [
      "Лучший показатель доли правильных ответов: 0.7371695178849145\n",
      "Соответствующее ему количество итераций обучения: 100\n"
     ]
    }
   ],
   "source": [
    "print('Лучший показатель доли правильных ответов:', best_result_regression)\n",
    "print('Соответствующее ему количество итераций обучения:', best_iter_regression)"
   ]
  },
  {
   "cell_type": "markdown",
   "metadata": {},
   "source": [
    "Мы проверили модели с количеством итераций обучения от 100 до 1000 с шагом 100.\n",
    "\n",
    "Наилучшей моделью логистической регрессии по показателю доли правильных ответов оказалась оная с количеством итераций обучения, равной 100. Результат составляет 73 %.\n",
    "\n",
    "Небольшое количество итераций обучения наилучшей модели также может быть связано с переобучением моделей с бОльшим количеством итераций."
   ]
  },
  {
   "cell_type": "markdown",
   "metadata": {},
   "source": [
    "### Определение лучшей модели"
   ]
  },
  {
   "cell_type": "code",
   "execution_count": 28,
   "metadata": {},
   "outputs": [
    {
     "name": "stdout",
     "output_type": "stream",
     "text": [
      "Лучший показатель доли правильных ответов для модели дерева решений: 0.7993779160186625\n",
      "Лучший показатель доли правильных ответов для модели случайного леса: 0.8242612752721618\n",
      "Лучший показатель доли правильных ответов для модели логистической регрессии: 0.7371695178849145\n"
     ]
    }
   ],
   "source": [
    "print('Лучший показатель доли правильных ответов для модели дерева решений:', best_result_tree)\n",
    "print('Лучший показатель доли правильных ответов для модели случайного леса:', best_result_forest)\n",
    "print('Лучший показатель доли правильных ответов для модели логистической регрессии:', best_result_regression)"
   ]
  },
  {
   "cell_type": "markdown",
   "metadata": {},
   "source": [
    "**Наибольшая доля правильных ответов приходится на модель случайного леса**. Следует отметить, что данная модель также считается наиболее качественной из всех трех. Поэтому **выберем данную модель в качестве основной для проверки на тестовой выборке**."
   ]
  },
  {
   "cell_type": "markdown",
   "metadata": {},
   "source": [
    "## Проверьте модель на тестовой выборке"
   ]
  },
  {
   "cell_type": "code",
   "execution_count": 29,
   "metadata": {},
   "outputs": [],
   "source": [
    "# при помощи лучшей модели случайного леса спрогнозируем тариф на тестовой выборке\n",
    "\n",
    "predictions_test = best_model_forest.predict(features_test)"
   ]
  },
  {
   "cell_type": "code",
   "execution_count": 30,
   "metadata": {},
   "outputs": [],
   "source": [
    "# рассчитаем accuracy\n",
    "\n",
    "result_test = accuracy_score(target_test, predictions_test)"
   ]
  },
  {
   "cell_type": "code",
   "execution_count": 31,
   "metadata": {},
   "outputs": [
    {
     "name": "stdout",
     "output_type": "stream",
     "text": [
      "Показатель доли правильных ответов для модели случайного леса на тестовой выборке: 0.8164852255054432\n"
     ]
    }
   ],
   "source": [
    "print('Показатель доли правильных ответов для модели случайного леса на тестовой выборке:', result_test)"
   ]
  },
  {
   "cell_type": "markdown",
   "metadata": {},
   "source": [
    "Показатель доли правильных ответов модели на тестовой выборке оказался немного ниже, чем на валидационной, но выше 75 %."
   ]
  },
  {
   "cell_type": "markdown",
   "metadata": {},
   "source": [
    "## Проверьте модели на адекватность"
   ]
  },
  {
   "cell_type": "markdown",
   "metadata": {},
   "source": [
    "Поскольку в данных (в таргете) налицо дисбаланс классов, для проверки модели на адекватность рассчитаем accuracy для сириэс, состоящего целиком из нулей (т.к. нули встречаются чаще единиц)."
   ]
  },
  {
   "cell_type": "code",
   "execution_count": 32,
   "metadata": {},
   "outputs": [
    {
     "data": {
      "text/plain": [
       "0    446\n",
       "1    197\n",
       "Name: is_ultra, dtype: int64"
      ]
     },
     "execution_count": 32,
     "metadata": {},
     "output_type": "execute_result"
    }
   ],
   "source": [
    "# рассчитаем количество 0 и 1 в target_valid\n",
    "\n",
    "target_valid.value_counts()"
   ]
  },
  {
   "cell_type": "code",
   "execution_count": 33,
   "metadata": {},
   "outputs": [],
   "source": [
    "# создадим заполненный нулями сириэс с длиной, равной длине сириэс target_valid\n",
    "\n",
    "predictions_adequacy = target_valid.replace(1, 0)"
   ]
  },
  {
   "cell_type": "code",
   "execution_count": 34,
   "metadata": {},
   "outputs": [],
   "source": [
    "# рассчитаем accuracy\n",
    "\n",
    "result_adequacy = accuracy_score(target_valid, predictions_adequacy)"
   ]
  },
  {
   "cell_type": "code",
   "execution_count": 35,
   "metadata": {},
   "outputs": [
    {
     "name": "stdout",
     "output_type": "stream",
     "text": [
      "Показатель доли правильных ответов для модели случайного леса на сириэс, полностью состоящем из нулей: 0.6936236391912908\n"
     ]
    }
   ],
   "source": [
    "print('Показатель доли правильных ответов для модели случайного леса на сириэс, полностью состоящем из нулей:', result_adequacy)"
   ]
  },
  {
   "cell_type": "markdown",
   "metadata": {},
   "source": [
    "**Accuracy оказался значительно ниже того, который мы получили на тестовой выборке: 69 против 82. Это говорит о том, что модель случайного леса, проверенная на тестовой выборке, адекватна**."
   ]
  },
  {
   "cell_type": "markdown",
   "metadata": {},
   "source": [
    "## Общий вывод"
   ]
  },
  {
   "cell_type": "markdown",
   "metadata": {},
   "source": [
    "На основе входных данных о поведении клиентов мобильного оператора было проведено машинное обучение. Цель: построение модели для задачи классификации, которая выберет подходящий клиенту тариф. \n",
    "\n",
    "В ходе работы был открыт и изучен файл с данными, далее была произведена разбивка данных на три выборки: обучающую, валидационную и тестовую с соотношением 3:1:1. Выборки были изучены и проверены.\n",
    "\n",
    "Затем были построены три модели: дерева решений, случайного леса и логистической регрессии.\n",
    "\n",
    "**Дерево решений**.\n",
    "\n",
    "В цикле перебрали 10 моделей в зависимости от глубины дерева: от 1 до 10.\n",
    "\n",
    "Лучший показатель доли правильных ответов: 80 %, сответствующая ему глубина дерева: 3.\n",
    "\n",
    "Также были построены линейный график зависимости правильности предсказаний модели от глубины дерева решений, а также само дерево решений для варианта с наилучшим показателем accuracy.\n",
    "\n",
    "**Случайный лес**.\n",
    "\n",
    "Мы проверили модели с количеством деревьев от 1 до 5 и от 10 до 50 с шагом 5, а также с глубиной дерева от 1 до 10.\n",
    "\n",
    "Наилучшей моделью случайного леса по показателю доли правильных ответов оказалась оная, состоящая из 25 деревьев с глубиной, равной 10. Результат составляет 82 %.\n",
    "\n",
    "**Логистическая регрессия**.\n",
    "\n",
    "Мы проверили модели с количеством итераций обучения от 100 до 1000 с шагом 100.\n",
    "\n",
    "Наилучшей моделью логистической регрессии по показателю доли правильных ответов оказалась оная с количеством итераций обучения, равной 100. Результат составляет 73 %.\n",
    "\n",
    "**Лучшей моделью** была признана модель случайного леса, т.к. она имеет наибольшую долю правильных ответов. Кроме того, данная модель также считается наиболее качественной из всех трех. \n",
    "\n",
    "Данная модель была проверена на **тестовой выборке**. Показатель доли правильных ответов модели (чуть меньше 82 %) оказался немного ниже, чем на валидационной выборке, но выше 75 %.\n",
    "\n",
    "Также модель была проверена на **адекватность**. В ходе проверки был вычислен accuracy для таргета, целиком состоящего из нулей (т.к. нули в таргете встречаются чаще единиц). Accuracy оказался значительно ниже того, который мы получили на тестовой выборке: 69 против 82. Это говорит о том, что модель случайного леса, проверенная на тестовой выборке, адекватна."
   ]
  }
 ],
 "metadata": {
  "ExecuteTimeLog": [
   {
    "duration": 1078,
    "start_time": "2022-09-20T10:29:15.924Z"
   },
   {
    "duration": 21,
    "start_time": "2022-09-20T10:29:30.806Z"
   },
   {
    "duration": 61,
    "start_time": "2022-09-20T10:29:41.561Z"
   },
   {
    "duration": 15,
    "start_time": "2022-09-20T10:29:58.239Z"
   },
   {
    "duration": 2,
    "start_time": "2022-09-20T10:31:31.677Z"
   },
   {
    "duration": 125,
    "start_time": "2022-09-20T10:31:32.418Z"
   },
   {
    "duration": 10,
    "start_time": "2022-09-20T10:31:47.306Z"
   },
   {
    "duration": 15,
    "start_time": "2022-09-20T10:31:53.442Z"
   },
   {
    "duration": 13,
    "start_time": "2022-09-20T10:33:50.937Z"
   },
   {
    "duration": 10,
    "start_time": "2022-09-20T10:34:12.196Z"
   },
   {
    "duration": 10,
    "start_time": "2022-09-20T10:34:38.044Z"
   },
   {
    "duration": 10,
    "start_time": "2022-09-20T10:34:44.704Z"
   },
   {
    "duration": 110,
    "start_time": "2022-09-20T10:37:41.892Z"
   },
   {
    "duration": 10,
    "start_time": "2022-09-20T10:37:48.717Z"
   },
   {
    "duration": 10,
    "start_time": "2022-09-20T10:37:56.299Z"
   },
   {
    "duration": 10,
    "start_time": "2022-09-20T10:38:05.026Z"
   },
   {
    "duration": 10,
    "start_time": "2022-09-20T10:38:07.757Z"
   },
   {
    "duration": 5,
    "start_time": "2022-09-20T11:07:39.389Z"
   },
   {
    "duration": 4,
    "start_time": "2022-09-20T11:08:07.156Z"
   },
   {
    "duration": 13,
    "start_time": "2022-09-20T11:08:12.249Z"
   },
   {
    "duration": 1103,
    "start_time": "2022-09-23T14:20:31.588Z"
   },
   {
    "duration": 119,
    "start_time": "2022-09-23T14:20:33.788Z"
   },
   {
    "duration": 12,
    "start_time": "2022-09-23T14:20:34.308Z"
   },
   {
    "duration": 18,
    "start_time": "2022-09-23T14:20:35.001Z"
   },
   {
    "duration": 10,
    "start_time": "2022-09-23T14:20:39.207Z"
   },
   {
    "duration": 4,
    "start_time": "2022-09-23T14:20:40.428Z"
   },
   {
    "duration": 4,
    "start_time": "2022-09-23T14:20:40.968Z"
   },
   {
    "duration": 5,
    "start_time": "2022-09-23T14:25:15.247Z"
   },
   {
    "duration": 4,
    "start_time": "2022-09-23T14:25:15.596Z"
   },
   {
    "duration": 9,
    "start_time": "2022-09-23T14:26:21.348Z"
   },
   {
    "duration": 9,
    "start_time": "2022-09-23T14:26:58.506Z"
   },
   {
    "duration": 22,
    "start_time": "2022-09-23T14:27:32.327Z"
   },
   {
    "duration": 31,
    "start_time": "2022-09-23T14:27:38.606Z"
   },
   {
    "duration": 26,
    "start_time": "2022-09-23T14:27:43.052Z"
   },
   {
    "duration": 21,
    "start_time": "2022-09-23T14:27:59.480Z"
   },
   {
    "duration": 21,
    "start_time": "2022-09-23T14:28:05.714Z"
   },
   {
    "duration": 21,
    "start_time": "2022-09-23T14:28:09.441Z"
   },
   {
    "duration": 25,
    "start_time": "2022-09-23T14:28:20.855Z"
   },
   {
    "duration": 33,
    "start_time": "2022-09-23T14:28:38.747Z"
   },
   {
    "duration": 105,
    "start_time": "2022-09-23T14:28:45.394Z"
   },
   {
    "duration": 33,
    "start_time": "2022-09-23T14:28:52.959Z"
   },
   {
    "duration": 22,
    "start_time": "2022-09-23T14:29:08.855Z"
   },
   {
    "duration": 29,
    "start_time": "2022-09-23T14:29:12.680Z"
   },
   {
    "duration": 21,
    "start_time": "2022-09-23T14:29:15.708Z"
   },
   {
    "duration": 21,
    "start_time": "2022-09-23T16:01:38.626Z"
   },
   {
    "duration": 20,
    "start_time": "2022-09-23T16:02:04.047Z"
   },
   {
    "duration": 22,
    "start_time": "2022-09-23T16:02:36.286Z"
   },
   {
    "duration": 10,
    "start_time": "2022-09-23T16:06:03.411Z"
   },
   {
    "duration": 11,
    "start_time": "2022-09-23T16:06:03.906Z"
   },
   {
    "duration": 6,
    "start_time": "2022-09-23T16:06:09.746Z"
   },
   {
    "duration": 4,
    "start_time": "2022-09-23T16:06:10.526Z"
   },
   {
    "duration": 23,
    "start_time": "2022-09-23T16:06:15.146Z"
   },
   {
    "duration": 4,
    "start_time": "2022-09-23T16:06:41.306Z"
   },
   {
    "duration": 4,
    "start_time": "2022-09-23T16:06:45.202Z"
   },
   {
    "duration": 4,
    "start_time": "2022-09-23T16:06:50.894Z"
   },
   {
    "duration": 4,
    "start_time": "2022-09-23T16:07:11.985Z"
   },
   {
    "duration": 9,
    "start_time": "2022-09-23T16:07:17.401Z"
   },
   {
    "duration": 3,
    "start_time": "2022-09-23T16:07:23.094Z"
   },
   {
    "duration": 3,
    "start_time": "2022-09-23T16:07:25.646Z"
   },
   {
    "duration": 21,
    "start_time": "2022-09-23T16:07:31.567Z"
   },
   {
    "duration": 3,
    "start_time": "2022-09-23T16:07:31.987Z"
   },
   {
    "duration": 2,
    "start_time": "2022-09-23T16:07:41.939Z"
   },
   {
    "duration": 10,
    "start_time": "2022-09-23T16:07:59.226Z"
   },
   {
    "duration": 15,
    "start_time": "2022-09-23T16:08:12.762Z"
   },
   {
    "duration": 24,
    "start_time": "2022-09-23T16:08:36.766Z"
   },
   {
    "duration": 27,
    "start_time": "2022-09-23T16:08:42.214Z"
   },
   {
    "duration": 21,
    "start_time": "2022-09-23T16:08:52.883Z"
   },
   {
    "duration": 21,
    "start_time": "2022-09-23T16:08:56.579Z"
   },
   {
    "duration": 23,
    "start_time": "2022-09-23T16:09:00.824Z"
   },
   {
    "duration": 21,
    "start_time": "2022-09-23T16:09:03.399Z"
   },
   {
    "duration": 21,
    "start_time": "2022-09-23T16:09:06.326Z"
   },
   {
    "duration": 38,
    "start_time": "2022-09-23T17:32:55.704Z"
   },
   {
    "duration": 2,
    "start_time": "2022-09-23T17:50:42.300Z"
   },
   {
    "duration": 3,
    "start_time": "2022-09-23T17:51:11.003Z"
   },
   {
    "duration": 1024,
    "start_time": "2022-09-24T08:45:00.142Z"
   },
   {
    "duration": 151,
    "start_time": "2022-09-24T08:45:01.169Z"
   },
   {
    "duration": 12,
    "start_time": "2022-09-24T08:45:01.322Z"
   },
   {
    "duration": 29,
    "start_time": "2022-09-24T08:45:01.336Z"
   },
   {
    "duration": 29,
    "start_time": "2022-09-24T08:45:01.366Z"
   },
   {
    "duration": 36,
    "start_time": "2022-09-24T08:45:01.397Z"
   },
   {
    "duration": 39,
    "start_time": "2022-09-24T08:45:01.435Z"
   },
   {
    "duration": 21,
    "start_time": "2022-09-24T08:45:01.476Z"
   },
   {
    "duration": 103,
    "start_time": "2022-09-24T08:45:01.498Z"
   },
   {
    "duration": 0,
    "start_time": "2022-09-24T08:45:01.603Z"
   },
   {
    "duration": 4,
    "start_time": "2022-09-24T08:46:29.981Z"
   },
   {
    "duration": 11,
    "start_time": "2022-09-24T08:46:34.934Z"
   },
   {
    "duration": 2,
    "start_time": "2022-09-24T08:46:51.156Z"
   },
   {
    "duration": 988,
    "start_time": "2022-09-24T08:53:21.334Z"
   },
   {
    "duration": 29,
    "start_time": "2022-09-24T08:53:22.324Z"
   },
   {
    "duration": 13,
    "start_time": "2022-09-24T08:53:22.354Z"
   },
   {
    "duration": 26,
    "start_time": "2022-09-24T08:53:22.369Z"
   },
   {
    "duration": 4,
    "start_time": "2022-09-24T08:53:22.397Z"
   },
   {
    "duration": 21,
    "start_time": "2022-09-24T08:53:22.402Z"
   },
   {
    "duration": 13,
    "start_time": "2022-09-24T08:53:22.425Z"
   },
   {
    "duration": 37,
    "start_time": "2022-09-24T08:53:22.440Z"
   },
   {
    "duration": 99,
    "start_time": "2022-09-24T08:53:22.478Z"
   },
   {
    "duration": 0,
    "start_time": "2022-09-24T08:53:22.579Z"
   },
   {
    "duration": 0,
    "start_time": "2022-09-24T08:53:22.580Z"
   },
   {
    "duration": 0,
    "start_time": "2022-09-24T08:53:22.581Z"
   },
   {
    "duration": 32,
    "start_time": "2022-09-24T08:54:10.475Z"
   },
   {
    "duration": 22,
    "start_time": "2022-09-24T08:54:54.734Z"
   },
   {
    "duration": 30,
    "start_time": "2022-09-24T08:55:09.174Z"
   },
   {
    "duration": 29,
    "start_time": "2022-09-24T08:55:13.734Z"
   },
   {
    "duration": 26,
    "start_time": "2022-09-24T08:55:16.194Z"
   },
   {
    "duration": 22,
    "start_time": "2022-09-24T08:55:31.167Z"
   },
   {
    "duration": 25,
    "start_time": "2022-09-24T08:55:51.174Z"
   },
   {
    "duration": 2,
    "start_time": "2022-09-24T08:56:00.052Z"
   },
   {
    "duration": 15,
    "start_time": "2022-09-24T09:03:18.095Z"
   },
   {
    "duration": 3,
    "start_time": "2022-09-24T09:09:56.776Z"
   },
   {
    "duration": 4,
    "start_time": "2022-09-24T09:16:03.558Z"
   },
   {
    "duration": 3,
    "start_time": "2022-09-24T09:16:07.346Z"
   },
   {
    "duration": 30,
    "start_time": "2022-09-24T09:19:23.221Z"
   },
   {
    "duration": 3,
    "start_time": "2022-09-24T09:19:25.625Z"
   },
   {
    "duration": 30,
    "start_time": "2022-09-24T09:19:25.862Z"
   },
   {
    "duration": 4,
    "start_time": "2022-09-24T09:19:34.676Z"
   },
   {
    "duration": 4,
    "start_time": "2022-09-24T09:22:04.444Z"
   },
   {
    "duration": 3,
    "start_time": "2022-09-24T09:22:10.463Z"
   },
   {
    "duration": 34,
    "start_time": "2022-09-24T09:22:12.326Z"
   },
   {
    "duration": 3,
    "start_time": "2022-09-24T09:22:12.796Z"
   },
   {
    "duration": 1248,
    "start_time": "2022-09-24T09:22:43.648Z"
   },
   {
    "duration": 31,
    "start_time": "2022-09-24T09:22:44.899Z"
   },
   {
    "duration": 14,
    "start_time": "2022-09-24T09:22:44.932Z"
   },
   {
    "duration": 38,
    "start_time": "2022-09-24T09:22:44.947Z"
   },
   {
    "duration": 5,
    "start_time": "2022-09-24T09:22:44.989Z"
   },
   {
    "duration": 8,
    "start_time": "2022-09-24T09:22:44.996Z"
   },
   {
    "duration": 40,
    "start_time": "2022-09-24T09:22:45.007Z"
   },
   {
    "duration": 10,
    "start_time": "2022-09-24T09:22:45.049Z"
   },
   {
    "duration": 39,
    "start_time": "2022-09-24T09:22:45.062Z"
   },
   {
    "duration": 39,
    "start_time": "2022-09-24T09:22:45.103Z"
   },
   {
    "duration": 3,
    "start_time": "2022-09-24T09:22:45.144Z"
   },
   {
    "duration": 68,
    "start_time": "2022-09-24T09:22:45.149Z"
   },
   {
    "duration": 7,
    "start_time": "2022-09-24T09:22:45.222Z"
   },
   {
    "duration": 3,
    "start_time": "2022-09-24T09:25:51.107Z"
   },
   {
    "duration": 29,
    "start_time": "2022-09-24T09:27:33.897Z"
   },
   {
    "duration": 4,
    "start_time": "2022-09-24T09:27:35.844Z"
   },
   {
    "duration": 3,
    "start_time": "2022-09-24T09:29:27.538Z"
   },
   {
    "duration": 64,
    "start_time": "2022-09-24T09:31:06.837Z"
   },
   {
    "duration": 4,
    "start_time": "2022-09-24T09:31:07.521Z"
   },
   {
    "duration": 2,
    "start_time": "2022-09-24T09:31:11.152Z"
   },
   {
    "duration": 3,
    "start_time": "2022-09-24T09:43:57.458Z"
   },
   {
    "duration": 116,
    "start_time": "2022-09-24T09:43:58.326Z"
   },
   {
    "duration": 6844,
    "start_time": "2022-09-24T09:44:33.218Z"
   },
   {
    "duration": 4,
    "start_time": "2022-09-24T09:53:24.799Z"
   },
   {
    "duration": 3,
    "start_time": "2022-09-24T09:53:27.278Z"
   },
   {
    "duration": 35,
    "start_time": "2022-09-24T09:53:27.577Z"
   },
   {
    "duration": 6993,
    "start_time": "2022-09-24T09:54:27.519Z"
   },
   {
    "duration": 5,
    "start_time": "2022-09-24T09:54:34.514Z"
   },
   {
    "duration": 443,
    "start_time": "2022-09-24T09:55:59.398Z"
   },
   {
    "duration": 4,
    "start_time": "2022-09-24T09:56:00.222Z"
   },
   {
    "duration": 3,
    "start_time": "2022-09-24T09:58:52.061Z"
   },
   {
    "duration": 393,
    "start_time": "2022-09-24T09:58:52.546Z"
   },
   {
    "duration": 7118,
    "start_time": "2022-09-24T09:58:53.018Z"
   },
   {
    "duration": 4,
    "start_time": "2022-09-24T09:59:01.194Z"
   },
   {
    "duration": 788,
    "start_time": "2022-09-24T09:59:30.440Z"
   },
   {
    "duration": 3,
    "start_time": "2022-09-24T10:14:36.819Z"
   },
   {
    "duration": 44,
    "start_time": "2022-09-24T10:16:09.691Z"
   },
   {
    "duration": 363,
    "start_time": "2022-09-24T10:16:13.434Z"
   },
   {
    "duration": 4,
    "start_time": "2022-09-24T10:16:45.959Z"
   },
   {
    "duration": 5,
    "start_time": "2022-09-24T10:18:57.492Z"
   },
   {
    "duration": 1043,
    "start_time": "2022-09-24T10:56:20.805Z"
   },
   {
    "duration": 28,
    "start_time": "2022-09-24T10:56:21.850Z"
   },
   {
    "duration": 10,
    "start_time": "2022-09-24T10:56:21.879Z"
   },
   {
    "duration": 19,
    "start_time": "2022-09-24T10:56:21.891Z"
   },
   {
    "duration": 4,
    "start_time": "2022-09-24T10:56:21.912Z"
   },
   {
    "duration": 4,
    "start_time": "2022-09-24T10:56:21.917Z"
   },
   {
    "duration": 7,
    "start_time": "2022-09-24T10:56:21.922Z"
   },
   {
    "duration": 7,
    "start_time": "2022-09-24T10:56:21.930Z"
   },
   {
    "duration": 41,
    "start_time": "2022-09-24T10:56:21.938Z"
   },
   {
    "duration": 25,
    "start_time": "2022-09-24T10:56:21.981Z"
   },
   {
    "duration": 2,
    "start_time": "2022-09-24T10:56:22.008Z"
   },
   {
    "duration": 84,
    "start_time": "2022-09-24T10:56:22.011Z"
   },
   {
    "duration": 3,
    "start_time": "2022-09-24T10:56:22.097Z"
   },
   {
    "duration": 4,
    "start_time": "2022-09-24T10:56:22.103Z"
   },
   {
    "duration": 383,
    "start_time": "2022-09-24T10:56:22.108Z"
   },
   {
    "duration": 6580,
    "start_time": "2022-09-24T10:56:22.493Z"
   },
   {
    "duration": 3,
    "start_time": "2022-09-24T10:56:29.075Z"
   },
   {
    "duration": 7,
    "start_time": "2022-09-24T10:56:29.080Z"
   },
   {
    "duration": 327,
    "start_time": "2022-09-24T10:56:29.089Z"
   },
   {
    "duration": 3,
    "start_time": "2022-09-24T10:56:29.418Z"
   },
   {
    "duration": 6,
    "start_time": "2022-09-24T10:56:29.423Z"
   },
   {
    "duration": 98,
    "start_time": "2022-09-24T11:02:35.398Z"
   },
   {
    "duration": 6,
    "start_time": "2022-09-24T11:02:45.918Z"
   },
   {
    "duration": 5,
    "start_time": "2022-09-24T11:02:46.538Z"
   },
   {
    "duration": 4,
    "start_time": "2022-09-24T11:02:55.471Z"
   },
   {
    "duration": 3,
    "start_time": "2022-09-24T11:05:54.618Z"
   },
   {
    "duration": 639,
    "start_time": "2022-09-24T11:34:32.175Z"
   },
   {
    "duration": 484,
    "start_time": "2022-09-24T11:34:47.856Z"
   },
   {
    "duration": 425,
    "start_time": "2022-09-24T11:34:52.756Z"
   },
   {
    "duration": 399,
    "start_time": "2022-09-24T11:34:56.296Z"
   },
   {
    "duration": 1043,
    "start_time": "2022-09-24T11:35:18.895Z"
   },
   {
    "duration": 1154,
    "start_time": "2022-09-24T11:35:23.236Z"
   },
   {
    "duration": 1058,
    "start_time": "2022-09-24T11:35:26.056Z"
   },
   {
    "duration": 1195,
    "start_time": "2022-09-24T11:35:29.095Z"
   },
   {
    "duration": 1122,
    "start_time": "2022-09-24T11:36:20.323Z"
   },
   {
    "duration": 1243,
    "start_time": "2022-09-24T11:36:35.295Z"
   },
   {
    "duration": 1098,
    "start_time": "2022-09-24T11:36:53.446Z"
   },
   {
    "duration": 30,
    "start_time": "2022-09-24T11:36:54.546Z"
   },
   {
    "duration": 13,
    "start_time": "2022-09-24T11:36:54.578Z"
   },
   {
    "duration": 19,
    "start_time": "2022-09-24T11:36:54.594Z"
   },
   {
    "duration": 1408,
    "start_time": "2022-09-24T11:36:54.615Z"
   },
   {
    "duration": 4,
    "start_time": "2022-09-24T11:36:56.024Z"
   },
   {
    "duration": 6,
    "start_time": "2022-09-24T11:36:56.030Z"
   },
   {
    "duration": 8,
    "start_time": "2022-09-24T11:36:56.037Z"
   },
   {
    "duration": 6,
    "start_time": "2022-09-24T11:36:56.046Z"
   },
   {
    "duration": 34,
    "start_time": "2022-09-24T11:36:56.055Z"
   },
   {
    "duration": 28,
    "start_time": "2022-09-24T11:36:56.091Z"
   },
   {
    "duration": 2,
    "start_time": "2022-09-24T11:36:56.121Z"
   },
   {
    "duration": 93,
    "start_time": "2022-09-24T11:36:56.125Z"
   },
   {
    "duration": 4,
    "start_time": "2022-09-24T11:36:56.219Z"
   },
   {
    "duration": 7,
    "start_time": "2022-09-24T11:36:56.224Z"
   },
   {
    "duration": 378,
    "start_time": "2022-09-24T11:36:56.232Z"
   },
   {
    "duration": 6725,
    "start_time": "2022-09-24T11:36:56.612Z"
   },
   {
    "duration": 4,
    "start_time": "2022-09-24T11:37:03.338Z"
   },
   {
    "duration": 6,
    "start_time": "2022-09-24T11:37:03.343Z"
   },
   {
    "duration": 330,
    "start_time": "2022-09-24T11:37:03.350Z"
   },
   {
    "duration": 4,
    "start_time": "2022-09-24T11:37:03.681Z"
   },
   {
    "duration": 6,
    "start_time": "2022-09-24T11:37:03.686Z"
   },
   {
    "duration": 8,
    "start_time": "2022-09-24T11:37:03.694Z"
   },
   {
    "duration": 4,
    "start_time": "2022-09-24T11:37:03.703Z"
   },
   {
    "duration": 8,
    "start_time": "2022-09-24T11:37:03.708Z"
   },
   {
    "duration": 1519,
    "start_time": "2022-09-24T20:34:47.023Z"
   },
   {
    "duration": 65,
    "start_time": "2022-09-24T20:34:48.545Z"
   },
   {
    "duration": 13,
    "start_time": "2022-09-24T20:34:48.612Z"
   },
   {
    "duration": 45,
    "start_time": "2022-09-24T20:34:48.627Z"
   },
   {
    "duration": 1569,
    "start_time": "2022-09-24T20:34:48.673Z"
   },
   {
    "duration": 4,
    "start_time": "2022-09-24T20:34:50.243Z"
   },
   {
    "duration": 7,
    "start_time": "2022-09-24T20:34:50.249Z"
   },
   {
    "duration": 8,
    "start_time": "2022-09-24T20:34:50.258Z"
   },
   {
    "duration": 30,
    "start_time": "2022-09-24T20:34:50.268Z"
   },
   {
    "duration": 35,
    "start_time": "2022-09-24T20:34:50.301Z"
   },
   {
    "duration": 60,
    "start_time": "2022-09-24T20:34:50.338Z"
   },
   {
    "duration": 7,
    "start_time": "2022-09-24T20:34:50.406Z"
   },
   {
    "duration": 110,
    "start_time": "2022-09-24T20:34:50.415Z"
   },
   {
    "duration": 5,
    "start_time": "2022-09-24T20:34:50.527Z"
   },
   {
    "duration": 7,
    "start_time": "2022-09-24T20:34:50.534Z"
   },
   {
    "duration": 447,
    "start_time": "2022-09-24T20:34:50.543Z"
   },
   {
    "duration": 7478,
    "start_time": "2022-09-24T20:34:50.995Z"
   },
   {
    "duration": 11,
    "start_time": "2022-09-24T20:34:58.475Z"
   },
   {
    "duration": 10,
    "start_time": "2022-09-24T20:34:58.488Z"
   },
   {
    "duration": 367,
    "start_time": "2022-09-24T20:34:58.500Z"
   },
   {
    "duration": 3,
    "start_time": "2022-09-24T20:34:58.869Z"
   },
   {
    "duration": 6,
    "start_time": "2022-09-24T20:34:58.874Z"
   },
   {
    "duration": 11,
    "start_time": "2022-09-24T20:34:58.903Z"
   },
   {
    "duration": 6,
    "start_time": "2022-09-24T20:34:58.916Z"
   },
   {
    "duration": 8,
    "start_time": "2022-09-24T20:34:58.924Z"
   },
   {
    "duration": 93,
    "start_time": "2022-09-30T11:44:03.328Z"
   },
   {
    "duration": 1103,
    "start_time": "2022-09-30T21:25:11.792Z"
   },
   {
    "duration": 75,
    "start_time": "2022-09-30T21:25:12.896Z"
   },
   {
    "duration": 13,
    "start_time": "2022-09-30T21:25:12.972Z"
   },
   {
    "duration": 48,
    "start_time": "2022-09-30T21:25:12.987Z"
   },
   {
    "duration": 1508,
    "start_time": "2022-09-30T21:25:13.038Z"
   },
   {
    "duration": 5,
    "start_time": "2022-09-30T21:25:14.548Z"
   },
   {
    "duration": 8,
    "start_time": "2022-09-30T21:25:14.555Z"
   },
   {
    "duration": 7,
    "start_time": "2022-09-30T21:25:14.565Z"
   },
   {
    "duration": 5,
    "start_time": "2022-09-30T21:25:14.574Z"
   },
   {
    "duration": 20,
    "start_time": "2022-09-30T21:25:14.581Z"
   },
   {
    "duration": 41,
    "start_time": "2022-09-30T21:25:14.603Z"
   },
   {
    "duration": 3,
    "start_time": "2022-09-30T21:25:14.645Z"
   },
   {
    "duration": 82,
    "start_time": "2022-09-30T21:25:14.649Z"
   },
   {
    "duration": 4,
    "start_time": "2022-09-30T21:25:14.733Z"
   },
   {
    "duration": 7,
    "start_time": "2022-09-30T21:25:14.739Z"
   },
   {
    "duration": 361,
    "start_time": "2022-09-30T21:25:14.748Z"
   },
   {
    "duration": 6047,
    "start_time": "2022-09-30T21:25:15.110Z"
   },
   {
    "duration": 3,
    "start_time": "2022-09-30T21:25:21.159Z"
   },
   {
    "duration": 6,
    "start_time": "2022-09-30T21:25:21.164Z"
   },
   {
    "duration": 320,
    "start_time": "2022-09-30T21:25:21.172Z"
   },
   {
    "duration": 3,
    "start_time": "2022-09-30T21:25:21.494Z"
   },
   {
    "duration": 13,
    "start_time": "2022-09-30T21:25:21.498Z"
   },
   {
    "duration": 10,
    "start_time": "2022-09-30T21:25:21.513Z"
   },
   {
    "duration": 6,
    "start_time": "2022-09-30T21:25:21.524Z"
   },
   {
    "duration": 9,
    "start_time": "2022-09-30T21:25:21.532Z"
   },
   {
    "duration": 97,
    "start_time": "2022-09-30T21:29:10.111Z"
   },
   {
    "duration": 10,
    "start_time": "2022-09-30T21:29:23.872Z"
   },
   {
    "duration": 12,
    "start_time": "2022-09-30T21:30:03.062Z"
   },
   {
    "duration": 7,
    "start_time": "2022-09-30T21:36:08.492Z"
   },
   {
    "duration": 12,
    "start_time": "2022-09-30T21:36:21.952Z"
   },
   {
    "duration": 12,
    "start_time": "2022-09-30T21:36:50.952Z"
   },
   {
    "duration": 12,
    "start_time": "2022-09-30T21:37:59.652Z"
   },
   {
    "duration": 6,
    "start_time": "2022-09-30T21:44:37.755Z"
   },
   {
    "duration": 1028,
    "start_time": "2022-09-30T21:44:52.834Z"
   },
   {
    "duration": 28,
    "start_time": "2022-09-30T21:44:53.864Z"
   },
   {
    "duration": 10,
    "start_time": "2022-09-30T21:44:53.893Z"
   },
   {
    "duration": 20,
    "start_time": "2022-09-30T21:44:53.905Z"
   },
   {
    "duration": 1310,
    "start_time": "2022-09-30T21:44:53.927Z"
   },
   {
    "duration": 3,
    "start_time": "2022-09-30T21:44:55.239Z"
   },
   {
    "duration": 11,
    "start_time": "2022-09-30T21:44:55.243Z"
   },
   {
    "duration": 15,
    "start_time": "2022-09-30T21:44:55.256Z"
   },
   {
    "duration": 5,
    "start_time": "2022-09-30T21:44:55.272Z"
   },
   {
    "duration": 22,
    "start_time": "2022-09-30T21:44:55.279Z"
   },
   {
    "duration": 34,
    "start_time": "2022-09-30T21:44:55.302Z"
   },
   {
    "duration": 3,
    "start_time": "2022-09-30T21:44:55.338Z"
   },
   {
    "duration": 68,
    "start_time": "2022-09-30T21:44:55.342Z"
   },
   {
    "duration": 3,
    "start_time": "2022-09-30T21:44:55.411Z"
   },
   {
    "duration": 32,
    "start_time": "2022-09-30T21:44:55.416Z"
   },
   {
    "duration": 362,
    "start_time": "2022-09-30T21:44:55.450Z"
   },
   {
    "duration": 6609,
    "start_time": "2022-09-30T21:44:55.814Z"
   },
   {
    "duration": 10,
    "start_time": "2022-09-30T21:45:02.425Z"
   },
   {
    "duration": 9,
    "start_time": "2022-09-30T21:45:02.439Z"
   },
   {
    "duration": 271,
    "start_time": "2022-09-30T21:45:02.450Z"
   },
   {
    "duration": 5,
    "start_time": "2022-09-30T21:45:02.723Z"
   },
   {
    "duration": 7,
    "start_time": "2022-09-30T21:45:02.733Z"
   },
   {
    "duration": 12,
    "start_time": "2022-09-30T21:45:02.742Z"
   },
   {
    "duration": 4,
    "start_time": "2022-09-30T21:45:02.755Z"
   },
   {
    "duration": 6,
    "start_time": "2022-09-30T21:45:02.761Z"
   },
   {
    "duration": 1000,
    "start_time": "2022-09-30T22:18:34.153Z"
   },
   {
    "duration": 29,
    "start_time": "2022-09-30T22:18:35.155Z"
   },
   {
    "duration": 9,
    "start_time": "2022-09-30T22:18:35.186Z"
   },
   {
    "duration": 16,
    "start_time": "2022-09-30T22:18:35.197Z"
   },
   {
    "duration": 1260,
    "start_time": "2022-09-30T22:18:35.214Z"
   },
   {
    "duration": 4,
    "start_time": "2022-09-30T22:18:36.475Z"
   },
   {
    "duration": 24,
    "start_time": "2022-09-30T22:18:36.480Z"
   },
   {
    "duration": 21,
    "start_time": "2022-09-30T22:18:36.506Z"
   },
   {
    "duration": 13,
    "start_time": "2022-09-30T22:18:36.529Z"
   },
   {
    "duration": 23,
    "start_time": "2022-09-30T22:18:36.544Z"
   },
   {
    "duration": 23,
    "start_time": "2022-09-30T22:18:36.568Z"
   },
   {
    "duration": 2,
    "start_time": "2022-09-30T22:18:36.593Z"
   },
   {
    "duration": 70,
    "start_time": "2022-09-30T22:18:36.596Z"
   },
   {
    "duration": 3,
    "start_time": "2022-09-30T22:18:36.667Z"
   },
   {
    "duration": 18,
    "start_time": "2022-09-30T22:18:36.672Z"
   },
   {
    "duration": 333,
    "start_time": "2022-09-30T22:18:36.692Z"
   },
   {
    "duration": 5934,
    "start_time": "2022-09-30T22:18:37.026Z"
   },
   {
    "duration": 3,
    "start_time": "2022-09-30T22:18:42.962Z"
   },
   {
    "duration": 23,
    "start_time": "2022-09-30T22:18:42.967Z"
   },
   {
    "duration": 263,
    "start_time": "2022-09-30T22:18:42.991Z"
   },
   {
    "duration": 4,
    "start_time": "2022-09-30T22:18:43.256Z"
   },
   {
    "duration": 6,
    "start_time": "2022-09-30T22:18:43.261Z"
   },
   {
    "duration": 12,
    "start_time": "2022-09-30T22:18:43.268Z"
   },
   {
    "duration": 4,
    "start_time": "2022-09-30T22:18:43.281Z"
   },
   {
    "duration": 9,
    "start_time": "2022-09-30T22:18:43.286Z"
   },
   {
    "duration": 57,
    "start_time": "2022-09-30T22:25:33.599Z"
   },
   {
    "duration": 3,
    "start_time": "2022-09-30T22:25:34.540Z"
   },
   {
    "duration": 334,
    "start_time": "2022-09-30T22:26:30.459Z"
   },
   {
    "duration": 5936,
    "start_time": "2022-09-30T22:26:30.795Z"
   },
   {
    "duration": 4,
    "start_time": "2022-09-30T22:26:36.733Z"
   },
   {
    "duration": 235,
    "start_time": "2022-09-30T22:27:41.023Z"
   },
   {
    "duration": 3,
    "start_time": "2022-09-30T22:27:41.779Z"
   },
   {
    "duration": 385,
    "start_time": "2022-09-30T22:31:44.819Z"
   },
   {
    "duration": 356,
    "start_time": "2022-09-30T22:32:23.898Z"
   },
   {
    "duration": 5916,
    "start_time": "2022-09-30T22:32:24.898Z"
   },
   {
    "duration": 358,
    "start_time": "2022-09-30T22:33:39.917Z"
   },
   {
    "duration": 378,
    "start_time": "2022-09-30T22:35:35.797Z"
   },
   {
    "duration": 424,
    "start_time": "2022-09-30T22:35:44.337Z"
   },
   {
    "duration": 362,
    "start_time": "2022-09-30T22:35:54.678Z"
   },
   {
    "duration": 6350,
    "start_time": "2022-09-30T22:36:44.257Z"
   },
   {
    "duration": 6528,
    "start_time": "2022-09-30T22:36:53.557Z"
   },
   {
    "duration": 3,
    "start_time": "2022-09-30T23:00:39.037Z"
   },
   {
    "duration": 56,
    "start_time": "2022-09-30T23:01:03.936Z"
   },
   {
    "duration": 92,
    "start_time": "2022-09-30T23:01:23.397Z"
   },
   {
    "duration": 123,
    "start_time": "2022-09-30T23:01:34.984Z"
   },
   {
    "duration": 3,
    "start_time": "2022-09-30T23:02:56.054Z"
   },
   {
    "duration": 110,
    "start_time": "2022-09-30T23:03:21.416Z"
   },
   {
    "duration": 120,
    "start_time": "2022-09-30T23:03:43.716Z"
   },
   {
    "duration": 88,
    "start_time": "2022-09-30T23:03:50.556Z"
   },
   {
    "duration": 118,
    "start_time": "2022-09-30T23:04:07.596Z"
   },
   {
    "duration": 189,
    "start_time": "2022-09-30T23:09:50.297Z"
   },
   {
    "duration": 90,
    "start_time": "2022-09-30T23:09:53.776Z"
   },
   {
    "duration": 106,
    "start_time": "2022-09-30T23:11:13.996Z"
   },
   {
    "duration": 90,
    "start_time": "2022-09-30T23:12:02.176Z"
   },
   {
    "duration": 17,
    "start_time": "2022-09-30T23:12:36.476Z"
   },
   {
    "duration": 64,
    "start_time": "2022-09-30T23:12:45.336Z"
   },
   {
    "duration": 2,
    "start_time": "2022-09-30T23:12:47.796Z"
   },
   {
    "duration": 59,
    "start_time": "2022-09-30T23:12:48.096Z"
   },
   {
    "duration": 92,
    "start_time": "2022-09-30T23:12:49.343Z"
   },
   {
    "duration": 2,
    "start_time": "2022-09-30T23:14:55.816Z"
   },
   {
    "duration": 70,
    "start_time": "2022-09-30T23:14:56.256Z"
   },
   {
    "duration": 102,
    "start_time": "2022-09-30T23:15:03.276Z"
   },
   {
    "duration": 100,
    "start_time": "2022-09-30T23:15:14.476Z"
   },
   {
    "duration": 98,
    "start_time": "2022-09-30T23:15:17.376Z"
   },
   {
    "duration": 83,
    "start_time": "2022-09-30T23:15:23.336Z"
   },
   {
    "duration": 96,
    "start_time": "2022-09-30T23:15:26.316Z"
   },
   {
    "duration": 2,
    "start_time": "2022-09-30T23:16:17.216Z"
   },
   {
    "duration": 2,
    "start_time": "2022-09-30T23:16:28.776Z"
   },
   {
    "duration": 16,
    "start_time": "2022-09-30T23:18:29.310Z"
   },
   {
    "duration": 3,
    "start_time": "2022-09-30T23:18:36.176Z"
   },
   {
    "duration": 17,
    "start_time": "2022-09-30T23:18:36.636Z"
   },
   {
    "duration": 1256,
    "start_time": "2022-09-30T23:18:41.923Z"
   },
   {
    "duration": 30,
    "start_time": "2022-09-30T23:18:43.180Z"
   },
   {
    "duration": 11,
    "start_time": "2022-09-30T23:18:43.211Z"
   },
   {
    "duration": 16,
    "start_time": "2022-09-30T23:18:43.223Z"
   },
   {
    "duration": 1109,
    "start_time": "2022-09-30T23:18:43.240Z"
   },
   {
    "duration": 3,
    "start_time": "2022-09-30T23:18:44.351Z"
   },
   {
    "duration": 5,
    "start_time": "2022-09-30T23:18:44.356Z"
   },
   {
    "duration": 7,
    "start_time": "2022-09-30T23:18:44.363Z"
   },
   {
    "duration": 5,
    "start_time": "2022-09-30T23:18:44.371Z"
   },
   {
    "duration": 22,
    "start_time": "2022-09-30T23:18:44.379Z"
   },
   {
    "duration": 26,
    "start_time": "2022-09-30T23:18:44.422Z"
   },
   {
    "duration": 3,
    "start_time": "2022-09-30T23:18:44.449Z"
   },
   {
    "duration": 4,
    "start_time": "2022-09-30T23:18:44.454Z"
   },
   {
    "duration": 127,
    "start_time": "2022-09-30T23:18:44.459Z"
   },
   {
    "duration": 0,
    "start_time": "2022-09-30T23:18:44.588Z"
   },
   {
    "duration": 0,
    "start_time": "2022-09-30T23:18:44.589Z"
   },
   {
    "duration": 0,
    "start_time": "2022-09-30T23:18:44.590Z"
   },
   {
    "duration": 0,
    "start_time": "2022-09-30T23:18:44.591Z"
   },
   {
    "duration": 0,
    "start_time": "2022-09-30T23:18:44.592Z"
   },
   {
    "duration": 0,
    "start_time": "2022-09-30T23:18:44.593Z"
   },
   {
    "duration": 0,
    "start_time": "2022-09-30T23:18:44.594Z"
   },
   {
    "duration": 0,
    "start_time": "2022-09-30T23:18:44.595Z"
   },
   {
    "duration": 0,
    "start_time": "2022-09-30T23:18:44.596Z"
   },
   {
    "duration": 0,
    "start_time": "2022-09-30T23:18:44.597Z"
   },
   {
    "duration": 0,
    "start_time": "2022-09-30T23:18:44.597Z"
   },
   {
    "duration": 0,
    "start_time": "2022-09-30T23:18:44.598Z"
   },
   {
    "duration": 0,
    "start_time": "2022-09-30T23:18:44.599Z"
   },
   {
    "duration": 74,
    "start_time": "2022-09-30T23:21:38.917Z"
   },
   {
    "duration": 9,
    "start_time": "2022-09-30T23:21:41.015Z"
   },
   {
    "duration": 94,
    "start_time": "2022-09-30T23:21:52.256Z"
   },
   {
    "duration": 106,
    "start_time": "2022-09-30T23:22:42.817Z"
   },
   {
    "duration": 98,
    "start_time": "2022-09-30T23:22:48.657Z"
   },
   {
    "duration": 94,
    "start_time": "2022-09-30T23:22:51.517Z"
   },
   {
    "duration": 94,
    "start_time": "2022-09-30T23:22:56.277Z"
   },
   {
    "duration": 99,
    "start_time": "2022-09-30T23:22:58.563Z"
   },
   {
    "duration": 104,
    "start_time": "2022-09-30T23:25:25.937Z"
   },
   {
    "duration": 188,
    "start_time": "2022-09-30T23:25:34.417Z"
   },
   {
    "duration": 202,
    "start_time": "2022-09-30T23:26:22.653Z"
   },
   {
    "duration": 126,
    "start_time": "2022-09-30T23:26:32.613Z"
   },
   {
    "duration": 130,
    "start_time": "2022-09-30T23:26:36.717Z"
   },
   {
    "duration": 117,
    "start_time": "2022-09-30T23:26:39.811Z"
   },
   {
    "duration": 74,
    "start_time": "2022-09-30T23:26:51.737Z"
   },
   {
    "duration": 129,
    "start_time": "2022-09-30T23:26:56.973Z"
   },
   {
    "duration": 114,
    "start_time": "2022-09-30T23:27:13.737Z"
   },
   {
    "duration": 117,
    "start_time": "2022-09-30T23:27:29.785Z"
   },
   {
    "duration": 113,
    "start_time": "2022-09-30T23:27:33.837Z"
   },
   {
    "duration": 126,
    "start_time": "2022-09-30T23:27:50.277Z"
   },
   {
    "duration": 116,
    "start_time": "2022-09-30T23:28:01.177Z"
   },
   {
    "duration": 178,
    "start_time": "2022-09-30T23:28:04.277Z"
   },
   {
    "duration": 105,
    "start_time": "2022-09-30T23:28:26.505Z"
   },
   {
    "duration": 109,
    "start_time": "2022-09-30T23:28:34.217Z"
   },
   {
    "duration": 102,
    "start_time": "2022-09-30T23:29:40.005Z"
   },
   {
    "duration": 121,
    "start_time": "2022-09-30T23:29:48.017Z"
   },
   {
    "duration": 116,
    "start_time": "2022-09-30T23:29:54.577Z"
   },
   {
    "duration": 117,
    "start_time": "2022-09-30T23:30:47.678Z"
   },
   {
    "duration": 124,
    "start_time": "2022-09-30T23:30:56.326Z"
   },
   {
    "duration": 112,
    "start_time": "2022-09-30T23:30:58.753Z"
   },
   {
    "duration": 103,
    "start_time": "2022-09-30T23:31:01.693Z"
   },
   {
    "duration": 122,
    "start_time": "2022-09-30T23:32:31.977Z"
   },
   {
    "duration": 114,
    "start_time": "2022-09-30T23:32:38.878Z"
   },
   {
    "duration": 111,
    "start_time": "2022-09-30T23:33:53.312Z"
   },
   {
    "duration": 113,
    "start_time": "2022-09-30T23:34:28.237Z"
   },
   {
    "duration": 110,
    "start_time": "2022-09-30T23:36:54.955Z"
   },
   {
    "duration": 105,
    "start_time": "2022-09-30T23:37:27.917Z"
   },
   {
    "duration": 98,
    "start_time": "2022-09-30T23:39:09.577Z"
   },
   {
    "duration": 196,
    "start_time": "2022-09-30T23:41:41.097Z"
   },
   {
    "duration": 121,
    "start_time": "2022-09-30T23:41:59.457Z"
   },
   {
    "duration": 120,
    "start_time": "2022-09-30T23:42:48.037Z"
   },
   {
    "duration": 4,
    "start_time": "2022-09-30T23:43:02.340Z"
   },
   {
    "duration": 130,
    "start_time": "2022-09-30T23:43:06.078Z"
   },
   {
    "duration": 4,
    "start_time": "2022-09-30T23:43:41.357Z"
   },
   {
    "duration": 3,
    "start_time": "2022-09-30T23:43:48.564Z"
   },
   {
    "duration": 2,
    "start_time": "2022-09-30T23:44:20.657Z"
   },
   {
    "duration": 71,
    "start_time": "2022-09-30T23:44:26.301Z"
   },
   {
    "duration": 134,
    "start_time": "2022-09-30T23:44:27.257Z"
   },
   {
    "duration": 128,
    "start_time": "2022-09-30T23:45:14.477Z"
   },
   {
    "duration": 117,
    "start_time": "2022-09-30T23:48:37.697Z"
   },
   {
    "duration": 128,
    "start_time": "2022-09-30T23:48:42.286Z"
   },
   {
    "duration": 140,
    "start_time": "2022-09-30T23:48:46.337Z"
   },
   {
    "duration": 2008,
    "start_time": "2022-10-01T09:45:57.430Z"
   },
   {
    "duration": 3,
    "start_time": "2022-10-01T09:45:59.443Z"
   },
   {
    "duration": 102,
    "start_time": "2022-10-01T09:45:59.447Z"
   },
   {
    "duration": 18,
    "start_time": "2022-10-01T09:45:59.551Z"
   },
   {
    "duration": 23,
    "start_time": "2022-10-01T09:45:59.572Z"
   },
   {
    "duration": 1652,
    "start_time": "2022-10-01T09:45:59.597Z"
   },
   {
    "duration": 6,
    "start_time": "2022-10-01T09:46:01.251Z"
   },
   {
    "duration": 22,
    "start_time": "2022-10-01T09:46:01.259Z"
   },
   {
    "duration": 41,
    "start_time": "2022-10-01T09:46:01.283Z"
   },
   {
    "duration": 10,
    "start_time": "2022-10-01T09:46:01.326Z"
   },
   {
    "duration": 35,
    "start_time": "2022-10-01T09:46:01.338Z"
   },
   {
    "duration": 79,
    "start_time": "2022-10-01T09:46:01.375Z"
   },
   {
    "duration": 20,
    "start_time": "2022-10-01T09:46:01.457Z"
   },
   {
    "duration": 47,
    "start_time": "2022-10-01T09:46:01.481Z"
   },
   {
    "duration": 145,
    "start_time": "2022-10-01T09:46:01.529Z"
   },
   {
    "duration": 239,
    "start_time": "2022-10-01T09:46:01.676Z"
   },
   {
    "duration": 13,
    "start_time": "2022-10-01T09:46:01.917Z"
   },
   {
    "duration": 47,
    "start_time": "2022-10-01T09:46:01.935Z"
   },
   {
    "duration": 738,
    "start_time": "2022-10-01T09:46:01.985Z"
   },
   {
    "duration": 9995,
    "start_time": "2022-10-01T09:46:02.724Z"
   },
   {
    "duration": 7,
    "start_time": "2022-10-01T09:46:12.721Z"
   },
   {
    "duration": 21,
    "start_time": "2022-10-01T09:46:12.730Z"
   },
   {
    "duration": 355,
    "start_time": "2022-10-01T09:46:12.754Z"
   },
   {
    "duration": 4,
    "start_time": "2022-10-01T09:46:13.111Z"
   },
   {
    "duration": 23,
    "start_time": "2022-10-01T09:46:13.117Z"
   },
   {
    "duration": 27,
    "start_time": "2022-10-01T09:46:13.143Z"
   },
   {
    "duration": 16,
    "start_time": "2022-10-01T09:46:13.173Z"
   },
   {
    "duration": 30,
    "start_time": "2022-10-01T09:46:13.191Z"
   },
   {
    "duration": 157,
    "start_time": "2022-10-01T09:46:23.432Z"
   },
   {
    "duration": 167,
    "start_time": "2022-10-01T09:46:27.430Z"
   },
   {
    "duration": 5,
    "start_time": "2022-10-01T09:46:38.545Z"
   },
   {
    "duration": 4,
    "start_time": "2022-10-01T09:47:14.031Z"
   },
   {
    "duration": 159,
    "start_time": "2022-10-01T09:51:11.869Z"
   },
   {
    "duration": 163,
    "start_time": "2022-10-01T09:51:14.544Z"
   },
   {
    "duration": 295,
    "start_time": "2022-10-01T09:51:22.912Z"
   },
   {
    "duration": 524,
    "start_time": "2022-10-01T09:51:40.475Z"
   },
   {
    "duration": 275,
    "start_time": "2022-10-01T09:52:01.504Z"
   },
   {
    "duration": 304,
    "start_time": "2022-10-01T09:54:11.064Z"
   },
   {
    "duration": 185,
    "start_time": "2022-10-01T09:54:23.322Z"
   },
   {
    "duration": 168,
    "start_time": "2022-10-01T09:54:27.408Z"
   },
   {
    "duration": 197,
    "start_time": "2022-10-01T09:54:33.184Z"
   },
   {
    "duration": 188,
    "start_time": "2022-10-01T09:54:38.037Z"
   },
   {
    "duration": 184,
    "start_time": "2022-10-01T09:55:06.474Z"
   },
   {
    "duration": 222,
    "start_time": "2022-10-01T09:56:11.585Z"
   },
   {
    "duration": 102,
    "start_time": "2022-10-01T10:21:36.034Z"
   },
   {
    "duration": 108,
    "start_time": "2022-10-01T10:21:44.964Z"
   },
   {
    "duration": 221,
    "start_time": "2022-10-01T10:22:30.064Z"
   },
   {
    "duration": 237,
    "start_time": "2022-10-01T10:22:49.384Z"
   },
   {
    "duration": 4,
    "start_time": "2022-10-01T10:22:58.147Z"
   },
   {
    "duration": 2,
    "start_time": "2022-10-01T10:22:58.884Z"
   },
   {
    "duration": 100,
    "start_time": "2022-10-01T10:22:59.722Z"
   },
   {
    "duration": 314,
    "start_time": "2022-10-01T10:23:00.726Z"
   },
   {
    "duration": 4,
    "start_time": "2022-10-01T10:23:03.064Z"
   },
   {
    "duration": 3,
    "start_time": "2022-10-01T10:26:23.112Z"
   },
   {
    "duration": 214,
    "start_time": "2022-10-01T10:29:07.533Z"
   },
   {
    "duration": 133,
    "start_time": "2022-10-01T10:30:31.608Z"
   },
   {
    "duration": 187,
    "start_time": "2022-10-01T10:31:39.462Z"
   },
   {
    "duration": 4,
    "start_time": "2022-10-01T10:34:05.029Z"
   },
   {
    "duration": 6,
    "start_time": "2022-10-01T10:35:53.302Z"
   },
   {
    "duration": 3,
    "start_time": "2022-10-01T10:35:54.072Z"
   },
   {
    "duration": 522,
    "start_time": "2022-10-01T10:35:55.706Z"
   },
   {
    "duration": 9040,
    "start_time": "2022-10-01T10:36:00.608Z"
   },
   {
    "duration": 201,
    "start_time": "2022-10-01T10:36:42.710Z"
   },
   {
    "duration": 4,
    "start_time": "2022-10-01T10:36:50.110Z"
   },
   {
    "duration": 573,
    "start_time": "2022-10-01T10:37:36.672Z"
   },
   {
    "duration": 157,
    "start_time": "2022-10-01T10:37:39.801Z"
   },
   {
    "duration": 12,
    "start_time": "2022-10-01T10:37:55.421Z"
   },
   {
    "duration": 1518,
    "start_time": "2022-10-01T12:48:56.036Z"
   },
   {
    "duration": 2,
    "start_time": "2022-10-01T12:48:57.556Z"
   },
   {
    "duration": 156,
    "start_time": "2022-10-01T12:48:57.560Z"
   },
   {
    "duration": 11,
    "start_time": "2022-10-01T12:48:57.718Z"
   },
   {
    "duration": 15,
    "start_time": "2022-10-01T12:48:57.731Z"
   },
   {
    "duration": 1248,
    "start_time": "2022-10-01T12:48:57.748Z"
   },
   {
    "duration": 4,
    "start_time": "2022-10-01T12:48:58.998Z"
   },
   {
    "duration": 5,
    "start_time": "2022-10-01T12:48:59.003Z"
   },
   {
    "duration": 24,
    "start_time": "2022-10-01T12:48:59.010Z"
   },
   {
    "duration": 8,
    "start_time": "2022-10-01T12:48:59.037Z"
   },
   {
    "duration": 27,
    "start_time": "2022-10-01T12:48:59.047Z"
   },
   {
    "duration": 35,
    "start_time": "2022-10-01T12:48:59.076Z"
   },
   {
    "duration": 3,
    "start_time": "2022-10-01T12:48:59.113Z"
   },
   {
    "duration": 7,
    "start_time": "2022-10-01T12:48:59.118Z"
   },
   {
    "duration": 103,
    "start_time": "2022-10-01T12:48:59.126Z"
   },
   {
    "duration": 180,
    "start_time": "2022-10-01T12:48:59.230Z"
   },
   {
    "duration": 4,
    "start_time": "2022-10-01T12:48:59.412Z"
   },
   {
    "duration": 8,
    "start_time": "2022-10-01T12:48:59.417Z"
   },
   {
    "duration": 5,
    "start_time": "2022-10-01T12:48:59.427Z"
   },
   {
    "duration": 469,
    "start_time": "2022-10-01T12:48:59.434Z"
   },
   {
    "duration": 7761,
    "start_time": "2022-10-01T12:48:59.904Z"
   },
   {
    "duration": 16,
    "start_time": "2022-10-01T12:49:07.667Z"
   },
   {
    "duration": 215,
    "start_time": "2022-10-01T12:49:07.684Z"
   },
   {
    "duration": 4,
    "start_time": "2022-10-01T12:49:07.901Z"
   },
   {
    "duration": 5,
    "start_time": "2022-10-01T12:49:07.907Z"
   },
   {
    "duration": 301,
    "start_time": "2022-10-01T12:49:07.914Z"
   },
   {
    "duration": 4,
    "start_time": "2022-10-01T12:49:08.217Z"
   },
   {
    "duration": 4,
    "start_time": "2022-10-01T12:49:08.225Z"
   },
   {
    "duration": 11,
    "start_time": "2022-10-01T12:49:08.231Z"
   },
   {
    "duration": 4,
    "start_time": "2022-10-01T12:49:08.243Z"
   },
   {
    "duration": 39,
    "start_time": "2022-10-01T12:49:08.249Z"
   },
   {
    "duration": 464,
    "start_time": "2022-10-01T12:50:28.606Z"
   },
   {
    "duration": 113,
    "start_time": "2022-10-01T12:59:15.980Z"
   },
   {
    "duration": 4,
    "start_time": "2022-10-01T12:59:29.523Z"
   },
   {
    "duration": 50,
    "start_time": "2022-10-01T13:00:26.941Z"
   },
   {
    "duration": 500,
    "start_time": "2022-10-01T13:00:39.103Z"
   },
   {
    "duration": 504,
    "start_time": "2022-10-01T13:00:47.443Z"
   },
   {
    "duration": 6,
    "start_time": "2022-10-01T13:11:39.330Z"
   },
   {
    "duration": 612,
    "start_time": "2022-10-01T13:12:14.106Z"
   },
   {
    "duration": 787,
    "start_time": "2022-10-01T13:12:20.605Z"
   },
   {
    "duration": 3,
    "start_time": "2022-10-01T13:13:01.110Z"
   },
   {
    "duration": 1500,
    "start_time": "2022-10-01T13:20:29.194Z"
   },
   {
    "duration": 3,
    "start_time": "2022-10-01T13:20:30.697Z"
   },
   {
    "duration": 59,
    "start_time": "2022-10-01T13:20:30.702Z"
   },
   {
    "duration": 19,
    "start_time": "2022-10-01T13:20:30.764Z"
   },
   {
    "duration": 31,
    "start_time": "2022-10-01T13:20:30.797Z"
   },
   {
    "duration": 1423,
    "start_time": "2022-10-01T13:20:30.830Z"
   },
   {
    "duration": 4,
    "start_time": "2022-10-01T13:20:32.255Z"
   },
   {
    "duration": 47,
    "start_time": "2022-10-01T13:20:32.261Z"
   },
   {
    "duration": 17,
    "start_time": "2022-10-01T13:20:32.311Z"
   },
   {
    "duration": 13,
    "start_time": "2022-10-01T13:20:32.331Z"
   },
   {
    "duration": 42,
    "start_time": "2022-10-01T13:20:32.346Z"
   },
   {
    "duration": 39,
    "start_time": "2022-10-01T13:20:32.390Z"
   },
   {
    "duration": 3,
    "start_time": "2022-10-01T13:20:32.431Z"
   },
   {
    "duration": 6,
    "start_time": "2022-10-01T13:20:32.436Z"
   },
   {
    "duration": 127,
    "start_time": "2022-10-01T13:20:32.444Z"
   },
   {
    "duration": 206,
    "start_time": "2022-10-01T13:20:32.573Z"
   },
   {
    "duration": 9,
    "start_time": "2022-10-01T13:20:32.784Z"
   },
   {
    "duration": 800,
    "start_time": "2022-10-01T13:20:32.795Z"
   },
   {
    "duration": 3,
    "start_time": "2022-10-01T13:20:33.599Z"
   },
   {
    "duration": 600,
    "start_time": "2022-10-01T13:20:33.605Z"
   },
   {
    "duration": 8407,
    "start_time": "2022-10-01T13:20:34.207Z"
   },
   {
    "duration": 5,
    "start_time": "2022-10-01T13:20:42.616Z"
   },
   {
    "duration": 11,
    "start_time": "2022-10-01T13:20:42.623Z"
   },
   {
    "duration": 316,
    "start_time": "2022-10-01T13:20:42.635Z"
   },
   {
    "duration": 4,
    "start_time": "2022-10-01T13:20:42.953Z"
   },
   {
    "duration": 21,
    "start_time": "2022-10-01T13:20:42.959Z"
   },
   {
    "duration": 30,
    "start_time": "2022-10-01T13:20:42.982Z"
   },
   {
    "duration": 4,
    "start_time": "2022-10-01T13:20:43.016Z"
   },
   {
    "duration": 7,
    "start_time": "2022-10-01T13:20:43.022Z"
   },
   {
    "duration": 8,
    "start_time": "2022-10-01T13:20:44.678Z"
   },
   {
    "duration": 15,
    "start_time": "2022-10-01T13:26:46.391Z"
   },
   {
    "duration": 50,
    "start_time": "2022-10-01T16:14:06.502Z"
   },
   {
    "duration": 1483,
    "start_time": "2022-10-01T16:16:08.952Z"
   },
   {
    "duration": 3,
    "start_time": "2022-10-01T16:16:10.438Z"
   },
   {
    "duration": 115,
    "start_time": "2022-10-01T16:16:10.443Z"
   },
   {
    "duration": 11,
    "start_time": "2022-10-01T16:16:10.560Z"
   },
   {
    "duration": 14,
    "start_time": "2022-10-01T16:16:10.574Z"
   },
   {
    "duration": 1047,
    "start_time": "2022-10-01T16:16:10.590Z"
   },
   {
    "duration": 4,
    "start_time": "2022-10-01T16:16:11.639Z"
   },
   {
    "duration": 15,
    "start_time": "2022-10-01T16:16:11.645Z"
   },
   {
    "duration": 11,
    "start_time": "2022-10-01T16:16:11.661Z"
   },
   {
    "duration": 5,
    "start_time": "2022-10-01T16:16:11.674Z"
   },
   {
    "duration": 30,
    "start_time": "2022-10-01T16:16:11.681Z"
   },
   {
    "duration": 24,
    "start_time": "2022-10-01T16:16:11.712Z"
   },
   {
    "duration": 2,
    "start_time": "2022-10-01T16:16:11.738Z"
   },
   {
    "duration": 3,
    "start_time": "2022-10-01T16:16:11.743Z"
   },
   {
    "duration": 112,
    "start_time": "2022-10-01T16:16:11.747Z"
   },
   {
    "duration": 159,
    "start_time": "2022-10-01T16:16:11.861Z"
   },
   {
    "duration": 3,
    "start_time": "2022-10-01T16:16:12.022Z"
   },
   {
    "duration": 7,
    "start_time": "2022-10-01T16:16:12.027Z"
   },
   {
    "duration": 674,
    "start_time": "2022-10-01T16:16:12.035Z"
   },
   {
    "duration": 4,
    "start_time": "2022-10-01T16:16:12.711Z"
   },
   {
    "duration": 492,
    "start_time": "2022-10-01T16:16:12.717Z"
   },
   {
    "duration": 7340,
    "start_time": "2022-10-01T16:16:13.211Z"
   },
   {
    "duration": 3,
    "start_time": "2022-10-01T16:16:20.552Z"
   },
   {
    "duration": 5,
    "start_time": "2022-10-01T16:16:20.557Z"
   },
   {
    "duration": 228,
    "start_time": "2022-10-01T16:16:20.564Z"
   },
   {
    "duration": 3,
    "start_time": "2022-10-01T16:16:20.794Z"
   },
   {
    "duration": 11,
    "start_time": "2022-10-01T16:16:20.799Z"
   },
   {
    "duration": 15,
    "start_time": "2022-10-01T16:16:20.812Z"
   },
   {
    "duration": 10,
    "start_time": "2022-10-01T16:16:20.828Z"
   },
   {
    "duration": 5,
    "start_time": "2022-10-01T16:16:20.839Z"
   },
   {
    "duration": 15,
    "start_time": "2022-10-01T16:16:20.846Z"
   },
   {
    "duration": 4,
    "start_time": "2022-10-01T16:20:35.593Z"
   },
   {
    "duration": 3,
    "start_time": "2022-10-01T16:21:25.617Z"
   },
   {
    "duration": 7,
    "start_time": "2022-10-01T16:21:52.503Z"
   },
   {
    "duration": 5,
    "start_time": "2022-10-01T16:23:05.130Z"
   },
   {
    "duration": 3,
    "start_time": "2022-10-01T16:24:19.165Z"
   },
   {
    "duration": 12,
    "start_time": "2022-10-01T16:38:39.169Z"
   },
   {
    "duration": 2,
    "start_time": "2022-10-01T16:38:44.408Z"
   },
   {
    "duration": 6,
    "start_time": "2022-10-01T16:38:44.737Z"
   },
   {
    "duration": 6,
    "start_time": "2022-10-01T16:38:45.133Z"
   },
   {
    "duration": 3,
    "start_time": "2022-10-01T16:38:45.541Z"
   },
   {
    "duration": 5,
    "start_time": "2022-10-01T16:38:50.608Z"
   },
   {
    "duration": 13,
    "start_time": "2022-10-01T16:39:00.850Z"
   },
   {
    "duration": 6,
    "start_time": "2022-10-01T16:48:14.450Z"
   },
   {
    "duration": 941,
    "start_time": "2022-10-01T16:48:31.499Z"
   },
   {
    "duration": 7,
    "start_time": "2022-10-01T16:48:44.363Z"
   },
   {
    "duration": 5,
    "start_time": "2022-10-01T16:48:48.979Z"
   },
   {
    "duration": 5,
    "start_time": "2022-10-01T16:49:02.829Z"
   },
   {
    "duration": 5,
    "start_time": "2022-10-01T16:51:40.120Z"
   },
   {
    "duration": 5,
    "start_time": "2022-10-01T16:51:44.317Z"
   },
   {
    "duration": 5,
    "start_time": "2022-10-01T16:52:18.429Z"
   },
   {
    "duration": 5,
    "start_time": "2022-10-01T16:58:11.842Z"
   },
   {
    "duration": 6,
    "start_time": "2022-10-01T16:58:16.920Z"
   },
   {
    "duration": 6,
    "start_time": "2022-10-01T16:58:24.205Z"
   },
   {
    "duration": 4,
    "start_time": "2022-10-01T16:59:08.751Z"
   },
   {
    "duration": 3,
    "start_time": "2022-10-01T19:13:29.308Z"
   },
   {
    "duration": 3,
    "start_time": "2022-10-01T19:22:19.989Z"
   },
   {
    "duration": 4,
    "start_time": "2022-10-01T19:22:36.356Z"
   },
   {
    "duration": 3,
    "start_time": "2022-10-01T19:24:57.544Z"
   },
   {
    "duration": 321,
    "start_time": "2022-10-01T20:37:57.540Z"
   },
   {
    "duration": 297,
    "start_time": "2022-10-01T20:38:24.212Z"
   },
   {
    "duration": 1644,
    "start_time": "2022-10-01T20:38:38.651Z"
   },
   {
    "duration": 2,
    "start_time": "2022-10-01T20:38:40.298Z"
   },
   {
    "duration": 46,
    "start_time": "2022-10-01T20:38:40.302Z"
   },
   {
    "duration": 11,
    "start_time": "2022-10-01T20:38:40.350Z"
   },
   {
    "duration": 45,
    "start_time": "2022-10-01T20:38:40.364Z"
   },
   {
    "duration": 1033,
    "start_time": "2022-10-01T20:38:40.411Z"
   },
   {
    "duration": 5,
    "start_time": "2022-10-01T20:38:41.446Z"
   },
   {
    "duration": 6,
    "start_time": "2022-10-01T20:38:41.452Z"
   },
   {
    "duration": 6,
    "start_time": "2022-10-01T20:38:41.460Z"
   },
   {
    "duration": 4,
    "start_time": "2022-10-01T20:38:41.468Z"
   },
   {
    "duration": 37,
    "start_time": "2022-10-01T20:38:41.474Z"
   },
   {
    "duration": 25,
    "start_time": "2022-10-01T20:38:41.513Z"
   },
   {
    "duration": 3,
    "start_time": "2022-10-01T20:38:41.539Z"
   },
   {
    "duration": 18,
    "start_time": "2022-10-01T20:38:41.545Z"
   },
   {
    "duration": 100,
    "start_time": "2022-10-01T20:38:41.564Z"
   },
   {
    "duration": 241,
    "start_time": "2022-10-01T20:38:41.665Z"
   },
   {
    "duration": 0,
    "start_time": "2022-10-01T20:38:41.909Z"
   },
   {
    "duration": 0,
    "start_time": "2022-10-01T20:38:41.910Z"
   },
   {
    "duration": 0,
    "start_time": "2022-10-01T20:38:41.911Z"
   },
   {
    "duration": 0,
    "start_time": "2022-10-01T20:38:41.913Z"
   },
   {
    "duration": 0,
    "start_time": "2022-10-01T20:38:41.914Z"
   },
   {
    "duration": 0,
    "start_time": "2022-10-01T20:38:41.916Z"
   },
   {
    "duration": 0,
    "start_time": "2022-10-01T20:38:41.917Z"
   },
   {
    "duration": 0,
    "start_time": "2022-10-01T20:38:41.918Z"
   },
   {
    "duration": 0,
    "start_time": "2022-10-01T20:38:41.919Z"
   },
   {
    "duration": 0,
    "start_time": "2022-10-01T20:38:41.920Z"
   },
   {
    "duration": 0,
    "start_time": "2022-10-01T20:38:41.921Z"
   },
   {
    "duration": 0,
    "start_time": "2022-10-01T20:38:41.922Z"
   },
   {
    "duration": 0,
    "start_time": "2022-10-01T20:38:41.923Z"
   },
   {
    "duration": 0,
    "start_time": "2022-10-01T20:38:41.925Z"
   },
   {
    "duration": 0,
    "start_time": "2022-10-01T20:38:41.926Z"
   },
   {
    "duration": 0,
    "start_time": "2022-10-01T20:38:41.927Z"
   },
   {
    "duration": 0,
    "start_time": "2022-10-01T20:38:41.928Z"
   },
   {
    "duration": 0,
    "start_time": "2022-10-01T20:38:41.929Z"
   },
   {
    "duration": 157,
    "start_time": "2022-10-01T20:38:57.066Z"
   },
   {
    "duration": 148,
    "start_time": "2022-10-01T20:39:00.511Z"
   },
   {
    "duration": 148,
    "start_time": "2022-10-01T20:39:10.373Z"
   },
   {
    "duration": 154,
    "start_time": "2022-10-01T20:40:54.749Z"
   },
   {
    "duration": 145,
    "start_time": "2022-10-01T20:45:45.150Z"
   },
   {
    "duration": 124,
    "start_time": "2022-10-01T20:45:50.862Z"
   },
   {
    "duration": 252,
    "start_time": "2022-10-01T20:46:54.391Z"
   },
   {
    "duration": 147,
    "start_time": "2022-10-01T20:47:03.389Z"
   },
   {
    "duration": 161,
    "start_time": "2022-10-01T20:47:09.630Z"
   },
   {
    "duration": 4,
    "start_time": "2022-10-01T20:49:06.490Z"
   },
   {
    "duration": 6,
    "start_time": "2022-10-01T20:49:38.570Z"
   },
   {
    "duration": 3,
    "start_time": "2022-10-01T20:49:58.492Z"
   },
   {
    "duration": 154,
    "start_time": "2022-10-01T20:50:00.682Z"
   },
   {
    "duration": 4,
    "start_time": "2022-10-01T20:52:43.969Z"
   },
   {
    "duration": 7,
    "start_time": "2022-10-01T20:52:44.446Z"
   },
   {
    "duration": 17,
    "start_time": "2022-10-01T20:53:47.410Z"
   },
   {
    "duration": 3,
    "start_time": "2022-10-01T20:53:58.551Z"
   },
   {
    "duration": 9,
    "start_time": "2022-10-01T20:54:01.670Z"
   },
   {
    "duration": 3,
    "start_time": "2022-10-01T20:54:03.689Z"
   },
   {
    "duration": 9,
    "start_time": "2022-10-01T20:54:04.090Z"
   },
   {
    "duration": 13,
    "start_time": "2022-10-01T20:55:44.269Z"
   },
   {
    "duration": 16,
    "start_time": "2022-10-01T20:55:53.156Z"
   },
   {
    "duration": 4,
    "start_time": "2022-10-01T20:56:03.049Z"
   },
   {
    "duration": 4,
    "start_time": "2022-10-01T20:56:10.131Z"
   },
   {
    "duration": 13,
    "start_time": "2022-10-01T20:56:15.276Z"
   },
   {
    "duration": 200,
    "start_time": "2022-10-01T20:56:23.830Z"
   },
   {
    "duration": 1390,
    "start_time": "2022-10-01T20:56:32.358Z"
   },
   {
    "duration": 3,
    "start_time": "2022-10-01T20:56:33.749Z"
   },
   {
    "duration": 36,
    "start_time": "2022-10-01T20:56:33.753Z"
   },
   {
    "duration": 11,
    "start_time": "2022-10-01T20:56:33.791Z"
   },
   {
    "duration": 19,
    "start_time": "2022-10-01T20:56:33.804Z"
   },
   {
    "duration": 1082,
    "start_time": "2022-10-01T20:56:33.824Z"
   },
   {
    "duration": 4,
    "start_time": "2022-10-01T20:56:34.909Z"
   },
   {
    "duration": 23,
    "start_time": "2022-10-01T20:56:34.915Z"
   },
   {
    "duration": 24,
    "start_time": "2022-10-01T20:56:34.940Z"
   },
   {
    "duration": 22,
    "start_time": "2022-10-01T20:56:34.968Z"
   },
   {
    "duration": 56,
    "start_time": "2022-10-01T20:56:34.992Z"
   },
   {
    "duration": 29,
    "start_time": "2022-10-01T20:56:35.050Z"
   },
   {
    "duration": 3,
    "start_time": "2022-10-01T20:56:35.081Z"
   },
   {
    "duration": 13,
    "start_time": "2022-10-01T20:56:35.086Z"
   },
   {
    "duration": 125,
    "start_time": "2022-10-01T20:56:35.100Z"
   },
   {
    "duration": 175,
    "start_time": "2022-10-01T20:56:35.227Z"
   },
   {
    "duration": 7,
    "start_time": "2022-10-01T20:56:35.404Z"
   },
   {
    "duration": 7,
    "start_time": "2022-10-01T20:56:35.412Z"
   },
   {
    "duration": 637,
    "start_time": "2022-10-01T20:56:35.420Z"
   },
   {
    "duration": 3,
    "start_time": "2022-10-01T20:56:36.059Z"
   },
   {
    "duration": 518,
    "start_time": "2022-10-01T20:56:36.063Z"
   },
   {
    "duration": 7764,
    "start_time": "2022-10-01T20:56:36.583Z"
   },
   {
    "duration": 4,
    "start_time": "2022-10-01T20:56:44.349Z"
   },
   {
    "duration": 9,
    "start_time": "2022-10-01T20:56:44.355Z"
   },
   {
    "duration": 236,
    "start_time": "2022-10-01T20:56:44.365Z"
   },
   {
    "duration": 6,
    "start_time": "2022-10-01T20:56:44.603Z"
   },
   {
    "duration": 4,
    "start_time": "2022-10-01T20:56:44.612Z"
   },
   {
    "duration": 22,
    "start_time": "2022-10-01T20:56:44.620Z"
   },
   {
    "duration": 4,
    "start_time": "2022-10-01T20:56:44.644Z"
   },
   {
    "duration": 12,
    "start_time": "2022-10-01T20:56:44.650Z"
   },
   {
    "duration": 30,
    "start_time": "2022-10-01T20:56:44.664Z"
   },
   {
    "duration": 14,
    "start_time": "2022-10-01T20:56:44.696Z"
   },
   {
    "duration": 11,
    "start_time": "2022-10-01T20:56:44.712Z"
   },
   {
    "duration": 15,
    "start_time": "2022-10-01T20:56:44.724Z"
   },
   {
    "duration": 1737,
    "start_time": "2022-10-02T11:17:11.875Z"
   },
   {
    "duration": 3,
    "start_time": "2022-10-02T11:17:13.614Z"
   },
   {
    "duration": 75,
    "start_time": "2022-10-02T11:17:13.620Z"
   },
   {
    "duration": 14,
    "start_time": "2022-10-02T11:17:13.698Z"
   },
   {
    "duration": 17,
    "start_time": "2022-10-02T11:17:13.714Z"
   },
   {
    "duration": 1323,
    "start_time": "2022-10-02T11:17:13.735Z"
   },
   {
    "duration": 4,
    "start_time": "2022-10-02T11:17:15.060Z"
   },
   {
    "duration": 24,
    "start_time": "2022-10-02T11:17:15.066Z"
   },
   {
    "duration": 11,
    "start_time": "2022-10-02T11:17:15.092Z"
   },
   {
    "duration": 8,
    "start_time": "2022-10-02T11:17:15.106Z"
   },
   {
    "duration": 24,
    "start_time": "2022-10-02T11:17:15.116Z"
   },
   {
    "duration": 60,
    "start_time": "2022-10-02T11:17:15.142Z"
   },
   {
    "duration": 3,
    "start_time": "2022-10-02T11:17:15.203Z"
   },
   {
    "duration": 15,
    "start_time": "2022-10-02T11:17:15.208Z"
   },
   {
    "duration": 249,
    "start_time": "2022-10-02T11:17:15.225Z"
   },
   {
    "duration": 207,
    "start_time": "2022-10-02T11:17:15.476Z"
   },
   {
    "duration": 4,
    "start_time": "2022-10-02T11:17:15.689Z"
   },
   {
    "duration": 20,
    "start_time": "2022-10-02T11:17:15.695Z"
   },
   {
    "duration": 708,
    "start_time": "2022-10-02T11:17:15.717Z"
   },
   {
    "duration": 15,
    "start_time": "2022-10-02T11:17:16.427Z"
   },
   {
    "duration": 519,
    "start_time": "2022-10-02T11:17:16.444Z"
   },
   {
    "duration": 8164,
    "start_time": "2022-10-02T11:17:16.965Z"
   },
   {
    "duration": 5,
    "start_time": "2022-10-02T11:17:25.131Z"
   },
   {
    "duration": 10,
    "start_time": "2022-10-02T11:17:25.138Z"
   },
   {
    "duration": 352,
    "start_time": "2022-10-02T11:17:25.150Z"
   },
   {
    "duration": 4,
    "start_time": "2022-10-02T11:17:25.504Z"
   },
   {
    "duration": 36,
    "start_time": "2022-10-02T11:17:25.509Z"
   },
   {
    "duration": 11,
    "start_time": "2022-10-02T11:17:25.549Z"
   },
   {
    "duration": 3,
    "start_time": "2022-10-02T11:17:25.562Z"
   },
   {
    "duration": 12,
    "start_time": "2022-10-02T11:17:25.567Z"
   },
   {
    "duration": 9,
    "start_time": "2022-10-02T11:17:25.582Z"
   },
   {
    "duration": 6,
    "start_time": "2022-10-02T11:17:25.593Z"
   },
   {
    "duration": 5,
    "start_time": "2022-10-02T11:17:25.602Z"
   },
   {
    "duration": 6,
    "start_time": "2022-10-02T11:17:25.609Z"
   },
   {
    "duration": 362,
    "start_time": "2022-10-02T11:18:17.825Z"
   },
   {
    "duration": 350,
    "start_time": "2022-10-02T11:18:18.682Z"
   },
   {
    "duration": 326,
    "start_time": "2022-10-02T11:18:23.502Z"
   },
   {
    "duration": 1478,
    "start_time": "2022-10-02T11:18:30.096Z"
   },
   {
    "duration": 3,
    "start_time": "2022-10-02T11:18:31.576Z"
   },
   {
    "duration": 51,
    "start_time": "2022-10-02T11:18:31.581Z"
   },
   {
    "duration": 12,
    "start_time": "2022-10-02T11:18:31.634Z"
   },
   {
    "duration": 22,
    "start_time": "2022-10-02T11:18:31.648Z"
   },
   {
    "duration": 1419,
    "start_time": "2022-10-02T11:18:31.672Z"
   },
   {
    "duration": 4,
    "start_time": "2022-10-02T11:18:33.093Z"
   },
   {
    "duration": 10,
    "start_time": "2022-10-02T11:18:33.099Z"
   },
   {
    "duration": 15,
    "start_time": "2022-10-02T11:18:33.111Z"
   },
   {
    "duration": 27,
    "start_time": "2022-10-02T11:18:33.131Z"
   },
   {
    "duration": 30,
    "start_time": "2022-10-02T11:18:33.161Z"
   },
   {
    "duration": 36,
    "start_time": "2022-10-02T11:18:33.193Z"
   },
   {
    "duration": 3,
    "start_time": "2022-10-02T11:18:33.231Z"
   },
   {
    "duration": 16,
    "start_time": "2022-10-02T11:18:33.237Z"
   },
   {
    "duration": 377,
    "start_time": "2022-10-02T11:18:33.255Z"
   },
   {
    "duration": 226,
    "start_time": "2022-10-02T11:18:33.635Z"
   },
   {
    "duration": 4,
    "start_time": "2022-10-02T11:18:33.863Z"
   },
   {
    "duration": 21,
    "start_time": "2022-10-02T11:18:33.870Z"
   },
   {
    "duration": 680,
    "start_time": "2022-10-02T11:18:33.893Z"
   },
   {
    "duration": 16,
    "start_time": "2022-10-02T11:18:34.575Z"
   },
   {
    "duration": 518,
    "start_time": "2022-10-02T11:18:34.594Z"
   },
   {
    "duration": 8280,
    "start_time": "2022-10-02T11:18:35.114Z"
   },
   {
    "duration": 5,
    "start_time": "2022-10-02T11:18:43.397Z"
   },
   {
    "duration": 26,
    "start_time": "2022-10-02T11:18:43.403Z"
   },
   {
    "duration": 304,
    "start_time": "2022-10-02T11:18:43.431Z"
   },
   {
    "duration": 4,
    "start_time": "2022-10-02T11:18:43.737Z"
   },
   {
    "duration": 11,
    "start_time": "2022-10-02T11:18:43.742Z"
   },
   {
    "duration": 20,
    "start_time": "2022-10-02T11:18:43.756Z"
   },
   {
    "duration": 11,
    "start_time": "2022-10-02T11:18:43.778Z"
   },
   {
    "duration": 6,
    "start_time": "2022-10-02T11:18:43.791Z"
   },
   {
    "duration": 7,
    "start_time": "2022-10-02T11:18:43.799Z"
   },
   {
    "duration": 5,
    "start_time": "2022-10-02T11:18:43.808Z"
   },
   {
    "duration": 5,
    "start_time": "2022-10-02T11:18:43.815Z"
   },
   {
    "duration": 6,
    "start_time": "2022-10-02T11:18:43.821Z"
   },
   {
    "duration": 6,
    "start_time": "2022-10-02T11:19:22.011Z"
   },
   {
    "duration": 125,
    "start_time": "2022-10-02T11:19:47.158Z"
   },
   {
    "duration": 4,
    "start_time": "2022-10-02T11:20:03.084Z"
   },
   {
    "duration": 337,
    "start_time": "2022-10-02T11:20:05.298Z"
   },
   {
    "duration": 4,
    "start_time": "2022-10-02T11:20:19.046Z"
   },
   {
    "duration": 1493,
    "start_time": "2022-10-02T11:20:24.307Z"
   },
   {
    "duration": 2,
    "start_time": "2022-10-02T11:20:25.802Z"
   },
   {
    "duration": 34,
    "start_time": "2022-10-02T11:20:25.806Z"
   },
   {
    "duration": 11,
    "start_time": "2022-10-02T11:20:25.842Z"
   },
   {
    "duration": 17,
    "start_time": "2022-10-02T11:20:25.855Z"
   },
   {
    "duration": 1220,
    "start_time": "2022-10-02T11:20:25.874Z"
   },
   {
    "duration": 4,
    "start_time": "2022-10-02T11:20:27.096Z"
   },
   {
    "duration": 7,
    "start_time": "2022-10-02T11:20:27.102Z"
   },
   {
    "duration": 10,
    "start_time": "2022-10-02T11:20:27.111Z"
   },
   {
    "duration": 17,
    "start_time": "2022-10-02T11:20:27.124Z"
   },
   {
    "duration": 42,
    "start_time": "2022-10-02T11:20:27.143Z"
   },
   {
    "duration": 28,
    "start_time": "2022-10-02T11:20:27.189Z"
   },
   {
    "duration": 2,
    "start_time": "2022-10-02T11:20:27.219Z"
   },
   {
    "duration": 9,
    "start_time": "2022-10-02T11:20:27.223Z"
   },
   {
    "duration": 366,
    "start_time": "2022-10-02T11:20:27.234Z"
   },
   {
    "duration": 4,
    "start_time": "2022-10-02T11:20:27.602Z"
   },
   {
    "duration": 189,
    "start_time": "2022-10-02T11:20:27.608Z"
   },
   {
    "duration": 3,
    "start_time": "2022-10-02T11:20:27.799Z"
   },
   {
    "duration": 5,
    "start_time": "2022-10-02T11:20:27.805Z"
   },
   {
    "duration": 713,
    "start_time": "2022-10-02T11:20:27.812Z"
   },
   {
    "duration": 3,
    "start_time": "2022-10-02T11:20:28.527Z"
   },
   {
    "duration": 494,
    "start_time": "2022-10-02T11:20:28.532Z"
   },
   {
    "duration": 7936,
    "start_time": "2022-10-02T11:20:29.028Z"
   },
   {
    "duration": 4,
    "start_time": "2022-10-02T11:20:36.966Z"
   },
   {
    "duration": 8,
    "start_time": "2022-10-02T11:20:36.989Z"
   },
   {
    "duration": 302,
    "start_time": "2022-10-02T11:20:36.999Z"
   },
   {
    "duration": 5,
    "start_time": "2022-10-02T11:20:37.302Z"
   },
   {
    "duration": 17,
    "start_time": "2022-10-02T11:20:37.310Z"
   },
   {
    "duration": 36,
    "start_time": "2022-10-02T11:20:37.329Z"
   },
   {
    "duration": 34,
    "start_time": "2022-10-02T11:20:37.367Z"
   },
   {
    "duration": 40,
    "start_time": "2022-10-02T11:20:37.403Z"
   },
   {
    "duration": 27,
    "start_time": "2022-10-02T11:20:37.445Z"
   },
   {
    "duration": 14,
    "start_time": "2022-10-02T11:20:37.473Z"
   },
   {
    "duration": 19,
    "start_time": "2022-10-02T11:20:37.488Z"
   },
   {
    "duration": 19,
    "start_time": "2022-10-02T11:20:37.509Z"
   },
   {
    "duration": 1518,
    "start_time": "2022-10-02T11:21:45.695Z"
   },
   {
    "duration": 3,
    "start_time": "2022-10-02T11:21:47.216Z"
   },
   {
    "duration": 34,
    "start_time": "2022-10-02T11:21:47.221Z"
   },
   {
    "duration": 13,
    "start_time": "2022-10-02T11:21:47.258Z"
   },
   {
    "duration": 43,
    "start_time": "2022-10-02T11:21:47.273Z"
   },
   {
    "duration": 1334,
    "start_time": "2022-10-02T11:21:47.318Z"
   },
   {
    "duration": 4,
    "start_time": "2022-10-02T11:21:48.654Z"
   },
   {
    "duration": 5,
    "start_time": "2022-10-02T11:21:48.660Z"
   },
   {
    "duration": 22,
    "start_time": "2022-10-02T11:21:48.667Z"
   },
   {
    "duration": 7,
    "start_time": "2022-10-02T11:21:48.692Z"
   },
   {
    "duration": 34,
    "start_time": "2022-10-02T11:21:48.700Z"
   },
   {
    "duration": 60,
    "start_time": "2022-10-02T11:21:48.736Z"
   },
   {
    "duration": 3,
    "start_time": "2022-10-02T11:21:48.797Z"
   },
   {
    "duration": 7,
    "start_time": "2022-10-02T11:21:48.801Z"
   },
   {
    "duration": 375,
    "start_time": "2022-10-02T11:21:48.809Z"
   },
   {
    "duration": 7,
    "start_time": "2022-10-02T11:21:49.186Z"
   },
   {
    "duration": 227,
    "start_time": "2022-10-02T11:21:49.194Z"
   },
   {
    "duration": 4,
    "start_time": "2022-10-02T11:21:49.423Z"
   },
   {
    "duration": 30,
    "start_time": "2022-10-02T11:21:49.429Z"
   },
   {
    "duration": 728,
    "start_time": "2022-10-02T11:21:49.461Z"
   },
   {
    "duration": 3,
    "start_time": "2022-10-02T11:21:50.191Z"
   },
   {
    "duration": 538,
    "start_time": "2022-10-02T11:21:50.196Z"
   },
   {
    "duration": 8435,
    "start_time": "2022-10-02T11:21:50.737Z"
   },
   {
    "duration": 18,
    "start_time": "2022-10-02T11:21:59.173Z"
   },
   {
    "duration": 6,
    "start_time": "2022-10-02T11:21:59.193Z"
   },
   {
    "duration": 336,
    "start_time": "2022-10-02T11:21:59.201Z"
   },
   {
    "duration": 4,
    "start_time": "2022-10-02T11:21:59.538Z"
   },
   {
    "duration": 8,
    "start_time": "2022-10-02T11:21:59.545Z"
   },
   {
    "duration": 15,
    "start_time": "2022-10-02T11:21:59.554Z"
   },
   {
    "duration": 19,
    "start_time": "2022-10-02T11:21:59.571Z"
   },
   {
    "duration": 5,
    "start_time": "2022-10-02T11:21:59.592Z"
   },
   {
    "duration": 10,
    "start_time": "2022-10-02T11:21:59.598Z"
   },
   {
    "duration": 8,
    "start_time": "2022-10-02T11:21:59.610Z"
   },
   {
    "duration": 4,
    "start_time": "2022-10-02T11:21:59.620Z"
   },
   {
    "duration": 4,
    "start_time": "2022-10-02T11:21:59.626Z"
   },
   {
    "duration": 321,
    "start_time": "2022-10-02T11:24:16.657Z"
   },
   {
    "duration": 1429,
    "start_time": "2022-10-02T11:24:25.726Z"
   },
   {
    "duration": 2,
    "start_time": "2022-10-02T11:24:27.157Z"
   },
   {
    "duration": 37,
    "start_time": "2022-10-02T11:24:27.162Z"
   },
   {
    "duration": 13,
    "start_time": "2022-10-02T11:24:27.201Z"
   },
   {
    "duration": 17,
    "start_time": "2022-10-02T11:24:27.217Z"
   },
   {
    "duration": 1304,
    "start_time": "2022-10-02T11:24:27.236Z"
   },
   {
    "duration": 10,
    "start_time": "2022-10-02T11:24:28.542Z"
   },
   {
    "duration": 12,
    "start_time": "2022-10-02T11:24:28.554Z"
   },
   {
    "duration": 17,
    "start_time": "2022-10-02T11:24:28.568Z"
   },
   {
    "duration": 15,
    "start_time": "2022-10-02T11:24:28.586Z"
   },
   {
    "duration": 27,
    "start_time": "2022-10-02T11:24:28.603Z"
   },
   {
    "duration": 28,
    "start_time": "2022-10-02T11:24:28.632Z"
   },
   {
    "duration": 3,
    "start_time": "2022-10-02T11:24:28.661Z"
   },
   {
    "duration": 24,
    "start_time": "2022-10-02T11:24:28.667Z"
   },
   {
    "duration": 334,
    "start_time": "2022-10-02T11:24:28.692Z"
   },
   {
    "duration": 4,
    "start_time": "2022-10-02T11:24:29.028Z"
   },
   {
    "duration": 187,
    "start_time": "2022-10-02T11:24:29.034Z"
   },
   {
    "duration": 3,
    "start_time": "2022-10-02T11:24:29.223Z"
   },
   {
    "duration": 6,
    "start_time": "2022-10-02T11:24:29.228Z"
   },
   {
    "duration": 678,
    "start_time": "2022-10-02T11:24:29.235Z"
   },
   {
    "duration": 3,
    "start_time": "2022-10-02T11:24:29.915Z"
   },
   {
    "duration": 509,
    "start_time": "2022-10-02T11:24:29.920Z"
   },
   {
    "duration": 7948,
    "start_time": "2022-10-02T11:24:30.432Z"
   },
   {
    "duration": 4,
    "start_time": "2022-10-02T11:24:38.390Z"
   },
   {
    "duration": 30,
    "start_time": "2022-10-02T11:24:38.395Z"
   },
   {
    "duration": 311,
    "start_time": "2022-10-02T11:24:38.427Z"
   },
   {
    "duration": 4,
    "start_time": "2022-10-02T11:24:38.740Z"
   },
   {
    "duration": 8,
    "start_time": "2022-10-02T11:24:38.746Z"
   },
   {
    "duration": 14,
    "start_time": "2022-10-02T11:24:38.755Z"
   },
   {
    "duration": 3,
    "start_time": "2022-10-02T11:24:38.770Z"
   },
   {
    "duration": 4,
    "start_time": "2022-10-02T11:24:38.789Z"
   },
   {
    "duration": 10,
    "start_time": "2022-10-02T11:24:38.794Z"
   },
   {
    "duration": 6,
    "start_time": "2022-10-02T11:24:38.806Z"
   },
   {
    "duration": 6,
    "start_time": "2022-10-02T11:24:38.814Z"
   },
   {
    "duration": 6,
    "start_time": "2022-10-02T11:24:38.821Z"
   },
   {
    "duration": 5,
    "start_time": "2022-10-02T11:31:30.287Z"
   },
   {
    "duration": 794,
    "start_time": "2022-10-02T11:37:12.316Z"
   },
   {
    "duration": 129,
    "start_time": "2022-10-02T11:37:58.439Z"
   },
   {
    "duration": 14,
    "start_time": "2022-10-02T11:38:05.910Z"
   },
   {
    "duration": 12,
    "start_time": "2022-10-02T11:38:08.437Z"
   },
   {
    "duration": 13,
    "start_time": "2022-10-02T11:38:16.506Z"
   },
   {
    "duration": 839,
    "start_time": "2022-10-02T11:38:28.654Z"
   },
   {
    "duration": 752,
    "start_time": "2022-10-02T11:38:37.211Z"
   },
   {
    "duration": 781,
    "start_time": "2022-10-02T11:43:18.009Z"
   },
   {
    "duration": 803,
    "start_time": "2022-10-02T11:44:59.527Z"
   },
   {
    "duration": 774,
    "start_time": "2022-10-02T11:45:23.652Z"
   },
   {
    "duration": 791,
    "start_time": "2022-10-02T11:46:05.212Z"
   },
   {
    "duration": 767,
    "start_time": "2022-10-02T11:46:14.530Z"
   },
   {
    "duration": 796,
    "start_time": "2022-10-02T11:46:25.185Z"
   },
   {
    "duration": 798,
    "start_time": "2022-10-02T11:47:57.626Z"
   },
   {
    "duration": 974,
    "start_time": "2022-10-02T11:48:04.435Z"
   },
   {
    "duration": 1456,
    "start_time": "2022-10-02T13:46:49.712Z"
   },
   {
    "duration": 3,
    "start_time": "2022-10-02T13:46:51.169Z"
   },
   {
    "duration": 33,
    "start_time": "2022-10-02T13:46:51.174Z"
   },
   {
    "duration": 13,
    "start_time": "2022-10-02T13:46:51.209Z"
   },
   {
    "duration": 19,
    "start_time": "2022-10-02T13:46:51.224Z"
   },
   {
    "duration": 1291,
    "start_time": "2022-10-02T13:46:51.245Z"
   },
   {
    "duration": 4,
    "start_time": "2022-10-02T13:46:52.538Z"
   },
   {
    "duration": 33,
    "start_time": "2022-10-02T13:46:52.544Z"
   },
   {
    "duration": 11,
    "start_time": "2022-10-02T13:46:52.579Z"
   },
   {
    "duration": 8,
    "start_time": "2022-10-02T13:46:52.593Z"
   },
   {
    "duration": 47,
    "start_time": "2022-10-02T13:46:52.603Z"
   },
   {
    "duration": 27,
    "start_time": "2022-10-02T13:46:52.652Z"
   },
   {
    "duration": 8,
    "start_time": "2022-10-02T13:46:52.681Z"
   },
   {
    "duration": 16,
    "start_time": "2022-10-02T13:46:52.690Z"
   },
   {
    "duration": 363,
    "start_time": "2022-10-02T13:46:52.708Z"
   },
   {
    "duration": 4,
    "start_time": "2022-10-02T13:46:53.073Z"
   },
   {
    "duration": 191,
    "start_time": "2022-10-02T13:46:53.078Z"
   },
   {
    "duration": 4,
    "start_time": "2022-10-02T13:46:53.271Z"
   },
   {
    "duration": 4,
    "start_time": "2022-10-02T13:46:53.289Z"
   },
   {
    "duration": 826,
    "start_time": "2022-10-02T13:46:53.295Z"
   },
   {
    "duration": 3,
    "start_time": "2022-10-02T13:46:54.123Z"
   },
   {
    "duration": 471,
    "start_time": "2022-10-02T13:46:54.127Z"
   },
   {
    "duration": 7863,
    "start_time": "2022-10-02T13:46:54.600Z"
   },
   {
    "duration": 25,
    "start_time": "2022-10-02T13:47:02.465Z"
   },
   {
    "duration": 4,
    "start_time": "2022-10-02T13:47:02.491Z"
   },
   {
    "duration": 306,
    "start_time": "2022-10-02T13:47:02.496Z"
   },
   {
    "duration": 4,
    "start_time": "2022-10-02T13:47:02.803Z"
   },
   {
    "duration": 6,
    "start_time": "2022-10-02T13:47:02.810Z"
   },
   {
    "duration": 15,
    "start_time": "2022-10-02T13:47:02.818Z"
   },
   {
    "duration": 4,
    "start_time": "2022-10-02T13:47:02.835Z"
   },
   {
    "duration": 6,
    "start_time": "2022-10-02T13:47:02.841Z"
   },
   {
    "duration": 11,
    "start_time": "2022-10-02T13:47:02.849Z"
   },
   {
    "duration": 28,
    "start_time": "2022-10-02T13:47:02.862Z"
   },
   {
    "duration": 9,
    "start_time": "2022-10-02T13:47:02.892Z"
   },
   {
    "duration": 4,
    "start_time": "2022-10-02T13:47:02.903Z"
   },
   {
    "duration": 120,
    "start_time": "2022-10-02T13:47:02.909Z"
   },
   {
    "duration": 0,
    "start_time": "2022-10-02T13:47:03.031Z"
   },
   {
    "duration": 1443,
    "start_time": "2022-10-02T13:47:56.742Z"
   },
   {
    "duration": 2,
    "start_time": "2022-10-02T13:47:58.187Z"
   },
   {
    "duration": 70,
    "start_time": "2022-10-02T13:47:58.191Z"
   },
   {
    "duration": 18,
    "start_time": "2022-10-02T13:47:58.264Z"
   },
   {
    "duration": 23,
    "start_time": "2022-10-02T13:47:58.285Z"
   },
   {
    "duration": 1244,
    "start_time": "2022-10-02T13:47:58.310Z"
   },
   {
    "duration": 4,
    "start_time": "2022-10-02T13:47:59.555Z"
   },
   {
    "duration": 8,
    "start_time": "2022-10-02T13:47:59.561Z"
   },
   {
    "duration": 7,
    "start_time": "2022-10-02T13:47:59.571Z"
   },
   {
    "duration": 5,
    "start_time": "2022-10-02T13:47:59.590Z"
   },
   {
    "duration": 26,
    "start_time": "2022-10-02T13:47:59.597Z"
   },
   {
    "duration": 27,
    "start_time": "2022-10-02T13:47:59.625Z"
   },
   {
    "duration": 3,
    "start_time": "2022-10-02T13:47:59.654Z"
   },
   {
    "duration": 32,
    "start_time": "2022-10-02T13:47:59.658Z"
   },
   {
    "duration": 352,
    "start_time": "2022-10-02T13:47:59.692Z"
   },
   {
    "duration": 5,
    "start_time": "2022-10-02T13:48:00.047Z"
   },
   {
    "duration": 193,
    "start_time": "2022-10-02T13:48:00.054Z"
   },
   {
    "duration": 3,
    "start_time": "2022-10-02T13:48:00.249Z"
   },
   {
    "duration": 40,
    "start_time": "2022-10-02T13:48:00.254Z"
   },
   {
    "duration": 853,
    "start_time": "2022-10-02T13:48:00.296Z"
   },
   {
    "duration": 3,
    "start_time": "2022-10-02T13:48:01.151Z"
   },
   {
    "duration": 510,
    "start_time": "2022-10-02T13:48:01.155Z"
   },
   {
    "duration": 8023,
    "start_time": "2022-10-02T13:48:01.667Z"
   },
   {
    "duration": 5,
    "start_time": "2022-10-02T13:48:09.692Z"
   },
   {
    "duration": 7,
    "start_time": "2022-10-02T13:48:09.698Z"
   },
   {
    "duration": 309,
    "start_time": "2022-10-02T13:48:09.707Z"
   },
   {
    "duration": 4,
    "start_time": "2022-10-02T13:48:10.018Z"
   },
   {
    "duration": 12,
    "start_time": "2022-10-02T13:48:10.025Z"
   },
   {
    "duration": 23,
    "start_time": "2022-10-02T13:48:10.039Z"
   },
   {
    "duration": 11,
    "start_time": "2022-10-02T13:48:10.064Z"
   },
   {
    "duration": 26,
    "start_time": "2022-10-02T13:48:10.077Z"
   },
   {
    "duration": 21,
    "start_time": "2022-10-02T13:48:10.106Z"
   },
   {
    "duration": 10,
    "start_time": "2022-10-02T13:48:10.128Z"
   },
   {
    "duration": 14,
    "start_time": "2022-10-02T13:48:10.140Z"
   },
   {
    "duration": 23,
    "start_time": "2022-10-02T13:48:10.155Z"
   },
   {
    "duration": 138,
    "start_time": "2022-10-02T13:48:10.180Z"
   },
   {
    "duration": 0,
    "start_time": "2022-10-02T13:48:10.320Z"
   },
   {
    "duration": 3,
    "start_time": "2022-10-02T13:48:47.485Z"
   },
   {
    "duration": 3,
    "start_time": "2022-10-02T13:48:48.393Z"
   },
   {
    "duration": 7,
    "start_time": "2022-10-02T13:48:49.555Z"
   },
   {
    "duration": 8,
    "start_time": "2022-10-02T13:49:31.905Z"
   },
   {
    "duration": 3,
    "start_time": "2022-10-02T13:49:39.935Z"
   },
   {
    "duration": 6,
    "start_time": "2022-10-02T13:50:20.451Z"
   }
  ],
  "kernelspec": {
   "display_name": "Python 3 (ipykernel)",
   "language": "python",
   "name": "python3"
  },
  "language_info": {
   "codemirror_mode": {
    "name": "ipython",
    "version": 3
   },
   "file_extension": ".py",
   "mimetype": "text/x-python",
   "name": "python",
   "nbconvert_exporter": "python",
   "pygments_lexer": "ipython3",
   "version": "3.9.12"
  },
  "toc": {
   "base_numbering": 1,
   "nav_menu": {},
   "number_sections": true,
   "sideBar": true,
   "skip_h1_title": true,
   "title_cell": "Table of Contents",
   "title_sidebar": "Contents",
   "toc_cell": false,
   "toc_position": {},
   "toc_section_display": true,
   "toc_window_display": false
  }
 },
 "nbformat": 4,
 "nbformat_minor": 2
}
