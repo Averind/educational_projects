{
 "cells": [
  {
   "cell_type": "markdown",
   "metadata": {},
   "source": [
    "# Машинное обучение в добыче золота: предсказание коэффициента восстановления золота из золотосодержащей руды"
   ]
  },
  {
   "cell_type": "markdown",
   "metadata": {},
   "source": [
    "Компания «Цифры» разрабатывает решения для эффективной работы промышленных предприятий. Компании нужен прототип модели машинного обучения, которая будет предсказывать коэффициент восстановления золота из золотосодержащей руды. Такая модель поможет оптимизировать производство, чтобы не запускать предприятие с убыточными характеристиками.\n",
    "\n",
    "«Цифры» предоставили данные с параметрами добычи и очистки.\n",
    "\n",
    "### Изучение технологического процесса \n",
    "\n",
    "Тема данной работы достаточно сложная, поэтому для понимания проекта необходимо разобраться в сути технологического процесса восстановления золота из руды.\n",
    "\n",
    "Когда добытая руда проходит первичную обработку, получается дроблёная смесь. Её отправляют на флотацию (обогащение) и двухэтапную очистку.\n",
    "\n",
    "1. Флотация\n",
    "- Во флотационную установку подаётся смесь золотосодержащей руды. После обогащения получается черновой концентрат и «отвальные хвосты», то есть остатки продукта с низкой концентрацией ценных металлов.\n",
    "На стабильность этого процесса влияет непостоянное и неоптимальное физико-химическое состояние флотационной пульпы (смеси твёрдых частиц и жидкости).\n",
    "2. Очистка \n",
    "- Черновой концентрат проходит две очистки. На выходе получается финальный концентрат и новые отвальные хвосты.\n",
    "\n",
    "### Метрика оценки качества модели\n",
    "\n",
    "Для решения задачи воспользуемся метрикой sMAPE (Symmetric Mean Absolute Percentage Error) - симметричное среднее абсолютное процентное отклонение. Она одинаково учтет масштаб и целевого признака, и предсказания.\n",
    "\n",
    "sMAPE будет рассчитана отдельно для:\n",
    "- чернового концентрата: rougher.output.recovery\n",
    "- итогового концентрата: final.output.recovery\n",
    "\n",
    "Также введем метрику итогового sMAPE, который будет складываться из 25% sMAPE rougher и 75% sMAPE final."
   ]
  },
  {
   "cell_type": "markdown",
   "metadata": {},
   "source": [
    "## Подготовка данных"
   ]
  },
  {
   "cell_type": "markdown",
   "metadata": {},
   "source": [
    "Импортируем необходимые библиотеки и зададим нужные опции."
   ]
  },
  {
   "cell_type": "code",
   "execution_count": 1,
   "metadata": {},
   "outputs": [],
   "source": [
    "import pandas as pd\n",
    "import numpy as np\n",
    "import matplotlib.pyplot as plt\n",
    "import seaborn as sns\n",
    "import warnings\n",
    "\n",
    "from sklearn.metrics import mean_absolute_error, make_scorer\n",
    "from sklearn.linear_model import LinearRegression\n",
    "from sklearn.ensemble import RandomForestRegressor\n",
    "from sklearn.tree import DecisionTreeRegressor\n",
    "from sklearn.preprocessing import StandardScaler\n",
    "from sklearn.model_selection import GridSearchCV, KFold\n",
    "from sklearn.pipeline import Pipeline\n",
    "\n",
    "pd.set_option('display.max_columns', 100)\n",
    "warnings.simplefilter('ignore')"
   ]
  },
  {
   "cell_type": "markdown",
   "metadata": {},
   "source": [
    "Сохраним данные в датафреймы."
   ]
  },
  {
   "cell_type": "code",
   "execution_count": 2,
   "metadata": {},
   "outputs": [],
   "source": [
    "try:\n",
    "    df_train = pd.read_csv('gold_recovery_train_new.csv')\n",
    "    df_test = pd.read_csv('gold_recovery_test_new.csv')\n",
    "    df_full = pd.read_csv('gold_recovery_full_new.csv')\n",
    "    \n",
    "except:\n",
    "    df_train = pd.read_csv('/datasets/gold_recovery_train_new.csv')\n",
    "    df_test = pd.read_csv('/datasets/gold_recovery_test_new.csv')\n",
    "    df_full = pd.read_csv('/datasets/gold_recovery_full_new.csv')"
   ]
  },
  {
   "cell_type": "markdown",
   "metadata": {},
   "source": [
    "Данные состоят из файлов, полученных из разных источников:\n",
    "\n",
    "- `gold_recovery_train_new.csv` — обучающая выборка;\n",
    "- `gold_recovery_test_new.csv` — тестовая выборка (неполная);\n",
    "- `gold_recovery_full_new.csv` — полные данные.\n",
    "\n",
    "Наименование каждого столбца имеет следующую структуру:\n",
    "- `[этап].[тип_параметра].[название_параметра]`\n",
    "- например: `rougher.input.feed_ag`\n",
    "\n",
    "Ознакомимся с ключами описания полей данных:\n",
    "1. Этап\n",
    "- `rougher` — флотация;\n",
    "- `primary_cleaner` — первичная очистка;\n",
    "- `secondary_cleaner` — вторичная очистка;\n",
    "- `final` — финальные характеристики.\n",
    "\n",
    "2. Тип параметра\n",
    "- `input` — параметры сырья;\n",
    "- `output` — параметры продукта;\n",
    "- `state` — параметры, характеризующие текущее состояние этапа;\n",
    "- `calculation` — расчётные характеристики.\n",
    "\n",
    "3. Технологический процесс (ключи к параметрам)\n",
    "- `Rougher feed` — исходное сырье;\n",
    "- `Rougher additions (или reagent additions)` — флотационные реагенты: Xanthate, Sulphate, Depressant;\n",
    "- `Xanthate` — ксантогенат (промотер, или активатор флотации);\n",
    "- `Sulphate` — сульфат (на данном производстве сульфид натрия);\n",
    "- `Depressant` — депрессант (силикат натрия);\n",
    "- `Rougher process` — флотация;\n",
    "- `Rougher tails` — отвальные хвосты;\n",
    "- `Float banks` — флотационная установка;\n",
    "- `Cleaner process` — очистка;\n",
    "- `Rougher Au` — черновой концентрат золота;\n",
    "- `Final Au` — финальный концентрат золота;\n",
    "- `air amount` — объём воздуха;\n",
    "- `fluid levels` — уровень жидкости;\n",
    "- `feed size` — размер гранул сырья;\n",
    "- `feed rate` — скорость подачи."
   ]
  },
  {
   "cell_type": "markdown",
   "metadata": {},
   "source": [
    "Выведем общую информацию о каждом датафрейме, а также его первые и последние 5 строк."
   ]
  },
  {
   "cell_type": "code",
   "execution_count": 3,
   "metadata": {
    "scrolled": false
   },
   "outputs": [
    {
     "name": "stdout",
     "output_type": "stream",
     "text": [
      "df_train\n",
      "\n",
      "<class 'pandas.core.frame.DataFrame'>\n",
      "RangeIndex: 14149 entries, 0 to 14148\n",
      "Data columns (total 87 columns):\n",
      " #   Column                                              Non-Null Count  Dtype  \n",
      "---  ------                                              --------------  -----  \n",
      " 0   date                                                14149 non-null  object \n",
      " 1   final.output.concentrate_ag                         14148 non-null  float64\n",
      " 2   final.output.concentrate_pb                         14148 non-null  float64\n",
      " 3   final.output.concentrate_sol                        13938 non-null  float64\n",
      " 4   final.output.concentrate_au                         14149 non-null  float64\n",
      " 5   final.output.recovery                               14149 non-null  float64\n",
      " 6   final.output.tail_ag                                14149 non-null  float64\n",
      " 7   final.output.tail_pb                                14049 non-null  float64\n",
      " 8   final.output.tail_sol                               14144 non-null  float64\n",
      " 9   final.output.tail_au                                14149 non-null  float64\n",
      " 10  primary_cleaner.input.sulfate                       14129 non-null  float64\n",
      " 11  primary_cleaner.input.depressant                    14117 non-null  float64\n",
      " 12  primary_cleaner.input.feed_size                     14149 non-null  float64\n",
      " 13  primary_cleaner.input.xanthate                      14049 non-null  float64\n",
      " 14  primary_cleaner.output.concentrate_ag               14149 non-null  float64\n",
      " 15  primary_cleaner.output.concentrate_pb               14063 non-null  float64\n",
      " 16  primary_cleaner.output.concentrate_sol              13863 non-null  float64\n",
      " 17  primary_cleaner.output.concentrate_au               14149 non-null  float64\n",
      " 18  primary_cleaner.output.tail_ag                      14148 non-null  float64\n",
      " 19  primary_cleaner.output.tail_pb                      14134 non-null  float64\n",
      " 20  primary_cleaner.output.tail_sol                     14103 non-null  float64\n",
      " 21  primary_cleaner.output.tail_au                      14149 non-null  float64\n",
      " 22  primary_cleaner.state.floatbank8_a_air              14145 non-null  float64\n",
      " 23  primary_cleaner.state.floatbank8_a_level            14148 non-null  float64\n",
      " 24  primary_cleaner.state.floatbank8_b_air              14145 non-null  float64\n",
      " 25  primary_cleaner.state.floatbank8_b_level            14148 non-null  float64\n",
      " 26  primary_cleaner.state.floatbank8_c_air              14147 non-null  float64\n",
      " 27  primary_cleaner.state.floatbank8_c_level            14148 non-null  float64\n",
      " 28  primary_cleaner.state.floatbank8_d_air              14146 non-null  float64\n",
      " 29  primary_cleaner.state.floatbank8_d_level            14148 non-null  float64\n",
      " 30  rougher.calculation.sulfate_to_au_concentrate       14148 non-null  float64\n",
      " 31  rougher.calculation.floatbank10_sulfate_to_au_feed  14148 non-null  float64\n",
      " 32  rougher.calculation.floatbank11_sulfate_to_au_feed  14148 non-null  float64\n",
      " 33  rougher.calculation.au_pb_ratio                     14149 non-null  float64\n",
      " 34  rougher.input.feed_ag                               14149 non-null  float64\n",
      " 35  rougher.input.feed_pb                               14049 non-null  float64\n",
      " 36  rougher.input.feed_rate                             14141 non-null  float64\n",
      " 37  rougher.input.feed_size                             14005 non-null  float64\n",
      " 38  rougher.input.feed_sol                              14071 non-null  float64\n",
      " 39  rougher.input.feed_au                               14149 non-null  float64\n",
      " 40  rougher.input.floatbank10_sulfate                   14120 non-null  float64\n",
      " 41  rougher.input.floatbank10_xanthate                  14141 non-null  float64\n",
      " 42  rougher.input.floatbank11_sulfate                   14113 non-null  float64\n",
      " 43  rougher.input.floatbank11_xanthate                  13721 non-null  float64\n",
      " 44  rougher.output.concentrate_ag                       14149 non-null  float64\n",
      " 45  rougher.output.concentrate_pb                       14149 non-null  float64\n",
      " 46  rougher.output.concentrate_sol                      14127 non-null  float64\n",
      " 47  rougher.output.concentrate_au                       14149 non-null  float64\n",
      " 48  rougher.output.recovery                             14149 non-null  float64\n",
      " 49  rougher.output.tail_ag                              14148 non-null  float64\n",
      " 50  rougher.output.tail_pb                              14149 non-null  float64\n",
      " 51  rougher.output.tail_sol                             14149 non-null  float64\n",
      " 52  rougher.output.tail_au                              14149 non-null  float64\n",
      " 53  rougher.state.floatbank10_a_air                     14148 non-null  float64\n",
      " 54  rougher.state.floatbank10_a_level                   14148 non-null  float64\n",
      " 55  rougher.state.floatbank10_b_air                     14148 non-null  float64\n",
      " 56  rougher.state.floatbank10_b_level                   14148 non-null  float64\n",
      " 57  rougher.state.floatbank10_c_air                     14148 non-null  float64\n",
      " 58  rougher.state.floatbank10_c_level                   14148 non-null  float64\n",
      " 59  rougher.state.floatbank10_d_air                     14149 non-null  float64\n",
      " 60  rougher.state.floatbank10_d_level                   14149 non-null  float64\n",
      " 61  rougher.state.floatbank10_e_air                     13713 non-null  float64\n",
      " 62  rougher.state.floatbank10_e_level                   14149 non-null  float64\n",
      " 63  rougher.state.floatbank10_f_air                     14149 non-null  float64\n",
      " 64  rougher.state.floatbank10_f_level                   14149 non-null  float64\n",
      " 65  secondary_cleaner.output.tail_ag                    14147 non-null  float64\n",
      " 66  secondary_cleaner.output.tail_pb                    14139 non-null  float64\n",
      " 67  secondary_cleaner.output.tail_sol                   12544 non-null  float64\n",
      " 68  secondary_cleaner.output.tail_au                    14149 non-null  float64\n",
      " 69  secondary_cleaner.state.floatbank2_a_air            13932 non-null  float64\n",
      " 70  secondary_cleaner.state.floatbank2_a_level          14148 non-null  float64\n",
      " 71  secondary_cleaner.state.floatbank2_b_air            14128 non-null  float64\n",
      " 72  secondary_cleaner.state.floatbank2_b_level          14148 non-null  float64\n",
      " 73  secondary_cleaner.state.floatbank3_a_air            14145 non-null  float64\n",
      " 74  secondary_cleaner.state.floatbank3_a_level          14148 non-null  float64\n",
      " 75  secondary_cleaner.state.floatbank3_b_air            14148 non-null  float64\n",
      " 76  secondary_cleaner.state.floatbank3_b_level          14148 non-null  float64\n",
      " 77  secondary_cleaner.state.floatbank4_a_air            14143 non-null  float64\n",
      " 78  secondary_cleaner.state.floatbank4_a_level          14148 non-null  float64\n",
      " 79  secondary_cleaner.state.floatbank4_b_air            14148 non-null  float64\n",
      " 80  secondary_cleaner.state.floatbank4_b_level          14148 non-null  float64\n",
      " 81  secondary_cleaner.state.floatbank5_a_air            14148 non-null  float64\n",
      " 82  secondary_cleaner.state.floatbank5_a_level          14148 non-null  float64\n",
      " 83  secondary_cleaner.state.floatbank5_b_air            14148 non-null  float64\n",
      " 84  secondary_cleaner.state.floatbank5_b_level          14148 non-null  float64\n",
      " 85  secondary_cleaner.state.floatbank6_a_air            14147 non-null  float64\n",
      " 86  secondary_cleaner.state.floatbank6_a_level          14148 non-null  float64\n",
      "dtypes: float64(86), object(1)\n",
      "memory usage: 9.4+ MB\n",
      "None\n"
     ]
    },
    {
     "data": {
      "text/html": [
       "<div>\n",
       "<style scoped>\n",
       "    .dataframe tbody tr th:only-of-type {\n",
       "        vertical-align: middle;\n",
       "    }\n",
       "\n",
       "    .dataframe tbody tr th {\n",
       "        vertical-align: top;\n",
       "    }\n",
       "\n",
       "    .dataframe thead th {\n",
       "        text-align: right;\n",
       "    }\n",
       "</style>\n",
       "<table border=\"1\" class=\"dataframe\">\n",
       "  <thead>\n",
       "    <tr style=\"text-align: right;\">\n",
       "      <th></th>\n",
       "      <th>date</th>\n",
       "      <th>final.output.concentrate_ag</th>\n",
       "      <th>final.output.concentrate_pb</th>\n",
       "      <th>final.output.concentrate_sol</th>\n",
       "      <th>final.output.concentrate_au</th>\n",
       "      <th>final.output.recovery</th>\n",
       "      <th>final.output.tail_ag</th>\n",
       "      <th>final.output.tail_pb</th>\n",
       "      <th>final.output.tail_sol</th>\n",
       "      <th>final.output.tail_au</th>\n",
       "      <th>primary_cleaner.input.sulfate</th>\n",
       "      <th>primary_cleaner.input.depressant</th>\n",
       "      <th>primary_cleaner.input.feed_size</th>\n",
       "      <th>primary_cleaner.input.xanthate</th>\n",
       "      <th>primary_cleaner.output.concentrate_ag</th>\n",
       "      <th>primary_cleaner.output.concentrate_pb</th>\n",
       "      <th>primary_cleaner.output.concentrate_sol</th>\n",
       "      <th>primary_cleaner.output.concentrate_au</th>\n",
       "      <th>primary_cleaner.output.tail_ag</th>\n",
       "      <th>primary_cleaner.output.tail_pb</th>\n",
       "      <th>primary_cleaner.output.tail_sol</th>\n",
       "      <th>primary_cleaner.output.tail_au</th>\n",
       "      <th>primary_cleaner.state.floatbank8_a_air</th>\n",
       "      <th>primary_cleaner.state.floatbank8_a_level</th>\n",
       "      <th>primary_cleaner.state.floatbank8_b_air</th>\n",
       "      <th>primary_cleaner.state.floatbank8_b_level</th>\n",
       "      <th>primary_cleaner.state.floatbank8_c_air</th>\n",
       "      <th>primary_cleaner.state.floatbank8_c_level</th>\n",
       "      <th>primary_cleaner.state.floatbank8_d_air</th>\n",
       "      <th>primary_cleaner.state.floatbank8_d_level</th>\n",
       "      <th>rougher.calculation.sulfate_to_au_concentrate</th>\n",
       "      <th>rougher.calculation.floatbank10_sulfate_to_au_feed</th>\n",
       "      <th>rougher.calculation.floatbank11_sulfate_to_au_feed</th>\n",
       "      <th>rougher.calculation.au_pb_ratio</th>\n",
       "      <th>rougher.input.feed_ag</th>\n",
       "      <th>rougher.input.feed_pb</th>\n",
       "      <th>rougher.input.feed_rate</th>\n",
       "      <th>rougher.input.feed_size</th>\n",
       "      <th>rougher.input.feed_sol</th>\n",
       "      <th>rougher.input.feed_au</th>\n",
       "      <th>rougher.input.floatbank10_sulfate</th>\n",
       "      <th>rougher.input.floatbank10_xanthate</th>\n",
       "      <th>rougher.input.floatbank11_sulfate</th>\n",
       "      <th>rougher.input.floatbank11_xanthate</th>\n",
       "      <th>rougher.output.concentrate_ag</th>\n",
       "      <th>rougher.output.concentrate_pb</th>\n",
       "      <th>rougher.output.concentrate_sol</th>\n",
       "      <th>rougher.output.concentrate_au</th>\n",
       "      <th>rougher.output.recovery</th>\n",
       "      <th>rougher.output.tail_ag</th>\n",
       "      <th>rougher.output.tail_pb</th>\n",
       "      <th>rougher.output.tail_sol</th>\n",
       "      <th>rougher.output.tail_au</th>\n",
       "      <th>rougher.state.floatbank10_a_air</th>\n",
       "      <th>rougher.state.floatbank10_a_level</th>\n",
       "      <th>rougher.state.floatbank10_b_air</th>\n",
       "      <th>rougher.state.floatbank10_b_level</th>\n",
       "      <th>rougher.state.floatbank10_c_air</th>\n",
       "      <th>rougher.state.floatbank10_c_level</th>\n",
       "      <th>rougher.state.floatbank10_d_air</th>\n",
       "      <th>rougher.state.floatbank10_d_level</th>\n",
       "      <th>rougher.state.floatbank10_e_air</th>\n",
       "      <th>rougher.state.floatbank10_e_level</th>\n",
       "      <th>rougher.state.floatbank10_f_air</th>\n",
       "      <th>rougher.state.floatbank10_f_level</th>\n",
       "      <th>secondary_cleaner.output.tail_ag</th>\n",
       "      <th>secondary_cleaner.output.tail_pb</th>\n",
       "      <th>secondary_cleaner.output.tail_sol</th>\n",
       "      <th>secondary_cleaner.output.tail_au</th>\n",
       "      <th>secondary_cleaner.state.floatbank2_a_air</th>\n",
       "      <th>secondary_cleaner.state.floatbank2_a_level</th>\n",
       "      <th>secondary_cleaner.state.floatbank2_b_air</th>\n",
       "      <th>secondary_cleaner.state.floatbank2_b_level</th>\n",
       "      <th>secondary_cleaner.state.floatbank3_a_air</th>\n",
       "      <th>secondary_cleaner.state.floatbank3_a_level</th>\n",
       "      <th>secondary_cleaner.state.floatbank3_b_air</th>\n",
       "      <th>secondary_cleaner.state.floatbank3_b_level</th>\n",
       "      <th>secondary_cleaner.state.floatbank4_a_air</th>\n",
       "      <th>secondary_cleaner.state.floatbank4_a_level</th>\n",
       "      <th>secondary_cleaner.state.floatbank4_b_air</th>\n",
       "      <th>secondary_cleaner.state.floatbank4_b_level</th>\n",
       "      <th>secondary_cleaner.state.floatbank5_a_air</th>\n",
       "      <th>secondary_cleaner.state.floatbank5_a_level</th>\n",
       "      <th>secondary_cleaner.state.floatbank5_b_air</th>\n",
       "      <th>secondary_cleaner.state.floatbank5_b_level</th>\n",
       "      <th>secondary_cleaner.state.floatbank6_a_air</th>\n",
       "      <th>secondary_cleaner.state.floatbank6_a_level</th>\n",
       "    </tr>\n",
       "  </thead>\n",
       "  <tbody>\n",
       "    <tr>\n",
       "      <th>0</th>\n",
       "      <td>2016-01-15 00:00:00</td>\n",
       "      <td>6.055403</td>\n",
       "      <td>9.889648</td>\n",
       "      <td>5.507324</td>\n",
       "      <td>42.192020</td>\n",
       "      <td>70.541216</td>\n",
       "      <td>10.411962</td>\n",
       "      <td>0.895447</td>\n",
       "      <td>16.904297</td>\n",
       "      <td>2.143149</td>\n",
       "      <td>127.092003</td>\n",
       "      <td>10.128295</td>\n",
       "      <td>7.25</td>\n",
       "      <td>0.988759</td>\n",
       "      <td>8.547551</td>\n",
       "      <td>10.389648</td>\n",
       "      <td>19.529297</td>\n",
       "      <td>34.174427</td>\n",
       "      <td>14.936526</td>\n",
       "      <td>2.534912</td>\n",
       "      <td>7.476074</td>\n",
       "      <td>2.106679</td>\n",
       "      <td>1549.775757</td>\n",
       "      <td>-498.912140</td>\n",
       "      <td>1551.434204</td>\n",
       "      <td>-516.403442</td>\n",
       "      <td>1549.873901</td>\n",
       "      <td>-498.666595</td>\n",
       "      <td>1554.367432</td>\n",
       "      <td>-493.428131</td>\n",
       "      <td>41885.707031</td>\n",
       "      <td>3481.779053</td>\n",
       "      <td>3520.337158</td>\n",
       "      <td>2.838687</td>\n",
       "      <td>6.100378</td>\n",
       "      <td>2.284912</td>\n",
       "      <td>523.546326</td>\n",
       "      <td>55.486599</td>\n",
       "      <td>36.808594</td>\n",
       "      <td>6.486150</td>\n",
       "      <td>11.986616</td>\n",
       "      <td>6.007990</td>\n",
       "      <td>11.836743</td>\n",
       "      <td>6.005818</td>\n",
       "      <td>11.500771</td>\n",
       "      <td>7.101074</td>\n",
       "      <td>28.029297</td>\n",
       "      <td>19.793808</td>\n",
       "      <td>87.107763</td>\n",
       "      <td>5.008018</td>\n",
       "      <td>0.508728</td>\n",
       "      <td>19.154297</td>\n",
       "      <td>1.170244</td>\n",
       "      <td>999.706909</td>\n",
       "      <td>-404.066986</td>\n",
       "      <td>1603.011353</td>\n",
       "      <td>-434.715027</td>\n",
       "      <td>1602.375000</td>\n",
       "      <td>-442.204468</td>\n",
       "      <td>1598.937256</td>\n",
       "      <td>-451.294128</td>\n",
       "      <td>1404.472046</td>\n",
       "      <td>-455.462982</td>\n",
       "      <td>1416.354980</td>\n",
       "      <td>-451.939636</td>\n",
       "      <td>14.500184</td>\n",
       "      <td>4.694824</td>\n",
       "      <td>8.764648</td>\n",
       "      <td>2.606185</td>\n",
       "      <td>25.853109</td>\n",
       "      <td>-498.526489</td>\n",
       "      <td>23.893660</td>\n",
       "      <td>-501.406281</td>\n",
       "      <td>23.961798</td>\n",
       "      <td>-495.262817</td>\n",
       "      <td>21.940409</td>\n",
       "      <td>-499.340973</td>\n",
       "      <td>14.016835</td>\n",
       "      <td>-502.488007</td>\n",
       "      <td>12.099931</td>\n",
       "      <td>-504.715942</td>\n",
       "      <td>9.925633</td>\n",
       "      <td>-498.310211</td>\n",
       "      <td>8.079666</td>\n",
       "      <td>-500.470978</td>\n",
       "      <td>14.151341</td>\n",
       "      <td>-605.841980</td>\n",
       "    </tr>\n",
       "    <tr>\n",
       "      <th>1</th>\n",
       "      <td>2016-01-15 01:00:00</td>\n",
       "      <td>6.029369</td>\n",
       "      <td>9.968944</td>\n",
       "      <td>5.257781</td>\n",
       "      <td>42.701629</td>\n",
       "      <td>69.266198</td>\n",
       "      <td>10.462676</td>\n",
       "      <td>0.927452</td>\n",
       "      <td>16.634514</td>\n",
       "      <td>2.224930</td>\n",
       "      <td>125.629232</td>\n",
       "      <td>10.296251</td>\n",
       "      <td>7.25</td>\n",
       "      <td>1.002663</td>\n",
       "      <td>8.558743</td>\n",
       "      <td>10.497069</td>\n",
       "      <td>19.369147</td>\n",
       "      <td>34.118526</td>\n",
       "      <td>16.250511</td>\n",
       "      <td>3.049646</td>\n",
       "      <td>6.733907</td>\n",
       "      <td>2.353017</td>\n",
       "      <td>1576.166671</td>\n",
       "      <td>-500.904965</td>\n",
       "      <td>1575.950626</td>\n",
       "      <td>-499.865889</td>\n",
       "      <td>1575.994189</td>\n",
       "      <td>-499.315107</td>\n",
       "      <td>1574.479259</td>\n",
       "      <td>-498.931665</td>\n",
       "      <td>42050.861809</td>\n",
       "      <td>3498.370979</td>\n",
       "      <td>3489.981857</td>\n",
       "      <td>2.858998</td>\n",
       "      <td>6.161113</td>\n",
       "      <td>2.266033</td>\n",
       "      <td>525.290581</td>\n",
       "      <td>57.278666</td>\n",
       "      <td>35.753385</td>\n",
       "      <td>6.478583</td>\n",
       "      <td>11.971193</td>\n",
       "      <td>6.005766</td>\n",
       "      <td>11.996163</td>\n",
       "      <td>6.012594</td>\n",
       "      <td>11.615865</td>\n",
       "      <td>7.278807</td>\n",
       "      <td>28.067063</td>\n",
       "      <td>20.050975</td>\n",
       "      <td>86.843261</td>\n",
       "      <td>4.955378</td>\n",
       "      <td>0.536689</td>\n",
       "      <td>18.965234</td>\n",
       "      <td>1.184827</td>\n",
       "      <td>1000.286398</td>\n",
       "      <td>-400.065196</td>\n",
       "      <td>1600.754587</td>\n",
       "      <td>-449.953435</td>\n",
       "      <td>1600.479580</td>\n",
       "      <td>-449.830646</td>\n",
       "      <td>1600.527589</td>\n",
       "      <td>-449.953649</td>\n",
       "      <td>1399.227084</td>\n",
       "      <td>-450.869848</td>\n",
       "      <td>1399.719514</td>\n",
       "      <td>-450.119001</td>\n",
       "      <td>14.265474</td>\n",
       "      <td>4.592547</td>\n",
       "      <td>9.001494</td>\n",
       "      <td>2.488248</td>\n",
       "      <td>25.880539</td>\n",
       "      <td>-499.989656</td>\n",
       "      <td>23.889530</td>\n",
       "      <td>-500.372428</td>\n",
       "      <td>23.970550</td>\n",
       "      <td>-500.085473</td>\n",
       "      <td>22.085714</td>\n",
       "      <td>-499.446897</td>\n",
       "      <td>13.992281</td>\n",
       "      <td>-505.503262</td>\n",
       "      <td>11.950531</td>\n",
       "      <td>-501.331529</td>\n",
       "      <td>10.039245</td>\n",
       "      <td>-500.169983</td>\n",
       "      <td>7.984757</td>\n",
       "      <td>-500.582168</td>\n",
       "      <td>13.998353</td>\n",
       "      <td>-599.787184</td>\n",
       "    </tr>\n",
       "    <tr>\n",
       "      <th>2</th>\n",
       "      <td>2016-01-15 02:00:00</td>\n",
       "      <td>6.055926</td>\n",
       "      <td>10.213995</td>\n",
       "      <td>5.383759</td>\n",
       "      <td>42.657501</td>\n",
       "      <td>68.116445</td>\n",
       "      <td>10.507046</td>\n",
       "      <td>0.953716</td>\n",
       "      <td>16.208849</td>\n",
       "      <td>2.257889</td>\n",
       "      <td>123.819808</td>\n",
       "      <td>11.316280</td>\n",
       "      <td>7.25</td>\n",
       "      <td>0.991265</td>\n",
       "      <td>8.603505</td>\n",
       "      <td>10.354494</td>\n",
       "      <td>19.167579</td>\n",
       "      <td>33.969464</td>\n",
       "      <td>16.491823</td>\n",
       "      <td>3.124664</td>\n",
       "      <td>6.471768</td>\n",
       "      <td>2.416800</td>\n",
       "      <td>1601.556163</td>\n",
       "      <td>-499.997791</td>\n",
       "      <td>1600.386685</td>\n",
       "      <td>-500.607762</td>\n",
       "      <td>1602.003542</td>\n",
       "      <td>-500.870069</td>\n",
       "      <td>1599.541515</td>\n",
       "      <td>-499.827444</td>\n",
       "      <td>42018.101184</td>\n",
       "      <td>3495.348910</td>\n",
       "      <td>3502.359819</td>\n",
       "      <td>2.945989</td>\n",
       "      <td>6.116455</td>\n",
       "      <td>2.159622</td>\n",
       "      <td>530.026610</td>\n",
       "      <td>57.510649</td>\n",
       "      <td>35.971630</td>\n",
       "      <td>6.362222</td>\n",
       "      <td>11.920603</td>\n",
       "      <td>6.197377</td>\n",
       "      <td>11.920305</td>\n",
       "      <td>6.204633</td>\n",
       "      <td>11.695753</td>\n",
       "      <td>7.216833</td>\n",
       "      <td>27.454037</td>\n",
       "      <td>19.737170</td>\n",
       "      <td>86.842308</td>\n",
       "      <td>4.843460</td>\n",
       "      <td>0.546416</td>\n",
       "      <td>18.808533</td>\n",
       "      <td>1.162562</td>\n",
       "      <td>999.719565</td>\n",
       "      <td>-400.074028</td>\n",
       "      <td>1599.337330</td>\n",
       "      <td>-450.008530</td>\n",
       "      <td>1599.672797</td>\n",
       "      <td>-449.954491</td>\n",
       "      <td>1599.849325</td>\n",
       "      <td>-449.954185</td>\n",
       "      <td>1399.180945</td>\n",
       "      <td>-449.937588</td>\n",
       "      <td>1400.316682</td>\n",
       "      <td>-450.527147</td>\n",
       "      <td>14.115662</td>\n",
       "      <td>4.624775</td>\n",
       "      <td>8.842896</td>\n",
       "      <td>2.458187</td>\n",
       "      <td>26.005245</td>\n",
       "      <td>-499.929616</td>\n",
       "      <td>23.886657</td>\n",
       "      <td>-499.951928</td>\n",
       "      <td>23.913535</td>\n",
       "      <td>-499.442343</td>\n",
       "      <td>23.957717</td>\n",
       "      <td>-499.901982</td>\n",
       "      <td>14.015015</td>\n",
       "      <td>-502.520901</td>\n",
       "      <td>11.912783</td>\n",
       "      <td>-501.133383</td>\n",
       "      <td>10.070913</td>\n",
       "      <td>-500.129135</td>\n",
       "      <td>8.013877</td>\n",
       "      <td>-500.517572</td>\n",
       "      <td>14.028663</td>\n",
       "      <td>-601.427363</td>\n",
       "    </tr>\n",
       "    <tr>\n",
       "      <th>3</th>\n",
       "      <td>2016-01-15 03:00:00</td>\n",
       "      <td>6.047977</td>\n",
       "      <td>9.977019</td>\n",
       "      <td>4.858634</td>\n",
       "      <td>42.689819</td>\n",
       "      <td>68.347543</td>\n",
       "      <td>10.422762</td>\n",
       "      <td>0.883763</td>\n",
       "      <td>16.532835</td>\n",
       "      <td>2.146849</td>\n",
       "      <td>122.270188</td>\n",
       "      <td>11.322140</td>\n",
       "      <td>7.25</td>\n",
       "      <td>0.996739</td>\n",
       "      <td>7.221879</td>\n",
       "      <td>8.496563</td>\n",
       "      <td>15.978538</td>\n",
       "      <td>28.260743</td>\n",
       "      <td>16.024359</td>\n",
       "      <td>2.960362</td>\n",
       "      <td>6.843791</td>\n",
       "      <td>2.262051</td>\n",
       "      <td>1599.968720</td>\n",
       "      <td>-500.951778</td>\n",
       "      <td>1600.659236</td>\n",
       "      <td>-499.677094</td>\n",
       "      <td>1600.304144</td>\n",
       "      <td>-500.727997</td>\n",
       "      <td>1600.449520</td>\n",
       "      <td>-500.052575</td>\n",
       "      <td>42029.447991</td>\n",
       "      <td>3498.578313</td>\n",
       "      <td>3499.162912</td>\n",
       "      <td>3.002340</td>\n",
       "      <td>6.043309</td>\n",
       "      <td>2.037807</td>\n",
       "      <td>542.590390</td>\n",
       "      <td>57.792734</td>\n",
       "      <td>36.862241</td>\n",
       "      <td>6.118189</td>\n",
       "      <td>11.630094</td>\n",
       "      <td>6.203177</td>\n",
       "      <td>11.692450</td>\n",
       "      <td>6.196578</td>\n",
       "      <td>11.915047</td>\n",
       "      <td>7.175616</td>\n",
       "      <td>27.341277</td>\n",
       "      <td>19.320810</td>\n",
       "      <td>87.226430</td>\n",
       "      <td>4.655288</td>\n",
       "      <td>0.542525</td>\n",
       "      <td>19.330200</td>\n",
       "      <td>1.079755</td>\n",
       "      <td>999.814770</td>\n",
       "      <td>-400.200179</td>\n",
       "      <td>1600.059442</td>\n",
       "      <td>-450.619948</td>\n",
       "      <td>1600.012842</td>\n",
       "      <td>-449.910497</td>\n",
       "      <td>1597.725177</td>\n",
       "      <td>-450.130127</td>\n",
       "      <td>1400.943157</td>\n",
       "      <td>-450.030142</td>\n",
       "      <td>1400.234743</td>\n",
       "      <td>-449.790835</td>\n",
       "      <td>13.732071</td>\n",
       "      <td>4.482453</td>\n",
       "      <td>9.122857</td>\n",
       "      <td>2.322062</td>\n",
       "      <td>25.942508</td>\n",
       "      <td>-499.176749</td>\n",
       "      <td>23.955516</td>\n",
       "      <td>-499.848796</td>\n",
       "      <td>23.966838</td>\n",
       "      <td>-500.008812</td>\n",
       "      <td>23.954443</td>\n",
       "      <td>-499.944710</td>\n",
       "      <td>14.036510</td>\n",
       "      <td>-500.857308</td>\n",
       "      <td>11.999550</td>\n",
       "      <td>-501.193686</td>\n",
       "      <td>9.970366</td>\n",
       "      <td>-499.201640</td>\n",
       "      <td>7.977324</td>\n",
       "      <td>-500.255908</td>\n",
       "      <td>14.005551</td>\n",
       "      <td>-599.996129</td>\n",
       "    </tr>\n",
       "    <tr>\n",
       "      <th>4</th>\n",
       "      <td>2016-01-15 04:00:00</td>\n",
       "      <td>6.148599</td>\n",
       "      <td>10.142511</td>\n",
       "      <td>4.939416</td>\n",
       "      <td>42.774141</td>\n",
       "      <td>66.927016</td>\n",
       "      <td>10.360302</td>\n",
       "      <td>0.792826</td>\n",
       "      <td>16.525686</td>\n",
       "      <td>2.055292</td>\n",
       "      <td>117.988169</td>\n",
       "      <td>11.913613</td>\n",
       "      <td>7.25</td>\n",
       "      <td>1.009869</td>\n",
       "      <td>9.089428</td>\n",
       "      <td>9.986786</td>\n",
       "      <td>19.199864</td>\n",
       "      <td>33.044932</td>\n",
       "      <td>16.480185</td>\n",
       "      <td>3.112100</td>\n",
       "      <td>6.550154</td>\n",
       "      <td>2.277073</td>\n",
       "      <td>1601.339707</td>\n",
       "      <td>-498.975456</td>\n",
       "      <td>1601.437854</td>\n",
       "      <td>-500.323246</td>\n",
       "      <td>1599.581894</td>\n",
       "      <td>-500.888152</td>\n",
       "      <td>1602.649541</td>\n",
       "      <td>-500.593010</td>\n",
       "      <td>42125.354245</td>\n",
       "      <td>3494.800771</td>\n",
       "      <td>3506.679315</td>\n",
       "      <td>3.169615</td>\n",
       "      <td>6.060915</td>\n",
       "      <td>1.786875</td>\n",
       "      <td>540.531893</td>\n",
       "      <td>56.047189</td>\n",
       "      <td>34.347666</td>\n",
       "      <td>5.663707</td>\n",
       "      <td>10.957755</td>\n",
       "      <td>6.198826</td>\n",
       "      <td>10.960521</td>\n",
       "      <td>6.194897</td>\n",
       "      <td>12.411054</td>\n",
       "      <td>7.240205</td>\n",
       "      <td>27.041023</td>\n",
       "      <td>19.216101</td>\n",
       "      <td>86.688794</td>\n",
       "      <td>4.552800</td>\n",
       "      <td>0.515438</td>\n",
       "      <td>19.267422</td>\n",
       "      <td>1.012642</td>\n",
       "      <td>999.678690</td>\n",
       "      <td>-399.752729</td>\n",
       "      <td>1600.208824</td>\n",
       "      <td>-449.599614</td>\n",
       "      <td>1600.357732</td>\n",
       "      <td>-450.034364</td>\n",
       "      <td>1599.759049</td>\n",
       "      <td>-449.909799</td>\n",
       "      <td>1401.560902</td>\n",
       "      <td>-448.877187</td>\n",
       "      <td>1401.160227</td>\n",
       "      <td>-450.407128</td>\n",
       "      <td>14.079996</td>\n",
       "      <td>4.470737</td>\n",
       "      <td>8.871028</td>\n",
       "      <td>2.330448</td>\n",
       "      <td>26.024787</td>\n",
       "      <td>-500.279091</td>\n",
       "      <td>23.955345</td>\n",
       "      <td>-500.593614</td>\n",
       "      <td>23.985703</td>\n",
       "      <td>-500.083811</td>\n",
       "      <td>23.958945</td>\n",
       "      <td>-499.990309</td>\n",
       "      <td>14.027298</td>\n",
       "      <td>-499.838632</td>\n",
       "      <td>11.953070</td>\n",
       "      <td>-501.053894</td>\n",
       "      <td>9.925709</td>\n",
       "      <td>-501.686727</td>\n",
       "      <td>7.894242</td>\n",
       "      <td>-500.356035</td>\n",
       "      <td>13.996647</td>\n",
       "      <td>-601.496691</td>\n",
       "    </tr>\n",
       "    <tr>\n",
       "      <th>...</th>\n",
       "      <td>...</td>\n",
       "      <td>...</td>\n",
       "      <td>...</td>\n",
       "      <td>...</td>\n",
       "      <td>...</td>\n",
       "      <td>...</td>\n",
       "      <td>...</td>\n",
       "      <td>...</td>\n",
       "      <td>...</td>\n",
       "      <td>...</td>\n",
       "      <td>...</td>\n",
       "      <td>...</td>\n",
       "      <td>...</td>\n",
       "      <td>...</td>\n",
       "      <td>...</td>\n",
       "      <td>...</td>\n",
       "      <td>...</td>\n",
       "      <td>...</td>\n",
       "      <td>...</td>\n",
       "      <td>...</td>\n",
       "      <td>...</td>\n",
       "      <td>...</td>\n",
       "      <td>...</td>\n",
       "      <td>...</td>\n",
       "      <td>...</td>\n",
       "      <td>...</td>\n",
       "      <td>...</td>\n",
       "      <td>...</td>\n",
       "      <td>...</td>\n",
       "      <td>...</td>\n",
       "      <td>...</td>\n",
       "      <td>...</td>\n",
       "      <td>...</td>\n",
       "      <td>...</td>\n",
       "      <td>...</td>\n",
       "      <td>...</td>\n",
       "      <td>...</td>\n",
       "      <td>...</td>\n",
       "      <td>...</td>\n",
       "      <td>...</td>\n",
       "      <td>...</td>\n",
       "      <td>...</td>\n",
       "      <td>...</td>\n",
       "      <td>...</td>\n",
       "      <td>...</td>\n",
       "      <td>...</td>\n",
       "      <td>...</td>\n",
       "      <td>...</td>\n",
       "      <td>...</td>\n",
       "      <td>...</td>\n",
       "      <td>...</td>\n",
       "      <td>...</td>\n",
       "      <td>...</td>\n",
       "      <td>...</td>\n",
       "      <td>...</td>\n",
       "      <td>...</td>\n",
       "      <td>...</td>\n",
       "      <td>...</td>\n",
       "      <td>...</td>\n",
       "      <td>...</td>\n",
       "      <td>...</td>\n",
       "      <td>...</td>\n",
       "      <td>...</td>\n",
       "      <td>...</td>\n",
       "      <td>...</td>\n",
       "      <td>...</td>\n",
       "      <td>...</td>\n",
       "      <td>...</td>\n",
       "      <td>...</td>\n",
       "      <td>...</td>\n",
       "      <td>...</td>\n",
       "      <td>...</td>\n",
       "      <td>...</td>\n",
       "      <td>...</td>\n",
       "      <td>...</td>\n",
       "      <td>...</td>\n",
       "      <td>...</td>\n",
       "      <td>...</td>\n",
       "      <td>...</td>\n",
       "      <td>...</td>\n",
       "      <td>...</td>\n",
       "      <td>...</td>\n",
       "      <td>...</td>\n",
       "      <td>...</td>\n",
       "      <td>...</td>\n",
       "      <td>...</td>\n",
       "      <td>...</td>\n",
       "    </tr>\n",
       "    <tr>\n",
       "      <th>14144</th>\n",
       "      <td>2018-08-18 06:59:59</td>\n",
       "      <td>3.224920</td>\n",
       "      <td>11.356233</td>\n",
       "      <td>6.803482</td>\n",
       "      <td>46.713954</td>\n",
       "      <td>73.755150</td>\n",
       "      <td>8.769645</td>\n",
       "      <td>3.141541</td>\n",
       "      <td>10.403181</td>\n",
       "      <td>1.529220</td>\n",
       "      <td>123.381787</td>\n",
       "      <td>8.028927</td>\n",
       "      <td>6.50</td>\n",
       "      <td>1.304232</td>\n",
       "      <td>6.559174</td>\n",
       "      <td>12.445966</td>\n",
       "      <td>7.056338</td>\n",
       "      <td>32.940215</td>\n",
       "      <td>22.854592</td>\n",
       "      <td>6.531541</td>\n",
       "      <td>3.934320</td>\n",
       "      <td>2.314352</td>\n",
       "      <td>1648.421193</td>\n",
       "      <td>-400.382169</td>\n",
       "      <td>1648.742005</td>\n",
       "      <td>-400.359661</td>\n",
       "      <td>1648.578230</td>\n",
       "      <td>-399.363624</td>\n",
       "      <td>1648.833984</td>\n",
       "      <td>-399.669220</td>\n",
       "      <td>45912.942619</td>\n",
       "      <td>2497.652954</td>\n",
       "      <td>2499.177950</td>\n",
       "      <td>1.155559</td>\n",
       "      <td>6.091855</td>\n",
       "      <td>4.617558</td>\n",
       "      <td>560.889077</td>\n",
       "      <td>85.718304</td>\n",
       "      <td>37.369774</td>\n",
       "      <td>5.335862</td>\n",
       "      <td>7.762770</td>\n",
       "      <td>9.158609</td>\n",
       "      <td>7.766744</td>\n",
       "      <td>9.156069</td>\n",
       "      <td>11.124896</td>\n",
       "      <td>10.984003</td>\n",
       "      <td>30.068876</td>\n",
       "      <td>18.603550</td>\n",
       "      <td>89.574376</td>\n",
       "      <td>4.207261</td>\n",
       "      <td>0.612935</td>\n",
       "      <td>16.666590</td>\n",
       "      <td>0.748633</td>\n",
       "      <td>1199.245914</td>\n",
       "      <td>-300.845518</td>\n",
       "      <td>1149.807890</td>\n",
       "      <td>-498.789721</td>\n",
       "      <td>1047.963596</td>\n",
       "      <td>-498.413079</td>\n",
       "      <td>946.640977</td>\n",
       "      <td>-499.152477</td>\n",
       "      <td>849.664935</td>\n",
       "      <td>-499.214461</td>\n",
       "      <td>849.758091</td>\n",
       "      <td>-497.448664</td>\n",
       "      <td>0.000000</td>\n",
       "      <td>0.000000</td>\n",
       "      <td>0.000000</td>\n",
       "      <td>0.000000</td>\n",
       "      <td>35.043205</td>\n",
       "      <td>-499.045671</td>\n",
       "      <td>29.906659</td>\n",
       "      <td>-499.979939</td>\n",
       "      <td>26.002402</td>\n",
       "      <td>-499.953431</td>\n",
       "      <td>22.987238</td>\n",
       "      <td>-499.967351</td>\n",
       "      <td>23.031497</td>\n",
       "      <td>-501.167942</td>\n",
       "      <td>20.007571</td>\n",
       "      <td>-499.740028</td>\n",
       "      <td>18.006038</td>\n",
       "      <td>-499.834374</td>\n",
       "      <td>13.001114</td>\n",
       "      <td>-500.155694</td>\n",
       "      <td>20.007840</td>\n",
       "      <td>-501.296428</td>\n",
       "    </tr>\n",
       "    <tr>\n",
       "      <th>14145</th>\n",
       "      <td>2018-08-18 07:59:59</td>\n",
       "      <td>3.195978</td>\n",
       "      <td>11.349355</td>\n",
       "      <td>6.862249</td>\n",
       "      <td>46.866780</td>\n",
       "      <td>69.049291</td>\n",
       "      <td>8.897321</td>\n",
       "      <td>3.130493</td>\n",
       "      <td>10.549470</td>\n",
       "      <td>1.612542</td>\n",
       "      <td>120.878188</td>\n",
       "      <td>7.962636</td>\n",
       "      <td>6.50</td>\n",
       "      <td>1.302419</td>\n",
       "      <td>6.612376</td>\n",
       "      <td>12.623947</td>\n",
       "      <td>7.542264</td>\n",
       "      <td>32.925325</td>\n",
       "      <td>23.002490</td>\n",
       "      <td>6.629725</td>\n",
       "      <td>4.089124</td>\n",
       "      <td>2.462890</td>\n",
       "      <td>1649.820162</td>\n",
       "      <td>-399.930973</td>\n",
       "      <td>1649.357538</td>\n",
       "      <td>-399.721222</td>\n",
       "      <td>1648.656192</td>\n",
       "      <td>-401.195834</td>\n",
       "      <td>1649.725133</td>\n",
       "      <td>-400.636306</td>\n",
       "      <td>46200.099585</td>\n",
       "      <td>2614.403937</td>\n",
       "      <td>2518.550078</td>\n",
       "      <td>1.167342</td>\n",
       "      <td>6.121323</td>\n",
       "      <td>4.144989</td>\n",
       "      <td>559.031805</td>\n",
       "      <td>119.499241</td>\n",
       "      <td>38.591551</td>\n",
       "      <td>4.838619</td>\n",
       "      <td>7.356687</td>\n",
       "      <td>9.304952</td>\n",
       "      <td>7.095508</td>\n",
       "      <td>9.297924</td>\n",
       "      <td>11.425983</td>\n",
       "      <td>10.888213</td>\n",
       "      <td>29.783972</td>\n",
       "      <td>18.441436</td>\n",
       "      <td>87.724007</td>\n",
       "      <td>4.177943</td>\n",
       "      <td>0.650557</td>\n",
       "      <td>16.960649</td>\n",
       "      <td>0.771582</td>\n",
       "      <td>1196.569267</td>\n",
       "      <td>-299.512227</td>\n",
       "      <td>1147.675196</td>\n",
       "      <td>-500.608341</td>\n",
       "      <td>1048.565741</td>\n",
       "      <td>-500.932810</td>\n",
       "      <td>949.773589</td>\n",
       "      <td>-500.023144</td>\n",
       "      <td>848.515225</td>\n",
       "      <td>-500.289405</td>\n",
       "      <td>850.013123</td>\n",
       "      <td>-496.822119</td>\n",
       "      <td>0.000000</td>\n",
       "      <td>0.000000</td>\n",
       "      <td>0.000000</td>\n",
       "      <td>0.000000</td>\n",
       "      <td>35.026062</td>\n",
       "      <td>-499.891945</td>\n",
       "      <td>29.921795</td>\n",
       "      <td>-499.949663</td>\n",
       "      <td>26.031747</td>\n",
       "      <td>-500.384612</td>\n",
       "      <td>22.991058</td>\n",
       "      <td>-500.079590</td>\n",
       "      <td>22.960095</td>\n",
       "      <td>-501.612783</td>\n",
       "      <td>20.035660</td>\n",
       "      <td>-500.251357</td>\n",
       "      <td>17.998535</td>\n",
       "      <td>-500.395178</td>\n",
       "      <td>12.954048</td>\n",
       "      <td>-499.895163</td>\n",
       "      <td>19.968498</td>\n",
       "      <td>-501.041608</td>\n",
       "    </tr>\n",
       "    <tr>\n",
       "      <th>14146</th>\n",
       "      <td>2018-08-18 08:59:59</td>\n",
       "      <td>3.109998</td>\n",
       "      <td>11.434366</td>\n",
       "      <td>6.886013</td>\n",
       "      <td>46.795691</td>\n",
       "      <td>67.002189</td>\n",
       "      <td>8.529606</td>\n",
       "      <td>2.911418</td>\n",
       "      <td>11.115147</td>\n",
       "      <td>1.596616</td>\n",
       "      <td>105.666118</td>\n",
       "      <td>7.955111</td>\n",
       "      <td>6.50</td>\n",
       "      <td>1.315926</td>\n",
       "      <td>7.128896</td>\n",
       "      <td>12.633558</td>\n",
       "      <td>7.941900</td>\n",
       "      <td>31.856742</td>\n",
       "      <td>22.298149</td>\n",
       "      <td>6.278250</td>\n",
       "      <td>4.457457</td>\n",
       "      <td>2.612231</td>\n",
       "      <td>1649.166761</td>\n",
       "      <td>-399.888631</td>\n",
       "      <td>1649.196904</td>\n",
       "      <td>-399.677571</td>\n",
       "      <td>1647.896999</td>\n",
       "      <td>-399.988275</td>\n",
       "      <td>1649.772714</td>\n",
       "      <td>-399.831902</td>\n",
       "      <td>44585.181334</td>\n",
       "      <td>2510.813545</td>\n",
       "      <td>2510.142433</td>\n",
       "      <td>1.125637</td>\n",
       "      <td>5.970515</td>\n",
       "      <td>4.020002</td>\n",
       "      <td>555.682872</td>\n",
       "      <td>122.262690</td>\n",
       "      <td>40.074026</td>\n",
       "      <td>4.525061</td>\n",
       "      <td>6.586020</td>\n",
       "      <td>9.299606</td>\n",
       "      <td>6.584130</td>\n",
       "      <td>9.300133</td>\n",
       "      <td>8.523497</td>\n",
       "      <td>8.955135</td>\n",
       "      <td>22.786467</td>\n",
       "      <td>15.111231</td>\n",
       "      <td>88.890579</td>\n",
       "      <td>4.050010</td>\n",
       "      <td>0.636095</td>\n",
       "      <td>18.323080</td>\n",
       "      <td>0.685059</td>\n",
       "      <td>1204.866639</td>\n",
       "      <td>-299.235675</td>\n",
       "      <td>1149.942902</td>\n",
       "      <td>-501.717903</td>\n",
       "      <td>1049.604390</td>\n",
       "      <td>-500.549053</td>\n",
       "      <td>952.702732</td>\n",
       "      <td>-502.352296</td>\n",
       "      <td>849.016017</td>\n",
       "      <td>-500.505677</td>\n",
       "      <td>850.455635</td>\n",
       "      <td>-506.897968</td>\n",
       "      <td>0.000000</td>\n",
       "      <td>0.000000</td>\n",
       "      <td>0.000000</td>\n",
       "      <td>0.000000</td>\n",
       "      <td>35.003586</td>\n",
       "      <td>-501.083794</td>\n",
       "      <td>29.990533</td>\n",
       "      <td>-611.855898</td>\n",
       "      <td>25.948429</td>\n",
       "      <td>-500.067268</td>\n",
       "      <td>22.968268</td>\n",
       "      <td>-499.839442</td>\n",
       "      <td>23.015718</td>\n",
       "      <td>-501.711599</td>\n",
       "      <td>19.951231</td>\n",
       "      <td>-499.857027</td>\n",
       "      <td>18.019543</td>\n",
       "      <td>-500.451156</td>\n",
       "      <td>13.023431</td>\n",
       "      <td>-499.914391</td>\n",
       "      <td>19.990885</td>\n",
       "      <td>-501.518452</td>\n",
       "    </tr>\n",
       "    <tr>\n",
       "      <th>14147</th>\n",
       "      <td>2018-08-18 09:59:59</td>\n",
       "      <td>3.367241</td>\n",
       "      <td>11.625587</td>\n",
       "      <td>6.799433</td>\n",
       "      <td>46.408188</td>\n",
       "      <td>65.523246</td>\n",
       "      <td>8.777171</td>\n",
       "      <td>2.819214</td>\n",
       "      <td>10.463847</td>\n",
       "      <td>1.602879</td>\n",
       "      <td>98.880538</td>\n",
       "      <td>7.984164</td>\n",
       "      <td>6.50</td>\n",
       "      <td>1.241969</td>\n",
       "      <td>7.490444</td>\n",
       "      <td>12.012378</td>\n",
       "      <td>6.942972</td>\n",
       "      <td>30.770892</td>\n",
       "      <td>22.714656</td>\n",
       "      <td>6.253145</td>\n",
       "      <td>3.557121</td>\n",
       "      <td>2.800648</td>\n",
       "      <td>1646.547763</td>\n",
       "      <td>-398.977083</td>\n",
       "      <td>1648.212240</td>\n",
       "      <td>-400.383265</td>\n",
       "      <td>1648.917387</td>\n",
       "      <td>-399.521344</td>\n",
       "      <td>1651.498591</td>\n",
       "      <td>-399.745329</td>\n",
       "      <td>44084.735708</td>\n",
       "      <td>2507.572494</td>\n",
       "      <td>2507.723361</td>\n",
       "      <td>1.117935</td>\n",
       "      <td>6.048130</td>\n",
       "      <td>3.902537</td>\n",
       "      <td>544.731687</td>\n",
       "      <td>123.742430</td>\n",
       "      <td>39.713906</td>\n",
       "      <td>4.362781</td>\n",
       "      <td>6.210119</td>\n",
       "      <td>9.297709</td>\n",
       "      <td>6.209517</td>\n",
       "      <td>9.297194</td>\n",
       "      <td>11.658799</td>\n",
       "      <td>10.655377</td>\n",
       "      <td>29.052742</td>\n",
       "      <td>17.834772</td>\n",
       "      <td>89.858126</td>\n",
       "      <td>3.902494</td>\n",
       "      <td>0.625609</td>\n",
       "      <td>19.423740</td>\n",
       "      <td>0.567130</td>\n",
       "      <td>1201.904177</td>\n",
       "      <td>-299.907308</td>\n",
       "      <td>1154.087804</td>\n",
       "      <td>-500.036580</td>\n",
       "      <td>1054.009756</td>\n",
       "      <td>-500.237335</td>\n",
       "      <td>944.138793</td>\n",
       "      <td>-496.866953</td>\n",
       "      <td>851.589767</td>\n",
       "      <td>-499.040466</td>\n",
       "      <td>851.345606</td>\n",
       "      <td>-499.122561</td>\n",
       "      <td>0.000000</td>\n",
       "      <td>0.000000</td>\n",
       "      <td>0.000000</td>\n",
       "      <td>0.000000</td>\n",
       "      <td>34.980742</td>\n",
       "      <td>-498.131002</td>\n",
       "      <td>29.968453</td>\n",
       "      <td>-586.013330</td>\n",
       "      <td>25.971737</td>\n",
       "      <td>-499.608392</td>\n",
       "      <td>22.958448</td>\n",
       "      <td>-499.821308</td>\n",
       "      <td>23.024963</td>\n",
       "      <td>-501.153409</td>\n",
       "      <td>20.054122</td>\n",
       "      <td>-500.314711</td>\n",
       "      <td>17.979515</td>\n",
       "      <td>-499.272871</td>\n",
       "      <td>12.992404</td>\n",
       "      <td>-499.976268</td>\n",
       "      <td>20.013986</td>\n",
       "      <td>-500.625471</td>\n",
       "    </tr>\n",
       "    <tr>\n",
       "      <th>14148</th>\n",
       "      <td>2018-08-18 10:59:59</td>\n",
       "      <td>3.598375</td>\n",
       "      <td>11.737832</td>\n",
       "      <td>6.717509</td>\n",
       "      <td>46.299438</td>\n",
       "      <td>70.281454</td>\n",
       "      <td>8.406690</td>\n",
       "      <td>2.517518</td>\n",
       "      <td>10.652193</td>\n",
       "      <td>1.389434</td>\n",
       "      <td>95.248427</td>\n",
       "      <td>8.078957</td>\n",
       "      <td>6.50</td>\n",
       "      <td>1.283045</td>\n",
       "      <td>7.537584</td>\n",
       "      <td>11.650285</td>\n",
       "      <td>6.203553</td>\n",
       "      <td>30.356618</td>\n",
       "      <td>22.735927</td>\n",
       "      <td>6.084287</td>\n",
       "      <td>3.026699</td>\n",
       "      <td>2.708046</td>\n",
       "      <td>1648.759906</td>\n",
       "      <td>-399.862053</td>\n",
       "      <td>1650.135395</td>\n",
       "      <td>-399.957321</td>\n",
       "      <td>1648.831890</td>\n",
       "      <td>-400.586116</td>\n",
       "      <td>1649.464582</td>\n",
       "      <td>-400.673303</td>\n",
       "      <td>44082.866565</td>\n",
       "      <td>2487.477762</td>\n",
       "      <td>2488.626080</td>\n",
       "      <td>1.126367</td>\n",
       "      <td>6.158718</td>\n",
       "      <td>3.875727</td>\n",
       "      <td>555.820208</td>\n",
       "      <td>94.544358</td>\n",
       "      <td>39.135119</td>\n",
       "      <td>4.365491</td>\n",
       "      <td>6.146982</td>\n",
       "      <td>9.308612</td>\n",
       "      <td>6.168939</td>\n",
       "      <td>9.309852</td>\n",
       "      <td>11.959486</td>\n",
       "      <td>10.702148</td>\n",
       "      <td>29.078235</td>\n",
       "      <td>17.804134</td>\n",
       "      <td>89.514960</td>\n",
       "      <td>3.925473</td>\n",
       "      <td>0.638677</td>\n",
       "      <td>19.946673</td>\n",
       "      <td>0.586439</td>\n",
       "      <td>1196.238112</td>\n",
       "      <td>-299.862743</td>\n",
       "      <td>1147.248241</td>\n",
       "      <td>-500.363165</td>\n",
       "      <td>1047.279065</td>\n",
       "      <td>-500.354091</td>\n",
       "      <td>948.756608</td>\n",
       "      <td>-498.439416</td>\n",
       "      <td>849.441918</td>\n",
       "      <td>-499.255503</td>\n",
       "      <td>850.112246</td>\n",
       "      <td>-499.407112</td>\n",
       "      <td>0.000000</td>\n",
       "      <td>0.000000</td>\n",
       "      <td>0.000000</td>\n",
       "      <td>0.000000</td>\n",
       "      <td>34.940919</td>\n",
       "      <td>-500.150510</td>\n",
       "      <td>30.031867</td>\n",
       "      <td>-500.328335</td>\n",
       "      <td>26.033990</td>\n",
       "      <td>-500.147792</td>\n",
       "      <td>22.952306</td>\n",
       "      <td>-500.037678</td>\n",
       "      <td>23.018622</td>\n",
       "      <td>-500.492702</td>\n",
       "      <td>20.020205</td>\n",
       "      <td>-500.220296</td>\n",
       "      <td>17.963512</td>\n",
       "      <td>-499.939490</td>\n",
       "      <td>12.990306</td>\n",
       "      <td>-500.080993</td>\n",
       "      <td>19.990336</td>\n",
       "      <td>-499.191575</td>\n",
       "    </tr>\n",
       "  </tbody>\n",
       "</table>\n",
       "<p>14149 rows × 87 columns</p>\n",
       "</div>"
      ],
      "text/plain": [
       "                      date  final.output.concentrate_ag  \\\n",
       "0      2016-01-15 00:00:00                     6.055403   \n",
       "1      2016-01-15 01:00:00                     6.029369   \n",
       "2      2016-01-15 02:00:00                     6.055926   \n",
       "3      2016-01-15 03:00:00                     6.047977   \n",
       "4      2016-01-15 04:00:00                     6.148599   \n",
       "...                    ...                          ...   \n",
       "14144  2018-08-18 06:59:59                     3.224920   \n",
       "14145  2018-08-18 07:59:59                     3.195978   \n",
       "14146  2018-08-18 08:59:59                     3.109998   \n",
       "14147  2018-08-18 09:59:59                     3.367241   \n",
       "14148  2018-08-18 10:59:59                     3.598375   \n",
       "\n",
       "       final.output.concentrate_pb  final.output.concentrate_sol  \\\n",
       "0                         9.889648                      5.507324   \n",
       "1                         9.968944                      5.257781   \n",
       "2                        10.213995                      5.383759   \n",
       "3                         9.977019                      4.858634   \n",
       "4                        10.142511                      4.939416   \n",
       "...                            ...                           ...   \n",
       "14144                    11.356233                      6.803482   \n",
       "14145                    11.349355                      6.862249   \n",
       "14146                    11.434366                      6.886013   \n",
       "14147                    11.625587                      6.799433   \n",
       "14148                    11.737832                      6.717509   \n",
       "\n",
       "       final.output.concentrate_au  final.output.recovery  \\\n",
       "0                        42.192020              70.541216   \n",
       "1                        42.701629              69.266198   \n",
       "2                        42.657501              68.116445   \n",
       "3                        42.689819              68.347543   \n",
       "4                        42.774141              66.927016   \n",
       "...                            ...                    ...   \n",
       "14144                    46.713954              73.755150   \n",
       "14145                    46.866780              69.049291   \n",
       "14146                    46.795691              67.002189   \n",
       "14147                    46.408188              65.523246   \n",
       "14148                    46.299438              70.281454   \n",
       "\n",
       "       final.output.tail_ag  final.output.tail_pb  final.output.tail_sol  \\\n",
       "0                 10.411962              0.895447              16.904297   \n",
       "1                 10.462676              0.927452              16.634514   \n",
       "2                 10.507046              0.953716              16.208849   \n",
       "3                 10.422762              0.883763              16.532835   \n",
       "4                 10.360302              0.792826              16.525686   \n",
       "...                     ...                   ...                    ...   \n",
       "14144              8.769645              3.141541              10.403181   \n",
       "14145              8.897321              3.130493              10.549470   \n",
       "14146              8.529606              2.911418              11.115147   \n",
       "14147              8.777171              2.819214              10.463847   \n",
       "14148              8.406690              2.517518              10.652193   \n",
       "\n",
       "       final.output.tail_au  primary_cleaner.input.sulfate  \\\n",
       "0                  2.143149                     127.092003   \n",
       "1                  2.224930                     125.629232   \n",
       "2                  2.257889                     123.819808   \n",
       "3                  2.146849                     122.270188   \n",
       "4                  2.055292                     117.988169   \n",
       "...                     ...                            ...   \n",
       "14144              1.529220                     123.381787   \n",
       "14145              1.612542                     120.878188   \n",
       "14146              1.596616                     105.666118   \n",
       "14147              1.602879                      98.880538   \n",
       "14148              1.389434                      95.248427   \n",
       "\n",
       "       primary_cleaner.input.depressant  primary_cleaner.input.feed_size  \\\n",
       "0                             10.128295                             7.25   \n",
       "1                             10.296251                             7.25   \n",
       "2                             11.316280                             7.25   \n",
       "3                             11.322140                             7.25   \n",
       "4                             11.913613                             7.25   \n",
       "...                                 ...                              ...   \n",
       "14144                          8.028927                             6.50   \n",
       "14145                          7.962636                             6.50   \n",
       "14146                          7.955111                             6.50   \n",
       "14147                          7.984164                             6.50   \n",
       "14148                          8.078957                             6.50   \n",
       "\n",
       "       primary_cleaner.input.xanthate  primary_cleaner.output.concentrate_ag  \\\n",
       "0                            0.988759                               8.547551   \n",
       "1                            1.002663                               8.558743   \n",
       "2                            0.991265                               8.603505   \n",
       "3                            0.996739                               7.221879   \n",
       "4                            1.009869                               9.089428   \n",
       "...                               ...                                    ...   \n",
       "14144                        1.304232                               6.559174   \n",
       "14145                        1.302419                               6.612376   \n",
       "14146                        1.315926                               7.128896   \n",
       "14147                        1.241969                               7.490444   \n",
       "14148                        1.283045                               7.537584   \n",
       "\n",
       "       primary_cleaner.output.concentrate_pb  \\\n",
       "0                                  10.389648   \n",
       "1                                  10.497069   \n",
       "2                                  10.354494   \n",
       "3                                   8.496563   \n",
       "4                                   9.986786   \n",
       "...                                      ...   \n",
       "14144                              12.445966   \n",
       "14145                              12.623947   \n",
       "14146                              12.633558   \n",
       "14147                              12.012378   \n",
       "14148                              11.650285   \n",
       "\n",
       "       primary_cleaner.output.concentrate_sol  \\\n",
       "0                                   19.529297   \n",
       "1                                   19.369147   \n",
       "2                                   19.167579   \n",
       "3                                   15.978538   \n",
       "4                                   19.199864   \n",
       "...                                       ...   \n",
       "14144                                7.056338   \n",
       "14145                                7.542264   \n",
       "14146                                7.941900   \n",
       "14147                                6.942972   \n",
       "14148                                6.203553   \n",
       "\n",
       "       primary_cleaner.output.concentrate_au  primary_cleaner.output.tail_ag  \\\n",
       "0                                  34.174427                       14.936526   \n",
       "1                                  34.118526                       16.250511   \n",
       "2                                  33.969464                       16.491823   \n",
       "3                                  28.260743                       16.024359   \n",
       "4                                  33.044932                       16.480185   \n",
       "...                                      ...                             ...   \n",
       "14144                              32.940215                       22.854592   \n",
       "14145                              32.925325                       23.002490   \n",
       "14146                              31.856742                       22.298149   \n",
       "14147                              30.770892                       22.714656   \n",
       "14148                              30.356618                       22.735927   \n",
       "\n",
       "       primary_cleaner.output.tail_pb  primary_cleaner.output.tail_sol  \\\n",
       "0                            2.534912                         7.476074   \n",
       "1                            3.049646                         6.733907   \n",
       "2                            3.124664                         6.471768   \n",
       "3                            2.960362                         6.843791   \n",
       "4                            3.112100                         6.550154   \n",
       "...                               ...                              ...   \n",
       "14144                        6.531541                         3.934320   \n",
       "14145                        6.629725                         4.089124   \n",
       "14146                        6.278250                         4.457457   \n",
       "14147                        6.253145                         3.557121   \n",
       "14148                        6.084287                         3.026699   \n",
       "\n",
       "       primary_cleaner.output.tail_au  primary_cleaner.state.floatbank8_a_air  \\\n",
       "0                            2.106679                             1549.775757   \n",
       "1                            2.353017                             1576.166671   \n",
       "2                            2.416800                             1601.556163   \n",
       "3                            2.262051                             1599.968720   \n",
       "4                            2.277073                             1601.339707   \n",
       "...                               ...                                     ...   \n",
       "14144                        2.314352                             1648.421193   \n",
       "14145                        2.462890                             1649.820162   \n",
       "14146                        2.612231                             1649.166761   \n",
       "14147                        2.800648                             1646.547763   \n",
       "14148                        2.708046                             1648.759906   \n",
       "\n",
       "       primary_cleaner.state.floatbank8_a_level  \\\n",
       "0                                   -498.912140   \n",
       "1                                   -500.904965   \n",
       "2                                   -499.997791   \n",
       "3                                   -500.951778   \n",
       "4                                   -498.975456   \n",
       "...                                         ...   \n",
       "14144                               -400.382169   \n",
       "14145                               -399.930973   \n",
       "14146                               -399.888631   \n",
       "14147                               -398.977083   \n",
       "14148                               -399.862053   \n",
       "\n",
       "       primary_cleaner.state.floatbank8_b_air  \\\n",
       "0                                 1551.434204   \n",
       "1                                 1575.950626   \n",
       "2                                 1600.386685   \n",
       "3                                 1600.659236   \n",
       "4                                 1601.437854   \n",
       "...                                       ...   \n",
       "14144                             1648.742005   \n",
       "14145                             1649.357538   \n",
       "14146                             1649.196904   \n",
       "14147                             1648.212240   \n",
       "14148                             1650.135395   \n",
       "\n",
       "       primary_cleaner.state.floatbank8_b_level  \\\n",
       "0                                   -516.403442   \n",
       "1                                   -499.865889   \n",
       "2                                   -500.607762   \n",
       "3                                   -499.677094   \n",
       "4                                   -500.323246   \n",
       "...                                         ...   \n",
       "14144                               -400.359661   \n",
       "14145                               -399.721222   \n",
       "14146                               -399.677571   \n",
       "14147                               -400.383265   \n",
       "14148                               -399.957321   \n",
       "\n",
       "       primary_cleaner.state.floatbank8_c_air  \\\n",
       "0                                 1549.873901   \n",
       "1                                 1575.994189   \n",
       "2                                 1602.003542   \n",
       "3                                 1600.304144   \n",
       "4                                 1599.581894   \n",
       "...                                       ...   \n",
       "14144                             1648.578230   \n",
       "14145                             1648.656192   \n",
       "14146                             1647.896999   \n",
       "14147                             1648.917387   \n",
       "14148                             1648.831890   \n",
       "\n",
       "       primary_cleaner.state.floatbank8_c_level  \\\n",
       "0                                   -498.666595   \n",
       "1                                   -499.315107   \n",
       "2                                   -500.870069   \n",
       "3                                   -500.727997   \n",
       "4                                   -500.888152   \n",
       "...                                         ...   \n",
       "14144                               -399.363624   \n",
       "14145                               -401.195834   \n",
       "14146                               -399.988275   \n",
       "14147                               -399.521344   \n",
       "14148                               -400.586116   \n",
       "\n",
       "       primary_cleaner.state.floatbank8_d_air  \\\n",
       "0                                 1554.367432   \n",
       "1                                 1574.479259   \n",
       "2                                 1599.541515   \n",
       "3                                 1600.449520   \n",
       "4                                 1602.649541   \n",
       "...                                       ...   \n",
       "14144                             1648.833984   \n",
       "14145                             1649.725133   \n",
       "14146                             1649.772714   \n",
       "14147                             1651.498591   \n",
       "14148                             1649.464582   \n",
       "\n",
       "       primary_cleaner.state.floatbank8_d_level  \\\n",
       "0                                   -493.428131   \n",
       "1                                   -498.931665   \n",
       "2                                   -499.827444   \n",
       "3                                   -500.052575   \n",
       "4                                   -500.593010   \n",
       "...                                         ...   \n",
       "14144                               -399.669220   \n",
       "14145                               -400.636306   \n",
       "14146                               -399.831902   \n",
       "14147                               -399.745329   \n",
       "14148                               -400.673303   \n",
       "\n",
       "       rougher.calculation.sulfate_to_au_concentrate  \\\n",
       "0                                       41885.707031   \n",
       "1                                       42050.861809   \n",
       "2                                       42018.101184   \n",
       "3                                       42029.447991   \n",
       "4                                       42125.354245   \n",
       "...                                              ...   \n",
       "14144                                   45912.942619   \n",
       "14145                                   46200.099585   \n",
       "14146                                   44585.181334   \n",
       "14147                                   44084.735708   \n",
       "14148                                   44082.866565   \n",
       "\n",
       "       rougher.calculation.floatbank10_sulfate_to_au_feed  \\\n",
       "0                                            3481.779053    \n",
       "1                                            3498.370979    \n",
       "2                                            3495.348910    \n",
       "3                                            3498.578313    \n",
       "4                                            3494.800771    \n",
       "...                                                  ...    \n",
       "14144                                        2497.652954    \n",
       "14145                                        2614.403937    \n",
       "14146                                        2510.813545    \n",
       "14147                                        2507.572494    \n",
       "14148                                        2487.477762    \n",
       "\n",
       "       rougher.calculation.floatbank11_sulfate_to_au_feed  \\\n",
       "0                                            3520.337158    \n",
       "1                                            3489.981857    \n",
       "2                                            3502.359819    \n",
       "3                                            3499.162912    \n",
       "4                                            3506.679315    \n",
       "...                                                  ...    \n",
       "14144                                        2499.177950    \n",
       "14145                                        2518.550078    \n",
       "14146                                        2510.142433    \n",
       "14147                                        2507.723361    \n",
       "14148                                        2488.626080    \n",
       "\n",
       "       rougher.calculation.au_pb_ratio  rougher.input.feed_ag  \\\n",
       "0                             2.838687               6.100378   \n",
       "1                             2.858998               6.161113   \n",
       "2                             2.945989               6.116455   \n",
       "3                             3.002340               6.043309   \n",
       "4                             3.169615               6.060915   \n",
       "...                                ...                    ...   \n",
       "14144                         1.155559               6.091855   \n",
       "14145                         1.167342               6.121323   \n",
       "14146                         1.125637               5.970515   \n",
       "14147                         1.117935               6.048130   \n",
       "14148                         1.126367               6.158718   \n",
       "\n",
       "       rougher.input.feed_pb  rougher.input.feed_rate  \\\n",
       "0                   2.284912               523.546326   \n",
       "1                   2.266033               525.290581   \n",
       "2                   2.159622               530.026610   \n",
       "3                   2.037807               542.590390   \n",
       "4                   1.786875               540.531893   \n",
       "...                      ...                      ...   \n",
       "14144               4.617558               560.889077   \n",
       "14145               4.144989               559.031805   \n",
       "14146               4.020002               555.682872   \n",
       "14147               3.902537               544.731687   \n",
       "14148               3.875727               555.820208   \n",
       "\n",
       "       rougher.input.feed_size  rougher.input.feed_sol  rougher.input.feed_au  \\\n",
       "0                    55.486599               36.808594               6.486150   \n",
       "1                    57.278666               35.753385               6.478583   \n",
       "2                    57.510649               35.971630               6.362222   \n",
       "3                    57.792734               36.862241               6.118189   \n",
       "4                    56.047189               34.347666               5.663707   \n",
       "...                        ...                     ...                    ...   \n",
       "14144                85.718304               37.369774               5.335862   \n",
       "14145               119.499241               38.591551               4.838619   \n",
       "14146               122.262690               40.074026               4.525061   \n",
       "14147               123.742430               39.713906               4.362781   \n",
       "14148                94.544358               39.135119               4.365491   \n",
       "\n",
       "       rougher.input.floatbank10_sulfate  rougher.input.floatbank10_xanthate  \\\n",
       "0                              11.986616                            6.007990   \n",
       "1                              11.971193                            6.005766   \n",
       "2                              11.920603                            6.197377   \n",
       "3                              11.630094                            6.203177   \n",
       "4                              10.957755                            6.198826   \n",
       "...                                  ...                                 ...   \n",
       "14144                           7.762770                            9.158609   \n",
       "14145                           7.356687                            9.304952   \n",
       "14146                           6.586020                            9.299606   \n",
       "14147                           6.210119                            9.297709   \n",
       "14148                           6.146982                            9.308612   \n",
       "\n",
       "       rougher.input.floatbank11_sulfate  rougher.input.floatbank11_xanthate  \\\n",
       "0                              11.836743                            6.005818   \n",
       "1                              11.996163                            6.012594   \n",
       "2                              11.920305                            6.204633   \n",
       "3                              11.692450                            6.196578   \n",
       "4                              10.960521                            6.194897   \n",
       "...                                  ...                                 ...   \n",
       "14144                           7.766744                            9.156069   \n",
       "14145                           7.095508                            9.297924   \n",
       "14146                           6.584130                            9.300133   \n",
       "14147                           6.209517                            9.297194   \n",
       "14148                           6.168939                            9.309852   \n",
       "\n",
       "       rougher.output.concentrate_ag  rougher.output.concentrate_pb  \\\n",
       "0                          11.500771                       7.101074   \n",
       "1                          11.615865                       7.278807   \n",
       "2                          11.695753                       7.216833   \n",
       "3                          11.915047                       7.175616   \n",
       "4                          12.411054                       7.240205   \n",
       "...                              ...                            ...   \n",
       "14144                      11.124896                      10.984003   \n",
       "14145                      11.425983                      10.888213   \n",
       "14146                       8.523497                       8.955135   \n",
       "14147                      11.658799                      10.655377   \n",
       "14148                      11.959486                      10.702148   \n",
       "\n",
       "       rougher.output.concentrate_sol  rougher.output.concentrate_au  \\\n",
       "0                           28.029297                      19.793808   \n",
       "1                           28.067063                      20.050975   \n",
       "2                           27.454037                      19.737170   \n",
       "3                           27.341277                      19.320810   \n",
       "4                           27.041023                      19.216101   \n",
       "...                               ...                            ...   \n",
       "14144                       30.068876                      18.603550   \n",
       "14145                       29.783972                      18.441436   \n",
       "14146                       22.786467                      15.111231   \n",
       "14147                       29.052742                      17.834772   \n",
       "14148                       29.078235                      17.804134   \n",
       "\n",
       "       rougher.output.recovery  rougher.output.tail_ag  \\\n",
       "0                    87.107763                5.008018   \n",
       "1                    86.843261                4.955378   \n",
       "2                    86.842308                4.843460   \n",
       "3                    87.226430                4.655288   \n",
       "4                    86.688794                4.552800   \n",
       "...                        ...                     ...   \n",
       "14144                89.574376                4.207261   \n",
       "14145                87.724007                4.177943   \n",
       "14146                88.890579                4.050010   \n",
       "14147                89.858126                3.902494   \n",
       "14148                89.514960                3.925473   \n",
       "\n",
       "       rougher.output.tail_pb  rougher.output.tail_sol  \\\n",
       "0                    0.508728                19.154297   \n",
       "1                    0.536689                18.965234   \n",
       "2                    0.546416                18.808533   \n",
       "3                    0.542525                19.330200   \n",
       "4                    0.515438                19.267422   \n",
       "...                       ...                      ...   \n",
       "14144                0.612935                16.666590   \n",
       "14145                0.650557                16.960649   \n",
       "14146                0.636095                18.323080   \n",
       "14147                0.625609                19.423740   \n",
       "14148                0.638677                19.946673   \n",
       "\n",
       "       rougher.output.tail_au  rougher.state.floatbank10_a_air  \\\n",
       "0                    1.170244                       999.706909   \n",
       "1                    1.184827                      1000.286398   \n",
       "2                    1.162562                       999.719565   \n",
       "3                    1.079755                       999.814770   \n",
       "4                    1.012642                       999.678690   \n",
       "...                       ...                              ...   \n",
       "14144                0.748633                      1199.245914   \n",
       "14145                0.771582                      1196.569267   \n",
       "14146                0.685059                      1204.866639   \n",
       "14147                0.567130                      1201.904177   \n",
       "14148                0.586439                      1196.238112   \n",
       "\n",
       "       rougher.state.floatbank10_a_level  rougher.state.floatbank10_b_air  \\\n",
       "0                            -404.066986                      1603.011353   \n",
       "1                            -400.065196                      1600.754587   \n",
       "2                            -400.074028                      1599.337330   \n",
       "3                            -400.200179                      1600.059442   \n",
       "4                            -399.752729                      1600.208824   \n",
       "...                                  ...                              ...   \n",
       "14144                        -300.845518                      1149.807890   \n",
       "14145                        -299.512227                      1147.675196   \n",
       "14146                        -299.235675                      1149.942902   \n",
       "14147                        -299.907308                      1154.087804   \n",
       "14148                        -299.862743                      1147.248241   \n",
       "\n",
       "       rougher.state.floatbank10_b_level  rougher.state.floatbank10_c_air  \\\n",
       "0                            -434.715027                      1602.375000   \n",
       "1                            -449.953435                      1600.479580   \n",
       "2                            -450.008530                      1599.672797   \n",
       "3                            -450.619948                      1600.012842   \n",
       "4                            -449.599614                      1600.357732   \n",
       "...                                  ...                              ...   \n",
       "14144                        -498.789721                      1047.963596   \n",
       "14145                        -500.608341                      1048.565741   \n",
       "14146                        -501.717903                      1049.604390   \n",
       "14147                        -500.036580                      1054.009756   \n",
       "14148                        -500.363165                      1047.279065   \n",
       "\n",
       "       rougher.state.floatbank10_c_level  rougher.state.floatbank10_d_air  \\\n",
       "0                            -442.204468                      1598.937256   \n",
       "1                            -449.830646                      1600.527589   \n",
       "2                            -449.954491                      1599.849325   \n",
       "3                            -449.910497                      1597.725177   \n",
       "4                            -450.034364                      1599.759049   \n",
       "...                                  ...                              ...   \n",
       "14144                        -498.413079                       946.640977   \n",
       "14145                        -500.932810                       949.773589   \n",
       "14146                        -500.549053                       952.702732   \n",
       "14147                        -500.237335                       944.138793   \n",
       "14148                        -500.354091                       948.756608   \n",
       "\n",
       "       rougher.state.floatbank10_d_level  rougher.state.floatbank10_e_air  \\\n",
       "0                            -451.294128                      1404.472046   \n",
       "1                            -449.953649                      1399.227084   \n",
       "2                            -449.954185                      1399.180945   \n",
       "3                            -450.130127                      1400.943157   \n",
       "4                            -449.909799                      1401.560902   \n",
       "...                                  ...                              ...   \n",
       "14144                        -499.152477                       849.664935   \n",
       "14145                        -500.023144                       848.515225   \n",
       "14146                        -502.352296                       849.016017   \n",
       "14147                        -496.866953                       851.589767   \n",
       "14148                        -498.439416                       849.441918   \n",
       "\n",
       "       rougher.state.floatbank10_e_level  rougher.state.floatbank10_f_air  \\\n",
       "0                            -455.462982                      1416.354980   \n",
       "1                            -450.869848                      1399.719514   \n",
       "2                            -449.937588                      1400.316682   \n",
       "3                            -450.030142                      1400.234743   \n",
       "4                            -448.877187                      1401.160227   \n",
       "...                                  ...                              ...   \n",
       "14144                        -499.214461                       849.758091   \n",
       "14145                        -500.289405                       850.013123   \n",
       "14146                        -500.505677                       850.455635   \n",
       "14147                        -499.040466                       851.345606   \n",
       "14148                        -499.255503                       850.112246   \n",
       "\n",
       "       rougher.state.floatbank10_f_level  secondary_cleaner.output.tail_ag  \\\n",
       "0                            -451.939636                         14.500184   \n",
       "1                            -450.119001                         14.265474   \n",
       "2                            -450.527147                         14.115662   \n",
       "3                            -449.790835                         13.732071   \n",
       "4                            -450.407128                         14.079996   \n",
       "...                                  ...                               ...   \n",
       "14144                        -497.448664                          0.000000   \n",
       "14145                        -496.822119                          0.000000   \n",
       "14146                        -506.897968                          0.000000   \n",
       "14147                        -499.122561                          0.000000   \n",
       "14148                        -499.407112                          0.000000   \n",
       "\n",
       "       secondary_cleaner.output.tail_pb  secondary_cleaner.output.tail_sol  \\\n",
       "0                              4.694824                           8.764648   \n",
       "1                              4.592547                           9.001494   \n",
       "2                              4.624775                           8.842896   \n",
       "3                              4.482453                           9.122857   \n",
       "4                              4.470737                           8.871028   \n",
       "...                                 ...                                ...   \n",
       "14144                          0.000000                           0.000000   \n",
       "14145                          0.000000                           0.000000   \n",
       "14146                          0.000000                           0.000000   \n",
       "14147                          0.000000                           0.000000   \n",
       "14148                          0.000000                           0.000000   \n",
       "\n",
       "       secondary_cleaner.output.tail_au  \\\n",
       "0                              2.606185   \n",
       "1                              2.488248   \n",
       "2                              2.458187   \n",
       "3                              2.322062   \n",
       "4                              2.330448   \n",
       "...                                 ...   \n",
       "14144                          0.000000   \n",
       "14145                          0.000000   \n",
       "14146                          0.000000   \n",
       "14147                          0.000000   \n",
       "14148                          0.000000   \n",
       "\n",
       "       secondary_cleaner.state.floatbank2_a_air  \\\n",
       "0                                     25.853109   \n",
       "1                                     25.880539   \n",
       "2                                     26.005245   \n",
       "3                                     25.942508   \n",
       "4                                     26.024787   \n",
       "...                                         ...   \n",
       "14144                                 35.043205   \n",
       "14145                                 35.026062   \n",
       "14146                                 35.003586   \n",
       "14147                                 34.980742   \n",
       "14148                                 34.940919   \n",
       "\n",
       "       secondary_cleaner.state.floatbank2_a_level  \\\n",
       "0                                     -498.526489   \n",
       "1                                     -499.989656   \n",
       "2                                     -499.929616   \n",
       "3                                     -499.176749   \n",
       "4                                     -500.279091   \n",
       "...                                           ...   \n",
       "14144                                 -499.045671   \n",
       "14145                                 -499.891945   \n",
       "14146                                 -501.083794   \n",
       "14147                                 -498.131002   \n",
       "14148                                 -500.150510   \n",
       "\n",
       "       secondary_cleaner.state.floatbank2_b_air  \\\n",
       "0                                     23.893660   \n",
       "1                                     23.889530   \n",
       "2                                     23.886657   \n",
       "3                                     23.955516   \n",
       "4                                     23.955345   \n",
       "...                                         ...   \n",
       "14144                                 29.906659   \n",
       "14145                                 29.921795   \n",
       "14146                                 29.990533   \n",
       "14147                                 29.968453   \n",
       "14148                                 30.031867   \n",
       "\n",
       "       secondary_cleaner.state.floatbank2_b_level  \\\n",
       "0                                     -501.406281   \n",
       "1                                     -500.372428   \n",
       "2                                     -499.951928   \n",
       "3                                     -499.848796   \n",
       "4                                     -500.593614   \n",
       "...                                           ...   \n",
       "14144                                 -499.979939   \n",
       "14145                                 -499.949663   \n",
       "14146                                 -611.855898   \n",
       "14147                                 -586.013330   \n",
       "14148                                 -500.328335   \n",
       "\n",
       "       secondary_cleaner.state.floatbank3_a_air  \\\n",
       "0                                     23.961798   \n",
       "1                                     23.970550   \n",
       "2                                     23.913535   \n",
       "3                                     23.966838   \n",
       "4                                     23.985703   \n",
       "...                                         ...   \n",
       "14144                                 26.002402   \n",
       "14145                                 26.031747   \n",
       "14146                                 25.948429   \n",
       "14147                                 25.971737   \n",
       "14148                                 26.033990   \n",
       "\n",
       "       secondary_cleaner.state.floatbank3_a_level  \\\n",
       "0                                     -495.262817   \n",
       "1                                     -500.085473   \n",
       "2                                     -499.442343   \n",
       "3                                     -500.008812   \n",
       "4                                     -500.083811   \n",
       "...                                           ...   \n",
       "14144                                 -499.953431   \n",
       "14145                                 -500.384612   \n",
       "14146                                 -500.067268   \n",
       "14147                                 -499.608392   \n",
       "14148                                 -500.147792   \n",
       "\n",
       "       secondary_cleaner.state.floatbank3_b_air  \\\n",
       "0                                     21.940409   \n",
       "1                                     22.085714   \n",
       "2                                     23.957717   \n",
       "3                                     23.954443   \n",
       "4                                     23.958945   \n",
       "...                                         ...   \n",
       "14144                                 22.987238   \n",
       "14145                                 22.991058   \n",
       "14146                                 22.968268   \n",
       "14147                                 22.958448   \n",
       "14148                                 22.952306   \n",
       "\n",
       "       secondary_cleaner.state.floatbank3_b_level  \\\n",
       "0                                     -499.340973   \n",
       "1                                     -499.446897   \n",
       "2                                     -499.901982   \n",
       "3                                     -499.944710   \n",
       "4                                     -499.990309   \n",
       "...                                           ...   \n",
       "14144                                 -499.967351   \n",
       "14145                                 -500.079590   \n",
       "14146                                 -499.839442   \n",
       "14147                                 -499.821308   \n",
       "14148                                 -500.037678   \n",
       "\n",
       "       secondary_cleaner.state.floatbank4_a_air  \\\n",
       "0                                     14.016835   \n",
       "1                                     13.992281   \n",
       "2                                     14.015015   \n",
       "3                                     14.036510   \n",
       "4                                     14.027298   \n",
       "...                                         ...   \n",
       "14144                                 23.031497   \n",
       "14145                                 22.960095   \n",
       "14146                                 23.015718   \n",
       "14147                                 23.024963   \n",
       "14148                                 23.018622   \n",
       "\n",
       "       secondary_cleaner.state.floatbank4_a_level  \\\n",
       "0                                     -502.488007   \n",
       "1                                     -505.503262   \n",
       "2                                     -502.520901   \n",
       "3                                     -500.857308   \n",
       "4                                     -499.838632   \n",
       "...                                           ...   \n",
       "14144                                 -501.167942   \n",
       "14145                                 -501.612783   \n",
       "14146                                 -501.711599   \n",
       "14147                                 -501.153409   \n",
       "14148                                 -500.492702   \n",
       "\n",
       "       secondary_cleaner.state.floatbank4_b_air  \\\n",
       "0                                     12.099931   \n",
       "1                                     11.950531   \n",
       "2                                     11.912783   \n",
       "3                                     11.999550   \n",
       "4                                     11.953070   \n",
       "...                                         ...   \n",
       "14144                                 20.007571   \n",
       "14145                                 20.035660   \n",
       "14146                                 19.951231   \n",
       "14147                                 20.054122   \n",
       "14148                                 20.020205   \n",
       "\n",
       "       secondary_cleaner.state.floatbank4_b_level  \\\n",
       "0                                     -504.715942   \n",
       "1                                     -501.331529   \n",
       "2                                     -501.133383   \n",
       "3                                     -501.193686   \n",
       "4                                     -501.053894   \n",
       "...                                           ...   \n",
       "14144                                 -499.740028   \n",
       "14145                                 -500.251357   \n",
       "14146                                 -499.857027   \n",
       "14147                                 -500.314711   \n",
       "14148                                 -500.220296   \n",
       "\n",
       "       secondary_cleaner.state.floatbank5_a_air  \\\n",
       "0                                      9.925633   \n",
       "1                                     10.039245   \n",
       "2                                     10.070913   \n",
       "3                                      9.970366   \n",
       "4                                      9.925709   \n",
       "...                                         ...   \n",
       "14144                                 18.006038   \n",
       "14145                                 17.998535   \n",
       "14146                                 18.019543   \n",
       "14147                                 17.979515   \n",
       "14148                                 17.963512   \n",
       "\n",
       "       secondary_cleaner.state.floatbank5_a_level  \\\n",
       "0                                     -498.310211   \n",
       "1                                     -500.169983   \n",
       "2                                     -500.129135   \n",
       "3                                     -499.201640   \n",
       "4                                     -501.686727   \n",
       "...                                           ...   \n",
       "14144                                 -499.834374   \n",
       "14145                                 -500.395178   \n",
       "14146                                 -500.451156   \n",
       "14147                                 -499.272871   \n",
       "14148                                 -499.939490   \n",
       "\n",
       "       secondary_cleaner.state.floatbank5_b_air  \\\n",
       "0                                      8.079666   \n",
       "1                                      7.984757   \n",
       "2                                      8.013877   \n",
       "3                                      7.977324   \n",
       "4                                      7.894242   \n",
       "...                                         ...   \n",
       "14144                                 13.001114   \n",
       "14145                                 12.954048   \n",
       "14146                                 13.023431   \n",
       "14147                                 12.992404   \n",
       "14148                                 12.990306   \n",
       "\n",
       "       secondary_cleaner.state.floatbank5_b_level  \\\n",
       "0                                     -500.470978   \n",
       "1                                     -500.582168   \n",
       "2                                     -500.517572   \n",
       "3                                     -500.255908   \n",
       "4                                     -500.356035   \n",
       "...                                           ...   \n",
       "14144                                 -500.155694   \n",
       "14145                                 -499.895163   \n",
       "14146                                 -499.914391   \n",
       "14147                                 -499.976268   \n",
       "14148                                 -500.080993   \n",
       "\n",
       "       secondary_cleaner.state.floatbank6_a_air  \\\n",
       "0                                     14.151341   \n",
       "1                                     13.998353   \n",
       "2                                     14.028663   \n",
       "3                                     14.005551   \n",
       "4                                     13.996647   \n",
       "...                                         ...   \n",
       "14144                                 20.007840   \n",
       "14145                                 19.968498   \n",
       "14146                                 19.990885   \n",
       "14147                                 20.013986   \n",
       "14148                                 19.990336   \n",
       "\n",
       "       secondary_cleaner.state.floatbank6_a_level  \n",
       "0                                     -605.841980  \n",
       "1                                     -599.787184  \n",
       "2                                     -601.427363  \n",
       "3                                     -599.996129  \n",
       "4                                     -601.496691  \n",
       "...                                           ...  \n",
       "14144                                 -501.296428  \n",
       "14145                                 -501.041608  \n",
       "14146                                 -501.518452  \n",
       "14147                                 -500.625471  \n",
       "14148                                 -499.191575  \n",
       "\n",
       "[14149 rows x 87 columns]"
      ]
     },
     "metadata": {},
     "output_type": "display_data"
    },
    {
     "name": "stdout",
     "output_type": "stream",
     "text": [
      "df_test\n",
      "\n",
      "<class 'pandas.core.frame.DataFrame'>\n",
      "RangeIndex: 5290 entries, 0 to 5289\n",
      "Data columns (total 53 columns):\n",
      " #   Column                                      Non-Null Count  Dtype  \n",
      "---  ------                                      --------------  -----  \n",
      " 0   date                                        5290 non-null   object \n",
      " 1   primary_cleaner.input.sulfate               5286 non-null   float64\n",
      " 2   primary_cleaner.input.depressant            5285 non-null   float64\n",
      " 3   primary_cleaner.input.feed_size             5290 non-null   float64\n",
      " 4   primary_cleaner.input.xanthate              5286 non-null   float64\n",
      " 5   primary_cleaner.state.floatbank8_a_air      5290 non-null   float64\n",
      " 6   primary_cleaner.state.floatbank8_a_level    5290 non-null   float64\n",
      " 7   primary_cleaner.state.floatbank8_b_air      5290 non-null   float64\n",
      " 8   primary_cleaner.state.floatbank8_b_level    5290 non-null   float64\n",
      " 9   primary_cleaner.state.floatbank8_c_air      5290 non-null   float64\n",
      " 10  primary_cleaner.state.floatbank8_c_level    5290 non-null   float64\n",
      " 11  primary_cleaner.state.floatbank8_d_air      5290 non-null   float64\n",
      " 12  primary_cleaner.state.floatbank8_d_level    5290 non-null   float64\n",
      " 13  rougher.input.feed_ag                       5290 non-null   float64\n",
      " 14  rougher.input.feed_pb                       5290 non-null   float64\n",
      " 15  rougher.input.feed_rate                     5287 non-null   float64\n",
      " 16  rougher.input.feed_size                     5289 non-null   float64\n",
      " 17  rougher.input.feed_sol                      5269 non-null   float64\n",
      " 18  rougher.input.feed_au                       5290 non-null   float64\n",
      " 19  rougher.input.floatbank10_sulfate           5285 non-null   float64\n",
      " 20  rougher.input.floatbank10_xanthate          5290 non-null   float64\n",
      " 21  rougher.input.floatbank11_sulfate           5282 non-null   float64\n",
      " 22  rougher.input.floatbank11_xanthate          5265 non-null   float64\n",
      " 23  rougher.state.floatbank10_a_air             5290 non-null   float64\n",
      " 24  rougher.state.floatbank10_a_level           5290 non-null   float64\n",
      " 25  rougher.state.floatbank10_b_air             5290 non-null   float64\n",
      " 26  rougher.state.floatbank10_b_level           5290 non-null   float64\n",
      " 27  rougher.state.floatbank10_c_air             5290 non-null   float64\n",
      " 28  rougher.state.floatbank10_c_level           5290 non-null   float64\n",
      " 29  rougher.state.floatbank10_d_air             5290 non-null   float64\n",
      " 30  rougher.state.floatbank10_d_level           5290 non-null   float64\n",
      " 31  rougher.state.floatbank10_e_air             5290 non-null   float64\n",
      " 32  rougher.state.floatbank10_e_level           5290 non-null   float64\n",
      " 33  rougher.state.floatbank10_f_air             5290 non-null   float64\n",
      " 34  rougher.state.floatbank10_f_level           5290 non-null   float64\n",
      " 35  secondary_cleaner.state.floatbank2_a_air    5287 non-null   float64\n",
      " 36  secondary_cleaner.state.floatbank2_a_level  5290 non-null   float64\n",
      " 37  secondary_cleaner.state.floatbank2_b_air    5288 non-null   float64\n",
      " 38  secondary_cleaner.state.floatbank2_b_level  5290 non-null   float64\n",
      " 39  secondary_cleaner.state.floatbank3_a_air    5281 non-null   float64\n",
      " 40  secondary_cleaner.state.floatbank3_a_level  5290 non-null   float64\n",
      " 41  secondary_cleaner.state.floatbank3_b_air    5290 non-null   float64\n",
      " 42  secondary_cleaner.state.floatbank3_b_level  5290 non-null   float64\n",
      " 43  secondary_cleaner.state.floatbank4_a_air    5290 non-null   float64\n",
      " 44  secondary_cleaner.state.floatbank4_a_level  5290 non-null   float64\n",
      " 45  secondary_cleaner.state.floatbank4_b_air    5290 non-null   float64\n",
      " 46  secondary_cleaner.state.floatbank4_b_level  5290 non-null   float64\n",
      " 47  secondary_cleaner.state.floatbank5_a_air    5290 non-null   float64\n",
      " 48  secondary_cleaner.state.floatbank5_a_level  5290 non-null   float64\n",
      " 49  secondary_cleaner.state.floatbank5_b_air    5290 non-null   float64\n",
      " 50  secondary_cleaner.state.floatbank5_b_level  5290 non-null   float64\n",
      " 51  secondary_cleaner.state.floatbank6_a_air    5290 non-null   float64\n",
      " 52  secondary_cleaner.state.floatbank6_a_level  5290 non-null   float64\n",
      "dtypes: float64(52), object(1)\n",
      "memory usage: 2.1+ MB\n",
      "None\n"
     ]
    },
    {
     "data": {
      "text/html": [
       "<div>\n",
       "<style scoped>\n",
       "    .dataframe tbody tr th:only-of-type {\n",
       "        vertical-align: middle;\n",
       "    }\n",
       "\n",
       "    .dataframe tbody tr th {\n",
       "        vertical-align: top;\n",
       "    }\n",
       "\n",
       "    .dataframe thead th {\n",
       "        text-align: right;\n",
       "    }\n",
       "</style>\n",
       "<table border=\"1\" class=\"dataframe\">\n",
       "  <thead>\n",
       "    <tr style=\"text-align: right;\">\n",
       "      <th></th>\n",
       "      <th>date</th>\n",
       "      <th>primary_cleaner.input.sulfate</th>\n",
       "      <th>primary_cleaner.input.depressant</th>\n",
       "      <th>primary_cleaner.input.feed_size</th>\n",
       "      <th>primary_cleaner.input.xanthate</th>\n",
       "      <th>primary_cleaner.state.floatbank8_a_air</th>\n",
       "      <th>primary_cleaner.state.floatbank8_a_level</th>\n",
       "      <th>primary_cleaner.state.floatbank8_b_air</th>\n",
       "      <th>primary_cleaner.state.floatbank8_b_level</th>\n",
       "      <th>primary_cleaner.state.floatbank8_c_air</th>\n",
       "      <th>primary_cleaner.state.floatbank8_c_level</th>\n",
       "      <th>primary_cleaner.state.floatbank8_d_air</th>\n",
       "      <th>primary_cleaner.state.floatbank8_d_level</th>\n",
       "      <th>rougher.input.feed_ag</th>\n",
       "      <th>rougher.input.feed_pb</th>\n",
       "      <th>rougher.input.feed_rate</th>\n",
       "      <th>rougher.input.feed_size</th>\n",
       "      <th>rougher.input.feed_sol</th>\n",
       "      <th>rougher.input.feed_au</th>\n",
       "      <th>rougher.input.floatbank10_sulfate</th>\n",
       "      <th>rougher.input.floatbank10_xanthate</th>\n",
       "      <th>rougher.input.floatbank11_sulfate</th>\n",
       "      <th>rougher.input.floatbank11_xanthate</th>\n",
       "      <th>rougher.state.floatbank10_a_air</th>\n",
       "      <th>rougher.state.floatbank10_a_level</th>\n",
       "      <th>rougher.state.floatbank10_b_air</th>\n",
       "      <th>rougher.state.floatbank10_b_level</th>\n",
       "      <th>rougher.state.floatbank10_c_air</th>\n",
       "      <th>rougher.state.floatbank10_c_level</th>\n",
       "      <th>rougher.state.floatbank10_d_air</th>\n",
       "      <th>rougher.state.floatbank10_d_level</th>\n",
       "      <th>rougher.state.floatbank10_e_air</th>\n",
       "      <th>rougher.state.floatbank10_e_level</th>\n",
       "      <th>rougher.state.floatbank10_f_air</th>\n",
       "      <th>rougher.state.floatbank10_f_level</th>\n",
       "      <th>secondary_cleaner.state.floatbank2_a_air</th>\n",
       "      <th>secondary_cleaner.state.floatbank2_a_level</th>\n",
       "      <th>secondary_cleaner.state.floatbank2_b_air</th>\n",
       "      <th>secondary_cleaner.state.floatbank2_b_level</th>\n",
       "      <th>secondary_cleaner.state.floatbank3_a_air</th>\n",
       "      <th>secondary_cleaner.state.floatbank3_a_level</th>\n",
       "      <th>secondary_cleaner.state.floatbank3_b_air</th>\n",
       "      <th>secondary_cleaner.state.floatbank3_b_level</th>\n",
       "      <th>secondary_cleaner.state.floatbank4_a_air</th>\n",
       "      <th>secondary_cleaner.state.floatbank4_a_level</th>\n",
       "      <th>secondary_cleaner.state.floatbank4_b_air</th>\n",
       "      <th>secondary_cleaner.state.floatbank4_b_level</th>\n",
       "      <th>secondary_cleaner.state.floatbank5_a_air</th>\n",
       "      <th>secondary_cleaner.state.floatbank5_a_level</th>\n",
       "      <th>secondary_cleaner.state.floatbank5_b_air</th>\n",
       "      <th>secondary_cleaner.state.floatbank5_b_level</th>\n",
       "      <th>secondary_cleaner.state.floatbank6_a_air</th>\n",
       "      <th>secondary_cleaner.state.floatbank6_a_level</th>\n",
       "    </tr>\n",
       "  </thead>\n",
       "  <tbody>\n",
       "    <tr>\n",
       "      <th>0</th>\n",
       "      <td>2016-09-01 00:59:59</td>\n",
       "      <td>210.800909</td>\n",
       "      <td>14.993118</td>\n",
       "      <td>8.080000</td>\n",
       "      <td>1.005021</td>\n",
       "      <td>1398.981301</td>\n",
       "      <td>-500.225577</td>\n",
       "      <td>1399.144926</td>\n",
       "      <td>-499.919735</td>\n",
       "      <td>1400.102998</td>\n",
       "      <td>-500.704369</td>\n",
       "      <td>1399.001695</td>\n",
       "      <td>-499.485144</td>\n",
       "      <td>13.128569</td>\n",
       "      <td>5.636710</td>\n",
       "      <td>489.793655</td>\n",
       "      <td>62.710452</td>\n",
       "      <td>42.022440</td>\n",
       "      <td>12.084103</td>\n",
       "      <td>16.922877</td>\n",
       "      <td>6.153479</td>\n",
       "      <td>16.867518</td>\n",
       "      <td>6.150709</td>\n",
       "      <td>1001.849317</td>\n",
       "      <td>-350.301265</td>\n",
       "      <td>1249.738612</td>\n",
       "      <td>-399.107531</td>\n",
       "      <td>1249.750520</td>\n",
       "      <td>-399.396730</td>\n",
       "      <td>1198.287855</td>\n",
       "      <td>-399.488594</td>\n",
       "      <td>999.472250</td>\n",
       "      <td>-399.530962</td>\n",
       "      <td>949.566189</td>\n",
       "      <td>-398.180807</td>\n",
       "      <td>24.938200</td>\n",
       "      <td>-500.490963</td>\n",
       "      <td>14.947607</td>\n",
       "      <td>-500.013837</td>\n",
       "      <td>20.018166</td>\n",
       "      <td>-450.395995</td>\n",
       "      <td>13.987058</td>\n",
       "      <td>-449.831513</td>\n",
       "      <td>12.023554</td>\n",
       "      <td>-497.795834</td>\n",
       "      <td>8.016656</td>\n",
       "      <td>-501.289139</td>\n",
       "      <td>7.946562</td>\n",
       "      <td>-432.317850</td>\n",
       "      <td>4.872511</td>\n",
       "      <td>-500.037437</td>\n",
       "      <td>26.705889</td>\n",
       "      <td>-499.709414</td>\n",
       "    </tr>\n",
       "    <tr>\n",
       "      <th>1</th>\n",
       "      <td>2016-09-01 01:59:59</td>\n",
       "      <td>215.392455</td>\n",
       "      <td>14.987471</td>\n",
       "      <td>8.080000</td>\n",
       "      <td>0.990469</td>\n",
       "      <td>1398.777912</td>\n",
       "      <td>-500.057435</td>\n",
       "      <td>1398.055362</td>\n",
       "      <td>-499.778182</td>\n",
       "      <td>1396.151033</td>\n",
       "      <td>-499.240168</td>\n",
       "      <td>1399.508091</td>\n",
       "      <td>-500.416324</td>\n",
       "      <td>13.036280</td>\n",
       "      <td>5.526065</td>\n",
       "      <td>490.104534</td>\n",
       "      <td>61.961163</td>\n",
       "      <td>41.187903</td>\n",
       "      <td>11.918977</td>\n",
       "      <td>17.002532</td>\n",
       "      <td>5.999043</td>\n",
       "      <td>16.996063</td>\n",
       "      <td>6.002315</td>\n",
       "      <td>998.690785</td>\n",
       "      <td>-350.425704</td>\n",
       "      <td>1248.395457</td>\n",
       "      <td>-399.946025</td>\n",
       "      <td>1249.514451</td>\n",
       "      <td>-399.630810</td>\n",
       "      <td>1200.506459</td>\n",
       "      <td>-399.942434</td>\n",
       "      <td>1000.002114</td>\n",
       "      <td>-399.491528</td>\n",
       "      <td>950.200009</td>\n",
       "      <td>-405.787514</td>\n",
       "      <td>24.923466</td>\n",
       "      <td>-499.813963</td>\n",
       "      <td>14.930873</td>\n",
       "      <td>-500.764452</td>\n",
       "      <td>19.988503</td>\n",
       "      <td>-450.114024</td>\n",
       "      <td>14.092981</td>\n",
       "      <td>-450.059163</td>\n",
       "      <td>12.058140</td>\n",
       "      <td>-498.695773</td>\n",
       "      <td>8.130979</td>\n",
       "      <td>-499.634209</td>\n",
       "      <td>7.958270</td>\n",
       "      <td>-525.839648</td>\n",
       "      <td>4.878850</td>\n",
       "      <td>-500.162375</td>\n",
       "      <td>25.019940</td>\n",
       "      <td>-499.819438</td>\n",
       "    </tr>\n",
       "    <tr>\n",
       "      <th>2</th>\n",
       "      <td>2016-09-01 02:59:59</td>\n",
       "      <td>215.259946</td>\n",
       "      <td>12.884934</td>\n",
       "      <td>7.786667</td>\n",
       "      <td>0.996043</td>\n",
       "      <td>1398.493666</td>\n",
       "      <td>-500.868360</td>\n",
       "      <td>1398.860436</td>\n",
       "      <td>-499.764529</td>\n",
       "      <td>1398.075709</td>\n",
       "      <td>-502.151509</td>\n",
       "      <td>1399.497088</td>\n",
       "      <td>-499.715479</td>\n",
       "      <td>13.138412</td>\n",
       "      <td>5.426561</td>\n",
       "      <td>489.617969</td>\n",
       "      <td>66.903807</td>\n",
       "      <td>42.546294</td>\n",
       "      <td>12.091332</td>\n",
       "      <td>16.992520</td>\n",
       "      <td>5.850632</td>\n",
       "      <td>16.982096</td>\n",
       "      <td>5.853594</td>\n",
       "      <td>998.516720</td>\n",
       "      <td>-349.783538</td>\n",
       "      <td>1247.440748</td>\n",
       "      <td>-400.264330</td>\n",
       "      <td>1248.207204</td>\n",
       "      <td>-401.074405</td>\n",
       "      <td>1199.770026</td>\n",
       "      <td>-400.790582</td>\n",
       "      <td>999.925519</td>\n",
       "      <td>-399.236999</td>\n",
       "      <td>950.320481</td>\n",
       "      <td>-400.864340</td>\n",
       "      <td>24.908732</td>\n",
       "      <td>-500.304035</td>\n",
       "      <td>14.996511</td>\n",
       "      <td>-500.993821</td>\n",
       "      <td>20.039689</td>\n",
       "      <td>-450.263164</td>\n",
       "      <td>14.077881</td>\n",
       "      <td>-449.660997</td>\n",
       "      <td>11.962366</td>\n",
       "      <td>-498.767484</td>\n",
       "      <td>8.096893</td>\n",
       "      <td>-500.827423</td>\n",
       "      <td>8.071056</td>\n",
       "      <td>-500.801673</td>\n",
       "      <td>4.905125</td>\n",
       "      <td>-499.828510</td>\n",
       "      <td>24.994862</td>\n",
       "      <td>-500.622559</td>\n",
       "    </tr>\n",
       "    <tr>\n",
       "      <th>3</th>\n",
       "      <td>2016-09-01 03:59:59</td>\n",
       "      <td>215.336236</td>\n",
       "      <td>12.006805</td>\n",
       "      <td>7.640000</td>\n",
       "      <td>0.863514</td>\n",
       "      <td>1399.618111</td>\n",
       "      <td>-498.863574</td>\n",
       "      <td>1397.440120</td>\n",
       "      <td>-499.211024</td>\n",
       "      <td>1400.129303</td>\n",
       "      <td>-498.355873</td>\n",
       "      <td>1401.065165</td>\n",
       "      <td>-501.038738</td>\n",
       "      <td>12.400507</td>\n",
       "      <td>5.114758</td>\n",
       "      <td>476.618130</td>\n",
       "      <td>59.865919</td>\n",
       "      <td>41.060195</td>\n",
       "      <td>12.181597</td>\n",
       "      <td>16.532144</td>\n",
       "      <td>5.801935</td>\n",
       "      <td>16.515277</td>\n",
       "      <td>5.803657</td>\n",
       "      <td>1000.276604</td>\n",
       "      <td>-350.172597</td>\n",
       "      <td>1251.322675</td>\n",
       "      <td>-398.655289</td>\n",
       "      <td>1250.493702</td>\n",
       "      <td>-399.746728</td>\n",
       "      <td>1199.398691</td>\n",
       "      <td>-397.503052</td>\n",
       "      <td>1001.930679</td>\n",
       "      <td>-400.437573</td>\n",
       "      <td>950.735324</td>\n",
       "      <td>-399.802986</td>\n",
       "      <td>24.893998</td>\n",
       "      <td>-499.382374</td>\n",
       "      <td>14.916674</td>\n",
       "      <td>-499.862299</td>\n",
       "      <td>20.031100</td>\n",
       "      <td>-449.372570</td>\n",
       "      <td>14.013968</td>\n",
       "      <td>-449.526900</td>\n",
       "      <td>12.033091</td>\n",
       "      <td>-498.350935</td>\n",
       "      <td>8.074946</td>\n",
       "      <td>-499.474407</td>\n",
       "      <td>7.897085</td>\n",
       "      <td>-500.868509</td>\n",
       "      <td>4.931400</td>\n",
       "      <td>-499.963623</td>\n",
       "      <td>24.948919</td>\n",
       "      <td>-498.709987</td>\n",
       "    </tr>\n",
       "    <tr>\n",
       "      <th>4</th>\n",
       "      <td>2016-09-01 04:59:59</td>\n",
       "      <td>199.099327</td>\n",
       "      <td>10.682530</td>\n",
       "      <td>7.530000</td>\n",
       "      <td>0.805575</td>\n",
       "      <td>1401.268123</td>\n",
       "      <td>-500.808305</td>\n",
       "      <td>1398.128818</td>\n",
       "      <td>-499.504543</td>\n",
       "      <td>1402.172226</td>\n",
       "      <td>-500.810606</td>\n",
       "      <td>1399.480508</td>\n",
       "      <td>-499.374053</td>\n",
       "      <td>11.327427</td>\n",
       "      <td>4.767383</td>\n",
       "      <td>488.248117</td>\n",
       "      <td>63.315324</td>\n",
       "      <td>41.269161</td>\n",
       "      <td>11.290425</td>\n",
       "      <td>13.607257</td>\n",
       "      <td>5.738081</td>\n",
       "      <td>13.650053</td>\n",
       "      <td>5.739634</td>\n",
       "      <td>996.541302</td>\n",
       "      <td>-350.562517</td>\n",
       "      <td>1304.658848</td>\n",
       "      <td>-399.511519</td>\n",
       "      <td>1306.455515</td>\n",
       "      <td>-399.050685</td>\n",
       "      <td>1248.699349</td>\n",
       "      <td>-400.876894</td>\n",
       "      <td>1058.839106</td>\n",
       "      <td>-398.988239</td>\n",
       "      <td>949.645313</td>\n",
       "      <td>-399.277632</td>\n",
       "      <td>24.886905</td>\n",
       "      <td>-499.357375</td>\n",
       "      <td>14.979233</td>\n",
       "      <td>-500.186804</td>\n",
       "      <td>19.962364</td>\n",
       "      <td>-450.638828</td>\n",
       "      <td>14.009245</td>\n",
       "      <td>-450.022259</td>\n",
       "      <td>12.025367</td>\n",
       "      <td>-500.786497</td>\n",
       "      <td>8.054678</td>\n",
       "      <td>-500.397500</td>\n",
       "      <td>8.107890</td>\n",
       "      <td>-509.526725</td>\n",
       "      <td>4.957674</td>\n",
       "      <td>-500.360026</td>\n",
       "      <td>25.003331</td>\n",
       "      <td>-500.856333</td>\n",
       "    </tr>\n",
       "    <tr>\n",
       "      <th>...</th>\n",
       "      <td>...</td>\n",
       "      <td>...</td>\n",
       "      <td>...</td>\n",
       "      <td>...</td>\n",
       "      <td>...</td>\n",
       "      <td>...</td>\n",
       "      <td>...</td>\n",
       "      <td>...</td>\n",
       "      <td>...</td>\n",
       "      <td>...</td>\n",
       "      <td>...</td>\n",
       "      <td>...</td>\n",
       "      <td>...</td>\n",
       "      <td>...</td>\n",
       "      <td>...</td>\n",
       "      <td>...</td>\n",
       "      <td>...</td>\n",
       "      <td>...</td>\n",
       "      <td>...</td>\n",
       "      <td>...</td>\n",
       "      <td>...</td>\n",
       "      <td>...</td>\n",
       "      <td>...</td>\n",
       "      <td>...</td>\n",
       "      <td>...</td>\n",
       "      <td>...</td>\n",
       "      <td>...</td>\n",
       "      <td>...</td>\n",
       "      <td>...</td>\n",
       "      <td>...</td>\n",
       "      <td>...</td>\n",
       "      <td>...</td>\n",
       "      <td>...</td>\n",
       "      <td>...</td>\n",
       "      <td>...</td>\n",
       "      <td>...</td>\n",
       "      <td>...</td>\n",
       "      <td>...</td>\n",
       "      <td>...</td>\n",
       "      <td>...</td>\n",
       "      <td>...</td>\n",
       "      <td>...</td>\n",
       "      <td>...</td>\n",
       "      <td>...</td>\n",
       "      <td>...</td>\n",
       "      <td>...</td>\n",
       "      <td>...</td>\n",
       "      <td>...</td>\n",
       "      <td>...</td>\n",
       "      <td>...</td>\n",
       "      <td>...</td>\n",
       "      <td>...</td>\n",
       "      <td>...</td>\n",
       "    </tr>\n",
       "    <tr>\n",
       "      <th>5285</th>\n",
       "      <td>2017-12-31 19:59:59</td>\n",
       "      <td>173.957757</td>\n",
       "      <td>15.963399</td>\n",
       "      <td>8.070000</td>\n",
       "      <td>0.896701</td>\n",
       "      <td>1401.930554</td>\n",
       "      <td>-499.728848</td>\n",
       "      <td>1401.441445</td>\n",
       "      <td>-499.193423</td>\n",
       "      <td>1399.810313</td>\n",
       "      <td>-499.599127</td>\n",
       "      <td>1400.334792</td>\n",
       "      <td>-499.243459</td>\n",
       "      <td>11.638973</td>\n",
       "      <td>4.695306</td>\n",
       "      <td>521.685155</td>\n",
       "      <td>66.758479</td>\n",
       "      <td>42.022027</td>\n",
       "      <td>10.554544</td>\n",
       "      <td>10.109194</td>\n",
       "      <td>7.203935</td>\n",
       "      <td>10.110793</td>\n",
       "      <td>7.198171</td>\n",
       "      <td>1399.935264</td>\n",
       "      <td>-299.999637</td>\n",
       "      <td>1049.641991</td>\n",
       "      <td>-500.074887</td>\n",
       "      <td>951.923857</td>\n",
       "      <td>-499.648793</td>\n",
       "      <td>852.337438</td>\n",
       "      <td>-498.464443</td>\n",
       "      <td>851.436769</td>\n",
       "      <td>-500.285584</td>\n",
       "      <td>851.461345</td>\n",
       "      <td>-499.735650</td>\n",
       "      <td>21.912132</td>\n",
       "      <td>-499.915179</td>\n",
       "      <td>19.909080</td>\n",
       "      <td>-499.734909</td>\n",
       "      <td>24.939573</td>\n",
       "      <td>-500.098479</td>\n",
       "      <td>12.968448</td>\n",
       "      <td>-499.952023</td>\n",
       "      <td>13.995957</td>\n",
       "      <td>-500.157454</td>\n",
       "      <td>12.069155</td>\n",
       "      <td>-499.673279</td>\n",
       "      <td>7.977259</td>\n",
       "      <td>-499.516126</td>\n",
       "      <td>5.933319</td>\n",
       "      <td>-499.965973</td>\n",
       "      <td>8.987171</td>\n",
       "      <td>-499.755909</td>\n",
       "    </tr>\n",
       "    <tr>\n",
       "      <th>5286</th>\n",
       "      <td>2017-12-31 20:59:59</td>\n",
       "      <td>172.910270</td>\n",
       "      <td>16.002605</td>\n",
       "      <td>8.070000</td>\n",
       "      <td>0.896519</td>\n",
       "      <td>1447.075722</td>\n",
       "      <td>-494.716823</td>\n",
       "      <td>1448.851892</td>\n",
       "      <td>-465.963026</td>\n",
       "      <td>1443.890424</td>\n",
       "      <td>-503.587739</td>\n",
       "      <td>1447.653388</td>\n",
       "      <td>-480.403849</td>\n",
       "      <td>11.338091</td>\n",
       "      <td>4.478381</td>\n",
       "      <td>530.195798</td>\n",
       "      <td>62.560684</td>\n",
       "      <td>41.096377</td>\n",
       "      <td>10.254051</td>\n",
       "      <td>9.979495</td>\n",
       "      <td>7.200895</td>\n",
       "      <td>9.978855</td>\n",
       "      <td>7.201957</td>\n",
       "      <td>1406.122319</td>\n",
       "      <td>-299.057200</td>\n",
       "      <td>1055.715243</td>\n",
       "      <td>-498.250207</td>\n",
       "      <td>956.850266</td>\n",
       "      <td>-497.403941</td>\n",
       "      <td>855.386714</td>\n",
       "      <td>-495.702676</td>\n",
       "      <td>852.071335</td>\n",
       "      <td>-499.442753</td>\n",
       "      <td>851.328986</td>\n",
       "      <td>-496.579809</td>\n",
       "      <td>25.322301</td>\n",
       "      <td>-497.034975</td>\n",
       "      <td>23.310568</td>\n",
       "      <td>-498.892647</td>\n",
       "      <td>26.369171</td>\n",
       "      <td>-499.222375</td>\n",
       "      <td>17.704862</td>\n",
       "      <td>-499.545681</td>\n",
       "      <td>16.749781</td>\n",
       "      <td>-496.031539</td>\n",
       "      <td>13.365371</td>\n",
       "      <td>-499.122723</td>\n",
       "      <td>9.288553</td>\n",
       "      <td>-496.892967</td>\n",
       "      <td>7.372897</td>\n",
       "      <td>-499.942956</td>\n",
       "      <td>8.986832</td>\n",
       "      <td>-499.903761</td>\n",
       "    </tr>\n",
       "    <tr>\n",
       "      <th>5287</th>\n",
       "      <td>2017-12-31 21:59:59</td>\n",
       "      <td>171.135718</td>\n",
       "      <td>15.993669</td>\n",
       "      <td>8.070000</td>\n",
       "      <td>1.165996</td>\n",
       "      <td>1498.836182</td>\n",
       "      <td>-501.770403</td>\n",
       "      <td>1499.572353</td>\n",
       "      <td>-495.516347</td>\n",
       "      <td>1502.749213</td>\n",
       "      <td>-520.667442</td>\n",
       "      <td>1502.585343</td>\n",
       "      <td>-498.260225</td>\n",
       "      <td>11.285908</td>\n",
       "      <td>4.405327</td>\n",
       "      <td>546.306868</td>\n",
       "      <td>73.647513</td>\n",
       "      <td>41.095485</td>\n",
       "      <td>10.169094</td>\n",
       "      <td>10.182219</td>\n",
       "      <td>7.196255</td>\n",
       "      <td>10.185461</td>\n",
       "      <td>7.198676</td>\n",
       "      <td>1396.203070</td>\n",
       "      <td>-300.210722</td>\n",
       "      <td>1047.879742</td>\n",
       "      <td>-499.604248</td>\n",
       "      <td>948.963429</td>\n",
       "      <td>-499.549567</td>\n",
       "      <td>856.325597</td>\n",
       "      <td>-500.095616</td>\n",
       "      <td>850.614597</td>\n",
       "      <td>-499.473713</td>\n",
       "      <td>850.279578</td>\n",
       "      <td>-498.508374</td>\n",
       "      <td>29.075948</td>\n",
       "      <td>-500.528402</td>\n",
       "      <td>26.888005</td>\n",
       "      <td>-500.975799</td>\n",
       "      <td>28.000224</td>\n",
       "      <td>-500.565876</td>\n",
       "      <td>22.996528</td>\n",
       "      <td>-500.477583</td>\n",
       "      <td>19.994130</td>\n",
       "      <td>-499.791312</td>\n",
       "      <td>15.101425</td>\n",
       "      <td>-499.936252</td>\n",
       "      <td>10.989181</td>\n",
       "      <td>-498.347898</td>\n",
       "      <td>9.020944</td>\n",
       "      <td>-500.040448</td>\n",
       "      <td>8.982038</td>\n",
       "      <td>-497.789882</td>\n",
       "    </tr>\n",
       "    <tr>\n",
       "      <th>5288</th>\n",
       "      <td>2017-12-31 22:59:59</td>\n",
       "      <td>179.697158</td>\n",
       "      <td>15.438979</td>\n",
       "      <td>8.070000</td>\n",
       "      <td>1.501068</td>\n",
       "      <td>1498.466243</td>\n",
       "      <td>-500.483984</td>\n",
       "      <td>1497.986986</td>\n",
       "      <td>-519.200340</td>\n",
       "      <td>1496.569047</td>\n",
       "      <td>-487.479567</td>\n",
       "      <td>1502.688918</td>\n",
       "      <td>-501.569723</td>\n",
       "      <td>11.289710</td>\n",
       "      <td>4.343488</td>\n",
       "      <td>547.331405</td>\n",
       "      <td>78.066446</td>\n",
       "      <td>41.715740</td>\n",
       "      <td>10.071156</td>\n",
       "      <td>10.730915</td>\n",
       "      <td>7.200058</td>\n",
       "      <td>10.726349</td>\n",
       "      <td>7.200834</td>\n",
       "      <td>1403.942288</td>\n",
       "      <td>-300.030119</td>\n",
       "      <td>1049.802289</td>\n",
       "      <td>-499.795576</td>\n",
       "      <td>950.769390</td>\n",
       "      <td>-500.374645</td>\n",
       "      <td>847.647198</td>\n",
       "      <td>-499.920332</td>\n",
       "      <td>849.413040</td>\n",
       "      <td>-500.380529</td>\n",
       "      <td>850.075026</td>\n",
       "      <td>-500.478250</td>\n",
       "      <td>29.103185</td>\n",
       "      <td>-499.692672</td>\n",
       "      <td>27.051742</td>\n",
       "      <td>-499.858337</td>\n",
       "      <td>27.980387</td>\n",
       "      <td>-499.907225</td>\n",
       "      <td>23.046562</td>\n",
       "      <td>-499.744914</td>\n",
       "      <td>19.958760</td>\n",
       "      <td>-499.958750</td>\n",
       "      <td>15.026853</td>\n",
       "      <td>-499.723143</td>\n",
       "      <td>11.011607</td>\n",
       "      <td>-499.985046</td>\n",
       "      <td>9.009783</td>\n",
       "      <td>-499.937902</td>\n",
       "      <td>9.012660</td>\n",
       "      <td>-500.154284</td>\n",
       "    </tr>\n",
       "    <tr>\n",
       "      <th>5289</th>\n",
       "      <td>2017-12-31 23:59:59</td>\n",
       "      <td>181.556856</td>\n",
       "      <td>14.995850</td>\n",
       "      <td>8.070000</td>\n",
       "      <td>1.623454</td>\n",
       "      <td>1498.096303</td>\n",
       "      <td>-499.796922</td>\n",
       "      <td>1501.743791</td>\n",
       "      <td>-505.146931</td>\n",
       "      <td>1499.535978</td>\n",
       "      <td>-492.428226</td>\n",
       "      <td>1499.674340</td>\n",
       "      <td>-499.766717</td>\n",
       "      <td>10.904646</td>\n",
       "      <td>4.090591</td>\n",
       "      <td>564.540376</td>\n",
       "      <td>77.678700</td>\n",
       "      <td>40.891121</td>\n",
       "      <td>9.697259</td>\n",
       "      <td>10.789493</td>\n",
       "      <td>7.195776</td>\n",
       "      <td>10.792881</td>\n",
       "      <td>7.201037</td>\n",
       "      <td>1400.611544</td>\n",
       "      <td>-299.989405</td>\n",
       "      <td>1052.782756</td>\n",
       "      <td>-499.762966</td>\n",
       "      <td>950.793740</td>\n",
       "      <td>-499.357170</td>\n",
       "      <td>850.639537</td>\n",
       "      <td>-500.433782</td>\n",
       "      <td>850.370801</td>\n",
       "      <td>-500.819351</td>\n",
       "      <td>850.680188</td>\n",
       "      <td>-498.539198</td>\n",
       "      <td>29.098116</td>\n",
       "      <td>-500.429872</td>\n",
       "      <td>26.892401</td>\n",
       "      <td>-500.087131</td>\n",
       "      <td>28.023491</td>\n",
       "      <td>-500.170406</td>\n",
       "      <td>23.013559</td>\n",
       "      <td>-500.218801</td>\n",
       "      <td>20.034715</td>\n",
       "      <td>-500.728588</td>\n",
       "      <td>14.914199</td>\n",
       "      <td>-499.948518</td>\n",
       "      <td>10.986607</td>\n",
       "      <td>-500.658027</td>\n",
       "      <td>8.989497</td>\n",
       "      <td>-500.337588</td>\n",
       "      <td>8.988632</td>\n",
       "      <td>-500.764937</td>\n",
       "    </tr>\n",
       "  </tbody>\n",
       "</table>\n",
       "<p>5290 rows × 53 columns</p>\n",
       "</div>"
      ],
      "text/plain": [
       "                     date  primary_cleaner.input.sulfate  \\\n",
       "0     2016-09-01 00:59:59                     210.800909   \n",
       "1     2016-09-01 01:59:59                     215.392455   \n",
       "2     2016-09-01 02:59:59                     215.259946   \n",
       "3     2016-09-01 03:59:59                     215.336236   \n",
       "4     2016-09-01 04:59:59                     199.099327   \n",
       "...                   ...                            ...   \n",
       "5285  2017-12-31 19:59:59                     173.957757   \n",
       "5286  2017-12-31 20:59:59                     172.910270   \n",
       "5287  2017-12-31 21:59:59                     171.135718   \n",
       "5288  2017-12-31 22:59:59                     179.697158   \n",
       "5289  2017-12-31 23:59:59                     181.556856   \n",
       "\n",
       "      primary_cleaner.input.depressant  primary_cleaner.input.feed_size  \\\n",
       "0                            14.993118                         8.080000   \n",
       "1                            14.987471                         8.080000   \n",
       "2                            12.884934                         7.786667   \n",
       "3                            12.006805                         7.640000   \n",
       "4                            10.682530                         7.530000   \n",
       "...                                ...                              ...   \n",
       "5285                         15.963399                         8.070000   \n",
       "5286                         16.002605                         8.070000   \n",
       "5287                         15.993669                         8.070000   \n",
       "5288                         15.438979                         8.070000   \n",
       "5289                         14.995850                         8.070000   \n",
       "\n",
       "      primary_cleaner.input.xanthate  primary_cleaner.state.floatbank8_a_air  \\\n",
       "0                           1.005021                             1398.981301   \n",
       "1                           0.990469                             1398.777912   \n",
       "2                           0.996043                             1398.493666   \n",
       "3                           0.863514                             1399.618111   \n",
       "4                           0.805575                             1401.268123   \n",
       "...                              ...                                     ...   \n",
       "5285                        0.896701                             1401.930554   \n",
       "5286                        0.896519                             1447.075722   \n",
       "5287                        1.165996                             1498.836182   \n",
       "5288                        1.501068                             1498.466243   \n",
       "5289                        1.623454                             1498.096303   \n",
       "\n",
       "      primary_cleaner.state.floatbank8_a_level  \\\n",
       "0                                  -500.225577   \n",
       "1                                  -500.057435   \n",
       "2                                  -500.868360   \n",
       "3                                  -498.863574   \n",
       "4                                  -500.808305   \n",
       "...                                        ...   \n",
       "5285                               -499.728848   \n",
       "5286                               -494.716823   \n",
       "5287                               -501.770403   \n",
       "5288                               -500.483984   \n",
       "5289                               -499.796922   \n",
       "\n",
       "      primary_cleaner.state.floatbank8_b_air  \\\n",
       "0                                1399.144926   \n",
       "1                                1398.055362   \n",
       "2                                1398.860436   \n",
       "3                                1397.440120   \n",
       "4                                1398.128818   \n",
       "...                                      ...   \n",
       "5285                             1401.441445   \n",
       "5286                             1448.851892   \n",
       "5287                             1499.572353   \n",
       "5288                             1497.986986   \n",
       "5289                             1501.743791   \n",
       "\n",
       "      primary_cleaner.state.floatbank8_b_level  \\\n",
       "0                                  -499.919735   \n",
       "1                                  -499.778182   \n",
       "2                                  -499.764529   \n",
       "3                                  -499.211024   \n",
       "4                                  -499.504543   \n",
       "...                                        ...   \n",
       "5285                               -499.193423   \n",
       "5286                               -465.963026   \n",
       "5287                               -495.516347   \n",
       "5288                               -519.200340   \n",
       "5289                               -505.146931   \n",
       "\n",
       "      primary_cleaner.state.floatbank8_c_air  \\\n",
       "0                                1400.102998   \n",
       "1                                1396.151033   \n",
       "2                                1398.075709   \n",
       "3                                1400.129303   \n",
       "4                                1402.172226   \n",
       "...                                      ...   \n",
       "5285                             1399.810313   \n",
       "5286                             1443.890424   \n",
       "5287                             1502.749213   \n",
       "5288                             1496.569047   \n",
       "5289                             1499.535978   \n",
       "\n",
       "      primary_cleaner.state.floatbank8_c_level  \\\n",
       "0                                  -500.704369   \n",
       "1                                  -499.240168   \n",
       "2                                  -502.151509   \n",
       "3                                  -498.355873   \n",
       "4                                  -500.810606   \n",
       "...                                        ...   \n",
       "5285                               -499.599127   \n",
       "5286                               -503.587739   \n",
       "5287                               -520.667442   \n",
       "5288                               -487.479567   \n",
       "5289                               -492.428226   \n",
       "\n",
       "      primary_cleaner.state.floatbank8_d_air  \\\n",
       "0                                1399.001695   \n",
       "1                                1399.508091   \n",
       "2                                1399.497088   \n",
       "3                                1401.065165   \n",
       "4                                1399.480508   \n",
       "...                                      ...   \n",
       "5285                             1400.334792   \n",
       "5286                             1447.653388   \n",
       "5287                             1502.585343   \n",
       "5288                             1502.688918   \n",
       "5289                             1499.674340   \n",
       "\n",
       "      primary_cleaner.state.floatbank8_d_level  rougher.input.feed_ag  \\\n",
       "0                                  -499.485144              13.128569   \n",
       "1                                  -500.416324              13.036280   \n",
       "2                                  -499.715479              13.138412   \n",
       "3                                  -501.038738              12.400507   \n",
       "4                                  -499.374053              11.327427   \n",
       "...                                        ...                    ...   \n",
       "5285                               -499.243459              11.638973   \n",
       "5286                               -480.403849              11.338091   \n",
       "5287                               -498.260225              11.285908   \n",
       "5288                               -501.569723              11.289710   \n",
       "5289                               -499.766717              10.904646   \n",
       "\n",
       "      rougher.input.feed_pb  rougher.input.feed_rate  rougher.input.feed_size  \\\n",
       "0                  5.636710               489.793655                62.710452   \n",
       "1                  5.526065               490.104534                61.961163   \n",
       "2                  5.426561               489.617969                66.903807   \n",
       "3                  5.114758               476.618130                59.865919   \n",
       "4                  4.767383               488.248117                63.315324   \n",
       "...                     ...                      ...                      ...   \n",
       "5285               4.695306               521.685155                66.758479   \n",
       "5286               4.478381               530.195798                62.560684   \n",
       "5287               4.405327               546.306868                73.647513   \n",
       "5288               4.343488               547.331405                78.066446   \n",
       "5289               4.090591               564.540376                77.678700   \n",
       "\n",
       "      rougher.input.feed_sol  rougher.input.feed_au  \\\n",
       "0                  42.022440              12.084103   \n",
       "1                  41.187903              11.918977   \n",
       "2                  42.546294              12.091332   \n",
       "3                  41.060195              12.181597   \n",
       "4                  41.269161              11.290425   \n",
       "...                      ...                    ...   \n",
       "5285               42.022027              10.554544   \n",
       "5286               41.096377              10.254051   \n",
       "5287               41.095485              10.169094   \n",
       "5288               41.715740              10.071156   \n",
       "5289               40.891121               9.697259   \n",
       "\n",
       "      rougher.input.floatbank10_sulfate  rougher.input.floatbank10_xanthate  \\\n",
       "0                             16.922877                            6.153479   \n",
       "1                             17.002532                            5.999043   \n",
       "2                             16.992520                            5.850632   \n",
       "3                             16.532144                            5.801935   \n",
       "4                             13.607257                            5.738081   \n",
       "...                                 ...                                 ...   \n",
       "5285                          10.109194                            7.203935   \n",
       "5286                           9.979495                            7.200895   \n",
       "5287                          10.182219                            7.196255   \n",
       "5288                          10.730915                            7.200058   \n",
       "5289                          10.789493                            7.195776   \n",
       "\n",
       "      rougher.input.floatbank11_sulfate  rougher.input.floatbank11_xanthate  \\\n",
       "0                             16.867518                            6.150709   \n",
       "1                             16.996063                            6.002315   \n",
       "2                             16.982096                            5.853594   \n",
       "3                             16.515277                            5.803657   \n",
       "4                             13.650053                            5.739634   \n",
       "...                                 ...                                 ...   \n",
       "5285                          10.110793                            7.198171   \n",
       "5286                           9.978855                            7.201957   \n",
       "5287                          10.185461                            7.198676   \n",
       "5288                          10.726349                            7.200834   \n",
       "5289                          10.792881                            7.201037   \n",
       "\n",
       "      rougher.state.floatbank10_a_air  rougher.state.floatbank10_a_level  \\\n",
       "0                         1001.849317                        -350.301265   \n",
       "1                          998.690785                        -350.425704   \n",
       "2                          998.516720                        -349.783538   \n",
       "3                         1000.276604                        -350.172597   \n",
       "4                          996.541302                        -350.562517   \n",
       "...                               ...                                ...   \n",
       "5285                      1399.935264                        -299.999637   \n",
       "5286                      1406.122319                        -299.057200   \n",
       "5287                      1396.203070                        -300.210722   \n",
       "5288                      1403.942288                        -300.030119   \n",
       "5289                      1400.611544                        -299.989405   \n",
       "\n",
       "      rougher.state.floatbank10_b_air  rougher.state.floatbank10_b_level  \\\n",
       "0                         1249.738612                        -399.107531   \n",
       "1                         1248.395457                        -399.946025   \n",
       "2                         1247.440748                        -400.264330   \n",
       "3                         1251.322675                        -398.655289   \n",
       "4                         1304.658848                        -399.511519   \n",
       "...                               ...                                ...   \n",
       "5285                      1049.641991                        -500.074887   \n",
       "5286                      1055.715243                        -498.250207   \n",
       "5287                      1047.879742                        -499.604248   \n",
       "5288                      1049.802289                        -499.795576   \n",
       "5289                      1052.782756                        -499.762966   \n",
       "\n",
       "      rougher.state.floatbank10_c_air  rougher.state.floatbank10_c_level  \\\n",
       "0                         1249.750520                        -399.396730   \n",
       "1                         1249.514451                        -399.630810   \n",
       "2                         1248.207204                        -401.074405   \n",
       "3                         1250.493702                        -399.746728   \n",
       "4                         1306.455515                        -399.050685   \n",
       "...                               ...                                ...   \n",
       "5285                       951.923857                        -499.648793   \n",
       "5286                       956.850266                        -497.403941   \n",
       "5287                       948.963429                        -499.549567   \n",
       "5288                       950.769390                        -500.374645   \n",
       "5289                       950.793740                        -499.357170   \n",
       "\n",
       "      rougher.state.floatbank10_d_air  rougher.state.floatbank10_d_level  \\\n",
       "0                         1198.287855                        -399.488594   \n",
       "1                         1200.506459                        -399.942434   \n",
       "2                         1199.770026                        -400.790582   \n",
       "3                         1199.398691                        -397.503052   \n",
       "4                         1248.699349                        -400.876894   \n",
       "...                               ...                                ...   \n",
       "5285                       852.337438                        -498.464443   \n",
       "5286                       855.386714                        -495.702676   \n",
       "5287                       856.325597                        -500.095616   \n",
       "5288                       847.647198                        -499.920332   \n",
       "5289                       850.639537                        -500.433782   \n",
       "\n",
       "      rougher.state.floatbank10_e_air  rougher.state.floatbank10_e_level  \\\n",
       "0                          999.472250                        -399.530962   \n",
       "1                         1000.002114                        -399.491528   \n",
       "2                          999.925519                        -399.236999   \n",
       "3                         1001.930679                        -400.437573   \n",
       "4                         1058.839106                        -398.988239   \n",
       "...                               ...                                ...   \n",
       "5285                       851.436769                        -500.285584   \n",
       "5286                       852.071335                        -499.442753   \n",
       "5287                       850.614597                        -499.473713   \n",
       "5288                       849.413040                        -500.380529   \n",
       "5289                       850.370801                        -500.819351   \n",
       "\n",
       "      rougher.state.floatbank10_f_air  rougher.state.floatbank10_f_level  \\\n",
       "0                          949.566189                        -398.180807   \n",
       "1                          950.200009                        -405.787514   \n",
       "2                          950.320481                        -400.864340   \n",
       "3                          950.735324                        -399.802986   \n",
       "4                          949.645313                        -399.277632   \n",
       "...                               ...                                ...   \n",
       "5285                       851.461345                        -499.735650   \n",
       "5286                       851.328986                        -496.579809   \n",
       "5287                       850.279578                        -498.508374   \n",
       "5288                       850.075026                        -500.478250   \n",
       "5289                       850.680188                        -498.539198   \n",
       "\n",
       "      secondary_cleaner.state.floatbank2_a_air  \\\n",
       "0                                    24.938200   \n",
       "1                                    24.923466   \n",
       "2                                    24.908732   \n",
       "3                                    24.893998   \n",
       "4                                    24.886905   \n",
       "...                                        ...   \n",
       "5285                                 21.912132   \n",
       "5286                                 25.322301   \n",
       "5287                                 29.075948   \n",
       "5288                                 29.103185   \n",
       "5289                                 29.098116   \n",
       "\n",
       "      secondary_cleaner.state.floatbank2_a_level  \\\n",
       "0                                    -500.490963   \n",
       "1                                    -499.813963   \n",
       "2                                    -500.304035   \n",
       "3                                    -499.382374   \n",
       "4                                    -499.357375   \n",
       "...                                          ...   \n",
       "5285                                 -499.915179   \n",
       "5286                                 -497.034975   \n",
       "5287                                 -500.528402   \n",
       "5288                                 -499.692672   \n",
       "5289                                 -500.429872   \n",
       "\n",
       "      secondary_cleaner.state.floatbank2_b_air  \\\n",
       "0                                    14.947607   \n",
       "1                                    14.930873   \n",
       "2                                    14.996511   \n",
       "3                                    14.916674   \n",
       "4                                    14.979233   \n",
       "...                                        ...   \n",
       "5285                                 19.909080   \n",
       "5286                                 23.310568   \n",
       "5287                                 26.888005   \n",
       "5288                                 27.051742   \n",
       "5289                                 26.892401   \n",
       "\n",
       "      secondary_cleaner.state.floatbank2_b_level  \\\n",
       "0                                    -500.013837   \n",
       "1                                    -500.764452   \n",
       "2                                    -500.993821   \n",
       "3                                    -499.862299   \n",
       "4                                    -500.186804   \n",
       "...                                          ...   \n",
       "5285                                 -499.734909   \n",
       "5286                                 -498.892647   \n",
       "5287                                 -500.975799   \n",
       "5288                                 -499.858337   \n",
       "5289                                 -500.087131   \n",
       "\n",
       "      secondary_cleaner.state.floatbank3_a_air  \\\n",
       "0                                    20.018166   \n",
       "1                                    19.988503   \n",
       "2                                    20.039689   \n",
       "3                                    20.031100   \n",
       "4                                    19.962364   \n",
       "...                                        ...   \n",
       "5285                                 24.939573   \n",
       "5286                                 26.369171   \n",
       "5287                                 28.000224   \n",
       "5288                                 27.980387   \n",
       "5289                                 28.023491   \n",
       "\n",
       "      secondary_cleaner.state.floatbank3_a_level  \\\n",
       "0                                    -450.395995   \n",
       "1                                    -450.114024   \n",
       "2                                    -450.263164   \n",
       "3                                    -449.372570   \n",
       "4                                    -450.638828   \n",
       "...                                          ...   \n",
       "5285                                 -500.098479   \n",
       "5286                                 -499.222375   \n",
       "5287                                 -500.565876   \n",
       "5288                                 -499.907225   \n",
       "5289                                 -500.170406   \n",
       "\n",
       "      secondary_cleaner.state.floatbank3_b_air  \\\n",
       "0                                    13.987058   \n",
       "1                                    14.092981   \n",
       "2                                    14.077881   \n",
       "3                                    14.013968   \n",
       "4                                    14.009245   \n",
       "...                                        ...   \n",
       "5285                                 12.968448   \n",
       "5286                                 17.704862   \n",
       "5287                                 22.996528   \n",
       "5288                                 23.046562   \n",
       "5289                                 23.013559   \n",
       "\n",
       "      secondary_cleaner.state.floatbank3_b_level  \\\n",
       "0                                    -449.831513   \n",
       "1                                    -450.059163   \n",
       "2                                    -449.660997   \n",
       "3                                    -449.526900   \n",
       "4                                    -450.022259   \n",
       "...                                          ...   \n",
       "5285                                 -499.952023   \n",
       "5286                                 -499.545681   \n",
       "5287                                 -500.477583   \n",
       "5288                                 -499.744914   \n",
       "5289                                 -500.218801   \n",
       "\n",
       "      secondary_cleaner.state.floatbank4_a_air  \\\n",
       "0                                    12.023554   \n",
       "1                                    12.058140   \n",
       "2                                    11.962366   \n",
       "3                                    12.033091   \n",
       "4                                    12.025367   \n",
       "...                                        ...   \n",
       "5285                                 13.995957   \n",
       "5286                                 16.749781   \n",
       "5287                                 19.994130   \n",
       "5288                                 19.958760   \n",
       "5289                                 20.034715   \n",
       "\n",
       "      secondary_cleaner.state.floatbank4_a_level  \\\n",
       "0                                    -497.795834   \n",
       "1                                    -498.695773   \n",
       "2                                    -498.767484   \n",
       "3                                    -498.350935   \n",
       "4                                    -500.786497   \n",
       "...                                          ...   \n",
       "5285                                 -500.157454   \n",
       "5286                                 -496.031539   \n",
       "5287                                 -499.791312   \n",
       "5288                                 -499.958750   \n",
       "5289                                 -500.728588   \n",
       "\n",
       "      secondary_cleaner.state.floatbank4_b_air  \\\n",
       "0                                     8.016656   \n",
       "1                                     8.130979   \n",
       "2                                     8.096893   \n",
       "3                                     8.074946   \n",
       "4                                     8.054678   \n",
       "...                                        ...   \n",
       "5285                                 12.069155   \n",
       "5286                                 13.365371   \n",
       "5287                                 15.101425   \n",
       "5288                                 15.026853   \n",
       "5289                                 14.914199   \n",
       "\n",
       "      secondary_cleaner.state.floatbank4_b_level  \\\n",
       "0                                    -501.289139   \n",
       "1                                    -499.634209   \n",
       "2                                    -500.827423   \n",
       "3                                    -499.474407   \n",
       "4                                    -500.397500   \n",
       "...                                          ...   \n",
       "5285                                 -499.673279   \n",
       "5286                                 -499.122723   \n",
       "5287                                 -499.936252   \n",
       "5288                                 -499.723143   \n",
       "5289                                 -499.948518   \n",
       "\n",
       "      secondary_cleaner.state.floatbank5_a_air  \\\n",
       "0                                     7.946562   \n",
       "1                                     7.958270   \n",
       "2                                     8.071056   \n",
       "3                                     7.897085   \n",
       "4                                     8.107890   \n",
       "...                                        ...   \n",
       "5285                                  7.977259   \n",
       "5286                                  9.288553   \n",
       "5287                                 10.989181   \n",
       "5288                                 11.011607   \n",
       "5289                                 10.986607   \n",
       "\n",
       "      secondary_cleaner.state.floatbank5_a_level  \\\n",
       "0                                    -432.317850   \n",
       "1                                    -525.839648   \n",
       "2                                    -500.801673   \n",
       "3                                    -500.868509   \n",
       "4                                    -509.526725   \n",
       "...                                          ...   \n",
       "5285                                 -499.516126   \n",
       "5286                                 -496.892967   \n",
       "5287                                 -498.347898   \n",
       "5288                                 -499.985046   \n",
       "5289                                 -500.658027   \n",
       "\n",
       "      secondary_cleaner.state.floatbank5_b_air  \\\n",
       "0                                     4.872511   \n",
       "1                                     4.878850   \n",
       "2                                     4.905125   \n",
       "3                                     4.931400   \n",
       "4                                     4.957674   \n",
       "...                                        ...   \n",
       "5285                                  5.933319   \n",
       "5286                                  7.372897   \n",
       "5287                                  9.020944   \n",
       "5288                                  9.009783   \n",
       "5289                                  8.989497   \n",
       "\n",
       "      secondary_cleaner.state.floatbank5_b_level  \\\n",
       "0                                    -500.037437   \n",
       "1                                    -500.162375   \n",
       "2                                    -499.828510   \n",
       "3                                    -499.963623   \n",
       "4                                    -500.360026   \n",
       "...                                          ...   \n",
       "5285                                 -499.965973   \n",
       "5286                                 -499.942956   \n",
       "5287                                 -500.040448   \n",
       "5288                                 -499.937902   \n",
       "5289                                 -500.337588   \n",
       "\n",
       "      secondary_cleaner.state.floatbank6_a_air  \\\n",
       "0                                    26.705889   \n",
       "1                                    25.019940   \n",
       "2                                    24.994862   \n",
       "3                                    24.948919   \n",
       "4                                    25.003331   \n",
       "...                                        ...   \n",
       "5285                                  8.987171   \n",
       "5286                                  8.986832   \n",
       "5287                                  8.982038   \n",
       "5288                                  9.012660   \n",
       "5289                                  8.988632   \n",
       "\n",
       "      secondary_cleaner.state.floatbank6_a_level  \n",
       "0                                    -499.709414  \n",
       "1                                    -499.819438  \n",
       "2                                    -500.622559  \n",
       "3                                    -498.709987  \n",
       "4                                    -500.856333  \n",
       "...                                          ...  \n",
       "5285                                 -499.755909  \n",
       "5286                                 -499.903761  \n",
       "5287                                 -497.789882  \n",
       "5288                                 -500.154284  \n",
       "5289                                 -500.764937  \n",
       "\n",
       "[5290 rows x 53 columns]"
      ]
     },
     "metadata": {},
     "output_type": "display_data"
    },
    {
     "name": "stdout",
     "output_type": "stream",
     "text": [
      "df_full\n",
      "\n",
      "<class 'pandas.core.frame.DataFrame'>\n",
      "RangeIndex: 19439 entries, 0 to 19438\n",
      "Data columns (total 87 columns):\n",
      " #   Column                                              Non-Null Count  Dtype  \n",
      "---  ------                                              --------------  -----  \n",
      " 0   date                                                19439 non-null  object \n",
      " 1   final.output.concentrate_ag                         19438 non-null  float64\n",
      " 2   final.output.concentrate_pb                         19438 non-null  float64\n",
      " 3   final.output.concentrate_sol                        19228 non-null  float64\n",
      " 4   final.output.concentrate_au                         19439 non-null  float64\n",
      " 5   final.output.recovery                               19439 non-null  float64\n",
      " 6   final.output.tail_ag                                19438 non-null  float64\n",
      " 7   final.output.tail_pb                                19338 non-null  float64\n",
      " 8   final.output.tail_sol                               19433 non-null  float64\n",
      " 9   final.output.tail_au                                19439 non-null  float64\n",
      " 10  primary_cleaner.input.sulfate                       19415 non-null  float64\n",
      " 11  primary_cleaner.input.depressant                    19402 non-null  float64\n",
      " 12  primary_cleaner.input.feed_size                     19439 non-null  float64\n",
      " 13  primary_cleaner.input.xanthate                      19335 non-null  float64\n",
      " 14  primary_cleaner.output.concentrate_ag               19439 non-null  float64\n",
      " 15  primary_cleaner.output.concentrate_pb               19323 non-null  float64\n",
      " 16  primary_cleaner.output.concentrate_sol              19069 non-null  float64\n",
      " 17  primary_cleaner.output.concentrate_au               19439 non-null  float64\n",
      " 18  primary_cleaner.output.tail_ag                      19435 non-null  float64\n",
      " 19  primary_cleaner.output.tail_pb                      19418 non-null  float64\n",
      " 20  primary_cleaner.output.tail_sol                     19377 non-null  float64\n",
      " 21  primary_cleaner.output.tail_au                      19439 non-null  float64\n",
      " 22  primary_cleaner.state.floatbank8_a_air              19435 non-null  float64\n",
      " 23  primary_cleaner.state.floatbank8_a_level            19438 non-null  float64\n",
      " 24  primary_cleaner.state.floatbank8_b_air              19435 non-null  float64\n",
      " 25  primary_cleaner.state.floatbank8_b_level            19438 non-null  float64\n",
      " 26  primary_cleaner.state.floatbank8_c_air              19437 non-null  float64\n",
      " 27  primary_cleaner.state.floatbank8_c_level            19438 non-null  float64\n",
      " 28  primary_cleaner.state.floatbank8_d_air              19436 non-null  float64\n",
      " 29  primary_cleaner.state.floatbank8_d_level            19438 non-null  float64\n",
      " 30  rougher.calculation.sulfate_to_au_concentrate       19437 non-null  float64\n",
      " 31  rougher.calculation.floatbank10_sulfate_to_au_feed  19437 non-null  float64\n",
      " 32  rougher.calculation.floatbank11_sulfate_to_au_feed  19437 non-null  float64\n",
      " 33  rougher.calculation.au_pb_ratio                     19439 non-null  float64\n",
      " 34  rougher.input.feed_ag                               19439 non-null  float64\n",
      " 35  rougher.input.feed_pb                               19339 non-null  float64\n",
      " 36  rougher.input.feed_rate                             19428 non-null  float64\n",
      " 37  rougher.input.feed_size                             19294 non-null  float64\n",
      " 38  rougher.input.feed_sol                              19340 non-null  float64\n",
      " 39  rougher.input.feed_au                               19439 non-null  float64\n",
      " 40  rougher.input.floatbank10_sulfate                   19405 non-null  float64\n",
      " 41  rougher.input.floatbank10_xanthate                  19431 non-null  float64\n",
      " 42  rougher.input.floatbank11_sulfate                   19395 non-null  float64\n",
      " 43  rougher.input.floatbank11_xanthate                  18986 non-null  float64\n",
      " 44  rougher.output.concentrate_ag                       19439 non-null  float64\n",
      " 45  rougher.output.concentrate_pb                       19439 non-null  float64\n",
      " 46  rougher.output.concentrate_sol                      19416 non-null  float64\n",
      " 47  rougher.output.concentrate_au                       19439 non-null  float64\n",
      " 48  rougher.output.recovery                             19439 non-null  float64\n",
      " 49  rougher.output.tail_ag                              19438 non-null  float64\n",
      " 50  rougher.output.tail_pb                              19439 non-null  float64\n",
      " 51  rougher.output.tail_sol                             19439 non-null  float64\n",
      " 52  rougher.output.tail_au                              19439 non-null  float64\n",
      " 53  rougher.state.floatbank10_a_air                     19438 non-null  float64\n",
      " 54  rougher.state.floatbank10_a_level                   19438 non-null  float64\n",
      " 55  rougher.state.floatbank10_b_air                     19438 non-null  float64\n",
      " 56  rougher.state.floatbank10_b_level                   19438 non-null  float64\n",
      " 57  rougher.state.floatbank10_c_air                     19438 non-null  float64\n",
      " 58  rougher.state.floatbank10_c_level                   19438 non-null  float64\n",
      " 59  rougher.state.floatbank10_d_air                     19439 non-null  float64\n",
      " 60  rougher.state.floatbank10_d_level                   19439 non-null  float64\n",
      " 61  rougher.state.floatbank10_e_air                     19003 non-null  float64\n",
      " 62  rougher.state.floatbank10_e_level                   19439 non-null  float64\n",
      " 63  rougher.state.floatbank10_f_air                     19439 non-null  float64\n",
      " 64  rougher.state.floatbank10_f_level                   19439 non-null  float64\n",
      " 65  secondary_cleaner.output.tail_ag                    19437 non-null  float64\n",
      " 66  secondary_cleaner.output.tail_pb                    19427 non-null  float64\n",
      " 67  secondary_cleaner.output.tail_sol                   17691 non-null  float64\n",
      " 68  secondary_cleaner.output.tail_au                    19439 non-null  float64\n",
      " 69  secondary_cleaner.state.floatbank2_a_air            19219 non-null  float64\n",
      " 70  secondary_cleaner.state.floatbank2_a_level          19438 non-null  float64\n",
      " 71  secondary_cleaner.state.floatbank2_b_air            19416 non-null  float64\n",
      " 72  secondary_cleaner.state.floatbank2_b_level          19438 non-null  float64\n",
      " 73  secondary_cleaner.state.floatbank3_a_air            19426 non-null  float64\n",
      " 74  secondary_cleaner.state.floatbank3_a_level          19438 non-null  float64\n",
      " 75  secondary_cleaner.state.floatbank3_b_air            19438 non-null  float64\n",
      " 76  secondary_cleaner.state.floatbank3_b_level          19438 non-null  float64\n",
      " 77  secondary_cleaner.state.floatbank4_a_air            19433 non-null  float64\n",
      " 78  secondary_cleaner.state.floatbank4_a_level          19438 non-null  float64\n",
      " 79  secondary_cleaner.state.floatbank4_b_air            19438 non-null  float64\n",
      " 80  secondary_cleaner.state.floatbank4_b_level          19438 non-null  float64\n",
      " 81  secondary_cleaner.state.floatbank5_a_air            19438 non-null  float64\n",
      " 82  secondary_cleaner.state.floatbank5_a_level          19438 non-null  float64\n",
      " 83  secondary_cleaner.state.floatbank5_b_air            19438 non-null  float64\n",
      " 84  secondary_cleaner.state.floatbank5_b_level          19438 non-null  float64\n",
      " 85  secondary_cleaner.state.floatbank6_a_air            19437 non-null  float64\n",
      " 86  secondary_cleaner.state.floatbank6_a_level          19438 non-null  float64\n",
      "dtypes: float64(86), object(1)\n",
      "memory usage: 12.9+ MB\n",
      "None\n"
     ]
    },
    {
     "data": {
      "text/html": [
       "<div>\n",
       "<style scoped>\n",
       "    .dataframe tbody tr th:only-of-type {\n",
       "        vertical-align: middle;\n",
       "    }\n",
       "\n",
       "    .dataframe tbody tr th {\n",
       "        vertical-align: top;\n",
       "    }\n",
       "\n",
       "    .dataframe thead th {\n",
       "        text-align: right;\n",
       "    }\n",
       "</style>\n",
       "<table border=\"1\" class=\"dataframe\">\n",
       "  <thead>\n",
       "    <tr style=\"text-align: right;\">\n",
       "      <th></th>\n",
       "      <th>date</th>\n",
       "      <th>final.output.concentrate_ag</th>\n",
       "      <th>final.output.concentrate_pb</th>\n",
       "      <th>final.output.concentrate_sol</th>\n",
       "      <th>final.output.concentrate_au</th>\n",
       "      <th>final.output.recovery</th>\n",
       "      <th>final.output.tail_ag</th>\n",
       "      <th>final.output.tail_pb</th>\n",
       "      <th>final.output.tail_sol</th>\n",
       "      <th>final.output.tail_au</th>\n",
       "      <th>primary_cleaner.input.sulfate</th>\n",
       "      <th>primary_cleaner.input.depressant</th>\n",
       "      <th>primary_cleaner.input.feed_size</th>\n",
       "      <th>primary_cleaner.input.xanthate</th>\n",
       "      <th>primary_cleaner.output.concentrate_ag</th>\n",
       "      <th>primary_cleaner.output.concentrate_pb</th>\n",
       "      <th>primary_cleaner.output.concentrate_sol</th>\n",
       "      <th>primary_cleaner.output.concentrate_au</th>\n",
       "      <th>primary_cleaner.output.tail_ag</th>\n",
       "      <th>primary_cleaner.output.tail_pb</th>\n",
       "      <th>primary_cleaner.output.tail_sol</th>\n",
       "      <th>primary_cleaner.output.tail_au</th>\n",
       "      <th>primary_cleaner.state.floatbank8_a_air</th>\n",
       "      <th>primary_cleaner.state.floatbank8_a_level</th>\n",
       "      <th>primary_cleaner.state.floatbank8_b_air</th>\n",
       "      <th>primary_cleaner.state.floatbank8_b_level</th>\n",
       "      <th>primary_cleaner.state.floatbank8_c_air</th>\n",
       "      <th>primary_cleaner.state.floatbank8_c_level</th>\n",
       "      <th>primary_cleaner.state.floatbank8_d_air</th>\n",
       "      <th>primary_cleaner.state.floatbank8_d_level</th>\n",
       "      <th>rougher.calculation.sulfate_to_au_concentrate</th>\n",
       "      <th>rougher.calculation.floatbank10_sulfate_to_au_feed</th>\n",
       "      <th>rougher.calculation.floatbank11_sulfate_to_au_feed</th>\n",
       "      <th>rougher.calculation.au_pb_ratio</th>\n",
       "      <th>rougher.input.feed_ag</th>\n",
       "      <th>rougher.input.feed_pb</th>\n",
       "      <th>rougher.input.feed_rate</th>\n",
       "      <th>rougher.input.feed_size</th>\n",
       "      <th>rougher.input.feed_sol</th>\n",
       "      <th>rougher.input.feed_au</th>\n",
       "      <th>rougher.input.floatbank10_sulfate</th>\n",
       "      <th>rougher.input.floatbank10_xanthate</th>\n",
       "      <th>rougher.input.floatbank11_sulfate</th>\n",
       "      <th>rougher.input.floatbank11_xanthate</th>\n",
       "      <th>rougher.output.concentrate_ag</th>\n",
       "      <th>rougher.output.concentrate_pb</th>\n",
       "      <th>rougher.output.concentrate_sol</th>\n",
       "      <th>rougher.output.concentrate_au</th>\n",
       "      <th>rougher.output.recovery</th>\n",
       "      <th>rougher.output.tail_ag</th>\n",
       "      <th>rougher.output.tail_pb</th>\n",
       "      <th>rougher.output.tail_sol</th>\n",
       "      <th>rougher.output.tail_au</th>\n",
       "      <th>rougher.state.floatbank10_a_air</th>\n",
       "      <th>rougher.state.floatbank10_a_level</th>\n",
       "      <th>rougher.state.floatbank10_b_air</th>\n",
       "      <th>rougher.state.floatbank10_b_level</th>\n",
       "      <th>rougher.state.floatbank10_c_air</th>\n",
       "      <th>rougher.state.floatbank10_c_level</th>\n",
       "      <th>rougher.state.floatbank10_d_air</th>\n",
       "      <th>rougher.state.floatbank10_d_level</th>\n",
       "      <th>rougher.state.floatbank10_e_air</th>\n",
       "      <th>rougher.state.floatbank10_e_level</th>\n",
       "      <th>rougher.state.floatbank10_f_air</th>\n",
       "      <th>rougher.state.floatbank10_f_level</th>\n",
       "      <th>secondary_cleaner.output.tail_ag</th>\n",
       "      <th>secondary_cleaner.output.tail_pb</th>\n",
       "      <th>secondary_cleaner.output.tail_sol</th>\n",
       "      <th>secondary_cleaner.output.tail_au</th>\n",
       "      <th>secondary_cleaner.state.floatbank2_a_air</th>\n",
       "      <th>secondary_cleaner.state.floatbank2_a_level</th>\n",
       "      <th>secondary_cleaner.state.floatbank2_b_air</th>\n",
       "      <th>secondary_cleaner.state.floatbank2_b_level</th>\n",
       "      <th>secondary_cleaner.state.floatbank3_a_air</th>\n",
       "      <th>secondary_cleaner.state.floatbank3_a_level</th>\n",
       "      <th>secondary_cleaner.state.floatbank3_b_air</th>\n",
       "      <th>secondary_cleaner.state.floatbank3_b_level</th>\n",
       "      <th>secondary_cleaner.state.floatbank4_a_air</th>\n",
       "      <th>secondary_cleaner.state.floatbank4_a_level</th>\n",
       "      <th>secondary_cleaner.state.floatbank4_b_air</th>\n",
       "      <th>secondary_cleaner.state.floatbank4_b_level</th>\n",
       "      <th>secondary_cleaner.state.floatbank5_a_air</th>\n",
       "      <th>secondary_cleaner.state.floatbank5_a_level</th>\n",
       "      <th>secondary_cleaner.state.floatbank5_b_air</th>\n",
       "      <th>secondary_cleaner.state.floatbank5_b_level</th>\n",
       "      <th>secondary_cleaner.state.floatbank6_a_air</th>\n",
       "      <th>secondary_cleaner.state.floatbank6_a_level</th>\n",
       "    </tr>\n",
       "  </thead>\n",
       "  <tbody>\n",
       "    <tr>\n",
       "      <th>0</th>\n",
       "      <td>2016-01-15 00:00:00</td>\n",
       "      <td>6.055403</td>\n",
       "      <td>9.889648</td>\n",
       "      <td>5.507324</td>\n",
       "      <td>42.192020</td>\n",
       "      <td>70.541216</td>\n",
       "      <td>10.411962</td>\n",
       "      <td>0.895447</td>\n",
       "      <td>16.904297</td>\n",
       "      <td>2.143149</td>\n",
       "      <td>127.092003</td>\n",
       "      <td>10.128295</td>\n",
       "      <td>7.25</td>\n",
       "      <td>0.988759</td>\n",
       "      <td>8.547551</td>\n",
       "      <td>10.389648</td>\n",
       "      <td>19.529297</td>\n",
       "      <td>34.174427</td>\n",
       "      <td>14.936526</td>\n",
       "      <td>2.534912</td>\n",
       "      <td>7.476074</td>\n",
       "      <td>2.106679</td>\n",
       "      <td>1549.775757</td>\n",
       "      <td>-498.912140</td>\n",
       "      <td>1551.434204</td>\n",
       "      <td>-516.403442</td>\n",
       "      <td>1549.873901</td>\n",
       "      <td>-498.666595</td>\n",
       "      <td>1554.367432</td>\n",
       "      <td>-493.428131</td>\n",
       "      <td>41885.707031</td>\n",
       "      <td>3481.779053</td>\n",
       "      <td>3520.337158</td>\n",
       "      <td>2.838687</td>\n",
       "      <td>6.100378</td>\n",
       "      <td>2.284912</td>\n",
       "      <td>523.546326</td>\n",
       "      <td>55.486599</td>\n",
       "      <td>36.808594</td>\n",
       "      <td>6.486150</td>\n",
       "      <td>11.986616</td>\n",
       "      <td>6.007990</td>\n",
       "      <td>11.836743</td>\n",
       "      <td>6.005818</td>\n",
       "      <td>11.500771</td>\n",
       "      <td>7.101074</td>\n",
       "      <td>28.029297</td>\n",
       "      <td>19.793808</td>\n",
       "      <td>87.107763</td>\n",
       "      <td>5.008018</td>\n",
       "      <td>0.508728</td>\n",
       "      <td>19.154297</td>\n",
       "      <td>1.170244</td>\n",
       "      <td>999.706909</td>\n",
       "      <td>-404.066986</td>\n",
       "      <td>1603.011353</td>\n",
       "      <td>-434.715027</td>\n",
       "      <td>1602.375000</td>\n",
       "      <td>-442.204468</td>\n",
       "      <td>1598.937256</td>\n",
       "      <td>-451.294128</td>\n",
       "      <td>1404.472046</td>\n",
       "      <td>-455.462982</td>\n",
       "      <td>1416.354980</td>\n",
       "      <td>-451.939636</td>\n",
       "      <td>14.500184</td>\n",
       "      <td>4.694824</td>\n",
       "      <td>8.764648</td>\n",
       "      <td>2.606185</td>\n",
       "      <td>25.853109</td>\n",
       "      <td>-498.526489</td>\n",
       "      <td>23.893660</td>\n",
       "      <td>-501.406281</td>\n",
       "      <td>23.961798</td>\n",
       "      <td>-495.262817</td>\n",
       "      <td>21.940409</td>\n",
       "      <td>-499.340973</td>\n",
       "      <td>14.016835</td>\n",
       "      <td>-502.488007</td>\n",
       "      <td>12.099931</td>\n",
       "      <td>-504.715942</td>\n",
       "      <td>9.925633</td>\n",
       "      <td>-498.310211</td>\n",
       "      <td>8.079666</td>\n",
       "      <td>-500.470978</td>\n",
       "      <td>14.151341</td>\n",
       "      <td>-605.841980</td>\n",
       "    </tr>\n",
       "    <tr>\n",
       "      <th>1</th>\n",
       "      <td>2016-01-15 01:00:00</td>\n",
       "      <td>6.029369</td>\n",
       "      <td>9.968944</td>\n",
       "      <td>5.257781</td>\n",
       "      <td>42.701629</td>\n",
       "      <td>69.266198</td>\n",
       "      <td>10.462676</td>\n",
       "      <td>0.927452</td>\n",
       "      <td>16.634514</td>\n",
       "      <td>2.224930</td>\n",
       "      <td>125.629232</td>\n",
       "      <td>10.296251</td>\n",
       "      <td>7.25</td>\n",
       "      <td>1.002663</td>\n",
       "      <td>8.558743</td>\n",
       "      <td>10.497069</td>\n",
       "      <td>19.369147</td>\n",
       "      <td>34.118526</td>\n",
       "      <td>16.250511</td>\n",
       "      <td>3.049646</td>\n",
       "      <td>6.733907</td>\n",
       "      <td>2.353017</td>\n",
       "      <td>1576.166671</td>\n",
       "      <td>-500.904965</td>\n",
       "      <td>1575.950626</td>\n",
       "      <td>-499.865889</td>\n",
       "      <td>1575.994189</td>\n",
       "      <td>-499.315107</td>\n",
       "      <td>1574.479259</td>\n",
       "      <td>-498.931665</td>\n",
       "      <td>42050.861809</td>\n",
       "      <td>3498.370979</td>\n",
       "      <td>3489.981857</td>\n",
       "      <td>2.858998</td>\n",
       "      <td>6.161113</td>\n",
       "      <td>2.266033</td>\n",
       "      <td>525.290581</td>\n",
       "      <td>57.278666</td>\n",
       "      <td>35.753385</td>\n",
       "      <td>6.478583</td>\n",
       "      <td>11.971193</td>\n",
       "      <td>6.005766</td>\n",
       "      <td>11.996163</td>\n",
       "      <td>6.012594</td>\n",
       "      <td>11.615865</td>\n",
       "      <td>7.278807</td>\n",
       "      <td>28.067063</td>\n",
       "      <td>20.050975</td>\n",
       "      <td>86.843261</td>\n",
       "      <td>4.955378</td>\n",
       "      <td>0.536689</td>\n",
       "      <td>18.965234</td>\n",
       "      <td>1.184827</td>\n",
       "      <td>1000.286398</td>\n",
       "      <td>-400.065196</td>\n",
       "      <td>1600.754587</td>\n",
       "      <td>-449.953435</td>\n",
       "      <td>1600.479580</td>\n",
       "      <td>-449.830646</td>\n",
       "      <td>1600.527589</td>\n",
       "      <td>-449.953649</td>\n",
       "      <td>1399.227084</td>\n",
       "      <td>-450.869848</td>\n",
       "      <td>1399.719514</td>\n",
       "      <td>-450.119001</td>\n",
       "      <td>14.265474</td>\n",
       "      <td>4.592547</td>\n",
       "      <td>9.001494</td>\n",
       "      <td>2.488248</td>\n",
       "      <td>25.880539</td>\n",
       "      <td>-499.989656</td>\n",
       "      <td>23.889530</td>\n",
       "      <td>-500.372428</td>\n",
       "      <td>23.970550</td>\n",
       "      <td>-500.085473</td>\n",
       "      <td>22.085714</td>\n",
       "      <td>-499.446897</td>\n",
       "      <td>13.992281</td>\n",
       "      <td>-505.503262</td>\n",
       "      <td>11.950531</td>\n",
       "      <td>-501.331529</td>\n",
       "      <td>10.039245</td>\n",
       "      <td>-500.169983</td>\n",
       "      <td>7.984757</td>\n",
       "      <td>-500.582168</td>\n",
       "      <td>13.998353</td>\n",
       "      <td>-599.787184</td>\n",
       "    </tr>\n",
       "    <tr>\n",
       "      <th>2</th>\n",
       "      <td>2016-01-15 02:00:00</td>\n",
       "      <td>6.055926</td>\n",
       "      <td>10.213995</td>\n",
       "      <td>5.383759</td>\n",
       "      <td>42.657501</td>\n",
       "      <td>68.116445</td>\n",
       "      <td>10.507046</td>\n",
       "      <td>0.953716</td>\n",
       "      <td>16.208849</td>\n",
       "      <td>2.257889</td>\n",
       "      <td>123.819808</td>\n",
       "      <td>11.316280</td>\n",
       "      <td>7.25</td>\n",
       "      <td>0.991265</td>\n",
       "      <td>8.603505</td>\n",
       "      <td>10.354494</td>\n",
       "      <td>19.167579</td>\n",
       "      <td>33.969464</td>\n",
       "      <td>16.491823</td>\n",
       "      <td>3.124664</td>\n",
       "      <td>6.471768</td>\n",
       "      <td>2.416800</td>\n",
       "      <td>1601.556163</td>\n",
       "      <td>-499.997791</td>\n",
       "      <td>1600.386685</td>\n",
       "      <td>-500.607762</td>\n",
       "      <td>1602.003542</td>\n",
       "      <td>-500.870069</td>\n",
       "      <td>1599.541515</td>\n",
       "      <td>-499.827444</td>\n",
       "      <td>42018.101184</td>\n",
       "      <td>3495.348910</td>\n",
       "      <td>3502.359819</td>\n",
       "      <td>2.945989</td>\n",
       "      <td>6.116455</td>\n",
       "      <td>2.159622</td>\n",
       "      <td>530.026610</td>\n",
       "      <td>57.510649</td>\n",
       "      <td>35.971630</td>\n",
       "      <td>6.362222</td>\n",
       "      <td>11.920603</td>\n",
       "      <td>6.197377</td>\n",
       "      <td>11.920305</td>\n",
       "      <td>6.204633</td>\n",
       "      <td>11.695753</td>\n",
       "      <td>7.216833</td>\n",
       "      <td>27.454037</td>\n",
       "      <td>19.737170</td>\n",
       "      <td>86.842308</td>\n",
       "      <td>4.843460</td>\n",
       "      <td>0.546416</td>\n",
       "      <td>18.808533</td>\n",
       "      <td>1.162562</td>\n",
       "      <td>999.719565</td>\n",
       "      <td>-400.074028</td>\n",
       "      <td>1599.337330</td>\n",
       "      <td>-450.008530</td>\n",
       "      <td>1599.672797</td>\n",
       "      <td>-449.954491</td>\n",
       "      <td>1599.849325</td>\n",
       "      <td>-449.954185</td>\n",
       "      <td>1399.180945</td>\n",
       "      <td>-449.937588</td>\n",
       "      <td>1400.316682</td>\n",
       "      <td>-450.527147</td>\n",
       "      <td>14.115662</td>\n",
       "      <td>4.624775</td>\n",
       "      <td>8.842896</td>\n",
       "      <td>2.458187</td>\n",
       "      <td>26.005245</td>\n",
       "      <td>-499.929616</td>\n",
       "      <td>23.886657</td>\n",
       "      <td>-499.951928</td>\n",
       "      <td>23.913535</td>\n",
       "      <td>-499.442343</td>\n",
       "      <td>23.957717</td>\n",
       "      <td>-499.901982</td>\n",
       "      <td>14.015015</td>\n",
       "      <td>-502.520901</td>\n",
       "      <td>11.912783</td>\n",
       "      <td>-501.133383</td>\n",
       "      <td>10.070913</td>\n",
       "      <td>-500.129135</td>\n",
       "      <td>8.013877</td>\n",
       "      <td>-500.517572</td>\n",
       "      <td>14.028663</td>\n",
       "      <td>-601.427363</td>\n",
       "    </tr>\n",
       "    <tr>\n",
       "      <th>3</th>\n",
       "      <td>2016-01-15 03:00:00</td>\n",
       "      <td>6.047977</td>\n",
       "      <td>9.977019</td>\n",
       "      <td>4.858634</td>\n",
       "      <td>42.689819</td>\n",
       "      <td>68.347543</td>\n",
       "      <td>10.422762</td>\n",
       "      <td>0.883763</td>\n",
       "      <td>16.532835</td>\n",
       "      <td>2.146849</td>\n",
       "      <td>122.270188</td>\n",
       "      <td>11.322140</td>\n",
       "      <td>7.25</td>\n",
       "      <td>0.996739</td>\n",
       "      <td>7.221879</td>\n",
       "      <td>8.496563</td>\n",
       "      <td>15.978538</td>\n",
       "      <td>28.260743</td>\n",
       "      <td>16.024359</td>\n",
       "      <td>2.960362</td>\n",
       "      <td>6.843791</td>\n",
       "      <td>2.262051</td>\n",
       "      <td>1599.968720</td>\n",
       "      <td>-500.951778</td>\n",
       "      <td>1600.659236</td>\n",
       "      <td>-499.677094</td>\n",
       "      <td>1600.304144</td>\n",
       "      <td>-500.727997</td>\n",
       "      <td>1600.449520</td>\n",
       "      <td>-500.052575</td>\n",
       "      <td>42029.447991</td>\n",
       "      <td>3498.578313</td>\n",
       "      <td>3499.162912</td>\n",
       "      <td>3.002340</td>\n",
       "      <td>6.043309</td>\n",
       "      <td>2.037807</td>\n",
       "      <td>542.590390</td>\n",
       "      <td>57.792734</td>\n",
       "      <td>36.862241</td>\n",
       "      <td>6.118189</td>\n",
       "      <td>11.630094</td>\n",
       "      <td>6.203177</td>\n",
       "      <td>11.692450</td>\n",
       "      <td>6.196578</td>\n",
       "      <td>11.915047</td>\n",
       "      <td>7.175616</td>\n",
       "      <td>27.341277</td>\n",
       "      <td>19.320810</td>\n",
       "      <td>87.226430</td>\n",
       "      <td>4.655288</td>\n",
       "      <td>0.542525</td>\n",
       "      <td>19.330200</td>\n",
       "      <td>1.079755</td>\n",
       "      <td>999.814770</td>\n",
       "      <td>-400.200179</td>\n",
       "      <td>1600.059442</td>\n",
       "      <td>-450.619948</td>\n",
       "      <td>1600.012842</td>\n",
       "      <td>-449.910497</td>\n",
       "      <td>1597.725177</td>\n",
       "      <td>-450.130127</td>\n",
       "      <td>1400.943157</td>\n",
       "      <td>-450.030142</td>\n",
       "      <td>1400.234743</td>\n",
       "      <td>-449.790835</td>\n",
       "      <td>13.732071</td>\n",
       "      <td>4.482453</td>\n",
       "      <td>9.122857</td>\n",
       "      <td>2.322062</td>\n",
       "      <td>25.942508</td>\n",
       "      <td>-499.176749</td>\n",
       "      <td>23.955516</td>\n",
       "      <td>-499.848796</td>\n",
       "      <td>23.966838</td>\n",
       "      <td>-500.008812</td>\n",
       "      <td>23.954443</td>\n",
       "      <td>-499.944710</td>\n",
       "      <td>14.036510</td>\n",
       "      <td>-500.857308</td>\n",
       "      <td>11.999550</td>\n",
       "      <td>-501.193686</td>\n",
       "      <td>9.970366</td>\n",
       "      <td>-499.201640</td>\n",
       "      <td>7.977324</td>\n",
       "      <td>-500.255908</td>\n",
       "      <td>14.005551</td>\n",
       "      <td>-599.996129</td>\n",
       "    </tr>\n",
       "    <tr>\n",
       "      <th>4</th>\n",
       "      <td>2016-01-15 04:00:00</td>\n",
       "      <td>6.148599</td>\n",
       "      <td>10.142511</td>\n",
       "      <td>4.939416</td>\n",
       "      <td>42.774141</td>\n",
       "      <td>66.927016</td>\n",
       "      <td>10.360302</td>\n",
       "      <td>0.792826</td>\n",
       "      <td>16.525686</td>\n",
       "      <td>2.055292</td>\n",
       "      <td>117.988169</td>\n",
       "      <td>11.913613</td>\n",
       "      <td>7.25</td>\n",
       "      <td>1.009869</td>\n",
       "      <td>9.089428</td>\n",
       "      <td>9.986786</td>\n",
       "      <td>19.199864</td>\n",
       "      <td>33.044932</td>\n",
       "      <td>16.480185</td>\n",
       "      <td>3.112100</td>\n",
       "      <td>6.550154</td>\n",
       "      <td>2.277073</td>\n",
       "      <td>1601.339707</td>\n",
       "      <td>-498.975456</td>\n",
       "      <td>1601.437854</td>\n",
       "      <td>-500.323246</td>\n",
       "      <td>1599.581894</td>\n",
       "      <td>-500.888152</td>\n",
       "      <td>1602.649541</td>\n",
       "      <td>-500.593010</td>\n",
       "      <td>42125.354245</td>\n",
       "      <td>3494.800771</td>\n",
       "      <td>3506.679315</td>\n",
       "      <td>3.169615</td>\n",
       "      <td>6.060915</td>\n",
       "      <td>1.786875</td>\n",
       "      <td>540.531893</td>\n",
       "      <td>56.047189</td>\n",
       "      <td>34.347666</td>\n",
       "      <td>5.663707</td>\n",
       "      <td>10.957755</td>\n",
       "      <td>6.198826</td>\n",
       "      <td>10.960521</td>\n",
       "      <td>6.194897</td>\n",
       "      <td>12.411054</td>\n",
       "      <td>7.240205</td>\n",
       "      <td>27.041023</td>\n",
       "      <td>19.216101</td>\n",
       "      <td>86.688794</td>\n",
       "      <td>4.552800</td>\n",
       "      <td>0.515438</td>\n",
       "      <td>19.267422</td>\n",
       "      <td>1.012642</td>\n",
       "      <td>999.678690</td>\n",
       "      <td>-399.752729</td>\n",
       "      <td>1600.208824</td>\n",
       "      <td>-449.599614</td>\n",
       "      <td>1600.357732</td>\n",
       "      <td>-450.034364</td>\n",
       "      <td>1599.759049</td>\n",
       "      <td>-449.909799</td>\n",
       "      <td>1401.560902</td>\n",
       "      <td>-448.877187</td>\n",
       "      <td>1401.160227</td>\n",
       "      <td>-450.407128</td>\n",
       "      <td>14.079996</td>\n",
       "      <td>4.470737</td>\n",
       "      <td>8.871028</td>\n",
       "      <td>2.330448</td>\n",
       "      <td>26.024787</td>\n",
       "      <td>-500.279091</td>\n",
       "      <td>23.955345</td>\n",
       "      <td>-500.593614</td>\n",
       "      <td>23.985703</td>\n",
       "      <td>-500.083811</td>\n",
       "      <td>23.958945</td>\n",
       "      <td>-499.990309</td>\n",
       "      <td>14.027298</td>\n",
       "      <td>-499.838632</td>\n",
       "      <td>11.953070</td>\n",
       "      <td>-501.053894</td>\n",
       "      <td>9.925709</td>\n",
       "      <td>-501.686727</td>\n",
       "      <td>7.894242</td>\n",
       "      <td>-500.356035</td>\n",
       "      <td>13.996647</td>\n",
       "      <td>-601.496691</td>\n",
       "    </tr>\n",
       "    <tr>\n",
       "      <th>...</th>\n",
       "      <td>...</td>\n",
       "      <td>...</td>\n",
       "      <td>...</td>\n",
       "      <td>...</td>\n",
       "      <td>...</td>\n",
       "      <td>...</td>\n",
       "      <td>...</td>\n",
       "      <td>...</td>\n",
       "      <td>...</td>\n",
       "      <td>...</td>\n",
       "      <td>...</td>\n",
       "      <td>...</td>\n",
       "      <td>...</td>\n",
       "      <td>...</td>\n",
       "      <td>...</td>\n",
       "      <td>...</td>\n",
       "      <td>...</td>\n",
       "      <td>...</td>\n",
       "      <td>...</td>\n",
       "      <td>...</td>\n",
       "      <td>...</td>\n",
       "      <td>...</td>\n",
       "      <td>...</td>\n",
       "      <td>...</td>\n",
       "      <td>...</td>\n",
       "      <td>...</td>\n",
       "      <td>...</td>\n",
       "      <td>...</td>\n",
       "      <td>...</td>\n",
       "      <td>...</td>\n",
       "      <td>...</td>\n",
       "      <td>...</td>\n",
       "      <td>...</td>\n",
       "      <td>...</td>\n",
       "      <td>...</td>\n",
       "      <td>...</td>\n",
       "      <td>...</td>\n",
       "      <td>...</td>\n",
       "      <td>...</td>\n",
       "      <td>...</td>\n",
       "      <td>...</td>\n",
       "      <td>...</td>\n",
       "      <td>...</td>\n",
       "      <td>...</td>\n",
       "      <td>...</td>\n",
       "      <td>...</td>\n",
       "      <td>...</td>\n",
       "      <td>...</td>\n",
       "      <td>...</td>\n",
       "      <td>...</td>\n",
       "      <td>...</td>\n",
       "      <td>...</td>\n",
       "      <td>...</td>\n",
       "      <td>...</td>\n",
       "      <td>...</td>\n",
       "      <td>...</td>\n",
       "      <td>...</td>\n",
       "      <td>...</td>\n",
       "      <td>...</td>\n",
       "      <td>...</td>\n",
       "      <td>...</td>\n",
       "      <td>...</td>\n",
       "      <td>...</td>\n",
       "      <td>...</td>\n",
       "      <td>...</td>\n",
       "      <td>...</td>\n",
       "      <td>...</td>\n",
       "      <td>...</td>\n",
       "      <td>...</td>\n",
       "      <td>...</td>\n",
       "      <td>...</td>\n",
       "      <td>...</td>\n",
       "      <td>...</td>\n",
       "      <td>...</td>\n",
       "      <td>...</td>\n",
       "      <td>...</td>\n",
       "      <td>...</td>\n",
       "      <td>...</td>\n",
       "      <td>...</td>\n",
       "      <td>...</td>\n",
       "      <td>...</td>\n",
       "      <td>...</td>\n",
       "      <td>...</td>\n",
       "      <td>...</td>\n",
       "      <td>...</td>\n",
       "      <td>...</td>\n",
       "      <td>...</td>\n",
       "    </tr>\n",
       "    <tr>\n",
       "      <th>19434</th>\n",
       "      <td>2018-08-18 06:59:59</td>\n",
       "      <td>3.224920</td>\n",
       "      <td>11.356233</td>\n",
       "      <td>6.803482</td>\n",
       "      <td>46.713954</td>\n",
       "      <td>73.755150</td>\n",
       "      <td>8.769645</td>\n",
       "      <td>3.141541</td>\n",
       "      <td>10.403181</td>\n",
       "      <td>1.529220</td>\n",
       "      <td>123.381787</td>\n",
       "      <td>8.028927</td>\n",
       "      <td>6.50</td>\n",
       "      <td>1.304232</td>\n",
       "      <td>6.559174</td>\n",
       "      <td>12.445966</td>\n",
       "      <td>7.056338</td>\n",
       "      <td>32.940215</td>\n",
       "      <td>22.854592</td>\n",
       "      <td>6.531541</td>\n",
       "      <td>3.934320</td>\n",
       "      <td>2.314352</td>\n",
       "      <td>1648.421193</td>\n",
       "      <td>-400.382169</td>\n",
       "      <td>1648.742005</td>\n",
       "      <td>-400.359661</td>\n",
       "      <td>1648.578230</td>\n",
       "      <td>-399.363624</td>\n",
       "      <td>1648.833984</td>\n",
       "      <td>-399.669220</td>\n",
       "      <td>45912.942619</td>\n",
       "      <td>2497.652954</td>\n",
       "      <td>2499.177950</td>\n",
       "      <td>1.155559</td>\n",
       "      <td>6.091855</td>\n",
       "      <td>4.617558</td>\n",
       "      <td>560.889077</td>\n",
       "      <td>85.718304</td>\n",
       "      <td>37.369774</td>\n",
       "      <td>5.335862</td>\n",
       "      <td>7.762770</td>\n",
       "      <td>9.158609</td>\n",
       "      <td>7.766744</td>\n",
       "      <td>9.156069</td>\n",
       "      <td>11.124896</td>\n",
       "      <td>10.984003</td>\n",
       "      <td>30.068876</td>\n",
       "      <td>18.603550</td>\n",
       "      <td>89.574376</td>\n",
       "      <td>4.207261</td>\n",
       "      <td>0.612935</td>\n",
       "      <td>16.666590</td>\n",
       "      <td>0.748633</td>\n",
       "      <td>1199.245914</td>\n",
       "      <td>-300.845518</td>\n",
       "      <td>1149.807890</td>\n",
       "      <td>-498.789721</td>\n",
       "      <td>1047.963596</td>\n",
       "      <td>-498.413079</td>\n",
       "      <td>946.640977</td>\n",
       "      <td>-499.152477</td>\n",
       "      <td>849.664935</td>\n",
       "      <td>-499.214461</td>\n",
       "      <td>849.758091</td>\n",
       "      <td>-497.448664</td>\n",
       "      <td>0.000000</td>\n",
       "      <td>0.000000</td>\n",
       "      <td>0.000000</td>\n",
       "      <td>0.000000</td>\n",
       "      <td>35.043205</td>\n",
       "      <td>-499.045671</td>\n",
       "      <td>29.906659</td>\n",
       "      <td>-499.979939</td>\n",
       "      <td>26.002402</td>\n",
       "      <td>-499.953431</td>\n",
       "      <td>22.987238</td>\n",
       "      <td>-499.967351</td>\n",
       "      <td>23.031497</td>\n",
       "      <td>-501.167942</td>\n",
       "      <td>20.007571</td>\n",
       "      <td>-499.740028</td>\n",
       "      <td>18.006038</td>\n",
       "      <td>-499.834374</td>\n",
       "      <td>13.001114</td>\n",
       "      <td>-500.155694</td>\n",
       "      <td>20.007840</td>\n",
       "      <td>-501.296428</td>\n",
       "    </tr>\n",
       "    <tr>\n",
       "      <th>19435</th>\n",
       "      <td>2018-08-18 07:59:59</td>\n",
       "      <td>3.195978</td>\n",
       "      <td>11.349355</td>\n",
       "      <td>6.862249</td>\n",
       "      <td>46.866780</td>\n",
       "      <td>69.049291</td>\n",
       "      <td>8.897321</td>\n",
       "      <td>3.130493</td>\n",
       "      <td>10.549470</td>\n",
       "      <td>1.612542</td>\n",
       "      <td>120.878188</td>\n",
       "      <td>7.962636</td>\n",
       "      <td>6.50</td>\n",
       "      <td>1.302419</td>\n",
       "      <td>6.612376</td>\n",
       "      <td>12.623947</td>\n",
       "      <td>7.542264</td>\n",
       "      <td>32.925325</td>\n",
       "      <td>23.002490</td>\n",
       "      <td>6.629725</td>\n",
       "      <td>4.089124</td>\n",
       "      <td>2.462890</td>\n",
       "      <td>1649.820162</td>\n",
       "      <td>-399.930973</td>\n",
       "      <td>1649.357538</td>\n",
       "      <td>-399.721222</td>\n",
       "      <td>1648.656192</td>\n",
       "      <td>-401.195834</td>\n",
       "      <td>1649.725133</td>\n",
       "      <td>-400.636306</td>\n",
       "      <td>46200.099585</td>\n",
       "      <td>2614.403937</td>\n",
       "      <td>2518.550078</td>\n",
       "      <td>1.167342</td>\n",
       "      <td>6.121323</td>\n",
       "      <td>4.144989</td>\n",
       "      <td>559.031805</td>\n",
       "      <td>119.499241</td>\n",
       "      <td>38.591551</td>\n",
       "      <td>4.838619</td>\n",
       "      <td>7.356687</td>\n",
       "      <td>9.304952</td>\n",
       "      <td>7.095508</td>\n",
       "      <td>9.297924</td>\n",
       "      <td>11.425983</td>\n",
       "      <td>10.888213</td>\n",
       "      <td>29.783972</td>\n",
       "      <td>18.441436</td>\n",
       "      <td>87.724007</td>\n",
       "      <td>4.177943</td>\n",
       "      <td>0.650557</td>\n",
       "      <td>16.960649</td>\n",
       "      <td>0.771582</td>\n",
       "      <td>1196.569267</td>\n",
       "      <td>-299.512227</td>\n",
       "      <td>1147.675196</td>\n",
       "      <td>-500.608341</td>\n",
       "      <td>1048.565741</td>\n",
       "      <td>-500.932810</td>\n",
       "      <td>949.773589</td>\n",
       "      <td>-500.023144</td>\n",
       "      <td>848.515225</td>\n",
       "      <td>-500.289405</td>\n",
       "      <td>850.013123</td>\n",
       "      <td>-496.822119</td>\n",
       "      <td>0.000000</td>\n",
       "      <td>0.000000</td>\n",
       "      <td>0.000000</td>\n",
       "      <td>0.000000</td>\n",
       "      <td>35.026062</td>\n",
       "      <td>-499.891945</td>\n",
       "      <td>29.921795</td>\n",
       "      <td>-499.949663</td>\n",
       "      <td>26.031747</td>\n",
       "      <td>-500.384612</td>\n",
       "      <td>22.991058</td>\n",
       "      <td>-500.079590</td>\n",
       "      <td>22.960095</td>\n",
       "      <td>-501.612783</td>\n",
       "      <td>20.035660</td>\n",
       "      <td>-500.251357</td>\n",
       "      <td>17.998535</td>\n",
       "      <td>-500.395178</td>\n",
       "      <td>12.954048</td>\n",
       "      <td>-499.895163</td>\n",
       "      <td>19.968498</td>\n",
       "      <td>-501.041608</td>\n",
       "    </tr>\n",
       "    <tr>\n",
       "      <th>19436</th>\n",
       "      <td>2018-08-18 08:59:59</td>\n",
       "      <td>3.109998</td>\n",
       "      <td>11.434366</td>\n",
       "      <td>6.886013</td>\n",
       "      <td>46.795691</td>\n",
       "      <td>67.002189</td>\n",
       "      <td>8.529606</td>\n",
       "      <td>2.911418</td>\n",
       "      <td>11.115147</td>\n",
       "      <td>1.596616</td>\n",
       "      <td>105.666118</td>\n",
       "      <td>7.955111</td>\n",
       "      <td>6.50</td>\n",
       "      <td>1.315926</td>\n",
       "      <td>7.128896</td>\n",
       "      <td>12.633558</td>\n",
       "      <td>7.941900</td>\n",
       "      <td>31.856742</td>\n",
       "      <td>22.298149</td>\n",
       "      <td>6.278250</td>\n",
       "      <td>4.457457</td>\n",
       "      <td>2.612231</td>\n",
       "      <td>1649.166761</td>\n",
       "      <td>-399.888631</td>\n",
       "      <td>1649.196904</td>\n",
       "      <td>-399.677571</td>\n",
       "      <td>1647.896999</td>\n",
       "      <td>-399.988275</td>\n",
       "      <td>1649.772714</td>\n",
       "      <td>-399.831902</td>\n",
       "      <td>44585.181334</td>\n",
       "      <td>2510.813545</td>\n",
       "      <td>2510.142433</td>\n",
       "      <td>1.125637</td>\n",
       "      <td>5.970515</td>\n",
       "      <td>4.020002</td>\n",
       "      <td>555.682872</td>\n",
       "      <td>122.262690</td>\n",
       "      <td>40.074026</td>\n",
       "      <td>4.525061</td>\n",
       "      <td>6.586020</td>\n",
       "      <td>9.299606</td>\n",
       "      <td>6.584130</td>\n",
       "      <td>9.300133</td>\n",
       "      <td>8.523497</td>\n",
       "      <td>8.955135</td>\n",
       "      <td>22.786467</td>\n",
       "      <td>15.111231</td>\n",
       "      <td>88.890579</td>\n",
       "      <td>4.050010</td>\n",
       "      <td>0.636095</td>\n",
       "      <td>18.323080</td>\n",
       "      <td>0.685059</td>\n",
       "      <td>1204.866639</td>\n",
       "      <td>-299.235675</td>\n",
       "      <td>1149.942902</td>\n",
       "      <td>-501.717903</td>\n",
       "      <td>1049.604390</td>\n",
       "      <td>-500.549053</td>\n",
       "      <td>952.702732</td>\n",
       "      <td>-502.352296</td>\n",
       "      <td>849.016017</td>\n",
       "      <td>-500.505677</td>\n",
       "      <td>850.455635</td>\n",
       "      <td>-506.897968</td>\n",
       "      <td>0.000000</td>\n",
       "      <td>0.000000</td>\n",
       "      <td>0.000000</td>\n",
       "      <td>0.000000</td>\n",
       "      <td>35.003586</td>\n",
       "      <td>-501.083794</td>\n",
       "      <td>29.990533</td>\n",
       "      <td>-611.855898</td>\n",
       "      <td>25.948429</td>\n",
       "      <td>-500.067268</td>\n",
       "      <td>22.968268</td>\n",
       "      <td>-499.839442</td>\n",
       "      <td>23.015718</td>\n",
       "      <td>-501.711599</td>\n",
       "      <td>19.951231</td>\n",
       "      <td>-499.857027</td>\n",
       "      <td>18.019543</td>\n",
       "      <td>-500.451156</td>\n",
       "      <td>13.023431</td>\n",
       "      <td>-499.914391</td>\n",
       "      <td>19.990885</td>\n",
       "      <td>-501.518452</td>\n",
       "    </tr>\n",
       "    <tr>\n",
       "      <th>19437</th>\n",
       "      <td>2018-08-18 09:59:59</td>\n",
       "      <td>3.367241</td>\n",
       "      <td>11.625587</td>\n",
       "      <td>6.799433</td>\n",
       "      <td>46.408188</td>\n",
       "      <td>65.523246</td>\n",
       "      <td>8.777171</td>\n",
       "      <td>2.819214</td>\n",
       "      <td>10.463847</td>\n",
       "      <td>1.602879</td>\n",
       "      <td>98.880538</td>\n",
       "      <td>7.984164</td>\n",
       "      <td>6.50</td>\n",
       "      <td>1.241969</td>\n",
       "      <td>7.490444</td>\n",
       "      <td>12.012378</td>\n",
       "      <td>6.942972</td>\n",
       "      <td>30.770892</td>\n",
       "      <td>22.714656</td>\n",
       "      <td>6.253145</td>\n",
       "      <td>3.557121</td>\n",
       "      <td>2.800648</td>\n",
       "      <td>1646.547763</td>\n",
       "      <td>-398.977083</td>\n",
       "      <td>1648.212240</td>\n",
       "      <td>-400.383265</td>\n",
       "      <td>1648.917387</td>\n",
       "      <td>-399.521344</td>\n",
       "      <td>1651.498591</td>\n",
       "      <td>-399.745329</td>\n",
       "      <td>44084.735708</td>\n",
       "      <td>2507.572494</td>\n",
       "      <td>2507.723361</td>\n",
       "      <td>1.117935</td>\n",
       "      <td>6.048130</td>\n",
       "      <td>3.902537</td>\n",
       "      <td>544.731687</td>\n",
       "      <td>123.742430</td>\n",
       "      <td>39.713906</td>\n",
       "      <td>4.362781</td>\n",
       "      <td>6.210119</td>\n",
       "      <td>9.297709</td>\n",
       "      <td>6.209517</td>\n",
       "      <td>9.297194</td>\n",
       "      <td>11.658799</td>\n",
       "      <td>10.655377</td>\n",
       "      <td>29.052742</td>\n",
       "      <td>17.834772</td>\n",
       "      <td>89.858126</td>\n",
       "      <td>3.902494</td>\n",
       "      <td>0.625609</td>\n",
       "      <td>19.423740</td>\n",
       "      <td>0.567130</td>\n",
       "      <td>1201.904177</td>\n",
       "      <td>-299.907308</td>\n",
       "      <td>1154.087804</td>\n",
       "      <td>-500.036580</td>\n",
       "      <td>1054.009756</td>\n",
       "      <td>-500.237335</td>\n",
       "      <td>944.138793</td>\n",
       "      <td>-496.866953</td>\n",
       "      <td>851.589767</td>\n",
       "      <td>-499.040466</td>\n",
       "      <td>851.345606</td>\n",
       "      <td>-499.122561</td>\n",
       "      <td>0.000000</td>\n",
       "      <td>0.000000</td>\n",
       "      <td>0.000000</td>\n",
       "      <td>0.000000</td>\n",
       "      <td>34.980742</td>\n",
       "      <td>-498.131002</td>\n",
       "      <td>29.968453</td>\n",
       "      <td>-586.013330</td>\n",
       "      <td>25.971737</td>\n",
       "      <td>-499.608392</td>\n",
       "      <td>22.958448</td>\n",
       "      <td>-499.821308</td>\n",
       "      <td>23.024963</td>\n",
       "      <td>-501.153409</td>\n",
       "      <td>20.054122</td>\n",
       "      <td>-500.314711</td>\n",
       "      <td>17.979515</td>\n",
       "      <td>-499.272871</td>\n",
       "      <td>12.992404</td>\n",
       "      <td>-499.976268</td>\n",
       "      <td>20.013986</td>\n",
       "      <td>-500.625471</td>\n",
       "    </tr>\n",
       "    <tr>\n",
       "      <th>19438</th>\n",
       "      <td>2018-08-18 10:59:59</td>\n",
       "      <td>3.598375</td>\n",
       "      <td>11.737832</td>\n",
       "      <td>6.717509</td>\n",
       "      <td>46.299438</td>\n",
       "      <td>70.281454</td>\n",
       "      <td>8.406690</td>\n",
       "      <td>2.517518</td>\n",
       "      <td>10.652193</td>\n",
       "      <td>1.389434</td>\n",
       "      <td>95.248427</td>\n",
       "      <td>8.078957</td>\n",
       "      <td>6.50</td>\n",
       "      <td>1.283045</td>\n",
       "      <td>7.537584</td>\n",
       "      <td>11.650285</td>\n",
       "      <td>6.203553</td>\n",
       "      <td>30.356618</td>\n",
       "      <td>22.735927</td>\n",
       "      <td>6.084287</td>\n",
       "      <td>3.026699</td>\n",
       "      <td>2.708046</td>\n",
       "      <td>1648.759906</td>\n",
       "      <td>-399.862053</td>\n",
       "      <td>1650.135395</td>\n",
       "      <td>-399.957321</td>\n",
       "      <td>1648.831890</td>\n",
       "      <td>-400.586116</td>\n",
       "      <td>1649.464582</td>\n",
       "      <td>-400.673303</td>\n",
       "      <td>44082.866565</td>\n",
       "      <td>2487.477762</td>\n",
       "      <td>2488.626080</td>\n",
       "      <td>1.126367</td>\n",
       "      <td>6.158718</td>\n",
       "      <td>3.875727</td>\n",
       "      <td>555.820208</td>\n",
       "      <td>94.544358</td>\n",
       "      <td>39.135119</td>\n",
       "      <td>4.365491</td>\n",
       "      <td>6.146982</td>\n",
       "      <td>9.308612</td>\n",
       "      <td>6.168939</td>\n",
       "      <td>9.309852</td>\n",
       "      <td>11.959486</td>\n",
       "      <td>10.702148</td>\n",
       "      <td>29.078235</td>\n",
       "      <td>17.804134</td>\n",
       "      <td>89.514960</td>\n",
       "      <td>3.925473</td>\n",
       "      <td>0.638677</td>\n",
       "      <td>19.946673</td>\n",
       "      <td>0.586439</td>\n",
       "      <td>1196.238112</td>\n",
       "      <td>-299.862743</td>\n",
       "      <td>1147.248241</td>\n",
       "      <td>-500.363165</td>\n",
       "      <td>1047.279065</td>\n",
       "      <td>-500.354091</td>\n",
       "      <td>948.756608</td>\n",
       "      <td>-498.439416</td>\n",
       "      <td>849.441918</td>\n",
       "      <td>-499.255503</td>\n",
       "      <td>850.112246</td>\n",
       "      <td>-499.407112</td>\n",
       "      <td>0.000000</td>\n",
       "      <td>0.000000</td>\n",
       "      <td>0.000000</td>\n",
       "      <td>0.000000</td>\n",
       "      <td>34.940919</td>\n",
       "      <td>-500.150510</td>\n",
       "      <td>30.031867</td>\n",
       "      <td>-500.328335</td>\n",
       "      <td>26.033990</td>\n",
       "      <td>-500.147792</td>\n",
       "      <td>22.952306</td>\n",
       "      <td>-500.037678</td>\n",
       "      <td>23.018622</td>\n",
       "      <td>-500.492702</td>\n",
       "      <td>20.020205</td>\n",
       "      <td>-500.220296</td>\n",
       "      <td>17.963512</td>\n",
       "      <td>-499.939490</td>\n",
       "      <td>12.990306</td>\n",
       "      <td>-500.080993</td>\n",
       "      <td>19.990336</td>\n",
       "      <td>-499.191575</td>\n",
       "    </tr>\n",
       "  </tbody>\n",
       "</table>\n",
       "<p>19439 rows × 87 columns</p>\n",
       "</div>"
      ],
      "text/plain": [
       "                      date  final.output.concentrate_ag  \\\n",
       "0      2016-01-15 00:00:00                     6.055403   \n",
       "1      2016-01-15 01:00:00                     6.029369   \n",
       "2      2016-01-15 02:00:00                     6.055926   \n",
       "3      2016-01-15 03:00:00                     6.047977   \n",
       "4      2016-01-15 04:00:00                     6.148599   \n",
       "...                    ...                          ...   \n",
       "19434  2018-08-18 06:59:59                     3.224920   \n",
       "19435  2018-08-18 07:59:59                     3.195978   \n",
       "19436  2018-08-18 08:59:59                     3.109998   \n",
       "19437  2018-08-18 09:59:59                     3.367241   \n",
       "19438  2018-08-18 10:59:59                     3.598375   \n",
       "\n",
       "       final.output.concentrate_pb  final.output.concentrate_sol  \\\n",
       "0                         9.889648                      5.507324   \n",
       "1                         9.968944                      5.257781   \n",
       "2                        10.213995                      5.383759   \n",
       "3                         9.977019                      4.858634   \n",
       "4                        10.142511                      4.939416   \n",
       "...                            ...                           ...   \n",
       "19434                    11.356233                      6.803482   \n",
       "19435                    11.349355                      6.862249   \n",
       "19436                    11.434366                      6.886013   \n",
       "19437                    11.625587                      6.799433   \n",
       "19438                    11.737832                      6.717509   \n",
       "\n",
       "       final.output.concentrate_au  final.output.recovery  \\\n",
       "0                        42.192020              70.541216   \n",
       "1                        42.701629              69.266198   \n",
       "2                        42.657501              68.116445   \n",
       "3                        42.689819              68.347543   \n",
       "4                        42.774141              66.927016   \n",
       "...                            ...                    ...   \n",
       "19434                    46.713954              73.755150   \n",
       "19435                    46.866780              69.049291   \n",
       "19436                    46.795691              67.002189   \n",
       "19437                    46.408188              65.523246   \n",
       "19438                    46.299438              70.281454   \n",
       "\n",
       "       final.output.tail_ag  final.output.tail_pb  final.output.tail_sol  \\\n",
       "0                 10.411962              0.895447              16.904297   \n",
       "1                 10.462676              0.927452              16.634514   \n",
       "2                 10.507046              0.953716              16.208849   \n",
       "3                 10.422762              0.883763              16.532835   \n",
       "4                 10.360302              0.792826              16.525686   \n",
       "...                     ...                   ...                    ...   \n",
       "19434              8.769645              3.141541              10.403181   \n",
       "19435              8.897321              3.130493              10.549470   \n",
       "19436              8.529606              2.911418              11.115147   \n",
       "19437              8.777171              2.819214              10.463847   \n",
       "19438              8.406690              2.517518              10.652193   \n",
       "\n",
       "       final.output.tail_au  primary_cleaner.input.sulfate  \\\n",
       "0                  2.143149                     127.092003   \n",
       "1                  2.224930                     125.629232   \n",
       "2                  2.257889                     123.819808   \n",
       "3                  2.146849                     122.270188   \n",
       "4                  2.055292                     117.988169   \n",
       "...                     ...                            ...   \n",
       "19434              1.529220                     123.381787   \n",
       "19435              1.612542                     120.878188   \n",
       "19436              1.596616                     105.666118   \n",
       "19437              1.602879                      98.880538   \n",
       "19438              1.389434                      95.248427   \n",
       "\n",
       "       primary_cleaner.input.depressant  primary_cleaner.input.feed_size  \\\n",
       "0                             10.128295                             7.25   \n",
       "1                             10.296251                             7.25   \n",
       "2                             11.316280                             7.25   \n",
       "3                             11.322140                             7.25   \n",
       "4                             11.913613                             7.25   \n",
       "...                                 ...                              ...   \n",
       "19434                          8.028927                             6.50   \n",
       "19435                          7.962636                             6.50   \n",
       "19436                          7.955111                             6.50   \n",
       "19437                          7.984164                             6.50   \n",
       "19438                          8.078957                             6.50   \n",
       "\n",
       "       primary_cleaner.input.xanthate  primary_cleaner.output.concentrate_ag  \\\n",
       "0                            0.988759                               8.547551   \n",
       "1                            1.002663                               8.558743   \n",
       "2                            0.991265                               8.603505   \n",
       "3                            0.996739                               7.221879   \n",
       "4                            1.009869                               9.089428   \n",
       "...                               ...                                    ...   \n",
       "19434                        1.304232                               6.559174   \n",
       "19435                        1.302419                               6.612376   \n",
       "19436                        1.315926                               7.128896   \n",
       "19437                        1.241969                               7.490444   \n",
       "19438                        1.283045                               7.537584   \n",
       "\n",
       "       primary_cleaner.output.concentrate_pb  \\\n",
       "0                                  10.389648   \n",
       "1                                  10.497069   \n",
       "2                                  10.354494   \n",
       "3                                   8.496563   \n",
       "4                                   9.986786   \n",
       "...                                      ...   \n",
       "19434                              12.445966   \n",
       "19435                              12.623947   \n",
       "19436                              12.633558   \n",
       "19437                              12.012378   \n",
       "19438                              11.650285   \n",
       "\n",
       "       primary_cleaner.output.concentrate_sol  \\\n",
       "0                                   19.529297   \n",
       "1                                   19.369147   \n",
       "2                                   19.167579   \n",
       "3                                   15.978538   \n",
       "4                                   19.199864   \n",
       "...                                       ...   \n",
       "19434                                7.056338   \n",
       "19435                                7.542264   \n",
       "19436                                7.941900   \n",
       "19437                                6.942972   \n",
       "19438                                6.203553   \n",
       "\n",
       "       primary_cleaner.output.concentrate_au  primary_cleaner.output.tail_ag  \\\n",
       "0                                  34.174427                       14.936526   \n",
       "1                                  34.118526                       16.250511   \n",
       "2                                  33.969464                       16.491823   \n",
       "3                                  28.260743                       16.024359   \n",
       "4                                  33.044932                       16.480185   \n",
       "...                                      ...                             ...   \n",
       "19434                              32.940215                       22.854592   \n",
       "19435                              32.925325                       23.002490   \n",
       "19436                              31.856742                       22.298149   \n",
       "19437                              30.770892                       22.714656   \n",
       "19438                              30.356618                       22.735927   \n",
       "\n",
       "       primary_cleaner.output.tail_pb  primary_cleaner.output.tail_sol  \\\n",
       "0                            2.534912                         7.476074   \n",
       "1                            3.049646                         6.733907   \n",
       "2                            3.124664                         6.471768   \n",
       "3                            2.960362                         6.843791   \n",
       "4                            3.112100                         6.550154   \n",
       "...                               ...                              ...   \n",
       "19434                        6.531541                         3.934320   \n",
       "19435                        6.629725                         4.089124   \n",
       "19436                        6.278250                         4.457457   \n",
       "19437                        6.253145                         3.557121   \n",
       "19438                        6.084287                         3.026699   \n",
       "\n",
       "       primary_cleaner.output.tail_au  primary_cleaner.state.floatbank8_a_air  \\\n",
       "0                            2.106679                             1549.775757   \n",
       "1                            2.353017                             1576.166671   \n",
       "2                            2.416800                             1601.556163   \n",
       "3                            2.262051                             1599.968720   \n",
       "4                            2.277073                             1601.339707   \n",
       "...                               ...                                     ...   \n",
       "19434                        2.314352                             1648.421193   \n",
       "19435                        2.462890                             1649.820162   \n",
       "19436                        2.612231                             1649.166761   \n",
       "19437                        2.800648                             1646.547763   \n",
       "19438                        2.708046                             1648.759906   \n",
       "\n",
       "       primary_cleaner.state.floatbank8_a_level  \\\n",
       "0                                   -498.912140   \n",
       "1                                   -500.904965   \n",
       "2                                   -499.997791   \n",
       "3                                   -500.951778   \n",
       "4                                   -498.975456   \n",
       "...                                         ...   \n",
       "19434                               -400.382169   \n",
       "19435                               -399.930973   \n",
       "19436                               -399.888631   \n",
       "19437                               -398.977083   \n",
       "19438                               -399.862053   \n",
       "\n",
       "       primary_cleaner.state.floatbank8_b_air  \\\n",
       "0                                 1551.434204   \n",
       "1                                 1575.950626   \n",
       "2                                 1600.386685   \n",
       "3                                 1600.659236   \n",
       "4                                 1601.437854   \n",
       "...                                       ...   \n",
       "19434                             1648.742005   \n",
       "19435                             1649.357538   \n",
       "19436                             1649.196904   \n",
       "19437                             1648.212240   \n",
       "19438                             1650.135395   \n",
       "\n",
       "       primary_cleaner.state.floatbank8_b_level  \\\n",
       "0                                   -516.403442   \n",
       "1                                   -499.865889   \n",
       "2                                   -500.607762   \n",
       "3                                   -499.677094   \n",
       "4                                   -500.323246   \n",
       "...                                         ...   \n",
       "19434                               -400.359661   \n",
       "19435                               -399.721222   \n",
       "19436                               -399.677571   \n",
       "19437                               -400.383265   \n",
       "19438                               -399.957321   \n",
       "\n",
       "       primary_cleaner.state.floatbank8_c_air  \\\n",
       "0                                 1549.873901   \n",
       "1                                 1575.994189   \n",
       "2                                 1602.003542   \n",
       "3                                 1600.304144   \n",
       "4                                 1599.581894   \n",
       "...                                       ...   \n",
       "19434                             1648.578230   \n",
       "19435                             1648.656192   \n",
       "19436                             1647.896999   \n",
       "19437                             1648.917387   \n",
       "19438                             1648.831890   \n",
       "\n",
       "       primary_cleaner.state.floatbank8_c_level  \\\n",
       "0                                   -498.666595   \n",
       "1                                   -499.315107   \n",
       "2                                   -500.870069   \n",
       "3                                   -500.727997   \n",
       "4                                   -500.888152   \n",
       "...                                         ...   \n",
       "19434                               -399.363624   \n",
       "19435                               -401.195834   \n",
       "19436                               -399.988275   \n",
       "19437                               -399.521344   \n",
       "19438                               -400.586116   \n",
       "\n",
       "       primary_cleaner.state.floatbank8_d_air  \\\n",
       "0                                 1554.367432   \n",
       "1                                 1574.479259   \n",
       "2                                 1599.541515   \n",
       "3                                 1600.449520   \n",
       "4                                 1602.649541   \n",
       "...                                       ...   \n",
       "19434                             1648.833984   \n",
       "19435                             1649.725133   \n",
       "19436                             1649.772714   \n",
       "19437                             1651.498591   \n",
       "19438                             1649.464582   \n",
       "\n",
       "       primary_cleaner.state.floatbank8_d_level  \\\n",
       "0                                   -493.428131   \n",
       "1                                   -498.931665   \n",
       "2                                   -499.827444   \n",
       "3                                   -500.052575   \n",
       "4                                   -500.593010   \n",
       "...                                         ...   \n",
       "19434                               -399.669220   \n",
       "19435                               -400.636306   \n",
       "19436                               -399.831902   \n",
       "19437                               -399.745329   \n",
       "19438                               -400.673303   \n",
       "\n",
       "       rougher.calculation.sulfate_to_au_concentrate  \\\n",
       "0                                       41885.707031   \n",
       "1                                       42050.861809   \n",
       "2                                       42018.101184   \n",
       "3                                       42029.447991   \n",
       "4                                       42125.354245   \n",
       "...                                              ...   \n",
       "19434                                   45912.942619   \n",
       "19435                                   46200.099585   \n",
       "19436                                   44585.181334   \n",
       "19437                                   44084.735708   \n",
       "19438                                   44082.866565   \n",
       "\n",
       "       rougher.calculation.floatbank10_sulfate_to_au_feed  \\\n",
       "0                                            3481.779053    \n",
       "1                                            3498.370979    \n",
       "2                                            3495.348910    \n",
       "3                                            3498.578313    \n",
       "4                                            3494.800771    \n",
       "...                                                  ...    \n",
       "19434                                        2497.652954    \n",
       "19435                                        2614.403937    \n",
       "19436                                        2510.813545    \n",
       "19437                                        2507.572494    \n",
       "19438                                        2487.477762    \n",
       "\n",
       "       rougher.calculation.floatbank11_sulfate_to_au_feed  \\\n",
       "0                                            3520.337158    \n",
       "1                                            3489.981857    \n",
       "2                                            3502.359819    \n",
       "3                                            3499.162912    \n",
       "4                                            3506.679315    \n",
       "...                                                  ...    \n",
       "19434                                        2499.177950    \n",
       "19435                                        2518.550078    \n",
       "19436                                        2510.142433    \n",
       "19437                                        2507.723361    \n",
       "19438                                        2488.626080    \n",
       "\n",
       "       rougher.calculation.au_pb_ratio  rougher.input.feed_ag  \\\n",
       "0                             2.838687               6.100378   \n",
       "1                             2.858998               6.161113   \n",
       "2                             2.945989               6.116455   \n",
       "3                             3.002340               6.043309   \n",
       "4                             3.169615               6.060915   \n",
       "...                                ...                    ...   \n",
       "19434                         1.155559               6.091855   \n",
       "19435                         1.167342               6.121323   \n",
       "19436                         1.125637               5.970515   \n",
       "19437                         1.117935               6.048130   \n",
       "19438                         1.126367               6.158718   \n",
       "\n",
       "       rougher.input.feed_pb  rougher.input.feed_rate  \\\n",
       "0                   2.284912               523.546326   \n",
       "1                   2.266033               525.290581   \n",
       "2                   2.159622               530.026610   \n",
       "3                   2.037807               542.590390   \n",
       "4                   1.786875               540.531893   \n",
       "...                      ...                      ...   \n",
       "19434               4.617558               560.889077   \n",
       "19435               4.144989               559.031805   \n",
       "19436               4.020002               555.682872   \n",
       "19437               3.902537               544.731687   \n",
       "19438               3.875727               555.820208   \n",
       "\n",
       "       rougher.input.feed_size  rougher.input.feed_sol  rougher.input.feed_au  \\\n",
       "0                    55.486599               36.808594               6.486150   \n",
       "1                    57.278666               35.753385               6.478583   \n",
       "2                    57.510649               35.971630               6.362222   \n",
       "3                    57.792734               36.862241               6.118189   \n",
       "4                    56.047189               34.347666               5.663707   \n",
       "...                        ...                     ...                    ...   \n",
       "19434                85.718304               37.369774               5.335862   \n",
       "19435               119.499241               38.591551               4.838619   \n",
       "19436               122.262690               40.074026               4.525061   \n",
       "19437               123.742430               39.713906               4.362781   \n",
       "19438                94.544358               39.135119               4.365491   \n",
       "\n",
       "       rougher.input.floatbank10_sulfate  rougher.input.floatbank10_xanthate  \\\n",
       "0                              11.986616                            6.007990   \n",
       "1                              11.971193                            6.005766   \n",
       "2                              11.920603                            6.197377   \n",
       "3                              11.630094                            6.203177   \n",
       "4                              10.957755                            6.198826   \n",
       "...                                  ...                                 ...   \n",
       "19434                           7.762770                            9.158609   \n",
       "19435                           7.356687                            9.304952   \n",
       "19436                           6.586020                            9.299606   \n",
       "19437                           6.210119                            9.297709   \n",
       "19438                           6.146982                            9.308612   \n",
       "\n",
       "       rougher.input.floatbank11_sulfate  rougher.input.floatbank11_xanthate  \\\n",
       "0                              11.836743                            6.005818   \n",
       "1                              11.996163                            6.012594   \n",
       "2                              11.920305                            6.204633   \n",
       "3                              11.692450                            6.196578   \n",
       "4                              10.960521                            6.194897   \n",
       "...                                  ...                                 ...   \n",
       "19434                           7.766744                            9.156069   \n",
       "19435                           7.095508                            9.297924   \n",
       "19436                           6.584130                            9.300133   \n",
       "19437                           6.209517                            9.297194   \n",
       "19438                           6.168939                            9.309852   \n",
       "\n",
       "       rougher.output.concentrate_ag  rougher.output.concentrate_pb  \\\n",
       "0                          11.500771                       7.101074   \n",
       "1                          11.615865                       7.278807   \n",
       "2                          11.695753                       7.216833   \n",
       "3                          11.915047                       7.175616   \n",
       "4                          12.411054                       7.240205   \n",
       "...                              ...                            ...   \n",
       "19434                      11.124896                      10.984003   \n",
       "19435                      11.425983                      10.888213   \n",
       "19436                       8.523497                       8.955135   \n",
       "19437                      11.658799                      10.655377   \n",
       "19438                      11.959486                      10.702148   \n",
       "\n",
       "       rougher.output.concentrate_sol  rougher.output.concentrate_au  \\\n",
       "0                           28.029297                      19.793808   \n",
       "1                           28.067063                      20.050975   \n",
       "2                           27.454037                      19.737170   \n",
       "3                           27.341277                      19.320810   \n",
       "4                           27.041023                      19.216101   \n",
       "...                               ...                            ...   \n",
       "19434                       30.068876                      18.603550   \n",
       "19435                       29.783972                      18.441436   \n",
       "19436                       22.786467                      15.111231   \n",
       "19437                       29.052742                      17.834772   \n",
       "19438                       29.078235                      17.804134   \n",
       "\n",
       "       rougher.output.recovery  rougher.output.tail_ag  \\\n",
       "0                    87.107763                5.008018   \n",
       "1                    86.843261                4.955378   \n",
       "2                    86.842308                4.843460   \n",
       "3                    87.226430                4.655288   \n",
       "4                    86.688794                4.552800   \n",
       "...                        ...                     ...   \n",
       "19434                89.574376                4.207261   \n",
       "19435                87.724007                4.177943   \n",
       "19436                88.890579                4.050010   \n",
       "19437                89.858126                3.902494   \n",
       "19438                89.514960                3.925473   \n",
       "\n",
       "       rougher.output.tail_pb  rougher.output.tail_sol  \\\n",
       "0                    0.508728                19.154297   \n",
       "1                    0.536689                18.965234   \n",
       "2                    0.546416                18.808533   \n",
       "3                    0.542525                19.330200   \n",
       "4                    0.515438                19.267422   \n",
       "...                       ...                      ...   \n",
       "19434                0.612935                16.666590   \n",
       "19435                0.650557                16.960649   \n",
       "19436                0.636095                18.323080   \n",
       "19437                0.625609                19.423740   \n",
       "19438                0.638677                19.946673   \n",
       "\n",
       "       rougher.output.tail_au  rougher.state.floatbank10_a_air  \\\n",
       "0                    1.170244                       999.706909   \n",
       "1                    1.184827                      1000.286398   \n",
       "2                    1.162562                       999.719565   \n",
       "3                    1.079755                       999.814770   \n",
       "4                    1.012642                       999.678690   \n",
       "...                       ...                              ...   \n",
       "19434                0.748633                      1199.245914   \n",
       "19435                0.771582                      1196.569267   \n",
       "19436                0.685059                      1204.866639   \n",
       "19437                0.567130                      1201.904177   \n",
       "19438                0.586439                      1196.238112   \n",
       "\n",
       "       rougher.state.floatbank10_a_level  rougher.state.floatbank10_b_air  \\\n",
       "0                            -404.066986                      1603.011353   \n",
       "1                            -400.065196                      1600.754587   \n",
       "2                            -400.074028                      1599.337330   \n",
       "3                            -400.200179                      1600.059442   \n",
       "4                            -399.752729                      1600.208824   \n",
       "...                                  ...                              ...   \n",
       "19434                        -300.845518                      1149.807890   \n",
       "19435                        -299.512227                      1147.675196   \n",
       "19436                        -299.235675                      1149.942902   \n",
       "19437                        -299.907308                      1154.087804   \n",
       "19438                        -299.862743                      1147.248241   \n",
       "\n",
       "       rougher.state.floatbank10_b_level  rougher.state.floatbank10_c_air  \\\n",
       "0                            -434.715027                      1602.375000   \n",
       "1                            -449.953435                      1600.479580   \n",
       "2                            -450.008530                      1599.672797   \n",
       "3                            -450.619948                      1600.012842   \n",
       "4                            -449.599614                      1600.357732   \n",
       "...                                  ...                              ...   \n",
       "19434                        -498.789721                      1047.963596   \n",
       "19435                        -500.608341                      1048.565741   \n",
       "19436                        -501.717903                      1049.604390   \n",
       "19437                        -500.036580                      1054.009756   \n",
       "19438                        -500.363165                      1047.279065   \n",
       "\n",
       "       rougher.state.floatbank10_c_level  rougher.state.floatbank10_d_air  \\\n",
       "0                            -442.204468                      1598.937256   \n",
       "1                            -449.830646                      1600.527589   \n",
       "2                            -449.954491                      1599.849325   \n",
       "3                            -449.910497                      1597.725177   \n",
       "4                            -450.034364                      1599.759049   \n",
       "...                                  ...                              ...   \n",
       "19434                        -498.413079                       946.640977   \n",
       "19435                        -500.932810                       949.773589   \n",
       "19436                        -500.549053                       952.702732   \n",
       "19437                        -500.237335                       944.138793   \n",
       "19438                        -500.354091                       948.756608   \n",
       "\n",
       "       rougher.state.floatbank10_d_level  rougher.state.floatbank10_e_air  \\\n",
       "0                            -451.294128                      1404.472046   \n",
       "1                            -449.953649                      1399.227084   \n",
       "2                            -449.954185                      1399.180945   \n",
       "3                            -450.130127                      1400.943157   \n",
       "4                            -449.909799                      1401.560902   \n",
       "...                                  ...                              ...   \n",
       "19434                        -499.152477                       849.664935   \n",
       "19435                        -500.023144                       848.515225   \n",
       "19436                        -502.352296                       849.016017   \n",
       "19437                        -496.866953                       851.589767   \n",
       "19438                        -498.439416                       849.441918   \n",
       "\n",
       "       rougher.state.floatbank10_e_level  rougher.state.floatbank10_f_air  \\\n",
       "0                            -455.462982                      1416.354980   \n",
       "1                            -450.869848                      1399.719514   \n",
       "2                            -449.937588                      1400.316682   \n",
       "3                            -450.030142                      1400.234743   \n",
       "4                            -448.877187                      1401.160227   \n",
       "...                                  ...                              ...   \n",
       "19434                        -499.214461                       849.758091   \n",
       "19435                        -500.289405                       850.013123   \n",
       "19436                        -500.505677                       850.455635   \n",
       "19437                        -499.040466                       851.345606   \n",
       "19438                        -499.255503                       850.112246   \n",
       "\n",
       "       rougher.state.floatbank10_f_level  secondary_cleaner.output.tail_ag  \\\n",
       "0                            -451.939636                         14.500184   \n",
       "1                            -450.119001                         14.265474   \n",
       "2                            -450.527147                         14.115662   \n",
       "3                            -449.790835                         13.732071   \n",
       "4                            -450.407128                         14.079996   \n",
       "...                                  ...                               ...   \n",
       "19434                        -497.448664                          0.000000   \n",
       "19435                        -496.822119                          0.000000   \n",
       "19436                        -506.897968                          0.000000   \n",
       "19437                        -499.122561                          0.000000   \n",
       "19438                        -499.407112                          0.000000   \n",
       "\n",
       "       secondary_cleaner.output.tail_pb  secondary_cleaner.output.tail_sol  \\\n",
       "0                              4.694824                           8.764648   \n",
       "1                              4.592547                           9.001494   \n",
       "2                              4.624775                           8.842896   \n",
       "3                              4.482453                           9.122857   \n",
       "4                              4.470737                           8.871028   \n",
       "...                                 ...                                ...   \n",
       "19434                          0.000000                           0.000000   \n",
       "19435                          0.000000                           0.000000   \n",
       "19436                          0.000000                           0.000000   \n",
       "19437                          0.000000                           0.000000   \n",
       "19438                          0.000000                           0.000000   \n",
       "\n",
       "       secondary_cleaner.output.tail_au  \\\n",
       "0                              2.606185   \n",
       "1                              2.488248   \n",
       "2                              2.458187   \n",
       "3                              2.322062   \n",
       "4                              2.330448   \n",
       "...                                 ...   \n",
       "19434                          0.000000   \n",
       "19435                          0.000000   \n",
       "19436                          0.000000   \n",
       "19437                          0.000000   \n",
       "19438                          0.000000   \n",
       "\n",
       "       secondary_cleaner.state.floatbank2_a_air  \\\n",
       "0                                     25.853109   \n",
       "1                                     25.880539   \n",
       "2                                     26.005245   \n",
       "3                                     25.942508   \n",
       "4                                     26.024787   \n",
       "...                                         ...   \n",
       "19434                                 35.043205   \n",
       "19435                                 35.026062   \n",
       "19436                                 35.003586   \n",
       "19437                                 34.980742   \n",
       "19438                                 34.940919   \n",
       "\n",
       "       secondary_cleaner.state.floatbank2_a_level  \\\n",
       "0                                     -498.526489   \n",
       "1                                     -499.989656   \n",
       "2                                     -499.929616   \n",
       "3                                     -499.176749   \n",
       "4                                     -500.279091   \n",
       "...                                           ...   \n",
       "19434                                 -499.045671   \n",
       "19435                                 -499.891945   \n",
       "19436                                 -501.083794   \n",
       "19437                                 -498.131002   \n",
       "19438                                 -500.150510   \n",
       "\n",
       "       secondary_cleaner.state.floatbank2_b_air  \\\n",
       "0                                     23.893660   \n",
       "1                                     23.889530   \n",
       "2                                     23.886657   \n",
       "3                                     23.955516   \n",
       "4                                     23.955345   \n",
       "...                                         ...   \n",
       "19434                                 29.906659   \n",
       "19435                                 29.921795   \n",
       "19436                                 29.990533   \n",
       "19437                                 29.968453   \n",
       "19438                                 30.031867   \n",
       "\n",
       "       secondary_cleaner.state.floatbank2_b_level  \\\n",
       "0                                     -501.406281   \n",
       "1                                     -500.372428   \n",
       "2                                     -499.951928   \n",
       "3                                     -499.848796   \n",
       "4                                     -500.593614   \n",
       "...                                           ...   \n",
       "19434                                 -499.979939   \n",
       "19435                                 -499.949663   \n",
       "19436                                 -611.855898   \n",
       "19437                                 -586.013330   \n",
       "19438                                 -500.328335   \n",
       "\n",
       "       secondary_cleaner.state.floatbank3_a_air  \\\n",
       "0                                     23.961798   \n",
       "1                                     23.970550   \n",
       "2                                     23.913535   \n",
       "3                                     23.966838   \n",
       "4                                     23.985703   \n",
       "...                                         ...   \n",
       "19434                                 26.002402   \n",
       "19435                                 26.031747   \n",
       "19436                                 25.948429   \n",
       "19437                                 25.971737   \n",
       "19438                                 26.033990   \n",
       "\n",
       "       secondary_cleaner.state.floatbank3_a_level  \\\n",
       "0                                     -495.262817   \n",
       "1                                     -500.085473   \n",
       "2                                     -499.442343   \n",
       "3                                     -500.008812   \n",
       "4                                     -500.083811   \n",
       "...                                           ...   \n",
       "19434                                 -499.953431   \n",
       "19435                                 -500.384612   \n",
       "19436                                 -500.067268   \n",
       "19437                                 -499.608392   \n",
       "19438                                 -500.147792   \n",
       "\n",
       "       secondary_cleaner.state.floatbank3_b_air  \\\n",
       "0                                     21.940409   \n",
       "1                                     22.085714   \n",
       "2                                     23.957717   \n",
       "3                                     23.954443   \n",
       "4                                     23.958945   \n",
       "...                                         ...   \n",
       "19434                                 22.987238   \n",
       "19435                                 22.991058   \n",
       "19436                                 22.968268   \n",
       "19437                                 22.958448   \n",
       "19438                                 22.952306   \n",
       "\n",
       "       secondary_cleaner.state.floatbank3_b_level  \\\n",
       "0                                     -499.340973   \n",
       "1                                     -499.446897   \n",
       "2                                     -499.901982   \n",
       "3                                     -499.944710   \n",
       "4                                     -499.990309   \n",
       "...                                           ...   \n",
       "19434                                 -499.967351   \n",
       "19435                                 -500.079590   \n",
       "19436                                 -499.839442   \n",
       "19437                                 -499.821308   \n",
       "19438                                 -500.037678   \n",
       "\n",
       "       secondary_cleaner.state.floatbank4_a_air  \\\n",
       "0                                     14.016835   \n",
       "1                                     13.992281   \n",
       "2                                     14.015015   \n",
       "3                                     14.036510   \n",
       "4                                     14.027298   \n",
       "...                                         ...   \n",
       "19434                                 23.031497   \n",
       "19435                                 22.960095   \n",
       "19436                                 23.015718   \n",
       "19437                                 23.024963   \n",
       "19438                                 23.018622   \n",
       "\n",
       "       secondary_cleaner.state.floatbank4_a_level  \\\n",
       "0                                     -502.488007   \n",
       "1                                     -505.503262   \n",
       "2                                     -502.520901   \n",
       "3                                     -500.857308   \n",
       "4                                     -499.838632   \n",
       "...                                           ...   \n",
       "19434                                 -501.167942   \n",
       "19435                                 -501.612783   \n",
       "19436                                 -501.711599   \n",
       "19437                                 -501.153409   \n",
       "19438                                 -500.492702   \n",
       "\n",
       "       secondary_cleaner.state.floatbank4_b_air  \\\n",
       "0                                     12.099931   \n",
       "1                                     11.950531   \n",
       "2                                     11.912783   \n",
       "3                                     11.999550   \n",
       "4                                     11.953070   \n",
       "...                                         ...   \n",
       "19434                                 20.007571   \n",
       "19435                                 20.035660   \n",
       "19436                                 19.951231   \n",
       "19437                                 20.054122   \n",
       "19438                                 20.020205   \n",
       "\n",
       "       secondary_cleaner.state.floatbank4_b_level  \\\n",
       "0                                     -504.715942   \n",
       "1                                     -501.331529   \n",
       "2                                     -501.133383   \n",
       "3                                     -501.193686   \n",
       "4                                     -501.053894   \n",
       "...                                           ...   \n",
       "19434                                 -499.740028   \n",
       "19435                                 -500.251357   \n",
       "19436                                 -499.857027   \n",
       "19437                                 -500.314711   \n",
       "19438                                 -500.220296   \n",
       "\n",
       "       secondary_cleaner.state.floatbank5_a_air  \\\n",
       "0                                      9.925633   \n",
       "1                                     10.039245   \n",
       "2                                     10.070913   \n",
       "3                                      9.970366   \n",
       "4                                      9.925709   \n",
       "...                                         ...   \n",
       "19434                                 18.006038   \n",
       "19435                                 17.998535   \n",
       "19436                                 18.019543   \n",
       "19437                                 17.979515   \n",
       "19438                                 17.963512   \n",
       "\n",
       "       secondary_cleaner.state.floatbank5_a_level  \\\n",
       "0                                     -498.310211   \n",
       "1                                     -500.169983   \n",
       "2                                     -500.129135   \n",
       "3                                     -499.201640   \n",
       "4                                     -501.686727   \n",
       "...                                           ...   \n",
       "19434                                 -499.834374   \n",
       "19435                                 -500.395178   \n",
       "19436                                 -500.451156   \n",
       "19437                                 -499.272871   \n",
       "19438                                 -499.939490   \n",
       "\n",
       "       secondary_cleaner.state.floatbank5_b_air  \\\n",
       "0                                      8.079666   \n",
       "1                                      7.984757   \n",
       "2                                      8.013877   \n",
       "3                                      7.977324   \n",
       "4                                      7.894242   \n",
       "...                                         ...   \n",
       "19434                                 13.001114   \n",
       "19435                                 12.954048   \n",
       "19436                                 13.023431   \n",
       "19437                                 12.992404   \n",
       "19438                                 12.990306   \n",
       "\n",
       "       secondary_cleaner.state.floatbank5_b_level  \\\n",
       "0                                     -500.470978   \n",
       "1                                     -500.582168   \n",
       "2                                     -500.517572   \n",
       "3                                     -500.255908   \n",
       "4                                     -500.356035   \n",
       "...                                           ...   \n",
       "19434                                 -500.155694   \n",
       "19435                                 -499.895163   \n",
       "19436                                 -499.914391   \n",
       "19437                                 -499.976268   \n",
       "19438                                 -500.080993   \n",
       "\n",
       "       secondary_cleaner.state.floatbank6_a_air  \\\n",
       "0                                     14.151341   \n",
       "1                                     13.998353   \n",
       "2                                     14.028663   \n",
       "3                                     14.005551   \n",
       "4                                     13.996647   \n",
       "...                                         ...   \n",
       "19434                                 20.007840   \n",
       "19435                                 19.968498   \n",
       "19436                                 19.990885   \n",
       "19437                                 20.013986   \n",
       "19438                                 19.990336   \n",
       "\n",
       "       secondary_cleaner.state.floatbank6_a_level  \n",
       "0                                     -605.841980  \n",
       "1                                     -599.787184  \n",
       "2                                     -601.427363  \n",
       "3                                     -599.996129  \n",
       "4                                     -601.496691  \n",
       "...                                           ...  \n",
       "19434                                 -501.296428  \n",
       "19435                                 -501.041608  \n",
       "19436                                 -501.518452  \n",
       "19437                                 -500.625471  \n",
       "19438                                 -499.191575  \n",
       "\n",
       "[19439 rows x 87 columns]"
      ]
     },
     "metadata": {},
     "output_type": "display_data"
    }
   ],
   "source": [
    "dfs = [df_train, df_test, df_full]\n",
    "dfs_names = ['df_train', 'df_test', 'df_full']\n",
    "\n",
    "for df, df_name in zip(dfs, dfs_names):\n",
    "    print(df_name)\n",
    "    print()\n",
    "    print(df.info())\n",
    "    display(df)"
   ]
  },
  {
   "cell_type": "markdown",
   "metadata": {},
   "source": [
    "Исходя из задания (описания расчета sMAPE), **целевыми признаками являются rougher.output.recovery и final.output.recovery**."
   ]
  },
  {
   "cell_type": "markdown",
   "metadata": {},
   "source": [
    "### Проверка правильности расчета эффективности обогащения"
   ]
  },
  {
   "cell_type": "markdown",
   "metadata": {},
   "source": [
    "Проверим правильность расчета эффективности обогащения. \n",
    "\n",
    "Вычислим ее на обучающей выборке для признака rougher.output.recovery. \n",
    "\n",
    "Формула расчета эффективности обогащения:\n",
    "\n",
    "~~~\n",
    "(rougher.output.concentrate_au * (rougher.input.feed_au - rougher.output.tail_au) * 100) /\n",
    "rougher.input.feed_au * (rougher.output.concentrate_au - rougher.output.tail_au)\n",
    "\n",
    "~~~"
   ]
  },
  {
   "cell_type": "code",
   "execution_count": 4,
   "metadata": {},
   "outputs": [
    {
     "name": "stdout",
     "output_type": "stream",
     "text": [
      "Исходные значения эффективности обогащения\n",
      "\n",
      "0    87.107763\n",
      "1    86.843261\n",
      "2    86.842308\n",
      "3    87.226430\n",
      "4    86.688794\n",
      "Name: rougher.output.recovery, dtype: float64\n",
      "\n",
      "\n",
      "Рассчитанные значения эффективности обогащения\n",
      "\n",
      "0    87.107763\n",
      "1    86.843261\n",
      "2    86.842308\n",
      "3    87.226430\n",
      "4    86.688794\n",
      "dtype: float64\n"
     ]
    }
   ],
   "source": [
    "rougher_output_recovery_calculated = (\n",
    "    (\n",
    "    df_train['rougher.output.concentrate_au'] * (\n",
    "    df_train['rougher.input.feed_au'] - df_train['rougher.output.tail_au']\n",
    "    )\n",
    "    ) / (\n",
    "    df_train['rougher.input.feed_au'] * (\n",
    "    df_train['rougher.output.concentrate_au'] - df_train['rougher.output.tail_au']\n",
    "    )\n",
    "    ) * 100\n",
    ").head()\n",
    "\n",
    "print('Исходные значения эффективности обогащения')\n",
    "print()\n",
    "print(df_train['rougher.output.recovery'].head())\n",
    "print()\n",
    "print()\n",
    "print('Рассчитанные значения эффективности обогащения')\n",
    "print()\n",
    "print(rougher_output_recovery_calculated)"
   ]
  },
  {
   "cell_type": "markdown",
   "metadata": {},
   "source": [
    "Найдем значение MAE между исходными и рассчитанными значениями признака."
   ]
  },
  {
   "cell_type": "code",
   "execution_count": 5,
   "metadata": {},
   "outputs": [
    {
     "name": "stdout",
     "output_type": "stream",
     "text": [
      "Значение среднего абсолютного отклонения: 5.684341886080802e-15\n"
     ]
    }
   ],
   "source": [
    "print(\n",
    "    'Значение среднего абсолютного отклонения:', \n",
    "     mean_absolute_error(df_train['rougher.output.recovery'].head(),\n",
    "                          rougher_output_recovery_calculated)\n",
    "     )"
   ]
  },
  {
   "cell_type": "markdown",
   "metadata": {},
   "source": [
    "**Значение среднего абсолютного отклонения крайне мало. Это говорит о том, что данные рассчитаны верно**."
   ]
  },
  {
   "cell_type": "markdown",
   "metadata": {},
   "source": [
    "### Анализ отсутствующих в тестовой выборке данных\n",
    "\n",
    "Выведем список столбцов с данными, которые есть в обучающей выборке, но отсутствуют в тестовой."
   ]
  },
  {
   "cell_type": "code",
   "execution_count": 6,
   "metadata": {},
   "outputs": [
    {
     "data": {
      "text/plain": [
       "['final.output.concentrate_ag',\n",
       " 'final.output.concentrate_pb',\n",
       " 'final.output.concentrate_sol',\n",
       " 'final.output.concentrate_au',\n",
       " 'final.output.recovery',\n",
       " 'final.output.tail_ag',\n",
       " 'final.output.tail_pb',\n",
       " 'final.output.tail_sol',\n",
       " 'final.output.tail_au',\n",
       " 'primary_cleaner.output.concentrate_ag',\n",
       " 'primary_cleaner.output.concentrate_pb',\n",
       " 'primary_cleaner.output.concentrate_sol',\n",
       " 'primary_cleaner.output.concentrate_au',\n",
       " 'primary_cleaner.output.tail_ag',\n",
       " 'primary_cleaner.output.tail_pb',\n",
       " 'primary_cleaner.output.tail_sol',\n",
       " 'primary_cleaner.output.tail_au',\n",
       " 'rougher.calculation.sulfate_to_au_concentrate',\n",
       " 'rougher.calculation.floatbank10_sulfate_to_au_feed',\n",
       " 'rougher.calculation.floatbank11_sulfate_to_au_feed',\n",
       " 'rougher.calculation.au_pb_ratio',\n",
       " 'rougher.output.concentrate_ag',\n",
       " 'rougher.output.concentrate_pb',\n",
       " 'rougher.output.concentrate_sol',\n",
       " 'rougher.output.concentrate_au',\n",
       " 'rougher.output.recovery',\n",
       " 'rougher.output.tail_ag',\n",
       " 'rougher.output.tail_pb',\n",
       " 'rougher.output.tail_sol',\n",
       " 'rougher.output.tail_au',\n",
       " 'secondary_cleaner.output.tail_ag',\n",
       " 'secondary_cleaner.output.tail_pb',\n",
       " 'secondary_cleaner.output.tail_sol',\n",
       " 'secondary_cleaner.output.tail_au']"
      ]
     },
     "execution_count": 6,
     "metadata": {},
     "output_type": "execute_result"
    }
   ],
   "source": [
    "test_missed_cols = []\n",
    "\n",
    "for col in df_train.columns:\n",
    "    if col not in df_test.columns:\n",
    "        test_missed_cols.append(col)\n",
    "        \n",
    "test_missed_cols"
   ]
  },
  {
   "cell_type": "markdown",
   "metadata": {},
   "source": [
    "**В тестовой выборке полностью отсутствуют выходные данные**: доля содержания металлов / примесей в руде перед каждым этапом, эффективность обогащения, а также все калькуляции."
   ]
  },
  {
   "cell_type": "markdown",
   "metadata": {},
   "source": [
    "## Предобработка данных\n",
    "\n",
    "### Изменение индексации\n",
    "\n",
    "Установим в качестве индекса Для каждого датафрейма столбец date.\n",
    "\n",
    "Перед этим необходимо проверить каждый столбец date на наличие дубликатов, а также изменить формат столбца на datetime."
   ]
  },
  {
   "cell_type": "code",
   "execution_count": 7,
   "metadata": {},
   "outputs": [
    {
     "name": "stdout",
     "output_type": "stream",
     "text": [
      "Количество дубликатов в столбце date датафрейма df_train: 0\n",
      "Количество дубликатов в столбце date датафрейма df_test: 0\n",
      "Количество дубликатов в столбце date датафрейма df_full: 0\n"
     ]
    }
   ],
   "source": [
    "for df, df_name in zip(dfs, dfs_names):\n",
    "    duplicates_num = df['date'].duplicated().sum()\n",
    "    \n",
    "    print(f'Количество дубликатов в столбце date датафрейма {df_name}: {duplicates_num}')"
   ]
  },
  {
   "cell_type": "code",
   "execution_count": 8,
   "metadata": {},
   "outputs": [],
   "source": [
    "def indexer(data):\n",
    "    data['date'] = pd.to_datetime(data['date'], format='%Y-%m-%d %H:%M:%S')\n",
    "    data = data.set_index('date')\n",
    "    return data"
   ]
  },
  {
   "cell_type": "code",
   "execution_count": 9,
   "metadata": {},
   "outputs": [],
   "source": [
    "df_train = indexer(df_train)\n",
    "df_test = indexer(df_test)\n",
    "df_full = indexer(df_full)"
   ]
  },
  {
   "cell_type": "markdown",
   "metadata": {},
   "source": [
    "### Обработка пропусков"
   ]
  },
  {
   "cell_type": "markdown",
   "metadata": {},
   "source": [
    "Для каждого датафрейма выведем пару \"столбец-количество пропусков\" по убыванию числа пропусков."
   ]
  },
  {
   "cell_type": "code",
   "execution_count": 10,
   "metadata": {},
   "outputs": [
    {
     "name": "stdout",
     "output_type": "stream",
     "text": [
      "df_train\n",
      "\n",
      "Общее количество пропусков в датафрейме: 4070\n",
      "Общее число столбцов с пропусками: 32\n"
     ]
    },
    {
     "data": {
      "text/plain": [
       "secondary_cleaner.output.tail_sol           1605\n",
       "rougher.state.floatbank10_e_air              436\n",
       "rougher.input.floatbank11_xanthate           428\n",
       "primary_cleaner.output.concentrate_sol       286\n",
       "secondary_cleaner.state.floatbank2_a_air     217\n",
       "final.output.concentrate_sol                 211\n",
       "rougher.input.feed_size                      144\n",
       "rougher.input.feed_pb                        100\n",
       "final.output.tail_pb                         100\n",
       "primary_cleaner.input.xanthate               100\n",
       "primary_cleaner.output.concentrate_pb         86\n",
       "rougher.input.feed_sol                        78\n",
       "primary_cleaner.output.tail_sol               46\n",
       "rougher.input.floatbank11_sulfate             36\n",
       "primary_cleaner.input.depressant              32\n",
       "rougher.input.floatbank10_sulfate             29\n",
       "rougher.output.concentrate_sol                22\n",
       "secondary_cleaner.state.floatbank2_b_air      21\n",
       "primary_cleaner.input.sulfate                 20\n",
       "primary_cleaner.output.tail_pb                15\n",
       "secondary_cleaner.output.tail_pb              10\n",
       "rougher.input.floatbank10_xanthate             8\n",
       "rougher.input.feed_rate                        8\n",
       "secondary_cleaner.state.floatbank4_a_air       6\n",
       "final.output.tail_sol                          5\n",
       "primary_cleaner.state.floatbank8_b_air         4\n",
       "primary_cleaner.state.floatbank8_a_air         4\n",
       "secondary_cleaner.state.floatbank3_a_air       4\n",
       "primary_cleaner.state.floatbank8_d_air         3\n",
       "secondary_cleaner.output.tail_ag               2\n",
       "secondary_cleaner.state.floatbank6_a_air       2\n",
       "primary_cleaner.state.floatbank8_c_air         2\n",
       "dtype: int64"
      ]
     },
     "metadata": {},
     "output_type": "display_data"
    },
    {
     "name": "stdout",
     "output_type": "stream",
     "text": [
      "\n",
      "\n",
      "df_test\n",
      "\n",
      "Общее количество пропусков в датафрейме: 89\n",
      "Общее число столбцов с пропусками: 11\n"
     ]
    },
    {
     "data": {
      "text/plain": [
       "rougher.input.floatbank11_xanthate          25\n",
       "rougher.input.feed_sol                      21\n",
       "secondary_cleaner.state.floatbank3_a_air     9\n",
       "rougher.input.floatbank11_sulfate            8\n",
       "primary_cleaner.input.depressant             5\n",
       "rougher.input.floatbank10_sulfate            5\n",
       "primary_cleaner.input.sulfate                4\n",
       "primary_cleaner.input.xanthate               4\n",
       "rougher.input.feed_rate                      3\n",
       "secondary_cleaner.state.floatbank2_a_air     3\n",
       "secondary_cleaner.state.floatbank2_b_air     2\n",
       "dtype: int64"
      ]
     },
     "metadata": {},
     "output_type": "display_data"
    },
    {
     "name": "stdout",
     "output_type": "stream",
     "text": [
      "\n",
      "\n",
      "df_full\n",
      "\n",
      "Общее количество пропусков в датафрейме: 4454\n",
      "Общее число столбцов с пропусками: 36\n"
     ]
    },
    {
     "data": {
      "text/plain": [
       "secondary_cleaner.output.tail_sol                     1748\n",
       "rougher.input.floatbank11_xanthate                     453\n",
       "rougher.state.floatbank10_e_air                        436\n",
       "primary_cleaner.output.concentrate_sol                 370\n",
       "secondary_cleaner.state.floatbank2_a_air               220\n",
       "final.output.concentrate_sol                           211\n",
       "rougher.input.feed_size                                145\n",
       "primary_cleaner.output.concentrate_pb                  116\n",
       "primary_cleaner.input.xanthate                         104\n",
       "final.output.tail_pb                                   101\n",
       "rougher.input.feed_pb                                  100\n",
       "rougher.input.feed_sol                                  99\n",
       "primary_cleaner.output.tail_sol                         62\n",
       "rougher.input.floatbank11_sulfate                       44\n",
       "primary_cleaner.input.depressant                        37\n",
       "rougher.input.floatbank10_sulfate                       34\n",
       "primary_cleaner.input.sulfate                           24\n",
       "secondary_cleaner.state.floatbank2_b_air                23\n",
       "rougher.output.concentrate_sol                          23\n",
       "primary_cleaner.output.tail_pb                          21\n",
       "secondary_cleaner.state.floatbank3_a_air                13\n",
       "secondary_cleaner.output.tail_pb                        12\n",
       "rougher.input.feed_rate                                 11\n",
       "rougher.input.floatbank10_xanthate                       8\n",
       "secondary_cleaner.state.floatbank4_a_air                 6\n",
       "final.output.tail_sol                                    6\n",
       "primary_cleaner.state.floatbank8_a_air                   4\n",
       "primary_cleaner.state.floatbank8_b_air                   4\n",
       "primary_cleaner.output.tail_ag                           4\n",
       "primary_cleaner.state.floatbank8_d_air                   3\n",
       "secondary_cleaner.state.floatbank6_a_air                 2\n",
       "secondary_cleaner.output.tail_ag                         2\n",
       "rougher.calculation.sulfate_to_au_concentrate            2\n",
       "rougher.calculation.floatbank11_sulfate_to_au_feed       2\n",
       "rougher.calculation.floatbank10_sulfate_to_au_feed       2\n",
       "primary_cleaner.state.floatbank8_c_air                   2\n",
       "dtype: int64"
      ]
     },
     "metadata": {},
     "output_type": "display_data"
    },
    {
     "name": "stdout",
     "output_type": "stream",
     "text": [
      "\n",
      "\n"
     ]
    }
   ],
   "source": [
    "dfs = [df_train, df_test, df_full]\n",
    "\n",
    "for df, df_name in zip(dfs, dfs_names):\n",
    "    print(df_name)\n",
    "    print()\n",
    "\n",
    "    gap_ser = df.isna().sum().sort_values(ascending=False)\n",
    "    \n",
    "    print(f'Общее количество пропусков в датафрейме: {gap_ser[gap_ser > 1].sum()}')\n",
    "    print(f'Общее число столбцов с пропусками: {gap_ser[gap_ser > 1].count()}')\n",
    "    \n",
    "    display(gap_ser[gap_ser > 1])\n",
    "    print()\n",
    "    print()"
   ]
  },
  {
   "cell_type": "markdown",
   "metadata": {},
   "source": [
    "В данных очень много пропусков и столбцов с пропусками, особенно в датафрейме с обучающей выборкой. Тем не менее, среди столбцов с наибольшим числом пропусков отсутствуют оные с целевыми признаками.\n",
    "\n",
    "Выведем абсолютное число пропусков для каждого целевого столбца."
   ]
  },
  {
   "cell_type": "code",
   "execution_count": 11,
   "metadata": {},
   "outputs": [
    {
     "name": "stdout",
     "output_type": "stream",
     "text": [
      "Датафрейм df_train\n",
      "Количество пропусков в целевом столбце rougher.output.recovery: 0\n",
      "Количество пропусков в целевом столбце final.output.recovery: 0\n",
      "\n",
      "Датафрейм df_full\n",
      "Количество пропусков в целевом столбце rougher.output.recovery: 0\n",
      "Количество пропусков в целевом столбце final.output.recovery: 0\n",
      "\n"
     ]
    }
   ],
   "source": [
    "for df, df_name in zip([df_train, df_full], ['df_train', 'df_full']):\n",
    "    first_target_gaps = df['rougher.output.recovery'].isna().sum()\n",
    "    second_target_gaps = df['final.output.recovery'].isna().sum()\n",
    "    \n",
    "    print(f'Датафрейм {df_name}')\n",
    "    print(f'Количество пропусков в целевом столбце rougher.output.recovery: {first_target_gaps}')\n",
    "    print(f'Количество пропусков в целевом столбце final.output.recovery: {second_target_gaps}')\n",
    "    print()"
   ]
  },
  {
   "cell_type": "markdown",
   "metadata": {},
   "source": [
    "Т.к. в столбцах с целевыми признаками нет пропусков, мы можем заполнить все пропуски ближайшими значениями по индексации, т.к. в задании указано, что соседние по времени параметры зачастую схожи."
   ]
  },
  {
   "cell_type": "code",
   "execution_count": 12,
   "metadata": {},
   "outputs": [],
   "source": [
    "df_train = df_train.fillna(method='ffill')\n",
    "df_test = df_test.fillna(method='ffill')\n",
    "df_full = df_full.fillna(method='ffill')"
   ]
  },
  {
   "cell_type": "markdown",
   "metadata": {},
   "source": [
    "### Обработка дубликатов\n",
    "\n",
    "Проверим каждый датафрейм на наличие явных дубликатов."
   ]
  },
  {
   "cell_type": "code",
   "execution_count": 13,
   "metadata": {},
   "outputs": [
    {
     "name": "stdout",
     "output_type": "stream",
     "text": [
      "Количество явных дубликатов в датафрейме df_train: 0\n",
      "Количество явных дубликатов в датафрейме df_test: 0\n",
      "Количество явных дубликатов в датафрейме df_full: 0\n"
     ]
    }
   ],
   "source": [
    "for df, df_name in zip(dfs, dfs_names):\n",
    "    print(f'Количество явных дубликатов в датафрейме {df_name}: {df.duplicated().sum()}')"
   ]
  },
  {
   "cell_type": "markdown",
   "metadata": {},
   "source": [
    "**Ни в одном датафрейме нет явных дубликатов**.\n",
    "\n",
    "Также можно уверенно сказать, что **неявных дубликатов в датафреймах также нет**, т.к.:\n",
    "- датафреймы имеют в качестве индексов данные типа datetime;\n",
    "- среди индексов датафреймов дубликаты отсутствуют."
   ]
  },
  {
   "cell_type": "markdown",
   "metadata": {},
   "source": [
    "## Анализ данных"
   ]
  },
  {
   "cell_type": "markdown",
   "metadata": {},
   "source": [
    "### Анализ изменения концентрации металлов на различных этапах очистки\n",
    "\n",
    "Для каждого металла выведем гистограммы, отражающие содержание металла на каждом этапе очистки."
   ]
  },
  {
   "cell_type": "code",
   "execution_count": 14,
   "metadata": {},
   "outputs": [],
   "source": [
    "# создадим списки с названиями столбцов с концентрациями\n",
    "# для каждого металла\n",
    "\n",
    "stages_to_plot_au = []\n",
    "stages_to_plot_ag = []\n",
    "stages_to_plot_pb = []\n",
    "\n",
    "for stage in ['rougher.input.feed_', 'rougher.output.concentrate_', \n",
    "               'primary_cleaner.output.concentrate_', 'final.output.concentrate_']:\n",
    "    \n",
    "    stages_to_plot_au.append(f'{stage}au')\n",
    "    stages_to_plot_ag.append(f'{stage}ag')\n",
    "    stages_to_plot_pb.append(f'{stage}pb')"
   ]
  },
  {
   "cell_type": "code",
   "execution_count": 15,
   "metadata": {
    "scrolled": false
   },
   "outputs": [],
   "source": [
    "# создадим функцию, которая вернет по 4 гистограммы \n",
    "# с содержанием каждого металла на каждом этапе\n",
    "\n",
    "def plot_metals(df, metal):\n",
    "    \n",
    "    fig, ax = plt.subplots()\n",
    "    columns = df.columns\n",
    "    \n",
    "    for col in columns:\n",
    "        sns.distplot(a=df[col], label=col)\n",
    "        ax.set_xlabel(metal)\n",
    "        ax.set_ylabel('')\n",
    "        ax.legend()\n",
    "    fig.show()"
   ]
  },
  {
   "cell_type": "code",
   "execution_count": 16,
   "metadata": {},
   "outputs": [
    {
     "data": {
      "image/png": "[encoded data removed]",
      "text/plain": [
       "<Figure size 432x288 with 1 Axes>"
      ]
     },
     "metadata": {
      "needs_background": "light"
     },
     "output_type": "display_data"
    },
    {
     "data": {
      "image/png": "[encoded data removed]",
      "text/plain": [
       "<Figure size 432x288 with 1 Axes>"
      ]
     },
     "metadata": {
      "needs_background": "light"
     },
     "output_type": "display_data"
    },
    {
     "data": {
      "image/png": "[encoded data removed]",
      "text/plain": [
       "<Figure size 432x288 with 1 Axes>"
      ]
     },
     "metadata": {
      "needs_background": "light"
     },
     "output_type": "display_data"
    }
   ],
   "source": [
    "# выведем графики\n",
    "\n",
    "plot_metals(df_train[stages_to_plot_au], 'золотo')\n",
    "plot_metals(df_train[stages_to_plot_ag], 'серебро')\n",
    "plot_metals(df_train[stages_to_plot_pb], 'свинец')"
   ]
  },
  {
   "cell_type": "markdown",
   "metadata": {},
   "source": [
    "Из графиков можно сделать следующие выводы:\n",
    "- **содержание золота** по ходу процесса очистки - от флотации до финальной стадии - **равномерно растет**, что логично, т.к. сам процесс добычи золота подразумевает уменьшение в сырье долей примесей, и, тем самым, \"превращение\" исходного материала в золото. При этом мода значений содержания металла до флотации - около 7 %, в конце обработки - около 45 %;\n",
    "- **содержание серебра после флотации растет (мода примерно на 4 %), однако затем равномерно падает (мода от 11 % до 4 %)**. На своем уровне понимания технологии добычи я не могу объяснить, с чем это связано;\n",
    "- **содержание свинца растет**, притом после флотации более резко, после очистки - более полого. **Мода значений содержания свинца достигает 11 %**.\n",
    "\n",
    "Общий вывод: с учетом того, что сам процесс обработки сырья подразумевает добычу золота, т.е. увеличение количества его содержания, **с данными все корректно и процесс происходит правильно**."
   ]
  },
  {
   "cell_type": "markdown",
   "metadata": {},
   "source": [
    "### Анализ распределения размеров гранул сырья\n",
    "\n",
    "Построим графики (ящики с усами) распределения размеров гранул сырья для обучающей и тестовой выборки.\n",
    "\n",
    "В датафреймах представлены два столбца, содержащие информацию о размере гранул: \n",
    "\n",
    "\n",
    "|rougher.input.feed_size|перед флотацией| \n",
    "|-|-|\n",
    "|primary_cleaner.input.feed_size|после флотации|\n",
    "\n",
    "Сначала проведем анализ распределенения размера гранул сырья перед флотацией.\n",
    "\n",
    "#### Анализ распределения размеров гранул сырья перед флотацией\n",
    "\n",
    "Построим боксплоты для сравнения распределенения размера гранул сырья перед флотацией."
   ]
  },
  {
   "cell_type": "code",
   "execution_count": 17,
   "metadata": {},
   "outputs": [
    {
     "data": {
      "image/png": "[encoded data removed]",
      "text/plain": [
       "<Figure size 720x576 with 2 Axes>"
      ]
     },
     "metadata": {
      "needs_background": "light"
     },
     "output_type": "display_data"
    }
   ],
   "source": [
    "fig, ax = plt.subplots(1, 2, sharey=True, figsize=(10,8))\n",
    "\n",
    "sns.boxplot(y='rougher.input.feed_size', linewidth=2, data=df_train, ax=ax[0])\n",
    "ax[0].set_xlabel('Обучающая выборка')\n",
    "\n",
    "sns.boxplot(y='rougher.input.feed_size', linewidth=2, data=df_test, ax=ax[1])\n",
    "ax[1].set_xlabel('Tестовая выборка')\n",
    "ax[1].set_ylabel('')\n",
    "\n",
    "plt.suptitle('''Сравнение распределенения размера гранул сырья\n",
    "перед флотацией''', y=0.94);"
   ]
  },
  {
   "cell_type": "markdown",
   "metadata": {},
   "source": [
    "**Построим аналогичные графики без учета выбросов**."
   ]
  },
  {
   "cell_type": "code",
   "execution_count": 18,
   "metadata": {},
   "outputs": [
    {
     "data": {
      "image/png": "[encoded data removed]",
      "text/plain": [
       "<Figure size 720x576 with 2 Axes>"
      ]
     },
     "metadata": {
      "needs_background": "light"
     },
     "output_type": "display_data"
    }
   ],
   "source": [
    "fig, ax = plt.subplots(1, 2, sharey=True, figsize=(10,8))\n",
    "\n",
    "sns.boxplot(y='rougher.input.feed_size', linewidth=2, data=df_train, ax=ax[0], showfliers=False)\n",
    "ax[0].set_xlabel('Обучающая выборка')\n",
    "\n",
    "\n",
    "sns.boxplot(y='rougher.input.feed_size', linewidth=2, data=df_test, ax=ax[1], showfliers=False)\n",
    "ax[1].set_xlabel('Tестовая выборка')\n",
    "ax[1].set_ylabel('')\n",
    "\n",
    "plt.suptitle('''Сравнение распределенения размера гранул сырья\n",
    "без выбросов перед флотацией''', y=0.94);"
   ]
  },
  {
   "cell_type": "markdown",
   "metadata": {},
   "source": [
    "Оба средних значения - для данных из обучающей выборки и из тестовой - расположены близко друг к другу и каждое из них находятся в диапазоне между первым и третьим квартилем каждой выборки. \n",
    "\n",
    "Усы каждого ящика расположены еще ближе друг к другу, чем средние значения. Объем выбросов в обучающей выборке больше, но характер их распределения схож с оным в тестовой выборке.\n",
    "\n",
    "С учетом этого **принимаем, что распределение размеров гранул сырья перед флотацией в целом равномерное**, т.е. не исказит результаты исследования.\n",
    "\n",
    "#### Анализ распределения размеров гранул сырья после флотации\n",
    "\n",
    "Построим боксплоты для сравнения распределенения размера гранул сырья после флотации."
   ]
  },
  {
   "cell_type": "code",
   "execution_count": 19,
   "metadata": {},
   "outputs": [
    {
     "data": {
      "image/png": "[encoded data removed]",
      "text/plain": [
       "<Figure size 720x576 with 2 Axes>"
      ]
     },
     "metadata": {
      "needs_background": "light"
     },
     "output_type": "display_data"
    }
   ],
   "source": [
    "fig, ax = plt.subplots(1, 2, sharey=True, figsize=(10,8))\n",
    "\n",
    "sns.boxplot(y='primary_cleaner.input.feed_size', linewidth=2, data=df_train, ax=ax[0])\n",
    "ax[0].set_xlabel('Обучающая выборка')\n",
    "\n",
    "sns.boxplot(y='primary_cleaner.input.feed_size', linewidth=2, data=df_test, ax=ax[1])\n",
    "ax[1].set_xlabel('Tестовая выборка')\n",
    "ax[1].set_ylabel('')\n",
    "\n",
    "plt.suptitle('''Сравнение распределенения размера гранул сырья\n",
    "перед первичной очисткой (после флотации)''', y=0.94);"
   ]
  },
  {
   "cell_type": "markdown",
   "metadata": {},
   "source": [
    "**Построим аналогичные графики без учета выбросов**."
   ]
  },
  {
   "cell_type": "code",
   "execution_count": 20,
   "metadata": {},
   "outputs": [
    {
     "data": {
      "image/png": "[encoded data removed]",
      "text/plain": [
       "<Figure size 720x576 with 2 Axes>"
      ]
     },
     "metadata": {
      "needs_background": "light"
     },
     "output_type": "display_data"
    }
   ],
   "source": [
    "fig, ax = plt.subplots(1, 2, sharey=True, figsize=(10,8))\n",
    "\n",
    "sns.boxplot(y='primary_cleaner.input.feed_size', linewidth=2, data=df_train, ax=ax[0], showfliers=False)\n",
    "ax[0].set_xlabel('Обучающая выборка')\n",
    "\n",
    "sns.boxplot(y='primary_cleaner.input.feed_size', linewidth=2, data=df_test, ax=ax[1], showfliers=False)\n",
    "ax[1].set_xlabel('Tестовая выборка')\n",
    "ax[1].set_ylabel('')\n",
    "\n",
    "plt.suptitle('''Сравнение распределенения размера гранул сырья без выбросов \n",
    "перед первичной очисткой (после флотации)''', y=0.94);"
   ]
  },
  {
   "cell_type": "markdown",
   "metadata": {},
   "source": [
    "В целом ситуация с распределением размера гранул сырья после флотации схожа с оной перед флотацией, однако есть и отличия.\n",
    "\n",
    "Оба средних значения расположены значительно ближе друг к другу, чем до флотации. Каждое из них также находятся в диапазоне между первым и третьим квартилем каждой выборки.\n",
    "\n",
    "Усы каждого ящика расположены достаточно близко друг к другу, но притом дальше, чем до флотации. Объем выбросов в обучающей выборке также больше, но характер их распределения схож с оным в тестовой выборке.\n",
    "\n",
    "Таким образом, **распределение размеров гранул сырья после флотации принимаем равномерным**.\n",
    "\n",
    "Однако построим также график изменения размеров гранул сырья, чтобы иметь более общую картину.\n",
    "\n",
    "#### Анализ изменения размеров гранул сырья перед флотацией и после нее"
   ]
  },
  {
   "cell_type": "code",
   "execution_count": 21,
   "metadata": {},
   "outputs": [],
   "source": [
    "# создадим функцию, которая вернет списков списков с медианными значениями\n",
    "# размера гранул сырья после каждого этапа\n",
    "\n",
    "def size_func(df_1, df_2):\n",
    "    return [\n",
    "        [\n",
    "        df_1['rougher.input.feed_size'].median(),\n",
    "        df_1['primary_cleaner.input.feed_size'].median()\n",
    "        ],\n",
    "        [\n",
    "        df_2['rougher.input.feed_size'].median(),\n",
    "        df_2['primary_cleaner.input.feed_size'].median()\n",
    "        ]\n",
    "    ]"
   ]
  },
  {
   "cell_type": "code",
   "execution_count": 22,
   "metadata": {},
   "outputs": [],
   "source": [
    "# сохраним список списков\n",
    "\n",
    "size_list = size_func(df_train, df_test)"
   ]
  },
  {
   "cell_type": "markdown",
   "metadata": {},
   "source": [
    "Построим график для каждого подсписка, при этом зададим индексацию в соответствии с этапом."
   ]
  },
  {
   "cell_type": "code",
   "execution_count": 23,
   "metadata": {},
   "outputs": [
    {
     "data": {
      "image/png": "[encoded data removed]",
      "text/plain": [
       "<Figure size 432x288 with 1 Axes>"
      ]
     },
     "metadata": {
      "needs_background": "light"
     },
     "output_type": "display_data"
    }
   ],
   "source": [
    "plt.title('медианный размер гранул сырья \\n перед флотацией и после нее')\n",
    "\n",
    "for i in range(2):\n",
    "    size_list[i] = pd.DataFrame(size_list[i])\n",
    "    size_list[i].index = ['rougher', 'final']\n",
    "    plt.plot(size_list[i]);\n",
    "\n",
    "plt.legend(['обучающая выборка',\n",
    "            'тестовая выборка'])\n",
    "\n",
    "plt.xlabel('этап обработки', fontsize=10)\n",
    "plt.ylabel('размер гранул', fontsize=10)\n",
    "\n",
    "plt.grid()"
   ]
  },
  {
   "cell_type": "markdown",
   "metadata": {},
   "source": [
    "Данный график, как и боксплоты, показывает более серьезное различие размеров гранул сырья перед флотацией, чем после нее. В целом график подтвердил предыдущие выводы."
   ]
  },
  {
   "cell_type": "markdown",
   "metadata": {},
   "source": [
    "### Анализ суммарной концентрации всех веществ на разных стадиях"
   ]
  },
  {
   "cell_type": "markdown",
   "metadata": {},
   "source": [
    "Проведем анализ на основе данных из обучающей выборки.\n",
    "\n",
    "Выведем список названий столбцов с данными о концентрации."
   ]
  },
  {
   "cell_type": "code",
   "execution_count": 24,
   "metadata": {},
   "outputs": [
    {
     "data": {
      "text/plain": [
       "['final.output.concentrate_ag',\n",
       " 'final.output.concentrate_pb',\n",
       " 'final.output.concentrate_sol',\n",
       " 'final.output.concentrate_au',\n",
       " 'final.output.tail_ag',\n",
       " 'final.output.tail_pb',\n",
       " 'final.output.tail_sol',\n",
       " 'final.output.tail_au',\n",
       " 'primary_cleaner.output.concentrate_ag',\n",
       " 'primary_cleaner.output.concentrate_pb',\n",
       " 'primary_cleaner.output.concentrate_sol',\n",
       " 'primary_cleaner.output.concentrate_au',\n",
       " 'primary_cleaner.output.tail_ag',\n",
       " 'primary_cleaner.output.tail_pb',\n",
       " 'primary_cleaner.output.tail_sol',\n",
       " 'primary_cleaner.output.tail_au',\n",
       " 'rougher.output.concentrate_ag',\n",
       " 'rougher.output.concentrate_pb',\n",
       " 'rougher.output.concentrate_sol',\n",
       " 'rougher.output.concentrate_au',\n",
       " 'rougher.output.tail_ag',\n",
       " 'rougher.output.tail_pb',\n",
       " 'rougher.output.tail_sol',\n",
       " 'rougher.output.tail_au',\n",
       " 'secondary_cleaner.output.tail_ag',\n",
       " 'secondary_cleaner.output.tail_pb',\n",
       " 'secondary_cleaner.output.tail_sol',\n",
       " 'secondary_cleaner.output.tail_au']"
      ]
     },
     "execution_count": 24,
     "metadata": {},
     "output_type": "execute_result"
    }
   ],
   "source": [
    "concentrate_cols = [col for col in df_train.columns if ('output' in col) & ('recovery' not in col)]\n",
    "\n",
    "concentrate_cols"
   ]
  },
  {
   "cell_type": "markdown",
   "metadata": {},
   "source": [
    "Для каждого этапа создадим свои списки с названиями столбцов, которые затем передадим другому списку."
   ]
  },
  {
   "cell_type": "code",
   "execution_count": 25,
   "metadata": {},
   "outputs": [],
   "source": [
    "concentrate_rougher_cols = [col for col in concentrate_cols if 'rougher' in col]\n",
    "concentrate_primary_cleaner_cols = [col for col in concentrate_cols if 'primary_cleaner' in col]\n",
    "concentrate_final_cols = [col for col in concentrate_cols if 'final' in col]\n",
    "\n",
    "concentrate_stages_cols = [concentrate_rougher_cols, concentrate_primary_cleaner_cols, concentrate_final_cols]"
   ]
  },
  {
   "cell_type": "code",
   "execution_count": 26,
   "metadata": {},
   "outputs": [],
   "source": [
    "# создадим функцию, которая вернет гистограмму\n",
    "# с суммарным содержанием всех веществ на каждом этапе\n",
    "\n",
    "def plot_agents(df, metal):\n",
    "    \n",
    "    fig, ax = plt.subplots()\n",
    "    \n",
    "    for col, stage_name in zip(concentrate_stages_cols, ['rougher', 'primary cleaner', 'final']):\n",
    "        sns.distplot(a=df[col].sum(axis=1), label=stage_name)\n",
    "        ax.set_xlabel(metal)\n",
    "        ax.set_ylabel('')\n",
    "        ax.legend()\n",
    "    fig.show()"
   ]
  },
  {
   "cell_type": "code",
   "execution_count": 27,
   "metadata": {},
   "outputs": [
    {
     "data": {
      "image/png": "[encoded data removed]",
      "text/plain": [
       "<Figure size 432x288 with 1 Axes>"
      ]
     },
     "metadata": {
      "needs_background": "light"
     },
     "output_type": "display_data"
    }
   ],
   "source": [
    "# выведем график\n",
    "\n",
    "plot_agents(df_train, 'суммарная концентрация всех веществ на разных стадиях')"
   ]
  },
  {
   "cell_type": "markdown",
   "metadata": {},
   "source": [
    "Каких-либо наблюдений, которые говорили бы о некорректности данных, не замечено. "
   ]
  },
  {
   "cell_type": "markdown",
   "metadata": {},
   "source": [
    "## Подготовка данных к машинному обучение\n",
    "\n",
    "### Обработка тестового датафрейма\n",
    "\n",
    "Удалим из обучающего датафрейма все фичи, которых нет в тестовом."
   ]
  },
  {
   "cell_type": "code",
   "execution_count": 28,
   "metadata": {},
   "outputs": [],
   "source": [
    "target_cols = ['rougher.output.recovery', 'final.output.recovery']\n",
    " \n",
    "cols_to_drop = [col for col in test_missed_cols if col not in target_cols]\n",
    "\n",
    "df_train = df_train.drop(columns=cols_to_drop)"
   ]
  },
  {
   "cell_type": "markdown",
   "metadata": {},
   "source": [
    "Осталось добавить в тестовый датафрейм столбцы с целевыми признаками из полного датафрейма."
   ]
  },
  {
   "cell_type": "code",
   "execution_count": 29,
   "metadata": {},
   "outputs": [],
   "source": [
    "df_test = df_test.join(df_full['rougher.output.recovery'])\n",
    "df_test = df_test.join(df_full['final.output.recovery'])"
   ]
  },
  {
   "cell_type": "markdown",
   "metadata": {},
   "source": [
    "Проверим, ровно ли количество столбцов в каждом из двух датафреймов"
   ]
  },
  {
   "cell_type": "code",
   "execution_count": 30,
   "metadata": {},
   "outputs": [
    {
     "data": {
      "text/plain": [
       "True"
      ]
     },
     "execution_count": 30,
     "metadata": {},
     "output_type": "execute_result"
    }
   ],
   "source": [
    "df_train.shape[1] == df_test.shape[1]"
   ]
  },
  {
   "cell_type": "markdown",
   "metadata": {},
   "source": [
    "Также проверим правильность присоединения столбцов."
   ]
  },
  {
   "cell_type": "code",
   "execution_count": 31,
   "metadata": {},
   "outputs": [
    {
     "data": {
      "text/plain": [
       "False"
      ]
     },
     "execution_count": 31,
     "metadata": {},
     "output_type": "execute_result"
    }
   ],
   "source": [
    "(\n",
    "    df_test.iloc[-1]['rougher.output.recovery'] == \n",
    "    df_full.iloc[-1]['rougher.output.recovery']\n",
    ")"
   ]
  },
  {
   "cell_type": "code",
   "execution_count": 32,
   "metadata": {},
   "outputs": [
    {
     "data": {
      "text/plain": [
       "True"
      ]
     },
     "execution_count": 32,
     "metadata": {},
     "output_type": "execute_result"
    }
   ],
   "source": [
    "(\n",
    "    df_test.loc['2017-12-31 19:59:59']['rougher.output.recovery'] == \n",
    "    df_full.loc['2017-12-31 19:59:59']['rougher.output.recovery']\n",
    ")"
   ]
  },
  {
   "cell_type": "markdown",
   "metadata": {},
   "source": [
    "Столбцы присоединены правильно.\n",
    "\n",
    "Проверим количество пропусков в обновленном датафрейме."
   ]
  },
  {
   "cell_type": "code",
   "execution_count": 33,
   "metadata": {},
   "outputs": [
    {
     "data": {
      "text/plain": [
       "primary_cleaner.input.sulfate                 0\n",
       "primary_cleaner.input.depressant              0\n",
       "primary_cleaner.input.feed_size               0\n",
       "primary_cleaner.input.xanthate                0\n",
       "primary_cleaner.state.floatbank8_a_air        0\n",
       "primary_cleaner.state.floatbank8_a_level      0\n",
       "primary_cleaner.state.floatbank8_b_air        0\n",
       "primary_cleaner.state.floatbank8_b_level      0\n",
       "primary_cleaner.state.floatbank8_c_air        0\n",
       "primary_cleaner.state.floatbank8_c_level      0\n",
       "primary_cleaner.state.floatbank8_d_air        0\n",
       "primary_cleaner.state.floatbank8_d_level      0\n",
       "rougher.input.feed_ag                         0\n",
       "rougher.input.feed_pb                         0\n",
       "rougher.input.feed_rate                       0\n",
       "rougher.input.feed_size                       0\n",
       "rougher.input.feed_sol                        0\n",
       "rougher.input.feed_au                         0\n",
       "rougher.input.floatbank10_sulfate             0\n",
       "rougher.input.floatbank10_xanthate            0\n",
       "rougher.input.floatbank11_sulfate             0\n",
       "rougher.input.floatbank11_xanthate            0\n",
       "rougher.state.floatbank10_a_air               0\n",
       "rougher.state.floatbank10_a_level             0\n",
       "rougher.state.floatbank10_b_air               0\n",
       "rougher.state.floatbank10_b_level             0\n",
       "rougher.state.floatbank10_c_air               0\n",
       "rougher.state.floatbank10_c_level             0\n",
       "rougher.state.floatbank10_d_air               0\n",
       "rougher.state.floatbank10_d_level             0\n",
       "rougher.state.floatbank10_e_air               0\n",
       "rougher.state.floatbank10_e_level             0\n",
       "rougher.state.floatbank10_f_air               0\n",
       "rougher.state.floatbank10_f_level             0\n",
       "secondary_cleaner.state.floatbank2_a_air      0\n",
       "secondary_cleaner.state.floatbank2_a_level    0\n",
       "secondary_cleaner.state.floatbank2_b_air      0\n",
       "secondary_cleaner.state.floatbank2_b_level    0\n",
       "secondary_cleaner.state.floatbank3_a_air      0\n",
       "secondary_cleaner.state.floatbank3_a_level    0\n",
       "secondary_cleaner.state.floatbank3_b_air      0\n",
       "secondary_cleaner.state.floatbank3_b_level    0\n",
       "secondary_cleaner.state.floatbank4_a_air      0\n",
       "secondary_cleaner.state.floatbank4_a_level    0\n",
       "secondary_cleaner.state.floatbank4_b_air      0\n",
       "secondary_cleaner.state.floatbank4_b_level    0\n",
       "secondary_cleaner.state.floatbank5_a_air      0\n",
       "secondary_cleaner.state.floatbank5_a_level    0\n",
       "secondary_cleaner.state.floatbank5_b_air      0\n",
       "secondary_cleaner.state.floatbank5_b_level    0\n",
       "secondary_cleaner.state.floatbank6_a_air      0\n",
       "secondary_cleaner.state.floatbank6_a_level    0\n",
       "rougher.output.recovery                       0\n",
       "final.output.recovery                         0\n",
       "dtype: int64"
      ]
     },
     "execution_count": 33,
     "metadata": {},
     "output_type": "execute_result"
    }
   ],
   "source": [
    "df_test.isna().sum()"
   ]
  },
  {
   "cell_type": "markdown",
   "metadata": {},
   "source": [
    "Пропусков нет.\n",
    "\n",
    "### Удаление неинформативных данных\n",
    "\n",
    "Сбросим индексы датафреймов, т.к. эти данные - date - не являются информативными и не нужны для дальнейшей работы."
   ]
  },
  {
   "cell_type": "code",
   "execution_count": 34,
   "metadata": {},
   "outputs": [],
   "source": [
    "df_train = df_train.reset_index(drop=True)\n",
    "df_test = df_test.reset_index(drop=True)"
   ]
  },
  {
   "cell_type": "markdown",
   "metadata": {},
   "source": [
    "### Написание целевых формул\n",
    "\n",
    "Напишем функции для расчета sMAPE и итогового sMAPE."
   ]
  },
  {
   "cell_type": "code",
   "execution_count": 35,
   "metadata": {},
   "outputs": [],
   "source": [
    "def smape(y, pred):\n",
    "    return (1 / len(y)) * np.sum(np.abs(pred - y) / ((np.abs(y) + np.abs(pred)) / 2)) * 100\n",
    "\n",
    "def smape_total(smape_rough, smape_final):\n",
    "    smape_total = smape_rough*0.25 + smape_final*0.75\n",
    "    return smape_total"
   ]
  },
  {
   "cell_type": "markdown",
   "metadata": {},
   "source": [
    "### Разбиение данных на выборки"
   ]
  },
  {
   "cell_type": "code",
   "execution_count": 36,
   "metadata": {},
   "outputs": [],
   "source": [
    "X_train = df_train.drop(columns=['final.output.recovery', 'rougher.output.recovery'])\n",
    "X_test = df_test.drop(columns=['final.output.recovery', 'rougher.output.recovery'])\n",
    "\n",
    "\n",
    "y_train_rougher, y_train_cleaner = df_train['rougher.output.recovery'], df_train['final.output.recovery']\n",
    "y_test_rougher, y_test_cleaner = df_test['rougher.output.recovery'], df_test['final.output.recovery']"
   ]
  },
  {
   "cell_type": "markdown",
   "metadata": {},
   "source": [
    "### Масштабирование данных"
   ]
  },
  {
   "cell_type": "code",
   "execution_count": 37,
   "metadata": {},
   "outputs": [],
   "source": [
    "scaler = StandardScaler()\n",
    "\n",
    "X_train = scaler.fit_transform(X_train)\n",
    "X_test = scaler.transform(X_test)"
   ]
  },
  {
   "cell_type": "markdown",
   "metadata": {},
   "source": [
    "## Машинное обучение\n",
    "\n",
    "Обучим модели:\n",
    "- DecisionTreeRegressor\n",
    "- RandomForestRegressor\n",
    "- LinearRegression\n",
    "\n",
    "Для удобства проведем машинное обучение с пайплайном - таким образом мы сразу определим, какая модель имеет наибольшее значение ключевой метрики - sMAPE."
   ]
  },
  {
   "cell_type": "code",
   "execution_count": 38,
   "metadata": {},
   "outputs": [
    {
     "name": "stdout",
     "output_type": "stream",
     "text": [
      "CPU times: total: 4.7 s\n",
      "Wall time: 1min 18s\n"
     ]
    },
    {
     "data": {
      "text/plain": [
       "GridSearchCV(cv=KFold(n_splits=5, random_state=None, shuffle=False),\n",
       "             estimator=Pipeline(steps=[('model',\n",
       "                                        RandomForestRegressor(random_state=12345))]),\n",
       "             n_jobs=-1,\n",
       "             param_grid=[{'model': [DecisionTreeRegressor(random_state=12345)],\n",
       "                          'model__max_depth': [2, 4, 6]},\n",
       "                         {'model': [RandomForestRegressor(max_depth=6,\n",
       "                                                          n_estimators=20,\n",
       "                                                          random_state=12345)],\n",
       "                          'model__max_depth': [2, 4, 6],\n",
       "                          'model__n_estimators': [20, 40, 60]},\n",
       "                         {'model': [LinearRegression()]}],\n",
       "             scoring=make_scorer(smape, greater_is_better=False))"
      ]
     },
     "execution_count": 38,
     "metadata": {},
     "output_type": "execute_result"
    }
   ],
   "source": [
    "%%time\n",
    "\n",
    "pipeline = Pipeline([('model', RandomForestRegressor(random_state=12345))])\n",
    "\n",
    "params_grid = [{'model': [DecisionTreeRegressor(random_state=12345)],\n",
    "                'model__max_depth': [2, 4, 6]},\n",
    "               {'model': [RandomForestRegressor(random_state=12345)],\n",
    "                'model__max_depth': [2, 4, 6],\n",
    "                'model__n_estimators': [20, 40, 60],},  \n",
    "               {'model': [LinearRegression()]}]\n",
    "\n",
    "gridSearch = GridSearchCV(estimator=pipeline, \n",
    "                          param_grid=params_grid, \n",
    "                          cv=KFold(), \n",
    "                          scoring=make_scorer(smape, greater_is_better=False),\n",
    "                          n_jobs=-1\n",
    "                          )\n",
    "\n",
    "gridSearch.fit(X_train, y_train_rougher)"
   ]
  },
  {
   "cell_type": "markdown",
   "metadata": {},
   "source": [
    "Выведем параметры лучшей модели."
   ]
  },
  {
   "cell_type": "code",
   "execution_count": 39,
   "metadata": {},
   "outputs": [
    {
     "data": {
      "text/plain": [
       "Pipeline(steps=[('model',\n",
       "                 RandomForestRegressor(max_depth=6, n_estimators=20,\n",
       "                                       random_state=12345))])"
      ]
     },
     "metadata": {},
     "output_type": "display_data"
    },
    {
     "data": {
      "text/plain": [
       "{'model': RandomForestRegressor(max_depth=6, n_estimators=20, random_state=12345),\n",
       " 'model__max_depth': 6,\n",
       " 'model__n_estimators': 20}"
      ]
     },
     "metadata": {},
     "output_type": "display_data"
    },
    {
     "data": {
      "text/plain": [
       "-10.915564715983024"
      ]
     },
     "metadata": {},
     "output_type": "display_data"
    }
   ],
   "source": [
    "display(gridSearch.best_estimator_)\n",
    "display(gridSearch.best_params_)\n",
    "display(gridSearch.best_score_)"
   ]
  },
  {
   "cell_type": "markdown",
   "metadata": {},
   "source": [
    "Лучшей моделью оказался случайный лес с количеством деревьев 20 и их глубиной, равной 6."
   ]
  },
  {
   "cell_type": "markdown",
   "metadata": {},
   "source": [
    "## Проверка модели на тестовой выборке\n",
    "\n",
    "Рассчитаем sMAPE на тестовой выборке."
   ]
  },
  {
   "cell_type": "code",
   "execution_count": 40,
   "metadata": {},
   "outputs": [
    {
     "name": "stdout",
     "output_type": "stream",
     "text": [
      "Значение sMAPE rougher: 10.366582619823275\n",
      "Значение sMAPE cleaner: 10.80131595919048\n",
      "\n",
      "Итоговое sMAPE: 10.69263262434868\n"
     ]
    }
   ],
   "source": [
    "model = RandomForestRegressor(max_depth=6, n_estimators=20, random_state=12345).fit(X_train, y_train_rougher)\n",
    "predict_rougher = model.predict(X_test)\n",
    "print('Значение sMAPE rougher:', smape(y_test_rougher, predict_rougher))\n",
    "\n",
    "\n",
    "model = RandomForestRegressor(max_depth=6, n_estimators=20, random_state=12345).fit(X_train, y_train_cleaner)\n",
    "predict_cleaner = model.predict(X_test)\n",
    "print('Значение sMAPE cleaner:', smape(y_test_cleaner, predict_cleaner))\n",
    "print()\n",
    "print('Итоговое sMAPE:', smape_total(smape(y_test_rougher, predict_rougher), smape(y_test_cleaner, predict_cleaner)))"
   ]
  },
  {
   "cell_type": "markdown",
   "metadata": {},
   "source": [
    "## Общий вывод"
   ]
  },
  {
   "cell_type": "markdown",
   "metadata": {},
   "source": [
    "На основе входных данных по восстановлению золота из руды с параметрами добычи и очистки были проведены ряд исследовательских анализов и обучены модели машинного обучения. Цель: построение модели для предсказания коэффициента восстановления золота из золотосодержащей руды. Такая модель в будущем поможет оптимизировать производство, чтобы не запускать предприятие с убыточными характеристиками.\n",
    "\n",
    "В ходе работы были открыты и изучены файлы с данными, определены целевые признаки: rougher.output.recovery и final.output.recovery.\n",
    "\n",
    "Далее была произведена **проверка правильности расчета эффективности обогащения**. Для целевого признака rougher.output.recovery были выведены исходные данные и рассчитанные по формуле. Значение среднего абсолютного отклонения оказалось крайне мало: 5.684341886080802e-15. Следовательно, данные рассчитаны верно.\n",
    "\n",
    "Затем был произведен **анализ отсутствующих в тестовой выборке данных**. В ходе анализа выяснилось, что в тестовой выборке полностью отсутствуют выходные данные: доля содержания металлов / примесей в руде перед каждым этапом, эффективность обогащения, а также все калькуляции.\n",
    "\n",
    "После **предобработки данных** был произведен **анализ изменения концентрации металлов на различных этапах очистки**. Анализ показал следующее:\n",
    "\n",
    "- содержание золота по ходу процесса очистки равномерно растет, при этом мода значений содержания металла до флотации - около 7 %, а в конце обработки - около 45 %;\n",
    "- содержание серебра после флотации растет, однако затем равномерно падает;\n",
    "- содержание свинца растет, притом после флотации более резко, после очистки - более полого.\n",
    "\n",
    "Общий вывод по анализу: с учетом того, что сам процесс обработки сырья подразумевает добычу золота, т.е. увеличение количества его содержания, с данными все корректно и процесс происходит правильно.\n",
    "\n",
    "**Анализ распределения размеров гранул сырья** показал, что распределение равномерно: как перед флотацией, так и после нее.\n",
    "\n",
    "В ходе **анализа суммарной концентрации всех веществ на разных стадиях** каких-либо наблюдений, которые говорили бы о некорректности данных, замечено не было.\n",
    "\n",
    "Далее была произведена **подготовка данных для машинного обучения**, после - **машинное обучение** моделей\n",
    "- DecisionTreeRegressor\n",
    "- RandomForestRegressor\n",
    "- LinearRegression\n",
    "\n",
    "По результатам проверки лучшей моделью оказалась модель Random Forest с наименьшим значением sMAPE - симметричного среднего абсолютного процентного отклонения.\n",
    "\n",
    "Последний этап - **проверка лучшей модели на тестовой выборке - расчет итогового sMAPE**, который оказался ранвым 10.69. Таким образом модель подходит для выполнения поставленных задач.\n",
    "\n",
    "**Рекомендации**: для решения задачи предсказания рекомендую заказчику воспользоваться наилучшей моделью, а именно RandomForestRegressor со следующими параметрами:\n",
    "- 'max_depth': 6\n",
    "- 'n_estimators': 20\n",
    "\n",
    "Таким образом, при значении итогового sMAPE 10.69 на тестовой выборке, заказчик сможет достаточно точно определять коэффициент восстановления золота из золотосодержащей руды, что поможет ему понять, какие предприятия потенциально убыточные. "
   ]
  }
 ],
 "metadata": {
  "ExecuteTimeLog": [
   {
    "duration": 357,
    "start_time": "2022-10-21T09:44:38.559Z"
   },
   {
    "duration": 1360,
    "start_time": "2022-10-21T09:44:58.105Z"
   },
   {
    "duration": 2319,
    "start_time": "2022-10-21T09:45:31.113Z"
   },
   {
    "duration": 36,
    "start_time": "2022-10-21T09:45:35.594Z"
   },
   {
    "duration": 25,
    "start_time": "2022-10-21T09:45:40.503Z"
   },
   {
    "duration": 26,
    "start_time": "2022-10-21T09:45:43.845Z"
   },
   {
    "duration": 15240,
    "start_time": "2022-10-21T11:35:56.616Z"
   },
   {
    "duration": 2599,
    "start_time": "2022-10-21T11:37:33.214Z"
   },
   {
    "duration": 3,
    "start_time": "2022-10-21T11:37:55.040Z"
   },
   {
    "duration": 11,
    "start_time": "2022-10-21T11:38:43.977Z"
   },
   {
    "duration": 2469,
    "start_time": "2022-10-21T11:39:00.340Z"
   },
   {
    "duration": 7,
    "start_time": "2022-10-21T11:39:05.164Z"
   },
   {
    "duration": 3801,
    "start_time": "2022-10-21T11:39:30.756Z"
   },
   {
    "duration": 4994,
    "start_time": "2022-10-21T11:45:52.595Z"
   },
   {
    "duration": 3992,
    "start_time": "2022-10-21T11:45:57.591Z"
   },
   {
    "duration": 4,
    "start_time": "2022-10-21T11:46:01.584Z"
   },
   {
    "duration": 4103,
    "start_time": "2022-10-21T11:47:42.282Z"
   },
   {
    "duration": 683,
    "start_time": "2022-10-21T11:47:46.387Z"
   },
   {
    "duration": 3,
    "start_time": "2022-10-21T11:47:47.071Z"
   },
   {
    "duration": 117,
    "start_time": "2022-10-21T11:47:47.076Z"
   },
   {
    "duration": 15616,
    "start_time": "2022-10-24T09:07:36.312Z"
   },
   {
    "duration": 1603,
    "start_time": "2022-10-24T09:07:51.930Z"
   },
   {
    "duration": 3,
    "start_time": "2022-10-24T09:07:53.534Z"
   },
   {
    "duration": 101,
    "start_time": "2022-10-24T09:07:53.539Z"
   },
   {
    "duration": 7,
    "start_time": "2022-10-24T09:10:28.839Z"
   },
   {
    "duration": 966,
    "start_time": "2022-10-24T09:13:52.289Z"
   },
   {
    "duration": 6,
    "start_time": "2022-10-24T09:14:15.250Z"
   },
   {
    "duration": 11,
    "start_time": "2022-10-24T09:17:44.333Z"
   },
   {
    "duration": 797,
    "start_time": "2022-10-24T09:19:46.365Z"
   },
   {
    "duration": 5,
    "start_time": "2022-10-24T09:19:51.193Z"
   },
   {
    "duration": 6,
    "start_time": "2022-10-24T09:20:23.057Z"
   },
   {
    "duration": 6,
    "start_time": "2022-10-24T09:21:31.766Z"
   },
   {
    "duration": 6,
    "start_time": "2022-10-24T09:30:13.628Z"
   },
   {
    "duration": 8,
    "start_time": "2022-10-24T09:33:54.285Z"
   },
   {
    "duration": 5,
    "start_time": "2022-10-24T09:36:05.944Z"
   },
   {
    "duration": 8,
    "start_time": "2022-10-24T09:36:06.724Z"
   },
   {
    "duration": 8,
    "start_time": "2022-10-24T09:36:08.058Z"
   },
   {
    "duration": 5,
    "start_time": "2022-10-24T09:37:16.539Z"
   },
   {
    "duration": 7,
    "start_time": "2022-10-24T09:37:24.343Z"
   },
   {
    "duration": 8,
    "start_time": "2022-10-24T09:39:30.017Z"
   },
   {
    "duration": 7,
    "start_time": "2022-10-24T09:39:58.196Z"
   },
   {
    "duration": 7,
    "start_time": "2022-10-24T09:41:58.218Z"
   },
   {
    "duration": 7,
    "start_time": "2022-10-24T09:42:03.197Z"
   },
   {
    "duration": 51,
    "start_time": "2022-10-24T09:42:05.622Z"
   },
   {
    "duration": 7,
    "start_time": "2022-10-24T09:42:08.544Z"
   },
   {
    "duration": 6,
    "start_time": "2022-10-24T09:43:11.910Z"
   },
   {
    "duration": 3037,
    "start_time": "2022-10-24T09:44:03.040Z"
   },
   {
    "duration": 6,
    "start_time": "2022-10-24T09:45:09.122Z"
   },
   {
    "duration": 7,
    "start_time": "2022-10-24T09:45:19.458Z"
   },
   {
    "duration": 21,
    "start_time": "2022-10-24T09:45:24.375Z"
   },
   {
    "duration": 5,
    "start_time": "2022-10-24T09:45:29.335Z"
   },
   {
    "duration": 5,
    "start_time": "2022-10-24T09:46:08.890Z"
   },
   {
    "duration": 5,
    "start_time": "2022-10-24T09:46:18.069Z"
   },
   {
    "duration": 41,
    "start_time": "2022-10-24T09:46:57.070Z"
   },
   {
    "duration": 12,
    "start_time": "2022-10-24T09:47:01.222Z"
   },
   {
    "duration": 7,
    "start_time": "2022-10-24T09:49:47.450Z"
   },
   {
    "duration": 5,
    "start_time": "2022-10-24T09:49:55.179Z"
   },
   {
    "duration": 6,
    "start_time": "2022-10-24T09:51:17.586Z"
   },
   {
    "duration": 5,
    "start_time": "2022-10-24T09:51:30.033Z"
   },
   {
    "duration": 4,
    "start_time": "2022-10-24T09:52:22.105Z"
   },
   {
    "duration": 42,
    "start_time": "2022-10-24T09:52:49.784Z"
   },
   {
    "duration": 48,
    "start_time": "2022-10-24T09:53:07.495Z"
   },
   {
    "duration": 87,
    "start_time": "2022-10-24T09:53:16.055Z"
   },
   {
    "duration": 66,
    "start_time": "2022-10-24T09:53:29.985Z"
   },
   {
    "duration": 4,
    "start_time": "2022-10-24T09:53:33.984Z"
   },
   {
    "duration": 5,
    "start_time": "2022-10-24T09:53:40.084Z"
   },
   {
    "duration": 51,
    "start_time": "2022-10-24T09:53:54.422Z"
   },
   {
    "duration": 46,
    "start_time": "2022-10-24T09:54:04.903Z"
   },
   {
    "duration": 4,
    "start_time": "2022-10-24T09:54:09.933Z"
   },
   {
    "duration": 51,
    "start_time": "2022-10-24T09:54:20.713Z"
   },
   {
    "duration": 4,
    "start_time": "2022-10-24T09:54:27.376Z"
   },
   {
    "duration": 5,
    "start_time": "2022-10-24T09:54:47.094Z"
   },
   {
    "duration": 7,
    "start_time": "2022-10-24T09:56:01.241Z"
   },
   {
    "duration": 5,
    "start_time": "2022-10-24T09:56:26.491Z"
   },
   {
    "duration": 5,
    "start_time": "2022-10-24T09:56:42.522Z"
   },
   {
    "duration": 4,
    "start_time": "2022-10-24T09:57:25.461Z"
   },
   {
    "duration": 4,
    "start_time": "2022-10-24T09:57:31.997Z"
   },
   {
    "duration": 4,
    "start_time": "2022-10-24T09:57:38.341Z"
   },
   {
    "duration": 4,
    "start_time": "2022-10-24T09:58:19.037Z"
   },
   {
    "duration": 7,
    "start_time": "2022-10-24T10:01:00.024Z"
   },
   {
    "duration": 4,
    "start_time": "2022-10-24T10:01:21.663Z"
   },
   {
    "duration": 3,
    "start_time": "2022-10-24T10:02:26.583Z"
   },
   {
    "duration": 7,
    "start_time": "2022-10-24T10:03:07.460Z"
   },
   {
    "duration": 3,
    "start_time": "2022-10-24T10:03:17.403Z"
   },
   {
    "duration": 3,
    "start_time": "2022-10-24T10:03:50.499Z"
   },
   {
    "duration": 4,
    "start_time": "2022-10-24T10:03:52.355Z"
   },
   {
    "duration": 6,
    "start_time": "2022-10-24T10:04:01.296Z"
   },
   {
    "duration": 5,
    "start_time": "2022-10-24T10:04:08.034Z"
   },
   {
    "duration": 6,
    "start_time": "2022-10-24T10:04:39.323Z"
   },
   {
    "duration": 3040,
    "start_time": "2022-10-24T10:04:59.779Z"
   },
   {
    "duration": 5,
    "start_time": "2022-10-24T10:05:29.223Z"
   },
   {
    "duration": 4,
    "start_time": "2022-10-24T10:06:59.710Z"
   },
   {
    "duration": 4,
    "start_time": "2022-10-24T10:07:05.773Z"
   },
   {
    "duration": 4,
    "start_time": "2022-10-24T10:07:08.739Z"
   },
   {
    "duration": 3,
    "start_time": "2022-10-24T10:07:09.963Z"
   },
   {
    "duration": 4,
    "start_time": "2022-10-24T10:07:10.255Z"
   },
   {
    "duration": 37,
    "start_time": "2022-10-24T10:29:55.849Z"
   },
   {
    "duration": 4,
    "start_time": "2022-10-24T10:30:08.772Z"
   },
   {
    "duration": 25,
    "start_time": "2022-10-24T10:32:07.564Z"
   },
   {
    "duration": 4,
    "start_time": "2022-10-24T10:32:25.864Z"
   },
   {
    "duration": 720,
    "start_time": "2022-10-24T10:32:39.980Z"
   },
   {
    "duration": 18,
    "start_time": "2022-10-24T10:32:46.325Z"
   },
   {
    "duration": 16,
    "start_time": "2022-10-24T10:33:01.626Z"
   },
   {
    "duration": 17,
    "start_time": "2022-10-24T10:33:06.285Z"
   },
   {
    "duration": 5,
    "start_time": "2022-10-24T10:33:10.459Z"
   },
   {
    "duration": 5,
    "start_time": "2022-10-24T10:33:26.136Z"
   },
   {
    "duration": 5,
    "start_time": "2022-10-24T10:33:38.465Z"
   },
   {
    "duration": 6,
    "start_time": "2022-10-24T10:33:46.055Z"
   },
   {
    "duration": 28,
    "start_time": "2022-10-24T10:36:09.425Z"
   },
   {
    "duration": 24,
    "start_time": "2022-10-24T10:36:47.904Z"
   },
   {
    "duration": 10,
    "start_time": "2022-10-24T10:36:54.145Z"
   },
   {
    "duration": 10,
    "start_time": "2022-10-24T10:37:20.363Z"
   },
   {
    "duration": 9,
    "start_time": "2022-10-24T10:37:24.103Z"
   },
   {
    "duration": 9,
    "start_time": "2022-10-24T10:37:34.992Z"
   },
   {
    "duration": 11,
    "start_time": "2022-10-24T10:37:41.643Z"
   },
   {
    "duration": 11,
    "start_time": "2022-10-24T10:37:55.660Z"
   },
   {
    "duration": 12,
    "start_time": "2022-10-24T10:38:29.991Z"
   },
   {
    "duration": 8,
    "start_time": "2022-10-24T10:38:34.063Z"
   },
   {
    "duration": 11,
    "start_time": "2022-10-24T10:38:54.644Z"
   },
   {
    "duration": 16,
    "start_time": "2022-10-24T10:38:59.822Z"
   },
   {
    "duration": 15,
    "start_time": "2022-10-24T10:39:30.645Z"
   },
   {
    "duration": 5,
    "start_time": "2022-10-24T10:41:03.368Z"
   },
   {
    "duration": 5,
    "start_time": "2022-10-24T10:41:15.280Z"
   },
   {
    "duration": 10,
    "start_time": "2022-10-24T10:42:08.809Z"
   },
   {
    "duration": 11,
    "start_time": "2022-10-24T10:42:12.728Z"
   },
   {
    "duration": 53,
    "start_time": "2022-10-24T10:42:15.614Z"
   },
   {
    "duration": 59,
    "start_time": "2022-10-24T10:42:35.006Z"
   },
   {
    "duration": 46,
    "start_time": "2022-10-24T12:34:04.841Z"
   },
   {
    "duration": 14618,
    "start_time": "2022-10-24T12:34:09.603Z"
   },
   {
    "duration": 3523,
    "start_time": "2022-10-24T12:34:24.223Z"
   },
   {
    "duration": 3,
    "start_time": "2022-10-24T12:34:27.747Z"
   },
   {
    "duration": 109,
    "start_time": "2022-10-24T12:34:27.751Z"
   },
   {
    "duration": 4,
    "start_time": "2022-10-24T12:34:27.862Z"
   },
   {
    "duration": 11,
    "start_time": "2022-10-24T12:34:27.867Z"
   },
   {
    "duration": 21,
    "start_time": "2022-10-24T12:34:27.880Z"
   },
   {
    "duration": 6,
    "start_time": "2022-10-24T12:34:27.903Z"
   },
   {
    "duration": 4,
    "start_time": "2022-10-24T12:34:27.911Z"
   },
   {
    "duration": 12,
    "start_time": "2022-10-24T12:34:27.916Z"
   },
   {
    "duration": 25,
    "start_time": "2022-10-24T12:34:27.929Z"
   },
   {
    "duration": 27,
    "start_time": "2022-10-24T12:34:27.956Z"
   },
   {
    "duration": 7,
    "start_time": "2022-10-24T12:34:27.984Z"
   },
   {
    "duration": 140,
    "start_time": "2022-10-24T12:34:27.993Z"
   },
   {
    "duration": 13,
    "start_time": "2022-10-24T12:34:43.544Z"
   },
   {
    "duration": 2208,
    "start_time": "2022-10-24T12:35:53.882Z"
   },
   {
    "duration": 169,
    "start_time": "2022-10-24T12:36:11.939Z"
   },
   {
    "duration": 98,
    "start_time": "2022-10-24T12:40:01.534Z"
   },
   {
    "duration": 288,
    "start_time": "2022-10-24T12:40:09.301Z"
   },
   {
    "duration": 90,
    "start_time": "2022-10-24T12:40:16.327Z"
   },
   {
    "duration": 181,
    "start_time": "2022-10-24T12:40:19.648Z"
   },
   {
    "duration": 5,
    "start_time": "2022-10-24T12:46:57.641Z"
   },
   {
    "duration": 172,
    "start_time": "2022-10-24T12:46:59.390Z"
   },
   {
    "duration": 890,
    "start_time": "2022-10-24T12:55:16.907Z"
   },
   {
    "duration": 5,
    "start_time": "2022-10-24T12:55:21.616Z"
   },
   {
    "duration": 4,
    "start_time": "2022-10-24T12:55:35.270Z"
   },
   {
    "duration": 4,
    "start_time": "2022-10-24T12:55:38.399Z"
   },
   {
    "duration": 4,
    "start_time": "2022-10-24T13:02:51.438Z"
   },
   {
    "duration": 3,
    "start_time": "2022-10-24T13:03:09.709Z"
   },
   {
    "duration": 5,
    "start_time": "2022-10-24T13:03:32.279Z"
   },
   {
    "duration": 4,
    "start_time": "2022-10-24T13:03:46.748Z"
   },
   {
    "duration": 181,
    "start_time": "2022-10-24T13:04:29.291Z"
   },
   {
    "duration": 198,
    "start_time": "2022-10-24T13:05:02.299Z"
   },
   {
    "duration": 227,
    "start_time": "2022-10-24T13:05:24.362Z"
   },
   {
    "duration": 177,
    "start_time": "2022-10-24T13:05:49.633Z"
   },
   {
    "duration": 4,
    "start_time": "2022-10-24T13:07:56.999Z"
   },
   {
    "duration": 5,
    "start_time": "2022-10-24T13:08:13.438Z"
   },
   {
    "duration": 111,
    "start_time": "2022-10-24T13:09:58.374Z"
   },
   {
    "duration": 116,
    "start_time": "2022-10-24T13:10:33.934Z"
   },
   {
    "duration": 175,
    "start_time": "2022-10-24T13:10:41.537Z"
   },
   {
    "duration": 7,
    "start_time": "2022-10-24T13:13:37.231Z"
   },
   {
    "duration": 147,
    "start_time": "2022-10-24T13:14:42.037Z"
   },
   {
    "duration": 157,
    "start_time": "2022-10-24T13:14:47.670Z"
   },
   {
    "duration": 158,
    "start_time": "2022-10-24T13:14:50.944Z"
   },
   {
    "duration": 149,
    "start_time": "2022-10-24T13:14:55.824Z"
   },
   {
    "duration": 159,
    "start_time": "2022-10-24T13:14:58.999Z"
   },
   {
    "duration": 153,
    "start_time": "2022-10-24T13:15:05.216Z"
   },
   {
    "duration": 146,
    "start_time": "2022-10-24T13:15:13.487Z"
   },
   {
    "duration": 3,
    "start_time": "2022-10-24T13:16:29.693Z"
   },
   {
    "duration": 5,
    "start_time": "2022-10-24T13:16:30.659Z"
   },
   {
    "duration": 167,
    "start_time": "2022-10-24T13:16:31.666Z"
   },
   {
    "duration": 5,
    "start_time": "2022-10-24T13:16:36.635Z"
   },
   {
    "duration": 143,
    "start_time": "2022-10-24T13:16:37.815Z"
   },
   {
    "duration": 118,
    "start_time": "2022-10-24T13:20:32.396Z"
   },
   {
    "duration": 113,
    "start_time": "2022-10-24T13:20:36.075Z"
   },
   {
    "duration": 265,
    "start_time": "2022-10-24T13:21:19.277Z"
   },
   {
    "duration": 32,
    "start_time": "2022-10-24T13:21:59.218Z"
   },
   {
    "duration": 227,
    "start_time": "2022-10-24T13:22:08.705Z"
   },
   {
    "duration": 231,
    "start_time": "2022-10-24T13:22:28.414Z"
   },
   {
    "duration": 13,
    "start_time": "2022-10-24T13:24:44.328Z"
   },
   {
    "duration": 14,
    "start_time": "2022-10-24T13:24:52.906Z"
   },
   {
    "duration": 13,
    "start_time": "2022-10-24T13:25:10.100Z"
   },
   {
    "duration": 16,
    "start_time": "2022-10-24T13:25:38.639Z"
   },
   {
    "duration": 12,
    "start_time": "2022-10-24T13:29:42.652Z"
   },
   {
    "duration": 15,
    "start_time": "2022-10-24T13:30:00.822Z"
   },
   {
    "duration": 24,
    "start_time": "2022-10-24T13:30:13.361Z"
   },
   {
    "duration": 9,
    "start_time": "2022-10-24T13:30:27.352Z"
   },
   {
    "duration": 9,
    "start_time": "2022-10-24T13:30:32.351Z"
   },
   {
    "duration": 15,
    "start_time": "2022-10-24T13:30:46.960Z"
   },
   {
    "duration": 10,
    "start_time": "2022-10-24T13:30:55.593Z"
   },
   {
    "duration": 12,
    "start_time": "2022-10-24T13:31:20.888Z"
   },
   {
    "duration": 17,
    "start_time": "2022-10-24T13:31:26.722Z"
   },
   {
    "duration": 14,
    "start_time": "2022-10-24T13:32:01.978Z"
   },
   {
    "duration": 17,
    "start_time": "2022-10-24T13:32:06.348Z"
   },
   {
    "duration": 11,
    "start_time": "2022-10-24T13:32:09.625Z"
   },
   {
    "duration": 11,
    "start_time": "2022-10-24T13:32:14.218Z"
   },
   {
    "duration": 15,
    "start_time": "2022-10-24T13:32:25.707Z"
   },
   {
    "duration": 14,
    "start_time": "2022-10-24T13:32:32.588Z"
   },
   {
    "duration": 8,
    "start_time": "2022-10-24T13:32:40.628Z"
   },
   {
    "duration": 16,
    "start_time": "2022-10-24T13:32:55.709Z"
   },
   {
    "duration": 12,
    "start_time": "2022-10-24T13:33:07.073Z"
   },
   {
    "duration": 9,
    "start_time": "2022-10-24T13:33:09.540Z"
   },
   {
    "duration": 12,
    "start_time": "2022-10-24T13:33:20.740Z"
   },
   {
    "duration": 14144,
    "start_time": "2022-10-25T10:25:07.541Z"
   },
   {
    "duration": 1779,
    "start_time": "2022-10-25T10:25:21.687Z"
   },
   {
    "duration": 3,
    "start_time": "2022-10-25T10:25:23.467Z"
   },
   {
    "duration": 94,
    "start_time": "2022-10-25T10:25:23.471Z"
   },
   {
    "duration": 5,
    "start_time": "2022-10-25T10:25:23.576Z"
   },
   {
    "duration": 16,
    "start_time": "2022-10-25T10:25:23.583Z"
   },
   {
    "duration": 4,
    "start_time": "2022-10-25T10:25:23.600Z"
   },
   {
    "duration": 9,
    "start_time": "2022-10-25T10:25:23.606Z"
   },
   {
    "duration": 5,
    "start_time": "2022-10-25T10:25:23.616Z"
   },
   {
    "duration": 8,
    "start_time": "2022-10-25T10:25:23.622Z"
   },
   {
    "duration": 6,
    "start_time": "2022-10-25T10:25:23.631Z"
   },
   {
    "duration": 10,
    "start_time": "2022-10-25T10:25:23.639Z"
   },
   {
    "duration": 27,
    "start_time": "2022-10-25T10:25:23.651Z"
   },
   {
    "duration": 134,
    "start_time": "2022-10-25T10:25:23.681Z"
   },
   {
    "duration": 0,
    "start_time": "2022-10-25T10:25:23.817Z"
   },
   {
    "duration": 0,
    "start_time": "2022-10-25T10:25:23.818Z"
   },
   {
    "duration": 0,
    "start_time": "2022-10-25T10:25:23.819Z"
   },
   {
    "duration": 0,
    "start_time": "2022-10-25T10:25:23.820Z"
   },
   {
    "duration": 0,
    "start_time": "2022-10-25T10:25:23.821Z"
   },
   {
    "duration": 0,
    "start_time": "2022-10-25T10:25:23.822Z"
   },
   {
    "duration": 0,
    "start_time": "2022-10-25T10:25:23.824Z"
   },
   {
    "duration": 24,
    "start_time": "2022-10-25T10:25:45.654Z"
   },
   {
    "duration": 13,
    "start_time": "2022-10-25T10:25:48.642Z"
   },
   {
    "duration": 3873,
    "start_time": "2022-10-25T11:47:09.504Z"
   },
   {
    "duration": 615,
    "start_time": "2022-10-25T11:47:13.379Z"
   },
   {
    "duration": 3,
    "start_time": "2022-10-25T11:47:13.996Z"
   },
   {
    "duration": 117,
    "start_time": "2022-10-25T11:47:14.000Z"
   },
   {
    "duration": 4,
    "start_time": "2022-10-25T11:47:14.118Z"
   },
   {
    "duration": 28,
    "start_time": "2022-10-25T11:47:14.124Z"
   },
   {
    "duration": 49,
    "start_time": "2022-10-25T11:47:14.154Z"
   },
   {
    "duration": 19,
    "start_time": "2022-10-25T11:47:14.205Z"
   },
   {
    "duration": 35,
    "start_time": "2022-10-25T11:47:14.226Z"
   },
   {
    "duration": 21,
    "start_time": "2022-10-25T11:47:14.264Z"
   },
   {
    "duration": 25,
    "start_time": "2022-10-25T11:47:14.286Z"
   },
   {
    "duration": 38,
    "start_time": "2022-10-25T11:47:14.312Z"
   },
   {
    "duration": 22,
    "start_time": "2022-10-25T11:47:14.351Z"
   },
   {
    "duration": 123,
    "start_time": "2022-10-25T11:47:14.374Z"
   },
   {
    "duration": 0,
    "start_time": "2022-10-25T11:47:14.498Z"
   },
   {
    "duration": 0,
    "start_time": "2022-10-25T11:47:14.499Z"
   },
   {
    "duration": 0,
    "start_time": "2022-10-25T11:47:14.500Z"
   },
   {
    "duration": 0,
    "start_time": "2022-10-25T11:47:14.501Z"
   },
   {
    "duration": 0,
    "start_time": "2022-10-25T11:47:14.502Z"
   },
   {
    "duration": 0,
    "start_time": "2022-10-25T11:47:14.503Z"
   },
   {
    "duration": 0,
    "start_time": "2022-10-25T11:47:14.504Z"
   },
   {
    "duration": 24,
    "start_time": "2022-10-25T11:49:24.718Z"
   },
   {
    "duration": 24,
    "start_time": "2022-10-25T11:52:15.729Z"
   },
   {
    "duration": 25,
    "start_time": "2022-10-25T11:52:39.582Z"
   },
   {
    "duration": 15,
    "start_time": "2022-10-25T11:52:59.014Z"
   },
   {
    "duration": 3,
    "start_time": "2022-10-25T11:59:13.228Z"
   },
   {
    "duration": 4,
    "start_time": "2022-10-25T11:59:14.138Z"
   },
   {
    "duration": 2205,
    "start_time": "2022-10-25T15:22:59.020Z"
   },
   {
    "duration": 608,
    "start_time": "2022-10-25T15:23:03.637Z"
   },
   {
    "duration": 4,
    "start_time": "2022-10-25T15:23:04.874Z"
   },
   {
    "duration": 586,
    "start_time": "2022-10-25T15:23:25.254Z"
   },
   {
    "duration": 3,
    "start_time": "2022-10-25T15:23:26.315Z"
   },
   {
    "duration": 85,
    "start_time": "2022-10-25T15:23:30.295Z"
   },
   {
    "duration": 5,
    "start_time": "2022-10-25T15:23:41.090Z"
   },
   {
    "duration": 8,
    "start_time": "2022-10-25T15:23:52.305Z"
   },
   {
    "duration": 5,
    "start_time": "2022-10-25T15:23:57.454Z"
   },
   {
    "duration": 4,
    "start_time": "2022-10-25T15:24:03.845Z"
   },
   {
    "duration": 3,
    "start_time": "2022-10-25T15:24:20.703Z"
   },
   {
    "duration": 5,
    "start_time": "2022-10-25T15:24:25.706Z"
   },
   {
    "duration": 8,
    "start_time": "2022-10-25T15:24:32.549Z"
   },
   {
    "duration": 12,
    "start_time": "2022-10-25T15:24:34.750Z"
   },
   {
    "duration": 14,
    "start_time": "2022-10-25T15:24:48.596Z"
   },
   {
    "duration": 13,
    "start_time": "2022-10-25T15:24:51.900Z"
   },
   {
    "duration": 195,
    "start_time": "2022-10-25T15:24:54.804Z"
   },
   {
    "duration": 220,
    "start_time": "2022-10-25T15:24:55.228Z"
   },
   {
    "duration": 4,
    "start_time": "2022-10-25T15:25:02.967Z"
   },
   {
    "duration": 4,
    "start_time": "2022-10-25T15:25:10.563Z"
   },
   {
    "duration": 153,
    "start_time": "2022-10-25T15:25:13.000Z"
   },
   {
    "duration": 29,
    "start_time": "2022-10-25T15:28:39.353Z"
   },
   {
    "duration": 13,
    "start_time": "2022-10-25T15:28:57.083Z"
   },
   {
    "duration": 6,
    "start_time": "2022-10-25T15:29:12.232Z"
   },
   {
    "duration": 25,
    "start_time": "2022-10-25T15:30:03.583Z"
   },
   {
    "duration": 18227,
    "start_time": "2022-10-27T07:55:42.359Z"
   },
   {
    "duration": 3457,
    "start_time": "2022-10-27T07:56:00.588Z"
   },
   {
    "duration": 3,
    "start_time": "2022-10-27T07:56:04.047Z"
   },
   {
    "duration": 140,
    "start_time": "2022-10-27T07:56:04.053Z"
   },
   {
    "duration": 4,
    "start_time": "2022-10-27T07:56:04.195Z"
   },
   {
    "duration": 26,
    "start_time": "2022-10-27T07:56:04.201Z"
   },
   {
    "duration": 7,
    "start_time": "2022-10-27T07:56:04.228Z"
   },
   {
    "duration": 26,
    "start_time": "2022-10-27T07:56:04.237Z"
   },
   {
    "duration": 11,
    "start_time": "2022-10-27T07:56:04.265Z"
   },
   {
    "duration": 17,
    "start_time": "2022-10-27T07:56:04.278Z"
   },
   {
    "duration": 12,
    "start_time": "2022-10-27T07:56:04.297Z"
   },
   {
    "duration": 12,
    "start_time": "2022-10-27T07:56:04.310Z"
   },
   {
    "duration": 42,
    "start_time": "2022-10-27T07:56:04.324Z"
   },
   {
    "duration": 10,
    "start_time": "2022-10-27T07:56:04.368Z"
   },
   {
    "duration": 13,
    "start_time": "2022-10-27T07:56:04.380Z"
   },
   {
    "duration": 18,
    "start_time": "2022-10-27T07:56:04.395Z"
   },
   {
    "duration": 38,
    "start_time": "2022-10-27T07:56:04.415Z"
   },
   {
    "duration": 278,
    "start_time": "2022-10-27T07:56:04.456Z"
   },
   {
    "duration": 297,
    "start_time": "2022-10-27T07:56:04.736Z"
   },
   {
    "duration": 4,
    "start_time": "2022-10-27T07:56:05.035Z"
   },
   {
    "duration": 34,
    "start_time": "2022-10-27T07:56:05.041Z"
   },
   {
    "duration": 239,
    "start_time": "2022-10-27T07:56:05.078Z"
   },
   {
    "duration": 33,
    "start_time": "2022-10-27T08:49:17.389Z"
   },
   {
    "duration": 30,
    "start_time": "2022-10-27T08:50:58.334Z"
   },
   {
    "duration": 928,
    "start_time": "2022-10-27T08:51:27.829Z"
   },
   {
    "duration": 729,
    "start_time": "2022-10-27T08:51:32.884Z"
   },
   {
    "duration": 768,
    "start_time": "2022-10-27T08:51:35.433Z"
   },
   {
    "duration": 32,
    "start_time": "2022-10-27T08:52:01.350Z"
   },
   {
    "duration": 42,
    "start_time": "2022-10-27T08:52:07.247Z"
   },
   {
    "duration": 862,
    "start_time": "2022-10-27T08:52:12.748Z"
   },
   {
    "duration": 6,
    "start_time": "2022-10-27T08:58:46.061Z"
   },
   {
    "duration": 108,
    "start_time": "2022-10-27T08:59:15.023Z"
   },
   {
    "duration": 101,
    "start_time": "2022-10-27T08:59:19.899Z"
   },
   {
    "duration": 105,
    "start_time": "2022-10-27T08:59:32.816Z"
   },
   {
    "duration": 8,
    "start_time": "2022-10-27T09:02:53.105Z"
   },
   {
    "duration": 6,
    "start_time": "2022-10-27T09:02:59.369Z"
   },
   {
    "duration": 6,
    "start_time": "2022-10-27T09:03:02.674Z"
   },
   {
    "duration": 5,
    "start_time": "2022-10-27T09:03:10.329Z"
   },
   {
    "duration": 33,
    "start_time": "2022-10-27T09:07:39.372Z"
   },
   {
    "duration": 926,
    "start_time": "2022-10-27T09:07:40.497Z"
   },
   {
    "duration": 4,
    "start_time": "2022-10-27T09:08:20.156Z"
   },
   {
    "duration": 43,
    "start_time": "2022-10-27T09:08:23.368Z"
   },
   {
    "duration": 1020,
    "start_time": "2022-10-27T09:08:35.369Z"
   },
   {
    "duration": 896,
    "start_time": "2022-10-27T09:08:59.340Z"
   },
   {
    "duration": 5,
    "start_time": "2022-10-27T09:10:42.935Z"
   },
   {
    "duration": 5,
    "start_time": "2022-10-27T09:10:47.138Z"
   },
   {
    "duration": 3,
    "start_time": "2022-10-27T09:10:52.369Z"
   },
   {
    "duration": 8,
    "start_time": "2022-10-27T09:10:57.265Z"
   },
   {
    "duration": 5,
    "start_time": "2022-10-27T09:11:07.531Z"
   },
   {
    "duration": 5,
    "start_time": "2022-10-27T09:11:27.236Z"
   },
   {
    "duration": 3,
    "start_time": "2022-10-27T09:11:44.736Z"
   },
   {
    "duration": 7,
    "start_time": "2022-10-27T09:11:47.894Z"
   },
   {
    "duration": 3,
    "start_time": "2022-10-27T09:14:03.904Z"
   },
   {
    "duration": 44,
    "start_time": "2022-10-27T09:14:33.444Z"
   },
   {
    "duration": 4,
    "start_time": "2022-10-27T09:22:11.433Z"
   },
   {
    "duration": 26,
    "start_time": "2022-10-27T09:23:14.724Z"
   },
   {
    "duration": 48,
    "start_time": "2022-10-27T09:23:27.689Z"
   },
   {
    "duration": 24,
    "start_time": "2022-10-27T09:23:44.523Z"
   },
   {
    "duration": 5,
    "start_time": "2022-10-27T09:57:35.614Z"
   },
   {
    "duration": 833,
    "start_time": "2022-10-27T09:58:04.758Z"
   },
   {
    "duration": 4618,
    "start_time": "2022-10-27T09:58:30.366Z"
   },
   {
    "duration": 700,
    "start_time": "2022-10-27T09:58:34.986Z"
   },
   {
    "duration": 3,
    "start_time": "2022-10-27T09:58:35.687Z"
   },
   {
    "duration": 119,
    "start_time": "2022-10-27T09:58:35.692Z"
   },
   {
    "duration": 5,
    "start_time": "2022-10-27T09:58:35.812Z"
   },
   {
    "duration": 37,
    "start_time": "2022-10-27T09:58:35.818Z"
   },
   {
    "duration": 4,
    "start_time": "2022-10-27T09:58:35.857Z"
   },
   {
    "duration": 12,
    "start_time": "2022-10-27T09:58:35.863Z"
   },
   {
    "duration": 10,
    "start_time": "2022-10-27T09:58:35.877Z"
   },
   {
    "duration": 4,
    "start_time": "2022-10-27T09:58:35.890Z"
   },
   {
    "duration": 8,
    "start_time": "2022-10-27T09:58:35.895Z"
   },
   {
    "duration": 5,
    "start_time": "2022-10-27T09:58:35.905Z"
   },
   {
    "duration": 19,
    "start_time": "2022-10-27T09:58:35.911Z"
   },
   {
    "duration": 30,
    "start_time": "2022-10-27T09:58:35.932Z"
   },
   {
    "duration": 9,
    "start_time": "2022-10-27T09:58:35.964Z"
   },
   {
    "duration": 13,
    "start_time": "2022-10-27T09:58:35.975Z"
   },
   {
    "duration": 18,
    "start_time": "2022-10-27T09:58:35.990Z"
   },
   {
    "duration": 49,
    "start_time": "2022-10-27T09:58:36.009Z"
   },
   {
    "duration": 253,
    "start_time": "2022-10-27T09:58:36.060Z"
   },
   {
    "duration": 255,
    "start_time": "2022-10-27T09:58:36.315Z"
   },
   {
    "duration": 4,
    "start_time": "2022-10-27T09:58:36.572Z"
   },
   {
    "duration": 22,
    "start_time": "2022-10-27T09:58:36.577Z"
   },
   {
    "duration": 189,
    "start_time": "2022-10-27T09:58:36.601Z"
   },
   {
    "duration": 4932,
    "start_time": "2022-10-27T11:44:41.183Z"
   },
   {
    "duration": 747,
    "start_time": "2022-10-27T11:44:46.117Z"
   },
   {
    "duration": 3,
    "start_time": "2022-10-27T11:44:46.866Z"
   },
   {
    "duration": 134,
    "start_time": "2022-10-27T11:44:46.872Z"
   },
   {
    "duration": 5,
    "start_time": "2022-10-27T11:44:47.008Z"
   },
   {
    "duration": 13,
    "start_time": "2022-10-27T11:44:47.014Z"
   },
   {
    "duration": 26,
    "start_time": "2022-10-27T11:44:47.029Z"
   },
   {
    "duration": 14,
    "start_time": "2022-10-27T11:44:47.057Z"
   },
   {
    "duration": 10,
    "start_time": "2022-10-27T11:44:47.074Z"
   },
   {
    "duration": 16,
    "start_time": "2022-10-27T11:44:47.088Z"
   },
   {
    "duration": 24,
    "start_time": "2022-10-27T11:44:47.106Z"
   },
   {
    "duration": 27,
    "start_time": "2022-10-27T11:44:47.132Z"
   },
   {
    "duration": 20,
    "start_time": "2022-10-27T11:44:47.161Z"
   },
   {
    "duration": 18,
    "start_time": "2022-10-27T11:44:47.183Z"
   },
   {
    "duration": 16,
    "start_time": "2022-10-27T11:44:47.203Z"
   },
   {
    "duration": 281,
    "start_time": "2022-10-27T11:44:47.221Z"
   },
   {
    "duration": 282,
    "start_time": "2022-10-27T11:44:47.504Z"
   },
   {
    "duration": 5,
    "start_time": "2022-10-27T11:44:47.788Z"
   },
   {
    "duration": 18,
    "start_time": "2022-10-27T11:44:47.795Z"
   },
   {
    "duration": 237,
    "start_time": "2022-10-27T11:44:47.816Z"
   },
   {
    "duration": 32,
    "start_time": "2022-10-27T12:02:24.801Z"
   },
   {
    "duration": 10,
    "start_time": "2022-10-27T12:03:29.021Z"
   },
   {
    "duration": 30,
    "start_time": "2022-10-27T12:03:37.310Z"
   },
   {
    "duration": 4800,
    "start_time": "2022-10-27T12:04:47.266Z"
   },
   {
    "duration": 721,
    "start_time": "2022-10-27T12:04:52.068Z"
   },
   {
    "duration": 3,
    "start_time": "2022-10-27T12:04:52.791Z"
   },
   {
    "duration": 133,
    "start_time": "2022-10-27T12:04:52.796Z"
   },
   {
    "duration": 23,
    "start_time": "2022-10-27T12:04:52.932Z"
   },
   {
    "duration": 40,
    "start_time": "2022-10-27T12:04:52.957Z"
   },
   {
    "duration": 7,
    "start_time": "2022-10-27T12:04:52.999Z"
   },
   {
    "duration": 14,
    "start_time": "2022-10-27T12:04:53.008Z"
   },
   {
    "duration": 19,
    "start_time": "2022-10-27T12:04:53.023Z"
   },
   {
    "duration": 25,
    "start_time": "2022-10-27T12:04:53.044Z"
   },
   {
    "duration": 16,
    "start_time": "2022-10-27T12:04:53.071Z"
   },
   {
    "duration": 55,
    "start_time": "2022-10-27T12:04:53.089Z"
   },
   {
    "duration": 3,
    "start_time": "2022-10-27T12:04:53.146Z"
   },
   {
    "duration": 46,
    "start_time": "2022-10-27T12:04:53.152Z"
   },
   {
    "duration": 30,
    "start_time": "2022-10-27T12:04:53.200Z"
   },
   {
    "duration": 9,
    "start_time": "2022-10-27T12:04:53.232Z"
   },
   {
    "duration": 44,
    "start_time": "2022-10-27T12:04:53.243Z"
   },
   {
    "duration": 25,
    "start_time": "2022-10-27T12:04:53.289Z"
   },
   {
    "duration": 16,
    "start_time": "2022-10-27T12:04:53.316Z"
   },
   {
    "duration": 241,
    "start_time": "2022-10-27T12:04:53.334Z"
   },
   {
    "duration": 256,
    "start_time": "2022-10-27T12:04:53.577Z"
   },
   {
    "duration": 4,
    "start_time": "2022-10-27T12:04:53.834Z"
   },
   {
    "duration": 41,
    "start_time": "2022-10-27T12:04:53.840Z"
   },
   {
    "duration": 204,
    "start_time": "2022-10-27T12:04:53.883Z"
   },
   {
    "duration": 19,
    "start_time": "2022-10-27T12:06:26.511Z"
   },
   {
    "duration": 28,
    "start_time": "2022-10-27T12:06:29.401Z"
   },
   {
    "duration": 1075,
    "start_time": "2022-10-27T12:06:51.554Z"
   },
   {
    "duration": 4563,
    "start_time": "2022-10-27T12:07:50.348Z"
   },
   {
    "duration": 726,
    "start_time": "2022-10-27T12:07:54.913Z"
   },
   {
    "duration": 3,
    "start_time": "2022-10-27T12:07:55.641Z"
   },
   {
    "duration": 130,
    "start_time": "2022-10-27T12:07:55.646Z"
   },
   {
    "duration": 5,
    "start_time": "2022-10-27T12:07:55.778Z"
   },
   {
    "duration": 74,
    "start_time": "2022-10-27T12:07:55.785Z"
   },
   {
    "duration": 6,
    "start_time": "2022-10-27T12:07:55.860Z"
   },
   {
    "duration": 11,
    "start_time": "2022-10-27T12:07:55.868Z"
   },
   {
    "duration": 8,
    "start_time": "2022-10-27T12:07:55.881Z"
   },
   {
    "duration": 12,
    "start_time": "2022-10-27T12:07:55.891Z"
   },
   {
    "duration": 18,
    "start_time": "2022-10-27T12:07:55.905Z"
   },
   {
    "duration": 9,
    "start_time": "2022-10-27T12:07:55.925Z"
   },
   {
    "duration": 42,
    "start_time": "2022-10-27T12:07:55.937Z"
   },
   {
    "duration": 9,
    "start_time": "2022-10-27T12:07:55.982Z"
   },
   {
    "duration": 13,
    "start_time": "2022-10-27T12:07:55.992Z"
   },
   {
    "duration": 15,
    "start_time": "2022-10-27T12:07:56.006Z"
   },
   {
    "duration": 42,
    "start_time": "2022-10-27T12:07:56.023Z"
   },
   {
    "duration": 267,
    "start_time": "2022-10-27T12:07:56.067Z"
   },
   {
    "duration": 276,
    "start_time": "2022-10-27T12:07:56.337Z"
   },
   {
    "duration": 5,
    "start_time": "2022-10-27T12:07:56.615Z"
   },
   {
    "duration": 12,
    "start_time": "2022-10-27T12:07:56.622Z"
   },
   {
    "duration": 209,
    "start_time": "2022-10-27T12:07:56.637Z"
   },
   {
    "duration": 30,
    "start_time": "2022-10-27T12:08:32.963Z"
   },
   {
    "duration": 11,
    "start_time": "2022-10-27T12:09:01.722Z"
   },
   {
    "duration": 3,
    "start_time": "2022-10-27T12:09:52.299Z"
   },
   {
    "duration": 14,
    "start_time": "2022-10-27T12:09:58.674Z"
   },
   {
    "duration": 19,
    "start_time": "2022-10-27T12:10:08.115Z"
   },
   {
    "duration": 20,
    "start_time": "2022-10-27T12:10:52.150Z"
   },
   {
    "duration": 19,
    "start_time": "2022-10-27T12:11:12.097Z"
   },
   {
    "duration": 19,
    "start_time": "2022-10-27T12:11:22.682Z"
   },
   {
    "duration": 21,
    "start_time": "2022-10-27T12:11:31.804Z"
   },
   {
    "duration": 4999,
    "start_time": "2022-10-27T12:22:06.464Z"
   },
   {
    "duration": 838,
    "start_time": "2022-10-27T12:22:11.466Z"
   },
   {
    "duration": 4,
    "start_time": "2022-10-27T12:22:12.307Z"
   },
   {
    "duration": 206,
    "start_time": "2022-10-27T12:22:12.313Z"
   },
   {
    "duration": 7,
    "start_time": "2022-10-27T12:22:12.521Z"
   },
   {
    "duration": 37,
    "start_time": "2022-10-27T12:22:12.530Z"
   },
   {
    "duration": 17,
    "start_time": "2022-10-27T12:22:12.569Z"
   },
   {
    "duration": 29,
    "start_time": "2022-10-27T12:22:12.589Z"
   },
   {
    "duration": 43,
    "start_time": "2022-10-27T12:22:12.621Z"
   },
   {
    "duration": 9,
    "start_time": "2022-10-27T12:22:12.667Z"
   },
   {
    "duration": 14,
    "start_time": "2022-10-27T12:22:12.679Z"
   },
   {
    "duration": 10,
    "start_time": "2022-10-27T12:22:12.696Z"
   },
   {
    "duration": 40,
    "start_time": "2022-10-27T12:22:12.709Z"
   },
   {
    "duration": 3,
    "start_time": "2022-10-27T12:22:12.752Z"
   },
   {
    "duration": 33,
    "start_time": "2022-10-27T12:22:12.757Z"
   },
   {
    "duration": 321,
    "start_time": "2022-10-27T12:22:12.793Z"
   },
   {
    "duration": 186,
    "start_time": "2022-10-27T12:22:13.116Z"
   },
   {
    "duration": 0,
    "start_time": "2022-10-27T12:22:13.304Z"
   },
   {
    "duration": 0,
    "start_time": "2022-10-27T12:22:13.306Z"
   },
   {
    "duration": 0,
    "start_time": "2022-10-27T12:22:13.308Z"
   },
   {
    "duration": 31,
    "start_time": "2022-10-27T12:27:18.602Z"
   },
   {
    "duration": 771,
    "start_time": "2022-10-27T12:28:56.791Z"
   },
   {
    "duration": 10,
    "start_time": "2022-10-27T12:30:07.555Z"
   },
   {
    "duration": 902,
    "start_time": "2022-10-27T12:30:27.488Z"
   },
   {
    "duration": 12,
    "start_time": "2022-10-27T12:30:53.954Z"
   },
   {
    "duration": 16,
    "start_time": "2022-10-27T12:32:35.154Z"
   },
   {
    "duration": 21,
    "start_time": "2022-10-27T12:35:08.913Z"
   },
   {
    "duration": 20,
    "start_time": "2022-10-27T12:35:14.148Z"
   },
   {
    "duration": 9,
    "start_time": "2022-10-27T12:35:31.181Z"
   },
   {
    "duration": 8,
    "start_time": "2022-10-27T12:35:35.422Z"
   },
   {
    "duration": 12,
    "start_time": "2022-10-27T13:40:19.840Z"
   },
   {
    "duration": 6,
    "start_time": "2022-10-27T13:40:38.326Z"
   },
   {
    "duration": 15,
    "start_time": "2022-10-27T13:40:53.780Z"
   },
   {
    "duration": 57,
    "start_time": "2022-10-27T13:41:07.036Z"
   },
   {
    "duration": 5,
    "start_time": "2022-10-27T13:42:19.425Z"
   },
   {
    "duration": 15,
    "start_time": "2022-10-27T13:43:42.583Z"
   },
   {
    "duration": 16,
    "start_time": "2022-10-27T13:45:47.688Z"
   },
   {
    "duration": 5,
    "start_time": "2022-10-27T13:45:59.296Z"
   },
   {
    "duration": 4455,
    "start_time": "2022-10-27T13:47:05.553Z"
   },
   {
    "duration": 724,
    "start_time": "2022-10-27T13:47:10.010Z"
   },
   {
    "duration": 3,
    "start_time": "2022-10-27T13:47:10.736Z"
   },
   {
    "duration": 146,
    "start_time": "2022-10-27T13:47:10.741Z"
   },
   {
    "duration": 5,
    "start_time": "2022-10-27T13:47:10.888Z"
   },
   {
    "duration": 12,
    "start_time": "2022-10-27T13:47:10.895Z"
   },
   {
    "duration": 5,
    "start_time": "2022-10-27T13:47:10.909Z"
   },
   {
    "duration": 6,
    "start_time": "2022-10-27T13:47:10.916Z"
   },
   {
    "duration": 31,
    "start_time": "2022-10-27T13:47:10.923Z"
   },
   {
    "duration": 7,
    "start_time": "2022-10-27T13:47:10.957Z"
   },
   {
    "duration": 8,
    "start_time": "2022-10-27T13:47:10.965Z"
   },
   {
    "duration": 15,
    "start_time": "2022-10-27T13:47:10.975Z"
   },
   {
    "duration": 40,
    "start_time": "2022-10-27T13:47:10.992Z"
   },
   {
    "duration": 2,
    "start_time": "2022-10-27T13:47:11.034Z"
   },
   {
    "duration": 25,
    "start_time": "2022-10-27T13:47:11.038Z"
   },
   {
    "duration": 10,
    "start_time": "2022-10-27T13:47:11.065Z"
   },
   {
    "duration": 25,
    "start_time": "2022-10-27T13:47:11.076Z"
   },
   {
    "duration": 282,
    "start_time": "2022-10-27T13:47:11.103Z"
   },
   {
    "duration": 4,
    "start_time": "2022-10-27T13:47:11.387Z"
   },
   {
    "duration": 11,
    "start_time": "2022-10-27T13:47:11.393Z"
   },
   {
    "duration": 54,
    "start_time": "2022-10-27T13:47:11.406Z"
   },
   {
    "duration": 6,
    "start_time": "2022-10-27T13:47:11.462Z"
   },
   {
    "duration": 947,
    "start_time": "2022-10-27T13:47:11.469Z"
   },
   {
    "duration": 0,
    "start_time": "2022-10-27T13:47:12.418Z"
   },
   {
    "duration": 11,
    "start_time": "2022-10-27T13:49:50.190Z"
   },
   {
    "duration": 48,
    "start_time": "2022-10-27T13:50:34.706Z"
   },
   {
    "duration": 3,
    "start_time": "2022-10-27T13:50:42.254Z"
   },
   {
    "duration": 4,
    "start_time": "2022-10-27T13:50:49.165Z"
   },
   {
    "duration": 47,
    "start_time": "2022-10-27T13:52:14.878Z"
   },
   {
    "duration": 3,
    "start_time": "2022-10-27T13:52:22.761Z"
   },
   {
    "duration": 56,
    "start_time": "2022-10-27T13:52:44.747Z"
   },
   {
    "duration": 3,
    "start_time": "2022-10-27T13:52:48.520Z"
   },
   {
    "duration": 5,
    "start_time": "2022-10-27T13:52:49.451Z"
   },
   {
    "duration": 50,
    "start_time": "2022-10-27T13:52:56.770Z"
   },
   {
    "duration": 4,
    "start_time": "2022-10-27T13:53:44.671Z"
   },
   {
    "duration": 3,
    "start_time": "2022-10-27T13:56:03.547Z"
   },
   {
    "duration": 4,
    "start_time": "2022-10-27T13:56:09.765Z"
   },
   {
    "duration": 3,
    "start_time": "2022-10-27T13:57:58.880Z"
   },
   {
    "duration": 19,
    "start_time": "2022-10-27T13:59:20.710Z"
   },
   {
    "duration": 4427,
    "start_time": "2022-10-27T13:59:25.808Z"
   },
   {
    "duration": 766,
    "start_time": "2022-10-27T13:59:30.237Z"
   },
   {
    "duration": 3,
    "start_time": "2022-10-27T13:59:31.005Z"
   },
   {
    "duration": 170,
    "start_time": "2022-10-27T13:59:31.011Z"
   },
   {
    "duration": 5,
    "start_time": "2022-10-27T13:59:31.183Z"
   },
   {
    "duration": 46,
    "start_time": "2022-10-27T13:59:31.190Z"
   },
   {
    "duration": 34,
    "start_time": "2022-10-27T13:59:31.238Z"
   },
   {
    "duration": 51,
    "start_time": "2022-10-27T13:59:31.273Z"
   },
   {
    "duration": 66,
    "start_time": "2022-10-27T13:59:31.326Z"
   },
   {
    "duration": 48,
    "start_time": "2022-10-27T13:59:31.396Z"
   },
   {
    "duration": 54,
    "start_time": "2022-10-27T13:59:31.447Z"
   },
   {
    "duration": 66,
    "start_time": "2022-10-27T13:59:31.503Z"
   },
   {
    "duration": 95,
    "start_time": "2022-10-27T13:59:31.572Z"
   },
   {
    "duration": 39,
    "start_time": "2022-10-27T13:59:31.670Z"
   },
   {
    "duration": 43,
    "start_time": "2022-10-27T13:59:31.712Z"
   },
   {
    "duration": 15,
    "start_time": "2022-10-27T13:59:31.756Z"
   },
   {
    "duration": 72,
    "start_time": "2022-10-27T13:59:31.773Z"
   },
   {
    "duration": 260,
    "start_time": "2022-10-27T13:59:31.847Z"
   },
   {
    "duration": 151,
    "start_time": "2022-10-27T13:59:32.109Z"
   },
   {
    "duration": 0,
    "start_time": "2022-10-27T13:59:32.261Z"
   },
   {
    "duration": 0,
    "start_time": "2022-10-27T13:59:32.262Z"
   },
   {
    "duration": 0,
    "start_time": "2022-10-27T13:59:32.263Z"
   },
   {
    "duration": 0,
    "start_time": "2022-10-27T13:59:32.265Z"
   },
   {
    "duration": 4,
    "start_time": "2022-10-27T13:59:47.641Z"
   },
   {
    "duration": 6,
    "start_time": "2022-10-27T13:59:48.838Z"
   },
   {
    "duration": 5,
    "start_time": "2022-10-27T14:00:05.515Z"
   },
   {
    "duration": 4,
    "start_time": "2022-10-27T14:00:08.705Z"
   },
   {
    "duration": 4,
    "start_time": "2022-10-27T14:00:16.784Z"
   },
   {
    "duration": 6,
    "start_time": "2022-10-27T14:00:28.176Z"
   },
   {
    "duration": 8,
    "start_time": "2022-10-27T14:00:56.949Z"
   },
   {
    "duration": 7,
    "start_time": "2022-10-27T14:12:47.431Z"
   },
   {
    "duration": 30,
    "start_time": "2022-10-27T14:12:50.985Z"
   },
   {
    "duration": 18,
    "start_time": "2022-10-27T14:13:24.681Z"
   },
   {
    "duration": 4453,
    "start_time": "2022-10-27T14:13:36.768Z"
   },
   {
    "duration": 808,
    "start_time": "2022-10-27T14:13:41.224Z"
   },
   {
    "duration": 3,
    "start_time": "2022-10-27T14:13:42.034Z"
   },
   {
    "duration": 134,
    "start_time": "2022-10-27T14:13:42.039Z"
   },
   {
    "duration": 6,
    "start_time": "2022-10-27T14:13:42.174Z"
   },
   {
    "duration": 25,
    "start_time": "2022-10-27T14:13:42.181Z"
   },
   {
    "duration": 8,
    "start_time": "2022-10-27T14:13:42.208Z"
   },
   {
    "duration": 11,
    "start_time": "2022-10-27T14:13:42.217Z"
   },
   {
    "duration": 33,
    "start_time": "2022-10-27T14:13:42.230Z"
   },
   {
    "duration": 19,
    "start_time": "2022-10-27T14:13:42.266Z"
   },
   {
    "duration": 22,
    "start_time": "2022-10-27T14:13:42.287Z"
   },
   {
    "duration": 10,
    "start_time": "2022-10-27T14:13:42.310Z"
   },
   {
    "duration": 29,
    "start_time": "2022-10-27T14:13:42.322Z"
   },
   {
    "duration": 2,
    "start_time": "2022-10-27T14:13:42.353Z"
   },
   {
    "duration": 24,
    "start_time": "2022-10-27T14:13:42.357Z"
   },
   {
    "duration": 10,
    "start_time": "2022-10-27T14:13:42.383Z"
   },
   {
    "duration": 59,
    "start_time": "2022-10-27T14:13:42.395Z"
   },
   {
    "duration": 250,
    "start_time": "2022-10-27T14:13:42.456Z"
   },
   {
    "duration": 3,
    "start_time": "2022-10-27T14:13:42.708Z"
   },
   {
    "duration": 12,
    "start_time": "2022-10-27T14:13:42.713Z"
   },
   {
    "duration": 14,
    "start_time": "2022-10-27T14:13:42.726Z"
   },
   {
    "duration": 18,
    "start_time": "2022-10-27T14:13:42.741Z"
   },
   {
    "duration": 27,
    "start_time": "2022-10-27T14:13:42.761Z"
   },
   {
    "duration": 4,
    "start_time": "2022-10-27T14:13:42.790Z"
   },
   {
    "duration": 1034,
    "start_time": "2022-10-27T14:13:42.796Z"
   },
   {
    "duration": 0,
    "start_time": "2022-10-27T14:13:43.832Z"
   },
   {
    "duration": 23,
    "start_time": "2022-10-27T14:16:07.741Z"
   },
   {
    "duration": 23,
    "start_time": "2022-10-27T14:16:19.414Z"
   },
   {
    "duration": 10,
    "start_time": "2022-10-27T14:16:40.376Z"
   },
   {
    "duration": 6,
    "start_time": "2022-10-27T14:17:14.610Z"
   },
   {
    "duration": 9,
    "start_time": "2022-10-27T14:18:02.658Z"
   },
   {
    "duration": 4452,
    "start_time": "2022-10-27T14:21:14.629Z"
   },
   {
    "duration": 711,
    "start_time": "2022-10-27T14:21:19.083Z"
   },
   {
    "duration": 3,
    "start_time": "2022-10-27T14:21:19.796Z"
   },
   {
    "duration": 125,
    "start_time": "2022-10-27T14:21:19.800Z"
   },
   {
    "duration": 5,
    "start_time": "2022-10-27T14:21:19.927Z"
   },
   {
    "duration": 16,
    "start_time": "2022-10-27T14:21:19.953Z"
   },
   {
    "duration": 17,
    "start_time": "2022-10-27T14:21:19.970Z"
   },
   {
    "duration": 41,
    "start_time": "2022-10-27T14:21:19.989Z"
   },
   {
    "duration": 28,
    "start_time": "2022-10-27T14:21:20.032Z"
   },
   {
    "duration": 20,
    "start_time": "2022-10-27T14:21:20.061Z"
   },
   {
    "duration": 34,
    "start_time": "2022-10-27T14:21:20.083Z"
   },
   {
    "duration": 43,
    "start_time": "2022-10-27T14:21:20.119Z"
   },
   {
    "duration": 36,
    "start_time": "2022-10-27T14:21:20.164Z"
   },
   {
    "duration": 3,
    "start_time": "2022-10-27T14:21:20.203Z"
   },
   {
    "duration": 42,
    "start_time": "2022-10-27T14:21:20.207Z"
   },
   {
    "duration": 18,
    "start_time": "2022-10-27T14:21:20.250Z"
   },
   {
    "duration": 31,
    "start_time": "2022-10-27T14:21:20.269Z"
   },
   {
    "duration": 239,
    "start_time": "2022-10-27T14:21:20.302Z"
   },
   {
    "duration": 13,
    "start_time": "2022-10-27T14:21:20.542Z"
   },
   {
    "duration": 52,
    "start_time": "2022-10-27T14:21:20.556Z"
   },
   {
    "duration": 246,
    "start_time": "2022-10-27T14:21:20.610Z"
   },
   {
    "duration": 3,
    "start_time": "2022-10-27T14:21:20.858Z"
   },
   {
    "duration": 28,
    "start_time": "2022-10-27T14:21:20.862Z"
   },
   {
    "duration": 23,
    "start_time": "2022-10-27T14:21:20.892Z"
   },
   {
    "duration": 11,
    "start_time": "2022-10-27T14:21:20.917Z"
   },
   {
    "duration": 47,
    "start_time": "2022-10-27T14:21:20.930Z"
   },
   {
    "duration": 52,
    "start_time": "2022-10-27T14:21:20.979Z"
   },
   {
    "duration": 28,
    "start_time": "2022-10-27T14:21:21.033Z"
   },
   {
    "duration": 27,
    "start_time": "2022-10-27T14:21:21.063Z"
   },
   {
    "duration": 4,
    "start_time": "2022-10-27T14:31:58.457Z"
   },
   {
    "duration": 1055,
    "start_time": "2022-10-27T14:31:59.089Z"
   },
   {
    "duration": 0,
    "start_time": "2022-10-27T14:32:00.146Z"
   },
   {
    "duration": 2750,
    "start_time": "2022-10-27T14:32:09.853Z"
   },
   {
    "duration": 755,
    "start_time": "2022-10-27T14:32:12.605Z"
   },
   {
    "duration": 6,
    "start_time": "2022-10-27T14:32:13.361Z"
   },
   {
    "duration": 127,
    "start_time": "2022-10-27T14:32:13.369Z"
   },
   {
    "duration": 5,
    "start_time": "2022-10-27T14:32:13.498Z"
   },
   {
    "duration": 34,
    "start_time": "2022-10-27T14:32:13.505Z"
   },
   {
    "duration": 16,
    "start_time": "2022-10-27T14:32:13.541Z"
   },
   {
    "duration": 23,
    "start_time": "2022-10-27T14:32:13.558Z"
   },
   {
    "duration": 15,
    "start_time": "2022-10-27T14:32:13.583Z"
   },
   {
    "duration": 18,
    "start_time": "2022-10-27T14:32:13.601Z"
   },
   {
    "duration": 8,
    "start_time": "2022-10-27T14:32:13.621Z"
   },
   {
    "duration": 7,
    "start_time": "2022-10-27T14:32:13.630Z"
   },
   {
    "duration": 47,
    "start_time": "2022-10-27T14:32:13.638Z"
   },
   {
    "duration": 3,
    "start_time": "2022-10-27T14:32:13.687Z"
   },
   {
    "duration": 44,
    "start_time": "2022-10-27T14:32:13.692Z"
   },
   {
    "duration": 19,
    "start_time": "2022-10-27T14:32:13.739Z"
   },
   {
    "duration": 20,
    "start_time": "2022-10-27T14:32:13.760Z"
   },
   {
    "duration": 258,
    "start_time": "2022-10-27T14:32:13.782Z"
   },
   {
    "duration": 12,
    "start_time": "2022-10-27T14:32:14.043Z"
   },
   {
    "duration": 13,
    "start_time": "2022-10-27T14:32:14.057Z"
   },
   {
    "duration": 199,
    "start_time": "2022-10-27T14:32:14.072Z"
   },
   {
    "duration": 8,
    "start_time": "2022-10-27T14:34:18.980Z"
   },
   {
    "duration": 5,
    "start_time": "2022-10-27T14:35:06.734Z"
   },
   {
    "duration": 7,
    "start_time": "2022-10-27T14:35:08.191Z"
   },
   {
    "duration": 4,
    "start_time": "2022-10-27T14:35:55.782Z"
   },
   {
    "duration": 5,
    "start_time": "2022-10-27T14:36:06.082Z"
   },
   {
    "duration": 142,
    "start_time": "2022-10-27T14:36:30.354Z"
   },
   {
    "duration": 166,
    "start_time": "2022-10-27T14:36:58.872Z"
   },
   {
    "duration": 8,
    "start_time": "2022-10-27T14:37:14.512Z"
   },
   {
    "duration": 7,
    "start_time": "2022-10-27T14:37:37.788Z"
   },
   {
    "duration": 8,
    "start_time": "2022-10-27T14:37:38.444Z"
   },
   {
    "duration": 8,
    "start_time": "2022-10-27T14:37:46.983Z"
   },
   {
    "duration": 5,
    "start_time": "2022-10-27T14:38:16.441Z"
   },
   {
    "duration": 4,
    "start_time": "2022-10-27T14:38:23.997Z"
   },
   {
    "duration": 4,
    "start_time": "2022-10-27T14:38:42.653Z"
   },
   {
    "duration": 6,
    "start_time": "2022-10-27T14:38:43.005Z"
   },
   {
    "duration": 5,
    "start_time": "2022-10-27T14:38:43.976Z"
   },
   {
    "duration": 167,
    "start_time": "2022-10-27T14:38:45.530Z"
   },
   {
    "duration": 6,
    "start_time": "2022-10-27T14:39:35.899Z"
   },
   {
    "duration": 28,
    "start_time": "2022-10-27T14:40:39.444Z"
   },
   {
    "duration": 6,
    "start_time": "2022-10-27T14:40:45.157Z"
   },
   {
    "duration": 4,
    "start_time": "2022-10-27T14:43:12.508Z"
   },
   {
    "duration": 166,
    "start_time": "2022-10-27T14:43:16.267Z"
   },
   {
    "duration": 4,
    "start_time": "2022-10-27T14:43:22.092Z"
   },
   {
    "duration": 804,
    "start_time": "2022-10-27T14:43:24.533Z"
   },
   {
    "duration": 4,
    "start_time": "2022-10-27T14:46:49.135Z"
   },
   {
    "duration": 775,
    "start_time": "2022-10-27T14:46:52.068Z"
   },
   {
    "duration": 5,
    "start_time": "2022-10-27T14:47:03.218Z"
   },
   {
    "duration": 808,
    "start_time": "2022-10-27T14:47:05.681Z"
   },
   {
    "duration": 4941,
    "start_time": "2022-10-27T14:47:27.999Z"
   },
   {
    "duration": 738,
    "start_time": "2022-10-27T14:47:32.943Z"
   },
   {
    "duration": 4,
    "start_time": "2022-10-27T14:47:33.683Z"
   },
   {
    "duration": 128,
    "start_time": "2022-10-27T14:47:33.689Z"
   },
   {
    "duration": 6,
    "start_time": "2022-10-27T14:47:33.820Z"
   },
   {
    "duration": 36,
    "start_time": "2022-10-27T14:47:33.853Z"
   },
   {
    "duration": 5,
    "start_time": "2022-10-27T14:47:33.891Z"
   },
   {
    "duration": 6,
    "start_time": "2022-10-27T14:47:33.897Z"
   },
   {
    "duration": 7,
    "start_time": "2022-10-27T14:47:33.905Z"
   },
   {
    "duration": 18,
    "start_time": "2022-10-27T14:47:33.913Z"
   },
   {
    "duration": 30,
    "start_time": "2022-10-27T14:47:33.933Z"
   },
   {
    "duration": 12,
    "start_time": "2022-10-27T14:47:33.965Z"
   },
   {
    "duration": 34,
    "start_time": "2022-10-27T14:47:33.978Z"
   },
   {
    "duration": 3,
    "start_time": "2022-10-27T14:47:34.015Z"
   },
   {
    "duration": 25,
    "start_time": "2022-10-27T14:47:34.019Z"
   },
   {
    "duration": 20,
    "start_time": "2022-10-27T14:47:34.045Z"
   },
   {
    "duration": 25,
    "start_time": "2022-10-27T14:47:34.067Z"
   },
   {
    "duration": 275,
    "start_time": "2022-10-27T14:47:34.094Z"
   },
   {
    "duration": 5,
    "start_time": "2022-10-27T14:47:34.371Z"
   },
   {
    "duration": 16,
    "start_time": "2022-10-27T14:47:34.378Z"
   },
   {
    "duration": 972,
    "start_time": "2022-10-27T14:47:34.396Z"
   },
   {
    "duration": 0,
    "start_time": "2022-10-27T14:47:35.370Z"
   },
   {
    "duration": 0,
    "start_time": "2022-10-27T14:47:35.371Z"
   },
   {
    "duration": 0,
    "start_time": "2022-10-27T14:47:35.372Z"
   },
   {
    "duration": 0,
    "start_time": "2022-10-27T14:47:35.373Z"
   },
   {
    "duration": 0,
    "start_time": "2022-10-27T14:47:35.375Z"
   },
   {
    "duration": 0,
    "start_time": "2022-10-27T14:47:35.376Z"
   },
   {
    "duration": 0,
    "start_time": "2022-10-27T14:47:35.377Z"
   },
   {
    "duration": 0,
    "start_time": "2022-10-27T14:47:35.378Z"
   },
   {
    "duration": 0,
    "start_time": "2022-10-27T14:47:35.379Z"
   },
   {
    "duration": 0,
    "start_time": "2022-10-27T14:47:35.380Z"
   },
   {
    "duration": 0,
    "start_time": "2022-10-27T14:47:35.381Z"
   },
   {
    "duration": 0,
    "start_time": "2022-10-27T14:47:35.382Z"
   },
   {
    "duration": 0,
    "start_time": "2022-10-27T14:47:35.384Z"
   },
   {
    "duration": 4,
    "start_time": "2022-10-27T14:48:53.900Z"
   },
   {
    "duration": 4,
    "start_time": "2022-10-27T14:49:37.648Z"
   },
   {
    "duration": 5,
    "start_time": "2022-10-27T14:49:40.700Z"
   },
   {
    "duration": 343,
    "start_time": "2022-10-27T14:49:42.772Z"
   },
   {
    "duration": 159,
    "start_time": "2022-10-27T14:50:00.036Z"
   },
   {
    "duration": 4195,
    "start_time": "2022-10-27T14:52:56.074Z"
   },
   {
    "duration": 736,
    "start_time": "2022-10-27T14:53:00.271Z"
   },
   {
    "duration": 3,
    "start_time": "2022-10-27T14:53:01.008Z"
   },
   {
    "duration": 154,
    "start_time": "2022-10-27T14:53:01.015Z"
   },
   {
    "duration": 6,
    "start_time": "2022-10-27T14:53:01.171Z"
   },
   {
    "duration": 48,
    "start_time": "2022-10-27T14:53:01.178Z"
   },
   {
    "duration": 41,
    "start_time": "2022-10-27T14:53:01.229Z"
   },
   {
    "duration": 18,
    "start_time": "2022-10-27T14:53:01.272Z"
   },
   {
    "duration": 24,
    "start_time": "2022-10-27T14:53:01.292Z"
   },
   {
    "duration": 32,
    "start_time": "2022-10-27T14:53:01.319Z"
   },
   {
    "duration": 33,
    "start_time": "2022-10-27T14:53:01.353Z"
   },
   {
    "duration": 10,
    "start_time": "2022-10-27T14:53:01.388Z"
   },
   {
    "duration": 68,
    "start_time": "2022-10-27T14:53:01.400Z"
   },
   {
    "duration": 21,
    "start_time": "2022-10-27T14:53:01.470Z"
   },
   {
    "duration": 76,
    "start_time": "2022-10-27T14:53:01.494Z"
   },
   {
    "duration": 13,
    "start_time": "2022-10-27T14:53:01.573Z"
   },
   {
    "duration": 37,
    "start_time": "2022-10-27T14:53:01.587Z"
   },
   {
    "duration": 276,
    "start_time": "2022-10-27T14:53:01.626Z"
   },
   {
    "duration": 2,
    "start_time": "2022-10-27T14:53:01.904Z"
   },
   {
    "duration": 19,
    "start_time": "2022-10-27T14:53:01.908Z"
   },
   {
    "duration": 23,
    "start_time": "2022-10-27T14:53:01.929Z"
   },
   {
    "duration": 23,
    "start_time": "2022-10-27T14:53:01.954Z"
   },
   {
    "duration": 32,
    "start_time": "2022-10-27T14:53:01.978Z"
   },
   {
    "duration": 22,
    "start_time": "2022-10-27T14:53:02.012Z"
   },
   {
    "duration": 10,
    "start_time": "2022-10-27T14:53:02.035Z"
   },
   {
    "duration": 40,
    "start_time": "2022-10-27T14:53:02.046Z"
   },
   {
    "duration": 25,
    "start_time": "2022-10-27T14:53:02.088Z"
   },
   {
    "duration": 22,
    "start_time": "2022-10-27T14:53:02.116Z"
   },
   {
    "duration": 71,
    "start_time": "2022-10-27T14:53:02.139Z"
   },
   {
    "duration": 33,
    "start_time": "2022-10-27T14:53:02.212Z"
   },
   {
    "duration": 197,
    "start_time": "2022-10-27T14:53:02.247Z"
   },
   {
    "duration": 9,
    "start_time": "2022-10-27T14:53:02.445Z"
   },
   {
    "duration": 23,
    "start_time": "2022-10-27T14:53:02.455Z"
   },
   {
    "duration": 27,
    "start_time": "2022-10-27T14:53:02.479Z"
   },
   {
    "duration": 7,
    "start_time": "2022-10-27T14:55:27.819Z"
   },
   {
    "duration": 6,
    "start_time": "2022-10-27T14:55:34.260Z"
   },
   {
    "duration": 3,
    "start_time": "2022-10-27T15:06:09.017Z"
   },
   {
    "duration": 3,
    "start_time": "2022-10-27T15:06:48.678Z"
   },
   {
    "duration": 1101,
    "start_time": "2022-10-27T15:07:06.626Z"
   },
   {
    "duration": 5,
    "start_time": "2022-10-27T15:07:18.256Z"
   },
   {
    "duration": 2687,
    "start_time": "2022-10-27T15:08:09.902Z"
   },
   {
    "duration": 730,
    "start_time": "2022-10-27T15:08:12.592Z"
   },
   {
    "duration": 4,
    "start_time": "2022-10-27T15:08:13.324Z"
   },
   {
    "duration": 140,
    "start_time": "2022-10-27T15:08:13.330Z"
   },
   {
    "duration": 5,
    "start_time": "2022-10-27T15:08:13.472Z"
   },
   {
    "duration": 28,
    "start_time": "2022-10-27T15:08:13.479Z"
   },
   {
    "duration": 20,
    "start_time": "2022-10-27T15:08:13.509Z"
   },
   {
    "duration": 33,
    "start_time": "2022-10-27T15:08:13.531Z"
   },
   {
    "duration": 11,
    "start_time": "2022-10-27T15:08:13.566Z"
   },
   {
    "duration": 20,
    "start_time": "2022-10-27T15:08:13.579Z"
   },
   {
    "duration": 26,
    "start_time": "2022-10-27T15:08:13.600Z"
   },
   {
    "duration": 24,
    "start_time": "2022-10-27T15:08:13.627Z"
   },
   {
    "duration": 50,
    "start_time": "2022-10-27T15:08:13.652Z"
   },
   {
    "duration": 12,
    "start_time": "2022-10-27T15:08:13.705Z"
   },
   {
    "duration": 34,
    "start_time": "2022-10-27T15:08:13.719Z"
   },
   {
    "duration": 11,
    "start_time": "2022-10-27T15:08:13.754Z"
   },
   {
    "duration": 28,
    "start_time": "2022-10-27T15:08:13.767Z"
   },
   {
    "duration": 258,
    "start_time": "2022-10-27T15:08:13.797Z"
   },
   {
    "duration": 4,
    "start_time": "2022-10-27T15:08:14.056Z"
   },
   {
    "duration": 20,
    "start_time": "2022-10-27T15:08:14.062Z"
   },
   {
    "duration": 195,
    "start_time": "2022-10-27T15:08:14.084Z"
   },
   {
    "duration": 4,
    "start_time": "2022-10-27T15:08:14.281Z"
   },
   {
    "duration": 29,
    "start_time": "2022-10-27T15:08:14.286Z"
   },
   {
    "duration": 1,
    "start_time": "2022-10-27T15:08:14.316Z"
   },
   {
    "duration": 6,
    "start_time": "2022-10-27T15:08:37.158Z"
   },
   {
    "duration": 136,
    "start_time": "2022-10-27T15:10:32.897Z"
   },
   {
    "duration": 2546,
    "start_time": "2022-10-27T15:36:43.668Z"
   },
   {
    "duration": 26,
    "start_time": "2022-10-27T15:53:04.975Z"
   },
   {
    "duration": 108,
    "start_time": "2022-10-27T15:54:08.152Z"
   },
   {
    "duration": 118,
    "start_time": "2022-10-27T15:58:32.193Z"
   },
   {
    "duration": 121,
    "start_time": "2022-10-27T15:59:43.572Z"
   },
   {
    "duration": 136,
    "start_time": "2022-10-27T15:59:58.308Z"
   },
   {
    "duration": 133,
    "start_time": "2022-10-27T16:00:05.961Z"
   },
   {
    "duration": 108,
    "start_time": "2022-10-27T16:00:16.690Z"
   },
   {
    "duration": 178,
    "start_time": "2022-10-27T16:04:02.281Z"
   },
   {
    "duration": 214,
    "start_time": "2022-10-27T16:04:16.745Z"
   },
   {
    "duration": 215,
    "start_time": "2022-10-27T16:04:22.456Z"
   },
   {
    "duration": 190,
    "start_time": "2022-10-27T16:04:37.663Z"
   },
   {
    "duration": 391,
    "start_time": "2022-10-27T16:04:44.065Z"
   },
   {
    "duration": 193,
    "start_time": "2022-10-27T16:04:49.087Z"
   },
   {
    "duration": 188,
    "start_time": "2022-10-27T16:04:54.692Z"
   },
   {
    "duration": 188,
    "start_time": "2022-10-27T16:05:24.246Z"
   },
   {
    "duration": 281,
    "start_time": "2022-10-27T16:05:30.994Z"
   },
   {
    "duration": 207,
    "start_time": "2022-10-27T16:05:36.863Z"
   },
   {
    "duration": 184,
    "start_time": "2022-10-27T16:05:42.881Z"
   },
   {
    "duration": 220,
    "start_time": "2022-10-27T16:05:48.559Z"
   },
   {
    "duration": 194,
    "start_time": "2022-10-27T16:05:56.399Z"
   },
   {
    "duration": 233,
    "start_time": "2022-10-27T16:06:01.579Z"
   },
   {
    "duration": 193,
    "start_time": "2022-10-27T16:06:17.770Z"
   },
   {
    "duration": 195,
    "start_time": "2022-10-27T16:06:28.909Z"
   },
   {
    "duration": 184,
    "start_time": "2022-10-27T16:06:34.891Z"
   },
   {
    "duration": 215,
    "start_time": "2022-10-27T16:06:40.658Z"
   },
   {
    "duration": 397,
    "start_time": "2022-10-27T16:07:52.734Z"
   },
   {
    "duration": 208,
    "start_time": "2022-10-27T16:07:56.896Z"
   },
   {
    "duration": 269,
    "start_time": "2022-10-27T16:08:00.831Z"
   },
   {
    "duration": 185,
    "start_time": "2022-10-27T16:08:06.507Z"
   },
   {
    "duration": 196,
    "start_time": "2022-10-27T16:08:13.379Z"
   },
   {
    "duration": 191,
    "start_time": "2022-10-27T16:08:19.354Z"
   },
   {
    "duration": 183,
    "start_time": "2022-10-27T16:08:23.383Z"
   },
   {
    "duration": 196,
    "start_time": "2022-10-27T16:08:28.241Z"
   },
   {
    "duration": 263,
    "start_time": "2022-10-27T16:08:31.557Z"
   },
   {
    "duration": 215,
    "start_time": "2022-10-27T16:09:38.631Z"
   },
   {
    "duration": 198,
    "start_time": "2022-10-27T16:10:03.765Z"
   },
   {
    "duration": 209,
    "start_time": "2022-10-27T16:10:22.671Z"
   },
   {
    "duration": 210,
    "start_time": "2022-10-27T16:10:29.941Z"
   },
   {
    "duration": 209,
    "start_time": "2022-10-27T16:10:32.880Z"
   },
   {
    "duration": 437,
    "start_time": "2022-10-27T16:10:43.128Z"
   },
   {
    "duration": 210,
    "start_time": "2022-10-27T16:10:50.061Z"
   },
   {
    "duration": 6,
    "start_time": "2022-10-27T17:28:33.731Z"
   },
   {
    "duration": 30,
    "start_time": "2022-10-27T17:32:34.911Z"
   },
   {
    "duration": 17,
    "start_time": "2022-10-27T17:33:52.830Z"
   },
   {
    "duration": 15,
    "start_time": "2022-10-27T17:34:08.606Z"
   },
   {
    "duration": 15,
    "start_time": "2022-10-27T17:34:16.881Z"
   },
   {
    "duration": 38,
    "start_time": "2022-10-27T17:35:31.452Z"
   },
   {
    "duration": 31,
    "start_time": "2022-10-27T17:36:08.000Z"
   },
   {
    "duration": 9,
    "start_time": "2022-10-27T17:36:35.670Z"
   },
   {
    "duration": 21,
    "start_time": "2022-10-27T17:38:55.854Z"
   },
   {
    "duration": 24,
    "start_time": "2022-10-27T17:39:08.372Z"
   },
   {
    "duration": 26,
    "start_time": "2022-10-27T17:39:16.710Z"
   },
   {
    "duration": 4492,
    "start_time": "2022-10-27T17:39:31.205Z"
   },
   {
    "duration": 667,
    "start_time": "2022-10-27T17:39:35.700Z"
   },
   {
    "duration": 3,
    "start_time": "2022-10-27T17:39:36.368Z"
   },
   {
    "duration": 123,
    "start_time": "2022-10-27T17:39:36.373Z"
   },
   {
    "duration": 5,
    "start_time": "2022-10-27T17:39:36.497Z"
   },
   {
    "duration": 22,
    "start_time": "2022-10-27T17:39:36.504Z"
   },
   {
    "duration": 4,
    "start_time": "2022-10-27T17:39:36.528Z"
   },
   {
    "duration": 26,
    "start_time": "2022-10-27T17:39:36.534Z"
   },
   {
    "duration": 6,
    "start_time": "2022-10-27T17:39:36.562Z"
   },
   {
    "duration": 4,
    "start_time": "2022-10-27T17:39:36.571Z"
   },
   {
    "duration": 11,
    "start_time": "2022-10-27T17:39:36.577Z"
   },
   {
    "duration": 7,
    "start_time": "2022-10-27T17:39:36.590Z"
   },
   {
    "duration": 31,
    "start_time": "2022-10-27T17:39:36.598Z"
   },
   {
    "duration": 5,
    "start_time": "2022-10-27T17:39:36.630Z"
   },
   {
    "duration": 46,
    "start_time": "2022-10-27T17:39:36.636Z"
   },
   {
    "duration": 12,
    "start_time": "2022-10-27T17:39:36.684Z"
   },
   {
    "duration": 26,
    "start_time": "2022-10-27T17:39:36.698Z"
   },
   {
    "duration": 245,
    "start_time": "2022-10-27T17:39:36.754Z"
   },
   {
    "duration": 4,
    "start_time": "2022-10-27T17:39:37.001Z"
   },
   {
    "duration": 17,
    "start_time": "2022-10-27T17:39:37.007Z"
   },
   {
    "duration": 193,
    "start_time": "2022-10-27T17:39:37.026Z"
   },
   {
    "duration": 203,
    "start_time": "2022-10-27T17:39:37.221Z"
   },
   {
    "duration": 214,
    "start_time": "2022-10-27T17:39:37.427Z"
   },
   {
    "duration": 3,
    "start_time": "2022-10-27T17:39:37.643Z"
   },
   {
    "duration": 14,
    "start_time": "2022-10-27T17:39:37.654Z"
   },
   {
    "duration": 138,
    "start_time": "2022-10-27T17:39:37.669Z"
   },
   {
    "duration": 4,
    "start_time": "2022-10-27T17:39:37.808Z"
   },
   {
    "duration": 29,
    "start_time": "2022-10-27T17:39:37.814Z"
   },
   {
    "duration": 21,
    "start_time": "2022-10-27T17:39:37.845Z"
   },
   {
    "duration": 11,
    "start_time": "2022-10-27T17:39:37.867Z"
   },
   {
    "duration": 25,
    "start_time": "2022-10-27T17:39:37.880Z"
   },
   {
    "duration": 18,
    "start_time": "2022-10-27T17:39:37.907Z"
   },
   {
    "duration": 5,
    "start_time": "2022-10-27T17:39:37.927Z"
   },
   {
    "duration": 23,
    "start_time": "2022-10-27T17:39:37.933Z"
   },
   {
    "duration": 5,
    "start_time": "2022-10-27T17:39:37.958Z"
   },
   {
    "duration": 15,
    "start_time": "2022-10-27T17:39:37.964Z"
   },
   {
    "duration": 10,
    "start_time": "2022-10-27T17:39:37.981Z"
   },
   {
    "duration": 39,
    "start_time": "2022-10-27T17:39:37.993Z"
   },
   {
    "duration": 29,
    "start_time": "2022-10-27T17:40:07.396Z"
   },
   {
    "duration": 871,
    "start_time": "2022-10-27T17:40:11.044Z"
   },
   {
    "duration": 13,
    "start_time": "2022-10-27T17:40:14.183Z"
   },
   {
    "duration": 20,
    "start_time": "2022-10-27T17:40:17.729Z"
   },
   {
    "duration": 29,
    "start_time": "2022-10-27T17:40:28.199Z"
   },
   {
    "duration": 26,
    "start_time": "2022-10-27T17:40:37.237Z"
   },
   {
    "duration": 18,
    "start_time": "2022-10-27T17:40:52.558Z"
   },
   {
    "duration": 19,
    "start_time": "2022-10-27T17:41:01.841Z"
   },
   {
    "duration": 6,
    "start_time": "2022-10-27T17:41:04.956Z"
   },
   {
    "duration": 16,
    "start_time": "2022-10-27T17:41:11.156Z"
   },
   {
    "duration": 7,
    "start_time": "2022-10-27T17:41:19.817Z"
   },
   {
    "duration": 16,
    "start_time": "2022-10-27T17:41:25.981Z"
   },
   {
    "duration": 30,
    "start_time": "2022-10-27T17:41:57.531Z"
   },
   {
    "duration": 14,
    "start_time": "2022-10-27T17:42:21.647Z"
   },
   {
    "duration": 6,
    "start_time": "2022-10-27T17:42:49.776Z"
   },
   {
    "duration": 9,
    "start_time": "2022-10-27T17:43:09.803Z"
   },
   {
    "duration": 2697,
    "start_time": "2022-10-27T17:46:19.360Z"
   },
   {
    "duration": 3,
    "start_time": "2022-10-27T17:47:06.934Z"
   },
   {
    "duration": 70,
    "start_time": "2022-10-27T17:47:36.191Z"
   },
   {
    "duration": 5,
    "start_time": "2022-10-27T18:09:03.606Z"
   },
   {
    "duration": 6,
    "start_time": "2022-10-27T18:09:05.551Z"
   },
   {
    "duration": 11,
    "start_time": "2022-10-27T18:09:07.619Z"
   },
   {
    "duration": 26,
    "start_time": "2022-10-27T18:09:08.922Z"
   },
   {
    "duration": 5,
    "start_time": "2022-10-27T18:10:10.839Z"
   },
   {
    "duration": 31,
    "start_time": "2022-10-27T18:10:20.842Z"
   },
   {
    "duration": 268969,
    "start_time": "2022-10-27T18:10:22.387Z"
   },
   {
    "duration": 8,
    "start_time": "2022-10-27T18:15:50.533Z"
   },
   {
    "duration": 13,
    "start_time": "2022-10-27T18:18:52.882Z"
   },
   {
    "duration": 156,
    "start_time": "2022-10-27T18:19:07.101Z"
   },
   {
    "duration": 440,
    "start_time": "2022-10-27T18:21:34.718Z"
   },
   {
    "duration": 5,
    "start_time": "2022-10-27T18:22:27.967Z"
   },
   {
    "duration": 8,
    "start_time": "2022-10-27T18:22:48.575Z"
   },
   {
    "duration": 1338,
    "start_time": "2022-10-28T05:02:22.796Z"
   },
   {
    "duration": 13369,
    "start_time": "2022-10-28T05:02:25.763Z"
   },
   {
    "duration": 759,
    "start_time": "2022-10-28T05:02:39.134Z"
   },
   {
    "duration": 2946,
    "start_time": "2022-10-28T05:02:48.493Z"
   },
   {
    "duration": 3,
    "start_time": "2022-10-28T05:02:51.441Z"
   },
   {
    "duration": 95,
    "start_time": "2022-10-28T05:03:40.710Z"
   },
   {
    "duration": 5,
    "start_time": "2022-10-28T05:03:45.400Z"
   },
   {
    "duration": 10,
    "start_time": "2022-10-28T05:03:46.272Z"
   },
   {
    "duration": 5,
    "start_time": "2022-10-28T05:03:48.977Z"
   },
   {
    "duration": 4,
    "start_time": "2022-10-28T05:04:43.153Z"
   },
   {
    "duration": 3,
    "start_time": "2022-10-28T05:05:00.647Z"
   },
   {
    "duration": 3,
    "start_time": "2022-10-28T05:05:01.931Z"
   },
   {
    "duration": 5,
    "start_time": "2022-10-28T05:05:02.467Z"
   },
   {
    "duration": 2,
    "start_time": "2022-10-28T05:05:17.389Z"
   },
   {
    "duration": 25,
    "start_time": "2022-10-28T05:05:18.023Z"
   },
   {
    "duration": 3,
    "start_time": "2022-10-28T05:05:18.741Z"
   },
   {
    "duration": 21,
    "start_time": "2022-10-28T05:05:25.190Z"
   },
   {
    "duration": 12,
    "start_time": "2022-10-28T05:05:34.156Z"
   },
   {
    "duration": 22,
    "start_time": "2022-10-28T05:05:43.004Z"
   },
   {
    "duration": 17,
    "start_time": "2022-10-28T05:06:20.686Z"
   },
   {
    "duration": 19,
    "start_time": "2022-10-28T05:06:26.609Z"
   },
   {
    "duration": 14,
    "start_time": "2022-10-28T05:06:28.148Z"
   },
   {
    "duration": 21,
    "start_time": "2022-10-28T05:06:29.166Z"
   },
   {
    "duration": 18,
    "start_time": "2022-10-28T05:06:31.848Z"
   },
   {
    "duration": 19,
    "start_time": "2022-10-28T05:06:56.141Z"
   },
   {
    "duration": 70,
    "start_time": "2022-10-28T05:36:34.820Z"
   },
   {
    "duration": 46,
    "start_time": "2022-10-28T05:36:40.140Z"
   },
   {
    "duration": 235,
    "start_time": "2022-10-28T05:45:52.520Z"
   },
   {
    "duration": 178,
    "start_time": "2022-10-28T05:47:56.571Z"
   },
   {
    "duration": 175,
    "start_time": "2022-10-28T05:48:03.348Z"
   },
   {
    "duration": 205,
    "start_time": "2022-10-28T05:48:08.016Z"
   },
   {
    "duration": 174,
    "start_time": "2022-10-28T05:48:14.080Z"
   },
   {
    "duration": 182,
    "start_time": "2022-10-28T05:48:20.914Z"
   },
   {
    "duration": 176,
    "start_time": "2022-10-28T05:48:33.741Z"
   },
   {
    "duration": 169,
    "start_time": "2022-10-28T05:52:27.582Z"
   },
   {
    "duration": 168,
    "start_time": "2022-10-28T05:52:32.702Z"
   },
   {
    "duration": 165,
    "start_time": "2022-10-28T05:52:39.865Z"
   },
   {
    "duration": 299,
    "start_time": "2022-10-28T06:12:25.083Z"
   },
   {
    "duration": 177,
    "start_time": "2022-10-28T06:12:43.453Z"
   },
   {
    "duration": 175,
    "start_time": "2022-10-28T06:12:58.065Z"
   },
   {
    "duration": 196,
    "start_time": "2022-10-28T06:14:35.692Z"
   },
   {
    "duration": 4,
    "start_time": "2022-10-28T06:23:21.933Z"
   },
   {
    "duration": 4,
    "start_time": "2022-10-28T06:23:22.560Z"
   },
   {
    "duration": 128,
    "start_time": "2022-10-28T06:23:23.689Z"
   },
   {
    "duration": 21,
    "start_time": "2022-10-28T06:28:05.366Z"
   },
   {
    "duration": 127,
    "start_time": "2022-10-28T06:29:16.075Z"
   },
   {
    "duration": 120,
    "start_time": "2022-10-28T06:29:25.298Z"
   },
   {
    "duration": 243,
    "start_time": "2022-10-28T06:29:44.022Z"
   },
   {
    "duration": 228,
    "start_time": "2022-10-28T06:30:06.459Z"
   },
   {
    "duration": 225,
    "start_time": "2022-10-28T06:31:09.885Z"
   },
   {
    "duration": 233,
    "start_time": "2022-10-28T06:31:24.445Z"
   },
   {
    "duration": 222,
    "start_time": "2022-10-28T06:45:17.108Z"
   },
   {
    "duration": 389,
    "start_time": "2022-10-28T06:45:17.489Z"
   },
   {
    "duration": 222,
    "start_time": "2022-10-28T06:47:35.550Z"
   },
   {
    "duration": 244,
    "start_time": "2022-10-28T06:48:15.484Z"
   },
   {
    "duration": 237,
    "start_time": "2022-10-28T06:48:22.763Z"
   },
   {
    "duration": 237,
    "start_time": "2022-10-28T06:49:09.648Z"
   },
   {
    "duration": 24,
    "start_time": "2022-10-28T06:50:35.170Z"
   },
   {
    "duration": 5,
    "start_time": "2022-10-28T06:53:01.730Z"
   },
   {
    "duration": 3,
    "start_time": "2022-10-28T06:56:58.937Z"
   },
   {
    "duration": 4,
    "start_time": "2022-10-28T06:57:07.284Z"
   },
   {
    "duration": 45,
    "start_time": "2022-10-28T06:57:58.250Z"
   },
   {
    "duration": 3,
    "start_time": "2022-10-28T06:58:29.493Z"
   },
   {
    "duration": 4,
    "start_time": "2022-10-28T06:58:31.720Z"
   },
   {
    "duration": 4,
    "start_time": "2022-10-28T06:58:38.744Z"
   },
   {
    "duration": 4,
    "start_time": "2022-10-28T06:58:39.405Z"
   },
   {
    "duration": 2620,
    "start_time": "2022-10-28T06:58:45.760Z"
   },
   {
    "duration": 4,
    "start_time": "2022-10-28T06:58:48.383Z"
   },
   {
    "duration": 715,
    "start_time": "2022-10-28T06:58:48.389Z"
   },
   {
    "duration": 3,
    "start_time": "2022-10-28T06:58:49.107Z"
   },
   {
    "duration": 129,
    "start_time": "2022-10-28T06:58:49.112Z"
   },
   {
    "duration": 5,
    "start_time": "2022-10-28T06:58:49.243Z"
   },
   {
    "duration": 10,
    "start_time": "2022-10-28T06:58:49.249Z"
   },
   {
    "duration": 7,
    "start_time": "2022-10-28T06:58:49.261Z"
   },
   {
    "duration": 5,
    "start_time": "2022-10-28T06:58:49.269Z"
   },
   {
    "duration": 8,
    "start_time": "2022-10-28T06:58:49.276Z"
   },
   {
    "duration": 12,
    "start_time": "2022-10-28T06:58:49.286Z"
   },
   {
    "duration": 34,
    "start_time": "2022-10-28T06:58:49.299Z"
   },
   {
    "duration": 31,
    "start_time": "2022-10-28T06:58:49.336Z"
   },
   {
    "duration": 4,
    "start_time": "2022-10-28T06:58:49.369Z"
   },
   {
    "duration": 30,
    "start_time": "2022-10-28T06:58:49.374Z"
   },
   {
    "duration": 36,
    "start_time": "2022-10-28T06:58:49.406Z"
   },
   {
    "duration": 24,
    "start_time": "2022-10-28T06:58:49.444Z"
   },
   {
    "duration": 23,
    "start_time": "2022-10-28T06:58:49.470Z"
   },
   {
    "duration": 251,
    "start_time": "2022-10-28T06:58:49.534Z"
   },
   {
    "duration": 5,
    "start_time": "2022-10-28T06:58:49.787Z"
   },
   {
    "duration": 13,
    "start_time": "2022-10-28T06:58:49.794Z"
   },
   {
    "duration": 175,
    "start_time": "2022-10-28T06:58:49.809Z"
   },
   {
    "duration": 228,
    "start_time": "2022-10-28T06:58:49.986Z"
   },
   {
    "duration": 201,
    "start_time": "2022-10-28T06:58:50.216Z"
   },
   {
    "duration": 204,
    "start_time": "2022-10-28T06:58:50.418Z"
   },
   {
    "duration": 206,
    "start_time": "2022-10-28T06:58:50.624Z"
   },
   {
    "duration": 3,
    "start_time": "2022-10-28T06:58:50.833Z"
   },
   {
    "duration": 12,
    "start_time": "2022-10-28T06:58:50.840Z"
   },
   {
    "duration": 146,
    "start_time": "2022-10-28T06:58:50.853Z"
   },
   {
    "duration": 4,
    "start_time": "2022-10-28T06:58:51.001Z"
   },
   {
    "duration": 5,
    "start_time": "2022-10-28T06:58:52.941Z"
   },
   {
    "duration": 69,
    "start_time": "2022-10-28T07:00:31.708Z"
   },
   {
    "duration": 3,
    "start_time": "2022-10-28T07:00:49.351Z"
   },
   {
    "duration": 5,
    "start_time": "2022-10-28T07:00:49.789Z"
   },
   {
    "duration": 4,
    "start_time": "2022-10-28T07:00:55.769Z"
   },
   {
    "duration": 3,
    "start_time": "2022-10-28T07:02:57.860Z"
   },
   {
    "duration": 5,
    "start_time": "2022-10-28T07:03:03.852Z"
   },
   {
    "duration": 3,
    "start_time": "2022-10-28T07:04:15.889Z"
   },
   {
    "duration": 21,
    "start_time": "2022-10-28T07:05:06.031Z"
   },
   {
    "duration": 7,
    "start_time": "2022-10-28T07:05:21.174Z"
   },
   {
    "duration": 7,
    "start_time": "2022-10-28T07:05:27.094Z"
   },
   {
    "duration": 10,
    "start_time": "2022-10-28T07:05:39.768Z"
   },
   {
    "duration": 11,
    "start_time": "2022-10-28T07:14:26.391Z"
   },
   {
    "duration": 233,
    "start_time": "2022-10-28T07:15:16.777Z"
   },
   {
    "duration": 436,
    "start_time": "2022-10-28T07:16:30.986Z"
   },
   {
    "duration": 298,
    "start_time": "2022-10-28T07:18:13.048Z"
   },
   {
    "duration": 376,
    "start_time": "2022-10-28T07:18:46.087Z"
   },
   {
    "duration": 244,
    "start_time": "2022-10-28T07:18:52.307Z"
   },
   {
    "duration": 3,
    "start_time": "2022-10-28T07:20:31.684Z"
   },
   {
    "duration": 233,
    "start_time": "2022-10-28T07:20:33.046Z"
   },
   {
    "duration": 246,
    "start_time": "2022-10-28T07:21:12.818Z"
   },
   {
    "duration": 241,
    "start_time": "2022-10-28T07:21:16.921Z"
   },
   {
    "duration": 273,
    "start_time": "2022-10-28T07:21:56.158Z"
   },
   {
    "duration": 218,
    "start_time": "2022-10-28T07:22:12.453Z"
   },
   {
    "duration": 392,
    "start_time": "2022-10-28T07:22:45.066Z"
   },
   {
    "duration": 240,
    "start_time": "2022-10-28T07:23:29.047Z"
   },
   {
    "duration": 280,
    "start_time": "2022-10-28T07:23:36.234Z"
   },
   {
    "duration": 4,
    "start_time": "2022-10-28T07:27:58.745Z"
   },
   {
    "duration": 5,
    "start_time": "2022-10-28T07:27:59.401Z"
   },
   {
    "duration": 6,
    "start_time": "2022-10-28T07:27:59.769Z"
   },
   {
    "duration": 9,
    "start_time": "2022-10-28T07:28:01.700Z"
   },
   {
    "duration": 35,
    "start_time": "2022-10-28T07:28:02.115Z"
   },
   {
    "duration": 12,
    "start_time": "2022-10-28T07:28:04.237Z"
   },
   {
    "duration": 6,
    "start_time": "2022-10-28T07:28:04.709Z"
   },
   {
    "duration": 8,
    "start_time": "2022-10-28T07:28:05.580Z"
   },
   {
    "duration": 4,
    "start_time": "2022-10-28T07:28:07.515Z"
   },
   {
    "duration": 4,
    "start_time": "2022-10-28T07:28:08.026Z"
   },
   {
    "duration": 4,
    "start_time": "2022-10-28T07:42:52.454Z"
   },
   {
    "duration": 4,
    "start_time": "2022-10-28T07:42:59.669Z"
   },
   {
    "duration": 7,
    "start_time": "2022-10-28T07:43:05.180Z"
   },
   {
    "duration": 19,
    "start_time": "2022-10-28T07:44:05.966Z"
   },
   {
    "duration": 253629,
    "start_time": "2022-10-28T07:48:39.864Z"
   },
   {
    "duration": 8,
    "start_time": "2022-10-28T07:54:43.259Z"
   },
   {
    "duration": 838,
    "start_time": "2022-10-28T07:55:40.396Z"
   },
   {
    "duration": 6,
    "start_time": "2022-10-28T07:55:50.416Z"
   },
   {
    "duration": 2470,
    "start_time": "2022-10-28T08:21:19.171Z"
   },
   {
    "duration": 1922,
    "start_time": "2022-10-28T08:21:21.643Z"
   },
   {
    "duration": 700,
    "start_time": "2022-10-28T08:21:23.567Z"
   },
   {
    "duration": 3,
    "start_time": "2022-10-28T08:21:24.269Z"
   },
   {
    "duration": 2655,
    "start_time": "2022-10-28T08:24:35.387Z"
   },
   {
    "duration": 1875,
    "start_time": "2022-10-28T08:24:38.045Z"
   },
   {
    "duration": 697,
    "start_time": "2022-10-28T08:24:39.921Z"
   },
   {
    "duration": 2,
    "start_time": "2022-10-28T08:24:40.620Z"
   },
   {
    "duration": 124,
    "start_time": "2022-10-28T08:24:40.633Z"
   },
   {
    "duration": 5,
    "start_time": "2022-10-28T08:24:40.758Z"
   },
   {
    "duration": 22,
    "start_time": "2022-10-28T08:24:40.765Z"
   },
   {
    "duration": 4,
    "start_time": "2022-10-28T08:24:40.789Z"
   },
   {
    "duration": 12,
    "start_time": "2022-10-28T08:24:40.795Z"
   },
   {
    "duration": 24,
    "start_time": "2022-10-28T08:24:40.810Z"
   },
   {
    "duration": 15,
    "start_time": "2022-10-28T08:24:40.835Z"
   },
   {
    "duration": 7,
    "start_time": "2022-10-28T08:24:40.851Z"
   },
   {
    "duration": 26,
    "start_time": "2022-10-28T08:24:40.859Z"
   },
   {
    "duration": 2,
    "start_time": "2022-10-28T08:24:40.887Z"
   },
   {
    "duration": 47,
    "start_time": "2022-10-28T08:24:40.890Z"
   },
   {
    "duration": 11,
    "start_time": "2022-10-28T08:24:40.938Z"
   },
   {
    "duration": 22,
    "start_time": "2022-10-28T08:24:40.950Z"
   },
   {
    "duration": 65,
    "start_time": "2022-10-28T08:24:40.974Z"
   },
   {
    "duration": 227,
    "start_time": "2022-10-28T08:24:41.040Z"
   },
   {
    "duration": 4,
    "start_time": "2022-10-28T08:24:41.268Z"
   },
   {
    "duration": 7,
    "start_time": "2022-10-28T08:24:41.273Z"
   },
   {
    "duration": 183,
    "start_time": "2022-10-28T08:24:41.281Z"
   },
   {
    "duration": 206,
    "start_time": "2022-10-28T08:24:41.466Z"
   },
   {
    "duration": 198,
    "start_time": "2022-10-28T08:24:41.673Z"
   },
   {
    "duration": 196,
    "start_time": "2022-10-28T08:24:41.873Z"
   },
   {
    "duration": 198,
    "start_time": "2022-10-28T08:24:42.071Z"
   },
   {
    "duration": 3,
    "start_time": "2022-10-28T08:24:42.271Z"
   },
   {
    "duration": 14,
    "start_time": "2022-10-28T08:24:42.278Z"
   },
   {
    "duration": 140,
    "start_time": "2022-10-28T08:24:42.293Z"
   },
   {
    "duration": 3,
    "start_time": "2022-10-28T08:24:42.435Z"
   },
   {
    "duration": 8,
    "start_time": "2022-10-28T08:24:42.439Z"
   },
   {
    "duration": 5,
    "start_time": "2022-10-28T08:24:42.449Z"
   },
   {
    "duration": 268,
    "start_time": "2022-10-28T08:24:42.456Z"
   },
   {
    "duration": 234,
    "start_time": "2022-10-28T08:24:42.726Z"
   },
   {
    "duration": 3,
    "start_time": "2022-10-28T08:24:42.961Z"
   },
   {
    "duration": 10,
    "start_time": "2022-10-28T08:24:42.966Z"
   },
   {
    "duration": 8,
    "start_time": "2022-10-28T08:24:42.977Z"
   },
   {
    "duration": 9,
    "start_time": "2022-10-28T08:24:42.987Z"
   },
   {
    "duration": 43,
    "start_time": "2022-10-28T08:24:42.998Z"
   },
   {
    "duration": 14,
    "start_time": "2022-10-28T08:24:43.043Z"
   },
   {
    "duration": 8,
    "start_time": "2022-10-28T08:24:43.059Z"
   },
   {
    "duration": 9,
    "start_time": "2022-10-28T08:24:43.069Z"
   },
   {
    "duration": 6,
    "start_time": "2022-10-28T08:24:43.080Z"
   },
   {
    "duration": 3,
    "start_time": "2022-10-28T08:24:43.088Z"
   },
   {
    "duration": 8,
    "start_time": "2022-10-28T08:24:43.134Z"
   },
   {
    "duration": 25,
    "start_time": "2022-10-28T08:24:43.143Z"
   },
   {
    "duration": 254221,
    "start_time": "2022-10-28T08:24:43.169Z"
   },
   {
    "duration": 8,
    "start_time": "2022-10-28T08:28:57.391Z"
   },
   {
    "duration": 869,
    "start_time": "2022-10-28T08:28:57.400Z"
   },
   {
    "duration": 7,
    "start_time": "2022-10-28T08:28:58.271Z"
   },
   {
    "duration": 7,
    "start_time": "2022-10-28T08:31:19.546Z"
   },
   {
    "duration": 8,
    "start_time": "2022-10-29T09:19:45.168Z"
   },
   {
    "duration": 13631,
    "start_time": "2022-10-29T09:21:30.326Z"
   },
   {
    "duration": 1809,
    "start_time": "2022-10-29T09:21:43.959Z"
   },
   {
    "duration": 1819,
    "start_time": "2022-10-29T09:21:45.770Z"
   },
   {
    "duration": 3,
    "start_time": "2022-10-29T09:21:47.591Z"
   },
   {
    "duration": 114,
    "start_time": "2022-10-29T09:21:47.595Z"
   },
   {
    "duration": 5,
    "start_time": "2022-10-29T09:21:47.710Z"
   },
   {
    "duration": 18,
    "start_time": "2022-10-29T09:21:47.716Z"
   },
   {
    "duration": 18,
    "start_time": "2022-10-29T09:21:47.735Z"
   },
   {
    "duration": 13,
    "start_time": "2022-10-29T09:21:47.754Z"
   },
   {
    "duration": 6,
    "start_time": "2022-10-29T09:21:47.769Z"
   },
   {
    "duration": 7,
    "start_time": "2022-10-29T09:21:47.776Z"
   },
   {
    "duration": 5,
    "start_time": "2022-10-29T09:21:47.784Z"
   },
   {
    "duration": 25,
    "start_time": "2022-10-29T09:21:47.790Z"
   },
   {
    "duration": 2,
    "start_time": "2022-10-29T09:21:47.817Z"
   },
   {
    "duration": 21,
    "start_time": "2022-10-29T09:21:47.820Z"
   },
   {
    "duration": 13,
    "start_time": "2022-10-29T09:21:47.842Z"
   },
   {
    "duration": 32,
    "start_time": "2022-10-29T09:21:47.856Z"
   },
   {
    "duration": 28,
    "start_time": "2022-10-29T09:21:47.889Z"
   },
   {
    "duration": 237,
    "start_time": "2022-10-29T09:21:47.919Z"
   },
   {
    "duration": 3,
    "start_time": "2022-10-29T09:21:48.158Z"
   },
   {
    "duration": 19,
    "start_time": "2022-10-29T09:21:48.163Z"
   },
   {
    "duration": 458,
    "start_time": "2022-10-29T09:43:08.844Z"
   },
   {
    "duration": 4379,
    "start_time": "2022-10-29T09:43:23.256Z"
   },
   {
    "duration": 14,
    "start_time": "2022-10-29T09:50:58.124Z"
   },
   {
    "duration": 1607,
    "start_time": "2022-10-29T09:51:08.721Z"
   },
   {
    "duration": 1618,
    "start_time": "2022-10-29T09:51:29.299Z"
   },
   {
    "duration": 1793,
    "start_time": "2022-10-29T09:55:25.876Z"
   },
   {
    "duration": 1518,
    "start_time": "2022-10-29T09:56:13.693Z"
   },
   {
    "duration": 357,
    "start_time": "2022-10-29T09:57:17.699Z"
   },
   {
    "duration": 1638,
    "start_time": "2022-10-29T09:57:27.950Z"
   },
   {
    "duration": 1601,
    "start_time": "2022-10-29T09:58:04.119Z"
   },
   {
    "duration": 1594,
    "start_time": "2022-10-29T09:58:26.224Z"
   },
   {
    "duration": 1483,
    "start_time": "2022-10-29T09:58:48.833Z"
   },
   {
    "duration": 879,
    "start_time": "2022-10-29T10:00:23.510Z"
   },
   {
    "duration": 137,
    "start_time": "2022-10-29T10:00:53.209Z"
   },
   {
    "duration": 4009,
    "start_time": "2022-10-29T10:01:04.681Z"
   },
   {
    "duration": 4686,
    "start_time": "2022-10-29T10:02:10.732Z"
   },
   {
    "duration": 130,
    "start_time": "2022-10-29T10:04:59.591Z"
   },
   {
    "duration": 4376,
    "start_time": "2022-10-29T10:05:11.503Z"
   },
   {
    "duration": 63,
    "start_time": "2022-10-29T10:05:43.046Z"
   },
   {
    "duration": 4773,
    "start_time": "2022-10-29T10:05:48.026Z"
   },
   {
    "duration": 3774,
    "start_time": "2022-10-29T10:06:17.871Z"
   },
   {
    "duration": 3899,
    "start_time": "2022-10-29T10:06:24.888Z"
   },
   {
    "duration": 3802,
    "start_time": "2022-10-29T10:06:37.179Z"
   },
   {
    "duration": 4628,
    "start_time": "2022-10-29T10:06:48.998Z"
   },
   {
    "duration": 6,
    "start_time": "2022-10-29T10:16:37.008Z"
   },
   {
    "duration": 4616,
    "start_time": "2022-10-29T10:16:41.230Z"
   },
   {
    "duration": 4,
    "start_time": "2022-10-29T10:18:00.673Z"
   },
   {
    "duration": 4,
    "start_time": "2022-10-29T10:18:05.564Z"
   },
   {
    "duration": 4486,
    "start_time": "2022-10-29T10:18:06.399Z"
   },
   {
    "duration": 27,
    "start_time": "2022-10-29T10:22:48.050Z"
   },
   {
    "duration": 24,
    "start_time": "2022-10-29T10:22:52.919Z"
   },
   {
    "duration": 14,
    "start_time": "2022-10-29T10:23:10.758Z"
   },
   {
    "duration": 4,
    "start_time": "2022-10-29T10:24:38.082Z"
   },
   {
    "duration": 4211,
    "start_time": "2022-10-29T10:25:00.919Z"
   },
   {
    "duration": 2423,
    "start_time": "2022-10-29T10:25:26.320Z"
   },
   {
    "duration": 4,
    "start_time": "2022-10-29T10:25:28.746Z"
   },
   {
    "duration": 624,
    "start_time": "2022-10-29T10:25:28.752Z"
   },
   {
    "duration": 3,
    "start_time": "2022-10-29T10:25:29.378Z"
   },
   {
    "duration": 108,
    "start_time": "2022-10-29T10:25:29.382Z"
   },
   {
    "duration": 23,
    "start_time": "2022-10-29T10:25:29.492Z"
   },
   {
    "duration": 9,
    "start_time": "2022-10-29T10:25:29.517Z"
   },
   {
    "duration": 4,
    "start_time": "2022-10-29T10:25:29.527Z"
   },
   {
    "duration": 5,
    "start_time": "2022-10-29T10:25:29.533Z"
   },
   {
    "duration": 5,
    "start_time": "2022-10-29T10:25:29.539Z"
   },
   {
    "duration": 6,
    "start_time": "2022-10-29T10:25:29.545Z"
   },
   {
    "duration": 4,
    "start_time": "2022-10-29T10:25:29.552Z"
   },
   {
    "duration": 25,
    "start_time": "2022-10-29T10:25:29.557Z"
   },
   {
    "duration": 28,
    "start_time": "2022-10-29T10:25:29.584Z"
   },
   {
    "duration": 18,
    "start_time": "2022-10-29T10:25:29.619Z"
   },
   {
    "duration": 10,
    "start_time": "2022-10-29T10:25:29.639Z"
   },
   {
    "duration": 16,
    "start_time": "2022-10-29T10:25:29.650Z"
   },
   {
    "duration": 49,
    "start_time": "2022-10-29T10:25:29.668Z"
   },
   {
    "duration": 227,
    "start_time": "2022-10-29T10:25:29.719Z"
   },
   {
    "duration": 4,
    "start_time": "2022-10-29T10:25:29.947Z"
   },
   {
    "duration": 6,
    "start_time": "2022-10-29T10:25:29.953Z"
   },
   {
    "duration": 4175,
    "start_time": "2022-10-29T10:25:29.961Z"
   },
   {
    "duration": 3,
    "start_time": "2022-10-29T10:40:02.441Z"
   },
   {
    "duration": 11,
    "start_time": "2022-10-29T10:40:13.937Z"
   },
   {
    "duration": 2188,
    "start_time": "2022-10-29T10:40:23.992Z"
   },
   {
    "duration": 4,
    "start_time": "2022-10-29T10:40:26.183Z"
   },
   {
    "duration": 614,
    "start_time": "2022-10-29T10:40:26.189Z"
   },
   {
    "duration": 3,
    "start_time": "2022-10-29T10:40:26.806Z"
   },
   {
    "duration": 134,
    "start_time": "2022-10-29T10:40:26.811Z"
   },
   {
    "duration": 6,
    "start_time": "2022-10-29T10:40:26.947Z"
   },
   {
    "duration": 10,
    "start_time": "2022-10-29T10:40:26.955Z"
   },
   {
    "duration": 5,
    "start_time": "2022-10-29T10:40:26.966Z"
   },
   {
    "duration": 32,
    "start_time": "2022-10-29T10:40:26.973Z"
   },
   {
    "duration": 3,
    "start_time": "2022-10-29T10:40:27.008Z"
   },
   {
    "duration": 11,
    "start_time": "2022-10-29T10:40:27.013Z"
   },
   {
    "duration": 4,
    "start_time": "2022-10-29T10:40:27.025Z"
   },
   {
    "duration": 26,
    "start_time": "2022-10-29T10:40:27.030Z"
   },
   {
    "duration": 3,
    "start_time": "2022-10-29T10:40:27.057Z"
   },
   {
    "duration": 44,
    "start_time": "2022-10-29T10:40:27.062Z"
   },
   {
    "duration": 10,
    "start_time": "2022-10-29T10:40:27.108Z"
   },
   {
    "duration": 15,
    "start_time": "2022-10-29T10:40:27.120Z"
   },
   {
    "duration": 70,
    "start_time": "2022-10-29T10:40:27.136Z"
   },
   {
    "duration": 269,
    "start_time": "2022-10-29T10:40:27.208Z"
   },
   {
    "duration": 5,
    "start_time": "2022-10-29T10:40:27.480Z"
   },
   {
    "duration": 19,
    "start_time": "2022-10-29T10:40:27.487Z"
   },
   {
    "duration": 4047,
    "start_time": "2022-10-29T10:40:27.508Z"
   },
   {
    "duration": 208,
    "start_time": "2022-10-29T10:40:31.556Z"
   },
   {
    "duration": 195,
    "start_time": "2022-10-29T10:40:31.765Z"
   },
   {
    "duration": 225,
    "start_time": "2022-10-29T10:40:31.962Z"
   },
   {
    "duration": 233,
    "start_time": "2022-10-29T10:40:32.189Z"
   },
   {
    "duration": 4,
    "start_time": "2022-10-29T10:40:32.424Z"
   },
   {
    "duration": 11,
    "start_time": "2022-10-29T10:40:32.432Z"
   },
   {
    "duration": 138,
    "start_time": "2022-10-29T10:40:32.444Z"
   },
   {
    "duration": 3,
    "start_time": "2022-10-29T10:40:32.584Z"
   },
   {
    "duration": 7,
    "start_time": "2022-10-29T10:40:32.588Z"
   },
   {
    "duration": 6,
    "start_time": "2022-10-29T10:40:32.605Z"
   },
   {
    "duration": 4,
    "start_time": "2022-10-29T10:40:36.669Z"
   },
   {
    "duration": 8,
    "start_time": "2022-10-29T10:40:54.333Z"
   },
   {
    "duration": 3,
    "start_time": "2022-10-29T10:41:00.147Z"
   },
   {
    "duration": 131,
    "start_time": "2022-10-29T10:41:05.020Z"
   },
   {
    "duration": 527,
    "start_time": "2022-10-29T10:41:26.668Z"
   },
   {
    "duration": 10,
    "start_time": "2022-10-29T10:42:33.538Z"
   },
   {
    "duration": 946,
    "start_time": "2022-10-29T10:43:38.942Z"
   },
   {
    "duration": 3,
    "start_time": "2022-10-29T10:45:23.917Z"
   },
   {
    "duration": 3,
    "start_time": "2022-10-29T10:45:47.612Z"
   },
   {
    "duration": 4,
    "start_time": "2022-10-29T10:46:11.372Z"
   },
   {
    "duration": 1038,
    "start_time": "2022-10-29T10:46:34.901Z"
   },
   {
    "duration": 3,
    "start_time": "2022-10-29T10:47:09.545Z"
   },
   {
    "duration": 4,
    "start_time": "2022-10-29T10:49:03.173Z"
   },
   {
    "duration": 1297,
    "start_time": "2022-10-29T10:49:04.755Z"
   },
   {
    "duration": 4,
    "start_time": "2022-10-29T10:49:18.270Z"
   },
   {
    "duration": 1021,
    "start_time": "2022-10-29T10:49:19.573Z"
   },
   {
    "duration": 3,
    "start_time": "2022-10-29T10:51:44.416Z"
   },
   {
    "duration": 3,
    "start_time": "2022-10-29T10:51:45.293Z"
   },
   {
    "duration": 4097,
    "start_time": "2022-10-29T10:51:45.948Z"
   },
   {
    "duration": 13,
    "start_time": "2022-10-29T10:52:47.415Z"
   },
   {
    "duration": 4,
    "start_time": "2022-10-29T10:52:50.098Z"
   },
   {
    "duration": 1115,
    "start_time": "2022-10-29T10:52:50.588Z"
   },
   {
    "duration": 1056,
    "start_time": "2022-10-29T10:55:40.887Z"
   },
   {
    "duration": 2214,
    "start_time": "2022-10-29T11:01:17.721Z"
   },
   {
    "duration": 1709,
    "start_time": "2022-10-29T11:01:19.938Z"
   },
   {
    "duration": 590,
    "start_time": "2022-10-29T11:01:21.648Z"
   },
   {
    "duration": 3,
    "start_time": "2022-10-29T11:01:22.240Z"
   },
   {
    "duration": 111,
    "start_time": "2022-10-29T11:01:22.245Z"
   },
   {
    "duration": 5,
    "start_time": "2022-10-29T11:01:22.358Z"
   },
   {
    "duration": 10,
    "start_time": "2022-10-29T11:01:22.365Z"
   },
   {
    "duration": 30,
    "start_time": "2022-10-29T11:01:22.377Z"
   },
   {
    "duration": 7,
    "start_time": "2022-10-29T11:01:22.409Z"
   },
   {
    "duration": 5,
    "start_time": "2022-10-29T11:01:22.418Z"
   },
   {
    "duration": 6,
    "start_time": "2022-10-29T11:01:22.424Z"
   },
   {
    "duration": 5,
    "start_time": "2022-10-29T11:01:22.432Z"
   },
   {
    "duration": 26,
    "start_time": "2022-10-29T11:01:22.438Z"
   },
   {
    "duration": 2,
    "start_time": "2022-10-29T11:01:22.466Z"
   },
   {
    "duration": 43,
    "start_time": "2022-10-29T11:01:22.469Z"
   },
   {
    "duration": 11,
    "start_time": "2022-10-29T11:01:22.514Z"
   },
   {
    "duration": 21,
    "start_time": "2022-10-29T11:01:22.526Z"
   },
   {
    "duration": 19,
    "start_time": "2022-10-29T11:01:22.548Z"
   },
   {
    "duration": 244,
    "start_time": "2022-10-29T11:01:22.568Z"
   },
   {
    "duration": 4,
    "start_time": "2022-10-29T11:01:22.813Z"
   },
   {
    "duration": 5,
    "start_time": "2022-10-29T11:01:22.818Z"
   },
   {
    "duration": 3923,
    "start_time": "2022-10-29T11:01:22.825Z"
   },
   {
    "duration": 166,
    "start_time": "2022-10-29T11:01:26.750Z"
   },
   {
    "duration": 176,
    "start_time": "2022-10-29T11:01:26.918Z"
   },
   {
    "duration": 244,
    "start_time": "2022-10-29T11:01:27.095Z"
   },
   {
    "duration": 234,
    "start_time": "2022-10-29T11:01:27.342Z"
   },
   {
    "duration": 4,
    "start_time": "2022-10-29T11:01:27.578Z"
   },
   {
    "duration": 19,
    "start_time": "2022-10-29T11:01:27.585Z"
   },
   {
    "duration": 124,
    "start_time": "2022-10-29T11:01:27.606Z"
   },
   {
    "duration": 3,
    "start_time": "2022-10-29T11:01:27.732Z"
   },
   {
    "duration": 11,
    "start_time": "2022-10-29T11:01:27.737Z"
   },
   {
    "duration": 16,
    "start_time": "2022-10-29T11:01:27.749Z"
   },
   {
    "duration": 15,
    "start_time": "2022-10-29T11:01:27.767Z"
   },
   {
    "duration": 1005,
    "start_time": "2022-10-29T11:01:27.784Z"
   },
   {
    "duration": 3,
    "start_time": "2022-10-29T11:01:28.791Z"
   },
   {
    "duration": 17,
    "start_time": "2022-10-29T11:01:28.795Z"
   },
   {
    "duration": 17,
    "start_time": "2022-10-29T11:01:28.813Z"
   },
   {
    "duration": 11,
    "start_time": "2022-10-29T11:01:28.831Z"
   },
   {
    "duration": 25,
    "start_time": "2022-10-29T11:01:28.843Z"
   },
   {
    "duration": 36,
    "start_time": "2022-10-29T11:01:28.869Z"
   },
   {
    "duration": 10,
    "start_time": "2022-10-29T11:01:28.907Z"
   },
   {
    "duration": 20,
    "start_time": "2022-10-29T11:01:28.919Z"
   },
   {
    "duration": 11,
    "start_time": "2022-10-29T11:01:28.941Z"
   },
   {
    "duration": 7,
    "start_time": "2022-10-29T11:01:28.954Z"
   },
   {
    "duration": 21,
    "start_time": "2022-10-29T11:01:28.962Z"
   },
   {
    "duration": 30,
    "start_time": "2022-10-29T11:01:28.984Z"
   },
   {
    "duration": 198,
    "start_time": "2022-10-29T11:01:29.015Z"
   },
   {
    "duration": 11,
    "start_time": "2022-10-29T11:01:29.215Z"
   },
   {
    "duration": 0,
    "start_time": "2022-10-29T11:01:29.227Z"
   },
   {
    "duration": 0,
    "start_time": "2022-10-29T11:01:29.228Z"
   },
   {
    "duration": 225852,
    "start_time": "2022-10-29T11:04:32.898Z"
   },
   {
    "duration": 10,
    "start_time": "2022-10-29T11:08:39.564Z"
   },
   {
    "duration": 4,
    "start_time": "2022-10-29T11:09:56.021Z"
   },
   {
    "duration": 9,
    "start_time": "2022-10-29T11:09:59.506Z"
   },
   {
    "duration": 20,
    "start_time": "2022-10-29T11:10:00.265Z"
   },
   {
    "duration": 226160,
    "start_time": "2022-10-29T11:10:02.115Z"
   },
   {
    "duration": 8,
    "start_time": "2022-10-29T11:13:48.278Z"
   },
   {
    "duration": 8,
    "start_time": "2022-10-29T11:18:27.048Z"
   },
   {
    "duration": 720,
    "start_time": "2022-10-29T11:21:00.641Z"
   },
   {
    "duration": 5,
    "start_time": "2022-10-29T11:21:01.363Z"
   },
   {
    "duration": 3,
    "start_time": "2022-10-29T11:21:46.376Z"
   },
   {
    "duration": 6,
    "start_time": "2022-10-29T11:21:49.419Z"
   },
   {
    "duration": 11,
    "start_time": "2022-10-29T11:21:50.239Z"
   },
   {
    "duration": 224387,
    "start_time": "2022-10-29T11:21:53.633Z"
   },
   {
    "duration": 8,
    "start_time": "2022-10-29T11:25:38.022Z"
   },
   {
    "duration": 749,
    "start_time": "2022-10-29T11:25:38.032Z"
   },
   {
    "duration": 6,
    "start_time": "2022-10-29T11:25:38.783Z"
   },
   {
    "duration": 8784,
    "start_time": "2022-10-29T11:26:15.780Z"
   },
   {
    "duration": 6,
    "start_time": "2022-10-29T11:26:26.480Z"
   },
   {
    "duration": 1160,
    "start_time": "2022-11-23T14:29:17.443Z"
   }
  ],
  "kernelspec": {
   "display_name": "Python 3 (ipykernel)",
   "language": "python",
   "name": "python3"
  },
  "language_info": {
   "codemirror_mode": {
    "name": "ipython",
    "version": 3
   },
   "file_extension": ".py",
   "mimetype": "text/x-python",
   "name": "python",
   "nbconvert_exporter": "python",
   "pygments_lexer": "ipython3",
   "version": "3.9.12"
  },
  "toc": {
   "base_numbering": 1,
   "nav_menu": {},
   "number_sections": true,
   "sideBar": true,
   "skip_h1_title": true,
   "title_cell": "Содержание",
   "title_sidebar": "Contents",
   "toc_cell": true,
   "toc_position": {
    "height": "calc(100% - 180px)",
    "left": "10px",
    "top": "150px",
    "width": "165px"
   },
   "toc_section_display": true,
   "toc_window_display": false
  }
 },
 "nbformat": 4,
 "nbformat_minor": 2
}
