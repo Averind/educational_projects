{
 "cells": [
  {
   "cell_type": "markdown",
   "id": "765060e7",
   "metadata": {},
   "source": [
    "# Маркировка комментариев\n",
    "\n",
    "Интернет-магазин «Викишоп» запускает новый сервис: теперь клиенты могут редактировать и дополнять описания товаров, а также комментировать изменения, внесенные другими пользователями. \n",
    "\n",
    "Магазину нужен инструмент, который будет искать токсичные комментарии и отправлять их на модерацию."
   ]
  },
  {
   "cell_type": "markdown",
   "id": "0a447cb9",
   "metadata": {},
   "source": [
    "## Подготовка данных\n",
    "\n",
    "Загрузим и импортируем необходимые библиотеки."
   ]
  },
  {
   "cell_type": "code",
   "execution_count": 1,
   "id": "b4f58952",
   "metadata": {},
   "outputs": [
    {
     "name": "stderr",
     "output_type": "stream",
     "text": [
      "[nltk_data] Downloading package stopwords to\n",
      "[nltk_data]     C:\\Users\\Дима\\AppData\\Roaming\\nltk_data...\n",
      "[nltk_data]   Package stopwords is already up-to-date!\n",
      "[nltk_data] Downloading package wordnet to\n",
      "[nltk_data]     C:\\Users\\Дима\\AppData\\Roaming\\nltk_data...\n",
      "[nltk_data]   Package wordnet is already up-to-date!\n",
      "[nltk_data] Downloading package omw-1.4 to\n",
      "[nltk_data]     C:\\Users\\Дима\\AppData\\Roaming\\nltk_data...\n",
      "[nltk_data]   Package omw-1.4 is already up-to-date!\n"
     ]
    }
   ],
   "source": [
    "import pandas as pd\n",
    "import numpy as np\n",
    "import time\n",
    "import warnings\n",
    "warnings.simplefilter('ignore')\n",
    "\n",
    "from sklearn.preprocessing import OrdinalEncoder, OneHotEncoder\n",
    "from sklearn.model_selection import train_test_split\n",
    "from sklearn.preprocessing import StandardScaler\n",
    "from sklearn.pipeline import Pipeline\n",
    "from sklearn.linear_model import LinearRegression, LogisticRegression\n",
    "from sklearn.ensemble import RandomForestRegressor, RandomForestClassifier\n",
    "from sklearn.tree import DecisionTreeRegressor, DecisionTreeClassifier\n",
    "from lightgbm import LGBMRegressor, LGBMClassifier\n",
    "from catboost import CatBoostRegressor, CatBoostClassifier\n",
    "from sklearn.model_selection import GridSearchCV, KFold\n",
    "from sklearn.pipeline import Pipeline, make_pipeline\n",
    "import lightgbm as lgb\n",
    "from sklearn.metrics import make_scorer, mean_squared_error, accuracy_score, f1_score\n",
    "from sklearn.model_selection import cross_val_score, cross_val_predict\n",
    "from sklearn.feature_selection import RFE\n",
    "from statsmodels.tsa.seasonal import seasonal_decompose\n",
    "import matplotlib.pyplot as plt\n",
    "import seaborn as sns\n",
    "from sklearn.model_selection import TimeSeriesSplit\n",
    "from pymystem3 import Mystem\n",
    "import re\n",
    "from sklearn.feature_extraction.text import CountVectorizer, TfidfVectorizer\n",
    "import nltk\n",
    "nltk.download('stopwords')\n",
    "nltk.download('wordnet')\n",
    "from nltk.stem import WordNetLemmatizer\n",
    "nltk.download('omw-1.4')\n",
    "from nltk.corpus import stopwords as nltk_stopwords\n",
    "from tqdm.notebook import tqdm\n",
    "tqdm.pandas()\n",
    "import spacy\n",
    "from sklearn.utils import shuffle\n",
    "import sys"
   ]
  },
  {
   "cell_type": "markdown",
   "id": "28d8fa71",
   "metadata": {},
   "source": [
    "Сохраним данные в датафрейм."
   ]
  },
  {
   "cell_type": "code",
   "execution_count": 75,
   "id": "17633da8",
   "metadata": {},
   "outputs": [],
   "source": [
    "df = pd.read_csv('toxic_comments.csv')"
   ]
  },
  {
   "cell_type": "markdown",
   "id": "8ceeb48a",
   "metadata": {},
   "source": [
    "### Изучение данных\n",
    "\n",
    "#### Общее изучение данных\n",
    "\n",
    "Выведем общую информацию о датафрейме, а также первые и последние 5 строк."
   ]
  },
  {
   "cell_type": "code",
   "execution_count": 5,
   "id": "599ead11",
   "metadata": {},
   "outputs": [
    {
     "name": "stdout",
     "output_type": "stream",
     "text": [
      "<class 'pandas.core.frame.DataFrame'>\n",
      "RangeIndex: 159292 entries, 0 to 159291\n",
      "Data columns (total 4 columns):\n",
      " #   Column      Non-Null Count   Dtype \n",
      "---  ------      --------------   ----- \n",
      " 0   Unnamed: 0  159292 non-null  int64 \n",
      " 1   text        159292 non-null  object\n",
      " 2   toxic       159292 non-null  int64 \n",
      " 3   lemm_text   159281 non-null  object\n",
      "dtypes: int64(2), object(2)\n",
      "memory usage: 4.9+ MB\n"
     ]
    }
   ],
   "source": [
    "df.info()"
   ]
  },
  {
   "cell_type": "code",
   "execution_count": 6,
   "id": "214a9b2e",
   "metadata": {},
   "outputs": [
    {
     "data": {
      "text/html": [
       "<div>\n",
       "<style scoped>\n",
       "    .dataframe tbody tr th:only-of-type {\n",
       "        vertical-align: middle;\n",
       "    }\n",
       "\n",
       "    .dataframe tbody tr th {\n",
       "        vertical-align: top;\n",
       "    }\n",
       "\n",
       "    .dataframe thead th {\n",
       "        text-align: right;\n",
       "    }\n",
       "</style>\n",
       "<table border=\"1\" class=\"dataframe\">\n",
       "  <thead>\n",
       "    <tr style=\"text-align: right;\">\n",
       "      <th></th>\n",
       "      <th>Unnamed: 0</th>\n",
       "      <th>text</th>\n",
       "      <th>toxic</th>\n",
       "      <th>lemm_text</th>\n",
       "    </tr>\n",
       "  </thead>\n",
       "  <tbody>\n",
       "    <tr>\n",
       "      <th>0</th>\n",
       "      <td>0</td>\n",
       "      <td>Explanation\\nWhy the edits made under my usern...</td>\n",
       "      <td>0</td>\n",
       "      <td>Explanation why the edit make under my usernam...</td>\n",
       "    </tr>\n",
       "    <tr>\n",
       "      <th>1</th>\n",
       "      <td>1</td>\n",
       "      <td>D'aww! He matches this background colour I'm s...</td>\n",
       "      <td>0</td>\n",
       "      <td>D aww he match this background colour I m seem...</td>\n",
       "    </tr>\n",
       "    <tr>\n",
       "      <th>2</th>\n",
       "      <td>2</td>\n",
       "      <td>Hey man, I'm really not trying to edit war. It...</td>\n",
       "      <td>0</td>\n",
       "      <td>hey man I m really not try to edit war it s ju...</td>\n",
       "    </tr>\n",
       "    <tr>\n",
       "      <th>3</th>\n",
       "      <td>3</td>\n",
       "      <td>\"\\nMore\\nI can't make any real suggestions on ...</td>\n",
       "      <td>0</td>\n",
       "      <td>More I can t make any real suggestion on impro...</td>\n",
       "    </tr>\n",
       "    <tr>\n",
       "      <th>4</th>\n",
       "      <td>4</td>\n",
       "      <td>You, sir, are my hero. Any chance you remember...</td>\n",
       "      <td>0</td>\n",
       "      <td>you sir be my hero any chance you remember wha...</td>\n",
       "    </tr>\n",
       "    <tr>\n",
       "      <th>...</th>\n",
       "      <td>...</td>\n",
       "      <td>...</td>\n",
       "      <td>...</td>\n",
       "      <td>...</td>\n",
       "    </tr>\n",
       "    <tr>\n",
       "      <th>159287</th>\n",
       "      <td>159287</td>\n",
       "      <td>\":::::And for the second time of asking, when ...</td>\n",
       "      <td>0</td>\n",
       "      <td>and for the second time of ask when your view ...</td>\n",
       "    </tr>\n",
       "    <tr>\n",
       "      <th>159288</th>\n",
       "      <td>159288</td>\n",
       "      <td>You should be ashamed of yourself \\n\\nThat is ...</td>\n",
       "      <td>0</td>\n",
       "      <td>you should be ashamed of yourself that be a ho...</td>\n",
       "    </tr>\n",
       "    <tr>\n",
       "      <th>159289</th>\n",
       "      <td>159289</td>\n",
       "      <td>Spitzer \\n\\nUmm, theres no actual article for ...</td>\n",
       "      <td>0</td>\n",
       "      <td>Spitzer Umm there s no actual article for pros...</td>\n",
       "    </tr>\n",
       "    <tr>\n",
       "      <th>159290</th>\n",
       "      <td>159290</td>\n",
       "      <td>And it looks like it was actually you who put ...</td>\n",
       "      <td>0</td>\n",
       "      <td>and it look like it be actually you who put on...</td>\n",
       "    </tr>\n",
       "    <tr>\n",
       "      <th>159291</th>\n",
       "      <td>159291</td>\n",
       "      <td>\"\\nAnd ... I really don't think you understand...</td>\n",
       "      <td>0</td>\n",
       "      <td>and I really don t think you understand I come...</td>\n",
       "    </tr>\n",
       "  </tbody>\n",
       "</table>\n",
       "<p>159292 rows × 4 columns</p>\n",
       "</div>"
      ],
      "text/plain": [
       "        Unnamed: 0                                               text  toxic  \\\n",
       "0                0  Explanation\\nWhy the edits made under my usern...      0   \n",
       "1                1  D'aww! He matches this background colour I'm s...      0   \n",
       "2                2  Hey man, I'm really not trying to edit war. It...      0   \n",
       "3                3  \"\\nMore\\nI can't make any real suggestions on ...      0   \n",
       "4                4  You, sir, are my hero. Any chance you remember...      0   \n",
       "...            ...                                                ...    ...   \n",
       "159287      159287  \":::::And for the second time of asking, when ...      0   \n",
       "159288      159288  You should be ashamed of yourself \\n\\nThat is ...      0   \n",
       "159289      159289  Spitzer \\n\\nUmm, theres no actual article for ...      0   \n",
       "159290      159290  And it looks like it was actually you who put ...      0   \n",
       "159291      159291  \"\\nAnd ... I really don't think you understand...      0   \n",
       "\n",
       "                                                lemm_text  \n",
       "0       Explanation why the edit make under my usernam...  \n",
       "1       D aww he match this background colour I m seem...  \n",
       "2       hey man I m really not try to edit war it s ju...  \n",
       "3       More I can t make any real suggestion on impro...  \n",
       "4       you sir be my hero any chance you remember wha...  \n",
       "...                                                   ...  \n",
       "159287  and for the second time of ask when your view ...  \n",
       "159288  you should be ashamed of yourself that be a ho...  \n",
       "159289  Spitzer Umm there s no actual article for pros...  \n",
       "159290  and it look like it be actually you who put on...  \n",
       "159291  and I really don t think you understand I come...  \n",
       "\n",
       "[159292 rows x 4 columns]"
      ]
     },
     "execution_count": 6,
     "metadata": {},
     "output_type": "execute_result"
    }
   ],
   "source": [
    "df"
   ]
  },
  {
   "cell_type": "markdown",
   "id": "76fb7925",
   "metadata": {},
   "source": [
    "Построим гистограмму."
   ]
  },
  {
   "cell_type": "code",
   "execution_count": 7,
   "id": "6ab0bb1f",
   "metadata": {},
   "outputs": [
    {
     "data": {
      "image/png": "[encoded data removed]",
      "text/plain": [
       "<Figure size 432x288 with 1 Axes>"
      ]
     },
     "metadata": {
      "needs_background": "light"
     },
     "output_type": "display_data"
    }
   ],
   "source": [
    "df['toxic'].hist();"
   ]
  },
  {
   "cell_type": "markdown",
   "id": "5be71ae2",
   "metadata": {},
   "source": [
    "**Налицо дисбаланс классов**.\n",
    "\n",
    "Выведем соотношение комментариев."
   ]
  },
  {
   "cell_type": "code",
   "execution_count": 8,
   "id": "962d74dd",
   "metadata": {},
   "outputs": [
    {
     "data": {
      "text/plain": [
       "8.841344371679229"
      ]
     },
     "execution_count": 8,
     "metadata": {},
     "output_type": "execute_result"
    }
   ],
   "source": [
    "(\n",
    "    df.query('toxic == 0')['toxic'].count() /\n",
    "    df.query('toxic == 1')['toxic'].count()\n",
    ")"
   ]
  },
  {
   "cell_type": "markdown",
   "id": "32721204",
   "metadata": {},
   "source": [
    "## Предобработка данных\n",
    "\n",
    "Удалим столбец Unnamed: 0."
   ]
  },
  {
   "cell_type": "code",
   "execution_count": 9,
   "id": "1a93685c",
   "metadata": {},
   "outputs": [],
   "source": [
    "df = df.drop('Unnamed: 0', axis=1)"
   ]
  },
  {
   "cell_type": "markdown",
   "id": "2b5f3745",
   "metadata": {},
   "source": [
    "## Подготовка данных к машинному обучению"
   ]
  },
  {
   "cell_type": "markdown",
   "id": "303933dc",
   "metadata": {},
   "source": [
    "### Создание корпуса"
   ]
  },
  {
   "cell_type": "code",
   "execution_count": 10,
   "id": "11c627b1",
   "metadata": {},
   "outputs": [],
   "source": [
    "corpus = list(df['text'])"
   ]
  },
  {
   "cell_type": "markdown",
   "id": "3ac8f0d8",
   "metadata": {},
   "source": [
    "### Лемматизация"
   ]
  },
  {
   "cell_type": "code",
   "execution_count": 11,
   "id": "2f3343f6",
   "metadata": {},
   "outputs": [],
   "source": [
    "def clear_text(text):\n",
    "    text = re.sub(r'[^a-zA-Z ]', ' ', text)\n",
    "    text = ' '.join(text.split())\n",
    "    \n",
    "    return text"
   ]
  },
  {
   "cell_type": "code",
   "execution_count": 12,
   "id": "00c4afcd",
   "metadata": {},
   "outputs": [],
   "source": [
    "nlp = spacy.load(\"en_core_web_sm\")\n",
    "\n",
    "def lemmatize(text):\n",
    "    raw_text = nlp(text)\n",
    "    lemm_text = \" \".join([token.lemma_ for token in raw_text])\n",
    "        \n",
    "    return lemm_text"
   ]
  },
  {
   "cell_type": "code",
   "execution_count": null,
   "id": "13d09de4",
   "metadata": {},
   "outputs": [],
   "source": [
    "%%time \n",
    "\n",
    "df['lemm_text'] = df['text'].progress_apply(clear_text)\n",
    "df['lemm_text'] = df['lemm_text'].progress_apply(lemmatize)"
   ]
  },
  {
   "cell_type": "code",
   "execution_count": 13,
   "id": "aa0d107d",
   "metadata": {},
   "outputs": [
    {
     "data": {
      "text/html": [
       "<div>\n",
       "<style scoped>\n",
       "    .dataframe tbody tr th:only-of-type {\n",
       "        vertical-align: middle;\n",
       "    }\n",
       "\n",
       "    .dataframe tbody tr th {\n",
       "        vertical-align: top;\n",
       "    }\n",
       "\n",
       "    .dataframe thead th {\n",
       "        text-align: right;\n",
       "    }\n",
       "</style>\n",
       "<table border=\"1\" class=\"dataframe\">\n",
       "  <thead>\n",
       "    <tr style=\"text-align: right;\">\n",
       "      <th></th>\n",
       "      <th>text</th>\n",
       "      <th>toxic</th>\n",
       "      <th>lemm_text</th>\n",
       "    </tr>\n",
       "  </thead>\n",
       "  <tbody>\n",
       "    <tr>\n",
       "      <th>0</th>\n",
       "      <td>Explanation\\nWhy the edits made under my usern...</td>\n",
       "      <td>0</td>\n",
       "      <td>Explanation why the edit make under my usernam...</td>\n",
       "    </tr>\n",
       "    <tr>\n",
       "      <th>1</th>\n",
       "      <td>D'aww! He matches this background colour I'm s...</td>\n",
       "      <td>0</td>\n",
       "      <td>D aww he match this background colour I m seem...</td>\n",
       "    </tr>\n",
       "    <tr>\n",
       "      <th>2</th>\n",
       "      <td>Hey man, I'm really not trying to edit war. It...</td>\n",
       "      <td>0</td>\n",
       "      <td>hey man I m really not try to edit war it s ju...</td>\n",
       "    </tr>\n",
       "    <tr>\n",
       "      <th>3</th>\n",
       "      <td>\"\\nMore\\nI can't make any real suggestions on ...</td>\n",
       "      <td>0</td>\n",
       "      <td>More I can t make any real suggestion on impro...</td>\n",
       "    </tr>\n",
       "    <tr>\n",
       "      <th>4</th>\n",
       "      <td>You, sir, are my hero. Any chance you remember...</td>\n",
       "      <td>0</td>\n",
       "      <td>you sir be my hero any chance you remember wha...</td>\n",
       "    </tr>\n",
       "    <tr>\n",
       "      <th>...</th>\n",
       "      <td>...</td>\n",
       "      <td>...</td>\n",
       "      <td>...</td>\n",
       "    </tr>\n",
       "    <tr>\n",
       "      <th>159287</th>\n",
       "      <td>\":::::And for the second time of asking, when ...</td>\n",
       "      <td>0</td>\n",
       "      <td>and for the second time of ask when your view ...</td>\n",
       "    </tr>\n",
       "    <tr>\n",
       "      <th>159288</th>\n",
       "      <td>You should be ashamed of yourself \\n\\nThat is ...</td>\n",
       "      <td>0</td>\n",
       "      <td>you should be ashamed of yourself that be a ho...</td>\n",
       "    </tr>\n",
       "    <tr>\n",
       "      <th>159289</th>\n",
       "      <td>Spitzer \\n\\nUmm, theres no actual article for ...</td>\n",
       "      <td>0</td>\n",
       "      <td>Spitzer Umm there s no actual article for pros...</td>\n",
       "    </tr>\n",
       "    <tr>\n",
       "      <th>159290</th>\n",
       "      <td>And it looks like it was actually you who put ...</td>\n",
       "      <td>0</td>\n",
       "      <td>and it look like it be actually you who put on...</td>\n",
       "    </tr>\n",
       "    <tr>\n",
       "      <th>159291</th>\n",
       "      <td>\"\\nAnd ... I really don't think you understand...</td>\n",
       "      <td>0</td>\n",
       "      <td>and I really don t think you understand I come...</td>\n",
       "    </tr>\n",
       "  </tbody>\n",
       "</table>\n",
       "<p>159292 rows × 3 columns</p>\n",
       "</div>"
      ],
      "text/plain": [
       "                                                     text  toxic  \\\n",
       "0       Explanation\\nWhy the edits made under my usern...      0   \n",
       "1       D'aww! He matches this background colour I'm s...      0   \n",
       "2       Hey man, I'm really not trying to edit war. It...      0   \n",
       "3       \"\\nMore\\nI can't make any real suggestions on ...      0   \n",
       "4       You, sir, are my hero. Any chance you remember...      0   \n",
       "...                                                   ...    ...   \n",
       "159287  \":::::And for the second time of asking, when ...      0   \n",
       "159288  You should be ashamed of yourself \\n\\nThat is ...      0   \n",
       "159289  Spitzer \\n\\nUmm, theres no actual article for ...      0   \n",
       "159290  And it looks like it was actually you who put ...      0   \n",
       "159291  \"\\nAnd ... I really don't think you understand...      0   \n",
       "\n",
       "                                                lemm_text  \n",
       "0       Explanation why the edit make under my usernam...  \n",
       "1       D aww he match this background colour I m seem...  \n",
       "2       hey man I m really not try to edit war it s ju...  \n",
       "3       More I can t make any real suggestion on impro...  \n",
       "4       you sir be my hero any chance you remember wha...  \n",
       "...                                                   ...  \n",
       "159287  and for the second time of ask when your view ...  \n",
       "159288  you should be ashamed of yourself that be a ho...  \n",
       "159289  Spitzer Umm there s no actual article for pros...  \n",
       "159290  and it look like it be actually you who put on...  \n",
       "159291  and I really don t think you understand I come...  \n",
       "\n",
       "[159292 rows x 3 columns]"
      ]
     },
     "execution_count": 13,
     "metadata": {},
     "output_type": "execute_result"
    }
   ],
   "source": [
    "df"
   ]
  },
  {
   "cell_type": "markdown",
   "id": "d14a8d68",
   "metadata": {},
   "source": [
    "### Разбивка данных на выборки"
   ]
  },
  {
   "cell_type": "code",
   "execution_count": 31,
   "id": "a72916b1",
   "metadata": {},
   "outputs": [],
   "source": [
    "(\n",
    "    df_train, df_test,\n",
    "    corpus_train, corpus_test,\n",
    "    y_train, y_test\n",
    ") = train_test_split(df,\n",
    "                     df['lemm_text'].values.astype('U'),\n",
    "                     df['toxic'],\n",
    "                     test_size=.1,\n",
    "                     random_state=12345)"
   ]
  },
  {
   "cell_type": "markdown",
   "id": "098c6668",
   "metadata": {},
   "source": [
    "### TF-IDF"
   ]
  },
  {
   "cell_type": "code",
   "execution_count": 32,
   "id": "b78766c3",
   "metadata": {},
   "outputs": [],
   "source": [
    "count_tf_idf = TfidfVectorizer(stop_words=set(nltk_stopwords.words('english')))"
   ]
  },
  {
   "cell_type": "code",
   "execution_count": 33,
   "id": "18431205",
   "metadata": {},
   "outputs": [
    {
     "data": {
      "text/html": [
       "<div>\n",
       "<style scoped>\n",
       "    .dataframe tbody tr th:only-of-type {\n",
       "        vertical-align: middle;\n",
       "    }\n",
       "\n",
       "    .dataframe tbody tr th {\n",
       "        vertical-align: top;\n",
       "    }\n",
       "\n",
       "    .dataframe thead th {\n",
       "        text-align: right;\n",
       "    }\n",
       "</style>\n",
       "<table border=\"1\" class=\"dataframe\">\n",
       "  <thead>\n",
       "    <tr style=\"text-align: right;\">\n",
       "      <th></th>\n",
       "      <th>0</th>\n",
       "    </tr>\n",
       "  </thead>\n",
       "  <tbody>\n",
       "    <tr>\n",
       "      <th>0</th>\n",
       "      <td>(0, 59005)\\t0.199172839095367\\n  (0, 127965)...</td>\n",
       "    </tr>\n",
       "    <tr>\n",
       "      <th>1</th>\n",
       "      <td>(0, 40511)\\t0.19075424015601178\\n  (0, 11803...</td>\n",
       "    </tr>\n",
       "    <tr>\n",
       "      <th>2</th>\n",
       "      <td>(0, 114975)\\t0.09738204185888782\\n  (0, 9248...</td>\n",
       "    </tr>\n",
       "    <tr>\n",
       "      <th>3</th>\n",
       "      <td>(0, 8055)\\t0.17866335905994768\\n  (0, 1415)\\...</td>\n",
       "    </tr>\n",
       "    <tr>\n",
       "      <th>4</th>\n",
       "      <td>(0, 130261)\\t0.11026286338022546\\n  (0, 1275...</td>\n",
       "    </tr>\n",
       "    <tr>\n",
       "      <th>...</th>\n",
       "      <td>...</td>\n",
       "    </tr>\n",
       "    <tr>\n",
       "      <th>143357</th>\n",
       "      <td>(0, 41138)\\t0.46220412241401815\\n  (0, 54573...</td>\n",
       "    </tr>\n",
       "    <tr>\n",
       "      <th>143358</th>\n",
       "      <td>(0, 78573)\\t1.0</td>\n",
       "    </tr>\n",
       "    <tr>\n",
       "      <th>143359</th>\n",
       "      <td>(0, 138802)\\t0.19947411265277437\\n  (0, 1303...</td>\n",
       "    </tr>\n",
       "    <tr>\n",
       "      <th>143360</th>\n",
       "      <td>(0, 130696)\\t0.4995659920643137\\n  (0, 69841...</td>\n",
       "    </tr>\n",
       "    <tr>\n",
       "      <th>143361</th>\n",
       "      <td>(0, 136110)\\t0.6885418843887191\\n  (0, 16830...</td>\n",
       "    </tr>\n",
       "  </tbody>\n",
       "</table>\n",
       "<p>143362 rows × 1 columns</p>\n",
       "</div>"
      ],
      "text/plain": [
       "                                                        0\n",
       "0         (0, 59005)\\t0.199172839095367\\n  (0, 127965)...\n",
       "1         (0, 40511)\\t0.19075424015601178\\n  (0, 11803...\n",
       "2         (0, 114975)\\t0.09738204185888782\\n  (0, 9248...\n",
       "3         (0, 8055)\\t0.17866335905994768\\n  (0, 1415)\\...\n",
       "4         (0, 130261)\\t0.11026286338022546\\n  (0, 1275...\n",
       "...                                                   ...\n",
       "143357    (0, 41138)\\t0.46220412241401815\\n  (0, 54573...\n",
       "143358                                    (0, 78573)\\t1.0\n",
       "143359    (0, 138802)\\t0.19947411265277437\\n  (0, 1303...\n",
       "143360    (0, 130696)\\t0.4995659920643137\\n  (0, 69841...\n",
       "143361    (0, 136110)\\t0.6885418843887191\\n  (0, 16830...\n",
       "\n",
       "[143362 rows x 1 columns]"
      ]
     },
     "execution_count": 33,
     "metadata": {},
     "output_type": "execute_result"
    }
   ],
   "source": [
    "tf_idf_train = count_tf_idf.fit_transform(corpus_train)\n",
    "\n",
    "pd.DataFrame(tf_idf_train)"
   ]
  },
  {
   "cell_type": "code",
   "execution_count": 34,
   "id": "0852a251",
   "metadata": {},
   "outputs": [
    {
     "data": {
      "text/html": [
       "<div>\n",
       "<style scoped>\n",
       "    .dataframe tbody tr th:only-of-type {\n",
       "        vertical-align: middle;\n",
       "    }\n",
       "\n",
       "    .dataframe tbody tr th {\n",
       "        vertical-align: top;\n",
       "    }\n",
       "\n",
       "    .dataframe thead th {\n",
       "        text-align: right;\n",
       "    }\n",
       "</style>\n",
       "<table border=\"1\" class=\"dataframe\">\n",
       "  <thead>\n",
       "    <tr style=\"text-align: right;\">\n",
       "      <th></th>\n",
       "      <th>0</th>\n",
       "    </tr>\n",
       "  </thead>\n",
       "  <tbody>\n",
       "    <tr>\n",
       "      <th>0</th>\n",
       "      <td>(0, 144568)\\t0.18597820644763954\\n  (0, 1380...</td>\n",
       "    </tr>\n",
       "    <tr>\n",
       "      <th>1</th>\n",
       "      <td>(0, 126771)\\t0.21664798401374535\\n  (0, 8955...</td>\n",
       "    </tr>\n",
       "    <tr>\n",
       "      <th>2</th>\n",
       "      <td>(0, 126771)\\t0.1365726979401494\\n  (0, 11777...</td>\n",
       "    </tr>\n",
       "    <tr>\n",
       "      <th>3</th>\n",
       "      <td>(0, 135029)\\t0.2061014099533578\\n  (0, 13388...</td>\n",
       "    </tr>\n",
       "    <tr>\n",
       "      <th>4</th>\n",
       "      <td>(0, 144568)\\t0.19095453857455064\\n  (0, 1428...</td>\n",
       "    </tr>\n",
       "    <tr>\n",
       "      <th>...</th>\n",
       "      <td>...</td>\n",
       "    </tr>\n",
       "    <tr>\n",
       "      <th>15925</th>\n",
       "      <td>(0, 140631)\\t0.5087649959044391\\n  (0, 12677...</td>\n",
       "    </tr>\n",
       "    <tr>\n",
       "      <th>15926</th>\n",
       "      <td>(0, 140631)\\t0.24782808424260955\\n  (0, 1285...</td>\n",
       "    </tr>\n",
       "    <tr>\n",
       "      <th>15927</th>\n",
       "      <td>(0, 144361)\\t0.071012929993899\\n  (0, 142208...</td>\n",
       "    </tr>\n",
       "    <tr>\n",
       "      <th>15928</th>\n",
       "      <td>(0, 144568)\\t0.06302087620682466\\n  (0, 1443...</td>\n",
       "    </tr>\n",
       "    <tr>\n",
       "      <th>15929</th>\n",
       "      <td>(0, 144231)\\t0.12121005000462753\\n  (0, 1369...</td>\n",
       "    </tr>\n",
       "  </tbody>\n",
       "</table>\n",
       "<p>15930 rows × 1 columns</p>\n",
       "</div>"
      ],
      "text/plain": [
       "                                                       0\n",
       "0        (0, 144568)\\t0.18597820644763954\\n  (0, 1380...\n",
       "1        (0, 126771)\\t0.21664798401374535\\n  (0, 8955...\n",
       "2        (0, 126771)\\t0.1365726979401494\\n  (0, 11777...\n",
       "3        (0, 135029)\\t0.2061014099533578\\n  (0, 13388...\n",
       "4        (0, 144568)\\t0.19095453857455064\\n  (0, 1428...\n",
       "...                                                  ...\n",
       "15925    (0, 140631)\\t0.5087649959044391\\n  (0, 12677...\n",
       "15926    (0, 140631)\\t0.24782808424260955\\n  (0, 1285...\n",
       "15927    (0, 144361)\\t0.071012929993899\\n  (0, 142208...\n",
       "15928    (0, 144568)\\t0.06302087620682466\\n  (0, 1443...\n",
       "15929    (0, 144231)\\t0.12121005000462753\\n  (0, 1369...\n",
       "\n",
       "[15930 rows x 1 columns]"
      ]
     },
     "execution_count": 34,
     "metadata": {},
     "output_type": "execute_result"
    }
   ],
   "source": [
    "tf_idf_test = count_tf_idf.transform(corpus_test)\n",
    "\n",
    "pd.DataFrame(tf_idf_test)"
   ]
  },
  {
   "cell_type": "markdown",
   "id": "e0d8129e",
   "metadata": {},
   "source": [
    "## Машинное обучение"
   ]
  },
  {
   "cell_type": "markdown",
   "id": "f40a4805",
   "metadata": {},
   "source": [
    "### LogisticRegression"
   ]
  },
  {
   "cell_type": "code",
   "execution_count": 39,
   "id": "e97fdbc4",
   "metadata": {},
   "outputs": [],
   "source": [
    "param_set = {\n",
    "      'C'         : [5,6,7,8,9,10,11,12,13,14,15]\n",
    "}\n",
    "\n",
    "grid_lr = GridSearchCV(LogisticRegression(random_state=12345), param_grid=param_set, scoring='f1')"
   ]
  },
  {
   "cell_type": "code",
   "execution_count": 40,
   "id": "0ea37f5b",
   "metadata": {},
   "outputs": [
    {
     "name": "stdout",
     "output_type": "stream",
     "text": [
      "CPU times: total: 17min 11s\n",
      "Wall time: 4min 25s\n"
     ]
    },
    {
     "data": {
      "text/plain": [
       "GridSearchCV(estimator=LogisticRegression(random_state=12345),\n",
       "             param_grid={'C': [5, 6, 7, 8, 9, 10, 11, 12, 13, 14, 15]},\n",
       "             scoring='f1')"
      ]
     },
     "execution_count": 40,
     "metadata": {},
     "output_type": "execute_result"
    }
   ],
   "source": [
    "%%time\n",
    "\n",
    "grid_lr.fit(tf_idf_train, y_train)"
   ]
  },
  {
   "cell_type": "code",
   "execution_count": 41,
   "id": "d0b6eaf4",
   "metadata": {},
   "outputs": [
    {
     "data": {
      "text/plain": [
       "(0.7719796305300336, {'C': 14})"
      ]
     },
     "execution_count": 41,
     "metadata": {},
     "output_type": "execute_result"
    }
   ],
   "source": [
    "grid_lr.best_score_, grid_lr.best_params_"
   ]
  },
  {
   "cell_type": "markdown",
   "id": "b8c74505",
   "metadata": {},
   "source": [
    "### CatBoostClassifier"
   ]
  },
  {
   "cell_type": "code",
   "execution_count": null,
   "id": "e2eae24a",
   "metadata": {},
   "outputs": [],
   "source": [
    "param_set = {\n",
    "      'depth'         : [4,7],\n",
    "      'learning_rate' : [0.02,0.04],\n",
    "      'iterations'    : [5,10]\n",
    "}\n",
    "\n",
    "grid_catboost = GridSearchCV(CatBoostClassifier(random_state=12345), param_grid=param_set, scoring='f1')"
   ]
  },
  {
   "cell_type": "code",
   "execution_count": null,
   "id": "0f8f6d48",
   "metadata": {},
   "outputs": [],
   "source": [
    "%%time\n",
    "\n",
    "grid_catboost.fit(tf_idf_train, y_train)"
   ]
  },
  {
   "cell_type": "code",
   "execution_count": null,
   "id": "d4fdbf11",
   "metadata": {},
   "outputs": [],
   "source": [
    "grid_catboost.best_score_, grid_catboost.best_params_"
   ]
  },
  {
   "cell_type": "markdown",
   "id": "10e68195",
   "metadata": {},
   "source": [
    "### LGBMClassifier"
   ]
  },
  {
   "cell_type": "code",
   "execution_count": null,
   "id": "832c82e9",
   "metadata": {},
   "outputs": [],
   "source": [
    "param_set = {\n",
    "    'num_leaves': [21],\n",
    "    'learning_rate': [0.1],\n",
    "    'max_depth': [7],\n",
    "    'n_estimators': [100],\n",
    "}\n",
    "\n",
    "grid_lgbm = GridSearchCV(lgb.LGBMClassifier(random_state=12345), param_grid=param_set, scoring='f1')"
   ]
  },
  {
   "cell_type": "code",
   "execution_count": null,
   "id": "32b2d2b6",
   "metadata": {},
   "outputs": [],
   "source": [
    "%%time\n",
    "\n",
    "grid_lgbm.fit(tf_idf_train, y_train)"
   ]
  },
  {
   "cell_type": "code",
   "execution_count": null,
   "id": "e9044723",
   "metadata": {},
   "outputs": [],
   "source": [
    "grid_lgbm.best_score_, grid_lgbm.best_params_"
   ]
  },
  {
   "cell_type": "markdown",
   "id": "796497ca",
   "metadata": {},
   "source": [
    "### Метрики моделей"
   ]
  },
  {
   "cell_type": "code",
   "execution_count": null,
   "id": "5ae85f41",
   "metadata": {},
   "outputs": [],
   "source": [
    "results = pd.DataFrame(\n",
    "    [grid_lr.best_score_,grid_lgbm.best_score_,grid_catboost.best_score_],\n",
    "    index=['LogisticRegression','LGBM','CatBoost'])\n",
    "\n",
    "display(results)\n",
    "print(f'Наименьшее значение метрики - {results[0].max():.3f} \\\n",
    "- у {results[results[0].abs() == results[0].max()].index}')"
   ]
  },
  {
   "cell_type": "markdown",
   "id": "d3e0e740",
   "metadata": {},
   "source": [
    "### Проверка лучшей модели\n",
    "\n",
    "Проверим лучшую модель на тестовой выборке.\n",
    "\n",
    "Примем пороговое значение метрики F1 0.75."
   ]
  },
  {
   "cell_type": "code",
   "execution_count": 46,
   "id": "075751d3",
   "metadata": {},
   "outputs": [],
   "source": [
    "THRESHOLD_F1 = .75"
   ]
  },
  {
   "cell_type": "code",
   "execution_count": 47,
   "id": "d18cf4e1",
   "metadata": {},
   "outputs": [
    {
     "name": "stdout",
     "output_type": "stream",
     "text": [
      "LogisticRegression\n",
      "Score: 0.782188470831895\n",
      "\n",
      "Значение метрики F1-меры на тестовой выборке составило 0.782, что оказалось выше порогового значения 0.75.\n",
      "Мы успешно справились с заданием.\n"
     ]
    }
   ],
   "source": [
    "pred = grid_lr.best_estimator_.predict(tf_idf_test)\n",
    "score = f1_score(y_test, pred)\n",
    "print(f'LogisticRegression\\nScore: {score}')\n",
    "print()\n",
    "\n",
    "if score >= THRESHOLD_F1:\n",
    "    print(f'Значение метрики F1-меры на тестовой выборке составило {score:.3f}, \\\n",
    "что оказалось выше порогового значения {THRESHOLD_F1}.\\nМы успешно справились с заданием.')\n",
    "elif score < THRESHOLD_F1:\n",
    "    print(f'Значение метрики F1-меры на тестовой выборке составило {score:.3f}, \\\n",
    "что оказалось ниже порогового значения {THRESHOLD_F1}.\\nЭто фиаско.')    "
   ]
  },
  {
   "cell_type": "markdown",
   "id": "a470b0c0",
   "metadata": {},
   "source": [
    "## Машинное обучение с пайплайном"
   ]
  },
  {
   "cell_type": "markdown",
   "id": "75a780c1",
   "metadata": {},
   "source": [
    "### LogisticRegression"
   ]
  },
  {
   "cell_type": "code",
   "execution_count": 70,
   "id": "bae76eec",
   "metadata": {},
   "outputs": [],
   "source": [
    "lr_pipeline = Pipeline([\n",
    "  (\"countvectorizer\", CountVectorizer()),\n",
    "  (\"clf\", LogisticRegression(random_state=12345, C=14))\n",
    "])"
   ]
  },
  {
   "cell_type": "code",
   "execution_count": 71,
   "id": "9b9f4d88",
   "metadata": {},
   "outputs": [],
   "source": [
    "param_set = {}\n",
    "\n",
    "grid_lr_pipeline = GridSearchCV(lr_pipeline, param_grid=param_set, scoring='f1')"
   ]
  },
  {
   "cell_type": "code",
   "execution_count": 72,
   "id": "62e52a11",
   "metadata": {},
   "outputs": [
    {
     "name": "stdout",
     "output_type": "stream",
     "text": [
      "CPU times: total: 2min 21s\n",
      "Wall time: 1min 48s\n"
     ]
    },
    {
     "data": {
      "text/plain": [
       "GridSearchCV(estimator=Pipeline(steps=[('countvectorizer', CountVectorizer()),\n",
       "                                       ('clf',\n",
       "                                        LogisticRegression(C=14,\n",
       "                                                           random_state=12345))]),\n",
       "             param_grid={}, scoring='f1')"
      ]
     },
     "execution_count": 72,
     "metadata": {},
     "output_type": "execute_result"
    }
   ],
   "source": [
    "%%time\n",
    "\n",
    "grid_lr_pipeline.fit(pd.Series(corpus_train), y_train)"
   ]
  },
  {
   "cell_type": "code",
   "execution_count": 73,
   "id": "8b1cec9d",
   "metadata": {},
   "outputs": [
    {
     "data": {
      "text/plain": [
       "(0.7723280271188874, {})"
      ]
     },
     "execution_count": 73,
     "metadata": {},
     "output_type": "execute_result"
    }
   ],
   "source": [
    "grid_lr_pipeline.best_score_, grid_lr_pipeline.best_params_"
   ]
  },
  {
   "cell_type": "markdown",
   "id": "00f93b1b",
   "metadata": {},
   "source": [
    "### Проверка лучшей модели\n",
    "Проверим лучшую модель на тестовой выборке.\n",
    "\n",
    "Примем пороговое значение F1-меры 0.75."
   ]
  },
  {
   "cell_type": "code",
   "execution_count": 74,
   "id": "11326887",
   "metadata": {
    "scrolled": true
   },
   "outputs": [
    {
     "name": "stdout",
     "output_type": "stream",
     "text": [
      "LogisticRegression\n",
      "Score: 0.7656675749318801\n",
      "\n",
      "Значение метрики F1 на тестовой выборке составило 0.766, что оказалось выше порогового значения 0.75.\n",
      "Мы успешно справились с заданием.\n"
     ]
    }
   ],
   "source": [
    "pred = grid_lr_pipeline.predict(pd.Series(corpus_test))\n",
    "score = f1_score(y_test, pred)\n",
    "print(f'LogisticRegression\\nScore: {score}')\n",
    "print()\n",
    "\n",
    "if score > THRESHOLD_F1:\n",
    "    print(f'Значение метрики F1 на тестовой выборке составило {score:.3f}, \\\n",
    "что оказалось выше порогового значения {THRESHOLD_F1}.\\nМы успешно справились с заданием.')\n",
    "elif score <= THRESHOLD_F1:\n",
    "    print(f'Значение метрики F1 на тестовой выборке составило {score:.3f}, \\\n",
    "что оказалось ниже порогового значения {THRESHOLD_F1}.\\nЭто фиаско.')  "
   ]
  },
  {
   "cell_type": "markdown",
   "id": "3342beb9",
   "metadata": {},
   "source": [
    "## Общий вывод\n",
    "\n",
    "На основе данных с маркированными в качестве токсичных / нетоксичных комментариев было проведено машинное обучение. Цель: классифицировать комментарий как токсичный или нетоксичный, т.к. заказчику нужен инструмент, который будет искать токсичные комментарии и отправлять их на модерацию.\n",
    "\n",
    "В качестве критерия выполнения задачи установлен порог 0.75 для F1-меры лучшей модели на тестовой выборке.\n",
    "\n",
    "В ходе работы был **открыт и изучен файл с данными**, обнаружен **дисбаланс классов**.\n",
    "\n",
    "После этого **данные были подготовлены к обучению**. Создан корпус, проведена лемматизация и разбивка данных на выборки, составлены матрицы TF-IDF для каждой выборки.\n",
    "\n",
    "Далее было проведено **машинное обучение** трех моделей: LogisticRegression, CatBoostClassifier, LGBMClassifier.\n",
    "\n",
    "По результатам проверки **наибольшее значение метрики F1 - 0.772 - оказалось у модели LogisticRegression**.\n",
    "\n",
    "**На тестовой выборке данная модель также показала хороший результат: значение F1 составляет 0.782**. Т.к. это выше порогового значения 0.75, можно считать, что мы справились с заданием.\n",
    "\n",
    "Также было проведено **машинное обучение модели LogisticRegression с пайплайном**. По результатам проверки **значение метрики F1 оказалось 0.772**.\n",
    "\n",
    "**На тестовой выборке модель LogisticRegression, обученная с пайплайном, также показала результат 0.766**. Т.к. это выше порогового значения 0.75, то мы справились с заданием.\n",
    "\n",
    "**Итог**: рекомендую заказчику обратить внимание на модель LogisticRegression - она показала наилучший результат среди всех моделей в ходе обучения на исходной выборке. Этот результат оказался выше порогового значения 0.75."
   ]
  }
 ],
 "metadata": {
  "ExecuteTimeLog": [
   {
    "duration": 3732,
    "start_time": "2022-12-08T04:58:25.656Z"
   },
   {
    "duration": 149,
    "start_time": "2022-12-08T04:58:29.391Z"
   },
   {
    "duration": 0,
    "start_time": "2022-12-08T04:58:29.541Z"
   },
   {
    "duration": 0,
    "start_time": "2022-12-08T04:58:29.543Z"
   },
   {
    "duration": 0,
    "start_time": "2022-12-08T04:58:29.544Z"
   },
   {
    "duration": 0,
    "start_time": "2022-12-08T04:58:29.546Z"
   },
   {
    "duration": 0,
    "start_time": "2022-12-08T04:58:29.547Z"
   },
   {
    "duration": 0,
    "start_time": "2022-12-08T04:58:29.548Z"
   },
   {
    "duration": 0,
    "start_time": "2022-12-08T04:58:29.549Z"
   },
   {
    "duration": 0,
    "start_time": "2022-12-08T04:58:29.551Z"
   },
   {
    "duration": 1103,
    "start_time": "2022-12-08T04:59:01.198Z"
   },
   {
    "duration": 52,
    "start_time": "2022-12-08T04:59:11.321Z"
   },
   {
    "duration": 748,
    "start_time": "2022-12-08T04:59:11.375Z"
   },
   {
    "duration": 29,
    "start_time": "2022-12-08T04:59:12.124Z"
   },
   {
    "duration": 13,
    "start_time": "2022-12-08T04:59:12.155Z"
   },
   {
    "duration": 151,
    "start_time": "2022-12-08T04:59:12.170Z"
   },
   {
    "duration": 23,
    "start_time": "2022-12-08T04:59:12.322Z"
   },
   {
    "duration": 10,
    "start_time": "2022-12-08T04:59:12.347Z"
   },
   {
    "duration": 29,
    "start_time": "2022-12-08T04:59:12.359Z"
   },
   {
    "duration": 4,
    "start_time": "2022-12-08T05:01:11.918Z"
   },
   {
    "duration": 19,
    "start_time": "2022-12-08T05:03:33.106Z"
   },
   {
    "duration": 2244,
    "start_time": "2022-12-08T05:04:08.631Z"
   },
   {
    "duration": 5229,
    "start_time": "2022-12-08T05:05:24.770Z"
   },
   {
    "duration": 11,
    "start_time": "2022-12-08T05:05:52.012Z"
   },
   {
    "duration": 11,
    "start_time": "2022-12-08T05:06:20.158Z"
   },
   {
    "duration": 2772,
    "start_time": "2022-12-08T05:11:09.735Z"
   },
   {
    "duration": 242,
    "start_time": "2022-12-08T05:11:55.529Z"
   },
   {
    "duration": 610,
    "start_time": "2022-12-08T05:12:22.419Z"
   },
   {
    "duration": 408,
    "start_time": "2022-12-08T05:12:38.892Z"
   },
   {
    "duration": 4,
    "start_time": "2022-12-08T05:12:41.056Z"
   },
   {
    "duration": 3,
    "start_time": "2022-12-08T05:14:25.944Z"
   },
   {
    "duration": 25,
    "start_time": "2022-12-08T05:14:35.010Z"
   },
   {
    "duration": 22,
    "start_time": "2022-12-08T05:15:13.289Z"
   },
   {
    "duration": 18,
    "start_time": "2022-12-08T05:15:30.881Z"
   },
   {
    "duration": 19,
    "start_time": "2022-12-08T05:17:50.164Z"
   },
   {
    "duration": 2,
    "start_time": "2022-12-08T05:18:59.826Z"
   },
   {
    "duration": 411,
    "start_time": "2022-12-08T05:19:00.960Z"
   },
   {
    "duration": 2152897,
    "start_time": "2022-12-08T05:19:03.945Z"
   },
   {
    "duration": 5616,
    "start_time": "2022-12-08T08:34:53.860Z"
   },
   {
    "duration": 1170,
    "start_time": "2022-12-08T08:34:59.478Z"
   },
   {
    "duration": 40,
    "start_time": "2022-12-08T08:35:00.649Z"
   },
   {
    "duration": 38,
    "start_time": "2022-12-08T08:35:00.690Z"
   },
   {
    "duration": 205,
    "start_time": "2022-12-08T08:35:00.730Z"
   },
   {
    "duration": 42,
    "start_time": "2022-12-08T08:35:00.937Z"
   },
   {
    "duration": 12,
    "start_time": "2022-12-08T08:35:00.981Z"
   },
   {
    "duration": 46,
    "start_time": "2022-12-08T08:35:00.994Z"
   },
   {
    "duration": 16,
    "start_time": "2022-12-08T08:35:01.042Z"
   },
   {
    "duration": 531,
    "start_time": "2022-12-08T08:35:01.060Z"
   },
   {
    "duration": 2587650,
    "start_time": "2022-12-08T08:35:01.593Z"
   },
   {
    "duration": 14,
    "start_time": "2022-12-08T09:18:09.245Z"
   },
   {
    "duration": 19,
    "start_time": "2022-12-08T09:18:16.270Z"
   },
   {
    "duration": 6852,
    "start_time": "2022-12-08T09:18:54.338Z"
   },
   {
    "duration": 91,
    "start_time": "2022-12-08T09:23:37.002Z"
   },
   {
    "duration": 76,
    "start_time": "2022-12-08T09:27:37.854Z"
   },
   {
    "duration": 4,
    "start_time": "2022-12-08T09:27:40.815Z"
   },
   {
    "duration": 10735,
    "start_time": "2022-12-08T09:27:41.221Z"
   },
   {
    "duration": 3664,
    "start_time": "2022-12-08T09:27:54.617Z"
   },
   {
    "duration": 61,
    "start_time": "2022-12-08T09:28:58.701Z"
   },
   {
    "duration": 9,
    "start_time": "2022-12-08T09:29:21.101Z"
   },
   {
    "duration": 3,
    "start_time": "2022-12-08T09:30:16.765Z"
   },
   {
    "duration": 375,
    "start_time": "2022-12-08T09:30:23.132Z"
   },
   {
    "duration": 4,
    "start_time": "2022-12-08T09:30:27.113Z"
   },
   {
    "duration": 10,
    "start_time": "2022-12-08T09:31:59.977Z"
   },
   {
    "duration": 2,
    "start_time": "2022-12-08T09:32:28.504Z"
   },
   {
    "duration": 242603,
    "start_time": "2022-12-08T09:32:33.989Z"
   },
   {
    "duration": 4,
    "start_time": "2022-12-08T09:37:25.790Z"
   },
   {
    "duration": 1122005,
    "start_time": "2022-12-08T09:37:27.997Z"
   },
   {
    "duration": 99,
    "start_time": "2022-12-08T09:56:10.004Z"
   },
   {
    "duration": 19,
    "start_time": "2022-12-08T09:56:10.105Z"
   },
   {
    "duration": 0,
    "start_time": "2022-12-08T09:56:10.126Z"
   },
   {
    "duration": 0,
    "start_time": "2022-12-08T09:56:10.127Z"
   },
   {
    "duration": 0,
    "start_time": "2022-12-08T09:56:10.128Z"
   },
   {
    "duration": 0,
    "start_time": "2022-12-08T09:56:10.130Z"
   },
   {
    "duration": 0,
    "start_time": "2022-12-08T09:56:10.131Z"
   },
   {
    "duration": 0,
    "start_time": "2022-12-08T09:56:10.132Z"
   },
   {
    "duration": 0,
    "start_time": "2022-12-08T09:56:10.133Z"
   },
   {
    "duration": 0,
    "start_time": "2022-12-08T09:56:10.137Z"
   },
   {
    "duration": 4,
    "start_time": "2022-12-08T09:56:17.392Z"
   },
   {
    "duration": 51,
    "start_time": "2022-12-08T10:48:02.422Z"
   }
  ],
  "kernelspec": {
   "display_name": "Python 3 (ipykernel)",
   "language": "python",
   "name": "python3"
  },
  "language_info": {
   "codemirror_mode": {
    "name": "ipython",
    "version": 3
   },
   "file_extension": ".py",
   "mimetype": "text/x-python",
   "name": "python",
   "nbconvert_exporter": "python",
   "pygments_lexer": "ipython3",
   "version": "3.9.12"
  },
  "toc": {
   "base_numbering": 1,
   "nav_menu": {},
   "number_sections": true,
   "sideBar": true,
   "skip_h1_title": true,
   "title_cell": "Table of Contents",
   "title_sidebar": "Contents",
   "toc_cell": false,
   "toc_position": {},
   "toc_section_display": true,
   "toc_window_display": false
  }
 },
 "nbformat": 4,
 "nbformat_minor": 5
}
