{
 "cells": [
  {
   "cell_type": "markdown",
   "metadata": {},
   "source": [
    "# Исследование данных о продажах игр"
   ]
  },
  {
   "cell_type": "markdown",
   "metadata": {},
   "source": [
    "Интернет-магазин «Стримчик» продаёт по всему миру компьютерные игры. Из открытых источников доступны исторические данные о продажах игр, оценки пользователей и экспертов, жанры и платформы (например, Xbox или PlayStation). Необходимо выявить определяющие успешность игры закономерности. Это позволит сделать ставку на потенциально популярный продукт и спланировать рекламные кампании.\n",
    "\n",
    "В наборе данных попадается аббревиатура ESRB (Entertainment Software Rating Board) — это ассоциация, определяющая возрастной рейтинг компьютерных игр. ESRB оценивает игровой контент и присваивает ему подходящую возрастную категорию, например, «Для взрослых», «Для детей младшего возраста» или «Для подростков»."
   ]
  },
  {
   "cell_type": "markdown",
   "metadata": {},
   "source": [
    "## Изучение данных"
   ]
  },
  {
   "cell_type": "code",
   "execution_count": 1,
   "metadata": {},
   "outputs": [],
   "source": [
    "# импортируем необходимые библиотеки\n",
    "\n",
    "import pandas as pd\n",
    "import numpy as np\n",
    "import matplotlib.pyplot as plt\n",
    "import scipy.stats as st\n",
    "import warnings"
   ]
  },
  {
   "cell_type": "code",
   "execution_count": 2,
   "metadata": {},
   "outputs": [],
   "source": [
    "# сохраним данные в виде датафрейма\n",
    "\n",
    "df = pd.read_csv('games.csv')"
   ]
  },
  {
   "cell_type": "code",
   "execution_count": 3,
   "metadata": {},
   "outputs": [
    {
     "name": "stdout",
     "output_type": "stream",
     "text": [
      "<class 'pandas.core.frame.DataFrame'>\n",
      "RangeIndex: 16715 entries, 0 to 16714\n",
      "Data columns (total 11 columns):\n",
      " #   Column           Non-Null Count  Dtype  \n",
      "---  ------           --------------  -----  \n",
      " 0   Name             16713 non-null  object \n",
      " 1   Platform         16715 non-null  object \n",
      " 2   Year_of_Release  16446 non-null  float64\n",
      " 3   Genre            16713 non-null  object \n",
      " 4   NA_sales         16715 non-null  float64\n",
      " 5   EU_sales         16715 non-null  float64\n",
      " 6   JP_sales         16715 non-null  float64\n",
      " 7   Other_sales      16715 non-null  float64\n",
      " 8   Critic_Score     8137 non-null   float64\n",
      " 9   User_Score       10014 non-null  object \n",
      " 10  Rating           9949 non-null   object \n",
      "dtypes: float64(6), object(5)\n",
      "memory usage: 1.4+ MB\n"
     ]
    }
   ],
   "source": [
    "# выведем общую информацию о датафрейме\n",
    "\n",
    "df.info()"
   ]
  },
  {
   "cell_type": "code",
   "execution_count": 4,
   "metadata": {},
   "outputs": [
    {
     "data": {
      "text/html": [
       "<div>\n",
       "<style scoped>\n",
       "    .dataframe tbody tr th:only-of-type {\n",
       "        vertical-align: middle;\n",
       "    }\n",
       "\n",
       "    .dataframe tbody tr th {\n",
       "        vertical-align: top;\n",
       "    }\n",
       "\n",
       "    .dataframe thead th {\n",
       "        text-align: right;\n",
       "    }\n",
       "</style>\n",
       "<table border=\"1\" class=\"dataframe\">\n",
       "  <thead>\n",
       "    <tr style=\"text-align: right;\">\n",
       "      <th></th>\n",
       "      <th>Name</th>\n",
       "      <th>Platform</th>\n",
       "      <th>Year_of_Release</th>\n",
       "      <th>Genre</th>\n",
       "      <th>NA_sales</th>\n",
       "      <th>EU_sales</th>\n",
       "      <th>JP_sales</th>\n",
       "      <th>Other_sales</th>\n",
       "      <th>Critic_Score</th>\n",
       "      <th>User_Score</th>\n",
       "      <th>Rating</th>\n",
       "    </tr>\n",
       "  </thead>\n",
       "  <tbody>\n",
       "    <tr>\n",
       "      <th>0</th>\n",
       "      <td>Wii Sports</td>\n",
       "      <td>Wii</td>\n",
       "      <td>2006.0</td>\n",
       "      <td>Sports</td>\n",
       "      <td>41.36</td>\n",
       "      <td>28.96</td>\n",
       "      <td>3.77</td>\n",
       "      <td>8.45</td>\n",
       "      <td>76.0</td>\n",
       "      <td>8</td>\n",
       "      <td>E</td>\n",
       "    </tr>\n",
       "    <tr>\n",
       "      <th>1</th>\n",
       "      <td>Super Mario Bros.</td>\n",
       "      <td>NES</td>\n",
       "      <td>1985.0</td>\n",
       "      <td>Platform</td>\n",
       "      <td>29.08</td>\n",
       "      <td>3.58</td>\n",
       "      <td>6.81</td>\n",
       "      <td>0.77</td>\n",
       "      <td>NaN</td>\n",
       "      <td>NaN</td>\n",
       "      <td>NaN</td>\n",
       "    </tr>\n",
       "    <tr>\n",
       "      <th>2</th>\n",
       "      <td>Mario Kart Wii</td>\n",
       "      <td>Wii</td>\n",
       "      <td>2008.0</td>\n",
       "      <td>Racing</td>\n",
       "      <td>15.68</td>\n",
       "      <td>12.76</td>\n",
       "      <td>3.79</td>\n",
       "      <td>3.29</td>\n",
       "      <td>82.0</td>\n",
       "      <td>8.3</td>\n",
       "      <td>E</td>\n",
       "    </tr>\n",
       "    <tr>\n",
       "      <th>3</th>\n",
       "      <td>Wii Sports Resort</td>\n",
       "      <td>Wii</td>\n",
       "      <td>2009.0</td>\n",
       "      <td>Sports</td>\n",
       "      <td>15.61</td>\n",
       "      <td>10.93</td>\n",
       "      <td>3.28</td>\n",
       "      <td>2.95</td>\n",
       "      <td>80.0</td>\n",
       "      <td>8</td>\n",
       "      <td>E</td>\n",
       "    </tr>\n",
       "    <tr>\n",
       "      <th>4</th>\n",
       "      <td>Pokemon Red/Pokemon Blue</td>\n",
       "      <td>GB</td>\n",
       "      <td>1996.0</td>\n",
       "      <td>Role-Playing</td>\n",
       "      <td>11.27</td>\n",
       "      <td>8.89</td>\n",
       "      <td>10.22</td>\n",
       "      <td>1.00</td>\n",
       "      <td>NaN</td>\n",
       "      <td>NaN</td>\n",
       "      <td>NaN</td>\n",
       "    </tr>\n",
       "    <tr>\n",
       "      <th>5</th>\n",
       "      <td>Tetris</td>\n",
       "      <td>GB</td>\n",
       "      <td>1989.0</td>\n",
       "      <td>Puzzle</td>\n",
       "      <td>23.20</td>\n",
       "      <td>2.26</td>\n",
       "      <td>4.22</td>\n",
       "      <td>0.58</td>\n",
       "      <td>NaN</td>\n",
       "      <td>NaN</td>\n",
       "      <td>NaN</td>\n",
       "    </tr>\n",
       "    <tr>\n",
       "      <th>6</th>\n",
       "      <td>New Super Mario Bros.</td>\n",
       "      <td>DS</td>\n",
       "      <td>2006.0</td>\n",
       "      <td>Platform</td>\n",
       "      <td>11.28</td>\n",
       "      <td>9.14</td>\n",
       "      <td>6.50</td>\n",
       "      <td>2.88</td>\n",
       "      <td>89.0</td>\n",
       "      <td>8.5</td>\n",
       "      <td>E</td>\n",
       "    </tr>\n",
       "    <tr>\n",
       "      <th>7</th>\n",
       "      <td>Wii Play</td>\n",
       "      <td>Wii</td>\n",
       "      <td>2006.0</td>\n",
       "      <td>Misc</td>\n",
       "      <td>13.96</td>\n",
       "      <td>9.18</td>\n",
       "      <td>2.93</td>\n",
       "      <td>2.84</td>\n",
       "      <td>58.0</td>\n",
       "      <td>6.6</td>\n",
       "      <td>E</td>\n",
       "    </tr>\n",
       "    <tr>\n",
       "      <th>8</th>\n",
       "      <td>New Super Mario Bros. Wii</td>\n",
       "      <td>Wii</td>\n",
       "      <td>2009.0</td>\n",
       "      <td>Platform</td>\n",
       "      <td>14.44</td>\n",
       "      <td>6.94</td>\n",
       "      <td>4.70</td>\n",
       "      <td>2.24</td>\n",
       "      <td>87.0</td>\n",
       "      <td>8.4</td>\n",
       "      <td>E</td>\n",
       "    </tr>\n",
       "    <tr>\n",
       "      <th>9</th>\n",
       "      <td>Duck Hunt</td>\n",
       "      <td>NES</td>\n",
       "      <td>1984.0</td>\n",
       "      <td>Shooter</td>\n",
       "      <td>26.93</td>\n",
       "      <td>0.63</td>\n",
       "      <td>0.28</td>\n",
       "      <td>0.47</td>\n",
       "      <td>NaN</td>\n",
       "      <td>NaN</td>\n",
       "      <td>NaN</td>\n",
       "    </tr>\n",
       "    <tr>\n",
       "      <th>10</th>\n",
       "      <td>Nintendogs</td>\n",
       "      <td>DS</td>\n",
       "      <td>2005.0</td>\n",
       "      <td>Simulation</td>\n",
       "      <td>9.05</td>\n",
       "      <td>10.95</td>\n",
       "      <td>1.93</td>\n",
       "      <td>2.74</td>\n",
       "      <td>NaN</td>\n",
       "      <td>NaN</td>\n",
       "      <td>NaN</td>\n",
       "    </tr>\n",
       "    <tr>\n",
       "      <th>11</th>\n",
       "      <td>Mario Kart DS</td>\n",
       "      <td>DS</td>\n",
       "      <td>2005.0</td>\n",
       "      <td>Racing</td>\n",
       "      <td>9.71</td>\n",
       "      <td>7.47</td>\n",
       "      <td>4.13</td>\n",
       "      <td>1.90</td>\n",
       "      <td>91.0</td>\n",
       "      <td>8.6</td>\n",
       "      <td>E</td>\n",
       "    </tr>\n",
       "    <tr>\n",
       "      <th>12</th>\n",
       "      <td>Pokemon Gold/Pokemon Silver</td>\n",
       "      <td>GB</td>\n",
       "      <td>1999.0</td>\n",
       "      <td>Role-Playing</td>\n",
       "      <td>9.00</td>\n",
       "      <td>6.18</td>\n",
       "      <td>7.20</td>\n",
       "      <td>0.71</td>\n",
       "      <td>NaN</td>\n",
       "      <td>NaN</td>\n",
       "      <td>NaN</td>\n",
       "    </tr>\n",
       "    <tr>\n",
       "      <th>13</th>\n",
       "      <td>Wii Fit</td>\n",
       "      <td>Wii</td>\n",
       "      <td>2007.0</td>\n",
       "      <td>Sports</td>\n",
       "      <td>8.92</td>\n",
       "      <td>8.03</td>\n",
       "      <td>3.60</td>\n",
       "      <td>2.15</td>\n",
       "      <td>80.0</td>\n",
       "      <td>7.7</td>\n",
       "      <td>E</td>\n",
       "    </tr>\n",
       "    <tr>\n",
       "      <th>14</th>\n",
       "      <td>Kinect Adventures!</td>\n",
       "      <td>X360</td>\n",
       "      <td>2010.0</td>\n",
       "      <td>Misc</td>\n",
       "      <td>15.00</td>\n",
       "      <td>4.89</td>\n",
       "      <td>0.24</td>\n",
       "      <td>1.69</td>\n",
       "      <td>61.0</td>\n",
       "      <td>6.3</td>\n",
       "      <td>E</td>\n",
       "    </tr>\n",
       "  </tbody>\n",
       "</table>\n",
       "</div>"
      ],
      "text/plain": [
       "                           Name Platform  Year_of_Release         Genre  \\\n",
       "0                    Wii Sports      Wii           2006.0        Sports   \n",
       "1             Super Mario Bros.      NES           1985.0      Platform   \n",
       "2                Mario Kart Wii      Wii           2008.0        Racing   \n",
       "3             Wii Sports Resort      Wii           2009.0        Sports   \n",
       "4      Pokemon Red/Pokemon Blue       GB           1996.0  Role-Playing   \n",
       "5                        Tetris       GB           1989.0        Puzzle   \n",
       "6         New Super Mario Bros.       DS           2006.0      Platform   \n",
       "7                      Wii Play      Wii           2006.0          Misc   \n",
       "8     New Super Mario Bros. Wii      Wii           2009.0      Platform   \n",
       "9                     Duck Hunt      NES           1984.0       Shooter   \n",
       "10                   Nintendogs       DS           2005.0    Simulation   \n",
       "11                Mario Kart DS       DS           2005.0        Racing   \n",
       "12  Pokemon Gold/Pokemon Silver       GB           1999.0  Role-Playing   \n",
       "13                      Wii Fit      Wii           2007.0        Sports   \n",
       "14           Kinect Adventures!     X360           2010.0          Misc   \n",
       "\n",
       "    NA_sales  EU_sales  JP_sales  Other_sales  Critic_Score User_Score Rating  \n",
       "0      41.36     28.96      3.77         8.45          76.0          8      E  \n",
       "1      29.08      3.58      6.81         0.77           NaN        NaN    NaN  \n",
       "2      15.68     12.76      3.79         3.29          82.0        8.3      E  \n",
       "3      15.61     10.93      3.28         2.95          80.0          8      E  \n",
       "4      11.27      8.89     10.22         1.00           NaN        NaN    NaN  \n",
       "5      23.20      2.26      4.22         0.58           NaN        NaN    NaN  \n",
       "6      11.28      9.14      6.50         2.88          89.0        8.5      E  \n",
       "7      13.96      9.18      2.93         2.84          58.0        6.6      E  \n",
       "8      14.44      6.94      4.70         2.24          87.0        8.4      E  \n",
       "9      26.93      0.63      0.28         0.47           NaN        NaN    NaN  \n",
       "10      9.05     10.95      1.93         2.74           NaN        NaN    NaN  \n",
       "11      9.71      7.47      4.13         1.90          91.0        8.6      E  \n",
       "12      9.00      6.18      7.20         0.71           NaN        NaN    NaN  \n",
       "13      8.92      8.03      3.60         2.15          80.0        7.7      E  \n",
       "14     15.00      4.89      0.24         1.69          61.0        6.3      E  "
      ]
     },
     "execution_count": 4,
     "metadata": {},
     "output_type": "execute_result"
    }
   ],
   "source": [
    "# выведем первые строки данных\n",
    "\n",
    "df.head(15)"
   ]
  },
  {
   "cell_type": "code",
   "execution_count": 5,
   "metadata": {},
   "outputs": [
    {
     "data": {
      "image/png": "[encoded data removed]",
      "text/plain": [
       "<Figure size 720x720 with 6 Axes>"
      ]
     },
     "metadata": {
      "needs_background": "light"
     },
     "output_type": "display_data"
    }
   ],
   "source": [
    "# построим гистограммы для всех столбцов датафрейма с числовыми значениями\n",
    "\n",
    "df.hist(figsize=(10, 10));"
   ]
  },
  {
   "cell_type": "markdown",
   "metadata": {},
   "source": [
    "## Предобработка данных"
   ]
  },
  {
   "cell_type": "markdown",
   "metadata": {},
   "source": [
    "### Переименование столбцов"
   ]
  },
  {
   "cell_type": "code",
   "execution_count": 6,
   "metadata": {},
   "outputs": [],
   "source": [
    "# переименуем столбцы в соответствии с нижним регистром\n",
    "\n",
    "df.columns = ['name', 'platform', 'year', 'genre', 'na_sales', 'eu_sales', \\\n",
    "              'jp_sales', 'other_sales', 'critic_score', 'user_score', 'rating'] "
   ]
  },
  {
   "cell_type": "markdown",
   "metadata": {},
   "source": [
    "### Обработка пропусков"
   ]
  },
  {
   "cell_type": "code",
   "execution_count": 7,
   "metadata": {},
   "outputs": [
    {
     "data": {
      "text/plain": [
       "name               2\n",
       "platform           0\n",
       "year             269\n",
       "genre              2\n",
       "na_sales           0\n",
       "eu_sales           0\n",
       "jp_sales           0\n",
       "other_sales        0\n",
       "critic_score    8578\n",
       "user_score      6701\n",
       "rating          6766\n",
       "dtype: int64"
      ]
     },
     "execution_count": 7,
     "metadata": {},
     "output_type": "execute_result"
    }
   ],
   "source": [
    "# определим количество пропусков в каждом столбце\n",
    "\n",
    "df.isna().sum()"
   ]
  },
  {
   "cell_type": "markdown",
   "metadata": {},
   "source": [
    "Пропуски присутствуют в 6 столбцах из 11. Как мы видим, пропуски в последних трех столбцах затрагивают значительную долю данных - вплоть до половины. Для двух столбцов количество пропусков составляет 2. Проверим, совпадают ли строки с пропусками для данных столбцов."
   ]
  },
  {
   "cell_type": "markdown",
   "metadata": {},
   "source": [
    "#### name и genre"
   ]
  },
  {
   "cell_type": "code",
   "execution_count": 8,
   "metadata": {},
   "outputs": [
    {
     "data": {
      "text/html": [
       "<div>\n",
       "<style scoped>\n",
       "    .dataframe tbody tr th:only-of-type {\n",
       "        vertical-align: middle;\n",
       "    }\n",
       "\n",
       "    .dataframe tbody tr th {\n",
       "        vertical-align: top;\n",
       "    }\n",
       "\n",
       "    .dataframe thead th {\n",
       "        text-align: right;\n",
       "    }\n",
       "</style>\n",
       "<table border=\"1\" class=\"dataframe\">\n",
       "  <thead>\n",
       "    <tr style=\"text-align: right;\">\n",
       "      <th></th>\n",
       "      <th>name</th>\n",
       "      <th>platform</th>\n",
       "      <th>year</th>\n",
       "      <th>genre</th>\n",
       "      <th>na_sales</th>\n",
       "      <th>eu_sales</th>\n",
       "      <th>jp_sales</th>\n",
       "      <th>other_sales</th>\n",
       "      <th>critic_score</th>\n",
       "      <th>user_score</th>\n",
       "      <th>rating</th>\n",
       "    </tr>\n",
       "  </thead>\n",
       "  <tbody>\n",
       "    <tr>\n",
       "      <th>659</th>\n",
       "      <td>NaN</td>\n",
       "      <td>GEN</td>\n",
       "      <td>1993.0</td>\n",
       "      <td>NaN</td>\n",
       "      <td>1.78</td>\n",
       "      <td>0.53</td>\n",
       "      <td>0.00</td>\n",
       "      <td>0.08</td>\n",
       "      <td>NaN</td>\n",
       "      <td>NaN</td>\n",
       "      <td>NaN</td>\n",
       "    </tr>\n",
       "    <tr>\n",
       "      <th>14244</th>\n",
       "      <td>NaN</td>\n",
       "      <td>GEN</td>\n",
       "      <td>1993.0</td>\n",
       "      <td>NaN</td>\n",
       "      <td>0.00</td>\n",
       "      <td>0.00</td>\n",
       "      <td>0.03</td>\n",
       "      <td>0.00</td>\n",
       "      <td>NaN</td>\n",
       "      <td>NaN</td>\n",
       "      <td>NaN</td>\n",
       "    </tr>\n",
       "  </tbody>\n",
       "</table>\n",
       "</div>"
      ],
      "text/plain": [
       "      name platform    year genre  na_sales  eu_sales  jp_sales  other_sales  \\\n",
       "659    NaN      GEN  1993.0   NaN      1.78      0.53      0.00         0.08   \n",
       "14244  NaN      GEN  1993.0   NaN      0.00      0.00      0.03         0.00   \n",
       "\n",
       "       critic_score user_score rating  \n",
       "659             NaN        NaN    NaN  \n",
       "14244           NaN        NaN    NaN  "
      ]
     },
     "execution_count": 8,
     "metadata": {},
     "output_type": "execute_result"
    }
   ],
   "source": [
    "# выведем строки с пропусками в столбце name\n",
    "\n",
    "df[df['name'].isna()]"
   ]
  },
  {
   "cell_type": "code",
   "execution_count": 9,
   "metadata": {},
   "outputs": [
    {
     "data": {
      "text/plain": [
       "0.011965300628178284"
      ]
     },
     "execution_count": 9,
     "metadata": {},
     "output_type": "execute_result"
    }
   ],
   "source": [
    "# посчитаем отношение данных с пропусками в столбцах name и genre ко всем данным\n",
    "\n",
    "(len(df[df['name'].isna()]) / len(df)) * 100"
   ]
  },
  {
   "cell_type": "markdown",
   "metadata": {},
   "source": [
    "Т.к. строки с пропусками в столбцах name и genre составляют совсем незначительную часть данных, будем считать, что их удаление не исказит результаты исследования."
   ]
  },
  {
   "cell_type": "code",
   "execution_count": 10,
   "metadata": {},
   "outputs": [],
   "source": [
    "# удалим строки с пропусками в столбцах name и genre\n",
    "\n",
    "df = df.dropna(subset=['name'])"
   ]
  },
  {
   "cell_type": "markdown",
   "metadata": {},
   "source": [
    "#### year"
   ]
  },
  {
   "cell_type": "markdown",
   "metadata": {},
   "source": [
    "Предположим, что год выхода игры зависит от ее платформы."
   ]
  },
  {
   "cell_type": "code",
   "execution_count": 11,
   "metadata": {},
   "outputs": [
    {
     "data": {
      "text/plain": [
       "platform\n",
       "2600    1982\n",
       "NES     1987\n",
       "GG      1992\n",
       "GEN     1993\n",
       "SCD     1994\n",
       "SNES    1994\n",
       "NG      1994\n",
       "3DO     1995\n",
       "TG16    1995\n",
       "GB      1996\n",
       "PCFX    1996\n",
       "SAT     1996\n",
       "PS      1998\n",
       "N64     1999\n",
       "DC      2000\n",
       "WS      2000\n",
       "GBA     2003\n",
       "GC      2003\n",
       "XB      2004\n",
       "PS2     2005\n",
       "DS      2008\n",
       "PSP     2009\n",
       "PC      2009\n",
       "Wii     2009\n",
       "X360    2010\n",
       "PS3     2011\n",
       "3DS     2013\n",
       "WiiU    2014\n",
       "PSV     2014\n",
       "XOne    2015\n",
       "PS4     2015\n",
       "Name: year, dtype: int32"
      ]
     },
     "execution_count": 11,
     "metadata": {},
     "output_type": "execute_result"
    }
   ],
   "source": [
    "# выведем датафрейм со средним годом релиза для каждой платформы, отсортированный по году релиза\n",
    "\n",
    "df.groupby('platform')['year'].mean().sort_values().round().astype('int')"
   ]
  },
  {
   "cell_type": "markdown",
   "metadata": {},
   "source": [
    "Действительно, по средним значениям года релиза для каждой платформы просматривается зависимость между двумя данными параметрами.\n",
    "\n",
    "Данный вывод следует подкрепить логическим рассуждением о характере данных в столбце platform. Среди значений представлены как ярко выраженные \"старые\" платформы, так и \"новые\". К \"старым\" относятся такие платформы как 2600, NES, GG, GEN - средние года релиза для игр на таких платформах достаточно \"ранние\". \"Новые\" платформы представлены не в целом - например PS, Xbox - а в нескольких поколениях: PS, PS2, PS3, PS4; XB, X360, XOne. Это удобно тем, что на каждое поколение приходится \"свой\" средний год релиза игр.\n",
    "\n",
    "Однако, есть исключение - платформа PC, что значит персональный компьютер, характерна как для \"старых\" игр, так и для \"новых\". Проверим, много ли пропусков в year приходится на PC."
   ]
  },
  {
   "cell_type": "code",
   "execution_count": 12,
   "metadata": {},
   "outputs": [
    {
     "data": {
      "text/plain": [
       "17"
      ]
     },
     "execution_count": 12,
     "metadata": {},
     "output_type": "execute_result"
    }
   ],
   "source": [
    "# рассчитаем количество пропусков в year для платформы PC\n",
    "\n",
    "len(\n",
    "    df[(df['year'].isna()) & (df['platform'] == 'PC')]\n",
    ")"
   ]
  },
  {
   "cell_type": "code",
   "execution_count": 13,
   "metadata": {},
   "outputs": [
    {
     "data": {
      "text/plain": [
       "0.10171722611141028"
      ]
     },
     "execution_count": 13,
     "metadata": {},
     "output_type": "execute_result"
    }
   ],
   "source": [
    "# посчитаем отношение данных с пропусками в столбце year для платформы PC ко всем данным\n",
    "\n",
    "(len(df[(df['year'].isna()) & (df['platform'] == 'PC')]) / len(df)) * 100"
   ]
  },
  {
   "cell_type": "markdown",
   "metadata": {},
   "source": [
    "Количество строк с такими пропусками составляет незначительную величину (как абсолютно, так и относительно), а заполнить такие пропуски средним значением не получится. Удалим соответствующие строки."
   ]
  },
  {
   "cell_type": "code",
   "execution_count": 14,
   "metadata": {},
   "outputs": [],
   "source": [
    "# удалим строки с пропусками в столбце year для платформы PC\n",
    "\n",
    "df = df.drop(df[(df['year'].isna()) & (df['platform'] == 'PC')].index)"
   ]
  },
  {
   "cell_type": "markdown",
   "metadata": {},
   "source": [
    "Для всех прочих платформ мы можем заполнить пропуски в столбце year соответствующими средними значениями для каждой платформы."
   ]
  },
  {
   "cell_type": "code",
   "execution_count": 15,
   "metadata": {},
   "outputs": [],
   "source": [
    "# создадим цикл, который заполнит все пропуски в столбце year\n",
    "# средними значениями year для каждой платформы\n",
    "\n",
    "for i in df['platform'].unique():\n",
    "    df.loc[(df['platform'] == i) & (df['year'].isna()), 'year'] = \\\n",
    "    df.groupby('platform')['year'].mean()[i]"
   ]
  },
  {
   "cell_type": "code",
   "execution_count": 16,
   "metadata": {},
   "outputs": [],
   "source": [
    "# округлим полученные значения\n",
    "\n",
    "df['year'] = df['year'].round()"
   ]
  },
  {
   "cell_type": "markdown",
   "metadata": {},
   "source": [
    "#### critic_score"
   ]
  },
  {
   "cell_type": "code",
   "execution_count": 17,
   "metadata": {},
   "outputs": [
    {
     "data": {
      "text/plain": [
       "array([76., nan, 82., 80., 89., 58., 87., 91., 61., 97., 95., 77., 88.,\n",
       "       83., 94., 93., 85., 86., 98., 96., 90., 84., 73., 74., 78., 92.,\n",
       "       71., 72., 68., 62., 49., 67., 81., 66., 56., 79., 70., 59., 64.,\n",
       "       75., 60., 63., 69., 50., 25., 42., 44., 55., 48., 57., 29., 47.,\n",
       "       65., 54., 20., 53., 37., 38., 33., 52., 30., 32., 43., 45., 51.,\n",
       "       40., 46., 39., 34., 35., 41., 36., 28., 31., 27., 26., 19., 23.,\n",
       "       24., 21., 17., 22., 13.])"
      ]
     },
     "execution_count": 17,
     "metadata": {},
     "output_type": "execute_result"
    }
   ],
   "source": [
    "# выведем список уникальных значений столбца critic_score\n",
    "\n",
    "df['critic_score'].unique()"
   ]
  },
  {
   "cell_type": "code",
   "execution_count": 18,
   "metadata": {},
   "outputs": [
    {
     "data": {
      "text/html": [
       "<div>\n",
       "<style scoped>\n",
       "    .dataframe tbody tr th:only-of-type {\n",
       "        vertical-align: middle;\n",
       "    }\n",
       "\n",
       "    .dataframe tbody tr th {\n",
       "        vertical-align: top;\n",
       "    }\n",
       "\n",
       "    .dataframe thead th {\n",
       "        text-align: right;\n",
       "    }\n",
       "</style>\n",
       "<table border=\"1\" class=\"dataframe\">\n",
       "  <thead>\n",
       "    <tr style=\"text-align: right;\">\n",
       "      <th></th>\n",
       "      <th>name</th>\n",
       "      <th>platform</th>\n",
       "      <th>year</th>\n",
       "      <th>genre</th>\n",
       "      <th>na_sales</th>\n",
       "      <th>eu_sales</th>\n",
       "      <th>jp_sales</th>\n",
       "      <th>other_sales</th>\n",
       "      <th>critic_score</th>\n",
       "      <th>user_score</th>\n",
       "      <th>rating</th>\n",
       "    </tr>\n",
       "  </thead>\n",
       "  <tbody>\n",
       "    <tr>\n",
       "      <th>1</th>\n",
       "      <td>Super Mario Bros.</td>\n",
       "      <td>NES</td>\n",
       "      <td>1985.0</td>\n",
       "      <td>Platform</td>\n",
       "      <td>29.08</td>\n",
       "      <td>3.58</td>\n",
       "      <td>6.81</td>\n",
       "      <td>0.77</td>\n",
       "      <td>NaN</td>\n",
       "      <td>NaN</td>\n",
       "      <td>NaN</td>\n",
       "    </tr>\n",
       "    <tr>\n",
       "      <th>4</th>\n",
       "      <td>Pokemon Red/Pokemon Blue</td>\n",
       "      <td>GB</td>\n",
       "      <td>1996.0</td>\n",
       "      <td>Role-Playing</td>\n",
       "      <td>11.27</td>\n",
       "      <td>8.89</td>\n",
       "      <td>10.22</td>\n",
       "      <td>1.00</td>\n",
       "      <td>NaN</td>\n",
       "      <td>NaN</td>\n",
       "      <td>NaN</td>\n",
       "    </tr>\n",
       "    <tr>\n",
       "      <th>5</th>\n",
       "      <td>Tetris</td>\n",
       "      <td>GB</td>\n",
       "      <td>1989.0</td>\n",
       "      <td>Puzzle</td>\n",
       "      <td>23.20</td>\n",
       "      <td>2.26</td>\n",
       "      <td>4.22</td>\n",
       "      <td>0.58</td>\n",
       "      <td>NaN</td>\n",
       "      <td>NaN</td>\n",
       "      <td>NaN</td>\n",
       "    </tr>\n",
       "    <tr>\n",
       "      <th>9</th>\n",
       "      <td>Duck Hunt</td>\n",
       "      <td>NES</td>\n",
       "      <td>1984.0</td>\n",
       "      <td>Shooter</td>\n",
       "      <td>26.93</td>\n",
       "      <td>0.63</td>\n",
       "      <td>0.28</td>\n",
       "      <td>0.47</td>\n",
       "      <td>NaN</td>\n",
       "      <td>NaN</td>\n",
       "      <td>NaN</td>\n",
       "    </tr>\n",
       "    <tr>\n",
       "      <th>10</th>\n",
       "      <td>Nintendogs</td>\n",
       "      <td>DS</td>\n",
       "      <td>2005.0</td>\n",
       "      <td>Simulation</td>\n",
       "      <td>9.05</td>\n",
       "      <td>10.95</td>\n",
       "      <td>1.93</td>\n",
       "      <td>2.74</td>\n",
       "      <td>NaN</td>\n",
       "      <td>NaN</td>\n",
       "      <td>NaN</td>\n",
       "    </tr>\n",
       "  </tbody>\n",
       "</table>\n",
       "</div>"
      ],
      "text/plain": [
       "                        name platform    year         genre  na_sales  \\\n",
       "1          Super Mario Bros.      NES  1985.0      Platform     29.08   \n",
       "4   Pokemon Red/Pokemon Blue       GB  1996.0  Role-Playing     11.27   \n",
       "5                     Tetris       GB  1989.0        Puzzle     23.20   \n",
       "9                  Duck Hunt      NES  1984.0       Shooter     26.93   \n",
       "10                Nintendogs       DS  2005.0    Simulation      9.05   \n",
       "\n",
       "    eu_sales  jp_sales  other_sales  critic_score user_score rating  \n",
       "1       3.58      6.81         0.77           NaN        NaN    NaN  \n",
       "4       8.89     10.22         1.00           NaN        NaN    NaN  \n",
       "5       2.26      4.22         0.58           NaN        NaN    NaN  \n",
       "9       0.63      0.28         0.47           NaN        NaN    NaN  \n",
       "10     10.95      1.93         2.74           NaN        NaN    NaN  "
      ]
     },
     "execution_count": 18,
     "metadata": {},
     "output_type": "execute_result"
    }
   ],
   "source": [
    "# выведем строки с пропусками в столбце critic_score\n",
    "\n",
    "df[df['critic_score'].isna()].head()"
   ]
  },
  {
   "cell_type": "markdown",
   "metadata": {},
   "source": [
    "В строках с пропусками в столбце critic_score каких-либо закономерностей не наблюдается. Параметров, которые могут быть напрямую или логически связаны с оценкой критиков, также нет. Все уникальные значения столбца находятся в интервале от 0 до 100, что является нормой.\n",
    "\n",
    "В таком случае оставим пропуски в данных."
   ]
  },
  {
   "cell_type": "markdown",
   "metadata": {},
   "source": [
    "#### user_score"
   ]
  },
  {
   "cell_type": "code",
   "execution_count": 19,
   "metadata": {},
   "outputs": [
    {
     "data": {
      "text/plain": [
       "array(['8', nan, '8.3', '8.5', '6.6', '8.4', '8.6', '7.7', '6.3', '7.4',\n",
       "       '8.2', '9', '7.9', '8.1', '8.7', '7.1', '3.4', '5.3', '4.8', '3.2',\n",
       "       '8.9', '6.4', '7.8', '7.5', '2.6', '7.2', '9.2', '7', '7.3', '4.3',\n",
       "       '7.6', '5.7', '5', '9.1', '6.5', 'tbd', '8.8', '6.9', '9.4', '6.8',\n",
       "       '6.1', '6.7', '5.4', '4', '4.9', '4.5', '9.3', '6.2', '4.2', '6',\n",
       "       '3.7', '4.1', '5.8', '5.6', '5.5', '4.4', '4.6', '5.9', '3.9',\n",
       "       '3.1', '2.9', '5.2', '3.3', '4.7', '5.1', '3.5', '2.5', '1.9', '3',\n",
       "       '2.7', '2.2', '2', '9.5', '2.1', '3.6', '2.8', '1.8', '3.8', '0',\n",
       "       '1.6', '9.6', '2.4', '1.7', '1.1', '0.3', '1.5', '0.7', '1.2',\n",
       "       '2.3', '0.5', '1.3', '0.2', '0.6', '1.4', '0.9', '1', '9.7'],\n",
       "      dtype=object)"
      ]
     },
     "execution_count": 19,
     "metadata": {},
     "output_type": "execute_result"
    }
   ],
   "source": [
    "# выведем список уникальных значений столбца user_score\n",
    "\n",
    "df['user_score'].unique()"
   ]
  },
  {
   "cell_type": "code",
   "execution_count": 20,
   "metadata": {},
   "outputs": [
    {
     "data": {
      "text/html": [
       "<div>\n",
       "<style scoped>\n",
       "    .dataframe tbody tr th:only-of-type {\n",
       "        vertical-align: middle;\n",
       "    }\n",
       "\n",
       "    .dataframe tbody tr th {\n",
       "        vertical-align: top;\n",
       "    }\n",
       "\n",
       "    .dataframe thead th {\n",
       "        text-align: right;\n",
       "    }\n",
       "</style>\n",
       "<table border=\"1\" class=\"dataframe\">\n",
       "  <thead>\n",
       "    <tr style=\"text-align: right;\">\n",
       "      <th></th>\n",
       "      <th>name</th>\n",
       "      <th>platform</th>\n",
       "      <th>year</th>\n",
       "      <th>genre</th>\n",
       "      <th>na_sales</th>\n",
       "      <th>eu_sales</th>\n",
       "      <th>jp_sales</th>\n",
       "      <th>other_sales</th>\n",
       "      <th>critic_score</th>\n",
       "      <th>user_score</th>\n",
       "      <th>rating</th>\n",
       "    </tr>\n",
       "  </thead>\n",
       "  <tbody>\n",
       "    <tr>\n",
       "      <th>1</th>\n",
       "      <td>Super Mario Bros.</td>\n",
       "      <td>NES</td>\n",
       "      <td>1985.0</td>\n",
       "      <td>Platform</td>\n",
       "      <td>29.08</td>\n",
       "      <td>3.58</td>\n",
       "      <td>6.81</td>\n",
       "      <td>0.77</td>\n",
       "      <td>NaN</td>\n",
       "      <td>NaN</td>\n",
       "      <td>NaN</td>\n",
       "    </tr>\n",
       "    <tr>\n",
       "      <th>4</th>\n",
       "      <td>Pokemon Red/Pokemon Blue</td>\n",
       "      <td>GB</td>\n",
       "      <td>1996.0</td>\n",
       "      <td>Role-Playing</td>\n",
       "      <td>11.27</td>\n",
       "      <td>8.89</td>\n",
       "      <td>10.22</td>\n",
       "      <td>1.00</td>\n",
       "      <td>NaN</td>\n",
       "      <td>NaN</td>\n",
       "      <td>NaN</td>\n",
       "    </tr>\n",
       "    <tr>\n",
       "      <th>5</th>\n",
       "      <td>Tetris</td>\n",
       "      <td>GB</td>\n",
       "      <td>1989.0</td>\n",
       "      <td>Puzzle</td>\n",
       "      <td>23.20</td>\n",
       "      <td>2.26</td>\n",
       "      <td>4.22</td>\n",
       "      <td>0.58</td>\n",
       "      <td>NaN</td>\n",
       "      <td>NaN</td>\n",
       "      <td>NaN</td>\n",
       "    </tr>\n",
       "    <tr>\n",
       "      <th>9</th>\n",
       "      <td>Duck Hunt</td>\n",
       "      <td>NES</td>\n",
       "      <td>1984.0</td>\n",
       "      <td>Shooter</td>\n",
       "      <td>26.93</td>\n",
       "      <td>0.63</td>\n",
       "      <td>0.28</td>\n",
       "      <td>0.47</td>\n",
       "      <td>NaN</td>\n",
       "      <td>NaN</td>\n",
       "      <td>NaN</td>\n",
       "    </tr>\n",
       "    <tr>\n",
       "      <th>10</th>\n",
       "      <td>Nintendogs</td>\n",
       "      <td>DS</td>\n",
       "      <td>2005.0</td>\n",
       "      <td>Simulation</td>\n",
       "      <td>9.05</td>\n",
       "      <td>10.95</td>\n",
       "      <td>1.93</td>\n",
       "      <td>2.74</td>\n",
       "      <td>NaN</td>\n",
       "      <td>NaN</td>\n",
       "      <td>NaN</td>\n",
       "    </tr>\n",
       "  </tbody>\n",
       "</table>\n",
       "</div>"
      ],
      "text/plain": [
       "                        name platform    year         genre  na_sales  \\\n",
       "1          Super Mario Bros.      NES  1985.0      Platform     29.08   \n",
       "4   Pokemon Red/Pokemon Blue       GB  1996.0  Role-Playing     11.27   \n",
       "5                     Tetris       GB  1989.0        Puzzle     23.20   \n",
       "9                  Duck Hunt      NES  1984.0       Shooter     26.93   \n",
       "10                Nintendogs       DS  2005.0    Simulation      9.05   \n",
       "\n",
       "    eu_sales  jp_sales  other_sales  critic_score user_score rating  \n",
       "1       3.58      6.81         0.77           NaN        NaN    NaN  \n",
       "4       8.89     10.22         1.00           NaN        NaN    NaN  \n",
       "5       2.26      4.22         0.58           NaN        NaN    NaN  \n",
       "9       0.63      0.28         0.47           NaN        NaN    NaN  \n",
       "10     10.95      1.93         2.74           NaN        NaN    NaN  "
      ]
     },
     "execution_count": 20,
     "metadata": {},
     "output_type": "execute_result"
    }
   ],
   "source": [
    "# выведем строки с пропусками в столбце user_score\n",
    "\n",
    "df[df['user_score'].isna()].head()"
   ]
  },
  {
   "cell_type": "markdown",
   "metadata": {},
   "source": [
    "В строках с пропусками в столбце user_score каких-либо закономерностей не наблюдается. Параметров, которые могут быть напрямую или логически связаны с оценкой пользователей, также нет.\n",
    "\n",
    "Однако в списке уникальных значений есть интересное значение - 'tbd'. Скорее всего, данная аббревиатура означает 'То Be Defined', что буквально переводится как \"подлежит уточнению\". Такие значения следует удалить из датафрейма - они могут исказить исследование."
   ]
  },
  {
   "cell_type": "code",
   "execution_count": 21,
   "metadata": {},
   "outputs": [
    {
     "data": {
      "text/plain": [
       "6697"
      ]
     },
     "execution_count": 21,
     "metadata": {},
     "output_type": "execute_result"
    }
   ],
   "source": [
    "df['user_score'].isna().sum()"
   ]
  },
  {
   "cell_type": "code",
   "execution_count": 22,
   "metadata": {},
   "outputs": [],
   "source": [
    "# удалим значения 'tbd' в столбце user_score\n",
    "\n",
    "df.loc[df['user_score'] == 'tbd', 'user_score'] = np.nan"
   ]
  },
  {
   "cell_type": "markdown",
   "metadata": {},
   "source": [
    "#### rating"
   ]
  },
  {
   "cell_type": "code",
   "execution_count": 23,
   "metadata": {},
   "outputs": [
    {
     "data": {
      "text/plain": [
       "array(['E', nan, 'M', 'T', 'E10+', 'K-A', 'AO', 'EC', 'RP'], dtype=object)"
      ]
     },
     "execution_count": 23,
     "metadata": {},
     "output_type": "execute_result"
    }
   ],
   "source": [
    "# выведем список уникальных значений столбца rating\n",
    "\n",
    "df['rating'].unique()"
   ]
  },
  {
   "cell_type": "code",
   "execution_count": 24,
   "metadata": {},
   "outputs": [
    {
     "data": {
      "text/html": [
       "<div>\n",
       "<style scoped>\n",
       "    .dataframe tbody tr th:only-of-type {\n",
       "        vertical-align: middle;\n",
       "    }\n",
       "\n",
       "    .dataframe tbody tr th {\n",
       "        vertical-align: top;\n",
       "    }\n",
       "\n",
       "    .dataframe thead th {\n",
       "        text-align: right;\n",
       "    }\n",
       "</style>\n",
       "<table border=\"1\" class=\"dataframe\">\n",
       "  <thead>\n",
       "    <tr style=\"text-align: right;\">\n",
       "      <th></th>\n",
       "      <th>name</th>\n",
       "      <th>platform</th>\n",
       "      <th>year</th>\n",
       "      <th>genre</th>\n",
       "      <th>na_sales</th>\n",
       "      <th>eu_sales</th>\n",
       "      <th>jp_sales</th>\n",
       "      <th>other_sales</th>\n",
       "      <th>critic_score</th>\n",
       "      <th>user_score</th>\n",
       "      <th>rating</th>\n",
       "    </tr>\n",
       "  </thead>\n",
       "  <tbody>\n",
       "    <tr>\n",
       "      <th>1</th>\n",
       "      <td>Super Mario Bros.</td>\n",
       "      <td>NES</td>\n",
       "      <td>1985.0</td>\n",
       "      <td>Platform</td>\n",
       "      <td>29.08</td>\n",
       "      <td>3.58</td>\n",
       "      <td>6.81</td>\n",
       "      <td>0.77</td>\n",
       "      <td>NaN</td>\n",
       "      <td>NaN</td>\n",
       "      <td>NaN</td>\n",
       "    </tr>\n",
       "    <tr>\n",
       "      <th>4</th>\n",
       "      <td>Pokemon Red/Pokemon Blue</td>\n",
       "      <td>GB</td>\n",
       "      <td>1996.0</td>\n",
       "      <td>Role-Playing</td>\n",
       "      <td>11.27</td>\n",
       "      <td>8.89</td>\n",
       "      <td>10.22</td>\n",
       "      <td>1.00</td>\n",
       "      <td>NaN</td>\n",
       "      <td>NaN</td>\n",
       "      <td>NaN</td>\n",
       "    </tr>\n",
       "    <tr>\n",
       "      <th>5</th>\n",
       "      <td>Tetris</td>\n",
       "      <td>GB</td>\n",
       "      <td>1989.0</td>\n",
       "      <td>Puzzle</td>\n",
       "      <td>23.20</td>\n",
       "      <td>2.26</td>\n",
       "      <td>4.22</td>\n",
       "      <td>0.58</td>\n",
       "      <td>NaN</td>\n",
       "      <td>NaN</td>\n",
       "      <td>NaN</td>\n",
       "    </tr>\n",
       "    <tr>\n",
       "      <th>9</th>\n",
       "      <td>Duck Hunt</td>\n",
       "      <td>NES</td>\n",
       "      <td>1984.0</td>\n",
       "      <td>Shooter</td>\n",
       "      <td>26.93</td>\n",
       "      <td>0.63</td>\n",
       "      <td>0.28</td>\n",
       "      <td>0.47</td>\n",
       "      <td>NaN</td>\n",
       "      <td>NaN</td>\n",
       "      <td>NaN</td>\n",
       "    </tr>\n",
       "    <tr>\n",
       "      <th>10</th>\n",
       "      <td>Nintendogs</td>\n",
       "      <td>DS</td>\n",
       "      <td>2005.0</td>\n",
       "      <td>Simulation</td>\n",
       "      <td>9.05</td>\n",
       "      <td>10.95</td>\n",
       "      <td>1.93</td>\n",
       "      <td>2.74</td>\n",
       "      <td>NaN</td>\n",
       "      <td>NaN</td>\n",
       "      <td>NaN</td>\n",
       "    </tr>\n",
       "  </tbody>\n",
       "</table>\n",
       "</div>"
      ],
      "text/plain": [
       "                        name platform    year         genre  na_sales  \\\n",
       "1          Super Mario Bros.      NES  1985.0      Platform     29.08   \n",
       "4   Pokemon Red/Pokemon Blue       GB  1996.0  Role-Playing     11.27   \n",
       "5                     Tetris       GB  1989.0        Puzzle     23.20   \n",
       "9                  Duck Hunt      NES  1984.0       Shooter     26.93   \n",
       "10                Nintendogs       DS  2005.0    Simulation      9.05   \n",
       "\n",
       "    eu_sales  jp_sales  other_sales  critic_score user_score rating  \n",
       "1       3.58      6.81         0.77           NaN        NaN    NaN  \n",
       "4       8.89     10.22         1.00           NaN        NaN    NaN  \n",
       "5       2.26      4.22         0.58           NaN        NaN    NaN  \n",
       "9       0.63      0.28         0.47           NaN        NaN    NaN  \n",
       "10     10.95      1.93         2.74           NaN        NaN    NaN  "
      ]
     },
     "execution_count": 24,
     "metadata": {},
     "output_type": "execute_result"
    }
   ],
   "source": [
    "# выведем строки с пропусками в столбце rating\n",
    "\n",
    "df[df['rating'].isna()].head()"
   ]
  },
  {
   "cell_type": "markdown",
   "metadata": {},
   "source": [
    "В строках с пропусками в столбце rating каких-либо закономерностей не наблюдается. Параметров, которые могут быть напрямую или логически связаны с рейтингом, также нет. Все уникальные значения столбца выглядят правдоподобно.\n",
    "\n",
    "В таком случае оставим пропуски в данных."
   ]
  },
  {
   "cell_type": "markdown",
   "metadata": {},
   "source": [
    "### Изменение типов данных"
   ]
  },
  {
   "cell_type": "code",
   "execution_count": 25,
   "metadata": {},
   "outputs": [
    {
     "name": "stdout",
     "output_type": "stream",
     "text": [
      "<class 'pandas.core.frame.DataFrame'>\n",
      "Int64Index: 16696 entries, 0 to 16714\n",
      "Data columns (total 11 columns):\n",
      " #   Column        Non-Null Count  Dtype  \n",
      "---  ------        --------------  -----  \n",
      " 0   name          16696 non-null  object \n",
      " 1   platform      16696 non-null  object \n",
      " 2   year          16696 non-null  float64\n",
      " 3   genre         16696 non-null  object \n",
      " 4   na_sales      16696 non-null  float64\n",
      " 5   eu_sales      16696 non-null  float64\n",
      " 6   jp_sales      16696 non-null  float64\n",
      " 7   other_sales   16696 non-null  float64\n",
      " 8   critic_score  8121 non-null   float64\n",
      " 9   user_score    7575 non-null   object \n",
      " 10  rating        9932 non-null   object \n",
      "dtypes: float64(6), object(5)\n",
      "memory usage: 1.5+ MB\n"
     ]
    }
   ],
   "source": [
    "# вновь выведем общую информацию о датафрейме\n",
    "\n",
    "df.info()"
   ]
  },
  {
   "cell_type": "markdown",
   "metadata": {},
   "source": [
    "Как видно из вывод предыдущей ячейки, все столбцы, за исключением user_score, имеют логически соответствующие типы данных."
   ]
  },
  {
   "cell_type": "markdown",
   "metadata": {},
   "source": [
    "Также, в целях экономии памяти, заменим все типы данных float64 на float32."
   ]
  },
  {
   "cell_type": "code",
   "execution_count": 26,
   "metadata": {},
   "outputs": [],
   "source": [
    "# изменим типы данных в столбцах\n",
    "\n",
    "df['user_score'] = df['user_score'].astype('float32')\n",
    "df['na_sales'] = df['na_sales'].astype('float32')\n",
    "df['eu_sales'] = df['eu_sales'].astype('float32')\n",
    "df['jp_sales'] = df['jp_sales'].astype('float32')\n",
    "df['other_sales'] = df['other_sales'].astype('float32')\n",
    "df['critic_score'] = df['critic_score'].astype('float32')"
   ]
  },
  {
   "cell_type": "markdown",
   "metadata": {},
   "source": [
    "### Обработка дубликатов"
   ]
  },
  {
   "cell_type": "markdown",
   "metadata": {},
   "source": [
    "#### Явные дубликаты"
   ]
  },
  {
   "cell_type": "code",
   "execution_count": 27,
   "metadata": {},
   "outputs": [
    {
     "data": {
      "text/plain": [
       "0"
      ]
     },
     "execution_count": 27,
     "metadata": {},
     "output_type": "execute_result"
    }
   ],
   "source": [
    "# проверим наличие явных дубликатов в датафрейме\n",
    "\n",
    "df.duplicated().sum()"
   ]
  },
  {
   "cell_type": "code",
   "execution_count": 28,
   "metadata": {},
   "outputs": [
    {
     "data": {
      "text/plain": [
       "5140"
      ]
     },
     "execution_count": 28,
     "metadata": {},
     "output_type": "execute_result"
    }
   ],
   "source": [
    "# проверим наличие дубликатов в столбце name\n",
    "\n",
    "df['name'].duplicated().sum()"
   ]
  },
  {
   "cell_type": "code",
   "execution_count": 29,
   "metadata": {},
   "outputs": [
    {
     "data": {
      "text/html": [
       "<div>\n",
       "<style scoped>\n",
       "    .dataframe tbody tr th:only-of-type {\n",
       "        vertical-align: middle;\n",
       "    }\n",
       "\n",
       "    .dataframe tbody tr th {\n",
       "        vertical-align: top;\n",
       "    }\n",
       "\n",
       "    .dataframe thead th {\n",
       "        text-align: right;\n",
       "    }\n",
       "</style>\n",
       "<table border=\"1\" class=\"dataframe\">\n",
       "  <thead>\n",
       "    <tr style=\"text-align: right;\">\n",
       "      <th></th>\n",
       "      <th>name</th>\n",
       "      <th>platform</th>\n",
       "      <th>year</th>\n",
       "      <th>genre</th>\n",
       "      <th>na_sales</th>\n",
       "      <th>eu_sales</th>\n",
       "      <th>jp_sales</th>\n",
       "      <th>other_sales</th>\n",
       "      <th>critic_score</th>\n",
       "      <th>user_score</th>\n",
       "      <th>rating</th>\n",
       "    </tr>\n",
       "  </thead>\n",
       "  <tbody>\n",
       "    <tr>\n",
       "      <th>23</th>\n",
       "      <td>Grand Theft Auto V</td>\n",
       "      <td>X360</td>\n",
       "      <td>2013.0</td>\n",
       "      <td>Action</td>\n",
       "      <td>9.66</td>\n",
       "      <td>5.14</td>\n",
       "      <td>0.06</td>\n",
       "      <td>1.41</td>\n",
       "      <td>97.0</td>\n",
       "      <td>8.1</td>\n",
       "      <td>M</td>\n",
       "    </tr>\n",
       "    <tr>\n",
       "      <th>35</th>\n",
       "      <td>Call of Duty: Black Ops II</td>\n",
       "      <td>X360</td>\n",
       "      <td>2012.0</td>\n",
       "      <td>Shooter</td>\n",
       "      <td>8.25</td>\n",
       "      <td>4.24</td>\n",
       "      <td>0.07</td>\n",
       "      <td>1.12</td>\n",
       "      <td>83.0</td>\n",
       "      <td>4.8</td>\n",
       "      <td>M</td>\n",
       "    </tr>\n",
       "    <tr>\n",
       "      <th>37</th>\n",
       "      <td>Call of Duty: Modern Warfare 3</td>\n",
       "      <td>PS3</td>\n",
       "      <td>2011.0</td>\n",
       "      <td>Shooter</td>\n",
       "      <td>5.54</td>\n",
       "      <td>5.73</td>\n",
       "      <td>0.49</td>\n",
       "      <td>1.57</td>\n",
       "      <td>88.0</td>\n",
       "      <td>3.2</td>\n",
       "      <td>M</td>\n",
       "    </tr>\n",
       "    <tr>\n",
       "      <th>41</th>\n",
       "      <td>Call of Duty: Black Ops</td>\n",
       "      <td>PS3</td>\n",
       "      <td>2010.0</td>\n",
       "      <td>Shooter</td>\n",
       "      <td>5.99</td>\n",
       "      <td>4.37</td>\n",
       "      <td>0.48</td>\n",
       "      <td>1.79</td>\n",
       "      <td>88.0</td>\n",
       "      <td>6.4</td>\n",
       "      <td>M</td>\n",
       "    </tr>\n",
       "    <tr>\n",
       "      <th>42</th>\n",
       "      <td>Grand Theft Auto V</td>\n",
       "      <td>PS4</td>\n",
       "      <td>2014.0</td>\n",
       "      <td>Action</td>\n",
       "      <td>3.96</td>\n",
       "      <td>6.31</td>\n",
       "      <td>0.38</td>\n",
       "      <td>1.97</td>\n",
       "      <td>97.0</td>\n",
       "      <td>8.3</td>\n",
       "      <td>M</td>\n",
       "    </tr>\n",
       "    <tr>\n",
       "      <th>55</th>\n",
       "      <td>Call of Duty: Modern Warfare 2</td>\n",
       "      <td>PS3</td>\n",
       "      <td>2009.0</td>\n",
       "      <td>Shooter</td>\n",
       "      <td>4.99</td>\n",
       "      <td>3.64</td>\n",
       "      <td>0.38</td>\n",
       "      <td>1.60</td>\n",
       "      <td>94.0</td>\n",
       "      <td>6.3</td>\n",
       "      <td>M</td>\n",
       "    </tr>\n",
       "    <tr>\n",
       "      <th>57</th>\n",
       "      <td>Grand Theft Auto IV</td>\n",
       "      <td>PS3</td>\n",
       "      <td>2008.0</td>\n",
       "      <td>Action</td>\n",
       "      <td>4.76</td>\n",
       "      <td>3.69</td>\n",
       "      <td>0.44</td>\n",
       "      <td>1.61</td>\n",
       "      <td>98.0</td>\n",
       "      <td>7.5</td>\n",
       "      <td>M</td>\n",
       "    </tr>\n",
       "    <tr>\n",
       "      <th>59</th>\n",
       "      <td>Super Mario 64</td>\n",
       "      <td>DS</td>\n",
       "      <td>2004.0</td>\n",
       "      <td>Platform</td>\n",
       "      <td>5.01</td>\n",
       "      <td>3.07</td>\n",
       "      <td>1.25</td>\n",
       "      <td>0.97</td>\n",
       "      <td>NaN</td>\n",
       "      <td>NaN</td>\n",
       "      <td>NaN</td>\n",
       "    </tr>\n",
       "    <tr>\n",
       "      <th>69</th>\n",
       "      <td>Call of Duty: Ghosts</td>\n",
       "      <td>PS3</td>\n",
       "      <td>2013.0</td>\n",
       "      <td>Shooter</td>\n",
       "      <td>4.10</td>\n",
       "      <td>3.63</td>\n",
       "      <td>0.38</td>\n",
       "      <td>1.25</td>\n",
       "      <td>71.0</td>\n",
       "      <td>2.6</td>\n",
       "      <td>M</td>\n",
       "    </tr>\n",
       "    <tr>\n",
       "      <th>99</th>\n",
       "      <td>Call of Duty: Black Ops 3</td>\n",
       "      <td>XOne</td>\n",
       "      <td>2015.0</td>\n",
       "      <td>Shooter</td>\n",
       "      <td>4.59</td>\n",
       "      <td>2.11</td>\n",
       "      <td>0.01</td>\n",
       "      <td>0.68</td>\n",
       "      <td>NaN</td>\n",
       "      <td>NaN</td>\n",
       "      <td>NaN</td>\n",
       "    </tr>\n",
       "    <tr>\n",
       "      <th>104</th>\n",
       "      <td>Battlefield 3</td>\n",
       "      <td>PS3</td>\n",
       "      <td>2011.0</td>\n",
       "      <td>Shooter</td>\n",
       "      <td>2.85</td>\n",
       "      <td>2.89</td>\n",
       "      <td>0.35</td>\n",
       "      <td>1.08</td>\n",
       "      <td>85.0</td>\n",
       "      <td>7.5</td>\n",
       "      <td>M</td>\n",
       "    </tr>\n",
       "    <tr>\n",
       "      <th>120</th>\n",
       "      <td>Call of Duty 4: Modern Warfare</td>\n",
       "      <td>PS3</td>\n",
       "      <td>2007.0</td>\n",
       "      <td>Shooter</td>\n",
       "      <td>3.11</td>\n",
       "      <td>2.26</td>\n",
       "      <td>0.28</td>\n",
       "      <td>1.03</td>\n",
       "      <td>94.0</td>\n",
       "      <td>8.4</td>\n",
       "      <td>M</td>\n",
       "    </tr>\n",
       "    <tr>\n",
       "      <th>130</th>\n",
       "      <td>The Elder Scrolls V: Skyrim</td>\n",
       "      <td>PS3</td>\n",
       "      <td>2011.0</td>\n",
       "      <td>Role-Playing</td>\n",
       "      <td>2.55</td>\n",
       "      <td>2.60</td>\n",
       "      <td>0.25</td>\n",
       "      <td>1.00</td>\n",
       "      <td>92.0</td>\n",
       "      <td>6.4</td>\n",
       "      <td>M</td>\n",
       "    </tr>\n",
       "    <tr>\n",
       "      <th>135</th>\n",
       "      <td>Red Dead Redemption</td>\n",
       "      <td>X360</td>\n",
       "      <td>2010.0</td>\n",
       "      <td>Action</td>\n",
       "      <td>3.70</td>\n",
       "      <td>1.95</td>\n",
       "      <td>0.09</td>\n",
       "      <td>0.58</td>\n",
       "      <td>95.0</td>\n",
       "      <td>9.0</td>\n",
       "      <td>M</td>\n",
       "    </tr>\n",
       "    <tr>\n",
       "      <th>157</th>\n",
       "      <td>Tetris</td>\n",
       "      <td>NES</td>\n",
       "      <td>1988.0</td>\n",
       "      <td>Puzzle</td>\n",
       "      <td>2.97</td>\n",
       "      <td>0.69</td>\n",
       "      <td>1.81</td>\n",
       "      <td>0.11</td>\n",
       "      <td>NaN</td>\n",
       "      <td>NaN</td>\n",
       "      <td>NaN</td>\n",
       "    </tr>\n",
       "    <tr>\n",
       "      <th>165</th>\n",
       "      <td>Grand Theft Auto V</td>\n",
       "      <td>XOne</td>\n",
       "      <td>2014.0</td>\n",
       "      <td>Action</td>\n",
       "      <td>2.81</td>\n",
       "      <td>2.19</td>\n",
       "      <td>0.00</td>\n",
       "      <td>0.47</td>\n",
       "      <td>97.0</td>\n",
       "      <td>7.9</td>\n",
       "      <td>M</td>\n",
       "    </tr>\n",
       "    <tr>\n",
       "      <th>167</th>\n",
       "      <td>Super Mario World</td>\n",
       "      <td>GBA</td>\n",
       "      <td>2001.0</td>\n",
       "      <td>Platform</td>\n",
       "      <td>3.21</td>\n",
       "      <td>1.11</td>\n",
       "      <td>0.95</td>\n",
       "      <td>0.20</td>\n",
       "      <td>NaN</td>\n",
       "      <td>NaN</td>\n",
       "      <td>NaN</td>\n",
       "    </tr>\n",
       "    <tr>\n",
       "      <th>170</th>\n",
       "      <td>Call of Duty: World at War</td>\n",
       "      <td>PS3</td>\n",
       "      <td>2008.0</td>\n",
       "      <td>Shooter</td>\n",
       "      <td>2.73</td>\n",
       "      <td>1.83</td>\n",
       "      <td>0.00</td>\n",
       "      <td>0.83</td>\n",
       "      <td>85.0</td>\n",
       "      <td>7.6</td>\n",
       "      <td>M</td>\n",
       "    </tr>\n",
       "    <tr>\n",
       "      <th>176</th>\n",
       "      <td>Assassin's Creed III</td>\n",
       "      <td>X360</td>\n",
       "      <td>2012.0</td>\n",
       "      <td>Action</td>\n",
       "      <td>3.13</td>\n",
       "      <td>1.69</td>\n",
       "      <td>0.03</td>\n",
       "      <td>0.44</td>\n",
       "      <td>84.0</td>\n",
       "      <td>6.7</td>\n",
       "      <td>M</td>\n",
       "    </tr>\n",
       "    <tr>\n",
       "      <th>179</th>\n",
       "      <td>Call of Duty: Advanced Warfare</td>\n",
       "      <td>XOne</td>\n",
       "      <td>2014.0</td>\n",
       "      <td>Shooter</td>\n",
       "      <td>3.22</td>\n",
       "      <td>1.55</td>\n",
       "      <td>0.01</td>\n",
       "      <td>0.48</td>\n",
       "      <td>81.0</td>\n",
       "      <td>5.4</td>\n",
       "      <td>M</td>\n",
       "    </tr>\n",
       "  </tbody>\n",
       "</table>\n",
       "</div>"
      ],
      "text/plain": [
       "                               name platform    year         genre  na_sales  \\\n",
       "23               Grand Theft Auto V     X360  2013.0        Action      9.66   \n",
       "35       Call of Duty: Black Ops II     X360  2012.0       Shooter      8.25   \n",
       "37   Call of Duty: Modern Warfare 3      PS3  2011.0       Shooter      5.54   \n",
       "41          Call of Duty: Black Ops      PS3  2010.0       Shooter      5.99   \n",
       "42               Grand Theft Auto V      PS4  2014.0        Action      3.96   \n",
       "55   Call of Duty: Modern Warfare 2      PS3  2009.0       Shooter      4.99   \n",
       "57              Grand Theft Auto IV      PS3  2008.0        Action      4.76   \n",
       "59                   Super Mario 64       DS  2004.0      Platform      5.01   \n",
       "69             Call of Duty: Ghosts      PS3  2013.0       Shooter      4.10   \n",
       "99        Call of Duty: Black Ops 3     XOne  2015.0       Shooter      4.59   \n",
       "104                   Battlefield 3      PS3  2011.0       Shooter      2.85   \n",
       "120  Call of Duty 4: Modern Warfare      PS3  2007.0       Shooter      3.11   \n",
       "130     The Elder Scrolls V: Skyrim      PS3  2011.0  Role-Playing      2.55   \n",
       "135             Red Dead Redemption     X360  2010.0        Action      3.70   \n",
       "157                          Tetris      NES  1988.0        Puzzle      2.97   \n",
       "165              Grand Theft Auto V     XOne  2014.0        Action      2.81   \n",
       "167               Super Mario World      GBA  2001.0      Platform      3.21   \n",
       "170      Call of Duty: World at War      PS3  2008.0       Shooter      2.73   \n",
       "176            Assassin's Creed III     X360  2012.0        Action      3.13   \n",
       "179  Call of Duty: Advanced Warfare     XOne  2014.0       Shooter      3.22   \n",
       "\n",
       "     eu_sales  jp_sales  other_sales  critic_score  user_score rating  \n",
       "23       5.14      0.06         1.41          97.0         8.1      M  \n",
       "35       4.24      0.07         1.12          83.0         4.8      M  \n",
       "37       5.73      0.49         1.57          88.0         3.2      M  \n",
       "41       4.37      0.48         1.79          88.0         6.4      M  \n",
       "42       6.31      0.38         1.97          97.0         8.3      M  \n",
       "55       3.64      0.38         1.60          94.0         6.3      M  \n",
       "57       3.69      0.44         1.61          98.0         7.5      M  \n",
       "59       3.07      1.25         0.97           NaN         NaN    NaN  \n",
       "69       3.63      0.38         1.25          71.0         2.6      M  \n",
       "99       2.11      0.01         0.68           NaN         NaN    NaN  \n",
       "104      2.89      0.35         1.08          85.0         7.5      M  \n",
       "120      2.26      0.28         1.03          94.0         8.4      M  \n",
       "130      2.60      0.25         1.00          92.0         6.4      M  \n",
       "135      1.95      0.09         0.58          95.0         9.0      M  \n",
       "157      0.69      1.81         0.11           NaN         NaN    NaN  \n",
       "165      2.19      0.00         0.47          97.0         7.9      M  \n",
       "167      1.11      0.95         0.20           NaN         NaN    NaN  \n",
       "170      1.83      0.00         0.83          85.0         7.6      M  \n",
       "176      1.69      0.03         0.44          84.0         6.7      M  \n",
       "179      1.55      0.01         0.48          81.0         5.4      M  "
      ]
     },
     "execution_count": 29,
     "metadata": {},
     "output_type": "execute_result"
    }
   ],
   "source": [
    "# выведем соответствующие строки\n",
    "\n",
    "df[df['name'].duplicated()].head(20)"
   ]
  },
  {
   "cell_type": "code",
   "execution_count": 30,
   "metadata": {},
   "outputs": [
    {
     "data": {
      "text/html": [
       "<div>\n",
       "<style scoped>\n",
       "    .dataframe tbody tr th:only-of-type {\n",
       "        vertical-align: middle;\n",
       "    }\n",
       "\n",
       "    .dataframe tbody tr th {\n",
       "        vertical-align: top;\n",
       "    }\n",
       "\n",
       "    .dataframe thead th {\n",
       "        text-align: right;\n",
       "    }\n",
       "</style>\n",
       "<table border=\"1\" class=\"dataframe\">\n",
       "  <thead>\n",
       "    <tr style=\"text-align: right;\">\n",
       "      <th></th>\n",
       "      <th>name</th>\n",
       "      <th>platform</th>\n",
       "      <th>year</th>\n",
       "      <th>genre</th>\n",
       "      <th>na_sales</th>\n",
       "      <th>eu_sales</th>\n",
       "      <th>jp_sales</th>\n",
       "      <th>other_sales</th>\n",
       "      <th>critic_score</th>\n",
       "      <th>user_score</th>\n",
       "      <th>rating</th>\n",
       "    </tr>\n",
       "  </thead>\n",
       "  <tbody>\n",
       "    <tr>\n",
       "      <th>16</th>\n",
       "      <td>Grand Theft Auto V</td>\n",
       "      <td>PS3</td>\n",
       "      <td>2013.0</td>\n",
       "      <td>Action</td>\n",
       "      <td>7.02</td>\n",
       "      <td>9.09</td>\n",
       "      <td>0.98</td>\n",
       "      <td>3.96</td>\n",
       "      <td>97.0</td>\n",
       "      <td>8.2</td>\n",
       "      <td>M</td>\n",
       "    </tr>\n",
       "    <tr>\n",
       "      <th>23</th>\n",
       "      <td>Grand Theft Auto V</td>\n",
       "      <td>X360</td>\n",
       "      <td>2013.0</td>\n",
       "      <td>Action</td>\n",
       "      <td>9.66</td>\n",
       "      <td>5.14</td>\n",
       "      <td>0.06</td>\n",
       "      <td>1.41</td>\n",
       "      <td>97.0</td>\n",
       "      <td>8.1</td>\n",
       "      <td>M</td>\n",
       "    </tr>\n",
       "    <tr>\n",
       "      <th>42</th>\n",
       "      <td>Grand Theft Auto V</td>\n",
       "      <td>PS4</td>\n",
       "      <td>2014.0</td>\n",
       "      <td>Action</td>\n",
       "      <td>3.96</td>\n",
       "      <td>6.31</td>\n",
       "      <td>0.38</td>\n",
       "      <td>1.97</td>\n",
       "      <td>97.0</td>\n",
       "      <td>8.3</td>\n",
       "      <td>M</td>\n",
       "    </tr>\n",
       "    <tr>\n",
       "      <th>165</th>\n",
       "      <td>Grand Theft Auto V</td>\n",
       "      <td>XOne</td>\n",
       "      <td>2014.0</td>\n",
       "      <td>Action</td>\n",
       "      <td>2.81</td>\n",
       "      <td>2.19</td>\n",
       "      <td>0.00</td>\n",
       "      <td>0.47</td>\n",
       "      <td>97.0</td>\n",
       "      <td>7.9</td>\n",
       "      <td>M</td>\n",
       "    </tr>\n",
       "    <tr>\n",
       "      <th>1730</th>\n",
       "      <td>Grand Theft Auto V</td>\n",
       "      <td>PC</td>\n",
       "      <td>2015.0</td>\n",
       "      <td>Action</td>\n",
       "      <td>0.39</td>\n",
       "      <td>0.69</td>\n",
       "      <td>0.00</td>\n",
       "      <td>0.09</td>\n",
       "      <td>96.0</td>\n",
       "      <td>7.9</td>\n",
       "      <td>M</td>\n",
       "    </tr>\n",
       "  </tbody>\n",
       "</table>\n",
       "</div>"
      ],
      "text/plain": [
       "                    name platform    year   genre  na_sales  eu_sales  \\\n",
       "16    Grand Theft Auto V      PS3  2013.0  Action      7.02      9.09   \n",
       "23    Grand Theft Auto V     X360  2013.0  Action      9.66      5.14   \n",
       "42    Grand Theft Auto V      PS4  2014.0  Action      3.96      6.31   \n",
       "165   Grand Theft Auto V     XOne  2014.0  Action      2.81      2.19   \n",
       "1730  Grand Theft Auto V       PC  2015.0  Action      0.39      0.69   \n",
       "\n",
       "      jp_sales  other_sales  critic_score  user_score rating  \n",
       "16        0.98         3.96          97.0         8.2      M  \n",
       "23        0.06         1.41          97.0         8.1      M  \n",
       "42        0.38         1.97          97.0         8.3      M  \n",
       "165       0.00         0.47          97.0         7.9      M  \n",
       "1730      0.00         0.09          96.0         7.9      M  "
      ]
     },
     "execution_count": 30,
     "metadata": {},
     "output_type": "execute_result"
    }
   ],
   "source": [
    "# выведем строки с игрой Grand Theft Auto V\n",
    "\n",
    "df.query('name == \"Grand Theft Auto V\"')"
   ]
  },
  {
   "cell_type": "markdown",
   "metadata": {},
   "source": [
    "Как мы видим, хотя в столбце name и присутствуют дубликаты, однако их наличие связано с тем, что одна и та же игра может выходить на разных платформах."
   ]
  },
  {
   "cell_type": "markdown",
   "metadata": {},
   "source": [
    "#### Неявные дубликаты"
   ]
  },
  {
   "cell_type": "markdown",
   "metadata": {},
   "source": [
    "Проверим наличие неявных дубликатов по значениям из столбцов с типом данных object."
   ]
  },
  {
   "cell_type": "code",
   "execution_count": 31,
   "metadata": {},
   "outputs": [
    {
     "name": "stdout",
     "output_type": "stream",
     "text": [
      "Количество уникальных значений в столбцах:\n",
      "name -   11556\n",
      "platform -   31\n",
      "genre -   12\n"
     ]
    }
   ],
   "source": [
    "print('Количество уникальных значений в столбцах:')\n",
    "print('name -  ',  df['name'].nunique())\n",
    "print('platform -  ',  df['platform'].nunique())\n",
    "print('genre -  ',  df['genre'].nunique())"
   ]
  },
  {
   "cell_type": "markdown",
   "metadata": {},
   "source": [
    "Неявных дубликатов не обнаружено."
   ]
  },
  {
   "cell_type": "markdown",
   "metadata": {},
   "source": [
    "### Добавление новых столбцов"
   ]
  },
  {
   "cell_type": "markdown",
   "metadata": {},
   "source": [
    "Добавим в датафрейм столбец с суммарными продажами игр во всех регионах."
   ]
  },
  {
   "cell_type": "code",
   "execution_count": 32,
   "metadata": {},
   "outputs": [],
   "source": [
    "df['total_sales'] = df['na_sales'] + df['eu_sales'] + df['jp_sales'] + df['other_sales']"
   ]
  },
  {
   "cell_type": "markdown",
   "metadata": {},
   "source": [
    "### Обработка аномальных значений"
   ]
  },
  {
   "cell_type": "code",
   "execution_count": 33,
   "metadata": {},
   "outputs": [
    {
     "data": {
      "image/png": "[encoded data removed]",
      "text/plain": [
       "<Figure size 720x720 with 9 Axes>"
      ]
     },
     "metadata": {
      "needs_background": "light"
     },
     "output_type": "display_data"
    }
   ],
   "source": [
    "# построим гистограммы для всех столбцов обновленного датафрейма с числовыми значениями\n",
    "\n",
    "df.hist(figsize=(10, 10));"
   ]
  },
  {
   "cell_type": "markdown",
   "metadata": {},
   "source": [
    "По гистограммам видно, что в столбцах с продажами присутствуют аномалии. Обработаем их."
   ]
  },
  {
   "cell_type": "markdown",
   "metadata": {},
   "source": [
    "#### na_sales"
   ]
  },
  {
   "cell_type": "code",
   "execution_count": 34,
   "metadata": {},
   "outputs": [
    {
     "data": {
      "image/png": "[encoded data removed]",
      "text/plain": [
       "<Figure size 432x288 with 1 Axes>"
      ]
     },
     "metadata": {
      "needs_background": "light"
     },
     "output_type": "display_data"
    },
    {
     "data": {
      "image/png": "[encoded data removed]",
      "text/plain": [
       "<Figure size 432x288 with 1 Axes>"
      ]
     },
     "metadata": {
      "needs_background": "light"
     },
     "output_type": "display_data"
    },
    {
     "data": {
      "image/png": "[encoded data removed]",
      "text/plain": [
       "<Figure size 432x288 with 1 Axes>"
      ]
     },
     "metadata": {
      "needs_background": "light"
     },
     "output_type": "display_data"
    },
    {
     "data": {
      "image/png": "[encoded data removed]",
      "text/plain": [
       "<Figure size 432x288 with 1 Axes>"
      ]
     },
     "metadata": {
      "needs_background": "light"
     },
     "output_type": "display_data"
    }
   ],
   "source": [
    "# построим более наглядные гистограммы для столбца na_sales\n",
    "\n",
    "df.plot(y=('na_sales'), kind='hist', bins=100, title='все значения');\n",
    "\n",
    "df.plot(y=('na_sales'), kind='hist', bins=100, ylim=(0, 100), title='максимум 100 значений');\n",
    "\n",
    "df.plot(y=('na_sales'), kind='hist', bins=100, ylim=(0, 10), title='максимум 10 значений');\n",
    "\n",
    "df.plot(y=('na_sales'), kind='hist', bins=100, xlim=(0, 10), ylim=(0, 100),\n",
    "        title='менее 10 млн; максимум 100 значений');"
   ]
  },
  {
   "cell_type": "code",
   "execution_count": 35,
   "metadata": {},
   "outputs": [
    {
     "data": {
      "text/plain": [
       "43"
      ]
     },
     "execution_count": 35,
     "metadata": {},
     "output_type": "execute_result"
    }
   ],
   "source": [
    "# посчитаем количество строк датафрейма со значением na_sales более 6 миллионов проданных копий\n",
    "\n",
    "len(df.query('na_sales > 6'))"
   ]
  },
  {
   "cell_type": "code",
   "execution_count": 36,
   "metadata": {},
   "outputs": [
    {
     "data": {
      "text/plain": [
       "0.35260352603526035"
      ]
     },
     "execution_count": 36,
     "metadata": {},
     "output_type": "execute_result"
    }
   ],
   "source": [
    "# посчитаем отношение таких данных к ненулевым данным\n",
    "\n",
    "(len(df.query('na_sales > 6')) / len(df.query('na_sales > 0'))) * 100"
   ]
  },
  {
   "cell_type": "markdown",
   "metadata": {},
   "source": [
    "Значения более 6 миллионов проданных копий являются аномалиями. Также стоит отметить, что таких значений в датафрейме немного. Удалим соответствующие строки."
   ]
  },
  {
   "cell_type": "code",
   "execution_count": 37,
   "metadata": {},
   "outputs": [],
   "source": [
    "# удалим строки с аномалиями в столбце na_sales\n",
    "\n",
    "df = df.drop(df[df['na_sales'] > 6].index)"
   ]
  },
  {
   "cell_type": "markdown",
   "metadata": {},
   "source": [
    "#### eu_sales"
   ]
  },
  {
   "cell_type": "code",
   "execution_count": 38,
   "metadata": {},
   "outputs": [
    {
     "data": {
      "image/png": "[encoded data removed]",
      "text/plain": [
       "<Figure size 432x288 with 1 Axes>"
      ]
     },
     "metadata": {
      "needs_background": "light"
     },
     "output_type": "display_data"
    },
    {
     "data": {
      "image/png": "[encoded data removed]",
      "text/plain": [
       "<Figure size 432x288 with 1 Axes>"
      ]
     },
     "metadata": {
      "needs_background": "light"
     },
     "output_type": "display_data"
    },
    {
     "data": {
      "image/png": "[encoded data removed]",
      "text/plain": [
       "<Figure size 432x288 with 1 Axes>"
      ]
     },
     "metadata": {
      "needs_background": "light"
     },
     "output_type": "display_data"
    },
    {
     "data": {
      "image/png": "[encoded data removed]",
      "text/plain": [
       "<Figure size 432x288 with 1 Axes>"
      ]
     },
     "metadata": {
      "needs_background": "light"
     },
     "output_type": "display_data"
    }
   ],
   "source": [
    "# построим более наглядные гистограммы для столбца eu_sales\n",
    "\n",
    "df.plot(y=('eu_sales'), kind='hist', bins=100, title='все значения');\n",
    "\n",
    "df.plot(y=('eu_sales'), kind='hist', bins=100, ylim=(0, 100), title='максимум 100 значений');\n",
    "\n",
    "df.plot(y=('eu_sales'), kind='hist', bins=100, ylim=(0, 10), title='максимум 10 значений');\n",
    "\n",
    "df.plot(y=('eu_sales'), kind='hist', bins=100, xlim=(0, 7), ylim=(0, 50),\n",
    "        title='менее 7 млн; максимум 50 значений');"
   ]
  },
  {
   "cell_type": "code",
   "execution_count": 39,
   "metadata": {},
   "outputs": [
    {
     "data": {
      "text/plain": [
       "114"
      ]
     },
     "execution_count": 39,
     "metadata": {},
     "output_type": "execute_result"
    }
   ],
   "source": [
    "# посчитаем количество строк датафрейма со значением eu_sales более 3 миллионов проданных копий\n",
    "\n",
    "len(df.query('eu_sales > 2'))"
   ]
  },
  {
   "cell_type": "code",
   "execution_count": 40,
   "metadata": {},
   "outputs": [
    {
     "data": {
      "text/plain": [
       "1.0570236439499305"
      ]
     },
     "execution_count": 40,
     "metadata": {},
     "output_type": "execute_result"
    }
   ],
   "source": [
    "# посчитаем отношение таких данных к ненулевым данным\n",
    "\n",
    "(len(df.query('eu_sales > 2')) / len(df.query('eu_sales > 0'))) * 100"
   ]
  },
  {
   "cell_type": "markdown",
   "metadata": {},
   "source": [
    "Значения более 2 миллионов проданных копий являются аномалиями. Также стоит отметить, что таких значений в датафрейме немного. Удалим соответствующие строки."
   ]
  },
  {
   "cell_type": "code",
   "execution_count": 41,
   "metadata": {},
   "outputs": [],
   "source": [
    "# удалим строки с аномалиями в столбце eu_sales\n",
    "\n",
    "df = df.drop(df[df['eu_sales'] > 2].index)"
   ]
  },
  {
   "cell_type": "markdown",
   "metadata": {},
   "source": [
    "#### jp_sales"
   ]
  },
  {
   "cell_type": "code",
   "execution_count": 42,
   "metadata": {},
   "outputs": [
    {
     "data": {
      "image/png": "[encoded data removed]",
      "text/plain": [
       "<Figure size 432x288 with 1 Axes>"
      ]
     },
     "metadata": {
      "needs_background": "light"
     },
     "output_type": "display_data"
    },
    {
     "data": {
      "image/png": "[encoded data removed]",
      "text/plain": [
       "<Figure size 432x288 with 1 Axes>"
      ]
     },
     "metadata": {
      "needs_background": "light"
     },
     "output_type": "display_data"
    },
    {
     "data": {
      "image/png": "[encoded data removed]",
      "text/plain": [
       "<Figure size 432x288 with 1 Axes>"
      ]
     },
     "metadata": {
      "needs_background": "light"
     },
     "output_type": "display_data"
    },
    {
     "data": {
      "image/png": "[encoded data removed]",
      "text/plain": [
       "<Figure size 432x288 with 1 Axes>"
      ]
     },
     "metadata": {
      "needs_background": "light"
     },
     "output_type": "display_data"
    }
   ],
   "source": [
    "# построим более наглядные гистограммы для столбца jp_sales\n",
    "\n",
    "df.plot(y=('jp_sales'), kind='hist', bins=100, title='все значения');\n",
    "\n",
    "df.plot(y=('jp_sales'), kind='hist', bins=100, ylim=(0, 100), title='максимум 100 значений');\n",
    "\n",
    "df.plot(y=('jp_sales'), kind='hist', bins=100, ylim=(0, 10), title='максимум 10 значений');\n",
    "\n",
    "df.plot(y=('jp_sales'), kind='hist', bins=100, xlim=(0, 5), ylim=(0, 50),\n",
    "        title='менее 5 млн; максимум 50 значений');"
   ]
  },
  {
   "cell_type": "code",
   "execution_count": 43,
   "metadata": {},
   "outputs": [
    {
     "data": {
      "text/plain": [
       "58"
      ]
     },
     "execution_count": 43,
     "metadata": {},
     "output_type": "execute_result"
    }
   ],
   "source": [
    "# посчитаем количество строк датафрейма со значением jp_sales более 1.7 миллионов проданных копий\n",
    "\n",
    "len(df.query('jp_sales > 1.7'))"
   ]
  },
  {
   "cell_type": "code",
   "execution_count": 44,
   "metadata": {},
   "outputs": [
    {
     "data": {
      "text/plain": [
       "0.957095709570957"
      ]
     },
     "execution_count": 44,
     "metadata": {},
     "output_type": "execute_result"
    }
   ],
   "source": [
    "# посчитаем отношение таких данных к ненулевым данным\n",
    "\n",
    "(len(df.query('jp_sales > 1.7')) / len(df.query('jp_sales > 0'))) * 100"
   ]
  },
  {
   "cell_type": "markdown",
   "metadata": {},
   "source": [
    "Значения более 1.7 миллионов проданных копий являются аномалиями. Также стоит отметить, что таких значений в датафрейме немного. Удалим соответствующие строки."
   ]
  },
  {
   "cell_type": "code",
   "execution_count": 45,
   "metadata": {},
   "outputs": [],
   "source": [
    "# удалим строки с аномалиями в столбце jp_sales\n",
    "\n",
    "df = df.drop(df[df['jp_sales'] > 1.7].index)"
   ]
  },
  {
   "cell_type": "markdown",
   "metadata": {},
   "source": [
    "#### other_sales"
   ]
  },
  {
   "cell_type": "code",
   "execution_count": 46,
   "metadata": {},
   "outputs": [
    {
     "data": {
      "image/png": "[encoded data removed]",
      "text/plain": [
       "<Figure size 432x288 with 1 Axes>"
      ]
     },
     "metadata": {
      "needs_background": "light"
     },
     "output_type": "display_data"
    },
    {
     "data": {
      "image/png": "[encoded data removed]",
      "text/plain": [
       "<Figure size 432x288 with 1 Axes>"
      ]
     },
     "metadata": {
      "needs_background": "light"
     },
     "output_type": "display_data"
    },
    {
     "data": {
      "image/png": "[encoded data removed]",
      "text/plain": [
       "<Figure size 432x288 with 1 Axes>"
      ]
     },
     "metadata": {
      "needs_background": "light"
     },
     "output_type": "display_data"
    },
    {
     "data": {
      "image/png": "[encoded data removed]",
      "text/plain": [
       "<Figure size 432x288 with 1 Axes>"
      ]
     },
     "metadata": {
      "needs_background": "light"
     },
     "output_type": "display_data"
    }
   ],
   "source": [
    "# построим более наглядные гистограммы для столбца other_sales\n",
    "\n",
    "df.plot(y=('other_sales'), kind='hist', bins=100, title='все значения');\n",
    "\n",
    "df.plot(y=('other_sales'), kind='hist', bins=100, ylim=(0, 100), title='максимум 100 значений');\n",
    "\n",
    "df.plot(y=('other_sales'), kind='hist', bins=100, ylim=(0, 10), title='максимум 10 значений');\n",
    "\n",
    "df.plot(y=('other_sales'), kind='hist', bins=100, xlim=(0, 3), ylim=(0, 50),\n",
    "        title='менее 3 млн; максимум 50 значений');"
   ]
  },
  {
   "cell_type": "code",
   "execution_count": 47,
   "metadata": {},
   "outputs": [
    {
     "data": {
      "text/plain": [
       "69"
      ]
     },
     "execution_count": 47,
     "metadata": {},
     "output_type": "execute_result"
    }
   ],
   "source": [
    "# посчитаем количество строк датафрейма со значением other_sales более 0.6 миллиона проданных копий\n",
    "\n",
    "len(df.query('other_sales > .6'))"
   ]
  },
  {
   "cell_type": "code",
   "execution_count": 48,
   "metadata": {},
   "outputs": [
    {
     "data": {
      "text/plain": [
       "0.6968993031006969"
      ]
     },
     "execution_count": 48,
     "metadata": {},
     "output_type": "execute_result"
    }
   ],
   "source": [
    "# посчитаем отношение таких данных к ненулевым данным\n",
    "\n",
    "(len(df.query('other_sales > .6')) / len(df.query('other_sales > 0'))) * 100"
   ]
  },
  {
   "cell_type": "markdown",
   "metadata": {},
   "source": [
    "Значения более 0.6 миллиона проданных копий являются аномалиями. Также стоит отметить, что таких значений в датафрейме немного. Удалим соответствующие строки."
   ]
  },
  {
   "cell_type": "code",
   "execution_count": 49,
   "metadata": {},
   "outputs": [],
   "source": [
    "# удалим строки с аномалиями в столбце other_sales\n",
    "\n",
    "df = df.drop(df[df['other_sales'] > .6].index)"
   ]
  },
  {
   "cell_type": "code",
   "execution_count": 50,
   "metadata": {},
   "outputs": [
    {
     "data": {
      "image/png": "[encoded data removed]",
      "text/plain": [
       "<Figure size 720x720 with 9 Axes>"
      ]
     },
     "metadata": {
      "needs_background": "light"
     },
     "output_type": "display_data"
    }
   ],
   "source": [
    "# вновь построим гистограммы для всех столбцов датафрейма с числовыми значениями\n",
    "\n",
    "df.hist(figsize=(10, 10));"
   ]
  },
  {
   "cell_type": "markdown",
   "metadata": {},
   "source": [
    "## Исследовательский анализ данных"
   ]
  },
  {
   "cell_type": "markdown",
   "metadata": {},
   "source": [
    "### Анализ релиза игр по годам"
   ]
  },
  {
   "cell_type": "code",
   "execution_count": 51,
   "metadata": {},
   "outputs": [
    {
     "name": "stdout",
     "output_type": "stream",
     "text": [
      "Минимальный год релиза - 1980.0\n",
      "Максимальный год релиза - 2016.0\n"
     ]
    }
   ],
   "source": [
    "print('Минимальный год релиза -', df['year'].min())\n",
    "print('Максимальный год релиза -', df['year'].max())"
   ]
  },
  {
   "cell_type": "code",
   "execution_count": 52,
   "metadata": {
    "scrolled": false
   },
   "outputs": [
    {
     "data": {
      "image/png": "[encoded data removed]",
      "text/plain": [
       "<Figure size 576x720 with 1 Axes>"
      ]
     },
     "metadata": {
      "needs_background": "light"
     },
     "output_type": "display_data"
    }
   ],
   "source": [
    "ax = df['year'].value_counts().plot(kind='barh', figsize=(8,10))\n",
    "\n",
    "pl = ax.bar_label(ax.containers[0])"
   ]
  },
  {
   "cell_type": "code",
   "execution_count": 53,
   "metadata": {},
   "outputs": [
    {
     "data": {
      "text/plain": [
       "0.6587253229344382"
      ]
     },
     "execution_count": 53,
     "metadata": {},
     "output_type": "execute_result"
    }
   ],
   "source": [
    "# выведем отношение числа игр, выпущенных в период с 2005 по 2012 год, к общему числу игр\n",
    "\n",
    "len(df.query('2001 < year < 2012')) / len(df)"
   ]
  },
  {
   "cell_type": "code",
   "execution_count": 54,
   "metadata": {},
   "outputs": [
    {
     "name": "stdout",
     "output_type": "stream",
     "text": [
      "Cреднее количество игр, выпущенных за один год    443.6\n",
      "Медианное количество игр, выпущенных за один год  336.0\n"
     ]
    }
   ],
   "source": [
    "print('Cреднее количество игр, выпущенных за один год   ', round(df['year'].value_counts().mean(), 1))\n",
    "print('Медианное количество игр, выпущенных за один год ', df['year'].value_counts().median())"
   ]
  },
  {
   "cell_type": "code",
   "execution_count": 55,
   "metadata": {},
   "outputs": [
    {
     "name": "stdout",
     "output_type": "stream",
     "text": [
      "Количество игр, выпущенных в 80-e годы:         182\n",
      "Количество игр, выпущенных в 90-e годы:         1389\n",
      "Количество игр, выпущенных в 00-e годы:         7418\n",
      "Количество игр, выпущенных с 2010 по 2016 года: 3484\n"
     ]
    }
   ],
   "source": [
    "# рассчитаем количество игр, выпущенных в 80-e годы\n",
    "\n",
    "print('Количество игр, выпущенных в 80-e годы:        ', len(df.query('1980 < year < 1989')))\n",
    "print('Количество игр, выпущенных в 90-e годы:        ', len(df.query('1990 < year < 1999')))\n",
    "print('Количество игр, выпущенных в 00-e годы:        ', len(df.query('2000 < year < 2009')))\n",
    "print('Количество игр, выпущенных с 2010 по 2016 года:', len(df.query('2010 < year < 2016')))"
   ]
  },
  {
   "cell_type": "code",
   "execution_count": 56,
   "metadata": {},
   "outputs": [
    {
     "data": {
      "image/png": "[encoded data removed]",
      "text/plain": [
       "<Figure size 432x288 with 1 Axes>"
      ]
     },
     "metadata": {
      "needs_background": "light"
     },
     "output_type": "display_data"
    },
    {
     "data": {
      "image/png": "[encoded data removed]",
      "text/plain": [
       "<Figure size 432x288 with 1 Axes>"
      ]
     },
     "metadata": {
      "needs_background": "light"
     },
     "output_type": "display_data"
    }
   ],
   "source": [
    "# построим гистограммы для столбца year\n",
    "\n",
    "df.plot(y='year', kind='hist', bins=10, title='10 корзин');\n",
    "df.plot(y='year', kind='hist', bins=100, title='100 корзин', grid=True);"
   ]
  },
  {
   "cell_type": "markdown",
   "metadata": {},
   "source": [
    "Мы получили следуюшие данные:\n",
    "- в датафрейме представлены данные о релизах игр с 1980 по 2016 года включительно;\n",
    "- наибольшее количество игр было выпущено в 2009 году - почти 1500, наименьшее - в 1980 - 9;\n",
    "- среднее количество игр, выпущенных за один год, составляет 444;\n",
    "- медианное количество игр, выпущенных за один год, составляет 336;\n",
    "- в 80-е годы было выпущено 182 игры, в 90-е - 1389, в 00-е - 7418, с 2010 по 2016 года - 3484.\n",
    "\n",
    "**По полученным данным можно сделать следующие выводы**:\n",
    "- начиная с 2002 года заметен скачок количества выпущенных за год игр: вплоть до 2011 года этот параметр составляет не менее 750;\n",
    "- кроме того, в период с 2002 по 2011 года были выпущены две трети игр;\n",
    "- до 2011 года включительно наблюдается тенденция к увеличению количества выпущенных за год игр, после - тенденция к уменьшению;\n",
    "- в связи с полученными данными можно выделить 5 временных периодов:\n",
    " - 1980-1993 - период становления игровой индустрии: ежегодно выходят не более 60 игр;\n",
    " - 1994-2001 - период бурного роста: количество выпускаемых игр увеличивается со 118 до 477;\n",
    " - 2002-2009 - \"золотой\" период индустрии: в год выпускается не менее 750 игр, в период с 2005 года - не менее 800, с 2007 - не менее 1000; пик приходится на 2009 год - почти 1.5 тысячи выпущенных игр;\n",
    " - 2010-2011 - период плавного спада: за 2010 год выходит менее 1300 игр, за 2011 - менее 1200;\n",
    " - 2012-2016 - период резкого спада: в 2012 году выходит 641 игра, далее - менее 600 игр в год.\n",
    "\n",
    "\n",
    "\n"
   ]
  },
  {
   "cell_type": "markdown",
   "metadata": {},
   "source": [
    "### Анализ продаж по платформам"
   ]
  },
  {
   "cell_type": "code",
   "execution_count": 57,
   "metadata": {},
   "outputs": [
    {
     "data": {
      "text/plain": [
       "platform\n",
       "PS2     996.409973\n",
       "X360    751.739990\n",
       "PS3     667.020020\n",
       "PS      623.220032\n",
       "DS      566.229980\n",
       "Wii     551.229980\n",
       "GBA     285.100006\n",
       "XB      249.259995\n",
       "PSP     242.569992\n",
       "PC      224.110001\n",
       "GC      198.929993\n",
       "PS4     184.740005\n",
       "N64     183.259995\n",
       "3DS     148.600006\n",
       "XOne    140.559998\n",
       "NES     131.229996\n",
       "SNES    113.479996\n",
       "GB      110.510002\n",
       "2600     89.169998\n",
       "WiiU     75.099998\n",
       "PSV      54.070000\n",
       "SAT      33.590000\n",
       "GEN      28.350000\n",
       "DC       15.950000\n",
       "SCD       1.860000\n",
       "NG        1.440000\n",
       "WS        1.420000\n",
       "TG16      0.160000\n",
       "3DO       0.100000\n",
       "GG        0.040000\n",
       "PCFX      0.030000\n",
       "Name: total_sales, dtype: float32"
      ]
     },
     "execution_count": 57,
     "metadata": {},
     "output_type": "execute_result"
    }
   ],
   "source": [
    "# выведем отсортированный сириэс с суммарными продажами игр для каждой платформы\n",
    "\n",
    "(\n",
    "    df.groupby('platform')['total_sales'].sum()\n",
    "    .sort_values(ascending=False)\n",
    ")"
   ]
  },
  {
   "cell_type": "markdown",
   "metadata": {},
   "source": [
    "Сделаем предположение о том, что средние года релиза игр для платформ с наибольшими суммарными продажами игр лежат ближе к нашему времени."
   ]
  },
  {
   "cell_type": "code",
   "execution_count": 58,
   "metadata": {},
   "outputs": [],
   "source": [
    "# сохраним сириэс в переменную\n",
    "\n",
    "top_sales_platforms = df.groupby('platform')['total_sales'].sum().sort_values(ascending=False)"
   ]
  },
  {
   "cell_type": "code",
   "execution_count": 59,
   "metadata": {},
   "outputs": [],
   "source": [
    "# напишем цикл, который запишет значение среднего года релиза игры для каждой платформы\n",
    "\n",
    "for i in df['platform'].unique():\n",
    "    top_sales_platforms[i] = df[df['platform'] == i]['year'].mean()"
   ]
  },
  {
   "cell_type": "code",
   "execution_count": 60,
   "metadata": {},
   "outputs": [
    {
     "data": {
      "text/plain": [
       "platform\n",
       "PS2     2004.575073\n",
       "X360    2009.875000\n",
       "PS3     2010.867554\n",
       "PS      1998.006836\n",
       "DS      2008.195312\n",
       "Wii     2008.974609\n",
       "GBA     2003.207520\n",
       "XB      2003.645142\n",
       "PSP     2008.753296\n",
       "PC      2008.945312\n",
       "GC      2003.390259\n",
       "PS4     2015.167114\n",
       "N64     1998.555542\n",
       "3DS     2013.120972\n",
       "XOne    2014.950562\n",
       "NES     1987.333374\n",
       "SNES    1993.875610\n",
       "GB      1996.068237\n",
       "2600    1982.121216\n",
       "WiiU    2013.657593\n",
       "PSV     2014.132568\n",
       "SAT     1996.028931\n",
       "GEN     1993.036987\n",
       "DC      1999.942261\n",
       "SCD     1993.833374\n",
       "NG      1994.500000\n",
       "WS      2000.000000\n",
       "TG16    1995.000000\n",
       "3DO     1994.666626\n",
       "GG      1992.000000\n",
       "PCFX    1996.000000\n",
       "Name: total_sales, dtype: float32"
      ]
     },
     "execution_count": 60,
     "metadata": {},
     "output_type": "execute_result"
    }
   ],
   "source": [
    "top_sales_platforms"
   ]
  },
  {
   "cell_type": "markdown",
   "metadata": {},
   "source": [
    "Как мы видим, предположение оправдалось: средние года релиза для 10 из топ 11 платформ с наибольшими суммарными продажами игр лежат в промежутке между 2003 и 2011 годами - в этот период было выпущено подавляющее большинство игр. Мы можем сделать вывод о связи между количеством проданных копий игры и платформой выхода игры (которая, в свою очередь, связана с годом выхода игры)."
   ]
  },
  {
   "cell_type": "code",
   "execution_count": 61,
   "metadata": {},
   "outputs": [
    {
     "data": {
      "text/plain": [
       "<AxesSubplot:xlabel='platform'>"
      ]
     },
     "execution_count": 61,
     "metadata": {},
     "output_type": "execute_result"
    },
    {
     "data": {
      "image/png": "[encoded data removed]",
      "text/plain": [
       "<Figure size 432x288 with 1 Axes>"
      ]
     },
     "metadata": {
      "needs_background": "light"
     },
     "output_type": "display_data"
    }
   ],
   "source": [
    "# построим столбчатую диаграмму для датафрейма с суммарными продажами игр\n",
    "# для каждой платформы для значений более 200 миллионов проданных копий\n",
    "\n",
    "(\n",
    "    pd.DataFrame(df.groupby('platform')['total_sales'].sum().sort_values(ascending=False))\n",
    "    .query('total_sales > 200')\n",
    "    .plot(y='total_sales', kind='bar', grid=True)\n",
    ")"
   ]
  },
  {
   "cell_type": "markdown",
   "metadata": {},
   "source": [
    "Построим графики распределения по годам (столбчатые диаграммы) для платформ с наибольшими суммарными продажами игр, а именно для PS2, X360, PS3, PS, DS и Wii, как для платформ с количеством проданных копий игр более 500 миллионов."
   ]
  },
  {
   "cell_type": "code",
   "execution_count": null,
   "metadata": {
    "scrolled": true
   },
   "outputs": [],
   "source": []
  },
  {
   "cell_type": "markdown",
   "metadata": {},
   "source": [
    "Из столбчатых диаграмм видно, что для всех платформ из топ 6, кроме PS, пики на графиках приходятся на период с 2003 по 2011 года, когда было выпущено преобладающее число игр.\n",
    "\n",
    "Также по графикам заметно, что **в данных наблюдается характерный срок, когда появляются новые платформы и исчезают старые: этот срок составляет 8-11 лет**."
   ]
  },
  {
   "cell_type": "markdown",
   "metadata": {},
   "source": [
    "### Определение актуального периода"
   ]
  },
  {
   "cell_type": "markdown",
   "metadata": {},
   "source": [
    "Исходя из предыдущих двух анализов можно сделать вывод о том, что за актуальный период следует принять такой промежуток времени, который будет соответствовать следующим условиям:\n",
    "- года внутри промежутка будут находится вместе с прогнозируемым 2017 годом в одном периоде (из вывода анализа релиза игр по годам), а именно в периоде резкого спада: 2012-2016;\n",
    "- года внутри промежутка должны стать годами первых релизов игр на новых платформах - это связано с тем, что срок появления и исчезновения платформ составляет 8-11 лет.\n",
    "\n",
    "На основе данных за соответствующий актуальный период можно будет сделать прогноз на 2017 год, т.к:\n",
    "- года будет принадлежать одному периоду развития индустрии, следовательно, релизы и продажи должны будут осуществляться по одному закону;\n",
    "- в 2017 году продолжат выходить игры на новых платформах, срок жизни которых еще не истечет."
   ]
  },
  {
   "cell_type": "markdown",
   "metadata": {},
   "source": [
    "Проверим, выходили ли релизы на новых платформах в период с 2012 года."
   ]
  },
  {
   "cell_type": "code",
   "execution_count": 62,
   "metadata": {},
   "outputs": [
    {
     "data": {
      "text/plain": [
       "platform\n",
       "XOne    2013.0\n",
       "PS4     2013.0\n",
       "WiiU    2012.0\n",
       "3DS     2011.0\n",
       "PSV     2011.0\n",
       "PS3     2006.0\n",
       "Wii     2006.0\n",
       "X360    2005.0\n",
       "PSP     2004.0\n",
       "GC      2001.0\n",
       "GBA     2000.0\n",
       "PS2     2000.0\n",
       "XB      2000.0\n",
       "WS      1999.0\n",
       "DC      1998.0\n",
       "PCFX    1996.0\n",
       "N64     1996.0\n",
       "TG16    1995.0\n",
       "SAT     1994.0\n",
       "PS      1994.0\n",
       "3DO     1994.0\n",
       "SCD     1993.0\n",
       "NG      1993.0\n",
       "GG      1992.0\n",
       "SNES    1990.0\n",
       "GEN     1990.0\n",
       "GB      1988.0\n",
       "PC      1985.0\n",
       "DS      1985.0\n",
       "NES     1983.0\n",
       "2600    1980.0\n",
       "Name: year, dtype: float64"
      ]
     },
     "execution_count": 62,
     "metadata": {},
     "output_type": "execute_result"
    }
   ],
   "source": [
    "# выведем список годов, в которые произошли первые релизы на новых платформах\n",
    "\n",
    "df.groupby('platform')['year'].min().sort_values(ascending=False)"
   ]
  },
  {
   "cell_type": "markdown",
   "metadata": {},
   "source": [
    "Учитывая вышеописанные условия, **в качестве актуального периода принимаем промежуток с 2012 по 2016 год включительно**.\n",
    "\n",
    "**Перезапишем датафрейм, оставив в нем данные исключительно за актуальный период**."
   ]
  },
  {
   "cell_type": "code",
   "execution_count": 63,
   "metadata": {},
   "outputs": [],
   "source": [
    "df = df.query('year > 2011')"
   ]
  },
  {
   "cell_type": "markdown",
   "metadata": {},
   "source": [
    "### Исследование прибыльности платформ"
   ]
  },
  {
   "cell_type": "code",
   "execution_count": 64,
   "metadata": {},
   "outputs": [
    {
     "data": {
      "text/plain": [
       "platform\n",
       "PS3     200.399994\n",
       "PS4     184.740005\n",
       "X360    168.080002\n",
       "XOne    140.559998\n",
       "3DS     111.639999\n",
       "WiiU     75.099998\n",
       "PC       57.509998\n",
       "PSV      49.439999\n",
       "Wii      28.610001\n",
       "PSP      11.190000\n",
       "DS        4.490000\n",
       "Name: total_sales, dtype: float32"
      ]
     },
     "execution_count": 64,
     "metadata": {},
     "output_type": "execute_result"
    }
   ],
   "source": [
    "# выведем сириэс с платформами по наибольшим продажам игр\n",
    "\n",
    "df.groupby('platform')['total_sales'].sum().sort_values(ascending=False)"
   ]
  },
  {
   "cell_type": "code",
   "execution_count": 65,
   "metadata": {},
   "outputs": [
    {
     "data": {
      "image/png": "[encoded data removed]",
      "text/plain": [
       "<Figure size 432x288 with 1 Axes>"
      ]
     },
     "metadata": {
      "needs_background": "light"
     },
     "output_type": "display_data"
    }
   ],
   "source": [
    "# построим столбчатую диаграмму для полученных данных\n",
    "\n",
    "(\n",
    "    df.groupby('platform')['total_sales'].sum().sort_values(ascending=False)\n",
    "    .plot(y='total_sales', kind='bar', grid=True)\n",
    ");"
   ]
  },
  {
   "cell_type": "code",
   "execution_count": 66,
   "metadata": {},
   "outputs": [
    {
     "data": {
      "image/png": "[encoded data removed]",
      "text/plain": [
       "<Figure size 432x288 with 1 Axes>"
      ]
     },
     "metadata": {},
     "output_type": "display_data"
    }
   ],
   "source": [
    "# построим круговую диаграмму для полученных данных\n",
    "\n",
    "(\n",
    "    df.groupby('platform')['total_sales'].sum().sort_values(ascending=False)\n",
    "    .plot(y='total_sales', kind='pie', grid=True)\n",
    ");"
   ]
  },
  {
   "cell_type": "markdown",
   "metadata": {},
   "source": [
    "**Построим столбчатые диаграммы для платформ с числом продаж более 50 миллионов копий - именно такие платформы являются лидерами по продажам**.\n",
    "\n",
    "Однако следует учесть, что ввиду общего падения игровой индустрии в течение актуального периода строить графики по абсолютным величинам продаж будет некорректно. В таком случае построим столбчатые диаграммы для каждой платформы по доле продаж по годам."
   ]
  },
  {
   "cell_type": "code",
   "execution_count": 67,
   "metadata": {
    "scrolled": false
   },
   "outputs": [
    {
     "data": {
      "image/png": "[encoded data removed]",
      "text/plain": [
       "<Figure size 360x288 with 1 Axes>"
      ]
     },
     "metadata": {
      "needs_background": "light"
     },
     "output_type": "display_data"
    },
    {
     "data": {
      "image/png": "[encoded data removed]",
      "text/plain": [
       "<Figure size 360x288 with 1 Axes>"
      ]
     },
     "metadata": {
      "needs_background": "light"
     },
     "output_type": "display_data"
    },
    {
     "data": {
      "image/png": "[encoded data removed]",
      "text/plain": [
       "<Figure size 360x288 with 1 Axes>"
      ]
     },
     "metadata": {
      "needs_background": "light"
     },
     "output_type": "display_data"
    },
    {
     "data": {
      "image/png": "[encoded data removed]",
      "text/plain": [
       "<Figure size 360x288 with 1 Axes>"
      ]
     },
     "metadata": {
      "needs_background": "light"
     },
     "output_type": "display_data"
    },
    {
     "data": {
      "image/png": "[encoded data removed]",
      "text/plain": [
       "<Figure size 360x288 with 1 Axes>"
      ]
     },
     "metadata": {
      "needs_background": "light"
     },
     "output_type": "display_data"
    },
    {
     "data": {
      "image/png": "[encoded data removed]",
      "text/plain": [
       "<Figure size 360x288 with 1 Axes>"
      ]
     },
     "metadata": {
      "needs_background": "light"
     },
     "output_type": "display_data"
    },
    {
     "data": {
      "image/png": "[encoded data removed]",
      "text/plain": [
       "<Figure size 360x288 with 1 Axes>"
      ]
     },
     "metadata": {
      "needs_background": "light"
     },
     "output_type": "display_data"
    }
   ],
   "source": [
    "def plot_diagram(platform):\n",
    "    (\n",
    "        (\n",
    "            (df.query('platform == \"{}\"'.format(platform)).groupby('year')['total_sales'].sum()) /\n",
    "            (df.groupby('year')['total_sales'].sum())\n",
    "        )\n",
    "        .plot(y='total_sales', kind='bar', grid=True, title=platform, figsize=(5, 4))\n",
    "    );\n",
    "    \n",
    "platforms_to_plot_diag = ['PS3','PS4','X360','XOne','3DS','WiiU','PC']\n",
    "\n",
    "for plat in platforms_to_plot_diag:\n",
    "    plot_diagram(plat)\n",
    "    plt.show()"
   ]
  },
  {
   "cell_type": "markdown",
   "metadata": {},
   "source": [
    "Из полученных диаграмм видно, что представленные платформы можно разбить на следующие группы:\n",
    "- платформы, жизненный цикл которых подходит к концу - продажи падают:\n",
    " - PS3\n",
    " - X360\n",
    "- платформы, жизненный цикл которых берет свое начало - продажи растут:\n",
    " - PS4\n",
    " - XOne\n",
    "- платформы, для которых не наблюдается четкой тенденции к падению или росту продаж:\n",
    " - 3DS\n",
    " - WiiU\n",
    " - PC\n",
    " \n",
    "Логично предположить, что **потенциально прибыльными платформами можно считать оные, относящиеся к группе роста продаж, а именно PS4 и XOne**."
   ]
  },
  {
   "cell_type": "markdown",
   "metadata": {},
   "source": [
    "### Анализ характера разброса данных"
   ]
  },
  {
   "cell_type": "markdown",
   "metadata": {},
   "source": [
    "Построим диаграммы размаха (\"ящики с усами\") по продажам игр для каждой платформы."
   ]
  },
  {
   "cell_type": "code",
   "execution_count": 68,
   "metadata": {},
   "outputs": [
    {
     "data": {
      "image/png": "[encoded data removed]",
      "text/plain": [
       "<Figure size 720x720 with 1 Axes>"
      ]
     },
     "metadata": {
      "needs_background": "light"
     },
     "output_type": "display_data"
    }
   ],
   "source": [
    "(\n",
    "    df\n",
    "    .pivot_table(index=['name', 'genre', 'na_sales'], columns='platform', values='total_sales')\n",
    "    .boxplot(figsize=(10, 10))\n",
    ");"
   ]
  },
  {
   "cell_type": "code",
   "execution_count": 69,
   "metadata": {},
   "outputs": [
    {
     "name": "stdout",
     "output_type": "stream",
     "text": [
      "X360 \n",
      "\n",
      "count    285.000000\n",
      "mean       0.589754\n",
      "std        0.763973\n",
      "min        0.010000\n",
      "25%        0.100000\n",
      "50%        0.290000\n",
      "75%        0.790000\n",
      "max        5.290000\n",
      "Name: total_sales, dtype: float64 \n",
      "\n",
      "\n",
      "XOne \n",
      "\n",
      "count    243.000000\n",
      "mean       0.578436\n",
      "std        0.870649\n",
      "min        0.010000\n",
      "25%        0.060000\n",
      "50%        0.210000\n",
      "75%        0.660000\n",
      "max        5.260000\n",
      "Name: total_sales, dtype: float64 \n",
      "\n",
      "\n",
      "WiiU \n",
      "\n",
      "count    146.000000\n",
      "mean       0.514383\n",
      "std        0.912521\n",
      "min        0.010000\n",
      "25%        0.080000\n",
      "50%        0.210000\n",
      "75%        0.517500\n",
      "max        5.230000\n",
      "Name: total_sales, dtype: float64 \n",
      "\n",
      "\n",
      "3DS \n",
      "\n",
      "count    391.000000\n",
      "mean       0.285524\n",
      "std        0.496274\n",
      "min        0.010000\n",
      "25%        0.040000\n",
      "50%        0.100000\n",
      "75%        0.280000\n",
      "max        4.590000\n",
      "Name: total_sales, dtype: float64 \n",
      "\n",
      "\n",
      "PS4 \n",
      "\n",
      "count    371.000000\n",
      "mean       0.497951\n",
      "std        0.740075\n",
      "min        0.010000\n",
      "25%        0.050000\n",
      "50%        0.180000\n",
      "75%        0.615000\n",
      "max        3.830000\n",
      "Name: total_sales, dtype: float64 \n",
      "\n",
      "\n",
      "PS3 \n",
      "\n",
      "count    482.000000\n",
      "mean       0.415767\n",
      "std        0.571696\n",
      "min        0.010000\n",
      "25%        0.050000\n",
      "50%        0.190000\n",
      "75%        0.577500\n",
      "max        3.710000\n",
      "Name: total_sales, dtype: float64 \n",
      "\n",
      "\n",
      "Wii \n",
      "\n",
      "count    53.000000\n",
      "mean      0.539811\n",
      "std       0.808773\n",
      "min       0.010000\n",
      "25%       0.060000\n",
      "50%       0.180000\n",
      "75%       0.680000\n",
      "max       3.580000\n",
      "Name: total_sales, dtype: float64 \n",
      "\n",
      "\n",
      "PC \n",
      "\n",
      "count    249.000000\n",
      "mean       0.230964\n",
      "std        0.385840\n",
      "min        0.010000\n",
      "25%        0.030000\n",
      "50%        0.080000\n",
      "75%        0.240000\n",
      "max        3.050000\n",
      "Name: total_sales, dtype: float64 \n",
      "\n",
      "\n",
      "PSV \n",
      "\n",
      "count    412.000000\n",
      "mean       0.120000\n",
      "std        0.202882\n",
      "min        0.010000\n",
      "25%        0.020000\n",
      "50%        0.050000\n",
      "75%        0.120000\n",
      "max        1.960000\n",
      "Name: total_sales, dtype: float64 \n",
      "\n",
      "\n",
      "DS \n",
      "\n",
      "count    30.000000\n",
      "mean      0.149667\n",
      "std       0.233998\n",
      "min       0.010000\n",
      "25%       0.020000\n",
      "50%       0.045000\n",
      "75%       0.167500\n",
      "max       1.020000\n",
      "Name: total_sales, dtype: float64 \n",
      "\n",
      "\n",
      "PSP \n",
      "\n",
      "count    173.000000\n",
      "mean       0.064682\n",
      "std        0.071296\n",
      "min        0.010000\n",
      "25%        0.020000\n",
      "50%        0.030000\n",
      "75%        0.090000\n",
      "max        0.360000\n",
      "Name: total_sales, dtype: float64 \n",
      "\n",
      "\n"
     ]
    }
   ],
   "source": [
    "# выведем общую статистическую информацию по продажам игр для каждой платформы\n",
    "\n",
    "for i in df['platform'].unique():\n",
    "    print(i, '\\n')\n",
    "    print(df[df['platform'] == i]['total_sales'].describe(), '\\n\\n')"
   ]
  },
  {
   "cell_type": "markdown",
   "metadata": {},
   "source": [
    "**По полученным данным можно сделать следующие выводы**:\n",
    "- медианы продаж игр для платформ лежат в интервале от 30 тысяч до 290 тысяч;\n",
    "- первые квартили находятся достаточно близко друг к другу: наименьшее значение составляет 20 тысяч, наибольшее - 100 тысяч;\n",
    "- третьи квартили достаточно широко разбросаны: наименьшее значение - 90 тысяч, наибольшее - 790 тысяч;\n",
    "- распределение границ статистически значимой выборки имеет схожую с распределением квартилей природу: нижние границы расположены близко друг к другу, верхние - разбросаны и находятся в промежутке между ~180 тысячами и 1750 тысячми;\n",
    "- для всех платформ наблюдаются выбросы: для PSP все они лежат в интервале до 500 тысяч, для WiiU, X360 и XOne отдельные значения превышают 5 миллионов;\n",
    "- данные для некоторых платформ (PSP, PSV, DS) сгруппированы достаточно плотно, для других (X360, Wii, XOne) - достаточно широко разбросаны;\n",
    "- для графиков всех платформ характерна асимметрия - медиана значительно ближе расположена к первому квартилю, нежели к третьему;\n",
    "- в целом данные смещены в сторону нижней границы значений."
   ]
  },
  {
   "cell_type": "markdown",
   "metadata": {},
   "source": [
    "### Исследование влияния отзывов пользователей и критиков на продажи"
   ]
  },
  {
   "cell_type": "markdown",
   "metadata": {},
   "source": [
    "Для каждой пары параметров - общие продажи-оценка критиков и общие продажи-оценка пользователей - построим диаграммы рассеяния для случайной популярной растущей платформы, а также рассчитаем коэффициенты корреляции."
   ]
  },
  {
   "cell_type": "code",
   "execution_count": 70,
   "metadata": {},
   "outputs": [
    {
     "data": {
      "image/png": "[encoded data removed]",
      "text/plain": [
       "<Figure size 432x288 with 1 Axes>"
      ]
     },
     "metadata": {
      "needs_background": "light"
     },
     "output_type": "display_data"
    }
   ],
   "source": [
    "# построим диаграмму рассеяния для столбцов total_sales и critic_score для платформы PS4\n",
    "\n",
    "df.query('platform == \"PS4\"').plot(y='total_sales', x='critic_score', kind='scatter', grid=True);"
   ]
  },
  {
   "cell_type": "code",
   "execution_count": 71,
   "metadata": {},
   "outputs": [
    {
     "data": {
      "text/plain": [
       "0.3346236607070811"
      ]
     },
     "execution_count": 71,
     "metadata": {},
     "output_type": "execute_result"
    }
   ],
   "source": [
    "# вычислим коэффициент корреляции Пирсона для столбцов total_sales и critic_score\n",
    "\n",
    "df['total_sales'].corr(df['critic_score'])"
   ]
  },
  {
   "cell_type": "code",
   "execution_count": 72,
   "metadata": {},
   "outputs": [
    {
     "data": {
      "text/plain": [
       "0.37322929481260897"
      ]
     },
     "execution_count": 72,
     "metadata": {},
     "output_type": "execute_result"
    }
   ],
   "source": [
    "# вычислим коэффициент корреляции Пирсона для столбцов total_sales и critic_score для платформы PS4\n",
    "\n",
    "df.query('platform == \"PS4\"')['total_sales'].corr(df['critic_score'])"
   ]
  },
  {
   "cell_type": "code",
   "execution_count": 73,
   "metadata": {},
   "outputs": [
    {
     "data": {
      "image/png": "[encoded data removed]",
      "text/plain": [
       "<Figure size 432x288 with 1 Axes>"
      ]
     },
     "metadata": {
      "needs_background": "light"
     },
     "output_type": "display_data"
    }
   ],
   "source": [
    "# построим диаграмму рассеяния для столбцов total_sales и user_score для платформы PS4\n",
    "\n",
    "df.query('platform == \"PS4\"').plot(y='total_sales', x='user_score', kind='scatter', grid=True);"
   ]
  },
  {
   "cell_type": "code",
   "execution_count": 74,
   "metadata": {},
   "outputs": [
    {
     "data": {
      "text/plain": [
       "0.040189171411949116"
      ]
     },
     "execution_count": 74,
     "metadata": {},
     "output_type": "execute_result"
    }
   ],
   "source": [
    "# вычислим коэффициент корреляции Пирсона для столбцов total_sales и user_score\n",
    "\n",
    "df['total_sales'].corr(df['user_score'])"
   ]
  },
  {
   "cell_type": "code",
   "execution_count": 75,
   "metadata": {},
   "outputs": [
    {
     "data": {
      "text/plain": [
       "0.005062862349403954"
      ]
     },
     "execution_count": 75,
     "metadata": {},
     "output_type": "execute_result"
    }
   ],
   "source": [
    "# вычислим коэффициент корреляции Пирсона для столбцов total_sales и user_score для платформы PS4\n",
    "\n",
    "df.query('platform == \"PS4\"')['total_sales'].corr(df['user_score'])"
   ]
  },
  {
   "cell_type": "markdown",
   "metadata": {},
   "source": [
    "Выводы:\n",
    "- по графикам нельзя сделать однозначный вывод о наличии взаимосвязи между исследуемыми параметрами: на обоих графиках заметно, что игры с продажами до 500 тысяч копий встречаются довольно часто по всей оси абсцисс: вне зависимости от оценки критиков/пользователей;\n",
    "- тем не менее, игры с количеством проданных копий более 1.5 миллиона имеют оценку критиков не менее 50, а игры с продажами более 2 миллионов - не менее 70;\n",
    "- коэффициент корреляции Пирсона для пары параметров: общие продажи-оценка критиков составляет 33 процента, что говорит о наличии умеренной связи. Однако данный показатель достаточно мал для того, чтобы сделать вывод о наличии высокой или хотя бы заметной связи между исследуемыми параметрами;\n",
    "- коэффициент корреляции Пирсона для пары параметров: общие продажи-оценка пользователей составляет 0.4 процента, что говорит либо об отсутствии взаимосвязи между исследуемыми параметрами, либо о ее более сложном характере;\n",
    "- аналогичные коэффициенты корреляции для данных для платформы PS4 не сильно отличаются от оных, рассчитанных ранее.\n",
    "\n",
    "Общий вывод: полученные данные говорят о том, что **утверждать о влиянии отзывов пользователей и критиков на продажи нельзя**."
   ]
  },
  {
   "cell_type": "markdown",
   "metadata": {},
   "source": [
    "### Исследование прибыльности жанров"
   ]
  },
  {
   "cell_type": "code",
   "execution_count": 76,
   "metadata": {},
   "outputs": [
    {
     "data": {
      "text/plain": [
       "Action          1017\n",
       "Role-Playing     361\n",
       "Adventure        303\n",
       "Sports           260\n",
       "Shooter          220\n",
       "Misc             188\n",
       "Racing           115\n",
       "Fighting         108\n",
       "Platform          84\n",
       "Simulation        80\n",
       "Strategy          71\n",
       "Puzzle            28\n",
       "Name: genre, dtype: int64"
      ]
     },
     "execution_count": 76,
     "metadata": {},
     "output_type": "execute_result"
    }
   ],
   "source": [
    "# выведем сириэс с жанрами по количеству игр\n",
    "\n",
    "df['genre'].value_counts()"
   ]
  },
  {
   "cell_type": "code",
   "execution_count": 77,
   "metadata": {},
   "outputs": [
    {
     "data": {
      "text/plain": [
       "<AxesSubplot:>"
      ]
     },
     "execution_count": 77,
     "metadata": {},
     "output_type": "execute_result"
    },
    {
     "data": {
      "image/png": "[encoded data removed]",
      "text/plain": [
       "<Figure size 432x288 with 1 Axes>"
      ]
     },
     "metadata": {
      "needs_background": "light"
     },
     "output_type": "display_data"
    }
   ],
   "source": [
    "# для полученных данных построим столбчатую диаграмму\n",
    "\n",
    "(\n",
    "    df['genre'].value_counts()\n",
    "    .plot(kind='bar', grid=True)\n",
    ")"
   ]
  },
  {
   "cell_type": "markdown",
   "metadata": {},
   "source": [
    "Однозначным лидером среди жанров по количеству игр является action: на него приходится более 1000 наименований. На следующие следом за ним Role-Playing, Adventure, Sports и Shooter приходятся от 360 до 220 игр соответственно, что составляет значительную разницу в сравнении с количеством игр для action.\n",
    "\n",
    "Внизу топа располагаются жанры Puzzle, Strategy и Simulation с 28, 71 и 80 выпущенными играми соответственно.\n",
    "\n",
    "Изучим распределение прибыли по жанрам."
   ]
  },
  {
   "cell_type": "code",
   "execution_count": 78,
   "metadata": {},
   "outputs": [
    {
     "data": {
      "text/plain": [
       "genre\n",
       "Action          333.559998\n",
       "Shooter         179.039993\n",
       "Sports          134.100006\n",
       "Role-Playing    122.040001\n",
       "Misc             59.509998\n",
       "Platform         51.100002\n",
       "Racing           46.500000\n",
       "Fighting         36.939999\n",
       "Adventure        29.520000\n",
       "Simulation       21.219999\n",
       "Strategy         13.340000\n",
       "Puzzle            4.890000\n",
       "Name: total_sales, dtype: float32"
      ]
     },
     "execution_count": 78,
     "metadata": {},
     "output_type": "execute_result"
    }
   ],
   "source": [
    "# выведем датафрейм с жанрами по продажам игр\n",
    "\n",
    "(\n",
    "    df.groupby('genre')['total_sales'].sum()\n",
    "    .sort_values(ascending=False)\n",
    ")"
   ]
  },
  {
   "cell_type": "code",
   "execution_count": 79,
   "metadata": {},
   "outputs": [
    {
     "data": {
      "text/plain": [
       "<AxesSubplot:xlabel='genre'>"
      ]
     },
     "execution_count": 79,
     "metadata": {},
     "output_type": "execute_result"
    },
    {
     "data": {
      "image/png": "[encoded data removed]",
      "text/plain": [
       "<Figure size 432x288 with 1 Axes>"
      ]
     },
     "metadata": {
      "needs_background": "light"
     },
     "output_type": "display_data"
    }
   ],
   "source": [
    "# для полученных данных построим столбчатую диаграмму\n",
    "\n",
    "(\n",
    "    df.groupby('genre')['total_sales'].sum()\n",
    "    .sort_values(ascending=False)\n",
    "    .plot(kind='bar', grid=True)\n",
    ")"
   ]
  },
  {
   "cell_type": "markdown",
   "metadata": {},
   "source": [
    "В данных по продажам игр среди всех жанров вновь выделяется action: в мире продано более 330 миллионов копий игр данного жанра.\n",
    "Также более 100 миллионов копий игр продано для жанров Shooter, Sports и Role-Playing (180, 135 и 120 миллионов соответственно). Следует отметить, что все жанры из топ 4 по продажам также входят в топ 5 по количеству выпущенных игр.\n",
    "\n",
    "Внизу данного топа располагаются жанры Puzzle, Strategy и Simulation с 5, 13 и 21 миллионом проданных копий соответственно. Расположение данных жанров в топе полностью соответствует их расположению в топе по количеству выпущенных игр.\n",
    "\n",
    "Из полученных данных можно сделать вывод о том, что среди жанров выделяются как оные с высокими продажами, так и с низкими.\n",
    "\n",
    "**К группе жанров с высоким уровнем продаж относятся**:\n",
    "- Action\n",
    "- Shooter\n",
    "- Sports\n",
    "- Role-Playing\n",
    "\n",
    "**К группе жанров с низким уровнем продаж относятся**:\n",
    "- Puzzle\n",
    "- Strategy\n",
    "- Simulation\n",
    "\n",
    "Из полученных данных можно сделать вывод о зависимости между количеством выпущенных игр и их суммарными продажами. Кроме того, в ходе исследования были определены потенциально прибыльные жанры: оные, относящиеся к группе с высоким уровнем продаж, а именно: Action, Shooter, Sports и Role-Playing."
   ]
  },
  {
   "cell_type": "markdown",
   "metadata": {},
   "source": [
    "### Исследование пользователей по регионам"
   ]
  },
  {
   "cell_type": "markdown",
   "metadata": {},
   "source": [
    "#### Топ 5 популярных платформ"
   ]
  },
  {
   "cell_type": "markdown",
   "metadata": {},
   "source": [
    "Выведем топ 5 платформ по количеству проданных копий игр для Северной Америки, Европы и Японии."
   ]
  },
  {
   "cell_type": "code",
   "execution_count": 80,
   "metadata": {},
   "outputs": [
    {
     "name": "stdout",
     "output_type": "stream",
     "text": [
      "Северная Америка\n"
     ]
    },
    {
     "data": {
      "text/plain": [
       "platform\n",
       "X360    101.050003\n",
       "XOne     84.400002\n",
       "PS3      75.330002\n",
       "PS4      66.599998\n",
       "WiiU     34.950001\n",
       "Name: na_sales, dtype: float32"
      ]
     },
     "metadata": {},
     "output_type": "display_data"
    },
    {
     "name": "stdout",
     "output_type": "stream",
     "text": [
      "Европа\n"
     ]
    },
    {
     "data": {
      "text/plain": [
       "platform\n",
       "PS4     77.400002\n",
       "PS3     65.440002\n",
       "X360    51.290001\n",
       "XOne    43.119999\n",
       "PC      35.599998\n",
       "Name: eu_sales, dtype: float32"
      ]
     },
     "metadata": {},
     "output_type": "display_data"
    },
    {
     "name": "stdout",
     "output_type": "stream",
     "text": [
      "Япония\n"
     ]
    },
    {
     "data": {
      "text/plain": [
       "platform\n",
       "3DS     49.939999\n",
       "PS3     32.310001\n",
       "PSV     21.110001\n",
       "PS4     12.780000\n",
       "WiiU    11.730000\n",
       "Name: jp_sales, dtype: float32"
      ]
     },
     "execution_count": 80,
     "metadata": {},
     "output_type": "execute_result"
    }
   ],
   "source": [
    "print('Северная Америка')\n",
    "\n",
    "display(\n",
    "    df.groupby('platform')['na_sales'].sum()\n",
    "    .sort_values(ascending=False)\n",
    "    .head()\n",
    ")\n",
    "\n",
    "print('Европа')\n",
    "\n",
    "display(\n",
    "    df.groupby('platform')['eu_sales'].sum()\n",
    "    .sort_values(ascending=False)\n",
    "    .head()\n",
    ")\n",
    "\n",
    "print('Япония')\n",
    "\n",
    "(\n",
    "    df.groupby('platform')['jp_sales'].sum()\n",
    "    .sort_values(ascending=False)\n",
    "    .head()\n",
    ")"
   ]
  },
  {
   "cell_type": "markdown",
   "metadata": {},
   "source": [
    "Посчитаем доли продаж для топ 5 платформ относительно всего регионального рынка для Северной Америки, Европы и Японии."
   ]
  },
  {
   "cell_type": "code",
   "execution_count": 81,
   "metadata": {},
   "outputs": [
    {
     "name": "stdout",
     "output_type": "stream",
     "text": [
      "Северная Америка\n"
     ]
    },
    {
     "data": {
      "text/plain": [
       "platform\n",
       "X360    23.070776\n",
       "XOne    19.269407\n",
       "PS3     17.198629\n",
       "PS4     15.205480\n",
       "WiiU     7.979452\n",
       "Name: na_sales, dtype: float32"
      ]
     },
     "metadata": {},
     "output_type": "display_data"
    },
    {
     "name": "stdout",
     "output_type": "stream",
     "text": [
      "Европа\n"
     ]
    },
    {
     "data": {
      "text/plain": [
       "platform\n",
       "PS4     22.547192\n",
       "PS3     19.063156\n",
       "X360    14.941156\n",
       "XOne    12.561174\n",
       "PC      10.370543\n",
       "Name: eu_sales, dtype: float32"
      ]
     },
     "metadata": {},
     "output_type": "display_data"
    },
    {
     "name": "stdout",
     "output_type": "stream",
     "text": [
      "Япония\n"
     ]
    },
    {
     "data": {
      "text/plain": [
       "platform\n",
       "3DS     34.695011\n",
       "PS3     22.446854\n",
       "PSV     14.665833\n",
       "PS4      8.878699\n",
       "WiiU     8.149229\n",
       "Name: jp_sales, dtype: float32"
      ]
     },
     "metadata": {},
     "output_type": "display_data"
    }
   ],
   "source": [
    "print('Северная Америка')\n",
    "\n",
    "display(\n",
    "    (df.groupby('platform')['na_sales'].sum()\n",
    "    .sort_values(ascending=False)\n",
    "    .head()) * 100 /\n",
    "    df['na_sales'].sum()\n",
    ")\n",
    "\n",
    "print('Европа')\n",
    "\n",
    "display(\n",
    "    (df.groupby('platform')['eu_sales'].sum()\n",
    "    .sort_values(ascending=False)\n",
    "    .head()) * 100 /\n",
    "    df['eu_sales'].sum()\n",
    ")\n",
    "\n",
    "print('Япония')\n",
    "\n",
    "display(\n",
    "    (df.groupby('platform')['jp_sales'].sum()\n",
    "    .sort_values(ascending=False)\n",
    "    .head()) * 100 /\n",
    "    df['jp_sales'].sum()\n",
    ")"
   ]
  },
  {
   "cell_type": "markdown",
   "metadata": {},
   "source": [
    "Также выведем круговые диаграммы топ 5 платформ по количеству проданных копий игр для Северной Америки, Европы и Японии."
   ]
  },
  {
   "cell_type": "code",
   "execution_count": 82,
   "metadata": {},
   "outputs": [
    {
     "data": {
      "image/png": "[encoded data removed]",
      "text/plain": [
       "<Figure size 432x288 with 1 Axes>"
      ]
     },
     "metadata": {},
     "output_type": "display_data"
    }
   ],
   "source": [
    "(\n",
    "    df.groupby('platform')['na_sales'].sum()\n",
    "    .sort_values(ascending=False)\n",
    "    .head()\n",
    "    .plot(kind='pie', grid=True, title='Северная Америка')\n",
    ");"
   ]
  },
  {
   "cell_type": "code",
   "execution_count": 83,
   "metadata": {},
   "outputs": [
    {
     "data": {
      "image/png": "[encoded data removed]",
      "text/plain": [
       "<Figure size 432x288 with 1 Axes>"
      ]
     },
     "metadata": {},
     "output_type": "display_data"
    }
   ],
   "source": [
    "(\n",
    "    df.groupby('platform')['eu_sales'].sum()\n",
    "    .sort_values(ascending=False)\n",
    "    .head()\n",
    "    .plot(kind='pie', grid=True, title='Европа')\n",
    ");"
   ]
  },
  {
   "cell_type": "code",
   "execution_count": 84,
   "metadata": {},
   "outputs": [
    {
     "data": {
      "image/png": "[encoded data removed]",
      "text/plain": [
       "<Figure size 432x288 with 1 Axes>"
      ]
     },
     "metadata": {},
     "output_type": "display_data"
    }
   ],
   "source": [
    "(\n",
    "    df.groupby('platform')['jp_sales'].sum()\n",
    "    .sort_values(ascending=False)\n",
    "    .head()\n",
    "    .plot(kind='pie', grid=True, title='Япония')\n",
    ");"
   ]
  },
  {
   "cell_type": "markdown",
   "metadata": {},
   "source": [
    "По круговым диаграммам заметно значительное различие в долях продаж по разным регионам.\n",
    "\n",
    "- **В Северной Америке доминируют платформы семейства Xbox - X360 и XOne - на них приходится порядка 42 % рынка**. Далее располагаются платформы семейства PS - PS3 и PS4 - на них приходится 32 % рынка. Замыкает топ 5 платформа WiiU с 8 %.\n",
    "- **В Европе доминируют платформы семейства PS - PS4 и PS3 - на них приходится порядка 31 % рынка, а также платформы семейства Xbox - X360 и XOne - на них приходится 27 % рынка**. Также значительную долю рынка занимает PC - порядка 10 %.\n",
    "- **В Японии доминирует местная платформа 3DS: она занимает 35 % рынка**. Далее следуют платформы семейства PS - PS3, PSV и PS4 - на них приходится 46 % рынка. В конце топа располагается платформа WiiU с 8 %."
   ]
  },
  {
   "cell_type": "markdown",
   "metadata": {},
   "source": [
    "####  Топ 5 популярных жанров"
   ]
  },
  {
   "cell_type": "markdown",
   "metadata": {},
   "source": [
    "Выведем топ 5 жанров по количеству проданных копий игр для Северной Америки, Европы и Японии."
   ]
  },
  {
   "cell_type": "code",
   "execution_count": 85,
   "metadata": {},
   "outputs": [
    {
     "name": "stdout",
     "output_type": "stream",
     "text": [
      "Северная Америка\n"
     ]
    },
    {
     "data": {
      "text/plain": [
       "genre\n",
       "Action          139.029999\n",
       "Shooter          87.050003\n",
       "Sports           72.860001\n",
       "Role-Playing     41.950001\n",
       "Misc             24.930000\n",
       "Name: na_sales, dtype: float32"
      ]
     },
     "metadata": {},
     "output_type": "display_data"
    },
    {
     "name": "stdout",
     "output_type": "stream",
     "text": [
      "Европа\n"
     ]
    },
    {
     "data": {
      "text/plain": [
       "genre\n",
       "Action          114.040001\n",
       "Shooter          65.580002\n",
       "Sports           37.910000\n",
       "Role-Playing     29.690001\n",
       "Racing           25.139999\n",
       "Name: eu_sales, dtype: float32"
      ]
     },
     "metadata": {},
     "output_type": "display_data"
    },
    {
     "name": "stdout",
     "output_type": "stream",
     "text": [
      "Япония\n"
     ]
    },
    {
     "data": {
      "text/plain": [
       "genre\n",
       "Action          45.259998\n",
       "Role-Playing    40.299999\n",
       "Misc            12.700000\n",
       "Adventure        8.240000\n",
       "Sports           7.690000\n",
       "Name: jp_sales, dtype: float32"
      ]
     },
     "execution_count": 85,
     "metadata": {},
     "output_type": "execute_result"
    }
   ],
   "source": [
    "print('Северная Америка')\n",
    "\n",
    "display(\n",
    "    df.groupby('genre')['na_sales'].sum()\n",
    "    .sort_values(ascending=False)\n",
    "    .head()\n",
    ")\n",
    "\n",
    "print('Европа')\n",
    "\n",
    "display(\n",
    "    df.groupby('genre')['eu_sales'].sum()\n",
    "    .sort_values(ascending=False)\n",
    "    .head()\n",
    ")\n",
    "\n",
    "print('Япония')\n",
    "\n",
    "(\n",
    "    df.groupby('genre')['jp_sales'].sum()\n",
    "    .sort_values(ascending=False)\n",
    "    .head()\n",
    ")"
   ]
  },
  {
   "cell_type": "markdown",
   "metadata": {},
   "source": [
    "Посчитаем доли продаж для топ 5 жанров относительно всего регионального рынка для Северной Америки, Европы и Японии."
   ]
  },
  {
   "cell_type": "code",
   "execution_count": 86,
   "metadata": {},
   "outputs": [
    {
     "name": "stdout",
     "output_type": "stream",
     "text": [
      "Северная Америка\n"
     ]
    },
    {
     "data": {
      "text/plain": [
       "genre\n",
       "Action          31.742008\n",
       "Shooter         19.874430\n",
       "Sports          16.634703\n",
       "Role-Playing     9.577625\n",
       "Misc             5.691781\n",
       "Name: na_sales, dtype: float32"
      ]
     },
     "metadata": {},
     "output_type": "display_data"
    },
    {
     "name": "stdout",
     "output_type": "stream",
     "text": [
      "Европа\n"
     ]
    },
    {
     "data": {
      "text/plain": [
       "genre\n",
       "Action          33.220695\n",
       "Shooter         19.103939\n",
       "Sports          11.043463\n",
       "Role-Playing     8.648916\n",
       "Racing           7.323468\n",
       "Name: eu_sales, dtype: float32"
      ]
     },
     "metadata": {},
     "output_type": "display_data"
    },
    {
     "name": "stdout",
     "output_type": "stream",
     "text": [
      "Япония\n"
     ]
    },
    {
     "data": {
      "text/plain": [
       "genre\n",
       "Action          31.443657\n",
       "Role-Playing    27.997776\n",
       "Misc             8.823121\n",
       "Adventure        5.724607\n",
       "Sports           5.342504\n",
       "Name: jp_sales, dtype: float32"
      ]
     },
     "metadata": {},
     "output_type": "display_data"
    }
   ],
   "source": [
    "print('Северная Америка')\n",
    "\n",
    "display(\n",
    "    (df.groupby('genre')['na_sales'].sum()\n",
    "    .sort_values(ascending=False)\n",
    "    .head()) * 100 /\n",
    "    df['na_sales'].sum()\n",
    ")\n",
    "\n",
    "print('Европа')\n",
    "\n",
    "display(\n",
    "    (df.groupby('genre')['eu_sales'].sum()\n",
    "    .sort_values(ascending=False)\n",
    "    .head()) * 100 /\n",
    "    df['eu_sales'].sum()\n",
    ")\n",
    "\n",
    "print('Япония')\n",
    "\n",
    "display(\n",
    "    (df.groupby('genre')['jp_sales'].sum()\n",
    "    .sort_values(ascending=False)\n",
    "    .head()) * 100 /\n",
    "    df['jp_sales'].sum()\n",
    ")"
   ]
  },
  {
   "cell_type": "markdown",
   "metadata": {},
   "source": [
    "Также выведем круговые диаграммы топ 5 жанров по количеству проданных копий игр для Северной Америки, Европы и Японии."
   ]
  },
  {
   "cell_type": "code",
   "execution_count": 87,
   "metadata": {},
   "outputs": [
    {
     "data": {
      "image/png": "[encoded data removed]",
      "text/plain": [
       "<Figure size 432x288 with 1 Axes>"
      ]
     },
     "metadata": {},
     "output_type": "display_data"
    }
   ],
   "source": [
    "(\n",
    "    df.groupby('genre')['na_sales'].sum()\n",
    "    .sort_values(ascending=False)\n",
    "    .head()\n",
    "    .plot(kind='pie', grid=True, title='Северная Америка')\n",
    ");"
   ]
  },
  {
   "cell_type": "code",
   "execution_count": 88,
   "metadata": {},
   "outputs": [
    {
     "data": {
      "image/png": "[encoded data removed]",
      "text/plain": [
       "<Figure size 432x288 with 1 Axes>"
      ]
     },
     "metadata": {},
     "output_type": "display_data"
    }
   ],
   "source": [
    "(\n",
    "    df.groupby('genre')['eu_sales'].sum()\n",
    "    .sort_values(ascending=False)\n",
    "    .head()\n",
    "    .plot(kind='pie', grid=True, title='Европа')\n",
    ");"
   ]
  },
  {
   "cell_type": "code",
   "execution_count": 89,
   "metadata": {},
   "outputs": [
    {
     "data": {
      "image/png": "[encoded data removed]",
      "text/plain": [
       "<Figure size 432x288 with 1 Axes>"
      ]
     },
     "metadata": {},
     "output_type": "display_data"
    }
   ],
   "source": [
    "(\n",
    "    df.groupby('genre')['jp_sales'].sum()\n",
    "    .sort_values(ascending=False)\n",
    "    .head()\n",
    "    .plot(kind='pie', grid=True, title='Япония')\n",
    ");"
   ]
  },
  {
   "cell_type": "markdown",
   "metadata": {},
   "source": [
    "**Во всех регионах доминирующим жанром является action**, притом в каждом регионе он охватывает схожие доли рынка:\n",
    "- 32 % в Северной Америке;\n",
    "- 33 % в Европе;\n",
    "- 31 % в Японии.\n",
    "\n",
    "Далее заметны различия между Северной Америкой и Европой с одной стороны, и Японией с другой.\n",
    "\n",
    "В первых двух регионах жанры топ 4 полностью совпадают, незначительно отличаются лишь доли рынка. Посмотрим на топ 5:\n",
    "- Shooter: 20 % в Северной Америке и 19 % в Европе;\n",
    "- Sports: 17 % / 11 %;\n",
    "- Role-Playing: 10 % / 9 %;\n",
    "- Misc: 6 % в Северной Америке / racing: 7 % в Европе.\n",
    "\n",
    "В Японии помимо action в топ 5 также входят:\n",
    "- Role-Playing: 28 %;\n",
    "- Misc: 9 %;\n",
    "- Adventure: 6 %;\n",
    "- Sports: 5 %.\n",
    "\n",
    "Разницу в предпочтении жанров между пользователями из евроатлантических государств и Японии можно объяснить разным мировосприятием - принято считать, что люди из Европы и Америки и люди из Японии ментально отдалены друг от друга.\n",
    "\n",
    "Популярность жанра Role-Playing в Японии также может быть связана с этим фактором: считается, что жители страны восходящего солнца любят косплеи, что может быть связано с предпочтением ими жанра Role-Playing.\n",
    "\n",
    "БОльшую долю жанра sports в Северной Америке в сравнении с Европой можно объяснить любовью американцев США и канадцев к спорту."
   ]
  },
  {
   "cell_type": "markdown",
   "metadata": {},
   "source": [
    "#### Влияние рейтингов ESRB на продажи"
   ]
  },
  {
   "cell_type": "markdown",
   "metadata": {},
   "source": [
    "Опишем значения столбца rating - рейтинги ESRB:\n",
    "- «E» («Everyone») — «Для всех»\n",
    "- «E10+» («Everyone 10 and older») — «Для всех от 10 лет и старше»\n",
    "- «T» («Teen») — «Подросткам» (от 13 лет и старше)\n",
    "- «M» («Mature») — «Для взрослых» (от 17 лет и старше)"
   ]
  },
  {
   "cell_type": "markdown",
   "metadata": {},
   "source": [
    "Выведем топ значений рейтингов по количеству проданных копий игр для Северной Америки, Европы и Японии."
   ]
  },
  {
   "cell_type": "code",
   "execution_count": 90,
   "metadata": {},
   "outputs": [
    {
     "name": "stdout",
     "output_type": "stream",
     "text": [
      "Северная Америка\n"
     ]
    },
    {
     "data": {
      "text/plain": [
       "rating\n",
       "M       153.149994\n",
       "E        97.320000\n",
       "E10+     69.419998\n",
       "T        59.220001\n",
       "Name: na_sales, dtype: float32"
      ]
     },
     "metadata": {},
     "output_type": "display_data"
    },
    {
     "name": "stdout",
     "output_type": "stream",
     "text": [
      "Европа\n"
     ]
    },
    {
     "data": {
      "text/plain": [
       "rating\n",
       "M       121.430000\n",
       "E        66.400002\n",
       "E10+     52.740002\n",
       "T        46.250000\n",
       "Name: eu_sales, dtype: float32"
      ]
     },
     "metadata": {},
     "output_type": "display_data"
    },
    {
     "name": "stdout",
     "output_type": "stream",
     "text": [
      "Япония\n"
     ]
    },
    {
     "data": {
      "text/plain": [
       "rating\n",
       "T       23.040001\n",
       "E       19.719999\n",
       "M       16.510000\n",
       "E10+     8.160000\n",
       "Name: jp_sales, dtype: float32"
      ]
     },
     "execution_count": 90,
     "metadata": {},
     "output_type": "execute_result"
    }
   ],
   "source": [
    "print('Северная Америка')\n",
    "\n",
    "display(\n",
    "    df.groupby('rating')['na_sales'].sum()\n",
    "    .sort_values(ascending=False)\n",
    ")\n",
    "\n",
    "print('Европа')\n",
    "\n",
    "display(\n",
    "    df.groupby('rating')['eu_sales'].sum()\n",
    "    .sort_values(ascending=False)\n",
    ")\n",
    "\n",
    "print('Япония')\n",
    "\n",
    "(\n",
    "    df.groupby('rating')['jp_sales'].sum()\n",
    "    .sort_values(ascending=False)\n",
    ")"
   ]
  },
  {
   "cell_type": "markdown",
   "metadata": {},
   "source": [
    "Посчитаем доли продаж для каждого рейтинга для Северной Америки, Европы и Японии."
   ]
  },
  {
   "cell_type": "code",
   "execution_count": 91,
   "metadata": {},
   "outputs": [
    {
     "name": "stdout",
     "output_type": "stream",
     "text": [
      "Северная Америка\n"
     ]
    },
    {
     "data": {
      "text/plain": [
       "rating\n",
       "M       40.397243\n",
       "E       25.670650\n",
       "E10+    18.311308\n",
       "T       15.620796\n",
       "Name: na_sales, dtype: float32"
      ]
     },
     "metadata": {},
     "output_type": "display_data"
    },
    {
     "name": "stdout",
     "output_type": "stream",
     "text": [
      "Европа\n"
     ]
    },
    {
     "data": {
      "text/plain": [
       "rating\n",
       "M       42.336655\n",
       "E       23.150408\n",
       "E10+    18.387838\n",
       "T       16.125095\n",
       "Name: eu_sales, dtype: float32"
      ]
     },
     "metadata": {},
     "output_type": "display_data"
    },
    {
     "name": "stdout",
     "output_type": "stream",
     "text": [
      "Япония\n"
     ]
    },
    {
     "data": {
      "text/plain": [
       "rating\n",
       "T       34.168766\n",
       "E       29.245142\n",
       "M       24.484652\n",
       "E10+    12.101439\n",
       "Name: jp_sales, dtype: float32"
      ]
     },
     "metadata": {},
     "output_type": "display_data"
    }
   ],
   "source": [
    "print('Северная Америка')\n",
    "\n",
    "display(\n",
    "    (df.groupby('rating')['na_sales'].sum()\n",
    "    .sort_values(ascending=False)) * 100 /\n",
    "    df.loc[~df['rating'].isna(), 'na_sales'].sum()\n",
    ")\n",
    "\n",
    "print('Европа')\n",
    "\n",
    "display(\n",
    "    (df.groupby('rating')['eu_sales'].sum()\n",
    "    .sort_values(ascending=False)) * 100 /\n",
    "    df.loc[~df['rating'].isna(), 'eu_sales'].sum()\n",
    ")\n",
    "\n",
    "print('Япония')\n",
    "\n",
    "display(\n",
    "    (df.groupby('rating')['jp_sales'].sum()\n",
    "    .sort_values(ascending=False)) * 100 /\n",
    "    df.loc[~df['rating'].isna(), 'jp_sales'].sum()\n",
    ")"
   ]
  },
  {
   "cell_type": "markdown",
   "metadata": {},
   "source": [
    "Также выведем круговые диаграммы топ рейтингов по количеству проданных копий игр для Северной Америки, Европы и Японии."
   ]
  },
  {
   "cell_type": "code",
   "execution_count": 92,
   "metadata": {},
   "outputs": [
    {
     "data": {
      "image/png": "[encoded data removed]",
      "text/plain": [
       "<Figure size 432x288 with 1 Axes>"
      ]
     },
     "metadata": {},
     "output_type": "display_data"
    }
   ],
   "source": [
    "(\n",
    "    df.groupby('rating')['na_sales'].sum()\n",
    "    .sort_values(ascending=False)\n",
    "    .plot(kind='pie', grid=True, title='Северная Америка')\n",
    ");"
   ]
  },
  {
   "cell_type": "code",
   "execution_count": 93,
   "metadata": {},
   "outputs": [
    {
     "data": {
      "image/png": "[encoded data removed]",
      "text/plain": [
       "<Figure size 432x288 with 1 Axes>"
      ]
     },
     "metadata": {},
     "output_type": "display_data"
    }
   ],
   "source": [
    "(\n",
    "    df.groupby('rating')['eu_sales'].sum()\n",
    "    .sort_values(ascending=False)\n",
    "    .plot(kind='pie', grid=True, title='Европа')\n",
    ");"
   ]
  },
  {
   "cell_type": "code",
   "execution_count": 94,
   "metadata": {},
   "outputs": [
    {
     "data": {
      "image/png": "[encoded data removed]",
      "text/plain": [
       "<Figure size 432x288 with 1 Axes>"
      ]
     },
     "metadata": {},
     "output_type": "display_data"
    }
   ],
   "source": [
    "(\n",
    "    df.groupby('rating')['jp_sales'].sum()\n",
    "    .sort_values(ascending=False)\n",
    "    .plot(kind='pie', grid=True, title='Япония')\n",
    ");"
   ]
  },
  {
   "cell_type": "markdown",
   "metadata": {},
   "source": [
    "При оценке долей продаж игр разных категорий налицо значительные различия между Северной Америкой и Европой с одной стороны, и Японией с другой.\n",
    "\n",
    "Круговые диаграммы для первых двух регионов практически одинаковы:\n",
    "- рейтинг M: 40 % рынка в Северной Америке и 42 % в Европе;\n",
    "- рейтинг E: 26 % / 23 %;\n",
    "- рейтинг E10+: 18 % / 19 %;\n",
    "- рейтинг T: 16 % / 16 %.\n",
    "\n",
    "Для Японии значения совсем иные:\n",
    "- рейтинг T: 34 % рынка в Японии;\n",
    "- рейтинг E: 29 %;\n",
    "- рейтинг M: 25 %;\n",
    "- рейтинг E10+: 12 %.\n",
    "\n",
    "Разницу в предпочтении игр с определенными рейтингами между пользователями из евроатлантических государств и Японии можно объяснить двумя причинами:\n",
    "- как и для предыдущего вывода, разное мировосприятие;\n",
    "- считается, что взрослые люди в Японии очень много работают. Возможно, в связи с этим доля игр для взрослых составляет в стране восходящего солнца лишь 25 % в сравнении со средним евроатлантическим 41 %."
   ]
  },
  {
   "cell_type": "markdown",
   "metadata": {},
   "source": [
    "## Проверка гипотез"
   ]
  },
  {
   "cell_type": "markdown",
   "metadata": {},
   "source": [
    "### Первая проверка"
   ]
  },
  {
   "cell_type": "markdown",
   "metadata": {},
   "source": [
    "Первое утверждение звучит так: средние пользовательские рейтинги платформ Xbox One и PC одинаковые.\n",
    "\n",
    "Сформулируем нулевую и альтернативную гипотезы.\n",
    "- Нулевая гипотеза:\n",
    " - средний пользовательский рейтинг платформы Xbox One **равен** среднему пользовательскому рейтингу платформы PC\n",
    "- Альтернативная двусторонняя гипотеза:\n",
    " - средний пользовательский рейтинг платформы Xbox One **не равен** среднему пользовательскому рейтингу платформы PC"
   ]
  },
  {
   "cell_type": "markdown",
   "metadata": {},
   "source": [
    "Проверим нулевую гипотезу."
   ]
  },
  {
   "cell_type": "code",
   "execution_count": 95,
   "metadata": {},
   "outputs": [],
   "source": [
    "# сохраним строки датафрейма с ненулевыми значениями рейтинга пользователей для платформы XOne\n",
    "\n",
    "xone_user_scores = (\n",
    "    df[(df['platform'] == 'XOne') & \\\n",
    "       (df['user_score'] > 0)] \\\n",
    "    ['user_score']\n",
    ")"
   ]
  },
  {
   "cell_type": "code",
   "execution_count": 96,
   "metadata": {},
   "outputs": [],
   "source": [
    "# сохраним строки датафрейма с ненулевыми значениями рейтинга пользователей для PC\n",
    "\n",
    "pc_user_scores = (\n",
    "    df[(df['platform'] == 'PC') & \\\n",
    "       (df['user_score'] > 0)] \\\n",
    "    ['user_score']\n",
    ")"
   ]
  },
  {
   "cell_type": "code",
   "execution_count": 97,
   "metadata": {},
   "outputs": [
    {
     "name": "stdout",
     "output_type": "stream",
     "text": [
      "179\n"
     ]
    },
    {
     "data": {
      "text/plain": [
       "205"
      ]
     },
     "execution_count": 97,
     "metadata": {},
     "output_type": "execute_result"
    }
   ],
   "source": [
    "# выведем длины полученных сириэс\n",
    "\n",
    "print(len(xone_user_scores))\n",
    "\n",
    "len(pc_user_scores)"
   ]
  },
  {
   "cell_type": "markdown",
   "metadata": {},
   "source": [
    "Т.к. объем выборки измеряется сотнями, примем критический уровень статистической значимости равный [0.01](https://www.statmethods.ru/stati/vybor-urovnya-znachimosti-pri-proverke-statisticheskikh-gipotez/)."
   ]
  },
  {
   "cell_type": "code",
   "execution_count": 98,
   "metadata": {},
   "outputs": [],
   "source": [
    "# назначим значение критического уровня статистической значимости \n",
    "\n",
    "alpha = .01"
   ]
  },
  {
   "cell_type": "markdown",
   "metadata": {},
   "source": [
    "Для проверки гипотезы проведем t-тест. Т.к. нам необходимо проверить равенство средних двух независимых совокупностей, то воспользуемся методом st.ttest_ind.\n",
    "\n",
    "Прежде чем перейти к непосредственному проведению t-теста, проверим, равняются ли дисперсии двух выборок."
   ]
  },
  {
   "cell_type": "code",
   "execution_count": 99,
   "metadata": {},
   "outputs": [
    {
     "data": {
      "text/plain": [
       "False"
      ]
     },
     "execution_count": 99,
     "metadata": {},
     "output_type": "execute_result"
    }
   ],
   "source": [
    "np.var(xone_user_scores, ddof=1) == np.var(pc_user_scores, ddof=1)"
   ]
  },
  {
   "cell_type": "markdown",
   "metadata": {},
   "source": [
    "Дисперсии не равны, следовательно, передадим параметру equal_var метода ttest_ind аргумент False."
   ]
  },
  {
   "cell_type": "code",
   "execution_count": 100,
   "metadata": {},
   "outputs": [],
   "source": [
    "# проверим гипотезу о равенстве среднего двух независимых совокупностей\n",
    "\n",
    "results = st.ttest_ind(\n",
    "    xone_user_scores, \n",
    "    pc_user_scores,\n",
    "    equal_var = False)"
   ]
  },
  {
   "cell_type": "code",
   "execution_count": 101,
   "metadata": {},
   "outputs": [
    {
     "name": "stdout",
     "output_type": "stream",
     "text": [
      "p-значение: 0.5584708790819752\n"
     ]
    }
   ],
   "source": [
    "# выведем p-значение\n",
    "\n",
    "print('p-значение:', results.pvalue)"
   ]
  },
  {
   "cell_type": "code",
   "execution_count": 102,
   "metadata": {},
   "outputs": [
    {
     "name": "stdout",
     "output_type": "stream",
     "text": [
      "Не получилось отвергнуть нулевую гипотезу.\n"
     ]
    }
   ],
   "source": [
    "# проверим нулевую гипотезу\n",
    "\n",
    "if results.pvalue < alpha:\n",
    "    print('Отвергаем нулевую гипотезу.')\n",
    "else:\n",
    "    print('Не получилось отвергнуть нулевую гипотезу.')"
   ]
  },
  {
   "cell_type": "markdown",
   "metadata": {},
   "source": [
    "**Мы не можем отвергнуть нулевую гипотезу, которая звучит так: средний пользовательский рейтинг платформы Xbox One равен среднему пользовательскому рейтингу платформы PC.\n",
    "Следовательно, средние пользовательские рейтинги игр на платформах Xbox One и PC примерно одинаковые**.\n",
    "\n",
    "Ввиду того, что данные платформы значительно отличаются как технически, так и по своему функционалу - XOne является консольной приставкой, а PC означает не что иное, как персональный компьютер - мы можем сделать вывод о том, что совпадение средних пользовательских оценок для игр данных платформ случайно, и не говорит о наличии какой-либо взаимосвязи между играми для данных платформ."
   ]
  },
  {
   "cell_type": "markdown",
   "metadata": {},
   "source": [
    "### Вторая проверка"
   ]
  },
  {
   "cell_type": "markdown",
   "metadata": {},
   "source": [
    "Второе утверждение звучит так: средние пользовательские рейтинги жанров action и sports разные.\n",
    "\n",
    "Сформулируем нулевую и альтернативную гипотезы.\n",
    "- Нулевая гипотеза:\n",
    " - средний пользовательский рейтинг жанра action **не равен** среднему пользовательскому рейтингу жанра sports\n",
    "- Альтернативная двусторонняя гипотеза:\n",
    " - средний пользовательский рейтинг жанра action **равен** среднему пользовательскому рейтингу жанра sports"
   ]
  },
  {
   "cell_type": "markdown",
   "metadata": {},
   "source": [
    "Проверим нулевую гипотезу."
   ]
  },
  {
   "cell_type": "code",
   "execution_count": 103,
   "metadata": {},
   "outputs": [],
   "source": [
    "# сохраним строки датафрейма с ненулевыми значениями рейтинга пользователей для жанра action\n",
    "\n",
    "action_user_scores = (\n",
    "    df[(df['genre'] == 'Action') & \\\n",
    "       (df['user_score'] > 0)] \\\n",
    "    ['user_score']\n",
    ")"
   ]
  },
  {
   "cell_type": "code",
   "execution_count": 104,
   "metadata": {},
   "outputs": [],
   "source": [
    "# сохраним строки датафрейма с ненулевыми значениями рейтинга пользователей для жанра sports\n",
    "\n",
    "sports_user_scores = (\n",
    "    df[(df['genre'] == 'Sports') & \\\n",
    "       (df['user_score'] > 0)] \\\n",
    "    ['user_score']\n",
    ")"
   ]
  },
  {
   "cell_type": "code",
   "execution_count": 105,
   "metadata": {},
   "outputs": [
    {
     "name": "stdout",
     "output_type": "stream",
     "text": [
      "512\n"
     ]
    },
    {
     "data": {
      "text/plain": [
       "186"
      ]
     },
     "execution_count": 105,
     "metadata": {},
     "output_type": "execute_result"
    }
   ],
   "source": [
    "# выведем длины полученных сириэс\n",
    "\n",
    "print(len(action_user_scores))\n",
    "\n",
    "len(sports_user_scores)"
   ]
  },
  {
   "cell_type": "markdown",
   "metadata": {},
   "source": [
    "Т.к. объем выборки измеряется сотнями, примем критический уровень статистической значимости равный 0.01."
   ]
  },
  {
   "cell_type": "code",
   "execution_count": 106,
   "metadata": {},
   "outputs": [],
   "source": [
    "# назначим значение критического уровня статистической значимости \n",
    "\n",
    "alpha = .01"
   ]
  },
  {
   "cell_type": "markdown",
   "metadata": {},
   "source": [
    "Для проверки гипотезы проведем t-тест. Т.к. нам необходимо проверить равенство средних двух независимых совокупностей, то воспользуемся методом st.ttest_ind.\n",
    "\n",
    "Прежде чем перейти к непосредственному проведению t-теста, проверим, равняются ли дисперсии двух выборок."
   ]
  },
  {
   "cell_type": "code",
   "execution_count": 107,
   "metadata": {},
   "outputs": [
    {
     "data": {
      "text/plain": [
       "False"
      ]
     },
     "execution_count": 107,
     "metadata": {},
     "output_type": "execute_result"
    }
   ],
   "source": [
    "np.var(action_user_scores, ddof=1) == np.var(sports_user_scores, ddof=1)"
   ]
  },
  {
   "cell_type": "markdown",
   "metadata": {},
   "source": [
    "Дисперсии не равны, следовательно, передадим параметру equal_var метода ttest_ind аргумент False."
   ]
  },
  {
   "cell_type": "code",
   "execution_count": 108,
   "metadata": {},
   "outputs": [],
   "source": [
    "# проверим гипотезу о равенстве среднего двух независимых совокупностей\n",
    "\n",
    "results = st.ttest_ind(\n",
    "    action_user_scores, \n",
    "    sports_user_scores,\n",
    "    equal_var = False)"
   ]
  },
  {
   "cell_type": "code",
   "execution_count": 109,
   "metadata": {},
   "outputs": [
    {
     "name": "stdout",
     "output_type": "stream",
     "text": [
      "p-значение: 4.771573856139866e-18\n"
     ]
    }
   ],
   "source": [
    "# выведем p-значение\n",
    "\n",
    "print('p-значение:', results.pvalue)"
   ]
  },
  {
   "cell_type": "code",
   "execution_count": 110,
   "metadata": {},
   "outputs": [
    {
     "name": "stdout",
     "output_type": "stream",
     "text": [
      "Не получилось отвергнуть нулевую гипотезу.\n"
     ]
    }
   ],
   "source": [
    "# проверим нулевую гипотезу\n",
    "\n",
    "if results.pvalue == alpha:\n",
    "    print('Отвергаем нулевую гипотезу.')\n",
    "else:\n",
    "    print('Не получилось отвергнуть нулевую гипотезу.')"
   ]
  },
  {
   "cell_type": "markdown",
   "metadata": {},
   "source": [
    "**Мы не можем отвергнуть нулевую гипотезу, которая звучит так: средний пользовательский рейтинг жанра action не равен среднему пользовательскому рейтингу жанра sports.\n",
    "Следовательно, средние пользовательские рейтинги игр в жанрах action и sports существенно различаются**. В некоторой степени такой результат соответствует ожиданиям: данные жанры, несмотря на некоторые общие особенности (например, динамичность), технически значительно отличаются."
   ]
  },
  {
   "cell_type": "markdown",
   "metadata": {},
   "source": [
    "## Общий вывод"
   ]
  },
  {
   "cell_type": "markdown",
   "metadata": {},
   "source": [
    "На основе входных данных о продажах игр, оценках пользователей и экспертов, жанрах и платформах был проведен ряд исследовательских анализов и исследований. Целью общего исследования было выявление закономерностей, определяющих успешность игры, что в дальнейшем позволит сделать ставку на потенциально популярный продукт и спланировать рекламные кампании.\n",
    "\n",
    "**Анализ релиза игр по годам**.\n",
    "\n",
    "Результаты анализа:\n",
    "- в датафрейме представлены данные о релизах игр с 1980 по 2016 года включительно;\n",
    "- наибольшее количество игр было выпущено в 2009 году - почти 1500, наименьшее - в 1980 - 9;\n",
    "- среднее количество игр, выпущенных за один год, составляет 444;\n",
    "- медианное количество игр, выпущенных за один год, составляет 336;\n",
    "- в 80-е годы было выпущено 182 игры, в 90-е - 1389, в 00-е - 7418, с 2010 по 2016 года - 3484.\n",
    "\n",
    "Выводы из анализа:\n",
    "- начиная с 2002 года заметен скачок количества выпущенных за год игр: вплоть до 2011 года этот параметр составляет не менее 750;\n",
    "- кроме того, в период с 2002 по 2011 года были выпущены две трети игр;\n",
    "- до 2011 года включительно наблюдается тенденция к увеличению количества выпущенных за год игр, после - тенденция к уменьшению;\n",
    "- в связи с полученными данными можно выделить 5 временных периодов:\n",
    " - 1980-1993 - период становления игровой индустрии: ежегодно выходят не более 60 игр;\n",
    " - 1994-2001 - период бурного роста: количество выпускаемых игр увеличивается со 118 до 477;\n",
    " - 2002-2009 - \"золотой\" период индустрии: в год выпускается не менее 750 игр, в период с 2005 года - не менее 800, с 2007 - не менее 1000; пик приходится на 2009 год - почти 1.5 тысячи выпущенных игр;\n",
    " - 2010-2011 - период плавного спада: за 2010 год выходит менее 1300 игр, за 2011 - менее 1200;\n",
    " - 2012-2016 - период резкого спада: в 2012 году выходит 641 игра, далее - менее 600 игр в год.\n",
    " \n",
    "**Анализ продаж по платформам**.\n",
    "\n",
    "Результаты анализа:\n",
    "- был выведен топ платформ с наибольшими суммарными продажами игр и построен график распределения по платформам;\n",
    "- средние года релиза для 10 из топ 11 таких платформ лежат в промежутке между 2003 и 2011 годами - в этот период было выпущено подавляющее большинство игр;\n",
    "- были построены графики распределения по годам для платформ с количеством проданных копий игр более 500 миллионов;\n",
    "- пики на графиках для всех таких платформ, кроме PS, приходятся на период с 2003 по 2011 года, когда было выпущено преобладающее число игр.\n",
    "\n",
    "Выводы из анализа:\n",
    "- между количеством проданных копий игры и платформой выхода игры наблюдается связь, которая, тем не менее, обязана своему существованию наличию взаимосвязи между платформой релиза и годом выхода игры;\n",
    "- в данных наблюдается характерный срок, когда появляются новые платформы и исчезают старые: этот срок составляет 8-11 лет.\n",
    "\n",
    "**Определение актуального периода**.\n",
    "\n",
    "По результатам проведения данных анализов был принят актуальный период - промежуток с 2012 по 2016 год включительно. Основные критерии принятия данного временного отрезка в качестве актуального периода:\n",
    "- года внутри данного промежутка находятся вместе с прогнозируемым 2017 годом в одном периоде (из вывода анализа релиза игр по годам), а именно в периоде резкого спада: 2012-2016;\n",
    "- года внутри промежутка должны стать годами первых релизов игр на новых платформах - это связано с тем, что срок появления и исчезновения платформ составляет 8-11 лет.\n",
    "\n",
    "На основе данных за соответствующий актуальный период можно будет сделать прогноз на 2017 год, т.к:\n",
    "- года будет принадлежать одному периоду развития индустрии, следовательно, релизы и продажи должны будут осуществляться по одному закону;\n",
    "- в 2017 году продолжат выходить игры на новых платформах, срок жизни которых еще не истечет.\n",
    "\n",
    "После определения актуального периода датафрейм был перезаписан: в нем остались данные исключительно за данный временной промежуток.\n",
    "\n",
    "**Исследование прибыльности платформ**.\n",
    "\n",
    "Результаты исследования:\n",
    "- был выведен топ оставшихся в датафрейме платформ с наибольшими суммарными продажами игр и построены графики распределения по платформам: столбчатая и круговая диаграммы;\n",
    "- были построены графики распределения по годам для платформ с количеством проданных копий игр более 50 миллионов. Следует уточнить, что ввиду общего падения игровой индустрии в течение актуального периода было принято решение о построении графиков не по абсолютным величинам продаж, а по доле продаж по годам;\n",
    "\n",
    "Выводы из исследования:\n",
    "- среди всех оставшихся в датафрейме платформ были определены лидеры продаж: платформы с числом продаж более 50 миллионов копий;\n",
    "- представленные платформы были разбиты на 3 условные группы: платформы, жизненный цикл которых подходит к концу - продажи падают; платформы, жизненный цикл которых берет свое начало - продажи растут; платформы, для которых не наблюдается четкой тенденции к падению или росту продаж;\n",
    "- были определены потенциально прибыльные платформы: оные, относящиеся к группе роста продаж, а именно PS4 и XOne.\n",
    "\n",
    "**Анализ характера разброса данных**.\n",
    "\n",
    "В ходе анализа были построены диаграммы размаха (\"ящики с усами\") по продажам игр для каждой платформы. \n",
    "\n",
    "Результаты анализа:\n",
    "- медианы продаж игр для платформ лежат в интервале от 30 тысяч до 290 тысяч;\n",
    "- первые квартили находятся достаточно близко друг к другу: наименьшее значение составляет 20 тысяч, наибольшее - 100 тысяч;\n",
    "- третьи квартили достаточно широко разбросаны: наименьшее значение - 90 тысяч, наибольшее - 790 тысяч;\n",
    "- распределение границ статистически значимой выборки имеет схожую с распределением квартилей природу: нижние границы расположены близко друг к другу, верхние - разбросаны и находятся в промежутке между ~180 тысячами и 1750 тысячми;\n",
    "- для всех платформ наблюдаются выбросы: для PSP все они лежат в интервале до 500 тысяч, для WiiU, X360 и XOne отдельные значения превышают 5 миллионов;\n",
    "- данные для некоторых платформ (PSP, PSV, DS) сгруппированы достаточно плотно, для других (X360, Wii, XOne) - достаточно широко разбросаны;\n",
    "- для графиков всех платформ характерна асимметрия - медиана значительно ближе расположена к первому квартилю, нежели к третьему.\n",
    "\n",
    "Вывод из анализа:\n",
    "- данные смещены в сторону нижней границы значений.\n",
    "\n",
    "**Исследование влияния отзывов пользователей и критиков на продажи**.\n",
    "\n",
    "Результаты исследования:\n",
    "- для каждой пары параметров - общие продажи-оценка критиков и общие продажи-оценка пользователей - были построены диаграммы рассеяния для случайной популярной растущей платформы (PS4), а также были рассчитаны коэффициенты корреляции;\n",
    "- коэффициент корреляции Пирсона для пары параметров: общие продажи-оценка критиков составляет 33 процента, что говорит о наличии умеренной связи. Однако данный показатель достаточно мал для того, чтобы сделать вывод о наличии высокой или хотя бы заметной связи между исследуемыми параметрами;\n",
    "- коэффициент корреляции Пирсона для пары параметров: общие продажи-оценка пользователей составляет 0.4 процента, что говорит либо об отсутствии взаимосвязи между исследуемыми параметрами, либо о ее более сложном характере;\n",
    "- аналогичные коэффициенты корреляции для данных для платформы PS4 не сильно отличаются от оных, рассчитанных ранее.\n",
    "\n",
    "Вывод:\n",
    "- утверждать о влиянии отзывов пользователей и критиков на продажи нельзя.\n",
    "\n",
    "**Исследование прибыльности жанров**.\n",
    "\n",
    "Результаты исследования:\n",
    "- был выведен топ жанров с наибольшим количеством выпущенных игр и построен график распределения по жанрам;\n",
    "- лидером среди жанров по количеству игр оказался action: на него приходится более 1000 наименований; на следующие следом за ним Role-Playing, Adventure, Sports и Shooter приходятся от 360 до 220 игр соответственно;\n",
    "- внизу топа оказались жанры Puzzle, Strategy и Simulation с 28, 71 и 80 выпущенными играми соответственно;\n",
    "- был выведен топ жанров с наибольшими суммарными продажами игр и построен график распределения по жанрам;\n",
    "- в данных по продажам игр среди всех жанров лидирует action: в мире продано более 330 миллионов копий игр данного жанра; также более 100 миллионов копий игр продано для жанров Shooter, Sports и Role-Playing (180, 135 и 120 миллионов соответственно);\n",
    "- внизу данного топа расположились жанры Puzzle, Strategy и Simulation с 5, 13 и 21 миллионом проданных копий соответственно.\n",
    "\n",
    "Выводы из исследования:\n",
    "- наблюдается зависимость между количеством выпущенных игр и их суммарными продажами;\n",
    "- среди жанров выделяются как оные с высокими продажами, так и с низкими;\n",
    "- к группе жанров с высоким уровнем продаж относятся:\n",
    " - Action\n",
    " - Shooter\n",
    " - Sports\n",
    " - Role-Playing\n",
    "- к группе жанров с низким уровнем продаж относятся:\n",
    " - Puzzle\n",
    " - Strategy\n",
    " - Simulation\n",
    " \n",
    "**Исследование пользователей по регионам**.\n",
    "\n",
    "- топ 5 платформ по продажам\n",
    "\n",
    " - В Северной Америке доминируют платформы семейства Xbox - X360 и XOne - на них приходится порядка 42 % рынка. Далее располагаются платформы семейства PS - PS3 и PS4 - на них приходится 32 % рынка. Замыкает топ 5 платформа WiiU с 8 %.\n",
    " - В Европе доминируют платформы семейства PS - PS4 и PS3 - на них приходится порядка 31 % рынка, а также платформы семейства Xbox - X360 и XOne - на них приходится 27 % рынка. Также значительную долю рынка занимает PC - порядка 10 %.\n",
    " - В Японии доминирует местная платформа 3DS: она занимает 35 % рынка. Далее следуют платформы семейства PS - PS3, PSV и PS4 - на них приходится 46 % рынка. В конце топа располагается платформа WiiU с 8 %;\n",
    " \n",
    "- топ 5 жанров по продажам\n",
    " - во всех регионах доминирующим жанром является action, притом в каждом регионе он охватывает схожие доли рынка (в среднем 32 %);\n",
    " - далее между Северной Америкой и Европой с одной стороны, и Японией с другой заметны различия: в евроатлантических странах большей популярностью пользуются шутеры и спортивные игры (притом последние более популярны в Северной Америке), в Японии - ролевые игры;\n",
    " - разницу в предпочтении жанров между пользователями из евроатлантических государств и Японии можно объяснить разным мировосприятием - принято считать, что люди из Европы и Америки и люди из Японии ментально отдалены друг от друга;\n",
    " - популярность ролевого жанра в Японии также может быть связана с любовью жителей страны к косплеям;\n",
    " - бОльшую долю жанра sports в Северной Америке в сравнении с Европой можно объяснить любовью американцев США и канадцев к спорту;\n",
    "\n",
    "- влияние рейтингов ESRB на продажи\n",
    " - налицо значительные различия между Северной Америкой и Европой с одной стороны, и Японией с другой;\n",
    " - круговые диаграммы для Северной Америки и Европы практически одинаковы, незначительно отличаются лишь доли рынка;\n",
    " - в евроатлантических странах наиболее хорошо продаются игры для взрослых, в Японии - для тинэйджеров;\n",
    " - возможно, что различие в долях рынка для евроатлантики и Японии связана с тем, что, как считается, взрослые люди в Японии очень много работают, и, следовательно, не находят времени на игры.\n",
    " \n",
    "**Проверка гипотез**\n",
    "\n",
    "На основании **первого утверждения**: средние пользовательские рейтинги платформ Xbox One и PC одинаковые, были сформулированы нулевая и альтернативная гипотезы:\n",
    "- средний пользовательский рейтинг платформы Xbox One **равен** среднему пользовательскому рейтингу платформы PC;\n",
    "- средний пользовательский рейтинг платформы Xbox One **не равен** среднему пользовательскому рейтингу платформы PC.\n",
    "\n",
    "По результатам проверки гипотезы мы не смогли отвергнуть нулевую гипотезу. Это значит, что средние пользовательские рейтинги игр на платформах Xbox One и PC примерно одинаковые.\n",
    "\n",
    "Скорее всего, совпадение средних пользовательских оценок для игр данных платформ случайно, и не говорит о наличии какой-либо взаимосвязи между играми для данных платформ.\n",
    "\n",
    "На основании **второго утверждения**: средние пользовательские рейтинги жанров action и sports разные, были сформулированы нулевая и альтернативная гипотезы:\n",
    "- средний пользовательский рейтинг жанра action **не равен** среднему пользовательскому рейтингу жанра sports;\n",
    "- средний пользовательский рейтинг жанра action **равен** среднему пользовательскому рейтингу жанра sports.\n",
    "\n",
    "По результатам проверки гипотезы мы не смогли отвергнуть нулевую гипотезу. Это значит, что средние пользовательские рейтинги игр в жанрах action и sports существенно различаются. \n",
    "\n",
    "В некоторой степени такой результат соответствует ожиданиям: данные жанры, несмотря на некоторые общие особенности (например, динамичность), технически значительно отличаются.\n",
    " \n",
    "**Общие рекомендации**:\n",
    "\n",
    "Целью исследований было выявление закономерностей, определяющих успешность игры, что в дальнейшем позволит сделать ставку на потенциально популярный продукт и спланировать рекламные кампании. К таким закономерностям можно отнести следующие:\n",
    "- потенциально прибыльные платформы: оные, относящиеся к группе роста продаж, а именно PS4 и XOne;\n",
    "- потенциально прибыльные жанры: оные, относящиеся к группе с высоким уровнем продаж, а именно: Action, Shooter, Sports и Role-Playing.\n",
    "\n",
    "Кроме того, следует также учитывать, что пользователи из разных регионов различаются между собой, следовательно, при планировании рекламных кампаний необходимо учитывать особенности конкретного региона, а именно:\n",
    "- в Северной Америке доминируют платформы семейства Xbox;\n",
    "- в Европе однозначного доминанта нет: широко распространены как платформы семейства PS, так и платформы семейства Xbox;\n",
    "- в Японии доминирует местная платформа 3DS;\n",
    "- в евроатлантических странах большей популярностью пользуются шутеры и спортивные игры (притом последние более популярны в Северной Америке), в Японии - ролевые игры;\n",
    "- в евроатлантических странах наиболее хорошо продаются игры для взрослых, в Японии - для тинэйджеров.\n",
    "\n",
    "Данные параметры следует учитывать для того, чтобы сделать ставку на потенциально популярный продукт и спланировать рекламные кампании."
   ]
  }
 ],
 "metadata": {
  "ExecuteTimeLog": [
   {
    "duration": 442,
    "start_time": "2022-08-22T11:00:30.472Z"
   },
   {
    "duration": 194,
    "start_time": "2022-08-22T11:00:50.603Z"
   },
   {
    "duration": 24,
    "start_time": "2022-08-22T11:00:58.014Z"
   },
   {
    "duration": 19,
    "start_time": "2022-08-22T11:01:02.011Z"
   },
   {
    "duration": 15,
    "start_time": "2022-08-22T11:01:09.925Z"
   },
   {
    "duration": 1196,
    "start_time": "2022-08-22T11:04:55.693Z"
   },
   {
    "duration": 828,
    "start_time": "2022-08-22T11:05:04.893Z"
   },
   {
    "duration": 741,
    "start_time": "2022-08-22T11:05:12.337Z"
   },
   {
    "duration": 763,
    "start_time": "2022-08-22T11:05:15.133Z"
   },
   {
    "duration": 14,
    "start_time": "2022-08-22T11:08:14.203Z"
   },
   {
    "duration": 2,
    "start_time": "2022-08-22T11:11:40.854Z"
   },
   {
    "duration": 13,
    "start_time": "2022-08-22T11:11:42.764Z"
   },
   {
    "duration": 9,
    "start_time": "2022-08-22T11:18:52.025Z"
   },
   {
    "duration": 5,
    "start_time": "2022-08-22T13:53:12.496Z"
   },
   {
    "duration": 75,
    "start_time": "2022-08-22T13:54:09.665Z"
   },
   {
    "duration": 114,
    "start_time": "2022-08-22T14:03:12.588Z"
   },
   {
    "duration": 7,
    "start_time": "2022-08-22T14:03:29.862Z"
   },
   {
    "duration": 3,
    "start_time": "2022-08-22T14:03:39.704Z"
   },
   {
    "duration": 51,
    "start_time": "2022-08-22T14:03:40.364Z"
   },
   {
    "duration": 14,
    "start_time": "2022-08-22T14:03:40.802Z"
   },
   {
    "duration": 16,
    "start_time": "2022-08-22T14:03:42.572Z"
   },
   {
    "duration": 777,
    "start_time": "2022-08-22T14:03:42.789Z"
   },
   {
    "duration": 3,
    "start_time": "2022-08-22T14:03:47.462Z"
   },
   {
    "duration": 9,
    "start_time": "2022-08-22T14:03:48.354Z"
   },
   {
    "duration": 8,
    "start_time": "2022-08-22T14:03:50.767Z"
   },
   {
    "duration": 15,
    "start_time": "2022-08-22T14:04:13.862Z"
   },
   {
    "duration": 15,
    "start_time": "2022-08-22T14:05:29.016Z"
   },
   {
    "duration": 21,
    "start_time": "2022-08-22T14:06:47.865Z"
   },
   {
    "duration": 10,
    "start_time": "2022-08-22T14:07:09.056Z"
   },
   {
    "duration": 5,
    "start_time": "2022-08-22T14:07:18.526Z"
   },
   {
    "duration": 12,
    "start_time": "2022-08-22T14:08:10.367Z"
   },
   {
    "duration": 4,
    "start_time": "2022-08-22T14:08:17.843Z"
   },
   {
    "duration": 3,
    "start_time": "2022-08-22T14:09:46.961Z"
   },
   {
    "duration": 9,
    "start_time": "2022-08-22T14:09:48.657Z"
   },
   {
    "duration": 21,
    "start_time": "2022-08-22T14:09:52.682Z"
   },
   {
    "duration": 71,
    "start_time": "2022-08-22T14:10:24.882Z"
   },
   {
    "duration": 1255,
    "start_time": "2022-08-22T14:11:18.413Z"
   },
   {
    "duration": 5,
    "start_time": "2022-08-22T14:12:28.761Z"
   },
   {
    "duration": 4,
    "start_time": "2022-08-22T14:12:38.475Z"
   },
   {
    "duration": 29,
    "start_time": "2022-08-22T14:13:54.125Z"
   },
   {
    "duration": 277,
    "start_time": "2022-08-22T14:14:13.982Z"
   },
   {
    "duration": 1549,
    "start_time": "2022-08-22T14:15:37.769Z"
   },
   {
    "duration": 1716,
    "start_time": "2022-08-22T14:15:46.140Z"
   },
   {
    "duration": 7,
    "start_time": "2022-08-22T14:16:41.054Z"
   },
   {
    "duration": 75,
    "start_time": "2022-08-22T14:16:48.759Z"
   },
   {
    "duration": 1678,
    "start_time": "2022-08-22T14:17:54.351Z"
   },
   {
    "duration": 390,
    "start_time": "2022-08-22T14:18:06.536Z"
   },
   {
    "duration": 58,
    "start_time": "2022-08-22T14:18:06.928Z"
   },
   {
    "duration": 22,
    "start_time": "2022-08-22T14:18:06.987Z"
   },
   {
    "duration": 28,
    "start_time": "2022-08-22T14:18:07.010Z"
   },
   {
    "duration": 1042,
    "start_time": "2022-08-22T14:18:07.040Z"
   },
   {
    "duration": 11,
    "start_time": "2022-08-22T14:18:08.083Z"
   },
   {
    "duration": 37,
    "start_time": "2022-08-22T14:18:08.096Z"
   },
   {
    "duration": 25,
    "start_time": "2022-08-22T14:18:08.136Z"
   },
   {
    "duration": 17,
    "start_time": "2022-08-22T14:18:08.163Z"
   },
   {
    "duration": 90,
    "start_time": "2022-08-22T14:18:08.182Z"
   },
   {
    "duration": 1470,
    "start_time": "2022-08-22T14:18:08.274Z"
   },
   {
    "duration": 0,
    "start_time": "2022-08-22T14:18:09.746Z"
   },
   {
    "duration": 0,
    "start_time": "2022-08-22T14:18:09.747Z"
   },
   {
    "duration": 9,
    "start_time": "2022-08-22T14:19:39.381Z"
   },
   {
    "duration": 343,
    "start_time": "2022-08-22T14:20:04.720Z"
   },
   {
    "duration": 7,
    "start_time": "2022-08-22T14:20:16.444Z"
   },
   {
    "duration": 8,
    "start_time": "2022-08-22T14:20:21.248Z"
   },
   {
    "duration": 3,
    "start_time": "2022-08-22T14:21:09.031Z"
   },
   {
    "duration": 5,
    "start_time": "2022-08-22T14:21:21.518Z"
   },
   {
    "duration": 7,
    "start_time": "2022-08-22T14:21:29.287Z"
   },
   {
    "duration": 337,
    "start_time": "2022-08-23T06:26:35.642Z"
   },
   {
    "duration": 89,
    "start_time": "2022-08-23T06:26:35.981Z"
   },
   {
    "duration": 13,
    "start_time": "2022-08-23T06:26:36.072Z"
   },
   {
    "duration": 22,
    "start_time": "2022-08-23T06:26:36.087Z"
   },
   {
    "duration": 1085,
    "start_time": "2022-08-23T06:26:36.111Z"
   },
   {
    "duration": 3,
    "start_time": "2022-08-23T06:26:37.198Z"
   },
   {
    "duration": 28,
    "start_time": "2022-08-23T06:26:37.203Z"
   },
   {
    "duration": 14,
    "start_time": "2022-08-23T06:26:37.233Z"
   },
   {
    "duration": 31,
    "start_time": "2022-08-23T06:26:37.249Z"
   },
   {
    "duration": 28,
    "start_time": "2022-08-23T06:26:37.283Z"
   },
   {
    "duration": 9,
    "start_time": "2022-08-23T06:26:37.313Z"
   },
   {
    "duration": 20,
    "start_time": "2022-08-23T06:26:37.324Z"
   },
   {
    "duration": 954,
    "start_time": "2022-08-23T06:26:37.347Z"
   },
   {
    "duration": 0,
    "start_time": "2022-08-23T06:26:38.304Z"
   },
   {
    "duration": 5,
    "start_time": "2022-08-23T06:26:53.032Z"
   },
   {
    "duration": 10,
    "start_time": "2022-08-23T06:29:21.221Z"
   },
   {
    "duration": 310,
    "start_time": "2022-08-23T06:30:30.304Z"
   },
   {
    "duration": 237,
    "start_time": "2022-08-23T06:30:50.306Z"
   },
   {
    "duration": 236,
    "start_time": "2022-08-23T06:30:57.654Z"
   },
   {
    "duration": 237,
    "start_time": "2022-08-23T06:31:02.437Z"
   },
   {
    "duration": 31,
    "start_time": "2022-08-23T06:33:44.427Z"
   },
   {
    "duration": 9,
    "start_time": "2022-08-23T06:33:52.928Z"
   },
   {
    "duration": 6,
    "start_time": "2022-08-23T06:34:04.917Z"
   },
   {
    "duration": 7,
    "start_time": "2022-08-23T06:45:50.399Z"
   },
   {
    "duration": 8,
    "start_time": "2022-08-23T06:48:15.415Z"
   },
   {
    "duration": 7,
    "start_time": "2022-08-23T06:48:24.107Z"
   },
   {
    "duration": 18,
    "start_time": "2022-08-23T07:24:12.376Z"
   },
   {
    "duration": 23,
    "start_time": "2022-08-23T07:24:41.273Z"
   },
   {
    "duration": 8,
    "start_time": "2022-08-23T07:27:04.873Z"
   },
   {
    "duration": 11,
    "start_time": "2022-08-23T07:27:14.473Z"
   },
   {
    "duration": 6,
    "start_time": "2022-08-23T07:27:23.428Z"
   },
   {
    "duration": 10,
    "start_time": "2022-08-23T07:27:38.051Z"
   },
   {
    "duration": 103,
    "start_time": "2022-08-23T07:27:45.111Z"
   },
   {
    "duration": 8,
    "start_time": "2022-08-23T07:27:51.430Z"
   },
   {
    "duration": 12,
    "start_time": "2022-08-23T07:28:39.737Z"
   },
   {
    "duration": 11,
    "start_time": "2022-08-23T07:29:11.378Z"
   },
   {
    "duration": 11,
    "start_time": "2022-08-23T07:29:27.168Z"
   },
   {
    "duration": 364,
    "start_time": "2022-08-23T07:29:39.333Z"
   },
   {
    "duration": 49,
    "start_time": "2022-08-23T07:29:39.699Z"
   },
   {
    "duration": 14,
    "start_time": "2022-08-23T07:29:39.749Z"
   },
   {
    "duration": 27,
    "start_time": "2022-08-23T07:29:39.764Z"
   },
   {
    "duration": 980,
    "start_time": "2022-08-23T07:29:39.798Z"
   },
   {
    "duration": 18,
    "start_time": "2022-08-23T07:29:40.784Z"
   },
   {
    "duration": 23,
    "start_time": "2022-08-23T07:29:40.804Z"
   },
   {
    "duration": 15,
    "start_time": "2022-08-23T07:29:40.830Z"
   },
   {
    "duration": 23,
    "start_time": "2022-08-23T07:29:40.848Z"
   },
   {
    "duration": 17,
    "start_time": "2022-08-23T07:29:40.873Z"
   },
   {
    "duration": 18,
    "start_time": "2022-08-23T07:29:40.899Z"
   },
   {
    "duration": 11,
    "start_time": "2022-08-23T07:29:40.919Z"
   },
   {
    "duration": 6,
    "start_time": "2022-08-23T07:29:40.932Z"
   },
   {
    "duration": 24,
    "start_time": "2022-08-23T07:29:40.941Z"
   },
   {
    "duration": 33,
    "start_time": "2022-08-23T07:29:40.967Z"
   },
   {
    "duration": 116,
    "start_time": "2022-08-23T07:29:41.003Z"
   },
   {
    "duration": 1135,
    "start_time": "2022-08-23T07:29:41.121Z"
   },
   {
    "duration": 0,
    "start_time": "2022-08-23T07:29:42.258Z"
   },
   {
    "duration": 14,
    "start_time": "2022-08-23T07:30:07.517Z"
   },
   {
    "duration": 15,
    "start_time": "2022-08-23T07:30:18.065Z"
   },
   {
    "duration": 7,
    "start_time": "2022-08-23T07:31:04.749Z"
   },
   {
    "duration": 10,
    "start_time": "2022-08-23T07:31:10.834Z"
   },
   {
    "duration": 111,
    "start_time": "2022-08-23T07:31:24.164Z"
   },
   {
    "duration": 14,
    "start_time": "2022-08-23T07:31:28.616Z"
   },
   {
    "duration": 113,
    "start_time": "2022-08-23T07:31:30.672Z"
   },
   {
    "duration": 15,
    "start_time": "2022-08-23T07:31:31.321Z"
   },
   {
    "duration": 106,
    "start_time": "2022-08-23T07:31:37.858Z"
   },
   {
    "duration": 19,
    "start_time": "2022-08-23T07:31:38.785Z"
   },
   {
    "duration": 108,
    "start_time": "2022-08-23T07:32:07.101Z"
   },
   {
    "duration": 14,
    "start_time": "2022-08-23T07:32:08.409Z"
   },
   {
    "duration": 7,
    "start_time": "2022-08-23T07:32:20.332Z"
   },
   {
    "duration": 13,
    "start_time": "2022-08-23T07:32:25.477Z"
   },
   {
    "duration": 130,
    "start_time": "2022-08-23T07:32:31.922Z"
   },
   {
    "duration": 15,
    "start_time": "2022-08-23T07:32:34.550Z"
   },
   {
    "duration": 30,
    "start_time": "2022-08-23T07:32:48.149Z"
   },
   {
    "duration": 7,
    "start_time": "2022-08-23T07:32:57.197Z"
   },
   {
    "duration": 15,
    "start_time": "2022-08-23T07:33:17.579Z"
   },
   {
    "duration": 112,
    "start_time": "2022-08-23T07:34:28.403Z"
   },
   {
    "duration": 25,
    "start_time": "2022-08-23T07:34:31.174Z"
   },
   {
    "duration": 96,
    "start_time": "2022-08-23T07:35:16.560Z"
   },
   {
    "duration": 14,
    "start_time": "2022-08-23T07:35:19.802Z"
   },
   {
    "duration": 13,
    "start_time": "2022-08-23T07:36:42.566Z"
   },
   {
    "duration": 4,
    "start_time": "2022-08-23T07:36:50.069Z"
   },
   {
    "duration": 21,
    "start_time": "2022-08-23T07:36:51.279Z"
   },
   {
    "duration": 14,
    "start_time": "2022-08-23T07:38:05.040Z"
   },
   {
    "duration": 15,
    "start_time": "2022-08-23T07:38:13.163Z"
   },
   {
    "duration": 384,
    "start_time": "2022-08-23T07:38:57.920Z"
   },
   {
    "duration": 58,
    "start_time": "2022-08-23T07:38:58.306Z"
   },
   {
    "duration": 15,
    "start_time": "2022-08-23T07:38:58.366Z"
   },
   {
    "duration": 39,
    "start_time": "2022-08-23T07:38:58.383Z"
   },
   {
    "duration": 952,
    "start_time": "2022-08-23T07:38:58.424Z"
   },
   {
    "duration": 7,
    "start_time": "2022-08-23T07:38:59.378Z"
   },
   {
    "duration": 22,
    "start_time": "2022-08-23T07:38:59.389Z"
   },
   {
    "duration": 14,
    "start_time": "2022-08-23T07:38:59.413Z"
   },
   {
    "duration": 8,
    "start_time": "2022-08-23T07:38:59.428Z"
   },
   {
    "duration": 10,
    "start_time": "2022-08-23T07:38:59.437Z"
   },
   {
    "duration": 8,
    "start_time": "2022-08-23T07:38:59.448Z"
   },
   {
    "duration": 6,
    "start_time": "2022-08-23T07:38:59.457Z"
   },
   {
    "duration": 31,
    "start_time": "2022-08-23T07:38:59.464Z"
   },
   {
    "duration": 12,
    "start_time": "2022-08-23T07:38:59.497Z"
   },
   {
    "duration": 20,
    "start_time": "2022-08-23T07:38:59.510Z"
   },
   {
    "duration": 1272,
    "start_time": "2022-08-23T07:38:59.531Z"
   },
   {
    "duration": 0,
    "start_time": "2022-08-23T07:39:00.804Z"
   },
   {
    "duration": 0,
    "start_time": "2022-08-23T07:39:00.806Z"
   },
   {
    "duration": 0,
    "start_time": "2022-08-23T07:39:00.807Z"
   },
   {
    "duration": 0,
    "start_time": "2022-08-23T07:39:00.808Z"
   },
   {
    "duration": 0,
    "start_time": "2022-08-23T07:39:00.809Z"
   },
   {
    "duration": 0,
    "start_time": "2022-08-23T07:39:00.810Z"
   },
   {
    "duration": 34,
    "start_time": "2022-08-23T07:44:56.643Z"
   },
   {
    "duration": 110,
    "start_time": "2022-08-23T07:45:07.396Z"
   },
   {
    "duration": 4,
    "start_time": "2022-08-23T07:45:07.865Z"
   },
   {
    "duration": 14,
    "start_time": "2022-08-23T07:45:08.956Z"
   },
   {
    "duration": 26,
    "start_time": "2022-08-23T08:06:03.666Z"
   },
   {
    "duration": 25,
    "start_time": "2022-08-23T08:07:18.322Z"
   },
   {
    "duration": 9,
    "start_time": "2022-08-23T08:07:59.661Z"
   },
   {
    "duration": 6,
    "start_time": "2022-08-23T08:08:11.671Z"
   },
   {
    "duration": 6,
    "start_time": "2022-08-23T08:08:20.320Z"
   },
   {
    "duration": 6,
    "start_time": "2022-08-23T08:08:53.819Z"
   },
   {
    "duration": 3,
    "start_time": "2022-08-23T08:09:18.460Z"
   },
   {
    "duration": 3,
    "start_time": "2022-08-23T08:09:20.074Z"
   },
   {
    "duration": 8,
    "start_time": "2022-08-23T08:09:27.917Z"
   },
   {
    "duration": 21,
    "start_time": "2022-08-23T08:10:27.602Z"
   },
   {
    "duration": 6,
    "start_time": "2022-08-23T08:15:36.530Z"
   },
   {
    "duration": 9,
    "start_time": "2022-08-23T08:15:42.054Z"
   },
   {
    "duration": 6,
    "start_time": "2022-08-23T08:15:51.074Z"
   },
   {
    "duration": 11,
    "start_time": "2022-08-23T08:16:06.885Z"
   },
   {
    "duration": 9,
    "start_time": "2022-08-23T08:16:17.494Z"
   },
   {
    "duration": 5,
    "start_time": "2022-08-23T08:16:36.908Z"
   },
   {
    "duration": 13,
    "start_time": "2022-08-23T08:16:41.422Z"
   },
   {
    "duration": 15,
    "start_time": "2022-08-23T08:16:47.984Z"
   },
   {
    "duration": 9,
    "start_time": "2022-08-23T08:16:57.741Z"
   },
   {
    "duration": 11,
    "start_time": "2022-08-23T08:17:10.391Z"
   },
   {
    "duration": 10,
    "start_time": "2022-08-23T08:17:21.212Z"
   },
   {
    "duration": 14,
    "start_time": "2022-08-23T08:17:27.102Z"
   },
   {
    "duration": 12,
    "start_time": "2022-08-23T08:17:29.610Z"
   },
   {
    "duration": 5,
    "start_time": "2022-08-23T08:17:44.299Z"
   },
   {
    "duration": 8,
    "start_time": "2022-08-23T08:17:53.867Z"
   },
   {
    "duration": 8,
    "start_time": "2022-08-23T08:17:58.396Z"
   },
   {
    "duration": 14,
    "start_time": "2022-08-23T08:18:15.246Z"
   },
   {
    "duration": 10,
    "start_time": "2022-08-23T08:18:22.699Z"
   },
   {
    "duration": 6,
    "start_time": "2022-08-23T08:18:48.754Z"
   },
   {
    "duration": 6,
    "start_time": "2022-08-23T08:18:57.017Z"
   },
   {
    "duration": 22,
    "start_time": "2022-08-23T08:20:35.258Z"
   },
   {
    "duration": 6,
    "start_time": "2022-08-23T08:26:13.795Z"
   },
   {
    "duration": 10,
    "start_time": "2022-08-23T08:26:19.060Z"
   },
   {
    "duration": 7,
    "start_time": "2022-08-23T08:26:26.101Z"
   },
   {
    "duration": 8,
    "start_time": "2022-08-23T08:26:40.457Z"
   },
   {
    "duration": 8,
    "start_time": "2022-08-23T08:26:43.713Z"
   },
   {
    "duration": 6,
    "start_time": "2022-08-23T08:26:45.653Z"
   },
   {
    "duration": 374,
    "start_time": "2022-08-23T08:27:12.958Z"
   },
   {
    "duration": 53,
    "start_time": "2022-08-23T08:27:13.333Z"
   },
   {
    "duration": 20,
    "start_time": "2022-08-23T08:27:13.394Z"
   },
   {
    "duration": 23,
    "start_time": "2022-08-23T08:27:13.416Z"
   },
   {
    "duration": 1030,
    "start_time": "2022-08-23T08:27:13.441Z"
   },
   {
    "duration": 4,
    "start_time": "2022-08-23T08:27:14.473Z"
   },
   {
    "duration": 39,
    "start_time": "2022-08-23T08:27:14.487Z"
   },
   {
    "duration": 33,
    "start_time": "2022-08-23T08:27:14.528Z"
   },
   {
    "duration": 11,
    "start_time": "2022-08-23T08:27:14.564Z"
   },
   {
    "duration": 17,
    "start_time": "2022-08-23T08:27:14.579Z"
   },
   {
    "duration": 13,
    "start_time": "2022-08-23T08:27:14.597Z"
   },
   {
    "duration": 18,
    "start_time": "2022-08-23T08:27:14.612Z"
   },
   {
    "duration": 24,
    "start_time": "2022-08-23T08:27:14.632Z"
   },
   {
    "duration": 20,
    "start_time": "2022-08-23T08:27:14.659Z"
   },
   {
    "duration": 138,
    "start_time": "2022-08-23T08:27:14.681Z"
   },
   {
    "duration": 3,
    "start_time": "2022-08-23T08:27:14.821Z"
   },
   {
    "duration": 32,
    "start_time": "2022-08-23T08:27:14.825Z"
   },
   {
    "duration": 33,
    "start_time": "2022-08-23T08:27:14.858Z"
   },
   {
    "duration": 12,
    "start_time": "2022-08-23T08:27:14.895Z"
   },
   {
    "duration": 25,
    "start_time": "2022-08-23T08:27:14.909Z"
   },
   {
    "duration": 6,
    "start_time": "2022-08-23T08:27:14.935Z"
   },
   {
    "duration": 6,
    "start_time": "2022-08-23T08:27:14.942Z"
   },
   {
    "duration": 1199,
    "start_time": "2022-08-23T08:27:14.949Z"
   },
   {
    "duration": 0,
    "start_time": "2022-08-23T08:27:16.150Z"
   },
   {
    "duration": 5,
    "start_time": "2022-08-23T08:29:45.480Z"
   },
   {
    "duration": 6,
    "start_time": "2022-08-23T08:29:47.149Z"
   },
   {
    "duration": 18,
    "start_time": "2022-08-23T08:29:58.582Z"
   },
   {
    "duration": 5,
    "start_time": "2022-08-23T08:30:08.915Z"
   },
   {
    "duration": 6,
    "start_time": "2022-08-23T08:30:09.849Z"
   },
   {
    "duration": 5,
    "start_time": "2022-08-23T08:30:11.974Z"
   },
   {
    "duration": 5,
    "start_time": "2022-08-23T08:30:19.265Z"
   },
   {
    "duration": 6,
    "start_time": "2022-08-23T08:30:20.229Z"
   },
   {
    "duration": 5,
    "start_time": "2022-08-23T08:30:21.836Z"
   },
   {
    "duration": 393,
    "start_time": "2022-08-23T08:30:29.010Z"
   },
   {
    "duration": 58,
    "start_time": "2022-08-23T08:30:29.405Z"
   },
   {
    "duration": 14,
    "start_time": "2022-08-23T08:30:29.464Z"
   },
   {
    "duration": 31,
    "start_time": "2022-08-23T08:30:29.481Z"
   },
   {
    "duration": 1057,
    "start_time": "2022-08-23T08:30:29.514Z"
   },
   {
    "duration": 6,
    "start_time": "2022-08-23T08:30:30.572Z"
   },
   {
    "duration": 28,
    "start_time": "2022-08-23T08:30:30.585Z"
   },
   {
    "duration": 33,
    "start_time": "2022-08-23T08:30:30.616Z"
   },
   {
    "duration": 22,
    "start_time": "2022-08-23T08:30:30.651Z"
   },
   {
    "duration": 38,
    "start_time": "2022-08-23T08:30:30.676Z"
   },
   {
    "duration": 11,
    "start_time": "2022-08-23T08:30:30.716Z"
   },
   {
    "duration": 14,
    "start_time": "2022-08-23T08:30:30.728Z"
   },
   {
    "duration": 22,
    "start_time": "2022-08-23T08:30:30.743Z"
   },
   {
    "duration": 22,
    "start_time": "2022-08-23T08:30:30.767Z"
   },
   {
    "duration": 138,
    "start_time": "2022-08-23T08:30:30.791Z"
   },
   {
    "duration": 4,
    "start_time": "2022-08-23T08:30:30.931Z"
   },
   {
    "duration": 53,
    "start_time": "2022-08-23T08:30:30.936Z"
   },
   {
    "duration": 38,
    "start_time": "2022-08-23T08:30:30.991Z"
   },
   {
    "duration": 5,
    "start_time": "2022-08-23T08:30:31.032Z"
   },
   {
    "duration": 37,
    "start_time": "2022-08-23T08:30:31.039Z"
   },
   {
    "duration": 7,
    "start_time": "2022-08-23T08:30:31.077Z"
   },
   {
    "duration": 21,
    "start_time": "2022-08-23T08:30:31.089Z"
   },
   {
    "duration": 12,
    "start_time": "2022-08-23T08:30:31.111Z"
   },
   {
    "duration": 21,
    "start_time": "2022-08-23T08:30:31.125Z"
   },
   {
    "duration": 19,
    "start_time": "2022-08-23T08:30:31.147Z"
   },
   {
    "duration": 3,
    "start_time": "2022-08-23T08:31:19.962Z"
   },
   {
    "duration": 6,
    "start_time": "2022-08-23T08:31:35.700Z"
   },
   {
    "duration": 6,
    "start_time": "2022-08-23T08:31:37.398Z"
   },
   {
    "duration": 5,
    "start_time": "2022-08-23T08:31:39.522Z"
   },
   {
    "duration": 14,
    "start_time": "2022-08-23T08:32:28.006Z"
   },
   {
    "duration": 490,
    "start_time": "2022-08-23T08:32:34.212Z"
   },
   {
    "duration": 57,
    "start_time": "2022-08-23T08:32:34.708Z"
   },
   {
    "duration": 16,
    "start_time": "2022-08-23T08:32:34.767Z"
   },
   {
    "duration": 41,
    "start_time": "2022-08-23T08:32:34.787Z"
   },
   {
    "duration": 1053,
    "start_time": "2022-08-23T08:32:34.829Z"
   },
   {
    "duration": 3,
    "start_time": "2022-08-23T08:32:35.884Z"
   },
   {
    "duration": 27,
    "start_time": "2022-08-23T08:32:35.894Z"
   },
   {
    "duration": 24,
    "start_time": "2022-08-23T08:32:35.923Z"
   },
   {
    "duration": 7,
    "start_time": "2022-08-23T08:32:35.949Z"
   },
   {
    "duration": 10,
    "start_time": "2022-08-23T08:32:35.958Z"
   },
   {
    "duration": 22,
    "start_time": "2022-08-23T08:32:35.969Z"
   },
   {
    "duration": 8,
    "start_time": "2022-08-23T08:32:35.997Z"
   },
   {
    "duration": 8,
    "start_time": "2022-08-23T08:32:36.007Z"
   },
   {
    "duration": 14,
    "start_time": "2022-08-23T08:32:36.016Z"
   },
   {
    "duration": 118,
    "start_time": "2022-08-23T08:32:36.032Z"
   },
   {
    "duration": 3,
    "start_time": "2022-08-23T08:32:36.152Z"
   },
   {
    "duration": 8,
    "start_time": "2022-08-23T08:32:36.157Z"
   },
   {
    "duration": 38,
    "start_time": "2022-08-23T08:32:36.167Z"
   },
   {
    "duration": 6,
    "start_time": "2022-08-23T08:32:36.208Z"
   },
   {
    "duration": 26,
    "start_time": "2022-08-23T08:32:36.216Z"
   },
   {
    "duration": 6,
    "start_time": "2022-08-23T08:32:36.243Z"
   },
   {
    "duration": 54,
    "start_time": "2022-08-23T08:32:36.251Z"
   },
   {
    "duration": 8,
    "start_time": "2022-08-23T08:32:36.307Z"
   },
   {
    "duration": 6,
    "start_time": "2022-08-23T08:32:36.317Z"
   },
   {
    "duration": 5,
    "start_time": "2022-08-23T08:33:10.160Z"
   },
   {
    "duration": 5,
    "start_time": "2022-08-23T08:33:14.809Z"
   },
   {
    "duration": 33,
    "start_time": "2022-08-23T08:33:35.168Z"
   },
   {
    "duration": 13,
    "start_time": "2022-08-23T08:35:27.302Z"
   },
   {
    "duration": 7,
    "start_time": "2022-08-23T08:35:57.600Z"
   },
   {
    "duration": 5,
    "start_time": "2022-08-23T08:38:45.807Z"
   },
   {
    "duration": 308,
    "start_time": "2022-08-23T08:38:49.362Z"
   },
   {
    "duration": 5,
    "start_time": "2022-08-23T08:39:01.435Z"
   },
   {
    "duration": 5,
    "start_time": "2022-08-23T08:39:03.436Z"
   },
   {
    "duration": 4,
    "start_time": "2022-08-23T08:39:37.756Z"
   },
   {
    "duration": 5,
    "start_time": "2022-08-23T08:39:40.464Z"
   },
   {
    "duration": 13,
    "start_time": "2022-08-23T08:39:43.425Z"
   },
   {
    "duration": 6,
    "start_time": "2022-08-23T08:42:35.183Z"
   },
   {
    "duration": 4,
    "start_time": "2022-08-23T08:42:35.468Z"
   },
   {
    "duration": 4,
    "start_time": "2022-08-23T08:42:35.713Z"
   },
   {
    "duration": 5,
    "start_time": "2022-08-23T08:42:36.000Z"
   },
   {
    "duration": 7,
    "start_time": "2022-08-23T08:42:36.295Z"
   },
   {
    "duration": 15,
    "start_time": "2022-08-23T08:42:38.216Z"
   },
   {
    "duration": 25,
    "start_time": "2022-08-23T08:43:55.075Z"
   },
   {
    "duration": 26,
    "start_time": "2022-08-23T08:43:59.004Z"
   },
   {
    "duration": 14,
    "start_time": "2022-08-23T08:44:40.731Z"
   },
   {
    "duration": 9,
    "start_time": "2022-08-23T08:45:09.121Z"
   },
   {
    "duration": 22,
    "start_time": "2022-08-23T08:45:26.714Z"
   },
   {
    "duration": 22,
    "start_time": "2022-08-23T08:45:35.408Z"
   },
   {
    "duration": 20,
    "start_time": "2022-08-23T08:45:43.528Z"
   },
   {
    "duration": 12,
    "start_time": "2022-08-23T08:46:25.683Z"
   },
   {
    "duration": 18,
    "start_time": "2022-08-23T08:46:30.756Z"
   },
   {
    "duration": 6,
    "start_time": "2022-08-23T08:50:19.760Z"
   },
   {
    "duration": 10,
    "start_time": "2022-08-23T08:52:21.591Z"
   },
   {
    "duration": 7,
    "start_time": "2022-08-23T08:52:29.320Z"
   },
   {
    "duration": 11,
    "start_time": "2022-08-23T08:52:42.824Z"
   },
   {
    "duration": 4,
    "start_time": "2022-08-23T08:52:51.901Z"
   },
   {
    "duration": 4,
    "start_time": "2022-08-23T08:53:13.509Z"
   },
   {
    "duration": 8,
    "start_time": "2022-08-23T08:53:16.854Z"
   },
   {
    "duration": 7,
    "start_time": "2022-08-23T08:53:27.632Z"
   },
   {
    "duration": 8,
    "start_time": "2022-08-23T08:53:35.602Z"
   },
   {
    "duration": 4,
    "start_time": "2022-08-23T08:54:03.260Z"
   },
   {
    "duration": 6,
    "start_time": "2022-08-23T08:54:08.849Z"
   },
   {
    "duration": 23,
    "start_time": "2022-08-23T08:54:18.358Z"
   },
   {
    "duration": 445,
    "start_time": "2022-08-23T08:54:31.382Z"
   },
   {
    "duration": 54,
    "start_time": "2022-08-23T08:54:31.829Z"
   },
   {
    "duration": 20,
    "start_time": "2022-08-23T08:54:31.887Z"
   },
   {
    "duration": 48,
    "start_time": "2022-08-23T08:54:31.910Z"
   },
   {
    "duration": 1163,
    "start_time": "2022-08-23T08:54:31.960Z"
   },
   {
    "duration": 4,
    "start_time": "2022-08-23T08:54:33.125Z"
   },
   {
    "duration": 13,
    "start_time": "2022-08-23T08:54:33.130Z"
   },
   {
    "duration": 18,
    "start_time": "2022-08-23T08:54:33.145Z"
   },
   {
    "duration": 24,
    "start_time": "2022-08-23T08:54:33.186Z"
   },
   {
    "duration": 20,
    "start_time": "2022-08-23T08:54:33.214Z"
   },
   {
    "duration": 19,
    "start_time": "2022-08-23T08:54:33.237Z"
   },
   {
    "duration": 9,
    "start_time": "2022-08-23T08:54:33.258Z"
   },
   {
    "duration": 11,
    "start_time": "2022-08-23T08:54:33.268Z"
   },
   {
    "duration": 14,
    "start_time": "2022-08-23T08:54:33.281Z"
   },
   {
    "duration": 177,
    "start_time": "2022-08-23T08:54:33.297Z"
   },
   {
    "duration": 4,
    "start_time": "2022-08-23T08:54:33.476Z"
   },
   {
    "duration": 40,
    "start_time": "2022-08-23T08:54:33.485Z"
   },
   {
    "duration": 33,
    "start_time": "2022-08-23T08:54:33.527Z"
   },
   {
    "duration": 6,
    "start_time": "2022-08-23T08:54:33.563Z"
   },
   {
    "duration": 40,
    "start_time": "2022-08-23T08:54:33.572Z"
   },
   {
    "duration": 16,
    "start_time": "2022-08-23T08:54:33.614Z"
   },
   {
    "duration": 14,
    "start_time": "2022-08-23T08:54:33.632Z"
   },
   {
    "duration": 17,
    "start_time": "2022-08-23T08:54:33.648Z"
   },
   {
    "duration": 43,
    "start_time": "2022-08-23T08:54:33.666Z"
   },
   {
    "duration": 21,
    "start_time": "2022-08-23T08:54:33.711Z"
   },
   {
    "duration": 6,
    "start_time": "2022-08-23T08:54:33.734Z"
   },
   {
    "duration": 19,
    "start_time": "2022-08-23T08:54:33.742Z"
   },
   {
    "duration": 14,
    "start_time": "2022-08-23T08:54:33.766Z"
   },
   {
    "duration": 27,
    "start_time": "2022-08-23T08:54:33.782Z"
   },
   {
    "duration": 6,
    "start_time": "2022-08-23T08:54:33.812Z"
   },
   {
    "duration": 6,
    "start_time": "2022-08-23T08:54:33.820Z"
   },
   {
    "duration": 25,
    "start_time": "2022-08-23T08:54:33.828Z"
   },
   {
    "duration": 8,
    "start_time": "2022-08-23T08:54:33.855Z"
   },
   {
    "duration": 38,
    "start_time": "2022-08-23T08:54:33.865Z"
   },
   {
    "duration": 26,
    "start_time": "2022-08-23T08:54:33.905Z"
   },
   {
    "duration": 9,
    "start_time": "2022-08-23T08:54:33.933Z"
   },
   {
    "duration": 9,
    "start_time": "2022-08-23T08:54:33.943Z"
   },
   {
    "duration": 10,
    "start_time": "2022-08-23T08:54:33.953Z"
   },
   {
    "duration": 35,
    "start_time": "2022-08-23T08:54:33.966Z"
   },
   {
    "duration": 13,
    "start_time": "2022-08-23T08:54:53.536Z"
   },
   {
    "duration": 5,
    "start_time": "2022-08-23T08:54:57.400Z"
   },
   {
    "duration": 16,
    "start_time": "2022-08-23T08:54:57.766Z"
   },
   {
    "duration": 5,
    "start_time": "2022-08-23T08:56:21.152Z"
   },
   {
    "duration": 4,
    "start_time": "2022-08-23T08:56:35.905Z"
   },
   {
    "duration": 4,
    "start_time": "2022-08-23T08:56:51.205Z"
   },
   {
    "duration": 5,
    "start_time": "2022-08-23T09:56:13.389Z"
   },
   {
    "duration": 10,
    "start_time": "2022-08-23T09:56:16.668Z"
   },
   {
    "duration": 8,
    "start_time": "2022-08-23T09:56:20.326Z"
   },
   {
    "duration": 5,
    "start_time": "2022-08-23T09:57:00.796Z"
   },
   {
    "duration": 9,
    "start_time": "2022-08-23T09:57:00.933Z"
   },
   {
    "duration": 3,
    "start_time": "2022-08-23T09:58:57.590Z"
   },
   {
    "duration": 922,
    "start_time": "2022-08-23T09:59:43.214Z"
   },
   {
    "duration": 200,
    "start_time": "2022-08-23T10:02:19.508Z"
   },
   {
    "duration": 180,
    "start_time": "2022-08-23T10:02:25.579Z"
   },
   {
    "duration": 200,
    "start_time": "2022-08-23T10:02:31.854Z"
   },
   {
    "duration": 198,
    "start_time": "2022-08-23T10:02:33.851Z"
   },
   {
    "duration": 18,
    "start_time": "2022-08-23T10:03:08.215Z"
   },
   {
    "duration": 5,
    "start_time": "2022-08-23T10:06:22.215Z"
   },
   {
    "duration": 24,
    "start_time": "2022-08-23T10:06:26.880Z"
   },
   {
    "duration": 1064,
    "start_time": "2022-08-23T10:06:32.505Z"
   },
   {
    "duration": 202,
    "start_time": "2022-08-23T10:06:47.821Z"
   },
   {
    "duration": 188,
    "start_time": "2022-08-23T10:06:58.884Z"
   },
   {
    "duration": 274,
    "start_time": "2022-08-23T10:07:02.549Z"
   },
   {
    "duration": 674,
    "start_time": "2022-08-23T10:07:23.859Z"
   },
   {
    "duration": 678,
    "start_time": "2022-08-23T10:07:29.747Z"
   },
   {
    "duration": 554,
    "start_time": "2022-08-23T10:07:35.400Z"
   },
   {
    "duration": 516,
    "start_time": "2022-08-23T10:07:41.048Z"
   },
   {
    "duration": 628,
    "start_time": "2022-08-23T10:08:09.434Z"
   },
   {
    "duration": 549,
    "start_time": "2022-08-23T10:08:15.502Z"
   },
   {
    "duration": 562,
    "start_time": "2022-08-23T10:08:28.942Z"
   },
   {
    "duration": 24,
    "start_time": "2022-08-23T10:09:00.834Z"
   },
   {
    "duration": 6,
    "start_time": "2022-08-23T10:10:16.576Z"
   },
   {
    "duration": 939,
    "start_time": "2022-08-23T10:10:30.652Z"
   },
   {
    "duration": 837,
    "start_time": "2022-08-23T10:11:56.728Z"
   },
   {
    "duration": 8,
    "start_time": "2022-08-23T10:14:30.399Z"
   },
   {
    "duration": 6,
    "start_time": "2022-08-23T10:16:17.043Z"
   },
   {
    "duration": 6,
    "start_time": "2022-08-23T10:16:17.541Z"
   },
   {
    "duration": 6,
    "start_time": "2022-08-23T10:16:18.344Z"
   },
   {
    "duration": 9,
    "start_time": "2022-08-23T10:16:22.172Z"
   },
   {
    "duration": 1135,
    "start_time": "2022-08-23T10:16:49.464Z"
   },
   {
    "duration": 860,
    "start_time": "2022-08-23T10:20:01.288Z"
   },
   {
    "duration": 7,
    "start_time": "2022-08-23T10:21:04.799Z"
   },
   {
    "duration": 11,
    "start_time": "2022-08-23T10:21:53.493Z"
   },
   {
    "duration": 11,
    "start_time": "2022-08-23T10:21:56.308Z"
   },
   {
    "duration": 6,
    "start_time": "2022-08-23T10:22:03.304Z"
   },
   {
    "duration": 7,
    "start_time": "2022-08-23T10:22:22.799Z"
   },
   {
    "duration": 8,
    "start_time": "2022-08-23T10:22:27.014Z"
   },
   {
    "duration": 68,
    "start_time": "2022-08-23T10:23:18.981Z"
   },
   {
    "duration": 8,
    "start_time": "2022-08-23T10:23:29.829Z"
   },
   {
    "duration": 11,
    "start_time": "2022-08-23T10:24:26.311Z"
   },
   {
    "duration": 431,
    "start_time": "2022-08-23T10:24:59.028Z"
   },
   {
    "duration": 53,
    "start_time": "2022-08-23T10:24:59.461Z"
   },
   {
    "duration": 15,
    "start_time": "2022-08-23T10:24:59.516Z"
   },
   {
    "duration": 28,
    "start_time": "2022-08-23T10:24:59.533Z"
   },
   {
    "duration": 1060,
    "start_time": "2022-08-23T10:24:59.563Z"
   },
   {
    "duration": 4,
    "start_time": "2022-08-23T10:25:00.625Z"
   },
   {
    "duration": 18,
    "start_time": "2022-08-23T10:25:00.631Z"
   },
   {
    "duration": 20,
    "start_time": "2022-08-23T10:25:00.650Z"
   },
   {
    "duration": 17,
    "start_time": "2022-08-23T10:25:00.671Z"
   },
   {
    "duration": 12,
    "start_time": "2022-08-23T10:25:00.691Z"
   },
   {
    "duration": 16,
    "start_time": "2022-08-23T10:25:00.705Z"
   },
   {
    "duration": 24,
    "start_time": "2022-08-23T10:25:00.723Z"
   },
   {
    "duration": 15,
    "start_time": "2022-08-23T10:25:00.749Z"
   },
   {
    "duration": 23,
    "start_time": "2022-08-23T10:25:00.766Z"
   },
   {
    "duration": 115,
    "start_time": "2022-08-23T10:25:00.790Z"
   },
   {
    "duration": 3,
    "start_time": "2022-08-23T10:25:00.907Z"
   },
   {
    "duration": 15,
    "start_time": "2022-08-23T10:25:00.912Z"
   },
   {
    "duration": 25,
    "start_time": "2022-08-23T10:25:00.929Z"
   },
   {
    "duration": 5,
    "start_time": "2022-08-23T10:25:00.956Z"
   },
   {
    "duration": 46,
    "start_time": "2022-08-23T10:25:00.962Z"
   },
   {
    "duration": 6,
    "start_time": "2022-08-23T10:25:01.009Z"
   },
   {
    "duration": 21,
    "start_time": "2022-08-23T10:25:01.016Z"
   },
   {
    "duration": 23,
    "start_time": "2022-08-23T10:25:01.039Z"
   },
   {
    "duration": 36,
    "start_time": "2022-08-23T10:25:01.064Z"
   },
   {
    "duration": 12,
    "start_time": "2022-08-23T10:25:01.102Z"
   },
   {
    "duration": 23,
    "start_time": "2022-08-23T10:25:01.116Z"
   },
   {
    "duration": 32,
    "start_time": "2022-08-23T10:25:01.141Z"
   },
   {
    "duration": 33,
    "start_time": "2022-08-23T10:25:01.178Z"
   },
   {
    "duration": 18,
    "start_time": "2022-08-23T10:25:01.213Z"
   },
   {
    "duration": 30,
    "start_time": "2022-08-23T10:25:01.233Z"
   },
   {
    "duration": 22,
    "start_time": "2022-08-23T10:25:01.264Z"
   },
   {
    "duration": 42,
    "start_time": "2022-08-23T10:25:01.288Z"
   },
   {
    "duration": 25,
    "start_time": "2022-08-23T10:25:01.332Z"
   },
   {
    "duration": 63,
    "start_time": "2022-08-23T10:25:01.359Z"
   },
   {
    "duration": 41,
    "start_time": "2022-08-23T10:25:01.424Z"
   },
   {
    "duration": 25,
    "start_time": "2022-08-23T10:25:01.466Z"
   },
   {
    "duration": 13,
    "start_time": "2022-08-23T10:25:01.493Z"
   },
   {
    "duration": 10,
    "start_time": "2022-08-23T10:25:01.508Z"
   },
   {
    "duration": 47,
    "start_time": "2022-08-23T10:25:01.519Z"
   },
   {
    "duration": 11,
    "start_time": "2022-08-23T10:25:01.568Z"
   },
   {
    "duration": 12,
    "start_time": "2022-08-23T10:25:01.580Z"
   },
   {
    "duration": 6,
    "start_time": "2022-08-23T10:25:01.593Z"
   },
   {
    "duration": 983,
    "start_time": "2022-08-23T10:25:01.600Z"
   },
   {
    "duration": 820,
    "start_time": "2022-08-23T10:25:02.584Z"
   },
   {
    "duration": 23,
    "start_time": "2022-08-23T10:25:03.406Z"
   },
   {
    "duration": 17,
    "start_time": "2022-08-23T10:25:03.430Z"
   },
   {
    "duration": 8,
    "start_time": "2022-08-23T10:25:03.449Z"
   },
   {
    "duration": 5,
    "start_time": "2022-08-23T10:25:03.458Z"
   },
   {
    "duration": 1227,
    "start_time": "2022-08-23T10:25:03.464Z"
   },
   {
    "duration": 837,
    "start_time": "2022-08-23T10:25:04.693Z"
   },
   {
    "duration": 6,
    "start_time": "2022-08-23T10:25:05.531Z"
   },
   {
    "duration": 6,
    "start_time": "2022-08-23T10:25:05.539Z"
   },
   {
    "duration": 6,
    "start_time": "2022-08-23T10:26:53.486Z"
   },
   {
    "duration": 9,
    "start_time": "2022-08-23T10:27:11.770Z"
   },
   {
    "duration": 5,
    "start_time": "2022-08-23T10:27:27.801Z"
   },
   {
    "duration": 10,
    "start_time": "2022-08-23T10:27:30.401Z"
   },
   {
    "duration": 8,
    "start_time": "2022-08-23T10:28:04.769Z"
   },
   {
    "duration": 6,
    "start_time": "2022-08-23T10:28:07.940Z"
   },
   {
    "duration": 6,
    "start_time": "2022-08-23T10:28:10.673Z"
   },
   {
    "duration": 10,
    "start_time": "2022-08-23T10:28:17.083Z"
   },
   {
    "duration": 6,
    "start_time": "2022-08-23T10:28:21.698Z"
   },
   {
    "duration": 6,
    "start_time": "2022-08-23T10:28:29.460Z"
   },
   {
    "duration": 6,
    "start_time": "2022-08-23T10:28:41.638Z"
   },
   {
    "duration": 415,
    "start_time": "2022-08-23T10:29:39.875Z"
   },
   {
    "duration": 60,
    "start_time": "2022-08-23T10:29:40.292Z"
   },
   {
    "duration": 20,
    "start_time": "2022-08-23T10:29:40.354Z"
   },
   {
    "duration": 27,
    "start_time": "2022-08-23T10:29:40.376Z"
   },
   {
    "duration": 980,
    "start_time": "2022-08-23T10:29:40.405Z"
   },
   {
    "duration": 3,
    "start_time": "2022-08-23T10:29:41.386Z"
   },
   {
    "duration": 30,
    "start_time": "2022-08-23T10:29:41.391Z"
   },
   {
    "duration": 31,
    "start_time": "2022-08-23T10:29:41.423Z"
   },
   {
    "duration": 33,
    "start_time": "2022-08-23T10:29:41.455Z"
   },
   {
    "duration": 16,
    "start_time": "2022-08-23T10:29:41.491Z"
   },
   {
    "duration": 17,
    "start_time": "2022-08-23T10:29:41.509Z"
   },
   {
    "duration": 25,
    "start_time": "2022-08-23T10:29:41.527Z"
   },
   {
    "duration": 16,
    "start_time": "2022-08-23T10:29:41.554Z"
   },
   {
    "duration": 39,
    "start_time": "2022-08-23T10:29:41.572Z"
   },
   {
    "duration": 136,
    "start_time": "2022-08-23T10:29:41.613Z"
   },
   {
    "duration": 3,
    "start_time": "2022-08-23T10:29:41.750Z"
   },
   {
    "duration": 31,
    "start_time": "2022-08-23T10:29:41.755Z"
   },
   {
    "duration": 39,
    "start_time": "2022-08-23T10:29:41.787Z"
   },
   {
    "duration": 5,
    "start_time": "2022-08-23T10:29:41.828Z"
   },
   {
    "duration": 47,
    "start_time": "2022-08-23T10:29:41.834Z"
   },
   {
    "duration": 7,
    "start_time": "2022-08-23T10:29:41.882Z"
   },
   {
    "duration": 20,
    "start_time": "2022-08-23T10:29:41.890Z"
   },
   {
    "duration": 16,
    "start_time": "2022-08-23T10:29:41.911Z"
   },
   {
    "duration": 34,
    "start_time": "2022-08-23T10:29:41.928Z"
   },
   {
    "duration": 15,
    "start_time": "2022-08-23T10:29:41.963Z"
   },
   {
    "duration": 6,
    "start_time": "2022-08-23T10:29:41.980Z"
   },
   {
    "duration": 20,
    "start_time": "2022-08-23T10:29:41.988Z"
   },
   {
    "duration": 13,
    "start_time": "2022-08-23T10:29:42.012Z"
   },
   {
    "duration": 18,
    "start_time": "2022-08-23T10:29:42.027Z"
   },
   {
    "duration": 9,
    "start_time": "2022-08-23T10:29:42.047Z"
   },
   {
    "duration": 6,
    "start_time": "2022-08-23T10:29:42.057Z"
   },
   {
    "duration": 17,
    "start_time": "2022-08-23T10:29:42.065Z"
   },
   {
    "duration": 6,
    "start_time": "2022-08-23T10:29:42.084Z"
   },
   {
    "duration": 26,
    "start_time": "2022-08-23T10:29:42.091Z"
   },
   {
    "duration": 17,
    "start_time": "2022-08-23T10:29:42.119Z"
   },
   {
    "duration": 10,
    "start_time": "2022-08-23T10:29:42.137Z"
   },
   {
    "duration": 11,
    "start_time": "2022-08-23T10:29:42.149Z"
   },
   {
    "duration": 6,
    "start_time": "2022-08-23T10:29:42.184Z"
   },
   {
    "duration": 22,
    "start_time": "2022-08-23T10:29:42.191Z"
   },
   {
    "duration": 9,
    "start_time": "2022-08-23T10:29:42.214Z"
   },
   {
    "duration": 22,
    "start_time": "2022-08-23T10:29:42.225Z"
   },
   {
    "duration": 16,
    "start_time": "2022-08-23T10:29:42.249Z"
   },
   {
    "duration": 1076,
    "start_time": "2022-08-23T10:29:42.267Z"
   },
   {
    "duration": 909,
    "start_time": "2022-08-23T10:29:43.345Z"
   },
   {
    "duration": 35,
    "start_time": "2022-08-23T10:29:44.256Z"
   },
   {
    "duration": 41,
    "start_time": "2022-08-23T10:29:44.293Z"
   },
   {
    "duration": 37,
    "start_time": "2022-08-23T10:29:44.335Z"
   },
   {
    "duration": 22,
    "start_time": "2022-08-23T10:29:44.374Z"
   },
   {
    "duration": 1192,
    "start_time": "2022-08-23T10:29:44.397Z"
   },
   {
    "duration": 930,
    "start_time": "2022-08-23T10:29:45.592Z"
   },
   {
    "duration": 8,
    "start_time": "2022-08-23T10:29:46.524Z"
   },
   {
    "duration": 342,
    "start_time": "2022-08-23T10:29:46.533Z"
   },
   {
    "duration": 386,
    "start_time": "2022-08-23T10:30:42.837Z"
   },
   {
    "duration": 51,
    "start_time": "2022-08-23T10:30:43.225Z"
   },
   {
    "duration": 21,
    "start_time": "2022-08-23T10:30:43.278Z"
   },
   {
    "duration": 30,
    "start_time": "2022-08-23T10:30:43.301Z"
   },
   {
    "duration": 1077,
    "start_time": "2022-08-23T10:30:43.333Z"
   },
   {
    "duration": 4,
    "start_time": "2022-08-23T10:30:44.412Z"
   },
   {
    "duration": 33,
    "start_time": "2022-08-23T10:30:44.418Z"
   },
   {
    "duration": 20,
    "start_time": "2022-08-23T10:30:44.453Z"
   },
   {
    "duration": 9,
    "start_time": "2022-08-23T10:30:44.484Z"
   },
   {
    "duration": 26,
    "start_time": "2022-08-23T10:30:44.496Z"
   },
   {
    "duration": 11,
    "start_time": "2022-08-23T10:30:44.524Z"
   },
   {
    "duration": 8,
    "start_time": "2022-08-23T10:30:44.537Z"
   },
   {
    "duration": 12,
    "start_time": "2022-08-23T10:30:44.547Z"
   },
   {
    "duration": 24,
    "start_time": "2022-08-23T10:30:44.561Z"
   },
   {
    "duration": 130,
    "start_time": "2022-08-23T10:30:44.587Z"
   },
   {
    "duration": 5,
    "start_time": "2022-08-23T10:30:44.718Z"
   },
   {
    "duration": 12,
    "start_time": "2022-08-23T10:30:44.725Z"
   },
   {
    "duration": 23,
    "start_time": "2022-08-23T10:30:44.739Z"
   },
   {
    "duration": 4,
    "start_time": "2022-08-23T10:30:44.764Z"
   },
   {
    "duration": 27,
    "start_time": "2022-08-23T10:30:44.784Z"
   },
   {
    "duration": 8,
    "start_time": "2022-08-23T10:30:44.813Z"
   },
   {
    "duration": 8,
    "start_time": "2022-08-23T10:30:44.822Z"
   },
   {
    "duration": 7,
    "start_time": "2022-08-23T10:30:44.832Z"
   },
   {
    "duration": 47,
    "start_time": "2022-08-23T10:30:44.841Z"
   },
   {
    "duration": 17,
    "start_time": "2022-08-23T10:30:44.891Z"
   },
   {
    "duration": 5,
    "start_time": "2022-08-23T10:30:44.910Z"
   },
   {
    "duration": 17,
    "start_time": "2022-08-23T10:30:44.917Z"
   },
   {
    "duration": 9,
    "start_time": "2022-08-23T10:30:44.938Z"
   },
   {
    "duration": 10,
    "start_time": "2022-08-23T10:30:44.949Z"
   },
   {
    "duration": 6,
    "start_time": "2022-08-23T10:30:44.961Z"
   },
   {
    "duration": 6,
    "start_time": "2022-08-23T10:30:44.968Z"
   },
   {
    "duration": 23,
    "start_time": "2022-08-23T10:30:44.984Z"
   },
   {
    "duration": 6,
    "start_time": "2022-08-23T10:30:45.009Z"
   },
   {
    "duration": 49,
    "start_time": "2022-08-23T10:30:45.016Z"
   },
   {
    "duration": 18,
    "start_time": "2022-08-23T10:30:45.066Z"
   },
   {
    "duration": 22,
    "start_time": "2022-08-23T10:30:45.086Z"
   },
   {
    "duration": 17,
    "start_time": "2022-08-23T10:30:45.110Z"
   },
   {
    "duration": 7,
    "start_time": "2022-08-23T10:30:45.128Z"
   },
   {
    "duration": 22,
    "start_time": "2022-08-23T10:30:45.138Z"
   },
   {
    "duration": 13,
    "start_time": "2022-08-23T10:30:45.161Z"
   },
   {
    "duration": 22,
    "start_time": "2022-08-23T10:30:45.176Z"
   },
   {
    "duration": 10,
    "start_time": "2022-08-23T10:30:45.201Z"
   },
   {
    "duration": 1106,
    "start_time": "2022-08-23T10:30:45.212Z"
   },
   {
    "duration": 905,
    "start_time": "2022-08-23T10:30:46.319Z"
   },
   {
    "duration": 24,
    "start_time": "2022-08-23T10:30:47.226Z"
   },
   {
    "duration": 9,
    "start_time": "2022-08-23T10:30:47.252Z"
   },
   {
    "duration": 24,
    "start_time": "2022-08-23T10:30:47.262Z"
   },
   {
    "duration": 9,
    "start_time": "2022-08-23T10:30:47.287Z"
   },
   {
    "duration": 1308,
    "start_time": "2022-08-23T10:30:47.300Z"
   },
   {
    "duration": 899,
    "start_time": "2022-08-23T10:30:48.609Z"
   },
   {
    "duration": 7,
    "start_time": "2022-08-23T10:30:49.510Z"
   },
   {
    "duration": 13,
    "start_time": "2022-08-23T10:30:49.519Z"
   },
   {
    "duration": 403,
    "start_time": "2022-08-23T10:32:08.750Z"
   },
   {
    "duration": 52,
    "start_time": "2022-08-23T10:32:09.155Z"
   },
   {
    "duration": 12,
    "start_time": "2022-08-23T10:32:09.209Z"
   },
   {
    "duration": 23,
    "start_time": "2022-08-23T10:32:09.223Z"
   },
   {
    "duration": 1015,
    "start_time": "2022-08-23T10:32:09.247Z"
   },
   {
    "duration": 4,
    "start_time": "2022-08-23T10:32:10.263Z"
   },
   {
    "duration": 30,
    "start_time": "2022-08-23T10:32:10.268Z"
   },
   {
    "duration": 21,
    "start_time": "2022-08-23T10:32:10.300Z"
   },
   {
    "duration": 9,
    "start_time": "2022-08-23T10:32:10.324Z"
   },
   {
    "duration": 25,
    "start_time": "2022-08-23T10:32:10.336Z"
   },
   {
    "duration": 24,
    "start_time": "2022-08-23T10:32:10.363Z"
   },
   {
    "duration": 7,
    "start_time": "2022-08-23T10:32:10.389Z"
   },
   {
    "duration": 21,
    "start_time": "2022-08-23T10:32:10.399Z"
   },
   {
    "duration": 11,
    "start_time": "2022-08-23T10:32:10.421Z"
   },
   {
    "duration": 113,
    "start_time": "2022-08-23T10:32:10.434Z"
   },
   {
    "duration": 3,
    "start_time": "2022-08-23T10:32:10.549Z"
   },
   {
    "duration": 10,
    "start_time": "2022-08-23T10:32:10.554Z"
   },
   {
    "duration": 32,
    "start_time": "2022-08-23T10:32:10.565Z"
   },
   {
    "duration": 5,
    "start_time": "2022-08-23T10:32:10.599Z"
   },
   {
    "duration": 25,
    "start_time": "2022-08-23T10:32:10.606Z"
   },
   {
    "duration": 5,
    "start_time": "2022-08-23T10:32:10.633Z"
   },
   {
    "duration": 6,
    "start_time": "2022-08-23T10:32:10.639Z"
   },
   {
    "duration": 10,
    "start_time": "2022-08-23T10:32:10.647Z"
   },
   {
    "duration": 44,
    "start_time": "2022-08-23T10:32:10.658Z"
   },
   {
    "duration": 13,
    "start_time": "2022-08-23T10:32:10.703Z"
   },
   {
    "duration": 5,
    "start_time": "2022-08-23T10:32:10.717Z"
   },
   {
    "duration": 10,
    "start_time": "2022-08-23T10:32:10.723Z"
   },
   {
    "duration": 9,
    "start_time": "2022-08-23T10:32:10.736Z"
   },
   {
    "duration": 9,
    "start_time": "2022-08-23T10:32:10.747Z"
   },
   {
    "duration": 7,
    "start_time": "2022-08-23T10:32:10.758Z"
   },
   {
    "duration": 18,
    "start_time": "2022-08-23T10:32:10.767Z"
   },
   {
    "duration": 16,
    "start_time": "2022-08-23T10:32:10.786Z"
   },
   {
    "duration": 6,
    "start_time": "2022-08-23T10:32:10.803Z"
   },
   {
    "duration": 25,
    "start_time": "2022-08-23T10:32:10.811Z"
   },
   {
    "duration": 17,
    "start_time": "2022-08-23T10:32:10.837Z"
   },
   {
    "duration": 32,
    "start_time": "2022-08-23T10:32:10.856Z"
   },
   {
    "duration": 11,
    "start_time": "2022-08-23T10:32:10.889Z"
   },
   {
    "duration": 8,
    "start_time": "2022-08-23T10:32:10.901Z"
   },
   {
    "duration": 16,
    "start_time": "2022-08-23T10:32:10.911Z"
   },
   {
    "duration": 5,
    "start_time": "2022-08-23T10:32:10.928Z"
   },
   {
    "duration": 13,
    "start_time": "2022-08-23T10:32:10.934Z"
   },
   {
    "duration": 4,
    "start_time": "2022-08-23T10:32:10.948Z"
   },
   {
    "duration": 1023,
    "start_time": "2022-08-23T10:32:10.953Z"
   },
   {
    "duration": 839,
    "start_time": "2022-08-23T10:32:11.977Z"
   },
   {
    "duration": 927,
    "start_time": "2022-08-23T10:32:12.817Z"
   },
   {
    "duration": 21,
    "start_time": "2022-08-23T10:32:13.746Z"
   },
   {
    "duration": 19,
    "start_time": "2022-08-23T10:32:13.768Z"
   },
   {
    "duration": 8,
    "start_time": "2022-08-23T10:32:13.788Z"
   },
   {
    "duration": 2,
    "start_time": "2022-08-23T10:32:13.798Z"
   },
   {
    "duration": 1036,
    "start_time": "2022-08-23T10:32:13.801Z"
   },
   {
    "duration": 922,
    "start_time": "2022-08-23T10:32:14.839Z"
   },
   {
    "duration": 6,
    "start_time": "2022-08-23T10:32:15.762Z"
   },
   {
    "duration": 22,
    "start_time": "2022-08-23T10:32:15.769Z"
   },
   {
    "duration": 819,
    "start_time": "2022-08-23T10:32:46.346Z"
   },
   {
    "duration": 9,
    "start_time": "2022-08-23T10:33:33.048Z"
   },
   {
    "duration": 9,
    "start_time": "2022-08-23T10:33:33.352Z"
   },
   {
    "duration": 7,
    "start_time": "2022-08-23T10:33:47.756Z"
   },
   {
    "duration": 10,
    "start_time": "2022-08-23T10:33:51.366Z"
   },
   {
    "duration": 7,
    "start_time": "2022-08-23T10:34:22.422Z"
   },
   {
    "duration": 6,
    "start_time": "2022-08-23T10:34:25.331Z"
   },
   {
    "duration": 7,
    "start_time": "2022-08-23T10:34:27.609Z"
   },
   {
    "duration": 16,
    "start_time": "2022-08-23T10:34:29.652Z"
   },
   {
    "duration": 8,
    "start_time": "2022-08-23T10:34:32.094Z"
   },
   {
    "duration": 1252,
    "start_time": "2022-08-23T10:34:59.587Z"
   },
   {
    "duration": 1148,
    "start_time": "2022-08-23T10:35:46.152Z"
   },
   {
    "duration": 7,
    "start_time": "2022-08-23T10:36:09.567Z"
   },
   {
    "duration": 9,
    "start_time": "2022-08-23T10:36:11.932Z"
   },
   {
    "duration": 10,
    "start_time": "2022-08-23T10:36:36.436Z"
   },
   {
    "duration": 6,
    "start_time": "2022-08-23T10:37:26.609Z"
   },
   {
    "duration": 1397,
    "start_time": "2022-08-23T10:38:15.262Z"
   },
   {
    "duration": 1232,
    "start_time": "2022-08-23T10:38:27.016Z"
   },
   {
    "duration": 1384,
    "start_time": "2022-08-23T10:38:37.169Z"
   },
   {
    "duration": 1119,
    "start_time": "2022-08-23T10:38:51.654Z"
   },
   {
    "duration": 1218,
    "start_time": "2022-08-23T10:38:58.311Z"
   },
   {
    "duration": 8,
    "start_time": "2022-08-23T10:40:45.774Z"
   },
   {
    "duration": 370,
    "start_time": "2022-08-23T10:40:52.114Z"
   },
   {
    "duration": 51,
    "start_time": "2022-08-23T10:40:52.486Z"
   },
   {
    "duration": 14,
    "start_time": "2022-08-23T10:40:52.539Z"
   },
   {
    "duration": 23,
    "start_time": "2022-08-23T10:40:52.555Z"
   },
   {
    "duration": 985,
    "start_time": "2022-08-23T10:40:52.580Z"
   },
   {
    "duration": 4,
    "start_time": "2022-08-23T10:40:53.566Z"
   },
   {
    "duration": 17,
    "start_time": "2022-08-23T10:40:53.571Z"
   },
   {
    "duration": 12,
    "start_time": "2022-08-23T10:40:53.589Z"
   },
   {
    "duration": 10,
    "start_time": "2022-08-23T10:40:53.602Z"
   },
   {
    "duration": 11,
    "start_time": "2022-08-23T10:40:53.614Z"
   },
   {
    "duration": 8,
    "start_time": "2022-08-23T10:40:53.626Z"
   },
   {
    "duration": 6,
    "start_time": "2022-08-23T10:40:53.635Z"
   },
   {
    "duration": 10,
    "start_time": "2022-08-23T10:40:53.642Z"
   },
   {
    "duration": 35,
    "start_time": "2022-08-23T10:40:53.653Z"
   },
   {
    "duration": 102,
    "start_time": "2022-08-23T10:40:53.690Z"
   },
   {
    "duration": 3,
    "start_time": "2022-08-23T10:40:53.793Z"
   },
   {
    "duration": 9,
    "start_time": "2022-08-23T10:40:53.798Z"
   },
   {
    "duration": 22,
    "start_time": "2022-08-23T10:40:53.808Z"
   },
   {
    "duration": 5,
    "start_time": "2022-08-23T10:40:53.831Z"
   },
   {
    "duration": 50,
    "start_time": "2022-08-23T10:40:53.837Z"
   },
   {
    "duration": 5,
    "start_time": "2022-08-23T10:40:53.889Z"
   },
   {
    "duration": 9,
    "start_time": "2022-08-23T10:40:53.895Z"
   },
   {
    "duration": 11,
    "start_time": "2022-08-23T10:40:53.905Z"
   },
   {
    "duration": 24,
    "start_time": "2022-08-23T10:40:53.917Z"
   },
   {
    "duration": 13,
    "start_time": "2022-08-23T10:40:53.942Z"
   },
   {
    "duration": 5,
    "start_time": "2022-08-23T10:40:53.985Z"
   },
   {
    "duration": 10,
    "start_time": "2022-08-23T10:40:53.992Z"
   },
   {
    "duration": 9,
    "start_time": "2022-08-23T10:40:54.007Z"
   },
   {
    "duration": 5,
    "start_time": "2022-08-23T10:40:54.017Z"
   },
   {
    "duration": 8,
    "start_time": "2022-08-23T10:40:54.023Z"
   },
   {
    "duration": 7,
    "start_time": "2022-08-23T10:40:54.032Z"
   },
   {
    "duration": 18,
    "start_time": "2022-08-23T10:40:54.040Z"
   },
   {
    "duration": 6,
    "start_time": "2022-08-23T10:40:54.060Z"
   },
   {
    "duration": 24,
    "start_time": "2022-08-23T10:40:54.086Z"
   },
   {
    "duration": 22,
    "start_time": "2022-08-23T10:40:54.111Z"
   },
   {
    "duration": 15,
    "start_time": "2022-08-23T10:40:54.134Z"
   },
   {
    "duration": 35,
    "start_time": "2022-08-23T10:40:54.151Z"
   },
   {
    "duration": 6,
    "start_time": "2022-08-23T10:40:54.187Z"
   },
   {
    "duration": 12,
    "start_time": "2022-08-23T10:40:54.194Z"
   },
   {
    "duration": 4,
    "start_time": "2022-08-23T10:40:54.208Z"
   },
   {
    "duration": 12,
    "start_time": "2022-08-23T10:40:54.214Z"
   },
   {
    "duration": 5,
    "start_time": "2022-08-23T10:40:54.227Z"
   },
   {
    "duration": 1105,
    "start_time": "2022-08-23T10:40:54.234Z"
   },
   {
    "duration": 1026,
    "start_time": "2022-08-23T10:40:55.341Z"
   },
   {
    "duration": 7,
    "start_time": "2022-08-23T10:40:56.368Z"
   },
   {
    "duration": 16,
    "start_time": "2022-08-23T10:40:56.377Z"
   },
   {
    "duration": 5,
    "start_time": "2022-08-23T10:40:56.395Z"
   },
   {
    "duration": 1136,
    "start_time": "2022-08-23T10:40:56.402Z"
   },
   {
    "duration": 812,
    "start_time": "2022-08-23T10:40:57.540Z"
   },
   {
    "duration": 18,
    "start_time": "2022-08-23T10:40:58.354Z"
   },
   {
    "duration": 7,
    "start_time": "2022-08-23T10:40:58.385Z"
   },
   {
    "duration": 12,
    "start_time": "2022-08-23T10:40:58.393Z"
   },
   {
    "duration": 3,
    "start_time": "2022-08-23T10:40:58.407Z"
   },
   {
    "duration": 1134,
    "start_time": "2022-08-23T10:40:58.411Z"
   },
   {
    "duration": 834,
    "start_time": "2022-08-23T10:40:59.547Z"
   },
   {
    "duration": 6,
    "start_time": "2022-08-23T10:41:00.384Z"
   },
   {
    "duration": 69,
    "start_time": "2022-08-23T10:41:00.391Z"
   },
   {
    "duration": 415,
    "start_time": "2022-08-23T10:41:27.474Z"
   },
   {
    "duration": 53,
    "start_time": "2022-08-23T10:41:27.891Z"
   },
   {
    "duration": 15,
    "start_time": "2022-08-23T10:41:27.946Z"
   },
   {
    "duration": 26,
    "start_time": "2022-08-23T10:41:27.963Z"
   },
   {
    "duration": 951,
    "start_time": "2022-08-23T10:41:27.990Z"
   },
   {
    "duration": 3,
    "start_time": "2022-08-23T10:41:28.943Z"
   },
   {
    "duration": 15,
    "start_time": "2022-08-23T10:41:28.948Z"
   },
   {
    "duration": 21,
    "start_time": "2022-08-23T10:41:28.965Z"
   },
   {
    "duration": 6,
    "start_time": "2022-08-23T10:41:28.988Z"
   },
   {
    "duration": 11,
    "start_time": "2022-08-23T10:41:28.997Z"
   },
   {
    "duration": 10,
    "start_time": "2022-08-23T10:41:29.009Z"
   },
   {
    "duration": 6,
    "start_time": "2022-08-23T10:41:29.020Z"
   },
   {
    "duration": 8,
    "start_time": "2022-08-23T10:41:29.028Z"
   },
   {
    "duration": 11,
    "start_time": "2022-08-23T10:41:29.037Z"
   },
   {
    "duration": 134,
    "start_time": "2022-08-23T10:41:29.049Z"
   },
   {
    "duration": 3,
    "start_time": "2022-08-23T10:41:29.185Z"
   },
   {
    "duration": 8,
    "start_time": "2022-08-23T10:41:29.189Z"
   },
   {
    "duration": 22,
    "start_time": "2022-08-23T10:41:29.199Z"
   },
   {
    "duration": 5,
    "start_time": "2022-08-23T10:41:29.223Z"
   },
   {
    "duration": 22,
    "start_time": "2022-08-23T10:41:29.229Z"
   },
   {
    "duration": 33,
    "start_time": "2022-08-23T10:41:29.252Z"
   },
   {
    "duration": 6,
    "start_time": "2022-08-23T10:41:29.286Z"
   },
   {
    "duration": 8,
    "start_time": "2022-08-23T10:41:29.293Z"
   },
   {
    "duration": 22,
    "start_time": "2022-08-23T10:41:29.302Z"
   },
   {
    "duration": 13,
    "start_time": "2022-08-23T10:41:29.325Z"
   },
   {
    "duration": 7,
    "start_time": "2022-08-23T10:41:29.339Z"
   },
   {
    "duration": 7,
    "start_time": "2022-08-23T10:41:29.347Z"
   },
   {
    "duration": 30,
    "start_time": "2022-08-23T10:41:29.358Z"
   },
   {
    "duration": 6,
    "start_time": "2022-08-23T10:41:29.390Z"
   },
   {
    "duration": 5,
    "start_time": "2022-08-23T10:41:29.398Z"
   },
   {
    "duration": 5,
    "start_time": "2022-08-23T10:41:29.405Z"
   },
   {
    "duration": 17,
    "start_time": "2022-08-23T10:41:29.412Z"
   },
   {
    "duration": 6,
    "start_time": "2022-08-23T10:41:29.430Z"
   },
   {
    "duration": 21,
    "start_time": "2022-08-23T10:41:29.438Z"
   },
   {
    "duration": 17,
    "start_time": "2022-08-23T10:41:29.485Z"
   },
   {
    "duration": 10,
    "start_time": "2022-08-23T10:41:29.503Z"
   },
   {
    "duration": 12,
    "start_time": "2022-08-23T10:41:29.515Z"
   },
   {
    "duration": 4,
    "start_time": "2022-08-23T10:41:29.529Z"
   },
   {
    "duration": 16,
    "start_time": "2022-08-23T10:41:29.534Z"
   },
   {
    "duration": 8,
    "start_time": "2022-08-23T10:41:29.552Z"
   },
   {
    "duration": 27,
    "start_time": "2022-08-23T10:41:29.561Z"
   },
   {
    "duration": 11,
    "start_time": "2022-08-23T10:41:29.589Z"
   },
   {
    "duration": 983,
    "start_time": "2022-08-23T10:41:29.602Z"
   },
   {
    "duration": 1120,
    "start_time": "2022-08-23T10:41:30.587Z"
   },
   {
    "duration": 8,
    "start_time": "2022-08-23T10:41:31.709Z"
   },
   {
    "duration": 19,
    "start_time": "2022-08-23T10:41:31.719Z"
   },
   {
    "duration": 26,
    "start_time": "2022-08-23T10:41:31.740Z"
   },
   {
    "duration": 1255,
    "start_time": "2022-08-23T10:41:31.768Z"
   },
   {
    "duration": 851,
    "start_time": "2022-08-23T10:41:33.025Z"
   },
   {
    "duration": 22,
    "start_time": "2022-08-23T10:41:33.878Z"
   },
   {
    "duration": 7,
    "start_time": "2022-08-23T10:41:33.903Z"
   },
   {
    "duration": 20,
    "start_time": "2022-08-23T10:41:33.912Z"
   },
   {
    "duration": 4,
    "start_time": "2022-08-23T10:41:33.934Z"
   },
   {
    "duration": 1262,
    "start_time": "2022-08-23T10:41:33.940Z"
   },
   {
    "duration": 849,
    "start_time": "2022-08-23T10:41:35.204Z"
   },
   {
    "duration": 8,
    "start_time": "2022-08-23T10:41:36.055Z"
   },
   {
    "duration": 21,
    "start_time": "2022-08-23T10:41:36.065Z"
   },
   {
    "duration": 9,
    "start_time": "2022-08-23T10:42:45.637Z"
   },
   {
    "duration": 6,
    "start_time": "2022-08-23T10:42:48.093Z"
   },
   {
    "duration": 7,
    "start_time": "2022-08-23T10:43:40.366Z"
   },
   {
    "duration": 1155,
    "start_time": "2022-08-23T10:45:44.199Z"
   },
   {
    "duration": 9,
    "start_time": "2022-08-23T10:45:58.325Z"
   },
   {
    "duration": 9,
    "start_time": "2022-08-23T10:45:58.865Z"
   },
   {
    "duration": 7,
    "start_time": "2022-08-23T10:47:09.598Z"
   },
   {
    "duration": 10,
    "start_time": "2022-08-23T10:47:13.164Z"
   },
   {
    "duration": 6,
    "start_time": "2022-08-23T10:47:19.664Z"
   },
   {
    "duration": 10,
    "start_time": "2022-08-23T10:47:31.019Z"
   },
   {
    "duration": 8,
    "start_time": "2022-08-23T10:47:34.427Z"
   },
   {
    "duration": 8,
    "start_time": "2022-08-23T10:47:42.541Z"
   },
   {
    "duration": 6,
    "start_time": "2022-08-23T10:48:36.977Z"
   },
   {
    "duration": 6,
    "start_time": "2022-08-23T10:48:43.117Z"
   },
   {
    "duration": 9,
    "start_time": "2022-08-23T10:48:45.474Z"
   },
   {
    "duration": 6,
    "start_time": "2022-08-23T10:48:48.086Z"
   },
   {
    "duration": 8,
    "start_time": "2022-08-23T10:48:48.667Z"
   },
   {
    "duration": 6,
    "start_time": "2022-08-23T10:49:22.773Z"
   },
   {
    "duration": 1043,
    "start_time": "2022-08-23T10:50:05.415Z"
   },
   {
    "duration": 1206,
    "start_time": "2022-08-23T10:50:18.371Z"
   },
   {
    "duration": 6,
    "start_time": "2022-08-23T10:51:31.166Z"
   },
   {
    "duration": 8,
    "start_time": "2022-08-23T10:51:33.570Z"
   },
   {
    "duration": 12,
    "start_time": "2022-08-23T10:51:51.181Z"
   },
   {
    "duration": 9,
    "start_time": "2022-08-23T10:51:54.187Z"
   },
   {
    "duration": 9,
    "start_time": "2022-08-23T10:51:58.467Z"
   },
   {
    "duration": 6,
    "start_time": "2022-08-23T10:52:03.110Z"
   },
   {
    "duration": 5,
    "start_time": "2022-08-23T10:52:29.218Z"
   },
   {
    "duration": 919,
    "start_time": "2022-08-23T10:52:32.170Z"
   },
   {
    "duration": 1158,
    "start_time": "2022-08-23T10:53:00.382Z"
   },
   {
    "duration": 6,
    "start_time": "2022-08-23T11:50:09.831Z"
   },
   {
    "duration": 265,
    "start_time": "2022-08-23T11:50:33.751Z"
   },
   {
    "duration": 204,
    "start_time": "2022-08-23T11:50:46.665Z"
   },
   {
    "duration": 146,
    "start_time": "2022-08-23T11:50:50.317Z"
   },
   {
    "duration": 248,
    "start_time": "2022-08-23T11:51:04.296Z"
   },
   {
    "duration": 355,
    "start_time": "2022-08-23T11:51:07.215Z"
   },
   {
    "duration": 134,
    "start_time": "2022-08-23T11:51:08.992Z"
   },
   {
    "duration": 56,
    "start_time": "2022-08-23T11:51:36.348Z"
   },
   {
    "duration": 55,
    "start_time": "2022-08-23T11:51:38.621Z"
   },
   {
    "duration": 62,
    "start_time": "2022-08-23T11:51:45.829Z"
   },
   {
    "duration": 502,
    "start_time": "2022-08-23T11:51:56.452Z"
   },
   {
    "duration": 436,
    "start_time": "2022-08-23T11:52:02.930Z"
   },
   {
    "duration": 538,
    "start_time": "2022-08-23T11:52:24.197Z"
   },
   {
    "duration": 4,
    "start_time": "2022-08-23T11:53:35.405Z"
   },
   {
    "duration": 5,
    "start_time": "2022-08-23T11:54:15.202Z"
   },
   {
    "duration": 6,
    "start_time": "2022-08-23T11:59:40.142Z"
   },
   {
    "duration": 4,
    "start_time": "2022-08-23T11:59:40.441Z"
   },
   {
    "duration": 590,
    "start_time": "2022-08-23T12:17:52.470Z"
   },
   {
    "duration": 8,
    "start_time": "2022-08-23T12:19:15.586Z"
   },
   {
    "duration": 7,
    "start_time": "2022-08-23T12:20:43.518Z"
   },
   {
    "duration": 10,
    "start_time": "2022-08-23T12:20:59.360Z"
   },
   {
    "duration": 435,
    "start_time": "2022-08-23T12:28:35.409Z"
   },
   {
    "duration": 4,
    "start_time": "2022-08-23T12:31:27.931Z"
   },
   {
    "duration": 33766,
    "start_time": "2022-08-23T12:31:49.323Z"
   },
   {
    "duration": 91,
    "start_time": "2022-08-23T13:34:00.352Z"
   },
   {
    "duration": 9,
    "start_time": "2022-08-23T13:34:08.865Z"
   },
   {
    "duration": 402,
    "start_time": "2022-08-23T13:35:04.883Z"
   },
   {
    "duration": 65,
    "start_time": "2022-08-23T13:35:05.287Z"
   },
   {
    "duration": 13,
    "start_time": "2022-08-23T13:35:05.354Z"
   },
   {
    "duration": 35,
    "start_time": "2022-08-23T13:35:05.369Z"
   },
   {
    "duration": 1176,
    "start_time": "2022-08-23T13:35:05.406Z"
   },
   {
    "duration": 12,
    "start_time": "2022-08-23T13:35:06.584Z"
   },
   {
    "duration": 46,
    "start_time": "2022-08-23T13:35:06.599Z"
   },
   {
    "duration": 17,
    "start_time": "2022-08-23T13:35:06.647Z"
   },
   {
    "duration": 9,
    "start_time": "2022-08-23T13:35:06.666Z"
   },
   {
    "duration": 18,
    "start_time": "2022-08-23T13:35:06.677Z"
   },
   {
    "duration": 48,
    "start_time": "2022-08-23T13:35:06.697Z"
   },
   {
    "duration": 28,
    "start_time": "2022-08-23T13:35:06.747Z"
   },
   {
    "duration": 48,
    "start_time": "2022-08-23T13:35:06.777Z"
   },
   {
    "duration": 15,
    "start_time": "2022-08-23T13:35:06.827Z"
   },
   {
    "duration": 27,
    "start_time": "2022-08-23T13:35:06.844Z"
   },
   {
    "duration": 120,
    "start_time": "2022-08-23T13:35:06.872Z"
   },
   {
    "duration": 3,
    "start_time": "2022-08-23T13:35:06.993Z"
   },
   {
    "duration": 42,
    "start_time": "2022-08-23T13:35:07.001Z"
   },
   {
    "duration": 25,
    "start_time": "2022-08-23T13:35:07.045Z"
   },
   {
    "duration": 4,
    "start_time": "2022-08-23T13:35:07.072Z"
   },
   {
    "duration": 59,
    "start_time": "2022-08-23T13:35:07.078Z"
   },
   {
    "duration": 5,
    "start_time": "2022-08-23T13:35:07.138Z"
   },
   {
    "duration": 7,
    "start_time": "2022-08-23T13:35:07.145Z"
   },
   {
    "duration": 11,
    "start_time": "2022-08-23T13:35:07.155Z"
   },
   {
    "duration": 39,
    "start_time": "2022-08-23T13:35:07.167Z"
   },
   {
    "duration": 19,
    "start_time": "2022-08-23T13:35:07.208Z"
   },
   {
    "duration": 5,
    "start_time": "2022-08-23T13:35:07.228Z"
   },
   {
    "duration": 11,
    "start_time": "2022-08-23T13:35:07.237Z"
   },
   {
    "duration": 19,
    "start_time": "2022-08-23T13:35:07.249Z"
   },
   {
    "duration": 64,
    "start_time": "2022-08-23T13:35:07.269Z"
   },
   {
    "duration": 17,
    "start_time": "2022-08-23T13:35:07.335Z"
   },
   {
    "duration": 14,
    "start_time": "2022-08-23T13:35:07.354Z"
   },
   {
    "duration": 35,
    "start_time": "2022-08-23T13:35:07.369Z"
   },
   {
    "duration": 23,
    "start_time": "2022-08-23T13:35:07.408Z"
   },
   {
    "duration": 26,
    "start_time": "2022-08-23T13:35:07.433Z"
   },
   {
    "duration": 16,
    "start_time": "2022-08-23T13:35:07.461Z"
   },
   {
    "duration": 44,
    "start_time": "2022-08-23T13:35:07.479Z"
   },
   {
    "duration": 24,
    "start_time": "2022-08-23T13:35:07.526Z"
   },
   {
    "duration": 12,
    "start_time": "2022-08-23T13:35:07.552Z"
   },
   {
    "duration": 18,
    "start_time": "2022-08-23T13:35:07.566Z"
   },
   {
    "duration": 46,
    "start_time": "2022-08-23T13:35:07.589Z"
   },
   {
    "duration": 23,
    "start_time": "2022-08-23T13:35:07.637Z"
   },
   {
    "duration": 7,
    "start_time": "2022-08-23T13:35:07.661Z"
   },
   {
    "duration": 1158,
    "start_time": "2022-08-23T13:35:07.670Z"
   },
   {
    "duration": 1227,
    "start_time": "2022-08-23T13:35:08.831Z"
   },
   {
    "duration": 9,
    "start_time": "2022-08-23T13:35:10.060Z"
   },
   {
    "duration": 33,
    "start_time": "2022-08-23T13:35:10.086Z"
   },
   {
    "duration": 14,
    "start_time": "2022-08-23T13:35:10.121Z"
   },
   {
    "duration": 1408,
    "start_time": "2022-08-23T13:35:10.137Z"
   },
   {
    "duration": 9,
    "start_time": "2022-08-23T13:35:11.548Z"
   },
   {
    "duration": 15,
    "start_time": "2022-08-23T13:35:11.560Z"
   },
   {
    "duration": 42,
    "start_time": "2022-08-23T13:35:11.585Z"
   },
   {
    "duration": 1188,
    "start_time": "2022-08-23T13:35:11.629Z"
   },
   {
    "duration": 7,
    "start_time": "2022-08-23T13:35:12.821Z"
   },
   {
    "duration": 16,
    "start_time": "2022-08-23T13:35:12.830Z"
   },
   {
    "duration": 7,
    "start_time": "2022-08-23T13:35:12.848Z"
   },
   {
    "duration": 1325,
    "start_time": "2022-08-23T13:35:12.857Z"
   },
   {
    "duration": 21,
    "start_time": "2022-08-23T13:35:14.183Z"
   },
   {
    "duration": 23,
    "start_time": "2022-08-23T13:35:14.206Z"
   },
   {
    "duration": 12,
    "start_time": "2022-08-23T13:35:14.230Z"
   },
   {
    "duration": 1370,
    "start_time": "2022-08-23T13:35:14.244Z"
   },
   {
    "duration": 6,
    "start_time": "2022-08-23T13:35:15.616Z"
   },
   {
    "duration": 13,
    "start_time": "2022-08-23T13:35:15.624Z"
   },
   {
    "duration": 8,
    "start_time": "2022-08-23T13:35:15.639Z"
   },
   {
    "duration": 5,
    "start_time": "2022-08-23T13:35:15.649Z"
   },
   {
    "duration": 487,
    "start_time": "2022-08-23T13:35:15.655Z"
   },
   {
    "duration": 15,
    "start_time": "2022-08-23T13:35:16.144Z"
   },
   {
    "duration": 38194,
    "start_time": "2022-08-23T13:35:16.161Z"
   },
   {
    "duration": 76,
    "start_time": "2022-08-23T13:35:54.357Z"
   },
   {
    "duration": 0,
    "start_time": "2022-08-23T13:35:54.435Z"
   },
   {
    "duration": 72,
    "start_time": "2022-08-23T13:36:11.411Z"
   },
   {
    "duration": 15,
    "start_time": "2022-08-23T13:36:29.611Z"
   },
   {
    "duration": 1003,
    "start_time": "2022-08-23T13:36:35.367Z"
   },
   {
    "duration": 40,
    "start_time": "2022-08-23T13:36:59.204Z"
   },
   {
    "duration": 140,
    "start_time": "2022-08-23T13:37:25.863Z"
   },
   {
    "duration": 45,
    "start_time": "2022-08-23T13:37:28.531Z"
   },
   {
    "duration": 17,
    "start_time": "2022-08-23T13:37:32.037Z"
   },
   {
    "duration": 446,
    "start_time": "2022-08-23T13:39:11.568Z"
   },
   {
    "duration": 50,
    "start_time": "2022-08-23T13:39:12.015Z"
   },
   {
    "duration": 14,
    "start_time": "2022-08-23T13:39:12.066Z"
   },
   {
    "duration": 40,
    "start_time": "2022-08-23T13:39:12.082Z"
   },
   {
    "duration": 1103,
    "start_time": "2022-08-23T13:39:12.124Z"
   },
   {
    "duration": 3,
    "start_time": "2022-08-23T13:39:13.229Z"
   },
   {
    "duration": 25,
    "start_time": "2022-08-23T13:39:13.233Z"
   },
   {
    "duration": 13,
    "start_time": "2022-08-23T13:39:13.260Z"
   },
   {
    "duration": 18,
    "start_time": "2022-08-23T13:39:13.274Z"
   },
   {
    "duration": 23,
    "start_time": "2022-08-23T13:39:13.301Z"
   },
   {
    "duration": 7,
    "start_time": "2022-08-23T13:39:13.326Z"
   },
   {
    "duration": 7,
    "start_time": "2022-08-23T13:39:13.334Z"
   },
   {
    "duration": 9,
    "start_time": "2022-08-23T13:39:13.343Z"
   },
   {
    "duration": 13,
    "start_time": "2022-08-23T13:39:13.354Z"
   },
   {
    "duration": 106,
    "start_time": "2022-08-23T13:39:13.369Z"
   },
   {
    "duration": 2,
    "start_time": "2022-08-23T13:39:13.477Z"
   },
   {
    "duration": 34,
    "start_time": "2022-08-23T13:39:13.484Z"
   },
   {
    "duration": 30,
    "start_time": "2022-08-23T13:39:13.520Z"
   },
   {
    "duration": 5,
    "start_time": "2022-08-23T13:39:13.552Z"
   },
   {
    "duration": 48,
    "start_time": "2022-08-23T13:39:13.558Z"
   },
   {
    "duration": 7,
    "start_time": "2022-08-23T13:39:13.611Z"
   },
   {
    "duration": 6,
    "start_time": "2022-08-23T13:39:13.622Z"
   },
   {
    "duration": 11,
    "start_time": "2022-08-23T13:39:13.630Z"
   },
   {
    "duration": 26,
    "start_time": "2022-08-23T13:39:13.642Z"
   },
   {
    "duration": 21,
    "start_time": "2022-08-23T13:39:13.670Z"
   },
   {
    "duration": 32,
    "start_time": "2022-08-23T13:39:13.693Z"
   },
   {
    "duration": 9,
    "start_time": "2022-08-23T13:39:13.727Z"
   },
   {
    "duration": 5,
    "start_time": "2022-08-23T13:39:13.741Z"
   },
   {
    "duration": 7,
    "start_time": "2022-08-23T13:39:13.748Z"
   },
   {
    "duration": 8,
    "start_time": "2022-08-23T13:39:13.756Z"
   },
   {
    "duration": 7,
    "start_time": "2022-08-23T13:39:13.766Z"
   },
   {
    "duration": 32,
    "start_time": "2022-08-23T13:39:13.775Z"
   },
   {
    "duration": 19,
    "start_time": "2022-08-23T13:39:13.808Z"
   },
   {
    "duration": 32,
    "start_time": "2022-08-23T13:39:13.828Z"
   },
   {
    "duration": 17,
    "start_time": "2022-08-23T13:39:13.862Z"
   },
   {
    "duration": 51,
    "start_time": "2022-08-23T13:39:13.881Z"
   },
   {
    "duration": 27,
    "start_time": "2022-08-23T13:39:13.933Z"
   },
   {
    "duration": 22,
    "start_time": "2022-08-23T13:39:13.962Z"
   },
   {
    "duration": 38,
    "start_time": "2022-08-23T13:39:14.004Z"
   },
   {
    "duration": 33,
    "start_time": "2022-08-23T13:39:14.044Z"
   },
   {
    "duration": 58,
    "start_time": "2022-08-23T13:39:14.079Z"
   },
   {
    "duration": 23,
    "start_time": "2022-08-23T13:39:14.139Z"
   },
   {
    "duration": 1243,
    "start_time": "2022-08-23T13:39:14.164Z"
   },
   {
    "duration": 1159,
    "start_time": "2022-08-23T13:39:15.408Z"
   },
   {
    "duration": 7,
    "start_time": "2022-08-23T13:39:16.569Z"
   },
   {
    "duration": 15,
    "start_time": "2022-08-23T13:39:16.577Z"
   },
   {
    "duration": 40,
    "start_time": "2022-08-23T13:39:16.597Z"
   },
   {
    "duration": 1309,
    "start_time": "2022-08-23T13:39:16.639Z"
   },
   {
    "duration": 7,
    "start_time": "2022-08-23T13:39:17.950Z"
   },
   {
    "duration": 14,
    "start_time": "2022-08-23T13:39:17.959Z"
   },
   {
    "duration": 18,
    "start_time": "2022-08-23T13:39:17.974Z"
   },
   {
    "duration": 1222,
    "start_time": "2022-08-23T13:39:17.994Z"
   },
   {
    "duration": 8,
    "start_time": "2022-08-23T13:39:19.217Z"
   },
   {
    "duration": 9,
    "start_time": "2022-08-23T13:39:19.226Z"
   },
   {
    "duration": 4,
    "start_time": "2022-08-23T13:39:19.237Z"
   },
   {
    "duration": 1365,
    "start_time": "2022-08-23T13:39:19.243Z"
   },
   {
    "duration": 7,
    "start_time": "2022-08-23T13:39:20.616Z"
   },
   {
    "duration": 13,
    "start_time": "2022-08-23T13:39:20.624Z"
   },
   {
    "duration": 8,
    "start_time": "2022-08-23T13:39:20.638Z"
   },
   {
    "duration": 1418,
    "start_time": "2022-08-23T13:39:20.648Z"
   },
   {
    "duration": 5,
    "start_time": "2022-08-23T13:39:22.068Z"
   },
   {
    "duration": 13,
    "start_time": "2022-08-23T13:39:22.084Z"
   },
   {
    "duration": 22,
    "start_time": "2022-08-23T13:39:22.102Z"
   },
   {
    "duration": 5,
    "start_time": "2022-08-23T13:39:22.126Z"
   },
   {
    "duration": 496,
    "start_time": "2022-08-23T13:39:22.133Z"
   },
   {
    "duration": 13,
    "start_time": "2022-08-23T13:39:22.631Z"
   },
   {
    "duration": 9,
    "start_time": "2022-08-23T13:39:22.646Z"
   },
   {
    "duration": 74,
    "start_time": "2022-08-23T13:39:22.656Z"
   },
   {
    "duration": 1504,
    "start_time": "2022-08-23T13:39:32.623Z"
   },
   {
    "duration": 10,
    "start_time": "2022-08-23T13:40:46.373Z"
   },
   {
    "duration": 8,
    "start_time": "2022-08-23T13:42:16.025Z"
   },
   {
    "duration": 11,
    "start_time": "2022-08-23T13:42:23.408Z"
   },
   {
    "duration": 12,
    "start_time": "2022-08-23T13:42:38.777Z"
   },
   {
    "duration": 5,
    "start_time": "2022-08-23T13:44:35.035Z"
   },
   {
    "duration": 7,
    "start_time": "2022-08-23T13:46:40.508Z"
   },
   {
    "duration": 5,
    "start_time": "2022-08-23T13:47:03.823Z"
   },
   {
    "duration": 5,
    "start_time": "2022-08-23T13:47:58.041Z"
   },
   {
    "duration": 5,
    "start_time": "2022-08-23T13:48:02.565Z"
   },
   {
    "duration": 6,
    "start_time": "2022-08-23T13:48:37.334Z"
   },
   {
    "duration": 546,
    "start_time": "2022-08-23T13:50:37.659Z"
   },
   {
    "duration": 11,
    "start_time": "2022-08-23T13:53:02.863Z"
   },
   {
    "duration": 9,
    "start_time": "2022-08-23T13:53:41.809Z"
   },
   {
    "duration": 6,
    "start_time": "2022-08-23T13:54:48.933Z"
   },
   {
    "duration": 8,
    "start_time": "2022-08-23T13:54:49.508Z"
   },
   {
    "duration": 9,
    "start_time": "2022-08-23T13:54:50.007Z"
   },
   {
    "duration": 10,
    "start_time": "2022-08-23T13:59:16.891Z"
   },
   {
    "duration": 65,
    "start_time": "2022-08-23T22:18:13.068Z"
   },
   {
    "duration": 454,
    "start_time": "2022-08-23T22:18:18.690Z"
   },
   {
    "duration": 202,
    "start_time": "2022-08-23T22:18:19.146Z"
   },
   {
    "duration": 17,
    "start_time": "2022-08-23T22:18:19.350Z"
   },
   {
    "duration": 31,
    "start_time": "2022-08-23T22:18:19.370Z"
   },
   {
    "duration": 1280,
    "start_time": "2022-08-23T22:18:19.403Z"
   },
   {
    "duration": 7,
    "start_time": "2022-08-23T22:18:20.685Z"
   },
   {
    "duration": 19,
    "start_time": "2022-08-23T22:18:20.695Z"
   },
   {
    "duration": 15,
    "start_time": "2022-08-23T22:18:20.716Z"
   },
   {
    "duration": 8,
    "start_time": "2022-08-23T22:18:20.734Z"
   },
   {
    "duration": 16,
    "start_time": "2022-08-23T22:18:20.745Z"
   },
   {
    "duration": 92,
    "start_time": "2022-08-23T22:18:20.763Z"
   },
   {
    "duration": 7,
    "start_time": "2022-08-23T22:18:20.856Z"
   },
   {
    "duration": 13,
    "start_time": "2022-08-23T22:18:20.865Z"
   },
   {
    "duration": 8,
    "start_time": "2022-08-23T22:18:20.891Z"
   },
   {
    "duration": 132,
    "start_time": "2022-08-23T22:18:20.901Z"
   },
   {
    "duration": 4,
    "start_time": "2022-08-23T22:18:21.035Z"
   },
   {
    "duration": 13,
    "start_time": "2022-08-23T22:18:21.040Z"
   },
   {
    "duration": 26,
    "start_time": "2022-08-23T22:18:21.055Z"
   },
   {
    "duration": 6,
    "start_time": "2022-08-23T22:18:21.091Z"
   },
   {
    "duration": 38,
    "start_time": "2022-08-23T22:18:21.099Z"
   },
   {
    "duration": 7,
    "start_time": "2022-08-23T22:18:21.140Z"
   },
   {
    "duration": 7,
    "start_time": "2022-08-23T22:18:21.149Z"
   },
   {
    "duration": 33,
    "start_time": "2022-08-23T22:18:21.159Z"
   },
   {
    "duration": 34,
    "start_time": "2022-08-23T22:18:21.194Z"
   },
   {
    "duration": 15,
    "start_time": "2022-08-23T22:18:21.230Z"
   },
   {
    "duration": 6,
    "start_time": "2022-08-23T22:18:21.246Z"
   },
   {
    "duration": 7,
    "start_time": "2022-08-23T22:18:21.254Z"
   },
   {
    "duration": 32,
    "start_time": "2022-08-23T22:18:21.265Z"
   },
   {
    "duration": 4,
    "start_time": "2022-08-23T22:18:21.299Z"
   },
   {
    "duration": 6,
    "start_time": "2022-08-23T22:18:21.304Z"
   },
   {
    "duration": 7,
    "start_time": "2022-08-23T22:18:21.311Z"
   },
   {
    "duration": 21,
    "start_time": "2022-08-23T22:18:21.320Z"
   },
   {
    "duration": 7,
    "start_time": "2022-08-23T22:18:21.342Z"
   },
   {
    "duration": 48,
    "start_time": "2022-08-23T22:18:21.350Z"
   },
   {
    "duration": 19,
    "start_time": "2022-08-23T22:18:21.400Z"
   },
   {
    "duration": 10,
    "start_time": "2022-08-23T22:18:21.421Z"
   },
   {
    "duration": 14,
    "start_time": "2022-08-23T22:18:21.433Z"
   },
   {
    "duration": 7,
    "start_time": "2022-08-23T22:18:21.449Z"
   },
   {
    "duration": 41,
    "start_time": "2022-08-23T22:18:21.457Z"
   },
   {
    "duration": 5,
    "start_time": "2022-08-23T22:18:21.500Z"
   },
   {
    "duration": 18,
    "start_time": "2022-08-23T22:18:21.507Z"
   },
   {
    "duration": 13,
    "start_time": "2022-08-23T22:18:21.527Z"
   },
   {
    "duration": 1172,
    "start_time": "2022-08-23T22:18:21.542Z"
   },
   {
    "duration": 1170,
    "start_time": "2022-08-23T22:18:22.716Z"
   },
   {
    "duration": 8,
    "start_time": "2022-08-23T22:18:23.888Z"
   },
   {
    "duration": 10,
    "start_time": "2022-08-23T22:18:23.898Z"
   },
   {
    "duration": 5,
    "start_time": "2022-08-23T22:18:23.910Z"
   },
   {
    "duration": 1301,
    "start_time": "2022-08-23T22:18:23.917Z"
   },
   {
    "duration": 7,
    "start_time": "2022-08-23T22:18:25.220Z"
   },
   {
    "duration": 13,
    "start_time": "2022-08-23T22:18:25.229Z"
   },
   {
    "duration": 9,
    "start_time": "2022-08-23T22:18:25.244Z"
   },
   {
    "duration": 1320,
    "start_time": "2022-08-23T22:18:25.255Z"
   },
   {
    "duration": 7,
    "start_time": "2022-08-23T22:18:26.577Z"
   },
   {
    "duration": 9,
    "start_time": "2022-08-23T22:18:26.592Z"
   },
   {
    "duration": 6,
    "start_time": "2022-08-23T22:18:26.602Z"
   },
   {
    "duration": 1293,
    "start_time": "2022-08-23T22:18:26.610Z"
   },
   {
    "duration": 7,
    "start_time": "2022-08-23T22:18:27.906Z"
   },
   {
    "duration": 12,
    "start_time": "2022-08-23T22:18:27.915Z"
   },
   {
    "duration": 5,
    "start_time": "2022-08-23T22:18:27.929Z"
   },
   {
    "duration": 1493,
    "start_time": "2022-08-23T22:18:27.936Z"
   },
   {
    "duration": 9,
    "start_time": "2022-08-23T22:18:29.432Z"
   },
   {
    "duration": 12,
    "start_time": "2022-08-23T22:18:29.443Z"
   },
   {
    "duration": 11,
    "start_time": "2022-08-23T22:18:29.458Z"
   },
   {
    "duration": 22,
    "start_time": "2022-08-23T22:18:29.471Z"
   },
   {
    "duration": 12,
    "start_time": "2022-08-23T22:18:29.495Z"
   },
   {
    "duration": 30,
    "start_time": "2022-08-23T22:18:29.509Z"
   },
   {
    "duration": 11,
    "start_time": "2022-08-23T22:18:29.541Z"
   },
   {
    "duration": 8,
    "start_time": "2022-08-23T22:18:29.554Z"
   },
   {
    "duration": 14,
    "start_time": "2022-08-23T22:18:29.564Z"
   },
   {
    "duration": 25,
    "start_time": "2022-08-23T22:18:29.580Z"
   },
   {
    "duration": 10,
    "start_time": "2022-08-23T22:18:29.607Z"
   },
   {
    "duration": 10,
    "start_time": "2022-08-23T22:18:29.621Z"
   },
   {
    "duration": 543,
    "start_time": "2022-08-23T22:18:29.634Z"
   },
   {
    "duration": 14,
    "start_time": "2022-08-23T22:18:30.179Z"
   },
   {
    "duration": 27,
    "start_time": "2022-08-23T22:18:30.195Z"
   },
   {
    "duration": 80,
    "start_time": "2022-08-23T22:18:30.224Z"
   },
   {
    "duration": 8,
    "start_time": "2022-08-23T22:19:56.494Z"
   },
   {
    "duration": 9,
    "start_time": "2022-08-23T22:20:05.088Z"
   },
   {
    "duration": 8,
    "start_time": "2022-08-23T22:20:43.389Z"
   },
   {
    "duration": 9,
    "start_time": "2022-08-23T22:20:48.748Z"
   },
   {
    "duration": 8,
    "start_time": "2022-08-23T22:22:56.228Z"
   },
   {
    "duration": 8,
    "start_time": "2022-08-23T22:23:06.296Z"
   },
   {
    "duration": 7,
    "start_time": "2022-08-23T22:24:18.253Z"
   },
   {
    "duration": 10,
    "start_time": "2022-08-23T22:25:50.366Z"
   },
   {
    "duration": 8,
    "start_time": "2022-08-23T22:27:20.757Z"
   },
   {
    "duration": 62,
    "start_time": "2022-08-23T22:27:52.527Z"
   },
   {
    "duration": 6,
    "start_time": "2022-08-23T22:27:54.504Z"
   },
   {
    "duration": 11,
    "start_time": "2022-08-23T22:28:55.303Z"
   },
   {
    "duration": 6,
    "start_time": "2022-08-23T22:32:42.660Z"
   },
   {
    "duration": 58,
    "start_time": "2022-08-23T22:32:43.021Z"
   },
   {
    "duration": 6,
    "start_time": "2022-08-23T22:32:47.063Z"
   },
   {
    "duration": 11,
    "start_time": "2022-08-23T22:35:06.185Z"
   },
   {
    "duration": 107,
    "start_time": "2022-08-23T22:35:17.226Z"
   },
   {
    "duration": 14,
    "start_time": "2022-08-23T22:35:21.985Z"
   },
   {
    "duration": 11,
    "start_time": "2022-08-23T22:36:20.151Z"
   },
   {
    "duration": 6,
    "start_time": "2022-08-23T22:36:33.445Z"
   },
   {
    "duration": 8,
    "start_time": "2022-08-23T22:37:52.244Z"
   },
   {
    "duration": 6,
    "start_time": "2022-08-23T22:38:00.602Z"
   },
   {
    "duration": 57,
    "start_time": "2022-08-23T22:38:04.551Z"
   },
   {
    "duration": 5,
    "start_time": "2022-08-23T22:38:05.260Z"
   },
   {
    "duration": 18,
    "start_time": "2022-08-23T22:46:36.642Z"
   },
   {
    "duration": 16,
    "start_time": "2022-08-23T22:46:41.943Z"
   },
   {
    "duration": 17,
    "start_time": "2022-08-23T22:46:52.809Z"
   },
   {
    "duration": 1243,
    "start_time": "2022-08-23T22:47:05.276Z"
   },
   {
    "duration": 12,
    "start_time": "2022-08-23T22:47:10.190Z"
   },
   {
    "duration": 12,
    "start_time": "2022-08-23T22:47:47.343Z"
   },
   {
    "duration": 167,
    "start_time": "2022-08-23T22:48:29.932Z"
   },
   {
    "duration": 175,
    "start_time": "2022-08-23T22:50:16.595Z"
   },
   {
    "duration": 217,
    "start_time": "2022-08-23T22:50:31.858Z"
   },
   {
    "duration": 11,
    "start_time": "2022-08-23T22:54:36.233Z"
   },
   {
    "duration": 164,
    "start_time": "2022-08-23T22:54:47.260Z"
   },
   {
    "duration": 198,
    "start_time": "2022-08-23T22:56:19.222Z"
   },
   {
    "duration": 197,
    "start_time": "2022-08-23T22:56:31.660Z"
   },
   {
    "duration": 392,
    "start_time": "2022-08-23T22:57:38.534Z"
   },
   {
    "duration": 297,
    "start_time": "2022-08-23T22:57:47.475Z"
   },
   {
    "duration": 309,
    "start_time": "2022-08-23T22:57:59.649Z"
   },
   {
    "duration": 314,
    "start_time": "2022-08-23T22:58:03.740Z"
   },
   {
    "duration": 299,
    "start_time": "2022-08-23T22:59:01.452Z"
   },
   {
    "duration": 176,
    "start_time": "2022-08-23T22:59:07.568Z"
   },
   {
    "duration": 252,
    "start_time": "2022-08-23T22:59:42.881Z"
   },
   {
    "duration": 166,
    "start_time": "2022-08-23T22:59:43.200Z"
   },
   {
    "duration": 158,
    "start_time": "2022-08-23T22:59:43.467Z"
   },
   {
    "duration": 181,
    "start_time": "2022-08-23T22:59:43.922Z"
   },
   {
    "duration": 163,
    "start_time": "2022-08-23T22:59:44.513Z"
   },
   {
    "duration": 166,
    "start_time": "2022-08-23T22:59:45.533Z"
   },
   {
    "duration": 9,
    "start_time": "2022-08-23T23:05:33.940Z"
   },
   {
    "duration": 9,
    "start_time": "2022-08-23T23:05:45.614Z"
   },
   {
    "duration": 10,
    "start_time": "2022-08-23T23:05:55.093Z"
   },
   {
    "duration": 9,
    "start_time": "2022-08-23T23:19:00.899Z"
   },
   {
    "duration": 9,
    "start_time": "2022-08-23T23:24:46.968Z"
   },
   {
    "duration": 6,
    "start_time": "2022-08-23T23:27:05.679Z"
   },
   {
    "duration": 4,
    "start_time": "2022-08-23T23:27:14.569Z"
   },
   {
    "duration": 7,
    "start_time": "2022-08-23T23:27:23.266Z"
   },
   {
    "duration": 5,
    "start_time": "2022-08-23T23:32:39.347Z"
   },
   {
    "duration": 7,
    "start_time": "2022-08-23T23:33:20.188Z"
   },
   {
    "duration": 7,
    "start_time": "2022-08-23T23:34:15.420Z"
   },
   {
    "duration": 7,
    "start_time": "2022-08-23T23:34:23.095Z"
   },
   {
    "duration": 7,
    "start_time": "2022-08-23T23:34:34.594Z"
   },
   {
    "duration": 7,
    "start_time": "2022-08-23T23:35:27.827Z"
   },
   {
    "duration": 157,
    "start_time": "2022-08-23T23:36:26.541Z"
   },
   {
    "duration": 169,
    "start_time": "2022-08-23T23:36:35.666Z"
   },
   {
    "duration": 141,
    "start_time": "2022-08-23T23:38:04.895Z"
   },
   {
    "duration": 80,
    "start_time": "2022-08-23T23:38:32.899Z"
   },
   {
    "duration": 10,
    "start_time": "2022-08-23T23:38:36.150Z"
   },
   {
    "duration": 138,
    "start_time": "2022-08-23T23:39:32.666Z"
   },
   {
    "duration": 143,
    "start_time": "2022-08-23T23:39:36.243Z"
   },
   {
    "duration": 165,
    "start_time": "2022-08-23T23:39:38.995Z"
   },
   {
    "duration": 10,
    "start_time": "2022-08-23T23:40:25.754Z"
   },
   {
    "duration": 10,
    "start_time": "2022-08-23T23:40:46.269Z"
   },
   {
    "duration": 11,
    "start_time": "2022-08-23T23:40:55.896Z"
   },
   {
    "duration": 11,
    "start_time": "2022-08-23T23:40:59.581Z"
   },
   {
    "duration": 12,
    "start_time": "2022-08-23T23:41:05.059Z"
   },
   {
    "duration": 80,
    "start_time": "2022-08-23T23:41:07.583Z"
   },
   {
    "duration": 13,
    "start_time": "2022-08-23T23:41:09.750Z"
   },
   {
    "duration": 243,
    "start_time": "2022-08-23T23:41:39.874Z"
   },
   {
    "duration": 136,
    "start_time": "2022-08-23T23:41:44.590Z"
   },
   {
    "duration": 129,
    "start_time": "2022-08-23T23:41:52.286Z"
   },
   {
    "duration": 130,
    "start_time": "2022-08-23T23:43:05.742Z"
   },
   {
    "duration": 121,
    "start_time": "2022-08-23T23:43:17.532Z"
   },
   {
    "duration": 134,
    "start_time": "2022-08-23T23:43:19.965Z"
   },
   {
    "duration": 148,
    "start_time": "2022-08-23T23:44:04.457Z"
   },
   {
    "duration": 123,
    "start_time": "2022-08-23T23:44:05.240Z"
   },
   {
    "duration": 133,
    "start_time": "2022-08-24T00:01:27.348Z"
   },
   {
    "duration": 131,
    "start_time": "2022-08-24T00:01:42.254Z"
   },
   {
    "duration": 142,
    "start_time": "2022-08-24T00:01:46.577Z"
   },
   {
    "duration": 134,
    "start_time": "2022-08-24T00:01:51.119Z"
   },
   {
    "duration": 119,
    "start_time": "2022-08-24T00:06:43.384Z"
   },
   {
    "duration": 161,
    "start_time": "2022-08-24T00:07:15.104Z"
   },
   {
    "duration": 117,
    "start_time": "2022-08-24T00:07:15.801Z"
   },
   {
    "duration": 250,
    "start_time": "2022-08-24T00:08:48.691Z"
   },
   {
    "duration": 138,
    "start_time": "2022-08-24T00:09:06.964Z"
   },
   {
    "duration": 167,
    "start_time": "2022-08-24T00:09:11.729Z"
   },
   {
    "duration": 159,
    "start_time": "2022-08-24T00:09:16.728Z"
   },
   {
    "duration": 137,
    "start_time": "2022-08-24T00:09:19.966Z"
   },
   {
    "duration": 10,
    "start_time": "2022-08-24T00:09:28.054Z"
   },
   {
    "duration": 145,
    "start_time": "2022-08-24T00:10:10.538Z"
   },
   {
    "duration": 134,
    "start_time": "2022-08-24T00:10:41.200Z"
   },
   {
    "duration": 17,
    "start_time": "2022-08-24T00:11:03.650Z"
   },
   {
    "duration": 12,
    "start_time": "2022-08-24T00:11:18.543Z"
   },
   {
    "duration": 12,
    "start_time": "2022-08-24T00:11:43.160Z"
   },
   {
    "duration": 133,
    "start_time": "2022-08-24T00:11:45.380Z"
   },
   {
    "duration": 15,
    "start_time": "2022-08-24T00:12:04.438Z"
   },
   {
    "duration": 147,
    "start_time": "2022-08-24T00:12:12.430Z"
   },
   {
    "duration": 136,
    "start_time": "2022-08-24T00:12:28.919Z"
   },
   {
    "duration": 11,
    "start_time": "2022-08-24T00:12:34.884Z"
   },
   {
    "duration": 15,
    "start_time": "2022-08-24T00:12:41.838Z"
   },
   {
    "duration": 134,
    "start_time": "2022-08-24T00:12:44.077Z"
   },
   {
    "duration": 137,
    "start_time": "2022-08-24T00:13:43.320Z"
   },
   {
    "duration": 132,
    "start_time": "2022-08-24T00:13:50.323Z"
   },
   {
    "duration": 142,
    "start_time": "2022-08-24T00:14:09.594Z"
   },
   {
    "duration": 134,
    "start_time": "2022-08-24T00:14:13.302Z"
   },
   {
    "duration": 238,
    "start_time": "2022-08-24T00:14:44.238Z"
   },
   {
    "duration": 12,
    "start_time": "2022-08-24T00:15:22.677Z"
   },
   {
    "duration": 137,
    "start_time": "2022-08-24T00:18:48.870Z"
   },
   {
    "duration": 134,
    "start_time": "2022-08-24T00:19:06.615Z"
   },
   {
    "duration": 133,
    "start_time": "2022-08-24T00:19:19.175Z"
   },
   {
    "duration": 135,
    "start_time": "2022-08-24T00:20:04.666Z"
   },
   {
    "duration": 129,
    "start_time": "2022-08-24T00:20:05.220Z"
   },
   {
    "duration": 140,
    "start_time": "2022-08-24T00:20:05.709Z"
   },
   {
    "duration": 140,
    "start_time": "2022-08-24T00:20:07.483Z"
   },
   {
    "duration": 159,
    "start_time": "2022-08-24T00:20:07.624Z"
   },
   {
    "duration": 162,
    "start_time": "2022-08-24T00:20:07.784Z"
   },
   {
    "duration": 171,
    "start_time": "2022-08-24T00:20:07.947Z"
   },
   {
    "duration": 155,
    "start_time": "2022-08-24T00:20:21.851Z"
   },
   {
    "duration": 3,
    "start_time": "2022-08-24T00:29:28.894Z"
   },
   {
    "duration": 9,
    "start_time": "2022-08-24T00:30:24.483Z"
   },
   {
    "duration": 242,
    "start_time": "2022-08-24T00:30:31.654Z"
   },
   {
    "duration": 12,
    "start_time": "2022-08-24T00:31:56.826Z"
   },
   {
    "duration": 15,
    "start_time": "2022-08-24T00:32:06.486Z"
   },
   {
    "duration": 129,
    "start_time": "2022-08-24T00:32:16.094Z"
   },
   {
    "duration": 15,
    "start_time": "2022-08-24T00:32:52.210Z"
   },
   {
    "duration": 8,
    "start_time": "2022-08-24T00:33:53.416Z"
   },
   {
    "duration": 35,
    "start_time": "2022-08-24T00:35:21.864Z"
   },
   {
    "duration": 9,
    "start_time": "2022-08-24T00:35:33.614Z"
   },
   {
    "duration": 2203,
    "start_time": "2022-08-24T00:36:04.254Z"
   },
   {
    "duration": 9,
    "start_time": "2022-08-24T00:36:15.785Z"
   },
   {
    "duration": 12,
    "start_time": "2022-08-24T00:36:24.012Z"
   },
   {
    "duration": 112,
    "start_time": "2022-08-24T00:36:37.572Z"
   },
   {
    "duration": 175,
    "start_time": "2022-08-24T00:37:40.572Z"
   },
   {
    "duration": 214,
    "start_time": "2022-08-24T00:38:29.547Z"
   },
   {
    "duration": 113,
    "start_time": "2022-08-24T00:38:38.166Z"
   },
   {
    "duration": 119,
    "start_time": "2022-08-24T00:41:06.410Z"
   },
   {
    "duration": 112,
    "start_time": "2022-08-24T00:41:12.403Z"
   },
   {
    "duration": 734,
    "start_time": "2022-08-24T00:46:14.479Z"
   },
   {
    "duration": 59,
    "start_time": "2022-08-24T00:46:15.215Z"
   },
   {
    "duration": 17,
    "start_time": "2022-08-24T00:46:15.275Z"
   },
   {
    "duration": 22,
    "start_time": "2022-08-24T00:46:15.295Z"
   },
   {
    "duration": 854,
    "start_time": "2022-08-24T00:46:15.319Z"
   },
   {
    "duration": 3,
    "start_time": "2022-08-24T00:46:16.175Z"
   },
   {
    "duration": 40,
    "start_time": "2022-08-24T00:46:16.180Z"
   },
   {
    "duration": 18,
    "start_time": "2022-08-24T00:46:16.222Z"
   },
   {
    "duration": 21,
    "start_time": "2022-08-24T00:46:16.241Z"
   },
   {
    "duration": 30,
    "start_time": "2022-08-24T00:46:16.265Z"
   },
   {
    "duration": 12,
    "start_time": "2022-08-24T00:46:16.297Z"
   },
   {
    "duration": 12,
    "start_time": "2022-08-24T00:46:16.311Z"
   },
   {
    "duration": 23,
    "start_time": "2022-08-24T00:46:16.325Z"
   },
   {
    "duration": 26,
    "start_time": "2022-08-24T00:46:16.350Z"
   },
   {
    "duration": 125,
    "start_time": "2022-08-24T00:46:16.378Z"
   },
   {
    "duration": 3,
    "start_time": "2022-08-24T00:46:16.505Z"
   },
   {
    "duration": 31,
    "start_time": "2022-08-24T00:46:16.510Z"
   },
   {
    "duration": 36,
    "start_time": "2022-08-24T00:46:16.543Z"
   },
   {
    "duration": 8,
    "start_time": "2022-08-24T00:46:16.580Z"
   },
   {
    "duration": 43,
    "start_time": "2022-08-24T00:46:16.589Z"
   },
   {
    "duration": 6,
    "start_time": "2022-08-24T00:46:16.633Z"
   },
   {
    "duration": 20,
    "start_time": "2022-08-24T00:46:16.640Z"
   },
   {
    "duration": 18,
    "start_time": "2022-08-24T00:46:16.662Z"
   },
   {
    "duration": 42,
    "start_time": "2022-08-24T00:46:16.682Z"
   },
   {
    "duration": 15,
    "start_time": "2022-08-24T00:46:16.726Z"
   },
   {
    "duration": 19,
    "start_time": "2022-08-24T00:46:16.743Z"
   },
   {
    "duration": 8,
    "start_time": "2022-08-24T00:46:16.763Z"
   },
   {
    "duration": 25,
    "start_time": "2022-08-24T00:46:16.775Z"
   },
   {
    "duration": 18,
    "start_time": "2022-08-24T00:46:16.803Z"
   },
   {
    "duration": 20,
    "start_time": "2022-08-24T00:46:16.823Z"
   },
   {
    "duration": 24,
    "start_time": "2022-08-24T00:46:16.845Z"
   },
   {
    "duration": 39,
    "start_time": "2022-08-24T00:46:16.871Z"
   },
   {
    "duration": 13,
    "start_time": "2022-08-24T00:46:16.912Z"
   },
   {
    "duration": 31,
    "start_time": "2022-08-24T00:46:16.927Z"
   },
   {
    "duration": 19,
    "start_time": "2022-08-24T00:46:16.960Z"
   },
   {
    "duration": 25,
    "start_time": "2022-08-24T00:46:16.981Z"
   },
   {
    "duration": 15,
    "start_time": "2022-08-24T00:46:17.008Z"
   },
   {
    "duration": 29,
    "start_time": "2022-08-24T00:46:17.025Z"
   },
   {
    "duration": 14,
    "start_time": "2022-08-24T00:46:17.056Z"
   },
   {
    "duration": 9,
    "start_time": "2022-08-24T00:46:17.072Z"
   },
   {
    "duration": 18,
    "start_time": "2022-08-24T00:46:17.083Z"
   },
   {
    "duration": 27,
    "start_time": "2022-08-24T00:46:17.103Z"
   },
   {
    "duration": 1127,
    "start_time": "2022-08-24T00:46:17.132Z"
   },
   {
    "duration": 1181,
    "start_time": "2022-08-24T00:46:18.260Z"
   },
   {
    "duration": 8,
    "start_time": "2022-08-24T00:46:19.443Z"
   },
   {
    "duration": 27,
    "start_time": "2022-08-24T00:46:19.453Z"
   },
   {
    "duration": 26,
    "start_time": "2022-08-24T00:46:19.482Z"
   },
   {
    "duration": 1290,
    "start_time": "2022-08-24T00:46:19.510Z"
   },
   {
    "duration": 8,
    "start_time": "2022-08-24T00:46:20.802Z"
   },
   {
    "duration": 24,
    "start_time": "2022-08-24T00:46:20.812Z"
   },
   {
    "duration": 11,
    "start_time": "2022-08-24T00:46:20.838Z"
   },
   {
    "duration": 1320,
    "start_time": "2022-08-24T00:46:20.850Z"
   },
   {
    "duration": 7,
    "start_time": "2022-08-24T00:46:22.172Z"
   },
   {
    "duration": 9,
    "start_time": "2022-08-24T00:46:22.193Z"
   },
   {
    "duration": 42,
    "start_time": "2022-08-24T00:46:22.204Z"
   },
   {
    "duration": 1198,
    "start_time": "2022-08-24T00:46:22.248Z"
   },
   {
    "duration": 8,
    "start_time": "2022-08-24T00:46:23.448Z"
   },
   {
    "duration": 32,
    "start_time": "2022-08-24T00:46:23.458Z"
   },
   {
    "duration": 38,
    "start_time": "2022-08-24T00:46:23.492Z"
   },
   {
    "duration": 1327,
    "start_time": "2022-08-24T00:46:23.532Z"
   },
   {
    "duration": 4,
    "start_time": "2022-08-24T00:46:24.861Z"
   },
   {
    "duration": 7,
    "start_time": "2022-08-24T00:46:24.867Z"
   },
   {
    "duration": 17,
    "start_time": "2022-08-24T00:46:24.876Z"
   },
   {
    "duration": 5,
    "start_time": "2022-08-24T00:46:24.894Z"
   },
   {
    "duration": 9,
    "start_time": "2022-08-24T00:46:24.901Z"
   },
   {
    "duration": 10,
    "start_time": "2022-08-24T00:46:24.911Z"
   },
   {
    "duration": 5,
    "start_time": "2022-08-24T00:46:24.922Z"
   },
   {
    "duration": 6,
    "start_time": "2022-08-24T00:46:24.929Z"
   },
   {
    "duration": 7,
    "start_time": "2022-08-24T00:46:24.937Z"
   },
   {
    "duration": 52,
    "start_time": "2022-08-24T00:46:24.946Z"
   },
   {
    "duration": 9,
    "start_time": "2022-08-24T00:46:25.000Z"
   },
   {
    "duration": 17,
    "start_time": "2022-08-24T00:46:25.011Z"
   },
   {
    "duration": 493,
    "start_time": "2022-08-24T00:46:25.030Z"
   },
   {
    "duration": 9,
    "start_time": "2022-08-24T00:46:25.525Z"
   },
   {
    "duration": 6,
    "start_time": "2022-08-24T00:46:25.535Z"
   },
   {
    "duration": 76,
    "start_time": "2022-08-24T00:46:25.543Z"
   },
   {
    "duration": 6,
    "start_time": "2022-08-24T00:46:25.620Z"
   },
   {
    "duration": 180,
    "start_time": "2022-08-24T00:46:25.627Z"
   },
   {
    "duration": 189,
    "start_time": "2022-08-24T00:46:25.809Z"
   },
   {
    "duration": 177,
    "start_time": "2022-08-24T00:46:26.000Z"
   },
   {
    "duration": 188,
    "start_time": "2022-08-24T00:46:26.179Z"
   },
   {
    "duration": 181,
    "start_time": "2022-08-24T00:46:26.373Z"
   },
   {
    "duration": 285,
    "start_time": "2022-08-24T00:46:26.556Z"
   },
   {
    "duration": 182,
    "start_time": "2022-08-24T00:46:26.843Z"
   },
   {
    "duration": 9,
    "start_time": "2022-08-24T00:46:27.027Z"
   },
   {
    "duration": 6,
    "start_time": "2022-08-24T00:46:27.038Z"
   },
   {
    "duration": 17,
    "start_time": "2022-08-24T00:46:27.046Z"
   },
   {
    "duration": 190,
    "start_time": "2022-08-24T00:46:27.065Z"
   },
   {
    "duration": 134,
    "start_time": "2022-08-24T00:46:27.257Z"
   },
   {
    "duration": 146,
    "start_time": "2022-08-24T00:46:27.393Z"
   },
   {
    "duration": 138,
    "start_time": "2022-08-24T00:46:27.541Z"
   },
   {
    "duration": 144,
    "start_time": "2022-08-24T00:46:27.681Z"
   },
   {
    "duration": 151,
    "start_time": "2022-08-24T00:46:27.827Z"
   },
   {
    "duration": 153,
    "start_time": "2022-08-24T00:46:27.980Z"
   },
   {
    "duration": 157,
    "start_time": "2022-08-24T00:46:28.135Z"
   },
   {
    "duration": 153,
    "start_time": "2022-08-24T00:46:28.294Z"
   },
   {
    "duration": 189,
    "start_time": "2022-08-24T00:46:28.449Z"
   },
   {
    "duration": 100,
    "start_time": "2022-08-24T00:48:03.255Z"
   },
   {
    "duration": 26,
    "start_time": "2022-08-24T00:48:30.916Z"
   },
   {
    "duration": 83,
    "start_time": "2022-08-24T00:50:30.892Z"
   },
   {
    "duration": 14,
    "start_time": "2022-08-24T00:50:59.074Z"
   },
   {
    "duration": 117,
    "start_time": "2022-08-24T00:51:19.970Z"
   },
   {
    "duration": 714,
    "start_time": "2022-08-24T00:52:10.485Z"
   },
   {
    "duration": 56,
    "start_time": "2022-08-24T00:52:11.202Z"
   },
   {
    "duration": 16,
    "start_time": "2022-08-24T00:52:11.260Z"
   },
   {
    "duration": 29,
    "start_time": "2022-08-24T00:52:11.279Z"
   },
   {
    "duration": 853,
    "start_time": "2022-08-24T00:52:11.309Z"
   },
   {
    "duration": 3,
    "start_time": "2022-08-24T00:52:12.164Z"
   },
   {
    "duration": 24,
    "start_time": "2022-08-24T00:52:12.169Z"
   },
   {
    "duration": 19,
    "start_time": "2022-08-24T00:52:12.195Z"
   },
   {
    "duration": 8,
    "start_time": "2022-08-24T00:52:12.216Z"
   },
   {
    "duration": 9,
    "start_time": "2022-08-24T00:52:12.227Z"
   },
   {
    "duration": 9,
    "start_time": "2022-08-24T00:52:12.237Z"
   },
   {
    "duration": 8,
    "start_time": "2022-08-24T00:52:12.248Z"
   },
   {
    "duration": 38,
    "start_time": "2022-08-24T00:52:12.257Z"
   },
   {
    "duration": 10,
    "start_time": "2022-08-24T00:52:12.297Z"
   },
   {
    "duration": 122,
    "start_time": "2022-08-24T00:52:12.309Z"
   },
   {
    "duration": 3,
    "start_time": "2022-08-24T00:52:12.433Z"
   },
   {
    "duration": 22,
    "start_time": "2022-08-24T00:52:12.438Z"
   },
   {
    "duration": 48,
    "start_time": "2022-08-24T00:52:12.462Z"
   },
   {
    "duration": 27,
    "start_time": "2022-08-24T00:52:12.512Z"
   },
   {
    "duration": 32,
    "start_time": "2022-08-24T00:52:12.540Z"
   },
   {
    "duration": 6,
    "start_time": "2022-08-24T00:52:12.574Z"
   },
   {
    "duration": 6,
    "start_time": "2022-08-24T00:52:12.582Z"
   },
   {
    "duration": 7,
    "start_time": "2022-08-24T00:52:12.589Z"
   },
   {
    "duration": 25,
    "start_time": "2022-08-24T00:52:12.597Z"
   },
   {
    "duration": 15,
    "start_time": "2022-08-24T00:52:12.624Z"
   },
   {
    "duration": 6,
    "start_time": "2022-08-24T00:52:12.641Z"
   },
   {
    "duration": 10,
    "start_time": "2022-08-24T00:52:12.649Z"
   },
   {
    "duration": 5,
    "start_time": "2022-08-24T00:52:12.691Z"
   },
   {
    "duration": 7,
    "start_time": "2022-08-24T00:52:12.697Z"
   },
   {
    "duration": 6,
    "start_time": "2022-08-24T00:52:12.706Z"
   },
   {
    "duration": 5,
    "start_time": "2022-08-24T00:52:12.714Z"
   },
   {
    "duration": 22,
    "start_time": "2022-08-24T00:52:12.721Z"
   },
   {
    "duration": 7,
    "start_time": "2022-08-24T00:52:12.744Z"
   },
   {
    "duration": 52,
    "start_time": "2022-08-24T00:52:12.754Z"
   },
   {
    "duration": 18,
    "start_time": "2022-08-24T00:52:12.808Z"
   },
   {
    "duration": 11,
    "start_time": "2022-08-24T00:52:12.828Z"
   },
   {
    "duration": 13,
    "start_time": "2022-08-24T00:52:12.841Z"
   },
   {
    "duration": 4,
    "start_time": "2022-08-24T00:52:12.856Z"
   },
   {
    "duration": 10,
    "start_time": "2022-08-24T00:52:12.892Z"
   },
   {
    "duration": 8,
    "start_time": "2022-08-24T00:52:12.904Z"
   },
   {
    "duration": 11,
    "start_time": "2022-08-24T00:52:12.914Z"
   },
   {
    "duration": 11,
    "start_time": "2022-08-24T00:52:12.926Z"
   },
   {
    "duration": 1117,
    "start_time": "2022-08-24T00:52:12.939Z"
   },
   {
    "duration": 1151,
    "start_time": "2022-08-24T00:52:14.058Z"
   },
   {
    "duration": 7,
    "start_time": "2022-08-24T00:52:15.211Z"
   },
   {
    "duration": 47,
    "start_time": "2022-08-24T00:52:15.220Z"
   },
   {
    "duration": 15,
    "start_time": "2022-08-24T00:52:15.269Z"
   },
   {
    "duration": 1277,
    "start_time": "2022-08-24T00:52:15.286Z"
   },
   {
    "duration": 8,
    "start_time": "2022-08-24T00:52:16.565Z"
   },
   {
    "duration": 20,
    "start_time": "2022-08-24T00:52:16.575Z"
   },
   {
    "duration": 7,
    "start_time": "2022-08-24T00:52:16.597Z"
   },
   {
    "duration": 1300,
    "start_time": "2022-08-24T00:52:16.605Z"
   },
   {
    "duration": 8,
    "start_time": "2022-08-24T00:52:17.907Z"
   },
   {
    "duration": 11,
    "start_time": "2022-08-24T00:52:17.916Z"
   },
   {
    "duration": 5,
    "start_time": "2022-08-24T00:52:17.929Z"
   },
   {
    "duration": 1180,
    "start_time": "2022-08-24T00:52:17.936Z"
   },
   {
    "duration": 7,
    "start_time": "2022-08-24T00:52:19.118Z"
   },
   {
    "duration": 9,
    "start_time": "2022-08-24T00:52:19.126Z"
   },
   {
    "duration": 9,
    "start_time": "2022-08-24T00:52:19.137Z"
   },
   {
    "duration": 1379,
    "start_time": "2022-08-24T00:52:19.148Z"
   },
   {
    "duration": 5,
    "start_time": "2022-08-24T00:52:20.529Z"
   },
   {
    "duration": 14,
    "start_time": "2022-08-24T00:52:20.536Z"
   },
   {
    "duration": 15,
    "start_time": "2022-08-24T00:52:20.552Z"
   },
   {
    "duration": 15,
    "start_time": "2022-08-24T00:52:20.568Z"
   },
   {
    "duration": 16,
    "start_time": "2022-08-24T00:52:20.585Z"
   },
   {
    "duration": 10,
    "start_time": "2022-08-24T00:52:20.603Z"
   },
   {
    "duration": 6,
    "start_time": "2022-08-24T00:52:20.614Z"
   },
   {
    "duration": 5,
    "start_time": "2022-08-24T00:52:20.622Z"
   },
   {
    "duration": 8,
    "start_time": "2022-08-24T00:52:20.629Z"
   },
   {
    "duration": 8,
    "start_time": "2022-08-24T00:52:20.639Z"
   },
   {
    "duration": 48,
    "start_time": "2022-08-24T00:52:20.649Z"
   },
   {
    "duration": 8,
    "start_time": "2022-08-24T00:52:20.699Z"
   },
   {
    "duration": 500,
    "start_time": "2022-08-24T00:52:20.708Z"
   },
   {
    "duration": 9,
    "start_time": "2022-08-24T00:52:21.209Z"
   },
   {
    "duration": 10,
    "start_time": "2022-08-24T00:52:21.220Z"
   },
   {
    "duration": 68,
    "start_time": "2022-08-24T00:52:21.232Z"
   },
   {
    "duration": 5,
    "start_time": "2022-08-24T00:52:21.302Z"
   },
   {
    "duration": 185,
    "start_time": "2022-08-24T00:52:21.308Z"
   },
   {
    "duration": 187,
    "start_time": "2022-08-24T00:52:21.495Z"
   },
   {
    "duration": 209,
    "start_time": "2022-08-24T00:52:21.685Z"
   },
   {
    "duration": 200,
    "start_time": "2022-08-24T00:52:21.897Z"
   },
   {
    "duration": 180,
    "start_time": "2022-08-24T00:52:22.103Z"
   },
   {
    "duration": 284,
    "start_time": "2022-08-24T00:52:22.285Z"
   },
   {
    "duration": 173,
    "start_time": "2022-08-24T00:52:22.571Z"
   },
   {
    "duration": 10,
    "start_time": "2022-08-24T00:52:22.746Z"
   },
   {
    "duration": 6,
    "start_time": "2022-08-24T00:52:22.757Z"
   },
   {
    "duration": 28,
    "start_time": "2022-08-24T00:52:22.765Z"
   },
   {
    "duration": 178,
    "start_time": "2022-08-24T00:52:22.795Z"
   },
   {
    "duration": 142,
    "start_time": "2022-08-24T00:52:22.976Z"
   },
   {
    "duration": 148,
    "start_time": "2022-08-24T00:52:23.120Z"
   },
   {
    "duration": 151,
    "start_time": "2022-08-24T00:52:23.271Z"
   },
   {
    "duration": 143,
    "start_time": "2022-08-24T00:52:23.424Z"
   },
   {
    "duration": 144,
    "start_time": "2022-08-24T00:52:23.569Z"
   },
   {
    "duration": 151,
    "start_time": "2022-08-24T00:52:23.715Z"
   },
   {
    "duration": 164,
    "start_time": "2022-08-24T00:52:23.868Z"
   },
   {
    "duration": 151,
    "start_time": "2022-08-24T00:52:24.034Z"
   },
   {
    "duration": 192,
    "start_time": "2022-08-24T00:52:24.187Z"
   },
   {
    "duration": 25,
    "start_time": "2022-08-24T00:53:07.242Z"
   },
   {
    "duration": 22,
    "start_time": "2022-08-24T00:54:02.756Z"
   },
   {
    "duration": 29,
    "start_time": "2022-08-24T00:54:17.348Z"
   },
   {
    "duration": 32,
    "start_time": "2022-08-24T00:54:34.006Z"
   },
   {
    "duration": 22,
    "start_time": "2022-08-24T00:54:45.287Z"
   },
   {
    "duration": 88,
    "start_time": "2022-08-24T00:55:09.265Z"
   },
   {
    "duration": 37,
    "start_time": "2022-08-24T00:55:13.854Z"
   },
   {
    "duration": 135,
    "start_time": "2022-08-24T00:55:31.992Z"
   },
   {
    "duration": 37,
    "start_time": "2022-08-24T00:55:40.598Z"
   },
   {
    "duration": 241,
    "start_time": "2022-08-24T00:56:15.936Z"
   },
   {
    "duration": 338,
    "start_time": "2022-08-24T00:57:05.106Z"
   },
   {
    "duration": 275,
    "start_time": "2022-08-24T00:57:10.925Z"
   },
   {
    "duration": 267,
    "start_time": "2022-08-24T00:57:15.950Z"
   },
   {
    "duration": 347,
    "start_time": "2022-08-24T00:57:20.504Z"
   },
   {
    "duration": 315,
    "start_time": "2022-08-24T00:58:51.713Z"
   },
   {
    "duration": 283,
    "start_time": "2022-08-24T00:58:58.064Z"
   },
   {
    "duration": 14,
    "start_time": "2022-08-24T00:59:11.530Z"
   },
   {
    "duration": 266,
    "start_time": "2022-08-24T00:59:19.050Z"
   },
   {
    "duration": 257,
    "start_time": "2022-08-24T00:59:24.313Z"
   },
   {
    "duration": 9,
    "start_time": "2022-08-24T00:59:28.218Z"
   },
   {
    "duration": 12,
    "start_time": "2022-08-24T00:59:33.389Z"
   },
   {
    "duration": 7,
    "start_time": "2022-08-24T00:59:35.584Z"
   },
   {
    "duration": 531,
    "start_time": "2022-08-24T00:59:58.160Z"
   },
   {
    "duration": 293,
    "start_time": "2022-08-24T01:00:11.638Z"
   },
   {
    "duration": 873,
    "start_time": "2022-08-24T06:58:59.168Z"
   },
   {
    "duration": 100,
    "start_time": "2022-08-24T06:59:00.043Z"
   },
   {
    "duration": 15,
    "start_time": "2022-08-24T06:59:00.145Z"
   },
   {
    "duration": 25,
    "start_time": "2022-08-24T06:59:00.162Z"
   },
   {
    "duration": 677,
    "start_time": "2022-08-24T06:59:00.189Z"
   },
   {
    "duration": 3,
    "start_time": "2022-08-24T06:59:00.868Z"
   },
   {
    "duration": 25,
    "start_time": "2022-08-24T06:59:00.873Z"
   },
   {
    "duration": 14,
    "start_time": "2022-08-24T06:59:00.900Z"
   },
   {
    "duration": 19,
    "start_time": "2022-08-24T06:59:00.916Z"
   },
   {
    "duration": 21,
    "start_time": "2022-08-24T06:59:00.938Z"
   },
   {
    "duration": 21,
    "start_time": "2022-08-24T06:59:00.960Z"
   },
   {
    "duration": 22,
    "start_time": "2022-08-24T06:59:00.983Z"
   },
   {
    "duration": 36,
    "start_time": "2022-08-24T06:59:01.006Z"
   },
   {
    "duration": 35,
    "start_time": "2022-08-24T06:59:01.044Z"
   },
   {
    "duration": 100,
    "start_time": "2022-08-24T06:59:01.081Z"
   },
   {
    "duration": 6,
    "start_time": "2022-08-24T06:59:01.182Z"
   },
   {
    "duration": 12,
    "start_time": "2022-08-24T06:59:01.189Z"
   },
   {
    "duration": 63,
    "start_time": "2022-08-24T06:59:01.203Z"
   },
   {
    "duration": 5,
    "start_time": "2022-08-24T06:59:01.267Z"
   },
   {
    "duration": 38,
    "start_time": "2022-08-24T06:59:01.274Z"
   },
   {
    "duration": 7,
    "start_time": "2022-08-24T06:59:01.314Z"
   },
   {
    "duration": 15,
    "start_time": "2022-08-24T06:59:01.322Z"
   },
   {
    "duration": 9,
    "start_time": "2022-08-24T06:59:01.338Z"
   },
   {
    "duration": 41,
    "start_time": "2022-08-24T06:59:01.348Z"
   },
   {
    "duration": 21,
    "start_time": "2022-08-24T06:59:01.390Z"
   },
   {
    "duration": 18,
    "start_time": "2022-08-24T06:59:01.413Z"
   },
   {
    "duration": 28,
    "start_time": "2022-08-24T06:59:01.433Z"
   },
   {
    "duration": 12,
    "start_time": "2022-08-24T06:59:01.467Z"
   },
   {
    "duration": 14,
    "start_time": "2022-08-24T06:59:01.481Z"
   },
   {
    "duration": 11,
    "start_time": "2022-08-24T06:59:01.496Z"
   },
   {
    "duration": 24,
    "start_time": "2022-08-24T06:59:01.509Z"
   },
   {
    "duration": 31,
    "start_time": "2022-08-24T06:59:01.535Z"
   },
   {
    "duration": 12,
    "start_time": "2022-08-24T06:59:01.567Z"
   },
   {
    "duration": 32,
    "start_time": "2022-08-24T06:59:01.581Z"
   },
   {
    "duration": 16,
    "start_time": "2022-08-24T06:59:01.615Z"
   },
   {
    "duration": 18,
    "start_time": "2022-08-24T06:59:01.633Z"
   },
   {
    "duration": 15,
    "start_time": "2022-08-24T06:59:01.653Z"
   },
   {
    "duration": 4,
    "start_time": "2022-08-24T06:59:01.670Z"
   },
   {
    "duration": 25,
    "start_time": "2022-08-24T06:59:01.676Z"
   },
   {
    "duration": 10,
    "start_time": "2022-08-24T06:59:01.702Z"
   },
   {
    "duration": 14,
    "start_time": "2022-08-24T06:59:01.714Z"
   },
   {
    "duration": 5,
    "start_time": "2022-08-24T06:59:01.730Z"
   },
   {
    "duration": 946,
    "start_time": "2022-08-24T06:59:01.737Z"
   },
   {
    "duration": 955,
    "start_time": "2022-08-24T06:59:02.685Z"
   },
   {
    "duration": 8,
    "start_time": "2022-08-24T06:59:03.642Z"
   },
   {
    "duration": 10,
    "start_time": "2022-08-24T06:59:03.652Z"
   },
   {
    "duration": 6,
    "start_time": "2022-08-24T06:59:03.664Z"
   },
   {
    "duration": 1101,
    "start_time": "2022-08-24T06:59:03.671Z"
   },
   {
    "duration": 8,
    "start_time": "2022-08-24T06:59:04.774Z"
   },
   {
    "duration": 22,
    "start_time": "2022-08-24T06:59:04.784Z"
   },
   {
    "duration": 6,
    "start_time": "2022-08-24T06:59:04.808Z"
   },
   {
    "duration": 1061,
    "start_time": "2022-08-24T06:59:04.816Z"
   },
   {
    "duration": 22,
    "start_time": "2022-08-24T06:59:05.879Z"
   },
   {
    "duration": 10,
    "start_time": "2022-08-24T06:59:05.903Z"
   },
   {
    "duration": 7,
    "start_time": "2022-08-24T06:59:05.915Z"
   },
   {
    "duration": 1019,
    "start_time": "2022-08-24T06:59:05.923Z"
   },
   {
    "duration": 10,
    "start_time": "2022-08-24T06:59:06.944Z"
   },
   {
    "duration": 15,
    "start_time": "2022-08-24T06:59:06.956Z"
   },
   {
    "duration": 27,
    "start_time": "2022-08-24T06:59:06.973Z"
   },
   {
    "duration": 1129,
    "start_time": "2022-08-24T06:59:07.002Z"
   },
   {
    "duration": 6,
    "start_time": "2022-08-24T06:59:08.133Z"
   },
   {
    "duration": 6,
    "start_time": "2022-08-24T06:59:08.141Z"
   },
   {
    "duration": 5,
    "start_time": "2022-08-24T06:59:08.150Z"
   },
   {
    "duration": 42,
    "start_time": "2022-08-24T06:59:08.157Z"
   },
   {
    "duration": 6,
    "start_time": "2022-08-24T06:59:08.201Z"
   },
   {
    "duration": 10,
    "start_time": "2022-08-24T06:59:08.209Z"
   },
   {
    "duration": 5,
    "start_time": "2022-08-24T06:59:08.221Z"
   },
   {
    "duration": 10,
    "start_time": "2022-08-24T06:59:08.228Z"
   },
   {
    "duration": 7,
    "start_time": "2022-08-24T06:59:08.240Z"
   },
   {
    "duration": 8,
    "start_time": "2022-08-24T06:59:08.249Z"
   },
   {
    "duration": 50,
    "start_time": "2022-08-24T06:59:08.259Z"
   },
   {
    "duration": 7,
    "start_time": "2022-08-24T06:59:08.311Z"
   },
   {
    "duration": 414,
    "start_time": "2022-08-24T06:59:08.320Z"
   },
   {
    "duration": 8,
    "start_time": "2022-08-24T06:59:08.736Z"
   },
   {
    "duration": 4,
    "start_time": "2022-08-24T06:59:08.746Z"
   },
   {
    "duration": 66,
    "start_time": "2022-08-24T06:59:08.752Z"
   },
   {
    "duration": 5,
    "start_time": "2022-08-24T06:59:08.820Z"
   },
   {
    "duration": 162,
    "start_time": "2022-08-24T06:59:08.826Z"
   },
   {
    "duration": 168,
    "start_time": "2022-08-24T06:59:08.990Z"
   },
   {
    "duration": 156,
    "start_time": "2022-08-24T06:59:09.159Z"
   },
   {
    "duration": 149,
    "start_time": "2022-08-24T06:59:09.316Z"
   },
   {
    "duration": 150,
    "start_time": "2022-08-24T06:59:09.470Z"
   },
   {
    "duration": 209,
    "start_time": "2022-08-24T06:59:09.621Z"
   },
   {
    "duration": 158,
    "start_time": "2022-08-24T06:59:09.832Z"
   },
   {
    "duration": 11,
    "start_time": "2022-08-24T06:59:09.992Z"
   },
   {
    "duration": 4,
    "start_time": "2022-08-24T06:59:10.005Z"
   },
   {
    "duration": 6,
    "start_time": "2022-08-24T06:59:10.011Z"
   },
   {
    "duration": 167,
    "start_time": "2022-08-24T06:59:10.019Z"
   },
   {
    "duration": 113,
    "start_time": "2022-08-24T06:59:10.188Z"
   },
   {
    "duration": 159,
    "start_time": "2022-08-24T06:59:10.303Z"
   },
   {
    "duration": 162,
    "start_time": "2022-08-24T06:59:10.464Z"
   },
   {
    "duration": 128,
    "start_time": "2022-08-24T06:59:10.627Z"
   },
   {
    "duration": 125,
    "start_time": "2022-08-24T06:59:10.756Z"
   },
   {
    "duration": 150,
    "start_time": "2022-08-24T06:59:10.883Z"
   },
   {
    "duration": 138,
    "start_time": "2022-08-24T06:59:11.034Z"
   },
   {
    "duration": 125,
    "start_time": "2022-08-24T06:59:11.174Z"
   },
   {
    "duration": 5,
    "start_time": "2022-08-24T06:59:11.301Z"
   },
   {
    "duration": 294,
    "start_time": "2022-08-24T06:59:11.307Z"
   },
   {
    "duration": 7,
    "start_time": "2022-08-24T06:59:22.952Z"
   },
   {
    "duration": 50,
    "start_time": "2022-08-24T06:59:29.466Z"
   },
   {
    "duration": 47,
    "start_time": "2022-08-24T06:59:40.449Z"
   },
   {
    "duration": 210,
    "start_time": "2022-08-24T06:59:48.080Z"
   },
   {
    "duration": 76,
    "start_time": "2022-08-24T07:00:35.742Z"
   },
   {
    "duration": 30,
    "start_time": "2022-08-24T07:00:38.743Z"
   },
   {
    "duration": 19,
    "start_time": "2022-08-24T07:00:44.512Z"
   },
   {
    "duration": 29,
    "start_time": "2022-08-24T07:00:55.465Z"
   },
   {
    "duration": 21,
    "start_time": "2022-08-24T07:01:07.108Z"
   },
   {
    "duration": 32,
    "start_time": "2022-08-24T07:01:40.940Z"
   },
   {
    "duration": 34,
    "start_time": "2022-08-24T07:02:22.265Z"
   },
   {
    "duration": 36,
    "start_time": "2022-08-24T07:02:34.079Z"
   },
   {
    "duration": 37,
    "start_time": "2022-08-24T07:02:38.326Z"
   },
   {
    "duration": 40,
    "start_time": "2022-08-24T07:03:06.904Z"
   },
   {
    "duration": 37,
    "start_time": "2022-08-24T07:03:16.782Z"
   },
   {
    "duration": 41,
    "start_time": "2022-08-24T07:03:26.687Z"
   },
   {
    "duration": 50,
    "start_time": "2022-08-24T07:03:45.889Z"
   },
   {
    "duration": 34,
    "start_time": "2022-08-24T07:03:50.334Z"
   },
   {
    "duration": 34,
    "start_time": "2022-08-24T07:03:58.056Z"
   },
   {
    "duration": 40,
    "start_time": "2022-08-24T07:04:05.884Z"
   },
   {
    "duration": 37,
    "start_time": "2022-08-24T07:04:10.748Z"
   },
   {
    "duration": 33,
    "start_time": "2022-08-24T07:04:19.258Z"
   },
   {
    "duration": 42,
    "start_time": "2022-08-24T07:04:27.576Z"
   },
   {
    "duration": 35,
    "start_time": "2022-08-24T07:04:31.534Z"
   },
   {
    "duration": 228,
    "start_time": "2022-08-24T07:04:46.411Z"
   },
   {
    "duration": 25,
    "start_time": "2022-08-24T07:04:56.869Z"
   },
   {
    "duration": 233,
    "start_time": "2022-08-24T07:06:15.780Z"
   },
   {
    "duration": 20,
    "start_time": "2022-08-24T07:16:22.354Z"
   },
   {
    "duration": 216,
    "start_time": "2022-08-24T07:16:43.759Z"
   },
   {
    "duration": 298,
    "start_time": "2022-08-24T07:18:45.968Z"
   },
   {
    "duration": 267,
    "start_time": "2022-08-24T07:18:49.295Z"
   },
   {
    "duration": 318,
    "start_time": "2022-08-24T07:18:55.012Z"
   },
   {
    "duration": 197,
    "start_time": "2022-08-24T07:19:00.901Z"
   },
   {
    "duration": 219,
    "start_time": "2022-08-24T07:19:10.199Z"
   },
   {
    "duration": 201,
    "start_time": "2022-08-24T07:19:15.458Z"
   },
   {
    "duration": 258,
    "start_time": "2022-08-24T07:19:20.454Z"
   },
   {
    "duration": 210,
    "start_time": "2022-08-24T07:19:23.646Z"
   },
   {
    "duration": 237,
    "start_time": "2022-08-24T07:19:28.728Z"
   },
   {
    "duration": 204,
    "start_time": "2022-08-24T07:19:32.831Z"
   },
   {
    "duration": 216,
    "start_time": "2022-08-24T07:19:35.422Z"
   },
   {
    "duration": 7,
    "start_time": "2022-08-24T07:20:40.776Z"
   },
   {
    "duration": 6,
    "start_time": "2022-08-24T07:21:17.476Z"
   },
   {
    "duration": 7,
    "start_time": "2022-08-24T07:21:22.286Z"
   },
   {
    "duration": 9,
    "start_time": "2022-08-24T07:26:59.208Z"
   },
   {
    "duration": 26,
    "start_time": "2022-08-24T07:28:17.846Z"
   },
   {
    "duration": 34,
    "start_time": "2022-08-24T07:28:28.175Z"
   },
   {
    "duration": 34,
    "start_time": "2022-08-24T07:28:49.287Z"
   },
   {
    "duration": 68,
    "start_time": "2022-08-24T07:28:56.056Z"
   },
   {
    "duration": 76,
    "start_time": "2022-08-24T07:29:03.409Z"
   },
   {
    "duration": 39,
    "start_time": "2022-08-24T07:29:14.166Z"
   },
   {
    "duration": 40,
    "start_time": "2022-08-24T07:29:29.346Z"
   },
   {
    "duration": 34,
    "start_time": "2022-08-24T07:31:11.195Z"
   },
   {
    "duration": 37,
    "start_time": "2022-08-24T07:31:20.263Z"
   },
   {
    "duration": 38,
    "start_time": "2022-08-24T07:31:28.438Z"
   },
   {
    "duration": 35,
    "start_time": "2022-08-24T07:31:33.373Z"
   },
   {
    "duration": 45,
    "start_time": "2022-08-24T07:31:38.394Z"
   },
   {
    "duration": 37,
    "start_time": "2022-08-24T07:31:40.826Z"
   },
   {
    "duration": 22,
    "start_time": "2022-08-24T07:51:36.441Z"
   },
   {
    "duration": 134,
    "start_time": "2022-08-24T08:17:59.971Z"
   },
   {
    "duration": 187,
    "start_time": "2022-08-24T08:18:18.312Z"
   },
   {
    "duration": 129,
    "start_time": "2022-08-24T08:18:58.705Z"
   },
   {
    "duration": 128,
    "start_time": "2022-08-24T08:20:57.520Z"
   },
   {
    "duration": 138,
    "start_time": "2022-08-24T08:21:09.733Z"
   },
   {
    "duration": 5,
    "start_time": "2022-08-24T08:21:43.604Z"
   },
   {
    "duration": 6,
    "start_time": "2022-08-24T08:22:01.208Z"
   },
   {
    "duration": 7,
    "start_time": "2022-08-24T08:32:46.572Z"
   },
   {
    "duration": 8,
    "start_time": "2022-08-24T08:32:54.923Z"
   },
   {
    "duration": 7,
    "start_time": "2022-08-24T08:37:56.837Z"
   },
   {
    "duration": 7,
    "start_time": "2022-08-24T08:38:04.386Z"
   },
   {
    "duration": 5,
    "start_time": "2022-08-24T08:38:05.888Z"
   },
   {
    "duration": 7,
    "start_time": "2022-08-24T08:38:06.734Z"
   },
   {
    "duration": 5,
    "start_time": "2022-08-24T08:38:09.787Z"
   },
   {
    "duration": 8,
    "start_time": "2022-08-24T08:38:12.231Z"
   },
   {
    "duration": 6,
    "start_time": "2022-08-24T08:43:48.648Z"
   },
   {
    "duration": 135,
    "start_time": "2022-08-24T08:44:13.203Z"
   },
   {
    "duration": 150,
    "start_time": "2022-08-24T08:44:21.791Z"
   },
   {
    "duration": 5,
    "start_time": "2022-08-24T08:44:50.504Z"
   },
   {
    "duration": 161,
    "start_time": "2022-08-24T08:44:58.302Z"
   },
   {
    "duration": 139,
    "start_time": "2022-08-24T08:45:41.948Z"
   },
   {
    "duration": 7,
    "start_time": "2022-08-24T08:49:21.143Z"
   },
   {
    "duration": 6,
    "start_time": "2022-08-24T08:49:34.144Z"
   },
   {
    "duration": 7,
    "start_time": "2022-08-24T08:50:01.336Z"
   },
   {
    "duration": 143,
    "start_time": "2022-08-24T08:50:52.459Z"
   },
   {
    "duration": 4,
    "start_time": "2022-08-24T12:08:15.670Z"
   },
   {
    "duration": 6,
    "start_time": "2022-08-24T12:08:28.089Z"
   },
   {
    "duration": 6,
    "start_time": "2022-08-24T12:08:37.058Z"
   },
   {
    "duration": 7,
    "start_time": "2022-08-24T12:08:43.835Z"
   },
   {
    "duration": 123,
    "start_time": "2022-08-24T12:09:20.760Z"
   },
   {
    "duration": 126,
    "start_time": "2022-08-24T12:09:23.592Z"
   },
   {
    "duration": 178,
    "start_time": "2022-08-24T12:09:30.187Z"
   },
   {
    "duration": 125,
    "start_time": "2022-08-24T12:09:37.482Z"
   },
   {
    "duration": 7,
    "start_time": "2022-08-24T12:11:14.197Z"
   },
   {
    "duration": 10,
    "start_time": "2022-08-24T12:11:24.445Z"
   },
   {
    "duration": 11,
    "start_time": "2022-08-24T12:11:46.841Z"
   },
   {
    "duration": 12,
    "start_time": "2022-08-24T12:11:55.263Z"
   },
   {
    "duration": 15,
    "start_time": "2022-08-24T12:12:07.555Z"
   },
   {
    "duration": 125,
    "start_time": "2022-08-24T12:12:31.831Z"
   },
   {
    "duration": 164,
    "start_time": "2022-08-24T12:13:19.575Z"
   },
   {
    "duration": 164,
    "start_time": "2022-08-24T12:13:27.961Z"
   },
   {
    "duration": 162,
    "start_time": "2022-08-24T12:13:33.414Z"
   },
   {
    "duration": 150,
    "start_time": "2022-08-24T12:13:56.174Z"
   },
   {
    "duration": 141,
    "start_time": "2022-08-24T12:13:56.510Z"
   },
   {
    "duration": 132,
    "start_time": "2022-08-24T12:13:59.096Z"
   },
   {
    "duration": 109,
    "start_time": "2022-08-24T12:14:44.837Z"
   },
   {
    "duration": 100,
    "start_time": "2022-08-24T12:14:51.643Z"
   },
   {
    "duration": 159,
    "start_time": "2022-08-24T12:14:56.999Z"
   },
   {
    "duration": 17,
    "start_time": "2022-08-24T12:21:45.835Z"
   },
   {
    "duration": 17,
    "start_time": "2022-08-24T12:21:54.965Z"
   },
   {
    "duration": 17,
    "start_time": "2022-08-24T12:22:24.039Z"
   },
   {
    "duration": 110,
    "start_time": "2022-08-24T12:38:03.156Z"
   },
   {
    "duration": 15,
    "start_time": "2022-08-24T12:45:12.121Z"
   },
   {
    "duration": 16,
    "start_time": "2022-08-24T12:46:01.451Z"
   },
   {
    "duration": 117,
    "start_time": "2022-08-24T12:47:53.112Z"
   },
   {
    "duration": 113,
    "start_time": "2022-08-24T12:47:53.525Z"
   },
   {
    "duration": 98,
    "start_time": "2022-08-24T12:47:54.090Z"
   },
   {
    "duration": 116,
    "start_time": "2022-08-24T12:48:10.618Z"
   },
   {
    "duration": 7,
    "start_time": "2022-08-24T13:05:00.302Z"
   },
   {
    "duration": 6,
    "start_time": "2022-08-24T13:05:07.000Z"
   },
   {
    "duration": 6,
    "start_time": "2022-08-24T13:05:10.834Z"
   },
   {
    "duration": 6,
    "start_time": "2022-08-24T13:05:16.113Z"
   },
   {
    "duration": 8,
    "start_time": "2022-08-24T13:32:04.416Z"
   },
   {
    "duration": 14,
    "start_time": "2022-08-24T13:33:23.981Z"
   },
   {
    "duration": 16,
    "start_time": "2022-08-24T13:34:39.392Z"
   },
   {
    "duration": 101,
    "start_time": "2022-08-24T13:35:50.985Z"
   },
   {
    "duration": 100,
    "start_time": "2022-08-24T13:35:51.336Z"
   },
   {
    "duration": 115,
    "start_time": "2022-08-24T13:35:51.936Z"
   },
   {
    "duration": 67,
    "start_time": "2022-08-24T13:36:08.337Z"
   },
   {
    "duration": 66,
    "start_time": "2022-08-24T13:36:08.960Z"
   },
   {
    "duration": 64,
    "start_time": "2022-08-24T13:36:09.540Z"
   },
   {
    "duration": 340,
    "start_time": "2022-08-24T13:42:26.147Z"
   },
   {
    "duration": 16,
    "start_time": "2022-08-24T13:43:11.134Z"
   },
   {
    "duration": 17,
    "start_time": "2022-08-24T13:43:38.568Z"
   },
   {
    "duration": 403,
    "start_time": "2022-08-24T14:12:53.741Z"
   },
   {
    "duration": 3,
    "start_time": "2022-08-24T14:13:01.929Z"
   },
   {
    "duration": 4,
    "start_time": "2022-08-24T14:15:21.562Z"
   },
   {
    "duration": 6,
    "start_time": "2022-08-24T14:15:46.198Z"
   },
   {
    "duration": 7,
    "start_time": "2022-08-24T14:15:54.941Z"
   },
   {
    "duration": 9,
    "start_time": "2022-08-24T14:21:50.023Z"
   },
   {
    "duration": 9,
    "start_time": "2022-08-24T14:21:56.890Z"
   },
   {
    "duration": 5,
    "start_time": "2022-08-24T14:22:01.458Z"
   },
   {
    "duration": 5,
    "start_time": "2022-08-24T14:22:07.563Z"
   },
   {
    "duration": 4,
    "start_time": "2022-08-24T14:23:31.125Z"
   },
   {
    "duration": 6,
    "start_time": "2022-08-24T14:23:31.457Z"
   },
   {
    "duration": 2,
    "start_time": "2022-08-24T14:23:31.819Z"
   },
   {
    "duration": 3,
    "start_time": "2022-08-24T14:23:33.347Z"
   },
   {
    "duration": 4,
    "start_time": "2022-08-24T14:23:38.338Z"
   },
   {
    "duration": 3,
    "start_time": "2022-08-24T14:23:48.972Z"
   },
   {
    "duration": 4,
    "start_time": "2022-08-24T14:25:03.127Z"
   },
   {
    "duration": 4,
    "start_time": "2022-08-24T14:25:16.482Z"
   },
   {
    "duration": 3,
    "start_time": "2022-08-24T14:25:16.833Z"
   },
   {
    "duration": 2,
    "start_time": "2022-08-24T14:25:17.254Z"
   },
   {
    "duration": 3,
    "start_time": "2022-08-24T14:25:17.688Z"
   },
   {
    "duration": 3,
    "start_time": "2022-08-24T14:25:18.091Z"
   },
   {
    "duration": 3,
    "start_time": "2022-08-24T14:25:36.212Z"
   },
   {
    "duration": 4,
    "start_time": "2022-08-24T14:27:55.143Z"
   },
   {
    "duration": 5,
    "start_time": "2022-08-24T14:27:55.624Z"
   },
   {
    "duration": 2,
    "start_time": "2022-08-24T14:27:56.125Z"
   },
   {
    "duration": 3,
    "start_time": "2022-08-24T14:27:56.530Z"
   },
   {
    "duration": 3,
    "start_time": "2022-08-24T14:27:57.037Z"
   },
   {
    "duration": 3,
    "start_time": "2022-08-24T14:27:57.921Z"
   },
   {
    "duration": 4,
    "start_time": "2022-08-24T14:29:09.231Z"
   },
   {
    "duration": 5,
    "start_time": "2022-08-24T14:29:09.617Z"
   },
   {
    "duration": 4,
    "start_time": "2022-08-24T14:34:37.553Z"
   },
   {
    "duration": 6,
    "start_time": "2022-08-24T14:34:37.951Z"
   },
   {
    "duration": 2,
    "start_time": "2022-08-24T14:34:38.291Z"
   },
   {
    "duration": 3,
    "start_time": "2022-08-24T14:34:38.942Z"
   },
   {
    "duration": 3,
    "start_time": "2022-08-24T14:34:39.388Z"
   },
   {
    "duration": 4,
    "start_time": "2022-08-24T14:34:40.528Z"
   },
   {
    "duration": 33,
    "start_time": "2022-08-24T14:35:24.096Z"
   },
   {
    "duration": 4,
    "start_time": "2022-08-24T14:35:38.800Z"
   },
   {
    "duration": 5,
    "start_time": "2022-08-24T14:36:05.063Z"
   },
   {
    "duration": 3,
    "start_time": "2022-08-24T14:38:07.384Z"
   },
   {
    "duration": 4,
    "start_time": "2022-08-24T14:39:04.772Z"
   },
   {
    "duration": 4,
    "start_time": "2022-08-24T14:39:04.977Z"
   },
   {
    "duration": 4,
    "start_time": "2022-08-24T14:39:05.170Z"
   },
   {
    "duration": 2,
    "start_time": "2022-08-24T14:39:05.420Z"
   },
   {
    "duration": 3,
    "start_time": "2022-08-24T14:39:05.670Z"
   },
   {
    "duration": 4,
    "start_time": "2022-08-24T14:39:05.917Z"
   },
   {
    "duration": 3,
    "start_time": "2022-08-24T14:39:06.689Z"
   },
   {
    "duration": 4,
    "start_time": "2022-08-24T14:39:46.262Z"
   },
   {
    "duration": 5,
    "start_time": "2022-08-24T14:39:47.441Z"
   },
   {
    "duration": 3,
    "start_time": "2022-08-24T14:39:47.795Z"
   },
   {
    "duration": 2,
    "start_time": "2022-08-24T14:39:49.162Z"
   },
   {
    "duration": 3,
    "start_time": "2022-08-24T14:39:50.619Z"
   },
   {
    "duration": 3,
    "start_time": "2022-08-24T14:39:52.378Z"
   },
   {
    "duration": 3,
    "start_time": "2022-08-24T14:39:53.108Z"
   },
   {
    "duration": 4,
    "start_time": "2022-08-24T14:40:03.398Z"
   },
   {
    "duration": 4,
    "start_time": "2022-08-24T14:40:04.796Z"
   },
   {
    "duration": 5,
    "start_time": "2022-08-24T14:40:04.988Z"
   },
   {
    "duration": 3,
    "start_time": "2022-08-24T14:40:05.164Z"
   },
   {
    "duration": 3,
    "start_time": "2022-08-24T14:40:05.588Z"
   },
   {
    "duration": 3,
    "start_time": "2022-08-24T14:40:07.063Z"
   },
   {
    "duration": 3,
    "start_time": "2022-08-24T14:40:08.707Z"
   },
   {
    "duration": 5,
    "start_time": "2022-08-24T14:40:22.342Z"
   },
   {
    "duration": 4,
    "start_time": "2022-08-24T14:42:49.595Z"
   },
   {
    "duration": 5,
    "start_time": "2022-08-24T14:43:04.499Z"
   },
   {
    "duration": 4,
    "start_time": "2022-08-24T14:43:25.553Z"
   },
   {
    "duration": 4,
    "start_time": "2022-08-24T14:43:30.434Z"
   },
   {
    "duration": 4,
    "start_time": "2022-08-24T14:43:34.641Z"
   },
   {
    "duration": 4,
    "start_time": "2022-08-24T14:43:36.162Z"
   },
   {
    "duration": 4,
    "start_time": "2022-08-24T14:43:38.572Z"
   },
   {
    "duration": 4,
    "start_time": "2022-08-24T14:43:38.768Z"
   },
   {
    "duration": 4,
    "start_time": "2022-08-24T14:43:55.812Z"
   },
   {
    "duration": 4,
    "start_time": "2022-08-24T14:44:51.592Z"
   },
   {
    "duration": 2,
    "start_time": "2022-08-24T14:44:52.441Z"
   },
   {
    "duration": 3,
    "start_time": "2022-08-24T14:44:53.931Z"
   },
   {
    "duration": 2,
    "start_time": "2022-08-24T14:44:56.152Z"
   },
   {
    "duration": 3,
    "start_time": "2022-08-24T14:45:09.649Z"
   },
   {
    "duration": 6,
    "start_time": "2022-08-24T14:45:32.694Z"
   },
   {
    "duration": 6,
    "start_time": "2022-08-24T14:46:01.281Z"
   },
   {
    "duration": 6,
    "start_time": "2022-08-24T14:46:12.910Z"
   },
   {
    "duration": 3,
    "start_time": "2022-08-24T14:47:55.746Z"
   },
   {
    "duration": 4,
    "start_time": "2022-08-24T14:49:04.996Z"
   },
   {
    "duration": 4,
    "start_time": "2022-08-24T14:49:56.985Z"
   },
   {
    "duration": 4,
    "start_time": "2022-08-24T14:51:49.452Z"
   },
   {
    "duration": 5,
    "start_time": "2022-08-24T14:55:46.055Z"
   },
   {
    "duration": 1132,
    "start_time": "2022-08-24T14:55:53.089Z"
   },
   {
    "duration": 52,
    "start_time": "2022-08-24T14:55:54.223Z"
   },
   {
    "duration": 13,
    "start_time": "2022-08-24T14:55:54.277Z"
   },
   {
    "duration": 25,
    "start_time": "2022-08-24T14:55:54.292Z"
   },
   {
    "duration": 720,
    "start_time": "2022-08-24T14:55:54.319Z"
   },
   {
    "duration": 3,
    "start_time": "2022-08-24T14:55:55.041Z"
   },
   {
    "duration": 32,
    "start_time": "2022-08-24T14:55:55.046Z"
   },
   {
    "duration": 12,
    "start_time": "2022-08-24T14:55:55.079Z"
   },
   {
    "duration": 8,
    "start_time": "2022-08-24T14:55:55.092Z"
   },
   {
    "duration": 8,
    "start_time": "2022-08-24T14:55:55.102Z"
   },
   {
    "duration": 6,
    "start_time": "2022-08-24T14:55:55.112Z"
   },
   {
    "duration": 11,
    "start_time": "2022-08-24T14:55:55.119Z"
   },
   {
    "duration": 6,
    "start_time": "2022-08-24T14:55:55.131Z"
   },
   {
    "duration": 6,
    "start_time": "2022-08-24T14:55:55.139Z"
   },
   {
    "duration": 132,
    "start_time": "2022-08-24T14:55:55.147Z"
   },
   {
    "duration": 3,
    "start_time": "2022-08-24T14:55:55.280Z"
   },
   {
    "duration": 16,
    "start_time": "2022-08-24T14:55:55.285Z"
   },
   {
    "duration": 19,
    "start_time": "2022-08-24T14:55:55.303Z"
   },
   {
    "duration": 4,
    "start_time": "2022-08-24T14:55:55.324Z"
   },
   {
    "duration": 23,
    "start_time": "2022-08-24T14:55:55.329Z"
   },
   {
    "duration": 4,
    "start_time": "2022-08-24T14:55:55.354Z"
   },
   {
    "duration": 8,
    "start_time": "2022-08-24T14:55:55.359Z"
   },
   {
    "duration": 30,
    "start_time": "2022-08-24T14:55:55.369Z"
   },
   {
    "duration": 21,
    "start_time": "2022-08-24T14:55:55.401Z"
   },
   {
    "duration": 11,
    "start_time": "2022-08-24T14:55:55.424Z"
   },
   {
    "duration": 5,
    "start_time": "2022-08-24T14:55:55.437Z"
   },
   {
    "duration": 9,
    "start_time": "2022-08-24T14:55:55.444Z"
   },
   {
    "duration": 41,
    "start_time": "2022-08-24T14:55:55.458Z"
   },
   {
    "duration": 4,
    "start_time": "2022-08-24T14:55:55.501Z"
   },
   {
    "duration": 7,
    "start_time": "2022-08-24T14:55:55.506Z"
   },
   {
    "duration": 6,
    "start_time": "2022-08-24T14:55:55.515Z"
   },
   {
    "duration": 17,
    "start_time": "2022-08-24T14:55:55.522Z"
   },
   {
    "duration": 6,
    "start_time": "2022-08-24T14:55:55.540Z"
   },
   {
    "duration": 52,
    "start_time": "2022-08-24T14:55:55.547Z"
   },
   {
    "duration": 15,
    "start_time": "2022-08-24T14:55:55.600Z"
   },
   {
    "duration": 7,
    "start_time": "2022-08-24T14:55:55.616Z"
   },
   {
    "duration": 11,
    "start_time": "2022-08-24T14:55:55.625Z"
   },
   {
    "duration": 3,
    "start_time": "2022-08-24T14:55:55.638Z"
   },
   {
    "duration": 15,
    "start_time": "2022-08-24T14:55:55.643Z"
   },
   {
    "duration": 38,
    "start_time": "2022-08-24T14:55:55.660Z"
   },
   {
    "duration": 9,
    "start_time": "2022-08-24T14:55:55.700Z"
   },
   {
    "duration": 6,
    "start_time": "2022-08-24T14:55:55.710Z"
   },
   {
    "duration": 883,
    "start_time": "2022-08-24T14:55:55.718Z"
   },
   {
    "duration": 984,
    "start_time": "2022-08-24T14:55:56.602Z"
   },
   {
    "duration": 12,
    "start_time": "2022-08-24T14:55:57.588Z"
   },
   {
    "duration": 9,
    "start_time": "2022-08-24T14:55:57.602Z"
   },
   {
    "duration": 4,
    "start_time": "2022-08-24T14:55:57.613Z"
   },
   {
    "duration": 1008,
    "start_time": "2022-08-24T14:55:57.618Z"
   },
   {
    "duration": 6,
    "start_time": "2022-08-24T14:55:58.628Z"
   },
   {
    "duration": 23,
    "start_time": "2022-08-24T14:55:58.635Z"
   },
   {
    "duration": 6,
    "start_time": "2022-08-24T14:55:58.660Z"
   },
   {
    "duration": 936,
    "start_time": "2022-08-24T14:55:58.667Z"
   },
   {
    "duration": 7,
    "start_time": "2022-08-24T14:55:59.605Z"
   },
   {
    "duration": 10,
    "start_time": "2022-08-24T14:55:59.614Z"
   },
   {
    "duration": 4,
    "start_time": "2022-08-24T14:55:59.625Z"
   },
   {
    "duration": 1099,
    "start_time": "2022-08-24T14:55:59.631Z"
   },
   {
    "duration": 6,
    "start_time": "2022-08-24T14:56:00.731Z"
   },
   {
    "duration": 21,
    "start_time": "2022-08-24T14:56:00.739Z"
   },
   {
    "duration": 4,
    "start_time": "2022-08-24T14:56:00.762Z"
   },
   {
    "duration": 982,
    "start_time": "2022-08-24T14:56:00.767Z"
   },
   {
    "duration": 5,
    "start_time": "2022-08-24T14:56:01.750Z"
   },
   {
    "duration": 26,
    "start_time": "2022-08-24T14:56:01.756Z"
   },
   {
    "duration": 36,
    "start_time": "2022-08-24T14:56:01.784Z"
   },
   {
    "duration": 26,
    "start_time": "2022-08-24T14:56:01.821Z"
   },
   {
    "duration": 40,
    "start_time": "2022-08-24T14:56:01.848Z"
   },
   {
    "duration": 12,
    "start_time": "2022-08-24T14:56:01.890Z"
   },
   {
    "duration": 13,
    "start_time": "2022-08-24T14:56:01.904Z"
   },
   {
    "duration": 9,
    "start_time": "2022-08-24T14:56:01.918Z"
   },
   {
    "duration": 10,
    "start_time": "2022-08-24T14:56:01.928Z"
   },
   {
    "duration": 12,
    "start_time": "2022-08-24T14:56:01.940Z"
   },
   {
    "duration": 19,
    "start_time": "2022-08-24T14:56:01.954Z"
   },
   {
    "duration": 14,
    "start_time": "2022-08-24T14:56:01.975Z"
   },
   {
    "duration": 391,
    "start_time": "2022-08-24T14:56:01.999Z"
   },
   {
    "duration": 11,
    "start_time": "2022-08-24T14:56:02.392Z"
   },
   {
    "duration": 4,
    "start_time": "2022-08-24T14:56:02.405Z"
   },
   {
    "duration": 46,
    "start_time": "2022-08-24T14:56:02.411Z"
   },
   {
    "duration": 5,
    "start_time": "2022-08-24T14:56:02.459Z"
   },
   {
    "duration": 257,
    "start_time": "2022-08-24T14:56:02.465Z"
   },
   {
    "duration": 150,
    "start_time": "2022-08-24T14:56:02.723Z"
   },
   {
    "duration": 149,
    "start_time": "2022-08-24T14:56:02.875Z"
   },
   {
    "duration": 137,
    "start_time": "2022-08-24T14:56:03.025Z"
   },
   {
    "duration": 152,
    "start_time": "2022-08-24T14:56:03.170Z"
   },
   {
    "duration": 135,
    "start_time": "2022-08-24T14:56:03.323Z"
   },
   {
    "duration": 141,
    "start_time": "2022-08-24T14:56:03.460Z"
   },
   {
    "duration": 8,
    "start_time": "2022-08-24T14:56:03.603Z"
   },
   {
    "duration": 6,
    "start_time": "2022-08-24T14:56:03.612Z"
   },
   {
    "duration": 8,
    "start_time": "2022-08-24T14:56:03.619Z"
   },
   {
    "duration": 150,
    "start_time": "2022-08-24T14:56:03.629Z"
   },
   {
    "duration": 103,
    "start_time": "2022-08-24T14:56:03.781Z"
   },
   {
    "duration": 123,
    "start_time": "2022-08-24T14:56:03.886Z"
   },
   {
    "duration": 117,
    "start_time": "2022-08-24T14:56:04.011Z"
   },
   {
    "duration": 181,
    "start_time": "2022-08-24T14:56:04.129Z"
   },
   {
    "duration": 129,
    "start_time": "2022-08-24T14:56:04.311Z"
   },
   {
    "duration": 156,
    "start_time": "2022-08-24T14:56:04.442Z"
   },
   {
    "duration": 131,
    "start_time": "2022-08-24T14:56:04.599Z"
   },
   {
    "duration": 126,
    "start_time": "2022-08-24T14:56:04.732Z"
   },
   {
    "duration": 238,
    "start_time": "2022-08-24T14:56:04.860Z"
   },
   {
    "duration": 37,
    "start_time": "2022-08-24T14:56:05.100Z"
   },
   {
    "duration": 150,
    "start_time": "2022-08-24T14:56:05.138Z"
   },
   {
    "duration": 5,
    "start_time": "2022-08-24T14:56:05.297Z"
   },
   {
    "duration": 8,
    "start_time": "2022-08-24T14:56:05.303Z"
   },
   {
    "duration": 138,
    "start_time": "2022-08-24T14:56:05.312Z"
   },
   {
    "duration": 4,
    "start_time": "2022-08-24T14:56:05.451Z"
   },
   {
    "duration": 9,
    "start_time": "2022-08-24T14:56:05.456Z"
   },
   {
    "duration": 32,
    "start_time": "2022-08-24T14:56:05.467Z"
   },
   {
    "duration": 141,
    "start_time": "2022-08-24T14:56:05.500Z"
   },
   {
    "duration": 6,
    "start_time": "2022-08-24T14:56:05.642Z"
   },
   {
    "duration": 159,
    "start_time": "2022-08-24T14:56:05.649Z"
   },
   {
    "duration": 16,
    "start_time": "2022-08-24T14:56:05.809Z"
   },
   {
    "duration": 16,
    "start_time": "2022-08-24T14:56:05.827Z"
   },
   {
    "duration": 61,
    "start_time": "2022-08-24T14:56:05.844Z"
   },
   {
    "duration": 187,
    "start_time": "2022-08-24T14:56:05.906Z"
   },
   {
    "duration": 109,
    "start_time": "2022-08-24T14:56:06.094Z"
   },
   {
    "duration": 116,
    "start_time": "2022-08-24T14:56:06.204Z"
   },
   {
    "duration": 15,
    "start_time": "2022-08-24T14:56:06.321Z"
   },
   {
    "duration": 14,
    "start_time": "2022-08-24T14:56:06.337Z"
   },
   {
    "duration": 152,
    "start_time": "2022-08-24T14:56:06.352Z"
   },
   {
    "duration": 118,
    "start_time": "2022-08-24T14:56:06.505Z"
   },
   {
    "duration": 119,
    "start_time": "2022-08-24T14:56:06.624Z"
   },
   {
    "duration": 14,
    "start_time": "2022-08-24T14:56:06.744Z"
   },
   {
    "duration": 47,
    "start_time": "2022-08-24T14:56:06.759Z"
   },
   {
    "duration": 66,
    "start_time": "2022-08-24T14:56:06.807Z"
   },
   {
    "duration": 85,
    "start_time": "2022-08-24T14:56:06.874Z"
   },
   {
    "duration": 80,
    "start_time": "2022-08-24T14:56:06.961Z"
   },
   {
    "duration": 4,
    "start_time": "2022-08-24T14:56:07.042Z"
   },
   {
    "duration": 7,
    "start_time": "2022-08-24T14:56:07.048Z"
   },
   {
    "duration": 8,
    "start_time": "2022-08-24T14:56:07.056Z"
   },
   {
    "duration": 6,
    "start_time": "2022-08-24T14:56:07.065Z"
   },
   {
    "duration": 9,
    "start_time": "2022-08-24T14:56:07.072Z"
   },
   {
    "duration": 5,
    "start_time": "2022-08-24T14:56:07.098Z"
   },
   {
    "duration": 10,
    "start_time": "2022-08-24T14:56:07.105Z"
   },
   {
    "duration": 7,
    "start_time": "2022-08-24T14:56:07.116Z"
   },
   {
    "duration": 7,
    "start_time": "2022-08-24T14:56:07.124Z"
   },
   {
    "duration": 15,
    "start_time": "2022-08-24T14:56:07.133Z"
   },
   {
    "duration": 9,
    "start_time": "2022-08-24T14:56:07.149Z"
   },
   {
    "duration": 6,
    "start_time": "2022-08-24T14:56:07.159Z"
   },
   {
    "duration": 8,
    "start_time": "2022-08-24T14:56:07.166Z"
   },
   {
    "duration": 8,
    "start_time": "2022-08-24T14:56:07.176Z"
   },
   {
    "duration": 17,
    "start_time": "2022-08-24T14:56:07.185Z"
   },
   {
    "duration": 12,
    "start_time": "2022-08-24T14:56:07.203Z"
   },
   {
    "duration": 6,
    "start_time": "2022-08-24T15:11:04.560Z"
   },
   {
    "duration": 4,
    "start_time": "2022-08-24T15:11:15.664Z"
   },
   {
    "duration": 5,
    "start_time": "2022-08-24T15:11:31.318Z"
   },
   {
    "duration": 5,
    "start_time": "2022-08-24T15:15:10.555Z"
   },
   {
    "duration": 141,
    "start_time": "2022-08-24T16:30:28.375Z"
   },
   {
    "duration": 1064,
    "start_time": "2022-08-24T16:30:39.652Z"
   },
   {
    "duration": 53,
    "start_time": "2022-08-24T16:30:40.718Z"
   },
   {
    "duration": 14,
    "start_time": "2022-08-24T16:30:40.772Z"
   },
   {
    "duration": 26,
    "start_time": "2022-08-24T16:30:40.789Z"
   },
   {
    "duration": 667,
    "start_time": "2022-08-24T16:30:40.817Z"
   },
   {
    "duration": 3,
    "start_time": "2022-08-24T16:30:41.486Z"
   },
   {
    "duration": 35,
    "start_time": "2022-08-24T16:30:41.498Z"
   },
   {
    "duration": 11,
    "start_time": "2022-08-24T16:30:41.535Z"
   },
   {
    "duration": 7,
    "start_time": "2022-08-24T16:30:41.547Z"
   },
   {
    "duration": 7,
    "start_time": "2022-08-24T16:30:41.556Z"
   },
   {
    "duration": 9,
    "start_time": "2022-08-24T16:30:41.564Z"
   },
   {
    "duration": 6,
    "start_time": "2022-08-24T16:30:41.574Z"
   },
   {
    "duration": 5,
    "start_time": "2022-08-24T16:30:41.581Z"
   },
   {
    "duration": 9,
    "start_time": "2022-08-24T16:30:41.598Z"
   },
   {
    "duration": 107,
    "start_time": "2022-08-24T16:30:41.609Z"
   },
   {
    "duration": 3,
    "start_time": "2022-08-24T16:30:41.718Z"
   },
   {
    "duration": 10,
    "start_time": "2022-08-24T16:30:41.723Z"
   },
   {
    "duration": 18,
    "start_time": "2022-08-24T16:30:41.735Z"
   },
   {
    "duration": 5,
    "start_time": "2022-08-24T16:30:41.755Z"
   },
   {
    "duration": 42,
    "start_time": "2022-08-24T16:30:41.761Z"
   },
   {
    "duration": 5,
    "start_time": "2022-08-24T16:30:41.804Z"
   },
   {
    "duration": 13,
    "start_time": "2022-08-24T16:30:41.811Z"
   },
   {
    "duration": 13,
    "start_time": "2022-08-24T16:30:41.826Z"
   },
   {
    "duration": 21,
    "start_time": "2022-08-24T16:30:41.841Z"
   },
   {
    "duration": 12,
    "start_time": "2022-08-24T16:30:41.863Z"
   },
   {
    "duration": 5,
    "start_time": "2022-08-24T16:30:41.898Z"
   },
   {
    "duration": 6,
    "start_time": "2022-08-24T16:30:41.904Z"
   },
   {
    "duration": 3,
    "start_time": "2022-08-24T16:30:41.914Z"
   },
   {
    "duration": 5,
    "start_time": "2022-08-24T16:30:41.918Z"
   },
   {
    "duration": 6,
    "start_time": "2022-08-24T16:30:41.925Z"
   },
   {
    "duration": 4,
    "start_time": "2022-08-24T16:30:41.932Z"
   },
   {
    "duration": 17,
    "start_time": "2022-08-24T16:30:41.937Z"
   },
   {
    "duration": 5,
    "start_time": "2022-08-24T16:30:41.956Z"
   },
   {
    "duration": 19,
    "start_time": "2022-08-24T16:30:41.999Z"
   },
   {
    "duration": 14,
    "start_time": "2022-08-24T16:30:42.020Z"
   },
   {
    "duration": 11,
    "start_time": "2022-08-24T16:30:42.036Z"
   },
   {
    "duration": 11,
    "start_time": "2022-08-24T16:30:42.048Z"
   },
   {
    "duration": 39,
    "start_time": "2022-08-24T16:30:42.060Z"
   },
   {
    "duration": 11,
    "start_time": "2022-08-24T16:30:42.100Z"
   },
   {
    "duration": 5,
    "start_time": "2022-08-24T16:30:42.113Z"
   },
   {
    "duration": 10,
    "start_time": "2022-08-24T16:30:42.119Z"
   },
   {
    "duration": 4,
    "start_time": "2022-08-24T16:30:42.130Z"
   },
   {
    "duration": 884,
    "start_time": "2022-08-24T16:30:42.136Z"
   },
   {
    "duration": 997,
    "start_time": "2022-08-24T16:30:43.021Z"
   },
   {
    "duration": 7,
    "start_time": "2022-08-24T16:30:44.019Z"
   },
   {
    "duration": 18,
    "start_time": "2022-08-24T16:30:44.027Z"
   },
   {
    "duration": 5,
    "start_time": "2022-08-24T16:30:44.046Z"
   },
   {
    "duration": 1061,
    "start_time": "2022-08-24T16:30:44.052Z"
   },
   {
    "duration": 6,
    "start_time": "2022-08-24T16:30:45.114Z"
   },
   {
    "duration": 20,
    "start_time": "2022-08-24T16:30:45.122Z"
   },
   {
    "duration": 4,
    "start_time": "2022-08-24T16:30:45.144Z"
   },
   {
    "duration": 934,
    "start_time": "2022-08-24T16:30:45.150Z"
   },
   {
    "duration": 7,
    "start_time": "2022-08-24T16:30:46.085Z"
   },
   {
    "duration": 16,
    "start_time": "2022-08-24T16:30:46.093Z"
   },
   {
    "duration": 6,
    "start_time": "2022-08-24T16:30:46.110Z"
   },
   {
    "duration": 1103,
    "start_time": "2022-08-24T16:30:46.117Z"
   },
   {
    "duration": 7,
    "start_time": "2022-08-24T16:30:47.221Z"
   },
   {
    "duration": 11,
    "start_time": "2022-08-24T16:30:47.229Z"
   },
   {
    "duration": 5,
    "start_time": "2022-08-24T16:30:47.241Z"
   },
   {
    "duration": 1007,
    "start_time": "2022-08-24T16:30:47.247Z"
   },
   {
    "duration": 5,
    "start_time": "2022-08-24T16:30:48.255Z"
   },
   {
    "duration": 6,
    "start_time": "2022-08-24T16:30:48.261Z"
   },
   {
    "duration": 5,
    "start_time": "2022-08-24T16:30:48.269Z"
   },
   {
    "duration": 4,
    "start_time": "2022-08-24T16:30:48.298Z"
   },
   {
    "duration": 7,
    "start_time": "2022-08-24T16:30:48.304Z"
   },
   {
    "duration": 7,
    "start_time": "2022-08-24T16:30:48.313Z"
   },
   {
    "duration": 7,
    "start_time": "2022-08-24T16:30:48.321Z"
   },
   {
    "duration": 8,
    "start_time": "2022-08-24T16:30:48.329Z"
   },
   {
    "duration": 6,
    "start_time": "2022-08-24T16:30:48.338Z"
   },
   {
    "duration": 8,
    "start_time": "2022-08-24T16:30:48.345Z"
   },
   {
    "duration": 49,
    "start_time": "2022-08-24T16:30:48.354Z"
   },
   {
    "duration": 7,
    "start_time": "2022-08-24T16:30:48.404Z"
   },
   {
    "duration": 386,
    "start_time": "2022-08-24T16:30:48.412Z"
   },
   {
    "duration": 300,
    "start_time": "2022-08-24T16:30:48.799Z"
   },
   {
    "duration": 5,
    "start_time": "2022-08-24T16:30:49.100Z"
   },
   {
    "duration": 47,
    "start_time": "2022-08-24T16:30:49.106Z"
   },
   {
    "duration": 5,
    "start_time": "2022-08-24T16:30:49.154Z"
   },
   {
    "duration": 160,
    "start_time": "2022-08-24T16:30:49.160Z"
   },
   {
    "duration": 149,
    "start_time": "2022-08-24T16:30:49.322Z"
   },
   {
    "duration": 144,
    "start_time": "2022-08-24T16:30:49.472Z"
   },
   {
    "duration": 143,
    "start_time": "2022-08-24T16:30:49.617Z"
   },
   {
    "duration": 152,
    "start_time": "2022-08-24T16:30:49.766Z"
   },
   {
    "duration": 146,
    "start_time": "2022-08-24T16:30:49.919Z"
   },
   {
    "duration": 141,
    "start_time": "2022-08-24T16:30:50.067Z"
   },
   {
    "duration": 7,
    "start_time": "2022-08-24T16:30:50.210Z"
   },
   {
    "duration": 4,
    "start_time": "2022-08-24T16:30:50.219Z"
   },
   {
    "duration": 7,
    "start_time": "2022-08-24T16:30:50.225Z"
   },
   {
    "duration": 156,
    "start_time": "2022-08-24T16:30:50.233Z"
   },
   {
    "duration": 97,
    "start_time": "2022-08-24T16:30:50.391Z"
   },
   {
    "duration": 177,
    "start_time": "2022-08-24T16:30:50.498Z"
   },
   {
    "duration": 122,
    "start_time": "2022-08-24T16:30:50.676Z"
   },
   {
    "duration": 121,
    "start_time": "2022-08-24T16:30:50.799Z"
   },
   {
    "duration": 122,
    "start_time": "2022-08-24T16:30:50.921Z"
   },
   {
    "duration": 124,
    "start_time": "2022-08-24T16:30:51.044Z"
   },
   {
    "duration": 129,
    "start_time": "2022-08-24T16:30:51.170Z"
   },
   {
    "duration": 129,
    "start_time": "2022-08-24T16:30:51.301Z"
   },
   {
    "duration": 218,
    "start_time": "2022-08-24T16:30:51.432Z"
   },
   {
    "duration": 52,
    "start_time": "2022-08-24T16:30:51.652Z"
   },
   {
    "duration": 135,
    "start_time": "2022-08-24T16:30:51.705Z"
   },
   {
    "duration": 4,
    "start_time": "2022-08-24T16:30:51.843Z"
   },
   {
    "duration": 11,
    "start_time": "2022-08-24T16:30:51.849Z"
   },
   {
    "duration": 152,
    "start_time": "2022-08-24T16:30:51.862Z"
   },
   {
    "duration": 5,
    "start_time": "2022-08-24T16:30:52.015Z"
   },
   {
    "duration": 11,
    "start_time": "2022-08-24T16:30:52.021Z"
   },
   {
    "duration": 13,
    "start_time": "2022-08-24T16:30:52.034Z"
   },
   {
    "duration": 208,
    "start_time": "2022-08-24T16:30:52.049Z"
   },
   {
    "duration": 5,
    "start_time": "2022-08-24T16:30:52.259Z"
   },
   {
    "duration": 160,
    "start_time": "2022-08-24T16:30:52.266Z"
   },
   {
    "duration": 19,
    "start_time": "2022-08-24T16:30:52.428Z"
   },
   {
    "duration": 53,
    "start_time": "2022-08-24T16:30:52.448Z"
   },
   {
    "duration": 19,
    "start_time": "2022-08-24T16:30:52.502Z"
   },
   {
    "duration": 139,
    "start_time": "2022-08-24T16:30:52.523Z"
   },
   {
    "duration": 114,
    "start_time": "2022-08-24T16:30:52.664Z"
   },
   {
    "duration": 107,
    "start_time": "2022-08-24T16:30:52.780Z"
   },
   {
    "duration": 24,
    "start_time": "2022-08-24T16:30:52.889Z"
   },
   {
    "duration": 17,
    "start_time": "2022-08-24T16:30:52.915Z"
   },
   {
    "duration": 160,
    "start_time": "2022-08-24T16:30:52.933Z"
   },
   {
    "duration": 120,
    "start_time": "2022-08-24T16:30:53.094Z"
   },
   {
    "duration": 119,
    "start_time": "2022-08-24T16:30:53.215Z"
   },
   {
    "duration": 14,
    "start_time": "2022-08-24T16:30:53.336Z"
   },
   {
    "duration": 48,
    "start_time": "2022-08-24T16:30:53.351Z"
   },
   {
    "duration": 67,
    "start_time": "2022-08-24T16:30:53.400Z"
   },
   {
    "duration": 80,
    "start_time": "2022-08-24T16:30:53.468Z"
   },
   {
    "duration": 73,
    "start_time": "2022-08-24T16:30:53.550Z"
   },
   {
    "duration": 4,
    "start_time": "2022-08-24T16:30:53.625Z"
   },
   {
    "duration": 7,
    "start_time": "2022-08-24T16:30:53.631Z"
   },
   {
    "duration": 5,
    "start_time": "2022-08-24T16:30:53.640Z"
   },
   {
    "duration": 4,
    "start_time": "2022-08-24T16:30:53.646Z"
   },
   {
    "duration": 7,
    "start_time": "2022-08-24T16:30:53.651Z"
   },
   {
    "duration": 8,
    "start_time": "2022-08-24T16:30:53.659Z"
   },
   {
    "duration": 31,
    "start_time": "2022-08-24T16:30:53.668Z"
   },
   {
    "duration": 6,
    "start_time": "2022-08-24T16:30:53.701Z"
   },
   {
    "duration": 6,
    "start_time": "2022-08-24T16:30:53.708Z"
   },
   {
    "duration": 7,
    "start_time": "2022-08-24T16:30:53.715Z"
   },
   {
    "duration": 7,
    "start_time": "2022-08-24T16:30:53.724Z"
   },
   {
    "duration": 4,
    "start_time": "2022-08-24T16:30:53.732Z"
   },
   {
    "duration": 6,
    "start_time": "2022-08-24T16:30:53.737Z"
   },
   {
    "duration": 7,
    "start_time": "2022-08-24T16:30:53.744Z"
   },
   {
    "duration": 8,
    "start_time": "2022-08-24T16:30:53.752Z"
   },
   {
    "duration": 37,
    "start_time": "2022-08-24T16:30:53.762Z"
   },
   {
    "duration": 144,
    "start_time": "2022-08-24T16:31:10.299Z"
   },
   {
    "duration": 1092,
    "start_time": "2022-08-24T16:31:22.824Z"
   },
   {
    "duration": 55,
    "start_time": "2022-08-24T16:31:23.918Z"
   },
   {
    "duration": 14,
    "start_time": "2022-08-24T16:31:23.974Z"
   },
   {
    "duration": 22,
    "start_time": "2022-08-24T16:31:23.990Z"
   },
   {
    "duration": 714,
    "start_time": "2022-08-24T16:31:24.014Z"
   },
   {
    "duration": 3,
    "start_time": "2022-08-24T16:31:24.730Z"
   },
   {
    "duration": 47,
    "start_time": "2022-08-24T16:31:24.735Z"
   },
   {
    "duration": 13,
    "start_time": "2022-08-24T16:31:24.783Z"
   },
   {
    "duration": 11,
    "start_time": "2022-08-24T16:31:24.798Z"
   },
   {
    "duration": 9,
    "start_time": "2022-08-24T16:31:24.811Z"
   },
   {
    "duration": 11,
    "start_time": "2022-08-24T16:31:24.822Z"
   },
   {
    "duration": 5,
    "start_time": "2022-08-24T16:31:24.835Z"
   },
   {
    "duration": 11,
    "start_time": "2022-08-24T16:31:24.841Z"
   },
   {
    "duration": 16,
    "start_time": "2022-08-24T16:31:24.854Z"
   },
   {
    "duration": 120,
    "start_time": "2022-08-24T16:31:24.871Z"
   },
   {
    "duration": 2,
    "start_time": "2022-08-24T16:31:24.993Z"
   },
   {
    "duration": 12,
    "start_time": "2022-08-24T16:31:24.998Z"
   },
   {
    "duration": 19,
    "start_time": "2022-08-24T16:31:25.012Z"
   },
   {
    "duration": 4,
    "start_time": "2022-08-24T16:31:25.033Z"
   },
   {
    "duration": 19,
    "start_time": "2022-08-24T16:31:25.039Z"
   },
   {
    "duration": 5,
    "start_time": "2022-08-24T16:31:25.059Z"
   },
   {
    "duration": 4,
    "start_time": "2022-08-24T16:31:25.098Z"
   },
   {
    "duration": 11,
    "start_time": "2022-08-24T16:31:25.104Z"
   },
   {
    "duration": 19,
    "start_time": "2022-08-24T16:31:25.116Z"
   },
   {
    "duration": 12,
    "start_time": "2022-08-24T16:31:25.136Z"
   },
   {
    "duration": 4,
    "start_time": "2022-08-24T16:31:25.149Z"
   },
   {
    "duration": 10,
    "start_time": "2022-08-24T16:31:25.155Z"
   },
   {
    "duration": 29,
    "start_time": "2022-08-24T16:31:25.169Z"
   },
   {
    "duration": 3,
    "start_time": "2022-08-24T16:31:25.200Z"
   },
   {
    "duration": 7,
    "start_time": "2022-08-24T16:31:25.205Z"
   },
   {
    "duration": 5,
    "start_time": "2022-08-24T16:31:25.214Z"
   },
   {
    "duration": 19,
    "start_time": "2022-08-24T16:31:25.221Z"
   },
   {
    "duration": 6,
    "start_time": "2022-08-24T16:31:25.241Z"
   },
   {
    "duration": 57,
    "start_time": "2022-08-24T16:31:25.249Z"
   },
   {
    "duration": 14,
    "start_time": "2022-08-24T16:31:25.308Z"
   },
   {
    "duration": 6,
    "start_time": "2022-08-24T16:31:25.324Z"
   },
   {
    "duration": 11,
    "start_time": "2022-08-24T16:31:25.331Z"
   },
   {
    "duration": 3,
    "start_time": "2022-08-24T16:31:25.344Z"
   },
   {
    "duration": 9,
    "start_time": "2022-08-24T16:31:25.349Z"
   },
   {
    "duration": 4,
    "start_time": "2022-08-24T16:31:25.398Z"
   },
   {
    "duration": 13,
    "start_time": "2022-08-24T16:31:25.403Z"
   },
   {
    "duration": 5,
    "start_time": "2022-08-24T16:31:25.417Z"
   },
   {
    "duration": 887,
    "start_time": "2022-08-24T16:31:25.423Z"
   },
   {
    "duration": 1000,
    "start_time": "2022-08-24T16:31:26.312Z"
   },
   {
    "duration": 8,
    "start_time": "2022-08-24T16:31:27.315Z"
   },
   {
    "duration": 27,
    "start_time": "2022-08-24T16:31:27.324Z"
   },
   {
    "duration": 13,
    "start_time": "2022-08-24T16:31:27.353Z"
   },
   {
    "duration": 995,
    "start_time": "2022-08-24T16:31:27.368Z"
   },
   {
    "duration": 8,
    "start_time": "2022-08-24T16:31:28.365Z"
   },
   {
    "duration": 25,
    "start_time": "2022-08-24T16:31:28.374Z"
   },
   {
    "duration": 10,
    "start_time": "2022-08-24T16:31:28.400Z"
   },
   {
    "duration": 918,
    "start_time": "2022-08-24T16:31:28.412Z"
   },
   {
    "duration": 7,
    "start_time": "2022-08-24T16:31:29.331Z"
   },
   {
    "duration": 8,
    "start_time": "2022-08-24T16:31:29.339Z"
   },
   {
    "duration": 5,
    "start_time": "2022-08-24T16:31:29.348Z"
   },
   {
    "duration": 1088,
    "start_time": "2022-08-24T16:31:29.355Z"
   },
   {
    "duration": 7,
    "start_time": "2022-08-24T16:31:30.444Z"
   },
   {
    "duration": 51,
    "start_time": "2022-08-24T16:31:30.453Z"
   },
   {
    "duration": 42,
    "start_time": "2022-08-24T16:31:30.506Z"
   },
   {
    "duration": 1011,
    "start_time": "2022-08-24T16:31:30.549Z"
   },
   {
    "duration": 4,
    "start_time": "2022-08-24T16:31:31.561Z"
   },
   {
    "duration": 14,
    "start_time": "2022-08-24T16:31:31.566Z"
   },
   {
    "duration": 16,
    "start_time": "2022-08-24T16:31:31.582Z"
   },
   {
    "duration": 16,
    "start_time": "2022-08-24T16:31:31.599Z"
   },
   {
    "duration": 27,
    "start_time": "2022-08-24T16:31:31.616Z"
   },
   {
    "duration": 13,
    "start_time": "2022-08-24T16:31:31.644Z"
   },
   {
    "duration": 29,
    "start_time": "2022-08-24T16:31:31.658Z"
   },
   {
    "duration": 18,
    "start_time": "2022-08-24T16:31:31.689Z"
   },
   {
    "duration": 22,
    "start_time": "2022-08-24T16:31:31.709Z"
   },
   {
    "duration": 21,
    "start_time": "2022-08-24T16:31:31.733Z"
   },
   {
    "duration": 21,
    "start_time": "2022-08-24T16:31:31.756Z"
   },
   {
    "duration": 28,
    "start_time": "2022-08-24T16:31:31.779Z"
   },
   {
    "duration": 401,
    "start_time": "2022-08-24T16:31:31.809Z"
   },
   {
    "duration": 331,
    "start_time": "2022-08-24T16:31:32.212Z"
   },
   {
    "duration": 5,
    "start_time": "2022-08-24T16:31:32.544Z"
   },
   {
    "duration": 65,
    "start_time": "2022-08-24T16:31:32.550Z"
   },
   {
    "duration": 5,
    "start_time": "2022-08-24T16:31:32.617Z"
   },
   {
    "duration": 151,
    "start_time": "2022-08-24T16:31:32.623Z"
   },
   {
    "duration": 153,
    "start_time": "2022-08-24T16:31:32.776Z"
   },
   {
    "duration": 146,
    "start_time": "2022-08-24T16:31:32.930Z"
   },
   {
    "duration": 142,
    "start_time": "2022-08-24T16:31:33.078Z"
   },
   {
    "duration": 147,
    "start_time": "2022-08-24T16:31:33.227Z"
   },
   {
    "duration": 145,
    "start_time": "2022-08-24T16:31:33.376Z"
   },
   {
    "duration": 141,
    "start_time": "2022-08-24T16:31:33.523Z"
   },
   {
    "duration": 9,
    "start_time": "2022-08-24T16:31:33.666Z"
   },
   {
    "duration": 23,
    "start_time": "2022-08-24T16:31:33.677Z"
   },
   {
    "duration": 9,
    "start_time": "2022-08-24T16:31:33.701Z"
   },
   {
    "duration": 146,
    "start_time": "2022-08-24T16:31:33.711Z"
   },
   {
    "duration": 102,
    "start_time": "2022-08-24T16:31:33.859Z"
   },
   {
    "duration": 179,
    "start_time": "2022-08-24T16:31:33.962Z"
   },
   {
    "duration": 123,
    "start_time": "2022-08-24T16:31:34.142Z"
   },
   {
    "duration": 115,
    "start_time": "2022-08-24T16:31:34.266Z"
   },
   {
    "duration": 159,
    "start_time": "2022-08-24T16:31:34.384Z"
   },
   {
    "duration": 122,
    "start_time": "2022-08-24T16:31:34.544Z"
   },
   {
    "duration": 133,
    "start_time": "2022-08-24T16:31:34.667Z"
   },
   {
    "duration": 139,
    "start_time": "2022-08-24T16:31:34.802Z"
   },
   {
    "duration": 231,
    "start_time": "2022-08-24T16:31:34.943Z"
   },
   {
    "duration": 51,
    "start_time": "2022-08-24T16:31:35.176Z"
   },
   {
    "duration": 148,
    "start_time": "2022-08-24T16:31:35.229Z"
   },
   {
    "duration": 4,
    "start_time": "2022-08-24T16:31:35.379Z"
   },
   {
    "duration": 16,
    "start_time": "2022-08-24T16:31:35.385Z"
   },
   {
    "duration": 142,
    "start_time": "2022-08-24T16:31:35.403Z"
   },
   {
    "duration": 5,
    "start_time": "2022-08-24T16:31:35.546Z"
   },
   {
    "duration": 8,
    "start_time": "2022-08-24T16:31:35.552Z"
   },
   {
    "duration": 9,
    "start_time": "2022-08-24T16:31:35.561Z"
   },
   {
    "duration": 218,
    "start_time": "2022-08-24T16:31:35.571Z"
   },
   {
    "duration": 11,
    "start_time": "2022-08-24T16:31:35.791Z"
   },
   {
    "duration": 164,
    "start_time": "2022-08-24T16:31:35.803Z"
   },
   {
    "duration": 32,
    "start_time": "2022-08-24T16:31:35.969Z"
   },
   {
    "duration": 15,
    "start_time": "2022-08-24T16:31:36.003Z"
   },
   {
    "duration": 13,
    "start_time": "2022-08-24T16:31:36.019Z"
   },
   {
    "duration": 145,
    "start_time": "2022-08-24T16:31:36.033Z"
   },
   {
    "duration": 110,
    "start_time": "2022-08-24T16:31:36.180Z"
   },
   {
    "duration": 100,
    "start_time": "2022-08-24T16:31:36.300Z"
   },
   {
    "duration": 16,
    "start_time": "2022-08-24T16:31:36.401Z"
   },
   {
    "duration": 15,
    "start_time": "2022-08-24T16:31:36.419Z"
   },
   {
    "duration": 154,
    "start_time": "2022-08-24T16:31:36.435Z"
   },
   {
    "duration": 123,
    "start_time": "2022-08-24T16:31:36.590Z"
   },
   {
    "duration": 124,
    "start_time": "2022-08-24T16:31:36.715Z"
   },
   {
    "duration": 14,
    "start_time": "2022-08-24T16:31:36.841Z"
   },
   {
    "duration": 49,
    "start_time": "2022-08-24T16:31:36.856Z"
   },
   {
    "duration": 72,
    "start_time": "2022-08-24T16:31:36.907Z"
   },
   {
    "duration": 69,
    "start_time": "2022-08-24T16:31:36.998Z"
   },
   {
    "duration": 84,
    "start_time": "2022-08-24T16:31:37.069Z"
   },
   {
    "duration": 4,
    "start_time": "2022-08-24T16:31:37.155Z"
   },
   {
    "duration": 12,
    "start_time": "2022-08-24T16:31:37.161Z"
   },
   {
    "duration": 7,
    "start_time": "2022-08-24T16:31:37.175Z"
   },
   {
    "duration": 15,
    "start_time": "2022-08-24T16:31:37.183Z"
   },
   {
    "duration": 9,
    "start_time": "2022-08-24T16:31:37.200Z"
   },
   {
    "duration": 5,
    "start_time": "2022-08-24T16:31:37.210Z"
   },
   {
    "duration": 8,
    "start_time": "2022-08-24T16:31:37.217Z"
   },
   {
    "duration": 4,
    "start_time": "2022-08-24T16:31:37.227Z"
   },
   {
    "duration": 7,
    "start_time": "2022-08-24T16:31:37.233Z"
   },
   {
    "duration": 5,
    "start_time": "2022-08-24T16:31:37.241Z"
   },
   {
    "duration": 6,
    "start_time": "2022-08-24T16:31:37.247Z"
   },
   {
    "duration": 8,
    "start_time": "2022-08-24T16:31:37.254Z"
   },
   {
    "duration": 5,
    "start_time": "2022-08-24T16:31:37.298Z"
   },
   {
    "duration": 3,
    "start_time": "2022-08-24T16:31:37.304Z"
   },
   {
    "duration": 5,
    "start_time": "2022-08-24T16:31:37.309Z"
   },
   {
    "duration": 4,
    "start_time": "2022-08-24T16:31:37.315Z"
   },
   {
    "duration": 1072,
    "start_time": "2022-08-24T16:33:02.659Z"
   },
   {
    "duration": 56,
    "start_time": "2022-08-24T16:33:03.733Z"
   },
   {
    "duration": 14,
    "start_time": "2022-08-24T16:33:03.791Z"
   },
   {
    "duration": 21,
    "start_time": "2022-08-24T16:33:03.807Z"
   },
   {
    "duration": 705,
    "start_time": "2022-08-24T16:33:03.829Z"
   },
   {
    "duration": 5,
    "start_time": "2022-08-24T16:33:04.536Z"
   },
   {
    "duration": 38,
    "start_time": "2022-08-24T16:33:04.543Z"
   },
   {
    "duration": 11,
    "start_time": "2022-08-24T16:33:04.582Z"
   },
   {
    "duration": 9,
    "start_time": "2022-08-24T16:33:04.594Z"
   },
   {
    "duration": 18,
    "start_time": "2022-08-24T16:33:04.606Z"
   },
   {
    "duration": 7,
    "start_time": "2022-08-24T16:33:04.626Z"
   },
   {
    "duration": 6,
    "start_time": "2022-08-24T16:33:04.635Z"
   },
   {
    "duration": 15,
    "start_time": "2022-08-24T16:33:04.642Z"
   },
   {
    "duration": 10,
    "start_time": "2022-08-24T16:33:04.659Z"
   },
   {
    "duration": 105,
    "start_time": "2022-08-24T16:33:04.670Z"
   },
   {
    "duration": 3,
    "start_time": "2022-08-24T16:33:04.777Z"
   },
   {
    "duration": 18,
    "start_time": "2022-08-24T16:33:04.781Z"
   },
   {
    "duration": 19,
    "start_time": "2022-08-24T16:33:04.801Z"
   },
   {
    "duration": 4,
    "start_time": "2022-08-24T16:33:04.821Z"
   },
   {
    "duration": 23,
    "start_time": "2022-08-24T16:33:04.827Z"
   },
   {
    "duration": 5,
    "start_time": "2022-08-24T16:33:04.851Z"
   },
   {
    "duration": 6,
    "start_time": "2022-08-24T16:33:04.857Z"
   },
   {
    "duration": 38,
    "start_time": "2022-08-24T16:33:04.865Z"
   },
   {
    "duration": 22,
    "start_time": "2022-08-24T16:33:04.904Z"
   },
   {
    "duration": 12,
    "start_time": "2022-08-24T16:33:04.928Z"
   },
   {
    "duration": 8,
    "start_time": "2022-08-24T16:33:04.941Z"
   },
   {
    "duration": 9,
    "start_time": "2022-08-24T16:33:04.951Z"
   },
   {
    "duration": 4,
    "start_time": "2022-08-24T16:33:04.998Z"
   },
   {
    "duration": 10,
    "start_time": "2022-08-24T16:33:05.003Z"
   },
   {
    "duration": 10,
    "start_time": "2022-08-24T16:33:05.014Z"
   },
   {
    "duration": 9,
    "start_time": "2022-08-24T16:33:05.026Z"
   },
   {
    "duration": 21,
    "start_time": "2022-08-24T16:33:05.037Z"
   },
   {
    "duration": 6,
    "start_time": "2022-08-24T16:33:05.060Z"
   },
   {
    "duration": 40,
    "start_time": "2022-08-24T16:33:05.068Z"
   },
   {
    "duration": 16,
    "start_time": "2022-08-24T16:33:05.110Z"
   },
   {
    "duration": 7,
    "start_time": "2022-08-24T16:33:05.127Z"
   },
   {
    "duration": 16,
    "start_time": "2022-08-24T16:33:05.135Z"
   },
   {
    "duration": 6,
    "start_time": "2022-08-24T16:33:05.153Z"
   },
   {
    "duration": 38,
    "start_time": "2022-08-24T16:33:05.161Z"
   },
   {
    "duration": 4,
    "start_time": "2022-08-24T16:33:05.201Z"
   },
   {
    "duration": 12,
    "start_time": "2022-08-24T16:33:05.207Z"
   },
   {
    "duration": 5,
    "start_time": "2022-08-24T16:33:05.220Z"
   },
   {
    "duration": 888,
    "start_time": "2022-08-24T16:33:05.226Z"
   },
   {
    "duration": 999,
    "start_time": "2022-08-24T16:33:06.116Z"
   },
   {
    "duration": 7,
    "start_time": "2022-08-24T16:33:07.117Z"
   },
   {
    "duration": 13,
    "start_time": "2022-08-24T16:33:07.125Z"
   },
   {
    "duration": 6,
    "start_time": "2022-08-24T16:33:07.139Z"
   },
   {
    "duration": 1005,
    "start_time": "2022-08-24T16:33:07.146Z"
   },
   {
    "duration": 7,
    "start_time": "2022-08-24T16:33:08.152Z"
   },
   {
    "duration": 11,
    "start_time": "2022-08-24T16:33:08.160Z"
   },
   {
    "duration": 5,
    "start_time": "2022-08-24T16:33:08.173Z"
   },
   {
    "duration": 923,
    "start_time": "2022-08-24T16:33:08.199Z"
   },
   {
    "duration": 6,
    "start_time": "2022-08-24T16:33:09.124Z"
   },
   {
    "duration": 10,
    "start_time": "2022-08-24T16:33:09.132Z"
   },
   {
    "duration": 9,
    "start_time": "2022-08-24T16:33:09.144Z"
   },
   {
    "duration": 1087,
    "start_time": "2022-08-24T16:33:09.154Z"
   },
   {
    "duration": 7,
    "start_time": "2022-08-24T16:33:10.242Z"
   },
   {
    "duration": 9,
    "start_time": "2022-08-24T16:33:10.250Z"
   },
   {
    "duration": 4,
    "start_time": "2022-08-24T16:33:10.261Z"
   },
   {
    "duration": 1059,
    "start_time": "2022-08-24T16:33:10.266Z"
   },
   {
    "duration": 4,
    "start_time": "2022-08-24T16:33:11.326Z"
   },
   {
    "duration": 5,
    "start_time": "2022-08-24T16:33:11.332Z"
   },
   {
    "duration": 6,
    "start_time": "2022-08-24T16:33:11.338Z"
   },
   {
    "duration": 5,
    "start_time": "2022-08-24T16:33:11.346Z"
   },
   {
    "duration": 9,
    "start_time": "2022-08-24T16:33:11.353Z"
   },
   {
    "duration": 10,
    "start_time": "2022-08-24T16:33:11.398Z"
   },
   {
    "duration": 12,
    "start_time": "2022-08-24T16:33:11.410Z"
   },
   {
    "duration": 6,
    "start_time": "2022-08-24T16:33:11.424Z"
   },
   {
    "duration": 10,
    "start_time": "2022-08-24T16:33:11.432Z"
   },
   {
    "duration": 13,
    "start_time": "2022-08-24T16:33:11.443Z"
   },
   {
    "duration": 42,
    "start_time": "2022-08-24T16:33:11.457Z"
   },
   {
    "duration": 6,
    "start_time": "2022-08-24T16:33:11.501Z"
   },
   {
    "duration": 389,
    "start_time": "2022-08-24T16:33:11.509Z"
   },
   {
    "duration": 300,
    "start_time": "2022-08-24T16:33:11.900Z"
   },
   {
    "duration": 0,
    "start_time": "2022-08-24T16:33:12.203Z"
   },
   {
    "duration": 0,
    "start_time": "2022-08-24T16:33:12.204Z"
   },
   {
    "duration": 0,
    "start_time": "2022-08-24T16:33:12.205Z"
   },
   {
    "duration": 0,
    "start_time": "2022-08-24T16:33:12.206Z"
   },
   {
    "duration": 0,
    "start_time": "2022-08-24T16:33:12.206Z"
   },
   {
    "duration": 0,
    "start_time": "2022-08-24T16:33:12.207Z"
   },
   {
    "duration": 0,
    "start_time": "2022-08-24T16:33:12.208Z"
   },
   {
    "duration": 0,
    "start_time": "2022-08-24T16:33:12.209Z"
   },
   {
    "duration": 0,
    "start_time": "2022-08-24T16:33:12.210Z"
   },
   {
    "duration": 0,
    "start_time": "2022-08-24T16:33:12.211Z"
   },
   {
    "duration": 0,
    "start_time": "2022-08-24T16:33:12.212Z"
   },
   {
    "duration": 0,
    "start_time": "2022-08-24T16:33:12.212Z"
   },
   {
    "duration": 0,
    "start_time": "2022-08-24T16:33:12.213Z"
   },
   {
    "duration": 0,
    "start_time": "2022-08-24T16:33:12.214Z"
   },
   {
    "duration": 0,
    "start_time": "2022-08-24T16:33:12.215Z"
   },
   {
    "duration": 0,
    "start_time": "2022-08-24T16:33:12.216Z"
   },
   {
    "duration": 0,
    "start_time": "2022-08-24T16:33:12.217Z"
   },
   {
    "duration": 0,
    "start_time": "2022-08-24T16:33:12.218Z"
   },
   {
    "duration": 0,
    "start_time": "2022-08-24T16:33:12.219Z"
   },
   {
    "duration": 0,
    "start_time": "2022-08-24T16:33:12.220Z"
   },
   {
    "duration": 0,
    "start_time": "2022-08-24T16:33:12.221Z"
   },
   {
    "duration": 0,
    "start_time": "2022-08-24T16:33:12.222Z"
   },
   {
    "duration": 0,
    "start_time": "2022-08-24T16:33:12.223Z"
   },
   {
    "duration": 0,
    "start_time": "2022-08-24T16:33:12.223Z"
   },
   {
    "duration": 0,
    "start_time": "2022-08-24T16:33:12.224Z"
   },
   {
    "duration": 0,
    "start_time": "2022-08-24T16:33:12.225Z"
   },
   {
    "duration": 0,
    "start_time": "2022-08-24T16:33:12.226Z"
   },
   {
    "duration": 0,
    "start_time": "2022-08-24T16:33:12.227Z"
   },
   {
    "duration": 0,
    "start_time": "2022-08-24T16:33:12.228Z"
   },
   {
    "duration": 1,
    "start_time": "2022-08-24T16:33:12.228Z"
   },
   {
    "duration": 0,
    "start_time": "2022-08-24T16:33:12.230Z"
   },
   {
    "duration": 0,
    "start_time": "2022-08-24T16:33:12.230Z"
   },
   {
    "duration": 0,
    "start_time": "2022-08-24T16:33:12.231Z"
   },
   {
    "duration": 0,
    "start_time": "2022-08-24T16:33:12.232Z"
   },
   {
    "duration": 0,
    "start_time": "2022-08-24T16:33:12.233Z"
   },
   {
    "duration": 0,
    "start_time": "2022-08-24T16:33:12.234Z"
   },
   {
    "duration": 0,
    "start_time": "2022-08-24T16:33:12.235Z"
   },
   {
    "duration": 0,
    "start_time": "2022-08-24T16:33:12.236Z"
   },
   {
    "duration": 0,
    "start_time": "2022-08-24T16:33:12.236Z"
   },
   {
    "duration": 0,
    "start_time": "2022-08-24T16:33:12.237Z"
   },
   {
    "duration": 0,
    "start_time": "2022-08-24T16:33:12.238Z"
   },
   {
    "duration": 0,
    "start_time": "2022-08-24T16:33:12.238Z"
   },
   {
    "duration": 0,
    "start_time": "2022-08-24T16:33:12.239Z"
   },
   {
    "duration": 0,
    "start_time": "2022-08-24T16:33:12.298Z"
   },
   {
    "duration": 0,
    "start_time": "2022-08-24T16:33:12.299Z"
   },
   {
    "duration": 0,
    "start_time": "2022-08-24T16:33:12.300Z"
   },
   {
    "duration": 0,
    "start_time": "2022-08-24T16:33:12.301Z"
   },
   {
    "duration": 0,
    "start_time": "2022-08-24T16:33:12.302Z"
   },
   {
    "duration": 0,
    "start_time": "2022-08-24T16:33:12.303Z"
   },
   {
    "duration": 0,
    "start_time": "2022-08-24T16:33:12.303Z"
   },
   {
    "duration": 0,
    "start_time": "2022-08-24T16:33:12.304Z"
   },
   {
    "duration": 0,
    "start_time": "2022-08-24T16:33:12.305Z"
   },
   {
    "duration": 0,
    "start_time": "2022-08-24T16:33:12.306Z"
   },
   {
    "duration": 0,
    "start_time": "2022-08-24T16:33:12.306Z"
   },
   {
    "duration": 0,
    "start_time": "2022-08-24T16:33:12.307Z"
   },
   {
    "duration": 0,
    "start_time": "2022-08-24T16:33:12.307Z"
   },
   {
    "duration": 0,
    "start_time": "2022-08-24T16:33:12.308Z"
   },
   {
    "duration": 0,
    "start_time": "2022-08-24T16:33:12.309Z"
   },
   {
    "duration": 0,
    "start_time": "2022-08-24T16:33:12.310Z"
   },
   {
    "duration": 0,
    "start_time": "2022-08-24T16:33:12.310Z"
   },
   {
    "duration": 0,
    "start_time": "2022-08-24T16:33:12.311Z"
   },
   {
    "duration": 0,
    "start_time": "2022-08-24T16:33:12.312Z"
   },
   {
    "duration": 0,
    "start_time": "2022-08-24T16:33:12.313Z"
   },
   {
    "duration": 0,
    "start_time": "2022-08-24T16:33:12.313Z"
   },
   {
    "duration": 0,
    "start_time": "2022-08-24T16:33:12.314Z"
   },
   {
    "duration": 0,
    "start_time": "2022-08-24T16:33:12.315Z"
   },
   {
    "duration": 1133,
    "start_time": "2022-08-24T16:33:21.377Z"
   },
   {
    "duration": 51,
    "start_time": "2022-08-24T16:33:22.512Z"
   },
   {
    "duration": 12,
    "start_time": "2022-08-24T16:33:22.565Z"
   },
   {
    "duration": 22,
    "start_time": "2022-08-24T16:33:22.579Z"
   },
   {
    "duration": 654,
    "start_time": "2022-08-24T16:33:22.602Z"
   },
   {
    "duration": 3,
    "start_time": "2022-08-24T16:33:23.257Z"
   },
   {
    "duration": 28,
    "start_time": "2022-08-24T16:33:23.262Z"
   },
   {
    "duration": 14,
    "start_time": "2022-08-24T16:33:23.292Z"
   },
   {
    "duration": 8,
    "start_time": "2022-08-24T16:33:23.307Z"
   },
   {
    "duration": 7,
    "start_time": "2022-08-24T16:33:23.317Z"
   },
   {
    "duration": 6,
    "start_time": "2022-08-24T16:33:23.326Z"
   },
   {
    "duration": 5,
    "start_time": "2022-08-24T16:33:23.334Z"
   },
   {
    "duration": 6,
    "start_time": "2022-08-24T16:33:23.340Z"
   },
   {
    "duration": 6,
    "start_time": "2022-08-24T16:33:23.348Z"
   },
   {
    "duration": 135,
    "start_time": "2022-08-24T16:33:23.355Z"
   },
   {
    "duration": 9,
    "start_time": "2022-08-24T16:33:23.491Z"
   },
   {
    "duration": 11,
    "start_time": "2022-08-24T16:33:23.501Z"
   },
   {
    "duration": 22,
    "start_time": "2022-08-24T16:33:23.513Z"
   },
   {
    "duration": 5,
    "start_time": "2022-08-24T16:33:23.537Z"
   },
   {
    "duration": 32,
    "start_time": "2022-08-24T16:33:23.544Z"
   },
   {
    "duration": 10,
    "start_time": "2022-08-24T16:33:23.577Z"
   },
   {
    "duration": 4,
    "start_time": "2022-08-24T16:33:23.598Z"
   },
   {
    "duration": 10,
    "start_time": "2022-08-24T16:33:23.604Z"
   },
   {
    "duration": 23,
    "start_time": "2022-08-24T16:33:23.615Z"
   },
   {
    "duration": 11,
    "start_time": "2022-08-24T16:33:23.640Z"
   },
   {
    "duration": 5,
    "start_time": "2022-08-24T16:33:23.652Z"
   },
   {
    "duration": 7,
    "start_time": "2022-08-24T16:33:23.658Z"
   },
   {
    "duration": 31,
    "start_time": "2022-08-24T16:33:23.669Z"
   },
   {
    "duration": 6,
    "start_time": "2022-08-24T16:33:23.701Z"
   },
   {
    "duration": 7,
    "start_time": "2022-08-24T16:33:23.708Z"
   },
   {
    "duration": 6,
    "start_time": "2022-08-24T16:33:23.716Z"
   },
   {
    "duration": 16,
    "start_time": "2022-08-24T16:33:23.723Z"
   },
   {
    "duration": 5,
    "start_time": "2022-08-24T16:33:23.741Z"
   },
   {
    "duration": 21,
    "start_time": "2022-08-24T16:33:23.747Z"
   },
   {
    "duration": 41,
    "start_time": "2022-08-24T16:33:23.770Z"
   },
   {
    "duration": 12,
    "start_time": "2022-08-24T16:33:23.813Z"
   },
   {
    "duration": 25,
    "start_time": "2022-08-24T16:33:23.826Z"
   },
   {
    "duration": 5,
    "start_time": "2022-08-24T16:33:23.853Z"
   },
   {
    "duration": 18,
    "start_time": "2022-08-24T16:33:23.860Z"
   },
   {
    "duration": 20,
    "start_time": "2022-08-24T16:33:23.879Z"
   },
   {
    "duration": 10,
    "start_time": "2022-08-24T16:33:23.901Z"
   },
   {
    "duration": 15,
    "start_time": "2022-08-24T16:33:23.913Z"
   },
   {
    "duration": 879,
    "start_time": "2022-08-24T16:33:23.930Z"
   },
   {
    "duration": 1014,
    "start_time": "2022-08-24T16:33:24.811Z"
   },
   {
    "duration": 7,
    "start_time": "2022-08-24T16:33:25.827Z"
   },
   {
    "duration": 10,
    "start_time": "2022-08-24T16:33:25.836Z"
   },
   {
    "duration": 5,
    "start_time": "2022-08-24T16:33:25.848Z"
   },
   {
    "duration": 1023,
    "start_time": "2022-08-24T16:33:25.855Z"
   },
   {
    "duration": 19,
    "start_time": "2022-08-24T16:33:26.880Z"
   },
   {
    "duration": 10,
    "start_time": "2022-08-24T16:33:26.900Z"
   },
   {
    "duration": 5,
    "start_time": "2022-08-24T16:33:26.912Z"
   },
   {
    "duration": 925,
    "start_time": "2022-08-24T16:33:26.918Z"
   },
   {
    "duration": 6,
    "start_time": "2022-08-24T16:33:27.845Z"
   },
   {
    "duration": 32,
    "start_time": "2022-08-24T16:33:27.852Z"
   },
   {
    "duration": 6,
    "start_time": "2022-08-24T16:33:27.885Z"
   },
   {
    "duration": 1032,
    "start_time": "2022-08-24T16:33:27.893Z"
   },
   {
    "duration": 6,
    "start_time": "2022-08-24T16:33:28.927Z"
   },
   {
    "duration": 12,
    "start_time": "2022-08-24T16:33:28.934Z"
   },
   {
    "duration": 8,
    "start_time": "2022-08-24T16:33:28.948Z"
   },
   {
    "duration": 1021,
    "start_time": "2022-08-24T16:33:28.958Z"
   },
   {
    "duration": 4,
    "start_time": "2022-08-24T16:33:29.981Z"
   },
   {
    "duration": 18,
    "start_time": "2022-08-24T16:33:29.986Z"
   },
   {
    "duration": 18,
    "start_time": "2022-08-24T16:33:30.006Z"
   },
   {
    "duration": 10,
    "start_time": "2022-08-24T16:33:30.025Z"
   },
   {
    "duration": 8,
    "start_time": "2022-08-24T16:33:30.037Z"
   },
   {
    "duration": 26,
    "start_time": "2022-08-24T16:33:30.046Z"
   },
   {
    "duration": 21,
    "start_time": "2022-08-24T16:33:30.074Z"
   },
   {
    "duration": 8,
    "start_time": "2022-08-24T16:33:30.097Z"
   },
   {
    "duration": 6,
    "start_time": "2022-08-24T16:33:30.107Z"
   },
   {
    "duration": 9,
    "start_time": "2022-08-24T16:33:30.114Z"
   },
   {
    "duration": 6,
    "start_time": "2022-08-24T16:33:30.125Z"
   },
   {
    "duration": 5,
    "start_time": "2022-08-24T16:33:30.132Z"
   },
   {
    "duration": 415,
    "start_time": "2022-08-24T16:33:30.139Z"
   },
   {
    "duration": 378,
    "start_time": "2022-08-24T16:33:30.556Z"
   },
   {
    "duration": 6,
    "start_time": "2022-08-24T16:33:30.935Z"
   },
   {
    "duration": 75,
    "start_time": "2022-08-24T16:33:30.942Z"
   },
   {
    "duration": 4,
    "start_time": "2022-08-24T16:33:31.019Z"
   },
   {
    "duration": 175,
    "start_time": "2022-08-24T16:33:31.025Z"
   },
   {
    "duration": 151,
    "start_time": "2022-08-24T16:33:31.201Z"
   },
   {
    "duration": 147,
    "start_time": "2022-08-24T16:33:31.353Z"
   },
   {
    "duration": 142,
    "start_time": "2022-08-24T16:33:31.501Z"
   },
   {
    "duration": 140,
    "start_time": "2022-08-24T16:33:31.649Z"
   },
   {
    "duration": 139,
    "start_time": "2022-08-24T16:33:31.791Z"
   },
   {
    "duration": 147,
    "start_time": "2022-08-24T16:33:31.931Z"
   },
   {
    "duration": 8,
    "start_time": "2022-08-24T16:33:32.080Z"
   },
   {
    "duration": 6,
    "start_time": "2022-08-24T16:33:32.099Z"
   },
   {
    "duration": 9,
    "start_time": "2022-08-24T16:33:32.106Z"
   },
   {
    "duration": 154,
    "start_time": "2022-08-24T16:33:32.117Z"
   },
   {
    "duration": 102,
    "start_time": "2022-08-24T16:33:32.273Z"
   },
   {
    "duration": 182,
    "start_time": "2022-08-24T16:33:32.376Z"
   },
   {
    "duration": 113,
    "start_time": "2022-08-24T16:33:32.560Z"
   },
   {
    "duration": 116,
    "start_time": "2022-08-24T16:33:32.674Z"
   },
   {
    "duration": 114,
    "start_time": "2022-08-24T16:33:32.797Z"
   },
   {
    "duration": 124,
    "start_time": "2022-08-24T16:33:32.913Z"
   },
   {
    "duration": 132,
    "start_time": "2022-08-24T16:33:33.039Z"
   },
   {
    "duration": 127,
    "start_time": "2022-08-24T16:33:33.172Z"
   },
   {
    "duration": 225,
    "start_time": "2022-08-24T16:33:33.301Z"
   },
   {
    "duration": 39,
    "start_time": "2022-08-24T16:33:33.527Z"
   },
   {
    "duration": 146,
    "start_time": "2022-08-24T16:33:33.568Z"
   },
   {
    "duration": 5,
    "start_time": "2022-08-24T16:33:33.716Z"
   },
   {
    "duration": 46,
    "start_time": "2022-08-24T16:33:33.722Z"
   },
   {
    "duration": 157,
    "start_time": "2022-08-24T16:33:33.769Z"
   },
   {
    "duration": 4,
    "start_time": "2022-08-24T16:33:33.928Z"
   },
   {
    "duration": 10,
    "start_time": "2022-08-24T16:33:33.933Z"
   },
   {
    "duration": 14,
    "start_time": "2022-08-24T16:33:33.945Z"
   },
   {
    "duration": 208,
    "start_time": "2022-08-24T16:33:33.961Z"
   },
   {
    "duration": 6,
    "start_time": "2022-08-24T16:33:34.171Z"
   },
   {
    "duration": 160,
    "start_time": "2022-08-24T16:33:34.178Z"
   },
   {
    "duration": 17,
    "start_time": "2022-08-24T16:33:34.339Z"
   },
   {
    "duration": 55,
    "start_time": "2022-08-24T16:33:34.358Z"
   },
   {
    "duration": 18,
    "start_time": "2022-08-24T16:33:34.416Z"
   },
   {
    "duration": 153,
    "start_time": "2022-08-24T16:33:34.436Z"
   },
   {
    "duration": 110,
    "start_time": "2022-08-24T16:33:34.591Z"
   },
   {
    "duration": 107,
    "start_time": "2022-08-24T16:33:34.702Z"
   },
   {
    "duration": 15,
    "start_time": "2022-08-24T16:33:34.810Z"
   },
   {
    "duration": 19,
    "start_time": "2022-08-24T16:33:34.827Z"
   },
   {
    "duration": 167,
    "start_time": "2022-08-24T16:33:34.848Z"
   },
   {
    "duration": 127,
    "start_time": "2022-08-24T16:33:35.017Z"
   },
   {
    "duration": 132,
    "start_time": "2022-08-24T16:33:35.146Z"
   },
   {
    "duration": 31,
    "start_time": "2022-08-24T16:33:35.280Z"
   },
   {
    "duration": 22,
    "start_time": "2022-08-24T16:33:35.312Z"
   },
   {
    "duration": 112,
    "start_time": "2022-08-24T16:33:35.336Z"
   },
   {
    "duration": 73,
    "start_time": "2022-08-24T16:33:35.450Z"
   },
   {
    "duration": 75,
    "start_time": "2022-08-24T16:33:35.524Z"
   },
   {
    "duration": 4,
    "start_time": "2022-08-24T16:33:35.601Z"
   },
   {
    "duration": 8,
    "start_time": "2022-08-24T16:33:35.607Z"
   },
   {
    "duration": 11,
    "start_time": "2022-08-24T16:33:35.617Z"
   },
   {
    "duration": 6,
    "start_time": "2022-08-24T16:33:35.630Z"
   },
   {
    "duration": 7,
    "start_time": "2022-08-24T16:33:35.637Z"
   },
   {
    "duration": 10,
    "start_time": "2022-08-24T16:33:35.646Z"
   },
   {
    "duration": 8,
    "start_time": "2022-08-24T16:33:35.657Z"
   },
   {
    "duration": 6,
    "start_time": "2022-08-24T16:33:35.667Z"
   },
   {
    "duration": 27,
    "start_time": "2022-08-24T16:33:35.674Z"
   },
   {
    "duration": 13,
    "start_time": "2022-08-24T16:33:35.702Z"
   },
   {
    "duration": 13,
    "start_time": "2022-08-24T16:33:35.716Z"
   },
   {
    "duration": 5,
    "start_time": "2022-08-24T16:33:35.731Z"
   },
   {
    "duration": 14,
    "start_time": "2022-08-24T16:33:35.738Z"
   },
   {
    "duration": 6,
    "start_time": "2022-08-24T16:33:35.753Z"
   },
   {
    "duration": 5,
    "start_time": "2022-08-24T16:33:35.760Z"
   },
   {
    "duration": 13,
    "start_time": "2022-08-24T16:33:35.766Z"
   },
   {
    "duration": 1039,
    "start_time": "2022-08-24T16:34:19.096Z"
   },
   {
    "duration": 52,
    "start_time": "2022-08-24T16:34:20.137Z"
   },
   {
    "duration": 15,
    "start_time": "2022-08-24T16:34:20.191Z"
   },
   {
    "duration": 23,
    "start_time": "2022-08-24T16:34:20.208Z"
   },
   {
    "duration": 670,
    "start_time": "2022-08-24T16:34:20.233Z"
   },
   {
    "duration": 3,
    "start_time": "2022-08-24T16:34:20.905Z"
   },
   {
    "duration": 34,
    "start_time": "2022-08-24T16:34:20.910Z"
   },
   {
    "duration": 12,
    "start_time": "2022-08-24T16:34:20.946Z"
   },
   {
    "duration": 7,
    "start_time": "2022-08-24T16:34:20.959Z"
   },
   {
    "duration": 7,
    "start_time": "2022-08-24T16:34:20.970Z"
   },
   {
    "duration": 23,
    "start_time": "2022-08-24T16:34:20.978Z"
   },
   {
    "duration": 8,
    "start_time": "2022-08-24T16:34:21.003Z"
   },
   {
    "duration": 13,
    "start_time": "2022-08-24T16:34:21.013Z"
   },
   {
    "duration": 8,
    "start_time": "2022-08-24T16:34:21.028Z"
   },
   {
    "duration": 125,
    "start_time": "2022-08-24T16:34:21.037Z"
   },
   {
    "duration": 4,
    "start_time": "2022-08-24T16:34:21.163Z"
   },
   {
    "duration": 7,
    "start_time": "2022-08-24T16:34:21.169Z"
   },
   {
    "duration": 19,
    "start_time": "2022-08-24T16:34:21.198Z"
   },
   {
    "duration": 6,
    "start_time": "2022-08-24T16:34:21.218Z"
   },
   {
    "duration": 19,
    "start_time": "2022-08-24T16:34:21.226Z"
   },
   {
    "duration": 6,
    "start_time": "2022-08-24T16:34:21.246Z"
   },
   {
    "duration": 5,
    "start_time": "2022-08-24T16:34:21.254Z"
   },
   {
    "duration": 6,
    "start_time": "2022-08-24T16:34:21.297Z"
   },
   {
    "duration": 22,
    "start_time": "2022-08-24T16:34:21.304Z"
   },
   {
    "duration": 13,
    "start_time": "2022-08-24T16:34:21.328Z"
   },
   {
    "duration": 5,
    "start_time": "2022-08-24T16:34:21.343Z"
   },
   {
    "duration": 7,
    "start_time": "2022-08-24T16:34:21.350Z"
   },
   {
    "duration": 4,
    "start_time": "2022-08-24T16:34:21.399Z"
   },
   {
    "duration": 5,
    "start_time": "2022-08-24T16:34:21.405Z"
   },
   {
    "duration": 6,
    "start_time": "2022-08-24T16:34:21.411Z"
   },
   {
    "duration": 5,
    "start_time": "2022-08-24T16:34:21.418Z"
   },
   {
    "duration": 16,
    "start_time": "2022-08-24T16:34:21.425Z"
   },
   {
    "duration": 4,
    "start_time": "2022-08-24T16:34:21.443Z"
   },
   {
    "duration": 51,
    "start_time": "2022-08-24T16:34:21.448Z"
   },
   {
    "duration": 14,
    "start_time": "2022-08-24T16:34:21.501Z"
   },
   {
    "duration": 9,
    "start_time": "2022-08-24T16:34:21.517Z"
   },
   {
    "duration": 11,
    "start_time": "2022-08-24T16:34:21.528Z"
   },
   {
    "duration": 7,
    "start_time": "2022-08-24T16:34:21.541Z"
   },
   {
    "duration": 9,
    "start_time": "2022-08-24T16:34:21.549Z"
   },
   {
    "duration": 39,
    "start_time": "2022-08-24T16:34:21.560Z"
   },
   {
    "duration": 9,
    "start_time": "2022-08-24T16:34:21.600Z"
   },
   {
    "duration": 4,
    "start_time": "2022-08-24T16:34:21.610Z"
   },
   {
    "duration": 869,
    "start_time": "2022-08-24T16:34:21.615Z"
   },
   {
    "duration": 961,
    "start_time": "2022-08-24T16:34:22.485Z"
   },
   {
    "duration": 6,
    "start_time": "2022-08-24T16:34:23.448Z"
   },
   {
    "duration": 8,
    "start_time": "2022-08-24T16:34:23.456Z"
   },
   {
    "duration": 5,
    "start_time": "2022-08-24T16:34:23.465Z"
   },
   {
    "duration": 1029,
    "start_time": "2022-08-24T16:34:23.471Z"
   },
   {
    "duration": 8,
    "start_time": "2022-08-24T16:34:24.502Z"
   },
   {
    "duration": 10,
    "start_time": "2022-08-24T16:34:24.512Z"
   },
   {
    "duration": 8,
    "start_time": "2022-08-24T16:34:24.524Z"
   },
   {
    "duration": 946,
    "start_time": "2022-08-24T16:34:24.533Z"
   },
   {
    "duration": 6,
    "start_time": "2022-08-24T16:34:25.481Z"
   },
   {
    "duration": 8,
    "start_time": "2022-08-24T16:34:25.498Z"
   },
   {
    "duration": 5,
    "start_time": "2022-08-24T16:34:25.507Z"
   },
   {
    "duration": 1106,
    "start_time": "2022-08-24T16:34:25.514Z"
   },
   {
    "duration": 6,
    "start_time": "2022-08-24T16:34:26.622Z"
   },
   {
    "duration": 10,
    "start_time": "2022-08-24T16:34:26.630Z"
   },
   {
    "duration": 5,
    "start_time": "2022-08-24T16:34:26.641Z"
   },
   {
    "duration": 1007,
    "start_time": "2022-08-24T16:34:26.647Z"
   },
   {
    "duration": 5,
    "start_time": "2022-08-24T16:34:27.655Z"
   },
   {
    "duration": 5,
    "start_time": "2022-08-24T16:34:27.661Z"
   },
   {
    "duration": 5,
    "start_time": "2022-08-24T16:34:27.667Z"
   },
   {
    "duration": 27,
    "start_time": "2022-08-24T16:34:27.673Z"
   },
   {
    "duration": 6,
    "start_time": "2022-08-24T16:34:27.702Z"
   },
   {
    "duration": 7,
    "start_time": "2022-08-24T16:34:27.710Z"
   },
   {
    "duration": 5,
    "start_time": "2022-08-24T16:34:27.719Z"
   },
   {
    "duration": 5,
    "start_time": "2022-08-24T16:34:27.725Z"
   },
   {
    "duration": 8,
    "start_time": "2022-08-24T16:34:27.731Z"
   },
   {
    "duration": 6,
    "start_time": "2022-08-24T16:34:27.740Z"
   },
   {
    "duration": 55,
    "start_time": "2022-08-24T16:34:27.747Z"
   },
   {
    "duration": 6,
    "start_time": "2022-08-24T16:34:27.804Z"
   },
   {
    "duration": 393,
    "start_time": "2022-08-24T16:34:27.811Z"
   },
   {
    "duration": 7,
    "start_time": "2022-08-24T16:34:28.205Z"
   },
   {
    "duration": 4,
    "start_time": "2022-08-24T16:34:28.214Z"
   },
   {
    "duration": 46,
    "start_time": "2022-08-24T16:34:28.219Z"
   },
   {
    "duration": 5,
    "start_time": "2022-08-24T16:34:28.266Z"
   },
   {
    "duration": 262,
    "start_time": "2022-08-24T16:34:28.272Z"
   },
   {
    "duration": 145,
    "start_time": "2022-08-24T16:34:28.535Z"
   },
   {
    "duration": 139,
    "start_time": "2022-08-24T16:34:28.682Z"
   },
   {
    "duration": 138,
    "start_time": "2022-08-24T16:34:28.822Z"
   },
   {
    "duration": 143,
    "start_time": "2022-08-24T16:34:28.966Z"
   },
   {
    "duration": 138,
    "start_time": "2022-08-24T16:34:29.111Z"
   },
   {
    "duration": 139,
    "start_time": "2022-08-24T16:34:29.251Z"
   },
   {
    "duration": 13,
    "start_time": "2022-08-24T16:34:29.391Z"
   },
   {
    "duration": 5,
    "start_time": "2022-08-24T16:34:29.406Z"
   },
   {
    "duration": 7,
    "start_time": "2022-08-24T16:34:29.413Z"
   },
   {
    "duration": 149,
    "start_time": "2022-08-24T16:34:29.421Z"
   },
   {
    "duration": 109,
    "start_time": "2022-08-24T16:34:29.571Z"
   },
   {
    "duration": 130,
    "start_time": "2022-08-24T16:34:29.682Z"
   },
   {
    "duration": 130,
    "start_time": "2022-08-24T16:34:29.814Z"
   },
   {
    "duration": 197,
    "start_time": "2022-08-24T16:34:29.946Z"
   },
   {
    "duration": 119,
    "start_time": "2022-08-24T16:34:30.145Z"
   },
   {
    "duration": 133,
    "start_time": "2022-08-24T16:34:30.265Z"
   },
   {
    "duration": 130,
    "start_time": "2022-08-24T16:34:30.399Z"
   },
   {
    "duration": 126,
    "start_time": "2022-08-24T16:34:30.530Z"
   },
   {
    "duration": 222,
    "start_time": "2022-08-24T16:34:30.657Z"
   },
   {
    "duration": 48,
    "start_time": "2022-08-24T16:34:30.881Z"
   },
   {
    "duration": 146,
    "start_time": "2022-08-24T16:34:30.930Z"
   },
   {
    "duration": 5,
    "start_time": "2022-08-24T16:34:31.077Z"
   },
   {
    "duration": 19,
    "start_time": "2022-08-24T16:34:31.083Z"
   },
   {
    "duration": 143,
    "start_time": "2022-08-24T16:34:31.103Z"
   },
   {
    "duration": 4,
    "start_time": "2022-08-24T16:34:31.247Z"
   },
   {
    "duration": 9,
    "start_time": "2022-08-24T16:34:31.253Z"
   },
   {
    "duration": 5,
    "start_time": "2022-08-24T16:34:31.264Z"
   },
   {
    "duration": 167,
    "start_time": "2022-08-24T16:34:31.270Z"
   },
   {
    "duration": 8,
    "start_time": "2022-08-24T16:34:31.438Z"
   },
   {
    "duration": 164,
    "start_time": "2022-08-24T16:34:31.448Z"
   },
   {
    "duration": 15,
    "start_time": "2022-08-24T16:34:31.613Z"
   },
   {
    "duration": 14,
    "start_time": "2022-08-24T16:34:31.629Z"
   },
   {
    "duration": 55,
    "start_time": "2022-08-24T16:34:31.644Z"
   },
   {
    "duration": 173,
    "start_time": "2022-08-24T16:34:31.701Z"
   },
   {
    "duration": 110,
    "start_time": "2022-08-24T16:34:31.875Z"
   },
   {
    "duration": 116,
    "start_time": "2022-08-24T16:34:31.986Z"
   },
   {
    "duration": 15,
    "start_time": "2022-08-24T16:34:32.104Z"
   },
   {
    "duration": 16,
    "start_time": "2022-08-24T16:34:32.121Z"
   },
   {
    "duration": 154,
    "start_time": "2022-08-24T16:34:32.139Z"
   },
   {
    "duration": 119,
    "start_time": "2022-08-24T16:34:32.298Z"
   },
   {
    "duration": 127,
    "start_time": "2022-08-24T16:34:32.419Z"
   },
   {
    "duration": 15,
    "start_time": "2022-08-24T16:34:32.548Z"
   },
   {
    "duration": 43,
    "start_time": "2022-08-24T16:34:32.565Z"
   },
   {
    "duration": 64,
    "start_time": "2022-08-24T16:34:32.610Z"
   },
   {
    "duration": 65,
    "start_time": "2022-08-24T16:34:32.697Z"
   },
   {
    "duration": 82,
    "start_time": "2022-08-24T16:34:32.764Z"
   },
   {
    "duration": 4,
    "start_time": "2022-08-24T16:34:32.848Z"
   },
   {
    "duration": 6,
    "start_time": "2022-08-24T16:34:32.853Z"
   },
   {
    "duration": 6,
    "start_time": "2022-08-24T16:34:32.860Z"
   },
   {
    "duration": 3,
    "start_time": "2022-08-24T16:34:32.867Z"
   },
   {
    "duration": 27,
    "start_time": "2022-08-24T16:34:32.872Z"
   },
   {
    "duration": 3,
    "start_time": "2022-08-24T16:34:32.901Z"
   },
   {
    "duration": 7,
    "start_time": "2022-08-24T16:34:32.905Z"
   },
   {
    "duration": 5,
    "start_time": "2022-08-24T16:34:32.914Z"
   },
   {
    "duration": 7,
    "start_time": "2022-08-24T16:34:32.921Z"
   },
   {
    "duration": 7,
    "start_time": "2022-08-24T16:34:32.929Z"
   },
   {
    "duration": 6,
    "start_time": "2022-08-24T16:34:32.937Z"
   },
   {
    "duration": 3,
    "start_time": "2022-08-24T16:34:32.945Z"
   },
   {
    "duration": 55,
    "start_time": "2022-08-24T16:34:32.949Z"
   },
   {
    "duration": 3,
    "start_time": "2022-08-24T16:34:33.006Z"
   },
   {
    "duration": 3,
    "start_time": "2022-08-24T16:34:33.011Z"
   },
   {
    "duration": 4,
    "start_time": "2022-08-24T16:34:33.016Z"
   },
   {
    "duration": 18,
    "start_time": "2022-08-24T16:44:22.967Z"
   },
   {
    "duration": 19,
    "start_time": "2022-08-24T16:44:32.201Z"
   },
   {
    "duration": 100,
    "start_time": "2022-08-24T16:44:57.594Z"
   },
   {
    "duration": 17,
    "start_time": "2022-08-24T16:45:05.659Z"
   },
   {
    "duration": 15,
    "start_time": "2022-08-24T16:45:27.446Z"
   },
   {
    "duration": 16,
    "start_time": "2022-08-24T16:45:30.532Z"
   },
   {
    "duration": 76,
    "start_time": "2022-08-24T16:45:57.866Z"
   },
   {
    "duration": 71,
    "start_time": "2022-08-24T16:46:03.737Z"
   },
   {
    "duration": 74,
    "start_time": "2022-08-24T16:46:08.219Z"
   },
   {
    "duration": 14,
    "start_time": "2022-08-24T16:46:14.559Z"
   },
   {
    "duration": 16,
    "start_time": "2022-08-24T16:46:17.735Z"
   },
   {
    "duration": 15,
    "start_time": "2022-08-24T16:46:20.485Z"
   },
   {
    "duration": 16,
    "start_time": "2022-08-24T16:47:25.680Z"
   },
   {
    "duration": 20,
    "start_time": "2022-08-24T16:47:31.362Z"
   },
   {
    "duration": 91,
    "start_time": "2022-08-24T16:47:54.384Z"
   },
   {
    "duration": 79,
    "start_time": "2022-08-24T16:47:57.611Z"
   },
   {
    "duration": 77,
    "start_time": "2022-08-24T16:48:00.772Z"
   }
  ],
  "kernelspec": {
   "display_name": "Python 3 (ipykernel)",
   "language": "python",
   "name": "python3"
  },
  "language_info": {
   "codemirror_mode": {
    "name": "ipython",
    "version": 3
   },
   "file_extension": ".py",
   "mimetype": "text/x-python",
   "name": "python",
   "nbconvert_exporter": "python",
   "pygments_lexer": "ipython3",
   "version": "3.9.12"
  },
  "toc": {
   "base_numbering": 1,
   "nav_menu": {},
   "number_sections": true,
   "sideBar": true,
   "skip_h1_title": true,
   "title_cell": "Table of Contents",
   "title_sidebar": "Contents",
   "toc_cell": false,
   "toc_position": {},
   "toc_section_display": true,
   "toc_window_display": false
  }
 },
 "nbformat": 4,
 "nbformat_minor": 2
}
