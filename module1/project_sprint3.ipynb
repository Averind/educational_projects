{
 "cells": [
  {
   "cell_type": "markdown",
   "metadata": {},
   "source": [
    "<div class=\"alert alert-info\">\n",
    "<b>ДАННЫЙ ПРОЕКТ ЯВЛЯЕТСЯ УЧЕБНЫМ</b>\n",
    "<br>Он был выполнен мной в ходе обучения профессии Data Scientist на образовательной платформе ЯНДЕКС.ПРАКТИКУМ.\n",
    "</div>"
   ]
  },
  {
   "cell_type": "markdown",
   "metadata": {},
   "source": [
    "## Описание данных"
   ]
  },
  {
   "cell_type": "markdown",
   "metadata": {},
   "source": [
    "`airports_nearest` — расстояние до ближайшего аэропорта в метрах (м) \\\n",
    "`balcony` — число балконов \\\n",
    "`ceiling_height` — высота потолков (м) \\\n",
    "`cityCenters_nearest` — расстояние до центра Санкт-Петербурга (м) \\\n",
    "`days_exposition` — сколько дней было размещено объявление (от публикации до снятия) \\\n",
    "`first_day_exposition` — дата публикации \\\n",
    "`floor` — этаж \\\n",
    "`floors_total` — всего этажей в доме \\\n",
    "`is_apartment` — апартаменты (булев тип) \\\n",
    "`kitchen_area` — площадь кухни в квадратных метрах (м²) \\\n",
    "`last_price` — цена на момент снятия с публикации \\\n",
    "`living_area` — жилая площадь в квадратных метрах (м²) \\\n",
    "`locality_name` — название населённого пункта \\\n",
    "`open_plan` — свободная планировка (булев тип) \\\n",
    "`parks_around3000` — число парков в радиусе 3 км \\\n",
    "`parks_nearest` — расстояние до ближайшего парка (м) \\\n",
    "`ponds_around3000` — число водоёмов в радиусе 3 км \\\n",
    "`ponds_nearest` — расстояние до ближайшего водоёма (м) \\\n",
    "`rooms` — число комнат \\\n",
    "`studio` — квартира-студия (булев тип) \\\n",
    "`total_area` — общая площадь квартиры в квадратных метрах (м²) \\\n",
    "`total_images` — число фотографий квартиры в объявлении"
   ]
  },
  {
   "cell_type": "markdown",
   "metadata": {},
   "source": [
    "# Исследование объявлений о продаже квартир\n",
    "\n",
    "В вашем распоряжении данные сервиса Яндекс.Недвижимость — архив объявлений о продаже квартир в Санкт-Петербурге и соседних населенных пунктах за несколько лет. Нужно научиться определять рыночную стоимость объектов недвижимости. Ваша задача — установить параметры. Это позволит построить автоматизированную систему: она отследит аномалии и мошенническую деятельность. \n",
    "\n",
    "По каждой квартире на продажу доступны два вида данных. Первые вписаны пользователем, вторые — получены автоматически на основе картографических данных. Например, расстояние до центра, аэропорта, ближайшего парка и водоёма. "
   ]
  },
  {
   "cell_type": "markdown",
   "metadata": {},
   "source": [
    "## Откройте файл с данными и изучите общую информацию. "
   ]
  },
  {
   "cell_type": "code",
   "execution_count": 1,
   "metadata": {},
   "outputs": [],
   "source": [
    "# импортируем библиотеку pandas\n",
    "\n",
    "import pandas as pd"
   ]
  },
  {
   "cell_type": "code",
   "execution_count": 2,
   "metadata": {},
   "outputs": [
    {
     "ename": "FileNotFoundError",
     "evalue": "[Errno 2] No such file or directory: '/datasets/real_estate_data.csv'",
     "output_type": "error",
     "traceback": [
      "\u001b[1;31m---------------------------------------------------------------------------\u001b[0m",
      "\u001b[1;31mFileNotFoundError\u001b[0m                         Traceback (most recent call last)",
      "Input \u001b[1;32mIn [2]\u001b[0m, in \u001b[0;36m<cell line: 3>\u001b[1;34m()\u001b[0m\n\u001b[0;32m      1\u001b[0m \u001b[38;5;66;03m# сохраним данные в датафрейме\u001b[39;00m\n\u001b[1;32m----> 3\u001b[0m df \u001b[38;5;241m=\u001b[39m \u001b[43mpd\u001b[49m\u001b[38;5;241;43m.\u001b[39;49m\u001b[43mread_csv\u001b[49m\u001b[43m(\u001b[49m\u001b[38;5;124;43m'\u001b[39;49m\u001b[38;5;124;43m/datasets/real_estate_data.csv\u001b[39;49m\u001b[38;5;124;43m'\u001b[39;49m\u001b[43m,\u001b[49m\u001b[43m \u001b[49m\u001b[43msep\u001b[49m\u001b[38;5;241;43m=\u001b[39;49m\u001b[38;5;124;43m'\u001b[39;49m\u001b[38;5;130;43;01m\\t\u001b[39;49;00m\u001b[38;5;124;43m'\u001b[39;49m\u001b[43m)\u001b[49m\n",
      "File \u001b[1;32mC:\\Anaconda\\lib\\site-packages\\pandas\\util\\_decorators.py:311\u001b[0m, in \u001b[0;36mdeprecate_nonkeyword_arguments.<locals>.decorate.<locals>.wrapper\u001b[1;34m(*args, **kwargs)\u001b[0m\n\u001b[0;32m    305\u001b[0m \u001b[38;5;28;01mif\u001b[39;00m \u001b[38;5;28mlen\u001b[39m(args) \u001b[38;5;241m>\u001b[39m num_allow_args:\n\u001b[0;32m    306\u001b[0m     warnings\u001b[38;5;241m.\u001b[39mwarn(\n\u001b[0;32m    307\u001b[0m         msg\u001b[38;5;241m.\u001b[39mformat(arguments\u001b[38;5;241m=\u001b[39marguments),\n\u001b[0;32m    308\u001b[0m         \u001b[38;5;167;01mFutureWarning\u001b[39;00m,\n\u001b[0;32m    309\u001b[0m         stacklevel\u001b[38;5;241m=\u001b[39mstacklevel,\n\u001b[0;32m    310\u001b[0m     )\n\u001b[1;32m--> 311\u001b[0m \u001b[38;5;28;01mreturn\u001b[39;00m func(\u001b[38;5;241m*\u001b[39margs, \u001b[38;5;241m*\u001b[39m\u001b[38;5;241m*\u001b[39mkwargs)\n",
      "File \u001b[1;32mC:\\Anaconda\\lib\\site-packages\\pandas\\io\\parsers\\readers.py:680\u001b[0m, in \u001b[0;36mread_csv\u001b[1;34m(filepath_or_buffer, sep, delimiter, header, names, index_col, usecols, squeeze, prefix, mangle_dupe_cols, dtype, engine, converters, true_values, false_values, skipinitialspace, skiprows, skipfooter, nrows, na_values, keep_default_na, na_filter, verbose, skip_blank_lines, parse_dates, infer_datetime_format, keep_date_col, date_parser, dayfirst, cache_dates, iterator, chunksize, compression, thousands, decimal, lineterminator, quotechar, quoting, doublequote, escapechar, comment, encoding, encoding_errors, dialect, error_bad_lines, warn_bad_lines, on_bad_lines, delim_whitespace, low_memory, memory_map, float_precision, storage_options)\u001b[0m\n\u001b[0;32m    665\u001b[0m kwds_defaults \u001b[38;5;241m=\u001b[39m _refine_defaults_read(\n\u001b[0;32m    666\u001b[0m     dialect,\n\u001b[0;32m    667\u001b[0m     delimiter,\n\u001b[1;32m   (...)\u001b[0m\n\u001b[0;32m    676\u001b[0m     defaults\u001b[38;5;241m=\u001b[39m{\u001b[38;5;124m\"\u001b[39m\u001b[38;5;124mdelimiter\u001b[39m\u001b[38;5;124m\"\u001b[39m: \u001b[38;5;124m\"\u001b[39m\u001b[38;5;124m,\u001b[39m\u001b[38;5;124m\"\u001b[39m},\n\u001b[0;32m    677\u001b[0m )\n\u001b[0;32m    678\u001b[0m kwds\u001b[38;5;241m.\u001b[39mupdate(kwds_defaults)\n\u001b[1;32m--> 680\u001b[0m \u001b[38;5;28;01mreturn\u001b[39;00m \u001b[43m_read\u001b[49m\u001b[43m(\u001b[49m\u001b[43mfilepath_or_buffer\u001b[49m\u001b[43m,\u001b[49m\u001b[43m \u001b[49m\u001b[43mkwds\u001b[49m\u001b[43m)\u001b[49m\n",
      "File \u001b[1;32mC:\\Anaconda\\lib\\site-packages\\pandas\\io\\parsers\\readers.py:575\u001b[0m, in \u001b[0;36m_read\u001b[1;34m(filepath_or_buffer, kwds)\u001b[0m\n\u001b[0;32m    572\u001b[0m _validate_names(kwds\u001b[38;5;241m.\u001b[39mget(\u001b[38;5;124m\"\u001b[39m\u001b[38;5;124mnames\u001b[39m\u001b[38;5;124m\"\u001b[39m, \u001b[38;5;28;01mNone\u001b[39;00m))\n\u001b[0;32m    574\u001b[0m \u001b[38;5;66;03m# Create the parser.\u001b[39;00m\n\u001b[1;32m--> 575\u001b[0m parser \u001b[38;5;241m=\u001b[39m TextFileReader(filepath_or_buffer, \u001b[38;5;241m*\u001b[39m\u001b[38;5;241m*\u001b[39mkwds)\n\u001b[0;32m    577\u001b[0m \u001b[38;5;28;01mif\u001b[39;00m chunksize \u001b[38;5;129;01mor\u001b[39;00m iterator:\n\u001b[0;32m    578\u001b[0m     \u001b[38;5;28;01mreturn\u001b[39;00m parser\n",
      "File \u001b[1;32mC:\\Anaconda\\lib\\site-packages\\pandas\\io\\parsers\\readers.py:933\u001b[0m, in \u001b[0;36mTextFileReader.__init__\u001b[1;34m(self, f, engine, **kwds)\u001b[0m\n\u001b[0;32m    930\u001b[0m     \u001b[38;5;28mself\u001b[39m\u001b[38;5;241m.\u001b[39moptions[\u001b[38;5;124m\"\u001b[39m\u001b[38;5;124mhas_index_names\u001b[39m\u001b[38;5;124m\"\u001b[39m] \u001b[38;5;241m=\u001b[39m kwds[\u001b[38;5;124m\"\u001b[39m\u001b[38;5;124mhas_index_names\u001b[39m\u001b[38;5;124m\"\u001b[39m]\n\u001b[0;32m    932\u001b[0m \u001b[38;5;28mself\u001b[39m\u001b[38;5;241m.\u001b[39mhandles: IOHandles \u001b[38;5;241m|\u001b[39m \u001b[38;5;28;01mNone\u001b[39;00m \u001b[38;5;241m=\u001b[39m \u001b[38;5;28;01mNone\u001b[39;00m\n\u001b[1;32m--> 933\u001b[0m \u001b[38;5;28mself\u001b[39m\u001b[38;5;241m.\u001b[39m_engine \u001b[38;5;241m=\u001b[39m \u001b[38;5;28;43mself\u001b[39;49m\u001b[38;5;241;43m.\u001b[39;49m\u001b[43m_make_engine\u001b[49m\u001b[43m(\u001b[49m\u001b[43mf\u001b[49m\u001b[43m,\u001b[49m\u001b[43m \u001b[49m\u001b[38;5;28;43mself\u001b[39;49m\u001b[38;5;241;43m.\u001b[39;49m\u001b[43mengine\u001b[49m\u001b[43m)\u001b[49m\n",
      "File \u001b[1;32mC:\\Anaconda\\lib\\site-packages\\pandas\\io\\parsers\\readers.py:1217\u001b[0m, in \u001b[0;36mTextFileReader._make_engine\u001b[1;34m(self, f, engine)\u001b[0m\n\u001b[0;32m   1213\u001b[0m     mode \u001b[38;5;241m=\u001b[39m \u001b[38;5;124m\"\u001b[39m\u001b[38;5;124mrb\u001b[39m\u001b[38;5;124m\"\u001b[39m\n\u001b[0;32m   1214\u001b[0m \u001b[38;5;66;03m# error: No overload variant of \"get_handle\" matches argument types\u001b[39;00m\n\u001b[0;32m   1215\u001b[0m \u001b[38;5;66;03m# \"Union[str, PathLike[str], ReadCsvBuffer[bytes], ReadCsvBuffer[str]]\"\u001b[39;00m\n\u001b[0;32m   1216\u001b[0m \u001b[38;5;66;03m# , \"str\", \"bool\", \"Any\", \"Any\", \"Any\", \"Any\", \"Any\"\u001b[39;00m\n\u001b[1;32m-> 1217\u001b[0m \u001b[38;5;28mself\u001b[39m\u001b[38;5;241m.\u001b[39mhandles \u001b[38;5;241m=\u001b[39m \u001b[43mget_handle\u001b[49m\u001b[43m(\u001b[49m\u001b[43m  \u001b[49m\u001b[38;5;66;43;03m# type: ignore[call-overload]\u001b[39;49;00m\n\u001b[0;32m   1218\u001b[0m \u001b[43m    \u001b[49m\u001b[43mf\u001b[49m\u001b[43m,\u001b[49m\n\u001b[0;32m   1219\u001b[0m \u001b[43m    \u001b[49m\u001b[43mmode\u001b[49m\u001b[43m,\u001b[49m\n\u001b[0;32m   1220\u001b[0m \u001b[43m    \u001b[49m\u001b[43mencoding\u001b[49m\u001b[38;5;241;43m=\u001b[39;49m\u001b[38;5;28;43mself\u001b[39;49m\u001b[38;5;241;43m.\u001b[39;49m\u001b[43moptions\u001b[49m\u001b[38;5;241;43m.\u001b[39;49m\u001b[43mget\u001b[49m\u001b[43m(\u001b[49m\u001b[38;5;124;43m\"\u001b[39;49m\u001b[38;5;124;43mencoding\u001b[39;49m\u001b[38;5;124;43m\"\u001b[39;49m\u001b[43m,\u001b[49m\u001b[43m \u001b[49m\u001b[38;5;28;43;01mNone\u001b[39;49;00m\u001b[43m)\u001b[49m\u001b[43m,\u001b[49m\n\u001b[0;32m   1221\u001b[0m \u001b[43m    \u001b[49m\u001b[43mcompression\u001b[49m\u001b[38;5;241;43m=\u001b[39;49m\u001b[38;5;28;43mself\u001b[39;49m\u001b[38;5;241;43m.\u001b[39;49m\u001b[43moptions\u001b[49m\u001b[38;5;241;43m.\u001b[39;49m\u001b[43mget\u001b[49m\u001b[43m(\u001b[49m\u001b[38;5;124;43m\"\u001b[39;49m\u001b[38;5;124;43mcompression\u001b[39;49m\u001b[38;5;124;43m\"\u001b[39;49m\u001b[43m,\u001b[49m\u001b[43m \u001b[49m\u001b[38;5;28;43;01mNone\u001b[39;49;00m\u001b[43m)\u001b[49m\u001b[43m,\u001b[49m\n\u001b[0;32m   1222\u001b[0m \u001b[43m    \u001b[49m\u001b[43mmemory_map\u001b[49m\u001b[38;5;241;43m=\u001b[39;49m\u001b[38;5;28;43mself\u001b[39;49m\u001b[38;5;241;43m.\u001b[39;49m\u001b[43moptions\u001b[49m\u001b[38;5;241;43m.\u001b[39;49m\u001b[43mget\u001b[49m\u001b[43m(\u001b[49m\u001b[38;5;124;43m\"\u001b[39;49m\u001b[38;5;124;43mmemory_map\u001b[39;49m\u001b[38;5;124;43m\"\u001b[39;49m\u001b[43m,\u001b[49m\u001b[43m \u001b[49m\u001b[38;5;28;43;01mFalse\u001b[39;49;00m\u001b[43m)\u001b[49m\u001b[43m,\u001b[49m\n\u001b[0;32m   1223\u001b[0m \u001b[43m    \u001b[49m\u001b[43mis_text\u001b[49m\u001b[38;5;241;43m=\u001b[39;49m\u001b[43mis_text\u001b[49m\u001b[43m,\u001b[49m\n\u001b[0;32m   1224\u001b[0m \u001b[43m    \u001b[49m\u001b[43merrors\u001b[49m\u001b[38;5;241;43m=\u001b[39;49m\u001b[38;5;28;43mself\u001b[39;49m\u001b[38;5;241;43m.\u001b[39;49m\u001b[43moptions\u001b[49m\u001b[38;5;241;43m.\u001b[39;49m\u001b[43mget\u001b[49m\u001b[43m(\u001b[49m\u001b[38;5;124;43m\"\u001b[39;49m\u001b[38;5;124;43mencoding_errors\u001b[39;49m\u001b[38;5;124;43m\"\u001b[39;49m\u001b[43m,\u001b[49m\u001b[43m \u001b[49m\u001b[38;5;124;43m\"\u001b[39;49m\u001b[38;5;124;43mstrict\u001b[39;49m\u001b[38;5;124;43m\"\u001b[39;49m\u001b[43m)\u001b[49m\u001b[43m,\u001b[49m\n\u001b[0;32m   1225\u001b[0m \u001b[43m    \u001b[49m\u001b[43mstorage_options\u001b[49m\u001b[38;5;241;43m=\u001b[39;49m\u001b[38;5;28;43mself\u001b[39;49m\u001b[38;5;241;43m.\u001b[39;49m\u001b[43moptions\u001b[49m\u001b[38;5;241;43m.\u001b[39;49m\u001b[43mget\u001b[49m\u001b[43m(\u001b[49m\u001b[38;5;124;43m\"\u001b[39;49m\u001b[38;5;124;43mstorage_options\u001b[39;49m\u001b[38;5;124;43m\"\u001b[39;49m\u001b[43m,\u001b[49m\u001b[43m \u001b[49m\u001b[38;5;28;43;01mNone\u001b[39;49;00m\u001b[43m)\u001b[49m\u001b[43m,\u001b[49m\n\u001b[0;32m   1226\u001b[0m \u001b[43m\u001b[49m\u001b[43m)\u001b[49m\n\u001b[0;32m   1227\u001b[0m \u001b[38;5;28;01massert\u001b[39;00m \u001b[38;5;28mself\u001b[39m\u001b[38;5;241m.\u001b[39mhandles \u001b[38;5;129;01mis\u001b[39;00m \u001b[38;5;129;01mnot\u001b[39;00m \u001b[38;5;28;01mNone\u001b[39;00m\n\u001b[0;32m   1228\u001b[0m f \u001b[38;5;241m=\u001b[39m \u001b[38;5;28mself\u001b[39m\u001b[38;5;241m.\u001b[39mhandles\u001b[38;5;241m.\u001b[39mhandle\n",
      "File \u001b[1;32mC:\\Anaconda\\lib\\site-packages\\pandas\\io\\common.py:789\u001b[0m, in \u001b[0;36mget_handle\u001b[1;34m(path_or_buf, mode, encoding, compression, memory_map, is_text, errors, storage_options)\u001b[0m\n\u001b[0;32m    784\u001b[0m \u001b[38;5;28;01melif\u001b[39;00m \u001b[38;5;28misinstance\u001b[39m(handle, \u001b[38;5;28mstr\u001b[39m):\n\u001b[0;32m    785\u001b[0m     \u001b[38;5;66;03m# Check whether the filename is to be opened in binary mode.\u001b[39;00m\n\u001b[0;32m    786\u001b[0m     \u001b[38;5;66;03m# Binary mode does not support 'encoding' and 'newline'.\u001b[39;00m\n\u001b[0;32m    787\u001b[0m     \u001b[38;5;28;01mif\u001b[39;00m ioargs\u001b[38;5;241m.\u001b[39mencoding \u001b[38;5;129;01mand\u001b[39;00m \u001b[38;5;124m\"\u001b[39m\u001b[38;5;124mb\u001b[39m\u001b[38;5;124m\"\u001b[39m \u001b[38;5;129;01mnot\u001b[39;00m \u001b[38;5;129;01min\u001b[39;00m ioargs\u001b[38;5;241m.\u001b[39mmode:\n\u001b[0;32m    788\u001b[0m         \u001b[38;5;66;03m# Encoding\u001b[39;00m\n\u001b[1;32m--> 789\u001b[0m         handle \u001b[38;5;241m=\u001b[39m \u001b[38;5;28;43mopen\u001b[39;49m\u001b[43m(\u001b[49m\n\u001b[0;32m    790\u001b[0m \u001b[43m            \u001b[49m\u001b[43mhandle\u001b[49m\u001b[43m,\u001b[49m\n\u001b[0;32m    791\u001b[0m \u001b[43m            \u001b[49m\u001b[43mioargs\u001b[49m\u001b[38;5;241;43m.\u001b[39;49m\u001b[43mmode\u001b[49m\u001b[43m,\u001b[49m\n\u001b[0;32m    792\u001b[0m \u001b[43m            \u001b[49m\u001b[43mencoding\u001b[49m\u001b[38;5;241;43m=\u001b[39;49m\u001b[43mioargs\u001b[49m\u001b[38;5;241;43m.\u001b[39;49m\u001b[43mencoding\u001b[49m\u001b[43m,\u001b[49m\n\u001b[0;32m    793\u001b[0m \u001b[43m            \u001b[49m\u001b[43merrors\u001b[49m\u001b[38;5;241;43m=\u001b[39;49m\u001b[43merrors\u001b[49m\u001b[43m,\u001b[49m\n\u001b[0;32m    794\u001b[0m \u001b[43m            \u001b[49m\u001b[43mnewline\u001b[49m\u001b[38;5;241;43m=\u001b[39;49m\u001b[38;5;124;43m\"\u001b[39;49m\u001b[38;5;124;43m\"\u001b[39;49m\u001b[43m,\u001b[49m\n\u001b[0;32m    795\u001b[0m \u001b[43m        \u001b[49m\u001b[43m)\u001b[49m\n\u001b[0;32m    796\u001b[0m     \u001b[38;5;28;01melse\u001b[39;00m:\n\u001b[0;32m    797\u001b[0m         \u001b[38;5;66;03m# Binary mode\u001b[39;00m\n\u001b[0;32m    798\u001b[0m         handle \u001b[38;5;241m=\u001b[39m \u001b[38;5;28mopen\u001b[39m(handle, ioargs\u001b[38;5;241m.\u001b[39mmode)\n",
      "\u001b[1;31mFileNotFoundError\u001b[0m: [Errno 2] No such file or directory: '/datasets/real_estate_data.csv'"
     ]
    }
   ],
   "source": [
    "# сохраним данные в датафрейме\n",
    "\n",
    "df = pd.read_csv('/datasets/real_estate_data.csv', sep='\\t')"
   ]
  },
  {
   "cell_type": "code",
   "execution_count": null,
   "metadata": {},
   "outputs": [],
   "source": [
    "# увеличим максимальное количество отображающихся столбцов\n",
    "\n",
    "pd.set_option('display.max_columns', 50)"
   ]
  },
  {
   "cell_type": "code",
   "execution_count": null,
   "metadata": {},
   "outputs": [],
   "source": [
    "# просмотрим общую информацию о датафрейме\n",
    "\n",
    "df.info()"
   ]
  },
  {
   "cell_type": "code",
   "execution_count": null,
   "metadata": {},
   "outputs": [],
   "source": [
    "# просмотрим первые 10 строк датафрейма\n",
    "\n",
    "df.head(10)"
   ]
  },
  {
   "cell_type": "code",
   "execution_count": null,
   "metadata": {},
   "outputs": [],
   "source": [
    "# построим гистограммы для всех столбцов датафрейма с числовыми значениями\n",
    "\n",
    "df.hist(figsize=(15, 20));"
   ]
  },
  {
   "cell_type": "markdown",
   "metadata": {},
   "source": [
    "## Предобработка данных"
   ]
  },
  {
   "cell_type": "markdown",
   "metadata": {},
   "source": [
    "### Обработка пропусков"
   ]
  },
  {
   "cell_type": "code",
   "execution_count": null,
   "metadata": {},
   "outputs": [],
   "source": [
    "# определим количество пропусков в каждом столбце\n",
    "\n",
    "df.isna().sum()"
   ]
  },
  {
   "cell_type": "markdown",
   "metadata": {},
   "source": [
    "Пропуски присутствуют в 14 столбцах. Попробуем заполнить пропуски, в случае невозможности сделать это - оставим как есть или удалим строки. \\\n",
    "Для начала определим, **какие из данных являются наиболее важными - пропуски в таких данных могут исказить результаты исследования**, а какие - менее значительными, пропуски в которых можно оставить. \\\n",
    "Изучив Series с количеством пропусков из вышележащей ячейки, можно прийти к выводу, что **единственными столбцами, пропуски в которых могут повлиять на исследование**, являются **locality_name - наименование населенного пункта**, и **cityCenters_nearest - расстояние до центра Санкт-Петербурга**. Сложно представить, чтобы потенциальный клиент проявил желание купить квартиру, которая находится непонятно в каком городе. Касательно данных о расстоянии до центра Санкт-Петербурга следует отметить, что они наиболее важны только для объявлений из Санкт-Петербурга - для объявлений из пригородов отсутствие информации в cityCenters_nearest не критично, т.к. определяющим фактором для таких объявлений в плане расстояния до центра Санкт-Петербурга будут данные с названиями населенных пунктов. \\\n",
    "С другой стороны, вряд ли для большинства клиентов отсутствие информации о высоте потолков, расстоянии до ближайшего аэропорта, количестве парков и водоемов в радиусе 3 км стало бы непреодолимой преградой. Более важные данные с пропусками - такие как жилая площадь квартиры, площадь кухни, принадлежность квартиры к типу apartment - с одной стороны, и количество этажей в доме - с другой, также вряд ли станут решающими для клиента факторами при покупке квартиры ввиду отсутствия пропусков в данных об общей площади квартиры с одной стороны, и этаже квартиры с другой. \\\n",
    "Учитывая вышеизложенное, **в случае невозможности заполнения пропусков в столбцах locality_name и cityCenters_nearest, соответствующие строки в датафрейме придется удалить** во избежание искажения результатов исследования. \\\n",
    "**Строки с пропусками в остальных столбцах**, в случае невозможности заполнения этих пропусков, **следует оставить**, т.к. такие пропуски не могут оказать существенного влияния на результаты исследования."
   ]
  },
  {
   "cell_type": "markdown",
   "metadata": {},
   "source": [
    "#### is_apartment"
   ]
  },
  {
   "cell_type": "markdown",
   "metadata": {},
   "source": [
    "Выдвигаю гипотезу о зависимости площади квартиры от ее принадлжености к типу apartment. Если гипотеза подтвердится, то пропуски в столбце is_apartment можно будет заполнить на булевы значения в зависимости от размера квартиры."
   ]
  },
  {
   "cell_type": "code",
   "execution_count": null,
   "metadata": {},
   "outputs": [],
   "source": [
    "# выведем три гистограммы для столбца total_area - для всех квартир\n",
    "\n",
    "df.plot(y='total_area', kind='hist', bins=50, xlim=(0, 300), title='для всех квартир');\n",
    "\n",
    "# для квартир, относящихся к типу apartment\n",
    "\n",
    "df.query('is_apartment == 1').plot(y='total_area', kind='hist', bins=50, xlim=(0, 300), \\\n",
    "                                   title='для квартир, относящихся к типу apartment');\n",
    "\n",
    "# для квартир, не относящихся к типу apartment\n",
    "\n",
    "df.query('is_apartment == 0').plot(y='total_area', kind='hist', bins=50, xlim=(0, 300), \\\n",
    "                                   title='для квартир, не относящихся к типу apartment');"
   ]
  },
  {
   "cell_type": "markdown",
   "metadata": {},
   "source": [
    "Ознакомившись с гистограммами, можно сделать вывод об отсутствии зависимости площади квартиры от ее принадлжености к типу apartment. \\\n",
    "В таком случае можно сделать предположение, что пропуски связаны с тем, что квартира не относится к типу apartment.\n",
    "\n",
    "\n"
   ]
  },
  {
   "cell_type": "code",
   "execution_count": null,
   "metadata": {},
   "outputs": [],
   "source": [
    "# количество пропусков в столбце is_apartment\n",
    "\n",
    "df['is_apartment'].isna().sum()"
   ]
  },
  {
   "cell_type": "code",
   "execution_count": null,
   "metadata": {},
   "outputs": [],
   "source": [
    "# и количество строк в датафрейме\n",
    "\n",
    "len(df)"
   ]
  },
  {
   "cell_type": "code",
   "execution_count": null,
   "metadata": {},
   "outputs": [],
   "source": [
    "# выведем количество значений True в столбце is_apartment\n",
    "\n",
    "len(df.query('is_apartment == 1'))"
   ]
  },
  {
   "cell_type": "code",
   "execution_count": null,
   "metadata": {},
   "outputs": [],
   "source": [
    "# и количество значений False \n",
    "\n",
    "len(df.query('is_apartment == 0'))"
   ]
  },
  {
   "cell_type": "markdown",
   "metadata": {},
   "source": [
    "Логика и цифры подсказывают, что предположение верно: количество пропусков в столбце - 20924, всего строк в датафрейме - 23699. А в тех строках, где значения не пропущены, апартаментов в 40 раз меньше, чем не апартаментов. \\\n",
    "В таком случае **заполним пропуски значениями False**."
   ]
  },
  {
   "cell_type": "code",
   "execution_count": null,
   "metadata": {},
   "outputs": [],
   "source": [
    "df['is_apartment'] = df['is_apartment'].fillna(False)"
   ]
  },
  {
   "cell_type": "markdown",
   "metadata": {},
   "source": [
    "#### balcony"
   ]
  },
  {
   "cell_type": "markdown",
   "metadata": {},
   "source": [
    "Скорее всего, пропуски в данных связаны с отсутствием балкона в квартире. В таком случае **пропуски можно заполнить нулями**."
   ]
  },
  {
   "cell_type": "code",
   "execution_count": null,
   "metadata": {},
   "outputs": [],
   "source": [
    "# заполним пропуски в столбце balcony нулями\n",
    "\n",
    "df['balcony'] = df['balcony'].fillna('0')"
   ]
  },
  {
   "cell_type": "code",
   "execution_count": null,
   "metadata": {},
   "outputs": [],
   "source": [
    "# проверим наличие пропусков в balcony\n",
    "\n",
    "df['balcony'].isna().sum()"
   ]
  },
  {
   "cell_type": "markdown",
   "metadata": {},
   "source": [
    "#### ceiling_height"
   ]
  },
  {
   "cell_type": "markdown",
   "metadata": {},
   "source": [
    "Выдвигаю гипотезу о том, что в домах с небольшим количеством этажей (от 1 до 4) потолки должны быть выше среднего значения. Если гипотеза подтвердится, то пропуски в столбце ceiling_height для квартир в таких домах можно будет заполнить на средние значения высоты потолка в домах с небольшим количеством этажей. \\\n",
    "Однако, прежде чем переходить к построению гистограмм для выборок данных по floors_total, следует рассчитать коэффициент корреляции Пирсона, чтобы определить наличие или отсутствие взаимосвязи между столбцами ceiling_height и floors_total."
   ]
  },
  {
   "cell_type": "code",
   "execution_count": null,
   "metadata": {},
   "outputs": [],
   "source": [
    "# выведем коэффициент корреляции Пирсона для столбцов ceiling_height и floors_total\n",
    "\n",
    "df['ceiling_height'].corr(df['floors_total'])"
   ]
  },
  {
   "cell_type": "markdown",
   "metadata": {},
   "source": [
    "Коэффициент корреляции составляет -0.03. Это говорит о том, что связь между количеством этажей и высотой потолков либо отсутствует, либо имеет более сложный характер. Т.к. в датафрейме нет еще одного такого параметра, который, по логике, мог бы быть взаимосвязан с высотой потолков, то принимаем, что связи между количеством этажей и высотой потолков нет. \\\n",
    "В таком случае **заменим пропуски в столбце ceiling_height на медианное значение, однако сделаем это после того, как избавимся от аномальных значений, которые, судя по гистограмме для столбца ceiling_height, имеют место**."
   ]
  },
  {
   "cell_type": "markdown",
   "metadata": {},
   "source": [
    "#### floors_total"
   ]
  },
  {
   "cell_type": "markdown",
   "metadata": {},
   "source": [
    "В датафрейме отсутствуют параметры, которые могут быть логически взаимосвязаны с количеством этажей в доме, следовательно, заполнить пропуски в столбце floors_total усредненными данными по связанным параметрам (например, методом группировки) не представляется возможным. \\\n",
    "В то же время, заполнять такие пропуски средним или медианным значение нельзя, т.к. это сильно исказит исходные данные. **Оставим пропуски**."
   ]
  },
  {
   "cell_type": "markdown",
   "metadata": {},
   "source": [
    "#### living_area "
   ]
  },
  {
   "cell_type": "markdown",
   "metadata": {},
   "source": [
    "Выдвигаю гипотезу о зависимости жилой площади квартиры от ее общей площади. Если гипотеза подтвердится и будет найдено доминирующее значение отношения жилой площади квартиры к ее общей площади, то пропуски в столбце living_area можно будет заполнить на рассчитанное значение общей площади квартиры на данное доминирующее значение."
   ]
  },
  {
   "cell_type": "code",
   "execution_count": null,
   "metadata": {},
   "outputs": [],
   "source": [
    "# построим гистограмму отношения жилой площади квартиры к ее общей площади \n",
    "\n",
    "((df['living_area'] / df['total_area']) * 100).plot(kind='hist', style='o', bins=50, ylim=(50, 1700));"
   ]
  },
  {
   "cell_type": "markdown",
   "metadata": {},
   "source": [
    "Из гистограммы отношения жилой площади квартиры к ее общей площади (далее - отношение) видно, что чаще всего отношение составляет 50-65%. Однако гистограмма имеет довольно широкий размах как для значений с частотой 50 и более - около 52%, так и для значений с частотой более 200 - порядка 40%. \\\n",
    "Следовательно, делать выводы о наличии взаимосвязи между жилой площадью квартиры и ее общей площадью нельзя. **Пропуски в столбце ceiling_height оставим**."
   ]
  },
  {
   "cell_type": "markdown",
   "metadata": {},
   "source": [
    "#### kitchen_area"
   ]
  },
  {
   "cell_type": "markdown",
   "metadata": {},
   "source": [
    "В датафрейме отсутствуют параметры, которые могут быть логически взаимосвязаны с площадью кухни, следовательно, заполнить пропуски в столбце kitchen_area усредненными данными по связанным параметрам не представляется возможным.\n",
    "В то же время, заполнять такие пропуски средним или медианным значение нельзя, т.к. это сильно исказит исходные данные. **Оставим пропуски**."
   ]
  },
  {
   "cell_type": "markdown",
   "metadata": {},
   "source": [
    "#### locality_name"
   ]
  },
  {
   "cell_type": "markdown",
   "metadata": {},
   "source": [
    "В датафрейме отсутствуют параметры, которые могут быть логически взаимосвязаны с наименованием населенного пункта, следовательно, заполнить пропуски в столбце locality_name по связанным параметрам не представляется возможным. В то же время, заполнять такие пропуски средним или медианным значение нельзя, т.к. значения в столбце имеют тип object. \\\n",
    "С учетом того, что данные в столбце locality_name были отнесены к наиболее важными - пропуски в таких данных могут исказить результаты исследования, **строки с такими пропусками следует удалить**. \\\n",
    "Т.к. количество пропусков в locality_name составляет 49, а общее количество строк в датафрейме - 23699, то избавившись от строк с такими пропусками мы потеряем лишь 0.2% исходных данных."
   ]
  },
  {
   "cell_type": "code",
   "execution_count": null,
   "metadata": {},
   "outputs": [],
   "source": [
    "# удалим пропуски в locality_name\n",
    "\n",
    "df = df.dropna(subset=['locality_name'])"
   ]
  },
  {
   "cell_type": "code",
   "execution_count": null,
   "metadata": {},
   "outputs": [],
   "source": [
    "# проверим наличие пропусков в locality_name\n",
    "\n",
    "df['locality_name'].isna().sum()"
   ]
  },
  {
   "cell_type": "markdown",
   "metadata": {},
   "source": [
    "#### cityCenters_nearest"
   ]
  },
  {
   "cell_type": "markdown",
   "metadata": {},
   "source": [
    "Для того чтобы обработать пропуски в столбце **cityCenters_nearest - расстояние до центра города - Санкт-Петербурга** - необходимо провести следующее логическое размышление. Прежде всего, в датафрейме следует найти данные (столбцы), которые могут быть взаимосвязаны с данными из столбца cityCenters_nearest и по которым можно заполнить пропуски в данном столбце. С позиции логики таким параметром является locality_name - наименование населенного пункта.\n",
    "Далее о связи cityCenters_nearest и  locality_name. Данные в датафрейме собраны по Санкт-Петербургу и пригородам. Логично предположить, что пригороды имеют несопоставимо малую в сравнении с Санкт-Петербургом площадь, а также достаточную удаленность от центра Петербурга. Если это так, пропуски в cityCenters_nearest для каждого пригорода можно заполнить **медианным** значением cityCenters_nearest для данного пригорода. \\\n",
    "\\\n",
    "Проверим данное утверждение. Согласно внешним данным ([1](https://travelask.ru/articles/samye-krupnye-goroda-leningradskoy-oblasti), [2](https://biblio-vyborg.ru/settlements/5-vyborg#:~:text=Выборг%20—%20второй%20по%20населению%20и,мощный%20замок%2C%20получивший%20название%20Выборг)), крупнейшим по площади населенным пунктом Ленинградской области является Выборг. Его площадь составляет [161 квадратный километр](https://ru.wikipedia.org/wiki/Выборг).\n",
    "\\\n",
    "Площадь Санкт-Петербурга составляет [1439 квадратных километров](https://ru.wikipedia.org/wiki/Санкт-Петербург), что почти в 9 раз больше площади крупнейшего пригорода. \\\n",
    "Исходя из вышеизложенного, можно сделать вывод о справедливости высказанного утверждения, учитывая несопоставимо малую площадь пригородов в сравнении с площадью Санкт-Петербурга, а также [удаленность](https://commons.wikimedia.org/wiki/File:Len_region_map.gif) пригородов от центра Санкт-Петербурга (например, площадь близко расположенного к Петербургу Коммунара составляет [13 квадратных километров](https://ru.wikipedia.org/wiki/Коммунар_(Гатчинский_район)), расстояние до центра Санкт-Петербурга - [43 километра](https://www.avtodispetcher.ru/distance/?from=Коммунар&to=Санкт-Петербург)).\n",
    "\n",
    "Таким образом, **пропуски в cityCenters_nearest для каждого пригорода заполним медианным значением cityCenters_nearest для данного пригорода**."
   ]
  },
  {
   "cell_type": "code",
   "execution_count": null,
   "metadata": {},
   "outputs": [],
   "source": [
    "# выведем первые 20 населенных пунктов из датафрейма по количеству объявлений\n",
    "\n",
    "df['locality_name'].value_counts().head(20)"
   ]
  },
  {
   "cell_type": "code",
   "execution_count": null,
   "metadata": {},
   "outputs": [],
   "source": [
    "# рассчитаем количество уникальных населенных пунктов в датафрейме\n",
    "\n",
    "df['locality_name'].value_counts().count()"
   ]
  },
  {
   "cell_type": "markdown",
   "metadata": {},
   "source": [
    "Также необходимо проверить, нет ли в данных locality_name дубликатов - их наличие может сделать некорректным заполнение пропусков в locality_name."
   ]
  },
  {
   "cell_type": "code",
   "execution_count": null,
   "metadata": {},
   "outputs": [],
   "source": [
    "# выведем и изучим список уникальных значений locality_name\n",
    "\n",
    "sorted(df['locality_name'].unique())"
   ]
  },
  {
   "cell_type": "markdown",
   "metadata": {},
   "source": [
    "Как видно из вывода верхней ячейки, в данных названий населенных пунктов присутствует множество неявных дубликатов. Почти все неявные дубликаты содержат в своем названии производные от слова \"поселок\". Чтобы устранить неявные дубликаты, напишем специальную функцию, которая будет заменять приставку перед названием населенного пункта - \"посёлок\", \"поселок городского типа\" и т.д. на \"поселок\". Таким образом мы избавимся от большинства неявных дубликатов. \\\n",
    "Кроме того, некоторые неявные дубликаты также содержат в названии приставку \"садовое товарищество\" - ее также следует заменить на \"поселок\". Для полной унификации изменим также приставку \"садоводческое некоммерческое товарищество\" на \"поселок\" - название соответствующего данной приставке населенного пункта хоть и не имеет неявных дубликатов, тем не менее без него список наименований населенных пунктов будет смотреться симпатичнее."
   ]
  },
  {
   "cell_type": "code",
   "execution_count": null,
   "metadata": {},
   "outputs": [],
   "source": [
    "# создадим функцию, которая унифицирует все названия населенных пунктов,\n",
    "# которые содержат производную от слова \"поселок\" \n",
    "\n",
    "def suburb_improver(elem):\n",
    "    if 'посёлок' in elem:\n",
    "        elem = elem.replace('посёлок', 'поселок')\n",
    "    if 'посёлок городского типа' in elem:\n",
    "        elem = elem.replace('посёлок городского типа', 'поселок')\n",
    "    if 'поселок городского типа' in elem:\n",
    "        elem = elem.replace('поселок городского типа', 'поселок')\n",
    "    if 'посёлок при железнодорожной станции' in elem:\n",
    "        elem = elem.replace('посёлок при железнодорожной станции', 'поселок')\n",
    "    if 'поселок при железнодорожной станции' in elem:\n",
    "        elem = elem.replace('поселок при железнодорожной станции', 'поселок')\n",
    "    if 'поселок станции' in elem:\n",
    "        elem = elem.replace('поселок станции', 'поселок')\n",
    "    if 'посёлок станции' in elem:\n",
    "        elem = elem.replace('посёлок станции', 'поселок')\n",
    "    if 'коттеджный посёлок' in elem:\n",
    "        elem = elem.replace('коттеджный посёлок', 'поселок')\n",
    "    if 'коттеджный поселок' in elem:\n",
    "        elem = elem.replace('коттеджный поселок', 'поселок')\n",
    "    if 'городской посёлок' in elem:\n",
    "        elem = elem.replace('городской посёлок', 'поселок')\n",
    "    if 'городской поселок' in elem:\n",
    "        elem = elem.replace('городской поселок', 'поселок')\n",
    "    if 'садовое товарищество' in elem:\n",
    "        elem = elem.replace('садовое товарищество', 'поселок')\n",
    "    if 'садоводческое некоммерческое товарищество' in elem:\n",
    "        elem = elem.replace('садоводческое некоммерческое товарищество', 'поселок')\n",
    "    return elem"
   ]
  },
  {
   "cell_type": "code",
   "execution_count": null,
   "metadata": {},
   "outputs": [],
   "source": [
    "# импортируем библиотеку warnings и вызовем команду simplefilter\n",
    "\n",
    "import warnings\n",
    "warnings.simplefilter(\"ignore\")"
   ]
  },
  {
   "cell_type": "code",
   "execution_count": null,
   "metadata": {},
   "outputs": [],
   "source": [
    "# применим функцию к столбцу locality_name\n",
    "\n",
    "df['locality_name'] = df['locality_name'].apply(suburb_improver)"
   ]
  },
  {
   "cell_type": "code",
   "execution_count": null,
   "metadata": {},
   "outputs": [],
   "source": [
    "# выведем и изучим обновленный список уникальных значений locality_name\n",
    "\n",
    "sorted(df['locality_name'].unique())"
   ]
  },
  {
   "cell_type": "code",
   "execution_count": null,
   "metadata": {},
   "outputs": [],
   "source": [
    "# отдельно проверим наличие неявных дубликатов для Санкт-Петербурга\n",
    "\n",
    "counter = 0\n",
    "\n",
    "for i in df['locality_name'].unique():\n",
    "    if 'етербург' in i or 'анкт' in i or 'итер' in i:\n",
    "        counter += 1\n",
    "        \n",
    "counter"
   ]
  },
  {
   "cell_type": "code",
   "execution_count": null,
   "metadata": {},
   "outputs": [],
   "source": [
    "# вновь рассчитаем количество уникальных населенных пунктов в датафрейме\n",
    "\n",
    "df['locality_name'].value_counts().count()"
   ]
  },
  {
   "cell_type": "markdown",
   "metadata": {},
   "source": [
    "Теперь в locality_name отсутствуют явные и неявные дубликаты. **Заполняем пропуски для пригородов**."
   ]
  },
  {
   "cell_type": "code",
   "execution_count": null,
   "metadata": {},
   "outputs": [],
   "source": [
    "# сделаем контрольную проверку количества пропусков в cityCenters_nearest\n",
    "\n",
    "df['cityCenters_nearest'].isna().sum()"
   ]
  },
  {
   "cell_type": "code",
   "execution_count": null,
   "metadata": {},
   "outputs": [],
   "source": [
    "# создадим цикл, который заполнит пропуски для пригородов\n",
    "# медианным значением cityCenters_nearest для каждого пригорода\n",
    "\n",
    "for suburb in df.query('locality_name != \"Санкт-Петербург\"')['locality_name'].unique():\n",
    "    df.loc[(df['cityCenters_nearest'].isna()) & (df['locality_name'] == suburb), 'cityCenters_nearest'] = \\\n",
    "    df.groupby('locality_name')['cityCenters_nearest'].median()[suburb]"
   ]
  },
  {
   "cell_type": "code",
   "execution_count": null,
   "metadata": {},
   "outputs": [],
   "source": [
    "# проверим количество пропусков в cityCenters_nearest\n",
    "\n",
    "df['cityCenters_nearest'].isna().sum()"
   ]
  },
  {
   "cell_type": "markdown",
   "metadata": {},
   "source": [
    "Как видно, цикл заполнил лишь 64 пропуска. Возможно, это связано с тем, что для отдельных пригородов расстояние до центра Санкт-Петербурга не указано ни в одном объявлении."
   ]
  },
  {
   "cell_type": "code",
   "execution_count": null,
   "metadata": {},
   "outputs": [],
   "source": [
    "# проверим количество пригородов, для которых отсутствует информация в cityCenters_nearest\n",
    "\n",
    "df.pivot_table(index='locality_name', values='cityCenters_nearest', aggfunc='sum').query('cityCenters_nearest == 0').count()"
   ]
  },
  {
   "cell_type": "markdown",
   "metadata": {},
   "source": [
    "Действительно, в объявлениях для 336 пригородов Санкт-Петербурга отсутствует информация в столбце cityCenters_nearest. \\\n",
    "Проверим, для какого количества данных по Санкт-Петербургу отсутствует информация о расстоянии до центра города."
   ]
  },
  {
   "cell_type": "code",
   "execution_count": null,
   "metadata": {},
   "outputs": [],
   "source": [
    "# проверим количество пропусков в cityCenters_nearest для Санкт-Петербурга\n",
    "\n",
    "df.query('locality_name == \"Санкт-Петербург\"')['cityCenters_nearest'].isna().sum()"
   ]
  },
  {
   "cell_type": "markdown",
   "metadata": {},
   "source": [
    "Как уже было описано выше, для объявлений из пригородов отсутствие информации в cityCenters_nearest не критично - определяющим фактором для таких объявлений в плане расстояния до центра Санкт-Петербурга будут данные с названиями населенных пунктов. Кроме того, данных с пропусками для пригородов очень много - порядка 23% от всех данных. Столь большой процент строк отбрасывать не стоит.\n",
    "\n",
    "**Таким образом, строки с пропусками в cityCenters_nearest для пригородов оставим**."
   ]
  },
  {
   "cell_type": "markdown",
   "metadata": {},
   "source": [
    "Учитывая степень важности данных из столбца cityCenters_nearest для Санкт-Петербурга, а также небольшое количество пропусков в них, **строки с соответствующими пропусками следует удалить**."
   ]
  },
  {
   "cell_type": "code",
   "execution_count": null,
   "metadata": {},
   "outputs": [],
   "source": [
    "# удалим пропуски в cityCenters_nearest для Санкт-Петербурга\n",
    "\n",
    "df = df.drop(df[(df['locality_name'] == 'Санкт-Петербург') & (df['cityCenters_nearest'].isna())].index)"
   ]
  },
  {
   "cell_type": "code",
   "execution_count": null,
   "metadata": {},
   "outputs": [],
   "source": [
    "# проверим наличие пропусков в cityCenters_nearest для Санкт-Петербурга\n",
    "\n",
    "df.query('locality_name == \"Санкт-Петербург\"')['cityCenters_nearest'].isna().sum()"
   ]
  },
  {
   "cell_type": "markdown",
   "metadata": {},
   "source": [
    "#### parks_around3000 и ponds_around3000"
   ]
  },
  {
   "cell_type": "code",
   "execution_count": null,
   "metadata": {},
   "outputs": [],
   "source": [
    "# проверим, как изменилось количество пропусков в целом по датафрейму\n",
    "\n",
    "df.isna().sum()"
   ]
  },
  {
   "cell_type": "code",
   "execution_count": null,
   "metadata": {},
   "outputs": [],
   "source": [
    "# проверим, совпадают ли пропуски для parks_around3000 и ponds_around3000\n",
    "\n",
    "len(df[(df['parks_around3000'].isna()) & (df['ponds_around3000'].isna())])"
   ]
  },
  {
   "cell_type": "code",
   "execution_count": null,
   "metadata": {},
   "outputs": [],
   "source": [
    "# проверим, сколько пропусков в parks_around3000 и ponds_around3000 приходится на пригороды\n",
    "\n",
    "len(df[(df['parks_around3000'].isna()) & (df['ponds_around3000'].isna()) & ~(df['locality_name'] == 'Санкт-Петербург')])"
   ]
  },
  {
   "cell_type": "markdown",
   "metadata": {},
   "source": [
    "Таким образом, учитывая утверждения о том, что пригороды имеют несопоставимо малую в сравнении с Санкт-Петербургом площадь, а также достаточную удаленность от центра Петербурга, мы можем заполнить пропуски в parks_around3000 и ponds_around3000 для каждого пригорода на медианные значения parks_around3000 и ponds_around3000 для данного пригорода."
   ]
  },
  {
   "cell_type": "code",
   "execution_count": null,
   "metadata": {},
   "outputs": [],
   "source": [
    "# для каждого пригорода заполним пропуски в столбце parks_around3000 \n",
    "# медианным значением parks_around3000 для данного пригорода\n",
    "\n",
    "for suburb in df['locality_name'].unique():\n",
    "    df.loc[(df['parks_around3000'].isna()) & (df['locality_name'] == suburb), 'parks_around3000'] = \\\n",
    "    df.groupby('locality_name')['parks_around3000'].median()[suburb]"
   ]
  },
  {
   "cell_type": "code",
   "execution_count": null,
   "metadata": {},
   "outputs": [],
   "source": [
    "# для каждого пригорода заполним пропуски в столбце ponds_around3000 \n",
    "# медианным значением ponds_around3000 для данного пригорода\n",
    "\n",
    "for suburb in df['locality_name'].unique():\n",
    "    df.loc[(df['ponds_around3000'].isna()) & (df['locality_name'] == suburb), 'ponds_around3000'] = \\\n",
    "    df.groupby('locality_name')['ponds_around3000'].median()[suburb]"
   ]
  },
  {
   "cell_type": "code",
   "execution_count": null,
   "metadata": {},
   "outputs": [],
   "source": [
    "# проверим, как изменилось количество пропусков для parks_around3000 \n",
    "\n",
    "df['parks_around3000'].isna().sum()"
   ]
  },
  {
   "cell_type": "code",
   "execution_count": null,
   "metadata": {},
   "outputs": [],
   "source": [
    "# и для ponds_around3000 \n",
    "\n",
    "df['ponds_around3000'].isna().sum()"
   ]
  },
  {
   "cell_type": "markdown",
   "metadata": {},
   "source": [
    "Циклы не заполнили ни одного пропуска. Скорее всего это связано с тем, что для отдельных пригородов в столбцах parks_around3000 и ponds_around3000 наблюдаются исключительно пропуски. Т.к. данные из этих столбцов не относятся к тем, пропуски в которых могу исказить результат исследования, **оставим пропуски**."
   ]
  },
  {
   "cell_type": "markdown",
   "metadata": {},
   "source": [
    "#### airports_nearest, parks_nearest, ponds_nearest"
   ]
  },
  {
   "cell_type": "code",
   "execution_count": null,
   "metadata": {},
   "outputs": [],
   "source": [
    "# проверим, сколько пропусков в airports_nearest приходится на пригороды\n",
    "\n",
    "len(df[(df['airports_nearest'].isna()) & ~(df['locality_name'] == 'Санкт-Петербург')])"
   ]
  },
  {
   "cell_type": "code",
   "execution_count": null,
   "metadata": {},
   "outputs": [],
   "source": [
    "# проверим, сколько пропусков в parks_nearest приходится на пригороды\n",
    "\n",
    "len(df[(df['parks_nearest'].isna()) & ~(df['locality_name'] == 'Санкт-Петербург')])"
   ]
  },
  {
   "cell_type": "code",
   "execution_count": null,
   "metadata": {},
   "outputs": [],
   "source": [
    "# проверим, сколько пропусков в ponds_nearest приходится на пригороды\n",
    "\n",
    "len(df[(df['ponds_nearest'].isna()) & ~(df['locality_name'] == 'Санкт-Петербург')])"
   ]
  },
  {
   "cell_type": "markdown",
   "metadata": {},
   "source": [
    "Учитывая утверждения о том, что пригороды имеют несопоставимо малую в сравнении с Санкт-Петербургом площадь, а также достаточную удаленность от центра Петербурга, мы можем заполнить пропуски в airports_nearest, parks_nearest и ponds_nearest для каждого пригорода на медианные значения соответствующих столбцов для данного пригорода."
   ]
  },
  {
   "cell_type": "code",
   "execution_count": null,
   "metadata": {},
   "outputs": [],
   "source": [
    "# для каждого пригорода заполним пропуски в столбце airports_nearest \n",
    "# медианным значением airports_nearest для данного пригорода\n",
    "\n",
    "for suburb in df['locality_name'].unique():\n",
    "    df.loc[(df['airports_nearest'].isna()) & (df['locality_name'] == suburb), 'airports_nearest'] = \\\n",
    "    df.groupby('locality_name')['airports_nearest'].median()[suburb]"
   ]
  },
  {
   "cell_type": "code",
   "execution_count": null,
   "metadata": {},
   "outputs": [],
   "source": [
    "# для каждого пригорода заполним пропуски в столбце parks_nearest\n",
    "# медианным значением parks_nearest для данного пригорода\n",
    "\n",
    "for suburb in df['locality_name'].unique():\n",
    "    df.loc[(df['parks_nearest'].isna()) & (df['locality_name'] == suburb), 'parks_nearest'] = \\\n",
    "    df.groupby('locality_name')['parks_nearest'].median()[suburb]"
   ]
  },
  {
   "cell_type": "code",
   "execution_count": null,
   "metadata": {},
   "outputs": [],
   "source": [
    "# для каждого пригорода заполним пропуски в столбце ponds_nearest \n",
    "# медианным значением ponds_nearest для данного пригорода\n",
    "\n",
    "for suburb in df['locality_name'].unique():\n",
    "    df.loc[(df['ponds_nearest'].isna()) & (df['locality_name'] == suburb), 'ponds_nearest'] = \\\n",
    "    df.groupby('locality_name')['ponds_nearest'].median()[suburb]"
   ]
  },
  {
   "cell_type": "code",
   "execution_count": null,
   "metadata": {},
   "outputs": [],
   "source": [
    "# проверим, как изменилось количество пропусков для parks_around3000 \n",
    "\n",
    "df['airports_nearest'].isna().sum()"
   ]
  },
  {
   "cell_type": "code",
   "execution_count": null,
   "metadata": {},
   "outputs": [],
   "source": [
    "# проверим, как изменилось количество пропусков для parks_around3000 \n",
    "\n",
    "df['parks_nearest'].isna().sum()"
   ]
  },
  {
   "cell_type": "code",
   "execution_count": null,
   "metadata": {},
   "outputs": [],
   "source": [
    "# проверим, как изменилось количество пропусков для parks_around3000 \n",
    "\n",
    "df['ponds_nearest'].isna().sum()"
   ]
  },
  {
   "cell_type": "markdown",
   "metadata": {},
   "source": [
    "Циклы смогли заполнить часть пропусков. **Оставшиеся пропуски оставим**."
   ]
  },
  {
   "cell_type": "markdown",
   "metadata": {},
   "source": [
    "#### days_exposition"
   ]
  },
  {
   "cell_type": "markdown",
   "metadata": {},
   "source": [
    "В датафрейме отсутствуют параметры, которые могут быть логически взаимосвязаны с длительностью размещения объявления, следовательно, заполнить пропуски в столбце days_exposition усредненными данными по связанным параметрам не представляется возможным. В то же время, заполнять такие пропуски средним или медианным значение нельзя, т.к. это сильно исказит исходные данные. **Оставим пропуски**."
   ]
  },
  {
   "cell_type": "markdown",
   "metadata": {},
   "source": [
    "### Обработка дубликатов"
   ]
  },
  {
   "cell_type": "markdown",
   "metadata": {},
   "source": [
    "#### Обработка явных дубликатов"
   ]
  },
  {
   "cell_type": "code",
   "execution_count": null,
   "metadata": {},
   "outputs": [],
   "source": [
    "# проверим наличие явных дубликатов в датафрейме\n",
    "\n",
    "df.duplicated().sum()"
   ]
  },
  {
   "cell_type": "markdown",
   "metadata": {},
   "source": [
    "#### Обработка неявных дубликатов"
   ]
  },
  {
   "cell_type": "markdown",
   "metadata": {},
   "source": [
    "Рассуждая логически, можно прийти к выводу, что единственным столбцов, в котором могли быть неявные дубликаты, является locality_name - наименование населенного пункта - как единственный со значениями типа object. Однако неявные дубликаты в этом столбце уже были обработаны во время этапа заполнения пропусков. \\\n",
    "Значения всех остальных столбцов имеют типы int, float, bool или datetime - такие данные могут повторяться."
   ]
  },
  {
   "cell_type": "markdown",
   "metadata": {},
   "source": [
    "### Изменение типов данных"
   ]
  },
  {
   "cell_type": "code",
   "execution_count": null,
   "metadata": {},
   "outputs": [],
   "source": [
    "# еще раз просмотрим общую информацию о датафрейме\n",
    "\n",
    "df.info()"
   ]
  },
  {
   "cell_type": "markdown",
   "metadata": {},
   "source": [
    "Учитывая вывод верхней ячейки, а также характер данных, следует изменить тип данных в столбцах с индексами 3 и 13. \\\n",
    "Следует отметить, что хоть тип данных в столбцах с индексами 6, 17, 19 - float - не соответствует типу данных int, как логически более подходящему для данных столбцов, однако менять тип данных столбцов не стоит. Дело в том, что для изменения float на int в этих столбцах придется удалить все строки с пропусками, что лишит нас тысяч строк данных. С другой стороны, для дальнейшего исследования вопрос изменения типа данных этих столбцов не является принципиальным (ни для расчетов, ни для логических выводов). \\\n",
    "Тем не менее рассмотреть столбцы с индексами 6, 17, 19 стоит, т.к. в них могут быть нелогичные значения (например, 2.5 парка вблизи 3 км от квартиры), которые необходимо отбросить."
   ]
  },
  {
   "cell_type": "markdown",
   "metadata": {},
   "source": [
    "#### first_day_exposition"
   ]
  },
  {
   "cell_type": "markdown",
   "metadata": {},
   "source": [
    "Изменим тип данных значений столбца first_day_exposition с object на datetime."
   ]
  },
  {
   "cell_type": "code",
   "execution_count": null,
   "metadata": {},
   "outputs": [],
   "source": [
    "# выведем первые строки столбца first_day_exposition, чтобы определить характер данных \n",
    "# и формат записи даты и времени\n",
    "\n",
    "df['first_day_exposition'].head(15)"
   ]
  },
  {
   "cell_type": "code",
   "execution_count": null,
   "metadata": {},
   "outputs": [],
   "source": [
    "# изменим тип данных значений столбца first_day_exposition с object на datetime\n",
    "\n",
    "df['first_day_exposition'] = pd.to_datetime(df['first_day_exposition'], format='%Y-%m-%dT%H:%M:%S')"
   ]
  },
  {
   "cell_type": "code",
   "execution_count": null,
   "metadata": {},
   "outputs": [],
   "source": [
    "# вновь выведем общую информацию о датафрейме\n",
    "\n",
    "df.info()"
   ]
  },
  {
   "cell_type": "code",
   "execution_count": null,
   "metadata": {},
   "outputs": [],
   "source": [
    "# вновь выведем первые строки столбца first_day_exposition\n",
    "\n",
    "df['first_day_exposition'].head(15)"
   ]
  },
  {
   "cell_type": "markdown",
   "metadata": {},
   "source": [
    "Как мы видим, при изменении типа данных на datetime у значений в столбце first_day_exposition \"отбросилось\" время. Это связано с тем, что в исходных данных все значения first_day_exposition были \"округлены\" до дней - числовая составляющая всех данных была 00:00:00."
   ]
  },
  {
   "cell_type": "markdown",
   "metadata": {},
   "source": [
    "#### balcony"
   ]
  },
  {
   "cell_type": "markdown",
   "metadata": {},
   "source": [
    "Изменим тип данных значений столбца balcony с object на int поэтапно. \\\n",
    "Сначала преобразуем значения столбца balcony в тип данных float, затем проверим, все ли значения столбца целыми числами, записанными в виде дроби (например, 1.0, 5.0), или же среди них есть вещественные числа (например, 3.5 балкона), после чего обработаем аномалии (при наличии) и изменим тип данных с float на int."
   ]
  },
  {
   "cell_type": "code",
   "execution_count": null,
   "metadata": {},
   "outputs": [],
   "source": [
    "# изменим тип данных значений столбца balcony на float\n",
    "\n",
    "df['balcony'] = pd.to_numeric(df['balcony'], errors='coerce')"
   ]
  },
  {
   "cell_type": "code",
   "execution_count": null,
   "metadata": {},
   "outputs": [],
   "source": [
    "# проверим тип данных и количество пропусков в balcony\n",
    "\n",
    "df.info()"
   ]
  },
  {
   "cell_type": "code",
   "execution_count": null,
   "metadata": {},
   "outputs": [],
   "source": [
    "# выведем гистограмму для столбца balcony\n",
    "\n",
    "df.plot(y='balcony', kind='hist', bins=50);"
   ]
  },
  {
   "cell_type": "markdown",
   "metadata": {},
   "source": [
    "Как видно из гистограммы, все значения столбца являются целыми числами, записанными в виде дроби."
   ]
  },
  {
   "cell_type": "code",
   "execution_count": null,
   "metadata": {},
   "outputs": [],
   "source": [
    "# изменим тип данных значений столбца balcony на int\n",
    "\n",
    "df['balcony'] = df['balcony'].astype('int')"
   ]
  },
  {
   "cell_type": "markdown",
   "metadata": {},
   "source": [
    "#### floors_total"
   ]
  },
  {
   "cell_type": "markdown",
   "metadata": {},
   "source": [
    "Проверим, все ли значения floors_total являются истинно целыми числами (1.0, 5.0, 10.0), или среди них присутствуют истинно дробные числа."
   ]
  },
  {
   "cell_type": "code",
   "execution_count": null,
   "metadata": {},
   "outputs": [],
   "source": [
    "# выведем гистограмму для столбца floors_total\n",
    "\n",
    "df.plot(y='floors_total', kind='hist', xlim=(0, 60), ylim=(0, 1), bins=200, figsize=(18, 4));"
   ]
  },
  {
   "cell_type": "markdown",
   "metadata": {},
   "source": [
    "По гистограмме видно, что все значения столбца floors_total являются истинно целыми числами, следовательно, мы можем не опасаться искажения данных."
   ]
  },
  {
   "cell_type": "markdown",
   "metadata": {},
   "source": [
    "#### parks_around3000"
   ]
  },
  {
   "cell_type": "markdown",
   "metadata": {},
   "source": [
    "Проверим, все ли значения parks_around3000 являются истинно целыми числами (1.0, 5.0, 10.0), или среди них присутствуют истинно дробные числа."
   ]
  },
  {
   "cell_type": "code",
   "execution_count": null,
   "metadata": {},
   "outputs": [],
   "source": [
    "# выведем гистограмму для столбца parks_around3000\n",
    "\n",
    "df.plot(y='parks_around3000', kind='hist', xlim=(0, 6), ylim=(0, 1), bins=50);"
   ]
  },
  {
   "cell_type": "markdown",
   "metadata": {},
   "source": [
    "По гистограмме видно, что все значения столбца parks_around3000 являются истинно целыми числами, следовательно, мы можем не опасаться искажения данных."
   ]
  },
  {
   "cell_type": "markdown",
   "metadata": {},
   "source": [
    "#### ponds_around3000"
   ]
  },
  {
   "cell_type": "markdown",
   "metadata": {},
   "source": [
    "Проверим, все ли значения ponds_around3000 являются истинно целыми числами (1.0, 5.0, 10.0), или среди них присутствуют истинно дробные числа."
   ]
  },
  {
   "cell_type": "code",
   "execution_count": null,
   "metadata": {},
   "outputs": [],
   "source": [
    "# выведем гистограмму для столбца ponds_around3000\n",
    "\n",
    "df.plot(y='ponds_around3000', kind='hist', xlim=(0, 6), ylim=(0, 1), bins=50);"
   ]
  },
  {
   "cell_type": "markdown",
   "metadata": {},
   "source": [
    "По гистограмме видно, что все значения столбца ponds_around3000 являются истинно целыми числами, следовательно, мы можем не опасаться искажения данных."
   ]
  },
  {
   "cell_type": "markdown",
   "metadata": {},
   "source": [
    "### Обработка аномальных значений"
   ]
  },
  {
   "cell_type": "code",
   "execution_count": null,
   "metadata": {},
   "outputs": [],
   "source": [
    "# вновь построим гистограммы для всех столбцов датафрейма с числовыми значениями\n",
    "\n",
    "df.hist(figsize=(20, 20));"
   ]
  },
  {
   "cell_type": "markdown",
   "metadata": {},
   "source": [
    "Изучив гистограммы, уже можно определить, в каких столбцах все значения лежат в пределах разумной нормы, а в каких данные следует проверить более детально."
   ]
  },
  {
   "cell_type": "markdown",
   "metadata": {},
   "source": [
    "#### last_price"
   ]
  },
  {
   "cell_type": "code",
   "execution_count": null,
   "metadata": {},
   "outputs": [],
   "source": [
    "# построим более наглядную гистограмму для столбца last_price\n",
    "\n",
    "(df['last_price'] / 1000000).plot(y=('last_price'), kind='hist', bins=50, ylim=(0, 100));"
   ]
  },
  {
   "cell_type": "markdown",
   "metadata": {},
   "source": [
    "Как мы видим, в данных присутствуют явные аномалии - значения более 200 миллионов."
   ]
  },
  {
   "cell_type": "code",
   "execution_count": null,
   "metadata": {},
   "outputs": [],
   "source": [
    "# выведем строки датафрейма со значением last_price более 200 миллионов\n",
    "\n",
    "df.query('last_price > 200000000').sort_values(by='last_price')"
   ]
  },
  {
   "cell_type": "markdown",
   "metadata": {},
   "source": [
    "**Удалим аномальные значения**."
   ]
  },
  {
   "cell_type": "code",
   "execution_count": null,
   "metadata": {},
   "outputs": [],
   "source": [
    "df = df.drop(df[(df['last_price'] > 200000000)].index)"
   ]
  },
  {
   "cell_type": "markdown",
   "metadata": {},
   "source": [
    "#### total_area"
   ]
  },
  {
   "cell_type": "code",
   "execution_count": null,
   "metadata": {},
   "outputs": [],
   "source": [
    "# вновь построим гистограмму для столбца total_area\n",
    "\n",
    "df.plot(y='total_area', kind='hist', bins=50);"
   ]
  },
  {
   "cell_type": "markdown",
   "metadata": {},
   "source": [
    "Как мы видим, в данных присутствуют аномалии - значения более 200 квадратных метров."
   ]
  },
  {
   "cell_type": "code",
   "execution_count": null,
   "metadata": {},
   "outputs": [],
   "source": [
    "# выведем строки датафрейма со значением total_area более 200\n",
    "\n",
    "df.query('total_area > 200')"
   ]
  },
  {
   "cell_type": "markdown",
   "metadata": {},
   "source": [
    "**Удалим аномальные значения**."
   ]
  },
  {
   "cell_type": "code",
   "execution_count": null,
   "metadata": {},
   "outputs": [],
   "source": [
    "df = df.drop(df[(df['total_area'] > 200)].index)"
   ]
  },
  {
   "cell_type": "markdown",
   "metadata": {},
   "source": [
    "#### first_day_exposition"
   ]
  },
  {
   "cell_type": "markdown",
   "metadata": {},
   "source": [
    "В столбце first_day_exposition могут быть аномальные значения - либо слишком \"старые\" значения типа datetime (например, 1970-01-01), либо те значения, которые можно отнести к будущему времени (например, 2100-01-01)."
   ]
  },
  {
   "cell_type": "code",
   "execution_count": null,
   "metadata": {},
   "outputs": [],
   "source": [
    "# выведем первые пять значений столбца first_day_exposition, отсортированного по возрастанию значений\n",
    "\n",
    "df['first_day_exposition'].sort_values().head()"
   ]
  },
  {
   "cell_type": "code",
   "execution_count": null,
   "metadata": {},
   "outputs": [],
   "source": [
    "# выведем последние пять значений столбца first_day_exposition, отсортированного по возрастанию значений\n",
    "\n",
    "df['first_day_exposition'].sort_values().tail()"
   ]
  },
  {
   "cell_type": "markdown",
   "metadata": {},
   "source": [
    "Аномальных значений не обнаружено."
   ]
  },
  {
   "cell_type": "markdown",
   "metadata": {},
   "source": [
    "#### rooms"
   ]
  },
  {
   "cell_type": "code",
   "execution_count": null,
   "metadata": {},
   "outputs": [],
   "source": [
    "# построим более наглядную гистограмму для столбца rooms\n",
    "\n",
    "df.plot(y='rooms', kind='hist', bins=50);"
   ]
  },
  {
   "cell_type": "markdown",
   "metadata": {},
   "source": [
    "Из гистограммы видно, что значения больше 7 встречаются редко. Выведем соответствующие значения."
   ]
  },
  {
   "cell_type": "code",
   "execution_count": null,
   "metadata": {},
   "outputs": [],
   "source": [
    "# выведем значения столбца, больше 7\n",
    "\n",
    "df.query('rooms > 7')"
   ]
  },
  {
   "cell_type": "markdown",
   "metadata": {},
   "source": [
    "**Значения больше 8 являются аномальными. Удалим их**."
   ]
  },
  {
   "cell_type": "code",
   "execution_count": null,
   "metadata": {},
   "outputs": [],
   "source": [
    "df = df.drop(df[(df['rooms'] > 8)].index)"
   ]
  },
  {
   "cell_type": "markdown",
   "metadata": {},
   "source": [
    "#### ceiling_height"
   ]
  },
  {
   "cell_type": "code",
   "execution_count": null,
   "metadata": {},
   "outputs": [],
   "source": [
    "# построим более наглядную гистограмму для столбца ceiling_height\n",
    "\n",
    "df.plot(y='ceiling_height', kind='hist', bins=50, ylim=(0, 20));"
   ]
  },
  {
   "cell_type": "markdown",
   "metadata": {},
   "source": [
    "Изучив данные из [открытых источников](https://elitnoe.ru/articles/991-top-5-elitnyh-kvartir-s-vysotoy-potolkov-ot-5-do-10-metrov), я пришел к выводу, что максимально возможная высота потолков в квартирных домах составляет 10 м. Следовательно, **значения больше 10 метров являются аномальными** - квартир с такой высотой потолков не бывает."
   ]
  },
  {
   "cell_type": "code",
   "execution_count": null,
   "metadata": {},
   "outputs": [],
   "source": [
    "# построим более наглядные гистограммы для столбца ceiling_height\n",
    "\n",
    "df.plot(y='ceiling_height', kind='hist', bins=50, xlim=(1, 10), ylim=(0, 20));\n",
    "\n",
    "df.plot(y='ceiling_height', kind='hist', bins=50, xlim=(10, 100), ylim=(0, 20));"
   ]
  },
  {
   "cell_type": "markdown",
   "metadata": {},
   "source": [
    "Можно сделать предположение, что появление данных аномалий связано с банальной ошибкой - например, человек мог указать 22 м вместо 2.2 м. Это логично, т.к. такие значения не единичны, и большая их часть находится в интервале от 10 до 32 м - что соответствует зоне пикового распределения значений от 1 до 10 м. В таком случае **перезапишем аномальные значения, поделив их на 10**."
   ]
  },
  {
   "cell_type": "code",
   "execution_count": null,
   "metadata": {},
   "outputs": [],
   "source": [
    "# создадим функцию, которая будет делить аномальные значения в ceiling_height на 10\n",
    "\n",
    "def ceiling_height_improver(elem):\n",
    "    if elem > 10:\n",
    "        elem /= 10\n",
    "    return elem"
   ]
  },
  {
   "cell_type": "code",
   "execution_count": null,
   "metadata": {},
   "outputs": [],
   "source": [
    "# применим функцию к столбцу ceiling_height\n",
    "\n",
    "df['ceiling_height'] = df['ceiling_height'].apply(ceiling_height_improver)"
   ]
  },
  {
   "cell_type": "code",
   "execution_count": null,
   "metadata": {},
   "outputs": [],
   "source": [
    "# вновь построим гистограмму для столбца ceiling_height\n",
    "\n",
    "df.plot(y='ceiling_height', kind='hist', bins=50);"
   ]
  },
  {
   "cell_type": "markdown",
   "metadata": {},
   "source": [
    "Проверим наличие аномальных значений среди наименьших значений столбца."
   ]
  },
  {
   "cell_type": "code",
   "execution_count": null,
   "metadata": {},
   "outputs": [],
   "source": [
    "# выведем список уникальных значений столбца, отсортированный по возрастанию\n",
    "\n",
    "sorted(df['ceiling_height'].unique())"
   ]
  },
  {
   "cell_type": "markdown",
   "metadata": {},
   "source": [
    "**Удалим значения менее 2 м**."
   ]
  },
  {
   "cell_type": "code",
   "execution_count": null,
   "metadata": {},
   "outputs": [],
   "source": [
    "df = df.drop(df[(df['ceiling_height'] < 2)].index)"
   ]
  },
  {
   "cell_type": "markdown",
   "metadata": {},
   "source": [
    "<a id='ceilh'></a>"
   ]
  },
  {
   "cell_type": "markdown",
   "metadata": {},
   "source": [
    "Теперь можем **заполнить пропуски медианным значением**."
   ]
  },
  {
   "cell_type": "code",
   "execution_count": null,
   "metadata": {},
   "outputs": [],
   "source": [
    "df['ceiling_height'] = df['ceiling_height'].fillna(df['ceiling_height'].median())"
   ]
  },
  {
   "cell_type": "markdown",
   "metadata": {},
   "source": [
    "#### balcony"
   ]
  },
  {
   "cell_type": "markdown",
   "metadata": {},
   "source": [
    "Хотя столбец balcony уже был проверен на аномалии при изменении типов данных, последняя гистограмма этого столбца выглядит странно."
   ]
  },
  {
   "cell_type": "code",
   "execution_count": null,
   "metadata": {},
   "outputs": [],
   "source": [
    "# построим более наглядную гистограмму для столбца balcony\n",
    "\n",
    "df.plot(y='balcony', kind='hist', bins=50);"
   ]
  },
  {
   "cell_type": "code",
   "execution_count": null,
   "metadata": {},
   "outputs": [],
   "source": [
    "# выведем список уникальных значений столбца, отсортированный по возрастанию\n",
    "\n",
    "sorted(df['balcony'].unique())"
   ]
  },
  {
   "cell_type": "markdown",
   "metadata": {},
   "source": [
    "По гистограмме видно, что аномальных значений нет."
   ]
  },
  {
   "cell_type": "markdown",
   "metadata": {},
   "source": [
    "### Переименование столбцов"
   ]
  },
  {
   "cell_type": "code",
   "execution_count": null,
   "metadata": {},
   "outputs": [],
   "source": [
    "# выведем названия столбцов датафрейма\n",
    "\n",
    "df.columns"
   ]
  },
  {
   "cell_type": "markdown",
   "metadata": {},
   "source": [
    "Из названий всех столбцов сразу бросается в глаза 'cityCenters_nearest', написанный в ВерблюжемРегистре. Это не является синтаксической ошибкой, тем не менее в Python принято использовать змеиный_регистр."
   ]
  },
  {
   "cell_type": "code",
   "execution_count": null,
   "metadata": {},
   "outputs": [],
   "source": [
    "# изменим название столбца cityCenters_nearest на to_city_center_m\n",
    "\n",
    "df = df.rename(columns={'cityCenters_nearest': 'to_city_center_m'})"
   ]
  },
  {
   "cell_type": "markdown",
   "metadata": {},
   "source": [
    "## Добавление новых столбцов в таблицу"
   ]
  },
  {
   "cell_type": "markdown",
   "metadata": {},
   "source": [
    "### Цена одного квадратного метра"
   ]
  },
  {
   "cell_type": "code",
   "execution_count": null,
   "metadata": {},
   "outputs": [],
   "source": [
    "# добавим в датафрейм столбец с ценой одного квадратного метра квартиры\n",
    "\n",
    "df['sq_meter_price'] = df['last_price'] / df['total_area']"
   ]
  },
  {
   "cell_type": "markdown",
   "metadata": {},
   "source": [
    "### День публикации объявления"
   ]
  },
  {
   "cell_type": "code",
   "execution_count": null,
   "metadata": {},
   "outputs": [],
   "source": [
    "# добавим в датафрейм столбец с номером дня недели, в который объявление было опубликовано \n",
    "\n",
    "df['day_exposition'] = df['first_day_exposition'].dt.weekday"
   ]
  },
  {
   "cell_type": "markdown",
   "metadata": {},
   "source": [
    "В датафрейм был добавлен столбец с номером дня недели, в который объявление было опубликовано. Соответствие номера дня недели приведено в выводе нижней ячейки."
   ]
  },
  {
   "cell_type": "code",
   "execution_count": null,
   "metadata": {},
   "outputs": [],
   "source": [
    "pd.DataFrame(['Понедельник', 'Вторник', 'Среда', 'Четверг', 'Пятница', 'Суббота', 'Воскресенье'],\n",
    "            columns=['День недели'])"
   ]
  },
  {
   "cell_type": "markdown",
   "metadata": {},
   "source": [
    "### Месяц публикации объявления"
   ]
  },
  {
   "cell_type": "code",
   "execution_count": null,
   "metadata": {},
   "outputs": [],
   "source": [
    "# добавим в датафрейм столбец с номером месяца публикации объявления\n",
    "\n",
    "df['month_exposition'] = df['first_day_exposition'].dt.month"
   ]
  },
  {
   "cell_type": "markdown",
   "metadata": {},
   "source": [
    "### Год публикации объявления"
   ]
  },
  {
   "cell_type": "code",
   "execution_count": null,
   "metadata": {},
   "outputs": [],
   "source": [
    "# добавим в датафрейм столбец с годом публикации объявления\n",
    "\n",
    "df['year_exposition'] = df['first_day_exposition'].dt.year"
   ]
  },
  {
   "cell_type": "markdown",
   "metadata": {},
   "source": [
    "### Тип этажа квартиры"
   ]
  },
  {
   "cell_type": "code",
   "execution_count": null,
   "metadata": {},
   "outputs": [],
   "source": [
    "# создадим функцию, которая будет возвращать тип этажа в зависимости\n",
    "# от этажа квартиры и количества этажей в доме\n",
    "\n",
    "def floor_typer(data):\n",
    "    floor = data['floor']\n",
    "    floors_total = data['floors_total']\n",
    "    if floor == 1:\n",
    "        return 'первый'\n",
    "    if floor == floors_total:\n",
    "        return 'последний'\n",
    "    if floor > 0:\n",
    "        return 'другой'"
   ]
  },
  {
   "cell_type": "code",
   "execution_count": null,
   "metadata": {},
   "outputs": [],
   "source": [
    "# добавим в датафрейм столбец с типом этажа квартиры\n",
    "\n",
    "df['floor_type'] = df.apply(floor_typer, axis=1)"
   ]
  },
  {
   "cell_type": "markdown",
   "metadata": {},
   "source": [
    "### Расстояние до центра города в км"
   ]
  },
  {
   "cell_type": "code",
   "execution_count": null,
   "metadata": {},
   "outputs": [],
   "source": [
    "# добавим в датафрейм столбец с расстоянием до центра города в км\n",
    "\n",
    "df['to_city_center_km'] = round(df['to_city_center_m'] / 1000)"
   ]
  },
  {
   "cell_type": "markdown",
   "metadata": {},
   "source": [
    "В случае округления полученных значений функцией round, округление произойдет до ближайшего целого числа. В таком случае в столбце появится значение 0 километров, что будет выглядеть странным (никто не скажет \"моя квартир находится в доме в 0 километров до центра\". Чаще принято указывать количество километров до центра города, округляя значение в большую сторону. Поступим также."
   ]
  },
  {
   "cell_type": "code",
   "execution_count": null,
   "metadata": {},
   "outputs": [],
   "source": [
    "# импортируем библиотеку math\n",
    "\n",
    "import math"
   ]
  },
  {
   "cell_type": "code",
   "execution_count": null,
   "metadata": {},
   "outputs": [],
   "source": [
    "# округлим значения в to_city_center_km до целых чисел в большую сторону\n",
    "\n",
    "df['to_city_center_km'] = \\\n",
    "df.query('to_city_center_km > 0')['to_city_center_km'].apply(math.ceil)"
   ]
  },
  {
   "cell_type": "markdown",
   "metadata": {},
   "source": [
    "## Проведите исследовательский анализ данных"
   ]
  },
  {
   "cell_type": "markdown",
   "metadata": {},
   "source": [
    "### Общий анализ данных"
   ]
  },
  {
   "cell_type": "markdown",
   "metadata": {},
   "source": [
    "Выведем гистограмму для каждого столбца датафрейма с числовыми значениями и исследуем данные."
   ]
  },
  {
   "cell_type": "code",
   "execution_count": null,
   "metadata": {},
   "outputs": [],
   "source": [
    "df.plot(y='total_images', kind='hist', bins=50);"
   ]
  },
  {
   "cell_type": "code",
   "execution_count": null,
   "metadata": {},
   "outputs": [],
   "source": [
    "# посчитаем количество строк со значением столбца total_images от 0 до 20 включительно\n",
    "\n",
    "df.query('0 <= total_images <= 20')['total_images'].count()"
   ]
  },
  {
   "cell_type": "code",
   "execution_count": null,
   "metadata": {},
   "outputs": [],
   "source": [
    "# посчитаем количество строк со значением столбца total_images, равным нулю\n",
    "\n",
    "df.query('total_images == 0')['total_images'].count()"
   ]
  },
  {
   "cell_type": "code",
   "execution_count": null,
   "metadata": {},
   "outputs": [],
   "source": [
    "# посчитаем количество строк со значением столбца total_images, большим 20\n",
    "\n",
    "df.query('total_images > 20')['total_images'].count()"
   ]
  },
  {
   "cell_type": "markdown",
   "metadata": {},
   "source": [
    "Данные из гистограммы говорят нам о том, практически для всех объявлений (23282) количество фотографий составляет от 0 до 20. Притом для 1053 объявлений фотографии отсутствуют. Количество объявлений с более чем 20 фотографиями составляет 73."
   ]
  },
  {
   "cell_type": "code",
   "execution_count": null,
   "metadata": {},
   "outputs": [],
   "source": [
    "df.plot(y='last_price', kind='hist', bins=50);"
   ]
  },
  {
   "cell_type": "code",
   "execution_count": null,
   "metadata": {},
   "outputs": [],
   "source": [
    "# посчитаем количество строк со значением столбца last_price от 0 до 40 миллионов включительно\n",
    "\n",
    "df.query('0 <= last_price <= 40000000')['last_price'].count()"
   ]
  },
  {
   "cell_type": "code",
   "execution_count": null,
   "metadata": {},
   "outputs": [],
   "source": [
    "# посчитаем количество строк со значением столбца last_price, равным нулю\n",
    "\n",
    "df.query('last_price == 0')['last_price'].count()"
   ]
  },
  {
   "cell_type": "code",
   "execution_count": null,
   "metadata": {},
   "outputs": [],
   "source": [
    "# посчитаем количество строк со значением столбца last_price, большим 40 миллионов\n",
    "\n",
    "df.query('last_price > 40000000')['last_price'].count()"
   ]
  },
  {
   "cell_type": "markdown",
   "metadata": {},
   "source": [
    "Практически все значения (23273) столбца last_price находятся в интервале до 40 миллионов рублей. Притом значения, равные нулю в датафрейме отсутствуют. Значений более 40 миллионов всего 82."
   ]
  },
  {
   "cell_type": "code",
   "execution_count": null,
   "metadata": {},
   "outputs": [],
   "source": [
    "df.plot(y='total_area', kind='hist', bins=50);"
   ]
  },
  {
   "cell_type": "markdown",
   "metadata": {},
   "source": [
    "Как мы видим, большая часть данных располагается в диапазоне от 25 до 100 квадратных метров. Притом значения более 175 встречаются крайне редко."
   ]
  },
  {
   "cell_type": "code",
   "execution_count": null,
   "metadata": {},
   "outputs": [],
   "source": [
    "df.plot(y='rooms', kind='hist', bins=50);"
   ]
  },
  {
   "cell_type": "markdown",
   "metadata": {},
   "source": [
    "По гистограмме видно, что наиболее часто встречающиеся значения количества комнат - 1, 2 и 3. Безкомнатные квартиры и квартиры с количеством комнат 5 и более достаточно редко."
   ]
  },
  {
   "cell_type": "code",
   "execution_count": null,
   "metadata": {},
   "outputs": [],
   "source": [
    "df.plot(y='ceiling_height', kind='hist', bins=50);"
   ]
  },
  {
   "cell_type": "code",
   "execution_count": null,
   "metadata": {},
   "outputs": [],
   "source": [
    "# выведем уникальные значения столбца ceiling_height по убыванию частоты\n",
    "\n",
    "df['ceiling_height'].value_counts()"
   ]
  },
  {
   "cell_type": "markdown",
   "metadata": {},
   "source": [
    "Из гистограммы понятно, что большая часть значений высоты потолков находится в диапазоне от 2.5 до 3 м. Пик значений приходится на 2.65 м."
   ]
  },
  {
   "cell_type": "code",
   "execution_count": null,
   "metadata": {},
   "outputs": [],
   "source": [
    "df.plot(y='floors_total', kind='hist', bins=50);"
   ]
  },
  {
   "cell_type": "code",
   "execution_count": null,
   "metadata": {},
   "outputs": [],
   "source": [
    "# выведем уникальные значения столбца floors_total по убыванию частоты\n",
    "\n",
    "df['floors_total'].value_counts()"
   ]
  },
  {
   "cell_type": "markdown",
   "metadata": {},
   "source": [
    "Гистограмма имеет нехарактерную для нормального распределения форму. По массиву наблюдается несколько пиков - 5 и 9 этажей, а также несколько доньев - 11 и 13 этажей. БольшАя часть значений находится в диапазоне от 2 до 10 этажей, а также от 14 до 25 этажей."
   ]
  },
  {
   "cell_type": "code",
   "execution_count": null,
   "metadata": {},
   "outputs": [],
   "source": [
    "df.plot(y='living_area', kind='hist', bins=100);"
   ]
  },
  {
   "cell_type": "code",
   "execution_count": null,
   "metadata": {},
   "outputs": [],
   "source": [
    "# выведем уникальные значения столбца living_area по убыванию частоты\n",
    "\n",
    "df['living_area'].value_counts()"
   ]
  },
  {
   "cell_type": "markdown",
   "metadata": {},
   "source": [
    "На гистограмме наблюдается один ярко выраженный пик - 18 квадратных метров. Данный график также не является гистограммой нормального распределения: наблюдается большое количество значений в диапазоне от 15 до 20 квадратных метров, а затем в диапазоне от 25 до 50 квадратных метров."
   ]
  },
  {
   "cell_type": "code",
   "execution_count": null,
   "metadata": {},
   "outputs": [],
   "source": [
    "df.plot(y='floor', kind='hist', bins=100);"
   ]
  },
  {
   "cell_type": "markdown",
   "metadata": {},
   "source": [
    "Большая часть значений столбца floor приходится на интервал от 1 до 5 этажей, притом пик значений приходится на 2 этаж. Далее наблюдается спад количества значений при увеличении этажа, через каждые последующие 5 этажей вплоть до 20 наблюдается резкий спад частоты встречи значений."
   ]
  },
  {
   "cell_type": "code",
   "execution_count": null,
   "metadata": {},
   "outputs": [],
   "source": [
    "df.plot(y='kitchen_area', kind='hist', bins=50);\n",
    "\n",
    "df.plot(y='kitchen_area', kind='hist', bins=100, xlim=(0, 25));"
   ]
  },
  {
   "cell_type": "markdown",
   "metadata": {},
   "source": [
    "Большая часть значений находится в диапазоне от 5 до 12.5 квадратных метров. Значения более 21 квадратного метра встречаются достаточно редко."
   ]
  },
  {
   "cell_type": "code",
   "execution_count": null,
   "metadata": {},
   "outputs": [],
   "source": [
    "df.plot(y='balcony', kind='hist', bins=50);"
   ]
  },
  {
   "cell_type": "markdown",
   "metadata": {},
   "source": [
    "Пик значений стобца с количеством балконов приходится на 0. Также достаточно часто встречаются квартиры с 1 и 2 балконами. Количество квартир от 3 до 5 балконов достаточно мало, однако наблюдается зависимость к их увеличению при увеличении числа балконов в данном диапазоне. Это может быть связано с тем, что количество балконов в 1 или 2 является оптимальным для квартир средней ценовой категории. Количество балконов от 3 и более скорее приходится на элитную недвижимость, а для данной категории характерно большее количество балконов, откуда и соответствующая зависимость."
   ]
  },
  {
   "cell_type": "code",
   "execution_count": null,
   "metadata": {},
   "outputs": [],
   "source": [
    "df.plot(y='airports_nearest', kind='hist', bins=50);\n",
    "\n",
    "df.plot(y='airports_nearest', kind='hist', bins=100, xlim=(0, 15000));\n",
    "\n",
    "df.plot(y='airports_nearest', kind='hist', bins=100, xlim=(45000, 60000));"
   ]
  },
  {
   "cell_type": "markdown",
   "metadata": {},
   "source": [
    "Как видно из гистограмм, подавляющая часть значений находится в интервале от 9 тысяч метров до 54 тысяч метров. Значения, не входящие в данный интервал, встречаются крайне редко. Отдельные пики внутри данного интервала, скорее всего, связана с густотой населения в отдельных районах Санкт-Петербурга или населенных пунктах, т.к. в Санкт-Петербурге и Ленинградской области находится лишь один гражданский аэропорт."
   ]
  },
  {
   "cell_type": "code",
   "execution_count": null,
   "metadata": {},
   "outputs": [],
   "source": [
    "df.plot(y='to_city_center_m', kind='hist', bins=100);\n",
    "\n",
    "df.plot(y='to_city_center_m', kind='hist', bins=100, xlim=(0, 20000));"
   ]
  },
  {
   "cell_type": "markdown",
   "metadata": {},
   "source": [
    "Подавляющая часть значений находится в интервале от 0 до 20 тысяч метров до центра города. Отдельные пики как внутри данного интервала, так и за его пределами скорее всего также связаны с густотой населения в отдельных районах Санкт-Петербурга или населенных пунктах в его составе или в Ленинградской области. \\\n",
    "Также по гистограмме видно, что большая часть значений находится в промежутке между 11 тысячами и 17 тысячами километров."
   ]
  },
  {
   "cell_type": "code",
   "execution_count": null,
   "metadata": {},
   "outputs": [],
   "source": [
    "df.plot(y='parks_around3000', kind='hist', bins=50);"
   ]
  },
  {
   "cell_type": "markdown",
   "metadata": {},
   "source": [
    "Чаще всего парков в радиусе 3000 метров от квартиры не встречается - таких случаев более 10 тысяч в датафрейме. Почти для 6000 объявлений в данном радиусе находится один парк. 2 и 3 парка в радиусе 3 км встречаются менее чем для 2 тысяч и 1 тысячи квартир соответственно."
   ]
  },
  {
   "cell_type": "code",
   "execution_count": null,
   "metadata": {},
   "outputs": [],
   "source": [
    "df.plot(y='parks_nearest', kind='hist', bins=100);\n",
    "\n",
    "df.plot(y='parks_nearest', kind='hist', bins=100, xlim=(0, 1000));"
   ]
  },
  {
   "cell_type": "code",
   "execution_count": null,
   "metadata": {},
   "outputs": [],
   "source": [
    "# выведем уникальные значения столбца parks_nearest по убыванию частоты\n",
    "\n",
    "df['parks_nearest'].value_counts()"
   ]
  },
  {
   "cell_type": "markdown",
   "metadata": {},
   "source": [
    "На гистограмме наблюдается огромный пик для 8321 квартиры, соответствующий значению 460 м. Следующие по частоте встречи значения имеют многократно более скромные показатели - от 323 до 135 квартир. Это может быть связано с наличием огромного количества объявлений в каких-либо новых многоэтажных домах, которые сейчас часто и много строятся. \\\n",
    "Помимо этого следует отметить, что значения более 850 встречаются крайне редко."
   ]
  },
  {
   "cell_type": "code",
   "execution_count": null,
   "metadata": {},
   "outputs": [],
   "source": [
    "df.plot(y='ponds_around3000', kind='hist', bins=50, grid=True);"
   ]
  },
  {
   "cell_type": "markdown",
   "metadata": {},
   "source": [
    "Чаще всего в радиусе 3000 метров от квартиры водоемов не встречается - таких случаев более 8 тысяч в датафрейме. Почти для 6000 объявлений в данном радиусе находится один водоем. 2 и 3 водоема в радиусе 3 км встречаются менее чем для 2.5 тысяч и 1.8 тысячи квартир соответственно."
   ]
  },
  {
   "cell_type": "code",
   "execution_count": null,
   "metadata": {},
   "outputs": [],
   "source": [
    "df.plot(y='ponds_nearest', kind='hist', bins=50);"
   ]
  },
  {
   "cell_type": "code",
   "execution_count": null,
   "metadata": {},
   "outputs": [],
   "source": [
    "# выведем уникальные значения столбца ponds_nearest по убыванию частоты\n",
    "\n",
    "df['ponds_nearest'].value_counts()"
   ]
  },
  {
   "cell_type": "markdown",
   "metadata": {},
   "source": [
    "На гистограмме наблюдается огромный пик для 7638 квартир, соответствующий значению 503 м. Следующие по частоте встречи значения имеют многократно более скромные показатели - от 566 до 212 квартир. Это также как и в случае с парками может быть связано с наличием огромного количества объявлений в каких-либо новых многоэтажных домах, которые сейчас часто и много строятся. \\\n",
    "Также следует отметить, что значения более 1000 встречаются крайне редко."
   ]
  },
  {
   "cell_type": "code",
   "execution_count": null,
   "metadata": {},
   "outputs": [],
   "source": [
    "df.plot(y='days_exposition', kind='hist', bins=50);"
   ]
  },
  {
   "cell_type": "markdown",
   "metadata": {},
   "source": [
    "Как видно из гистограммы, практически все значения столбца days_exposition находятся в интервале от 0 до 1000, а большая их часть - между 0 и 400. Пик значений приходится на промежуток 30-60 дней - в этот период с сайта были сняты более 4000 объявлений."
   ]
  },
  {
   "cell_type": "markdown",
   "metadata": {},
   "source": [
    "Более подробно исследуем данные из новых столбцов."
   ]
  },
  {
   "cell_type": "markdown",
   "metadata": {},
   "source": [
    "#### sq_meter_price"
   ]
  },
  {
   "cell_type": "code",
   "execution_count": null,
   "metadata": {},
   "outputs": [],
   "source": [
    "# построим гистограмму для столбца sq_meter_price\n",
    "\n",
    "(df['sq_meter_price'] / 1000).plot(y='sq_meter_price', kind='hist', bins=50);"
   ]
  },
  {
   "cell_type": "markdown",
   "metadata": {},
   "source": [
    "Как видно из гистограммы, практически все значения стоимости одного квадратного метра находятся в интервале 0-200 тысяч за квадратный метр."
   ]
  },
  {
   "cell_type": "code",
   "execution_count": null,
   "metadata": {},
   "outputs": [],
   "source": [
    "# построим более детальные гистограммы для столбца sq_meter_price\n",
    "\n",
    "(df['sq_meter_price'] / 1000).plot(y='sq_meter_price', kind='hist', bins=100, xlim=(0, 500));"
   ]
  },
  {
   "cell_type": "code",
   "execution_count": null,
   "metadata": {},
   "outputs": [],
   "source": [
    "\n",
    "(df['sq_meter_price'] / 1000).plot(y='sq_meter_price', kind='hist', bins=100, xlim=(50, 150));"
   ]
  },
  {
   "cell_type": "markdown",
   "metadata": {},
   "source": [
    "Изучив данную гистограмму становится понятно, что чаще всего квадратный метр стоит порядка 90-100 тысяч."
   ]
  },
  {
   "cell_type": "code",
   "execution_count": null,
   "metadata": {},
   "outputs": [],
   "source": [
    "# построим еще одну более детальную гистограмму для столбца sq_meter_price\n",
    "\n",
    "(df['sq_meter_price'] / 1000).plot(y='sq_meter_price', kind='hist', bins=50, ylim=(0, 100));"
   ]
  },
  {
   "cell_type": "markdown",
   "metadata": {},
   "source": [
    "Начиная от 400 тысяч за квадратный метр значения встречаются достаточно редко - изучим соответствующие строки."
   ]
  },
  {
   "cell_type": "code",
   "execution_count": null,
   "metadata": {},
   "outputs": [],
   "source": [
    "# выведем строки со значением sq_meter_price более 400 тысяч\n",
    "# в порядке убывания стоимости квадратного метра\n",
    "\n",
    "df.query('sq_meter_price > 400000').sort_values(by='sq_meter_price', ascending=False)"
   ]
  },
  {
   "cell_type": "markdown",
   "metadata": {},
   "source": [
    "Хотя вышеизученные значения и являются выдающимися, их нельзя назвать аномальными.\n",
    "Поэтому **принимаем, что в столбце аномалий нет**."
   ]
  },
  {
   "cell_type": "markdown",
   "metadata": {},
   "source": [
    "#### day_exposition"
   ]
  },
  {
   "cell_type": "code",
   "execution_count": null,
   "metadata": {},
   "outputs": [],
   "source": [
    "# построим гистограммы для столбца day_exposition\n",
    "\n",
    "df.plot(y='day_exposition', kind='hist', bins=50);\n",
    "\n",
    "df.plot(y='day_exposition', kind='hist', bins=50, xlim=(4.5, 6.5), title='выходные');"
   ]
  },
  {
   "cell_type": "markdown",
   "metadata": {},
   "source": [
    "Из гистограммы видно, что наиболее популярным для публикации объявлений днем недели является четверг, а наименее популярным - воскресенье. В целом по будням выложено не менее 3500 объявлений в день. В выходные заметен спад - не более 2000 объявлений в сутки. \\\n",
    "В то же время нельзя сказать, что по ходу недели наблюдается какой-либо спад или подъем количества опубликованных объявлений. \\\n",
    "Такой характер распределения данных можно объяснить тем, что для многих публикация объявления о продаже квартиры является ответственным шагом, связанным с определенными заботами и, как следствие, вызывающим у людей не совсем приятные мысли. Такую работу людям легче сделать в будний день, чтобы в выходные - когда многие люди планируют отдыхать - их головы не были заняты соответствующими мыслями. \\\n",
    "С другой стороны, люди зачастую откладывают свои дела на выходнын, тем не менее распределение данных на гистограмме говорит нам о том, что первая версия, возможно, больше соответствует реальности."
   ]
  },
  {
   "cell_type": "markdown",
   "metadata": {},
   "source": [
    "#### month_exposition"
   ]
  },
  {
   "cell_type": "code",
   "execution_count": null,
   "metadata": {},
   "outputs": [],
   "source": [
    "# построим гистограммы для столбца month_exposition\n",
    "\n",
    "df.plot(y='month_exposition', kind='hist', bins=50);\n",
    "\n",
    "df.plot(y='month_exposition', kind='hist', bins=50, xlim=(5.5, 8.5), title='летние месяцы');"
   ]
  },
  {
   "cell_type": "markdown",
   "metadata": {},
   "source": [
    "Гистограмма показывает нам, что наиболее благоприятным месяцем для публикации объявлений является февраль - более 2500 объявлений, наименее благоприятным - май - менее 1500 объявлений. По ходу календарного года не наблюдается каких-либо общих тенденций по снижению или увеличению числа опубликованных объявлений. Тем не менее можно отметить, что больше всего публикаций приходится на период \"февраль-апрель\" с относительно плавным снижением количества опубликованных объявлений к апрелю, а также на период \"сентябрь-ноябрь\" с плавным увеличением числа публикаций. \\\n",
    "В свою очередь, значительно меньше объявлений появляется в декабре-январе (около 1500 для каждого месяце) и мае (менее 1500), а также немного меньше для каждого летнего месяца (порядка 1700). Это можно объяснить тем, что на данные месяцы приходится больше количество выходных (январь, май), а также большое количество отпусков (июнь-август). Декабрь может находиться в списке месяцев-аутсайдеров по количеству опубликованных объявлений ввиду близости к Новому году, а следовательно на него приходятся хлопоты по подготовке к данному празднику, вследствие чего у людей остается меньше времени на другие дела. "
   ]
  },
  {
   "cell_type": "markdown",
   "metadata": {},
   "source": [
    "#### year_exposition"
   ]
  },
  {
   "cell_type": "code",
   "execution_count": null,
   "metadata": {},
   "outputs": [],
   "source": [
    "# выведем самые ранние объявления\n",
    "\n",
    "df['first_day_exposition'].sort_values().head()"
   ]
  },
  {
   "cell_type": "code",
   "execution_count": null,
   "metadata": {},
   "outputs": [],
   "source": [
    "# выведем самые поздние объявления\n",
    "\n",
    "df['first_day_exposition'].sort_values().tail()"
   ]
  },
  {
   "cell_type": "code",
   "execution_count": null,
   "metadata": {},
   "outputs": [],
   "source": [
    "# построим гистограммы для столбца year_exposition\n",
    "\n",
    "df.plot(y='year_exposition', kind='hist', bins=50);\n",
    "\n",
    "df.query('year_exposition not in [2014, 2019]').plot(y='year_exposition', kind='hist', bins=50,\n",
    "                                                     title='полные года', grid=True);\n",
    "\n",
    "df.plot(y='year_exposition', kind='hist', bins=50, xlim=(2013.5, 2016.5), ylim=(0, 3000), title='первые три года');\n",
    "\n",
    "df.plot(y='year_exposition', kind='hist', bins=50, xlim=(2013.5, 2014.5), ylim=(0, 300), title='первый год');"
   ]
  },
  {
   "cell_type": "markdown",
   "metadata": {},
   "source": [
    "Прежде всего следует учесть, что первые объявления датируются 27 ноября 2014 года (т.е. концом года), а последние - 3 мая 2019 года. Из этого следует, что при изучении столбца year_exposition нам следует рассмотреть как данные в целом, так и данные только за полные года (с 2015 по 2018 включительно). \\\n",
    "Наибольшее количество объявлений было опубликовано в 2018 и 2017 годах - более 8000 в год, наименьшее:\n",
    "- среди всех годовых промежутков - в первый год сбора данных - 2014 - менее 150 объявлений;\n",
    "- среди полных годовых промежутков - в 2015 году - около 1100 объявлений.\n",
    "\n",
    "Кроме того стоит отметить, что во все года, кроме 2017-2018, количество объявлений в год составляет менее 3000. \\\n",
    "В целом по полным годам наблюдается рост количества публикаций - с 2015 по 2017 относительно плавный - в каждом новом году объявлений появляется в 2.5 раза больше по сравнению с прошлым. В 2018 году количество опубликованных объявлений становится незначительно больше.\n",
    "\n",
    "Такое распределение может быть обусловлено множеством факторов. Наиболее логичной выглядит следующая схема:\n",
    "- в конце 2014 года начался сбор данных - отсюда минимальное и столь небольшое количество опубликованных объявлений;\n",
    "- 2015 год был первым полным годом сбора данных, поэтому сравнивать его данные с данными за предыдущий год некорректно;\n",
    "- в 2016 году сервис начинает набирать популярность - число опубликованных за год объявлений увеличивается в 2.5 раза;\n",
    "- через год - в 2017 - тенденция роста в 2.5 раза сохраняется;\n",
    "- в 2018 рост заметно замедляется - это может быть связано со [снижением ипотечных ставок](https://www.bn.ru/gazeta/articles/247197/), вследствие чего люди стали чаще покупать жилье в новостройках."
   ]
  },
  {
   "cell_type": "markdown",
   "metadata": {},
   "source": [
    "#### floor_type"
   ]
  },
  {
   "cell_type": "code",
   "execution_count": null,
   "metadata": {},
   "outputs": [],
   "source": [
    "# построим столбчатые диаграммы для столбца floor_type\n",
    "\n",
    "(\n",
    "    pd.DataFrame(df['floor_type'].value_counts())\n",
    "    .plot(y='floor_type', kind='bar')\n",
    ")\n",
    "\n",
    "(\n",
    "    pd.DataFrame(df.query('floor_type == \"последний\" or floor_type == \"первый\"')['floor_type'].value_counts())\n",
    "    .plot(y='floor_type', kind='bar', grid=True)\n",
    ")"
   ]
  },
  {
   "cell_type": "markdown",
   "metadata": {},
   "source": [
    "Как мы видим из гистограммы, наиболее часто встречающийся тип этажа - другой - количество квартир составляет чуть менее 17.5 тысяч. Такой результат полностью совпадает с ожидаемым. \\\n",
    "Количество квартир на последнем и первом этаже составляет порядка 3750 и 2900. \n",
    "\n"
   ]
  },
  {
   "cell_type": "markdown",
   "metadata": {},
   "source": [
    "### Анализ времени продажи квартир"
   ]
  },
  {
   "cell_type": "code",
   "execution_count": null,
   "metadata": {},
   "outputs": [],
   "source": [
    "# построим гистограмму для столбца days_exposition\n",
    "\n",
    "df.plot(y='days_exposition', kind='hist', bins=50);"
   ]
  },
  {
   "cell_type": "markdown",
   "metadata": {},
   "source": [
    "Как видно из гистограммы, **практически все значения столбца days_exposition находятся в интервале от 0 до 1000, а большая их часть - между 0 и 400**."
   ]
  },
  {
   "cell_type": "code",
   "execution_count": null,
   "metadata": {},
   "outputs": [],
   "source": [
    "# построим более детальные гистограммы для столбца days_exposition\n",
    "\n",
    "df.plot(y='days_exposition', kind='hist', bins=50, xlim=(0, 1000), title='первая 1000 дней продажи');\n",
    "\n",
    "df.plot(y='days_exposition', kind='hist', bins=50, xlim=(0, 500), title='первые 500 дней продажи');\n",
    "\n",
    "df.plot(y='days_exposition', kind='hist', bins=50, xlim=(0, 300), title='первые 300 дней продажи');\n",
    "\n",
    "df.plot(y='days_exposition', kind='hist', bins=100, xlim=(0, 100), title='первые 100 дней продажи');\n",
    "\n",
    "df.plot(y='days_exposition', kind='hist', bins=50, xlim=(60, 400), title='период с 60 до 400 дней продажи');\n",
    "\n",
    "df.plot(y='days_exposition', kind='hist', bins=50, xlim=(400, 600), title='период с 400 до 600 дней продажи');"
   ]
  },
  {
   "cell_type": "code",
   "execution_count": null,
   "metadata": {},
   "outputs": [],
   "source": [
    "# рассчитаем среднее значение длительности продажи квартир\n",
    "\n",
    "df['days_exposition'].mean()"
   ]
  },
  {
   "cell_type": "code",
   "execution_count": null,
   "metadata": {},
   "outputs": [],
   "source": [
    "# рассчитаем медиану длительности продажи квартир\n",
    "\n",
    "df['days_exposition'].median()"
   ]
  },
  {
   "cell_type": "markdown",
   "metadata": {},
   "source": [
    "Пик значений приходится на промежуток 30-60 дней - в этот период с сайта были сняты более 4000 объявлений. \\\n",
    "По построенным гистограммам и рассчитанным средним и медианным значениям можно сделать следующие выводы. \\\n",
    "**Чаще всего квартиры продаются в течение первых двух месяцев (60 дней) - это правило работает для порядка трети объявлений. Такие продажи можно назвать быстрыми**. Если квартира не была продана в этот период, то возрастает вероятность, что продаваться она будет дольше - уже для периода 60-90 дней количество проданных квартир (снятых объявлений) составляет порядка 2250 - что почти в два раза меньше, чем в первые два месяца - т.е. после первых двух месяцев наблюдается спад. Далее в течение 12 последующих месяцев (360 дней) продажи наблюдается плавное снижение количества проданных квартир по месяцам - с 1700 для 4 месяца (90-120 дней) и 1300 для 5 месяца (120-150 дней) до 400 для 14 месяца (390-420 дней) продажи. **Продажи после 400 дня публикации объявления можно назвать необычайно долгими**, т.к. далее гистограмма приобретает пологий вид и постепенно приближается к нулю. \\\n",
    "Медиана составляет 95 дней, что почти в два раза меньше среднего - 180 дней. Столь отличные значения скорее всего связаны с влиянием на среднее квартир, которые наиболее долго продавались - более 400 дней. Поэтому в качестве усредненного показателя примем медиану, которая говорит нам о том, что **в среднем квартиры продаются за 3 месяца**."
   ]
  },
  {
   "cell_type": "markdown",
   "metadata": {},
   "source": [
    "### Исследование влияния различных факторов на полную стоимость объекта"
   ]
  },
  {
   "cell_type": "markdown",
   "metadata": {},
   "source": [
    "В начале исследования примем, что для подтверждения зависимости между полной стоимостью квартиры и различными параметрами коэффициент корреляции Пирсона должен быть не менее 0.5 - т.е. связь должна быть как минимум заметной ([1](https://intuit.ru/studies/courses/6/6/lecture/172?page=3), [2](https://www.syl.ru/article/229252/mod_koeffitsient-korrelyatsii-i-prichinno-sledstvennaya-svyaz-formulyi-i-ih-interpretatsiya)). \\\n",
    "Кроме того, для каждой пары параметров будут построены диаграммы рассеяния, которые также будут учитываться при определении наличия или отсутствия зависимости между каждой парой параметров."
   ]
  },
  {
   "cell_type": "markdown",
   "metadata": {},
   "source": [
    "#### Общая площадь квартиры"
   ]
  },
  {
   "cell_type": "code",
   "execution_count": null,
   "metadata": {},
   "outputs": [],
   "source": [
    "# построим диаграмму рассеяния для столбцов last_price и total_area\n",
    "\n",
    "df.plot(x='last_price', y='total_area', kind='scatter', grid=True);"
   ]
  },
  {
   "cell_type": "markdown",
   "metadata": {},
   "source": [
    "Хотя точки на диаграмме рассеяния расположены достаточно сумбурно, тем не менее на графике **прослеживается определенная зависимость между полной стоимостью квартиры и ее площадью при значениях последней до 125 кв. м.**"
   ]
  },
  {
   "cell_type": "code",
   "execution_count": null,
   "metadata": {},
   "outputs": [],
   "source": [
    "# вычислим коэффициент корреляции Пирсона для столбцов last_price и total_area\n",
    "\n",
    "df['last_price'].corr(df['total_area'])"
   ]
  },
  {
   "cell_type": "markdown",
   "metadata": {},
   "source": [
    "Рассчитанный коэффициент корреляции говорит о наличии высокой связи между полной стоимостью квартиры и ее площадью. \\\n",
    "Учитывая вышеизложенное, я сделаю вывод, что **взаимосвязь между полной стоимостью квартиры и ее площадью имеет место**."
   ]
  },
  {
   "cell_type": "markdown",
   "metadata": {},
   "source": [
    "#### Жилая площадь квартиры"
   ]
  },
  {
   "cell_type": "code",
   "execution_count": null,
   "metadata": {},
   "outputs": [],
   "source": [
    "# построим диаграмму рассеяния для столбцов last_price и living_area\n",
    "\n",
    "df.plot(x='last_price', y='living_area', kind='scatter', grid=True);"
   ]
  },
  {
   "cell_type": "markdown",
   "metadata": {},
   "source": [
    "С первого взгляда заметно, что диаграмма рассеяния для столбцов last_price и living_area заметно напоминает аналогичный график для столбцов last_price и total_area. На новой диаграмме точки также расположены достаточно сумбурно, но и на этом графике **прослеживается тенденция к увеличению полной стоимостью квартиры при увеличении ее живой площади (при значениях последней до 60 кв. м.)**. Тем не менее, визуально зависимость кажется меньшей, чем для предыдущей пары параметров."
   ]
  },
  {
   "cell_type": "code",
   "execution_count": null,
   "metadata": {},
   "outputs": [],
   "source": [
    "# вычислим коэффициент корреляции Пирсона для столбцов last_price и living_area\n",
    "\n",
    "df['last_price'].corr(df['living_area'])"
   ]
  },
  {
   "cell_type": "markdown",
   "metadata": {},
   "source": [
    "**Рассчитанный коэффициент Пирсона** с одной стороны говорит о наличии заметной связи между полной стоимостью квартиры и ее живой площадью, с другой стороны **подтверждает вывод о том, что связь между данными параметрами меньше, чем связь между стоимостью квартиры и ее полной площадью**. \\\n",
    "Учитывая вышеизложенное, я сделаю вывод, что **взаимосвязь между полной стоимостью квартиры и ее живой площадью имеет место**."
   ]
  },
  {
   "cell_type": "markdown",
   "metadata": {},
   "source": [
    "#### Площадь кухни"
   ]
  },
  {
   "cell_type": "code",
   "execution_count": null,
   "metadata": {},
   "outputs": [],
   "source": [
    "# построим диаграмму рассеяния для столбцов last_price и kitchen_area\n",
    "\n",
    "df.plot(x='last_price', y='kitchen_area', kind='scatter', grid=True);"
   ]
  },
  {
   "cell_type": "markdown",
   "metadata": {},
   "source": [
    "Точки на данной диаграмме рассеяния расположены еще более сумбурно сумбурно, чем на двух предыдущих графиках. Тем не менее даже на таком графике **прослеживается определенная зависимость между полной стоимостью квартиры и площадью ее кухни при значениях последней до 10 кв. м.**"
   ]
  },
  {
   "cell_type": "code",
   "execution_count": null,
   "metadata": {},
   "outputs": [],
   "source": [
    "# вычислим коэффициент корреляции Пирсона для столбцов last_price и kitchen_area\n",
    "\n",
    "df['last_price'].corr(df['kitchen_area'])"
   ]
  },
  {
   "cell_type": "markdown",
   "metadata": {},
   "source": [
    "Рассчитанный коэффициент корреляции говорит о наличии заметной связи между полной стоимостью квартиры и площадью ее кухни. \\\n",
    "Учитывая вышеизложенное, я сделаю вывод, что **взаимосвязь между полной стоимостью квартиры и площадью ее кухни имеет место**."
   ]
  },
  {
   "cell_type": "markdown",
   "metadata": {},
   "source": [
    "#### Количество комнат"
   ]
  },
  {
   "cell_type": "code",
   "execution_count": null,
   "metadata": {},
   "outputs": [],
   "source": [
    "# построим диаграмму рассеяния для столбцов last_price и rooms\n",
    "\n",
    "df.plot(x='last_price', y='rooms', kind='scatter', grid=True);"
   ]
  },
  {
   "cell_type": "markdown",
   "metadata": {},
   "source": [
    "Изучив данную диаграмму, можно предположить, что при количестве комнат до 5 включительно связь между данным параметром и полной стоимостью квартиры прослеживается, однако при количестве комнат 6 и более связь как будто становится обратной (тем не менее не следует исключать фактор малой выборки объявлений с таким количеством комнат). \\\n",
    "Вычислим коэффициент корреляции Пирсона для более точной оценки зависимости."
   ]
  },
  {
   "cell_type": "code",
   "execution_count": null,
   "metadata": {},
   "outputs": [],
   "source": [
    "# вычислим коэффициент корреляции Пирсона для столбцов last_price и rooms\n",
    "\n",
    "df['last_price'].corr(df['rooms'])"
   ]
  },
  {
   "cell_type": "code",
   "execution_count": null,
   "metadata": {},
   "outputs": [],
   "source": [
    "# вычислим коэффициент корреляции Пирсона для столбцов last_price и rooms\n",
    "# для данных со значениями rooms меньше 6\n",
    "\n",
    "df.query('rooms < 6')['last_price'].corr(df['rooms'])"
   ]
  },
  {
   "cell_type": "markdown",
   "metadata": {},
   "source": [
    "Как показали расчеты коэффициентов корреляции, гипотеза о наличии взаимосвязи между полной стоимостью квартиры и количеством комнат в ней не подтвердилась ни для всей выборки, ни для выборки данных со значениями rooms 5 и меньше. \\\n",
    "Можем сделать вывод о том, что **взаимосвязи между полной стоимостью квартиры и количеством комнат в ней либо нет, либо она несет более сложный характер**."
   ]
  },
  {
   "cell_type": "markdown",
   "metadata": {},
   "source": [
    "#### Тип этажа"
   ]
  },
  {
   "cell_type": "code",
   "execution_count": null,
   "metadata": {},
   "outputs": [],
   "source": [
    "# построим диаграмму рассеяния для столбцов last_price и floor_type\n",
    "\n",
    "df.plot(x='last_price', y='floor_type', kind='scatter', grid=True);"
   ]
  },
  {
   "cell_type": "markdown",
   "metadata": {},
   "source": [
    "Диаграмма говорит нам о том, что квартиры с типом этажей \"первый\" имеют меньшую стоимость, чем квартиры с двумя прочими типами этажей. Провести сравнение стоимости квартир с типами этажей \"последний\" и \"другой\" по данной диаграмме достаточно сложно. \\\n",
    "Поэтому построим гистограммы стоимости квартир для квартир с разными типами этажей."
   ]
  },
  {
   "cell_type": "code",
   "execution_count": null,
   "metadata": {},
   "outputs": [],
   "source": [
    "# отберем данные со значением столбца floor_type \"первый\"\n",
    "# и построим по ним гистограмму для столбца last_price\n",
    "\n",
    "df.query('floor_type == \"первый\"').plot(y='last_price', kind='hist', bins=50);\n",
    "\n",
    "df.query('floor_type == \"первый\"').plot(y='last_price', kind='hist', bins=100,\n",
    "                                           xlim=(0, 100000000), title='для квартир дешевле 100 миллионов');\n",
    "\n",
    "df.query('floor_type == \"первый\"').plot(y='last_price', kind='hist', bins=100,\n",
    "                                           xlim=(0, 40000000), title='для квартир дешевле 40 миллионов');"
   ]
  },
  {
   "cell_type": "code",
   "execution_count": null,
   "metadata": {},
   "outputs": [],
   "source": [
    "# отберем данные со значением столбца floor_type \"другой\"\n",
    "# и построим по ним гистограмму для столбца last_price\n",
    "\n",
    "df.query('floor_type == \"другой\"').plot(y='last_price', kind='hist', bins=50);\n",
    "\n",
    "df.query('floor_type == \"другой\"').plot(y='last_price', kind='hist', bins=100,\n",
    "                                           xlim=(0, 100000000), title='для квартир дешевле 100 миллионов');\n",
    "\n",
    "df.query('floor_type == \"другой\"').plot(y='last_price', kind='hist', bins=100,\n",
    "                                           xlim=(0, 40000000), title='для квартир дешевле 40 миллионов');"
   ]
  },
  {
   "cell_type": "code",
   "execution_count": null,
   "metadata": {},
   "outputs": [],
   "source": [
    "# отберем данные со значением столбца floor_type \"последний\"\n",
    "# и построим по ним гистограмму для столбца last_price\n",
    "\n",
    "df.query('floor_type == \"последний\"').plot(y='last_price', kind='hist', bins=50);\n",
    "\n",
    "df.query('floor_type == \"последний\"').plot(y='last_price', kind='hist', bins=100,\n",
    "                                           xlim=(0, 100000000), title='для квартир дешевле 100 миллионов');\n",
    "\n",
    "df.query('floor_type == \"последний\"').plot(y='last_price', kind='hist', bins=100,\n",
    "                                           xlim=(0, 40000000), title='для квартир дешевле 40 миллионов');"
   ]
  },
  {
   "cell_type": "markdown",
   "metadata": {},
   "source": [
    "Также для сгруппированных по каждому типу этажа данных рассчитаем среднее и медиану."
   ]
  },
  {
   "cell_type": "code",
   "execution_count": null,
   "metadata": {},
   "outputs": [],
   "source": [
    "# рассчитаем среднюю стоимость квартир с типом этажа \"первый\"\n",
    "\n",
    "df.query('floor_type == \"первый\"')['last_price'].mean()"
   ]
  },
  {
   "cell_type": "code",
   "execution_count": null,
   "metadata": {},
   "outputs": [],
   "source": [
    "# рассчитаем среднюю стоимость квартир с типом этажа \"другой\"\n",
    "\n",
    "df.query('floor_type == \"другой\"')['last_price'].mean()"
   ]
  },
  {
   "cell_type": "code",
   "execution_count": null,
   "metadata": {},
   "outputs": [],
   "source": [
    "# рассчитаем среднюю стоимость квартир с типом этажа \"последний\"\n",
    "\n",
    "df.query('floor_type == \"последний\"')['last_price'].mean()"
   ]
  },
  {
   "cell_type": "code",
   "execution_count": null,
   "metadata": {},
   "outputs": [],
   "source": [
    "# рассчитаем медианную стоимость квартир с типом этажа \"первый\"\n",
    "\n",
    "df.query('floor_type == \"первый\"')['last_price'].median()"
   ]
  },
  {
   "cell_type": "code",
   "execution_count": null,
   "metadata": {},
   "outputs": [],
   "source": [
    "# рассчитаем медианную стоимость квартир с типом этажа \"другой\"\n",
    "\n",
    "df.query('floor_type == \"другой\"')['last_price'].median()"
   ]
  },
  {
   "cell_type": "code",
   "execution_count": null,
   "metadata": {},
   "outputs": [],
   "source": [
    "# рассчитаем медианную стоимость квартир с типом этажа \"последний\"\n",
    "\n",
    "df.query('floor_type == \"последний\"')['last_price'].median()"
   ]
  },
  {
   "cell_type": "markdown",
   "metadata": {},
   "source": [
    "Полученные данные подтвердили тот факт, что квартиры с типом этажей \"первый\" имеют меньшую стоимость, чем квартиры с двумя другими типами этажей. \\\n",
    "Касательно данных для квартир с типами этажей \"другой\" и \"последний\", основываясь на гистограммах однозначные выводы в пользу какого-либо типа сделать нельзя, тем не менее медиана и среднее квартир на последних этажах больше, чем на других. Это говорит о том, что в целом квартиры на последнем этаже дороже, чем на другом."
   ]
  },
  {
   "cell_type": "markdown",
   "metadata": {},
   "source": [
    "#### Дата публикации объявления (день недели)"
   ]
  },
  {
   "cell_type": "code",
   "execution_count": null,
   "metadata": {},
   "outputs": [],
   "source": [
    "# построим диаграмму рассеяния для столбцов last_price и day_exposition\n",
    "\n",
    "df.plot(x='last_price', y='day_exposition', kind='scatter', grid=True);"
   ]
  },
  {
   "cell_type": "markdown",
   "metadata": {},
   "source": [
    "По данной диаграмме достаточно сложно провести сравнение стоимости квартир в зависимости от дня недели, в который объявление о продаже квартиры было опубликовано. Кроме того здравый смысл и логическое мышление подсказывают, что наличие связи между данными параметрами маловероятно. \\\n",
    "Тем не менее перепроверим данную гипотезу. Для этого построим соответствующие гистограммы."
   ]
  },
  {
   "cell_type": "code",
   "execution_count": null,
   "metadata": {},
   "outputs": [],
   "source": [
    "# сгруппируем данные по разным дням недели и\n",
    "# построим гистограммы для столбца last_price\n",
    "\n",
    "df.query('day_exposition == 0').plot(y='last_price', kind='hist', bins=50,\n",
    "                                     title='для объявлений, опубликованных в понедельник');\n",
    "\n",
    "df.query('day_exposition == 1').plot(y='last_price', kind='hist', bins=50,\n",
    "                                     title='для объявлений, опубликованных во вторник');\n",
    "\n",
    "df.query('day_exposition == 2').plot(y='last_price', kind='hist', bins=50,\n",
    "                                     title='для объявлений, опубликованных в среду');\n",
    "\n",
    "df.query('day_exposition == 3').plot(y='last_price', kind='hist', bins=50,\n",
    "                                     title='для объявлений, опубликованных в четверг');\n",
    "\n",
    "df.query('day_exposition == 4').plot(y='last_price', kind='hist', bins=50,\n",
    "                                     title='для объявлений, опубликованных в пятницу');\n",
    "\n",
    "df.query('day_exposition == 5').plot(y='last_price', kind='hist', bins=50,\n",
    "                                     title='для объявлений, опубликованных в субботу');\n",
    "\n",
    "df.query('day_exposition == 6').plot(y='last_price', kind='hist', bins=50,\n",
    "                                     title='для объявлений, опубликованных в воскресенье');"
   ]
  },
  {
   "cell_type": "code",
   "execution_count": null,
   "metadata": {},
   "outputs": [],
   "source": [
    "# построим более подробные гистограммы по сгруппированным данным для столбца last_price \n",
    "\n",
    "df.query('day_exposition == 0').plot(y='last_price', kind='hist', bins=50,\n",
    "                                     title='для объявлений, опубликованных в понедельник', xlim=(0, 50000000));\n",
    "\n",
    "df.query('day_exposition == 1').plot(y='last_price', kind='hist', bins=50,\n",
    "                                     title='для объявлений, опубликованных во вторник', xlim=(0, 50000000));\n",
    "\n",
    "df.query('day_exposition == 2').plot(y='last_price', kind='hist', bins=50,\n",
    "                                     title='для объявлений, опубликованных в среду', xlim=(0, 50000000));\n",
    "\n",
    "df.query('day_exposition == 3').plot(y='last_price', kind='hist', bins=50,\n",
    "                                     title='для объявлений, опубликованных в четверг', xlim=(0, 50000000));\n",
    "\n",
    "df.query('day_exposition == 4').plot(y='last_price', kind='hist', bins=50,\n",
    "                                     title='для объявлений, опубликованных в пятницу', xlim=(0, 50000000));\n",
    "\n",
    "df.query('day_exposition == 5').plot(y='last_price', kind='hist', bins=50,\n",
    "                                     title='для объявлений, опубликованных в субботу', xlim=(0, 50000000));\n",
    "\n",
    "df.query('day_exposition == 6').plot(y='last_price', kind='hist', bins=50,\n",
    "                                     title='для объявлений, опубликованных в воскресенье', xlim=(0, 50000000));"
   ]
  },
  {
   "cell_type": "markdown",
   "metadata": {},
   "source": [
    "Данные, которые мы получили из гистограмм, можно отнести скорее к разряду интересных фактов, нежели к основе для серьезного изучения. \\\n",
    "Подводя итоги, по полученным гистограммам можно сделать вывод о том, что **какой-либо существенной связи между полной стоимостью квартиры и днем недели, в который было опубликовано объявление о продаже квартиры нет**."
   ]
  },
  {
   "cell_type": "markdown",
   "metadata": {},
   "source": [
    "#### Месяц публикации объявления"
   ]
  },
  {
   "cell_type": "code",
   "execution_count": null,
   "metadata": {},
   "outputs": [],
   "source": [
    "# построим диаграмму рассеяния для столбцов last_price и month_exposition\n",
    "\n",
    "df.plot(x='last_price', y='month_exposition', kind='scatter', grid=True);"
   ]
  },
  {
   "cell_type": "markdown",
   "metadata": {},
   "source": [
    "По данной диаграмме, ровно как и по предыдущей, достаточно сложно провести сравнение стоимости квартир в зависимости от месяца, в который объявление о продаже квартиры было опубликовано. \\\n",
    "Построим гистограммы для каждого месяца."
   ]
  },
  {
   "cell_type": "code",
   "execution_count": null,
   "metadata": {},
   "outputs": [],
   "source": [
    "# сгруппируем данные по разным месяцам и\n",
    "# построим гистограммы для столбца last_price\n",
    "\n",
    "df.query('month_exposition == 1').plot(y='last_price', kind='hist', bins=50,\n",
    "                                     title='для объявлений, опубликованных в январе');\n",
    "\n",
    "df.query('month_exposition == 2').plot(y='last_price', kind='hist', bins=50,\n",
    "                                     title='для объявлений, опубликованных в феврале');\n",
    "\n",
    "df.query('month_exposition == 3').plot(y='last_price', kind='hist', bins=50,\n",
    "                                     title='для объявлений, опубликованных в марте');\n",
    "\n",
    "df.query('month_exposition == 4').plot(y='last_price', kind='hist', bins=50,\n",
    "                                     title='для объявлений, опубликованных в апреле');\n",
    "\n",
    "df.query('month_exposition == 5').plot(y='last_price', kind='hist', bins=50,\n",
    "                                     title='для объявлений, опубликованных в мае');\n",
    "\n",
    "df.query('month_exposition == 6').plot(y='last_price', kind='hist', bins=50,\n",
    "                                     title='для объявлений, опубликованных в июне');\n",
    "\n",
    "df.query('month_exposition == 7').plot(y='last_price', kind='hist', bins=50,\n",
    "                                     title='для объявлений, опубликованных в июле');\n",
    "\n",
    "df.query('month_exposition == 8').plot(y='last_price', kind='hist', bins=50,\n",
    "                                     title='для объявлений, опубликованных в августе');\n",
    "\n",
    "df.query('month_exposition == 9').plot(y='last_price', kind='hist', bins=50,\n",
    "                                     title='для объявлений, опубликованных в сентябре');\n",
    "\n",
    "df.query('month_exposition == 10').plot(y='last_price', kind='hist', bins=50,\n",
    "                                     title='для объявлений, опубликованных в октябре');\n",
    "\n",
    "df.query('month_exposition == 11').plot(y='last_price', kind='hist', bins=50,\n",
    "                                     title='для объявлений, опубликованных в ноябре');\n",
    "\n",
    "df.query('month_exposition == 12').plot(y='last_price', kind='hist', bins=50,\n",
    "                                     title='для объявлений, опубликованных в декабре');"
   ]
  },
  {
   "cell_type": "code",
   "execution_count": null,
   "metadata": {},
   "outputs": [],
   "source": [
    "# построим более подробные гистограммы по сгруппированным данным для столбца last_price \n",
    "\n",
    "df.query('month_exposition == 1').plot(y='last_price', kind='hist', bins=50,\n",
    "                                     title='для объявлений, опубликованных в январе', xlim=(0, 50000000));\n",
    "\n",
    "df.query('month_exposition == 2').plot(y='last_price', kind='hist', bins=50,\n",
    "                                     title='для объявлений, опубликованных в феврале', xlim=(0, 50000000));\n",
    "\n",
    "df.query('month_exposition == 3').plot(y='last_price', kind='hist', bins=50,\n",
    "                                     title='для объявлений, опубликованных в марте', xlim=(0, 50000000));\n",
    "\n",
    "df.query('month_exposition == 4').plot(y='last_price', kind='hist', bins=50,\n",
    "                                     title='для объявлений, опубликованных в апреле', xlim=(0, 50000000));\n",
    "\n",
    "df.query('month_exposition == 5').plot(y='last_price', kind='hist', bins=50,\n",
    "                                     title='для объявлений, опубликованных в мае', xlim=(0, 50000000));\n",
    "\n",
    "df.query('month_exposition == 6').plot(y='last_price', kind='hist', bins=50,\n",
    "                                     title='для объявлений, опубликованных в июне', xlim=(0, 50000000));\n",
    "\n",
    "df.query('month_exposition == 7').plot(y='last_price', kind='hist', bins=50,\n",
    "                                     title='для объявлений, опубликованных в июле', xlim=(0, 50000000));\n",
    "\n",
    "df.query('month_exposition == 8').plot(y='last_price', kind='hist', bins=50,\n",
    "                                     title='для объявлений, опубликованных в августе', xlim=(0, 50000000));\n",
    "\n",
    "df.query('month_exposition == 9').plot(y='last_price', kind='hist', bins=50,\n",
    "                                     title='для объявлений, опубликованных в сентябре', xlim=(0, 50000000));\n",
    "\n",
    "df.query('month_exposition == 10').plot(y='last_price', kind='hist', bins=50,\n",
    "                                     title='для объявлений, опубликованных в октябре', xlim=(0, 50000000));\n",
    "\n",
    "df.query('month_exposition == 11').plot(y='last_price', kind='hist', bins=50,\n",
    "                                     title='для объявлений, опубликованных в ноябре', xlim=(0, 50000000));\n",
    "\n",
    "df.query('month_exposition == 12').plot(y='last_price', kind='hist', bins=50,\n",
    "                                     title='для объявлений, опубликованных в декабре', xlim=(0, 50000000));"
   ]
  },
  {
   "cell_type": "markdown",
   "metadata": {},
   "source": [
    "Полученные из гистограмм данные, в целом, не несут в себе какой-либо серьезной информации для исследования.\n",
    "**Существенной связи между полной стоимостью квартиры и месяцем, в котором было опубликовано объявление о продаже квартиры, не наблюдается**."
   ]
  },
  {
   "cell_type": "markdown",
   "metadata": {},
   "source": [
    "#### Год публикации объявления"
   ]
  },
  {
   "cell_type": "code",
   "execution_count": null,
   "metadata": {},
   "outputs": [],
   "source": [
    "# построим диаграмму рассеяния для столбцов last_price и year_exposition\n",
    "\n",
    "df.plot(x='last_price', y='year_exposition', kind='scatter', grid=True);"
   ]
  },
  {
   "cell_type": "markdown",
   "metadata": {},
   "source": [
    "По данной диаграмме, как и по двум предыдущим, достаточно сложно провести сравнение стоимости квартир в зависимости от года, в который объявление о продаже квартиры было опубликовано.\n",
    "Построим гистограммы для каждого полного года."
   ]
  },
  {
   "cell_type": "code",
   "execution_count": null,
   "metadata": {},
   "outputs": [],
   "source": [
    "# сгруппируем данные по разным годам и\n",
    "# построим гистограммы для столбца last_price\n",
    "\n",
    "df.query('year_exposition == 2015').plot(y='last_price', kind='hist', bins=50,\n",
    "                                     title='для объявлений, опубликованных в 2015 году');\n",
    "\n",
    "df.query('year_exposition == 2016').plot(y='last_price', kind='hist', bins=50,\n",
    "                                     title='для объявлений, опубликованных в 2016 году');\n",
    "\n",
    "df.query('year_exposition == 2017').plot(y='last_price', kind='hist', bins=50,\n",
    "                                     title='для объявлений, опубликованных в 2017 году');\n",
    "\n",
    "df.query('year_exposition == 2018').plot(y='last_price', kind='hist', bins=50,\n",
    "                                     title='для объявлений, опубликованных в 2018 году');"
   ]
  },
  {
   "cell_type": "code",
   "execution_count": null,
   "metadata": {},
   "outputs": [],
   "source": [
    "# построим более подробные гистограммы по сгруппированным данным для столбца last_price \n",
    "\n",
    "df.query('year_exposition == 2015').plot(y='last_price', kind='hist', bins=50,\n",
    "                                     title='для объявлений, опубликованных в 2015 году', xlim=(0, 50000000));\n",
    "\n",
    "df.query('year_exposition == 2016').plot(y='last_price', kind='hist', bins=50,\n",
    "                                     title='для объявлений, опубликованных в 2016 году', xlim=(0, 50000000));\n",
    "\n",
    "df.query('year_exposition == 2017').plot(y='last_price', kind='hist', bins=50,\n",
    "                                     title='для объявлений, опубликованных в 2017 году', xlim=(0, 50000000));\n",
    "\n",
    "df.query('year_exposition == 2018').plot(y='last_price', kind='hist', bins=50,\n",
    "                                     title='для объявлений, опубликованных в 2018 году', xlim=(0, 50000000));"
   ]
  },
  {
   "cell_type": "code",
   "execution_count": null,
   "metadata": {},
   "outputs": [],
   "source": [
    "# выведем медиану стоимости квартир, опубликованных в 2015 году\n",
    "\n",
    "df.query('year_exposition == 2015')['last_price'].median()"
   ]
  },
  {
   "cell_type": "code",
   "execution_count": null,
   "metadata": {},
   "outputs": [],
   "source": [
    "# выведем медиану стоимости квартир, опубликованных в 2016 году\n",
    "\n",
    "df.query('year_exposition == 2016')['last_price'].median()"
   ]
  },
  {
   "cell_type": "code",
   "execution_count": null,
   "metadata": {},
   "outputs": [],
   "source": [
    "# выведем медиану стоимости квартир, опубликованных в 2017 году\n",
    "\n",
    "df.query('year_exposition == 2017')['last_price'].median()"
   ]
  },
  {
   "cell_type": "code",
   "execution_count": null,
   "metadata": {},
   "outputs": [],
   "source": [
    "# выведем медиану стоимости квартир, опубликованных в 2018 году\n",
    "\n",
    "df.query('year_exposition == 2018')['last_price'].median()"
   ]
  },
  {
   "cell_type": "markdown",
   "metadata": {},
   "source": [
    "Наиболее дорогие квартиры появились на сайте в 2015 году, наименее - в 2016 и 2017. Интересный факт: медианы стоимости квартир, опубликованных в 2016-2017 годах (они равны) и 2018 году различаются между собой на 30 тысяч, медиана стоимости квартир за 2015 год превышает максимальную из трех вышеописанных на 720 тысяч. \\\n",
    "Тем не менее, данные не несут в себе какой-либо важной для исследования информации. **Между полной стоимостью квартиры и годом, в котором было опубликовано объявление о продаже квартиры, не наблюдается существенной связи**."
   ]
  },
  {
   "cell_type": "markdown",
   "metadata": {},
   "source": [
    "### Анализ средней цены одного квадратного метра в 10 населенных пунктах с наибольшим числом объявлений"
   ]
  },
  {
   "cell_type": "code",
   "execution_count": null,
   "metadata": {},
   "outputs": [],
   "source": [
    "# сохраним топ 10 населенных пунктов с наибольшим числом объявлений в список\n",
    "\n",
    "top10 = df['locality_name'].value_counts().head(10).index\n",
    "\n",
    "top10"
   ]
  },
  {
   "cell_type": "markdown",
   "metadata": {},
   "source": [
    "Список выглядит правдоподобно: 8 из 10 городов в нем являются ближайшими пригородами Санкт-Петербурга, притом половина из них, согласно [административно-территориальному делению Санкт-Петербурга](https://ru.wikipedia.org/wiki/Административно-территориальное_деление_Санкт-Петербурга), входит в его состав. Другие два города - сам Санкт-Петербург - лидер по количеству объявлений - и Выборг - один из крупнейших городов Ленинградской области. \\\n",
    "Из списка топ 10 населенных пунктов также становится понятно, что преобладающая часть объявлений приходится либо на Санкт-Петербург, либо на его ближайшие пригороды (в топ 10 только один населенный пункт находится вдали от Петербурга - Выборг - и тот находится на 10 месте)."
   ]
  },
  {
   "cell_type": "code",
   "execution_count": null,
   "metadata": {},
   "outputs": [],
   "source": [
    "# рассчитаем среднюю цену одного квадратного метра для 10 населенных пунктах\n",
    "# с наибольшим числом объявлений и выведем в отсортированном по убыванию цены виде\n",
    "\n",
    "(\n",
    "    df.query('locality_name in @top10')\n",
    "    .pivot_table(index='locality_name', values='sq_meter_price')\n",
    "    .sort_values(by='sq_meter_price', ascending=False)\n",
    ")"
   ]
  },
  {
   "cell_type": "code",
   "execution_count": null,
   "metadata": {},
   "outputs": [],
   "source": [
    "# построим столбчатую диаграмму для полученных значений\n",
    "\n",
    "(\n",
    "    df.query('locality_name in @top10')\n",
    "    .pivot_table(index='locality_name', values='sq_meter_price')\n",
    "    .sort_values(by='sq_meter_price', ascending=False)\n",
    ").plot(kind='bar', y='sq_meter_price');"
   ]
  },
  {
   "cell_type": "markdown",
   "metadata": {},
   "source": [
    "Полученные данные показывают, что **в топ 10 городов по количеству объявлений наибольшая средняя цена одного квадратного метра принадлежит Санкт-Петербургу и составляет более 113 тысяч**. Далее располагаются его ближайшие пригороды - средняя цена одного квадратного метра для Пушкина составляет 103 тысячи, для Кудрово и Парголово немного превышает 90 тысяч, для остальных близлежащих пригородов находится в интервале от 86 тысяч до 68 тысяч. Дальний пригород Санкт-Петербурга Выборг замыкает топ 10 с показателем 58 тысяч. \\\n",
    "На диаграмме также стоит отметить довольно плавное снижение средней цены одного квадратного метра."
   ]
  },
  {
   "cell_type": "code",
   "execution_count": null,
   "metadata": {},
   "outputs": [],
   "source": [
    "# выведем населенные пункты с самой высокой средней ценой одного квадратного метра\n",
    "\n",
    "(\n",
    "    df.pivot_table(index='locality_name', values='sq_meter_price')\n",
    "    .sort_values(by='sq_meter_price', ascending=False)\n",
    "    .head()\n",
    ")"
   ]
  },
  {
   "cell_type": "code",
   "execution_count": null,
   "metadata": {},
   "outputs": [],
   "source": [
    "# построим столбчатую диаграмму для полученных значений\n",
    "\n",
    "(\n",
    "    df.pivot_table(index='locality_name', values='sq_meter_price')\n",
    "    .sort_values(by='sq_meter_price', ascending=False)\n",
    "    .head(15)\n",
    ").plot(kind='bar', y='sq_meter_price');"
   ]
  },
  {
   "cell_type": "markdown",
   "metadata": {},
   "source": [
    "Как ни странно, **самая высокая средняя цена одного квадратного метра принадлежит не Санкт-Петербургу, который занимает вторую строчку в списке, а Зеленогорску**, и составляет 115 тысяч. Это можно объяснить тем фактом, что Зеленогорск, с одной стороны, административно входит в состав Санкт-Петербурга (т.е. его жители имеют петербургскую прописку), с другой стороны является городом, находящемся в курортномй зоне (даже входит в Курортный район Санкт-Петербурга): имеет выход к Финскому заливу, множество хвойных лесов. Третью и пятую строчку в списке городов с наибольшей средней ценой одного квадратного метра также занимают населенные пункты, входящие в состав Курортного района Санкт-Петербурга - поселок Репино и город Сестрорецк, а четвертую - входящий в Пушкинский район Петербурга город Пушкин. Значения средней цены одного квадратного метра для всех трех пригородов находится в интервале от 105 тысяч до 101 тысячи. \\\n",
    "Можем сделать вывод о том, что **наиболее дорогая недвижимость находится либо в самом Санкт-Петербурге, либо в пригородах в его составе**."
   ]
  },
  {
   "cell_type": "code",
   "execution_count": null,
   "metadata": {},
   "outputs": [],
   "source": [
    "# выведем населенные пункты с самой низкой средней ценой одного квадратного метра\n",
    "\n",
    "(\n",
    "    df.pivot_table(index='locality_name', values='sq_meter_price')\n",
    "    .sort_values(by='sq_meter_price')\n",
    "    .head()\n",
    ")"
   ]
  },
  {
   "cell_type": "code",
   "execution_count": null,
   "metadata": {},
   "outputs": [],
   "source": [
    "# построим столбчатую диаграмму для полученных значений\n",
    "\n",
    "(\n",
    "    df.pivot_table(index='locality_name', values='sq_meter_price')\n",
    "    .sort_values(by='sq_meter_price')\n",
    "    .head(15)\n",
    ").plot(kind='bar', y='sq_meter_price');"
   ]
  },
  {
   "cell_type": "markdown",
   "metadata": {},
   "source": [
    "Полученные данные говорят нам о том, что **наименьшие средние цены одного квадратного метра приходятся на отдаленные от Санкт-Петербурга населенные пункты, в основном - деревенского типа. Такой результат полностью совпадает с ожидаемым**."
   ]
  },
  {
   "cell_type": "markdown",
   "metadata": {},
   "source": [
    "### Исследование зависимости стоимости квартир в Санкт-Петербурге от расстояния до города"
   ]
  },
  {
   "cell_type": "markdown",
   "metadata": {},
   "source": [
    "Проверим максимальное расстояние до центра Санкт-Петербурга для объявлений из этого города."
   ]
  },
  {
   "cell_type": "code",
   "execution_count": null,
   "metadata": {},
   "outputs": [],
   "source": [
    "# выделим квартиры в Санкт-Петербурге \n",
    "# и выведем максимальное расстояние до центра Санкт-Петербурга\n",
    "\n",
    "df.query('locality_name == \"Санкт-Петербург\"')['to_city_center_km'].max()"
   ]
  },
  {
   "cell_type": "code",
   "execution_count": null,
   "metadata": {},
   "outputs": [],
   "source": [
    "# посчитаем среднее значение стоимости квартиры в Санкт-Петербурге \n",
    "\n",
    "df.query('locality_name == \"Санкт-Петербург\"')['last_price'].mean()"
   ]
  },
  {
   "cell_type": "code",
   "execution_count": null,
   "metadata": {},
   "outputs": [],
   "source": [
    "# посчитаем медиану стоимости квартиры в Санкт-Петербурге \n",
    "\n",
    "df.query('locality_name == \"Санкт-Петербург\"')['last_price'].median()"
   ]
  },
  {
   "cell_type": "code",
   "execution_count": null,
   "metadata": {},
   "outputs": [],
   "source": [
    "# выведем список уникальных значений столбца to_city_center_km\n",
    "\n",
    "df.query('locality_name == \"Санкт-Петербург\"')['to_city_center_km'].unique()"
   ]
  },
  {
   "cell_type": "markdown",
   "metadata": {},
   "source": [
    "Теперь мы можем вычислить среднюю цену квартир для каждого километра и построить графики."
   ]
  },
  {
   "cell_type": "code",
   "execution_count": null,
   "metadata": {},
   "outputs": [],
   "source": [
    "# выведем сводную таблицу со средними ценами квартир в Санкт-Петербурге для каждого километра\n",
    "\n",
    "(\n",
    "    df.query('locality_name == \"Санкт-Петербург\"')\n",
    "    .pivot_table(index='to_city_center_km', values='last_price')\n",
    ")"
   ]
  },
  {
   "cell_type": "code",
   "execution_count": null,
   "metadata": {},
   "outputs": [],
   "source": [
    "# построим столбчатую диаграмму для полученных значений\n",
    "\n",
    "(\n",
    "    df.query('locality_name == \"Санкт-Петербург\"')\n",
    "    .pivot_table(index='to_city_center_km', values='last_price')\n",
    "    .plot(kind='bar', y='last_price')\n",
    ");"
   ]
  },
  {
   "cell_type": "code",
   "execution_count": null,
   "metadata": {},
   "outputs": [],
   "source": [
    "# выведем коэффициент корреляции Пирсона для столбцов last_price и to_city_center_km\n",
    "\n",
    "df['last_price'].corr(df['to_city_center_km'])"
   ]
  },
  {
   "cell_type": "markdown",
   "metadata": {},
   "source": [
    "Как ни странно, наиболее дорогие квартиры находятся не в самом центре Санкт-Петербурга, а в радиусе двух километров от него: средняя цена квартиры составляет 13.5 миллионов рублей. Аналогичный параметр для квартир не дальше 1 километра до центра - более 12.5 миллионов, для квартир в радиусе 3 километров - 10 миллионов рублей. \\\n",
    "Затем для квартир в радиусе от 4 до 7 километров заметен рост - средняя цена равномерно возрастает от 10.9 миллионов до 13.6 миллионов рублей. Затем для квартир не дальше 8 км до центра заметен резкий спад - средняя цена уменьшается до 8.9 миллионов рублей. После этого средняя цена продолжает падать - для квартир в радиусе 9 километров от центра города также достаточно резко - средняя цена составляет чуть менее 7 миллионов, а далее достаточно плавно.\n",
    "\n",
    "Одной из причин высоких средних цен для квартир в радиусах 4-7 км до центра Санкт-Петербурга может быть тот факт, что на разницу расстояний 7 и 3 км приходятся Петроградская сторона, а также Васильевский и Каменный острова - фешенебельные районы Санкт-Петербурга с дорогой недвижимостью.\n",
    "\n",
    "Как мы видим по столбчатой диаграмме, в целом для квартир после 7 километра наблюдается тенденция к снижению средней цены. Однако есть два значения, соответствующие 20 и 27 километру, которые заметно выбиваются из общей тенденции - они составляют более 6 миллионов и 8.3 миллионов соответственно. Объяснить данный феномен можно тем фактом, что в радиусе 20 км от центра Петербурга сконцентрированы Мистолово, Левашово и Стрельна, а в радиусе 27 км - Сестрорецк, Пушкин и Петергоф. Перечисленные поселения входят в топ 15 населенных пунктов с наибольшей средней стоимостью квартир. Однако в таком случае получается, что квартиры из перечисленных населенных пунктов были отнесены не к соответствующим поселениям, а к Санкт-Петербургу. Учитвая тот факт, что административно многие из оных относятся к Санкт-Петербургу, а также факт высокой стоимости квартир, находящихся в соответствующих таким городам радиусных расстояниях, такое вполне возможно.\n",
    "\n",
    "Подводя итоги исследования, мы можем сделать вывод о том, что в целом тенденция к снижению стоимости квартиры при удалении от центра наблюдается, однако она характерна для значений, соответствующих расстоянию от 8 километров и дальше от центра города.\n",
    "Кроме того следует отметить, что квартиры, находящиеся в непосредственной близости к центру города, имеют стоимость значительно превышающую как среднее значение и медиану по Санкт-Петербургу в целом, так и средние стоимости квартир по километрам. \\\n",
    "Тем не менее в ходе исследования был найден фактор, влияющий на стоимость квартиры сильнее, чем расстояние до центра города - фешенебельность района / населенного пункта внутри города. Данный фактор \"вытянул\" средние значения стоимости квартир некоторых групп вверх, вне зависимости от близости квартир данных групп к центру города."
   ]
  },
  {
   "cell_type": "markdown",
   "metadata": {},
   "source": [
    "## Общий вывод"
   ]
  },
  {
   "cell_type": "markdown",
   "metadata": {},
   "source": [
    "На основе предоставленных данных о продаже квартир в Санкт-Петербурге и соседних населённых пунктах за несколько лет был проведен ряд исследований и исследовательских анализов. Целью исследований было определение параметров, влияющих на рыночную стоимость объектов недвижимости, для ее будущей оценки при помощи данных параметров.\n",
    "\n",
    "После завершения предобработки данных, в датафрейм были добавлены следующие столбцы: цена одного квадратного метра; день недели, месяц и год публикации объявления; тип этажа квартиры; расстояние до центра города в км.\n",
    "\n",
    "Затем был произведен **общий анализ данных**, который выявил определенные закономерности для различных параметров, а именно:\n",
    "1) цена одного квадратного метра\n",
    "- преобладающая часть значений находится в интервале до 200 тысяч рублей за квадратный метр;\n",
    "- наиболее часто встречающиеся значения - 90-100 тысяч рублей;\n",
    "2) день недели, в который было опубликовано объявление\n",
    "- наиболее популярным для публикации объявлений днем недели является четверг, наименее популярным - воскресенье;\n",
    "- по будням выложено не менее 3500 объявлений в день, выходные заметен спад - не более 2000 объявлений в сутки;\n",
    "- нельзя сказать, что по ходу недели наблюдается какой-либо спад или подъем количества опубликованных объявлений;\n",
    "3) месяц публикации объявления\n",
    "- наиболее благоприятным месяцем для публикации объявлений является февраль - более 2500 объявлений, наименее благоприятным - май - менее 1300 объявлений;\n",
    "- по ходу календарного года не наблюдается каких-либо общих тенденций по снижению или увеличению числа опубликованных объявлений;\n",
    "- больше всего публикаций приходится на период \"февраль-апрель\", а также на период \"сентябрь-ноябрь\";\n",
    "- значительно меньше объявлений появляется в декабре-январе (около 1500 для каждого месяца) и мае (менее 1500);\n",
    "4) год публикации объявления\n",
    "- первые объявления датируются 27 ноября 2014 года (т.е. концом года), а последние - 3 мая 2019 года;\n",
    "- полными годами (с опубликованными объявлениями за каждый месяц) можно назвать оные с 2015 по 2018 включительно;\n",
    "- наибольшее количество объявлений было опубликовано в 2018 и 2017 годах - более 8000 в год;\n",
    "- наименьшее среди всех годовых промежутков - в первый год сбора данных - 2014 - менее 150 объявлений, среди полных годовых промежутков - в 2015 году - около 1100 объявлений;\n",
    "- по полным годам наблюдается рост количества публикаций;\n",
    "5) тип этажа\n",
    "- наиболее часто встречающийся тип этажа - другой - количество квартир составляет чуть менее 17.5 тысяч;\n",
    "- количество квартир на последнем и первом этаже составляет порядка 3750 и 2900.\n",
    "\n",
    "**Анализ времени продажи квартир**. \\\n",
    "Результаты анализа:\n",
    "- преобладающее количество значений находится в интервале до 1000 дней, большая часть - до 400 дней;\n",
    "- пик значений приходится на промежуток 30-60 дней - в этот период с сайта были сняты более 4000 объявлений;\n",
    "- медиана составляет 95 дней, что почти в два раза меньше среднего - 180 дней. Столь отличные значения скорее всего связаны с влиянием на среднее квартир, которые наиболее долго продавались - более 400 дней.\n",
    "\n",
    "Выводы из анализа:\n",
    "- чаще всего квартиры продаются в течение первых двух месяцев (60 дней) - это правило работает для порядка трети объявлений. Такие продажи можно назвать быстрыми;\n",
    "- продажи после 400 дня публикации объявления можно назвать необычайно долгими;\n",
    "- в среднем квартиры продаются за 3 месяца.\n",
    "\n",
    "**Исследование влияния различных факторов на полную стоимость объекта**. \\\n",
    "В начале исследования было принято, что для подтверждения зависимости между полной стоимостью квартиры и различными параметрами коэффициент корреляции Пирсона должен быть не менее 0.5 - т.е. связь должна быть как минимум заметной ([1](https://intuit.ru/studies/courses/6/6/lecture/172?page=3), [2](https://www.syl.ru/article/229252/mod_koeffitsient-korrelyatsii-i-prichinno-sledstvennaya-svyaz-formulyi-i-ih-interpretatsiya)).\n",
    "\n",
    "- **параметр 1: общая площадь квартиры - взаимосвязь имеет место**.\n",
    "\n",
    "Данный вывод был сформулирован на основе результатов расчета коэффициента корреляции Пирсона, оказавшегося равным 0.72, и построения диаграммы рассеяния для пары параметров: полная стоимость объекта-общая площадь квартиры.\n",
    "\n",
    "- **параметр 2: жилая площадь квартиры - взаимосвязь имеет место**.\n",
    "\n",
    "Данный вывод был сформулирован на основе результатов расчета коэффициента корреляции Пирсона, оказавшегося равным 0.60, и построения диаграммы рассеяния для пары параметров: полная стоимость объекта-жилая площадь квартиры.\n",
    "\n",
    "- **параметр 3: площадь кухни - взаимосвязь имеет место**.\n",
    "\n",
    "Данный вывод был сформулирован на основе результатов расчета коэффициента корреляции Пирсона, оказавшегося равным 0.56, и построения диаграммы рассеяния для пары параметров: полная стоимость объекта-площадь кухни.\n",
    "\n",
    "- **параметр 4: количество комнат - взаимосвязи либо нет, либо она несет более сложный характер**.\n",
    "\n",
    "Данный вывод был сформулирован на основе результатов расчета коэффициента корреляции Пирсона, оказавшегося равным 0.42, и построения диаграммы рассеяния для пары параметров: полная стоимость объекта-количество комнат.\n",
    "\n",
    "- **параметр 5: тип этажа - взаимосвязь имеет место**.\n",
    "\n",
    "Данный вывод был сформулирован на основе результатов построения диаграммы рассеяния для пары параметров: полная стоимость объекта-количество комнат, общих и более подробных гистограмм для данных, соответствующих каждому типу этажа, а также расчетов медиан и средних значений для сгруппированных по типу этажа данных. \\\n",
    "Полученные данные подтвердили тот факт, что квартиры с типом этажей \"первый\" имеют меньшую стоимость, чем квартиры с двумя другими типами этажей. Основываясь на гистограммах, для квартир с типами этажей \"другой\" и \"последний\" однозначные выводы в пользу какого-либо типа сделать нельзя, тем не менее медиана и среднее квартир на последних этажах больше, чем на других. Это говорит о том, что в целом квартиры на последнем этаже дороже, чем на другом.\n",
    "\n",
    "- **параметр 6: день недели, в который было опубликовано объявление - взаимосвязи либо нет, либо она несет более сложный характер**.\n",
    "\n",
    "Данный вывод был сформулирован на основе результатов построения диаграммы рассеяния для пары параметров: полная стоимость объекта-день недели, в который было опубликовано объявление, общих и более подробных гистограмм для данных, соответствующих каждому дню недели. \\\n",
    "Каких либо важных для исследования закономерностей в полученных данных обнаружено не было.\n",
    "\n",
    "- **параметры 7: месяц публикации объявления - взаимосвязи либо нет, либо она несет более сложный характер**.\n",
    "\n",
    "Данный вывод был сформулирован на основе результатов построения диаграммы рассеяния для пары параметров: полная стоимость объекта-месяц публикации объявления, общих и более подробных гистограмм для данных, соответствующих каждому месяцу. \\\n",
    "Каких-либо важных для исследования закономерностей в полученных данных обнаружено не было.\n",
    "\n",
    "- **параметры 8: год публикации объявления - взаимосвязи либо нет, либо она несет более сложный характер**.\n",
    "\n",
    "Данный вывод был сформулирован на основе результатов построения диаграммы рассеяния для пары параметров: полная стоимость объекта-год публикации объявления, общих и более подробных гистограмм для данных, соответствующих каждому полному году, а также расчетов медиан и средних значений для сгруппированных по полным годам данных. \\\n",
    "По полученныи данным нельзя сделать вывод о наличии каких-либо закономерностей между параметрами.\n",
    "\n",
    "**Анализ средней цены одного квадратного метра в 10 населенных пунктах с наибольшим числом объявлений**. \\\n",
    "Результаты анализа:\n",
    "- в топ 10 населенных пунктов с наибольшим числом объявлений вошли Санкт-Петербург, 8 городов, которые являются его ближайшими пригородами, а также дальний пригород Петербурга Выборг, один из крупнейших городов Ленинградской области;\n",
    "- в топ 10 городов по количеству объявлений наибольшая средняя цена одного квадратного метра принадлежит Санкт-Петербургу и составляет более 113 тысяч рублей, далее располагаются его ближайшие пригороды - средняя цена одного квадратного метра для Пушкина составляет 103 тысячи, для Кудрово и Парголово немного превышает 90 тысяч, для остальных близлежащих пригородов находится в интервале от 86 тысяч до 68 тысяч рублей;\n",
    "- самая высокая средняя цена одного квадратного метра среди всех населенных пунктов принадлежит Зеленогорску, а не Санкт-Петербургу, и составляет 115 тысяч рублей.\n",
    "\n",
    "Выводы из анализа:\n",
    "- из списка топ 10 населенных пунктов с наибольшим числом объявлений видно, что преобладающая часть объявлений приходится либо на Санкт-Петербург, либо на его ближайшие пригороды;\n",
    "- наиболее дорогая недвижимость находится либо в самом Санкт-Петербурге, либо в пригородах в его составе;\n",
    "- самая высокая средняя цена одного квадратного метра принадлежит Зеленогорску: это можно объяснить тем фактом, что административно Зеленогорск входит в состав Санкт-Петербурга (т.е. его жители имеют петербургскую прописку) и притом является поселением, находящемся в курортномй зоне. Точно такие же параметры имеют еще 2 населенных пункта в топ 5 по наибольшей средней цене;\n",
    "- наименьшие средние цены одного квадратного метра приходятся на отдаленные от Санкт-Петербурга населенные пункты, в основном - деревенского типа.\n",
    "\n",
    "**Исследование зависимости стоимости квартир в Санкт-Петербурге от расстояния до города**. \\\n",
    "Результаты исследования:\n",
    "- как ни странно, наиболее дорогие квартиры находятся не в самом центре Санкт-Петербурга, а в радиусе двух километров от него: средняя цена квартиры в радиусе первого километра составляет 13.5 миллионов рублей. Аналогичный параметр для квартир не дальше 1 километра до центра - более 12.5 миллионов, для квартир в радиусе 3 километров - 10 миллионов рублей;\n",
    "- для квартир в радиусе от 4 до 7 километров заметен рост - средняя цена равномерно возрастает от 10.9 миллионов до 13.6 миллионов рублей;\n",
    "- для квартир не дальше 8 км до центра заметен резкий спад - средняя цена уменьшается до 8.9 миллионов рублей;\n",
    "- после этого средняя цена продолжает падать - для квартир в радиусе 9 километров от центра города также достаточно резко - средняя цена составляет чуть менее 7 миллионов, а далее достаточно плавно;\n",
    "- в целом для квартир после 7 километра наблюдается тенденция к снижению средней цены, однако есть значения, которые заметно выбиваются из общей тенденции.\n",
    "\n",
    "Выводы из исследования:\n",
    "- в целом тенденция к снижению стоимости квартиры при удалении от центра наблюдается, однако она характерна для значений, соответствующих расстоянию от 8 километров и дальше от центра города;\n",
    "- квартиры, находящиеся в непосредственной близости к центру города, имеют стоимость значительно превышающую как среднее значение и медиану по Санкт-Петербургу в целом, так и средние стоимости квартир по километрам;\n",
    "- в ходе исследования был найден фактор, влияющий на стоимость квартиры сильнее, чем расстояние до центра города - фешенебельность района / населенного пункта внутри города. Данный фактор \"вытянул\" средние значения стоимости квартир некоторых групп вверх, вне зависимости от близости квартир данных групп к центру города.\n",
    "\n",
    "**Общие рекомендации**:\n",
    "\n",
    "Целью исследований было определение параметров, влияющих на рыночную стоимость объектов недвижимости, для ее будущей оценки при помощи данных параметров. К таким параметрам можно отнести следующие: \n",
    "- общая площадь квартиры - прямая зависимость (заметная связь - коэффициент Пирсона равен 0.65);\n",
    "- жилая площадь квартиры - прямая зависимость (заметная связь - коэффициент Пирсона равен 0.56);\n",
    "- площадь кухни - прямая зависимость (заметная связь - коэффициент Пирсона равен 0.52);\n",
    "- тип этажа - для типа \"первый\" стоимость ниже, чем для типов \"последний\" и \"другой\", к типу \"последний\" чаще относятся экстрадорогие объекты недвижимости (дороже 300 миллионов рублей), а также квартиры дороже 10 миллионов рублей;\n",
    "- фешенебельность района;\n",
    "- близость расположения к центру Санкт-Петербурга (только для значений, соответствующих расстоянию от 8 километров и дальше от центра города) - прямая зависимость.\n",
    "\n",
    "Следует учитывать данные параметры для будущей оценки рыночной стоимости объектов недвижимости."
   ]
  }
 ],
 "metadata": {
  "ExecuteTimeLog": [
   {
    "duration": 716,
    "start_time": "2022-07-28T13:18:12.741Z"
   },
   {
    "duration": 470,
    "start_time": "2022-07-28T13:18:46.236Z"
   },
   {
    "duration": 136,
    "start_time": "2022-07-28T13:18:53.467Z"
   },
   {
    "duration": 108,
    "start_time": "2022-07-28T13:21:18.645Z"
   },
   {
    "duration": 99,
    "start_time": "2022-07-28T13:22:28.632Z"
   },
   {
    "duration": 140,
    "start_time": "2022-07-28T13:22:40.435Z"
   },
   {
    "duration": 2387,
    "start_time": "2022-07-28T13:58:17.619Z"
   },
   {
    "duration": 1928,
    "start_time": "2022-07-28T13:58:39.426Z"
   },
   {
    "duration": 2106,
    "start_time": "2022-07-28T13:58:52.542Z"
   },
   {
    "duration": 3903,
    "start_time": "2022-07-28T17:58:21.771Z"
   },
   {
    "duration": 39,
    "start_time": "2022-07-28T17:58:45.505Z"
   },
   {
    "duration": 13,
    "start_time": "2022-07-28T17:58:55.713Z"
   },
   {
    "duration": 2217,
    "start_time": "2022-07-28T19:08:00.214Z"
   },
   {
    "duration": 9,
    "start_time": "2022-07-28T19:08:04.489Z"
   },
   {
    "duration": 31,
    "start_time": "2022-07-28T19:10:38.157Z"
   },
   {
    "duration": 14,
    "start_time": "2022-07-28T19:10:43.576Z"
   },
   {
    "duration": 15,
    "start_time": "2022-07-28T19:12:00.896Z"
   },
   {
    "duration": 80,
    "start_time": "2022-07-28T19:16:34.081Z"
   },
   {
    "duration": 228,
    "start_time": "2022-07-28T19:16:39.827Z"
   },
   {
    "duration": 219,
    "start_time": "2022-07-28T19:17:26.593Z"
   },
   {
    "duration": 480,
    "start_time": "2022-07-28T19:18:19.055Z"
   },
   {
    "duration": 794,
    "start_time": "2022-07-28T19:18:29.862Z"
   },
   {
    "duration": 279,
    "start_time": "2022-07-28T19:28:55.414Z"
   },
   {
    "duration": 230,
    "start_time": "2022-07-28T19:29:07.856Z"
   },
   {
    "duration": 230,
    "start_time": "2022-07-28T19:29:10.818Z"
   },
   {
    "duration": 628,
    "start_time": "2022-07-28T19:49:57.717Z"
   },
   {
    "duration": 48,
    "start_time": "2022-07-29T07:09:57.344Z"
   },
   {
    "duration": 7,
    "start_time": "2022-07-29T07:10:03.813Z"
   },
   {
    "duration": 3241,
    "start_time": "2022-07-29T07:10:38.027Z"
   },
   {
    "duration": 12,
    "start_time": "2022-07-29T07:10:41.718Z"
   },
   {
    "duration": 162,
    "start_time": "2022-07-29T07:10:44.727Z"
   },
   {
    "duration": 688,
    "start_time": "2022-07-29T07:10:48.047Z"
   },
   {
    "duration": 153,
    "start_time": "2022-07-29T07:11:09.027Z"
   },
   {
    "duration": 245,
    "start_time": "2022-07-29T07:11:19.284Z"
   },
   {
    "duration": 728,
    "start_time": "2022-07-29T07:11:40.134Z"
   },
   {
    "duration": 285,
    "start_time": "2022-07-29T07:14:41.793Z"
   },
   {
    "duration": 292,
    "start_time": "2022-07-29T07:20:42.542Z"
   },
   {
    "duration": 588,
    "start_time": "2022-07-29T07:21:26.811Z"
   },
   {
    "duration": 78,
    "start_time": "2022-07-29T07:23:09.341Z"
   },
   {
    "duration": 649,
    "start_time": "2022-07-29T07:28:56.866Z"
   },
   {
    "duration": 1048,
    "start_time": "2022-07-29T07:30:23.868Z"
   },
   {
    "duration": 1111,
    "start_time": "2022-07-29T07:30:34.760Z"
   },
   {
    "duration": 1271,
    "start_time": "2022-07-29T07:30:37.260Z"
   },
   {
    "duration": 1076,
    "start_time": "2022-07-29T07:30:49.793Z"
   },
   {
    "duration": 1497,
    "start_time": "2022-07-29T07:30:59.312Z"
   },
   {
    "duration": 1387,
    "start_time": "2022-07-29T07:34:12.543Z"
   },
   {
    "duration": 985,
    "start_time": "2022-07-29T07:36:26.488Z"
   },
   {
    "duration": 697,
    "start_time": "2022-07-29T07:36:44.079Z"
   },
   {
    "duration": 14,
    "start_time": "2022-07-29T07:37:06.560Z"
   },
   {
    "duration": 14,
    "start_time": "2022-07-29T07:37:17.923Z"
   },
   {
    "duration": 22,
    "start_time": "2022-07-29T07:37:44.620Z"
   },
   {
    "duration": 25,
    "start_time": "2022-07-29T07:38:31.475Z"
   },
   {
    "duration": 28,
    "start_time": "2022-07-29T07:38:44.926Z"
   },
   {
    "duration": 292,
    "start_time": "2022-07-29T07:39:35.797Z"
   },
   {
    "duration": 1409,
    "start_time": "2022-07-29T07:39:55.347Z"
   },
   {
    "duration": 1592,
    "start_time": "2022-07-29T07:40:13.787Z"
   },
   {
    "duration": 1648,
    "start_time": "2022-07-29T07:41:52.324Z"
   },
   {
    "duration": 733,
    "start_time": "2022-07-29T07:42:31.806Z"
   },
   {
    "duration": 708,
    "start_time": "2022-07-29T07:43:13.367Z"
   },
   {
    "duration": 18,
    "start_time": "2022-07-29T07:43:35.176Z"
   },
   {
    "duration": 11,
    "start_time": "2022-07-29T07:43:48.023Z"
   },
   {
    "duration": 35,
    "start_time": "2022-07-29T07:47:14.988Z"
   },
   {
    "duration": 2992,
    "start_time": "2022-07-29T07:51:33.238Z"
   },
   {
    "duration": 13,
    "start_time": "2022-07-29T07:51:36.233Z"
   },
   {
    "duration": 768,
    "start_time": "2022-07-29T07:51:36.249Z"
   },
   {
    "duration": 14,
    "start_time": "2022-07-29T07:51:37.019Z"
   },
   {
    "duration": 2971,
    "start_time": "2022-07-29T07:52:50.439Z"
   },
   {
    "duration": 11,
    "start_time": "2022-07-29T07:52:53.412Z"
   },
   {
    "duration": 735,
    "start_time": "2022-07-29T07:52:53.425Z"
   },
   {
    "duration": 14,
    "start_time": "2022-07-29T07:52:54.164Z"
   },
   {
    "duration": 3373,
    "start_time": "2022-07-29T07:52:54.181Z"
   },
   {
    "duration": 1466,
    "start_time": "2022-07-29T07:52:57.556Z"
   },
   {
    "duration": 22,
    "start_time": "2022-07-29T07:52:59.024Z"
   },
   {
    "duration": 52,
    "start_time": "2022-07-29T08:10:26.854Z"
   },
   {
    "duration": 3200,
    "start_time": "2022-07-29T08:10:34.322Z"
   },
   {
    "duration": 14,
    "start_time": "2022-07-29T08:10:39.631Z"
   },
   {
    "duration": 690,
    "start_time": "2022-07-29T08:10:42.614Z"
   },
   {
    "duration": 12,
    "start_time": "2022-07-29T08:10:46.290Z"
   },
   {
    "duration": 8,
    "start_time": "2022-07-29T08:10:48.148Z"
   },
   {
    "duration": 14,
    "start_time": "2022-07-29T08:11:47.022Z"
   },
   {
    "duration": 12,
    "start_time": "2022-07-29T08:11:50.923Z"
   },
   {
    "duration": 10,
    "start_time": "2022-07-29T08:12:01.153Z"
   },
   {
    "duration": 12,
    "start_time": "2022-07-29T08:12:12.242Z"
   },
   {
    "duration": 69,
    "start_time": "2022-07-29T08:14:36.347Z"
   },
   {
    "duration": 13,
    "start_time": "2022-07-29T08:14:47.553Z"
   },
   {
    "duration": 11,
    "start_time": "2022-07-29T08:15:13.532Z"
   },
   {
    "duration": 12,
    "start_time": "2022-07-29T08:15:40.407Z"
   },
   {
    "duration": 13,
    "start_time": "2022-07-29T08:15:45.697Z"
   },
   {
    "duration": 18,
    "start_time": "2022-07-29T08:15:58.799Z"
   },
   {
    "duration": 11,
    "start_time": "2022-07-29T08:16:10.965Z"
   },
   {
    "duration": 6,
    "start_time": "2022-07-29T08:16:15.906Z"
   },
   {
    "duration": 10,
    "start_time": "2022-07-29T08:51:53.375Z"
   },
   {
    "duration": 12,
    "start_time": "2022-07-29T08:51:58.029Z"
   },
   {
    "duration": 8,
    "start_time": "2022-07-29T10:08:06.551Z"
   },
   {
    "duration": 8,
    "start_time": "2022-07-29T10:16:32.295Z"
   },
   {
    "duration": 217,
    "start_time": "2022-07-29T10:16:59.563Z"
   },
   {
    "duration": 219,
    "start_time": "2022-07-29T10:17:16.364Z"
   },
   {
    "duration": 161,
    "start_time": "2022-07-29T10:19:36.936Z"
   },
   {
    "duration": 317,
    "start_time": "2022-07-29T10:19:40.778Z"
   },
   {
    "duration": 217,
    "start_time": "2022-07-29T10:22:53.046Z"
   },
   {
    "duration": 279,
    "start_time": "2022-07-29T10:22:56.362Z"
   },
   {
    "duration": 230,
    "start_time": "2022-07-29T10:23:24.321Z"
   },
   {
    "duration": 233,
    "start_time": "2022-07-29T10:23:40.178Z"
   },
   {
    "duration": 215,
    "start_time": "2022-07-29T10:23:46.359Z"
   },
   {
    "duration": 275,
    "start_time": "2022-07-29T10:24:26.471Z"
   },
   {
    "duration": 212,
    "start_time": "2022-07-29T10:27:36.922Z"
   },
   {
    "duration": 217,
    "start_time": "2022-07-29T10:27:51.631Z"
   },
   {
    "duration": 302,
    "start_time": "2022-07-29T10:28:04.823Z"
   },
   {
    "duration": 353,
    "start_time": "2022-07-29T10:28:14.938Z"
   },
   {
    "duration": 6,
    "start_time": "2022-07-29T10:42:00.755Z"
   },
   {
    "duration": 18,
    "start_time": "2022-07-29T11:05:19.836Z"
   },
   {
    "duration": 55,
    "start_time": "2022-07-29T11:07:56.469Z"
   },
   {
    "duration": 62,
    "start_time": "2022-07-29T11:08:18.268Z"
   },
   {
    "duration": 9,
    "start_time": "2022-07-29T11:08:56.791Z"
   },
   {
    "duration": 7,
    "start_time": "2022-07-29T11:09:05.488Z"
   },
   {
    "duration": 14,
    "start_time": "2022-07-29T11:09:21.651Z"
   },
   {
    "duration": 32,
    "start_time": "2022-07-29T11:21:49.338Z"
   },
   {
    "duration": 10,
    "start_time": "2022-07-29T11:21:57.118Z"
   },
   {
    "duration": 9,
    "start_time": "2022-07-29T11:22:17.564Z"
   },
   {
    "duration": 9,
    "start_time": "2022-07-29T11:22:24.390Z"
   },
   {
    "duration": 12,
    "start_time": "2022-07-29T11:22:30.116Z"
   },
   {
    "duration": 15,
    "start_time": "2022-07-29T11:22:34.950Z"
   },
   {
    "duration": 20,
    "start_time": "2022-07-29T11:23:04.318Z"
   },
   {
    "duration": 24,
    "start_time": "2022-07-29T11:23:23.706Z"
   },
   {
    "duration": 21,
    "start_time": "2022-07-29T11:23:37.149Z"
   },
   {
    "duration": 74,
    "start_time": "2022-07-29T11:23:49.661Z"
   },
   {
    "duration": 16,
    "start_time": "2022-07-29T11:23:56.061Z"
   },
   {
    "duration": 17,
    "start_time": "2022-07-29T11:24:10.860Z"
   },
   {
    "duration": 25,
    "start_time": "2022-07-29T11:30:03.595Z"
   },
   {
    "duration": 21,
    "start_time": "2022-07-29T11:30:23.872Z"
   },
   {
    "duration": 27,
    "start_time": "2022-07-29T11:30:32.061Z"
   },
   {
    "duration": 24,
    "start_time": "2022-07-29T11:30:41.497Z"
   },
   {
    "duration": 33,
    "start_time": "2022-07-29T11:30:55.222Z"
   },
   {
    "duration": 5,
    "start_time": "2022-07-29T11:42:06.059Z"
   },
   {
    "duration": 26,
    "start_time": "2022-07-29T12:15:35.396Z"
   },
   {
    "duration": 15,
    "start_time": "2022-07-29T12:16:02.957Z"
   },
   {
    "duration": 7,
    "start_time": "2022-07-29T12:17:27.853Z"
   },
   {
    "duration": 8,
    "start_time": "2022-07-29T12:17:49.767Z"
   },
   {
    "duration": 7,
    "start_time": "2022-07-29T12:17:53.763Z"
   },
   {
    "duration": 9,
    "start_time": "2022-07-29T12:18:23.258Z"
   },
   {
    "duration": 8,
    "start_time": "2022-07-29T12:18:44.248Z"
   },
   {
    "duration": 8,
    "start_time": "2022-07-29T12:19:10.900Z"
   },
   {
    "duration": 10,
    "start_time": "2022-07-29T12:20:55.751Z"
   },
   {
    "duration": 9,
    "start_time": "2022-07-29T12:23:33.319Z"
   },
   {
    "duration": 91,
    "start_time": "2022-07-29T12:23:41.971Z"
   },
   {
    "duration": 12,
    "start_time": "2022-07-29T12:23:53.962Z"
   },
   {
    "duration": 11,
    "start_time": "2022-07-29T12:24:00.783Z"
   },
   {
    "duration": 9,
    "start_time": "2022-07-29T12:24:06.747Z"
   },
   {
    "duration": 9,
    "start_time": "2022-07-29T12:25:11.354Z"
   },
   {
    "duration": 4,
    "start_time": "2022-07-29T12:25:18.418Z"
   },
   {
    "duration": 4,
    "start_time": "2022-07-29T12:25:20.083Z"
   },
   {
    "duration": 11,
    "start_time": "2022-07-29T12:25:24.829Z"
   },
   {
    "duration": 3,
    "start_time": "2022-07-29T12:27:11.179Z"
   },
   {
    "duration": 45,
    "start_time": "2022-07-29T12:27:29.165Z"
   },
   {
    "duration": 4,
    "start_time": "2022-07-29T12:27:55.220Z"
   },
   {
    "duration": 109,
    "start_time": "2022-07-29T12:28:22.071Z"
   },
   {
    "duration": 4,
    "start_time": "2022-07-29T12:28:31.983Z"
   },
   {
    "duration": 81,
    "start_time": "2022-07-29T12:28:41.219Z"
   },
   {
    "duration": 104,
    "start_time": "2022-07-29T12:28:48.852Z"
   },
   {
    "duration": 79,
    "start_time": "2022-07-29T12:28:55.845Z"
   },
   {
    "duration": 4,
    "start_time": "2022-07-29T12:28:59.216Z"
   },
   {
    "duration": 9,
    "start_time": "2022-07-29T12:30:52.320Z"
   },
   {
    "duration": 9,
    "start_time": "2022-07-29T12:31:09.951Z"
   },
   {
    "duration": 8,
    "start_time": "2022-07-29T12:31:11.614Z"
   },
   {
    "duration": 10,
    "start_time": "2022-07-29T12:31:25.582Z"
   },
   {
    "duration": 6,
    "start_time": "2022-07-29T12:31:35.460Z"
   },
   {
    "duration": 4,
    "start_time": "2022-07-29T12:31:59.045Z"
   },
   {
    "duration": 10,
    "start_time": "2022-07-29T12:32:02.150Z"
   },
   {
    "duration": 9,
    "start_time": "2022-07-29T12:32:05.010Z"
   },
   {
    "duration": 4,
    "start_time": "2022-07-29T12:32:12.676Z"
   },
   {
    "duration": 8,
    "start_time": "2022-07-29T12:32:31.849Z"
   },
   {
    "duration": 7,
    "start_time": "2022-07-29T12:32:40.549Z"
   },
   {
    "duration": 6,
    "start_time": "2022-07-29T12:32:49.711Z"
   },
   {
    "duration": 6,
    "start_time": "2022-07-29T12:33:14.674Z"
   },
   {
    "duration": 5,
    "start_time": "2022-07-29T12:34:37.556Z"
   },
   {
    "duration": 4,
    "start_time": "2022-07-29T12:35:07.082Z"
   },
   {
    "duration": 24,
    "start_time": "2022-07-29T12:35:16.628Z"
   },
   {
    "duration": 1781,
    "start_time": "2022-07-29T12:44:00.242Z"
   },
   {
    "duration": 6,
    "start_time": "2022-07-29T12:44:23.745Z"
   },
   {
    "duration": 75,
    "start_time": "2022-07-29T12:57:27.536Z"
   },
   {
    "duration": 44,
    "start_time": "2022-07-29T12:57:31.450Z"
   },
   {
    "duration": 8,
    "start_time": "2022-07-29T12:57:40.274Z"
   },
   {
    "duration": 13,
    "start_time": "2022-07-29T12:58:41.350Z"
   },
   {
    "duration": 7,
    "start_time": "2022-07-29T12:59:03.549Z"
   },
   {
    "duration": 52,
    "start_time": "2022-07-29T12:59:44.922Z"
   },
   {
    "duration": 9,
    "start_time": "2022-07-29T12:59:54.394Z"
   },
   {
    "duration": 8,
    "start_time": "2022-07-29T13:00:33.061Z"
   },
   {
    "duration": 47,
    "start_time": "2022-07-29T13:05:49.675Z"
   },
   {
    "duration": 8,
    "start_time": "2022-07-29T13:06:12.177Z"
   },
   {
    "duration": 10,
    "start_time": "2022-07-29T13:41:44.337Z"
   },
   {
    "duration": 1764,
    "start_time": "2022-07-29T13:47:59.157Z"
   },
   {
    "duration": 7,
    "start_time": "2022-07-29T13:48:03.366Z"
   },
   {
    "duration": 2239,
    "start_time": "2022-07-29T13:48:07.989Z"
   },
   {
    "duration": 10,
    "start_time": "2022-07-29T13:48:12.933Z"
   },
   {
    "duration": 833,
    "start_time": "2022-07-29T13:48:15.258Z"
   },
   {
    "duration": 7,
    "start_time": "2022-07-29T13:48:18.159Z"
   },
   {
    "duration": 6,
    "start_time": "2022-07-29T13:48:19.774Z"
   },
   {
    "duration": 7,
    "start_time": "2022-07-29T13:48:21.904Z"
   },
   {
    "duration": 228,
    "start_time": "2022-07-29T13:48:23.972Z"
   },
   {
    "duration": 10,
    "start_time": "2022-07-29T13:48:27.045Z"
   },
   {
    "duration": 6,
    "start_time": "2022-07-29T13:48:28.510Z"
   },
   {
    "duration": 10,
    "start_time": "2022-07-29T13:48:30.982Z"
   },
   {
    "duration": 10,
    "start_time": "2022-07-29T13:48:33.135Z"
   },
   {
    "duration": 8,
    "start_time": "2022-07-29T13:48:35.147Z"
   },
   {
    "duration": 5,
    "start_time": "2022-07-29T13:48:37.609Z"
   },
   {
    "duration": 5,
    "start_time": "2022-07-29T13:48:39.223Z"
   },
   {
    "duration": 1727,
    "start_time": "2022-07-29T13:48:41.683Z"
   },
   {
    "duration": 6,
    "start_time": "2022-07-29T13:48:50.834Z"
   },
   {
    "duration": 14,
    "start_time": "2022-07-29T13:49:00.366Z"
   },
   {
    "duration": 9,
    "start_time": "2022-07-29T13:49:02.048Z"
   },
   {
    "duration": 10,
    "start_time": "2022-07-29T13:49:03.710Z"
   },
   {
    "duration": 1796,
    "start_time": "2022-07-29T13:49:26.955Z"
   },
   {
    "duration": 823,
    "start_time": "2022-07-29T13:54:18.155Z"
   },
   {
    "duration": 6,
    "start_time": "2022-07-29T13:54:26.566Z"
   },
   {
    "duration": 5,
    "start_time": "2022-07-29T13:55:46.521Z"
   },
   {
    "duration": 10,
    "start_time": "2022-07-29T13:56:37.268Z"
   },
   {
    "duration": 9,
    "start_time": "2022-07-29T13:58:48.486Z"
   },
   {
    "duration": 8,
    "start_time": "2022-07-29T13:58:58.316Z"
   },
   {
    "duration": 723,
    "start_time": "2022-07-29T13:59:33.750Z"
   },
   {
    "duration": 10,
    "start_time": "2022-07-29T13:59:35.876Z"
   },
   {
    "duration": 1711,
    "start_time": "2022-07-29T14:00:40.630Z"
   },
   {
    "duration": 3001,
    "start_time": "2022-07-29T14:01:27.518Z"
   },
   {
    "duration": 10,
    "start_time": "2022-07-29T14:01:30.521Z"
   },
   {
    "duration": 735,
    "start_time": "2022-07-29T14:01:30.533Z"
   },
   {
    "duration": 8,
    "start_time": "2022-07-29T14:01:31.270Z"
   },
   {
    "duration": 7,
    "start_time": "2022-07-29T14:01:31.281Z"
   },
   {
    "duration": 5,
    "start_time": "2022-07-29T14:01:31.305Z"
   },
   {
    "duration": 219,
    "start_time": "2022-07-29T14:01:31.312Z"
   },
   {
    "duration": 13,
    "start_time": "2022-07-29T14:01:31.533Z"
   },
   {
    "duration": 12,
    "start_time": "2022-07-29T14:01:31.548Z"
   },
   {
    "duration": 13,
    "start_time": "2022-07-29T14:01:31.561Z"
   },
   {
    "duration": 29,
    "start_time": "2022-07-29T14:01:31.576Z"
   },
   {
    "duration": 13,
    "start_time": "2022-07-29T14:01:31.607Z"
   },
   {
    "duration": 7,
    "start_time": "2022-07-29T14:01:31.621Z"
   },
   {
    "duration": 6,
    "start_time": "2022-07-29T14:01:31.631Z"
   },
   {
    "duration": 18,
    "start_time": "2022-07-29T14:01:31.638Z"
   },
   {
    "duration": 8,
    "start_time": "2022-07-29T14:01:31.657Z"
   },
   {
    "duration": 45,
    "start_time": "2022-07-29T14:01:31.666Z"
   },
   {
    "duration": 736,
    "start_time": "2022-07-29T14:02:33.788Z"
   },
   {
    "duration": 1654,
    "start_time": "2022-07-29T14:02:38.428Z"
   },
   {
    "duration": 758,
    "start_time": "2022-07-29T14:02:57.401Z"
   },
   {
    "duration": 5,
    "start_time": "2022-07-29T14:03:10.629Z"
   },
   {
    "duration": 55,
    "start_time": "2022-07-30T11:52:09.585Z"
   },
   {
    "duration": 3162,
    "start_time": "2022-07-30T11:52:24.256Z"
   },
   {
    "duration": 11,
    "start_time": "2022-07-30T11:52:27.419Z"
   },
   {
    "duration": 635,
    "start_time": "2022-07-30T11:52:27.431Z"
   },
   {
    "duration": 8,
    "start_time": "2022-07-30T11:52:28.068Z"
   },
   {
    "duration": 10,
    "start_time": "2022-07-30T11:52:28.077Z"
   },
   {
    "duration": 10,
    "start_time": "2022-07-30T11:52:28.089Z"
   },
   {
    "duration": 217,
    "start_time": "2022-07-30T11:52:28.100Z"
   },
   {
    "duration": 13,
    "start_time": "2022-07-30T11:52:28.319Z"
   },
   {
    "duration": 6,
    "start_time": "2022-07-30T11:52:28.333Z"
   },
   {
    "duration": 7,
    "start_time": "2022-07-30T11:52:28.342Z"
   },
   {
    "duration": 11,
    "start_time": "2022-07-30T11:52:28.351Z"
   },
   {
    "duration": 11,
    "start_time": "2022-07-30T11:52:28.363Z"
   },
   {
    "duration": 5,
    "start_time": "2022-07-30T11:52:28.376Z"
   },
   {
    "duration": 42,
    "start_time": "2022-07-30T11:52:28.383Z"
   },
   {
    "duration": 16,
    "start_time": "2022-07-30T11:52:28.427Z"
   },
   {
    "duration": 14,
    "start_time": "2022-07-30T11:52:28.445Z"
   },
   {
    "duration": 8,
    "start_time": "2022-07-30T11:52:28.460Z"
   },
   {
    "duration": 9,
    "start_time": "2022-07-30T11:52:28.470Z"
   },
   {
    "duration": 4,
    "start_time": "2022-07-30T11:52:51.814Z"
   },
   {
    "duration": 713,
    "start_time": "2022-07-30T11:53:09.111Z"
   },
   {
    "duration": 5,
    "start_time": "2022-07-30T11:53:17.431Z"
   },
   {
    "duration": 730,
    "start_time": "2022-07-30T11:55:15.252Z"
   },
   {
    "duration": 6,
    "start_time": "2022-07-30T11:55:18.841Z"
   },
   {
    "duration": 5,
    "start_time": "2022-07-30T11:55:20.740Z"
   },
   {
    "duration": 2797,
    "start_time": "2022-07-30T11:55:50.713Z"
   },
   {
    "duration": 9,
    "start_time": "2022-07-30T11:55:53.513Z"
   },
   {
    "duration": 687,
    "start_time": "2022-07-30T11:55:53.525Z"
   },
   {
    "duration": 17,
    "start_time": "2022-07-30T11:55:54.214Z"
   },
   {
    "duration": 7,
    "start_time": "2022-07-30T11:55:54.233Z"
   },
   {
    "duration": 12,
    "start_time": "2022-07-30T11:55:54.242Z"
   },
   {
    "duration": 207,
    "start_time": "2022-07-30T11:55:54.256Z"
   },
   {
    "duration": 12,
    "start_time": "2022-07-30T11:55:54.464Z"
   },
   {
    "duration": 7,
    "start_time": "2022-07-30T11:55:54.478Z"
   },
   {
    "duration": 11,
    "start_time": "2022-07-30T11:55:54.487Z"
   },
   {
    "duration": 27,
    "start_time": "2022-07-30T11:55:54.500Z"
   },
   {
    "duration": 7,
    "start_time": "2022-07-30T11:55:54.529Z"
   },
   {
    "duration": 9,
    "start_time": "2022-07-30T11:55:54.538Z"
   },
   {
    "duration": 13,
    "start_time": "2022-07-30T11:55:54.550Z"
   },
   {
    "duration": 10,
    "start_time": "2022-07-30T11:55:54.565Z"
   },
   {
    "duration": 16,
    "start_time": "2022-07-30T11:55:54.577Z"
   },
   {
    "duration": 30,
    "start_time": "2022-07-30T11:55:54.595Z"
   },
   {
    "duration": 11,
    "start_time": "2022-07-30T11:55:54.627Z"
   },
   {
    "duration": 1642,
    "start_time": "2022-07-30T11:56:08.835Z"
   },
   {
    "duration": 6,
    "start_time": "2022-07-30T11:56:12.866Z"
   },
   {
    "duration": 1606,
    "start_time": "2022-07-30T11:58:09.351Z"
   },
   {
    "duration": 5,
    "start_time": "2022-07-30T11:58:12.611Z"
   },
   {
    "duration": 14,
    "start_time": "2022-07-30T11:58:43.620Z"
   },
   {
    "duration": 8,
    "start_time": "2022-07-30T11:58:51.877Z"
   },
   {
    "duration": 700,
    "start_time": "2022-07-30T12:15:39.223Z"
   },
   {
    "duration": 5,
    "start_time": "2022-07-30T12:15:47.819Z"
   },
   {
    "duration": 5,
    "start_time": "2022-07-30T12:33:51.139Z"
   },
   {
    "duration": 10,
    "start_time": "2022-07-30T12:40:37.425Z"
   },
   {
    "duration": 5,
    "start_time": "2022-07-30T12:40:39.474Z"
   },
   {
    "duration": 5,
    "start_time": "2022-07-30T12:40:50.423Z"
   },
   {
    "duration": 682,
    "start_time": "2022-07-30T12:42:11.615Z"
   },
   {
    "duration": 5,
    "start_time": "2022-07-30T12:42:13.981Z"
   },
   {
    "duration": 8,
    "start_time": "2022-07-30T12:42:21.051Z"
   },
   {
    "duration": 2827,
    "start_time": "2022-07-30T12:48:30.415Z"
   },
   {
    "duration": 10,
    "start_time": "2022-07-30T12:48:33.244Z"
   },
   {
    "duration": 675,
    "start_time": "2022-07-30T12:48:33.256Z"
   },
   {
    "duration": 7,
    "start_time": "2022-07-30T12:48:33.933Z"
   },
   {
    "duration": 20,
    "start_time": "2022-07-30T12:48:33.942Z"
   },
   {
    "duration": 45,
    "start_time": "2022-07-30T12:48:33.964Z"
   },
   {
    "duration": 200,
    "start_time": "2022-07-30T12:48:34.010Z"
   },
   {
    "duration": 14,
    "start_time": "2022-07-30T12:48:34.211Z"
   },
   {
    "duration": 14,
    "start_time": "2022-07-30T12:48:34.227Z"
   },
   {
    "duration": 18,
    "start_time": "2022-07-30T12:48:34.243Z"
   },
   {
    "duration": 29,
    "start_time": "2022-07-30T12:48:34.263Z"
   },
   {
    "duration": 23,
    "start_time": "2022-07-30T12:48:34.293Z"
   },
   {
    "duration": 11,
    "start_time": "2022-07-30T12:48:34.317Z"
   },
   {
    "duration": 18,
    "start_time": "2022-07-30T12:48:34.329Z"
   },
   {
    "duration": 26,
    "start_time": "2022-07-30T12:48:34.348Z"
   },
   {
    "duration": 14,
    "start_time": "2022-07-30T12:48:34.375Z"
   },
   {
    "duration": 19,
    "start_time": "2022-07-30T12:48:34.390Z"
   },
   {
    "duration": 18,
    "start_time": "2022-07-30T12:48:34.410Z"
   },
   {
    "duration": 22,
    "start_time": "2022-07-30T12:48:34.430Z"
   },
   {
    "duration": 18,
    "start_time": "2022-07-30T12:48:34.454Z"
   },
   {
    "duration": 18,
    "start_time": "2022-07-30T12:48:34.474Z"
   },
   {
    "duration": 23,
    "start_time": "2022-07-30T12:48:34.494Z"
   },
   {
    "duration": 5,
    "start_time": "2022-07-30T12:48:43.302Z"
   },
   {
    "duration": 9,
    "start_time": "2022-07-30T12:49:37.034Z"
   },
   {
    "duration": 4,
    "start_time": "2022-07-30T12:52:10.962Z"
   },
   {
    "duration": 4,
    "start_time": "2022-07-30T12:53:30.633Z"
   },
   {
    "duration": 1579,
    "start_time": "2022-07-30T12:54:20.451Z"
   },
   {
    "duration": 5,
    "start_time": "2022-07-30T12:54:23.433Z"
   },
   {
    "duration": 1575,
    "start_time": "2022-07-30T12:56:56.118Z"
   },
   {
    "duration": 5,
    "start_time": "2022-07-30T12:57:08.471Z"
   },
   {
    "duration": 114,
    "start_time": "2022-07-30T13:04:18.867Z"
   },
   {
    "duration": 722,
    "start_time": "2022-07-30T13:04:29.413Z"
   },
   {
    "duration": 4,
    "start_time": "2022-07-30T13:04:32.277Z"
   },
   {
    "duration": 2892,
    "start_time": "2022-07-30T13:05:00.414Z"
   },
   {
    "duration": 11,
    "start_time": "2022-07-30T13:05:03.308Z"
   },
   {
    "duration": 691,
    "start_time": "2022-07-30T13:05:03.321Z"
   },
   {
    "duration": 11,
    "start_time": "2022-07-30T13:05:04.015Z"
   },
   {
    "duration": 7,
    "start_time": "2022-07-30T13:05:04.028Z"
   },
   {
    "duration": 9,
    "start_time": "2022-07-30T13:05:04.036Z"
   },
   {
    "duration": 227,
    "start_time": "2022-07-30T13:05:04.047Z"
   },
   {
    "duration": 11,
    "start_time": "2022-07-30T13:05:04.276Z"
   },
   {
    "duration": 5,
    "start_time": "2022-07-30T13:05:04.289Z"
   },
   {
    "duration": 28,
    "start_time": "2022-07-30T13:05:04.296Z"
   },
   {
    "duration": 7,
    "start_time": "2022-07-30T13:05:04.326Z"
   },
   {
    "duration": 11,
    "start_time": "2022-07-30T13:05:04.335Z"
   },
   {
    "duration": 6,
    "start_time": "2022-07-30T13:05:04.348Z"
   },
   {
    "duration": 9,
    "start_time": "2022-07-30T13:05:04.356Z"
   },
   {
    "duration": 6,
    "start_time": "2022-07-30T13:05:04.367Z"
   },
   {
    "duration": 6,
    "start_time": "2022-07-30T13:05:04.374Z"
   },
   {
    "duration": 43,
    "start_time": "2022-07-30T13:05:04.381Z"
   },
   {
    "duration": 7,
    "start_time": "2022-07-30T13:05:04.426Z"
   },
   {
    "duration": 8,
    "start_time": "2022-07-30T13:05:04.435Z"
   },
   {
    "duration": 5,
    "start_time": "2022-07-30T13:07:12.054Z"
   },
   {
    "duration": 761,
    "start_time": "2022-07-30T13:07:18.201Z"
   },
   {
    "duration": 705,
    "start_time": "2022-07-30T13:07:21.497Z"
   },
   {
    "duration": 706,
    "start_time": "2022-07-30T13:07:23.928Z"
   },
   {
    "duration": 5,
    "start_time": "2022-07-30T13:07:25.449Z"
   },
   {
    "duration": 2932,
    "start_time": "2022-07-30T13:07:58.117Z"
   },
   {
    "duration": 11,
    "start_time": "2022-07-30T13:08:01.052Z"
   },
   {
    "duration": 672,
    "start_time": "2022-07-30T13:08:01.065Z"
   },
   {
    "duration": 8,
    "start_time": "2022-07-30T13:08:01.740Z"
   },
   {
    "duration": 13,
    "start_time": "2022-07-30T13:08:01.751Z"
   },
   {
    "duration": 11,
    "start_time": "2022-07-30T13:08:01.766Z"
   },
   {
    "duration": 208,
    "start_time": "2022-07-30T13:08:01.779Z"
   },
   {
    "duration": 12,
    "start_time": "2022-07-30T13:08:01.988Z"
   },
   {
    "duration": 28,
    "start_time": "2022-07-30T13:08:02.002Z"
   },
   {
    "duration": 19,
    "start_time": "2022-07-30T13:08:02.031Z"
   },
   {
    "duration": 7,
    "start_time": "2022-07-30T13:08:02.052Z"
   },
   {
    "duration": 10,
    "start_time": "2022-07-30T13:08:02.061Z"
   },
   {
    "duration": 5,
    "start_time": "2022-07-30T13:08:02.072Z"
   },
   {
    "duration": 7,
    "start_time": "2022-07-30T13:08:02.080Z"
   },
   {
    "duration": 8,
    "start_time": "2022-07-30T13:08:02.089Z"
   },
   {
    "duration": 1877,
    "start_time": "2022-07-30T13:08:02.099Z"
   },
   {
    "duration": 4,
    "start_time": "2022-07-30T13:08:03.978Z"
   },
   {
    "duration": 15,
    "start_time": "2022-07-30T13:08:03.984Z"
   },
   {
    "duration": 7,
    "start_time": "2022-07-30T13:08:04.000Z"
   },
   {
    "duration": 8,
    "start_time": "2022-07-30T13:08:04.023Z"
   },
   {
    "duration": 1989,
    "start_time": "2022-07-30T13:08:07.141Z"
   },
   {
    "duration": 5,
    "start_time": "2022-07-30T13:08:10.619Z"
   },
   {
    "duration": 16,
    "start_time": "2022-07-30T13:11:22.482Z"
   },
   {
    "duration": 13,
    "start_time": "2022-07-30T13:11:49.628Z"
   },
   {
    "duration": 17,
    "start_time": "2022-07-30T13:11:56.742Z"
   },
   {
    "duration": 17,
    "start_time": "2022-07-30T13:12:26.264Z"
   },
   {
    "duration": 19,
    "start_time": "2022-07-30T13:13:00.512Z"
   },
   {
    "duration": 16,
    "start_time": "2022-07-30T13:13:04.867Z"
   },
   {
    "duration": 8,
    "start_time": "2022-07-30T13:14:01.170Z"
   },
   {
    "duration": 5,
    "start_time": "2022-07-30T13:14:05.740Z"
   },
   {
    "duration": 5,
    "start_time": "2022-07-30T13:14:17.230Z"
   },
   {
    "duration": 13,
    "start_time": "2022-07-30T13:14:35.765Z"
   },
   {
    "duration": 18,
    "start_time": "2022-07-30T13:15:18.803Z"
   },
   {
    "duration": 14,
    "start_time": "2022-07-30T13:15:25.086Z"
   },
   {
    "duration": 17,
    "start_time": "2022-07-30T13:15:33.176Z"
   },
   {
    "duration": 12,
    "start_time": "2022-07-30T13:18:44.982Z"
   },
   {
    "duration": 11,
    "start_time": "2022-07-30T13:32:44.269Z"
   },
   {
    "duration": 6,
    "start_time": "2022-07-30T13:32:45.853Z"
   },
   {
    "duration": 2899,
    "start_time": "2022-07-30T13:32:58.267Z"
   },
   {
    "duration": 10,
    "start_time": "2022-07-30T13:33:01.169Z"
   },
   {
    "duration": 759,
    "start_time": "2022-07-30T13:33:01.181Z"
   },
   {
    "duration": 8,
    "start_time": "2022-07-30T13:33:01.943Z"
   },
   {
    "duration": 6,
    "start_time": "2022-07-30T13:33:01.953Z"
   },
   {
    "duration": 10,
    "start_time": "2022-07-30T13:33:01.960Z"
   },
   {
    "duration": 235,
    "start_time": "2022-07-30T13:33:01.972Z"
   },
   {
    "duration": 18,
    "start_time": "2022-07-30T13:33:02.209Z"
   },
   {
    "duration": 6,
    "start_time": "2022-07-30T13:33:02.229Z"
   },
   {
    "duration": 12,
    "start_time": "2022-07-30T13:33:02.237Z"
   },
   {
    "duration": 9,
    "start_time": "2022-07-30T13:33:02.250Z"
   },
   {
    "duration": 14,
    "start_time": "2022-07-30T13:33:02.260Z"
   },
   {
    "duration": 7,
    "start_time": "2022-07-30T13:33:02.276Z"
   },
   {
    "duration": 11,
    "start_time": "2022-07-30T13:33:02.285Z"
   },
   {
    "duration": 28,
    "start_time": "2022-07-30T13:33:02.298Z"
   },
   {
    "duration": 1846,
    "start_time": "2022-07-30T13:33:02.328Z"
   },
   {
    "duration": 4,
    "start_time": "2022-07-30T13:33:04.176Z"
   },
   {
    "duration": 20,
    "start_time": "2022-07-30T13:33:04.182Z"
   },
   {
    "duration": 26,
    "start_time": "2022-07-30T13:33:04.204Z"
   },
   {
    "duration": 20,
    "start_time": "2022-07-30T13:33:04.238Z"
   },
   {
    "duration": 8,
    "start_time": "2022-07-30T13:33:04.260Z"
   },
   {
    "duration": 10,
    "start_time": "2022-07-30T13:33:04.270Z"
   },
   {
    "duration": 6,
    "start_time": "2022-07-30T13:33:04.429Z"
   },
   {
    "duration": 13,
    "start_time": "2022-07-30T13:33:34.889Z"
   },
   {
    "duration": 5,
    "start_time": "2022-07-30T13:33:36.590Z"
   },
   {
    "duration": 3239,
    "start_time": "2022-07-30T13:33:45.935Z"
   },
   {
    "duration": 10,
    "start_time": "2022-07-30T13:33:49.176Z"
   },
   {
    "duration": 657,
    "start_time": "2022-07-30T13:33:49.188Z"
   },
   {
    "duration": 8,
    "start_time": "2022-07-30T13:33:49.846Z"
   },
   {
    "duration": 6,
    "start_time": "2022-07-30T13:33:49.856Z"
   },
   {
    "duration": 7,
    "start_time": "2022-07-30T13:33:49.863Z"
   },
   {
    "duration": 221,
    "start_time": "2022-07-30T13:33:49.872Z"
   },
   {
    "duration": 12,
    "start_time": "2022-07-30T13:33:50.095Z"
   },
   {
    "duration": 16,
    "start_time": "2022-07-30T13:33:50.109Z"
   },
   {
    "duration": 7,
    "start_time": "2022-07-30T13:33:50.127Z"
   },
   {
    "duration": 10,
    "start_time": "2022-07-30T13:33:50.136Z"
   },
   {
    "duration": 10,
    "start_time": "2022-07-30T13:33:50.147Z"
   },
   {
    "duration": 21,
    "start_time": "2022-07-30T13:33:50.158Z"
   },
   {
    "duration": 7,
    "start_time": "2022-07-30T13:33:50.182Z"
   },
   {
    "duration": 7,
    "start_time": "2022-07-30T13:33:50.191Z"
   },
   {
    "duration": 1897,
    "start_time": "2022-07-30T13:33:50.199Z"
   },
   {
    "duration": 5,
    "start_time": "2022-07-30T13:33:52.098Z"
   },
   {
    "duration": 30,
    "start_time": "2022-07-30T13:33:52.104Z"
   },
   {
    "duration": 11,
    "start_time": "2022-07-30T13:33:52.135Z"
   },
   {
    "duration": 4,
    "start_time": "2022-07-30T13:33:52.147Z"
   },
   {
    "duration": 18,
    "start_time": "2022-07-30T13:33:52.153Z"
   },
   {
    "duration": 7,
    "start_time": "2022-07-30T13:33:52.173Z"
   },
   {
    "duration": 12,
    "start_time": "2022-07-30T13:33:52.182Z"
   },
   {
    "duration": 58,
    "start_time": "2022-07-30T13:35:14.514Z"
   },
   {
    "duration": 58,
    "start_time": "2022-07-30T13:35:24.165Z"
   },
   {
    "duration": 7,
    "start_time": "2022-07-30T13:35:35.179Z"
   },
   {
    "duration": 4,
    "start_time": "2022-07-30T13:35:37.271Z"
   },
   {
    "duration": 2883,
    "start_time": "2022-07-30T13:35:48.415Z"
   },
   {
    "duration": 10,
    "start_time": "2022-07-30T13:35:51.299Z"
   },
   {
    "duration": 644,
    "start_time": "2022-07-30T13:35:51.310Z"
   },
   {
    "duration": 9,
    "start_time": "2022-07-30T13:35:51.956Z"
   },
   {
    "duration": 6,
    "start_time": "2022-07-30T13:35:51.967Z"
   },
   {
    "duration": 7,
    "start_time": "2022-07-30T13:35:51.974Z"
   },
   {
    "duration": 233,
    "start_time": "2022-07-30T13:35:51.983Z"
   },
   {
    "duration": 14,
    "start_time": "2022-07-30T13:35:52.218Z"
   },
   {
    "duration": 5,
    "start_time": "2022-07-30T13:35:52.234Z"
   },
   {
    "duration": 15,
    "start_time": "2022-07-30T13:35:52.241Z"
   },
   {
    "duration": 11,
    "start_time": "2022-07-30T13:35:52.258Z"
   },
   {
    "duration": 15,
    "start_time": "2022-07-30T13:35:52.270Z"
   },
   {
    "duration": 8,
    "start_time": "2022-07-30T13:35:52.286Z"
   },
   {
    "duration": 5,
    "start_time": "2022-07-30T13:35:52.295Z"
   },
   {
    "duration": 5,
    "start_time": "2022-07-30T13:35:52.324Z"
   },
   {
    "duration": 1822,
    "start_time": "2022-07-30T13:35:52.330Z"
   },
   {
    "duration": 5,
    "start_time": "2022-07-30T13:35:54.153Z"
   },
   {
    "duration": 37,
    "start_time": "2022-07-30T13:35:54.159Z"
   },
   {
    "duration": 11,
    "start_time": "2022-07-30T13:35:54.198Z"
   },
   {
    "duration": 18,
    "start_time": "2022-07-30T13:35:54.210Z"
   },
   {
    "duration": 25,
    "start_time": "2022-07-30T13:35:54.230Z"
   },
   {
    "duration": 23,
    "start_time": "2022-07-30T13:35:54.257Z"
   },
   {
    "duration": 30,
    "start_time": "2022-07-30T13:35:54.282Z"
   },
   {
    "duration": 55,
    "start_time": "2022-07-30T13:36:17.747Z"
   },
   {
    "duration": 79,
    "start_time": "2022-07-30T13:36:22.398Z"
   },
   {
    "duration": 75,
    "start_time": "2022-07-30T13:40:33.112Z"
   },
   {
    "duration": 33,
    "start_time": "2022-07-30T13:40:56.927Z"
   },
   {
    "duration": 29,
    "start_time": "2022-07-30T13:40:59.627Z"
   },
   {
    "duration": 4,
    "start_time": "2022-07-30T13:41:03.053Z"
   },
   {
    "duration": 4,
    "start_time": "2022-07-30T13:41:04.645Z"
   },
   {
    "duration": 25,
    "start_time": "2022-07-30T13:41:06.493Z"
   },
   {
    "duration": 5,
    "start_time": "2022-07-30T13:46:13.450Z"
   },
   {
    "duration": 4,
    "start_time": "2022-07-30T13:46:40.742Z"
   },
   {
    "duration": 40,
    "start_time": "2022-07-30T15:15:35.523Z"
   },
   {
    "duration": 8,
    "start_time": "2022-07-30T15:15:39.080Z"
   },
   {
    "duration": 2904,
    "start_time": "2022-07-30T15:15:43.692Z"
   },
   {
    "duration": 10,
    "start_time": "2022-07-30T15:15:46.599Z"
   },
   {
    "duration": 594,
    "start_time": "2022-07-30T15:15:46.610Z"
   },
   {
    "duration": 7,
    "start_time": "2022-07-30T15:15:47.205Z"
   },
   {
    "duration": 6,
    "start_time": "2022-07-30T15:15:47.214Z"
   },
   {
    "duration": 5,
    "start_time": "2022-07-30T15:15:47.221Z"
   },
   {
    "duration": 191,
    "start_time": "2022-07-30T15:15:47.228Z"
   },
   {
    "duration": 10,
    "start_time": "2022-07-30T15:15:47.421Z"
   },
   {
    "duration": 7,
    "start_time": "2022-07-30T15:15:47.432Z"
   },
   {
    "duration": 12,
    "start_time": "2022-07-30T15:15:47.441Z"
   },
   {
    "duration": 27,
    "start_time": "2022-07-30T15:15:47.454Z"
   },
   {
    "duration": 18,
    "start_time": "2022-07-30T15:15:47.483Z"
   },
   {
    "duration": 3,
    "start_time": "2022-07-30T15:15:47.503Z"
   },
   {
    "duration": 5,
    "start_time": "2022-07-30T15:15:47.508Z"
   },
   {
    "duration": 9,
    "start_time": "2022-07-30T15:15:47.514Z"
   },
   {
    "duration": 1590,
    "start_time": "2022-07-30T15:15:47.524Z"
   },
   {
    "duration": 5,
    "start_time": "2022-07-30T15:15:49.116Z"
   },
   {
    "duration": 17,
    "start_time": "2022-07-30T15:15:49.122Z"
   },
   {
    "duration": 10,
    "start_time": "2022-07-30T15:15:49.141Z"
   },
   {
    "duration": 8,
    "start_time": "2022-07-30T15:15:49.152Z"
   },
   {
    "duration": 20,
    "start_time": "2022-07-30T15:15:49.161Z"
   },
   {
    "duration": 7,
    "start_time": "2022-07-30T15:15:49.183Z"
   },
   {
    "duration": 13,
    "start_time": "2022-07-30T15:15:49.192Z"
   },
   {
    "duration": 14,
    "start_time": "2022-07-30T15:15:49.206Z"
   },
   {
    "duration": 3,
    "start_time": "2022-07-30T15:16:46.694Z"
   },
   {
    "duration": 83,
    "start_time": "2022-07-30T15:17:34.561Z"
   },
   {
    "duration": 14,
    "start_time": "2022-07-30T15:17:56.945Z"
   },
   {
    "duration": 23,
    "start_time": "2022-07-30T15:17:59.941Z"
   },
   {
    "duration": 1820,
    "start_time": "2022-07-30T15:18:02.294Z"
   },
   {
    "duration": 31,
    "start_time": "2022-07-30T15:19:29.390Z"
   },
   {
    "duration": 1874,
    "start_time": "2022-07-30T15:20:19.040Z"
   },
   {
    "duration": 428,
    "start_time": "2022-07-30T15:20:31.399Z"
   },
   {
    "duration": 104,
    "start_time": "2022-07-30T15:20:31.830Z"
   },
   {
    "duration": 13,
    "start_time": "2022-07-30T15:20:31.937Z"
   },
   {
    "duration": 57,
    "start_time": "2022-07-30T15:20:31.951Z"
   },
   {
    "duration": 2214,
    "start_time": "2022-07-30T15:20:32.010Z"
   },
   {
    "duration": 9,
    "start_time": "2022-07-30T15:20:34.225Z"
   },
   {
    "duration": 602,
    "start_time": "2022-07-30T15:20:34.235Z"
   },
   {
    "duration": 7,
    "start_time": "2022-07-30T15:20:34.838Z"
   },
   {
    "duration": 6,
    "start_time": "2022-07-30T15:20:34.846Z"
   },
   {
    "duration": 22,
    "start_time": "2022-07-30T15:20:34.853Z"
   },
   {
    "duration": 184,
    "start_time": "2022-07-30T15:20:34.882Z"
   },
   {
    "duration": 18,
    "start_time": "2022-07-30T15:20:35.068Z"
   },
   {
    "duration": 22,
    "start_time": "2022-07-30T15:20:35.089Z"
   },
   {
    "duration": 8,
    "start_time": "2022-07-30T15:20:35.114Z"
   },
   {
    "duration": 7,
    "start_time": "2022-07-30T15:20:35.123Z"
   },
   {
    "duration": 8,
    "start_time": "2022-07-30T15:20:35.131Z"
   },
   {
    "duration": 4,
    "start_time": "2022-07-30T15:20:35.140Z"
   },
   {
    "duration": 5,
    "start_time": "2022-07-30T15:20:35.145Z"
   },
   {
    "duration": 5,
    "start_time": "2022-07-30T15:20:35.151Z"
   },
   {
    "duration": 1773,
    "start_time": "2022-07-30T15:20:35.157Z"
   },
   {
    "duration": 4,
    "start_time": "2022-07-30T15:20:36.932Z"
   },
   {
    "duration": 17,
    "start_time": "2022-07-30T15:20:36.937Z"
   },
   {
    "duration": 44,
    "start_time": "2022-07-30T15:20:36.956Z"
   },
   {
    "duration": 6,
    "start_time": "2022-07-30T15:20:37.002Z"
   },
   {
    "duration": 14,
    "start_time": "2022-07-30T15:20:37.009Z"
   },
   {
    "duration": 6,
    "start_time": "2022-07-30T15:20:37.025Z"
   },
   {
    "duration": 8,
    "start_time": "2022-07-30T15:20:37.033Z"
   },
   {
    "duration": 12,
    "start_time": "2022-07-30T15:20:37.043Z"
   },
   {
    "duration": 5,
    "start_time": "2022-07-30T15:25:51.733Z"
   },
   {
    "duration": 4,
    "start_time": "2022-07-30T15:25:58.349Z"
   },
   {
    "duration": 47,
    "start_time": "2022-07-30T15:26:47.933Z"
   },
   {
    "duration": 5,
    "start_time": "2022-07-30T15:27:10.898Z"
   },
   {
    "duration": 6,
    "start_time": "2022-07-30T15:27:15.602Z"
   },
   {
    "duration": 9,
    "start_time": "2022-07-30T15:29:57.332Z"
   },
   {
    "duration": 8,
    "start_time": "2022-07-30T15:30:52.658Z"
   },
   {
    "duration": 6,
    "start_time": "2022-07-30T15:30:55.607Z"
   },
   {
    "duration": 64,
    "start_time": "2022-07-30T15:32:13.161Z"
   },
   {
    "duration": 12,
    "start_time": "2022-07-30T15:32:21.200Z"
   },
   {
    "duration": 5,
    "start_time": "2022-07-30T15:32:23.511Z"
   },
   {
    "duration": 41,
    "start_time": "2022-07-30T15:32:28.079Z"
   },
   {
    "duration": 5,
    "start_time": "2022-07-30T15:32:47.056Z"
   },
   {
    "duration": 374,
    "start_time": "2022-07-30T15:33:00.599Z"
   },
   {
    "duration": 87,
    "start_time": "2022-07-30T15:33:00.975Z"
   },
   {
    "duration": 14,
    "start_time": "2022-07-30T15:33:01.064Z"
   },
   {
    "duration": 40,
    "start_time": "2022-07-30T15:33:01.080Z"
   },
   {
    "duration": 2014,
    "start_time": "2022-07-30T15:33:01.122Z"
   },
   {
    "duration": 9,
    "start_time": "2022-07-30T15:33:03.137Z"
   },
   {
    "duration": 527,
    "start_time": "2022-07-30T15:33:03.148Z"
   },
   {
    "duration": 7,
    "start_time": "2022-07-30T15:33:03.677Z"
   },
   {
    "duration": 14,
    "start_time": "2022-07-30T15:33:03.685Z"
   },
   {
    "duration": 6,
    "start_time": "2022-07-30T15:33:03.702Z"
   },
   {
    "duration": 166,
    "start_time": "2022-07-30T15:33:03.709Z"
   },
   {
    "duration": 11,
    "start_time": "2022-07-30T15:33:03.877Z"
   },
   {
    "duration": 6,
    "start_time": "2022-07-30T15:33:03.889Z"
   },
   {
    "duration": 8,
    "start_time": "2022-07-30T15:33:03.896Z"
   },
   {
    "duration": 9,
    "start_time": "2022-07-30T15:33:03.905Z"
   },
   {
    "duration": 9,
    "start_time": "2022-07-30T15:33:03.915Z"
   },
   {
    "duration": 5,
    "start_time": "2022-07-30T15:33:03.925Z"
   },
   {
    "duration": 7,
    "start_time": "2022-07-30T15:33:03.931Z"
   },
   {
    "duration": 6,
    "start_time": "2022-07-30T15:33:03.939Z"
   },
   {
    "duration": 1567,
    "start_time": "2022-07-30T15:33:03.973Z"
   },
   {
    "duration": 4,
    "start_time": "2022-07-30T15:33:05.541Z"
   },
   {
    "duration": 20,
    "start_time": "2022-07-30T15:33:05.546Z"
   },
   {
    "duration": 9,
    "start_time": "2022-07-30T15:33:05.572Z"
   },
   {
    "duration": 3,
    "start_time": "2022-07-30T15:33:05.583Z"
   },
   {
    "duration": 12,
    "start_time": "2022-07-30T15:33:05.587Z"
   },
   {
    "duration": 5,
    "start_time": "2022-07-30T15:33:05.601Z"
   },
   {
    "duration": 9,
    "start_time": "2022-07-30T15:33:05.607Z"
   },
   {
    "duration": 11,
    "start_time": "2022-07-30T15:33:05.618Z"
   },
   {
    "duration": 5,
    "start_time": "2022-07-30T15:33:05.630Z"
   },
   {
    "duration": 73,
    "start_time": "2022-07-30T15:33:05.637Z"
   },
   {
    "duration": 5,
    "start_time": "2022-07-30T15:33:16.413Z"
   },
   {
    "duration": 7,
    "start_time": "2022-07-30T15:34:19.755Z"
   },
   {
    "duration": 37,
    "start_time": "2022-07-30T15:34:22.394Z"
   },
   {
    "duration": 66,
    "start_time": "2022-07-30T15:34:42.195Z"
   },
   {
    "duration": 15,
    "start_time": "2022-07-30T15:34:56.011Z"
   },
   {
    "duration": 130,
    "start_time": "2022-07-30T15:38:39.458Z"
   },
   {
    "duration": 47,
    "start_time": "2022-07-30T15:39:07.354Z"
   },
   {
    "duration": 51,
    "start_time": "2022-07-30T15:39:29.464Z"
   },
   {
    "duration": 66,
    "start_time": "2022-07-30T15:39:33.291Z"
   },
   {
    "duration": 152,
    "start_time": "2022-07-30T15:39:40.508Z"
   },
   {
    "duration": 457,
    "start_time": "2022-07-30T15:39:50.873Z"
   },
   {
    "duration": 8,
    "start_time": "2022-07-30T15:41:26.834Z"
   },
   {
    "duration": 9,
    "start_time": "2022-07-30T15:41:44.370Z"
   },
   {
    "duration": 9,
    "start_time": "2022-07-30T15:45:18.901Z"
   },
   {
    "duration": 17,
    "start_time": "2022-07-30T15:45:23.807Z"
   },
   {
    "duration": 15,
    "start_time": "2022-07-30T15:46:22.057Z"
   },
   {
    "duration": 14,
    "start_time": "2022-07-30T15:46:26.137Z"
   },
   {
    "duration": 15,
    "start_time": "2022-07-30T15:49:03.648Z"
   },
   {
    "duration": 3,
    "start_time": "2022-07-30T15:49:22.847Z"
   },
   {
    "duration": 15,
    "start_time": "2022-07-30T15:49:25.194Z"
   },
   {
    "duration": 16,
    "start_time": "2022-07-30T15:49:45.761Z"
   },
   {
    "duration": 16,
    "start_time": "2022-07-30T15:50:51.242Z"
   },
   {
    "duration": 29,
    "start_time": "2022-07-30T15:51:00.275Z"
   },
   {
    "duration": 11,
    "start_time": "2022-07-30T15:51:22.257Z"
   },
   {
    "duration": 7,
    "start_time": "2022-07-30T15:51:30.904Z"
   },
   {
    "duration": 10,
    "start_time": "2022-07-30T15:52:04.736Z"
   },
   {
    "duration": 34,
    "start_time": "2022-07-30T15:52:27.600Z"
   },
   {
    "duration": 10,
    "start_time": "2022-07-30T15:52:33.192Z"
   },
   {
    "duration": 13,
    "start_time": "2022-07-30T15:52:39.752Z"
   },
   {
    "duration": 10,
    "start_time": "2022-07-30T15:52:43.049Z"
   },
   {
    "duration": 9,
    "start_time": "2022-07-30T15:52:48.934Z"
   },
   {
    "duration": 12,
    "start_time": "2022-07-30T15:53:08.880Z"
   },
   {
    "duration": 7,
    "start_time": "2022-07-30T15:53:43.856Z"
   },
   {
    "duration": 6,
    "start_time": "2022-07-30T15:53:53.886Z"
   },
   {
    "duration": 1565,
    "start_time": "2022-07-30T16:06:48.259Z"
   },
   {
    "duration": 15,
    "start_time": "2022-07-30T16:07:00.823Z"
   },
   {
    "duration": 8,
    "start_time": "2022-07-30T16:07:33.802Z"
   },
   {
    "duration": 377,
    "start_time": "2022-07-30T16:07:49.769Z"
   },
   {
    "duration": 88,
    "start_time": "2022-07-30T16:07:50.168Z"
   },
   {
    "duration": 14,
    "start_time": "2022-07-30T16:07:50.258Z"
   },
   {
    "duration": 31,
    "start_time": "2022-07-30T16:07:50.328Z"
   },
   {
    "duration": 2054,
    "start_time": "2022-07-30T16:07:50.589Z"
   },
   {
    "duration": 8,
    "start_time": "2022-07-30T16:07:52.645Z"
   },
   {
    "duration": 540,
    "start_time": "2022-07-30T16:07:52.655Z"
   },
   {
    "duration": 7,
    "start_time": "2022-07-30T16:07:53.197Z"
   },
   {
    "duration": 5,
    "start_time": "2022-07-30T16:07:53.205Z"
   },
   {
    "duration": 8,
    "start_time": "2022-07-30T16:07:53.211Z"
   },
   {
    "duration": 177,
    "start_time": "2022-07-30T16:07:53.220Z"
   },
   {
    "duration": 10,
    "start_time": "2022-07-30T16:07:53.398Z"
   },
   {
    "duration": 5,
    "start_time": "2022-07-30T16:07:53.410Z"
   },
   {
    "duration": 10,
    "start_time": "2022-07-30T16:07:53.417Z"
   },
   {
    "duration": 11,
    "start_time": "2022-07-30T16:07:53.428Z"
   },
   {
    "duration": 8,
    "start_time": "2022-07-30T16:07:53.440Z"
   },
   {
    "duration": 35,
    "start_time": "2022-07-30T16:07:53.449Z"
   },
   {
    "duration": 4,
    "start_time": "2022-07-30T16:07:53.485Z"
   },
   {
    "duration": 11,
    "start_time": "2022-07-30T16:07:53.491Z"
   },
   {
    "duration": 1613,
    "start_time": "2022-07-30T16:07:53.504Z"
   },
   {
    "duration": 4,
    "start_time": "2022-07-30T16:07:55.119Z"
   },
   {
    "duration": 16,
    "start_time": "2022-07-30T16:07:55.124Z"
   },
   {
    "duration": 9,
    "start_time": "2022-07-30T16:07:55.141Z"
   },
   {
    "duration": 31,
    "start_time": "2022-07-30T16:07:55.152Z"
   },
   {
    "duration": 4,
    "start_time": "2022-07-30T16:07:55.185Z"
   },
   {
    "duration": 10,
    "start_time": "2022-07-30T16:07:55.191Z"
   },
   {
    "duration": 5,
    "start_time": "2022-07-30T16:07:55.202Z"
   },
   {
    "duration": 7,
    "start_time": "2022-07-30T16:07:55.208Z"
   },
   {
    "duration": 1542,
    "start_time": "2022-07-30T16:07:55.216Z"
   },
   {
    "duration": 41,
    "start_time": "2022-07-30T16:07:56.760Z"
   },
   {
    "duration": 12,
    "start_time": "2022-07-30T16:07:56.803Z"
   },
   {
    "duration": 8,
    "start_time": "2022-07-30T16:07:56.817Z"
   },
   {
    "duration": 10,
    "start_time": "2022-07-30T16:07:56.826Z"
   },
   {
    "duration": 17,
    "start_time": "2022-07-30T16:07:56.837Z"
   },
   {
    "duration": 489,
    "start_time": "2022-07-30T16:07:56.855Z"
   },
   {
    "duration": 8,
    "start_time": "2022-07-30T16:08:51.038Z"
   },
   {
    "duration": 336,
    "start_time": "2022-07-30T16:08:57.612Z"
   },
   {
    "duration": 91,
    "start_time": "2022-07-30T16:08:57.949Z"
   },
   {
    "duration": 14,
    "start_time": "2022-07-30T16:08:58.043Z"
   },
   {
    "duration": 31,
    "start_time": "2022-07-30T16:08:58.131Z"
   },
   {
    "duration": 1973,
    "start_time": "2022-07-30T16:08:58.312Z"
   },
   {
    "duration": 9,
    "start_time": "2022-07-30T16:09:00.287Z"
   },
   {
    "duration": 593,
    "start_time": "2022-07-30T16:09:00.297Z"
   },
   {
    "duration": 8,
    "start_time": "2022-07-30T16:09:00.893Z"
   },
   {
    "duration": 18,
    "start_time": "2022-07-30T16:09:00.903Z"
   },
   {
    "duration": 19,
    "start_time": "2022-07-30T16:09:00.923Z"
   },
   {
    "duration": 182,
    "start_time": "2022-07-30T16:09:00.944Z"
   },
   {
    "duration": 13,
    "start_time": "2022-07-30T16:09:01.127Z"
   },
   {
    "duration": 19,
    "start_time": "2022-07-30T16:09:01.141Z"
   },
   {
    "duration": 25,
    "start_time": "2022-07-30T16:09:01.163Z"
   },
   {
    "duration": 14,
    "start_time": "2022-07-30T16:09:01.190Z"
   },
   {
    "duration": 25,
    "start_time": "2022-07-30T16:09:01.205Z"
   },
   {
    "duration": 13,
    "start_time": "2022-07-30T16:09:01.232Z"
   },
   {
    "duration": 14,
    "start_time": "2022-07-30T16:09:01.246Z"
   },
   {
    "duration": 26,
    "start_time": "2022-07-30T16:09:01.262Z"
   },
   {
    "duration": 1664,
    "start_time": "2022-07-30T16:09:01.289Z"
   },
   {
    "duration": 5,
    "start_time": "2022-07-30T16:09:02.955Z"
   },
   {
    "duration": 30,
    "start_time": "2022-07-30T16:09:02.962Z"
   },
   {
    "duration": 10,
    "start_time": "2022-07-30T16:09:02.993Z"
   },
   {
    "duration": 11,
    "start_time": "2022-07-30T16:09:03.004Z"
   },
   {
    "duration": 6,
    "start_time": "2022-07-30T16:09:03.017Z"
   },
   {
    "duration": 11,
    "start_time": "2022-07-30T16:09:03.024Z"
   },
   {
    "duration": 5,
    "start_time": "2022-07-30T16:09:03.037Z"
   },
   {
    "duration": 10,
    "start_time": "2022-07-30T16:09:03.043Z"
   },
   {
    "duration": 1566,
    "start_time": "2022-07-30T16:09:03.054Z"
   },
   {
    "duration": 36,
    "start_time": "2022-07-30T16:09:04.622Z"
   },
   {
    "duration": 29,
    "start_time": "2022-07-30T16:09:04.659Z"
   },
   {
    "duration": 6,
    "start_time": "2022-07-30T16:09:04.691Z"
   },
   {
    "duration": 18,
    "start_time": "2022-07-30T16:09:04.699Z"
   },
   {
    "duration": 15,
    "start_time": "2022-07-30T16:09:04.719Z"
   },
   {
    "duration": 498,
    "start_time": "2022-07-30T16:09:04.736Z"
   },
   {
    "duration": 11,
    "start_time": "2022-07-30T16:09:47.932Z"
   },
   {
    "duration": 10,
    "start_time": "2022-07-30T16:09:59.992Z"
   },
   {
    "duration": 6,
    "start_time": "2022-07-30T16:10:19.093Z"
   },
   {
    "duration": 7,
    "start_time": "2022-07-30T16:10:22.359Z"
   },
   {
    "duration": 1569,
    "start_time": "2022-07-30T16:10:26.439Z"
   },
   {
    "duration": 6,
    "start_time": "2022-07-30T16:10:35.991Z"
   },
   {
    "duration": 5,
    "start_time": "2022-07-30T16:10:42.956Z"
   },
   {
    "duration": 1498,
    "start_time": "2022-07-30T16:11:55.232Z"
   },
   {
    "duration": 5,
    "start_time": "2022-07-30T16:13:04.333Z"
   },
   {
    "duration": 4,
    "start_time": "2022-07-30T16:13:09.138Z"
   },
   {
    "duration": 4,
    "start_time": "2022-07-30T16:13:14.152Z"
   },
   {
    "duration": 2,
    "start_time": "2022-07-30T16:18:04.467Z"
   },
   {
    "duration": 9,
    "start_time": "2022-07-30T16:19:16.303Z"
   },
   {
    "duration": 9,
    "start_time": "2022-07-30T16:20:12.717Z"
   },
   {
    "duration": 8,
    "start_time": "2022-07-30T16:20:39.429Z"
   },
   {
    "duration": 8,
    "start_time": "2022-07-30T16:20:51.765Z"
   },
   {
    "duration": 8,
    "start_time": "2022-07-30T16:20:58.689Z"
   },
   {
    "duration": 1668,
    "start_time": "2022-07-30T16:23:14.981Z"
   },
   {
    "duration": 1510,
    "start_time": "2022-07-30T16:24:18.440Z"
   },
   {
    "duration": 1572,
    "start_time": "2022-07-30T16:24:20.122Z"
   },
   {
    "duration": 4,
    "start_time": "2022-07-30T16:25:24.702Z"
   },
   {
    "duration": 4,
    "start_time": "2022-07-30T16:25:30.182Z"
   },
   {
    "duration": 5,
    "start_time": "2022-07-30T16:25:31.982Z"
   },
   {
    "duration": 173,
    "start_time": "2022-07-30T16:28:20.324Z"
   },
   {
    "duration": 14,
    "start_time": "2022-07-30T16:30:27.418Z"
   },
   {
    "duration": 5,
    "start_time": "2022-07-30T16:30:59.525Z"
   },
   {
    "duration": 10,
    "start_time": "2022-07-30T16:31:01.703Z"
   },
   {
    "duration": 14,
    "start_time": "2022-07-30T16:31:04.518Z"
   },
   {
    "duration": 5,
    "start_time": "2022-07-30T16:31:12.303Z"
   },
   {
    "duration": 365,
    "start_time": "2022-07-30T16:34:00.922Z"
   },
   {
    "duration": 94,
    "start_time": "2022-07-30T16:34:01.289Z"
   },
   {
    "duration": 14,
    "start_time": "2022-07-30T16:34:01.385Z"
   },
   {
    "duration": 61,
    "start_time": "2022-07-30T16:34:01.401Z"
   },
   {
    "duration": 2044,
    "start_time": "2022-07-30T16:34:01.464Z"
   },
   {
    "duration": 9,
    "start_time": "2022-07-30T16:34:03.509Z"
   },
   {
    "duration": 541,
    "start_time": "2022-07-30T16:34:03.519Z"
   },
   {
    "duration": 16,
    "start_time": "2022-07-30T16:34:04.062Z"
   },
   {
    "duration": 22,
    "start_time": "2022-07-30T16:34:04.085Z"
   },
   {
    "duration": 21,
    "start_time": "2022-07-30T16:34:04.109Z"
   },
   {
    "duration": 194,
    "start_time": "2022-07-30T16:34:04.131Z"
   },
   {
    "duration": 11,
    "start_time": "2022-07-30T16:34:04.326Z"
   },
   {
    "duration": 12,
    "start_time": "2022-07-30T16:34:04.339Z"
   },
   {
    "duration": 42,
    "start_time": "2022-07-30T16:34:04.352Z"
   },
   {
    "duration": 30,
    "start_time": "2022-07-30T16:34:04.396Z"
   },
   {
    "duration": 19,
    "start_time": "2022-07-30T16:34:04.428Z"
   },
   {
    "duration": 39,
    "start_time": "2022-07-30T16:34:04.449Z"
   },
   {
    "duration": 36,
    "start_time": "2022-07-30T16:34:04.490Z"
   },
   {
    "duration": 10,
    "start_time": "2022-07-30T16:34:04.527Z"
   },
   {
    "duration": 1626,
    "start_time": "2022-07-30T16:34:04.538Z"
   },
   {
    "duration": 19,
    "start_time": "2022-07-30T16:34:06.166Z"
   },
   {
    "duration": 19,
    "start_time": "2022-07-30T16:34:06.187Z"
   },
   {
    "duration": 9,
    "start_time": "2022-07-30T16:34:06.208Z"
   },
   {
    "duration": 9,
    "start_time": "2022-07-30T16:34:06.219Z"
   },
   {
    "duration": 13,
    "start_time": "2022-07-30T16:34:06.229Z"
   },
   {
    "duration": 12,
    "start_time": "2022-07-30T16:34:06.244Z"
   },
   {
    "duration": 30,
    "start_time": "2022-07-30T16:34:06.257Z"
   },
   {
    "duration": 9,
    "start_time": "2022-07-30T16:34:06.290Z"
   },
   {
    "duration": 1592,
    "start_time": "2022-07-30T16:34:06.300Z"
   },
   {
    "duration": 1625,
    "start_time": "2022-07-30T16:34:07.893Z"
   },
   {
    "duration": 5,
    "start_time": "2022-07-30T16:34:09.520Z"
   },
   {
    "duration": 11,
    "start_time": "2022-07-30T16:34:09.526Z"
   },
   {
    "duration": 10,
    "start_time": "2022-07-30T16:34:09.539Z"
   },
   {
    "duration": 27,
    "start_time": "2022-07-30T16:34:09.551Z"
   },
   {
    "duration": 9,
    "start_time": "2022-07-30T16:34:09.579Z"
   },
   {
    "duration": 1559,
    "start_time": "2022-07-30T16:34:09.590Z"
   },
   {
    "duration": 1659,
    "start_time": "2022-07-30T16:34:11.151Z"
   },
   {
    "duration": 1560,
    "start_time": "2022-07-30T16:34:12.811Z"
   },
   {
    "duration": 4,
    "start_time": "2022-07-30T16:34:14.373Z"
   },
   {
    "duration": 11,
    "start_time": "2022-07-30T16:34:14.378Z"
   },
   {
    "duration": 9,
    "start_time": "2022-07-30T16:34:14.390Z"
   },
   {
    "duration": 14,
    "start_time": "2022-07-30T16:34:14.400Z"
   },
   {
    "duration": 4,
    "start_time": "2022-07-30T16:34:14.416Z"
   },
   {
    "duration": 9,
    "start_time": "2022-07-30T16:34:14.421Z"
   },
   {
    "duration": 15,
    "start_time": "2022-07-30T16:34:14.431Z"
   },
   {
    "duration": 4,
    "start_time": "2022-07-30T16:34:14.447Z"
   },
   {
    "duration": 544,
    "start_time": "2022-07-30T16:34:14.453Z"
   },
   {
    "duration": 363,
    "start_time": "2022-07-30T16:40:12.077Z"
   },
   {
    "duration": 378,
    "start_time": "2022-07-30T16:40:54.179Z"
   },
   {
    "duration": 354,
    "start_time": "2022-07-30T16:41:55.003Z"
   },
   {
    "duration": 469,
    "start_time": "2022-07-30T16:42:09.675Z"
   },
   {
    "duration": 346,
    "start_time": "2022-07-30T16:42:16.523Z"
   },
   {
    "duration": 352,
    "start_time": "2022-07-30T16:42:48.113Z"
   },
   {
    "duration": 378,
    "start_time": "2022-07-30T16:42:52.460Z"
   },
   {
    "duration": 540,
    "start_time": "2022-07-30T16:43:01.588Z"
   },
   {
    "duration": 374,
    "start_time": "2022-07-30T16:43:05.521Z"
   },
   {
    "duration": 371,
    "start_time": "2022-07-30T16:43:10.033Z"
   },
   {
    "duration": 548,
    "start_time": "2022-07-30T16:43:50.438Z"
   },
   {
    "duration": 362,
    "start_time": "2022-07-30T16:45:27.402Z"
   },
   {
    "duration": 393,
    "start_time": "2022-07-30T16:45:36.002Z"
   },
   {
    "duration": 26,
    "start_time": "2022-07-30T16:46:13.022Z"
   },
   {
    "duration": 371,
    "start_time": "2022-07-30T16:46:41.916Z"
   },
   {
    "duration": 368,
    "start_time": "2022-07-30T16:46:49.467Z"
   },
   {
    "duration": 93,
    "start_time": "2022-07-30T16:50:11.513Z"
   },
   {
    "duration": 5,
    "start_time": "2022-07-30T16:51:12.655Z"
   },
   {
    "duration": 5,
    "start_time": "2022-07-30T17:09:18.727Z"
   },
   {
    "duration": 15,
    "start_time": "2022-07-30T17:10:24.544Z"
   },
   {
    "duration": 14,
    "start_time": "2022-07-30T17:10:44.752Z"
   },
   {
    "duration": 33,
    "start_time": "2022-07-30T17:10:49.332Z"
   },
   {
    "duration": 6,
    "start_time": "2022-07-30T17:11:18.787Z"
   },
   {
    "duration": 14,
    "start_time": "2022-07-30T17:13:41.048Z"
   },
   {
    "duration": 5,
    "start_time": "2022-07-30T17:14:28.525Z"
   },
   {
    "duration": 14,
    "start_time": "2022-07-30T17:14:37.180Z"
   },
   {
    "duration": 3,
    "start_time": "2022-07-30T17:22:52.996Z"
   },
   {
    "duration": 5,
    "start_time": "2022-07-30T17:23:17.440Z"
   },
   {
    "duration": 377,
    "start_time": "2022-07-30T17:23:50.886Z"
   },
   {
    "duration": 86,
    "start_time": "2022-07-30T17:23:51.265Z"
   },
   {
    "duration": 14,
    "start_time": "2022-07-30T17:23:51.352Z"
   },
   {
    "duration": 33,
    "start_time": "2022-07-30T17:23:51.368Z"
   },
   {
    "duration": 1933,
    "start_time": "2022-07-30T17:23:51.403Z"
   },
   {
    "duration": 8,
    "start_time": "2022-07-30T17:23:53.337Z"
   },
   {
    "duration": 538,
    "start_time": "2022-07-30T17:23:53.347Z"
   },
   {
    "duration": 5,
    "start_time": "2022-07-30T17:23:53.887Z"
   },
   {
    "duration": 19,
    "start_time": "2022-07-30T17:23:53.893Z"
   },
   {
    "duration": 8,
    "start_time": "2022-07-30T17:23:53.915Z"
   },
   {
    "duration": 7,
    "start_time": "2022-07-30T17:23:53.924Z"
   },
   {
    "duration": 7,
    "start_time": "2022-07-30T17:23:53.932Z"
   },
   {
    "duration": 167,
    "start_time": "2022-07-30T17:23:53.940Z"
   },
   {
    "duration": 12,
    "start_time": "2022-07-30T17:23:54.108Z"
   },
   {
    "duration": 9,
    "start_time": "2022-07-30T17:23:54.121Z"
   },
   {
    "duration": 19,
    "start_time": "2022-07-30T17:23:54.131Z"
   },
   {
    "duration": 9,
    "start_time": "2022-07-30T17:23:54.152Z"
   },
   {
    "duration": 17,
    "start_time": "2022-07-30T17:23:54.162Z"
   },
   {
    "duration": 8,
    "start_time": "2022-07-30T17:23:54.181Z"
   },
   {
    "duration": 7,
    "start_time": "2022-07-30T17:23:54.191Z"
   },
   {
    "duration": 17,
    "start_time": "2022-07-30T17:23:54.199Z"
   },
   {
    "duration": 1538,
    "start_time": "2022-07-30T17:23:54.217Z"
   },
   {
    "duration": 4,
    "start_time": "2022-07-30T17:23:55.757Z"
   },
   {
    "duration": 14,
    "start_time": "2022-07-30T17:23:55.773Z"
   },
   {
    "duration": 11,
    "start_time": "2022-07-30T17:23:55.788Z"
   },
   {
    "duration": 13,
    "start_time": "2022-07-30T17:23:55.801Z"
   },
   {
    "duration": 9,
    "start_time": "2022-07-30T17:23:55.816Z"
   },
   {
    "duration": 10,
    "start_time": "2022-07-30T17:23:55.828Z"
   },
   {
    "duration": 18,
    "start_time": "2022-07-30T17:23:55.839Z"
   },
   {
    "duration": 19,
    "start_time": "2022-07-30T17:23:55.859Z"
   },
   {
    "duration": 1498,
    "start_time": "2022-07-30T17:23:55.880Z"
   },
   {
    "duration": 1499,
    "start_time": "2022-07-30T17:23:57.380Z"
   },
   {
    "duration": 4,
    "start_time": "2022-07-30T17:23:58.881Z"
   },
   {
    "duration": 18,
    "start_time": "2022-07-30T17:23:58.887Z"
   },
   {
    "duration": 25,
    "start_time": "2022-07-30T17:23:58.907Z"
   },
   {
    "duration": 30,
    "start_time": "2022-07-30T17:23:58.933Z"
   },
   {
    "duration": 24,
    "start_time": "2022-07-30T17:23:58.965Z"
   },
   {
    "duration": 1515,
    "start_time": "2022-07-30T17:23:58.990Z"
   },
   {
    "duration": 1551,
    "start_time": "2022-07-30T17:24:00.507Z"
   },
   {
    "duration": 1491,
    "start_time": "2022-07-30T17:24:02.060Z"
   },
   {
    "duration": 4,
    "start_time": "2022-07-30T17:24:03.553Z"
   },
   {
    "duration": 21,
    "start_time": "2022-07-30T17:24:03.558Z"
   },
   {
    "duration": 16,
    "start_time": "2022-07-30T17:24:03.581Z"
   },
   {
    "duration": 32,
    "start_time": "2022-07-30T17:24:03.598Z"
   },
   {
    "duration": 11,
    "start_time": "2022-07-30T17:24:03.632Z"
   },
   {
    "duration": 28,
    "start_time": "2022-07-30T17:24:03.645Z"
   },
   {
    "duration": 23,
    "start_time": "2022-07-30T17:24:03.674Z"
   },
   {
    "duration": 11,
    "start_time": "2022-07-30T17:24:03.699Z"
   },
   {
    "duration": 476,
    "start_time": "2022-07-30T17:24:03.711Z"
   },
   {
    "duration": 55,
    "start_time": "2022-07-30T17:34:09.319Z"
   },
   {
    "duration": 11,
    "start_time": "2022-07-30T17:34:14.673Z"
   },
   {
    "duration": 6,
    "start_time": "2022-07-30T17:34:23.049Z"
   },
   {
    "duration": 9,
    "start_time": "2022-07-30T17:34:28.175Z"
   },
   {
    "duration": 9,
    "start_time": "2022-07-30T17:34:30.978Z"
   },
   {
    "duration": 5,
    "start_time": "2022-07-30T17:38:09.074Z"
   },
   {
    "duration": 351,
    "start_time": "2022-07-30T17:38:17.000Z"
   },
   {
    "duration": 88,
    "start_time": "2022-07-30T17:38:17.353Z"
   },
   {
    "duration": 13,
    "start_time": "2022-07-30T17:38:17.443Z"
   },
   {
    "duration": 35,
    "start_time": "2022-07-30T17:38:17.458Z"
   },
   {
    "duration": 1889,
    "start_time": "2022-07-30T17:38:17.495Z"
   },
   {
    "duration": 8,
    "start_time": "2022-07-30T17:38:19.385Z"
   },
   {
    "duration": 514,
    "start_time": "2022-07-30T17:38:19.395Z"
   },
   {
    "duration": 5,
    "start_time": "2022-07-30T17:38:19.911Z"
   },
   {
    "duration": 5,
    "start_time": "2022-07-30T17:38:19.917Z"
   },
   {
    "duration": 8,
    "start_time": "2022-07-30T17:38:19.923Z"
   },
   {
    "duration": 8,
    "start_time": "2022-07-30T17:38:19.932Z"
   },
   {
    "duration": 5,
    "start_time": "2022-07-30T17:38:19.941Z"
   },
   {
    "duration": 28,
    "start_time": "2022-07-30T17:38:19.947Z"
   },
   {
    "duration": 5,
    "start_time": "2022-07-30T17:38:19.978Z"
   },
   {
    "duration": 12,
    "start_time": "2022-07-30T17:38:19.984Z"
   },
   {
    "duration": 169,
    "start_time": "2022-07-30T17:38:19.998Z"
   },
   {
    "duration": 10,
    "start_time": "2022-07-30T17:38:20.172Z"
   },
   {
    "duration": 5,
    "start_time": "2022-07-30T17:38:20.184Z"
   },
   {
    "duration": 13,
    "start_time": "2022-07-30T17:38:20.190Z"
   },
   {
    "duration": 10,
    "start_time": "2022-07-30T17:38:20.205Z"
   },
   {
    "duration": 8,
    "start_time": "2022-07-30T17:38:20.217Z"
   },
   {
    "duration": 4,
    "start_time": "2022-07-30T17:38:20.226Z"
   },
   {
    "duration": 6,
    "start_time": "2022-07-30T17:38:20.231Z"
   },
   {
    "duration": 8,
    "start_time": "2022-07-30T17:38:20.239Z"
   },
   {
    "duration": 1607,
    "start_time": "2022-07-30T17:38:20.248Z"
   },
   {
    "duration": 4,
    "start_time": "2022-07-30T17:38:21.857Z"
   },
   {
    "duration": 25,
    "start_time": "2022-07-30T17:38:21.862Z"
   },
   {
    "duration": 11,
    "start_time": "2022-07-30T17:38:21.888Z"
   },
   {
    "duration": 11,
    "start_time": "2022-07-30T17:38:21.901Z"
   },
   {
    "duration": 12,
    "start_time": "2022-07-30T17:38:21.914Z"
   },
   {
    "duration": 9,
    "start_time": "2022-07-30T17:38:21.927Z"
   },
   {
    "duration": 7,
    "start_time": "2022-07-30T17:38:21.938Z"
   },
   {
    "duration": 9,
    "start_time": "2022-07-30T17:38:21.972Z"
   },
   {
    "duration": 1552,
    "start_time": "2022-07-30T17:38:21.983Z"
   },
   {
    "duration": 1518,
    "start_time": "2022-07-30T17:38:23.537Z"
   },
   {
    "duration": 4,
    "start_time": "2022-07-30T17:38:25.057Z"
   },
   {
    "duration": 12,
    "start_time": "2022-07-30T17:38:25.063Z"
   },
   {
    "duration": 12,
    "start_time": "2022-07-30T17:38:25.076Z"
   },
   {
    "duration": 9,
    "start_time": "2022-07-30T17:38:25.089Z"
   },
   {
    "duration": 9,
    "start_time": "2022-07-30T17:38:25.100Z"
   },
   {
    "duration": 1552,
    "start_time": "2022-07-30T17:38:25.113Z"
   },
   {
    "duration": 1546,
    "start_time": "2022-07-30T17:38:26.667Z"
   },
   {
    "duration": 1515,
    "start_time": "2022-07-30T17:38:28.215Z"
   },
   {
    "duration": 4,
    "start_time": "2022-07-30T17:38:29.731Z"
   },
   {
    "duration": 7,
    "start_time": "2022-07-30T17:38:29.737Z"
   },
   {
    "duration": 7,
    "start_time": "2022-07-30T17:38:29.745Z"
   },
   {
    "duration": 24,
    "start_time": "2022-07-30T17:38:29.753Z"
   },
   {
    "duration": 4,
    "start_time": "2022-07-30T17:38:29.779Z"
   },
   {
    "duration": 11,
    "start_time": "2022-07-30T17:38:29.784Z"
   },
   {
    "duration": 17,
    "start_time": "2022-07-30T17:38:29.796Z"
   },
   {
    "duration": 4,
    "start_time": "2022-07-30T17:38:29.815Z"
   },
   {
    "duration": 463,
    "start_time": "2022-07-30T17:38:29.821Z"
   },
   {
    "duration": 70,
    "start_time": "2022-07-30T17:40:04.352Z"
   },
   {
    "duration": 14,
    "start_time": "2022-07-30T17:41:53.491Z"
   },
   {
    "duration": 10,
    "start_time": "2022-07-30T17:43:31.896Z"
   },
   {
    "duration": 13,
    "start_time": "2022-07-30T17:43:39.123Z"
   },
   {
    "duration": 455,
    "start_time": "2022-07-30T17:47:14.787Z"
   },
   {
    "duration": 464,
    "start_time": "2022-07-30T17:47:20.873Z"
   },
   {
    "duration": 4,
    "start_time": "2022-07-30T17:47:31.739Z"
   },
   {
    "duration": 472,
    "start_time": "2022-07-30T17:47:35.927Z"
   },
   {
    "duration": 113,
    "start_time": "2022-07-30T17:47:51.698Z"
   },
   {
    "duration": 178,
    "start_time": "2022-07-30T17:47:55.335Z"
   },
   {
    "duration": 18,
    "start_time": "2022-07-30T17:51:07.287Z"
   },
   {
    "duration": 14,
    "start_time": "2022-07-30T17:51:25.539Z"
   },
   {
    "duration": 192,
    "start_time": "2022-07-30T17:51:49.566Z"
   },
   {
    "duration": 199,
    "start_time": "2022-07-30T17:52:13.330Z"
   },
   {
    "duration": 198,
    "start_time": "2022-07-30T17:52:27.723Z"
   },
   {
    "duration": 1969,
    "start_time": "2022-07-30T17:57:10.561Z"
   },
   {
    "duration": 1335,
    "start_time": "2022-07-30T17:58:43.138Z"
   },
   {
    "duration": 1736,
    "start_time": "2022-07-30T17:58:53.999Z"
   },
   {
    "duration": 49,
    "start_time": "2022-07-30T18:00:18.827Z"
   },
   {
    "duration": 28,
    "start_time": "2022-07-30T18:00:33.370Z"
   },
   {
    "duration": 29,
    "start_time": "2022-07-30T18:01:11.510Z"
   },
   {
    "duration": 23,
    "start_time": "2022-07-30T18:01:17.100Z"
   },
   {
    "duration": 14,
    "start_time": "2022-07-30T18:01:20.648Z"
   },
   {
    "duration": 8,
    "start_time": "2022-07-30T18:01:31.737Z"
   },
   {
    "duration": 14,
    "start_time": "2022-07-30T18:01:38.125Z"
   },
   {
    "duration": 39,
    "start_time": "2022-07-30T18:01:59.569Z"
   },
   {
    "duration": 15,
    "start_time": "2022-07-30T18:02:15.840Z"
   },
   {
    "duration": 13,
    "start_time": "2022-07-30T18:02:55.539Z"
   },
   {
    "duration": 22,
    "start_time": "2022-07-30T18:02:58.367Z"
   },
   {
    "duration": 14,
    "start_time": "2022-07-30T18:03:02.227Z"
   },
   {
    "duration": 463,
    "start_time": "2022-08-02T07:34:24.442Z"
   },
   {
    "duration": 160,
    "start_time": "2022-08-02T07:34:24.907Z"
   },
   {
    "duration": 18,
    "start_time": "2022-08-02T07:34:25.069Z"
   },
   {
    "duration": 53,
    "start_time": "2022-08-02T07:34:25.089Z"
   },
   {
    "duration": 2796,
    "start_time": "2022-08-02T07:34:25.144Z"
   },
   {
    "duration": 11,
    "start_time": "2022-08-02T07:34:27.942Z"
   },
   {
    "duration": 787,
    "start_time": "2022-08-02T07:34:27.955Z"
   },
   {
    "duration": 6,
    "start_time": "2022-08-02T07:34:28.744Z"
   },
   {
    "duration": 30,
    "start_time": "2022-08-02T07:34:28.752Z"
   },
   {
    "duration": 21,
    "start_time": "2022-08-02T07:34:28.786Z"
   },
   {
    "duration": 14,
    "start_time": "2022-08-02T07:34:28.809Z"
   },
   {
    "duration": 10,
    "start_time": "2022-08-02T07:34:28.825Z"
   },
   {
    "duration": 15,
    "start_time": "2022-08-02T07:34:28.837Z"
   },
   {
    "duration": 8,
    "start_time": "2022-08-02T07:34:28.854Z"
   },
   {
    "duration": 12,
    "start_time": "2022-08-02T07:34:28.864Z"
   },
   {
    "duration": 239,
    "start_time": "2022-08-02T07:34:28.878Z"
   },
   {
    "duration": 13,
    "start_time": "2022-08-02T07:34:29.120Z"
   },
   {
    "duration": 7,
    "start_time": "2022-08-02T07:34:29.136Z"
   },
   {
    "duration": 17,
    "start_time": "2022-08-02T07:34:29.145Z"
   },
   {
    "duration": 11,
    "start_time": "2022-08-02T07:34:29.164Z"
   },
   {
    "duration": 33,
    "start_time": "2022-08-02T07:34:29.177Z"
   },
   {
    "duration": 6,
    "start_time": "2022-08-02T07:34:29.212Z"
   },
   {
    "duration": 7,
    "start_time": "2022-08-02T07:34:29.220Z"
   },
   {
    "duration": 6,
    "start_time": "2022-08-02T07:34:29.229Z"
   },
   {
    "duration": 2065,
    "start_time": "2022-08-02T07:34:29.237Z"
   },
   {
    "duration": 5,
    "start_time": "2022-08-02T07:34:31.304Z"
   },
   {
    "duration": 29,
    "start_time": "2022-08-02T07:34:31.311Z"
   },
   {
    "duration": 16,
    "start_time": "2022-08-02T07:34:31.345Z"
   },
   {
    "duration": 17,
    "start_time": "2022-08-02T07:34:31.363Z"
   },
   {
    "duration": 14,
    "start_time": "2022-08-02T07:34:31.405Z"
   },
   {
    "duration": 19,
    "start_time": "2022-08-02T07:34:31.421Z"
   },
   {
    "duration": 10,
    "start_time": "2022-08-02T07:34:31.442Z"
   },
   {
    "duration": 14,
    "start_time": "2022-08-02T07:34:31.454Z"
   },
   {
    "duration": 2108,
    "start_time": "2022-08-02T07:34:31.471Z"
   },
   {
    "duration": 2023,
    "start_time": "2022-08-02T07:34:33.581Z"
   },
   {
    "duration": 4,
    "start_time": "2022-08-02T07:34:35.606Z"
   },
   {
    "duration": 11,
    "start_time": "2022-08-02T07:34:35.612Z"
   },
   {
    "duration": 10,
    "start_time": "2022-08-02T07:34:35.625Z"
   },
   {
    "duration": 8,
    "start_time": "2022-08-02T07:34:35.638Z"
   },
   {
    "duration": 12,
    "start_time": "2022-08-02T07:34:35.647Z"
   },
   {
    "duration": 2068,
    "start_time": "2022-08-02T07:34:35.661Z"
   },
   {
    "duration": 2066,
    "start_time": "2022-08-02T07:34:37.731Z"
   },
   {
    "duration": 1967,
    "start_time": "2022-08-02T07:34:39.799Z"
   },
   {
    "duration": 7,
    "start_time": "2022-08-02T07:34:41.768Z"
   },
   {
    "duration": 7,
    "start_time": "2022-08-02T07:34:41.777Z"
   },
   {
    "duration": 21,
    "start_time": "2022-08-02T07:34:41.786Z"
   },
   {
    "duration": 24,
    "start_time": "2022-08-02T07:34:41.810Z"
   },
   {
    "duration": 8,
    "start_time": "2022-08-02T07:34:41.837Z"
   },
   {
    "duration": 15,
    "start_time": "2022-08-02T07:34:41.848Z"
   },
   {
    "duration": 47,
    "start_time": "2022-08-02T07:34:41.865Z"
   },
   {
    "duration": 5,
    "start_time": "2022-08-02T07:34:41.914Z"
   },
   {
    "duration": 16,
    "start_time": "2022-08-02T07:34:41.921Z"
   },
   {
    "duration": 23,
    "start_time": "2022-08-02T07:34:41.940Z"
   },
   {
    "duration": 611,
    "start_time": "2022-08-02T07:34:41.965Z"
   },
   {
    "duration": 233,
    "start_time": "2022-08-02T07:34:42.577Z"
   },
   {
    "duration": 230,
    "start_time": "2022-08-02T07:34:42.812Z"
   },
   {
    "duration": 2527,
    "start_time": "2022-08-02T07:34:43.044Z"
   },
   {
    "duration": 34,
    "start_time": "2022-08-02T07:34:45.573Z"
   },
   {
    "duration": 29,
    "start_time": "2022-08-02T07:34:45.609Z"
   },
   {
    "duration": 25,
    "start_time": "2022-08-02T07:34:45.640Z"
   },
   {
    "duration": 78,
    "start_time": "2022-08-02T07:36:02.596Z"
   },
   {
    "duration": 8,
    "start_time": "2022-08-02T07:36:06.426Z"
   },
   {
    "duration": 8,
    "start_time": "2022-08-02T07:36:20.850Z"
   },
   {
    "duration": 56,
    "start_time": "2022-08-02T07:37:58.176Z"
   },
   {
    "duration": 35,
    "start_time": "2022-08-02T07:38:06.597Z"
   },
   {
    "duration": 49,
    "start_time": "2022-08-02T07:38:17.023Z"
   },
   {
    "duration": 27,
    "start_time": "2022-08-02T07:38:22.442Z"
   },
   {
    "duration": 47,
    "start_time": "2022-08-02T07:38:50.534Z"
   },
   {
    "duration": 37,
    "start_time": "2022-08-02T07:38:55.838Z"
   },
   {
    "duration": 48,
    "start_time": "2022-08-02T07:39:58.370Z"
   },
   {
    "duration": 225,
    "start_time": "2022-08-02T07:41:04.123Z"
   },
   {
    "duration": 210,
    "start_time": "2022-08-02T07:41:17.837Z"
   },
   {
    "duration": 828,
    "start_time": "2022-08-02T07:41:34.173Z"
   },
   {
    "duration": 833,
    "start_time": "2022-08-02T07:41:59.248Z"
   },
   {
    "duration": 698,
    "start_time": "2022-08-02T07:42:10.537Z"
   },
   {
    "duration": 257,
    "start_time": "2022-08-02T07:42:33.630Z"
   },
   {
    "duration": 517,
    "start_time": "2022-08-02T07:42:38.827Z"
   },
   {
    "duration": 238,
    "start_time": "2022-08-02T07:42:50.385Z"
   },
   {
    "duration": 248,
    "start_time": "2022-08-02T07:43:13.237Z"
   },
   {
    "duration": 23,
    "start_time": "2022-08-02T07:46:23.643Z"
   },
   {
    "duration": 23,
    "start_time": "2022-08-02T07:46:26.295Z"
   },
   {
    "duration": 17,
    "start_time": "2022-08-02T07:46:30.538Z"
   },
   {
    "duration": 28,
    "start_time": "2022-08-02T07:46:35.339Z"
   },
   {
    "duration": 264,
    "start_time": "2022-08-02T07:47:25.591Z"
   },
   {
    "duration": 278,
    "start_time": "2022-08-02T07:47:43.958Z"
   },
   {
    "duration": 39,
    "start_time": "2022-08-02T07:48:42.161Z"
   },
   {
    "duration": 29,
    "start_time": "2022-08-02T07:48:48.563Z"
   },
   {
    "duration": 253,
    "start_time": "2022-08-02T07:54:58.595Z"
   },
   {
    "duration": 233,
    "start_time": "2022-08-02T07:55:10.834Z"
   },
   {
    "duration": 40,
    "start_time": "2022-08-02T07:56:23.592Z"
   },
   {
    "duration": 38,
    "start_time": "2022-08-02T07:56:57.243Z"
   },
   {
    "duration": 12,
    "start_time": "2022-08-02T07:57:55.066Z"
   },
   {
    "duration": 9,
    "start_time": "2022-08-02T07:58:08.954Z"
   },
   {
    "duration": 34,
    "start_time": "2022-08-02T07:58:17.356Z"
   },
   {
    "duration": 31,
    "start_time": "2022-08-02T08:01:05.778Z"
   },
   {
    "duration": 22,
    "start_time": "2022-08-02T08:01:39.970Z"
   },
   {
    "duration": 44,
    "start_time": "2022-08-02T08:17:26.098Z"
   },
   {
    "duration": 38,
    "start_time": "2022-08-02T08:17:31.591Z"
   },
   {
    "duration": 4,
    "start_time": "2022-08-02T08:27:24.897Z"
   },
   {
    "duration": 15,
    "start_time": "2022-08-02T08:27:30.882Z"
   },
   {
    "duration": 7,
    "start_time": "2022-08-02T08:28:21.964Z"
   },
   {
    "duration": 5,
    "start_time": "2022-08-02T08:28:27.048Z"
   },
   {
    "duration": 4,
    "start_time": "2022-08-02T08:29:02.441Z"
   },
   {
    "duration": 235,
    "start_time": "2022-08-02T08:29:52.045Z"
   },
   {
    "duration": 39,
    "start_time": "2022-08-02T08:30:46.976Z"
   },
   {
    "duration": 105,
    "start_time": "2022-08-02T08:32:45.541Z"
   },
   {
    "duration": 384,
    "start_time": "2022-08-02T08:44:00.145Z"
   },
   {
    "duration": 96,
    "start_time": "2022-08-02T08:44:00.531Z"
   },
   {
    "duration": 16,
    "start_time": "2022-08-02T08:44:00.628Z"
   },
   {
    "duration": 38,
    "start_time": "2022-08-02T08:44:00.646Z"
   },
   {
    "duration": 2401,
    "start_time": "2022-08-02T08:44:00.705Z"
   },
   {
    "duration": 13,
    "start_time": "2022-08-02T08:44:03.113Z"
   },
   {
    "duration": 657,
    "start_time": "2022-08-02T08:44:03.128Z"
   },
   {
    "duration": 5,
    "start_time": "2022-08-02T08:44:03.787Z"
   },
   {
    "duration": 22,
    "start_time": "2022-08-02T08:44:03.794Z"
   },
   {
    "duration": 15,
    "start_time": "2022-08-02T08:44:03.817Z"
   },
   {
    "duration": 9,
    "start_time": "2022-08-02T08:44:03.834Z"
   },
   {
    "duration": 11,
    "start_time": "2022-08-02T08:44:03.844Z"
   },
   {
    "duration": 11,
    "start_time": "2022-08-02T08:44:03.856Z"
   },
   {
    "duration": 5,
    "start_time": "2022-08-02T08:44:03.870Z"
   },
   {
    "duration": 10,
    "start_time": "2022-08-02T08:44:03.878Z"
   },
   {
    "duration": 231,
    "start_time": "2022-08-02T08:44:03.891Z"
   },
   {
    "duration": 10,
    "start_time": "2022-08-02T08:44:04.124Z"
   },
   {
    "duration": 10,
    "start_time": "2022-08-02T08:44:04.136Z"
   },
   {
    "duration": 17,
    "start_time": "2022-08-02T08:44:04.147Z"
   },
   {
    "duration": 10,
    "start_time": "2022-08-02T08:44:04.166Z"
   },
   {
    "duration": 36,
    "start_time": "2022-08-02T08:44:04.178Z"
   },
   {
    "duration": 5,
    "start_time": "2022-08-02T08:44:04.215Z"
   },
   {
    "duration": 6,
    "start_time": "2022-08-02T08:44:04.222Z"
   },
   {
    "duration": 8,
    "start_time": "2022-08-02T08:44:04.229Z"
   },
   {
    "duration": 1933,
    "start_time": "2022-08-02T08:44:04.238Z"
   },
   {
    "duration": 5,
    "start_time": "2022-08-02T08:44:06.173Z"
   },
   {
    "duration": 41,
    "start_time": "2022-08-02T08:44:06.179Z"
   },
   {
    "duration": 11,
    "start_time": "2022-08-02T08:44:06.222Z"
   },
   {
    "duration": 9,
    "start_time": "2022-08-02T08:44:06.235Z"
   },
   {
    "duration": 10,
    "start_time": "2022-08-02T08:44:06.246Z"
   },
   {
    "duration": 9,
    "start_time": "2022-08-02T08:44:06.258Z"
   },
   {
    "duration": 7,
    "start_time": "2022-08-02T08:44:06.268Z"
   },
   {
    "duration": 21,
    "start_time": "2022-08-02T08:44:06.304Z"
   },
   {
    "duration": 2036,
    "start_time": "2022-08-02T08:44:06.326Z"
   },
   {
    "duration": 1935,
    "start_time": "2022-08-02T08:44:08.364Z"
   },
   {
    "duration": 15,
    "start_time": "2022-08-02T08:44:10.303Z"
   },
   {
    "duration": 9,
    "start_time": "2022-08-02T08:44:10.321Z"
   },
   {
    "duration": 9,
    "start_time": "2022-08-02T08:44:10.332Z"
   },
   {
    "duration": 7,
    "start_time": "2022-08-02T08:44:10.343Z"
   },
   {
    "duration": 9,
    "start_time": "2022-08-02T08:44:10.352Z"
   },
   {
    "duration": 1893,
    "start_time": "2022-08-02T08:44:10.365Z"
   },
   {
    "duration": 2063,
    "start_time": "2022-08-02T08:44:12.259Z"
   },
   {
    "duration": 1942,
    "start_time": "2022-08-02T08:44:14.324Z"
   },
   {
    "duration": 6,
    "start_time": "2022-08-02T08:44:16.268Z"
   },
   {
    "duration": 9,
    "start_time": "2022-08-02T08:44:16.275Z"
   },
   {
    "duration": 21,
    "start_time": "2022-08-02T08:44:16.287Z"
   },
   {
    "duration": 42,
    "start_time": "2022-08-02T08:44:16.309Z"
   },
   {
    "duration": 14,
    "start_time": "2022-08-02T08:44:16.353Z"
   },
   {
    "duration": 5,
    "start_time": "2022-08-02T08:44:16.369Z"
   },
   {
    "duration": 12,
    "start_time": "2022-08-02T08:44:16.376Z"
   },
   {
    "duration": 31,
    "start_time": "2022-08-02T08:44:16.390Z"
   },
   {
    "duration": 8,
    "start_time": "2022-08-02T08:44:16.422Z"
   },
   {
    "duration": 19,
    "start_time": "2022-08-02T08:44:16.432Z"
   },
   {
    "duration": 25,
    "start_time": "2022-08-02T08:44:16.453Z"
   },
   {
    "duration": 660,
    "start_time": "2022-08-02T08:44:16.480Z"
   },
   {
    "duration": 249,
    "start_time": "2022-08-02T08:44:17.142Z"
   },
   {
    "duration": 260,
    "start_time": "2022-08-02T08:44:17.403Z"
   },
   {
    "duration": 2523,
    "start_time": "2022-08-02T08:44:17.664Z"
   },
   {
    "duration": 279,
    "start_time": "2022-08-02T08:44:20.189Z"
   },
   {
    "duration": 50,
    "start_time": "2022-08-02T08:44:20.470Z"
   },
   {
    "duration": 232,
    "start_time": "2022-08-02T08:44:20.522Z"
   },
   {
    "duration": 29,
    "start_time": "2022-08-02T08:44:20.756Z"
   },
   {
    "duration": 32,
    "start_time": "2022-08-02T08:44:20.787Z"
   },
   {
    "duration": 8,
    "start_time": "2022-08-02T08:44:20.821Z"
   },
   {
    "duration": 251,
    "start_time": "2022-08-02T08:44:20.831Z"
   },
   {
    "duration": 65,
    "start_time": "2022-08-02T08:44:21.083Z"
   },
   {
    "duration": 240,
    "start_time": "2022-08-02T08:49:12.906Z"
   },
   {
    "duration": 301,
    "start_time": "2022-08-02T08:49:29.038Z"
   },
   {
    "duration": 230,
    "start_time": "2022-08-02T08:49:33.556Z"
   },
   {
    "duration": 5,
    "start_time": "2022-08-02T08:53:31.792Z"
   },
   {
    "duration": 7,
    "start_time": "2022-08-02T08:53:49.389Z"
   },
   {
    "duration": 4,
    "start_time": "2022-08-02T08:53:51.430Z"
   },
   {
    "duration": 376,
    "start_time": "2022-08-02T08:54:00.867Z"
   },
   {
    "duration": 56,
    "start_time": "2022-08-02T08:55:15.983Z"
   },
   {
    "duration": 5,
    "start_time": "2022-08-02T08:58:51.428Z"
   },
   {
    "duration": 7,
    "start_time": "2022-08-02T08:59:05.852Z"
   },
   {
    "duration": 4,
    "start_time": "2022-08-02T08:59:07.483Z"
   },
   {
    "duration": 299,
    "start_time": "2022-08-02T08:59:26.561Z"
   },
   {
    "duration": 267,
    "start_time": "2022-08-02T08:59:31.729Z"
   },
   {
    "duration": 417,
    "start_time": "2022-08-02T08:59:37.649Z"
   },
   {
    "duration": 120,
    "start_time": "2022-08-02T08:59:38.068Z"
   },
   {
    "duration": 28,
    "start_time": "2022-08-02T08:59:38.190Z"
   },
   {
    "duration": 49,
    "start_time": "2022-08-02T08:59:38.220Z"
   },
   {
    "duration": 2547,
    "start_time": "2022-08-02T08:59:38.272Z"
   },
   {
    "duration": 11,
    "start_time": "2022-08-02T08:59:40.821Z"
   },
   {
    "duration": 687,
    "start_time": "2022-08-02T08:59:40.834Z"
   },
   {
    "duration": 6,
    "start_time": "2022-08-02T08:59:41.522Z"
   },
   {
    "duration": 19,
    "start_time": "2022-08-02T08:59:41.530Z"
   },
   {
    "duration": 18,
    "start_time": "2022-08-02T08:59:41.551Z"
   },
   {
    "duration": 18,
    "start_time": "2022-08-02T08:59:41.571Z"
   },
   {
    "duration": 25,
    "start_time": "2022-08-02T08:59:41.591Z"
   },
   {
    "duration": 36,
    "start_time": "2022-08-02T08:59:41.618Z"
   },
   {
    "duration": 13,
    "start_time": "2022-08-02T08:59:41.658Z"
   },
   {
    "duration": 23,
    "start_time": "2022-08-02T08:59:41.673Z"
   },
   {
    "duration": 224,
    "start_time": "2022-08-02T08:59:41.698Z"
   },
   {
    "duration": 14,
    "start_time": "2022-08-02T08:59:41.925Z"
   },
   {
    "duration": 13,
    "start_time": "2022-08-02T08:59:41.941Z"
   },
   {
    "duration": 23,
    "start_time": "2022-08-02T08:59:41.956Z"
   },
   {
    "duration": 25,
    "start_time": "2022-08-02T08:59:41.981Z"
   },
   {
    "duration": 32,
    "start_time": "2022-08-02T08:59:42.011Z"
   },
   {
    "duration": 7,
    "start_time": "2022-08-02T08:59:42.046Z"
   },
   {
    "duration": 22,
    "start_time": "2022-08-02T08:59:42.055Z"
   },
   {
    "duration": 22,
    "start_time": "2022-08-02T08:59:42.079Z"
   },
   {
    "duration": 2220,
    "start_time": "2022-08-02T08:59:42.103Z"
   },
   {
    "duration": 5,
    "start_time": "2022-08-02T08:59:44.325Z"
   },
   {
    "duration": 20,
    "start_time": "2022-08-02T08:59:44.331Z"
   },
   {
    "duration": 11,
    "start_time": "2022-08-02T08:59:44.353Z"
   },
   {
    "duration": 53,
    "start_time": "2022-08-02T08:59:44.365Z"
   },
   {
    "duration": 11,
    "start_time": "2022-08-02T08:59:44.421Z"
   },
   {
    "duration": 10,
    "start_time": "2022-08-02T08:59:44.434Z"
   },
   {
    "duration": 12,
    "start_time": "2022-08-02T08:59:44.445Z"
   },
   {
    "duration": 10,
    "start_time": "2022-08-02T08:59:44.459Z"
   },
   {
    "duration": 2188,
    "start_time": "2022-08-02T08:59:44.470Z"
   },
   {
    "duration": 2305,
    "start_time": "2022-08-02T08:59:46.661Z"
   },
   {
    "duration": 6,
    "start_time": "2022-08-02T08:59:48.968Z"
   },
   {
    "duration": 11,
    "start_time": "2022-08-02T08:59:48.977Z"
   },
   {
    "duration": 31,
    "start_time": "2022-08-02T08:59:48.990Z"
   },
   {
    "duration": 16,
    "start_time": "2022-08-02T08:59:49.023Z"
   },
   {
    "duration": 12,
    "start_time": "2022-08-02T08:59:49.042Z"
   },
   {
    "duration": 2260,
    "start_time": "2022-08-02T08:59:49.061Z"
   },
   {
    "duration": 2251,
    "start_time": "2022-08-02T08:59:51.323Z"
   },
   {
    "duration": 2324,
    "start_time": "2022-08-02T08:59:53.576Z"
   },
   {
    "duration": 8,
    "start_time": "2022-08-02T08:59:55.904Z"
   },
   {
    "duration": 19,
    "start_time": "2022-08-02T08:59:55.913Z"
   },
   {
    "duration": 11,
    "start_time": "2022-08-02T08:59:55.933Z"
   },
   {
    "duration": 32,
    "start_time": "2022-08-02T08:59:55.948Z"
   },
   {
    "duration": 37,
    "start_time": "2022-08-02T08:59:55.983Z"
   },
   {
    "duration": 13,
    "start_time": "2022-08-02T08:59:56.022Z"
   },
   {
    "duration": 15,
    "start_time": "2022-08-02T08:59:56.038Z"
   },
   {
    "duration": 19,
    "start_time": "2022-08-02T08:59:56.056Z"
   },
   {
    "duration": 7,
    "start_time": "2022-08-02T08:59:56.077Z"
   },
   {
    "duration": 19,
    "start_time": "2022-08-02T08:59:56.104Z"
   },
   {
    "duration": 25,
    "start_time": "2022-08-02T08:59:56.125Z"
   },
   {
    "duration": 708,
    "start_time": "2022-08-02T08:59:56.152Z"
   },
   {
    "duration": 271,
    "start_time": "2022-08-02T08:59:56.862Z"
   },
   {
    "duration": 244,
    "start_time": "2022-08-02T08:59:57.135Z"
   },
   {
    "duration": 2521,
    "start_time": "2022-08-02T08:59:57.380Z"
   },
   {
    "duration": 290,
    "start_time": "2022-08-02T08:59:59.904Z"
   },
   {
    "duration": 53,
    "start_time": "2022-08-02T09:00:00.196Z"
   },
   {
    "duration": 246,
    "start_time": "2022-08-02T09:00:00.251Z"
   },
   {
    "duration": 36,
    "start_time": "2022-08-02T09:00:00.499Z"
   },
   {
    "duration": 8,
    "start_time": "2022-08-02T09:00:00.537Z"
   },
   {
    "duration": 8,
    "start_time": "2022-08-02T09:00:00.546Z"
   },
   {
    "duration": 276,
    "start_time": "2022-08-02T09:00:00.556Z"
   },
   {
    "duration": 4,
    "start_time": "2022-08-02T09:00:00.834Z"
   },
   {
    "duration": 34,
    "start_time": "2022-08-02T09:00:00.840Z"
   },
   {
    "duration": 21,
    "start_time": "2022-08-02T09:00:00.876Z"
   },
   {
    "duration": 284,
    "start_time": "2022-08-02T09:00:00.899Z"
   },
   {
    "duration": 29,
    "start_time": "2022-08-02T09:00:01.185Z"
   },
   {
    "duration": 5,
    "start_time": "2022-08-02T09:00:01.221Z"
   },
   {
    "duration": 214,
    "start_time": "2022-08-02T09:02:52.858Z"
   },
   {
    "duration": 267,
    "start_time": "2022-08-02T09:03:02.189Z"
   },
   {
    "duration": 244,
    "start_time": "2022-08-02T09:03:07.179Z"
   },
   {
    "duration": 365,
    "start_time": "2022-08-02T09:04:19.467Z"
   },
   {
    "duration": 254,
    "start_time": "2022-08-02T09:04:24.947Z"
   },
   {
    "duration": 246,
    "start_time": "2022-08-02T09:04:29.877Z"
   },
   {
    "duration": 966,
    "start_time": "2022-08-02T09:17:33.467Z"
   },
   {
    "duration": 263,
    "start_time": "2022-08-02T09:17:50.233Z"
   },
   {
    "duration": 442,
    "start_time": "2022-08-02T09:17:57.779Z"
   },
   {
    "duration": 108,
    "start_time": "2022-08-02T09:17:58.223Z"
   },
   {
    "duration": 20,
    "start_time": "2022-08-02T09:17:58.333Z"
   },
   {
    "duration": 69,
    "start_time": "2022-08-02T09:17:58.355Z"
   },
   {
    "duration": 2591,
    "start_time": "2022-08-02T09:17:58.427Z"
   },
   {
    "duration": 10,
    "start_time": "2022-08-02T09:18:01.021Z"
   },
   {
    "duration": 829,
    "start_time": "2022-08-02T09:18:01.033Z"
   },
   {
    "duration": 6,
    "start_time": "2022-08-02T09:18:01.864Z"
   },
   {
    "duration": 30,
    "start_time": "2022-08-02T09:18:01.872Z"
   },
   {
    "duration": 48,
    "start_time": "2022-08-02T09:18:01.905Z"
   },
   {
    "duration": 37,
    "start_time": "2022-08-02T09:18:01.955Z"
   },
   {
    "duration": 37,
    "start_time": "2022-08-02T09:18:01.994Z"
   },
   {
    "duration": 35,
    "start_time": "2022-08-02T09:18:02.033Z"
   },
   {
    "duration": 15,
    "start_time": "2022-08-02T09:18:02.070Z"
   },
   {
    "duration": 48,
    "start_time": "2022-08-02T09:18:02.086Z"
   },
   {
    "duration": 242,
    "start_time": "2022-08-02T09:18:02.136Z"
   },
   {
    "duration": 12,
    "start_time": "2022-08-02T09:18:02.380Z"
   },
   {
    "duration": 20,
    "start_time": "2022-08-02T09:18:02.404Z"
   },
   {
    "duration": 26,
    "start_time": "2022-08-02T09:18:02.425Z"
   },
   {
    "duration": 30,
    "start_time": "2022-08-02T09:18:02.452Z"
   },
   {
    "duration": 31,
    "start_time": "2022-08-02T09:18:02.484Z"
   },
   {
    "duration": 18,
    "start_time": "2022-08-02T09:18:02.517Z"
   },
   {
    "duration": 16,
    "start_time": "2022-08-02T09:18:02.537Z"
   },
   {
    "duration": 27,
    "start_time": "2022-08-02T09:18:02.555Z"
   },
   {
    "duration": 2156,
    "start_time": "2022-08-02T09:18:02.584Z"
   },
   {
    "duration": 5,
    "start_time": "2022-08-02T09:18:04.742Z"
   },
   {
    "duration": 24,
    "start_time": "2022-08-02T09:18:04.748Z"
   },
   {
    "duration": 11,
    "start_time": "2022-08-02T09:18:04.776Z"
   },
   {
    "duration": 28,
    "start_time": "2022-08-02T09:18:04.789Z"
   },
   {
    "duration": 15,
    "start_time": "2022-08-02T09:18:04.819Z"
   },
   {
    "duration": 11,
    "start_time": "2022-08-02T09:18:04.835Z"
   },
   {
    "duration": 7,
    "start_time": "2022-08-02T09:18:04.848Z"
   },
   {
    "duration": 20,
    "start_time": "2022-08-02T09:18:04.856Z"
   },
   {
    "duration": 2272,
    "start_time": "2022-08-02T09:18:04.878Z"
   },
   {
    "duration": 2335,
    "start_time": "2022-08-02T09:18:07.152Z"
   },
   {
    "duration": 18,
    "start_time": "2022-08-02T09:18:09.489Z"
   },
   {
    "duration": 7,
    "start_time": "2022-08-02T09:18:09.514Z"
   },
   {
    "duration": 15,
    "start_time": "2022-08-02T09:18:09.525Z"
   },
   {
    "duration": 12,
    "start_time": "2022-08-02T09:18:09.542Z"
   },
   {
    "duration": 10,
    "start_time": "2022-08-02T09:18:09.556Z"
   },
   {
    "duration": 2199,
    "start_time": "2022-08-02T09:18:09.567Z"
   },
   {
    "duration": 2221,
    "start_time": "2022-08-02T09:18:11.768Z"
   },
   {
    "duration": 2139,
    "start_time": "2022-08-02T09:18:13.991Z"
   },
   {
    "duration": 5,
    "start_time": "2022-08-02T09:18:16.132Z"
   },
   {
    "duration": 11,
    "start_time": "2022-08-02T09:18:16.139Z"
   },
   {
    "duration": 9,
    "start_time": "2022-08-02T09:18:16.152Z"
   },
   {
    "duration": 59,
    "start_time": "2022-08-02T09:18:16.163Z"
   },
   {
    "duration": 16,
    "start_time": "2022-08-02T09:18:16.224Z"
   },
   {
    "duration": 6,
    "start_time": "2022-08-02T09:18:16.241Z"
   },
   {
    "duration": 12,
    "start_time": "2022-08-02T09:18:16.249Z"
   },
   {
    "duration": 18,
    "start_time": "2022-08-02T09:18:16.263Z"
   },
   {
    "duration": 11,
    "start_time": "2022-08-02T09:18:16.304Z"
   },
   {
    "duration": 17,
    "start_time": "2022-08-02T09:18:16.318Z"
   },
   {
    "duration": 21,
    "start_time": "2022-08-02T09:18:16.337Z"
   },
   {
    "duration": 304,
    "start_time": "2022-08-02T09:18:16.361Z"
   },
   {
    "duration": 687,
    "start_time": "2022-08-02T09:18:16.668Z"
   },
   {
    "duration": 267,
    "start_time": "2022-08-02T09:18:17.357Z"
   },
   {
    "duration": 247,
    "start_time": "2022-08-02T09:18:17.626Z"
   },
   {
    "duration": 2785,
    "start_time": "2022-08-02T09:18:17.875Z"
   },
   {
    "duration": 262,
    "start_time": "2022-08-02T09:18:20.662Z"
   },
   {
    "duration": 41,
    "start_time": "2022-08-02T09:18:20.926Z"
   },
   {
    "duration": 263,
    "start_time": "2022-08-02T09:18:20.970Z"
   },
   {
    "duration": 32,
    "start_time": "2022-08-02T09:18:21.235Z"
   },
   {
    "duration": 8,
    "start_time": "2022-08-02T09:18:21.269Z"
   },
   {
    "duration": 43,
    "start_time": "2022-08-02T09:18:21.279Z"
   },
   {
    "duration": 253,
    "start_time": "2022-08-02T09:18:21.324Z"
   },
   {
    "duration": 4,
    "start_time": "2022-08-02T09:18:21.580Z"
   },
   {
    "duration": 28,
    "start_time": "2022-08-02T09:18:21.586Z"
   },
   {
    "duration": 8,
    "start_time": "2022-08-02T09:18:21.617Z"
   },
   {
    "duration": 249,
    "start_time": "2022-08-02T09:18:21.628Z"
   },
   {
    "duration": 9,
    "start_time": "2022-08-02T09:18:21.879Z"
   },
   {
    "duration": 19,
    "start_time": "2022-08-02T09:18:21.890Z"
   },
   {
    "duration": 245,
    "start_time": "2022-08-02T09:18:21.917Z"
   },
   {
    "duration": 200,
    "start_time": "2022-08-02T09:18:22.164Z"
   },
   {
    "duration": 5,
    "start_time": "2022-08-02T09:21:23.626Z"
   },
   {
    "duration": 275,
    "start_time": "2022-08-02T09:22:15.236Z"
   },
   {
    "duration": 117,
    "start_time": "2022-08-02T09:24:32.662Z"
   },
   {
    "duration": 6,
    "start_time": "2022-08-02T09:25:15.964Z"
   },
   {
    "duration": 465,
    "start_time": "2022-08-02T09:25:45.295Z"
   },
   {
    "duration": 114,
    "start_time": "2022-08-02T09:25:45.763Z"
   },
   {
    "duration": 37,
    "start_time": "2022-08-02T09:25:45.879Z"
   },
   {
    "duration": 41,
    "start_time": "2022-08-02T09:25:45.919Z"
   },
   {
    "duration": 2779,
    "start_time": "2022-08-02T09:25:45.962Z"
   },
   {
    "duration": 10,
    "start_time": "2022-08-02T09:25:48.743Z"
   },
   {
    "duration": 741,
    "start_time": "2022-08-02T09:25:48.755Z"
   },
   {
    "duration": 17,
    "start_time": "2022-08-02T09:25:49.498Z"
   },
   {
    "duration": 7,
    "start_time": "2022-08-02T09:25:49.520Z"
   },
   {
    "duration": 8,
    "start_time": "2022-08-02T09:25:49.531Z"
   },
   {
    "duration": 13,
    "start_time": "2022-08-02T09:25:49.540Z"
   },
   {
    "duration": 14,
    "start_time": "2022-08-02T09:25:49.555Z"
   },
   {
    "duration": 11,
    "start_time": "2022-08-02T09:25:49.571Z"
   },
   {
    "duration": 33,
    "start_time": "2022-08-02T09:25:49.585Z"
   },
   {
    "duration": 14,
    "start_time": "2022-08-02T09:25:49.619Z"
   },
   {
    "duration": 223,
    "start_time": "2022-08-02T09:25:49.634Z"
   },
   {
    "duration": 13,
    "start_time": "2022-08-02T09:25:49.859Z"
   },
   {
    "duration": 11,
    "start_time": "2022-08-02T09:25:49.873Z"
   },
   {
    "duration": 32,
    "start_time": "2022-08-02T09:25:49.886Z"
   },
   {
    "duration": 11,
    "start_time": "2022-08-02T09:25:49.920Z"
   },
   {
    "duration": 12,
    "start_time": "2022-08-02T09:25:49.933Z"
   },
   {
    "duration": 5,
    "start_time": "2022-08-02T09:25:49.948Z"
   },
   {
    "duration": 10,
    "start_time": "2022-08-02T09:25:49.955Z"
   },
   {
    "duration": 9,
    "start_time": "2022-08-02T09:25:49.967Z"
   },
   {
    "duration": 2317,
    "start_time": "2022-08-02T09:25:50.004Z"
   },
   {
    "duration": 5,
    "start_time": "2022-08-02T09:25:52.323Z"
   },
   {
    "duration": 20,
    "start_time": "2022-08-02T09:25:52.330Z"
   },
   {
    "duration": 12,
    "start_time": "2022-08-02T09:25:52.355Z"
   },
   {
    "duration": 52,
    "start_time": "2022-08-02T09:25:52.369Z"
   },
   {
    "duration": 15,
    "start_time": "2022-08-02T09:25:52.423Z"
   },
   {
    "duration": 11,
    "start_time": "2022-08-02T09:25:52.441Z"
   },
   {
    "duration": 8,
    "start_time": "2022-08-02T09:25:52.454Z"
   },
   {
    "duration": 16,
    "start_time": "2022-08-02T09:25:52.464Z"
   },
   {
    "duration": 2232,
    "start_time": "2022-08-02T09:25:52.516Z"
   },
   {
    "duration": 2540,
    "start_time": "2022-08-02T09:25:54.750Z"
   },
   {
    "duration": 13,
    "start_time": "2022-08-02T09:25:57.292Z"
   },
   {
    "duration": 102,
    "start_time": "2022-08-02T09:25:57.308Z"
   },
   {
    "duration": 79,
    "start_time": "2022-08-02T09:25:57.417Z"
   },
   {
    "duration": 55,
    "start_time": "2022-08-02T09:25:57.499Z"
   },
   {
    "duration": 84,
    "start_time": "2022-08-02T09:25:57.556Z"
   },
   {
    "duration": 2297,
    "start_time": "2022-08-02T09:25:57.643Z"
   },
   {
    "duration": 2199,
    "start_time": "2022-08-02T09:25:59.941Z"
   },
   {
    "duration": 2318,
    "start_time": "2022-08-02T09:26:02.143Z"
   },
   {
    "duration": 6,
    "start_time": "2022-08-02T09:26:04.463Z"
   },
   {
    "duration": 12,
    "start_time": "2022-08-02T09:26:04.470Z"
   },
   {
    "duration": 24,
    "start_time": "2022-08-02T09:26:04.484Z"
   },
   {
    "duration": 49,
    "start_time": "2022-08-02T09:26:04.510Z"
   },
   {
    "duration": 23,
    "start_time": "2022-08-02T09:26:04.562Z"
   },
   {
    "duration": 20,
    "start_time": "2022-08-02T09:26:04.587Z"
   },
   {
    "duration": 26,
    "start_time": "2022-08-02T09:26:04.618Z"
   },
   {
    "duration": 18,
    "start_time": "2022-08-02T09:26:04.647Z"
   },
   {
    "duration": 8,
    "start_time": "2022-08-02T09:26:04.667Z"
   },
   {
    "duration": 17,
    "start_time": "2022-08-02T09:26:04.677Z"
   },
   {
    "duration": 35,
    "start_time": "2022-08-02T09:26:04.696Z"
   },
   {
    "duration": 329,
    "start_time": "2022-08-02T09:26:04.734Z"
   },
   {
    "duration": 5,
    "start_time": "2022-08-02T09:26:05.065Z"
   },
   {
    "duration": 665,
    "start_time": "2022-08-02T09:26:05.072Z"
   },
   {
    "duration": 281,
    "start_time": "2022-08-02T09:26:05.739Z"
   },
   {
    "duration": 265,
    "start_time": "2022-08-02T09:26:06.023Z"
   },
   {
    "duration": 2966,
    "start_time": "2022-08-02T09:26:06.290Z"
   },
   {
    "duration": 269,
    "start_time": "2022-08-02T09:26:09.258Z"
   },
   {
    "duration": 35,
    "start_time": "2022-08-02T09:26:09.529Z"
   },
   {
    "duration": 257,
    "start_time": "2022-08-02T09:26:09.566Z"
   },
   {
    "duration": 29,
    "start_time": "2022-08-02T09:26:09.825Z"
   },
   {
    "duration": 7,
    "start_time": "2022-08-02T09:26:09.856Z"
   },
   {
    "duration": 9,
    "start_time": "2022-08-02T09:26:09.866Z"
   },
   {
    "duration": 293,
    "start_time": "2022-08-02T09:26:09.877Z"
   },
   {
    "duration": 8,
    "start_time": "2022-08-02T09:26:10.173Z"
   },
   {
    "duration": 31,
    "start_time": "2022-08-02T09:26:10.183Z"
   },
   {
    "duration": 10,
    "start_time": "2022-08-02T09:26:10.216Z"
   },
   {
    "duration": 301,
    "start_time": "2022-08-02T09:26:10.228Z"
   },
   {
    "duration": 10,
    "start_time": "2022-08-02T09:26:10.532Z"
   },
   {
    "duration": 10,
    "start_time": "2022-08-02T09:26:10.544Z"
   },
   {
    "duration": 308,
    "start_time": "2022-08-02T09:26:10.556Z"
   },
   {
    "duration": 116,
    "start_time": "2022-08-02T09:26:10.867Z"
   },
   {
    "duration": 428,
    "start_time": "2022-08-02T09:29:09.361Z"
   },
   {
    "duration": 110,
    "start_time": "2022-08-02T09:29:09.791Z"
   },
   {
    "duration": 19,
    "start_time": "2022-08-02T09:29:09.905Z"
   },
   {
    "duration": 36,
    "start_time": "2022-08-02T09:29:09.929Z"
   },
   {
    "duration": 2433,
    "start_time": "2022-08-02T09:29:09.966Z"
   },
   {
    "duration": 16,
    "start_time": "2022-08-02T09:29:12.404Z"
   },
   {
    "duration": 725,
    "start_time": "2022-08-02T09:29:12.422Z"
   },
   {
    "duration": 6,
    "start_time": "2022-08-02T09:29:13.149Z"
   },
   {
    "duration": 9,
    "start_time": "2022-08-02T09:29:13.157Z"
   },
   {
    "duration": 7,
    "start_time": "2022-08-02T09:29:13.170Z"
   },
   {
    "duration": 38,
    "start_time": "2022-08-02T09:29:13.179Z"
   },
   {
    "duration": 8,
    "start_time": "2022-08-02T09:29:13.220Z"
   },
   {
    "duration": 13,
    "start_time": "2022-08-02T09:29:13.230Z"
   },
   {
    "duration": 6,
    "start_time": "2022-08-02T09:29:13.244Z"
   },
   {
    "duration": 8,
    "start_time": "2022-08-02T09:29:13.252Z"
   },
   {
    "duration": 233,
    "start_time": "2022-08-02T09:29:13.262Z"
   },
   {
    "duration": 21,
    "start_time": "2022-08-02T09:29:13.497Z"
   },
   {
    "duration": 6,
    "start_time": "2022-08-02T09:29:13.522Z"
   },
   {
    "duration": 9,
    "start_time": "2022-08-02T09:29:13.529Z"
   },
   {
    "duration": 9,
    "start_time": "2022-08-02T09:29:13.540Z"
   },
   {
    "duration": 11,
    "start_time": "2022-08-02T09:29:13.551Z"
   },
   {
    "duration": 9,
    "start_time": "2022-08-02T09:29:13.563Z"
   },
   {
    "duration": 36,
    "start_time": "2022-08-02T09:29:13.573Z"
   },
   {
    "duration": 19,
    "start_time": "2022-08-02T09:29:13.611Z"
   },
   {
    "duration": 1981,
    "start_time": "2022-08-02T09:29:13.632Z"
   },
   {
    "duration": 6,
    "start_time": "2022-08-02T09:29:15.615Z"
   },
   {
    "duration": 18,
    "start_time": "2022-08-02T09:29:15.623Z"
   },
   {
    "duration": 11,
    "start_time": "2022-08-02T09:29:15.645Z"
   },
   {
    "duration": 10,
    "start_time": "2022-08-02T09:29:15.658Z"
   },
   {
    "duration": 42,
    "start_time": "2022-08-02T09:29:15.669Z"
   },
   {
    "duration": 22,
    "start_time": "2022-08-02T09:29:15.713Z"
   },
   {
    "duration": 9,
    "start_time": "2022-08-02T09:29:15.737Z"
   },
   {
    "duration": 9,
    "start_time": "2022-08-02T09:29:15.747Z"
   },
   {
    "duration": 2019,
    "start_time": "2022-08-02T09:29:15.758Z"
   },
   {
    "duration": 1941,
    "start_time": "2022-08-02T09:29:17.779Z"
   },
   {
    "duration": 4,
    "start_time": "2022-08-02T09:29:19.722Z"
   },
   {
    "duration": 9,
    "start_time": "2022-08-02T09:29:19.728Z"
   },
   {
    "duration": 8,
    "start_time": "2022-08-02T09:29:19.739Z"
   },
   {
    "duration": 9,
    "start_time": "2022-08-02T09:29:19.748Z"
   },
   {
    "duration": 9,
    "start_time": "2022-08-02T09:29:19.759Z"
   },
   {
    "duration": 2105,
    "start_time": "2022-08-02T09:29:19.770Z"
   },
   {
    "duration": 2019,
    "start_time": "2022-08-02T09:29:21.877Z"
   },
   {
    "duration": 2100,
    "start_time": "2022-08-02T09:29:23.898Z"
   },
   {
    "duration": 10,
    "start_time": "2022-08-02T09:29:26.000Z"
   },
   {
    "duration": 20,
    "start_time": "2022-08-02T09:29:26.011Z"
   },
   {
    "duration": 11,
    "start_time": "2022-08-02T09:29:26.034Z"
   },
   {
    "duration": 31,
    "start_time": "2022-08-02T09:29:26.047Z"
   },
   {
    "duration": 33,
    "start_time": "2022-08-02T09:29:26.080Z"
   },
   {
    "duration": 7,
    "start_time": "2022-08-02T09:29:26.121Z"
   },
   {
    "duration": 20,
    "start_time": "2022-08-02T09:29:26.130Z"
   },
   {
    "duration": 20,
    "start_time": "2022-08-02T09:29:26.152Z"
   },
   {
    "duration": 7,
    "start_time": "2022-08-02T09:29:26.174Z"
   },
   {
    "duration": 92,
    "start_time": "2022-08-02T09:29:26.183Z"
   },
   {
    "duration": 73,
    "start_time": "2022-08-02T09:29:26.278Z"
   },
   {
    "duration": 289,
    "start_time": "2022-08-02T09:29:26.354Z"
   },
   {
    "duration": 5,
    "start_time": "2022-08-02T09:29:26.645Z"
   },
   {
    "duration": 702,
    "start_time": "2022-08-02T09:29:26.653Z"
   },
   {
    "duration": 255,
    "start_time": "2022-08-02T09:29:27.357Z"
   },
   {
    "duration": 241,
    "start_time": "2022-08-02T09:29:27.615Z"
   },
   {
    "duration": 2549,
    "start_time": "2022-08-02T09:29:27.858Z"
   },
   {
    "duration": 249,
    "start_time": "2022-08-02T09:29:30.413Z"
   },
   {
    "duration": 50,
    "start_time": "2022-08-02T09:29:30.664Z"
   },
   {
    "duration": 224,
    "start_time": "2022-08-02T09:29:30.720Z"
   },
   {
    "duration": 31,
    "start_time": "2022-08-02T09:29:30.945Z"
   },
   {
    "duration": 30,
    "start_time": "2022-08-02T09:29:30.978Z"
   },
   {
    "duration": 20,
    "start_time": "2022-08-02T09:29:31.009Z"
   },
   {
    "duration": 237,
    "start_time": "2022-08-02T09:29:31.031Z"
   },
   {
    "duration": 4,
    "start_time": "2022-08-02T09:29:31.270Z"
   },
   {
    "duration": 13,
    "start_time": "2022-08-02T09:29:31.276Z"
   },
   {
    "duration": 31,
    "start_time": "2022-08-02T09:29:31.291Z"
   },
   {
    "duration": 256,
    "start_time": "2022-08-02T09:29:31.324Z"
   },
   {
    "duration": 9,
    "start_time": "2022-08-02T09:29:31.581Z"
   },
   {
    "duration": 17,
    "start_time": "2022-08-02T09:29:31.604Z"
   },
   {
    "duration": 231,
    "start_time": "2022-08-02T09:29:31.622Z"
   },
   {
    "duration": 46,
    "start_time": "2022-08-02T09:31:15.381Z"
   },
   {
    "duration": 5,
    "start_time": "2022-08-02T09:32:58.184Z"
   },
   {
    "duration": 43,
    "start_time": "2022-08-02T09:33:03.868Z"
   },
   {
    "duration": 8,
    "start_time": "2022-08-02T09:38:46.536Z"
   },
   {
    "duration": 32,
    "start_time": "2022-08-02T09:38:49.122Z"
   },
   {
    "duration": 16,
    "start_time": "2022-08-02T09:40:55.323Z"
   },
   {
    "duration": 7,
    "start_time": "2022-08-02T09:42:06.255Z"
   },
   {
    "duration": 88,
    "start_time": "2022-08-02T09:42:27.555Z"
   },
   {
    "duration": 8,
    "start_time": "2022-08-02T09:42:36.281Z"
   },
   {
    "duration": 9,
    "start_time": "2022-08-02T09:43:46.873Z"
   },
   {
    "duration": 27,
    "start_time": "2022-08-02T09:45:26.347Z"
   },
   {
    "duration": 6,
    "start_time": "2022-08-02T09:45:38.668Z"
   },
   {
    "duration": 25,
    "start_time": "2022-08-02T09:45:40.937Z"
   },
   {
    "duration": 7,
    "start_time": "2022-08-02T09:46:04.920Z"
   },
   {
    "duration": 26,
    "start_time": "2022-08-02T09:46:07.221Z"
   },
   {
    "duration": 44,
    "start_time": "2022-08-02T15:16:00.659Z"
   },
   {
    "duration": 370,
    "start_time": "2022-08-02T15:16:06.465Z"
   },
   {
    "duration": 142,
    "start_time": "2022-08-02T15:16:06.837Z"
   },
   {
    "duration": 17,
    "start_time": "2022-08-02T15:16:06.983Z"
   },
   {
    "duration": 40,
    "start_time": "2022-08-02T15:16:07.003Z"
   },
   {
    "duration": 2240,
    "start_time": "2022-08-02T15:16:07.045Z"
   },
   {
    "duration": 8,
    "start_time": "2022-08-02T15:16:09.287Z"
   },
   {
    "duration": 584,
    "start_time": "2022-08-02T15:16:09.297Z"
   },
   {
    "duration": 7,
    "start_time": "2022-08-02T15:16:09.883Z"
   },
   {
    "duration": 9,
    "start_time": "2022-08-02T15:16:09.892Z"
   },
   {
    "duration": 19,
    "start_time": "2022-08-02T15:16:09.902Z"
   },
   {
    "duration": 8,
    "start_time": "2022-08-02T15:16:09.931Z"
   },
   {
    "duration": 5,
    "start_time": "2022-08-02T15:16:09.941Z"
   },
   {
    "duration": 8,
    "start_time": "2022-08-02T15:16:09.949Z"
   },
   {
    "duration": 5,
    "start_time": "2022-08-02T15:16:09.959Z"
   },
   {
    "duration": 7,
    "start_time": "2022-08-02T15:16:09.966Z"
   },
   {
    "duration": 207,
    "start_time": "2022-08-02T15:16:09.974Z"
   },
   {
    "duration": 10,
    "start_time": "2022-08-02T15:16:10.183Z"
   },
   {
    "duration": 4,
    "start_time": "2022-08-02T15:16:10.195Z"
   },
   {
    "duration": 9,
    "start_time": "2022-08-02T15:16:10.201Z"
   },
   {
    "duration": 25,
    "start_time": "2022-08-02T15:16:10.212Z"
   },
   {
    "duration": 13,
    "start_time": "2022-08-02T15:16:10.238Z"
   },
   {
    "duration": 5,
    "start_time": "2022-08-02T15:16:10.253Z"
   },
   {
    "duration": 6,
    "start_time": "2022-08-02T15:16:10.260Z"
   },
   {
    "duration": 6,
    "start_time": "2022-08-02T15:16:10.267Z"
   },
   {
    "duration": 1791,
    "start_time": "2022-08-02T15:16:10.275Z"
   },
   {
    "duration": 5,
    "start_time": "2022-08-02T15:16:12.068Z"
   },
   {
    "duration": 15,
    "start_time": "2022-08-02T15:16:12.075Z"
   },
   {
    "duration": 9,
    "start_time": "2022-08-02T15:16:12.092Z"
   },
   {
    "duration": 31,
    "start_time": "2022-08-02T15:16:12.103Z"
   },
   {
    "duration": 10,
    "start_time": "2022-08-02T15:16:12.136Z"
   },
   {
    "duration": 9,
    "start_time": "2022-08-02T15:16:12.148Z"
   },
   {
    "duration": 6,
    "start_time": "2022-08-02T15:16:12.159Z"
   },
   {
    "duration": 8,
    "start_time": "2022-08-02T15:16:12.167Z"
   },
   {
    "duration": 1787,
    "start_time": "2022-08-02T15:16:12.176Z"
   },
   {
    "duration": 1683,
    "start_time": "2022-08-02T15:16:13.965Z"
   },
   {
    "duration": 4,
    "start_time": "2022-08-02T15:16:15.650Z"
   },
   {
    "duration": 12,
    "start_time": "2022-08-02T15:16:15.656Z"
   },
   {
    "duration": 12,
    "start_time": "2022-08-02T15:16:15.670Z"
   },
   {
    "duration": 10,
    "start_time": "2022-08-02T15:16:15.683Z"
   },
   {
    "duration": 8,
    "start_time": "2022-08-02T15:16:15.699Z"
   },
   {
    "duration": 1715,
    "start_time": "2022-08-02T15:16:15.708Z"
   },
   {
    "duration": 1744,
    "start_time": "2022-08-02T15:16:17.425Z"
   },
   {
    "duration": 1655,
    "start_time": "2022-08-02T15:16:19.170Z"
   },
   {
    "duration": 6,
    "start_time": "2022-08-02T15:16:20.826Z"
   },
   {
    "duration": 9,
    "start_time": "2022-08-02T15:16:20.833Z"
   },
   {
    "duration": 10,
    "start_time": "2022-08-02T15:16:20.844Z"
   },
   {
    "duration": 28,
    "start_time": "2022-08-02T15:16:20.855Z"
   },
   {
    "duration": 13,
    "start_time": "2022-08-02T15:16:20.884Z"
   },
   {
    "duration": 5,
    "start_time": "2022-08-02T15:16:20.898Z"
   },
   {
    "duration": 28,
    "start_time": "2022-08-02T15:16:20.904Z"
   },
   {
    "duration": 13,
    "start_time": "2022-08-02T15:16:20.933Z"
   },
   {
    "duration": 5,
    "start_time": "2022-08-02T15:16:20.947Z"
   },
   {
    "duration": 15,
    "start_time": "2022-08-02T15:16:20.953Z"
   },
   {
    "duration": 16,
    "start_time": "2022-08-02T15:16:20.969Z"
   },
   {
    "duration": 220,
    "start_time": "2022-08-02T15:16:20.986Z"
   },
   {
    "duration": 4,
    "start_time": "2022-08-02T15:16:21.207Z"
   },
   {
    "duration": 426,
    "start_time": "2022-08-02T15:16:21.212Z"
   },
   {
    "duration": 203,
    "start_time": "2022-08-02T15:16:21.640Z"
   },
   {
    "duration": 203,
    "start_time": "2022-08-02T15:16:21.844Z"
   },
   {
    "duration": 2026,
    "start_time": "2022-08-02T15:16:22.048Z"
   },
   {
    "duration": 216,
    "start_time": "2022-08-02T15:16:24.075Z"
   },
   {
    "duration": 40,
    "start_time": "2022-08-02T15:16:24.292Z"
   },
   {
    "duration": 186,
    "start_time": "2022-08-02T15:16:24.333Z"
   },
   {
    "duration": 31,
    "start_time": "2022-08-02T15:16:24.520Z"
   },
   {
    "duration": 7,
    "start_time": "2022-08-02T15:16:24.552Z"
   },
   {
    "duration": 6,
    "start_time": "2022-08-02T15:16:24.561Z"
   },
   {
    "duration": 209,
    "start_time": "2022-08-02T15:16:24.568Z"
   },
   {
    "duration": 3,
    "start_time": "2022-08-02T15:16:24.779Z"
   },
   {
    "duration": 8,
    "start_time": "2022-08-02T15:16:24.784Z"
   },
   {
    "duration": 4,
    "start_time": "2022-08-02T15:16:24.793Z"
   },
   {
    "duration": 224,
    "start_time": "2022-08-02T15:16:24.798Z"
   },
   {
    "duration": 14,
    "start_time": "2022-08-02T15:16:25.024Z"
   },
   {
    "duration": 9,
    "start_time": "2022-08-02T15:16:25.039Z"
   },
   {
    "duration": 206,
    "start_time": "2022-08-02T15:16:25.050Z"
   },
   {
    "duration": 5,
    "start_time": "2022-08-02T15:16:25.257Z"
   },
   {
    "duration": 8,
    "start_time": "2022-08-02T15:16:25.263Z"
   },
   {
    "duration": 6,
    "start_time": "2022-08-02T15:16:25.273Z"
   },
   {
    "duration": 6,
    "start_time": "2022-08-02T15:16:25.281Z"
   },
   {
    "duration": 4,
    "start_time": "2022-08-02T15:16:25.289Z"
   },
   {
    "duration": 59,
    "start_time": "2022-08-02T15:16:25.295Z"
   },
   {
    "duration": 20,
    "start_time": "2022-08-02T15:19:50.517Z"
   },
   {
    "duration": 14,
    "start_time": "2022-08-02T15:20:57.948Z"
   },
   {
    "duration": 4,
    "start_time": "2022-08-02T15:22:02.424Z"
   },
   {
    "duration": 10,
    "start_time": "2022-08-02T15:24:39.609Z"
   },
   {
    "duration": 1071,
    "start_time": "2022-08-02T15:25:25.229Z"
   },
   {
    "duration": 3,
    "start_time": "2022-08-02T15:25:36.413Z"
   },
   {
    "duration": 1683,
    "start_time": "2022-08-02T15:25:38.527Z"
   },
   {
    "duration": 4,
    "start_time": "2022-08-02T15:25:53.014Z"
   },
   {
    "duration": 1305,
    "start_time": "2022-08-02T15:25:54.898Z"
   },
   {
    "duration": 3,
    "start_time": "2022-08-02T15:26:17.542Z"
   },
   {
    "duration": 1356,
    "start_time": "2022-08-02T15:27:20.322Z"
   },
   {
    "duration": 3,
    "start_time": "2022-08-02T15:27:31.964Z"
   },
   {
    "duration": 8,
    "start_time": "2022-08-02T15:27:34.106Z"
   },
   {
    "duration": 12,
    "start_time": "2022-08-02T15:27:40.647Z"
   },
   {
    "duration": 16,
    "start_time": "2022-08-02T15:31:26.139Z"
   },
   {
    "duration": 4,
    "start_time": "2022-08-02T15:32:35.778Z"
   },
   {
    "duration": 307,
    "start_time": "2022-08-02T15:32:37.878Z"
   },
   {
    "duration": 30,
    "start_time": "2022-08-02T15:32:45.312Z"
   },
   {
    "duration": 3,
    "start_time": "2022-08-02T15:35:30.386Z"
   },
   {
    "duration": 14,
    "start_time": "2022-08-02T15:36:18.063Z"
   },
   {
    "duration": 36,
    "start_time": "2022-08-02T15:38:25.023Z"
   },
   {
    "duration": 15,
    "start_time": "2022-08-02T15:38:30.230Z"
   },
   {
    "duration": 4,
    "start_time": "2022-08-02T15:39:18.447Z"
   },
   {
    "duration": 22,
    "start_time": "2022-08-02T15:39:24.132Z"
   },
   {
    "duration": 4,
    "start_time": "2022-08-02T15:40:10.123Z"
   },
   {
    "duration": 16,
    "start_time": "2022-08-02T15:41:10.990Z"
   },
   {
    "duration": 2368,
    "start_time": "2022-08-02T15:42:22.349Z"
   },
   {
    "duration": 2640,
    "start_time": "2022-08-02T15:42:31.920Z"
   },
   {
    "duration": 2350,
    "start_time": "2022-08-02T15:42:44.051Z"
   },
   {
    "duration": 3176,
    "start_time": "2022-08-02T15:42:52.716Z"
   },
   {
    "duration": 2617,
    "start_time": "2022-08-02T15:43:01.715Z"
   },
   {
    "duration": 2406,
    "start_time": "2022-08-02T15:43:32.932Z"
   },
   {
    "duration": 4,
    "start_time": "2022-08-02T15:47:14.546Z"
   },
   {
    "duration": 14,
    "start_time": "2022-08-02T15:54:15.142Z"
   },
   {
    "duration": 13,
    "start_time": "2022-08-02T15:54:24.277Z"
   },
   {
    "duration": 12,
    "start_time": "2022-08-02T15:54:51.603Z"
   },
   {
    "duration": 441,
    "start_time": "2022-08-02T15:54:59.821Z"
   },
   {
    "duration": 92,
    "start_time": "2022-08-02T15:55:00.264Z"
   },
   {
    "duration": 15,
    "start_time": "2022-08-02T15:55:00.358Z"
   },
   {
    "duration": 34,
    "start_time": "2022-08-02T15:55:00.375Z"
   },
   {
    "duration": 2266,
    "start_time": "2022-08-02T15:55:00.411Z"
   },
   {
    "duration": 8,
    "start_time": "2022-08-02T15:55:02.679Z"
   },
   {
    "duration": 581,
    "start_time": "2022-08-02T15:55:02.689Z"
   },
   {
    "duration": 4,
    "start_time": "2022-08-02T15:55:03.272Z"
   },
   {
    "duration": 5,
    "start_time": "2022-08-02T15:55:03.278Z"
   },
   {
    "duration": 8,
    "start_time": "2022-08-02T15:55:03.284Z"
   },
   {
    "duration": 7,
    "start_time": "2022-08-02T15:55:03.293Z"
   },
   {
    "duration": 6,
    "start_time": "2022-08-02T15:55:03.331Z"
   },
   {
    "duration": 12,
    "start_time": "2022-08-02T15:55:03.339Z"
   },
   {
    "duration": 5,
    "start_time": "2022-08-02T15:55:03.353Z"
   },
   {
    "duration": 8,
    "start_time": "2022-08-02T15:55:03.359Z"
   },
   {
    "duration": 203,
    "start_time": "2022-08-02T15:55:03.368Z"
   },
   {
    "duration": 10,
    "start_time": "2022-08-02T15:55:03.572Z"
   },
   {
    "duration": 4,
    "start_time": "2022-08-02T15:55:03.584Z"
   },
   {
    "duration": 9,
    "start_time": "2022-08-02T15:55:03.590Z"
   },
   {
    "duration": 8,
    "start_time": "2022-08-02T15:55:03.600Z"
   },
   {
    "duration": 31,
    "start_time": "2022-08-02T15:55:03.609Z"
   },
   {
    "duration": 4,
    "start_time": "2022-08-02T15:55:03.642Z"
   },
   {
    "duration": 6,
    "start_time": "2022-08-02T15:55:03.647Z"
   },
   {
    "duration": 7,
    "start_time": "2022-08-02T15:55:03.654Z"
   },
   {
    "duration": 1699,
    "start_time": "2022-08-02T15:55:03.662Z"
   },
   {
    "duration": 5,
    "start_time": "2022-08-02T15:55:05.362Z"
   },
   {
    "duration": 18,
    "start_time": "2022-08-02T15:55:05.369Z"
   },
   {
    "duration": 10,
    "start_time": "2022-08-02T15:55:05.388Z"
   },
   {
    "duration": 9,
    "start_time": "2022-08-02T15:55:05.399Z"
   },
   {
    "duration": 30,
    "start_time": "2022-08-02T15:55:05.409Z"
   },
   {
    "duration": 8,
    "start_time": "2022-08-02T15:55:05.442Z"
   },
   {
    "duration": 10,
    "start_time": "2022-08-02T15:55:05.452Z"
   },
   {
    "duration": 8,
    "start_time": "2022-08-02T15:55:05.464Z"
   },
   {
    "duration": 1600,
    "start_time": "2022-08-02T15:55:05.474Z"
   },
   {
    "duration": 1682,
    "start_time": "2022-08-02T15:55:07.076Z"
   },
   {
    "duration": 4,
    "start_time": "2022-08-02T15:55:08.760Z"
   },
   {
    "duration": 10,
    "start_time": "2022-08-02T15:55:08.766Z"
   },
   {
    "duration": 17,
    "start_time": "2022-08-02T15:55:08.777Z"
   },
   {
    "duration": 13,
    "start_time": "2022-08-02T15:55:08.796Z"
   },
   {
    "duration": 22,
    "start_time": "2022-08-02T15:55:08.811Z"
   },
   {
    "duration": 1644,
    "start_time": "2022-08-02T15:55:08.839Z"
   },
   {
    "duration": 1611,
    "start_time": "2022-08-02T15:55:10.484Z"
   },
   {
    "duration": 1655,
    "start_time": "2022-08-02T15:55:12.096Z"
   },
   {
    "duration": 5,
    "start_time": "2022-08-02T15:55:13.753Z"
   },
   {
    "duration": 8,
    "start_time": "2022-08-02T15:55:13.759Z"
   },
   {
    "duration": 5,
    "start_time": "2022-08-02T15:55:13.768Z"
   },
   {
    "duration": 31,
    "start_time": "2022-08-02T15:55:13.774Z"
   },
   {
    "duration": 37,
    "start_time": "2022-08-02T15:55:13.807Z"
   },
   {
    "duration": 5,
    "start_time": "2022-08-02T15:55:13.846Z"
   },
   {
    "duration": 10,
    "start_time": "2022-08-02T15:55:13.853Z"
   },
   {
    "duration": 15,
    "start_time": "2022-08-02T15:55:13.865Z"
   },
   {
    "duration": 5,
    "start_time": "2022-08-02T15:55:13.881Z"
   },
   {
    "duration": 9,
    "start_time": "2022-08-02T15:55:13.887Z"
   },
   {
    "duration": 42,
    "start_time": "2022-08-02T15:55:13.898Z"
   },
   {
    "duration": 293,
    "start_time": "2022-08-02T15:55:13.941Z"
   },
   {
    "duration": 4,
    "start_time": "2022-08-02T15:55:14.235Z"
   },
   {
    "duration": 435,
    "start_time": "2022-08-02T15:55:14.240Z"
   },
   {
    "duration": 205,
    "start_time": "2022-08-02T15:55:14.677Z"
   },
   {
    "duration": 194,
    "start_time": "2022-08-02T15:55:14.883Z"
   },
   {
    "duration": 2197,
    "start_time": "2022-08-02T15:55:15.078Z"
   },
   {
    "duration": 207,
    "start_time": "2022-08-02T15:55:17.277Z"
   },
   {
    "duration": 31,
    "start_time": "2022-08-02T15:55:17.486Z"
   },
   {
    "duration": 251,
    "start_time": "2022-08-02T15:55:17.530Z"
   },
   {
    "duration": 48,
    "start_time": "2022-08-02T15:55:17.784Z"
   },
   {
    "duration": 10,
    "start_time": "2022-08-02T15:55:17.834Z"
   },
   {
    "duration": 19,
    "start_time": "2022-08-02T15:55:17.845Z"
   },
   {
    "duration": 300,
    "start_time": "2022-08-02T15:55:17.866Z"
   },
   {
    "duration": 3,
    "start_time": "2022-08-02T15:55:18.168Z"
   },
   {
    "duration": 24,
    "start_time": "2022-08-02T15:55:18.173Z"
   },
   {
    "duration": 31,
    "start_time": "2022-08-02T15:55:18.199Z"
   },
   {
    "duration": 214,
    "start_time": "2022-08-02T15:55:18.231Z"
   },
   {
    "duration": 7,
    "start_time": "2022-08-02T15:55:18.447Z"
   },
   {
    "duration": 35,
    "start_time": "2022-08-02T15:55:18.456Z"
   },
   {
    "duration": 216,
    "start_time": "2022-08-02T15:55:18.493Z"
   },
   {
    "duration": 3,
    "start_time": "2022-08-02T15:55:18.711Z"
   },
   {
    "duration": 36,
    "start_time": "2022-08-02T15:55:18.716Z"
   },
   {
    "duration": 13,
    "start_time": "2022-08-02T15:55:18.753Z"
   },
   {
    "duration": 9,
    "start_time": "2022-08-02T15:55:18.768Z"
   },
   {
    "duration": 27,
    "start_time": "2022-08-02T15:55:18.779Z"
   },
   {
    "duration": 34,
    "start_time": "2022-08-02T15:55:18.808Z"
   },
   {
    "duration": 22,
    "start_time": "2022-08-02T15:55:18.844Z"
   },
   {
    "duration": 14,
    "start_time": "2022-08-02T15:55:18.868Z"
   },
   {
    "duration": 143,
    "start_time": "2022-08-02T15:55:18.884Z"
   },
   {
    "duration": 265,
    "start_time": "2022-08-02T15:55:19.031Z"
   },
   {
    "duration": 4,
    "start_time": "2022-08-02T15:55:19.297Z"
   },
   {
    "duration": 2666,
    "start_time": "2022-08-02T15:55:19.302Z"
   },
   {
    "duration": 13,
    "start_time": "2022-08-02T15:55:51.652Z"
   },
   {
    "duration": 14,
    "start_time": "2022-08-02T15:55:53.523Z"
   },
   {
    "duration": 13,
    "start_time": "2022-08-02T15:56:14.675Z"
   },
   {
    "duration": 15,
    "start_time": "2022-08-02T15:56:16.329Z"
   },
   {
    "duration": 13,
    "start_time": "2022-08-02T17:10:38.197Z"
   },
   {
    "duration": 13,
    "start_time": "2022-08-02T17:10:40.025Z"
   },
   {
    "duration": 14,
    "start_time": "2022-08-02T17:10:41.625Z"
   },
   {
    "duration": 6,
    "start_time": "2022-08-02T17:11:42.551Z"
   },
   {
    "duration": 16,
    "start_time": "2022-08-02T17:11:44.462Z"
   },
   {
    "duration": 5,
    "start_time": "2022-08-02T17:12:23.759Z"
   },
   {
    "duration": 3,
    "start_time": "2022-08-02T17:12:48.888Z"
   },
   {
    "duration": 2515,
    "start_time": "2022-08-02T17:12:51.926Z"
   },
   {
    "duration": 73,
    "start_time": "2022-08-02T17:24:46.965Z"
   },
   {
    "duration": 206,
    "start_time": "2022-08-02T17:25:57.354Z"
   },
   {
    "duration": 198,
    "start_time": "2022-08-02T17:27:24.819Z"
   },
   {
    "duration": 27,
    "start_time": "2022-08-02T17:28:08.258Z"
   },
   {
    "duration": 28,
    "start_time": "2022-08-02T17:29:15.319Z"
   },
   {
    "duration": 196,
    "start_time": "2022-08-02T17:33:55.422Z"
   },
   {
    "duration": 192,
    "start_time": "2022-08-02T17:42:58.322Z"
   },
   {
    "duration": 190,
    "start_time": "2022-08-02T17:45:22.552Z"
   },
   {
    "duration": 190,
    "start_time": "2022-08-02T17:45:30.143Z"
   },
   {
    "duration": 246,
    "start_time": "2022-08-02T17:45:56.487Z"
   },
   {
    "duration": 482,
    "start_time": "2022-08-02T17:51:13.785Z"
   },
   {
    "duration": 706,
    "start_time": "2022-08-02T17:51:22.435Z"
   },
   {
    "duration": 395,
    "start_time": "2022-08-02T17:53:22.254Z"
   },
   {
    "duration": 410,
    "start_time": "2022-08-02T17:53:30.837Z"
   },
   {
    "duration": 178,
    "start_time": "2022-08-02T17:55:09.198Z"
   },
   {
    "duration": 389,
    "start_time": "2022-08-02T17:55:23.298Z"
   },
   {
    "duration": 140,
    "start_time": "2022-08-02T17:55:28.239Z"
   },
   {
    "duration": 187,
    "start_time": "2022-08-02T17:55:30.839Z"
   },
   {
    "duration": 196,
    "start_time": "2022-08-02T18:11:46.868Z"
   },
   {
    "duration": 193,
    "start_time": "2022-08-02T18:11:51.037Z"
   },
   {
    "duration": 192,
    "start_time": "2022-08-02T18:12:01.274Z"
   },
   {
    "duration": 187,
    "start_time": "2022-08-02T18:12:10.551Z"
   },
   {
    "duration": 384,
    "start_time": "2022-08-02T18:19:24.871Z"
   },
   {
    "duration": 203,
    "start_time": "2022-08-02T18:23:54.230Z"
   },
   {
    "duration": 673,
    "start_time": "2022-08-02T18:31:00.198Z"
   },
   {
    "duration": 411,
    "start_time": "2022-08-02T18:31:22.328Z"
   },
   {
    "duration": 446,
    "start_time": "2022-08-02T18:31:27.574Z"
   },
   {
    "duration": 382,
    "start_time": "2022-08-02T18:31:33.251Z"
   },
   {
    "duration": 567,
    "start_time": "2022-08-02T18:31:58.331Z"
   },
   {
    "duration": 588,
    "start_time": "2022-08-02T18:32:10.034Z"
   },
   {
    "duration": 564,
    "start_time": "2022-08-02T18:32:19.086Z"
   },
   {
    "duration": 7,
    "start_time": "2022-08-02T19:06:38.820Z"
   },
   {
    "duration": 66,
    "start_time": "2022-08-02T19:07:00.075Z"
   },
   {
    "duration": 10,
    "start_time": "2022-08-02T19:09:54.505Z"
   },
   {
    "duration": 8,
    "start_time": "2022-08-02T19:10:06.801Z"
   },
   {
    "duration": 8,
    "start_time": "2022-08-02T19:10:08.966Z"
   },
   {
    "duration": 6,
    "start_time": "2022-08-02T19:10:11.160Z"
   },
   {
    "duration": 3,
    "start_time": "2022-08-02T19:13:48.375Z"
   },
   {
    "duration": 3,
    "start_time": "2022-08-02T19:14:32.993Z"
   },
   {
    "duration": 2,
    "start_time": "2022-08-02T19:15:13.349Z"
   },
   {
    "duration": 7,
    "start_time": "2022-08-02T19:15:27.827Z"
   },
   {
    "duration": 7,
    "start_time": "2022-08-02T19:24:44.806Z"
   },
   {
    "duration": 9,
    "start_time": "2022-08-02T19:25:01.965Z"
   },
   {
    "duration": 396,
    "start_time": "2022-08-02T19:32:11.557Z"
   },
   {
    "duration": 99,
    "start_time": "2022-08-02T19:32:11.955Z"
   },
   {
    "duration": 14,
    "start_time": "2022-08-02T19:32:12.055Z"
   },
   {
    "duration": 32,
    "start_time": "2022-08-02T19:32:12.071Z"
   },
   {
    "duration": 1976,
    "start_time": "2022-08-02T19:32:12.105Z"
   },
   {
    "duration": 8,
    "start_time": "2022-08-02T19:32:14.083Z"
   },
   {
    "duration": 578,
    "start_time": "2022-08-02T19:32:14.093Z"
   },
   {
    "duration": 5,
    "start_time": "2022-08-02T19:32:14.672Z"
   },
   {
    "duration": 19,
    "start_time": "2022-08-02T19:32:14.679Z"
   },
   {
    "duration": 31,
    "start_time": "2022-08-02T19:32:14.700Z"
   },
   {
    "duration": 19,
    "start_time": "2022-08-02T19:32:14.732Z"
   },
   {
    "duration": 18,
    "start_time": "2022-08-02T19:32:14.753Z"
   },
   {
    "duration": 18,
    "start_time": "2022-08-02T19:32:14.773Z"
   },
   {
    "duration": 23,
    "start_time": "2022-08-02T19:32:14.792Z"
   },
   {
    "duration": 28,
    "start_time": "2022-08-02T19:32:14.817Z"
   },
   {
    "duration": 187,
    "start_time": "2022-08-02T19:32:14.846Z"
   },
   {
    "duration": 11,
    "start_time": "2022-08-02T19:32:15.034Z"
   },
   {
    "duration": 14,
    "start_time": "2022-08-02T19:32:15.046Z"
   },
   {
    "duration": 32,
    "start_time": "2022-08-02T19:32:15.061Z"
   },
   {
    "duration": 27,
    "start_time": "2022-08-02T19:32:15.095Z"
   },
   {
    "duration": 19,
    "start_time": "2022-08-02T19:32:15.123Z"
   },
   {
    "duration": 22,
    "start_time": "2022-08-02T19:32:15.144Z"
   },
   {
    "duration": 17,
    "start_time": "2022-08-02T19:32:15.168Z"
   },
   {
    "duration": 1653,
    "start_time": "2022-08-02T19:32:15.186Z"
   },
   {
    "duration": 5,
    "start_time": "2022-08-02T19:32:16.840Z"
   },
   {
    "duration": 21,
    "start_time": "2022-08-02T19:32:16.846Z"
   },
   {
    "duration": 15,
    "start_time": "2022-08-02T19:32:16.869Z"
   },
   {
    "duration": 9,
    "start_time": "2022-08-02T19:32:16.890Z"
   },
   {
    "duration": 12,
    "start_time": "2022-08-02T19:32:16.901Z"
   },
   {
    "duration": 10,
    "start_time": "2022-08-02T19:32:16.932Z"
   },
   {
    "duration": 7,
    "start_time": "2022-08-02T19:32:16.944Z"
   },
   {
    "duration": 11,
    "start_time": "2022-08-02T19:32:16.953Z"
   },
   {
    "duration": 1693,
    "start_time": "2022-08-02T19:32:16.965Z"
   },
   {
    "duration": 1660,
    "start_time": "2022-08-02T19:32:18.660Z"
   },
   {
    "duration": 5,
    "start_time": "2022-08-02T19:32:20.322Z"
   },
   {
    "duration": 42,
    "start_time": "2022-08-02T19:32:20.331Z"
   },
   {
    "duration": 39,
    "start_time": "2022-08-02T19:32:20.374Z"
   },
   {
    "duration": 38,
    "start_time": "2022-08-02T19:32:20.414Z"
   },
   {
    "duration": 30,
    "start_time": "2022-08-02T19:32:20.453Z"
   },
   {
    "duration": 1616,
    "start_time": "2022-08-02T19:32:20.484Z"
   },
   {
    "duration": 1551,
    "start_time": "2022-08-02T19:32:22.102Z"
   },
   {
    "duration": 1602,
    "start_time": "2022-08-02T19:32:23.655Z"
   },
   {
    "duration": 4,
    "start_time": "2022-08-02T19:32:25.259Z"
   },
   {
    "duration": 20,
    "start_time": "2022-08-02T19:32:25.265Z"
   },
   {
    "duration": 23,
    "start_time": "2022-08-02T19:32:25.287Z"
   },
   {
    "duration": 49,
    "start_time": "2022-08-02T19:32:25.311Z"
   },
   {
    "duration": 12,
    "start_time": "2022-08-02T19:32:25.362Z"
   },
   {
    "duration": 19,
    "start_time": "2022-08-02T19:32:25.375Z"
   },
   {
    "duration": 24,
    "start_time": "2022-08-02T19:32:25.395Z"
   },
   {
    "duration": 32,
    "start_time": "2022-08-02T19:32:25.421Z"
   },
   {
    "duration": 14,
    "start_time": "2022-08-02T19:32:25.455Z"
   },
   {
    "duration": 23,
    "start_time": "2022-08-02T19:32:25.470Z"
   },
   {
    "duration": 27,
    "start_time": "2022-08-02T19:32:25.495Z"
   },
   {
    "duration": 207,
    "start_time": "2022-08-02T19:32:25.524Z"
   },
   {
    "duration": 3,
    "start_time": "2022-08-02T19:32:25.733Z"
   },
   {
    "duration": 485,
    "start_time": "2022-08-02T19:32:25.738Z"
   },
   {
    "duration": 190,
    "start_time": "2022-08-02T19:32:26.224Z"
   },
   {
    "duration": 182,
    "start_time": "2022-08-02T19:32:26.415Z"
   },
   {
    "duration": 2214,
    "start_time": "2022-08-02T19:32:26.599Z"
   },
   {
    "duration": 204,
    "start_time": "2022-08-02T19:32:28.815Z"
   },
   {
    "duration": 32,
    "start_time": "2022-08-02T19:32:29.020Z"
   },
   {
    "duration": 187,
    "start_time": "2022-08-02T19:32:29.053Z"
   },
   {
    "duration": 26,
    "start_time": "2022-08-02T19:32:29.242Z"
   },
   {
    "duration": 30,
    "start_time": "2022-08-02T19:32:29.270Z"
   },
   {
    "duration": 18,
    "start_time": "2022-08-02T19:32:29.301Z"
   },
   {
    "duration": 213,
    "start_time": "2022-08-02T19:32:29.320Z"
   },
   {
    "duration": 7,
    "start_time": "2022-08-02T19:32:29.534Z"
   },
   {
    "duration": 224,
    "start_time": "2022-08-02T19:32:29.542Z"
   },
   {
    "duration": 4,
    "start_time": "2022-08-02T19:32:29.768Z"
   },
   {
    "duration": 8,
    "start_time": "2022-08-02T19:32:29.773Z"
   },
   {
    "duration": 4,
    "start_time": "2022-08-02T19:32:29.783Z"
   },
   {
    "duration": 246,
    "start_time": "2022-08-02T19:32:29.789Z"
   },
   {
    "duration": 7,
    "start_time": "2022-08-02T19:32:30.037Z"
   },
   {
    "duration": 7,
    "start_time": "2022-08-02T19:32:30.046Z"
   },
   {
    "duration": 225,
    "start_time": "2022-08-02T19:32:30.055Z"
   },
   {
    "duration": 5,
    "start_time": "2022-08-02T19:32:30.282Z"
   },
   {
    "duration": 20,
    "start_time": "2022-08-02T19:32:30.288Z"
   },
   {
    "duration": 18,
    "start_time": "2022-08-02T19:32:30.310Z"
   },
   {
    "duration": 15,
    "start_time": "2022-08-02T19:32:30.330Z"
   },
   {
    "duration": 24,
    "start_time": "2022-08-02T19:32:30.347Z"
   },
   {
    "duration": 11,
    "start_time": "2022-08-02T19:32:30.372Z"
   },
   {
    "duration": 7,
    "start_time": "2022-08-02T19:32:30.388Z"
   },
   {
    "duration": 9,
    "start_time": "2022-08-02T19:32:30.396Z"
   },
   {
    "duration": 398,
    "start_time": "2022-08-02T19:32:30.407Z"
   },
   {
    "duration": 4,
    "start_time": "2022-08-02T19:32:30.806Z"
   },
   {
    "duration": 2653,
    "start_time": "2022-08-02T19:32:30.811Z"
   },
   {
    "duration": 215,
    "start_time": "2022-08-02T19:32:33.466Z"
   },
   {
    "duration": 572,
    "start_time": "2022-08-02T19:32:33.683Z"
   },
   {
    "duration": 226,
    "start_time": "2022-08-02T19:32:34.257Z"
   },
   {
    "duration": 32,
    "start_time": "2022-08-02T19:32:34.485Z"
   },
   {
    "duration": 444,
    "start_time": "2022-08-02T19:32:34.518Z"
   },
   {
    "duration": 385,
    "start_time": "2022-08-02T19:32:34.963Z"
   },
   {
    "duration": 792,
    "start_time": "2022-08-02T19:32:35.349Z"
   },
   {
    "duration": 414,
    "start_time": "2022-08-02T19:33:23.161Z"
   },
   {
    "duration": 417,
    "start_time": "2022-08-02T19:33:52.625Z"
   },
   {
    "duration": 87,
    "start_time": "2022-08-02T19:33:53.044Z"
   },
   {
    "duration": 14,
    "start_time": "2022-08-02T19:33:53.133Z"
   },
   {
    "duration": 35,
    "start_time": "2022-08-02T19:33:53.148Z"
   },
   {
    "duration": 1973,
    "start_time": "2022-08-02T19:33:53.185Z"
   },
   {
    "duration": 9,
    "start_time": "2022-08-02T19:33:55.159Z"
   },
   {
    "duration": 561,
    "start_time": "2022-08-02T19:33:55.170Z"
   },
   {
    "duration": 5,
    "start_time": "2022-08-02T19:33:55.733Z"
   },
   {
    "duration": 5,
    "start_time": "2022-08-02T19:33:55.740Z"
   },
   {
    "duration": 8,
    "start_time": "2022-08-02T19:33:55.746Z"
   },
   {
    "duration": 7,
    "start_time": "2022-08-02T19:33:55.755Z"
   },
   {
    "duration": 5,
    "start_time": "2022-08-02T19:33:55.764Z"
   },
   {
    "duration": 8,
    "start_time": "2022-08-02T19:33:55.771Z"
   },
   {
    "duration": 6,
    "start_time": "2022-08-02T19:33:55.783Z"
   },
   {
    "duration": 42,
    "start_time": "2022-08-02T19:33:55.790Z"
   },
   {
    "duration": 181,
    "start_time": "2022-08-02T19:33:55.834Z"
   },
   {
    "duration": 17,
    "start_time": "2022-08-02T19:33:56.017Z"
   },
   {
    "duration": 5,
    "start_time": "2022-08-02T19:33:56.036Z"
   },
   {
    "duration": 8,
    "start_time": "2022-08-02T19:33:56.043Z"
   },
   {
    "duration": 7,
    "start_time": "2022-08-02T19:33:56.053Z"
   },
   {
    "duration": 8,
    "start_time": "2022-08-02T19:33:56.061Z"
   },
   {
    "duration": 4,
    "start_time": "2022-08-02T19:33:56.071Z"
   },
   {
    "duration": 6,
    "start_time": "2022-08-02T19:33:56.076Z"
   },
   {
    "duration": 1636,
    "start_time": "2022-08-02T19:33:56.083Z"
   },
   {
    "duration": 11,
    "start_time": "2022-08-02T19:33:57.721Z"
   },
   {
    "duration": 18,
    "start_time": "2022-08-02T19:33:57.734Z"
   },
   {
    "duration": 13,
    "start_time": "2022-08-02T19:33:57.754Z"
   },
   {
    "duration": 11,
    "start_time": "2022-08-02T19:33:57.769Z"
   },
   {
    "duration": 12,
    "start_time": "2022-08-02T19:33:57.782Z"
   },
   {
    "duration": 46,
    "start_time": "2022-08-02T19:33:57.796Z"
   },
   {
    "duration": 9,
    "start_time": "2022-08-02T19:33:57.843Z"
   },
   {
    "duration": 8,
    "start_time": "2022-08-02T19:33:57.853Z"
   },
   {
    "duration": 1566,
    "start_time": "2022-08-02T19:33:57.862Z"
   },
   {
    "duration": 1604,
    "start_time": "2022-08-02T19:33:59.430Z"
   },
   {
    "duration": 5,
    "start_time": "2022-08-02T19:34:01.035Z"
   },
   {
    "duration": 7,
    "start_time": "2022-08-02T19:34:01.041Z"
   },
   {
    "duration": 12,
    "start_time": "2022-08-02T19:34:01.050Z"
   },
   {
    "duration": 10,
    "start_time": "2022-08-02T19:34:01.063Z"
   },
   {
    "duration": 7,
    "start_time": "2022-08-02T19:34:01.074Z"
   },
   {
    "duration": 1596,
    "start_time": "2022-08-02T19:34:01.082Z"
   },
   {
    "duration": 1612,
    "start_time": "2022-08-02T19:34:02.682Z"
   },
   {
    "duration": 1618,
    "start_time": "2022-08-02T19:34:04.295Z"
   },
   {
    "duration": 4,
    "start_time": "2022-08-02T19:34:05.914Z"
   },
   {
    "duration": 13,
    "start_time": "2022-08-02T19:34:05.919Z"
   },
   {
    "duration": 6,
    "start_time": "2022-08-02T19:34:05.933Z"
   },
   {
    "duration": 23,
    "start_time": "2022-08-02T19:34:05.940Z"
   },
   {
    "duration": 13,
    "start_time": "2022-08-02T19:34:05.964Z"
   },
   {
    "duration": 5,
    "start_time": "2022-08-02T19:34:05.978Z"
   },
   {
    "duration": 10,
    "start_time": "2022-08-02T19:34:05.984Z"
   },
   {
    "duration": 36,
    "start_time": "2022-08-02T19:34:05.996Z"
   },
   {
    "duration": 5,
    "start_time": "2022-08-02T19:34:06.033Z"
   },
   {
    "duration": 9,
    "start_time": "2022-08-02T19:34:06.040Z"
   },
   {
    "duration": 14,
    "start_time": "2022-08-02T19:34:06.051Z"
   },
   {
    "duration": 300,
    "start_time": "2022-08-02T19:34:06.067Z"
   },
   {
    "duration": 3,
    "start_time": "2022-08-02T19:34:06.368Z"
   },
   {
    "duration": 393,
    "start_time": "2022-08-02T19:34:06.373Z"
   },
   {
    "duration": 184,
    "start_time": "2022-08-02T19:34:06.767Z"
   },
   {
    "duration": 191,
    "start_time": "2022-08-02T19:34:06.953Z"
   },
   {
    "duration": 2229,
    "start_time": "2022-08-02T19:34:07.145Z"
   },
   {
    "duration": 206,
    "start_time": "2022-08-02T19:34:09.375Z"
   },
   {
    "duration": 30,
    "start_time": "2022-08-02T19:34:09.582Z"
   },
   {
    "duration": 202,
    "start_time": "2022-08-02T19:34:09.613Z"
   },
   {
    "duration": 30,
    "start_time": "2022-08-02T19:34:09.817Z"
   },
   {
    "duration": 7,
    "start_time": "2022-08-02T19:34:09.848Z"
   },
   {
    "duration": 7,
    "start_time": "2022-08-02T19:34:09.857Z"
   },
   {
    "duration": 245,
    "start_time": "2022-08-02T19:34:09.865Z"
   },
   {
    "duration": 8,
    "start_time": "2022-08-02T19:34:10.111Z"
   },
   {
    "duration": 420,
    "start_time": "2022-08-02T19:34:10.130Z"
   },
   {
    "duration": 4,
    "start_time": "2022-08-02T19:34:10.552Z"
   },
   {
    "duration": 5,
    "start_time": "2022-08-02T19:34:10.557Z"
   },
   {
    "duration": 341,
    "start_time": "2022-08-02T19:34:10.563Z"
   },
   {
    "duration": 6,
    "start_time": "2022-08-02T19:34:10.906Z"
   },
   {
    "duration": 3,
    "start_time": "2022-08-02T19:34:10.914Z"
   },
   {
    "duration": 193,
    "start_time": "2022-08-02T19:34:10.932Z"
   },
   {
    "duration": 4,
    "start_time": "2022-08-02T19:34:11.130Z"
   },
   {
    "duration": 6,
    "start_time": "2022-08-02T19:34:11.136Z"
   },
   {
    "duration": 4,
    "start_time": "2022-08-02T19:34:11.143Z"
   },
   {
    "duration": 8,
    "start_time": "2022-08-02T19:34:11.149Z"
   },
   {
    "duration": 6,
    "start_time": "2022-08-02T19:34:11.158Z"
   },
   {
    "duration": 7,
    "start_time": "2022-08-02T19:34:11.166Z"
   },
   {
    "duration": 5,
    "start_time": "2022-08-02T19:34:11.175Z"
   },
   {
    "duration": 3,
    "start_time": "2022-08-02T19:34:11.181Z"
   },
   {
    "duration": 284,
    "start_time": "2022-08-02T19:34:11.185Z"
   },
   {
    "duration": 3,
    "start_time": "2022-08-02T19:34:11.471Z"
   },
   {
    "duration": 2550,
    "start_time": "2022-08-02T19:34:11.475Z"
   },
   {
    "duration": 214,
    "start_time": "2022-08-02T19:34:14.027Z"
   },
   {
    "duration": 509,
    "start_time": "2022-08-02T19:34:14.242Z"
   },
   {
    "duration": 202,
    "start_time": "2022-08-02T19:34:14.753Z"
   },
   {
    "duration": 28,
    "start_time": "2022-08-02T19:34:14.957Z"
   },
   {
    "duration": 421,
    "start_time": "2022-08-02T19:34:14.987Z"
   },
   {
    "duration": 569,
    "start_time": "2022-08-02T19:34:15.410Z"
   },
   {
    "duration": 565,
    "start_time": "2022-08-02T19:34:15.981Z"
   },
   {
    "duration": 107,
    "start_time": "2022-08-02T19:48:43.798Z"
   },
   {
    "duration": 78,
    "start_time": "2022-08-02T19:49:55.032Z"
   },
   {
    "duration": 3,
    "start_time": "2022-08-02T19:50:08.689Z"
   },
   {
    "duration": 3,
    "start_time": "2022-08-02T19:52:35.767Z"
   },
   {
    "duration": 6,
    "start_time": "2022-08-02T19:53:07.044Z"
   },
   {
    "duration": 5,
    "start_time": "2022-08-02T19:53:19.286Z"
   },
   {
    "duration": 4,
    "start_time": "2022-08-02T19:53:39.567Z"
   },
   {
    "duration": 5,
    "start_time": "2022-08-02T19:54:10.178Z"
   },
   {
    "duration": 9,
    "start_time": "2022-08-02T19:54:13.964Z"
   },
   {
    "duration": 5,
    "start_time": "2022-08-02T19:55:21.055Z"
   },
   {
    "duration": 10,
    "start_time": "2022-08-02T19:55:25.208Z"
   },
   {
    "duration": 4,
    "start_time": "2022-08-02T19:55:32.436Z"
   },
   {
    "duration": 10,
    "start_time": "2022-08-02T19:55:34.752Z"
   },
   {
    "duration": 3,
    "start_time": "2022-08-02T19:55:40.010Z"
   },
   {
    "duration": 10,
    "start_time": "2022-08-02T19:55:41.443Z"
   },
   {
    "duration": 74,
    "start_time": "2022-08-02T19:56:52.444Z"
   },
   {
    "duration": 3,
    "start_time": "2022-08-02T19:57:09.193Z"
   },
   {
    "duration": 11,
    "start_time": "2022-08-02T19:57:12.755Z"
   },
   {
    "duration": 3,
    "start_time": "2022-08-02T19:57:53.276Z"
   },
   {
    "duration": 9,
    "start_time": "2022-08-02T19:57:58.243Z"
   },
   {
    "duration": 208,
    "start_time": "2022-08-02T19:58:06.551Z"
   },
   {
    "duration": 202,
    "start_time": "2022-08-02T19:58:23.443Z"
   },
   {
    "duration": 477,
    "start_time": "2022-08-03T08:46:06.023Z"
   },
   {
    "duration": 317,
    "start_time": "2022-08-03T08:46:06.504Z"
   },
   {
    "duration": 25,
    "start_time": "2022-08-03T08:46:06.824Z"
   },
   {
    "duration": 73,
    "start_time": "2022-08-03T08:46:06.851Z"
   },
   {
    "duration": 3432,
    "start_time": "2022-08-03T08:46:06.927Z"
   },
   {
    "duration": 12,
    "start_time": "2022-08-03T08:46:10.362Z"
   },
   {
    "duration": 859,
    "start_time": "2022-08-03T08:46:10.376Z"
   },
   {
    "duration": 9,
    "start_time": "2022-08-03T08:46:11.238Z"
   },
   {
    "duration": 7,
    "start_time": "2022-08-03T08:46:11.249Z"
   },
   {
    "duration": 9,
    "start_time": "2022-08-03T08:46:11.258Z"
   },
   {
    "duration": 41,
    "start_time": "2022-08-03T08:46:11.269Z"
   },
   {
    "duration": 15,
    "start_time": "2022-08-03T08:46:11.312Z"
   },
   {
    "duration": 12,
    "start_time": "2022-08-03T08:46:11.330Z"
   },
   {
    "duration": 12,
    "start_time": "2022-08-03T08:46:11.346Z"
   },
   {
    "duration": 10,
    "start_time": "2022-08-03T08:46:11.361Z"
   },
   {
    "duration": 290,
    "start_time": "2022-08-03T08:46:11.373Z"
   },
   {
    "duration": 11,
    "start_time": "2022-08-03T08:46:11.665Z"
   },
   {
    "duration": 6,
    "start_time": "2022-08-03T08:46:11.678Z"
   },
   {
    "duration": 29,
    "start_time": "2022-08-03T08:46:11.685Z"
   },
   {
    "duration": 25,
    "start_time": "2022-08-03T08:46:11.716Z"
   },
   {
    "duration": 17,
    "start_time": "2022-08-03T08:46:11.743Z"
   },
   {
    "duration": 9,
    "start_time": "2022-08-03T08:46:11.763Z"
   },
   {
    "duration": 15,
    "start_time": "2022-08-03T08:46:11.774Z"
   },
   {
    "duration": 2410,
    "start_time": "2022-08-03T08:46:11.791Z"
   },
   {
    "duration": 5,
    "start_time": "2022-08-03T08:46:14.204Z"
   },
   {
    "duration": 77,
    "start_time": "2022-08-03T08:46:14.211Z"
   },
   {
    "duration": 62,
    "start_time": "2022-08-03T08:46:14.291Z"
   },
   {
    "duration": 48,
    "start_time": "2022-08-03T08:46:14.355Z"
   },
   {
    "duration": 45,
    "start_time": "2022-08-03T08:46:14.405Z"
   },
   {
    "duration": 86,
    "start_time": "2022-08-03T08:46:14.453Z"
   },
   {
    "duration": 39,
    "start_time": "2022-08-03T08:46:14.541Z"
   },
   {
    "duration": 21,
    "start_time": "2022-08-03T08:46:14.582Z"
   },
   {
    "duration": 2200,
    "start_time": "2022-08-03T08:46:14.606Z"
   },
   {
    "duration": 2124,
    "start_time": "2022-08-03T08:46:16.809Z"
   },
   {
    "duration": 5,
    "start_time": "2022-08-03T08:46:18.935Z"
   },
   {
    "duration": 11,
    "start_time": "2022-08-03T08:46:18.942Z"
   },
   {
    "duration": 23,
    "start_time": "2022-08-03T08:46:18.955Z"
   },
   {
    "duration": 11,
    "start_time": "2022-08-03T08:46:18.980Z"
   },
   {
    "duration": 13,
    "start_time": "2022-08-03T08:46:19.006Z"
   },
   {
    "duration": 2228,
    "start_time": "2022-08-03T08:46:19.024Z"
   },
   {
    "duration": 2113,
    "start_time": "2022-08-03T08:46:21.257Z"
   },
   {
    "duration": 2081,
    "start_time": "2022-08-03T08:46:23.372Z"
   },
   {
    "duration": 6,
    "start_time": "2022-08-03T08:46:25.455Z"
   },
   {
    "duration": 19,
    "start_time": "2022-08-03T08:46:25.464Z"
   },
   {
    "duration": 12,
    "start_time": "2022-08-03T08:46:25.486Z"
   },
   {
    "duration": 35,
    "start_time": "2022-08-03T08:46:25.504Z"
   },
   {
    "duration": 20,
    "start_time": "2022-08-03T08:46:25.542Z"
   },
   {
    "duration": 7,
    "start_time": "2022-08-03T08:46:25.565Z"
   },
   {
    "duration": 37,
    "start_time": "2022-08-03T08:46:25.574Z"
   },
   {
    "duration": 36,
    "start_time": "2022-08-03T08:46:25.614Z"
   },
   {
    "duration": 5,
    "start_time": "2022-08-03T08:46:25.652Z"
   },
   {
    "duration": 19,
    "start_time": "2022-08-03T08:46:25.659Z"
   },
   {
    "duration": 27,
    "start_time": "2022-08-03T08:46:25.680Z"
   },
   {
    "duration": 267,
    "start_time": "2022-08-03T08:46:25.709Z"
   },
   {
    "duration": 5,
    "start_time": "2022-08-03T08:46:25.977Z"
   },
   {
    "duration": 546,
    "start_time": "2022-08-03T08:46:25.984Z"
   },
   {
    "duration": 329,
    "start_time": "2022-08-03T08:46:26.533Z"
   },
   {
    "duration": 296,
    "start_time": "2022-08-03T08:46:26.864Z"
   },
   {
    "duration": 2795,
    "start_time": "2022-08-03T08:46:27.162Z"
   },
   {
    "duration": 294,
    "start_time": "2022-08-03T08:46:29.959Z"
   },
   {
    "duration": 55,
    "start_time": "2022-08-03T08:46:30.256Z"
   },
   {
    "duration": 256,
    "start_time": "2022-08-03T08:46:30.313Z"
   },
   {
    "duration": 48,
    "start_time": "2022-08-03T08:46:30.572Z"
   },
   {
    "duration": 8,
    "start_time": "2022-08-03T08:46:30.622Z"
   },
   {
    "duration": 10,
    "start_time": "2022-08-03T08:46:30.632Z"
   },
   {
    "duration": 280,
    "start_time": "2022-08-03T08:46:30.644Z"
   },
   {
    "duration": 8,
    "start_time": "2022-08-03T08:46:30.925Z"
   },
   {
    "duration": 660,
    "start_time": "2022-08-03T08:46:30.935Z"
   },
   {
    "duration": 8,
    "start_time": "2022-08-03T08:46:31.597Z"
   },
   {
    "duration": 27,
    "start_time": "2022-08-03T08:46:31.607Z"
   },
   {
    "duration": 246,
    "start_time": "2022-08-03T08:46:31.636Z"
   },
   {
    "duration": 248,
    "start_time": "2022-08-03T08:46:31.884Z"
   },
   {
    "duration": 5,
    "start_time": "2022-08-03T08:46:32.134Z"
   },
   {
    "duration": 13,
    "start_time": "2022-08-03T08:46:32.141Z"
   },
   {
    "duration": 8,
    "start_time": "2022-08-03T08:46:32.156Z"
   },
   {
    "duration": 10,
    "start_time": "2022-08-03T08:46:32.166Z"
   },
   {
    "duration": 8,
    "start_time": "2022-08-03T08:46:32.178Z"
   },
   {
    "duration": 25,
    "start_time": "2022-08-03T08:46:32.203Z"
   },
   {
    "duration": 7,
    "start_time": "2022-08-03T08:46:32.230Z"
   },
   {
    "duration": 4,
    "start_time": "2022-08-03T08:46:32.239Z"
   },
   {
    "duration": 347,
    "start_time": "2022-08-03T08:46:32.245Z"
   },
   {
    "duration": 4,
    "start_time": "2022-08-03T08:46:32.594Z"
   },
   {
    "duration": 3132,
    "start_time": "2022-08-03T08:46:32.605Z"
   },
   {
    "duration": 261,
    "start_time": "2022-08-03T08:46:35.739Z"
   },
   {
    "duration": 625,
    "start_time": "2022-08-03T08:46:36.003Z"
   },
   {
    "duration": 269,
    "start_time": "2022-08-03T08:46:36.630Z"
   },
   {
    "duration": 46,
    "start_time": "2022-08-03T08:46:36.903Z"
   },
   {
    "duration": 660,
    "start_time": "2022-08-03T08:46:36.950Z"
   },
   {
    "duration": 454,
    "start_time": "2022-08-03T08:46:37.612Z"
   },
   {
    "duration": 739,
    "start_time": "2022-08-03T08:46:38.068Z"
   },
   {
    "duration": 8,
    "start_time": "2022-08-03T08:48:36.608Z"
   },
   {
    "duration": 70,
    "start_time": "2022-08-03T08:48:52.868Z"
   },
   {
    "duration": 25,
    "start_time": "2022-08-03T08:49:05.574Z"
   },
   {
    "duration": 10,
    "start_time": "2022-08-03T08:49:10.355Z"
   },
   {
    "duration": 11,
    "start_time": "2022-08-03T08:49:27.381Z"
   },
   {
    "duration": 8,
    "start_time": "2022-08-03T08:49:32.850Z"
   },
   {
    "duration": 6,
    "start_time": "2022-08-03T08:49:35.205Z"
   },
   {
    "duration": 7,
    "start_time": "2022-08-03T08:51:09.608Z"
   },
   {
    "duration": 7,
    "start_time": "2022-08-03T08:51:24.275Z"
   },
   {
    "duration": 9,
    "start_time": "2022-08-03T08:53:18.761Z"
   },
   {
    "duration": 4,
    "start_time": "2022-08-03T08:58:59.218Z"
   },
   {
    "duration": 4,
    "start_time": "2022-08-03T09:01:04.071Z"
   },
   {
    "duration": 5,
    "start_time": "2022-08-03T09:02:17.963Z"
   },
   {
    "duration": 5,
    "start_time": "2022-08-03T09:02:20.959Z"
   },
   {
    "duration": 5,
    "start_time": "2022-08-03T09:02:24.577Z"
   },
   {
    "duration": 11,
    "start_time": "2022-08-03T09:10:42.739Z"
   },
   {
    "duration": 6,
    "start_time": "2022-08-03T09:11:00.582Z"
   },
   {
    "duration": 11,
    "start_time": "2022-08-03T09:11:09.055Z"
   },
   {
    "duration": 5,
    "start_time": "2022-08-03T09:11:15.697Z"
   },
   {
    "duration": 1781,
    "start_time": "2022-08-03T09:12:19.223Z"
   },
   {
    "duration": 7,
    "start_time": "2022-08-03T09:12:29.588Z"
   },
   {
    "duration": 346,
    "start_time": "2022-08-03T09:12:39.638Z"
   },
   {
    "duration": 13,
    "start_time": "2022-08-03T09:13:24.123Z"
   },
   {
    "duration": 7,
    "start_time": "2022-08-03T09:13:26.038Z"
   },
   {
    "duration": 13,
    "start_time": "2022-08-03T09:13:55.075Z"
   },
   {
    "duration": 13,
    "start_time": "2022-08-03T09:18:11.715Z"
   },
   {
    "duration": 12,
    "start_time": "2022-08-03T09:18:28.625Z"
   },
   {
    "duration": 7,
    "start_time": "2022-08-03T09:20:10.113Z"
   },
   {
    "duration": 9,
    "start_time": "2022-08-03T09:20:47.081Z"
   },
   {
    "duration": 8,
    "start_time": "2022-08-03T09:37:11.241Z"
   },
   {
    "duration": 19,
    "start_time": "2022-08-03T09:37:14.184Z"
   },
   {
    "duration": 9,
    "start_time": "2022-08-03T09:37:20.215Z"
   },
   {
    "duration": 10,
    "start_time": "2022-08-03T09:37:40.407Z"
   },
   {
    "duration": 13,
    "start_time": "2022-08-03T09:37:42.720Z"
   },
   {
    "duration": 8,
    "start_time": "2022-08-03T09:37:44.214Z"
   },
   {
    "duration": 7,
    "start_time": "2022-08-03T09:38:20.519Z"
   },
   {
    "duration": 14,
    "start_time": "2022-08-03T09:38:22.116Z"
   },
   {
    "duration": 10,
    "start_time": "2022-08-03T09:38:22.983Z"
   },
   {
    "duration": 460,
    "start_time": "2022-08-03T09:40:13.456Z"
   },
   {
    "duration": 109,
    "start_time": "2022-08-03T09:40:13.919Z"
   },
   {
    "duration": 18,
    "start_time": "2022-08-03T09:40:14.031Z"
   },
   {
    "duration": 60,
    "start_time": "2022-08-03T09:40:14.051Z"
   },
   {
    "duration": 2559,
    "start_time": "2022-08-03T09:40:14.112Z"
   },
   {
    "duration": 14,
    "start_time": "2022-08-03T09:40:16.676Z"
   },
   {
    "duration": 757,
    "start_time": "2022-08-03T09:40:16.692Z"
   },
   {
    "duration": 5,
    "start_time": "2022-08-03T09:40:17.451Z"
   },
   {
    "duration": 15,
    "start_time": "2022-08-03T09:40:17.467Z"
   },
   {
    "duration": 13,
    "start_time": "2022-08-03T09:40:17.489Z"
   },
   {
    "duration": 15,
    "start_time": "2022-08-03T09:40:17.504Z"
   },
   {
    "duration": 7,
    "start_time": "2022-08-03T09:40:17.521Z"
   },
   {
    "duration": 17,
    "start_time": "2022-08-03T09:40:17.529Z"
   },
   {
    "duration": 7,
    "start_time": "2022-08-03T09:40:17.547Z"
   },
   {
    "duration": 18,
    "start_time": "2022-08-03T09:40:17.556Z"
   },
   {
    "duration": 224,
    "start_time": "2022-08-03T09:40:17.576Z"
   },
   {
    "duration": 11,
    "start_time": "2022-08-03T09:40:17.802Z"
   },
   {
    "duration": 6,
    "start_time": "2022-08-03T09:40:17.815Z"
   },
   {
    "duration": 9,
    "start_time": "2022-08-03T09:40:17.822Z"
   },
   {
    "duration": 12,
    "start_time": "2022-08-03T09:40:17.833Z"
   },
   {
    "duration": 24,
    "start_time": "2022-08-03T09:40:17.846Z"
   },
   {
    "duration": 23,
    "start_time": "2022-08-03T09:40:17.876Z"
   },
   {
    "duration": 9,
    "start_time": "2022-08-03T09:40:17.901Z"
   },
   {
    "duration": 33,
    "start_time": "2022-08-03T09:40:17.912Z"
   },
   {
    "duration": 15,
    "start_time": "2022-08-03T09:40:17.948Z"
   },
   {
    "duration": 10,
    "start_time": "2022-08-03T09:40:17.969Z"
   },
   {
    "duration": 12,
    "start_time": "2022-08-03T09:40:17.981Z"
   },
   {
    "duration": 5,
    "start_time": "2022-08-03T09:40:17.997Z"
   },
   {
    "duration": 1769,
    "start_time": "2022-08-03T09:40:18.004Z"
   },
   {
    "duration": 11,
    "start_time": "2022-08-03T09:40:19.777Z"
   },
   {
    "duration": 20,
    "start_time": "2022-08-03T09:40:19.790Z"
   },
   {
    "duration": 11,
    "start_time": "2022-08-03T09:40:19.812Z"
   },
   {
    "duration": 14,
    "start_time": "2022-08-03T09:40:19.825Z"
   },
   {
    "duration": 43,
    "start_time": "2022-08-03T09:40:19.841Z"
   },
   {
    "duration": 9,
    "start_time": "2022-08-03T09:40:19.886Z"
   },
   {
    "duration": 11,
    "start_time": "2022-08-03T09:40:19.896Z"
   },
   {
    "duration": 11,
    "start_time": "2022-08-03T09:40:19.909Z"
   },
   {
    "duration": 1793,
    "start_time": "2022-08-03T09:40:19.922Z"
   },
   {
    "duration": 1814,
    "start_time": "2022-08-03T09:40:21.716Z"
   },
   {
    "duration": 6,
    "start_time": "2022-08-03T09:40:23.533Z"
   },
   {
    "duration": 11,
    "start_time": "2022-08-03T09:40:23.541Z"
   },
   {
    "duration": 19,
    "start_time": "2022-08-03T09:40:23.554Z"
   },
   {
    "duration": 27,
    "start_time": "2022-08-03T09:40:23.574Z"
   },
   {
    "duration": 10,
    "start_time": "2022-08-03T09:40:23.602Z"
   },
   {
    "duration": 1805,
    "start_time": "2022-08-03T09:40:23.614Z"
   },
   {
    "duration": 1891,
    "start_time": "2022-08-03T09:40:25.421Z"
   },
   {
    "duration": 1795,
    "start_time": "2022-08-03T09:40:27.313Z"
   },
   {
    "duration": 5,
    "start_time": "2022-08-03T09:40:29.110Z"
   },
   {
    "duration": 28,
    "start_time": "2022-08-03T09:40:29.117Z"
   },
   {
    "duration": 6,
    "start_time": "2022-08-03T09:40:29.146Z"
   },
   {
    "duration": 35,
    "start_time": "2022-08-03T09:40:29.154Z"
   },
   {
    "duration": 15,
    "start_time": "2022-08-03T09:40:29.191Z"
   },
   {
    "duration": 6,
    "start_time": "2022-08-03T09:40:29.208Z"
   },
   {
    "duration": 12,
    "start_time": "2022-08-03T09:40:29.216Z"
   },
   {
    "duration": 18,
    "start_time": "2022-08-03T09:40:29.230Z"
   },
   {
    "duration": 11,
    "start_time": "2022-08-03T09:40:29.272Z"
   },
   {
    "duration": 26,
    "start_time": "2022-08-03T09:40:29.285Z"
   },
   {
    "duration": 20,
    "start_time": "2022-08-03T09:40:29.313Z"
   },
   {
    "duration": 251,
    "start_time": "2022-08-03T09:40:29.335Z"
   },
   {
    "duration": 4,
    "start_time": "2022-08-03T09:40:29.589Z"
   },
   {
    "duration": 679,
    "start_time": "2022-08-03T09:40:29.595Z"
   },
   {
    "duration": 233,
    "start_time": "2022-08-03T09:40:30.280Z"
   },
   {
    "duration": 244,
    "start_time": "2022-08-03T09:40:30.515Z"
   },
   {
    "duration": 2705,
    "start_time": "2022-08-03T09:40:30.760Z"
   },
   {
    "duration": 256,
    "start_time": "2022-08-03T09:40:33.467Z"
   },
   {
    "duration": 59,
    "start_time": "2022-08-03T09:40:33.725Z"
   },
   {
    "duration": 231,
    "start_time": "2022-08-03T09:40:33.786Z"
   },
   {
    "duration": 29,
    "start_time": "2022-08-03T09:40:34.019Z"
   },
   {
    "duration": 29,
    "start_time": "2022-08-03T09:40:34.050Z"
   },
   {
    "duration": 9,
    "start_time": "2022-08-03T09:40:34.081Z"
   },
   {
    "duration": 247,
    "start_time": "2022-08-03T09:40:34.092Z"
   },
   {
    "duration": 9,
    "start_time": "2022-08-03T09:40:34.340Z"
   },
   {
    "duration": 509,
    "start_time": "2022-08-03T09:40:34.351Z"
   },
   {
    "duration": 13,
    "start_time": "2022-08-03T09:40:34.862Z"
   },
   {
    "duration": 26,
    "start_time": "2022-08-03T09:40:34.877Z"
   },
   {
    "duration": 250,
    "start_time": "2022-08-03T09:40:34.905Z"
   },
   {
    "duration": 396,
    "start_time": "2022-08-03T09:40:35.157Z"
   },
   {
    "duration": 4,
    "start_time": "2022-08-03T09:40:35.555Z"
   },
   {
    "duration": 71,
    "start_time": "2022-08-03T09:40:35.568Z"
   },
   {
    "duration": 92,
    "start_time": "2022-08-03T09:40:35.641Z"
   },
   {
    "duration": 67,
    "start_time": "2022-08-03T09:40:35.735Z"
   },
   {
    "duration": 33,
    "start_time": "2022-08-03T09:40:35.807Z"
   },
   {
    "duration": 29,
    "start_time": "2022-08-03T09:40:35.841Z"
   },
   {
    "duration": 19,
    "start_time": "2022-08-03T09:40:35.874Z"
   },
   {
    "duration": 12,
    "start_time": "2022-08-03T09:40:35.895Z"
   },
   {
    "duration": 337,
    "start_time": "2022-08-03T09:40:35.909Z"
   },
   {
    "duration": 5,
    "start_time": "2022-08-03T09:40:36.248Z"
   },
   {
    "duration": 3306,
    "start_time": "2022-08-03T09:40:36.256Z"
   },
   {
    "duration": 269,
    "start_time": "2022-08-03T09:40:39.567Z"
   },
   {
    "duration": 669,
    "start_time": "2022-08-03T09:40:39.838Z"
   },
   {
    "duration": 250,
    "start_time": "2022-08-03T09:40:40.509Z"
   },
   {
    "duration": 43,
    "start_time": "2022-08-03T09:40:40.760Z"
   },
   {
    "duration": 507,
    "start_time": "2022-08-03T09:40:40.805Z"
   },
   {
    "duration": 644,
    "start_time": "2022-08-03T09:40:41.314Z"
   },
   {
    "duration": 678,
    "start_time": "2022-08-03T09:40:41.960Z"
   },
   {
    "duration": 10,
    "start_time": "2022-08-03T09:44:24.666Z"
   },
   {
    "duration": 9,
    "start_time": "2022-08-03T09:44:49.079Z"
   },
   {
    "duration": 7,
    "start_time": "2022-08-03T09:45:03.132Z"
   },
   {
    "duration": 9,
    "start_time": "2022-08-03T09:45:34.699Z"
   },
   {
    "duration": 9,
    "start_time": "2022-08-03T09:46:40.927Z"
   },
   {
    "duration": 7,
    "start_time": "2022-08-03T09:46:42.831Z"
   },
   {
    "duration": 476,
    "start_time": "2022-08-03T09:46:56.264Z"
   },
   {
    "duration": 108,
    "start_time": "2022-08-03T09:46:56.742Z"
   },
   {
    "duration": 19,
    "start_time": "2022-08-03T09:46:56.852Z"
   },
   {
    "duration": 36,
    "start_time": "2022-08-03T09:46:56.873Z"
   },
   {
    "duration": 2303,
    "start_time": "2022-08-03T09:46:56.910Z"
   },
   {
    "duration": 10,
    "start_time": "2022-08-03T09:46:59.215Z"
   },
   {
    "duration": 677,
    "start_time": "2022-08-03T09:46:59.226Z"
   },
   {
    "duration": 5,
    "start_time": "2022-08-03T09:46:59.905Z"
   },
   {
    "duration": 6,
    "start_time": "2022-08-03T09:46:59.912Z"
   },
   {
    "duration": 10,
    "start_time": "2022-08-03T09:46:59.922Z"
   },
   {
    "duration": 36,
    "start_time": "2022-08-03T09:46:59.933Z"
   },
   {
    "duration": 6,
    "start_time": "2022-08-03T09:46:59.970Z"
   },
   {
    "duration": 13,
    "start_time": "2022-08-03T09:46:59.978Z"
   },
   {
    "duration": 5,
    "start_time": "2022-08-03T09:46:59.992Z"
   },
   {
    "duration": 11,
    "start_time": "2022-08-03T09:46:59.999Z"
   },
   {
    "duration": 224,
    "start_time": "2022-08-03T09:47:00.012Z"
   },
   {
    "duration": 12,
    "start_time": "2022-08-03T09:47:00.238Z"
   },
   {
    "duration": 20,
    "start_time": "2022-08-03T09:47:00.252Z"
   },
   {
    "duration": 12,
    "start_time": "2022-08-03T09:47:00.274Z"
   },
   {
    "duration": 11,
    "start_time": "2022-08-03T09:47:00.287Z"
   },
   {
    "duration": 13,
    "start_time": "2022-08-03T09:47:00.300Z"
   },
   {
    "duration": 7,
    "start_time": "2022-08-03T09:47:00.316Z"
   },
   {
    "duration": 43,
    "start_time": "2022-08-03T09:47:00.325Z"
   },
   {
    "duration": 10,
    "start_time": "2022-08-03T09:47:00.371Z"
   },
   {
    "duration": 15,
    "start_time": "2022-08-03T09:47:00.383Z"
   },
   {
    "duration": 16,
    "start_time": "2022-08-03T09:47:00.400Z"
   },
   {
    "duration": 9,
    "start_time": "2022-08-03T09:47:00.419Z"
   },
   {
    "duration": 1853,
    "start_time": "2022-08-03T09:47:00.432Z"
   },
   {
    "duration": 5,
    "start_time": "2022-08-03T09:47:02.286Z"
   },
   {
    "duration": 37,
    "start_time": "2022-08-03T09:47:02.292Z"
   },
   {
    "duration": 12,
    "start_time": "2022-08-03T09:47:02.330Z"
   },
   {
    "duration": 11,
    "start_time": "2022-08-03T09:47:02.344Z"
   },
   {
    "duration": 15,
    "start_time": "2022-08-03T09:47:02.357Z"
   },
   {
    "duration": 15,
    "start_time": "2022-08-03T09:47:02.374Z"
   },
   {
    "duration": 6,
    "start_time": "2022-08-03T09:47:02.391Z"
   },
   {
    "duration": 10,
    "start_time": "2022-08-03T09:47:02.399Z"
   },
   {
    "duration": 1619,
    "start_time": "2022-08-03T09:47:02.411Z"
   },
   {
    "duration": 1550,
    "start_time": "2022-08-03T09:47:04.031Z"
   },
   {
    "duration": 5,
    "start_time": "2022-08-03T09:47:05.583Z"
   },
   {
    "duration": 27,
    "start_time": "2022-08-03T09:47:05.590Z"
   },
   {
    "duration": 26,
    "start_time": "2022-08-03T09:47:05.619Z"
   },
   {
    "duration": 32,
    "start_time": "2022-08-03T09:47:05.647Z"
   },
   {
    "duration": 12,
    "start_time": "2022-08-03T09:47:05.681Z"
   },
   {
    "duration": 1662,
    "start_time": "2022-08-03T09:47:05.695Z"
   },
   {
    "duration": 1592,
    "start_time": "2022-08-03T09:47:07.358Z"
   },
   {
    "duration": 1639,
    "start_time": "2022-08-03T09:47:08.952Z"
   },
   {
    "duration": 5,
    "start_time": "2022-08-03T09:47:10.593Z"
   },
   {
    "duration": 10,
    "start_time": "2022-08-03T09:47:10.600Z"
   },
   {
    "duration": 9,
    "start_time": "2022-08-03T09:47:10.611Z"
   },
   {
    "duration": 27,
    "start_time": "2022-08-03T09:47:10.621Z"
   },
   {
    "duration": 29,
    "start_time": "2022-08-03T09:47:10.650Z"
   },
   {
    "duration": 8,
    "start_time": "2022-08-03T09:47:10.681Z"
   },
   {
    "duration": 10,
    "start_time": "2022-08-03T09:47:10.691Z"
   },
   {
    "duration": 16,
    "start_time": "2022-08-03T09:47:10.703Z"
   },
   {
    "duration": 6,
    "start_time": "2022-08-03T09:47:10.720Z"
   },
   {
    "duration": 17,
    "start_time": "2022-08-03T09:47:10.727Z"
   },
   {
    "duration": 15,
    "start_time": "2022-08-03T09:47:10.767Z"
   },
   {
    "duration": 258,
    "start_time": "2022-08-03T09:47:10.784Z"
   },
   {
    "duration": 5,
    "start_time": "2022-08-03T09:47:11.044Z"
   },
   {
    "duration": 581,
    "start_time": "2022-08-03T09:47:11.050Z"
   },
   {
    "duration": 222,
    "start_time": "2022-08-03T09:47:11.633Z"
   },
   {
    "duration": 226,
    "start_time": "2022-08-03T09:47:11.857Z"
   },
   {
    "duration": 2482,
    "start_time": "2022-08-03T09:47:12.085Z"
   },
   {
    "duration": 243,
    "start_time": "2022-08-03T09:47:14.569Z"
   },
   {
    "duration": 33,
    "start_time": "2022-08-03T09:47:14.814Z"
   },
   {
    "duration": 285,
    "start_time": "2022-08-03T09:47:14.849Z"
   },
   {
    "duration": 35,
    "start_time": "2022-08-03T09:47:15.136Z"
   },
   {
    "duration": 8,
    "start_time": "2022-08-03T09:47:15.173Z"
   },
   {
    "duration": 7,
    "start_time": "2022-08-03T09:47:15.183Z"
   },
   {
    "duration": 312,
    "start_time": "2022-08-03T09:47:15.192Z"
   },
   {
    "duration": 61,
    "start_time": "2022-08-03T09:47:15.507Z"
   },
   {
    "duration": 708,
    "start_time": "2022-08-03T09:47:15.570Z"
   },
   {
    "duration": 3,
    "start_time": "2022-08-03T09:47:16.281Z"
   },
   {
    "duration": 17,
    "start_time": "2022-08-03T09:47:16.285Z"
   },
   {
    "duration": 282,
    "start_time": "2022-08-03T09:47:16.304Z"
   },
   {
    "duration": 455,
    "start_time": "2022-08-03T09:47:16.588Z"
   },
   {
    "duration": 4,
    "start_time": "2022-08-03T09:47:17.045Z"
   },
   {
    "duration": 20,
    "start_time": "2022-08-03T09:47:17.051Z"
   },
   {
    "duration": 6,
    "start_time": "2022-08-03T09:47:17.073Z"
   },
   {
    "duration": 9,
    "start_time": "2022-08-03T09:47:17.081Z"
   },
   {
    "duration": 7,
    "start_time": "2022-08-03T09:47:17.092Z"
   },
   {
    "duration": 7,
    "start_time": "2022-08-03T09:47:17.105Z"
   },
   {
    "duration": 10,
    "start_time": "2022-08-03T09:47:17.114Z"
   },
   {
    "duration": 41,
    "start_time": "2022-08-03T09:47:17.126Z"
   },
   {
    "duration": 316,
    "start_time": "2022-08-03T09:47:17.169Z"
   },
   {
    "duration": 5,
    "start_time": "2022-08-03T09:47:17.487Z"
   },
   {
    "duration": 2986,
    "start_time": "2022-08-03T09:47:17.494Z"
   },
   {
    "duration": 253,
    "start_time": "2022-08-03T09:47:20.482Z"
   },
   {
    "duration": 618,
    "start_time": "2022-08-03T09:47:20.737Z"
   },
   {
    "duration": 271,
    "start_time": "2022-08-03T09:47:21.358Z"
   },
   {
    "duration": 44,
    "start_time": "2022-08-03T09:47:21.631Z"
   },
   {
    "duration": 472,
    "start_time": "2022-08-03T09:47:21.677Z"
   },
   {
    "duration": 639,
    "start_time": "2022-08-03T09:47:22.151Z"
   },
   {
    "duration": 670,
    "start_time": "2022-08-03T09:47:22.792Z"
   },
   {
    "duration": 6,
    "start_time": "2022-08-03T09:47:57.877Z"
   },
   {
    "duration": 5,
    "start_time": "2022-08-03T09:48:11.648Z"
   },
   {
    "duration": 471,
    "start_time": "2022-08-03T09:48:16.266Z"
   },
   {
    "duration": 105,
    "start_time": "2022-08-03T09:48:16.739Z"
   },
   {
    "duration": 29,
    "start_time": "2022-08-03T09:48:16.847Z"
   },
   {
    "duration": 50,
    "start_time": "2022-08-03T09:48:16.879Z"
   },
   {
    "duration": 2450,
    "start_time": "2022-08-03T09:48:16.931Z"
   },
   {
    "duration": 10,
    "start_time": "2022-08-03T09:48:19.383Z"
   },
   {
    "duration": 666,
    "start_time": "2022-08-03T09:48:19.394Z"
   },
   {
    "duration": 9,
    "start_time": "2022-08-03T09:48:20.062Z"
   },
   {
    "duration": 8,
    "start_time": "2022-08-03T09:48:20.073Z"
   },
   {
    "duration": 14,
    "start_time": "2022-08-03T09:48:20.083Z"
   },
   {
    "duration": 18,
    "start_time": "2022-08-03T09:48:20.098Z"
   },
   {
    "duration": 8,
    "start_time": "2022-08-03T09:48:20.118Z"
   },
   {
    "duration": 14,
    "start_time": "2022-08-03T09:48:20.128Z"
   },
   {
    "duration": 6,
    "start_time": "2022-08-03T09:48:20.144Z"
   },
   {
    "duration": 18,
    "start_time": "2022-08-03T09:48:20.151Z"
   },
   {
    "duration": 214,
    "start_time": "2022-08-03T09:48:20.172Z"
   },
   {
    "duration": 11,
    "start_time": "2022-08-03T09:48:20.388Z"
   },
   {
    "duration": 5,
    "start_time": "2022-08-03T09:48:20.401Z"
   },
   {
    "duration": 13,
    "start_time": "2022-08-03T09:48:20.408Z"
   },
   {
    "duration": 11,
    "start_time": "2022-08-03T09:48:20.423Z"
   },
   {
    "duration": 13,
    "start_time": "2022-08-03T09:48:20.435Z"
   },
   {
    "duration": 7,
    "start_time": "2022-08-03T09:48:20.468Z"
   },
   {
    "duration": 14,
    "start_time": "2022-08-03T09:48:20.476Z"
   },
   {
    "duration": 18,
    "start_time": "2022-08-03T09:48:20.492Z"
   },
   {
    "duration": 9,
    "start_time": "2022-08-03T09:48:20.512Z"
   },
   {
    "duration": 19,
    "start_time": "2022-08-03T09:48:20.522Z"
   },
   {
    "duration": 6,
    "start_time": "2022-08-03T09:48:20.543Z"
   },
   {
    "duration": 22,
    "start_time": "2022-08-03T09:48:20.553Z"
   },
   {
    "duration": 13,
    "start_time": "2022-08-03T09:48:20.577Z"
   },
   {
    "duration": 1642,
    "start_time": "2022-08-03T09:48:20.591Z"
   },
   {
    "duration": 11,
    "start_time": "2022-08-03T09:48:22.234Z"
   },
   {
    "duration": 21,
    "start_time": "2022-08-03T09:48:22.247Z"
   },
   {
    "duration": 10,
    "start_time": "2022-08-03T09:48:22.270Z"
   },
   {
    "duration": 9,
    "start_time": "2022-08-03T09:48:22.282Z"
   },
   {
    "duration": 9,
    "start_time": "2022-08-03T09:48:22.293Z"
   },
   {
    "duration": 9,
    "start_time": "2022-08-03T09:48:22.304Z"
   },
   {
    "duration": 7,
    "start_time": "2022-08-03T09:48:22.315Z"
   },
   {
    "duration": 45,
    "start_time": "2022-08-03T09:48:22.324Z"
   },
   {
    "duration": 1503,
    "start_time": "2022-08-03T09:48:22.370Z"
   },
   {
    "duration": 1483,
    "start_time": "2022-08-03T09:48:23.874Z"
   },
   {
    "duration": 10,
    "start_time": "2022-08-03T09:48:25.359Z"
   },
   {
    "duration": 9,
    "start_time": "2022-08-03T09:48:25.371Z"
   },
   {
    "duration": 9,
    "start_time": "2022-08-03T09:48:25.381Z"
   },
   {
    "duration": 8,
    "start_time": "2022-08-03T09:48:25.391Z"
   },
   {
    "duration": 11,
    "start_time": "2022-08-03T09:48:25.401Z"
   },
   {
    "duration": 1617,
    "start_time": "2022-08-03T09:48:25.414Z"
   },
   {
    "duration": 1494,
    "start_time": "2022-08-03T09:48:27.033Z"
   },
   {
    "duration": 1476,
    "start_time": "2022-08-03T09:48:28.529Z"
   },
   {
    "duration": 6,
    "start_time": "2022-08-03T09:48:30.006Z"
   },
   {
    "duration": 14,
    "start_time": "2022-08-03T09:48:30.013Z"
   },
   {
    "duration": 13,
    "start_time": "2022-08-03T09:48:30.029Z"
   },
   {
    "duration": 35,
    "start_time": "2022-08-03T09:48:30.044Z"
   },
   {
    "duration": 13,
    "start_time": "2022-08-03T09:48:30.081Z"
   },
   {
    "duration": 5,
    "start_time": "2022-08-03T09:48:30.095Z"
   },
   {
    "duration": 13,
    "start_time": "2022-08-03T09:48:30.101Z"
   },
   {
    "duration": 24,
    "start_time": "2022-08-03T09:48:30.116Z"
   },
   {
    "duration": 5,
    "start_time": "2022-08-03T09:48:30.142Z"
   },
   {
    "duration": 9,
    "start_time": "2022-08-03T09:48:30.168Z"
   },
   {
    "duration": 22,
    "start_time": "2022-08-03T09:48:30.179Z"
   },
   {
    "duration": 209,
    "start_time": "2022-08-03T09:48:30.203Z"
   },
   {
    "duration": 3,
    "start_time": "2022-08-03T09:48:30.414Z"
   },
   {
    "duration": 541,
    "start_time": "2022-08-03T09:48:30.419Z"
   },
   {
    "duration": 216,
    "start_time": "2022-08-03T09:48:30.962Z"
   },
   {
    "duration": 221,
    "start_time": "2022-08-03T09:48:31.180Z"
   },
   {
    "duration": 2411,
    "start_time": "2022-08-03T09:48:31.403Z"
   },
   {
    "duration": 215,
    "start_time": "2022-08-03T09:48:33.816Z"
   },
   {
    "duration": 38,
    "start_time": "2022-08-03T09:48:34.032Z"
   },
   {
    "duration": 202,
    "start_time": "2022-08-03T09:48:34.071Z"
   },
   {
    "duration": 28,
    "start_time": "2022-08-03T09:48:34.275Z"
   },
   {
    "duration": 14,
    "start_time": "2022-08-03T09:48:34.305Z"
   },
   {
    "duration": 8,
    "start_time": "2022-08-03T09:48:34.320Z"
   },
   {
    "duration": 240,
    "start_time": "2022-08-03T09:48:34.330Z"
   },
   {
    "duration": 8,
    "start_time": "2022-08-03T09:48:34.571Z"
   },
   {
    "duration": 449,
    "start_time": "2022-08-03T09:48:34.581Z"
   },
   {
    "duration": 3,
    "start_time": "2022-08-03T09:48:35.032Z"
   },
   {
    "duration": 14,
    "start_time": "2022-08-03T09:48:35.037Z"
   },
   {
    "duration": 234,
    "start_time": "2022-08-03T09:48:35.053Z"
   },
   {
    "duration": 381,
    "start_time": "2022-08-03T09:48:35.289Z"
   },
   {
    "duration": 5,
    "start_time": "2022-08-03T09:48:35.671Z"
   },
   {
    "duration": 6,
    "start_time": "2022-08-03T09:48:35.677Z"
   },
   {
    "duration": 7,
    "start_time": "2022-08-03T09:48:35.685Z"
   },
   {
    "duration": 6,
    "start_time": "2022-08-03T09:48:35.697Z"
   },
   {
    "duration": 7,
    "start_time": "2022-08-03T09:48:35.705Z"
   },
   {
    "duration": 10,
    "start_time": "2022-08-03T09:48:35.713Z"
   },
   {
    "duration": 6,
    "start_time": "2022-08-03T09:48:35.725Z"
   },
   {
    "duration": 3,
    "start_time": "2022-08-03T09:48:35.732Z"
   },
   {
    "duration": 279,
    "start_time": "2022-08-03T09:48:35.768Z"
   },
   {
    "duration": 3,
    "start_time": "2022-08-03T09:48:36.049Z"
   },
   {
    "duration": 2907,
    "start_time": "2022-08-03T09:48:36.054Z"
   },
   {
    "duration": 241,
    "start_time": "2022-08-03T09:48:38.967Z"
   },
   {
    "duration": 557,
    "start_time": "2022-08-03T09:48:39.210Z"
   },
   {
    "duration": 223,
    "start_time": "2022-08-03T09:48:39.769Z"
   },
   {
    "duration": 33,
    "start_time": "2022-08-03T09:48:39.994Z"
   },
   {
    "duration": 491,
    "start_time": "2022-08-03T09:48:40.030Z"
   },
   {
    "duration": 610,
    "start_time": "2022-08-03T09:48:40.523Z"
   },
   {
    "duration": 694,
    "start_time": "2022-08-03T09:48:41.135Z"
   },
   {
    "duration": 959,
    "start_time": "2022-08-03T09:51:23.322Z"
   },
   {
    "duration": 937,
    "start_time": "2022-08-03T09:51:37.020Z"
   },
   {
    "duration": 454,
    "start_time": "2022-08-03T09:52:15.059Z"
   },
   {
    "duration": 742,
    "start_time": "2022-08-03T09:52:27.948Z"
   },
   {
    "duration": 1032,
    "start_time": "2022-08-03T09:52:56.489Z"
   },
   {
    "duration": 9,
    "start_time": "2022-08-03T09:55:06.323Z"
   },
   {
    "duration": 9,
    "start_time": "2022-08-03T09:55:14.266Z"
   },
   {
    "duration": 9,
    "start_time": "2022-08-03T09:55:28.972Z"
   },
   {
    "duration": 10,
    "start_time": "2022-08-03T09:55:30.543Z"
   },
   {
    "duration": 258,
    "start_time": "2022-08-03T10:38:17.767Z"
   },
   {
    "duration": 317,
    "start_time": "2022-08-03T10:38:22.371Z"
   },
   {
    "duration": 263,
    "start_time": "2022-08-03T10:38:26.027Z"
   },
   {
    "duration": 6,
    "start_time": "2022-08-03T10:39:02.014Z"
   },
   {
    "duration": 5,
    "start_time": "2022-08-03T10:39:08.562Z"
   },
   {
    "duration": 962,
    "start_time": "2022-08-03T10:41:19.844Z"
   },
   {
    "duration": 279,
    "start_time": "2022-08-03T10:41:52.663Z"
   },
   {
    "duration": 236,
    "start_time": "2022-08-03T10:42:27.537Z"
   },
   {
    "duration": 740,
    "start_time": "2022-08-03T10:42:42.333Z"
   },
   {
    "duration": 471,
    "start_time": "2022-08-03T10:43:53.541Z"
   },
   {
    "duration": 451,
    "start_time": "2022-08-03T10:48:55.585Z"
   },
   {
    "duration": 443,
    "start_time": "2022-08-03T10:53:51.776Z"
   },
   {
    "duration": 493,
    "start_time": "2022-08-03T10:53:56.981Z"
   },
   {
    "duration": 434,
    "start_time": "2022-08-03T10:54:08.189Z"
   },
   {
    "duration": 426,
    "start_time": "2022-08-03T10:54:15.228Z"
   },
   {
    "duration": 469,
    "start_time": "2022-08-03T10:54:20.149Z"
   },
   {
    "duration": 527,
    "start_time": "2022-08-03T10:55:23.031Z"
   },
   {
    "duration": 718,
    "start_time": "2022-08-03T10:55:29.549Z"
   },
   {
    "duration": 689,
    "start_time": "2022-08-03T10:58:26.650Z"
   },
   {
    "duration": 889,
    "start_time": "2022-08-03T11:02:49.388Z"
   },
   {
    "duration": 1058,
    "start_time": "2022-08-03T11:03:56.195Z"
   },
   {
    "duration": 951,
    "start_time": "2022-08-03T11:04:40.980Z"
   },
   {
    "duration": 1299,
    "start_time": "2022-08-03T11:07:05.130Z"
   },
   {
    "duration": 957,
    "start_time": "2022-08-03T11:07:13.779Z"
   },
   {
    "duration": 1164,
    "start_time": "2022-08-03T11:07:29.775Z"
   },
   {
    "duration": 1115,
    "start_time": "2022-08-03T11:07:39.024Z"
   },
   {
    "duration": 1146,
    "start_time": "2022-08-03T11:07:43.945Z"
   },
   {
    "duration": 79,
    "start_time": "2022-08-03T11:19:10.462Z"
   },
   {
    "duration": 16,
    "start_time": "2022-08-03T11:19:13.534Z"
   },
   {
    "duration": 5682,
    "start_time": "2022-08-03T11:19:24.279Z"
   },
   {
    "duration": 16,
    "start_time": "2022-08-03T11:19:43.033Z"
   },
   {
    "duration": 189,
    "start_time": "2022-08-03T11:20:05.329Z"
   },
   {
    "duration": 210,
    "start_time": "2022-08-03T11:31:51.443Z"
   },
   {
    "duration": 1198,
    "start_time": "2022-08-03T11:31:51.655Z"
   },
   {
    "duration": 9,
    "start_time": "2022-08-03T12:17:40.562Z"
   },
   {
    "duration": 315370,
    "start_time": "2022-08-03T12:23:32.959Z"
   },
   {
    "duration": 455,
    "start_time": "2022-08-03T12:50:09.765Z"
   },
   {
    "duration": 143,
    "start_time": "2022-08-03T12:50:10.222Z"
   },
   {
    "duration": 17,
    "start_time": "2022-08-03T12:50:10.367Z"
   },
   {
    "duration": 39,
    "start_time": "2022-08-03T12:50:10.386Z"
   },
   {
    "duration": 2215,
    "start_time": "2022-08-03T12:50:10.427Z"
   },
   {
    "duration": 9,
    "start_time": "2022-08-03T12:50:12.643Z"
   },
   {
    "duration": 655,
    "start_time": "2022-08-03T12:50:12.653Z"
   },
   {
    "duration": 6,
    "start_time": "2022-08-03T12:50:13.309Z"
   },
   {
    "duration": 7,
    "start_time": "2022-08-03T12:50:13.316Z"
   },
   {
    "duration": 9,
    "start_time": "2022-08-03T12:50:13.325Z"
   },
   {
    "duration": 36,
    "start_time": "2022-08-03T12:50:13.336Z"
   },
   {
    "duration": 7,
    "start_time": "2022-08-03T12:50:13.374Z"
   },
   {
    "duration": 10,
    "start_time": "2022-08-03T12:50:13.383Z"
   },
   {
    "duration": 6,
    "start_time": "2022-08-03T12:50:13.394Z"
   },
   {
    "duration": 6,
    "start_time": "2022-08-03T12:50:13.402Z"
   },
   {
    "duration": 239,
    "start_time": "2022-08-03T12:50:13.410Z"
   },
   {
    "duration": 18,
    "start_time": "2022-08-03T12:50:13.650Z"
   },
   {
    "duration": 5,
    "start_time": "2022-08-03T12:50:13.670Z"
   },
   {
    "duration": 7,
    "start_time": "2022-08-03T12:50:13.676Z"
   },
   {
    "duration": 7,
    "start_time": "2022-08-03T12:50:13.685Z"
   },
   {
    "duration": 9,
    "start_time": "2022-08-03T12:50:13.693Z"
   },
   {
    "duration": 5,
    "start_time": "2022-08-03T12:50:13.704Z"
   },
   {
    "duration": 17,
    "start_time": "2022-08-03T12:50:13.711Z"
   },
   {
    "duration": 9,
    "start_time": "2022-08-03T12:50:13.767Z"
   },
   {
    "duration": 6,
    "start_time": "2022-08-03T12:50:13.778Z"
   },
   {
    "duration": 7,
    "start_time": "2022-08-03T12:50:13.785Z"
   },
   {
    "duration": 7,
    "start_time": "2022-08-03T12:50:13.793Z"
   },
   {
    "duration": 1551,
    "start_time": "2022-08-03T12:50:13.805Z"
   },
   {
    "duration": 10,
    "start_time": "2022-08-03T12:50:15.358Z"
   },
   {
    "duration": 14,
    "start_time": "2022-08-03T12:50:15.370Z"
   },
   {
    "duration": 10,
    "start_time": "2022-08-03T12:50:15.386Z"
   },
   {
    "duration": 9,
    "start_time": "2022-08-03T12:50:15.397Z"
   },
   {
    "duration": 10,
    "start_time": "2022-08-03T12:50:15.407Z"
   },
   {
    "duration": 53,
    "start_time": "2022-08-03T12:50:15.419Z"
   },
   {
    "duration": 8,
    "start_time": "2022-08-03T12:50:15.474Z"
   },
   {
    "duration": 8,
    "start_time": "2022-08-03T12:50:15.484Z"
   },
   {
    "duration": 1628,
    "start_time": "2022-08-03T12:50:15.494Z"
   },
   {
    "duration": 1553,
    "start_time": "2022-08-03T12:50:17.124Z"
   },
   {
    "duration": 13,
    "start_time": "2022-08-03T12:50:18.679Z"
   },
   {
    "duration": 8,
    "start_time": "2022-08-03T12:50:18.695Z"
   },
   {
    "duration": 12,
    "start_time": "2022-08-03T12:50:18.705Z"
   },
   {
    "duration": 11,
    "start_time": "2022-08-03T12:50:18.718Z"
   },
   {
    "duration": 8,
    "start_time": "2022-08-03T12:50:18.730Z"
   },
   {
    "duration": 1576,
    "start_time": "2022-08-03T12:50:18.740Z"
   },
   {
    "duration": 1582,
    "start_time": "2022-08-03T12:50:20.318Z"
   },
   {
    "duration": 1605,
    "start_time": "2022-08-03T12:50:21.902Z"
   },
   {
    "duration": 5,
    "start_time": "2022-08-03T12:50:23.509Z"
   },
   {
    "duration": 8,
    "start_time": "2022-08-03T12:50:23.515Z"
   },
   {
    "duration": 4,
    "start_time": "2022-08-03T12:50:23.525Z"
   },
   {
    "duration": 51,
    "start_time": "2022-08-03T12:50:23.531Z"
   },
   {
    "duration": 14,
    "start_time": "2022-08-03T12:50:23.584Z"
   },
   {
    "duration": 5,
    "start_time": "2022-08-03T12:50:23.599Z"
   },
   {
    "duration": 10,
    "start_time": "2022-08-03T12:50:23.605Z"
   },
   {
    "duration": 16,
    "start_time": "2022-08-03T12:50:23.616Z"
   },
   {
    "duration": 37,
    "start_time": "2022-08-03T12:50:23.634Z"
   },
   {
    "duration": 11,
    "start_time": "2022-08-03T12:50:23.673Z"
   },
   {
    "duration": 16,
    "start_time": "2022-08-03T12:50:23.685Z"
   },
   {
    "duration": 259,
    "start_time": "2022-08-03T12:50:23.703Z"
   },
   {
    "duration": 4,
    "start_time": "2022-08-03T12:50:23.967Z"
   },
   {
    "duration": 564,
    "start_time": "2022-08-03T12:50:23.973Z"
   },
   {
    "duration": 230,
    "start_time": "2022-08-03T12:50:24.540Z"
   },
   {
    "duration": 230,
    "start_time": "2022-08-03T12:50:24.772Z"
   },
   {
    "duration": 2555,
    "start_time": "2022-08-03T12:50:25.004Z"
   },
   {
    "duration": 234,
    "start_time": "2022-08-03T12:50:27.567Z"
   },
   {
    "duration": 36,
    "start_time": "2022-08-03T12:50:27.803Z"
   },
   {
    "duration": 235,
    "start_time": "2022-08-03T12:50:27.841Z"
   },
   {
    "duration": 29,
    "start_time": "2022-08-03T12:50:28.078Z"
   },
   {
    "duration": 7,
    "start_time": "2022-08-03T12:50:28.108Z"
   },
   {
    "duration": 7,
    "start_time": "2022-08-03T12:50:28.117Z"
   },
   {
    "duration": 263,
    "start_time": "2022-08-03T12:50:28.126Z"
   },
   {
    "duration": 8,
    "start_time": "2022-08-03T12:50:28.390Z"
   },
   {
    "duration": 489,
    "start_time": "2022-08-03T12:50:28.400Z"
   },
   {
    "duration": 2,
    "start_time": "2022-08-03T12:50:28.891Z"
   },
   {
    "duration": 15,
    "start_time": "2022-08-03T12:50:28.895Z"
   },
   {
    "duration": 246,
    "start_time": "2022-08-03T12:50:28.912Z"
   },
   {
    "duration": 367,
    "start_time": "2022-08-03T12:50:29.167Z"
   },
   {
    "duration": 5,
    "start_time": "2022-08-03T12:50:29.536Z"
   },
   {
    "duration": 27,
    "start_time": "2022-08-03T12:50:29.542Z"
   },
   {
    "duration": 6,
    "start_time": "2022-08-03T12:50:29.571Z"
   },
   {
    "duration": 9,
    "start_time": "2022-08-03T12:50:29.579Z"
   },
   {
    "duration": 7,
    "start_time": "2022-08-03T12:50:29.590Z"
   },
   {
    "duration": 7,
    "start_time": "2022-08-03T12:50:29.603Z"
   },
   {
    "duration": 6,
    "start_time": "2022-08-03T12:50:29.612Z"
   },
   {
    "duration": 48,
    "start_time": "2022-08-03T12:50:29.620Z"
   },
   {
    "duration": 307,
    "start_time": "2022-08-03T12:50:29.670Z"
   },
   {
    "duration": 5,
    "start_time": "2022-08-03T12:50:29.979Z"
   },
   {
    "duration": 3073,
    "start_time": "2022-08-03T12:50:29.985Z"
   },
   {
    "duration": 256,
    "start_time": "2022-08-03T12:50:33.067Z"
   },
   {
    "duration": 599,
    "start_time": "2022-08-03T12:50:33.326Z"
   },
   {
    "duration": 250,
    "start_time": "2022-08-03T12:50:33.928Z"
   },
   {
    "duration": 38,
    "start_time": "2022-08-03T12:50:34.180Z"
   },
   {
    "duration": 507,
    "start_time": "2022-08-03T12:50:34.220Z"
   },
   {
    "duration": 633,
    "start_time": "2022-08-03T12:50:34.728Z"
   },
   {
    "duration": 12,
    "start_time": "2022-08-03T12:50:35.363Z"
   },
   {
    "duration": 7,
    "start_time": "2022-08-03T12:50:35.377Z"
   },
   {
    "duration": 949,
    "start_time": "2022-08-03T12:50:35.386Z"
   },
   {
    "duration": 299,
    "start_time": "2022-08-03T12:50:36.337Z"
   },
   {
    "duration": 1221,
    "start_time": "2022-08-03T12:50:36.638Z"
   },
   {
    "duration": 9,
    "start_time": "2022-08-03T12:50:37.862Z"
   },
   {
    "duration": 27,
    "start_time": "2022-08-03T12:50:37.873Z"
   },
   {
    "duration": 90,
    "start_time": "2022-08-03T12:50:37.903Z"
   },
   {
    "duration": 0,
    "start_time": "2022-08-03T12:50:37.995Z"
   },
   {
    "duration": 0,
    "start_time": "2022-08-03T12:50:37.996Z"
   },
   {
    "duration": 12,
    "start_time": "2022-08-03T12:52:08.878Z"
   },
   {
    "duration": 20,
    "start_time": "2022-08-03T12:52:16.617Z"
   },
   {
    "duration": 8,
    "start_time": "2022-08-03T12:52:27.337Z"
   },
   {
    "duration": 11,
    "start_time": "2022-08-03T12:52:36.450Z"
   },
   {
    "duration": 8,
    "start_time": "2022-08-03T12:52:58.523Z"
   },
   {
    "duration": 9,
    "start_time": "2022-08-03T12:53:18.274Z"
   },
   {
    "duration": 11,
    "start_time": "2022-08-03T12:53:28.533Z"
   },
   {
    "duration": 10,
    "start_time": "2022-08-03T12:53:46.019Z"
   },
   {
    "duration": 9,
    "start_time": "2022-08-03T12:53:48.539Z"
   },
   {
    "duration": 9,
    "start_time": "2022-08-03T12:54:16.019Z"
   },
   {
    "duration": 8,
    "start_time": "2022-08-03T12:54:22.988Z"
   },
   {
    "duration": 11,
    "start_time": "2022-08-03T12:56:04.319Z"
   },
   {
    "duration": 8,
    "start_time": "2022-08-03T12:56:07.547Z"
   },
   {
    "duration": 7,
    "start_time": "2022-08-03T12:56:12.149Z"
   },
   {
    "duration": 9,
    "start_time": "2022-08-03T12:58:04.217Z"
   },
   {
    "duration": 9,
    "start_time": "2022-08-03T12:58:14.480Z"
   },
   {
    "duration": 47,
    "start_time": "2022-08-03T12:58:16.928Z"
   },
   {
    "duration": 11,
    "start_time": "2022-08-03T12:58:29.724Z"
   },
   {
    "duration": 13,
    "start_time": "2022-08-03T12:59:39.124Z"
   },
   {
    "duration": 20,
    "start_time": "2022-08-03T12:59:47.569Z"
   },
   {
    "duration": 75,
    "start_time": "2022-08-03T13:00:46.895Z"
   },
   {
    "duration": 72,
    "start_time": "2022-08-03T13:00:50.953Z"
   },
   {
    "duration": 101,
    "start_time": "2022-08-03T13:00:58.020Z"
   },
   {
    "duration": 21,
    "start_time": "2022-08-03T13:01:18.936Z"
   },
   {
    "duration": 19,
    "start_time": "2022-08-03T13:01:29.354Z"
   },
   {
    "duration": 20,
    "start_time": "2022-08-03T13:01:37.819Z"
   },
   {
    "duration": 21,
    "start_time": "2022-08-03T13:02:15.919Z"
   },
   {
    "duration": 22,
    "start_time": "2022-08-03T13:02:22.819Z"
   },
   {
    "duration": 20,
    "start_time": "2022-08-03T13:02:27.695Z"
   },
   {
    "duration": 19,
    "start_time": "2022-08-03T13:02:34.120Z"
   },
   {
    "duration": 20,
    "start_time": "2022-08-03T13:02:39.838Z"
   },
   {
    "duration": 21,
    "start_time": "2022-08-03T13:02:54.016Z"
   },
   {
    "duration": 15,
    "start_time": "2022-08-03T13:05:09.946Z"
   },
   {
    "duration": 15,
    "start_time": "2022-08-03T13:06:51.612Z"
   },
   {
    "duration": 15,
    "start_time": "2022-08-03T13:06:54.625Z"
   },
   {
    "duration": 16,
    "start_time": "2022-08-03T13:06:58.463Z"
   },
   {
    "duration": 16,
    "start_time": "2022-08-03T13:07:09.344Z"
   },
   {
    "duration": 15,
    "start_time": "2022-08-03T13:07:14.122Z"
   },
   {
    "duration": 18,
    "start_time": "2022-08-03T13:07:34.866Z"
   },
   {
    "duration": 16,
    "start_time": "2022-08-03T13:07:44.962Z"
   },
   {
    "duration": 16,
    "start_time": "2022-08-03T13:07:59.284Z"
   },
   {
    "duration": 46,
    "start_time": "2022-08-03T13:10:31.587Z"
   },
   {
    "duration": 12,
    "start_time": "2022-08-03T13:10:52.553Z"
   },
   {
    "duration": 10,
    "start_time": "2022-08-03T13:10:56.073Z"
   },
   {
    "duration": 10,
    "start_time": "2022-08-03T13:11:01.366Z"
   },
   {
    "duration": 4,
    "start_time": "2022-08-03T13:12:04.153Z"
   },
   {
    "duration": 4,
    "start_time": "2022-08-03T13:12:14.172Z"
   },
   {
    "duration": 8,
    "start_time": "2022-08-03T13:12:20.457Z"
   },
   {
    "duration": 8,
    "start_time": "2022-08-03T13:12:25.123Z"
   },
   {
    "duration": 5,
    "start_time": "2022-08-03T13:13:35.490Z"
   },
   {
    "duration": 10,
    "start_time": "2022-08-03T13:14:45.584Z"
   },
   {
    "duration": 9,
    "start_time": "2022-08-03T13:14:48.000Z"
   },
   {
    "duration": 328,
    "start_time": "2022-08-03T13:17:46.424Z"
   },
   {
    "duration": 9,
    "start_time": "2022-08-03T13:18:40.081Z"
   },
   {
    "duration": 9,
    "start_time": "2022-08-03T13:18:47.728Z"
   },
   {
    "duration": 37,
    "start_time": "2022-08-03T13:18:54.698Z"
   },
   {
    "duration": 5,
    "start_time": "2022-08-03T13:19:08.438Z"
   },
   {
    "duration": 205,
    "start_time": "2022-08-03T13:20:30.764Z"
   },
   {
    "duration": 205,
    "start_time": "2022-08-03T13:20:50.328Z"
   },
   {
    "duration": 205,
    "start_time": "2022-08-03T13:22:47.925Z"
   },
   {
    "duration": 187,
    "start_time": "2022-08-03T13:23:02.736Z"
   },
   {
    "duration": 198,
    "start_time": "2022-08-03T13:23:04.605Z"
   },
   {
    "duration": 170,
    "start_time": "2022-08-03T13:23:22.058Z"
   },
   {
    "duration": 188,
    "start_time": "2022-08-03T13:23:36.797Z"
   },
   {
    "duration": 481,
    "start_time": "2022-08-03T13:23:46.269Z"
   },
   {
    "duration": 190,
    "start_time": "2022-08-03T13:24:19.727Z"
   },
   {
    "duration": 195,
    "start_time": "2022-08-03T13:24:58.953Z"
   },
   {
    "duration": 227,
    "start_time": "2022-08-03T13:25:06.158Z"
   },
   {
    "duration": 170,
    "start_time": "2022-08-03T13:25:11.599Z"
   },
   {
    "duration": 168,
    "start_time": "2022-08-03T13:25:38.327Z"
   },
   {
    "duration": 178,
    "start_time": "2022-08-03T13:25:44.922Z"
   },
   {
    "duration": 202,
    "start_time": "2022-08-03T13:26:35.400Z"
   },
   {
    "duration": 193,
    "start_time": "2022-08-03T13:27:05.225Z"
   },
   {
    "duration": 206,
    "start_time": "2022-08-03T13:27:07.625Z"
   },
   {
    "duration": 255,
    "start_time": "2022-08-03T13:31:28.125Z"
   },
   {
    "duration": 230,
    "start_time": "2022-08-03T13:31:45.644Z"
   },
   {
    "duration": 220,
    "start_time": "2022-08-03T13:31:52.278Z"
   },
   {
    "duration": 4941,
    "start_time": "2022-08-03T13:31:55.348Z"
   },
   {
    "duration": 231,
    "start_time": "2022-08-03T13:32:17.796Z"
   },
   {
    "duration": 6,
    "start_time": "2022-08-03T13:44:29.726Z"
   },
   {
    "duration": 234,
    "start_time": "2022-08-03T13:52:07.321Z"
   },
   {
    "duration": 7,
    "start_time": "2022-08-03T13:55:08.318Z"
   },
   {
    "duration": 5,
    "start_time": "2022-08-03T14:09:34.252Z"
   },
   {
    "duration": 2,
    "start_time": "2022-08-03T14:11:38.578Z"
   },
   {
    "duration": 6,
    "start_time": "2022-08-03T14:13:48.980Z"
   },
   {
    "duration": 358,
    "start_time": "2022-08-03T14:14:10.639Z"
   },
   {
    "duration": 13,
    "start_time": "2022-08-03T14:17:47.736Z"
   },
   {
    "duration": 11,
    "start_time": "2022-08-03T14:21:07.625Z"
   },
   {
    "duration": 228,
    "start_time": "2022-08-03T14:41:23.542Z"
   },
   {
    "duration": 243,
    "start_time": "2022-08-03T14:42:52.141Z"
   },
   {
    "duration": 184,
    "start_time": "2022-08-03T14:43:15.240Z"
   },
   {
    "duration": 252,
    "start_time": "2022-08-03T14:43:42.140Z"
   },
   {
    "duration": 275,
    "start_time": "2022-08-03T14:43:45.006Z"
   },
   {
    "duration": 448,
    "start_time": "2022-08-03T14:44:27.944Z"
   },
   {
    "duration": 462,
    "start_time": "2022-08-03T14:44:33.974Z"
   },
   {
    "duration": 720,
    "start_time": "2022-08-03T14:44:43.462Z"
   },
   {
    "duration": 500,
    "start_time": "2022-08-03T14:44:55.436Z"
   },
   {
    "duration": 509,
    "start_time": "2022-08-03T14:45:09.539Z"
   },
   {
    "duration": 475,
    "start_time": "2022-08-03T14:45:19.936Z"
   },
   {
    "duration": 457,
    "start_time": "2022-08-03T14:45:27.370Z"
   },
   {
    "duration": 463,
    "start_time": "2022-08-03T14:45:32.089Z"
   },
   {
    "duration": 481,
    "start_time": "2022-08-03T14:46:37.183Z"
   },
   {
    "duration": 461,
    "start_time": "2022-08-03T14:46:42.440Z"
   },
   {
    "duration": 450,
    "start_time": "2022-08-03T14:46:45.184Z"
   },
   {
    "duration": 10,
    "start_time": "2022-08-03T14:47:38.539Z"
   },
   {
    "duration": 9,
    "start_time": "2022-08-03T14:47:58.885Z"
   },
   {
    "duration": 10,
    "start_time": "2022-08-03T14:48:00.385Z"
   },
   {
    "duration": 9,
    "start_time": "2022-08-03T14:48:01.794Z"
   },
   {
    "duration": 10,
    "start_time": "2022-08-03T14:48:28.153Z"
   },
   {
    "duration": 11,
    "start_time": "2022-08-03T14:48:30.783Z"
   },
   {
    "duration": 9,
    "start_time": "2022-08-03T14:48:33.353Z"
   },
   {
    "duration": 10,
    "start_time": "2022-08-03T14:50:33.240Z"
   },
   {
    "duration": 14,
    "start_time": "2022-08-03T14:50:34.860Z"
   },
   {
    "duration": 13,
    "start_time": "2022-08-03T14:50:36.140Z"
   },
   {
    "duration": 14,
    "start_time": "2022-08-03T14:50:37.347Z"
   },
   {
    "duration": 16,
    "start_time": "2022-08-03T14:50:38.782Z"
   },
   {
    "duration": 13,
    "start_time": "2022-08-03T14:50:40.829Z"
   },
   {
    "duration": 872,
    "start_time": "2022-08-03T15:08:09.135Z"
   },
   {
    "duration": 563,
    "start_time": "2022-08-03T15:08:13.734Z"
   },
   {
    "duration": 529,
    "start_time": "2022-08-03T15:08:18.438Z"
   },
   {
    "duration": 541,
    "start_time": "2022-08-03T16:28:37.514Z"
   },
   {
    "duration": 548,
    "start_time": "2022-08-03T16:28:42.975Z"
   },
   {
    "duration": 859,
    "start_time": "2022-08-03T16:29:34.918Z"
   },
   {
    "duration": 846,
    "start_time": "2022-08-03T16:29:36.981Z"
   },
   {
    "duration": 1097,
    "start_time": "2022-08-03T16:29:53.427Z"
   },
   {
    "duration": 6,
    "start_time": "2022-08-03T16:41:21.216Z"
   },
   {
    "duration": 319,
    "start_time": "2022-08-03T16:41:36.403Z"
   },
   {
    "duration": 839,
    "start_time": "2022-08-03T16:42:46.754Z"
   },
   {
    "duration": 546,
    "start_time": "2022-08-03T16:43:07.195Z"
   },
   {
    "duration": 1663,
    "start_time": "2022-08-03T16:43:48.757Z"
   },
   {
    "duration": 1975,
    "start_time": "2022-08-03T16:50:31.734Z"
   },
   {
    "duration": 1495,
    "start_time": "2022-08-03T16:52:03.217Z"
   },
   {
    "duration": 1609,
    "start_time": "2022-08-03T16:52:07.079Z"
   },
   {
    "duration": 1644,
    "start_time": "2022-08-03T16:52:11.118Z"
   },
   {
    "duration": 2223,
    "start_time": "2022-08-03T16:52:13.653Z"
   },
   {
    "duration": 1796,
    "start_time": "2022-08-03T16:53:46.220Z"
   },
   {
    "duration": 1639,
    "start_time": "2022-08-03T16:54:34.592Z"
   },
   {
    "duration": 3351,
    "start_time": "2022-08-03T17:06:24.062Z"
   },
   {
    "duration": 2974,
    "start_time": "2022-08-03T17:06:55.948Z"
   },
   {
    "duration": 3436,
    "start_time": "2022-08-03T17:08:11.077Z"
   },
   {
    "duration": 2921,
    "start_time": "2022-08-03T17:08:40.304Z"
   },
   {
    "duration": 273,
    "start_time": "2022-08-03T17:12:13.270Z"
   },
   {
    "duration": 1494,
    "start_time": "2022-08-03T17:13:42.958Z"
   },
   {
    "duration": 1510,
    "start_time": "2022-08-03T17:15:06.844Z"
   },
   {
    "duration": 916,
    "start_time": "2022-08-03T17:15:43.652Z"
   },
   {
    "duration": 9,
    "start_time": "2022-08-03T17:31:05.251Z"
   },
   {
    "duration": 22,
    "start_time": "2022-08-03T17:31:31.787Z"
   },
   {
    "duration": 10,
    "start_time": "2022-08-03T17:32:33.162Z"
   },
   {
    "duration": 9,
    "start_time": "2022-08-03T17:32:35.092Z"
   },
   {
    "duration": 10,
    "start_time": "2022-08-03T17:32:36.763Z"
   },
   {
    "duration": 9,
    "start_time": "2022-08-03T17:32:38.561Z"
   },
   {
    "duration": 9,
    "start_time": "2022-08-03T17:32:44.282Z"
   },
   {
    "duration": 8,
    "start_time": "2022-08-03T17:32:44.662Z"
   },
   {
    "duration": 10,
    "start_time": "2022-08-03T17:32:44.984Z"
   },
   {
    "duration": 10,
    "start_time": "2022-08-03T17:32:45.375Z"
   },
   {
    "duration": 57,
    "start_time": "2022-08-04T10:20:26.929Z"
   },
   {
    "duration": 451,
    "start_time": "2022-08-04T10:20:32.007Z"
   },
   {
    "duration": 371,
    "start_time": "2022-08-04T10:20:32.461Z"
   },
   {
    "duration": 17,
    "start_time": "2022-08-04T10:20:32.834Z"
   },
   {
    "duration": 57,
    "start_time": "2022-08-04T10:20:32.854Z"
   },
   {
    "duration": 2293,
    "start_time": "2022-08-04T10:20:32.914Z"
   },
   {
    "duration": 11,
    "start_time": "2022-08-04T10:20:35.209Z"
   },
   {
    "duration": 628,
    "start_time": "2022-08-04T10:20:35.222Z"
   },
   {
    "duration": 6,
    "start_time": "2022-08-04T10:20:35.851Z"
   },
   {
    "duration": 8,
    "start_time": "2022-08-04T10:20:35.858Z"
   },
   {
    "duration": 15,
    "start_time": "2022-08-04T10:20:35.867Z"
   },
   {
    "duration": 9,
    "start_time": "2022-08-04T10:20:35.883Z"
   },
   {
    "duration": 25,
    "start_time": "2022-08-04T10:20:35.893Z"
   },
   {
    "duration": 23,
    "start_time": "2022-08-04T10:20:35.920Z"
   },
   {
    "duration": 9,
    "start_time": "2022-08-04T10:20:35.946Z"
   },
   {
    "duration": 7,
    "start_time": "2022-08-04T10:20:35.956Z"
   },
   {
    "duration": 180,
    "start_time": "2022-08-04T10:20:35.964Z"
   },
   {
    "duration": 12,
    "start_time": "2022-08-04T10:20:36.145Z"
   },
   {
    "duration": 6,
    "start_time": "2022-08-04T10:20:36.159Z"
   },
   {
    "duration": 12,
    "start_time": "2022-08-04T10:20:36.167Z"
   },
   {
    "duration": 43,
    "start_time": "2022-08-04T10:20:36.180Z"
   },
   {
    "duration": 16,
    "start_time": "2022-08-04T10:20:36.225Z"
   },
   {
    "duration": 74,
    "start_time": "2022-08-04T10:20:36.243Z"
   },
   {
    "duration": 25,
    "start_time": "2022-08-04T10:20:36.319Z"
   },
   {
    "duration": 15,
    "start_time": "2022-08-04T10:20:36.346Z"
   },
   {
    "duration": 6,
    "start_time": "2022-08-04T10:20:36.363Z"
   },
   {
    "duration": 10,
    "start_time": "2022-08-04T10:20:36.370Z"
   },
   {
    "duration": 7,
    "start_time": "2022-08-04T10:20:36.382Z"
   },
   {
    "duration": 1646,
    "start_time": "2022-08-04T10:20:36.391Z"
   },
   {
    "duration": 4,
    "start_time": "2022-08-04T10:20:38.039Z"
   },
   {
    "duration": 19,
    "start_time": "2022-08-04T10:20:38.045Z"
   },
   {
    "duration": 10,
    "start_time": "2022-08-04T10:20:38.066Z"
   },
   {
    "duration": 12,
    "start_time": "2022-08-04T10:20:38.078Z"
   },
   {
    "duration": 27,
    "start_time": "2022-08-04T10:20:38.092Z"
   },
   {
    "duration": 11,
    "start_time": "2022-08-04T10:20:38.122Z"
   },
   {
    "duration": 8,
    "start_time": "2022-08-04T10:20:38.135Z"
   },
   {
    "duration": 10,
    "start_time": "2022-08-04T10:20:38.144Z"
   },
   {
    "duration": 1568,
    "start_time": "2022-08-04T10:20:38.155Z"
   },
   {
    "duration": 1608,
    "start_time": "2022-08-04T10:20:39.724Z"
   },
   {
    "duration": 4,
    "start_time": "2022-08-04T10:20:41.334Z"
   },
   {
    "duration": 4,
    "start_time": "2022-08-04T10:20:41.341Z"
   },
   {
    "duration": 9,
    "start_time": "2022-08-04T10:20:41.354Z"
   },
   {
    "duration": 13,
    "start_time": "2022-08-04T10:20:41.365Z"
   },
   {
    "duration": 35,
    "start_time": "2022-08-04T10:20:41.380Z"
   },
   {
    "duration": 1964,
    "start_time": "2022-08-04T10:20:41.416Z"
   },
   {
    "duration": 1647,
    "start_time": "2022-08-04T10:20:43.381Z"
   },
   {
    "duration": 1660,
    "start_time": "2022-08-04T10:20:45.030Z"
   },
   {
    "duration": 13,
    "start_time": "2022-08-04T10:20:46.692Z"
   },
   {
    "duration": 35,
    "start_time": "2022-08-04T10:20:46.707Z"
   },
   {
    "duration": 10,
    "start_time": "2022-08-04T10:20:46.745Z"
   },
   {
    "duration": 30,
    "start_time": "2022-08-04T10:20:46.757Z"
   },
   {
    "duration": 12,
    "start_time": "2022-08-04T10:20:46.789Z"
   },
   {
    "duration": 4,
    "start_time": "2022-08-04T10:20:46.803Z"
   },
   {
    "duration": 32,
    "start_time": "2022-08-04T10:20:46.809Z"
   },
   {
    "duration": 16,
    "start_time": "2022-08-04T10:20:46.843Z"
   },
   {
    "duration": 5,
    "start_time": "2022-08-04T10:20:46.861Z"
   },
   {
    "duration": 12,
    "start_time": "2022-08-04T10:20:46.867Z"
   },
   {
    "duration": 15,
    "start_time": "2022-08-04T10:20:46.880Z"
   },
   {
    "duration": 204,
    "start_time": "2022-08-04T10:20:46.897Z"
   },
   {
    "duration": 9,
    "start_time": "2022-08-04T10:20:47.102Z"
   },
   {
    "duration": 427,
    "start_time": "2022-08-04T10:20:47.112Z"
   },
   {
    "duration": 193,
    "start_time": "2022-08-04T10:20:47.541Z"
   },
   {
    "duration": 190,
    "start_time": "2022-08-04T10:20:47.735Z"
   },
   {
    "duration": 2207,
    "start_time": "2022-08-04T10:20:47.927Z"
   },
   {
    "duration": 212,
    "start_time": "2022-08-04T10:20:50.135Z"
   },
   {
    "duration": 30,
    "start_time": "2022-08-04T10:20:50.348Z"
   },
   {
    "duration": 210,
    "start_time": "2022-08-04T10:20:50.379Z"
   },
   {
    "duration": 33,
    "start_time": "2022-08-04T10:20:50.591Z"
   },
   {
    "duration": 8,
    "start_time": "2022-08-04T10:20:50.626Z"
   },
   {
    "duration": 7,
    "start_time": "2022-08-04T10:20:50.635Z"
   },
   {
    "duration": 228,
    "start_time": "2022-08-04T10:20:50.644Z"
   },
   {
    "duration": 8,
    "start_time": "2022-08-04T10:20:50.874Z"
   },
   {
    "duration": 536,
    "start_time": "2022-08-04T10:20:50.883Z"
   },
   {
    "duration": 4,
    "start_time": "2022-08-04T10:20:51.427Z"
   },
   {
    "duration": 12,
    "start_time": "2022-08-04T10:20:51.433Z"
   },
   {
    "duration": 200,
    "start_time": "2022-08-04T10:20:51.446Z"
   },
   {
    "duration": 213,
    "start_time": "2022-08-04T10:20:51.647Z"
   },
   {
    "duration": 4,
    "start_time": "2022-08-04T10:20:51.862Z"
   },
   {
    "duration": 9,
    "start_time": "2022-08-04T10:20:51.868Z"
   },
   {
    "duration": 13,
    "start_time": "2022-08-04T10:20:51.878Z"
   },
   {
    "duration": 9,
    "start_time": "2022-08-04T10:20:51.893Z"
   },
   {
    "duration": 13,
    "start_time": "2022-08-04T10:20:51.904Z"
   },
   {
    "duration": 29,
    "start_time": "2022-08-04T10:20:51.920Z"
   },
   {
    "duration": 16,
    "start_time": "2022-08-04T10:20:51.950Z"
   },
   {
    "duration": 4,
    "start_time": "2022-08-04T10:20:51.968Z"
   },
   {
    "duration": 316,
    "start_time": "2022-08-04T10:20:51.974Z"
   },
   {
    "duration": 3,
    "start_time": "2022-08-04T10:20:52.292Z"
   },
   {
    "duration": 2651,
    "start_time": "2022-08-04T10:20:52.297Z"
   },
   {
    "duration": 207,
    "start_time": "2022-08-04T10:20:54.950Z"
   },
   {
    "duration": 498,
    "start_time": "2022-08-04T10:20:55.158Z"
   },
   {
    "duration": 214,
    "start_time": "2022-08-04T10:20:55.657Z"
   },
   {
    "duration": 41,
    "start_time": "2022-08-04T10:20:55.873Z"
   },
   {
    "duration": 598,
    "start_time": "2022-08-04T10:20:55.916Z"
   },
   {
    "duration": 382,
    "start_time": "2022-08-04T10:20:56.516Z"
   },
   {
    "duration": 17,
    "start_time": "2022-08-04T10:20:56.900Z"
   },
   {
    "duration": 7,
    "start_time": "2022-08-04T10:20:56.919Z"
   },
   {
    "duration": 786,
    "start_time": "2022-08-04T10:20:56.928Z"
   },
   {
    "duration": 206,
    "start_time": "2022-08-04T10:20:57.716Z"
   },
   {
    "duration": 1062,
    "start_time": "2022-08-04T10:20:57.924Z"
   },
   {
    "duration": 4,
    "start_time": "2022-08-04T10:20:58.988Z"
   },
   {
    "duration": 17,
    "start_time": "2022-08-04T10:20:58.994Z"
   },
   {
    "duration": 175,
    "start_time": "2022-08-04T10:20:59.025Z"
   },
   {
    "duration": 9,
    "start_time": "2022-08-04T10:20:59.202Z"
   },
   {
    "duration": 197,
    "start_time": "2022-08-04T10:20:59.212Z"
   },
   {
    "duration": 6,
    "start_time": "2022-08-04T10:20:59.411Z"
   },
   {
    "duration": 365,
    "start_time": "2022-08-04T10:20:59.418Z"
   },
   {
    "duration": 6,
    "start_time": "2022-08-04T10:20:59.785Z"
   },
   {
    "duration": 204,
    "start_time": "2022-08-04T10:20:59.793Z"
   },
   {
    "duration": 5,
    "start_time": "2022-08-04T10:20:59.999Z"
   },
   {
    "duration": 45,
    "start_time": "2022-08-04T10:21:00.011Z"
   },
   {
    "duration": 174,
    "start_time": "2022-08-04T10:21:00.058Z"
   },
   {
    "duration": 771,
    "start_time": "2022-08-04T10:21:00.235Z"
   },
   {
    "duration": 780,
    "start_time": "2022-08-04T10:21:01.010Z"
   },
   {
    "duration": 772,
    "start_time": "2022-08-04T10:21:01.791Z"
   },
   {
    "duration": 11,
    "start_time": "2022-08-04T10:21:02.565Z"
   },
   {
    "duration": 30,
    "start_time": "2022-08-04T10:21:02.577Z"
   },
   {
    "duration": 34,
    "start_time": "2022-08-04T10:21:02.609Z"
   },
   {
    "duration": 17,
    "start_time": "2022-08-04T10:21:02.645Z"
   },
   {
    "duration": 14,
    "start_time": "2022-08-04T10:21:02.663Z"
   },
   {
    "duration": 9,
    "start_time": "2022-08-04T10:21:02.679Z"
   },
   {
    "duration": 218,
    "start_time": "2022-08-04T10:21:02.690Z"
   },
   {
    "duration": 1772,
    "start_time": "2022-08-04T10:21:02.912Z"
   },
   {
    "duration": 1463,
    "start_time": "2022-08-04T10:21:04.691Z"
   },
   {
    "duration": 184,
    "start_time": "2022-08-04T10:21:06.155Z"
   },
   {
    "duration": 2789,
    "start_time": "2022-08-04T10:21:06.342Z"
   },
   {
    "duration": 2691,
    "start_time": "2022-08-04T10:21:09.133Z"
   },
   {
    "duration": 188,
    "start_time": "2022-08-04T10:21:11.825Z"
   },
   {
    "duration": 953,
    "start_time": "2022-08-04T10:21:12.014Z"
   },
   {
    "duration": 769,
    "start_time": "2022-08-04T10:21:12.969Z"
   },
   {
    "duration": 9,
    "start_time": "2022-08-04T10:21:13.740Z"
   },
   {
    "duration": 12,
    "start_time": "2022-08-04T10:21:13.750Z"
   },
   {
    "duration": 10,
    "start_time": "2022-08-04T10:21:13.764Z"
   },
   {
    "duration": 10,
    "start_time": "2022-08-04T10:21:13.776Z"
   },
   {
    "duration": 10,
    "start_time": "2022-08-04T10:21:13.811Z"
   },
   {
    "duration": 14,
    "start_time": "2022-08-04T10:21:13.823Z"
   },
   {
    "duration": 21,
    "start_time": "2022-08-04T10:21:13.838Z"
   },
   {
    "duration": 14,
    "start_time": "2022-08-04T10:21:13.861Z"
   },
   {
    "duration": 42,
    "start_time": "2022-08-04T10:21:13.877Z"
   },
   {
    "duration": 9,
    "start_time": "2022-08-04T10:21:13.921Z"
   },
   {
    "duration": 8,
    "start_time": "2022-08-04T10:21:13.931Z"
   },
   {
    "duration": 3,
    "start_time": "2022-08-04T10:21:13.940Z"
   },
   {
    "duration": 10,
    "start_time": "2022-08-04T10:21:13.945Z"
   },
   {
    "duration": 8,
    "start_time": "2022-08-04T10:21:13.956Z"
   },
   {
    "duration": 62,
    "start_time": "2022-08-04T10:21:13.965Z"
   },
   {
    "duration": 0,
    "start_time": "2022-08-04T10:21:14.029Z"
   },
   {
    "duration": 11,
    "start_time": "2022-08-04T10:21:22.631Z"
   },
   {
    "duration": 10,
    "start_time": "2022-08-04T10:22:03.536Z"
   },
   {
    "duration": 89,
    "start_time": "2022-08-04T10:23:48.671Z"
   },
   {
    "duration": 176,
    "start_time": "2022-08-04T10:28:27.756Z"
   },
   {
    "duration": 163,
    "start_time": "2022-08-04T10:30:12.310Z"
   },
   {
    "duration": 152,
    "start_time": "2022-08-04T10:30:17.429Z"
   },
   {
    "duration": 199,
    "start_time": "2022-08-04T11:18:08.480Z"
   },
   {
    "duration": 162,
    "start_time": "2022-08-04T11:18:16.870Z"
   },
   {
    "duration": 2,
    "start_time": "2022-08-04T11:25:46.190Z"
   },
   {
    "duration": 18,
    "start_time": "2022-08-04T11:26:36.357Z"
   },
   {
    "duration": 5,
    "start_time": "2022-08-04T11:26:42.154Z"
   },
   {
    "duration": 1026,
    "start_time": "2022-08-04T11:26:53.049Z"
   },
   {
    "duration": 36,
    "start_time": "2022-08-04T11:27:05.152Z"
   },
   {
    "duration": 22,
    "start_time": "2022-08-04T11:27:20.292Z"
   },
   {
    "duration": 16,
    "start_time": "2022-08-04T11:29:13.016Z"
   },
   {
    "duration": 37,
    "start_time": "2022-08-04T11:29:15.514Z"
   },
   {
    "duration": 5,
    "start_time": "2022-08-04T11:29:20.940Z"
   },
   {
    "duration": 16,
    "start_time": "2022-08-04T11:36:11.119Z"
   },
   {
    "duration": 15,
    "start_time": "2022-08-04T11:37:28.412Z"
   },
   {
    "duration": 15,
    "start_time": "2022-08-04T11:38:17.945Z"
   },
   {
    "duration": 15,
    "start_time": "2022-08-04T11:38:20.262Z"
   },
   {
    "duration": 15,
    "start_time": "2022-08-04T11:38:24.255Z"
   },
   {
    "duration": 110,
    "start_time": "2022-08-04T11:39:54.842Z"
   },
   {
    "duration": 18,
    "start_time": "2022-08-04T11:40:00.714Z"
   },
   {
    "duration": 240,
    "start_time": "2022-08-04T11:40:33.384Z"
   },
   {
    "duration": 199,
    "start_time": "2022-08-04T11:41:28.521Z"
   },
   {
    "duration": 203,
    "start_time": "2022-08-04T11:41:40.064Z"
   },
   {
    "duration": 480,
    "start_time": "2022-08-04T12:01:16.780Z"
   },
   {
    "duration": 474,
    "start_time": "2022-08-04T12:01:48.423Z"
   },
   {
    "duration": 474,
    "start_time": "2022-08-04T12:01:53.546Z"
   },
   {
    "duration": 188,
    "start_time": "2022-08-04T13:08:45.433Z"
   },
   {
    "duration": 206,
    "start_time": "2022-08-04T13:08:50.636Z"
   },
   {
    "duration": 215,
    "start_time": "2022-08-04T13:09:05.088Z"
   },
   {
    "duration": 12,
    "start_time": "2022-08-04T13:20:59.685Z"
   },
   {
    "duration": 9,
    "start_time": "2022-08-04T13:21:09.356Z"
   },
   {
    "duration": 432,
    "start_time": "2022-08-06T14:53:42.551Z"
   },
   {
    "duration": 94,
    "start_time": "2022-08-06T14:53:42.985Z"
   },
   {
    "duration": 35,
    "start_time": "2022-08-06T14:53:43.080Z"
   },
   {
    "duration": 48,
    "start_time": "2022-08-06T14:53:43.118Z"
   },
   {
    "duration": 2018,
    "start_time": "2022-08-06T14:53:43.168Z"
   },
   {
    "duration": 9,
    "start_time": "2022-08-06T14:53:45.188Z"
   },
   {
    "duration": 599,
    "start_time": "2022-08-06T14:53:45.198Z"
   },
   {
    "duration": 5,
    "start_time": "2022-08-06T14:53:45.798Z"
   },
   {
    "duration": 7,
    "start_time": "2022-08-06T14:53:45.805Z"
   },
   {
    "duration": 7,
    "start_time": "2022-08-06T14:53:45.814Z"
   },
   {
    "duration": 8,
    "start_time": "2022-08-06T14:53:45.823Z"
   },
   {
    "duration": 8,
    "start_time": "2022-08-06T14:53:45.833Z"
   },
   {
    "duration": 8,
    "start_time": "2022-08-06T14:53:45.843Z"
   },
   {
    "duration": 5,
    "start_time": "2022-08-06T14:53:45.853Z"
   },
   {
    "duration": 6,
    "start_time": "2022-08-06T14:53:45.860Z"
   },
   {
    "duration": 204,
    "start_time": "2022-08-06T14:53:45.867Z"
   },
   {
    "duration": 10,
    "start_time": "2022-08-06T14:53:46.072Z"
   },
   {
    "duration": 5,
    "start_time": "2022-08-06T14:53:46.084Z"
   },
   {
    "duration": 23,
    "start_time": "2022-08-06T14:53:46.091Z"
   },
   {
    "duration": 6,
    "start_time": "2022-08-06T14:53:46.115Z"
   },
   {
    "duration": 11,
    "start_time": "2022-08-06T14:53:46.122Z"
   },
   {
    "duration": 6,
    "start_time": "2022-08-06T14:53:46.134Z"
   },
   {
    "duration": 17,
    "start_time": "2022-08-06T14:53:46.142Z"
   },
   {
    "duration": 12,
    "start_time": "2022-08-06T14:53:46.161Z"
   },
   {
    "duration": 37,
    "start_time": "2022-08-06T14:53:46.175Z"
   },
   {
    "duration": 6,
    "start_time": "2022-08-06T14:53:46.213Z"
   },
   {
    "duration": 6,
    "start_time": "2022-08-06T14:53:46.221Z"
   },
   {
    "duration": 1513,
    "start_time": "2022-08-06T14:53:46.231Z"
   },
   {
    "duration": 5,
    "start_time": "2022-08-06T14:53:47.746Z"
   },
   {
    "duration": 17,
    "start_time": "2022-08-06T14:53:47.753Z"
   },
   {
    "duration": 10,
    "start_time": "2022-08-06T14:53:47.772Z"
   },
   {
    "duration": 30,
    "start_time": "2022-08-06T14:53:47.784Z"
   },
   {
    "duration": 10,
    "start_time": "2022-08-06T14:53:47.816Z"
   },
   {
    "duration": 9,
    "start_time": "2022-08-06T14:53:47.828Z"
   },
   {
    "duration": 7,
    "start_time": "2022-08-06T14:53:47.839Z"
   },
   {
    "duration": 9,
    "start_time": "2022-08-06T14:53:47.847Z"
   },
   {
    "duration": 1492,
    "start_time": "2022-08-06T14:53:47.858Z"
   },
   {
    "duration": 1455,
    "start_time": "2022-08-06T14:53:49.352Z"
   },
   {
    "duration": 4,
    "start_time": "2022-08-06T14:53:50.809Z"
   },
   {
    "duration": 12,
    "start_time": "2022-08-06T14:53:50.815Z"
   },
   {
    "duration": 8,
    "start_time": "2022-08-06T14:53:50.829Z"
   },
   {
    "duration": 8,
    "start_time": "2022-08-06T14:53:50.838Z"
   },
   {
    "duration": 7,
    "start_time": "2022-08-06T14:53:50.848Z"
   },
   {
    "duration": 1495,
    "start_time": "2022-08-06T14:53:50.856Z"
   },
   {
    "duration": 1567,
    "start_time": "2022-08-06T14:53:52.353Z"
   },
   {
    "duration": 1465,
    "start_time": "2022-08-06T14:53:53.922Z"
   },
   {
    "duration": 5,
    "start_time": "2022-08-06T14:53:55.388Z"
   },
   {
    "duration": 6,
    "start_time": "2022-08-06T14:53:55.394Z"
   },
   {
    "duration": 5,
    "start_time": "2022-08-06T14:53:55.410Z"
   },
   {
    "duration": 29,
    "start_time": "2022-08-06T14:53:55.416Z"
   },
   {
    "duration": 27,
    "start_time": "2022-08-06T14:53:55.447Z"
   },
   {
    "duration": 5,
    "start_time": "2022-08-06T14:53:55.476Z"
   },
   {
    "duration": 11,
    "start_time": "2022-08-06T14:53:55.483Z"
   },
   {
    "duration": 26,
    "start_time": "2022-08-06T14:53:55.495Z"
   },
   {
    "duration": 5,
    "start_time": "2022-08-06T14:53:55.523Z"
   },
   {
    "duration": 10,
    "start_time": "2022-08-06T14:53:55.529Z"
   },
   {
    "duration": 15,
    "start_time": "2022-08-06T14:53:55.541Z"
   },
   {
    "duration": 215,
    "start_time": "2022-08-06T14:53:55.557Z"
   },
   {
    "duration": 3,
    "start_time": "2022-08-06T14:53:55.774Z"
   },
   {
    "duration": 477,
    "start_time": "2022-08-06T14:53:55.779Z"
   },
   {
    "duration": 184,
    "start_time": "2022-08-06T14:53:56.258Z"
   },
   {
    "duration": 180,
    "start_time": "2022-08-06T14:53:56.444Z"
   },
   {
    "duration": 2097,
    "start_time": "2022-08-06T14:53:56.625Z"
   },
   {
    "duration": 199,
    "start_time": "2022-08-06T14:53:58.723Z"
   },
   {
    "duration": 29,
    "start_time": "2022-08-06T14:53:58.923Z"
   },
   {
    "duration": 186,
    "start_time": "2022-08-06T14:53:58.954Z"
   },
   {
    "duration": 26,
    "start_time": "2022-08-06T14:53:59.142Z"
   },
   {
    "duration": 8,
    "start_time": "2022-08-06T14:53:59.170Z"
   },
   {
    "duration": 7,
    "start_time": "2022-08-06T14:53:59.179Z"
   },
   {
    "duration": 217,
    "start_time": "2022-08-06T14:53:59.188Z"
   },
   {
    "duration": 8,
    "start_time": "2022-08-06T14:53:59.407Z"
   },
   {
    "duration": 424,
    "start_time": "2022-08-06T14:53:59.416Z"
   },
   {
    "duration": 3,
    "start_time": "2022-08-06T14:53:59.841Z"
   },
   {
    "duration": 12,
    "start_time": "2022-08-06T14:53:59.845Z"
   },
   {
    "duration": 202,
    "start_time": "2022-08-06T14:53:59.858Z"
   },
   {
    "duration": 317,
    "start_time": "2022-08-06T14:54:00.062Z"
   },
   {
    "duration": 4,
    "start_time": "2022-08-06T14:54:00.380Z"
   },
   {
    "duration": 13,
    "start_time": "2022-08-06T14:54:00.386Z"
   },
   {
    "duration": 13,
    "start_time": "2022-08-06T14:54:00.400Z"
   },
   {
    "duration": 22,
    "start_time": "2022-08-06T14:54:00.414Z"
   },
   {
    "duration": 14,
    "start_time": "2022-08-06T14:54:00.437Z"
   },
   {
    "duration": 7,
    "start_time": "2022-08-06T14:54:00.457Z"
   },
   {
    "duration": 5,
    "start_time": "2022-08-06T14:54:00.466Z"
   },
   {
    "duration": 5,
    "start_time": "2022-08-06T14:54:00.473Z"
   },
   {
    "duration": 301,
    "start_time": "2022-08-06T14:54:00.479Z"
   },
   {
    "duration": 4,
    "start_time": "2022-08-06T14:54:00.782Z"
   },
   {
    "duration": 2692,
    "start_time": "2022-08-06T14:54:00.787Z"
   },
   {
    "duration": 243,
    "start_time": "2022-08-06T14:54:03.481Z"
   },
   {
    "duration": 485,
    "start_time": "2022-08-06T14:54:03.726Z"
   },
   {
    "duration": 208,
    "start_time": "2022-08-06T14:54:04.212Z"
   },
   {
    "duration": 31,
    "start_time": "2022-08-06T14:54:04.422Z"
   },
   {
    "duration": 421,
    "start_time": "2022-08-06T14:54:04.455Z"
   },
   {
    "duration": 376,
    "start_time": "2022-08-06T14:54:04.878Z"
   },
   {
    "duration": 8,
    "start_time": "2022-08-06T14:54:05.256Z"
   },
   {
    "duration": 13,
    "start_time": "2022-08-06T14:54:05.266Z"
   },
   {
    "duration": 1076,
    "start_time": "2022-08-06T14:54:05.281Z"
   },
   {
    "duration": 211,
    "start_time": "2022-08-06T14:54:06.359Z"
   },
   {
    "duration": 1009,
    "start_time": "2022-08-06T14:54:06.571Z"
   },
   {
    "duration": 5,
    "start_time": "2022-08-06T14:54:07.582Z"
   },
   {
    "duration": 22,
    "start_time": "2022-08-06T14:54:07.589Z"
   },
   {
    "duration": 185,
    "start_time": "2022-08-06T14:54:07.612Z"
   },
   {
    "duration": 13,
    "start_time": "2022-08-06T14:54:07.799Z"
   },
   {
    "duration": 199,
    "start_time": "2022-08-06T14:54:07.814Z"
   },
   {
    "duration": 5,
    "start_time": "2022-08-06T14:54:08.015Z"
   },
   {
    "duration": 168,
    "start_time": "2022-08-06T14:54:08.021Z"
   },
   {
    "duration": 5,
    "start_time": "2022-08-06T14:54:08.191Z"
   },
   {
    "duration": 192,
    "start_time": "2022-08-06T14:54:08.197Z"
   },
   {
    "duration": 20,
    "start_time": "2022-08-06T14:54:08.391Z"
   },
   {
    "duration": 14,
    "start_time": "2022-08-06T14:54:08.412Z"
   },
   {
    "duration": 183,
    "start_time": "2022-08-06T14:54:08.428Z"
   },
   {
    "duration": 906,
    "start_time": "2022-08-06T14:54:08.613Z"
   },
   {
    "duration": 723,
    "start_time": "2022-08-06T14:54:09.522Z"
   },
   {
    "duration": 737,
    "start_time": "2022-08-06T14:54:10.247Z"
   },
   {
    "duration": 10,
    "start_time": "2022-08-06T14:54:10.986Z"
   },
   {
    "duration": 21,
    "start_time": "2022-08-06T14:54:10.997Z"
   },
   {
    "duration": 9,
    "start_time": "2022-08-06T14:54:11.020Z"
   },
   {
    "duration": 9,
    "start_time": "2022-08-06T14:54:11.031Z"
   },
   {
    "duration": 14,
    "start_time": "2022-08-06T14:54:11.041Z"
   },
   {
    "duration": 9,
    "start_time": "2022-08-06T14:54:11.056Z"
   },
   {
    "duration": 209,
    "start_time": "2022-08-06T14:54:11.066Z"
   },
   {
    "duration": 1714,
    "start_time": "2022-08-06T14:54:11.277Z"
   },
   {
    "duration": 1346,
    "start_time": "2022-08-06T14:54:12.993Z"
   },
   {
    "duration": 183,
    "start_time": "2022-08-06T14:54:14.341Z"
   },
   {
    "duration": 2674,
    "start_time": "2022-08-06T14:54:14.526Z"
   },
   {
    "duration": 2301,
    "start_time": "2022-08-06T14:54:17.202Z"
   },
   {
    "duration": 196,
    "start_time": "2022-08-06T14:54:19.505Z"
   },
   {
    "duration": 1104,
    "start_time": "2022-08-06T14:54:19.702Z"
   },
   {
    "duration": 760,
    "start_time": "2022-08-06T14:54:20.811Z"
   },
   {
    "duration": 8,
    "start_time": "2022-08-06T14:54:21.573Z"
   },
   {
    "duration": 13,
    "start_time": "2022-08-06T14:54:21.583Z"
   },
   {
    "duration": 20,
    "start_time": "2022-08-06T14:54:21.598Z"
   },
   {
    "duration": 15,
    "start_time": "2022-08-06T14:54:21.619Z"
   },
   {
    "duration": 17,
    "start_time": "2022-08-06T14:54:21.636Z"
   },
   {
    "duration": 26,
    "start_time": "2022-08-06T14:54:21.654Z"
   },
   {
    "duration": 184,
    "start_time": "2022-08-06T14:54:21.682Z"
   },
   {
    "duration": 17,
    "start_time": "2022-08-06T14:54:21.868Z"
   },
   {
    "duration": 217,
    "start_time": "2022-08-06T14:54:21.887Z"
   },
   {
    "duration": 23,
    "start_time": "2022-08-06T14:54:22.110Z"
   },
   {
    "duration": 230,
    "start_time": "2022-08-06T14:54:22.135Z"
   },
   {
    "duration": 10,
    "start_time": "2022-08-06T14:54:22.366Z"
   },
   {
    "duration": 18,
    "start_time": "2022-08-06T14:54:22.377Z"
   },
   {
    "duration": 24,
    "start_time": "2022-08-06T14:54:22.396Z"
   },
   {
    "duration": 34,
    "start_time": "2022-08-06T14:54:22.421Z"
   },
   {
    "duration": 16,
    "start_time": "2022-08-06T14:54:22.456Z"
   },
   {
    "duration": 61,
    "start_time": "2022-08-06T14:54:22.475Z"
   },
   {
    "duration": 10,
    "start_time": "2022-08-06T14:54:22.539Z"
   },
   {
    "duration": 50,
    "start_time": "2022-08-06T14:54:22.551Z"
   },
   {
    "duration": 318,
    "start_time": "2022-08-06T14:54:22.604Z"
   },
   {
    "duration": 13,
    "start_time": "2022-08-06T15:32:17.212Z"
   },
   {
    "duration": 84,
    "start_time": "2022-08-06T15:33:31.564Z"
   },
   {
    "duration": 8,
    "start_time": "2022-08-06T15:40:38.870Z"
   },
   {
    "duration": 418,
    "start_time": "2022-08-06T18:17:58.032Z"
   },
   {
    "duration": 334,
    "start_time": "2022-08-06T18:17:58.451Z"
   },
   {
    "duration": 15,
    "start_time": "2022-08-06T18:17:58.787Z"
   },
   {
    "duration": 33,
    "start_time": "2022-08-06T18:17:58.804Z"
   },
   {
    "duration": 2267,
    "start_time": "2022-08-06T18:17:58.839Z"
   },
   {
    "duration": 10,
    "start_time": "2022-08-06T18:18:01.107Z"
   },
   {
    "duration": 605,
    "start_time": "2022-08-06T18:18:01.119Z"
   },
   {
    "duration": 6,
    "start_time": "2022-08-06T18:18:01.726Z"
   },
   {
    "duration": 10,
    "start_time": "2022-08-06T18:18:01.734Z"
   },
   {
    "duration": 15,
    "start_time": "2022-08-06T18:18:01.745Z"
   },
   {
    "duration": 12,
    "start_time": "2022-08-06T18:18:01.762Z"
   },
   {
    "duration": 13,
    "start_time": "2022-08-06T18:18:01.776Z"
   },
   {
    "duration": 13,
    "start_time": "2022-08-06T18:18:01.798Z"
   },
   {
    "duration": 20,
    "start_time": "2022-08-06T18:18:01.814Z"
   },
   {
    "duration": 27,
    "start_time": "2022-08-06T18:18:01.836Z"
   },
   {
    "duration": 205,
    "start_time": "2022-08-06T18:18:01.865Z"
   },
   {
    "duration": 11,
    "start_time": "2022-08-06T18:18:02.072Z"
   },
   {
    "duration": 14,
    "start_time": "2022-08-06T18:18:02.085Z"
   },
   {
    "duration": 9,
    "start_time": "2022-08-06T18:18:02.101Z"
   },
   {
    "duration": 11,
    "start_time": "2022-08-06T18:18:02.112Z"
   },
   {
    "duration": 23,
    "start_time": "2022-08-06T18:18:02.125Z"
   },
   {
    "duration": 83,
    "start_time": "2022-08-06T18:18:02.150Z"
   },
   {
    "duration": 20,
    "start_time": "2022-08-06T18:18:02.234Z"
   },
   {
    "duration": 21,
    "start_time": "2022-08-06T18:18:02.255Z"
   },
   {
    "duration": 6,
    "start_time": "2022-08-06T18:18:02.278Z"
   },
   {
    "duration": 17,
    "start_time": "2022-08-06T18:18:02.285Z"
   },
   {
    "duration": 13,
    "start_time": "2022-08-06T18:18:02.303Z"
   },
   {
    "duration": 1632,
    "start_time": "2022-08-06T18:18:02.317Z"
   },
   {
    "duration": 5,
    "start_time": "2022-08-06T18:18:03.951Z"
   },
   {
    "duration": 26,
    "start_time": "2022-08-06T18:18:03.958Z"
   },
   {
    "duration": 17,
    "start_time": "2022-08-06T18:18:03.986Z"
   },
   {
    "duration": 12,
    "start_time": "2022-08-06T18:18:04.005Z"
   },
   {
    "duration": 12,
    "start_time": "2022-08-06T18:18:04.019Z"
   },
   {
    "duration": 13,
    "start_time": "2022-08-06T18:18:04.033Z"
   },
   {
    "duration": 7,
    "start_time": "2022-08-06T18:18:04.048Z"
   },
   {
    "duration": 48,
    "start_time": "2022-08-06T18:18:04.057Z"
   },
   {
    "duration": 1665,
    "start_time": "2022-08-06T18:18:04.107Z"
   },
   {
    "duration": 1585,
    "start_time": "2022-08-06T18:18:05.774Z"
   },
   {
    "duration": 4,
    "start_time": "2022-08-06T18:18:07.361Z"
   },
   {
    "duration": 6,
    "start_time": "2022-08-06T18:18:07.367Z"
   },
   {
    "duration": 23,
    "start_time": "2022-08-06T18:18:07.378Z"
   },
   {
    "duration": 7,
    "start_time": "2022-08-06T18:18:07.403Z"
   },
   {
    "duration": 7,
    "start_time": "2022-08-06T18:18:07.411Z"
   },
   {
    "duration": 1570,
    "start_time": "2022-08-06T18:18:07.420Z"
   },
   {
    "duration": 1564,
    "start_time": "2022-08-06T18:18:08.991Z"
   },
   {
    "duration": 1532,
    "start_time": "2022-08-06T18:18:10.557Z"
   },
   {
    "duration": 8,
    "start_time": "2022-08-06T18:18:12.091Z"
   },
   {
    "duration": 10,
    "start_time": "2022-08-06T18:18:12.100Z"
   },
   {
    "duration": 10,
    "start_time": "2022-08-06T18:18:12.111Z"
   },
   {
    "duration": 27,
    "start_time": "2022-08-06T18:18:12.122Z"
   },
   {
    "duration": 13,
    "start_time": "2022-08-06T18:18:12.151Z"
   },
   {
    "duration": 5,
    "start_time": "2022-08-06T18:18:12.165Z"
   },
   {
    "duration": 30,
    "start_time": "2022-08-06T18:18:12.172Z"
   },
   {
    "duration": 34,
    "start_time": "2022-08-06T18:18:12.204Z"
   },
   {
    "duration": 5,
    "start_time": "2022-08-06T18:18:12.240Z"
   },
   {
    "duration": 13,
    "start_time": "2022-08-06T18:18:12.246Z"
   },
   {
    "duration": 18,
    "start_time": "2022-08-06T18:18:12.260Z"
   },
   {
    "duration": 208,
    "start_time": "2022-08-06T18:18:12.280Z"
   },
   {
    "duration": 8,
    "start_time": "2022-08-06T18:18:12.490Z"
   },
   {
    "duration": 420,
    "start_time": "2022-08-06T18:18:12.500Z"
   },
   {
    "duration": 219,
    "start_time": "2022-08-06T18:18:12.922Z"
   },
   {
    "duration": 215,
    "start_time": "2022-08-06T18:18:13.143Z"
   },
   {
    "duration": 2289,
    "start_time": "2022-08-06T18:18:13.360Z"
   },
   {
    "duration": 202,
    "start_time": "2022-08-06T18:18:15.651Z"
   },
   {
    "duration": 28,
    "start_time": "2022-08-06T18:18:15.855Z"
   },
   {
    "duration": 213,
    "start_time": "2022-08-06T18:18:15.885Z"
   },
   {
    "duration": 25,
    "start_time": "2022-08-06T18:18:16.100Z"
   },
   {
    "duration": 7,
    "start_time": "2022-08-06T18:18:16.126Z"
   },
   {
    "duration": 7,
    "start_time": "2022-08-06T18:18:16.135Z"
   },
   {
    "duration": 219,
    "start_time": "2022-08-06T18:18:16.144Z"
   },
   {
    "duration": 8,
    "start_time": "2022-08-06T18:18:16.364Z"
   },
   {
    "duration": 525,
    "start_time": "2022-08-06T18:18:16.374Z"
   },
   {
    "duration": 4,
    "start_time": "2022-08-06T18:18:16.901Z"
   },
   {
    "duration": 13,
    "start_time": "2022-08-06T18:18:16.906Z"
   },
   {
    "duration": 202,
    "start_time": "2022-08-06T18:18:16.921Z"
   },
   {
    "duration": 199,
    "start_time": "2022-08-06T18:18:17.125Z"
   },
   {
    "duration": 3,
    "start_time": "2022-08-06T18:18:17.326Z"
   },
   {
    "duration": 9,
    "start_time": "2022-08-06T18:18:17.331Z"
   },
   {
    "duration": 4,
    "start_time": "2022-08-06T18:18:17.341Z"
   },
   {
    "duration": 8,
    "start_time": "2022-08-06T18:18:17.347Z"
   },
   {
    "duration": 11,
    "start_time": "2022-08-06T18:18:17.356Z"
   },
   {
    "duration": 9,
    "start_time": "2022-08-06T18:18:17.369Z"
   },
   {
    "duration": 29,
    "start_time": "2022-08-06T18:18:17.379Z"
   },
   {
    "duration": 7,
    "start_time": "2022-08-06T18:18:17.410Z"
   },
   {
    "duration": 301,
    "start_time": "2022-08-06T18:18:17.418Z"
   },
   {
    "duration": 4,
    "start_time": "2022-08-06T18:18:17.721Z"
   },
   {
    "duration": 2582,
    "start_time": "2022-08-06T18:18:17.726Z"
   },
   {
    "duration": 213,
    "start_time": "2022-08-06T18:18:20.310Z"
   },
   {
    "duration": 499,
    "start_time": "2022-08-06T18:18:20.525Z"
   },
   {
    "duration": 206,
    "start_time": "2022-08-06T18:18:21.026Z"
   },
   {
    "duration": 28,
    "start_time": "2022-08-06T18:18:21.234Z"
   },
   {
    "duration": 545,
    "start_time": "2022-08-06T18:18:21.263Z"
   },
   {
    "duration": 369,
    "start_time": "2022-08-06T18:18:21.809Z"
   },
   {
    "duration": 18,
    "start_time": "2022-08-06T18:18:22.180Z"
   },
   {
    "duration": 7,
    "start_time": "2022-08-06T18:18:22.199Z"
   },
   {
    "duration": 806,
    "start_time": "2022-08-06T18:18:22.207Z"
   },
   {
    "duration": 211,
    "start_time": "2022-08-06T18:18:23.015Z"
   },
   {
    "duration": 1047,
    "start_time": "2022-08-06T18:18:23.228Z"
   },
   {
    "duration": 5,
    "start_time": "2022-08-06T18:18:24.277Z"
   },
   {
    "duration": 16,
    "start_time": "2022-08-06T18:18:24.283Z"
   },
   {
    "duration": 208,
    "start_time": "2022-08-06T18:18:24.301Z"
   },
   {
    "duration": 6,
    "start_time": "2022-08-06T18:18:24.511Z"
   },
   {
    "duration": 214,
    "start_time": "2022-08-06T18:18:24.519Z"
   },
   {
    "duration": 5,
    "start_time": "2022-08-06T18:18:24.735Z"
   },
   {
    "duration": 346,
    "start_time": "2022-08-06T18:18:24.741Z"
   },
   {
    "duration": 11,
    "start_time": "2022-08-06T18:18:25.089Z"
   },
   {
    "duration": 199,
    "start_time": "2022-08-06T18:18:25.102Z"
   },
   {
    "duration": 4,
    "start_time": "2022-08-06T18:18:25.303Z"
   },
   {
    "duration": 14,
    "start_time": "2022-08-06T18:18:25.309Z"
   },
   {
    "duration": 177,
    "start_time": "2022-08-06T18:18:25.324Z"
   },
   {
    "duration": 750,
    "start_time": "2022-08-06T18:18:25.502Z"
   },
   {
    "duration": 739,
    "start_time": "2022-08-06T18:18:26.253Z"
   },
   {
    "duration": 725,
    "start_time": "2022-08-06T18:18:26.994Z"
   },
   {
    "duration": 8,
    "start_time": "2022-08-06T18:18:27.721Z"
   },
   {
    "duration": 9,
    "start_time": "2022-08-06T18:18:27.731Z"
   },
   {
    "duration": 9,
    "start_time": "2022-08-06T18:18:27.742Z"
   },
   {
    "duration": 7,
    "start_time": "2022-08-06T18:18:27.753Z"
   },
   {
    "duration": 37,
    "start_time": "2022-08-06T18:18:27.762Z"
   },
   {
    "duration": 9,
    "start_time": "2022-08-06T18:18:27.801Z"
   },
   {
    "duration": 206,
    "start_time": "2022-08-06T18:18:27.811Z"
   },
   {
    "duration": 1627,
    "start_time": "2022-08-06T18:18:28.019Z"
   },
   {
    "duration": 1397,
    "start_time": "2022-08-06T18:18:29.653Z"
   },
   {
    "duration": 185,
    "start_time": "2022-08-06T18:18:31.052Z"
   },
   {
    "duration": 2748,
    "start_time": "2022-08-06T18:18:31.238Z"
   },
   {
    "duration": 2684,
    "start_time": "2022-08-06T18:18:33.987Z"
   },
   {
    "duration": 183,
    "start_time": "2022-08-06T18:18:36.673Z"
   },
   {
    "duration": 826,
    "start_time": "2022-08-06T18:18:36.858Z"
   },
   {
    "duration": 785,
    "start_time": "2022-08-06T18:18:37.686Z"
   },
   {
    "duration": 7,
    "start_time": "2022-08-06T18:18:38.472Z"
   },
   {
    "duration": 20,
    "start_time": "2022-08-06T18:18:38.481Z"
   },
   {
    "duration": 7,
    "start_time": "2022-08-06T18:18:38.502Z"
   },
   {
    "duration": 8,
    "start_time": "2022-08-06T18:18:38.511Z"
   },
   {
    "duration": 7,
    "start_time": "2022-08-06T18:18:38.521Z"
   },
   {
    "duration": 18,
    "start_time": "2022-08-06T18:18:38.530Z"
   },
   {
    "duration": 208,
    "start_time": "2022-08-06T18:18:38.550Z"
   },
   {
    "duration": 16,
    "start_time": "2022-08-06T18:18:38.760Z"
   },
   {
    "duration": 220,
    "start_time": "2022-08-06T18:18:38.778Z"
   },
   {
    "duration": 15,
    "start_time": "2022-08-06T18:18:39.000Z"
   },
   {
    "duration": 241,
    "start_time": "2022-08-06T18:18:39.017Z"
   },
   {
    "duration": 10,
    "start_time": "2022-08-06T18:18:39.260Z"
   },
   {
    "duration": 27,
    "start_time": "2022-08-06T18:18:39.272Z"
   },
   {
    "duration": 11,
    "start_time": "2022-08-06T18:18:39.301Z"
   },
   {
    "duration": 3,
    "start_time": "2022-08-06T18:18:39.314Z"
   },
   {
    "duration": 15,
    "start_time": "2022-08-06T18:18:39.318Z"
   },
   {
    "duration": 34,
    "start_time": "2022-08-06T18:18:39.335Z"
   },
   {
    "duration": 6,
    "start_time": "2022-08-06T18:18:39.398Z"
   },
   {
    "duration": 21,
    "start_time": "2022-08-06T18:18:39.405Z"
   },
   {
    "duration": 256,
    "start_time": "2022-08-06T18:18:39.428Z"
   },
   {
    "duration": 36,
    "start_time": "2022-08-06T18:20:37.346Z"
   },
   {
    "duration": 395,
    "start_time": "2022-08-08T13:02:56.129Z"
   },
   {
    "duration": 334,
    "start_time": "2022-08-08T13:02:58.242Z"
   },
   {
    "duration": 19,
    "start_time": "2022-08-08T13:03:00.008Z"
   },
   {
    "duration": 36,
    "start_time": "2022-08-08T13:03:03.871Z"
   },
   {
    "duration": 3,
    "start_time": "2022-08-08T13:03:17.678Z"
   },
   {
    "duration": 26,
    "start_time": "2022-08-08T13:06:12.792Z"
   },
   {
    "duration": 2,
    "start_time": "2022-08-08T13:06:33.167Z"
   },
   {
    "duration": 104,
    "start_time": "2022-08-08T13:06:34.585Z"
   },
   {
    "duration": 13,
    "start_time": "2022-08-08T13:06:35.260Z"
   },
   {
    "duration": 24,
    "start_time": "2022-08-08T13:06:36.997Z"
   },
   {
    "duration": 2,
    "start_time": "2022-08-08T13:07:13.923Z"
   },
   {
    "duration": 87,
    "start_time": "2022-08-08T13:07:14.451Z"
   },
   {
    "duration": 3,
    "start_time": "2022-08-08T13:07:14.899Z"
   },
   {
    "duration": 15,
    "start_time": "2022-08-08T13:07:15.437Z"
   },
   {
    "duration": 25,
    "start_time": "2022-08-08T13:07:16.109Z"
   },
   {
    "duration": 96,
    "start_time": "2022-08-08T13:07:41.882Z"
   },
   {
    "duration": 57,
    "start_time": "2022-08-08T13:07:44.001Z"
   },
   {
    "duration": 54,
    "start_time": "2022-08-08T13:07:54.856Z"
   },
   {
    "duration": 2299,
    "start_time": "2022-08-08T13:08:00.839Z"
   },
   {
    "duration": 85,
    "start_time": "2022-08-08T13:08:11.753Z"
   },
   {
    "duration": 1855,
    "start_time": "2022-08-08T13:08:16.827Z"
   },
   {
    "duration": 95,
    "start_time": "2022-08-08T13:08:41.384Z"
   },
   {
    "duration": 1936,
    "start_time": "2022-08-08T13:08:45.977Z"
   },
   {
    "duration": 1776,
    "start_time": "2022-08-08T13:09:01.519Z"
   },
   {
    "duration": 1925,
    "start_time": "2022-08-08T13:09:08.921Z"
   },
   {
    "duration": 1875,
    "start_time": "2022-08-08T13:09:42.148Z"
   },
   {
    "duration": 1737,
    "start_time": "2022-08-08T13:10:17.954Z"
   },
   {
    "duration": 1958,
    "start_time": "2022-08-08T13:12:40.961Z"
   },
   {
    "duration": 372,
    "start_time": "2022-08-08T13:12:55.630Z"
   },
   {
    "duration": 111,
    "start_time": "2022-08-08T13:12:56.006Z"
   },
   {
    "duration": 2,
    "start_time": "2022-08-08T13:12:56.119Z"
   },
   {
    "duration": 19,
    "start_time": "2022-08-08T13:12:56.123Z"
   },
   {
    "duration": 28,
    "start_time": "2022-08-08T13:12:56.144Z"
   },
   {
    "duration": 2142,
    "start_time": "2022-08-08T13:12:56.188Z"
   },
   {
    "duration": 10,
    "start_time": "2022-08-08T13:12:58.332Z"
   },
   {
    "duration": 592,
    "start_time": "2022-08-08T13:12:58.344Z"
   },
   {
    "duration": 6,
    "start_time": "2022-08-08T13:12:58.939Z"
   },
   {
    "duration": 19,
    "start_time": "2022-08-08T13:12:58.949Z"
   },
   {
    "duration": 14,
    "start_time": "2022-08-08T13:12:58.970Z"
   },
   {
    "duration": 10,
    "start_time": "2022-08-08T13:12:58.987Z"
   },
   {
    "duration": 8,
    "start_time": "2022-08-08T13:12:58.998Z"
   },
   {
    "duration": 14,
    "start_time": "2022-08-08T13:12:59.008Z"
   },
   {
    "duration": 19,
    "start_time": "2022-08-08T13:12:59.024Z"
   },
   {
    "duration": 20,
    "start_time": "2022-08-08T13:12:59.045Z"
   },
   {
    "duration": 191,
    "start_time": "2022-08-08T13:12:59.066Z"
   },
   {
    "duration": 10,
    "start_time": "2022-08-08T13:12:59.259Z"
   },
   {
    "duration": 18,
    "start_time": "2022-08-08T13:12:59.270Z"
   },
   {
    "duration": 11,
    "start_time": "2022-08-08T13:12:59.290Z"
   },
   {
    "duration": 11,
    "start_time": "2022-08-08T13:12:59.302Z"
   },
   {
    "duration": 11,
    "start_time": "2022-08-08T13:12:59.315Z"
   },
   {
    "duration": 6,
    "start_time": "2022-08-08T13:12:59.327Z"
   },
   {
    "duration": 19,
    "start_time": "2022-08-08T13:12:59.334Z"
   },
   {
    "duration": 12,
    "start_time": "2022-08-08T13:12:59.355Z"
   },
   {
    "duration": 21,
    "start_time": "2022-08-08T13:12:59.369Z"
   },
   {
    "duration": 9,
    "start_time": "2022-08-08T13:12:59.391Z"
   },
   {
    "duration": 5,
    "start_time": "2022-08-08T13:12:59.403Z"
   },
   {
    "duration": 1538,
    "start_time": "2022-08-08T13:12:59.409Z"
   },
   {
    "duration": 4,
    "start_time": "2022-08-08T13:13:00.949Z"
   },
   {
    "duration": 26,
    "start_time": "2022-08-08T13:13:00.954Z"
   },
   {
    "duration": 23,
    "start_time": "2022-08-08T13:13:00.982Z"
   },
   {
    "duration": 47,
    "start_time": "2022-08-08T13:13:01.006Z"
   },
   {
    "duration": 21,
    "start_time": "2022-08-08T13:13:01.055Z"
   },
   {
    "duration": 49,
    "start_time": "2022-08-08T13:13:01.078Z"
   },
   {
    "duration": 35,
    "start_time": "2022-08-08T13:13:01.129Z"
   },
   {
    "duration": 26,
    "start_time": "2022-08-08T13:13:01.166Z"
   },
   {
    "duration": 1540,
    "start_time": "2022-08-08T13:13:01.194Z"
   },
   {
    "duration": 1467,
    "start_time": "2022-08-08T13:13:02.736Z"
   },
   {
    "duration": 4,
    "start_time": "2022-08-08T13:13:04.205Z"
   },
   {
    "duration": 11,
    "start_time": "2022-08-08T13:13:04.211Z"
   },
   {
    "duration": 8,
    "start_time": "2022-08-08T13:13:04.224Z"
   },
   {
    "duration": 7,
    "start_time": "2022-08-08T13:13:04.234Z"
   },
   {
    "duration": 9,
    "start_time": "2022-08-08T13:13:04.243Z"
   },
   {
    "duration": 1485,
    "start_time": "2022-08-08T13:13:04.253Z"
   },
   {
    "duration": 1542,
    "start_time": "2022-08-08T13:13:05.739Z"
   },
   {
    "duration": 1457,
    "start_time": "2022-08-08T13:13:07.283Z"
   },
   {
    "duration": 4,
    "start_time": "2022-08-08T13:13:08.742Z"
   },
   {
    "duration": 10,
    "start_time": "2022-08-08T13:13:08.748Z"
   },
   {
    "duration": 7,
    "start_time": "2022-08-08T13:13:08.760Z"
   },
   {
    "duration": 37,
    "start_time": "2022-08-08T13:13:08.768Z"
   },
   {
    "duration": 13,
    "start_time": "2022-08-08T13:13:08.806Z"
   },
   {
    "duration": 4,
    "start_time": "2022-08-08T13:13:08.821Z"
   },
   {
    "duration": 11,
    "start_time": "2022-08-08T13:13:08.826Z"
   },
   {
    "duration": 14,
    "start_time": "2022-08-08T13:13:08.839Z"
   },
   {
    "duration": 7,
    "start_time": "2022-08-08T13:13:08.854Z"
   },
   {
    "duration": 9,
    "start_time": "2022-08-08T13:13:08.887Z"
   },
   {
    "duration": 19,
    "start_time": "2022-08-08T13:13:08.898Z"
   },
   {
    "duration": 222,
    "start_time": "2022-08-08T13:13:08.919Z"
   },
   {
    "duration": 4,
    "start_time": "2022-08-08T13:13:09.142Z"
   },
   {
    "duration": 536,
    "start_time": "2022-08-08T13:13:09.147Z"
   },
   {
    "duration": 203,
    "start_time": "2022-08-08T13:13:09.686Z"
   },
   {
    "duration": 215,
    "start_time": "2022-08-08T13:13:09.891Z"
   },
   {
    "duration": 2307,
    "start_time": "2022-08-08T13:13:10.108Z"
   },
   {
    "duration": 219,
    "start_time": "2022-08-08T13:13:12.417Z"
   },
   {
    "duration": 29,
    "start_time": "2022-08-08T13:13:12.637Z"
   },
   {
    "duration": 208,
    "start_time": "2022-08-08T13:13:12.667Z"
   },
   {
    "duration": 27,
    "start_time": "2022-08-08T13:13:12.877Z"
   },
   {
    "duration": 7,
    "start_time": "2022-08-08T13:13:12.906Z"
   },
   {
    "duration": 12,
    "start_time": "2022-08-08T13:13:12.914Z"
   },
   {
    "duration": 231,
    "start_time": "2022-08-08T13:13:12.928Z"
   },
   {
    "duration": 8,
    "start_time": "2022-08-08T13:13:13.161Z"
   },
   {
    "duration": 437,
    "start_time": "2022-08-08T13:13:13.170Z"
   },
   {
    "duration": 3,
    "start_time": "2022-08-08T13:13:13.609Z"
   },
   {
    "duration": 15,
    "start_time": "2022-08-08T13:13:13.613Z"
   },
   {
    "duration": 206,
    "start_time": "2022-08-08T13:13:13.630Z"
   },
   {
    "duration": 351,
    "start_time": "2022-08-08T13:13:13.838Z"
   },
   {
    "duration": 4,
    "start_time": "2022-08-08T13:13:14.191Z"
   },
   {
    "duration": 9,
    "start_time": "2022-08-08T13:13:14.196Z"
   },
   {
    "duration": 9,
    "start_time": "2022-08-08T13:13:14.207Z"
   },
   {
    "duration": 8,
    "start_time": "2022-08-08T13:13:14.218Z"
   },
   {
    "duration": 9,
    "start_time": "2022-08-08T13:13:14.233Z"
   },
   {
    "duration": 10,
    "start_time": "2022-08-08T13:13:14.243Z"
   },
   {
    "duration": 8,
    "start_time": "2022-08-08T13:13:14.254Z"
   },
   {
    "duration": 25,
    "start_time": "2022-08-08T13:13:14.263Z"
   },
   {
    "duration": 275,
    "start_time": "2022-08-08T13:13:14.289Z"
   },
   {
    "duration": 3,
    "start_time": "2022-08-08T13:13:14.566Z"
   },
   {
    "duration": 2710,
    "start_time": "2022-08-08T13:13:14.571Z"
   },
   {
    "duration": 226,
    "start_time": "2022-08-08T13:13:17.282Z"
   },
   {
    "duration": 550,
    "start_time": "2022-08-08T13:13:17.510Z"
   },
   {
    "duration": 209,
    "start_time": "2022-08-08T13:13:18.062Z"
   },
   {
    "duration": 40,
    "start_time": "2022-08-08T13:13:18.272Z"
   },
   {
    "duration": 590,
    "start_time": "2022-08-08T13:13:18.314Z"
   },
   {
    "duration": 402,
    "start_time": "2022-08-08T13:13:18.905Z"
   },
   {
    "duration": 8,
    "start_time": "2022-08-08T13:13:19.308Z"
   },
   {
    "duration": 7,
    "start_time": "2022-08-08T13:13:19.317Z"
   },
   {
    "duration": 849,
    "start_time": "2022-08-08T13:13:19.325Z"
   },
   {
    "duration": 214,
    "start_time": "2022-08-08T13:13:20.175Z"
   },
   {
    "duration": 1038,
    "start_time": "2022-08-08T13:13:20.391Z"
   },
   {
    "duration": 6,
    "start_time": "2022-08-08T13:13:21.431Z"
   },
   {
    "duration": 9,
    "start_time": "2022-08-08T13:13:21.439Z"
   },
   {
    "duration": 394,
    "start_time": "2022-08-08T13:13:21.449Z"
   },
   {
    "duration": 5,
    "start_time": "2022-08-08T13:13:21.845Z"
   },
   {
    "duration": 220,
    "start_time": "2022-08-08T13:13:21.851Z"
   },
   {
    "duration": 5,
    "start_time": "2022-08-08T13:13:22.073Z"
   },
   {
    "duration": 166,
    "start_time": "2022-08-08T13:13:22.087Z"
   },
   {
    "duration": 5,
    "start_time": "2022-08-08T13:13:22.255Z"
   },
   {
    "duration": 205,
    "start_time": "2022-08-08T13:13:22.262Z"
   },
   {
    "duration": 6,
    "start_time": "2022-08-08T13:13:22.469Z"
   },
   {
    "duration": 20,
    "start_time": "2022-08-08T13:13:22.477Z"
   },
   {
    "duration": 187,
    "start_time": "2022-08-08T13:13:22.498Z"
   },
   {
    "duration": 771,
    "start_time": "2022-08-08T13:13:22.687Z"
   },
   {
    "duration": 769,
    "start_time": "2022-08-08T13:13:23.459Z"
   },
   {
    "duration": 969,
    "start_time": "2022-08-08T13:13:24.230Z"
   },
   {
    "duration": 9,
    "start_time": "2022-08-08T13:13:25.200Z"
   },
   {
    "duration": 13,
    "start_time": "2022-08-08T13:13:25.210Z"
   },
   {
    "duration": 7,
    "start_time": "2022-08-08T13:13:25.224Z"
   },
   {
    "duration": 9,
    "start_time": "2022-08-08T13:13:25.233Z"
   },
   {
    "duration": 9,
    "start_time": "2022-08-08T13:13:25.243Z"
   },
   {
    "duration": 38,
    "start_time": "2022-08-08T13:13:25.253Z"
   },
   {
    "duration": 181,
    "start_time": "2022-08-08T13:13:25.292Z"
   },
   {
    "duration": 1476,
    "start_time": "2022-08-08T13:13:25.474Z"
   },
   {
    "duration": 1858,
    "start_time": "2022-08-08T13:13:26.952Z"
   },
   {
    "duration": 189,
    "start_time": "2022-08-08T13:13:28.812Z"
   },
   {
    "duration": 2651,
    "start_time": "2022-08-08T13:13:29.003Z"
   },
   {
    "duration": 2695,
    "start_time": "2022-08-08T13:13:31.656Z"
   },
   {
    "duration": 185,
    "start_time": "2022-08-08T13:13:34.352Z"
   },
   {
    "duration": 824,
    "start_time": "2022-08-08T13:13:34.539Z"
   },
   {
    "duration": 1111,
    "start_time": "2022-08-08T13:13:35.365Z"
   },
   {
    "duration": 16,
    "start_time": "2022-08-08T13:13:36.478Z"
   },
   {
    "duration": 18,
    "start_time": "2022-08-08T13:13:36.496Z"
   },
   {
    "duration": 10,
    "start_time": "2022-08-08T13:13:36.516Z"
   },
   {
    "duration": 14,
    "start_time": "2022-08-08T13:13:36.528Z"
   },
   {
    "duration": 7,
    "start_time": "2022-08-08T13:13:36.543Z"
   },
   {
    "duration": 36,
    "start_time": "2022-08-08T13:13:36.552Z"
   },
   {
    "duration": 196,
    "start_time": "2022-08-08T13:13:36.590Z"
   },
   {
    "duration": 15,
    "start_time": "2022-08-08T13:13:36.787Z"
   },
   {
    "duration": 218,
    "start_time": "2022-08-08T13:13:36.803Z"
   },
   {
    "duration": 15,
    "start_time": "2022-08-08T13:13:37.022Z"
   },
   {
    "duration": 239,
    "start_time": "2022-08-08T13:13:37.039Z"
   },
   {
    "duration": 15,
    "start_time": "2022-08-08T13:13:37.280Z"
   },
   {
    "duration": 10,
    "start_time": "2022-08-08T13:13:37.296Z"
   },
   {
    "duration": 8,
    "start_time": "2022-08-08T13:13:37.307Z"
   },
   {
    "duration": 7,
    "start_time": "2022-08-08T13:13:37.317Z"
   },
   {
    "duration": 15,
    "start_time": "2022-08-08T13:13:37.325Z"
   },
   {
    "duration": 58,
    "start_time": "2022-08-08T13:13:37.341Z"
   },
   {
    "duration": 6,
    "start_time": "2022-08-08T13:13:37.401Z"
   },
   {
    "duration": 24,
    "start_time": "2022-08-08T13:13:37.409Z"
   },
   {
    "duration": 273,
    "start_time": "2022-08-08T13:13:37.434Z"
   },
   {
    "duration": 5,
    "start_time": "2022-08-08T13:17:01.321Z"
   },
   {
    "duration": 198,
    "start_time": "2022-08-08T13:17:58.474Z"
   },
   {
    "duration": 14,
    "start_time": "2022-08-08T13:20:01.357Z"
   },
   {
    "duration": 76,
    "start_time": "2022-08-08T13:20:14.611Z"
   },
   {
    "duration": 420,
    "start_time": "2022-08-08T13:20:21.713Z"
   },
   {
    "duration": 95,
    "start_time": "2022-08-08T13:20:22.135Z"
   },
   {
    "duration": 3,
    "start_time": "2022-08-08T13:20:22.231Z"
   },
   {
    "duration": 19,
    "start_time": "2022-08-08T13:20:22.235Z"
   },
   {
    "duration": 40,
    "start_time": "2022-08-08T13:20:22.256Z"
   },
   {
    "duration": 2181,
    "start_time": "2022-08-08T13:20:22.297Z"
   },
   {
    "duration": 11,
    "start_time": "2022-08-08T13:20:24.480Z"
   },
   {
    "duration": 629,
    "start_time": "2022-08-08T13:20:24.493Z"
   },
   {
    "duration": 6,
    "start_time": "2022-08-08T13:20:25.124Z"
   },
   {
    "duration": 24,
    "start_time": "2022-08-08T13:20:25.132Z"
   },
   {
    "duration": 20,
    "start_time": "2022-08-08T13:20:25.158Z"
   },
   {
    "duration": 22,
    "start_time": "2022-08-08T13:20:25.179Z"
   },
   {
    "duration": 20,
    "start_time": "2022-08-08T13:20:25.202Z"
   },
   {
    "duration": 26,
    "start_time": "2022-08-08T13:20:25.224Z"
   },
   {
    "duration": 7,
    "start_time": "2022-08-08T13:20:25.251Z"
   },
   {
    "duration": 17,
    "start_time": "2022-08-08T13:20:25.259Z"
   },
   {
    "duration": 183,
    "start_time": "2022-08-08T13:20:25.277Z"
   },
   {
    "duration": 10,
    "start_time": "2022-08-08T13:20:25.462Z"
   },
   {
    "duration": 24,
    "start_time": "2022-08-08T13:20:25.474Z"
   },
   {
    "duration": 16,
    "start_time": "2022-08-08T13:20:25.499Z"
   },
   {
    "duration": 13,
    "start_time": "2022-08-08T13:20:25.517Z"
   },
   {
    "duration": 21,
    "start_time": "2022-08-08T13:20:25.531Z"
   },
   {
    "duration": 9,
    "start_time": "2022-08-08T13:20:25.554Z"
   },
   {
    "duration": 47,
    "start_time": "2022-08-08T13:20:25.564Z"
   },
   {
    "duration": 23,
    "start_time": "2022-08-08T13:20:25.613Z"
   },
   {
    "duration": 8,
    "start_time": "2022-08-08T13:20:25.638Z"
   },
   {
    "duration": 21,
    "start_time": "2022-08-08T13:20:25.647Z"
   },
   {
    "duration": 24,
    "start_time": "2022-08-08T13:20:25.674Z"
   },
   {
    "duration": 1650,
    "start_time": "2022-08-08T13:20:25.700Z"
   },
   {
    "duration": 4,
    "start_time": "2022-08-08T13:20:27.352Z"
   },
   {
    "duration": 18,
    "start_time": "2022-08-08T13:20:27.358Z"
   },
   {
    "duration": 17,
    "start_time": "2022-08-08T13:20:27.377Z"
   },
   {
    "duration": 8,
    "start_time": "2022-08-08T13:20:27.395Z"
   },
   {
    "duration": 10,
    "start_time": "2022-08-08T13:20:27.405Z"
   },
   {
    "duration": 9,
    "start_time": "2022-08-08T13:20:27.416Z"
   },
   {
    "duration": 7,
    "start_time": "2022-08-08T13:20:27.426Z"
   },
   {
    "duration": 10,
    "start_time": "2022-08-08T13:20:27.434Z"
   },
   {
    "duration": 1542,
    "start_time": "2022-08-08T13:20:27.446Z"
   },
   {
    "duration": 1537,
    "start_time": "2022-08-08T13:20:28.990Z"
   },
   {
    "duration": 5,
    "start_time": "2022-08-08T13:20:30.529Z"
   },
   {
    "duration": 23,
    "start_time": "2022-08-08T13:20:30.535Z"
   },
   {
    "duration": 32,
    "start_time": "2022-08-08T13:20:30.559Z"
   },
   {
    "duration": 34,
    "start_time": "2022-08-08T13:20:30.592Z"
   },
   {
    "duration": 36,
    "start_time": "2022-08-08T13:20:30.628Z"
   },
   {
    "duration": 1502,
    "start_time": "2022-08-08T13:20:30.666Z"
   },
   {
    "duration": 1478,
    "start_time": "2022-08-08T13:20:32.170Z"
   },
   {
    "duration": 1462,
    "start_time": "2022-08-08T13:20:33.649Z"
   },
   {
    "duration": 5,
    "start_time": "2022-08-08T13:20:35.113Z"
   },
   {
    "duration": 5,
    "start_time": "2022-08-08T13:20:35.120Z"
   },
   {
    "duration": 8,
    "start_time": "2022-08-08T13:20:35.127Z"
   },
   {
    "duration": 31,
    "start_time": "2022-08-08T13:20:35.137Z"
   },
   {
    "duration": 26,
    "start_time": "2022-08-08T13:20:35.170Z"
   },
   {
    "duration": 4,
    "start_time": "2022-08-08T13:20:35.198Z"
   },
   {
    "duration": 14,
    "start_time": "2022-08-08T13:20:35.203Z"
   },
   {
    "duration": 15,
    "start_time": "2022-08-08T13:20:35.218Z"
   },
   {
    "duration": 5,
    "start_time": "2022-08-08T13:20:35.235Z"
   },
   {
    "duration": 11,
    "start_time": "2022-08-08T13:20:35.241Z"
   },
   {
    "duration": 34,
    "start_time": "2022-08-08T13:20:35.253Z"
   },
   {
    "duration": 207,
    "start_time": "2022-08-08T13:20:35.289Z"
   },
   {
    "duration": 4,
    "start_time": "2022-08-08T13:20:35.497Z"
   },
   {
    "duration": 545,
    "start_time": "2022-08-08T13:20:35.503Z"
   },
   {
    "duration": 225,
    "start_time": "2022-08-08T13:20:36.050Z"
   },
   {
    "duration": 264,
    "start_time": "2022-08-08T13:20:36.278Z"
   },
   {
    "duration": 2272,
    "start_time": "2022-08-08T13:20:36.544Z"
   },
   {
    "duration": 216,
    "start_time": "2022-08-08T13:20:38.818Z"
   },
   {
    "duration": 26,
    "start_time": "2022-08-08T13:20:39.035Z"
   },
   {
    "duration": 195,
    "start_time": "2022-08-08T13:20:39.062Z"
   },
   {
    "duration": 30,
    "start_time": "2022-08-08T13:20:39.258Z"
   },
   {
    "duration": 37,
    "start_time": "2022-08-08T13:20:39.290Z"
   },
   {
    "duration": 17,
    "start_time": "2022-08-08T13:20:39.328Z"
   },
   {
    "duration": 222,
    "start_time": "2022-08-08T13:20:39.347Z"
   },
   {
    "duration": 9,
    "start_time": "2022-08-08T13:20:39.570Z"
   },
   {
    "duration": 421,
    "start_time": "2022-08-08T13:20:39.586Z"
   },
   {
    "duration": 3,
    "start_time": "2022-08-08T13:20:40.009Z"
   },
   {
    "duration": 16,
    "start_time": "2022-08-08T13:20:40.014Z"
   },
   {
    "duration": 211,
    "start_time": "2022-08-08T13:20:40.031Z"
   },
   {
    "duration": 329,
    "start_time": "2022-08-08T13:20:40.244Z"
   },
   {
    "duration": 4,
    "start_time": "2022-08-08T13:20:40.574Z"
   },
   {
    "duration": 8,
    "start_time": "2022-08-08T13:20:40.579Z"
   },
   {
    "duration": 7,
    "start_time": "2022-08-08T13:20:40.588Z"
   },
   {
    "duration": 8,
    "start_time": "2022-08-08T13:20:40.597Z"
   },
   {
    "duration": 6,
    "start_time": "2022-08-08T13:20:40.612Z"
   },
   {
    "duration": 9,
    "start_time": "2022-08-08T13:20:40.619Z"
   },
   {
    "duration": 17,
    "start_time": "2022-08-08T13:20:40.629Z"
   },
   {
    "duration": 13,
    "start_time": "2022-08-08T13:20:40.648Z"
   },
   {
    "duration": 272,
    "start_time": "2022-08-08T13:20:40.663Z"
   },
   {
    "duration": 5,
    "start_time": "2022-08-08T13:20:40.937Z"
   },
   {
    "duration": 2535,
    "start_time": "2022-08-08T13:20:40.944Z"
   },
   {
    "duration": 216,
    "start_time": "2022-08-08T13:20:43.481Z"
   },
   {
    "duration": 508,
    "start_time": "2022-08-08T13:20:43.698Z"
   },
   {
    "duration": 216,
    "start_time": "2022-08-08T13:20:44.208Z"
   },
   {
    "duration": 32,
    "start_time": "2022-08-08T13:20:44.425Z"
   },
   {
    "duration": 575,
    "start_time": "2022-08-08T13:20:44.459Z"
   },
   {
    "duration": 374,
    "start_time": "2022-08-08T13:20:45.035Z"
   },
   {
    "duration": 7,
    "start_time": "2022-08-08T13:20:45.411Z"
   },
   {
    "duration": 7,
    "start_time": "2022-08-08T13:20:45.419Z"
   },
   {
    "duration": 873,
    "start_time": "2022-08-08T13:20:45.427Z"
   },
   {
    "duration": 275,
    "start_time": "2022-08-08T13:20:46.303Z"
   },
   {
    "duration": 1023,
    "start_time": "2022-08-08T13:20:46.586Z"
   },
   {
    "duration": 5,
    "start_time": "2022-08-08T13:20:47.611Z"
   },
   {
    "duration": 9,
    "start_time": "2022-08-08T13:20:47.618Z"
   },
   {
    "duration": 404,
    "start_time": "2022-08-08T13:20:47.629Z"
   },
   {
    "duration": 6,
    "start_time": "2022-08-08T13:20:48.035Z"
   },
   {
    "duration": 195,
    "start_time": "2022-08-08T13:20:48.043Z"
   },
   {
    "duration": 5,
    "start_time": "2022-08-08T13:20:48.240Z"
   },
   {
    "duration": 163,
    "start_time": "2022-08-08T13:20:48.247Z"
   },
   {
    "duration": 5,
    "start_time": "2022-08-08T13:20:48.412Z"
   },
   {
    "duration": 189,
    "start_time": "2022-08-08T13:20:48.418Z"
   },
   {
    "duration": 5,
    "start_time": "2022-08-08T13:20:48.609Z"
   },
   {
    "duration": 13,
    "start_time": "2022-08-08T13:20:48.615Z"
   },
   {
    "duration": 175,
    "start_time": "2022-08-08T13:20:48.629Z"
   },
   {
    "duration": 758,
    "start_time": "2022-08-08T13:20:48.805Z"
   },
   {
    "duration": 791,
    "start_time": "2022-08-08T13:20:49.564Z"
   },
   {
    "duration": 943,
    "start_time": "2022-08-08T13:20:50.356Z"
   },
   {
    "duration": 8,
    "start_time": "2022-08-08T13:20:51.301Z"
   },
   {
    "duration": 9,
    "start_time": "2022-08-08T13:20:51.311Z"
   },
   {
    "duration": 7,
    "start_time": "2022-08-08T13:20:51.322Z"
   },
   {
    "duration": 8,
    "start_time": "2022-08-08T13:20:51.330Z"
   },
   {
    "duration": 9,
    "start_time": "2022-08-08T13:20:51.339Z"
   },
   {
    "duration": 37,
    "start_time": "2022-08-08T13:20:51.350Z"
   },
   {
    "duration": 181,
    "start_time": "2022-08-08T13:20:51.389Z"
   },
   {
    "duration": 1448,
    "start_time": "2022-08-08T13:20:51.572Z"
   },
   {
    "duration": 1642,
    "start_time": "2022-08-08T13:20:53.021Z"
   },
   {
    "duration": 182,
    "start_time": "2022-08-08T13:20:54.664Z"
   },
   {
    "duration": 2669,
    "start_time": "2022-08-08T13:20:54.848Z"
   },
   {
    "duration": 2763,
    "start_time": "2022-08-08T13:20:57.519Z"
   },
   {
    "duration": 180,
    "start_time": "2022-08-08T13:21:00.287Z"
   },
   {
    "duration": 873,
    "start_time": "2022-08-08T13:21:00.469Z"
   },
   {
    "duration": 1131,
    "start_time": "2022-08-08T13:21:01.344Z"
   },
   {
    "duration": 14,
    "start_time": "2022-08-08T13:21:02.476Z"
   },
   {
    "duration": 10,
    "start_time": "2022-08-08T13:21:02.492Z"
   },
   {
    "duration": 15,
    "start_time": "2022-08-08T13:21:02.504Z"
   },
   {
    "duration": 8,
    "start_time": "2022-08-08T13:21:02.520Z"
   },
   {
    "duration": 11,
    "start_time": "2022-08-08T13:21:02.530Z"
   },
   {
    "duration": 28,
    "start_time": "2022-08-08T13:21:02.542Z"
   },
   {
    "duration": 179,
    "start_time": "2022-08-08T13:21:02.586Z"
   },
   {
    "duration": 25,
    "start_time": "2022-08-08T13:21:02.767Z"
   },
   {
    "duration": 227,
    "start_time": "2022-08-08T13:21:02.793Z"
   },
   {
    "duration": 15,
    "start_time": "2022-08-08T13:21:03.021Z"
   },
   {
    "duration": 244,
    "start_time": "2022-08-08T13:21:03.038Z"
   },
   {
    "duration": 11,
    "start_time": "2022-08-08T13:21:03.283Z"
   },
   {
    "duration": 13,
    "start_time": "2022-08-08T13:21:03.296Z"
   },
   {
    "duration": 9,
    "start_time": "2022-08-08T13:21:03.310Z"
   },
   {
    "duration": 3,
    "start_time": "2022-08-08T13:21:03.320Z"
   },
   {
    "duration": 15,
    "start_time": "2022-08-08T13:21:03.324Z"
   },
   {
    "duration": 58,
    "start_time": "2022-08-08T13:21:03.341Z"
   },
   {
    "duration": 4,
    "start_time": "2022-08-08T13:21:03.401Z"
   },
   {
    "duration": 21,
    "start_time": "2022-08-08T13:21:03.406Z"
   },
   {
    "duration": 262,
    "start_time": "2022-08-08T13:21:03.428Z"
   },
   {
    "duration": 387,
    "start_time": "2022-08-08T13:23:19.918Z"
   },
   {
    "duration": 95,
    "start_time": "2022-08-08T13:23:20.307Z"
   },
   {
    "duration": 2,
    "start_time": "2022-08-08T13:23:20.404Z"
   },
   {
    "duration": 27,
    "start_time": "2022-08-08T13:23:20.408Z"
   },
   {
    "duration": 30,
    "start_time": "2022-08-08T13:23:20.437Z"
   },
   {
    "duration": 2173,
    "start_time": "2022-08-08T13:23:20.469Z"
   },
   {
    "duration": 8,
    "start_time": "2022-08-08T13:23:22.644Z"
   },
   {
    "duration": 604,
    "start_time": "2022-08-08T13:23:22.654Z"
   },
   {
    "duration": 6,
    "start_time": "2022-08-08T13:23:23.259Z"
   },
   {
    "duration": 4,
    "start_time": "2022-08-08T13:23:23.267Z"
   },
   {
    "duration": 6,
    "start_time": "2022-08-08T13:23:23.286Z"
   },
   {
    "duration": 8,
    "start_time": "2022-08-08T13:23:23.294Z"
   },
   {
    "duration": 5,
    "start_time": "2022-08-08T13:23:23.303Z"
   },
   {
    "duration": 10,
    "start_time": "2022-08-08T13:23:23.310Z"
   },
   {
    "duration": 9,
    "start_time": "2022-08-08T13:23:23.321Z"
   },
   {
    "duration": 6,
    "start_time": "2022-08-08T13:23:23.331Z"
   },
   {
    "duration": 197,
    "start_time": "2022-08-08T13:23:23.339Z"
   },
   {
    "duration": 11,
    "start_time": "2022-08-08T13:23:23.538Z"
   },
   {
    "duration": 5,
    "start_time": "2022-08-08T13:23:23.551Z"
   },
   {
    "duration": 18,
    "start_time": "2022-08-08T13:23:23.558Z"
   },
   {
    "duration": 6,
    "start_time": "2022-08-08T13:23:23.587Z"
   },
   {
    "duration": 13,
    "start_time": "2022-08-08T13:23:23.595Z"
   },
   {
    "duration": 6,
    "start_time": "2022-08-08T13:23:23.609Z"
   },
   {
    "duration": 13,
    "start_time": "2022-08-08T13:23:23.616Z"
   },
   {
    "duration": 16,
    "start_time": "2022-08-08T13:23:23.630Z"
   },
   {
    "duration": 7,
    "start_time": "2022-08-08T13:23:23.648Z"
   },
   {
    "duration": 6,
    "start_time": "2022-08-08T13:23:23.656Z"
   },
   {
    "duration": 7,
    "start_time": "2022-08-08T13:23:23.689Z"
   },
   {
    "duration": 7,
    "start_time": "2022-08-08T13:23:23.697Z"
   },
   {
    "duration": 1500,
    "start_time": "2022-08-08T13:23:23.705Z"
   },
   {
    "duration": 5,
    "start_time": "2022-08-08T13:23:25.207Z"
   },
   {
    "duration": 20,
    "start_time": "2022-08-08T13:23:25.213Z"
   },
   {
    "duration": 10,
    "start_time": "2022-08-08T13:23:25.235Z"
   },
   {
    "duration": 9,
    "start_time": "2022-08-08T13:23:25.246Z"
   },
   {
    "duration": 32,
    "start_time": "2022-08-08T13:23:25.256Z"
   },
   {
    "duration": 9,
    "start_time": "2022-08-08T13:23:25.289Z"
   },
   {
    "duration": 6,
    "start_time": "2022-08-08T13:23:25.299Z"
   },
   {
    "duration": 7,
    "start_time": "2022-08-08T13:23:25.306Z"
   },
   {
    "duration": 1556,
    "start_time": "2022-08-08T13:23:25.314Z"
   },
   {
    "duration": 1473,
    "start_time": "2022-08-08T13:23:26.871Z"
   },
   {
    "duration": 4,
    "start_time": "2022-08-08T13:23:28.345Z"
   },
   {
    "duration": 8,
    "start_time": "2022-08-08T13:23:28.351Z"
   },
   {
    "duration": 9,
    "start_time": "2022-08-08T13:23:28.360Z"
   },
   {
    "duration": 20,
    "start_time": "2022-08-08T13:23:28.370Z"
   },
   {
    "duration": 14,
    "start_time": "2022-08-08T13:23:28.392Z"
   },
   {
    "duration": 1578,
    "start_time": "2022-08-08T13:23:28.408Z"
   },
   {
    "duration": 1482,
    "start_time": "2022-08-08T13:23:29.987Z"
   },
   {
    "duration": 1459,
    "start_time": "2022-08-08T13:23:31.471Z"
   },
   {
    "duration": 4,
    "start_time": "2022-08-08T13:23:32.932Z"
   },
   {
    "duration": 9,
    "start_time": "2022-08-08T13:23:32.937Z"
   },
   {
    "duration": 6,
    "start_time": "2022-08-08T13:23:32.948Z"
   },
   {
    "duration": 40,
    "start_time": "2022-08-08T13:23:32.955Z"
   },
   {
    "duration": 12,
    "start_time": "2022-08-08T13:23:32.997Z"
   },
   {
    "duration": 4,
    "start_time": "2022-08-08T13:23:33.011Z"
   },
   {
    "duration": 9,
    "start_time": "2022-08-08T13:23:33.016Z"
   },
   {
    "duration": 17,
    "start_time": "2022-08-08T13:23:33.027Z"
   },
   {
    "duration": 5,
    "start_time": "2022-08-08T13:23:33.046Z"
   },
   {
    "duration": 37,
    "start_time": "2022-08-08T13:23:33.054Z"
   },
   {
    "duration": 15,
    "start_time": "2022-08-08T13:23:33.092Z"
   },
   {
    "duration": 240,
    "start_time": "2022-08-08T13:23:33.108Z"
   },
   {
    "duration": 5,
    "start_time": "2022-08-08T13:23:33.349Z"
   },
   {
    "duration": 504,
    "start_time": "2022-08-08T13:23:33.356Z"
   },
   {
    "duration": 199,
    "start_time": "2022-08-08T13:23:33.861Z"
   },
   {
    "duration": 206,
    "start_time": "2022-08-08T13:23:34.061Z"
   },
   {
    "duration": 2274,
    "start_time": "2022-08-08T13:23:34.268Z"
   },
   {
    "duration": 223,
    "start_time": "2022-08-08T13:23:36.543Z"
   },
   {
    "duration": 34,
    "start_time": "2022-08-08T13:23:36.768Z"
   },
   {
    "duration": 199,
    "start_time": "2022-08-08T13:23:36.803Z"
   },
   {
    "duration": 25,
    "start_time": "2022-08-08T13:23:37.004Z"
   },
   {
    "duration": 12,
    "start_time": "2022-08-08T13:23:37.030Z"
   },
   {
    "duration": 8,
    "start_time": "2022-08-08T13:23:37.043Z"
   },
   {
    "duration": 235,
    "start_time": "2022-08-08T13:23:37.052Z"
   },
   {
    "duration": 8,
    "start_time": "2022-08-08T13:23:37.288Z"
   },
   {
    "duration": 446,
    "start_time": "2022-08-08T13:23:37.298Z"
   },
   {
    "duration": 2,
    "start_time": "2022-08-08T13:23:37.746Z"
   },
   {
    "duration": 14,
    "start_time": "2022-08-08T13:23:37.750Z"
   },
   {
    "duration": 196,
    "start_time": "2022-08-08T13:23:37.765Z"
   },
   {
    "duration": 324,
    "start_time": "2022-08-08T13:23:37.963Z"
   },
   {
    "duration": 4,
    "start_time": "2022-08-08T13:23:38.288Z"
   },
   {
    "duration": 10,
    "start_time": "2022-08-08T13:23:38.293Z"
   },
   {
    "duration": 14,
    "start_time": "2022-08-08T13:23:38.304Z"
   },
   {
    "duration": 7,
    "start_time": "2022-08-08T13:23:38.325Z"
   },
   {
    "duration": 9,
    "start_time": "2022-08-08T13:23:38.333Z"
   },
   {
    "duration": 8,
    "start_time": "2022-08-08T13:23:38.343Z"
   },
   {
    "duration": 6,
    "start_time": "2022-08-08T13:23:38.352Z"
   },
   {
    "duration": 4,
    "start_time": "2022-08-08T13:23:38.359Z"
   },
   {
    "duration": 282,
    "start_time": "2022-08-08T13:23:38.365Z"
   },
   {
    "duration": 4,
    "start_time": "2022-08-08T13:23:38.649Z"
   },
   {
    "duration": 2622,
    "start_time": "2022-08-08T13:23:38.655Z"
   },
   {
    "duration": 219,
    "start_time": "2022-08-08T13:23:41.279Z"
   },
   {
    "duration": 523,
    "start_time": "2022-08-08T13:23:41.500Z"
   },
   {
    "duration": 209,
    "start_time": "2022-08-08T13:23:42.025Z"
   },
   {
    "duration": 31,
    "start_time": "2022-08-08T13:23:42.236Z"
   },
   {
    "duration": 586,
    "start_time": "2022-08-08T13:23:42.269Z"
   },
   {
    "duration": 382,
    "start_time": "2022-08-08T13:23:42.857Z"
   },
   {
    "duration": 7,
    "start_time": "2022-08-08T13:23:43.241Z"
   },
   {
    "duration": 9,
    "start_time": "2022-08-08T13:23:43.249Z"
   },
   {
    "duration": 851,
    "start_time": "2022-08-08T13:23:43.260Z"
   },
   {
    "duration": 215,
    "start_time": "2022-08-08T13:23:44.113Z"
   },
   {
    "duration": 1010,
    "start_time": "2022-08-08T13:23:44.330Z"
   },
   {
    "duration": 4,
    "start_time": "2022-08-08T13:23:45.342Z"
   },
   {
    "duration": 7,
    "start_time": "2022-08-08T13:23:45.348Z"
   },
   {
    "duration": 381,
    "start_time": "2022-08-08T13:23:45.357Z"
   },
   {
    "duration": 7,
    "start_time": "2022-08-08T13:23:45.740Z"
   },
   {
    "duration": 200,
    "start_time": "2022-08-08T13:23:45.749Z"
   },
   {
    "duration": 5,
    "start_time": "2022-08-08T13:23:45.950Z"
   },
   {
    "duration": 183,
    "start_time": "2022-08-08T13:23:45.956Z"
   },
   {
    "duration": 5,
    "start_time": "2022-08-08T13:23:46.140Z"
   },
   {
    "duration": 247,
    "start_time": "2022-08-08T13:23:46.147Z"
   },
   {
    "duration": 7,
    "start_time": "2022-08-08T13:23:46.395Z"
   },
   {
    "duration": 17,
    "start_time": "2022-08-08T13:23:46.404Z"
   },
   {
    "duration": 192,
    "start_time": "2022-08-08T13:23:46.424Z"
   },
   {
    "duration": 776,
    "start_time": "2022-08-08T13:23:46.618Z"
   },
   {
    "duration": 778,
    "start_time": "2022-08-08T13:23:47.396Z"
   },
   {
    "duration": 954,
    "start_time": "2022-08-08T13:23:48.175Z"
   },
   {
    "duration": 8,
    "start_time": "2022-08-08T13:23:49.130Z"
   },
   {
    "duration": 15,
    "start_time": "2022-08-08T13:23:49.139Z"
   },
   {
    "duration": 13,
    "start_time": "2022-08-08T13:23:49.155Z"
   },
   {
    "duration": 21,
    "start_time": "2022-08-08T13:23:49.170Z"
   },
   {
    "duration": 11,
    "start_time": "2022-08-08T13:23:49.193Z"
   },
   {
    "duration": 7,
    "start_time": "2022-08-08T13:23:49.206Z"
   },
   {
    "duration": 189,
    "start_time": "2022-08-08T13:23:49.214Z"
   },
   {
    "duration": 1451,
    "start_time": "2022-08-08T13:23:49.404Z"
   },
   {
    "duration": 1619,
    "start_time": "2022-08-08T13:23:50.856Z"
   },
   {
    "duration": 188,
    "start_time": "2022-08-08T13:23:52.486Z"
   },
   {
    "duration": 2519,
    "start_time": "2022-08-08T13:23:52.676Z"
   },
   {
    "duration": 2689,
    "start_time": "2022-08-08T13:23:55.197Z"
   },
   {
    "duration": 176,
    "start_time": "2022-08-08T13:23:57.888Z"
   },
   {
    "duration": 816,
    "start_time": "2022-08-08T13:23:58.066Z"
   },
   {
    "duration": 1068,
    "start_time": "2022-08-08T13:23:58.886Z"
   },
   {
    "duration": 7,
    "start_time": "2022-08-08T13:23:59.956Z"
   },
   {
    "duration": 23,
    "start_time": "2022-08-08T13:23:59.964Z"
   },
   {
    "duration": 7,
    "start_time": "2022-08-08T13:23:59.989Z"
   },
   {
    "duration": 10,
    "start_time": "2022-08-08T13:23:59.998Z"
   },
   {
    "duration": 8,
    "start_time": "2022-08-08T13:24:00.010Z"
   },
   {
    "duration": 31,
    "start_time": "2022-08-08T13:24:00.020Z"
   },
   {
    "duration": 198,
    "start_time": "2022-08-08T13:24:00.052Z"
   },
   {
    "duration": 15,
    "start_time": "2022-08-08T13:24:00.252Z"
   },
   {
    "duration": 227,
    "start_time": "2022-08-08T13:24:00.269Z"
   },
   {
    "duration": 15,
    "start_time": "2022-08-08T13:24:00.497Z"
   },
   {
    "duration": 238,
    "start_time": "2022-08-08T13:24:00.514Z"
   },
   {
    "duration": 9,
    "start_time": "2022-08-08T13:24:00.754Z"
   },
   {
    "duration": 24,
    "start_time": "2022-08-08T13:24:00.764Z"
   },
   {
    "duration": 10,
    "start_time": "2022-08-08T13:24:00.789Z"
   },
   {
    "duration": 6,
    "start_time": "2022-08-08T13:24:00.800Z"
   },
   {
    "duration": 35,
    "start_time": "2022-08-08T13:24:00.808Z"
   },
   {
    "duration": 39,
    "start_time": "2022-08-08T13:24:00.845Z"
   },
   {
    "duration": 5,
    "start_time": "2022-08-08T13:24:00.886Z"
   },
   {
    "duration": 31,
    "start_time": "2022-08-08T13:24:00.892Z"
   },
   {
    "duration": 276,
    "start_time": "2022-08-08T13:24:00.925Z"
   },
   {
    "duration": 72,
    "start_time": "2022-08-08T13:25:00.135Z"
   },
   {
    "duration": 202,
    "start_time": "2022-08-08T13:25:05.425Z"
   },
   {
    "duration": 206,
    "start_time": "2022-08-08T13:25:27.607Z"
   },
   {
    "duration": 8,
    "start_time": "2022-08-08T13:25:37.982Z"
   },
   {
    "duration": 178,
    "start_time": "2022-08-08T13:26:22.879Z"
   },
   {
    "duration": 46,
    "start_time": "2022-08-08T13:31:35.795Z"
   },
   {
    "duration": 8,
    "start_time": "2022-08-08T13:32:21.971Z"
   },
   {
    "duration": 274,
    "start_time": "2022-08-08T13:33:21.094Z"
   },
   {
    "duration": 17,
    "start_time": "2022-08-08T13:33:33.913Z"
   },
   {
    "duration": 276,
    "start_time": "2022-08-08T13:34:06.324Z"
   },
   {
    "duration": 171,
    "start_time": "2022-08-08T13:38:41.281Z"
   },
   {
    "duration": 171,
    "start_time": "2022-08-08T13:38:48.462Z"
   },
   {
    "duration": 177,
    "start_time": "2022-08-08T13:38:51.319Z"
   },
   {
    "duration": 180,
    "start_time": "2022-08-08T13:38:53.901Z"
   },
   {
    "duration": 314,
    "start_time": "2022-08-08T13:39:33.224Z"
   },
   {
    "duration": 325,
    "start_time": "2022-08-08T13:39:43.899Z"
   },
   {
    "duration": 814,
    "start_time": "2022-08-08T13:39:56.284Z"
   },
   {
    "duration": 192,
    "start_time": "2022-08-08T13:40:09.980Z"
   },
   {
    "duration": 540,
    "start_time": "2022-08-08T13:40:31.808Z"
   },
   {
    "duration": 478,
    "start_time": "2022-08-08T13:40:38.147Z"
   },
   {
    "duration": 342,
    "start_time": "2022-08-08T13:40:46.925Z"
   },
   {
    "duration": 213,
    "start_time": "2022-08-08T13:40:58.369Z"
   },
   {
    "duration": 218,
    "start_time": "2022-08-08T13:41:02.330Z"
   },
   {
    "duration": 226,
    "start_time": "2022-08-08T13:41:04.695Z"
   },
   {
    "duration": 233,
    "start_time": "2022-08-08T13:41:09.533Z"
   },
   {
    "duration": 642,
    "start_time": "2022-08-08T13:41:16.894Z"
   },
   {
    "duration": 347,
    "start_time": "2022-08-08T13:41:21.377Z"
   },
   {
    "duration": 337,
    "start_time": "2022-08-08T13:41:51.714Z"
   },
   {
    "duration": 212,
    "start_time": "2022-08-08T13:41:56.849Z"
   },
   {
    "duration": 334,
    "start_time": "2022-08-08T13:42:00.255Z"
   },
   {
    "duration": 353,
    "start_time": "2022-08-08T13:42:07.029Z"
   },
   {
    "duration": 342,
    "start_time": "2022-08-08T13:42:17.922Z"
   },
   {
    "duration": 222,
    "start_time": "2022-08-08T13:42:28.943Z"
   },
   {
    "duration": 266,
    "start_time": "2022-08-08T13:42:36.118Z"
   },
   {
    "duration": 12,
    "start_time": "2022-08-08T13:43:33.367Z"
   },
   {
    "duration": 1104,
    "start_time": "2022-08-08T13:43:47.349Z"
   },
   {
    "duration": 4,
    "start_time": "2022-08-08T13:47:10.530Z"
   },
   {
    "duration": 5,
    "start_time": "2022-08-08T13:47:13.392Z"
   },
   {
    "duration": 7,
    "start_time": "2022-08-08T13:47:15.999Z"
   },
   {
    "duration": 397,
    "start_time": "2022-08-08T13:51:50.389Z"
   },
   {
    "duration": 4,
    "start_time": "2022-08-08T13:52:04.403Z"
   },
   {
    "duration": 125,
    "start_time": "2022-08-08T13:52:59.853Z"
   },
   {
    "duration": 45,
    "start_time": "2022-08-08T18:57:31.584Z"
   },
   {
    "duration": 392,
    "start_time": "2022-08-08T18:57:38.396Z"
   },
   {
    "duration": 305,
    "start_time": "2022-08-08T18:57:38.790Z"
   },
   {
    "duration": 2,
    "start_time": "2022-08-08T18:57:39.097Z"
   },
   {
    "duration": 18,
    "start_time": "2022-08-08T18:57:39.101Z"
   },
   {
    "duration": 29,
    "start_time": "2022-08-08T18:57:39.120Z"
   },
   {
    "duration": 2068,
    "start_time": "2022-08-08T18:57:39.150Z"
   },
   {
    "duration": 8,
    "start_time": "2022-08-08T18:57:41.220Z"
   },
   {
    "duration": 595,
    "start_time": "2022-08-08T18:57:41.230Z"
   },
   {
    "duration": 6,
    "start_time": "2022-08-08T18:57:41.826Z"
   },
   {
    "duration": 6,
    "start_time": "2022-08-08T18:57:41.834Z"
   },
   {
    "duration": 12,
    "start_time": "2022-08-08T18:57:41.842Z"
   },
   {
    "duration": 11,
    "start_time": "2022-08-08T18:57:41.856Z"
   },
   {
    "duration": 7,
    "start_time": "2022-08-08T18:57:41.869Z"
   },
   {
    "duration": 24,
    "start_time": "2022-08-08T18:57:41.877Z"
   },
   {
    "duration": 4,
    "start_time": "2022-08-08T18:57:41.903Z"
   },
   {
    "duration": 8,
    "start_time": "2022-08-08T18:57:41.909Z"
   },
   {
    "duration": 172,
    "start_time": "2022-08-08T18:57:41.918Z"
   },
   {
    "duration": 17,
    "start_time": "2022-08-08T18:57:42.092Z"
   },
   {
    "duration": 7,
    "start_time": "2022-08-08T18:57:42.110Z"
   },
   {
    "duration": 13,
    "start_time": "2022-08-08T18:57:42.119Z"
   },
   {
    "duration": 12,
    "start_time": "2022-08-08T18:57:42.133Z"
   },
   {
    "duration": 10,
    "start_time": "2022-08-08T18:57:42.147Z"
   },
   {
    "duration": 5,
    "start_time": "2022-08-08T18:57:42.159Z"
   },
   {
    "duration": 7,
    "start_time": "2022-08-08T18:57:42.165Z"
   },
   {
    "duration": 31,
    "start_time": "2022-08-08T18:57:42.174Z"
   },
   {
    "duration": 9,
    "start_time": "2022-08-08T18:57:42.207Z"
   },
   {
    "duration": 5,
    "start_time": "2022-08-08T18:57:42.218Z"
   },
   {
    "duration": 8,
    "start_time": "2022-08-08T18:57:42.228Z"
   },
   {
    "duration": 6,
    "start_time": "2022-08-08T18:57:42.238Z"
   },
   {
    "duration": 1369,
    "start_time": "2022-08-08T18:57:42.246Z"
   },
   {
    "duration": 5,
    "start_time": "2022-08-08T18:57:43.616Z"
   },
   {
    "duration": 16,
    "start_time": "2022-08-08T18:57:43.622Z"
   },
   {
    "duration": 10,
    "start_time": "2022-08-08T18:57:43.640Z"
   },
   {
    "duration": 10,
    "start_time": "2022-08-08T18:57:43.651Z"
   },
   {
    "duration": 16,
    "start_time": "2022-08-08T18:57:43.663Z"
   },
   {
    "duration": 23,
    "start_time": "2022-08-08T18:57:43.680Z"
   },
   {
    "duration": 5,
    "start_time": "2022-08-08T18:57:43.705Z"
   },
   {
    "duration": 7,
    "start_time": "2022-08-08T18:57:43.711Z"
   },
   {
    "duration": 1304,
    "start_time": "2022-08-08T18:57:43.720Z"
   },
   {
    "duration": 1287,
    "start_time": "2022-08-08T18:57:45.026Z"
   },
   {
    "duration": 5,
    "start_time": "2022-08-08T18:57:46.314Z"
   },
   {
    "duration": 9,
    "start_time": "2022-08-08T18:57:46.320Z"
   },
   {
    "duration": 8,
    "start_time": "2022-08-08T18:57:46.330Z"
   },
   {
    "duration": 10,
    "start_time": "2022-08-08T18:57:46.339Z"
   },
   {
    "duration": 8,
    "start_time": "2022-08-08T18:57:46.350Z"
   },
   {
    "duration": 1337,
    "start_time": "2022-08-08T18:57:46.359Z"
   },
   {
    "duration": 1311,
    "start_time": "2022-08-08T18:57:47.699Z"
   },
   {
    "duration": 1305,
    "start_time": "2022-08-08T18:57:49.012Z"
   },
   {
    "duration": 4,
    "start_time": "2022-08-08T18:57:50.319Z"
   },
   {
    "duration": 10,
    "start_time": "2022-08-08T18:57:50.324Z"
   },
   {
    "duration": 5,
    "start_time": "2022-08-08T18:57:50.336Z"
   },
   {
    "duration": 24,
    "start_time": "2022-08-08T18:57:50.342Z"
   },
   {
    "duration": 32,
    "start_time": "2022-08-08T18:57:50.368Z"
   },
   {
    "duration": 6,
    "start_time": "2022-08-08T18:57:50.402Z"
   },
   {
    "duration": 26,
    "start_time": "2022-08-08T18:57:50.409Z"
   },
   {
    "duration": 31,
    "start_time": "2022-08-08T18:57:50.437Z"
   },
   {
    "duration": 6,
    "start_time": "2022-08-08T18:57:50.470Z"
   },
   {
    "duration": 21,
    "start_time": "2022-08-08T18:57:50.477Z"
   },
   {
    "duration": 37,
    "start_time": "2022-08-08T18:57:50.500Z"
   },
   {
    "duration": 284,
    "start_time": "2022-08-08T18:57:50.538Z"
   },
   {
    "duration": 4,
    "start_time": "2022-08-08T18:57:50.823Z"
   },
   {
    "duration": 388,
    "start_time": "2022-08-08T18:57:50.828Z"
   },
   {
    "duration": 183,
    "start_time": "2022-08-08T18:57:51.217Z"
   },
   {
    "duration": 230,
    "start_time": "2022-08-08T18:57:51.401Z"
   },
   {
    "duration": 2084,
    "start_time": "2022-08-08T18:57:51.633Z"
   },
   {
    "duration": 197,
    "start_time": "2022-08-08T18:57:53.719Z"
   },
   {
    "duration": 4,
    "start_time": "2022-08-08T18:57:53.918Z"
   },
   {
    "duration": 35,
    "start_time": "2022-08-08T18:57:53.924Z"
   },
   {
    "duration": 189,
    "start_time": "2022-08-08T18:57:53.961Z"
   },
   {
    "duration": 20,
    "start_time": "2022-08-08T18:57:54.152Z"
   },
   {
    "duration": 9,
    "start_time": "2022-08-08T18:57:54.174Z"
   },
   {
    "duration": 20,
    "start_time": "2022-08-08T18:57:54.184Z"
   },
   {
    "duration": 197,
    "start_time": "2022-08-08T18:57:54.205Z"
   },
   {
    "duration": 7,
    "start_time": "2022-08-08T18:57:54.403Z"
   },
   {
    "duration": 399,
    "start_time": "2022-08-08T18:57:54.411Z"
   },
   {
    "duration": 3,
    "start_time": "2022-08-08T18:57:54.811Z"
   },
   {
    "duration": 12,
    "start_time": "2022-08-08T18:57:54.815Z"
   },
   {
    "duration": 302,
    "start_time": "2022-08-08T18:57:54.828Z"
   },
   {
    "duration": 5,
    "start_time": "2022-08-08T18:57:55.131Z"
   },
   {
    "duration": 195,
    "start_time": "2022-08-08T18:57:55.137Z"
   },
   {
    "duration": 4,
    "start_time": "2022-08-08T18:57:55.334Z"
   },
   {
    "duration": 5,
    "start_time": "2022-08-08T18:57:55.344Z"
   },
   {
    "duration": 6,
    "start_time": "2022-08-08T18:57:55.351Z"
   },
   {
    "duration": 10,
    "start_time": "2022-08-08T18:57:55.358Z"
   },
   {
    "duration": 7,
    "start_time": "2022-08-08T18:57:55.369Z"
   },
   {
    "duration": 6,
    "start_time": "2022-08-08T18:57:55.400Z"
   },
   {
    "duration": 6,
    "start_time": "2022-08-08T18:57:55.407Z"
   },
   {
    "duration": 3,
    "start_time": "2022-08-08T18:57:55.414Z"
   },
   {
    "duration": 271,
    "start_time": "2022-08-08T18:57:55.419Z"
   },
   {
    "duration": 8,
    "start_time": "2022-08-08T18:57:55.691Z"
   },
   {
    "duration": 2439,
    "start_time": "2022-08-08T18:57:55.701Z"
   },
   {
    "duration": 141,
    "start_time": "2022-08-08T18:57:58.142Z"
   },
   {
    "duration": 185,
    "start_time": "2022-08-08T18:57:58.284Z"
   },
   {
    "duration": 216,
    "start_time": "2022-08-08T18:57:58.470Z"
   },
   {
    "duration": 364,
    "start_time": "2022-08-08T18:57:58.688Z"
   },
   {
    "duration": 179,
    "start_time": "2022-08-08T18:57:59.053Z"
   },
   {
    "duration": 31,
    "start_time": "2022-08-08T18:57:59.234Z"
   },
   {
    "duration": 404,
    "start_time": "2022-08-08T18:57:59.266Z"
   },
   {
    "duration": 376,
    "start_time": "2022-08-08T18:57:59.671Z"
   },
   {
    "duration": 7,
    "start_time": "2022-08-08T18:58:00.049Z"
   },
   {
    "duration": 10,
    "start_time": "2022-08-08T18:58:00.057Z"
   },
   {
    "duration": 777,
    "start_time": "2022-08-08T18:58:00.068Z"
   },
   {
    "duration": 223,
    "start_time": "2022-08-08T18:58:00.847Z"
   },
   {
    "duration": 1249,
    "start_time": "2022-08-08T18:58:01.072Z"
   },
   {
    "duration": 5,
    "start_time": "2022-08-08T18:58:02.322Z"
   },
   {
    "duration": 30,
    "start_time": "2022-08-08T18:58:02.328Z"
   },
   {
    "duration": 178,
    "start_time": "2022-08-08T18:58:02.359Z"
   },
   {
    "duration": 5,
    "start_time": "2022-08-08T18:58:02.539Z"
   },
   {
    "duration": 197,
    "start_time": "2022-08-08T18:58:02.545Z"
   },
   {
    "duration": 5,
    "start_time": "2022-08-08T18:58:02.744Z"
   },
   {
    "duration": 157,
    "start_time": "2022-08-08T18:58:02.750Z"
   },
   {
    "duration": 4,
    "start_time": "2022-08-08T18:58:02.909Z"
   },
   {
    "duration": 197,
    "start_time": "2022-08-08T18:58:02.915Z"
   },
   {
    "duration": 6,
    "start_time": "2022-08-08T18:58:03.114Z"
   },
   {
    "duration": 55,
    "start_time": "2022-08-08T18:58:03.121Z"
   },
   {
    "duration": 165,
    "start_time": "2022-08-08T18:58:03.177Z"
   },
   {
    "duration": 727,
    "start_time": "2022-08-08T18:58:03.343Z"
   },
   {
    "duration": 716,
    "start_time": "2022-08-08T18:58:04.071Z"
   },
   {
    "duration": 992,
    "start_time": "2022-08-08T18:58:04.789Z"
   },
   {
    "duration": 18,
    "start_time": "2022-08-08T18:58:05.782Z"
   },
   {
    "duration": 15,
    "start_time": "2022-08-08T18:58:05.802Z"
   },
   {
    "duration": 26,
    "start_time": "2022-08-08T18:58:05.818Z"
   },
   {
    "duration": 26,
    "start_time": "2022-08-08T18:58:05.845Z"
   },
   {
    "duration": 25,
    "start_time": "2022-08-08T18:58:05.872Z"
   },
   {
    "duration": 15,
    "start_time": "2022-08-08T18:58:05.898Z"
   },
   {
    "duration": 202,
    "start_time": "2022-08-08T18:58:05.914Z"
   },
   {
    "duration": 1362,
    "start_time": "2022-08-08T18:58:06.117Z"
   },
   {
    "duration": 1542,
    "start_time": "2022-08-08T18:58:07.481Z"
   },
   {
    "duration": 177,
    "start_time": "2022-08-08T18:58:09.025Z"
   },
   {
    "duration": 2718,
    "start_time": "2022-08-08T18:58:09.203Z"
   },
   {
    "duration": 2222,
    "start_time": "2022-08-08T18:58:11.923Z"
   },
   {
    "duration": 174,
    "start_time": "2022-08-08T18:58:14.146Z"
   },
   {
    "duration": 790,
    "start_time": "2022-08-08T18:58:14.322Z"
   },
   {
    "duration": 1082,
    "start_time": "2022-08-08T18:58:15.114Z"
   },
   {
    "duration": 8,
    "start_time": "2022-08-08T18:58:16.199Z"
   },
   {
    "duration": 38,
    "start_time": "2022-08-08T18:58:16.208Z"
   },
   {
    "duration": 20,
    "start_time": "2022-08-08T18:58:16.247Z"
   },
   {
    "duration": 19,
    "start_time": "2022-08-08T18:58:16.268Z"
   },
   {
    "duration": 9,
    "start_time": "2022-08-08T18:58:16.288Z"
   },
   {
    "duration": 21,
    "start_time": "2022-08-08T18:58:16.298Z"
   },
   {
    "duration": 158,
    "start_time": "2022-08-08T18:58:16.321Z"
   },
   {
    "duration": 21,
    "start_time": "2022-08-08T18:58:16.481Z"
   },
   {
    "duration": 211,
    "start_time": "2022-08-08T18:58:16.504Z"
   },
   {
    "duration": 13,
    "start_time": "2022-08-08T18:58:16.717Z"
   },
   {
    "duration": 219,
    "start_time": "2022-08-08T18:58:16.732Z"
   },
   {
    "duration": 9,
    "start_time": "2022-08-08T18:58:16.953Z"
   },
   {
    "duration": 35,
    "start_time": "2022-08-08T18:58:16.964Z"
   },
   {
    "duration": 53,
    "start_time": "2022-08-08T18:58:17.000Z"
   },
   {
    "duration": 17,
    "start_time": "2022-08-08T18:58:17.054Z"
   },
   {
    "duration": 34,
    "start_time": "2022-08-08T18:58:17.073Z"
   },
   {
    "duration": 57,
    "start_time": "2022-08-08T18:58:17.108Z"
   },
   {
    "duration": 5,
    "start_time": "2022-08-08T18:58:17.167Z"
   },
   {
    "duration": 42,
    "start_time": "2022-08-08T18:58:17.173Z"
   },
   {
    "duration": 254,
    "start_time": "2022-08-08T18:58:17.217Z"
   },
   {
    "duration": 8,
    "start_time": "2022-08-08T18:58:31.438Z"
   },
   {
    "duration": 63,
    "start_time": "2022-08-08T18:58:41.217Z"
   },
   {
    "duration": 7,
    "start_time": "2022-08-08T18:59:00.363Z"
   },
   {
    "duration": 3,
    "start_time": "2022-08-08T19:02:51.866Z"
   },
   {
    "duration": 7,
    "start_time": "2022-08-08T19:03:07.123Z"
   },
   {
    "duration": 4,
    "start_time": "2022-08-08T19:03:10.507Z"
   },
   {
    "duration": 186,
    "start_time": "2022-08-08T19:04:46.922Z"
   },
   {
    "duration": 188,
    "start_time": "2022-08-08T19:05:05.325Z"
   },
   {
    "duration": 170,
    "start_time": "2022-08-08T19:05:41.790Z"
   },
   {
    "duration": 162,
    "start_time": "2022-08-08T19:05:50.309Z"
   },
   {
    "duration": 38,
    "start_time": "2022-08-08T19:06:04.149Z"
   },
   {
    "duration": 4,
    "start_time": "2022-08-08T19:06:20.898Z"
   },
   {
    "duration": 7,
    "start_time": "2022-08-08T19:08:04.431Z"
   },
   {
    "duration": 6,
    "start_time": "2022-08-08T19:09:00.800Z"
   },
   {
    "duration": 6,
    "start_time": "2022-08-08T19:09:16.501Z"
   },
   {
    "duration": 8,
    "start_time": "2022-08-08T19:14:40.937Z"
   },
   {
    "duration": 5,
    "start_time": "2022-08-08T19:14:45.769Z"
   },
   {
    "duration": 5,
    "start_time": "2022-08-08T19:15:19.028Z"
   },
   {
    "duration": 207,
    "start_time": "2022-08-08T19:18:02.330Z"
   },
   {
    "duration": 385,
    "start_time": "2022-08-08T19:18:11.949Z"
   },
   {
    "duration": 82,
    "start_time": "2022-08-08T19:18:12.336Z"
   },
   {
    "duration": 3,
    "start_time": "2022-08-08T19:18:12.419Z"
   },
   {
    "duration": 17,
    "start_time": "2022-08-08T19:18:12.423Z"
   },
   {
    "duration": 28,
    "start_time": "2022-08-08T19:18:12.442Z"
   },
   {
    "duration": 1966,
    "start_time": "2022-08-08T19:18:12.472Z"
   },
   {
    "duration": 8,
    "start_time": "2022-08-08T19:18:14.440Z"
   },
   {
    "duration": 541,
    "start_time": "2022-08-08T19:18:14.449Z"
   },
   {
    "duration": 14,
    "start_time": "2022-08-08T19:18:14.992Z"
   },
   {
    "duration": 34,
    "start_time": "2022-08-08T19:18:15.008Z"
   },
   {
    "duration": 32,
    "start_time": "2022-08-08T19:18:15.044Z"
   },
   {
    "duration": 44,
    "start_time": "2022-08-08T19:18:15.078Z"
   },
   {
    "duration": 11,
    "start_time": "2022-08-08T19:18:15.124Z"
   },
   {
    "duration": 36,
    "start_time": "2022-08-08T19:18:15.138Z"
   },
   {
    "duration": 43,
    "start_time": "2022-08-08T19:18:15.176Z"
   },
   {
    "duration": 33,
    "start_time": "2022-08-08T19:18:15.221Z"
   },
   {
    "duration": 190,
    "start_time": "2022-08-08T19:18:15.256Z"
   },
   {
    "duration": 9,
    "start_time": "2022-08-08T19:18:15.448Z"
   },
   {
    "duration": 27,
    "start_time": "2022-08-08T19:18:15.459Z"
   },
   {
    "duration": 21,
    "start_time": "2022-08-08T19:18:15.488Z"
   },
   {
    "duration": 56,
    "start_time": "2022-08-08T19:18:15.511Z"
   },
   {
    "duration": 44,
    "start_time": "2022-08-08T19:18:15.570Z"
   },
   {
    "duration": 30,
    "start_time": "2022-08-08T19:18:15.616Z"
   },
   {
    "duration": 45,
    "start_time": "2022-08-08T19:18:15.647Z"
   },
   {
    "duration": 60,
    "start_time": "2022-08-08T19:18:15.694Z"
   },
   {
    "duration": 31,
    "start_time": "2022-08-08T19:18:15.755Z"
   },
   {
    "duration": 20,
    "start_time": "2022-08-08T19:18:15.788Z"
   },
   {
    "duration": 15,
    "start_time": "2022-08-08T19:18:15.810Z"
   },
   {
    "duration": 31,
    "start_time": "2022-08-08T19:18:15.826Z"
   },
   {
    "duration": 1375,
    "start_time": "2022-08-08T19:18:15.859Z"
   },
   {
    "duration": 5,
    "start_time": "2022-08-08T19:18:17.235Z"
   },
   {
    "duration": 30,
    "start_time": "2022-08-08T19:18:17.241Z"
   },
   {
    "duration": 28,
    "start_time": "2022-08-08T19:18:17.272Z"
   },
   {
    "duration": 38,
    "start_time": "2022-08-08T19:18:17.301Z"
   },
   {
    "duration": 40,
    "start_time": "2022-08-08T19:18:17.340Z"
   },
   {
    "duration": 25,
    "start_time": "2022-08-08T19:18:17.381Z"
   },
   {
    "duration": 32,
    "start_time": "2022-08-08T19:18:17.407Z"
   },
   {
    "duration": 31,
    "start_time": "2022-08-08T19:18:17.440Z"
   },
   {
    "duration": 1342,
    "start_time": "2022-08-08T19:18:17.473Z"
   },
   {
    "duration": 1428,
    "start_time": "2022-08-08T19:18:18.817Z"
   },
   {
    "duration": 5,
    "start_time": "2022-08-08T19:18:20.251Z"
   },
   {
    "duration": 32,
    "start_time": "2022-08-08T19:18:20.258Z"
   },
   {
    "duration": 35,
    "start_time": "2022-08-08T19:18:20.292Z"
   },
   {
    "duration": 45,
    "start_time": "2022-08-08T19:18:20.328Z"
   },
   {
    "duration": 33,
    "start_time": "2022-08-08T19:18:20.375Z"
   },
   {
    "duration": 1419,
    "start_time": "2022-08-08T19:18:20.409Z"
   },
   {
    "duration": 1330,
    "start_time": "2022-08-08T19:18:21.830Z"
   },
   {
    "duration": 1328,
    "start_time": "2022-08-08T19:18:23.162Z"
   },
   {
    "duration": 9,
    "start_time": "2022-08-08T19:18:24.491Z"
   },
   {
    "duration": 32,
    "start_time": "2022-08-08T19:18:24.501Z"
   },
   {
    "duration": 29,
    "start_time": "2022-08-08T19:18:24.535Z"
   },
   {
    "duration": 66,
    "start_time": "2022-08-08T19:18:24.566Z"
   },
   {
    "duration": 12,
    "start_time": "2022-08-08T19:18:24.634Z"
   },
   {
    "duration": 18,
    "start_time": "2022-08-08T19:18:24.647Z"
   },
   {
    "duration": 51,
    "start_time": "2022-08-08T19:18:24.666Z"
   },
   {
    "duration": 38,
    "start_time": "2022-08-08T19:18:24.719Z"
   },
   {
    "duration": 26,
    "start_time": "2022-08-08T19:18:24.759Z"
   },
   {
    "duration": 33,
    "start_time": "2022-08-08T19:18:24.787Z"
   },
   {
    "duration": 33,
    "start_time": "2022-08-08T19:18:24.822Z"
   },
   {
    "duration": 313,
    "start_time": "2022-08-08T19:18:24.857Z"
   },
   {
    "duration": 4,
    "start_time": "2022-08-08T19:18:25.171Z"
   },
   {
    "duration": 413,
    "start_time": "2022-08-08T19:18:25.177Z"
   },
   {
    "duration": 186,
    "start_time": "2022-08-08T19:18:25.591Z"
   },
   {
    "duration": 190,
    "start_time": "2022-08-08T19:18:25.779Z"
   },
   {
    "duration": 2017,
    "start_time": "2022-08-08T19:18:25.971Z"
   },
   {
    "duration": 179,
    "start_time": "2022-08-08T19:18:27.989Z"
   },
   {
    "duration": 33,
    "start_time": "2022-08-08T19:18:28.170Z"
   },
   {
    "duration": 10,
    "start_time": "2022-08-08T19:18:28.205Z"
   },
   {
    "duration": 201,
    "start_time": "2022-08-08T19:18:28.217Z"
   },
   {
    "duration": 33,
    "start_time": "2022-08-08T19:18:28.420Z"
   },
   {
    "duration": 6,
    "start_time": "2022-08-08T19:18:28.455Z"
   },
   {
    "duration": 9,
    "start_time": "2022-08-08T19:18:28.462Z"
   },
   {
    "duration": 30,
    "start_time": "2022-08-08T19:18:28.472Z"
   },
   {
    "duration": 201,
    "start_time": "2022-08-08T19:18:28.504Z"
   },
   {
    "duration": 309,
    "start_time": "2022-08-08T19:18:28.707Z"
   },
   {
    "duration": 409,
    "start_time": "2022-08-08T19:18:29.018Z"
   },
   {
    "duration": 3,
    "start_time": "2022-08-08T19:18:29.429Z"
   },
   {
    "duration": 12,
    "start_time": "2022-08-08T19:18:29.433Z"
   },
   {
    "duration": 185,
    "start_time": "2022-08-08T19:18:29.447Z"
   },
   {
    "duration": 5,
    "start_time": "2022-08-08T19:18:29.634Z"
   },
   {
    "duration": 9,
    "start_time": "2022-08-08T19:18:29.640Z"
   },
   {
    "duration": 5,
    "start_time": "2022-08-08T19:18:29.650Z"
   },
   {
    "duration": 209,
    "start_time": "2022-08-08T19:18:29.656Z"
   },
   {
    "duration": 4,
    "start_time": "2022-08-08T19:18:29.867Z"
   },
   {
    "duration": 8,
    "start_time": "2022-08-08T19:18:29.872Z"
   },
   {
    "duration": 6,
    "start_time": "2022-08-08T19:18:29.881Z"
   },
   {
    "duration": 5,
    "start_time": "2022-08-08T19:18:29.900Z"
   },
   {
    "duration": 9,
    "start_time": "2022-08-08T19:18:29.907Z"
   },
   {
    "duration": 7,
    "start_time": "2022-08-08T19:18:29.917Z"
   },
   {
    "duration": 8,
    "start_time": "2022-08-08T19:18:29.926Z"
   },
   {
    "duration": 9,
    "start_time": "2022-08-08T19:18:29.936Z"
   },
   {
    "duration": 5,
    "start_time": "2022-08-08T19:18:29.946Z"
   },
   {
    "duration": 286,
    "start_time": "2022-08-08T19:18:29.952Z"
   },
   {
    "duration": 4,
    "start_time": "2022-08-08T19:18:30.240Z"
   },
   {
    "duration": 2558,
    "start_time": "2022-08-08T19:18:30.246Z"
   },
   {
    "duration": 287,
    "start_time": "2022-08-08T19:18:32.806Z"
   },
   {
    "duration": 197,
    "start_time": "2022-08-08T19:18:33.100Z"
   },
   {
    "duration": 226,
    "start_time": "2022-08-08T19:18:33.299Z"
   },
   {
    "duration": 223,
    "start_time": "2022-08-08T19:18:33.527Z"
   },
   {
    "duration": 169,
    "start_time": "2022-08-08T19:18:33.752Z"
   },
   {
    "duration": 30,
    "start_time": "2022-08-08T19:18:33.923Z"
   },
   {
    "duration": 422,
    "start_time": "2022-08-08T19:18:33.955Z"
   },
   {
    "duration": 379,
    "start_time": "2022-08-08T19:18:34.378Z"
   },
   {
    "duration": 7,
    "start_time": "2022-08-08T19:18:34.759Z"
   },
   {
    "duration": 8,
    "start_time": "2022-08-08T19:18:34.767Z"
   },
   {
    "duration": 966,
    "start_time": "2022-08-08T19:18:34.776Z"
   },
   {
    "duration": 218,
    "start_time": "2022-08-08T19:18:35.744Z"
   },
   {
    "duration": 972,
    "start_time": "2022-08-08T19:18:35.963Z"
   },
   {
    "duration": 5,
    "start_time": "2022-08-08T19:18:36.936Z"
   },
   {
    "duration": 15,
    "start_time": "2022-08-08T19:18:36.942Z"
   },
   {
    "duration": 197,
    "start_time": "2022-08-08T19:18:36.958Z"
   },
   {
    "duration": 5,
    "start_time": "2022-08-08T19:18:37.157Z"
   },
   {
    "duration": 193,
    "start_time": "2022-08-08T19:18:37.163Z"
   },
   {
    "duration": 5,
    "start_time": "2022-08-08T19:18:37.357Z"
   },
   {
    "duration": 164,
    "start_time": "2022-08-08T19:18:37.364Z"
   },
   {
    "duration": 5,
    "start_time": "2022-08-08T19:18:37.530Z"
   },
   {
    "duration": 179,
    "start_time": "2022-08-08T19:18:37.536Z"
   },
   {
    "duration": 5,
    "start_time": "2022-08-08T19:18:37.717Z"
   },
   {
    "duration": 26,
    "start_time": "2022-08-08T19:18:37.723Z"
   },
   {
    "duration": 153,
    "start_time": "2022-08-08T19:18:37.750Z"
   },
   {
    "duration": 718,
    "start_time": "2022-08-08T19:18:37.904Z"
   },
   {
    "duration": 910,
    "start_time": "2022-08-08T19:18:38.628Z"
   },
   {
    "duration": 767,
    "start_time": "2022-08-08T19:18:39.540Z"
   },
   {
    "duration": 9,
    "start_time": "2022-08-08T19:18:40.308Z"
   },
   {
    "duration": 35,
    "start_time": "2022-08-08T19:18:40.319Z"
   },
   {
    "duration": 26,
    "start_time": "2022-08-08T19:18:40.355Z"
   },
   {
    "duration": 20,
    "start_time": "2022-08-08T19:18:40.382Z"
   },
   {
    "duration": 36,
    "start_time": "2022-08-08T19:18:40.403Z"
   },
   {
    "duration": 27,
    "start_time": "2022-08-08T19:18:40.440Z"
   },
   {
    "duration": 179,
    "start_time": "2022-08-08T19:18:40.468Z"
   },
   {
    "duration": 1733,
    "start_time": "2022-08-08T19:18:40.649Z"
   },
   {
    "duration": 1359,
    "start_time": "2022-08-08T19:18:42.383Z"
   },
   {
    "duration": 200,
    "start_time": "2022-08-08T19:18:43.744Z"
   },
   {
    "duration": 2660,
    "start_time": "2022-08-08T19:18:43.946Z"
   },
   {
    "duration": 2276,
    "start_time": "2022-08-08T19:18:46.607Z"
   },
   {
    "duration": 190,
    "start_time": "2022-08-08T19:18:48.884Z"
   },
   {
    "duration": 1191,
    "start_time": "2022-08-08T19:18:49.076Z"
   },
   {
    "duration": 809,
    "start_time": "2022-08-08T19:18:50.269Z"
   },
   {
    "duration": 20,
    "start_time": "2022-08-08T19:18:51.080Z"
   },
   {
    "duration": 38,
    "start_time": "2022-08-08T19:18:51.102Z"
   },
   {
    "duration": 31,
    "start_time": "2022-08-08T19:18:51.142Z"
   },
   {
    "duration": 22,
    "start_time": "2022-08-08T19:18:51.175Z"
   },
   {
    "duration": 32,
    "start_time": "2022-08-08T19:18:51.199Z"
   },
   {
    "duration": 32,
    "start_time": "2022-08-08T19:18:51.232Z"
   },
   {
    "duration": 169,
    "start_time": "2022-08-08T19:18:51.266Z"
   },
   {
    "duration": 21,
    "start_time": "2022-08-08T19:18:51.437Z"
   },
   {
    "duration": 291,
    "start_time": "2022-08-08T19:18:51.460Z"
   },
   {
    "duration": 14,
    "start_time": "2022-08-08T19:18:51.753Z"
   },
   {
    "duration": 237,
    "start_time": "2022-08-08T19:18:51.769Z"
   },
   {
    "duration": 10,
    "start_time": "2022-08-08T19:18:52.008Z"
   },
   {
    "duration": 21,
    "start_time": "2022-08-08T19:18:52.019Z"
   },
   {
    "duration": 24,
    "start_time": "2022-08-08T19:18:52.041Z"
   },
   {
    "duration": 18,
    "start_time": "2022-08-08T19:18:52.066Z"
   },
   {
    "duration": 25,
    "start_time": "2022-08-08T19:18:52.085Z"
   },
   {
    "duration": 58,
    "start_time": "2022-08-08T19:18:52.111Z"
   },
   {
    "duration": 6,
    "start_time": "2022-08-08T19:18:52.171Z"
   },
   {
    "duration": 54,
    "start_time": "2022-08-08T19:18:52.179Z"
   },
   {
    "duration": 259,
    "start_time": "2022-08-08T19:18:52.234Z"
   },
   {
    "duration": 2729,
    "start_time": "2022-08-08T19:19:47.152Z"
   },
   {
    "duration": 244,
    "start_time": "2022-08-08T19:21:32.871Z"
   },
   {
    "duration": 204,
    "start_time": "2022-08-08T19:21:46.581Z"
   },
   {
    "duration": 72,
    "start_time": "2022-08-08T19:22:30.007Z"
   },
   {
    "duration": 26,
    "start_time": "2022-08-08T19:22:42.508Z"
   },
   {
    "duration": 43,
    "start_time": "2022-08-08T19:22:45.698Z"
   },
   {
    "duration": 45,
    "start_time": "2022-08-08T19:22:52.103Z"
   },
   {
    "duration": 27,
    "start_time": "2022-08-08T19:24:17.140Z"
   },
   {
    "duration": 7,
    "start_time": "2022-08-08T19:35:37.215Z"
   },
   {
    "duration": 417,
    "start_time": "2022-08-08T19:36:01.794Z"
   },
   {
    "duration": 88,
    "start_time": "2022-08-08T19:36:02.213Z"
   },
   {
    "duration": 3,
    "start_time": "2022-08-08T19:36:02.302Z"
   },
   {
    "duration": 23,
    "start_time": "2022-08-08T19:36:02.306Z"
   },
   {
    "duration": 30,
    "start_time": "2022-08-08T19:36:02.330Z"
   },
   {
    "duration": 2018,
    "start_time": "2022-08-08T19:36:02.361Z"
   },
   {
    "duration": 9,
    "start_time": "2022-08-08T19:36:04.381Z"
   },
   {
    "duration": 531,
    "start_time": "2022-08-08T19:36:04.391Z"
   },
   {
    "duration": 4,
    "start_time": "2022-08-08T19:36:04.924Z"
   },
   {
    "duration": 7,
    "start_time": "2022-08-08T19:36:04.931Z"
   },
   {
    "duration": 8,
    "start_time": "2022-08-08T19:36:04.940Z"
   },
   {
    "duration": 9,
    "start_time": "2022-08-08T19:36:04.950Z"
   },
   {
    "duration": 9,
    "start_time": "2022-08-08T19:36:04.960Z"
   },
   {
    "duration": 35,
    "start_time": "2022-08-08T19:36:04.970Z"
   },
   {
    "duration": 5,
    "start_time": "2022-08-08T19:36:05.006Z"
   },
   {
    "duration": 10,
    "start_time": "2022-08-08T19:36:05.012Z"
   },
   {
    "duration": 190,
    "start_time": "2022-08-08T19:36:05.023Z"
   },
   {
    "duration": 12,
    "start_time": "2022-08-08T19:36:05.215Z"
   },
   {
    "duration": 6,
    "start_time": "2022-08-08T19:36:05.229Z"
   },
   {
    "duration": 15,
    "start_time": "2022-08-08T19:36:05.236Z"
   },
   {
    "duration": 6,
    "start_time": "2022-08-08T19:36:05.253Z"
   },
   {
    "duration": 14,
    "start_time": "2022-08-08T19:36:05.261Z"
   },
   {
    "duration": 6,
    "start_time": "2022-08-08T19:36:05.300Z"
   },
   {
    "duration": 9,
    "start_time": "2022-08-08T19:36:05.307Z"
   },
   {
    "duration": 21,
    "start_time": "2022-08-08T19:36:05.318Z"
   },
   {
    "duration": 13,
    "start_time": "2022-08-08T19:36:05.340Z"
   },
   {
    "duration": 6,
    "start_time": "2022-08-08T19:36:05.355Z"
   },
   {
    "duration": 20,
    "start_time": "2022-08-08T19:36:05.365Z"
   },
   {
    "duration": 17,
    "start_time": "2022-08-08T19:36:05.387Z"
   },
   {
    "duration": 1359,
    "start_time": "2022-08-08T19:36:05.406Z"
   },
   {
    "duration": 4,
    "start_time": "2022-08-08T19:36:06.767Z"
   },
   {
    "duration": 27,
    "start_time": "2022-08-08T19:36:06.773Z"
   },
   {
    "duration": 10,
    "start_time": "2022-08-08T19:36:06.802Z"
   },
   {
    "duration": 9,
    "start_time": "2022-08-08T19:36:06.814Z"
   },
   {
    "duration": 9,
    "start_time": "2022-08-08T19:36:06.824Z"
   },
   {
    "duration": 9,
    "start_time": "2022-08-08T19:36:06.835Z"
   },
   {
    "duration": 6,
    "start_time": "2022-08-08T19:36:06.846Z"
   },
   {
    "duration": 48,
    "start_time": "2022-08-08T19:36:06.853Z"
   },
   {
    "duration": 1333,
    "start_time": "2022-08-08T19:36:06.903Z"
   },
   {
    "duration": 1328,
    "start_time": "2022-08-08T19:36:08.238Z"
   },
   {
    "duration": 6,
    "start_time": "2022-08-08T19:36:09.568Z"
   },
   {
    "duration": 16,
    "start_time": "2022-08-08T19:36:09.576Z"
   },
   {
    "duration": 11,
    "start_time": "2022-08-08T19:36:09.593Z"
   },
   {
    "duration": 6,
    "start_time": "2022-08-08T19:36:09.606Z"
   },
   {
    "duration": 19,
    "start_time": "2022-08-08T19:36:09.614Z"
   },
   {
    "duration": 1410,
    "start_time": "2022-08-08T19:36:09.635Z"
   },
   {
    "duration": 1377,
    "start_time": "2022-08-08T19:36:11.047Z"
   },
   {
    "duration": 1349,
    "start_time": "2022-08-08T19:36:12.426Z"
   },
   {
    "duration": 4,
    "start_time": "2022-08-08T19:36:13.776Z"
   },
   {
    "duration": 18,
    "start_time": "2022-08-08T19:36:13.782Z"
   },
   {
    "duration": 9,
    "start_time": "2022-08-08T19:36:13.801Z"
   },
   {
    "duration": 39,
    "start_time": "2022-08-08T19:36:13.812Z"
   },
   {
    "duration": 14,
    "start_time": "2022-08-08T19:36:13.853Z"
   },
   {
    "duration": 5,
    "start_time": "2022-08-08T19:36:13.869Z"
   },
   {
    "duration": 27,
    "start_time": "2022-08-08T19:36:13.875Z"
   },
   {
    "duration": 21,
    "start_time": "2022-08-08T19:36:13.904Z"
   },
   {
    "duration": 7,
    "start_time": "2022-08-08T19:36:13.926Z"
   },
   {
    "duration": 12,
    "start_time": "2022-08-08T19:36:13.935Z"
   },
   {
    "duration": 17,
    "start_time": "2022-08-08T19:36:13.948Z"
   },
   {
    "duration": 229,
    "start_time": "2022-08-08T19:36:13.967Z"
   },
   {
    "duration": 4,
    "start_time": "2022-08-08T19:36:14.199Z"
   },
   {
    "duration": 493,
    "start_time": "2022-08-08T19:36:14.204Z"
   },
   {
    "duration": 177,
    "start_time": "2022-08-08T19:36:14.699Z"
   },
   {
    "duration": 194,
    "start_time": "2022-08-08T19:36:14.878Z"
   },
   {
    "duration": 2063,
    "start_time": "2022-08-08T19:36:15.074Z"
   },
   {
    "duration": 175,
    "start_time": "2022-08-08T19:36:17.139Z"
   },
   {
    "duration": 25,
    "start_time": "2022-08-08T19:36:17.315Z"
   },
   {
    "duration": 13,
    "start_time": "2022-08-08T19:36:17.342Z"
   },
   {
    "duration": 202,
    "start_time": "2022-08-08T19:36:17.357Z"
   },
   {
    "duration": 40,
    "start_time": "2022-08-08T19:36:17.561Z"
   },
   {
    "duration": 7,
    "start_time": "2022-08-08T19:36:17.602Z"
   },
   {
    "duration": 8,
    "start_time": "2022-08-08T19:36:17.610Z"
   },
   {
    "duration": 7,
    "start_time": "2022-08-08T19:36:17.621Z"
   },
   {
    "duration": 223,
    "start_time": "2022-08-08T19:36:17.629Z"
   },
   {
    "duration": 21,
    "start_time": "2022-08-08T19:36:17.854Z"
   },
   {
    "duration": 28,
    "start_time": "2022-08-08T19:36:17.877Z"
   },
   {
    "duration": 208,
    "start_time": "2022-08-08T19:36:17.907Z"
   },
   {
    "duration": 550,
    "start_time": "2022-08-08T19:36:18.117Z"
   },
   {
    "duration": 32,
    "start_time": "2022-08-08T19:36:18.668Z"
   },
   {
    "duration": 12,
    "start_time": "2022-08-08T19:36:18.702Z"
   },
   {
    "duration": 194,
    "start_time": "2022-08-08T19:36:18.715Z"
   },
   {
    "duration": 5,
    "start_time": "2022-08-08T19:36:18.915Z"
   },
   {
    "duration": 11,
    "start_time": "2022-08-08T19:36:18.921Z"
   },
   {
    "duration": 6,
    "start_time": "2022-08-08T19:36:18.934Z"
   },
   {
    "duration": 316,
    "start_time": "2022-08-08T19:36:18.941Z"
   },
   {
    "duration": 41,
    "start_time": "2022-08-08T19:36:19.259Z"
   },
   {
    "duration": 4,
    "start_time": "2022-08-08T19:36:19.302Z"
   },
   {
    "duration": 10,
    "start_time": "2022-08-08T19:36:19.307Z"
   },
   {
    "duration": 5,
    "start_time": "2022-08-08T19:36:19.319Z"
   },
   {
    "duration": 13,
    "start_time": "2022-08-08T19:36:19.325Z"
   },
   {
    "duration": 7,
    "start_time": "2022-08-08T19:36:19.340Z"
   },
   {
    "duration": 52,
    "start_time": "2022-08-08T19:36:19.348Z"
   },
   {
    "duration": 5,
    "start_time": "2022-08-08T19:36:19.402Z"
   },
   {
    "duration": 13,
    "start_time": "2022-08-08T19:36:19.408Z"
   },
   {
    "duration": 345,
    "start_time": "2022-08-08T19:36:19.422Z"
   },
   {
    "duration": 4,
    "start_time": "2022-08-08T19:36:19.769Z"
   },
   {
    "duration": 2561,
    "start_time": "2022-08-08T19:36:19.774Z"
   },
   {
    "duration": 140,
    "start_time": "2022-08-08T19:36:22.337Z"
   },
   {
    "duration": 164,
    "start_time": "2022-08-08T19:36:22.479Z"
   },
   {
    "duration": 363,
    "start_time": "2022-08-08T19:36:22.645Z"
   },
   {
    "duration": 222,
    "start_time": "2022-08-08T19:36:23.010Z"
   },
   {
    "duration": 169,
    "start_time": "2022-08-08T19:36:23.233Z"
   },
   {
    "duration": 26,
    "start_time": "2022-08-08T19:36:23.404Z"
   },
   {
    "duration": 433,
    "start_time": "2022-08-08T19:36:23.431Z"
   },
   {
    "duration": 391,
    "start_time": "2022-08-08T19:36:23.865Z"
   },
   {
    "duration": 7,
    "start_time": "2022-08-08T19:36:24.258Z"
   },
   {
    "duration": 7,
    "start_time": "2022-08-08T19:36:24.266Z"
   },
   {
    "duration": 971,
    "start_time": "2022-08-08T19:36:24.274Z"
   },
   {
    "duration": 205,
    "start_time": "2022-08-08T19:36:25.247Z"
   },
   {
    "duration": 962,
    "start_time": "2022-08-08T19:36:25.454Z"
   },
   {
    "duration": 5,
    "start_time": "2022-08-08T19:36:26.417Z"
   },
   {
    "duration": 8,
    "start_time": "2022-08-08T19:36:26.423Z"
   },
   {
    "duration": 182,
    "start_time": "2022-08-08T19:36:26.433Z"
   },
   {
    "duration": 4,
    "start_time": "2022-08-08T19:36:26.617Z"
   },
   {
    "duration": 187,
    "start_time": "2022-08-08T19:36:26.622Z"
   },
   {
    "duration": 5,
    "start_time": "2022-08-08T19:36:26.810Z"
   },
   {
    "duration": 170,
    "start_time": "2022-08-08T19:36:26.817Z"
   },
   {
    "duration": 11,
    "start_time": "2022-08-08T19:36:26.989Z"
   },
   {
    "duration": 181,
    "start_time": "2022-08-08T19:36:27.002Z"
   },
   {
    "duration": 5,
    "start_time": "2022-08-08T19:36:27.185Z"
   },
   {
    "duration": 11,
    "start_time": "2022-08-08T19:36:27.200Z"
   },
   {
    "duration": 167,
    "start_time": "2022-08-08T19:36:27.212Z"
   },
   {
    "duration": 915,
    "start_time": "2022-08-08T19:36:27.381Z"
   },
   {
    "duration": 694,
    "start_time": "2022-08-08T19:36:28.300Z"
   },
   {
    "duration": 718,
    "start_time": "2022-08-08T19:36:28.999Z"
   },
   {
    "duration": 9,
    "start_time": "2022-08-08T19:36:29.718Z"
   },
   {
    "duration": 14,
    "start_time": "2022-08-08T19:36:29.728Z"
   },
   {
    "duration": 7,
    "start_time": "2022-08-08T19:36:29.744Z"
   },
   {
    "duration": 11,
    "start_time": "2022-08-08T19:36:29.753Z"
   },
   {
    "duration": 36,
    "start_time": "2022-08-08T19:36:29.765Z"
   },
   {
    "duration": 9,
    "start_time": "2022-08-08T19:36:29.802Z"
   },
   {
    "duration": 417,
    "start_time": "2022-08-08T19:36:29.812Z"
   },
   {
    "duration": 1397,
    "start_time": "2022-08-08T19:36:30.230Z"
   },
   {
    "duration": 1609,
    "start_time": "2022-08-08T19:36:31.629Z"
   },
   {
    "duration": 189,
    "start_time": "2022-08-08T19:36:33.240Z"
   },
   {
    "duration": 2353,
    "start_time": "2022-08-08T19:36:33.431Z"
   },
   {
    "duration": 2436,
    "start_time": "2022-08-08T19:36:35.786Z"
   },
   {
    "duration": 183,
    "start_time": "2022-08-08T19:36:38.223Z"
   },
   {
    "duration": 1029,
    "start_time": "2022-08-08T19:36:38.407Z"
   },
   {
    "duration": 770,
    "start_time": "2022-08-08T19:36:39.437Z"
   },
   {
    "duration": 9,
    "start_time": "2022-08-08T19:36:40.208Z"
   },
   {
    "duration": 13,
    "start_time": "2022-08-08T19:36:40.218Z"
   },
   {
    "duration": 10,
    "start_time": "2022-08-08T19:36:40.233Z"
   },
   {
    "duration": 8,
    "start_time": "2022-08-08T19:36:40.245Z"
   },
   {
    "duration": 7,
    "start_time": "2022-08-08T19:36:40.255Z"
   },
   {
    "duration": 20,
    "start_time": "2022-08-08T19:36:40.299Z"
   },
   {
    "duration": 181,
    "start_time": "2022-08-08T19:36:40.321Z"
   },
   {
    "duration": 14,
    "start_time": "2022-08-08T19:36:40.504Z"
   },
   {
    "duration": 204,
    "start_time": "2022-08-08T19:36:40.520Z"
   },
   {
    "duration": 14,
    "start_time": "2022-08-08T19:36:40.725Z"
   },
   {
    "duration": 226,
    "start_time": "2022-08-08T19:36:40.740Z"
   },
   {
    "duration": 9,
    "start_time": "2022-08-08T19:36:40.967Z"
   },
   {
    "duration": 28,
    "start_time": "2022-08-08T19:36:40.977Z"
   },
   {
    "duration": 10,
    "start_time": "2022-08-08T19:36:41.007Z"
   },
   {
    "duration": 3,
    "start_time": "2022-08-08T19:36:41.018Z"
   },
   {
    "duration": 14,
    "start_time": "2022-08-08T19:36:41.023Z"
   },
   {
    "duration": 34,
    "start_time": "2022-08-08T19:36:41.039Z"
   },
   {
    "duration": 4,
    "start_time": "2022-08-08T19:36:41.099Z"
   },
   {
    "duration": 21,
    "start_time": "2022-08-08T19:36:41.104Z"
   },
   {
    "duration": 271,
    "start_time": "2022-08-08T19:36:41.126Z"
   },
   {
    "duration": 292,
    "start_time": "2022-08-08T19:40:29.360Z"
   },
   {
    "duration": 437,
    "start_time": "2022-08-08T19:41:27.068Z"
   },
   {
    "duration": 459,
    "start_time": "2022-08-08T19:42:50.812Z"
   },
   {
    "duration": 46,
    "start_time": "2022-08-08T19:43:11.036Z"
   },
   {
    "duration": 38,
    "start_time": "2022-08-08T19:43:16.093Z"
   },
   {
    "duration": 23,
    "start_time": "2022-08-08T19:43:49.418Z"
   },
   {
    "duration": 481,
    "start_time": "2022-08-08T19:45:05.141Z"
   },
   {
    "duration": 387,
    "start_time": "2022-08-08T19:51:17.741Z"
   },
   {
    "duration": 106,
    "start_time": "2022-08-08T19:51:18.130Z"
   },
   {
    "duration": 2,
    "start_time": "2022-08-08T19:51:18.238Z"
   },
   {
    "duration": 41,
    "start_time": "2022-08-08T19:51:18.242Z"
   },
   {
    "duration": 42,
    "start_time": "2022-08-08T19:51:18.285Z"
   },
   {
    "duration": 2266,
    "start_time": "2022-08-08T19:51:18.328Z"
   },
   {
    "duration": 10,
    "start_time": "2022-08-08T19:51:20.596Z"
   },
   {
    "duration": 635,
    "start_time": "2022-08-08T19:51:20.607Z"
   },
   {
    "duration": 5,
    "start_time": "2022-08-08T19:51:21.244Z"
   },
   {
    "duration": 24,
    "start_time": "2022-08-08T19:51:21.251Z"
   },
   {
    "duration": 20,
    "start_time": "2022-08-08T19:51:21.276Z"
   },
   {
    "duration": 22,
    "start_time": "2022-08-08T19:51:21.298Z"
   },
   {
    "duration": 15,
    "start_time": "2022-08-08T19:51:21.322Z"
   },
   {
    "duration": 33,
    "start_time": "2022-08-08T19:51:21.338Z"
   },
   {
    "duration": 29,
    "start_time": "2022-08-08T19:51:21.372Z"
   },
   {
    "duration": 26,
    "start_time": "2022-08-08T19:51:21.402Z"
   },
   {
    "duration": 227,
    "start_time": "2022-08-08T19:51:21.430Z"
   },
   {
    "duration": 11,
    "start_time": "2022-08-08T19:51:21.658Z"
   },
   {
    "duration": 7,
    "start_time": "2022-08-08T19:51:21.670Z"
   },
   {
    "duration": 27,
    "start_time": "2022-08-08T19:51:21.678Z"
   },
   {
    "duration": 12,
    "start_time": "2022-08-08T19:51:21.707Z"
   },
   {
    "duration": 35,
    "start_time": "2022-08-08T19:51:21.720Z"
   },
   {
    "duration": 14,
    "start_time": "2022-08-08T19:51:21.757Z"
   },
   {
    "duration": 32,
    "start_time": "2022-08-08T19:51:21.773Z"
   },
   {
    "duration": 28,
    "start_time": "2022-08-08T19:51:21.807Z"
   },
   {
    "duration": 35,
    "start_time": "2022-08-08T19:51:21.836Z"
   },
   {
    "duration": 13,
    "start_time": "2022-08-08T19:51:21.873Z"
   },
   {
    "duration": 29,
    "start_time": "2022-08-08T19:51:21.889Z"
   },
   {
    "duration": 50,
    "start_time": "2022-08-08T19:51:21.920Z"
   },
   {
    "duration": 1395,
    "start_time": "2022-08-08T19:51:21.972Z"
   },
   {
    "duration": 6,
    "start_time": "2022-08-08T19:51:23.368Z"
   },
   {
    "duration": 29,
    "start_time": "2022-08-08T19:51:23.375Z"
   },
   {
    "duration": 10,
    "start_time": "2022-08-08T19:51:23.405Z"
   },
   {
    "duration": 11,
    "start_time": "2022-08-08T19:51:23.416Z"
   },
   {
    "duration": 8,
    "start_time": "2022-08-08T19:51:23.429Z"
   },
   {
    "duration": 13,
    "start_time": "2022-08-08T19:51:23.438Z"
   },
   {
    "duration": 6,
    "start_time": "2022-08-08T19:51:23.452Z"
   },
   {
    "duration": 41,
    "start_time": "2022-08-08T19:51:23.459Z"
   },
   {
    "duration": 1371,
    "start_time": "2022-08-08T19:51:23.502Z"
   },
   {
    "duration": 1438,
    "start_time": "2022-08-08T19:51:24.875Z"
   },
   {
    "duration": 4,
    "start_time": "2022-08-08T19:51:26.315Z"
   },
   {
    "duration": 12,
    "start_time": "2022-08-08T19:51:26.320Z"
   },
   {
    "duration": 10,
    "start_time": "2022-08-08T19:51:26.333Z"
   },
   {
    "duration": 11,
    "start_time": "2022-08-08T19:51:26.344Z"
   },
   {
    "duration": 7,
    "start_time": "2022-08-08T19:51:26.357Z"
   },
   {
    "duration": 1409,
    "start_time": "2022-08-08T19:51:26.365Z"
   },
   {
    "duration": 1417,
    "start_time": "2022-08-08T19:51:27.776Z"
   },
   {
    "duration": 1398,
    "start_time": "2022-08-08T19:51:29.195Z"
   },
   {
    "duration": 5,
    "start_time": "2022-08-08T19:51:30.595Z"
   },
   {
    "duration": 13,
    "start_time": "2022-08-08T19:51:30.602Z"
   },
   {
    "duration": 19,
    "start_time": "2022-08-08T19:51:30.616Z"
   },
   {
    "duration": 33,
    "start_time": "2022-08-08T19:51:30.637Z"
   },
   {
    "duration": 14,
    "start_time": "2022-08-08T19:51:30.671Z"
   },
   {
    "duration": 17,
    "start_time": "2022-08-08T19:51:30.687Z"
   },
   {
    "duration": 13,
    "start_time": "2022-08-08T19:51:30.705Z"
   },
   {
    "duration": 20,
    "start_time": "2022-08-08T19:51:30.720Z"
   },
   {
    "duration": 5,
    "start_time": "2022-08-08T19:51:30.742Z"
   },
   {
    "duration": 29,
    "start_time": "2022-08-08T19:51:30.749Z"
   },
   {
    "duration": 27,
    "start_time": "2022-08-08T19:51:30.780Z"
   },
   {
    "duration": 220,
    "start_time": "2022-08-08T19:51:30.809Z"
   },
   {
    "duration": 4,
    "start_time": "2022-08-08T19:51:31.031Z"
   },
   {
    "duration": 564,
    "start_time": "2022-08-08T19:51:31.036Z"
   },
   {
    "duration": 193,
    "start_time": "2022-08-08T19:51:31.602Z"
   },
   {
    "duration": 195,
    "start_time": "2022-08-08T19:51:31.796Z"
   },
   {
    "duration": 2135,
    "start_time": "2022-08-08T19:51:31.992Z"
   },
   {
    "duration": 185,
    "start_time": "2022-08-08T19:51:34.129Z"
   },
   {
    "duration": 30,
    "start_time": "2022-08-08T19:51:34.316Z"
   },
   {
    "duration": 11,
    "start_time": "2022-08-08T19:51:34.347Z"
   },
   {
    "duration": 212,
    "start_time": "2022-08-08T19:51:34.359Z"
   },
   {
    "duration": 42,
    "start_time": "2022-08-08T19:51:34.573Z"
   },
   {
    "duration": 7,
    "start_time": "2022-08-08T19:51:34.616Z"
   },
   {
    "duration": 9,
    "start_time": "2022-08-08T19:51:34.624Z"
   },
   {
    "duration": 6,
    "start_time": "2022-08-08T19:51:34.634Z"
   },
   {
    "duration": 217,
    "start_time": "2022-08-08T19:51:34.642Z"
   },
   {
    "duration": 21,
    "start_time": "2022-08-08T19:51:34.861Z"
   },
   {
    "duration": 17,
    "start_time": "2022-08-08T19:51:34.884Z"
   },
   {
    "duration": 218,
    "start_time": "2022-08-08T19:51:34.902Z"
   },
   {
    "duration": 533,
    "start_time": "2022-08-08T19:51:35.122Z"
   },
   {
    "duration": 3,
    "start_time": "2022-08-08T19:51:35.657Z"
   },
   {
    "duration": 11,
    "start_time": "2022-08-08T19:51:35.661Z"
   },
   {
    "duration": 201,
    "start_time": "2022-08-08T19:51:35.674Z"
   },
   {
    "duration": 6,
    "start_time": "2022-08-08T19:51:35.881Z"
   },
   {
    "duration": 17,
    "start_time": "2022-08-08T19:51:35.889Z"
   },
   {
    "duration": 4,
    "start_time": "2022-08-08T19:51:35.908Z"
   },
   {
    "duration": 216,
    "start_time": "2022-08-08T19:51:35.913Z"
   },
   {
    "duration": 4,
    "start_time": "2022-08-08T19:51:36.131Z"
   },
   {
    "duration": 8,
    "start_time": "2022-08-08T19:51:36.137Z"
   },
   {
    "duration": 19,
    "start_time": "2022-08-08T19:51:36.147Z"
   },
   {
    "duration": 8,
    "start_time": "2022-08-08T19:51:36.167Z"
   },
   {
    "duration": 9,
    "start_time": "2022-08-08T19:51:36.176Z"
   },
   {
    "duration": 15,
    "start_time": "2022-08-08T19:51:36.186Z"
   },
   {
    "duration": 9,
    "start_time": "2022-08-08T19:51:36.202Z"
   },
   {
    "duration": 5,
    "start_time": "2022-08-08T19:51:36.212Z"
   },
   {
    "duration": 5,
    "start_time": "2022-08-08T19:51:36.219Z"
   },
   {
    "duration": 274,
    "start_time": "2022-08-08T19:51:36.226Z"
   },
   {
    "duration": 566,
    "start_time": "2022-08-08T19:51:36.502Z"
   },
   {
    "duration": 0,
    "start_time": "2022-08-08T19:51:37.070Z"
   },
   {
    "duration": 0,
    "start_time": "2022-08-08T19:51:37.071Z"
   },
   {
    "duration": 0,
    "start_time": "2022-08-08T19:51:37.072Z"
   },
   {
    "duration": 0,
    "start_time": "2022-08-08T19:51:37.073Z"
   },
   {
    "duration": 0,
    "start_time": "2022-08-08T19:51:37.074Z"
   },
   {
    "duration": 0,
    "start_time": "2022-08-08T19:51:37.075Z"
   },
   {
    "duration": 0,
    "start_time": "2022-08-08T19:51:37.076Z"
   },
   {
    "duration": 0,
    "start_time": "2022-08-08T19:51:37.076Z"
   },
   {
    "duration": 0,
    "start_time": "2022-08-08T19:51:37.077Z"
   },
   {
    "duration": 0,
    "start_time": "2022-08-08T19:51:37.078Z"
   },
   {
    "duration": 0,
    "start_time": "2022-08-08T19:51:37.079Z"
   },
   {
    "duration": 0,
    "start_time": "2022-08-08T19:51:37.080Z"
   },
   {
    "duration": 0,
    "start_time": "2022-08-08T19:51:37.081Z"
   },
   {
    "duration": 0,
    "start_time": "2022-08-08T19:51:37.082Z"
   },
   {
    "duration": 0,
    "start_time": "2022-08-08T19:51:37.083Z"
   },
   {
    "duration": 0,
    "start_time": "2022-08-08T19:51:37.083Z"
   },
   {
    "duration": 0,
    "start_time": "2022-08-08T19:51:37.085Z"
   },
   {
    "duration": 0,
    "start_time": "2022-08-08T19:51:37.085Z"
   },
   {
    "duration": 1,
    "start_time": "2022-08-08T19:51:37.086Z"
   },
   {
    "duration": 0,
    "start_time": "2022-08-08T19:51:37.088Z"
   },
   {
    "duration": 0,
    "start_time": "2022-08-08T19:51:37.089Z"
   },
   {
    "duration": 0,
    "start_time": "2022-08-08T19:51:37.090Z"
   },
   {
    "duration": 1,
    "start_time": "2022-08-08T19:51:37.091Z"
   },
   {
    "duration": 0,
    "start_time": "2022-08-08T19:51:37.092Z"
   },
   {
    "duration": 0,
    "start_time": "2022-08-08T19:51:37.093Z"
   },
   {
    "duration": 0,
    "start_time": "2022-08-08T19:51:37.094Z"
   },
   {
    "duration": 0,
    "start_time": "2022-08-08T19:51:37.095Z"
   },
   {
    "duration": 0,
    "start_time": "2022-08-08T19:51:37.096Z"
   },
   {
    "duration": 0,
    "start_time": "2022-08-08T19:51:37.097Z"
   },
   {
    "duration": 0,
    "start_time": "2022-08-08T19:51:37.098Z"
   },
   {
    "duration": 0,
    "start_time": "2022-08-08T19:51:37.099Z"
   },
   {
    "duration": 0,
    "start_time": "2022-08-08T19:51:37.100Z"
   },
   {
    "duration": 0,
    "start_time": "2022-08-08T19:51:37.101Z"
   },
   {
    "duration": 0,
    "start_time": "2022-08-08T19:51:37.102Z"
   },
   {
    "duration": 0,
    "start_time": "2022-08-08T19:51:37.103Z"
   },
   {
    "duration": 0,
    "start_time": "2022-08-08T19:51:37.104Z"
   },
   {
    "duration": 0,
    "start_time": "2022-08-08T19:51:37.105Z"
   },
   {
    "duration": 0,
    "start_time": "2022-08-08T19:51:37.105Z"
   },
   {
    "duration": 0,
    "start_time": "2022-08-08T19:51:37.106Z"
   },
   {
    "duration": 0,
    "start_time": "2022-08-08T19:51:37.107Z"
   },
   {
    "duration": 0,
    "start_time": "2022-08-08T19:51:37.108Z"
   },
   {
    "duration": 0,
    "start_time": "2022-08-08T19:51:37.109Z"
   },
   {
    "duration": 0,
    "start_time": "2022-08-08T19:51:37.110Z"
   },
   {
    "duration": 0,
    "start_time": "2022-08-08T19:51:37.111Z"
   },
   {
    "duration": 0,
    "start_time": "2022-08-08T19:51:37.112Z"
   },
   {
    "duration": 0,
    "start_time": "2022-08-08T19:51:37.113Z"
   },
   {
    "duration": 0,
    "start_time": "2022-08-08T19:51:37.114Z"
   },
   {
    "duration": 0,
    "start_time": "2022-08-08T19:51:37.116Z"
   },
   {
    "duration": 0,
    "start_time": "2022-08-08T19:51:37.117Z"
   },
   {
    "duration": 0,
    "start_time": "2022-08-08T19:51:37.118Z"
   },
   {
    "duration": 0,
    "start_time": "2022-08-08T19:51:37.118Z"
   },
   {
    "duration": 0,
    "start_time": "2022-08-08T19:51:37.119Z"
   },
   {
    "duration": 0,
    "start_time": "2022-08-08T19:51:37.121Z"
   },
   {
    "duration": 0,
    "start_time": "2022-08-08T19:51:37.122Z"
   },
   {
    "duration": 1,
    "start_time": "2022-08-08T19:51:37.122Z"
   },
   {
    "duration": 0,
    "start_time": "2022-08-08T19:51:37.124Z"
   },
   {
    "duration": 0,
    "start_time": "2022-08-08T19:51:37.124Z"
   },
   {
    "duration": 0,
    "start_time": "2022-08-08T19:51:37.125Z"
   },
   {
    "duration": 0,
    "start_time": "2022-08-08T19:51:37.127Z"
   },
   {
    "duration": 0,
    "start_time": "2022-08-08T19:51:37.127Z"
   },
   {
    "duration": 0,
    "start_time": "2022-08-08T19:51:37.128Z"
   },
   {
    "duration": 0,
    "start_time": "2022-08-08T19:51:37.129Z"
   },
   {
    "duration": 0,
    "start_time": "2022-08-08T19:51:37.130Z"
   },
   {
    "duration": 0,
    "start_time": "2022-08-08T19:51:37.131Z"
   },
   {
    "duration": 515,
    "start_time": "2022-08-08T19:52:03.396Z"
   },
   {
    "duration": 42,
    "start_time": "2022-08-08T19:52:27.380Z"
   },
   {
    "duration": 51,
    "start_time": "2022-08-08T19:52:51.051Z"
   },
   {
    "duration": 4,
    "start_time": "2022-08-08T19:54:27.994Z"
   },
   {
    "duration": 36,
    "start_time": "2022-08-08T19:54:33.156Z"
   },
   {
    "duration": 435,
    "start_time": "2022-08-08T19:55:26.112Z"
   },
   {
    "duration": 92,
    "start_time": "2022-08-08T19:55:26.550Z"
   },
   {
    "duration": 3,
    "start_time": "2022-08-08T19:55:26.644Z"
   },
   {
    "duration": 40,
    "start_time": "2022-08-08T19:55:26.649Z"
   },
   {
    "duration": 36,
    "start_time": "2022-08-08T19:55:26.691Z"
   },
   {
    "duration": 2003,
    "start_time": "2022-08-08T19:55:26.728Z"
   },
   {
    "duration": 8,
    "start_time": "2022-08-08T19:55:28.733Z"
   },
   {
    "duration": 607,
    "start_time": "2022-08-08T19:55:28.743Z"
   },
   {
    "duration": 5,
    "start_time": "2022-08-08T19:55:29.351Z"
   },
   {
    "duration": 24,
    "start_time": "2022-08-08T19:55:29.359Z"
   },
   {
    "duration": 41,
    "start_time": "2022-08-08T19:55:29.384Z"
   },
   {
    "duration": 44,
    "start_time": "2022-08-08T19:55:29.427Z"
   },
   {
    "duration": 27,
    "start_time": "2022-08-08T19:55:29.473Z"
   },
   {
    "duration": 24,
    "start_time": "2022-08-08T19:55:29.502Z"
   },
   {
    "duration": 26,
    "start_time": "2022-08-08T19:55:29.527Z"
   },
   {
    "duration": 21,
    "start_time": "2022-08-08T19:55:29.555Z"
   },
   {
    "duration": 190,
    "start_time": "2022-08-08T19:55:29.577Z"
   },
   {
    "duration": 11,
    "start_time": "2022-08-08T19:55:29.769Z"
   },
   {
    "duration": 25,
    "start_time": "2022-08-08T19:55:29.781Z"
   },
   {
    "duration": 26,
    "start_time": "2022-08-08T19:55:29.808Z"
   },
   {
    "duration": 36,
    "start_time": "2022-08-08T19:55:29.836Z"
   },
   {
    "duration": 32,
    "start_time": "2022-08-08T19:55:29.874Z"
   },
   {
    "duration": 6,
    "start_time": "2022-08-08T19:55:29.908Z"
   },
   {
    "duration": 20,
    "start_time": "2022-08-08T19:55:29.915Z"
   },
   {
    "duration": 17,
    "start_time": "2022-08-08T19:55:29.937Z"
   },
   {
    "duration": 11,
    "start_time": "2022-08-08T19:55:29.956Z"
   },
   {
    "duration": 6,
    "start_time": "2022-08-08T19:55:29.968Z"
   },
   {
    "duration": 22,
    "start_time": "2022-08-08T19:55:29.978Z"
   },
   {
    "duration": 5,
    "start_time": "2022-08-08T19:55:30.001Z"
   },
   {
    "duration": 1427,
    "start_time": "2022-08-08T19:55:30.007Z"
   },
   {
    "duration": 5,
    "start_time": "2022-08-08T19:55:31.436Z"
   },
   {
    "duration": 50,
    "start_time": "2022-08-08T19:55:31.442Z"
   },
   {
    "duration": 104,
    "start_time": "2022-08-08T19:55:31.494Z"
   },
   {
    "duration": 14,
    "start_time": "2022-08-08T19:55:31.600Z"
   },
   {
    "duration": 13,
    "start_time": "2022-08-08T19:55:31.615Z"
   },
   {
    "duration": 17,
    "start_time": "2022-08-08T19:55:31.630Z"
   },
   {
    "duration": 7,
    "start_time": "2022-08-08T19:55:31.649Z"
   },
   {
    "duration": 14,
    "start_time": "2022-08-08T19:55:31.657Z"
   },
   {
    "duration": 1421,
    "start_time": "2022-08-08T19:55:31.673Z"
   },
   {
    "duration": 1376,
    "start_time": "2022-08-08T19:55:33.095Z"
   },
   {
    "duration": 5,
    "start_time": "2022-08-08T19:55:34.473Z"
   },
   {
    "duration": 22,
    "start_time": "2022-08-08T19:55:34.479Z"
   },
   {
    "duration": 13,
    "start_time": "2022-08-08T19:55:34.502Z"
   },
   {
    "duration": 8,
    "start_time": "2022-08-08T19:55:34.517Z"
   },
   {
    "duration": 13,
    "start_time": "2022-08-08T19:55:34.526Z"
   },
   {
    "duration": 1383,
    "start_time": "2022-08-08T19:55:34.540Z"
   },
   {
    "duration": 1320,
    "start_time": "2022-08-08T19:55:35.925Z"
   },
   {
    "duration": 1317,
    "start_time": "2022-08-08T19:55:37.247Z"
   },
   {
    "duration": 4,
    "start_time": "2022-08-08T19:55:38.565Z"
   },
   {
    "duration": 7,
    "start_time": "2022-08-08T19:55:38.571Z"
   },
   {
    "duration": 21,
    "start_time": "2022-08-08T19:55:38.579Z"
   },
   {
    "duration": 23,
    "start_time": "2022-08-08T19:55:38.602Z"
   },
   {
    "duration": 12,
    "start_time": "2022-08-08T19:55:38.626Z"
   },
   {
    "duration": 4,
    "start_time": "2022-08-08T19:55:38.639Z"
   },
   {
    "duration": 9,
    "start_time": "2022-08-08T19:55:38.644Z"
   },
   {
    "duration": 14,
    "start_time": "2022-08-08T19:55:38.654Z"
   },
   {
    "duration": 5,
    "start_time": "2022-08-08T19:55:38.701Z"
   },
   {
    "duration": 12,
    "start_time": "2022-08-08T19:55:38.707Z"
   },
   {
    "duration": 15,
    "start_time": "2022-08-08T19:55:38.720Z"
   },
   {
    "duration": 204,
    "start_time": "2022-08-08T19:55:38.736Z"
   },
   {
    "duration": 4,
    "start_time": "2022-08-08T19:55:38.942Z"
   },
   {
    "duration": 499,
    "start_time": "2022-08-08T19:55:38.948Z"
   },
   {
    "duration": 189,
    "start_time": "2022-08-08T19:55:39.448Z"
   },
   {
    "duration": 190,
    "start_time": "2022-08-08T19:55:39.639Z"
   },
   {
    "duration": 2064,
    "start_time": "2022-08-08T19:55:39.831Z"
   },
   {
    "duration": 177,
    "start_time": "2022-08-08T19:55:41.899Z"
   },
   {
    "duration": 30,
    "start_time": "2022-08-08T19:55:42.077Z"
   },
   {
    "duration": 6,
    "start_time": "2022-08-08T19:55:42.109Z"
   },
   {
    "duration": 198,
    "start_time": "2022-08-08T19:55:42.116Z"
   },
   {
    "duration": 33,
    "start_time": "2022-08-08T19:55:42.316Z"
   },
   {
    "duration": 7,
    "start_time": "2022-08-08T19:55:42.350Z"
   },
   {
    "duration": 8,
    "start_time": "2022-08-08T19:55:42.358Z"
   },
   {
    "duration": 34,
    "start_time": "2022-08-08T19:55:42.367Z"
   },
   {
    "duration": 199,
    "start_time": "2022-08-08T19:55:42.402Z"
   },
   {
    "duration": 21,
    "start_time": "2022-08-08T19:55:42.603Z"
   },
   {
    "duration": 7,
    "start_time": "2022-08-08T19:55:42.625Z"
   },
   {
    "duration": 209,
    "start_time": "2022-08-08T19:55:42.633Z"
   },
   {
    "duration": 514,
    "start_time": "2022-08-08T19:55:42.844Z"
   },
   {
    "duration": 4,
    "start_time": "2022-08-08T19:55:43.360Z"
   },
   {
    "duration": 11,
    "start_time": "2022-08-08T19:55:43.366Z"
   },
   {
    "duration": 189,
    "start_time": "2022-08-08T19:55:43.379Z"
   },
   {
    "duration": 5,
    "start_time": "2022-08-08T19:55:43.575Z"
   },
   {
    "duration": 23,
    "start_time": "2022-08-08T19:55:43.581Z"
   },
   {
    "duration": 6,
    "start_time": "2022-08-08T19:55:43.605Z"
   },
   {
    "duration": 191,
    "start_time": "2022-08-08T19:55:43.612Z"
   },
   {
    "duration": 4,
    "start_time": "2022-08-08T19:55:43.804Z"
   },
   {
    "duration": 7,
    "start_time": "2022-08-08T19:55:43.809Z"
   },
   {
    "duration": 6,
    "start_time": "2022-08-08T19:55:43.817Z"
   },
   {
    "duration": 5,
    "start_time": "2022-08-08T19:55:43.824Z"
   },
   {
    "duration": 8,
    "start_time": "2022-08-08T19:55:43.830Z"
   },
   {
    "duration": 9,
    "start_time": "2022-08-08T19:55:43.839Z"
   },
   {
    "duration": 12,
    "start_time": "2022-08-08T19:55:43.850Z"
   },
   {
    "duration": 40,
    "start_time": "2022-08-08T19:55:43.863Z"
   },
   {
    "duration": 4,
    "start_time": "2022-08-08T19:55:43.905Z"
   },
   {
    "duration": 263,
    "start_time": "2022-08-08T19:55:43.910Z"
   },
   {
    "duration": 4,
    "start_time": "2022-08-08T19:55:44.175Z"
   },
   {
    "duration": 2383,
    "start_time": "2022-08-08T19:55:44.180Z"
   },
   {
    "duration": 137,
    "start_time": "2022-08-08T19:55:46.565Z"
   },
   {
    "duration": 166,
    "start_time": "2022-08-08T19:55:46.704Z"
   },
   {
    "duration": 344,
    "start_time": "2022-08-08T19:55:46.872Z"
   },
   {
    "duration": 208,
    "start_time": "2022-08-08T19:55:47.218Z"
   },
   {
    "duration": 157,
    "start_time": "2022-08-08T19:55:47.427Z"
   },
   {
    "duration": 36,
    "start_time": "2022-08-08T19:55:47.586Z"
   },
   {
    "duration": 393,
    "start_time": "2022-08-08T19:55:47.624Z"
   },
   {
    "duration": 373,
    "start_time": "2022-08-08T19:55:48.019Z"
   },
   {
    "duration": 9,
    "start_time": "2022-08-08T19:55:48.394Z"
   },
   {
    "duration": 7,
    "start_time": "2022-08-08T19:55:48.404Z"
   },
   {
    "duration": 972,
    "start_time": "2022-08-08T19:55:48.412Z"
   },
   {
    "duration": 230,
    "start_time": "2022-08-08T19:55:49.385Z"
   },
   {
    "duration": 1017,
    "start_time": "2022-08-08T19:55:49.617Z"
   },
   {
    "duration": 5,
    "start_time": "2022-08-08T19:55:50.635Z"
   },
   {
    "duration": 7,
    "start_time": "2022-08-08T19:55:50.642Z"
   },
   {
    "duration": 196,
    "start_time": "2022-08-08T19:55:50.651Z"
   },
   {
    "duration": 5,
    "start_time": "2022-08-08T19:55:50.849Z"
   },
   {
    "duration": 197,
    "start_time": "2022-08-08T19:55:50.856Z"
   },
   {
    "duration": 5,
    "start_time": "2022-08-08T19:55:51.054Z"
   },
   {
    "duration": 172,
    "start_time": "2022-08-08T19:55:51.060Z"
   },
   {
    "duration": 5,
    "start_time": "2022-08-08T19:55:51.234Z"
   },
   {
    "duration": 209,
    "start_time": "2022-08-08T19:55:51.241Z"
   },
   {
    "duration": 6,
    "start_time": "2022-08-08T19:55:51.452Z"
   },
   {
    "duration": 13,
    "start_time": "2022-08-08T19:55:51.460Z"
   },
   {
    "duration": 187,
    "start_time": "2022-08-08T19:55:51.501Z"
   },
   {
    "duration": 932,
    "start_time": "2022-08-08T19:55:51.699Z"
   },
   {
    "duration": 717,
    "start_time": "2022-08-08T19:55:52.633Z"
   },
   {
    "duration": 743,
    "start_time": "2022-08-08T19:55:53.352Z"
   },
   {
    "duration": 10,
    "start_time": "2022-08-08T19:55:54.097Z"
   },
   {
    "duration": 16,
    "start_time": "2022-08-08T19:55:54.109Z"
   },
   {
    "duration": 9,
    "start_time": "2022-08-08T19:55:54.127Z"
   },
   {
    "duration": 10,
    "start_time": "2022-08-08T19:55:54.138Z"
   },
   {
    "duration": 8,
    "start_time": "2022-08-08T19:55:54.150Z"
   },
   {
    "duration": 44,
    "start_time": "2022-08-08T19:55:54.160Z"
   },
   {
    "duration": 411,
    "start_time": "2022-08-08T19:55:54.206Z"
   },
   {
    "duration": 1423,
    "start_time": "2022-08-08T19:55:54.618Z"
   },
   {
    "duration": 1569,
    "start_time": "2022-08-08T19:55:56.043Z"
   },
   {
    "duration": 171,
    "start_time": "2022-08-08T19:55:57.613Z"
   },
   {
    "duration": 2456,
    "start_time": "2022-08-08T19:55:57.785Z"
   },
   {
    "duration": 2663,
    "start_time": "2022-08-08T19:56:00.242Z"
   },
   {
    "duration": 181,
    "start_time": "2022-08-08T19:56:02.907Z"
   },
   {
    "duration": 1088,
    "start_time": "2022-08-08T19:56:03.090Z"
   },
   {
    "duration": 810,
    "start_time": "2022-08-08T19:56:04.180Z"
   },
   {
    "duration": 16,
    "start_time": "2022-08-08T19:56:04.992Z"
   },
   {
    "duration": 16,
    "start_time": "2022-08-08T19:56:05.010Z"
   },
   {
    "duration": 9,
    "start_time": "2022-08-08T19:56:05.028Z"
   },
   {
    "duration": 8,
    "start_time": "2022-08-08T19:56:05.039Z"
   },
   {
    "duration": 9,
    "start_time": "2022-08-08T19:56:05.049Z"
   },
   {
    "duration": 63,
    "start_time": "2022-08-08T19:56:05.060Z"
   },
   {
    "duration": 169,
    "start_time": "2022-08-08T19:56:05.125Z"
   },
   {
    "duration": 14,
    "start_time": "2022-08-08T19:56:05.296Z"
   },
   {
    "duration": 223,
    "start_time": "2022-08-08T19:56:05.312Z"
   },
   {
    "duration": 20,
    "start_time": "2022-08-08T19:56:05.536Z"
   },
   {
    "duration": 249,
    "start_time": "2022-08-08T19:56:05.558Z"
   },
   {
    "duration": 11,
    "start_time": "2022-08-08T19:56:05.810Z"
   },
   {
    "duration": 10,
    "start_time": "2022-08-08T19:56:05.823Z"
   },
   {
    "duration": 10,
    "start_time": "2022-08-08T19:56:05.835Z"
   },
   {
    "duration": 8,
    "start_time": "2022-08-08T19:56:05.847Z"
   },
   {
    "duration": 43,
    "start_time": "2022-08-08T19:56:05.857Z"
   },
   {
    "duration": 39,
    "start_time": "2022-08-08T19:56:05.902Z"
   },
   {
    "duration": 6,
    "start_time": "2022-08-08T19:56:05.943Z"
   },
   {
    "duration": 27,
    "start_time": "2022-08-08T19:56:05.950Z"
   },
   {
    "duration": 269,
    "start_time": "2022-08-08T19:56:05.979Z"
   },
   {
    "duration": 2615,
    "start_time": "2022-08-08T19:57:54.529Z"
   },
   {
    "duration": 2302,
    "start_time": "2022-08-08T19:58:26.689Z"
   },
   {
    "duration": 2743,
    "start_time": "2022-08-08T19:58:30.846Z"
   },
   {
    "duration": 189,
    "start_time": "2022-08-08T19:59:34.390Z"
   },
   {
    "duration": 2570,
    "start_time": "2022-08-08T20:05:08.436Z"
   },
   {
    "duration": 416,
    "start_time": "2022-08-08T20:05:19.919Z"
   },
   {
    "duration": 90,
    "start_time": "2022-08-08T20:05:20.337Z"
   },
   {
    "duration": 3,
    "start_time": "2022-08-08T20:05:20.429Z"
   },
   {
    "duration": 32,
    "start_time": "2022-08-08T20:05:20.433Z"
   },
   {
    "duration": 41,
    "start_time": "2022-08-08T20:05:20.467Z"
   },
   {
    "duration": 2097,
    "start_time": "2022-08-08T20:05:20.510Z"
   },
   {
    "duration": 9,
    "start_time": "2022-08-08T20:05:22.608Z"
   },
   {
    "duration": 577,
    "start_time": "2022-08-08T20:05:22.619Z"
   },
   {
    "duration": 5,
    "start_time": "2022-08-08T20:05:23.198Z"
   },
   {
    "duration": 30,
    "start_time": "2022-08-08T20:05:23.205Z"
   },
   {
    "duration": 41,
    "start_time": "2022-08-08T20:05:23.237Z"
   },
   {
    "duration": 29,
    "start_time": "2022-08-08T20:05:23.280Z"
   },
   {
    "duration": 26,
    "start_time": "2022-08-08T20:05:23.311Z"
   },
   {
    "duration": 20,
    "start_time": "2022-08-08T20:05:23.340Z"
   },
   {
    "duration": 14,
    "start_time": "2022-08-08T20:05:23.361Z"
   },
   {
    "duration": 15,
    "start_time": "2022-08-08T20:05:23.377Z"
   },
   {
    "duration": 170,
    "start_time": "2022-08-08T20:05:23.393Z"
   },
   {
    "duration": 11,
    "start_time": "2022-08-08T20:05:23.564Z"
   },
   {
    "duration": 11,
    "start_time": "2022-08-08T20:05:23.576Z"
   },
   {
    "duration": 8,
    "start_time": "2022-08-08T20:05:23.599Z"
   },
   {
    "duration": 8,
    "start_time": "2022-08-08T20:05:23.609Z"
   },
   {
    "duration": 25,
    "start_time": "2022-08-08T20:05:23.621Z"
   },
   {
    "duration": 6,
    "start_time": "2022-08-08T20:05:23.648Z"
   },
   {
    "duration": 23,
    "start_time": "2022-08-08T20:05:23.656Z"
   },
   {
    "duration": 39,
    "start_time": "2022-08-08T20:05:23.681Z"
   },
   {
    "duration": 30,
    "start_time": "2022-08-08T20:05:23.721Z"
   },
   {
    "duration": 17,
    "start_time": "2022-08-08T20:05:23.752Z"
   },
   {
    "duration": 53,
    "start_time": "2022-08-08T20:05:23.771Z"
   },
   {
    "duration": 28,
    "start_time": "2022-08-08T20:05:23.826Z"
   },
   {
    "duration": 1448,
    "start_time": "2022-08-08T20:05:23.856Z"
   },
   {
    "duration": 4,
    "start_time": "2022-08-08T20:05:25.306Z"
   },
   {
    "duration": 28,
    "start_time": "2022-08-08T20:05:25.312Z"
   },
   {
    "duration": 50,
    "start_time": "2022-08-08T20:05:25.343Z"
   },
   {
    "duration": 19,
    "start_time": "2022-08-08T20:05:25.394Z"
   },
   {
    "duration": 20,
    "start_time": "2022-08-08T20:05:25.415Z"
   },
   {
    "duration": 27,
    "start_time": "2022-08-08T20:05:25.437Z"
   },
   {
    "duration": 11,
    "start_time": "2022-08-08T20:05:25.466Z"
   },
   {
    "duration": 20,
    "start_time": "2022-08-08T20:05:25.479Z"
   },
   {
    "duration": 1387,
    "start_time": "2022-08-08T20:05:25.501Z"
   },
   {
    "duration": 1432,
    "start_time": "2022-08-08T20:05:26.890Z"
   },
   {
    "duration": 4,
    "start_time": "2022-08-08T20:05:28.327Z"
   },
   {
    "duration": 31,
    "start_time": "2022-08-08T20:05:28.333Z"
   },
   {
    "duration": 19,
    "start_time": "2022-08-08T20:05:28.365Z"
   },
   {
    "duration": 26,
    "start_time": "2022-08-08T20:05:28.385Z"
   },
   {
    "duration": 22,
    "start_time": "2022-08-08T20:05:28.413Z"
   },
   {
    "duration": 1432,
    "start_time": "2022-08-08T20:05:28.437Z"
   },
   {
    "duration": 1452,
    "start_time": "2022-08-08T20:05:29.871Z"
   },
   {
    "duration": 1562,
    "start_time": "2022-08-08T20:05:31.324Z"
   },
   {
    "duration": 5,
    "start_time": "2022-08-08T20:05:32.887Z"
   },
   {
    "duration": 7,
    "start_time": "2022-08-08T20:05:32.900Z"
   },
   {
    "duration": 15,
    "start_time": "2022-08-08T20:05:32.908Z"
   },
   {
    "duration": 29,
    "start_time": "2022-08-08T20:05:32.926Z"
   },
   {
    "duration": 15,
    "start_time": "2022-08-08T20:05:32.956Z"
   },
   {
    "duration": 29,
    "start_time": "2022-08-08T20:05:32.972Z"
   },
   {
    "duration": 22,
    "start_time": "2022-08-08T20:05:33.004Z"
   },
   {
    "duration": 22,
    "start_time": "2022-08-08T20:05:33.028Z"
   },
   {
    "duration": 5,
    "start_time": "2022-08-08T20:05:33.052Z"
   },
   {
    "duration": 17,
    "start_time": "2022-08-08T20:05:33.058Z"
   },
   {
    "duration": 29,
    "start_time": "2022-08-08T20:05:33.077Z"
   },
   {
    "duration": 344,
    "start_time": "2022-08-08T20:05:33.108Z"
   },
   {
    "duration": 3,
    "start_time": "2022-08-08T20:05:33.454Z"
   },
   {
    "duration": 437,
    "start_time": "2022-08-08T20:05:33.459Z"
   },
   {
    "duration": 230,
    "start_time": "2022-08-08T20:05:33.898Z"
   },
   {
    "duration": 241,
    "start_time": "2022-08-08T20:05:34.130Z"
   },
   {
    "duration": 2166,
    "start_time": "2022-08-08T20:05:34.373Z"
   },
   {
    "duration": 186,
    "start_time": "2022-08-08T20:05:36.540Z"
   },
   {
    "duration": 27,
    "start_time": "2022-08-08T20:05:36.727Z"
   },
   {
    "duration": 9,
    "start_time": "2022-08-08T20:05:36.756Z"
   },
   {
    "duration": 222,
    "start_time": "2022-08-08T20:05:36.766Z"
   },
   {
    "duration": 38,
    "start_time": "2022-08-08T20:05:36.996Z"
   },
   {
    "duration": 9,
    "start_time": "2022-08-08T20:05:37.036Z"
   },
   {
    "duration": 8,
    "start_time": "2022-08-08T20:05:37.046Z"
   },
   {
    "duration": 7,
    "start_time": "2022-08-08T20:05:37.055Z"
   },
   {
    "duration": 229,
    "start_time": "2022-08-08T20:05:37.064Z"
   },
   {
    "duration": 22,
    "start_time": "2022-08-08T20:05:37.300Z"
   },
   {
    "duration": 12,
    "start_time": "2022-08-08T20:05:37.323Z"
   },
   {
    "duration": 358,
    "start_time": "2022-08-08T20:05:37.337Z"
   },
   {
    "duration": 420,
    "start_time": "2022-08-08T20:05:37.699Z"
   },
   {
    "duration": 4,
    "start_time": "2022-08-08T20:05:38.121Z"
   },
   {
    "duration": 16,
    "start_time": "2022-08-08T20:05:38.127Z"
   },
   {
    "duration": 212,
    "start_time": "2022-08-08T20:05:38.145Z"
   },
   {
    "duration": 7,
    "start_time": "2022-08-08T20:05:38.359Z"
   },
   {
    "duration": 12,
    "start_time": "2022-08-08T20:05:38.368Z"
   },
   {
    "duration": 18,
    "start_time": "2022-08-08T20:05:38.382Z"
   },
   {
    "duration": 206,
    "start_time": "2022-08-08T20:05:38.402Z"
   },
   {
    "duration": 6,
    "start_time": "2022-08-08T20:05:38.609Z"
   },
   {
    "duration": 9,
    "start_time": "2022-08-08T20:05:38.617Z"
   },
   {
    "duration": 10,
    "start_time": "2022-08-08T20:05:38.628Z"
   },
   {
    "duration": 6,
    "start_time": "2022-08-08T20:05:38.639Z"
   },
   {
    "duration": 8,
    "start_time": "2022-08-08T20:05:38.646Z"
   },
   {
    "duration": 7,
    "start_time": "2022-08-08T20:05:38.656Z"
   },
   {
    "duration": 41,
    "start_time": "2022-08-08T20:05:38.665Z"
   },
   {
    "duration": 8,
    "start_time": "2022-08-08T20:05:38.707Z"
   },
   {
    "duration": 4,
    "start_time": "2022-08-08T20:05:38.717Z"
   },
   {
    "duration": 279,
    "start_time": "2022-08-08T20:05:38.722Z"
   },
   {
    "duration": 5,
    "start_time": "2022-08-08T20:05:39.003Z"
   },
   {
    "duration": 2492,
    "start_time": "2022-08-08T20:05:39.010Z"
   },
   {
    "duration": 384,
    "start_time": "2022-08-08T20:05:41.504Z"
   },
   {
    "duration": 222,
    "start_time": "2022-08-08T20:05:41.890Z"
   },
   {
    "duration": 204,
    "start_time": "2022-08-08T20:05:42.113Z"
   },
   {
    "duration": 185,
    "start_time": "2022-08-08T20:05:42.319Z"
   },
   {
    "duration": 0,
    "start_time": "2022-08-08T20:05:42.507Z"
   },
   {
    "duration": 0,
    "start_time": "2022-08-08T20:05:42.508Z"
   },
   {
    "duration": 0,
    "start_time": "2022-08-08T20:05:42.509Z"
   },
   {
    "duration": 0,
    "start_time": "2022-08-08T20:05:42.510Z"
   },
   {
    "duration": 0,
    "start_time": "2022-08-08T20:05:42.511Z"
   },
   {
    "duration": 0,
    "start_time": "2022-08-08T20:05:42.512Z"
   },
   {
    "duration": 0,
    "start_time": "2022-08-08T20:05:42.513Z"
   },
   {
    "duration": 0,
    "start_time": "2022-08-08T20:05:42.514Z"
   },
   {
    "duration": 0,
    "start_time": "2022-08-08T20:05:42.515Z"
   },
   {
    "duration": 0,
    "start_time": "2022-08-08T20:05:42.516Z"
   },
   {
    "duration": 0,
    "start_time": "2022-08-08T20:05:42.517Z"
   },
   {
    "duration": 0,
    "start_time": "2022-08-08T20:05:42.518Z"
   },
   {
    "duration": 0,
    "start_time": "2022-08-08T20:05:42.519Z"
   },
   {
    "duration": 0,
    "start_time": "2022-08-08T20:05:42.520Z"
   },
   {
    "duration": 0,
    "start_time": "2022-08-08T20:05:42.521Z"
   },
   {
    "duration": 0,
    "start_time": "2022-08-08T20:05:42.523Z"
   },
   {
    "duration": 0,
    "start_time": "2022-08-08T20:05:42.524Z"
   },
   {
    "duration": 0,
    "start_time": "2022-08-08T20:05:42.525Z"
   },
   {
    "duration": 0,
    "start_time": "2022-08-08T20:05:42.526Z"
   },
   {
    "duration": 0,
    "start_time": "2022-08-08T20:05:42.528Z"
   },
   {
    "duration": 0,
    "start_time": "2022-08-08T20:05:42.529Z"
   },
   {
    "duration": 0,
    "start_time": "2022-08-08T20:05:42.530Z"
   },
   {
    "duration": 0,
    "start_time": "2022-08-08T20:05:42.532Z"
   },
   {
    "duration": 0,
    "start_time": "2022-08-08T20:05:42.533Z"
   },
   {
    "duration": 0,
    "start_time": "2022-08-08T20:05:42.535Z"
   },
   {
    "duration": 0,
    "start_time": "2022-08-08T20:05:42.536Z"
   },
   {
    "duration": 0,
    "start_time": "2022-08-08T20:05:42.537Z"
   },
   {
    "duration": 0,
    "start_time": "2022-08-08T20:05:42.538Z"
   },
   {
    "duration": 0,
    "start_time": "2022-08-08T20:05:42.540Z"
   },
   {
    "duration": 0,
    "start_time": "2022-08-08T20:05:42.541Z"
   },
   {
    "duration": 0,
    "start_time": "2022-08-08T20:05:42.599Z"
   },
   {
    "duration": 0,
    "start_time": "2022-08-08T20:05:42.601Z"
   },
   {
    "duration": 0,
    "start_time": "2022-08-08T20:05:42.603Z"
   },
   {
    "duration": 0,
    "start_time": "2022-08-08T20:05:42.604Z"
   },
   {
    "duration": 0,
    "start_time": "2022-08-08T20:05:42.606Z"
   },
   {
    "duration": 0,
    "start_time": "2022-08-08T20:05:42.607Z"
   },
   {
    "duration": 0,
    "start_time": "2022-08-08T20:05:42.608Z"
   },
   {
    "duration": 0,
    "start_time": "2022-08-08T20:05:42.610Z"
   },
   {
    "duration": 0,
    "start_time": "2022-08-08T20:05:42.611Z"
   },
   {
    "duration": 0,
    "start_time": "2022-08-08T20:05:42.612Z"
   },
   {
    "duration": 0,
    "start_time": "2022-08-08T20:05:42.614Z"
   },
   {
    "duration": 0,
    "start_time": "2022-08-08T20:05:42.615Z"
   },
   {
    "duration": 0,
    "start_time": "2022-08-08T20:05:42.616Z"
   },
   {
    "duration": 0,
    "start_time": "2022-08-08T20:05:42.618Z"
   },
   {
    "duration": 0,
    "start_time": "2022-08-08T20:05:42.619Z"
   },
   {
    "duration": 0,
    "start_time": "2022-08-08T20:05:42.620Z"
   },
   {
    "duration": 0,
    "start_time": "2022-08-08T20:05:42.621Z"
   },
   {
    "duration": 0,
    "start_time": "2022-08-08T20:05:42.623Z"
   },
   {
    "duration": 0,
    "start_time": "2022-08-08T20:05:42.624Z"
   },
   {
    "duration": 0,
    "start_time": "2022-08-08T20:05:42.625Z"
   },
   {
    "duration": 0,
    "start_time": "2022-08-08T20:05:42.626Z"
   },
   {
    "duration": 0,
    "start_time": "2022-08-08T20:05:42.628Z"
   },
   {
    "duration": 0,
    "start_time": "2022-08-08T20:05:42.629Z"
   },
   {
    "duration": 0,
    "start_time": "2022-08-08T20:05:42.630Z"
   },
   {
    "duration": 0,
    "start_time": "2022-08-08T20:05:42.632Z"
   },
   {
    "duration": 0,
    "start_time": "2022-08-08T20:05:42.633Z"
   },
   {
    "duration": 0,
    "start_time": "2022-08-08T20:05:42.634Z"
   },
   {
    "duration": 0,
    "start_time": "2022-08-08T20:05:42.636Z"
   },
   {
    "duration": 0,
    "start_time": "2022-08-08T20:05:42.637Z"
   },
   {
    "duration": 0,
    "start_time": "2022-08-08T20:05:42.701Z"
   },
   {
    "duration": 0,
    "start_time": "2022-08-08T20:05:42.702Z"
   },
   {
    "duration": 0,
    "start_time": "2022-08-08T20:05:42.703Z"
   },
   {
    "duration": 0,
    "start_time": "2022-08-08T20:05:42.704Z"
   },
   {
    "duration": 0,
    "start_time": "2022-08-08T20:05:42.706Z"
   },
   {
    "duration": 0,
    "start_time": "2022-08-08T20:05:42.707Z"
   },
   {
    "duration": 0,
    "start_time": "2022-08-08T20:05:42.709Z"
   },
   {
    "duration": 0,
    "start_time": "2022-08-08T20:05:42.710Z"
   },
   {
    "duration": 0,
    "start_time": "2022-08-08T20:05:42.711Z"
   },
   {
    "duration": 0,
    "start_time": "2022-08-08T20:05:42.712Z"
   },
   {
    "duration": 0,
    "start_time": "2022-08-08T20:05:42.713Z"
   },
   {
    "duration": 0,
    "start_time": "2022-08-08T20:05:42.714Z"
   },
   {
    "duration": 0,
    "start_time": "2022-08-08T20:05:42.715Z"
   },
   {
    "duration": 0,
    "start_time": "2022-08-08T20:05:42.716Z"
   },
   {
    "duration": 0,
    "start_time": "2022-08-08T20:05:42.717Z"
   },
   {
    "duration": 0,
    "start_time": "2022-08-08T20:05:42.718Z"
   },
   {
    "duration": 0,
    "start_time": "2022-08-08T20:05:42.720Z"
   },
   {
    "duration": 216,
    "start_time": "2022-08-08T20:06:58.080Z"
   },
   {
    "duration": 208,
    "start_time": "2022-08-08T20:06:59.597Z"
   },
   {
    "duration": 244,
    "start_time": "2022-08-08T20:07:01.347Z"
   },
   {
    "duration": 224,
    "start_time": "2022-08-08T20:07:01.667Z"
   },
   {
    "duration": 211,
    "start_time": "2022-08-08T20:07:01.893Z"
   },
   {
    "duration": 313,
    "start_time": "2022-08-08T20:07:02.106Z"
   },
   {
    "duration": 220,
    "start_time": "2022-08-08T20:07:02.420Z"
   },
   {
    "duration": 201,
    "start_time": "2022-08-08T20:07:02.642Z"
   },
   {
    "duration": 227,
    "start_time": "2022-08-08T20:07:02.845Z"
   },
   {
    "duration": 199,
    "start_time": "2022-08-08T20:07:03.074Z"
   },
   {
    "duration": 200,
    "start_time": "2022-08-08T20:07:03.274Z"
   },
   {
    "duration": 195,
    "start_time": "2022-08-08T20:07:03.475Z"
   },
   {
    "duration": 203,
    "start_time": "2022-08-08T20:07:05.623Z"
   },
   {
    "duration": 203,
    "start_time": "2022-08-08T20:07:06.016Z"
   },
   {
    "duration": 333,
    "start_time": "2022-08-08T20:08:09.013Z"
   },
   {
    "duration": 19,
    "start_time": "2022-08-08T20:10:03.815Z"
   },
   {
    "duration": 46,
    "start_time": "2022-08-08T20:10:08.983Z"
   },
   {
    "duration": 11,
    "start_time": "2022-08-08T20:10:37.154Z"
   },
   {
    "duration": 11,
    "start_time": "2022-08-08T20:10:51.001Z"
   },
   {
    "duration": 9,
    "start_time": "2022-08-08T20:12:00.406Z"
   },
   {
    "duration": 12,
    "start_time": "2022-08-08T20:12:43.098Z"
   },
   {
    "duration": 7,
    "start_time": "2022-08-08T20:15:01.844Z"
   },
   {
    "duration": 13,
    "start_time": "2022-08-08T20:16:01.875Z"
   },
   {
    "duration": 9,
    "start_time": "2022-08-08T20:16:37.472Z"
   },
   {
    "duration": 9,
    "start_time": "2022-08-08T20:17:10.322Z"
   },
   {
    "duration": 621,
    "start_time": "2022-08-08T20:20:09.463Z"
   },
   {
    "duration": 586,
    "start_time": "2022-08-08T20:20:15.019Z"
   },
   {
    "duration": 8,
    "start_time": "2022-08-08T20:25:49.381Z"
   },
   {
    "duration": 3,
    "start_time": "2022-08-08T20:25:56.011Z"
   },
   {
    "duration": 11,
    "start_time": "2022-08-08T20:25:58.213Z"
   },
   {
    "duration": 4,
    "start_time": "2022-08-08T20:26:15.587Z"
   },
   {
    "duration": 9,
    "start_time": "2022-08-08T20:26:24.421Z"
   },
   {
    "duration": 196,
    "start_time": "2022-08-08T20:27:01.448Z"
   },
   {
    "duration": 238,
    "start_time": "2022-08-08T20:27:04.202Z"
   },
   {
    "duration": 5,
    "start_time": "2022-08-08T20:27:18.260Z"
   },
   {
    "duration": 413,
    "start_time": "2022-08-08T20:27:27.714Z"
   },
   {
    "duration": 94,
    "start_time": "2022-08-08T20:27:28.129Z"
   },
   {
    "duration": 3,
    "start_time": "2022-08-08T20:27:28.225Z"
   },
   {
    "duration": 39,
    "start_time": "2022-08-08T20:27:28.230Z"
   },
   {
    "duration": 55,
    "start_time": "2022-08-08T20:27:28.270Z"
   },
   {
    "duration": 2116,
    "start_time": "2022-08-08T20:27:28.327Z"
   },
   {
    "duration": 9,
    "start_time": "2022-08-08T20:27:30.445Z"
   },
   {
    "duration": 625,
    "start_time": "2022-08-08T20:27:30.455Z"
   },
   {
    "duration": 5,
    "start_time": "2022-08-08T20:27:31.082Z"
   },
   {
    "duration": 20,
    "start_time": "2022-08-08T20:27:31.099Z"
   },
   {
    "duration": 48,
    "start_time": "2022-08-08T20:27:31.120Z"
   },
   {
    "duration": 60,
    "start_time": "2022-08-08T20:27:31.169Z"
   },
   {
    "duration": 30,
    "start_time": "2022-08-08T20:27:31.230Z"
   },
   {
    "duration": 35,
    "start_time": "2022-08-08T20:27:31.261Z"
   },
   {
    "duration": 26,
    "start_time": "2022-08-08T20:27:31.298Z"
   },
   {
    "duration": 32,
    "start_time": "2022-08-08T20:27:31.326Z"
   },
   {
    "duration": 222,
    "start_time": "2022-08-08T20:27:31.359Z"
   },
   {
    "duration": 25,
    "start_time": "2022-08-08T20:27:31.583Z"
   },
   {
    "duration": 23,
    "start_time": "2022-08-08T20:27:31.610Z"
   },
   {
    "duration": 39,
    "start_time": "2022-08-08T20:27:31.635Z"
   },
   {
    "duration": 32,
    "start_time": "2022-08-08T20:27:31.675Z"
   },
   {
    "duration": 47,
    "start_time": "2022-08-08T20:27:31.708Z"
   },
   {
    "duration": 23,
    "start_time": "2022-08-08T20:27:31.757Z"
   },
   {
    "duration": 24,
    "start_time": "2022-08-08T20:27:31.781Z"
   },
   {
    "duration": 43,
    "start_time": "2022-08-08T20:27:31.806Z"
   },
   {
    "duration": 26,
    "start_time": "2022-08-08T20:27:31.851Z"
   },
   {
    "duration": 26,
    "start_time": "2022-08-08T20:27:31.878Z"
   },
   {
    "duration": 26,
    "start_time": "2022-08-08T20:27:31.908Z"
   },
   {
    "duration": 23,
    "start_time": "2022-08-08T20:27:31.936Z"
   },
   {
    "duration": 1447,
    "start_time": "2022-08-08T20:27:31.961Z"
   },
   {
    "duration": 4,
    "start_time": "2022-08-08T20:27:33.410Z"
   },
   {
    "duration": 27,
    "start_time": "2022-08-08T20:27:33.415Z"
   },
   {
    "duration": 23,
    "start_time": "2022-08-08T20:27:33.444Z"
   },
   {
    "duration": 46,
    "start_time": "2022-08-08T20:27:33.469Z"
   },
   {
    "duration": 21,
    "start_time": "2022-08-08T20:27:33.516Z"
   },
   {
    "duration": 51,
    "start_time": "2022-08-08T20:27:33.539Z"
   },
   {
    "duration": 27,
    "start_time": "2022-08-08T20:27:33.592Z"
   },
   {
    "duration": 21,
    "start_time": "2022-08-08T20:27:33.621Z"
   },
   {
    "duration": 1406,
    "start_time": "2022-08-08T20:27:33.644Z"
   },
   {
    "duration": 1414,
    "start_time": "2022-08-08T20:27:35.051Z"
   },
   {
    "duration": 4,
    "start_time": "2022-08-08T20:27:36.467Z"
   },
   {
    "duration": 24,
    "start_time": "2022-08-08T20:27:36.473Z"
   },
   {
    "duration": 11,
    "start_time": "2022-08-08T20:27:36.499Z"
   },
   {
    "duration": 36,
    "start_time": "2022-08-08T20:27:36.512Z"
   },
   {
    "duration": 20,
    "start_time": "2022-08-08T20:27:36.550Z"
   },
   {
    "duration": 1397,
    "start_time": "2022-08-08T20:27:36.572Z"
   },
   {
    "duration": 1407,
    "start_time": "2022-08-08T20:27:37.970Z"
   },
   {
    "duration": 1395,
    "start_time": "2022-08-08T20:27:39.378Z"
   },
   {
    "duration": 6,
    "start_time": "2022-08-08T20:27:40.775Z"
   },
   {
    "duration": 19,
    "start_time": "2022-08-08T20:27:40.783Z"
   },
   {
    "duration": 23,
    "start_time": "2022-08-08T20:27:40.805Z"
   },
   {
    "duration": 38,
    "start_time": "2022-08-08T20:27:40.830Z"
   },
   {
    "duration": 13,
    "start_time": "2022-08-08T20:27:40.870Z"
   },
   {
    "duration": 5,
    "start_time": "2022-08-08T20:27:40.885Z"
   },
   {
    "duration": 23,
    "start_time": "2022-08-08T20:27:40.891Z"
   },
   {
    "duration": 29,
    "start_time": "2022-08-08T20:27:40.916Z"
   },
   {
    "duration": 6,
    "start_time": "2022-08-08T20:27:40.947Z"
   },
   {
    "duration": 29,
    "start_time": "2022-08-08T20:27:40.954Z"
   },
   {
    "duration": 22,
    "start_time": "2022-08-08T20:27:40.984Z"
   },
   {
    "duration": 203,
    "start_time": "2022-08-08T20:27:41.008Z"
   },
   {
    "duration": 4,
    "start_time": "2022-08-08T20:27:41.213Z"
   },
   {
    "duration": 593,
    "start_time": "2022-08-08T20:27:41.218Z"
   },
   {
    "duration": 182,
    "start_time": "2022-08-08T20:27:41.813Z"
   },
   {
    "duration": 179,
    "start_time": "2022-08-08T20:27:41.996Z"
   },
   {
    "duration": 2090,
    "start_time": "2022-08-08T20:27:42.177Z"
   },
   {
    "duration": 165,
    "start_time": "2022-08-08T20:27:44.269Z"
   },
   {
    "duration": 29,
    "start_time": "2022-08-08T20:27:44.436Z"
   },
   {
    "duration": 8,
    "start_time": "2022-08-08T20:27:44.467Z"
   },
   {
    "duration": 220,
    "start_time": "2022-08-08T20:27:44.477Z"
   },
   {
    "duration": 31,
    "start_time": "2022-08-08T20:27:44.700Z"
   },
   {
    "duration": 6,
    "start_time": "2022-08-08T20:27:44.733Z"
   },
   {
    "duration": 6,
    "start_time": "2022-08-08T20:27:44.741Z"
   },
   {
    "duration": 6,
    "start_time": "2022-08-08T20:27:44.749Z"
   },
   {
    "duration": 239,
    "start_time": "2022-08-08T20:27:44.756Z"
   },
   {
    "duration": 31,
    "start_time": "2022-08-08T20:27:45.000Z"
   },
   {
    "duration": 35,
    "start_time": "2022-08-08T20:27:45.033Z"
   },
   {
    "duration": 183,
    "start_time": "2022-08-08T20:27:45.070Z"
   },
   {
    "duration": 516,
    "start_time": "2022-08-08T20:27:45.255Z"
   },
   {
    "duration": 3,
    "start_time": "2022-08-08T20:27:45.773Z"
   },
   {
    "duration": 23,
    "start_time": "2022-08-08T20:27:45.778Z"
   },
   {
    "duration": 182,
    "start_time": "2022-08-08T20:27:45.803Z"
   },
   {
    "duration": 6,
    "start_time": "2022-08-08T20:27:46.004Z"
   },
   {
    "duration": 9,
    "start_time": "2022-08-08T20:27:46.012Z"
   },
   {
    "duration": 5,
    "start_time": "2022-08-08T20:27:46.023Z"
   },
   {
    "duration": 201,
    "start_time": "2022-08-08T20:27:46.029Z"
   },
   {
    "duration": 5,
    "start_time": "2022-08-08T20:27:46.232Z"
   },
   {
    "duration": 8,
    "start_time": "2022-08-08T20:27:46.238Z"
   },
   {
    "duration": 5,
    "start_time": "2022-08-08T20:27:46.248Z"
   },
   {
    "duration": 5,
    "start_time": "2022-08-08T20:27:46.255Z"
   },
   {
    "duration": 11,
    "start_time": "2022-08-08T20:27:46.262Z"
   },
   {
    "duration": 31,
    "start_time": "2022-08-08T20:27:46.274Z"
   },
   {
    "duration": 7,
    "start_time": "2022-08-08T20:27:46.307Z"
   },
   {
    "duration": 6,
    "start_time": "2022-08-08T20:27:46.316Z"
   },
   {
    "duration": 3,
    "start_time": "2022-08-08T20:27:46.323Z"
   },
   {
    "duration": 268,
    "start_time": "2022-08-08T20:27:46.328Z"
   },
   {
    "duration": 5,
    "start_time": "2022-08-08T20:27:46.598Z"
   },
   {
    "duration": 199,
    "start_time": "2022-08-08T20:27:46.605Z"
   },
   {
    "duration": 14,
    "start_time": "2022-08-08T20:27:46.806Z"
   },
   {
    "duration": 10,
    "start_time": "2022-08-08T20:27:46.821Z"
   },
   {
    "duration": 9,
    "start_time": "2022-08-08T20:27:46.833Z"
   },
   {
    "duration": 227,
    "start_time": "2022-08-08T20:27:46.844Z"
   },
   {
    "duration": 11,
    "start_time": "2022-08-08T20:27:47.072Z"
   },
   {
    "duration": 16,
    "start_time": "2022-08-08T20:27:47.085Z"
   },
   {
    "duration": 10,
    "start_time": "2022-08-08T20:27:47.102Z"
   },
   {
    "duration": 282,
    "start_time": "2022-08-08T20:27:47.114Z"
   },
   {
    "duration": 204,
    "start_time": "2022-08-08T20:27:47.398Z"
   },
   {
    "duration": 203,
    "start_time": "2022-08-08T20:27:47.604Z"
   },
   {
    "duration": 180,
    "start_time": "2022-08-08T20:27:47.809Z"
   },
   {
    "duration": 212,
    "start_time": "2022-08-08T20:27:47.991Z"
   },
   {
    "duration": 198,
    "start_time": "2022-08-08T20:27:48.204Z"
   },
   {
    "duration": 187,
    "start_time": "2022-08-08T20:27:48.404Z"
   },
   {
    "duration": 212,
    "start_time": "2022-08-08T20:27:48.593Z"
   },
   {
    "duration": 317,
    "start_time": "2022-08-08T20:27:48.807Z"
   },
   {
    "duration": 213,
    "start_time": "2022-08-08T20:27:49.126Z"
   },
   {
    "duration": 191,
    "start_time": "2022-08-08T20:27:49.341Z"
   },
   {
    "duration": 189,
    "start_time": "2022-08-08T20:27:49.534Z"
   },
   {
    "duration": 183,
    "start_time": "2022-08-08T20:27:49.724Z"
   },
   {
    "duration": 219,
    "start_time": "2022-08-08T20:27:49.909Z"
   },
   {
    "duration": 206,
    "start_time": "2022-08-08T20:27:50.129Z"
   },
   {
    "duration": 174,
    "start_time": "2022-08-08T20:27:50.336Z"
   },
   {
    "duration": 317,
    "start_time": "2022-08-08T20:27:50.512Z"
   },
   {
    "duration": 221,
    "start_time": "2022-08-08T20:27:50.830Z"
   },
   {
    "duration": 159,
    "start_time": "2022-08-08T20:27:51.053Z"
   },
   {
    "duration": 26,
    "start_time": "2022-08-08T20:27:51.214Z"
   },
   {
    "duration": 505,
    "start_time": "2022-08-08T20:27:51.241Z"
   },
   {
    "duration": 370,
    "start_time": "2022-08-08T20:27:51.748Z"
   },
   {
    "duration": 10,
    "start_time": "2022-08-08T20:27:52.120Z"
   },
   {
    "duration": 8,
    "start_time": "2022-08-08T20:27:52.132Z"
   },
   {
    "duration": 893,
    "start_time": "2022-08-08T20:27:52.142Z"
   },
   {
    "duration": 208,
    "start_time": "2022-08-08T20:27:53.037Z"
   },
   {
    "duration": 997,
    "start_time": "2022-08-08T20:27:53.247Z"
   },
   {
    "duration": 4,
    "start_time": "2022-08-08T20:27:54.246Z"
   },
   {
    "duration": 10,
    "start_time": "2022-08-08T20:27:54.251Z"
   },
   {
    "duration": 196,
    "start_time": "2022-08-08T20:27:54.262Z"
   },
   {
    "duration": 5,
    "start_time": "2022-08-08T20:27:54.459Z"
   },
   {
    "duration": 293,
    "start_time": "2022-08-08T20:27:54.465Z"
   },
   {
    "duration": 5,
    "start_time": "2022-08-08T20:27:54.760Z"
   },
   {
    "duration": 177,
    "start_time": "2022-08-08T20:27:54.766Z"
   },
   {
    "duration": 6,
    "start_time": "2022-08-08T20:27:54.944Z"
   },
   {
    "duration": 196,
    "start_time": "2022-08-08T20:27:54.951Z"
   },
   {
    "duration": 5,
    "start_time": "2022-08-08T20:27:55.149Z"
   },
   {
    "duration": 15,
    "start_time": "2022-08-08T20:27:55.156Z"
   },
   {
    "duration": 178,
    "start_time": "2022-08-08T20:27:55.173Z"
   },
   {
    "duration": 754,
    "start_time": "2022-08-08T20:27:55.353Z"
   },
   {
    "duration": 799,
    "start_time": "2022-08-08T20:27:56.109Z"
   },
   {
    "duration": 738,
    "start_time": "2022-08-08T20:27:56.910Z"
   },
   {
    "duration": 10,
    "start_time": "2022-08-08T20:27:57.650Z"
   },
   {
    "duration": 27,
    "start_time": "2022-08-08T20:27:57.661Z"
   },
   {
    "duration": 12,
    "start_time": "2022-08-08T20:27:57.689Z"
   },
   {
    "duration": 16,
    "start_time": "2022-08-08T20:27:57.702Z"
   },
   {
    "duration": 21,
    "start_time": "2022-08-08T20:27:57.720Z"
   },
   {
    "duration": 26,
    "start_time": "2022-08-08T20:27:57.743Z"
   },
   {
    "duration": 187,
    "start_time": "2022-08-08T20:27:57.771Z"
   },
   {
    "duration": 1479,
    "start_time": "2022-08-08T20:27:57.960Z"
   },
   {
    "duration": 1343,
    "start_time": "2022-08-08T20:27:59.441Z"
   },
   {
    "duration": 340,
    "start_time": "2022-08-08T20:28:00.786Z"
   },
   {
    "duration": 2564,
    "start_time": "2022-08-08T20:28:01.128Z"
   },
   {
    "duration": 2445,
    "start_time": "2022-08-08T20:28:03.693Z"
   },
   {
    "duration": 173,
    "start_time": "2022-08-08T20:28:06.139Z"
   },
   {
    "duration": 803,
    "start_time": "2022-08-08T20:28:06.314Z"
   },
   {
    "duration": 991,
    "start_time": "2022-08-08T20:28:07.119Z"
   },
   {
    "duration": 8,
    "start_time": "2022-08-08T20:28:08.112Z"
   },
   {
    "duration": 16,
    "start_time": "2022-08-08T20:28:08.122Z"
   },
   {
    "duration": 8,
    "start_time": "2022-08-08T20:28:08.140Z"
   },
   {
    "duration": 10,
    "start_time": "2022-08-08T20:28:08.150Z"
   },
   {
    "duration": 8,
    "start_time": "2022-08-08T20:28:08.199Z"
   },
   {
    "duration": 26,
    "start_time": "2022-08-08T20:28:08.210Z"
   },
   {
    "duration": 179,
    "start_time": "2022-08-08T20:28:08.238Z"
   },
   {
    "duration": 15,
    "start_time": "2022-08-08T20:28:08.418Z"
   },
   {
    "duration": 208,
    "start_time": "2022-08-08T20:28:08.434Z"
   },
   {
    "duration": 15,
    "start_time": "2022-08-08T20:28:08.643Z"
   },
   {
    "duration": 228,
    "start_time": "2022-08-08T20:28:08.660Z"
   },
   {
    "duration": 15,
    "start_time": "2022-08-08T20:28:08.890Z"
   },
   {
    "duration": 14,
    "start_time": "2022-08-08T20:28:08.907Z"
   },
   {
    "duration": 24,
    "start_time": "2022-08-08T20:28:08.924Z"
   },
   {
    "duration": 3,
    "start_time": "2022-08-08T20:28:08.951Z"
   },
   {
    "duration": 18,
    "start_time": "2022-08-08T20:28:08.956Z"
   },
   {
    "duration": 65,
    "start_time": "2022-08-08T20:28:08.976Z"
   },
   {
    "duration": 6,
    "start_time": "2022-08-08T20:28:09.043Z"
   },
   {
    "duration": 23,
    "start_time": "2022-08-08T20:28:09.051Z"
   },
   {
    "duration": 260,
    "start_time": "2022-08-08T20:28:09.075Z"
   },
   {
    "duration": 435,
    "start_time": "2022-08-09T09:10:41.677Z"
   },
   {
    "duration": 301,
    "start_time": "2022-08-09T09:10:42.114Z"
   },
   {
    "duration": 3,
    "start_time": "2022-08-09T09:10:42.417Z"
   },
   {
    "duration": 26,
    "start_time": "2022-08-09T09:10:42.422Z"
   },
   {
    "duration": 32,
    "start_time": "2022-08-09T09:10:42.450Z"
   },
   {
    "duration": 2226,
    "start_time": "2022-08-09T09:10:42.484Z"
   },
   {
    "duration": 10,
    "start_time": "2022-08-09T09:10:44.711Z"
   },
   {
    "duration": 589,
    "start_time": "2022-08-09T09:10:44.722Z"
   },
   {
    "duration": 5,
    "start_time": "2022-08-09T09:10:45.313Z"
   },
   {
    "duration": 6,
    "start_time": "2022-08-09T09:10:45.321Z"
   },
   {
    "duration": 9,
    "start_time": "2022-08-09T09:10:45.328Z"
   },
   {
    "duration": 8,
    "start_time": "2022-08-09T09:10:45.338Z"
   },
   {
    "duration": 21,
    "start_time": "2022-08-09T09:10:45.348Z"
   },
   {
    "duration": 39,
    "start_time": "2022-08-09T09:10:45.370Z"
   },
   {
    "duration": 6,
    "start_time": "2022-08-09T09:10:45.410Z"
   },
   {
    "duration": 13,
    "start_time": "2022-08-09T09:10:45.417Z"
   },
   {
    "duration": 178,
    "start_time": "2022-08-09T09:10:45.431Z"
   },
   {
    "duration": 9,
    "start_time": "2022-08-09T09:10:45.610Z"
   },
   {
    "duration": 5,
    "start_time": "2022-08-09T09:10:45.621Z"
   },
   {
    "duration": 12,
    "start_time": "2022-08-09T09:10:45.628Z"
   },
   {
    "duration": 19,
    "start_time": "2022-08-09T09:10:45.642Z"
   },
   {
    "duration": 12,
    "start_time": "2022-08-09T09:10:45.663Z"
   },
   {
    "duration": 32,
    "start_time": "2022-08-09T09:10:45.677Z"
   },
   {
    "duration": 3,
    "start_time": "2022-08-09T09:10:45.711Z"
   },
   {
    "duration": 27,
    "start_time": "2022-08-09T09:10:45.716Z"
   },
   {
    "duration": 15,
    "start_time": "2022-08-09T09:10:45.744Z"
   },
   {
    "duration": 5,
    "start_time": "2022-08-09T09:10:45.761Z"
   },
   {
    "duration": 10,
    "start_time": "2022-08-09T09:10:45.770Z"
   },
   {
    "duration": 14,
    "start_time": "2022-08-09T09:10:45.781Z"
   },
   {
    "duration": 1518,
    "start_time": "2022-08-09T09:10:45.797Z"
   },
   {
    "duration": 5,
    "start_time": "2022-08-09T09:10:47.317Z"
   },
   {
    "duration": 38,
    "start_time": "2022-08-09T09:10:47.323Z"
   },
   {
    "duration": 12,
    "start_time": "2022-08-09T09:10:47.364Z"
   },
   {
    "duration": 28,
    "start_time": "2022-08-09T09:10:47.378Z"
   },
   {
    "duration": 22,
    "start_time": "2022-08-09T09:10:47.408Z"
   },
   {
    "duration": 24,
    "start_time": "2022-08-09T09:10:47.431Z"
   },
   {
    "duration": 17,
    "start_time": "2022-08-09T09:10:47.456Z"
   },
   {
    "duration": 28,
    "start_time": "2022-08-09T09:10:47.475Z"
   },
   {
    "duration": 1442,
    "start_time": "2022-08-09T09:10:47.505Z"
   },
   {
    "duration": 1472,
    "start_time": "2022-08-09T09:10:48.949Z"
   },
   {
    "duration": 4,
    "start_time": "2022-08-09T09:10:50.423Z"
   },
   {
    "duration": 25,
    "start_time": "2022-08-09T09:10:50.429Z"
   },
   {
    "duration": 20,
    "start_time": "2022-08-09T09:10:50.455Z"
   },
   {
    "duration": 19,
    "start_time": "2022-08-09T09:10:50.477Z"
   },
   {
    "duration": 20,
    "start_time": "2022-08-09T09:10:50.498Z"
   },
   {
    "duration": 1443,
    "start_time": "2022-08-09T09:10:50.520Z"
   },
   {
    "duration": 1488,
    "start_time": "2022-08-09T09:10:51.964Z"
   },
   {
    "duration": 1446,
    "start_time": "2022-08-09T09:10:53.453Z"
   },
   {
    "duration": 4,
    "start_time": "2022-08-09T09:10:54.901Z"
   },
   {
    "duration": 11,
    "start_time": "2022-08-09T09:10:54.909Z"
   },
   {
    "duration": 7,
    "start_time": "2022-08-09T09:10:54.922Z"
   },
   {
    "duration": 30,
    "start_time": "2022-08-09T09:10:54.930Z"
   },
   {
    "duration": 13,
    "start_time": "2022-08-09T09:10:54.961Z"
   },
   {
    "duration": 4,
    "start_time": "2022-08-09T09:10:54.976Z"
   },
   {
    "duration": 29,
    "start_time": "2022-08-09T09:10:54.982Z"
   },
   {
    "duration": 20,
    "start_time": "2022-08-09T09:10:55.013Z"
   },
   {
    "duration": 4,
    "start_time": "2022-08-09T09:10:55.035Z"
   },
   {
    "duration": 15,
    "start_time": "2022-08-09T09:10:55.041Z"
   },
   {
    "duration": 17,
    "start_time": "2022-08-09T09:10:55.057Z"
   },
   {
    "duration": 303,
    "start_time": "2022-08-09T09:10:55.075Z"
   },
   {
    "duration": 4,
    "start_time": "2022-08-09T09:10:55.379Z"
   },
   {
    "duration": 410,
    "start_time": "2022-08-09T09:10:55.384Z"
   },
   {
    "duration": 208,
    "start_time": "2022-08-09T09:10:55.795Z"
   },
   {
    "duration": 210,
    "start_time": "2022-08-09T09:10:56.009Z"
   },
   {
    "duration": 2299,
    "start_time": "2022-08-09T09:10:56.220Z"
   },
   {
    "duration": 168,
    "start_time": "2022-08-09T09:10:58.521Z"
   },
   {
    "duration": 34,
    "start_time": "2022-08-09T09:10:58.690Z"
   },
   {
    "duration": 6,
    "start_time": "2022-08-09T09:10:58.725Z"
   },
   {
    "duration": 195,
    "start_time": "2022-08-09T09:10:58.732Z"
   },
   {
    "duration": 33,
    "start_time": "2022-08-09T09:10:58.929Z"
   },
   {
    "duration": 7,
    "start_time": "2022-08-09T09:10:58.963Z"
   },
   {
    "duration": 10,
    "start_time": "2022-08-09T09:10:58.971Z"
   },
   {
    "duration": 27,
    "start_time": "2022-08-09T09:10:58.983Z"
   },
   {
    "duration": 216,
    "start_time": "2022-08-09T09:10:59.011Z"
   },
   {
    "duration": 25,
    "start_time": "2022-08-09T09:10:59.229Z"
   },
   {
    "duration": 7,
    "start_time": "2022-08-09T09:10:59.256Z"
   },
   {
    "duration": 317,
    "start_time": "2022-08-09T09:10:59.265Z"
   },
   {
    "duration": 439,
    "start_time": "2022-08-09T09:10:59.583Z"
   },
   {
    "duration": 3,
    "start_time": "2022-08-09T09:11:00.025Z"
   },
   {
    "duration": 26,
    "start_time": "2022-08-09T09:11:00.030Z"
   },
   {
    "duration": 203,
    "start_time": "2022-08-09T09:11:00.058Z"
   },
   {
    "duration": 6,
    "start_time": "2022-08-09T09:11:00.269Z"
   },
   {
    "duration": 29,
    "start_time": "2022-08-09T09:11:00.277Z"
   },
   {
    "duration": 13,
    "start_time": "2022-08-09T09:11:00.308Z"
   },
   {
    "duration": 207,
    "start_time": "2022-08-09T09:11:00.323Z"
   },
   {
    "duration": 5,
    "start_time": "2022-08-09T09:11:00.532Z"
   },
   {
    "duration": 30,
    "start_time": "2022-08-09T09:11:00.539Z"
   },
   {
    "duration": 24,
    "start_time": "2022-08-09T09:11:00.571Z"
   },
   {
    "duration": 15,
    "start_time": "2022-08-09T09:11:00.597Z"
   },
   {
    "duration": 32,
    "start_time": "2022-08-09T09:11:00.613Z"
   },
   {
    "duration": 40,
    "start_time": "2022-08-09T09:11:00.647Z"
   },
   {
    "duration": 21,
    "start_time": "2022-08-09T09:11:00.689Z"
   },
   {
    "duration": 19,
    "start_time": "2022-08-09T09:11:00.712Z"
   },
   {
    "duration": 5,
    "start_time": "2022-08-09T09:11:00.733Z"
   },
   {
    "duration": 273,
    "start_time": "2022-08-09T09:11:00.739Z"
   },
   {
    "duration": 4,
    "start_time": "2022-08-09T09:11:01.014Z"
   },
   {
    "duration": 221,
    "start_time": "2022-08-09T09:11:01.019Z"
   },
   {
    "duration": 12,
    "start_time": "2022-08-09T09:11:01.242Z"
   },
   {
    "duration": 32,
    "start_time": "2022-08-09T09:11:01.256Z"
   },
   {
    "duration": 31,
    "start_time": "2022-08-09T09:11:01.290Z"
   },
   {
    "duration": 293,
    "start_time": "2022-08-09T09:11:01.323Z"
   },
   {
    "duration": 9,
    "start_time": "2022-08-09T09:11:01.618Z"
   },
   {
    "duration": 46,
    "start_time": "2022-08-09T09:11:01.629Z"
   },
   {
    "duration": 47,
    "start_time": "2022-08-09T09:11:01.677Z"
   },
   {
    "duration": 230,
    "start_time": "2022-08-09T09:11:01.726Z"
   },
   {
    "duration": 217,
    "start_time": "2022-08-09T09:11:01.957Z"
   },
   {
    "duration": 207,
    "start_time": "2022-08-09T09:11:02.176Z"
   },
   {
    "duration": 7,
    "start_time": "2022-08-09T09:11:02.384Z"
   },
   {
    "duration": 195,
    "start_time": "2022-08-09T09:11:02.392Z"
   },
   {
    "duration": 220,
    "start_time": "2022-08-09T09:11:02.589Z"
   },
   {
    "duration": 212,
    "start_time": "2022-08-09T09:11:02.811Z"
   },
   {
    "duration": 203,
    "start_time": "2022-08-09T09:11:03.025Z"
   },
   {
    "duration": 273,
    "start_time": "2022-08-09T09:11:03.229Z"
   },
   {
    "duration": 209,
    "start_time": "2022-08-09T09:11:03.508Z"
   },
   {
    "duration": 209,
    "start_time": "2022-08-09T09:11:03.719Z"
   },
   {
    "duration": 192,
    "start_time": "2022-08-09T09:11:03.929Z"
   },
   {
    "duration": 192,
    "start_time": "2022-08-09T09:11:04.123Z"
   },
   {
    "duration": 189,
    "start_time": "2022-08-09T09:11:04.317Z"
   },
   {
    "duration": 217,
    "start_time": "2022-08-09T09:11:04.507Z"
   },
   {
    "duration": 218,
    "start_time": "2022-08-09T09:11:04.726Z"
   },
   {
    "duration": 252,
    "start_time": "2022-08-09T09:11:04.945Z"
   },
   {
    "duration": 231,
    "start_time": "2022-08-09T09:11:05.198Z"
   },
   {
    "duration": 221,
    "start_time": "2022-08-09T09:11:05.430Z"
   },
   {
    "duration": 162,
    "start_time": "2022-08-09T09:11:05.652Z"
   },
   {
    "duration": 26,
    "start_time": "2022-08-09T09:11:05.816Z"
   },
   {
    "duration": 454,
    "start_time": "2022-08-09T09:11:05.843Z"
   },
   {
    "duration": 382,
    "start_time": "2022-08-09T09:11:06.298Z"
   },
   {
    "duration": 7,
    "start_time": "2022-08-09T09:11:06.682Z"
   },
   {
    "duration": 19,
    "start_time": "2022-08-09T09:11:06.690Z"
   },
   {
    "duration": 968,
    "start_time": "2022-08-09T09:11:06.711Z"
   },
   {
    "duration": 222,
    "start_time": "2022-08-09T09:11:07.681Z"
   },
   {
    "duration": 1028,
    "start_time": "2022-08-09T09:11:07.908Z"
   },
   {
    "duration": 5,
    "start_time": "2022-08-09T09:11:08.938Z"
   },
   {
    "duration": 21,
    "start_time": "2022-08-09T09:11:08.944Z"
   },
   {
    "duration": 268,
    "start_time": "2022-08-09T09:11:08.966Z"
   },
   {
    "duration": 5,
    "start_time": "2022-08-09T09:11:09.236Z"
   },
   {
    "duration": 181,
    "start_time": "2022-08-09T09:11:09.243Z"
   },
   {
    "duration": 5,
    "start_time": "2022-08-09T09:11:09.426Z"
   },
   {
    "duration": 172,
    "start_time": "2022-08-09T09:11:09.432Z"
   },
   {
    "duration": 6,
    "start_time": "2022-08-09T09:11:09.606Z"
   },
   {
    "duration": 200,
    "start_time": "2022-08-09T09:11:09.613Z"
   },
   {
    "duration": 6,
    "start_time": "2022-08-09T09:11:09.815Z"
   },
   {
    "duration": 24,
    "start_time": "2022-08-09T09:11:09.822Z"
   },
   {
    "duration": 165,
    "start_time": "2022-08-09T09:11:09.847Z"
   },
   {
    "duration": 800,
    "start_time": "2022-08-09T09:11:10.014Z"
   },
   {
    "duration": 811,
    "start_time": "2022-08-09T09:11:10.816Z"
   },
   {
    "duration": 737,
    "start_time": "2022-08-09T09:11:11.629Z"
   },
   {
    "duration": 9,
    "start_time": "2022-08-09T09:11:12.368Z"
   },
   {
    "duration": 10,
    "start_time": "2022-08-09T09:11:12.379Z"
   },
   {
    "duration": 9,
    "start_time": "2022-08-09T09:11:12.409Z"
   },
   {
    "duration": 9,
    "start_time": "2022-08-09T09:11:12.420Z"
   },
   {
    "duration": 13,
    "start_time": "2022-08-09T09:11:12.431Z"
   },
   {
    "duration": 16,
    "start_time": "2022-08-09T09:11:12.445Z"
   },
   {
    "duration": 195,
    "start_time": "2022-08-09T09:11:12.463Z"
   },
   {
    "duration": 1553,
    "start_time": "2022-08-09T09:11:12.660Z"
   },
   {
    "duration": 1516,
    "start_time": "2022-08-09T09:11:14.215Z"
   },
   {
    "duration": 181,
    "start_time": "2022-08-09T09:11:15.732Z"
   },
   {
    "duration": 2684,
    "start_time": "2022-08-09T09:11:15.916Z"
   },
   {
    "duration": 2478,
    "start_time": "2022-08-09T09:11:18.609Z"
   },
   {
    "duration": 181,
    "start_time": "2022-08-09T09:11:21.088Z"
   },
   {
    "duration": 855,
    "start_time": "2022-08-09T09:11:21.270Z"
   },
   {
    "duration": 932,
    "start_time": "2022-08-09T09:11:22.128Z"
   },
   {
    "duration": 8,
    "start_time": "2022-08-09T09:11:23.062Z"
   },
   {
    "duration": 16,
    "start_time": "2022-08-09T09:11:23.071Z"
   },
   {
    "duration": 20,
    "start_time": "2022-08-09T09:11:23.089Z"
   },
   {
    "duration": 9,
    "start_time": "2022-08-09T09:11:23.110Z"
   },
   {
    "duration": 7,
    "start_time": "2022-08-09T09:11:23.120Z"
   },
   {
    "duration": 22,
    "start_time": "2022-08-09T09:11:23.128Z"
   },
   {
    "duration": 192,
    "start_time": "2022-08-09T09:11:23.151Z"
   },
   {
    "duration": 14,
    "start_time": "2022-08-09T09:11:23.345Z"
   },
   {
    "duration": 206,
    "start_time": "2022-08-09T09:11:23.360Z"
   },
   {
    "duration": 17,
    "start_time": "2022-08-09T09:11:23.568Z"
   },
   {
    "duration": 255,
    "start_time": "2022-08-09T09:11:23.586Z"
   },
   {
    "duration": 10,
    "start_time": "2022-08-09T09:11:23.842Z"
   },
   {
    "duration": 15,
    "start_time": "2022-08-09T09:11:23.853Z"
   },
   {
    "duration": 9,
    "start_time": "2022-08-09T09:11:23.870Z"
   },
   {
    "duration": 5,
    "start_time": "2022-08-09T09:11:23.880Z"
   },
   {
    "duration": 29,
    "start_time": "2022-08-09T09:11:23.886Z"
   },
   {
    "duration": 36,
    "start_time": "2022-08-09T09:11:23.917Z"
   },
   {
    "duration": 4,
    "start_time": "2022-08-09T09:11:23.955Z"
   },
   {
    "duration": 26,
    "start_time": "2022-08-09T09:11:23.961Z"
   },
   {
    "duration": 269,
    "start_time": "2022-08-09T09:11:23.989Z"
   },
   {
    "duration": 7,
    "start_time": "2022-08-09T09:13:48.587Z"
   },
   {
    "duration": 7,
    "start_time": "2022-08-09T09:18:32.471Z"
   },
   {
    "duration": 268,
    "start_time": "2022-08-09T09:18:54.810Z"
   },
   {
    "duration": 422,
    "start_time": "2022-08-09T09:19:02.126Z"
   },
   {
    "duration": 356,
    "start_time": "2022-08-09T09:19:16.556Z"
   },
   {
    "duration": 274,
    "start_time": "2022-08-09T09:21:52.689Z"
   },
   {
    "duration": 393,
    "start_time": "2022-08-09T09:25:15.523Z"
   },
   {
    "duration": 373,
    "start_time": "2022-08-09T09:25:18.589Z"
   },
   {
    "duration": 459,
    "start_time": "2022-08-09T09:25:54.165Z"
   },
   {
    "duration": 510,
    "start_time": "2022-08-09T09:26:43.171Z"
   },
   {
    "duration": 424,
    "start_time": "2022-08-09T09:32:10.034Z"
   },
   {
    "duration": 387,
    "start_time": "2022-08-09T09:32:17.531Z"
   },
   {
    "duration": 360,
    "start_time": "2022-08-09T09:32:21.269Z"
   },
   {
    "duration": 534,
    "start_time": "2022-08-09T09:32:23.877Z"
   },
   {
    "duration": 575,
    "start_time": "2022-08-09T09:32:43.420Z"
   },
   {
    "duration": 534,
    "start_time": "2022-08-09T09:32:51.148Z"
   },
   {
    "duration": 547,
    "start_time": "2022-08-09T09:33:07.717Z"
   },
   {
    "duration": 728,
    "start_time": "2022-08-09T09:34:42.171Z"
   },
   {
    "duration": 744,
    "start_time": "2022-08-09T09:34:58.169Z"
   },
   {
    "duration": 814,
    "start_time": "2022-08-09T09:35:03.579Z"
   },
   {
    "duration": 285,
    "start_time": "2022-08-09T09:39:02.224Z"
   },
   {
    "duration": 542,
    "start_time": "2022-08-09T09:41:53.248Z"
   },
   {
    "duration": 7,
    "start_time": "2022-08-09T09:45:21.125Z"
   },
   {
    "duration": 243,
    "start_time": "2022-08-09T09:45:26.699Z"
   },
   {
    "duration": 640,
    "start_time": "2022-08-09T09:49:01.674Z"
   },
   {
    "duration": 226,
    "start_time": "2022-08-09T09:50:57.430Z"
   },
   {
    "duration": 6,
    "start_time": "2022-08-09T09:51:53.746Z"
   },
   {
    "duration": 386,
    "start_time": "2022-08-09T09:55:20.657Z"
   },
   {
    "duration": 95,
    "start_time": "2022-08-09T09:55:21.045Z"
   },
   {
    "duration": 3,
    "start_time": "2022-08-09T09:55:21.141Z"
   },
   {
    "duration": 28,
    "start_time": "2022-08-09T09:55:21.145Z"
   },
   {
    "duration": 40,
    "start_time": "2022-08-09T09:55:21.175Z"
   },
   {
    "duration": 2178,
    "start_time": "2022-08-09T09:55:21.217Z"
   },
   {
    "duration": 11,
    "start_time": "2022-08-09T09:55:23.419Z"
   },
   {
    "duration": 604,
    "start_time": "2022-08-09T09:55:23.432Z"
   },
   {
    "duration": 5,
    "start_time": "2022-08-09T09:55:24.038Z"
   },
   {
    "duration": 20,
    "start_time": "2022-08-09T09:55:24.045Z"
   },
   {
    "duration": 17,
    "start_time": "2022-08-09T09:55:24.067Z"
   },
   {
    "duration": 12,
    "start_time": "2022-08-09T09:55:24.086Z"
   },
   {
    "duration": 15,
    "start_time": "2022-08-09T09:55:24.100Z"
   },
   {
    "duration": 16,
    "start_time": "2022-08-09T09:55:24.117Z"
   },
   {
    "duration": 10,
    "start_time": "2022-08-09T09:55:24.134Z"
   },
   {
    "duration": 15,
    "start_time": "2022-08-09T09:55:24.146Z"
   },
   {
    "duration": 183,
    "start_time": "2022-08-09T09:55:24.163Z"
   },
   {
    "duration": 11,
    "start_time": "2022-08-09T09:55:24.347Z"
   },
   {
    "duration": 22,
    "start_time": "2022-08-09T09:55:24.359Z"
   },
   {
    "duration": 14,
    "start_time": "2022-08-09T09:55:24.382Z"
   },
   {
    "duration": 10,
    "start_time": "2022-08-09T09:55:24.397Z"
   },
   {
    "duration": 14,
    "start_time": "2022-08-09T09:55:24.409Z"
   },
   {
    "duration": 5,
    "start_time": "2022-08-09T09:55:24.425Z"
   },
   {
    "duration": 14,
    "start_time": "2022-08-09T09:55:24.432Z"
   },
   {
    "duration": 27,
    "start_time": "2022-08-09T09:55:24.447Z"
   },
   {
    "duration": 15,
    "start_time": "2022-08-09T09:55:24.476Z"
   },
   {
    "duration": 10,
    "start_time": "2022-08-09T09:55:24.493Z"
   },
   {
    "duration": 7,
    "start_time": "2022-08-09T09:55:24.507Z"
   },
   {
    "duration": 9,
    "start_time": "2022-08-09T09:55:24.515Z"
   },
   {
    "duration": 1587,
    "start_time": "2022-08-09T09:55:24.526Z"
   },
   {
    "duration": 5,
    "start_time": "2022-08-09T09:55:26.115Z"
   },
   {
    "duration": 29,
    "start_time": "2022-08-09T09:55:26.121Z"
   },
   {
    "duration": 10,
    "start_time": "2022-08-09T09:55:26.152Z"
   },
   {
    "duration": 14,
    "start_time": "2022-08-09T09:55:26.163Z"
   },
   {
    "duration": 15,
    "start_time": "2022-08-09T09:55:26.178Z"
   },
   {
    "duration": 32,
    "start_time": "2022-08-09T09:55:26.195Z"
   },
   {
    "duration": 7,
    "start_time": "2022-08-09T09:55:26.230Z"
   },
   {
    "duration": 18,
    "start_time": "2022-08-09T09:55:26.239Z"
   },
   {
    "duration": 1779,
    "start_time": "2022-08-09T09:55:26.259Z"
   },
   {
    "duration": 1521,
    "start_time": "2022-08-09T09:55:28.040Z"
   },
   {
    "duration": 5,
    "start_time": "2022-08-09T09:55:29.563Z"
   },
   {
    "duration": 14,
    "start_time": "2022-08-09T09:55:29.570Z"
   },
   {
    "duration": 12,
    "start_time": "2022-08-09T09:55:29.585Z"
   },
   {
    "duration": 17,
    "start_time": "2022-08-09T09:55:29.598Z"
   },
   {
    "duration": 12,
    "start_time": "2022-08-09T09:55:29.617Z"
   },
   {
    "duration": 1527,
    "start_time": "2022-08-09T09:55:29.631Z"
   },
   {
    "duration": 1520,
    "start_time": "2022-08-09T09:55:31.160Z"
   },
   {
    "duration": 1505,
    "start_time": "2022-08-09T09:55:32.681Z"
   },
   {
    "duration": 4,
    "start_time": "2022-08-09T09:55:34.187Z"
   },
   {
    "duration": 17,
    "start_time": "2022-08-09T09:55:34.193Z"
   },
   {
    "duration": 4,
    "start_time": "2022-08-09T09:55:34.212Z"
   },
   {
    "duration": 27,
    "start_time": "2022-08-09T09:55:34.218Z"
   },
   {
    "duration": 15,
    "start_time": "2022-08-09T09:55:34.247Z"
   },
   {
    "duration": 5,
    "start_time": "2022-08-09T09:55:34.264Z"
   },
   {
    "duration": 40,
    "start_time": "2022-08-09T09:55:34.270Z"
   },
   {
    "duration": 15,
    "start_time": "2022-08-09T09:55:34.312Z"
   },
   {
    "duration": 5,
    "start_time": "2022-08-09T09:55:34.329Z"
   },
   {
    "duration": 12,
    "start_time": "2022-08-09T09:55:34.336Z"
   },
   {
    "duration": 12,
    "start_time": "2022-08-09T09:55:34.350Z"
   },
   {
    "duration": 221,
    "start_time": "2022-08-09T09:55:34.364Z"
   },
   {
    "duration": 4,
    "start_time": "2022-08-09T09:55:34.587Z"
   },
   {
    "duration": 560,
    "start_time": "2022-08-09T09:55:34.592Z"
   },
   {
    "duration": 209,
    "start_time": "2022-08-09T09:55:35.154Z"
   },
   {
    "duration": 212,
    "start_time": "2022-08-09T09:55:35.365Z"
   },
   {
    "duration": 2330,
    "start_time": "2022-08-09T09:55:35.579Z"
   },
   {
    "duration": 198,
    "start_time": "2022-08-09T09:55:37.911Z"
   },
   {
    "duration": 27,
    "start_time": "2022-08-09T09:55:38.111Z"
   },
   {
    "duration": 12,
    "start_time": "2022-08-09T09:55:38.140Z"
   },
   {
    "duration": 207,
    "start_time": "2022-08-09T09:55:38.153Z"
   },
   {
    "duration": 48,
    "start_time": "2022-08-09T09:55:38.362Z"
   },
   {
    "duration": 6,
    "start_time": "2022-08-09T09:55:38.412Z"
   },
   {
    "duration": 8,
    "start_time": "2022-08-09T09:55:38.419Z"
   },
   {
    "duration": 11,
    "start_time": "2022-08-09T09:55:38.428Z"
   },
   {
    "duration": 210,
    "start_time": "2022-08-09T09:55:38.441Z"
   },
   {
    "duration": 24,
    "start_time": "2022-08-09T09:55:38.652Z"
   },
   {
    "duration": 6,
    "start_time": "2022-08-09T09:55:38.678Z"
   },
   {
    "duration": 217,
    "start_time": "2022-08-09T09:55:38.686Z"
   },
   {
    "duration": 513,
    "start_time": "2022-08-09T09:55:38.908Z"
   },
   {
    "duration": 3,
    "start_time": "2022-08-09T09:55:39.422Z"
   },
   {
    "duration": 13,
    "start_time": "2022-08-09T09:55:39.427Z"
   },
   {
    "duration": 191,
    "start_time": "2022-08-09T09:55:39.441Z"
   },
   {
    "duration": 6,
    "start_time": "2022-08-09T09:55:39.639Z"
   },
   {
    "duration": 10,
    "start_time": "2022-08-09T09:55:39.646Z"
   },
   {
    "duration": 5,
    "start_time": "2022-08-09T09:55:39.657Z"
   },
   {
    "duration": 215,
    "start_time": "2022-08-09T09:55:39.664Z"
   },
   {
    "duration": 4,
    "start_time": "2022-08-09T09:55:39.881Z"
   },
   {
    "duration": 6,
    "start_time": "2022-08-09T09:55:39.887Z"
   },
   {
    "duration": 14,
    "start_time": "2022-08-09T09:55:39.895Z"
   },
   {
    "duration": 4,
    "start_time": "2022-08-09T09:55:39.911Z"
   },
   {
    "duration": 11,
    "start_time": "2022-08-09T09:55:39.917Z"
   },
   {
    "duration": 8,
    "start_time": "2022-08-09T09:55:39.930Z"
   },
   {
    "duration": 8,
    "start_time": "2022-08-09T09:55:39.939Z"
   },
   {
    "duration": 5,
    "start_time": "2022-08-09T09:55:39.949Z"
   },
   {
    "duration": 5,
    "start_time": "2022-08-09T09:55:39.956Z"
   },
   {
    "duration": 290,
    "start_time": "2022-08-09T09:55:39.963Z"
   },
   {
    "duration": 4,
    "start_time": "2022-08-09T09:55:40.254Z"
   },
   {
    "duration": 225,
    "start_time": "2022-08-09T09:55:40.260Z"
   },
   {
    "duration": 22,
    "start_time": "2022-08-09T09:55:40.487Z"
   },
   {
    "duration": 8,
    "start_time": "2022-08-09T09:55:40.510Z"
   },
   {
    "duration": 7,
    "start_time": "2022-08-09T09:55:40.520Z"
   },
   {
    "duration": 210,
    "start_time": "2022-08-09T09:55:40.529Z"
   },
   {
    "duration": 10,
    "start_time": "2022-08-09T09:55:40.741Z"
   },
   {
    "duration": 7,
    "start_time": "2022-08-09T09:55:40.753Z"
   },
   {
    "duration": 11,
    "start_time": "2022-08-09T09:55:40.762Z"
   },
   {
    "duration": 291,
    "start_time": "2022-08-09T09:55:40.774Z"
   },
   {
    "duration": 211,
    "start_time": "2022-08-09T09:55:41.066Z"
   },
   {
    "duration": 206,
    "start_time": "2022-08-09T09:55:41.279Z"
   },
   {
    "duration": 6,
    "start_time": "2022-08-09T09:55:41.486Z"
   },
   {
    "duration": 196,
    "start_time": "2022-08-09T09:55:41.493Z"
   },
   {
    "duration": 8,
    "start_time": "2022-08-09T09:55:41.692Z"
   },
   {
    "duration": 290,
    "start_time": "2022-08-09T09:55:41.709Z"
   },
   {
    "duration": 11,
    "start_time": "2022-08-09T09:55:42.001Z"
   },
   {
    "duration": 271,
    "start_time": "2022-08-09T09:55:42.015Z"
   },
   {
    "duration": 548,
    "start_time": "2022-08-09T09:55:42.287Z"
   },
   {
    "duration": 214,
    "start_time": "2022-08-09T09:55:42.836Z"
   },
   {
    "duration": 724,
    "start_time": "2022-08-09T09:55:43.052Z"
   },
   {
    "duration": 521,
    "start_time": "2022-08-09T09:55:43.777Z"
   },
   {
    "duration": 276,
    "start_time": "2022-08-09T09:55:44.299Z"
   },
   {
    "duration": 506,
    "start_time": "2022-08-09T09:55:44.577Z"
   },
   {
    "duration": 6,
    "start_time": "2022-08-09T09:55:45.085Z"
   },
   {
    "duration": 200,
    "start_time": "2022-08-09T09:55:45.093Z"
   },
   {
    "duration": 206,
    "start_time": "2022-08-09T09:55:45.295Z"
   },
   {
    "duration": 10,
    "start_time": "2022-08-09T09:55:45.502Z"
   },
   {
    "duration": 215,
    "start_time": "2022-08-09T09:55:45.514Z"
   },
   {
    "duration": 180,
    "start_time": "2022-08-09T09:55:45.730Z"
   },
   {
    "duration": 349,
    "start_time": "2022-08-09T09:55:45.912Z"
   },
   {
    "duration": 233,
    "start_time": "2022-08-09T09:55:46.263Z"
   },
   {
    "duration": 158,
    "start_time": "2022-08-09T09:55:46.499Z"
   },
   {
    "duration": 27,
    "start_time": "2022-08-09T09:55:46.659Z"
   },
   {
    "duration": 437,
    "start_time": "2022-08-09T09:55:46.688Z"
   },
   {
    "duration": 469,
    "start_time": "2022-08-09T09:55:47.127Z"
   },
   {
    "duration": 12,
    "start_time": "2022-08-09T09:55:47.598Z"
   },
   {
    "duration": 8,
    "start_time": "2022-08-09T09:55:47.611Z"
   },
   {
    "duration": 971,
    "start_time": "2022-08-09T09:55:47.620Z"
   },
   {
    "duration": 216,
    "start_time": "2022-08-09T09:55:48.593Z"
   },
   {
    "duration": 1049,
    "start_time": "2022-08-09T09:55:48.811Z"
   },
   {
    "duration": 5,
    "start_time": "2022-08-09T09:55:49.862Z"
   },
   {
    "duration": 11,
    "start_time": "2022-08-09T09:55:49.869Z"
   },
   {
    "duration": 194,
    "start_time": "2022-08-09T09:55:49.882Z"
   },
   {
    "duration": 5,
    "start_time": "2022-08-09T09:55:50.078Z"
   },
   {
    "duration": 205,
    "start_time": "2022-08-09T09:55:50.084Z"
   },
   {
    "duration": 6,
    "start_time": "2022-08-09T09:55:50.291Z"
   },
   {
    "duration": 272,
    "start_time": "2022-08-09T09:55:50.298Z"
   },
   {
    "duration": 5,
    "start_time": "2022-08-09T09:55:50.572Z"
   },
   {
    "duration": 178,
    "start_time": "2022-08-09T09:55:50.578Z"
   },
   {
    "duration": 6,
    "start_time": "2022-08-09T09:55:50.757Z"
   },
   {
    "duration": 13,
    "start_time": "2022-08-09T09:55:50.764Z"
   },
   {
    "duration": 164,
    "start_time": "2022-08-09T09:55:50.779Z"
   },
   {
    "duration": 758,
    "start_time": "2022-08-09T09:55:50.945Z"
   },
   {
    "duration": 817,
    "start_time": "2022-08-09T09:55:51.711Z"
   },
   {
    "duration": 748,
    "start_time": "2022-08-09T09:55:52.530Z"
   },
   {
    "duration": 8,
    "start_time": "2022-08-09T09:55:53.280Z"
   },
   {
    "duration": 23,
    "start_time": "2022-08-09T09:55:53.289Z"
   },
   {
    "duration": 7,
    "start_time": "2022-08-09T09:55:53.314Z"
   },
   {
    "duration": 9,
    "start_time": "2022-08-09T09:55:53.323Z"
   },
   {
    "duration": 14,
    "start_time": "2022-08-09T09:55:53.334Z"
   },
   {
    "duration": 9,
    "start_time": "2022-08-09T09:55:53.350Z"
   },
   {
    "duration": 185,
    "start_time": "2022-08-09T09:55:53.360Z"
   },
   {
    "duration": 1538,
    "start_time": "2022-08-09T09:55:53.547Z"
   },
   {
    "duration": 1443,
    "start_time": "2022-08-09T09:55:55.087Z"
   },
   {
    "duration": 178,
    "start_time": "2022-08-09T09:55:56.531Z"
   },
   {
    "duration": 2803,
    "start_time": "2022-08-09T09:55:56.711Z"
   },
   {
    "duration": 2645,
    "start_time": "2022-08-09T09:55:59.517Z"
   },
   {
    "duration": 175,
    "start_time": "2022-08-09T09:56:02.164Z"
   },
   {
    "duration": 816,
    "start_time": "2022-08-09T09:56:02.341Z"
   },
   {
    "duration": 831,
    "start_time": "2022-08-09T09:56:03.159Z"
   },
   {
    "duration": 8,
    "start_time": "2022-08-09T09:56:03.991Z"
   },
   {
    "duration": 23,
    "start_time": "2022-08-09T09:56:04.000Z"
   },
   {
    "duration": 19,
    "start_time": "2022-08-09T09:56:04.025Z"
   },
   {
    "duration": 24,
    "start_time": "2022-08-09T09:56:04.046Z"
   },
   {
    "duration": 39,
    "start_time": "2022-08-09T09:56:04.071Z"
   },
   {
    "duration": 30,
    "start_time": "2022-08-09T09:56:04.111Z"
   },
   {
    "duration": 321,
    "start_time": "2022-08-09T09:56:04.143Z"
   },
   {
    "duration": 14,
    "start_time": "2022-08-09T09:56:04.466Z"
   },
   {
    "duration": 214,
    "start_time": "2022-08-09T09:56:04.481Z"
   },
   {
    "duration": 24,
    "start_time": "2022-08-09T09:56:04.697Z"
   },
   {
    "duration": 223,
    "start_time": "2022-08-09T09:56:04.722Z"
   },
   {
    "duration": 10,
    "start_time": "2022-08-09T09:56:04.946Z"
   },
   {
    "duration": 12,
    "start_time": "2022-08-09T09:56:04.958Z"
   },
   {
    "duration": 9,
    "start_time": "2022-08-09T09:56:04.972Z"
   },
   {
    "duration": 26,
    "start_time": "2022-08-09T09:56:04.983Z"
   },
   {
    "duration": 20,
    "start_time": "2022-08-09T09:56:05.011Z"
   },
   {
    "duration": 85,
    "start_time": "2022-08-09T09:56:05.033Z"
   },
   {
    "duration": 10,
    "start_time": "2022-08-09T09:56:05.119Z"
   },
   {
    "duration": 26,
    "start_time": "2022-08-09T09:56:05.131Z"
   },
   {
    "duration": 337,
    "start_time": "2022-08-09T09:56:05.159Z"
   },
   {
    "duration": 67,
    "start_time": "2022-08-09T09:58:08.384Z"
   },
   {
    "duration": 786,
    "start_time": "2022-08-09T10:01:50.931Z"
   },
   {
    "duration": 920,
    "start_time": "2022-08-09T10:02:03.386Z"
   },
   {
    "duration": 1264,
    "start_time": "2022-08-09T10:05:31.215Z"
   },
   {
    "duration": 1381,
    "start_time": "2022-08-09T10:06:12.753Z"
   },
   {
    "duration": 15,
    "start_time": "2022-08-09T10:56:05.362Z"
   },
   {
    "duration": 2,
    "start_time": "2022-08-09T11:01:50.989Z"
   },
   {
    "duration": 14,
    "start_time": "2022-08-09T11:01:52.378Z"
   },
   {
    "duration": 11,
    "start_time": "2022-08-09T11:02:04.099Z"
   },
   {
    "duration": 9,
    "start_time": "2022-08-09T11:02:04.436Z"
   },
   {
    "duration": 10,
    "start_time": "2022-08-09T11:02:04.715Z"
   },
   {
    "duration": 40,
    "start_time": "2022-08-09T11:02:31.127Z"
   },
   {
    "duration": 5,
    "start_time": "2022-08-09T11:02:48.485Z"
   },
   {
    "duration": 18,
    "start_time": "2022-08-09T11:02:59.614Z"
   },
   {
    "duration": 10,
    "start_time": "2022-08-09T11:03:25.262Z"
   },
   {
    "duration": 19,
    "start_time": "2022-08-09T11:03:29.057Z"
   },
   {
    "duration": 266,
    "start_time": "2022-08-09T11:03:33.416Z"
   },
   {
    "duration": 19,
    "start_time": "2022-08-09T11:03:51.435Z"
   },
   {
    "duration": 264,
    "start_time": "2022-08-09T11:04:09.510Z"
   },
   {
    "duration": 455,
    "start_time": "2022-08-09T11:04:58.994Z"
   },
   {
    "duration": 95,
    "start_time": "2022-08-09T11:04:59.451Z"
   },
   {
    "duration": 2,
    "start_time": "2022-08-09T11:04:59.548Z"
   },
   {
    "duration": 21,
    "start_time": "2022-08-09T11:04:59.552Z"
   },
   {
    "duration": 55,
    "start_time": "2022-08-09T11:04:59.575Z"
   },
   {
    "duration": 2259,
    "start_time": "2022-08-09T11:04:59.631Z"
   },
   {
    "duration": 10,
    "start_time": "2022-08-09T11:05:01.893Z"
   },
   {
    "duration": 694,
    "start_time": "2022-08-09T11:05:01.905Z"
   },
   {
    "duration": 10,
    "start_time": "2022-08-09T11:05:02.600Z"
   },
   {
    "duration": 62,
    "start_time": "2022-08-09T11:05:02.612Z"
   },
   {
    "duration": 28,
    "start_time": "2022-08-09T11:05:02.675Z"
   },
   {
    "duration": 70,
    "start_time": "2022-08-09T11:05:02.704Z"
   },
   {
    "duration": 32,
    "start_time": "2022-08-09T11:05:02.776Z"
   },
   {
    "duration": 19,
    "start_time": "2022-08-09T11:05:02.809Z"
   },
   {
    "duration": 13,
    "start_time": "2022-08-09T11:05:02.829Z"
   },
   {
    "duration": 18,
    "start_time": "2022-08-09T11:05:02.844Z"
   },
   {
    "duration": 167,
    "start_time": "2022-08-09T11:05:02.863Z"
   },
   {
    "duration": 10,
    "start_time": "2022-08-09T11:05:03.031Z"
   },
   {
    "duration": 9,
    "start_time": "2022-08-09T11:05:03.043Z"
   },
   {
    "duration": 29,
    "start_time": "2022-08-09T11:05:03.053Z"
   },
   {
    "duration": 11,
    "start_time": "2022-08-09T11:05:03.084Z"
   },
   {
    "duration": 18,
    "start_time": "2022-08-09T11:05:03.096Z"
   },
   {
    "duration": 6,
    "start_time": "2022-08-09T11:05:03.116Z"
   },
   {
    "duration": 11,
    "start_time": "2022-08-09T11:05:03.124Z"
   },
   {
    "duration": 25,
    "start_time": "2022-08-09T11:05:03.136Z"
   },
   {
    "duration": 17,
    "start_time": "2022-08-09T11:05:03.163Z"
   },
   {
    "duration": 9,
    "start_time": "2022-08-09T11:05:03.181Z"
   },
   {
    "duration": 15,
    "start_time": "2022-08-09T11:05:03.194Z"
   },
   {
    "duration": 5,
    "start_time": "2022-08-09T11:05:03.211Z"
   },
   {
    "duration": 1534,
    "start_time": "2022-08-09T11:05:03.217Z"
   },
   {
    "duration": 5,
    "start_time": "2022-08-09T11:05:04.753Z"
   },
   {
    "duration": 22,
    "start_time": "2022-08-09T11:05:04.759Z"
   },
   {
    "duration": 9,
    "start_time": "2022-08-09T11:05:04.782Z"
   },
   {
    "duration": 25,
    "start_time": "2022-08-09T11:05:04.793Z"
   },
   {
    "duration": 10,
    "start_time": "2022-08-09T11:05:04.820Z"
   },
   {
    "duration": 17,
    "start_time": "2022-08-09T11:05:04.831Z"
   },
   {
    "duration": 7,
    "start_time": "2022-08-09T11:05:04.849Z"
   },
   {
    "duration": 10,
    "start_time": "2022-08-09T11:05:04.858Z"
   },
   {
    "duration": 1555,
    "start_time": "2022-08-09T11:05:04.870Z"
   },
   {
    "duration": 1572,
    "start_time": "2022-08-09T11:05:06.427Z"
   },
   {
    "duration": 8,
    "start_time": "2022-08-09T11:05:08.001Z"
   },
   {
    "duration": 8,
    "start_time": "2022-08-09T11:05:08.010Z"
   },
   {
    "duration": 13,
    "start_time": "2022-08-09T11:05:08.020Z"
   },
   {
    "duration": 9,
    "start_time": "2022-08-09T11:05:08.034Z"
   },
   {
    "duration": 8,
    "start_time": "2022-08-09T11:05:08.044Z"
   },
   {
    "duration": 1548,
    "start_time": "2022-08-09T11:05:08.054Z"
   },
   {
    "duration": 1571,
    "start_time": "2022-08-09T11:05:09.604Z"
   },
   {
    "duration": 1550,
    "start_time": "2022-08-09T11:05:11.177Z"
   },
   {
    "duration": 5,
    "start_time": "2022-08-09T11:05:12.729Z"
   },
   {
    "duration": 9,
    "start_time": "2022-08-09T11:05:12.736Z"
   },
   {
    "duration": 10,
    "start_time": "2022-08-09T11:05:12.747Z"
   },
   {
    "duration": 29,
    "start_time": "2022-08-09T11:05:12.759Z"
   },
   {
    "duration": 30,
    "start_time": "2022-08-09T11:05:12.790Z"
   },
   {
    "duration": 5,
    "start_time": "2022-08-09T11:05:12.822Z"
   },
   {
    "duration": 11,
    "start_time": "2022-08-09T11:05:12.828Z"
   },
   {
    "duration": 17,
    "start_time": "2022-08-09T11:05:12.841Z"
   },
   {
    "duration": 6,
    "start_time": "2022-08-09T11:05:12.859Z"
   },
   {
    "duration": 13,
    "start_time": "2022-08-09T11:05:12.867Z"
   },
   {
    "duration": 13,
    "start_time": "2022-08-09T11:05:12.910Z"
   },
   {
    "duration": 219,
    "start_time": "2022-08-09T11:05:12.924Z"
   },
   {
    "duration": 4,
    "start_time": "2022-08-09T11:05:13.145Z"
   },
   {
    "duration": 555,
    "start_time": "2022-08-09T11:05:13.151Z"
   },
   {
    "duration": 206,
    "start_time": "2022-08-09T11:05:13.708Z"
   },
   {
    "duration": 205,
    "start_time": "2022-08-09T11:05:13.916Z"
   },
   {
    "duration": 2335,
    "start_time": "2022-08-09T11:05:14.123Z"
   },
   {
    "duration": 193,
    "start_time": "2022-08-09T11:05:16.460Z"
   },
   {
    "duration": 30,
    "start_time": "2022-08-09T11:05:16.655Z"
   },
   {
    "duration": 7,
    "start_time": "2022-08-09T11:05:16.687Z"
   },
   {
    "duration": 210,
    "start_time": "2022-08-09T11:05:16.710Z"
   },
   {
    "duration": 35,
    "start_time": "2022-08-09T11:05:16.922Z"
   },
   {
    "duration": 6,
    "start_time": "2022-08-09T11:05:16.959Z"
   },
   {
    "duration": 30,
    "start_time": "2022-08-09T11:05:16.967Z"
   },
   {
    "duration": 18,
    "start_time": "2022-08-09T11:05:16.999Z"
   },
   {
    "duration": 230,
    "start_time": "2022-08-09T11:05:17.019Z"
   },
   {
    "duration": 24,
    "start_time": "2022-08-09T11:05:17.250Z"
   },
   {
    "duration": 29,
    "start_time": "2022-08-09T11:05:17.276Z"
   },
   {
    "duration": 274,
    "start_time": "2022-08-09T11:05:17.306Z"
   },
   {
    "duration": 589,
    "start_time": "2022-08-09T11:05:17.582Z"
   },
   {
    "duration": 3,
    "start_time": "2022-08-09T11:05:18.173Z"
   },
   {
    "duration": 14,
    "start_time": "2022-08-09T11:05:18.178Z"
   },
   {
    "duration": 209,
    "start_time": "2022-08-09T11:05:18.193Z"
   },
   {
    "duration": 6,
    "start_time": "2022-08-09T11:05:18.414Z"
   },
   {
    "duration": 11,
    "start_time": "2022-08-09T11:05:18.421Z"
   },
   {
    "duration": 8,
    "start_time": "2022-08-09T11:05:18.434Z"
   },
   {
    "duration": 210,
    "start_time": "2022-08-09T11:05:18.444Z"
   },
   {
    "duration": 4,
    "start_time": "2022-08-09T11:05:18.656Z"
   },
   {
    "duration": 9,
    "start_time": "2022-08-09T11:05:18.662Z"
   },
   {
    "duration": 17,
    "start_time": "2022-08-09T11:05:18.672Z"
   },
   {
    "duration": 18,
    "start_time": "2022-08-09T11:05:18.690Z"
   },
   {
    "duration": 12,
    "start_time": "2022-08-09T11:05:18.710Z"
   },
   {
    "duration": 12,
    "start_time": "2022-08-09T11:05:18.724Z"
   },
   {
    "duration": 16,
    "start_time": "2022-08-09T11:05:18.738Z"
   },
   {
    "duration": 9,
    "start_time": "2022-08-09T11:05:18.756Z"
   },
   {
    "duration": 4,
    "start_time": "2022-08-09T11:05:18.767Z"
   },
   {
    "duration": 265,
    "start_time": "2022-08-09T11:05:18.772Z"
   },
   {
    "duration": 5,
    "start_time": "2022-08-09T11:05:19.040Z"
   },
   {
    "duration": 22,
    "start_time": "2022-08-09T11:05:19.046Z"
   },
   {
    "duration": 19,
    "start_time": "2022-08-09T11:05:19.070Z"
   },
   {
    "duration": 195,
    "start_time": "2022-08-09T11:05:19.090Z"
   },
   {
    "duration": 10,
    "start_time": "2022-08-09T11:05:19.286Z"
   },
   {
    "duration": 22,
    "start_time": "2022-08-09T11:05:19.298Z"
   },
   {
    "duration": 14,
    "start_time": "2022-08-09T11:05:19.321Z"
   },
   {
    "duration": 212,
    "start_time": "2022-08-09T11:05:19.337Z"
   },
   {
    "duration": 11,
    "start_time": "2022-08-09T11:05:19.551Z"
   },
   {
    "duration": 7,
    "start_time": "2022-08-09T11:05:19.564Z"
   },
   {
    "duration": 10,
    "start_time": "2022-08-09T11:05:19.573Z"
   },
   {
    "duration": 316,
    "start_time": "2022-08-09T11:05:19.584Z"
   },
   {
    "duration": 229,
    "start_time": "2022-08-09T11:05:19.901Z"
   },
   {
    "duration": 224,
    "start_time": "2022-08-09T11:05:20.131Z"
   },
   {
    "duration": 7,
    "start_time": "2022-08-09T11:05:20.357Z"
   },
   {
    "duration": 212,
    "start_time": "2022-08-09T11:05:20.366Z"
   },
   {
    "duration": 7,
    "start_time": "2022-08-09T11:05:20.580Z"
   },
   {
    "duration": 289,
    "start_time": "2022-08-09T11:05:20.589Z"
   },
   {
    "duration": 7,
    "start_time": "2022-08-09T11:05:20.879Z"
   },
   {
    "duration": 276,
    "start_time": "2022-08-09T11:05:20.888Z"
   },
   {
    "duration": 616,
    "start_time": "2022-08-09T11:05:21.167Z"
   },
   {
    "duration": 211,
    "start_time": "2022-08-09T11:05:21.786Z"
   },
   {
    "duration": 762,
    "start_time": "2022-08-09T11:05:21.999Z"
   },
   {
    "duration": 553,
    "start_time": "2022-08-09T11:05:22.763Z"
   },
   {
    "duration": 301,
    "start_time": "2022-08-09T11:05:23.318Z"
   },
   {
    "duration": 541,
    "start_time": "2022-08-09T11:05:23.620Z"
   },
   {
    "duration": 7,
    "start_time": "2022-08-09T11:05:24.163Z"
   },
   {
    "duration": 213,
    "start_time": "2022-08-09T11:05:24.171Z"
   },
   {
    "duration": 225,
    "start_time": "2022-08-09T11:05:24.386Z"
   },
   {
    "duration": 6,
    "start_time": "2022-08-09T11:05:24.613Z"
   },
   {
    "duration": 235,
    "start_time": "2022-08-09T11:05:24.621Z"
   },
   {
    "duration": 188,
    "start_time": "2022-08-09T11:05:24.858Z"
   },
   {
    "duration": 321,
    "start_time": "2022-08-09T11:05:25.048Z"
   },
   {
    "duration": 228,
    "start_time": "2022-08-09T11:05:25.371Z"
   },
   {
    "duration": 206,
    "start_time": "2022-08-09T11:05:25.601Z"
   },
   {
    "duration": 66,
    "start_time": "2022-08-09T11:05:25.809Z"
   },
   {
    "duration": 503,
    "start_time": "2022-08-09T11:05:25.878Z"
   },
   {
    "duration": 392,
    "start_time": "2022-08-09T11:05:26.382Z"
   },
   {
    "duration": 8,
    "start_time": "2022-08-09T11:05:26.776Z"
   },
   {
    "duration": 7,
    "start_time": "2022-08-09T11:05:26.785Z"
   },
   {
    "duration": 1019,
    "start_time": "2022-08-09T11:05:26.808Z"
   },
   {
    "duration": 222,
    "start_time": "2022-08-09T11:05:27.829Z"
   },
   {
    "duration": 1279,
    "start_time": "2022-08-09T11:05:28.053Z"
   },
   {
    "duration": 5,
    "start_time": "2022-08-09T11:05:29.334Z"
   },
   {
    "duration": 16,
    "start_time": "2022-08-09T11:05:29.340Z"
   },
   {
    "duration": 292,
    "start_time": "2022-08-09T11:05:29.358Z"
   },
   {
    "duration": 5,
    "start_time": "2022-08-09T11:05:29.652Z"
   },
   {
    "duration": 196,
    "start_time": "2022-08-09T11:05:29.658Z"
   },
   {
    "duration": 7,
    "start_time": "2022-08-09T11:05:29.855Z"
   },
   {
    "duration": 201,
    "start_time": "2022-08-09T11:05:29.863Z"
   },
   {
    "duration": 6,
    "start_time": "2022-08-09T11:05:30.066Z"
   },
   {
    "duration": 229,
    "start_time": "2022-08-09T11:05:30.073Z"
   },
   {
    "duration": 7,
    "start_time": "2022-08-09T11:05:30.304Z"
   },
   {
    "duration": 77,
    "start_time": "2022-08-09T11:05:30.312Z"
   },
   {
    "duration": 173,
    "start_time": "2022-08-09T11:05:30.390Z"
   },
   {
    "duration": 758,
    "start_time": "2022-08-09T11:05:30.565Z"
   },
   {
    "duration": 873,
    "start_time": "2022-08-09T11:05:31.324Z"
   },
   {
    "duration": 759,
    "start_time": "2022-08-09T11:05:32.199Z"
   },
   {
    "duration": 8,
    "start_time": "2022-08-09T11:05:32.960Z"
   },
   {
    "duration": 13,
    "start_time": "2022-08-09T11:05:32.969Z"
   },
   {
    "duration": 12,
    "start_time": "2022-08-09T11:05:32.983Z"
   },
   {
    "duration": 8,
    "start_time": "2022-08-09T11:05:33.009Z"
   },
   {
    "duration": 28,
    "start_time": "2022-08-09T11:05:33.019Z"
   },
   {
    "duration": 16,
    "start_time": "2022-08-09T11:05:33.048Z"
   },
   {
    "duration": 182,
    "start_time": "2022-08-09T11:05:33.066Z"
   },
   {
    "duration": 1520,
    "start_time": "2022-08-09T11:05:33.250Z"
   },
   {
    "duration": 1576,
    "start_time": "2022-08-09T11:05:34.772Z"
   },
   {
    "duration": 191,
    "start_time": "2022-08-09T11:05:36.351Z"
   },
   {
    "duration": 2631,
    "start_time": "2022-08-09T11:05:36.545Z"
   },
   {
    "duration": 2473,
    "start_time": "2022-08-09T11:05:39.178Z"
   },
   {
    "duration": 179,
    "start_time": "2022-08-09T11:05:41.653Z"
   },
   {
    "duration": 850,
    "start_time": "2022-08-09T11:05:41.833Z"
   },
   {
    "duration": 932,
    "start_time": "2022-08-09T11:05:42.685Z"
   },
   {
    "duration": 7,
    "start_time": "2022-08-09T11:05:43.619Z"
   },
   {
    "duration": 15,
    "start_time": "2022-08-09T11:05:43.628Z"
   },
   {
    "duration": 8,
    "start_time": "2022-08-09T11:05:43.645Z"
   },
   {
    "duration": 8,
    "start_time": "2022-08-09T11:05:43.654Z"
   },
   {
    "duration": 10,
    "start_time": "2022-08-09T11:05:43.663Z"
   },
   {
    "duration": 40,
    "start_time": "2022-08-09T11:05:43.674Z"
   },
   {
    "duration": 175,
    "start_time": "2022-08-09T11:05:43.715Z"
   },
   {
    "duration": 22,
    "start_time": "2022-08-09T11:05:43.892Z"
   },
   {
    "duration": 207,
    "start_time": "2022-08-09T11:05:43.916Z"
   },
   {
    "duration": 14,
    "start_time": "2022-08-09T11:05:44.125Z"
   },
   {
    "duration": 228,
    "start_time": "2022-08-09T11:05:44.141Z"
   },
   {
    "duration": 10,
    "start_time": "2022-08-09T11:05:44.370Z"
   },
   {
    "duration": 9,
    "start_time": "2022-08-09T11:05:44.381Z"
   },
   {
    "duration": 34,
    "start_time": "2022-08-09T11:05:44.392Z"
   },
   {
    "duration": 8,
    "start_time": "2022-08-09T11:05:44.428Z"
   },
   {
    "duration": 18,
    "start_time": "2022-08-09T11:05:44.438Z"
   },
   {
    "duration": 270,
    "start_time": "2022-08-09T11:05:44.457Z"
   },
   {
    "duration": 6,
    "start_time": "2022-08-09T11:44:35.883Z"
   },
   {
    "duration": 457,
    "start_time": "2022-08-09T12:05:18.473Z"
   },
   {
    "duration": 98,
    "start_time": "2022-08-09T12:05:18.932Z"
   },
   {
    "duration": 3,
    "start_time": "2022-08-09T12:05:19.031Z"
   },
   {
    "duration": 30,
    "start_time": "2022-08-09T12:05:19.037Z"
   },
   {
    "duration": 57,
    "start_time": "2022-08-09T12:05:19.069Z"
   },
   {
    "duration": 2306,
    "start_time": "2022-08-09T12:05:19.128Z"
   },
   {
    "duration": 10,
    "start_time": "2022-08-09T12:05:21.436Z"
   },
   {
    "duration": 645,
    "start_time": "2022-08-09T12:05:21.448Z"
   },
   {
    "duration": 6,
    "start_time": "2022-08-09T12:05:22.094Z"
   },
   {
    "duration": 4,
    "start_time": "2022-08-09T12:05:22.110Z"
   },
   {
    "duration": 11,
    "start_time": "2022-08-09T12:05:22.116Z"
   },
   {
    "duration": 10,
    "start_time": "2022-08-09T12:05:22.128Z"
   },
   {
    "duration": 20,
    "start_time": "2022-08-09T12:05:22.140Z"
   },
   {
    "duration": 17,
    "start_time": "2022-08-09T12:05:22.162Z"
   },
   {
    "duration": 8,
    "start_time": "2022-08-09T12:05:22.181Z"
   },
   {
    "duration": 10,
    "start_time": "2022-08-09T12:05:22.190Z"
   },
   {
    "duration": 196,
    "start_time": "2022-08-09T12:05:22.209Z"
   },
   {
    "duration": 11,
    "start_time": "2022-08-09T12:05:22.409Z"
   },
   {
    "duration": 6,
    "start_time": "2022-08-09T12:05:22.421Z"
   },
   {
    "duration": 25,
    "start_time": "2022-08-09T12:05:22.429Z"
   },
   {
    "duration": 9,
    "start_time": "2022-08-09T12:05:22.455Z"
   },
   {
    "duration": 12,
    "start_time": "2022-08-09T12:05:22.466Z"
   },
   {
    "duration": 5,
    "start_time": "2022-08-09T12:05:22.480Z"
   },
   {
    "duration": 22,
    "start_time": "2022-08-09T12:05:22.487Z"
   },
   {
    "duration": 17,
    "start_time": "2022-08-09T12:05:22.511Z"
   },
   {
    "duration": 15,
    "start_time": "2022-08-09T12:05:22.529Z"
   },
   {
    "duration": 6,
    "start_time": "2022-08-09T12:05:22.545Z"
   },
   {
    "duration": 7,
    "start_time": "2022-08-09T12:05:22.556Z"
   },
   {
    "duration": 7,
    "start_time": "2022-08-09T12:05:22.565Z"
   },
   {
    "duration": 1613,
    "start_time": "2022-08-09T12:05:22.574Z"
   },
   {
    "duration": 4,
    "start_time": "2022-08-09T12:05:24.189Z"
   },
   {
    "duration": 28,
    "start_time": "2022-08-09T12:05:24.194Z"
   },
   {
    "duration": 9,
    "start_time": "2022-08-09T12:05:24.223Z"
   },
   {
    "duration": 10,
    "start_time": "2022-08-09T12:05:24.234Z"
   },
   {
    "duration": 10,
    "start_time": "2022-08-09T12:05:24.246Z"
   },
   {
    "duration": 10,
    "start_time": "2022-08-09T12:05:24.258Z"
   },
   {
    "duration": 45,
    "start_time": "2022-08-09T12:05:24.270Z"
   },
   {
    "duration": 10,
    "start_time": "2022-08-09T12:05:24.316Z"
   },
   {
    "duration": 1482,
    "start_time": "2022-08-09T12:05:24.328Z"
   },
   {
    "duration": 1615,
    "start_time": "2022-08-09T12:05:25.812Z"
   },
   {
    "duration": 8,
    "start_time": "2022-08-09T12:05:27.432Z"
   },
   {
    "duration": 11,
    "start_time": "2022-08-09T12:05:27.442Z"
   },
   {
    "duration": 14,
    "start_time": "2022-08-09T12:05:27.455Z"
   },
   {
    "duration": 9,
    "start_time": "2022-08-09T12:05:27.471Z"
   },
   {
    "duration": 31,
    "start_time": "2022-08-09T12:05:27.481Z"
   },
   {
    "duration": 1545,
    "start_time": "2022-08-09T12:05:27.513Z"
   },
   {
    "duration": 1479,
    "start_time": "2022-08-09T12:05:29.059Z"
   },
   {
    "duration": 1559,
    "start_time": "2022-08-09T12:05:30.539Z"
   },
   {
    "duration": 11,
    "start_time": "2022-08-09T12:05:32.100Z"
   },
   {
    "duration": 7,
    "start_time": "2022-08-09T12:05:32.112Z"
   },
   {
    "duration": 9,
    "start_time": "2022-08-09T12:05:32.121Z"
   },
   {
    "duration": 30,
    "start_time": "2022-08-09T12:05:32.131Z"
   },
   {
    "duration": 13,
    "start_time": "2022-08-09T12:05:32.163Z"
   },
   {
    "duration": 17,
    "start_time": "2022-08-09T12:05:32.178Z"
   },
   {
    "duration": 21,
    "start_time": "2022-08-09T12:05:32.197Z"
   },
   {
    "duration": 22,
    "start_time": "2022-08-09T12:05:32.219Z"
   },
   {
    "duration": 5,
    "start_time": "2022-08-09T12:05:32.242Z"
   },
   {
    "duration": 21,
    "start_time": "2022-08-09T12:05:32.249Z"
   },
   {
    "duration": 20,
    "start_time": "2022-08-09T12:05:32.272Z"
   },
   {
    "duration": 199,
    "start_time": "2022-08-09T12:05:32.294Z"
   },
   {
    "duration": 4,
    "start_time": "2022-08-09T12:05:32.494Z"
   },
   {
    "duration": 532,
    "start_time": "2022-08-09T12:05:32.508Z"
   },
   {
    "duration": 194,
    "start_time": "2022-08-09T12:05:33.042Z"
   },
   {
    "duration": 192,
    "start_time": "2022-08-09T12:05:33.238Z"
   },
   {
    "duration": 2280,
    "start_time": "2022-08-09T12:05:33.432Z"
   },
   {
    "duration": 207,
    "start_time": "2022-08-09T12:05:35.714Z"
   },
   {
    "duration": 28,
    "start_time": "2022-08-09T12:05:35.923Z"
   },
   {
    "duration": 12,
    "start_time": "2022-08-09T12:05:35.953Z"
   },
   {
    "duration": 246,
    "start_time": "2022-08-09T12:05:35.967Z"
   },
   {
    "duration": 34,
    "start_time": "2022-08-09T12:05:36.215Z"
   },
   {
    "duration": 7,
    "start_time": "2022-08-09T12:05:36.251Z"
   },
   {
    "duration": 8,
    "start_time": "2022-08-09T12:05:36.260Z"
   },
   {
    "duration": 7,
    "start_time": "2022-08-09T12:05:36.270Z"
   },
   {
    "duration": 232,
    "start_time": "2022-08-09T12:05:36.279Z"
   },
   {
    "duration": 24,
    "start_time": "2022-08-09T12:05:36.514Z"
   },
   {
    "duration": 9,
    "start_time": "2022-08-09T12:05:36.539Z"
   },
   {
    "duration": 223,
    "start_time": "2022-08-09T12:05:36.550Z"
   },
   {
    "duration": 627,
    "start_time": "2022-08-09T12:05:36.775Z"
   },
   {
    "duration": 4,
    "start_time": "2022-08-09T12:05:37.408Z"
   },
   {
    "duration": 20,
    "start_time": "2022-08-09T12:05:37.415Z"
   },
   {
    "duration": 223,
    "start_time": "2022-08-09T12:05:37.437Z"
   },
   {
    "duration": 7,
    "start_time": "2022-08-09T12:05:37.667Z"
   },
   {
    "duration": 15,
    "start_time": "2022-08-09T12:05:37.675Z"
   },
   {
    "duration": 17,
    "start_time": "2022-08-09T12:05:37.692Z"
   },
   {
    "duration": 210,
    "start_time": "2022-08-09T12:05:37.711Z"
   },
   {
    "duration": 5,
    "start_time": "2022-08-09T12:05:37.922Z"
   },
   {
    "duration": 7,
    "start_time": "2022-08-09T12:05:37.928Z"
   },
   {
    "duration": 9,
    "start_time": "2022-08-09T12:05:37.937Z"
   },
   {
    "duration": 5,
    "start_time": "2022-08-09T12:05:37.948Z"
   },
   {
    "duration": 13,
    "start_time": "2022-08-09T12:05:37.955Z"
   },
   {
    "duration": 10,
    "start_time": "2022-08-09T12:05:37.969Z"
   },
   {
    "duration": 29,
    "start_time": "2022-08-09T12:05:37.980Z"
   },
   {
    "duration": 5,
    "start_time": "2022-08-09T12:05:38.011Z"
   },
   {
    "duration": 4,
    "start_time": "2022-08-09T12:05:38.018Z"
   },
   {
    "duration": 263,
    "start_time": "2022-08-09T12:05:38.023Z"
   },
   {
    "duration": 5,
    "start_time": "2022-08-09T12:05:38.288Z"
   },
   {
    "duration": 15,
    "start_time": "2022-08-09T12:05:38.294Z"
   },
   {
    "duration": 18,
    "start_time": "2022-08-09T12:05:38.311Z"
   },
   {
    "duration": 218,
    "start_time": "2022-08-09T12:05:38.331Z"
   },
   {
    "duration": 12,
    "start_time": "2022-08-09T12:05:38.551Z"
   },
   {
    "duration": 12,
    "start_time": "2022-08-09T12:05:38.565Z"
   },
   {
    "duration": 30,
    "start_time": "2022-08-09T12:05:38.580Z"
   },
   {
    "duration": 238,
    "start_time": "2022-08-09T12:05:38.611Z"
   },
   {
    "duration": 10,
    "start_time": "2022-08-09T12:05:38.851Z"
   },
   {
    "duration": 7,
    "start_time": "2022-08-09T12:05:38.863Z"
   },
   {
    "duration": 17,
    "start_time": "2022-08-09T12:05:38.871Z"
   },
   {
    "duration": 298,
    "start_time": "2022-08-09T12:05:38.890Z"
   },
   {
    "duration": 223,
    "start_time": "2022-08-09T12:05:39.190Z"
   },
   {
    "duration": 216,
    "start_time": "2022-08-09T12:05:39.414Z"
   },
   {
    "duration": 6,
    "start_time": "2022-08-09T12:05:39.632Z"
   },
   {
    "duration": 224,
    "start_time": "2022-08-09T12:05:39.639Z"
   },
   {
    "duration": 7,
    "start_time": "2022-08-09T12:05:39.864Z"
   },
   {
    "duration": 296,
    "start_time": "2022-08-09T12:05:39.873Z"
   },
   {
    "duration": 6,
    "start_time": "2022-08-09T12:05:40.171Z"
   },
   {
    "duration": 309,
    "start_time": "2022-08-09T12:05:40.179Z"
   },
   {
    "duration": 566,
    "start_time": "2022-08-09T12:05:40.490Z"
   },
   {
    "duration": 213,
    "start_time": "2022-08-09T12:05:41.058Z"
   },
   {
    "duration": 837,
    "start_time": "2022-08-09T12:05:41.273Z"
   },
   {
    "duration": 559,
    "start_time": "2022-08-09T12:05:42.112Z"
   },
   {
    "duration": 319,
    "start_time": "2022-08-09T12:05:42.673Z"
   },
   {
    "duration": 524,
    "start_time": "2022-08-09T12:05:42.994Z"
   },
   {
    "duration": 8,
    "start_time": "2022-08-09T12:05:43.519Z"
   },
   {
    "duration": 213,
    "start_time": "2022-08-09T12:05:43.528Z"
   },
   {
    "duration": 209,
    "start_time": "2022-08-09T12:05:43.743Z"
   },
   {
    "duration": 7,
    "start_time": "2022-08-09T12:05:43.954Z"
   },
   {
    "duration": 240,
    "start_time": "2022-08-09T12:05:43.963Z"
   },
   {
    "duration": 171,
    "start_time": "2022-08-09T12:05:44.204Z"
   },
   {
    "duration": 322,
    "start_time": "2022-08-09T12:05:44.376Z"
   },
   {
    "duration": 226,
    "start_time": "2022-08-09T12:05:44.699Z"
   },
   {
    "duration": 174,
    "start_time": "2022-08-09T12:05:44.926Z"
   },
   {
    "duration": 69,
    "start_time": "2022-08-09T12:05:45.102Z"
   },
   {
    "duration": 449,
    "start_time": "2022-08-09T12:05:45.173Z"
   },
   {
    "duration": 422,
    "start_time": "2022-08-09T12:05:45.623Z"
   },
   {
    "duration": 11,
    "start_time": "2022-08-09T12:05:46.048Z"
   },
   {
    "duration": 14,
    "start_time": "2022-08-09T12:05:46.061Z"
   },
   {
    "duration": 981,
    "start_time": "2022-08-09T12:05:46.077Z"
   },
   {
    "duration": 276,
    "start_time": "2022-08-09T12:05:47.060Z"
   },
   {
    "duration": 1405,
    "start_time": "2022-08-09T12:05:47.338Z"
   },
   {
    "duration": 5,
    "start_time": "2022-08-09T12:05:48.746Z"
   },
   {
    "duration": 7,
    "start_time": "2022-08-09T12:05:48.752Z"
   },
   {
    "duration": 332,
    "start_time": "2022-08-09T12:05:48.761Z"
   },
   {
    "duration": 5,
    "start_time": "2022-08-09T12:05:49.096Z"
   },
   {
    "duration": 190,
    "start_time": "2022-08-09T12:05:49.109Z"
   },
   {
    "duration": 9,
    "start_time": "2022-08-09T12:05:49.301Z"
   },
   {
    "duration": 174,
    "start_time": "2022-08-09T12:05:49.311Z"
   },
   {
    "duration": 5,
    "start_time": "2022-08-09T12:05:49.487Z"
   },
   {
    "duration": 197,
    "start_time": "2022-08-09T12:05:49.493Z"
   },
   {
    "duration": 6,
    "start_time": "2022-08-09T12:05:49.691Z"
   },
   {
    "duration": 35,
    "start_time": "2022-08-09T12:05:49.698Z"
   },
   {
    "duration": 169,
    "start_time": "2022-08-09T12:05:49.735Z"
   },
   {
    "duration": 810,
    "start_time": "2022-08-09T12:05:49.905Z"
   },
   {
    "duration": 833,
    "start_time": "2022-08-09T12:05:50.717Z"
   },
   {
    "duration": 759,
    "start_time": "2022-08-09T12:05:51.552Z"
   },
   {
    "duration": 8,
    "start_time": "2022-08-09T12:05:52.312Z"
   },
   {
    "duration": 11,
    "start_time": "2022-08-09T12:05:52.322Z"
   },
   {
    "duration": 7,
    "start_time": "2022-08-09T12:05:52.335Z"
   },
   {
    "duration": 10,
    "start_time": "2022-08-09T12:05:52.343Z"
   },
   {
    "duration": 15,
    "start_time": "2022-08-09T12:05:52.354Z"
   },
   {
    "duration": 14,
    "start_time": "2022-08-09T12:05:52.371Z"
   },
   {
    "duration": 166,
    "start_time": "2022-08-09T12:05:52.409Z"
   },
   {
    "duration": 1535,
    "start_time": "2022-08-09T12:05:52.577Z"
   },
   {
    "duration": 1511,
    "start_time": "2022-08-09T12:05:54.114Z"
   },
   {
    "duration": 192,
    "start_time": "2022-08-09T12:05:55.627Z"
   },
   {
    "duration": 2727,
    "start_time": "2022-08-09T12:05:55.821Z"
   },
   {
    "duration": 2536,
    "start_time": "2022-08-09T12:05:58.550Z"
   },
   {
    "duration": 176,
    "start_time": "2022-08-09T12:06:01.088Z"
   },
   {
    "duration": 897,
    "start_time": "2022-08-09T12:06:01.266Z"
   },
   {
    "duration": 988,
    "start_time": "2022-08-09T12:06:02.165Z"
   },
   {
    "duration": 9,
    "start_time": "2022-08-09T12:06:03.155Z"
   },
   {
    "duration": 73,
    "start_time": "2022-08-09T12:06:03.166Z"
   },
   {
    "duration": 42,
    "start_time": "2022-08-09T12:06:03.241Z"
   },
   {
    "duration": 16,
    "start_time": "2022-08-09T12:06:03.284Z"
   },
   {
    "duration": 7,
    "start_time": "2022-08-09T12:06:03.301Z"
   },
   {
    "duration": 23,
    "start_time": "2022-08-09T12:06:03.310Z"
   },
   {
    "duration": 182,
    "start_time": "2022-08-09T12:06:03.334Z"
   },
   {
    "duration": 15,
    "start_time": "2022-08-09T12:06:03.518Z"
   },
   {
    "duration": 233,
    "start_time": "2022-08-09T12:06:03.534Z"
   },
   {
    "duration": 16,
    "start_time": "2022-08-09T12:06:03.769Z"
   },
   {
    "duration": 253,
    "start_time": "2022-08-09T12:06:03.786Z"
   },
   {
    "duration": 10,
    "start_time": "2022-08-09T12:06:04.041Z"
   },
   {
    "duration": 20,
    "start_time": "2022-08-09T12:06:04.053Z"
   },
   {
    "duration": 10,
    "start_time": "2022-08-09T12:06:04.075Z"
   },
   {
    "duration": 26,
    "start_time": "2022-08-09T12:06:04.086Z"
   },
   {
    "duration": 100,
    "start_time": "2022-08-09T12:06:04.113Z"
   },
   {
    "duration": 270,
    "start_time": "2022-08-09T12:06:04.214Z"
   },
   {
    "duration": 5,
    "start_time": "2022-08-09T12:06:04.486Z"
   },
   {
    "duration": 11,
    "start_time": "2022-08-09T12:31:20.366Z"
   },
   {
    "duration": 13,
    "start_time": "2022-08-09T12:32:33.639Z"
   },
   {
    "duration": 78,
    "start_time": "2022-08-09T12:33:38.776Z"
   },
   {
    "duration": 15,
    "start_time": "2022-08-09T12:34:02.719Z"
   },
   {
    "duration": 6,
    "start_time": "2022-08-09T12:34:19.196Z"
   },
   {
    "duration": 13,
    "start_time": "2022-08-09T12:34:54.666Z"
   },
   {
    "duration": 15,
    "start_time": "2022-08-09T12:35:08.467Z"
   },
   {
    "duration": 8,
    "start_time": "2022-08-09T12:36:40.252Z"
   },
   {
    "duration": 7,
    "start_time": "2022-08-09T12:36:59.942Z"
   },
   {
    "duration": 10,
    "start_time": "2022-08-09T12:37:13.328Z"
   },
   {
    "duration": 129,
    "start_time": "2022-08-09T12:37:45.793Z"
   },
   {
    "duration": 124,
    "start_time": "2022-08-09T12:37:58.270Z"
   },
   {
    "duration": 126,
    "start_time": "2022-08-09T12:38:38.214Z"
   },
   {
    "duration": 231,
    "start_time": "2022-08-09T12:41:12.710Z"
   },
   {
    "duration": 349,
    "start_time": "2022-08-09T12:41:25.570Z"
   },
   {
    "duration": 235,
    "start_time": "2022-08-09T12:41:36.333Z"
   },
   {
    "duration": 236,
    "start_time": "2022-08-09T12:41:52.096Z"
   },
   {
    "duration": 232,
    "start_time": "2022-08-09T12:42:06.854Z"
   },
   {
    "duration": 4,
    "start_time": "2022-08-09T12:57:46.575Z"
   },
   {
    "duration": 4,
    "start_time": "2022-08-09T12:57:51.071Z"
   },
   {
    "duration": 11,
    "start_time": "2022-08-09T12:57:53.814Z"
   },
   {
    "duration": 12,
    "start_time": "2022-08-09T12:58:01.600Z"
   },
   {
    "duration": 5,
    "start_time": "2022-08-09T12:58:56.548Z"
   },
   {
    "duration": 11,
    "start_time": "2022-08-09T12:59:04.801Z"
   },
   {
    "duration": 2,
    "start_time": "2022-08-09T13:04:34.799Z"
   },
   {
    "duration": 15,
    "start_time": "2022-08-09T13:04:41.265Z"
   },
   {
    "duration": 4,
    "start_time": "2022-08-09T13:05:42.237Z"
   },
   {
    "duration": 99,
    "start_time": "2022-08-09T13:09:03.745Z"
   },
   {
    "duration": 397,
    "start_time": "2022-08-09T13:12:37.546Z"
   },
   {
    "duration": 97,
    "start_time": "2022-08-09T13:12:37.945Z"
   },
   {
    "duration": 3,
    "start_time": "2022-08-09T13:12:38.043Z"
   },
   {
    "duration": 19,
    "start_time": "2022-08-09T13:12:38.048Z"
   },
   {
    "duration": 55,
    "start_time": "2022-08-09T13:12:38.069Z"
   },
   {
    "duration": 2212,
    "start_time": "2022-08-09T13:12:38.126Z"
   },
   {
    "duration": 10,
    "start_time": "2022-08-09T13:12:40.340Z"
   },
   {
    "duration": 599,
    "start_time": "2022-08-09T13:12:40.352Z"
   },
   {
    "duration": 5,
    "start_time": "2022-08-09T13:12:40.953Z"
   },
   {
    "duration": 6,
    "start_time": "2022-08-09T13:12:40.961Z"
   },
   {
    "duration": 13,
    "start_time": "2022-08-09T13:12:40.968Z"
   },
   {
    "duration": 28,
    "start_time": "2022-08-09T13:12:40.983Z"
   },
   {
    "duration": 13,
    "start_time": "2022-08-09T13:12:41.013Z"
   },
   {
    "duration": 17,
    "start_time": "2022-08-09T13:12:41.028Z"
   },
   {
    "duration": 5,
    "start_time": "2022-08-09T13:12:41.047Z"
   },
   {
    "duration": 8,
    "start_time": "2022-08-09T13:12:41.054Z"
   },
   {
    "duration": 194,
    "start_time": "2022-08-09T13:12:41.063Z"
   },
   {
    "duration": 10,
    "start_time": "2022-08-09T13:12:41.259Z"
   },
   {
    "duration": 8,
    "start_time": "2022-08-09T13:12:41.271Z"
   },
   {
    "duration": 9,
    "start_time": "2022-08-09T13:12:41.280Z"
   },
   {
    "duration": 6,
    "start_time": "2022-08-09T13:12:41.309Z"
   },
   {
    "duration": 12,
    "start_time": "2022-08-09T13:12:41.317Z"
   },
   {
    "duration": 13,
    "start_time": "2022-08-09T13:12:41.330Z"
   },
   {
    "duration": 20,
    "start_time": "2022-08-09T13:12:41.345Z"
   },
   {
    "duration": 19,
    "start_time": "2022-08-09T13:12:41.367Z"
   },
   {
    "duration": 11,
    "start_time": "2022-08-09T13:12:41.388Z"
   },
   {
    "duration": 10,
    "start_time": "2022-08-09T13:12:41.401Z"
   },
   {
    "duration": 21,
    "start_time": "2022-08-09T13:12:41.415Z"
   },
   {
    "duration": 11,
    "start_time": "2022-08-09T13:12:41.438Z"
   },
   {
    "duration": 1531,
    "start_time": "2022-08-09T13:12:41.450Z"
   },
   {
    "duration": 4,
    "start_time": "2022-08-09T13:12:42.982Z"
   },
   {
    "duration": 30,
    "start_time": "2022-08-09T13:12:42.988Z"
   },
   {
    "duration": 10,
    "start_time": "2022-08-09T13:12:43.019Z"
   },
   {
    "duration": 9,
    "start_time": "2022-08-09T13:12:43.031Z"
   },
   {
    "duration": 11,
    "start_time": "2022-08-09T13:12:43.041Z"
   },
   {
    "duration": 21,
    "start_time": "2022-08-09T13:12:43.053Z"
   },
   {
    "duration": 38,
    "start_time": "2022-08-09T13:12:43.076Z"
   },
   {
    "duration": 24,
    "start_time": "2022-08-09T13:12:43.117Z"
   },
   {
    "duration": 1512,
    "start_time": "2022-08-09T13:12:43.143Z"
   },
   {
    "duration": 1532,
    "start_time": "2022-08-09T13:12:44.657Z"
   },
   {
    "duration": 4,
    "start_time": "2022-08-09T13:12:46.191Z"
   },
   {
    "duration": 17,
    "start_time": "2022-08-09T13:12:46.197Z"
   },
   {
    "duration": 14,
    "start_time": "2022-08-09T13:12:46.216Z"
   },
   {
    "duration": 17,
    "start_time": "2022-08-09T13:12:46.231Z"
   },
   {
    "duration": 11,
    "start_time": "2022-08-09T13:12:46.250Z"
   },
   {
    "duration": 1570,
    "start_time": "2022-08-09T13:12:46.263Z"
   },
   {
    "duration": 1493,
    "start_time": "2022-08-09T13:12:47.834Z"
   },
   {
    "duration": 1524,
    "start_time": "2022-08-09T13:12:49.328Z"
   },
   {
    "duration": 4,
    "start_time": "2022-08-09T13:12:50.854Z"
   },
   {
    "duration": 23,
    "start_time": "2022-08-09T13:12:50.861Z"
   },
   {
    "duration": 20,
    "start_time": "2022-08-09T13:12:50.886Z"
   },
   {
    "duration": 37,
    "start_time": "2022-08-09T13:12:50.907Z"
   },
   {
    "duration": 14,
    "start_time": "2022-08-09T13:12:50.945Z"
   },
   {
    "duration": 15,
    "start_time": "2022-08-09T13:12:50.960Z"
   },
   {
    "duration": 13,
    "start_time": "2022-08-09T13:12:50.976Z"
   },
   {
    "duration": 27,
    "start_time": "2022-08-09T13:12:50.991Z"
   },
   {
    "duration": 8,
    "start_time": "2022-08-09T13:12:51.020Z"
   },
   {
    "duration": 28,
    "start_time": "2022-08-09T13:12:51.029Z"
   },
   {
    "duration": 16,
    "start_time": "2022-08-09T13:12:51.059Z"
   },
   {
    "duration": 212,
    "start_time": "2022-08-09T13:12:51.077Z"
   },
   {
    "duration": 4,
    "start_time": "2022-08-09T13:12:51.290Z"
   },
   {
    "duration": 532,
    "start_time": "2022-08-09T13:12:51.308Z"
   },
   {
    "duration": 200,
    "start_time": "2022-08-09T13:12:51.842Z"
   },
   {
    "duration": 199,
    "start_time": "2022-08-09T13:12:52.044Z"
   },
   {
    "duration": 2293,
    "start_time": "2022-08-09T13:12:52.246Z"
   },
   {
    "duration": 186,
    "start_time": "2022-08-09T13:12:54.540Z"
   },
   {
    "duration": 26,
    "start_time": "2022-08-09T13:12:54.728Z"
   },
   {
    "duration": 10,
    "start_time": "2022-08-09T13:12:54.755Z"
   },
   {
    "duration": 211,
    "start_time": "2022-08-09T13:12:54.766Z"
   },
   {
    "duration": 42,
    "start_time": "2022-08-09T13:12:54.979Z"
   },
   {
    "duration": 9,
    "start_time": "2022-08-09T13:12:55.022Z"
   },
   {
    "duration": 9,
    "start_time": "2022-08-09T13:12:55.033Z"
   },
   {
    "duration": 8,
    "start_time": "2022-08-09T13:12:55.044Z"
   },
   {
    "duration": 259,
    "start_time": "2022-08-09T13:12:55.054Z"
   },
   {
    "duration": 26,
    "start_time": "2022-08-09T13:12:55.314Z"
   },
   {
    "duration": 9,
    "start_time": "2022-08-09T13:12:55.342Z"
   },
   {
    "duration": 230,
    "start_time": "2022-08-09T13:12:55.352Z"
   },
   {
    "duration": 602,
    "start_time": "2022-08-09T13:12:55.585Z"
   },
   {
    "duration": 4,
    "start_time": "2022-08-09T13:12:56.189Z"
   },
   {
    "duration": 32,
    "start_time": "2022-08-09T13:12:56.195Z"
   },
   {
    "duration": 205,
    "start_time": "2022-08-09T13:12:56.229Z"
   },
   {
    "duration": 6,
    "start_time": "2022-08-09T13:12:56.442Z"
   },
   {
    "duration": 12,
    "start_time": "2022-08-09T13:12:56.449Z"
   },
   {
    "duration": 5,
    "start_time": "2022-08-09T13:12:56.462Z"
   },
   {
    "duration": 215,
    "start_time": "2022-08-09T13:12:56.469Z"
   },
   {
    "duration": 5,
    "start_time": "2022-08-09T13:12:56.685Z"
   },
   {
    "duration": 19,
    "start_time": "2022-08-09T13:12:56.691Z"
   },
   {
    "duration": 9,
    "start_time": "2022-08-09T13:12:56.712Z"
   },
   {
    "duration": 10,
    "start_time": "2022-08-09T13:12:56.722Z"
   },
   {
    "duration": 9,
    "start_time": "2022-08-09T13:12:56.734Z"
   },
   {
    "duration": 7,
    "start_time": "2022-08-09T13:12:56.745Z"
   },
   {
    "duration": 15,
    "start_time": "2022-08-09T13:12:56.754Z"
   },
   {
    "duration": 5,
    "start_time": "2022-08-09T13:12:56.771Z"
   },
   {
    "duration": 6,
    "start_time": "2022-08-09T13:12:56.778Z"
   },
   {
    "duration": 278,
    "start_time": "2022-08-09T13:12:56.785Z"
   },
   {
    "duration": 4,
    "start_time": "2022-08-09T13:12:57.064Z"
   },
   {
    "duration": 6,
    "start_time": "2022-08-09T13:12:57.070Z"
   },
   {
    "duration": 32,
    "start_time": "2022-08-09T13:12:57.078Z"
   },
   {
    "duration": 260,
    "start_time": "2022-08-09T13:12:57.112Z"
   },
   {
    "duration": 13,
    "start_time": "2022-08-09T13:12:57.374Z"
   },
   {
    "duration": 27,
    "start_time": "2022-08-09T13:12:57.390Z"
   },
   {
    "duration": 9,
    "start_time": "2022-08-09T13:12:57.419Z"
   },
   {
    "duration": 242,
    "start_time": "2022-08-09T13:12:57.430Z"
   },
   {
    "duration": 11,
    "start_time": "2022-08-09T13:12:57.674Z"
   },
   {
    "duration": 24,
    "start_time": "2022-08-09T13:12:57.687Z"
   },
   {
    "duration": 7,
    "start_time": "2022-08-09T13:12:57.713Z"
   },
   {
    "duration": 291,
    "start_time": "2022-08-09T13:12:57.721Z"
   },
   {
    "duration": 225,
    "start_time": "2022-08-09T13:12:58.013Z"
   },
   {
    "duration": 213,
    "start_time": "2022-08-09T13:12:58.240Z"
   },
   {
    "duration": 6,
    "start_time": "2022-08-09T13:12:58.455Z"
   },
   {
    "duration": 215,
    "start_time": "2022-08-09T13:12:58.462Z"
   },
   {
    "duration": 6,
    "start_time": "2022-08-09T13:12:58.679Z"
   },
   {
    "duration": 277,
    "start_time": "2022-08-09T13:12:58.687Z"
   },
   {
    "duration": 6,
    "start_time": "2022-08-09T13:12:58.966Z"
   },
   {
    "duration": 303,
    "start_time": "2022-08-09T13:12:58.974Z"
   },
   {
    "duration": 557,
    "start_time": "2022-08-09T13:12:59.279Z"
   },
   {
    "duration": 209,
    "start_time": "2022-08-09T13:12:59.837Z"
   },
   {
    "duration": 780,
    "start_time": "2022-08-09T13:13:00.048Z"
   },
   {
    "duration": 559,
    "start_time": "2022-08-09T13:13:00.830Z"
   },
   {
    "duration": 340,
    "start_time": "2022-08-09T13:13:01.390Z"
   },
   {
    "duration": 556,
    "start_time": "2022-08-09T13:13:01.733Z"
   },
   {
    "duration": 19,
    "start_time": "2022-08-09T13:13:02.291Z"
   },
   {
    "duration": 198,
    "start_time": "2022-08-09T13:13:02.311Z"
   },
   {
    "duration": 222,
    "start_time": "2022-08-09T13:13:02.511Z"
   },
   {
    "duration": 8,
    "start_time": "2022-08-09T13:13:02.735Z"
   },
   {
    "duration": 247,
    "start_time": "2022-08-09T13:13:02.745Z"
   },
   {
    "duration": 178,
    "start_time": "2022-08-09T13:13:02.994Z"
   },
   {
    "duration": 322,
    "start_time": "2022-08-09T13:13:03.174Z"
   },
   {
    "duration": 239,
    "start_time": "2022-08-09T13:13:03.498Z"
   },
   {
    "duration": 195,
    "start_time": "2022-08-09T13:13:03.739Z"
   },
   {
    "duration": 79,
    "start_time": "2022-08-09T13:13:03.936Z"
   },
   {
    "duration": 461,
    "start_time": "2022-08-09T13:13:04.017Z"
   },
   {
    "duration": 414,
    "start_time": "2022-08-09T13:13:04.480Z"
   },
   {
    "duration": 14,
    "start_time": "2022-08-09T13:13:04.895Z"
   },
   {
    "duration": 8,
    "start_time": "2022-08-09T13:13:04.911Z"
   },
   {
    "duration": 999,
    "start_time": "2022-08-09T13:13:04.921Z"
   },
   {
    "duration": 301,
    "start_time": "2022-08-09T13:13:05.922Z"
   },
   {
    "duration": 242,
    "start_time": "2022-08-09T13:13:06.225Z"
   },
   {
    "duration": 1494,
    "start_time": "2022-08-09T13:13:06.469Z"
   },
   {
    "duration": 6,
    "start_time": "2022-08-09T13:13:07.965Z"
   },
   {
    "duration": 18,
    "start_time": "2022-08-09T13:13:07.972Z"
   },
   {
    "duration": 331,
    "start_time": "2022-08-09T13:13:07.992Z"
   },
   {
    "duration": 5,
    "start_time": "2022-08-09T13:13:08.325Z"
   },
   {
    "duration": 213,
    "start_time": "2022-08-09T13:13:08.332Z"
   },
   {
    "duration": 5,
    "start_time": "2022-08-09T13:13:08.547Z"
   },
   {
    "duration": 189,
    "start_time": "2022-08-09T13:13:08.554Z"
   },
   {
    "duration": 5,
    "start_time": "2022-08-09T13:13:08.745Z"
   },
   {
    "duration": 208,
    "start_time": "2022-08-09T13:13:08.752Z"
   },
   {
    "duration": 6,
    "start_time": "2022-08-09T13:13:08.961Z"
   },
   {
    "duration": 13,
    "start_time": "2022-08-09T13:13:08.969Z"
   },
   {
    "duration": 188,
    "start_time": "2022-08-09T13:13:08.983Z"
   },
   {
    "duration": 816,
    "start_time": "2022-08-09T13:13:09.173Z"
   },
   {
    "duration": 867,
    "start_time": "2022-08-09T13:13:09.991Z"
   },
   {
    "duration": 787,
    "start_time": "2022-08-09T13:13:10.861Z"
   },
   {
    "duration": 11,
    "start_time": "2022-08-09T13:13:11.650Z"
   },
   {
    "duration": 11,
    "start_time": "2022-08-09T13:13:11.663Z"
   },
   {
    "duration": 14,
    "start_time": "2022-08-09T13:13:11.676Z"
   },
   {
    "duration": 28,
    "start_time": "2022-08-09T13:13:11.692Z"
   },
   {
    "duration": 12,
    "start_time": "2022-08-09T13:13:11.722Z"
   },
   {
    "duration": 18,
    "start_time": "2022-08-09T13:13:11.736Z"
   },
   {
    "duration": 203,
    "start_time": "2022-08-09T13:13:11.756Z"
   },
   {
    "duration": 1601,
    "start_time": "2022-08-09T13:13:11.960Z"
   },
   {
    "duration": 1556,
    "start_time": "2022-08-09T13:13:13.563Z"
   },
   {
    "duration": 186,
    "start_time": "2022-08-09T13:13:15.121Z"
   },
   {
    "duration": 2744,
    "start_time": "2022-08-09T13:13:15.309Z"
   },
   {
    "duration": 2522,
    "start_time": "2022-08-09T13:13:18.055Z"
   },
   {
    "duration": 187,
    "start_time": "2022-08-09T13:13:20.579Z"
   },
   {
    "duration": 890,
    "start_time": "2022-08-09T13:13:20.767Z"
   },
   {
    "duration": 1079,
    "start_time": "2022-08-09T13:13:21.659Z"
   },
   {
    "duration": 8,
    "start_time": "2022-08-09T13:13:22.739Z"
   },
   {
    "duration": 14,
    "start_time": "2022-08-09T13:13:22.749Z"
   },
   {
    "duration": 8,
    "start_time": "2022-08-09T13:13:22.765Z"
   },
   {
    "duration": 38,
    "start_time": "2022-08-09T13:13:22.775Z"
   },
   {
    "duration": 8,
    "start_time": "2022-08-09T13:13:22.814Z"
   },
   {
    "duration": 24,
    "start_time": "2022-08-09T13:13:22.823Z"
   },
   {
    "duration": 197,
    "start_time": "2022-08-09T13:13:22.848Z"
   },
   {
    "duration": 16,
    "start_time": "2022-08-09T13:13:23.047Z"
   },
   {
    "duration": 235,
    "start_time": "2022-08-09T13:13:23.064Z"
   },
   {
    "duration": 15,
    "start_time": "2022-08-09T13:13:23.308Z"
   },
   {
    "duration": 243,
    "start_time": "2022-08-09T13:13:23.324Z"
   },
   {
    "duration": 12,
    "start_time": "2022-08-09T13:13:23.569Z"
   },
   {
    "duration": 27,
    "start_time": "2022-08-09T13:13:23.583Z"
   },
   {
    "duration": 11,
    "start_time": "2022-08-09T13:13:23.612Z"
   },
   {
    "duration": 12,
    "start_time": "2022-08-09T13:13:23.626Z"
   },
   {
    "duration": 25,
    "start_time": "2022-08-09T13:13:23.639Z"
   },
   {
    "duration": 304,
    "start_time": "2022-08-09T13:13:23.666Z"
   },
   {
    "duration": 6,
    "start_time": "2022-08-09T13:13:23.972Z"
   },
   {
    "duration": 189,
    "start_time": "2022-08-09T13:16:28.026Z"
   },
   {
    "duration": 59,
    "start_time": "2022-08-09T13:17:17.269Z"
   },
   {
    "duration": 477,
    "start_time": "2022-08-09T20:09:50.275Z"
   },
   {
    "duration": 94,
    "start_time": "2022-08-09T20:09:50.754Z"
   },
   {
    "duration": 3,
    "start_time": "2022-08-09T20:09:50.850Z"
   },
   {
    "duration": 21,
    "start_time": "2022-08-09T20:09:50.856Z"
   },
   {
    "duration": 32,
    "start_time": "2022-08-09T20:09:50.898Z"
   },
   {
    "duration": 2038,
    "start_time": "2022-08-09T20:09:50.932Z"
   },
   {
    "duration": 9,
    "start_time": "2022-08-09T20:09:52.971Z"
   },
   {
    "duration": 584,
    "start_time": "2022-08-09T20:09:52.981Z"
   },
   {
    "duration": 5,
    "start_time": "2022-08-09T20:09:53.567Z"
   },
   {
    "duration": 8,
    "start_time": "2022-08-09T20:09:53.574Z"
   },
   {
    "duration": 20,
    "start_time": "2022-08-09T20:09:53.583Z"
   },
   {
    "duration": 7,
    "start_time": "2022-08-09T20:09:53.604Z"
   },
   {
    "duration": 5,
    "start_time": "2022-08-09T20:09:53.613Z"
   },
   {
    "duration": 9,
    "start_time": "2022-08-09T20:09:53.620Z"
   },
   {
    "duration": 4,
    "start_time": "2022-08-09T20:09:53.631Z"
   },
   {
    "duration": 7,
    "start_time": "2022-08-09T20:09:53.637Z"
   },
   {
    "duration": 196,
    "start_time": "2022-08-09T20:09:53.646Z"
   },
   {
    "duration": 12,
    "start_time": "2022-08-09T20:09:53.844Z"
   },
   {
    "duration": 6,
    "start_time": "2022-08-09T20:09:53.857Z"
   },
   {
    "duration": 9,
    "start_time": "2022-08-09T20:09:53.865Z"
   },
   {
    "duration": 8,
    "start_time": "2022-08-09T20:09:53.898Z"
   },
   {
    "duration": 11,
    "start_time": "2022-08-09T20:09:53.907Z"
   },
   {
    "duration": 5,
    "start_time": "2022-08-09T20:09:53.920Z"
   },
   {
    "duration": 22,
    "start_time": "2022-08-09T20:09:53.927Z"
   },
   {
    "duration": 20,
    "start_time": "2022-08-09T20:09:53.951Z"
   },
   {
    "duration": 13,
    "start_time": "2022-08-09T20:09:53.972Z"
   },
   {
    "duration": 13,
    "start_time": "2022-08-09T20:09:53.986Z"
   },
   {
    "duration": 7,
    "start_time": "2022-08-09T20:09:54.003Z"
   },
   {
    "duration": 8,
    "start_time": "2022-08-09T20:09:54.011Z"
   },
   {
    "duration": 1700,
    "start_time": "2022-08-09T20:09:54.021Z"
   },
   {
    "duration": 4,
    "start_time": "2022-08-09T20:09:55.723Z"
   },
   {
    "duration": 19,
    "start_time": "2022-08-09T20:09:55.729Z"
   },
   {
    "duration": 10,
    "start_time": "2022-08-09T20:09:55.750Z"
   },
   {
    "duration": 8,
    "start_time": "2022-08-09T20:09:55.761Z"
   },
   {
    "duration": 31,
    "start_time": "2022-08-09T20:09:55.771Z"
   },
   {
    "duration": 9,
    "start_time": "2022-08-09T20:09:55.804Z"
   },
   {
    "duration": 6,
    "start_time": "2022-08-09T20:09:55.814Z"
   },
   {
    "duration": 9,
    "start_time": "2022-08-09T20:09:55.821Z"
   },
   {
    "duration": 1643,
    "start_time": "2022-08-09T20:09:55.832Z"
   },
   {
    "duration": 1556,
    "start_time": "2022-08-09T20:09:57.477Z"
   },
   {
    "duration": 4,
    "start_time": "2022-08-09T20:09:59.035Z"
   },
   {
    "duration": 12,
    "start_time": "2022-08-09T20:09:59.040Z"
   },
   {
    "duration": 8,
    "start_time": "2022-08-09T20:09:59.053Z"
   },
   {
    "duration": 12,
    "start_time": "2022-08-09T20:09:59.062Z"
   },
   {
    "duration": 24,
    "start_time": "2022-08-09T20:09:59.075Z"
   },
   {
    "duration": 1636,
    "start_time": "2022-08-09T20:09:59.101Z"
   },
   {
    "duration": 1590,
    "start_time": "2022-08-09T20:10:00.739Z"
   },
   {
    "duration": 1560,
    "start_time": "2022-08-09T20:10:02.330Z"
   },
   {
    "duration": 5,
    "start_time": "2022-08-09T20:10:03.891Z"
   },
   {
    "duration": 5,
    "start_time": "2022-08-09T20:10:03.898Z"
   },
   {
    "duration": 5,
    "start_time": "2022-08-09T20:10:03.904Z"
   },
   {
    "duration": 34,
    "start_time": "2022-08-09T20:10:03.910Z"
   },
   {
    "duration": 14,
    "start_time": "2022-08-09T20:10:03.946Z"
   },
   {
    "duration": 6,
    "start_time": "2022-08-09T20:10:03.962Z"
   },
   {
    "duration": 8,
    "start_time": "2022-08-09T20:10:03.998Z"
   },
   {
    "duration": 17,
    "start_time": "2022-08-09T20:10:04.008Z"
   },
   {
    "duration": 5,
    "start_time": "2022-08-09T20:10:04.027Z"
   },
   {
    "duration": 12,
    "start_time": "2022-08-09T20:10:04.033Z"
   },
   {
    "duration": 15,
    "start_time": "2022-08-09T20:10:04.047Z"
   },
   {
    "duration": 244,
    "start_time": "2022-08-09T20:10:04.064Z"
   },
   {
    "duration": 4,
    "start_time": "2022-08-09T20:10:04.310Z"
   },
   {
    "duration": 550,
    "start_time": "2022-08-09T20:10:04.315Z"
   },
   {
    "duration": 198,
    "start_time": "2022-08-09T20:10:04.868Z"
   },
   {
    "duration": 202,
    "start_time": "2022-08-09T20:10:05.067Z"
   },
   {
    "duration": 2162,
    "start_time": "2022-08-09T20:10:05.271Z"
   },
   {
    "duration": 183,
    "start_time": "2022-08-09T20:10:07.435Z"
   },
   {
    "duration": 27,
    "start_time": "2022-08-09T20:10:07.620Z"
   },
   {
    "duration": 7,
    "start_time": "2022-08-09T20:10:07.648Z"
   },
   {
    "duration": 226,
    "start_time": "2022-08-09T20:10:07.656Z"
   },
   {
    "duration": 39,
    "start_time": "2022-08-09T20:10:07.884Z"
   },
   {
    "duration": 6,
    "start_time": "2022-08-09T20:10:07.925Z"
   },
   {
    "duration": 10,
    "start_time": "2022-08-09T20:10:07.932Z"
   },
   {
    "duration": 8,
    "start_time": "2022-08-09T20:10:07.944Z"
   },
   {
    "duration": 222,
    "start_time": "2022-08-09T20:10:07.954Z"
   },
   {
    "duration": 28,
    "start_time": "2022-08-09T20:10:08.177Z"
   },
   {
    "duration": 9,
    "start_time": "2022-08-09T20:10:08.206Z"
   },
   {
    "duration": 218,
    "start_time": "2022-08-09T20:10:08.217Z"
   },
   {
    "duration": 503,
    "start_time": "2022-08-09T20:10:08.437Z"
   },
   {
    "duration": 3,
    "start_time": "2022-08-09T20:10:08.942Z"
   },
   {
    "duration": 12,
    "start_time": "2022-08-09T20:10:08.946Z"
   },
   {
    "duration": 208,
    "start_time": "2022-08-09T20:10:08.960Z"
   },
   {
    "duration": 6,
    "start_time": "2022-08-09T20:10:09.175Z"
   },
   {
    "duration": 20,
    "start_time": "2022-08-09T20:10:09.182Z"
   },
   {
    "duration": 5,
    "start_time": "2022-08-09T20:10:09.203Z"
   },
   {
    "duration": 216,
    "start_time": "2022-08-09T20:10:09.210Z"
   },
   {
    "duration": 5,
    "start_time": "2022-08-09T20:10:09.428Z"
   },
   {
    "duration": 7,
    "start_time": "2022-08-09T20:10:09.434Z"
   },
   {
    "duration": 14,
    "start_time": "2022-08-09T20:10:09.443Z"
   },
   {
    "duration": 5,
    "start_time": "2022-08-09T20:10:09.459Z"
   },
   {
    "duration": 10,
    "start_time": "2022-08-09T20:10:09.465Z"
   },
   {
    "duration": 22,
    "start_time": "2022-08-09T20:10:09.476Z"
   },
   {
    "duration": 5,
    "start_time": "2022-08-09T20:10:09.500Z"
   },
   {
    "duration": 4,
    "start_time": "2022-08-09T20:10:09.507Z"
   },
   {
    "duration": 3,
    "start_time": "2022-08-09T20:10:09.513Z"
   },
   {
    "duration": 302,
    "start_time": "2022-08-09T20:10:09.518Z"
   },
   {
    "duration": 4,
    "start_time": "2022-08-09T20:10:09.822Z"
   },
   {
    "duration": 6,
    "start_time": "2022-08-09T20:10:09.827Z"
   },
   {
    "duration": 17,
    "start_time": "2022-08-09T20:10:09.834Z"
   },
   {
    "duration": 211,
    "start_time": "2022-08-09T20:10:09.853Z"
   },
   {
    "duration": 10,
    "start_time": "2022-08-09T20:10:10.066Z"
   },
   {
    "duration": 7,
    "start_time": "2022-08-09T20:10:10.077Z"
   },
   {
    "duration": 6,
    "start_time": "2022-08-09T20:10:10.098Z"
   },
   {
    "duration": 220,
    "start_time": "2022-08-09T20:10:10.106Z"
   },
   {
    "duration": 12,
    "start_time": "2022-08-09T20:10:10.328Z"
   },
   {
    "duration": 9,
    "start_time": "2022-08-09T20:10:10.342Z"
   },
   {
    "duration": 12,
    "start_time": "2022-08-09T20:10:10.353Z"
   },
   {
    "duration": 278,
    "start_time": "2022-08-09T20:10:10.367Z"
   },
   {
    "duration": 205,
    "start_time": "2022-08-09T20:10:10.647Z"
   },
   {
    "duration": 205,
    "start_time": "2022-08-09T20:10:10.854Z"
   },
   {
    "duration": 7,
    "start_time": "2022-08-09T20:10:11.061Z"
   },
   {
    "duration": 212,
    "start_time": "2022-08-09T20:10:11.069Z"
   },
   {
    "duration": 7,
    "start_time": "2022-08-09T20:10:11.282Z"
   },
   {
    "duration": 283,
    "start_time": "2022-08-09T20:10:11.299Z"
   },
   {
    "duration": 6,
    "start_time": "2022-08-09T20:10:11.584Z"
   },
   {
    "duration": 256,
    "start_time": "2022-08-09T20:10:11.599Z"
   },
   {
    "duration": 507,
    "start_time": "2022-08-09T20:10:11.856Z"
   },
   {
    "duration": 209,
    "start_time": "2022-08-09T20:10:12.364Z"
   },
   {
    "duration": 729,
    "start_time": "2022-08-09T20:10:12.574Z"
   },
   {
    "duration": 518,
    "start_time": "2022-08-09T20:10:13.305Z"
   },
   {
    "duration": 276,
    "start_time": "2022-08-09T20:10:13.825Z"
   },
   {
    "duration": 553,
    "start_time": "2022-08-09T20:10:14.103Z"
   },
   {
    "duration": 6,
    "start_time": "2022-08-09T20:10:14.658Z"
   },
   {
    "duration": 211,
    "start_time": "2022-08-09T20:10:14.666Z"
   },
   {
    "duration": 225,
    "start_time": "2022-08-09T20:10:14.878Z"
   },
   {
    "duration": 8,
    "start_time": "2022-08-09T20:10:15.105Z"
   },
   {
    "duration": 230,
    "start_time": "2022-08-09T20:10:15.115Z"
   },
   {
    "duration": 181,
    "start_time": "2022-08-09T20:10:15.346Z"
   },
   {
    "duration": 296,
    "start_time": "2022-08-09T20:10:15.529Z"
   },
   {
    "duration": 221,
    "start_time": "2022-08-09T20:10:15.827Z"
   },
   {
    "duration": 163,
    "start_time": "2022-08-09T20:10:16.050Z"
   },
   {
    "duration": 70,
    "start_time": "2022-08-09T20:10:16.215Z"
   },
   {
    "duration": 446,
    "start_time": "2022-08-09T20:10:16.286Z"
   },
   {
    "duration": 387,
    "start_time": "2022-08-09T20:10:16.733Z"
   },
   {
    "duration": 8,
    "start_time": "2022-08-09T20:10:17.121Z"
   },
   {
    "duration": 8,
    "start_time": "2022-08-09T20:10:17.130Z"
   },
   {
    "duration": 925,
    "start_time": "2022-08-09T20:10:17.140Z"
   },
   {
    "duration": 251,
    "start_time": "2022-08-09T20:10:18.067Z"
   },
   {
    "duration": 216,
    "start_time": "2022-08-09T20:10:18.319Z"
   },
   {
    "duration": 1271,
    "start_time": "2022-08-09T20:10:18.536Z"
   },
   {
    "duration": 4,
    "start_time": "2022-08-09T20:10:19.809Z"
   },
   {
    "duration": 6,
    "start_time": "2022-08-09T20:10:19.814Z"
   },
   {
    "duration": 289,
    "start_time": "2022-08-09T20:10:19.821Z"
   },
   {
    "duration": 5,
    "start_time": "2022-08-09T20:10:20.112Z"
   },
   {
    "duration": 191,
    "start_time": "2022-08-09T20:10:20.118Z"
   },
   {
    "duration": 5,
    "start_time": "2022-08-09T20:10:20.310Z"
   },
   {
    "duration": 172,
    "start_time": "2022-08-09T20:10:20.317Z"
   },
   {
    "duration": 10,
    "start_time": "2022-08-09T20:10:20.491Z"
   },
   {
    "duration": 185,
    "start_time": "2022-08-09T20:10:20.502Z"
   },
   {
    "duration": 11,
    "start_time": "2022-08-09T20:10:20.688Z"
   },
   {
    "duration": 12,
    "start_time": "2022-08-09T20:10:20.700Z"
   },
   {
    "duration": 186,
    "start_time": "2022-08-09T20:10:20.713Z"
   },
   {
    "duration": 773,
    "start_time": "2022-08-09T20:10:20.901Z"
   },
   {
    "duration": 806,
    "start_time": "2022-08-09T20:10:21.676Z"
   },
   {
    "duration": 730,
    "start_time": "2022-08-09T20:10:22.484Z"
   },
   {
    "duration": 8,
    "start_time": "2022-08-09T20:10:23.215Z"
   },
   {
    "duration": 9,
    "start_time": "2022-08-09T20:10:23.225Z"
   },
   {
    "duration": 7,
    "start_time": "2022-08-09T20:10:23.236Z"
   },
   {
    "duration": 7,
    "start_time": "2022-08-09T20:10:23.245Z"
   },
   {
    "duration": 9,
    "start_time": "2022-08-09T20:10:23.254Z"
   },
   {
    "duration": 42,
    "start_time": "2022-08-09T20:10:23.264Z"
   },
   {
    "duration": 191,
    "start_time": "2022-08-09T20:10:23.307Z"
   },
   {
    "duration": 1625,
    "start_time": "2022-08-09T20:10:23.500Z"
   },
   {
    "duration": 1531,
    "start_time": "2022-08-09T20:10:25.127Z"
   },
   {
    "duration": 191,
    "start_time": "2022-08-09T20:10:26.660Z"
   },
   {
    "duration": 2558,
    "start_time": "2022-08-09T20:10:26.852Z"
   },
   {
    "duration": 2449,
    "start_time": "2022-08-09T20:10:29.411Z"
   },
   {
    "duration": 206,
    "start_time": "2022-08-09T20:10:31.861Z"
   },
   {
    "duration": 825,
    "start_time": "2022-08-09T20:10:32.069Z"
   },
   {
    "duration": 915,
    "start_time": "2022-08-09T20:10:32.896Z"
   },
   {
    "duration": 8,
    "start_time": "2022-08-09T20:10:33.812Z"
   },
   {
    "duration": 10,
    "start_time": "2022-08-09T20:10:33.821Z"
   },
   {
    "duration": 8,
    "start_time": "2022-08-09T20:10:33.832Z"
   },
   {
    "duration": 7,
    "start_time": "2022-08-09T20:10:33.841Z"
   },
   {
    "duration": 7,
    "start_time": "2022-08-09T20:10:33.849Z"
   },
   {
    "duration": 52,
    "start_time": "2022-08-09T20:10:33.857Z"
   },
   {
    "duration": 175,
    "start_time": "2022-08-09T20:10:33.911Z"
   },
   {
    "duration": 17,
    "start_time": "2022-08-09T20:10:34.088Z"
   },
   {
    "duration": 216,
    "start_time": "2022-08-09T20:10:34.107Z"
   },
   {
    "duration": 15,
    "start_time": "2022-08-09T20:10:34.324Z"
   },
   {
    "duration": 282,
    "start_time": "2022-08-09T20:10:34.340Z"
   },
   {
    "duration": 10,
    "start_time": "2022-08-09T20:10:34.623Z"
   },
   {
    "duration": 15,
    "start_time": "2022-08-09T20:10:34.634Z"
   },
   {
    "duration": 13,
    "start_time": "2022-08-09T20:10:34.651Z"
   },
   {
    "duration": 10,
    "start_time": "2022-08-09T20:10:34.666Z"
   },
   {
    "duration": 20,
    "start_time": "2022-08-09T20:10:34.699Z"
   },
   {
    "duration": 284,
    "start_time": "2022-08-09T20:10:34.721Z"
   },
   {
    "duration": 5,
    "start_time": "2022-08-09T20:10:35.007Z"
   },
   {
    "duration": 90,
    "start_time": "2022-08-09T20:11:55.869Z"
   },
   {
    "duration": 6,
    "start_time": "2022-08-09T20:12:37.727Z"
   }
  ],
  "kernelspec": {
   "display_name": "Python 3 (ipykernel)",
   "language": "python",
   "name": "python3"
  },
  "language_info": {
   "codemirror_mode": {
    "name": "ipython",
    "version": 3
   },
   "file_extension": ".py",
   "mimetype": "text/x-python",
   "name": "python",
   "nbconvert_exporter": "python",
   "pygments_lexer": "ipython3",
   "version": "3.9.12"
  },
  "toc": {
   "base_numbering": 1,
   "nav_menu": {},
   "number_sections": true,
   "sideBar": true,
   "skip_h1_title": true,
   "title_cell": "Table of Contents",
   "title_sidebar": "Contents",
   "toc_cell": false,
   "toc_position": {},
   "toc_section_display": true,
   "toc_window_display": false
  }
 },
 "nbformat": 4,
 "nbformat_minor": 2
}
