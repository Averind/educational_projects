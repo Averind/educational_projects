{
 "cells": [
  {
   "cell_type": "markdown",
   "id": "51021dde",
   "metadata": {},
   "source": [
    "## Подготовка данных"
   ]
  },
  {
   "cell_type": "markdown",
   "id": "d825cf93",
   "metadata": {},
   "source": [
    "### Загрузка и импорт библиотек"
   ]
  },
  {
   "cell_type": "markdown",
   "id": "824fc603",
   "metadata": {},
   "source": [
    "Загрузим необходимые нам библиотеки."
   ]
  },
  {
   "cell_type": "code",
   "execution_count": 1,
   "id": "0913558c",
   "metadata": {},
   "outputs": [
    {
     "name": "stdout",
     "output_type": "stream",
     "text": [
      "Requirement already satisfied: pyexcelerate in c:\\anaconda\\lib\\site-packages (0.10.0)\n",
      "Requirement already satisfied: Jinja2 in c:\\anaconda\\lib\\site-packages (from pyexcelerate) (2.11.3)\n",
      "Requirement already satisfied: six>=1.4.0 in c:\\anaconda\\lib\\site-packages (from pyexcelerate) (1.16.0)\n",
      "Requirement already satisfied: MarkupSafe>=0.23 in c:\\anaconda\\lib\\site-packages (from Jinja2->pyexcelerate) (2.0.1)\n",
      "Note: you may need to restart the kernel to use updated packages.\n"
     ]
    }
   ],
   "source": [
    "pip install pyexcelerate"
   ]
  },
  {
   "cell_type": "code",
   "execution_count": 2,
   "id": "a969e468",
   "metadata": {},
   "outputs": [
    {
     "name": "stdout",
     "output_type": "stream",
     "text": [
      "Requirement already satisfied: pymongo in c:\\anaconda\\lib\\site-packages (4.3.2)\n",
      "Requirement already satisfied: dnspython<3.0.0,>=1.16.0 in c:\\anaconda\\lib\\site-packages (from pymongo) (2.2.1)\n",
      "Note: you may need to restart the kernel to use updated packages.\n"
     ]
    }
   ],
   "source": [
    "pip install pymongo"
   ]
  },
  {
   "cell_type": "code",
   "execution_count": 3,
   "id": "2bc2c437",
   "metadata": {},
   "outputs": [],
   "source": [
    "# импортируем необходимые нам библиотеки\n",
    "\n",
    "import pandas as pd\n",
    "from pyexcelerate import Workbook\n",
    "from pymongo import MongoClient"
   ]
  },
  {
   "cell_type": "markdown",
   "id": "afa7b23f",
   "metadata": {},
   "source": [
    "### Сохранение данных"
   ]
  },
  {
   "cell_type": "code",
   "execution_count": 4,
   "id": "105e5884",
   "metadata": {},
   "outputs": [],
   "source": [
    "# зададим названия столбцов будущего датафрейма\n",
    "\n",
    "columns = ['Id', 'Name', 'Surname', 'Age', 'Job', 'Datetime']\n",
    "\n",
    "# и данные для него\n",
    "\n",
    "data = [\n",
    "    [1, 'Alex', 'Smur', 21, 'Python Developer', '2022-01-01T09:45:12'],\n",
    "    [2, 'Justin', 'Forman', 25, 'Java Developer','2022-01-01T11:50:25'],\n",
    "    [3, 'Set', 'Carey', 35, 'Project Manager', '2022-01-01T10:00:45'],\n",
    "    [4, 'Carlos', 'Carey', 40, 'Enterprise architect', '2022-01-01T09:07:36'],\n",
    "    [5, 'Gareth', 'Chapman', 19, 'Python Developer', '2022-01-01T11:54:10'],\n",
    "    [6, 'John', 'James', 27, 'IOS Developer', '2022-01-01T09:56:40'],\n",
    "    [7, 'Bob', 'James', 25, 'Python Developer', '2022-01-01T09:52:45']\n",
    "]"
   ]
  },
  {
   "cell_type": "code",
   "execution_count": 5,
   "id": "8b6432da",
   "metadata": {},
   "outputs": [
    {
     "data": {
      "text/html": [
       "<div>\n",
       "<style scoped>\n",
       "    .dataframe tbody tr th:only-of-type {\n",
       "        vertical-align: middle;\n",
       "    }\n",
       "\n",
       "    .dataframe tbody tr th {\n",
       "        vertical-align: top;\n",
       "    }\n",
       "\n",
       "    .dataframe thead th {\n",
       "        text-align: right;\n",
       "    }\n",
       "</style>\n",
       "<table border=\"1\" class=\"dataframe\">\n",
       "  <thead>\n",
       "    <tr style=\"text-align: right;\">\n",
       "      <th></th>\n",
       "      <th>Id</th>\n",
       "      <th>Name</th>\n",
       "      <th>Surname</th>\n",
       "      <th>Age</th>\n",
       "      <th>Job</th>\n",
       "      <th>Datetime</th>\n",
       "    </tr>\n",
       "  </thead>\n",
       "  <tbody>\n",
       "    <tr>\n",
       "      <th>0</th>\n",
       "      <td>1</td>\n",
       "      <td>Alex</td>\n",
       "      <td>Smur</td>\n",
       "      <td>21</td>\n",
       "      <td>Python Developer</td>\n",
       "      <td>2022-01-01T09:45:12</td>\n",
       "    </tr>\n",
       "    <tr>\n",
       "      <th>1</th>\n",
       "      <td>2</td>\n",
       "      <td>Justin</td>\n",
       "      <td>Forman</td>\n",
       "      <td>25</td>\n",
       "      <td>Java Developer</td>\n",
       "      <td>2022-01-01T11:50:25</td>\n",
       "    </tr>\n",
       "    <tr>\n",
       "      <th>2</th>\n",
       "      <td>3</td>\n",
       "      <td>Set</td>\n",
       "      <td>Carey</td>\n",
       "      <td>35</td>\n",
       "      <td>Project Manager</td>\n",
       "      <td>2022-01-01T10:00:45</td>\n",
       "    </tr>\n",
       "    <tr>\n",
       "      <th>3</th>\n",
       "      <td>4</td>\n",
       "      <td>Carlos</td>\n",
       "      <td>Carey</td>\n",
       "      <td>40</td>\n",
       "      <td>Enterprise architect</td>\n",
       "      <td>2022-01-01T09:07:36</td>\n",
       "    </tr>\n",
       "    <tr>\n",
       "      <th>4</th>\n",
       "      <td>5</td>\n",
       "      <td>Gareth</td>\n",
       "      <td>Chapman</td>\n",
       "      <td>19</td>\n",
       "      <td>Python Developer</td>\n",
       "      <td>2022-01-01T11:54:10</td>\n",
       "    </tr>\n",
       "    <tr>\n",
       "      <th>5</th>\n",
       "      <td>6</td>\n",
       "      <td>John</td>\n",
       "      <td>James</td>\n",
       "      <td>27</td>\n",
       "      <td>IOS Developer</td>\n",
       "      <td>2022-01-01T09:56:40</td>\n",
       "    </tr>\n",
       "    <tr>\n",
       "      <th>6</th>\n",
       "      <td>7</td>\n",
       "      <td>Bob</td>\n",
       "      <td>James</td>\n",
       "      <td>25</td>\n",
       "      <td>Python Developer</td>\n",
       "      <td>2022-01-01T09:52:45</td>\n",
       "    </tr>\n",
       "  </tbody>\n",
       "</table>\n",
       "</div>"
      ],
      "text/plain": [
       "   Id    Name  Surname  Age                   Job             Datetime\n",
       "0   1    Alex     Smur   21      Python Developer  2022-01-01T09:45:12\n",
       "1   2  Justin   Forman   25        Java Developer  2022-01-01T11:50:25\n",
       "2   3     Set    Carey   35       Project Manager  2022-01-01T10:00:45\n",
       "3   4  Carlos    Carey   40  Enterprise architect  2022-01-01T09:07:36\n",
       "4   5  Gareth  Chapman   19      Python Developer  2022-01-01T11:54:10\n",
       "5   6    John    James   27         IOS Developer  2022-01-01T09:56:40\n",
       "6   7     Bob    James   25      Python Developer  2022-01-01T09:52:45"
      ]
     },
     "execution_count": 5,
     "metadata": {},
     "output_type": "execute_result"
    }
   ],
   "source": [
    "# создадим датафрейм и выведем его\n",
    "\n",
    "df = pd.DataFrame(data=data, columns=columns)\n",
    "\n",
    "df"
   ]
  },
  {
   "cell_type": "markdown",
   "id": "02765829",
   "metadata": {},
   "source": [
    "## Предобработка данных\n",
    "\n",
    "### Изменение формата данных"
   ]
  },
  {
   "cell_type": "code",
   "execution_count": 6,
   "id": "0944236f",
   "metadata": {},
   "outputs": [],
   "source": [
    "# переведем формат данных в столбце Datetime\n",
    "# из object в datetime\n",
    "\n",
    "df['Datetime'] = pd.to_datetime(\n",
    "                            df['Datetime'], \n",
    "                            format='%Y-%m-%dT%H:%M:%S'\n",
    "                            )"
   ]
  },
  {
   "cell_type": "code",
   "execution_count": 7,
   "id": "8d8272db",
   "metadata": {},
   "outputs": [
    {
     "name": "stdout",
     "output_type": "stream",
     "text": [
      "<class 'pandas.core.frame.DataFrame'>\n",
      "RangeIndex: 7 entries, 0 to 6\n",
      "Data columns (total 6 columns):\n",
      " #   Column    Non-Null Count  Dtype         \n",
      "---  ------    --------------  -----         \n",
      " 0   Id        7 non-null      int64         \n",
      " 1   Name      7 non-null      object        \n",
      " 2   Surname   7 non-null      object        \n",
      " 3   Age       7 non-null      int64         \n",
      " 4   Job       7 non-null      object        \n",
      " 5   Datetime  7 non-null      datetime64[ns]\n",
      "dtypes: datetime64[ns](1), int64(2), object(3)\n",
      "memory usage: 464.0+ bytes\n"
     ]
    }
   ],
   "source": [
    "# выведем общую информацию о датафрейме\n",
    "\n",
    "df.info()"
   ]
  },
  {
   "cell_type": "markdown",
   "id": "535cf26d",
   "metadata": {},
   "source": [
    "## Первое задание"
   ]
  },
  {
   "cell_type": "markdown",
   "id": "5cbd043d",
   "metadata": {},
   "source": [
    "Согласно условию, **сотрудники, чей возраст от 19 до 21 года включительно, работающие в отделе Разработки (Developers), должны приходить на работу ровно в 09.00**.\n",
    "\n",
    "Создадим столбец TimeToEnter и заполним пропуски в нем соответствующим значением для сотрудников данных параметров."
   ]
  },
  {
   "cell_type": "code",
   "execution_count": 8,
   "id": "841b25b6",
   "metadata": {},
   "outputs": [],
   "source": [
    "# создадим новый датафрейм - дубликат существующего\n",
    "\n",
    "df_work_1 = df"
   ]
  },
  {
   "cell_type": "code",
   "execution_count": 9,
   "id": "fb5430ab",
   "metadata": {},
   "outputs": [],
   "source": [
    "# создадим в новом датафрейме столбец TimeToEnter\n",
    "\n",
    "df_work_1['TimeToEnter'] = None"
   ]
  },
  {
   "cell_type": "code",
   "execution_count": 10,
   "id": "6d951c6d",
   "metadata": {},
   "outputs": [],
   "source": [
    "df_work_1.loc[\n",
    "        df_work_1['Job'].str.contains('Developer') &\n",
    "        (df_work_1['Age'] > 18) &\n",
    "        (df_work_1['Age'] <= 21),\n",
    "        'TimeToEnter'] = '09.00'"
   ]
  },
  {
   "cell_type": "markdown",
   "id": "44f4aad0",
   "metadata": {},
   "source": [
    "В то же время **все прочие сотрудники отдела Разработки (Developers) могут приходить на службу** с опозданием, но не более чем на 15 минут, т.е. **не позднее 09.15**.\n",
    "\n",
    "Заполним пропуски в столбце TimeToEnter соответствующим значением для сотрудников данных параметров."
   ]
  },
  {
   "cell_type": "code",
   "execution_count": 11,
   "id": "24a8d641",
   "metadata": {},
   "outputs": [],
   "source": [
    "df_work_1.loc[\n",
    "    df_work_1['Job'].str.contains('Developer') &\n",
    "    df_work_1['TimeToEnter'].isna(),\n",
    "    'TimeToEnter'] = '09.15'"
   ]
  },
  {
   "cell_type": "code",
   "execution_count": 12,
   "id": "7df9d95d",
   "metadata": {},
   "outputs": [
    {
     "data": {
      "text/html": [
       "<div>\n",
       "<style scoped>\n",
       "    .dataframe tbody tr th:only-of-type {\n",
       "        vertical-align: middle;\n",
       "    }\n",
       "\n",
       "    .dataframe tbody tr th {\n",
       "        vertical-align: top;\n",
       "    }\n",
       "\n",
       "    .dataframe thead th {\n",
       "        text-align: right;\n",
       "    }\n",
       "</style>\n",
       "<table border=\"1\" class=\"dataframe\">\n",
       "  <thead>\n",
       "    <tr style=\"text-align: right;\">\n",
       "      <th></th>\n",
       "      <th>Id</th>\n",
       "      <th>Name</th>\n",
       "      <th>Surname</th>\n",
       "      <th>Age</th>\n",
       "      <th>Job</th>\n",
       "      <th>Datetime</th>\n",
       "      <th>TimeToEnter</th>\n",
       "    </tr>\n",
       "  </thead>\n",
       "  <tbody>\n",
       "    <tr>\n",
       "      <th>0</th>\n",
       "      <td>1</td>\n",
       "      <td>Alex</td>\n",
       "      <td>Smur</td>\n",
       "      <td>21</td>\n",
       "      <td>Python Developer</td>\n",
       "      <td>2022-01-01 09:45:12</td>\n",
       "      <td>09.00</td>\n",
       "    </tr>\n",
       "    <tr>\n",
       "      <th>1</th>\n",
       "      <td>2</td>\n",
       "      <td>Justin</td>\n",
       "      <td>Forman</td>\n",
       "      <td>25</td>\n",
       "      <td>Java Developer</td>\n",
       "      <td>2022-01-01 11:50:25</td>\n",
       "      <td>09.15</td>\n",
       "    </tr>\n",
       "    <tr>\n",
       "      <th>2</th>\n",
       "      <td>3</td>\n",
       "      <td>Set</td>\n",
       "      <td>Carey</td>\n",
       "      <td>35</td>\n",
       "      <td>Project Manager</td>\n",
       "      <td>2022-01-01 10:00:45</td>\n",
       "      <td>None</td>\n",
       "    </tr>\n",
       "    <tr>\n",
       "      <th>3</th>\n",
       "      <td>4</td>\n",
       "      <td>Carlos</td>\n",
       "      <td>Carey</td>\n",
       "      <td>40</td>\n",
       "      <td>Enterprise architect</td>\n",
       "      <td>2022-01-01 09:07:36</td>\n",
       "      <td>None</td>\n",
       "    </tr>\n",
       "    <tr>\n",
       "      <th>4</th>\n",
       "      <td>5</td>\n",
       "      <td>Gareth</td>\n",
       "      <td>Chapman</td>\n",
       "      <td>19</td>\n",
       "      <td>Python Developer</td>\n",
       "      <td>2022-01-01 11:54:10</td>\n",
       "      <td>09.00</td>\n",
       "    </tr>\n",
       "    <tr>\n",
       "      <th>5</th>\n",
       "      <td>6</td>\n",
       "      <td>John</td>\n",
       "      <td>James</td>\n",
       "      <td>27</td>\n",
       "      <td>IOS Developer</td>\n",
       "      <td>2022-01-01 09:56:40</td>\n",
       "      <td>09.15</td>\n",
       "    </tr>\n",
       "    <tr>\n",
       "      <th>6</th>\n",
       "      <td>7</td>\n",
       "      <td>Bob</td>\n",
       "      <td>James</td>\n",
       "      <td>25</td>\n",
       "      <td>Python Developer</td>\n",
       "      <td>2022-01-01 09:52:45</td>\n",
       "      <td>09.15</td>\n",
       "    </tr>\n",
       "  </tbody>\n",
       "</table>\n",
       "</div>"
      ],
      "text/plain": [
       "   Id    Name  Surname  Age                   Job            Datetime  \\\n",
       "0   1    Alex     Smur   21      Python Developer 2022-01-01 09:45:12   \n",
       "1   2  Justin   Forman   25        Java Developer 2022-01-01 11:50:25   \n",
       "2   3     Set    Carey   35       Project Manager 2022-01-01 10:00:45   \n",
       "3   4  Carlos    Carey   40  Enterprise architect 2022-01-01 09:07:36   \n",
       "4   5  Gareth  Chapman   19      Python Developer 2022-01-01 11:54:10   \n",
       "5   6    John    James   27         IOS Developer 2022-01-01 09:56:40   \n",
       "6   7     Bob    James   25      Python Developer 2022-01-01 09:52:45   \n",
       "\n",
       "  TimeToEnter  \n",
       "0       09.00  \n",
       "1       09.15  \n",
       "2        None  \n",
       "3        None  \n",
       "4       09.00  \n",
       "5       09.15  \n",
       "6       09.15  "
      ]
     },
     "execution_count": 12,
     "metadata": {},
     "output_type": "execute_result"
    }
   ],
   "source": [
    "## выведем датафрейм\n",
    "\n",
    "df_work_1"
   ]
  },
  {
   "cell_type": "markdown",
   "id": "95992b1e",
   "metadata": {},
   "source": [
    "**Для сотрудников, не относящихся к данным двум наборам параметров, заполним пропуски в данных значение 09.00**."
   ]
  },
  {
   "cell_type": "code",
   "execution_count": 13,
   "id": "ebeb88f1",
   "metadata": {},
   "outputs": [],
   "source": [
    "df_work_1['TimeToEnter'] = df_work_1['TimeToEnter'].fillna('09.00')"
   ]
  },
  {
   "cell_type": "code",
   "execution_count": 14,
   "id": "8d89bc21",
   "metadata": {},
   "outputs": [
    {
     "data": {
      "text/html": [
       "<div>\n",
       "<style scoped>\n",
       "    .dataframe tbody tr th:only-of-type {\n",
       "        vertical-align: middle;\n",
       "    }\n",
       "\n",
       "    .dataframe tbody tr th {\n",
       "        vertical-align: top;\n",
       "    }\n",
       "\n",
       "    .dataframe thead th {\n",
       "        text-align: right;\n",
       "    }\n",
       "</style>\n",
       "<table border=\"1\" class=\"dataframe\">\n",
       "  <thead>\n",
       "    <tr style=\"text-align: right;\">\n",
       "      <th></th>\n",
       "      <th>Id</th>\n",
       "      <th>Name</th>\n",
       "      <th>Surname</th>\n",
       "      <th>Age</th>\n",
       "      <th>Job</th>\n",
       "      <th>Datetime</th>\n",
       "      <th>TimeToEnter</th>\n",
       "    </tr>\n",
       "  </thead>\n",
       "  <tbody>\n",
       "    <tr>\n",
       "      <th>0</th>\n",
       "      <td>1</td>\n",
       "      <td>Alex</td>\n",
       "      <td>Smur</td>\n",
       "      <td>21</td>\n",
       "      <td>Python Developer</td>\n",
       "      <td>2022-01-01 09:45:12</td>\n",
       "      <td>09.00</td>\n",
       "    </tr>\n",
       "    <tr>\n",
       "      <th>1</th>\n",
       "      <td>2</td>\n",
       "      <td>Justin</td>\n",
       "      <td>Forman</td>\n",
       "      <td>25</td>\n",
       "      <td>Java Developer</td>\n",
       "      <td>2022-01-01 11:50:25</td>\n",
       "      <td>09.15</td>\n",
       "    </tr>\n",
       "    <tr>\n",
       "      <th>2</th>\n",
       "      <td>3</td>\n",
       "      <td>Set</td>\n",
       "      <td>Carey</td>\n",
       "      <td>35</td>\n",
       "      <td>Project Manager</td>\n",
       "      <td>2022-01-01 10:00:45</td>\n",
       "      <td>09.00</td>\n",
       "    </tr>\n",
       "    <tr>\n",
       "      <th>3</th>\n",
       "      <td>4</td>\n",
       "      <td>Carlos</td>\n",
       "      <td>Carey</td>\n",
       "      <td>40</td>\n",
       "      <td>Enterprise architect</td>\n",
       "      <td>2022-01-01 09:07:36</td>\n",
       "      <td>09.00</td>\n",
       "    </tr>\n",
       "    <tr>\n",
       "      <th>4</th>\n",
       "      <td>5</td>\n",
       "      <td>Gareth</td>\n",
       "      <td>Chapman</td>\n",
       "      <td>19</td>\n",
       "      <td>Python Developer</td>\n",
       "      <td>2022-01-01 11:54:10</td>\n",
       "      <td>09.00</td>\n",
       "    </tr>\n",
       "    <tr>\n",
       "      <th>5</th>\n",
       "      <td>6</td>\n",
       "      <td>John</td>\n",
       "      <td>James</td>\n",
       "      <td>27</td>\n",
       "      <td>IOS Developer</td>\n",
       "      <td>2022-01-01 09:56:40</td>\n",
       "      <td>09.15</td>\n",
       "    </tr>\n",
       "    <tr>\n",
       "      <th>6</th>\n",
       "      <td>7</td>\n",
       "      <td>Bob</td>\n",
       "      <td>James</td>\n",
       "      <td>25</td>\n",
       "      <td>Python Developer</td>\n",
       "      <td>2022-01-01 09:52:45</td>\n",
       "      <td>09.15</td>\n",
       "    </tr>\n",
       "  </tbody>\n",
       "</table>\n",
       "</div>"
      ],
      "text/plain": [
       "   Id    Name  Surname  Age                   Job            Datetime  \\\n",
       "0   1    Alex     Smur   21      Python Developer 2022-01-01 09:45:12   \n",
       "1   2  Justin   Forman   25        Java Developer 2022-01-01 11:50:25   \n",
       "2   3     Set    Carey   35       Project Manager 2022-01-01 10:00:45   \n",
       "3   4  Carlos    Carey   40  Enterprise architect 2022-01-01 09:07:36   \n",
       "4   5  Gareth  Chapman   19      Python Developer 2022-01-01 11:54:10   \n",
       "5   6    John    James   27         IOS Developer 2022-01-01 09:56:40   \n",
       "6   7     Bob    James   25      Python Developer 2022-01-01 09:52:45   \n",
       "\n",
       "  TimeToEnter  \n",
       "0       09.00  \n",
       "1       09.15  \n",
       "2       09.00  \n",
       "3       09.00  \n",
       "4       09.00  \n",
       "5       09.15  \n",
       "6       09.15  "
      ]
     },
     "execution_count": 14,
     "metadata": {},
     "output_type": "execute_result"
    }
   ],
   "source": [
    "# вновь выведем датафрейм\n",
    "\n",
    "df_work_1"
   ]
  },
  {
   "cell_type": "code",
   "execution_count": 15,
   "id": "89b8a6c0",
   "metadata": {},
   "outputs": [],
   "source": [
    "# переведем формат данных в столбце Datetime\n",
    "# из object в datetime\n",
    "\n",
    "df_work_1['TimeToEnter'] = pd.to_datetime(\n",
    "                            df_work_1['TimeToEnter'], \n",
    "                            format='%H.%M'\n",
    "                            )"
   ]
  },
  {
   "cell_type": "code",
   "execution_count": 16,
   "id": "ffc21ca8",
   "metadata": {},
   "outputs": [
    {
     "name": "stdout",
     "output_type": "stream",
     "text": [
      "<class 'pandas.core.frame.DataFrame'>\n",
      "RangeIndex: 7 entries, 0 to 6\n",
      "Data columns (total 7 columns):\n",
      " #   Column       Non-Null Count  Dtype         \n",
      "---  ------       --------------  -----         \n",
      " 0   Id           7 non-null      int64         \n",
      " 1   Name         7 non-null      object        \n",
      " 2   Surname      7 non-null      object        \n",
      " 3   Age          7 non-null      int64         \n",
      " 4   Job          7 non-null      object        \n",
      " 5   Datetime     7 non-null      datetime64[ns]\n",
      " 6   TimeToEnter  7 non-null      datetime64[ns]\n",
      "dtypes: datetime64[ns](2), int64(2), object(3)\n",
      "memory usage: 520.0+ bytes\n"
     ]
    }
   ],
   "source": [
    "# выведем общую информацию о датафрейме\n",
    "\n",
    "df_work_1.info()"
   ]
  },
  {
   "cell_type": "markdown",
   "id": "daa80743",
   "metadata": {},
   "source": [
    "### Перевод данных в формат xlsx"
   ]
  },
  {
   "cell_type": "code",
   "execution_count": 17,
   "id": "55492db2",
   "metadata": {},
   "outputs": [],
   "source": [
    "# создадим объект класса Workbook\n",
    "\n",
    "test_for_jde = Workbook()"
   ]
  },
  {
   "cell_type": "code",
   "execution_count": 18,
   "id": "d8f1f1da",
   "metadata": {},
   "outputs": [],
   "source": [
    "# создадим в объекте новый лист, куда запишем данные датафрейма\n",
    "\n",
    "test_for_jde.new_sheet('first_task', data=df_work_1.values.tolist());"
   ]
  },
  {
   "cell_type": "markdown",
   "id": "4debb0ef",
   "metadata": {},
   "source": [
    "### Создание коллекции в Mongodb Compass"
   ]
  },
  {
   "cell_type": "code",
   "execution_count": 19,
   "id": "0ebefa39",
   "metadata": {},
   "outputs": [],
   "source": [
    "# создадим клиент в Mongodb\n",
    "\n",
    "client = MongoClient('localhost', 27017)"
   ]
  },
  {
   "cell_type": "code",
   "execution_count": 20,
   "id": "e401f538",
   "metadata": {},
   "outputs": [],
   "source": [
    "# создадим шаблон базы данных\n",
    "\n",
    "db = client['mydb']"
   ]
  },
  {
   "cell_type": "code",
   "execution_count": 21,
   "id": "c1a0f8d2",
   "metadata": {},
   "outputs": [],
   "source": [
    "# создадим коллекцию\n",
    "\n",
    "collection_1 = db['18MoreAnd21andLess']"
   ]
  },
  {
   "cell_type": "markdown",
   "id": "296237a2",
   "metadata": {},
   "source": [
    "## Второе задание"
   ]
  },
  {
   "cell_type": "markdown",
   "id": "a0aa7674",
   "metadata": {},
   "source": [
    "Согласно условию, **сотрудники старше 35 лет, НЕ работающие в отделах Разработки (Developers) и Менеджмента (Managers), должны приходить на работу ровно в 11.00**. В то же время **все прочие сотрудники могут приходить на службу** с опозданием, но не более чем на 30 минут, т.е. **не позднее 11.30**.\n",
    "\n",
    "Создадим столбец TimeToEnter и заполним пропуски в нем соответствующим значением для сотрудников данных параметров."
   ]
  },
  {
   "cell_type": "code",
   "execution_count": 22,
   "id": "10ad5838",
   "metadata": {},
   "outputs": [],
   "source": [
    "# создадим еще один датафрейм - дубликат существующего\n",
    "\n",
    "df_work_2 = df\n",
    "\n",
    "# и столбец TimeToEnter в нем\n",
    "\n",
    "df_work_2['TimeToEnter'] = '11.30'"
   ]
  },
  {
   "cell_type": "code",
   "execution_count": 23,
   "id": "2bb84803",
   "metadata": {},
   "outputs": [],
   "source": [
    "df_work_2.loc[\n",
    "        ~(df_work_2['Job'].str.contains('Developer')) &\n",
    "        ~(df_work_2['Job'].str.contains('Manager')) &\n",
    "        (df_work_2['Age'] >= 35),\n",
    "        'TimeToEnter'] = '11.00'"
   ]
  },
  {
   "cell_type": "code",
   "execution_count": 24,
   "id": "879468c4",
   "metadata": {},
   "outputs": [
    {
     "data": {
      "text/html": [
       "<div>\n",
       "<style scoped>\n",
       "    .dataframe tbody tr th:only-of-type {\n",
       "        vertical-align: middle;\n",
       "    }\n",
       "\n",
       "    .dataframe tbody tr th {\n",
       "        vertical-align: top;\n",
       "    }\n",
       "\n",
       "    .dataframe thead th {\n",
       "        text-align: right;\n",
       "    }\n",
       "</style>\n",
       "<table border=\"1\" class=\"dataframe\">\n",
       "  <thead>\n",
       "    <tr style=\"text-align: right;\">\n",
       "      <th></th>\n",
       "      <th>Id</th>\n",
       "      <th>Name</th>\n",
       "      <th>Surname</th>\n",
       "      <th>Age</th>\n",
       "      <th>Job</th>\n",
       "      <th>Datetime</th>\n",
       "      <th>TimeToEnter</th>\n",
       "    </tr>\n",
       "  </thead>\n",
       "  <tbody>\n",
       "    <tr>\n",
       "      <th>0</th>\n",
       "      <td>1</td>\n",
       "      <td>Alex</td>\n",
       "      <td>Smur</td>\n",
       "      <td>21</td>\n",
       "      <td>Python Developer</td>\n",
       "      <td>2022-01-01 09:45:12</td>\n",
       "      <td>11.30</td>\n",
       "    </tr>\n",
       "    <tr>\n",
       "      <th>1</th>\n",
       "      <td>2</td>\n",
       "      <td>Justin</td>\n",
       "      <td>Forman</td>\n",
       "      <td>25</td>\n",
       "      <td>Java Developer</td>\n",
       "      <td>2022-01-01 11:50:25</td>\n",
       "      <td>11.30</td>\n",
       "    </tr>\n",
       "    <tr>\n",
       "      <th>2</th>\n",
       "      <td>3</td>\n",
       "      <td>Set</td>\n",
       "      <td>Carey</td>\n",
       "      <td>35</td>\n",
       "      <td>Project Manager</td>\n",
       "      <td>2022-01-01 10:00:45</td>\n",
       "      <td>11.30</td>\n",
       "    </tr>\n",
       "    <tr>\n",
       "      <th>3</th>\n",
       "      <td>4</td>\n",
       "      <td>Carlos</td>\n",
       "      <td>Carey</td>\n",
       "      <td>40</td>\n",
       "      <td>Enterprise architect</td>\n",
       "      <td>2022-01-01 09:07:36</td>\n",
       "      <td>11.00</td>\n",
       "    </tr>\n",
       "    <tr>\n",
       "      <th>4</th>\n",
       "      <td>5</td>\n",
       "      <td>Gareth</td>\n",
       "      <td>Chapman</td>\n",
       "      <td>19</td>\n",
       "      <td>Python Developer</td>\n",
       "      <td>2022-01-01 11:54:10</td>\n",
       "      <td>11.30</td>\n",
       "    </tr>\n",
       "    <tr>\n",
       "      <th>5</th>\n",
       "      <td>6</td>\n",
       "      <td>John</td>\n",
       "      <td>James</td>\n",
       "      <td>27</td>\n",
       "      <td>IOS Developer</td>\n",
       "      <td>2022-01-01 09:56:40</td>\n",
       "      <td>11.30</td>\n",
       "    </tr>\n",
       "    <tr>\n",
       "      <th>6</th>\n",
       "      <td>7</td>\n",
       "      <td>Bob</td>\n",
       "      <td>James</td>\n",
       "      <td>25</td>\n",
       "      <td>Python Developer</td>\n",
       "      <td>2022-01-01 09:52:45</td>\n",
       "      <td>11.30</td>\n",
       "    </tr>\n",
       "  </tbody>\n",
       "</table>\n",
       "</div>"
      ],
      "text/plain": [
       "   Id    Name  Surname  Age                   Job            Datetime  \\\n",
       "0   1    Alex     Smur   21      Python Developer 2022-01-01 09:45:12   \n",
       "1   2  Justin   Forman   25        Java Developer 2022-01-01 11:50:25   \n",
       "2   3     Set    Carey   35       Project Manager 2022-01-01 10:00:45   \n",
       "3   4  Carlos    Carey   40  Enterprise architect 2022-01-01 09:07:36   \n",
       "4   5  Gareth  Chapman   19      Python Developer 2022-01-01 11:54:10   \n",
       "5   6    John    James   27         IOS Developer 2022-01-01 09:56:40   \n",
       "6   7     Bob    James   25      Python Developer 2022-01-01 09:52:45   \n",
       "\n",
       "  TimeToEnter  \n",
       "0       11.30  \n",
       "1       11.30  \n",
       "2       11.30  \n",
       "3       11.00  \n",
       "4       11.30  \n",
       "5       11.30  \n",
       "6       11.30  "
      ]
     },
     "execution_count": 24,
     "metadata": {},
     "output_type": "execute_result"
    }
   ],
   "source": [
    "# выведем датафрейм\n",
    "\n",
    "df_work_2"
   ]
  },
  {
   "cell_type": "code",
   "execution_count": 25,
   "id": "dc6ff8db",
   "metadata": {},
   "outputs": [],
   "source": [
    "# переведем формат данных в столбце Datetime\n",
    "# из object в datetime\n",
    "\n",
    "df_work_2['TimeToEnter'] = pd.to_datetime(\n",
    "                            df_work_2['TimeToEnter'], \n",
    "                            format='%H.%M'\n",
    "                            )"
   ]
  },
  {
   "cell_type": "code",
   "execution_count": 26,
   "id": "91db0bea",
   "metadata": {},
   "outputs": [
    {
     "name": "stdout",
     "output_type": "stream",
     "text": [
      "<class 'pandas.core.frame.DataFrame'>\n",
      "RangeIndex: 7 entries, 0 to 6\n",
      "Data columns (total 7 columns):\n",
      " #   Column       Non-Null Count  Dtype         \n",
      "---  ------       --------------  -----         \n",
      " 0   Id           7 non-null      int64         \n",
      " 1   Name         7 non-null      object        \n",
      " 2   Surname      7 non-null      object        \n",
      " 3   Age          7 non-null      int64         \n",
      " 4   Job          7 non-null      object        \n",
      " 5   Datetime     7 non-null      datetime64[ns]\n",
      " 6   TimeToEnter  7 non-null      datetime64[ns]\n",
      "dtypes: datetime64[ns](2), int64(2), object(3)\n",
      "memory usage: 520.0+ bytes\n"
     ]
    }
   ],
   "source": [
    "# выведем общую информацию о датафрейме\n",
    "\n",
    "df_work_2.info()"
   ]
  },
  {
   "cell_type": "markdown",
   "id": "874fd8b0",
   "metadata": {},
   "source": [
    "### Перевод данных в формат xlsx"
   ]
  },
  {
   "cell_type": "code",
   "execution_count": 27,
   "id": "37ae1312",
   "metadata": {},
   "outputs": [],
   "source": [
    "# создадим в экселе новый лист, куда запишем данные датафрейма\n",
    "\n",
    "test_for_jde.new_sheet('second_task', data=df_work_2.values.tolist());"
   ]
  },
  {
   "cell_type": "markdown",
   "id": "98e3b3be",
   "metadata": {},
   "source": [
    "### Создание коллекции в Mongodb Compass"
   ]
  },
  {
   "cell_type": "code",
   "execution_count": 28,
   "id": "916afdaf",
   "metadata": {},
   "outputs": [],
   "source": [
    "# создадим коллекцию\n",
    "\n",
    "collection_2 = db['35AndMore']"
   ]
  },
  {
   "cell_type": "markdown",
   "id": "97a8451e",
   "metadata": {},
   "source": [
    "## Третье задание"
   ]
  },
  {
   "cell_type": "markdown",
   "id": "555317a0",
   "metadata": {},
   "source": [
    "Согласно условию, **сотрудники отдела Архитектуры (Architect) должны приходить на работу ровно в 10.30**. В то же время **все прочие сотрудники могут приходить на службу** с опозданием, но не более чем на 10 минут, т.е. **не позднее 10.40**.\n",
    "\n",
    "Создадим столбец TimeToEnter и заполним пропуски в нем соответствующим значением для сотрудников данных параметров."
   ]
  },
  {
   "cell_type": "code",
   "execution_count": 29,
   "id": "42efae4b",
   "metadata": {},
   "outputs": [],
   "source": [
    "# создадим еще один датафрейм - дубликат существующего\n",
    "\n",
    "df_work_3 = df\n",
    "\n",
    "# и столбец TimeToEnter в нем\n",
    "\n",
    "df_work_3['TimeToEnter'] = '10.40'"
   ]
  },
  {
   "cell_type": "code",
   "execution_count": 30,
   "id": "782b959f",
   "metadata": {},
   "outputs": [],
   "source": [
    "df_work_3.loc[\n",
    "        df_work_3['Job'].str.contains('architect'),\n",
    "        'TimeToEnter'] = '10.30'"
   ]
  },
  {
   "cell_type": "code",
   "execution_count": 31,
   "id": "fe80ab95",
   "metadata": {},
   "outputs": [
    {
     "data": {
      "text/html": [
       "<div>\n",
       "<style scoped>\n",
       "    .dataframe tbody tr th:only-of-type {\n",
       "        vertical-align: middle;\n",
       "    }\n",
       "\n",
       "    .dataframe tbody tr th {\n",
       "        vertical-align: top;\n",
       "    }\n",
       "\n",
       "    .dataframe thead th {\n",
       "        text-align: right;\n",
       "    }\n",
       "</style>\n",
       "<table border=\"1\" class=\"dataframe\">\n",
       "  <thead>\n",
       "    <tr style=\"text-align: right;\">\n",
       "      <th></th>\n",
       "      <th>Id</th>\n",
       "      <th>Name</th>\n",
       "      <th>Surname</th>\n",
       "      <th>Age</th>\n",
       "      <th>Job</th>\n",
       "      <th>Datetime</th>\n",
       "      <th>TimeToEnter</th>\n",
       "    </tr>\n",
       "  </thead>\n",
       "  <tbody>\n",
       "    <tr>\n",
       "      <th>0</th>\n",
       "      <td>1</td>\n",
       "      <td>Alex</td>\n",
       "      <td>Smur</td>\n",
       "      <td>21</td>\n",
       "      <td>Python Developer</td>\n",
       "      <td>2022-01-01 09:45:12</td>\n",
       "      <td>10.40</td>\n",
       "    </tr>\n",
       "    <tr>\n",
       "      <th>1</th>\n",
       "      <td>2</td>\n",
       "      <td>Justin</td>\n",
       "      <td>Forman</td>\n",
       "      <td>25</td>\n",
       "      <td>Java Developer</td>\n",
       "      <td>2022-01-01 11:50:25</td>\n",
       "      <td>10.40</td>\n",
       "    </tr>\n",
       "    <tr>\n",
       "      <th>2</th>\n",
       "      <td>3</td>\n",
       "      <td>Set</td>\n",
       "      <td>Carey</td>\n",
       "      <td>35</td>\n",
       "      <td>Project Manager</td>\n",
       "      <td>2022-01-01 10:00:45</td>\n",
       "      <td>10.40</td>\n",
       "    </tr>\n",
       "    <tr>\n",
       "      <th>3</th>\n",
       "      <td>4</td>\n",
       "      <td>Carlos</td>\n",
       "      <td>Carey</td>\n",
       "      <td>40</td>\n",
       "      <td>Enterprise architect</td>\n",
       "      <td>2022-01-01 09:07:36</td>\n",
       "      <td>10.30</td>\n",
       "    </tr>\n",
       "    <tr>\n",
       "      <th>4</th>\n",
       "      <td>5</td>\n",
       "      <td>Gareth</td>\n",
       "      <td>Chapman</td>\n",
       "      <td>19</td>\n",
       "      <td>Python Developer</td>\n",
       "      <td>2022-01-01 11:54:10</td>\n",
       "      <td>10.40</td>\n",
       "    </tr>\n",
       "    <tr>\n",
       "      <th>5</th>\n",
       "      <td>6</td>\n",
       "      <td>John</td>\n",
       "      <td>James</td>\n",
       "      <td>27</td>\n",
       "      <td>IOS Developer</td>\n",
       "      <td>2022-01-01 09:56:40</td>\n",
       "      <td>10.40</td>\n",
       "    </tr>\n",
       "    <tr>\n",
       "      <th>6</th>\n",
       "      <td>7</td>\n",
       "      <td>Bob</td>\n",
       "      <td>James</td>\n",
       "      <td>25</td>\n",
       "      <td>Python Developer</td>\n",
       "      <td>2022-01-01 09:52:45</td>\n",
       "      <td>10.40</td>\n",
       "    </tr>\n",
       "  </tbody>\n",
       "</table>\n",
       "</div>"
      ],
      "text/plain": [
       "   Id    Name  Surname  Age                   Job            Datetime  \\\n",
       "0   1    Alex     Smur   21      Python Developer 2022-01-01 09:45:12   \n",
       "1   2  Justin   Forman   25        Java Developer 2022-01-01 11:50:25   \n",
       "2   3     Set    Carey   35       Project Manager 2022-01-01 10:00:45   \n",
       "3   4  Carlos    Carey   40  Enterprise architect 2022-01-01 09:07:36   \n",
       "4   5  Gareth  Chapman   19      Python Developer 2022-01-01 11:54:10   \n",
       "5   6    John    James   27         IOS Developer 2022-01-01 09:56:40   \n",
       "6   7     Bob    James   25      Python Developer 2022-01-01 09:52:45   \n",
       "\n",
       "  TimeToEnter  \n",
       "0       10.40  \n",
       "1       10.40  \n",
       "2       10.40  \n",
       "3       10.30  \n",
       "4       10.40  \n",
       "5       10.40  \n",
       "6       10.40  "
      ]
     },
     "execution_count": 31,
     "metadata": {},
     "output_type": "execute_result"
    }
   ],
   "source": [
    "# выведем датафрейм\n",
    "\n",
    "df_work_3"
   ]
  },
  {
   "cell_type": "code",
   "execution_count": 32,
   "id": "8be0f86a",
   "metadata": {},
   "outputs": [],
   "source": [
    "# переведем формат данных в столбце Datetime\n",
    "# из object в datetime\n",
    "\n",
    "df_work_3['TimeToEnter'] = pd.to_datetime(\n",
    "                            df_work_3['TimeToEnter'], \n",
    "                            format='%H.%M'\n",
    "                            )"
   ]
  },
  {
   "cell_type": "code",
   "execution_count": 33,
   "id": "00079f87",
   "metadata": {},
   "outputs": [
    {
     "name": "stdout",
     "output_type": "stream",
     "text": [
      "<class 'pandas.core.frame.DataFrame'>\n",
      "RangeIndex: 7 entries, 0 to 6\n",
      "Data columns (total 7 columns):\n",
      " #   Column       Non-Null Count  Dtype         \n",
      "---  ------       --------------  -----         \n",
      " 0   Id           7 non-null      int64         \n",
      " 1   Name         7 non-null      object        \n",
      " 2   Surname      7 non-null      object        \n",
      " 3   Age          7 non-null      int64         \n",
      " 4   Job          7 non-null      object        \n",
      " 5   Datetime     7 non-null      datetime64[ns]\n",
      " 6   TimeToEnter  7 non-null      datetime64[ns]\n",
      "dtypes: datetime64[ns](2), int64(2), object(3)\n",
      "memory usage: 520.0+ bytes\n"
     ]
    }
   ],
   "source": [
    "# выведем общую информацию о датафрейме\n",
    "\n",
    "df_work_3.info()"
   ]
  },
  {
   "cell_type": "markdown",
   "id": "653ec9d9",
   "metadata": {},
   "source": [
    "### Перевод данных в формат xlsx"
   ]
  },
  {
   "cell_type": "code",
   "execution_count": 34,
   "id": "48acbd96",
   "metadata": {},
   "outputs": [],
   "source": [
    "# создадим в экселе новый лист, куда запишем данные датафрейма\n",
    "\n",
    "test_for_jde.new_sheet('third_task', data=df_work_3.values.tolist());"
   ]
  },
  {
   "cell_type": "code",
   "execution_count": 35,
   "id": "b67ee953",
   "metadata": {},
   "outputs": [],
   "source": [
    "# сохраним эксель\n",
    "\n",
    "test_for_jde.save(\"test_for_jde.xlsx\")"
   ]
  },
  {
   "cell_type": "markdown",
   "id": "f525b1cd",
   "metadata": {},
   "source": [
    "### Создание коллекции в Mongodb Compass"
   ]
  },
  {
   "cell_type": "code",
   "execution_count": 36,
   "id": "40525750",
   "metadata": {},
   "outputs": [],
   "source": [
    "# создадим коллекцию\n",
    "\n",
    "collection_3 = db['ArchitectEnterTime”']"
   ]
  }
 ],
 "metadata": {
  "kernelspec": {
   "display_name": "Python 3 (ipykernel)",
   "language": "python",
   "name": "python3"
  },
  "language_info": {
   "codemirror_mode": {
    "name": "ipython",
    "version": 3
   },
   "file_extension": ".py",
   "mimetype": "text/x-python",
   "name": "python",
   "nbconvert_exporter": "python",
   "pygments_lexer": "ipython3",
   "version": "3.9.12"
  }
 },
 "nbformat": 4,
 "nbformat_minor": 5
}
